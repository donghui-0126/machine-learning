{
  "nbformat": 4,
  "nbformat_minor": 0,
  "metadata": {
    "colab": {
      "provenance": [],
      "toc_visible": true,
      "collapsed_sections": [
        "UC3HQSGln4O8",
        "KPhFUb6lHerD",
        "WNO9C-zjHhXK",
        "thGqUYjoIg8J",
        "dKvBNYEKHmY3",
        "Lln4BUw4K37U",
        "9IABMSkhLsCQ",
        "lT9hxF_4MZPi",
        "Href82SLMgWy",
        "sOsS5akhMmKF"
      ]
    },
    "kernelspec": {
      "name": "python3",
      "display_name": "Python 3"
    },
    "language_info": {
      "name": "python"
    }
  },
  "cells": [
    {
      "cell_type": "markdown",
      "source": [
        "# 모듈 임포트"
      ],
      "metadata": {
        "id": "nndUdBd0apzy"
      }
    },
    {
      "cell_type": "code",
      "execution_count": 18,
      "metadata": {
        "colab": {
          "base_uri": "https://localhost:8080/"
        },
        "id": "sIERZbUGakPa",
        "outputId": "30764498-58e7-40e9-fef4-54eaeec88895"
      },
      "outputs": [
        {
          "output_type": "stream",
          "name": "stdout",
          "text": [
            "Colab only includes TensorFlow 2.x; %tensorflow_version has no effect.\n",
            "감지된 GPU가 없습니다. GPU가 없으면 LSTM과 CNN이 매우 느릴 수 있습니다.\n",
            "런타임 > 런타임 유형 변경 메뉴를 선택하고 하드웨어 가속기로 GPU를 고르세요.\n"
          ]
        }
      ],
      "source": [
        "# 파이썬 ≥3.5 필수\n",
        "import sys\n",
        "assert sys.version_info >= (3, 5)\n",
        "\n",
        "# 사이킷런 ≥0.20 필수\n",
        "import sklearn\n",
        "assert sklearn.__version__ >= \"0.20\"\n",
        "\n",
        "try:\n",
        "    # %tensorflow_version은 코랩에서만 동작합니다.\n",
        "    %tensorflow_version 2.x\n",
        "    IS_COLAB = True\n",
        "except Exception:\n",
        "    IS_COLAB = False\n",
        "\n",
        "# 텐서플로 ≥2.0 필수\n",
        "import tensorflow as tf\n",
        "from tensorflow import keras\n",
        "assert tf.__version__ >= \"2.0\"\n",
        "\n",
        "if not tf.config.list_physical_devices('GPU'):\n",
        "    print(\"감지된 GPU가 없습니다. GPU가 없으면 LSTM과 CNN이 매우 느릴 수 있습니다.\")\n",
        "    if IS_COLAB:\n",
        "        print(\"런타임 > 런타임 유형 변경 메뉴를 선택하고 하드웨어 가속기로 GPU를 고르세요.\")\n",
        "\n",
        "# 공통 모듈 임포트\n",
        "import numpy as np\n",
        "import os\n",
        "import pandas as pd\n",
        "\n",
        "# 노트북 실행 결과를 동일하게 유지하기 위해\n",
        "np.random.seed(42)\n",
        "tf.random.set_seed(42)\n",
        "\n",
        "# 깔끔한 그래프 출력을 위해\n",
        "%matplotlib inline\n",
        "import matplotlib as mpl\n",
        "import matplotlib.pyplot as plt\n",
        "import seaborn as sns\n",
        "\n",
        "\n",
        "mpl.rc('axes', labelsize=14)\n",
        "mpl.rc('xtick', labelsize=12)\n",
        "mpl.rc('ytick', labelsize=12)"
      ]
    },
    {
      "cell_type": "code",
      "source": [
        "!sudo apt-get install -y fonts-nanum\n",
        "!sudo fc-cache -fv\n",
        "!rm ~/.cache/matplotlib -rf"
      ],
      "metadata": {
        "colab": {
          "base_uri": "https://localhost:8080/"
        },
        "id": "surZF3nWoexf",
        "outputId": "72b1d579-db77-41b3-a5e9-cfed86ea164d"
      },
      "execution_count": 19,
      "outputs": [
        {
          "output_type": "stream",
          "name": "stdout",
          "text": [
            "Reading package lists... Done\n",
            "Building dependency tree       \n",
            "Reading state information... Done\n",
            "fonts-nanum is already the newest version (20170925-1).\n",
            "The following package was automatically installed and is no longer required:\n",
            "  libnvidia-common-460\n",
            "Use 'sudo apt autoremove' to remove it.\n",
            "0 upgraded, 0 newly installed, 0 to remove and 7 not upgraded.\n",
            "/usr/share/fonts: caching, new cache contents: 0 fonts, 1 dirs\n",
            "/usr/share/fonts/truetype: caching, new cache contents: 0 fonts, 3 dirs\n",
            "/usr/share/fonts/truetype/humor-sans: caching, new cache contents: 1 fonts, 0 dirs\n",
            "/usr/share/fonts/truetype/liberation: caching, new cache contents: 16 fonts, 0 dirs\n",
            "/usr/share/fonts/truetype/nanum: caching, new cache contents: 10 fonts, 0 dirs\n",
            "/usr/local/share/fonts: caching, new cache contents: 0 fonts, 0 dirs\n",
            "/root/.local/share/fonts: skipping, no such directory\n",
            "/root/.fonts: skipping, no such directory\n",
            "/var/cache/fontconfig: cleaning cache directory\n",
            "/root/.cache/fontconfig: not cleaning non-existent cache directory\n",
            "/root/.fontconfig: not cleaning non-existent cache directory\n",
            "fc-cache: succeeded\n"
          ]
        }
      ]
    },
    {
      "cell_type": "markdown",
      "source": [
        "# 데이터 적재 train_X_case(dict), train_y_case(dict)"
      ],
      "metadata": {
        "id": "yHaTm72Aa8A8"
      }
    },
    {
      "cell_type": "code",
      "source": [
        "from google.colab import drive\n",
        "drive.mount('/content/drive')"
      ],
      "metadata": {
        "colab": {
          "base_uri": "https://localhost:8080/"
        },
        "id": "viGQIT6BasDH",
        "outputId": "912b01e6-3298-4c6c-e4c1-2df1e93cf5ae"
      },
      "execution_count": 20,
      "outputs": [
        {
          "output_type": "stream",
          "name": "stdout",
          "text": [
            "Drive already mounted at /content/drive; to attempt to forcibly remount, call drive.mount(\"/content/drive\", force_remount=True).\n"
          ]
        }
      ]
    },
    {
      "cell_type": "code",
      "source": [
        "train_X_case = {}\n",
        "\n",
        "for i in range(1, 29):\n",
        "    train_X_case[\"{}\".format(str(i).zfill(2))] =\\\n",
        "      pd.read_csv(\"/content/drive/MyDrive/상추의 생육 환경 생성 AI 경진대회/train_input/CASE_{}.csv\".format(str(i).zfill(2)))\n",
        " "
      ],
      "metadata": {
        "id": "cO_yFb-Ha7dl"
      },
      "execution_count": 21,
      "outputs": []
    },
    {
      "cell_type": "code",
      "source": [
        "train_y_case = {}\n",
        "\n",
        "for i in range(1, 29):\n",
        "    train_y_case[\"{}\".format(str(i).zfill(2))] =\\\n",
        "      pd.read_csv(\"/content/drive/MyDrive/상추의 생육 환경 생성 AI 경진대회/train_target/CASE_{}.csv\".format(str(i).zfill(2)))\n",
        " "
      ],
      "metadata": {
        "id": "70Dvnos9dP3a"
      },
      "execution_count": 22,
      "outputs": []
    },
    {
      "cell_type": "code",
      "source": [
        "train_X_case[\"01\"].head(3)"
      ],
      "metadata": {
        "colab": {
          "base_uri": "https://localhost:8080/",
          "height": 222
        },
        "id": "NaF-_fOMc2_1",
        "outputId": "89b8d19a-3fc8-4a44-e701-83429cfa6e1d"
      },
      "execution_count": 23,
      "outputs": [
        {
          "output_type": "execute_result",
          "data": {
            "text/plain": [
              "   DAT obs_time    내부온도관측치    내부습도관측치      co2관측치     ec관측치  시간당분무량  일간누적분무량  \\\n",
              "0    0    00:00  25.300000  81.835000  536.016667  1.407439     0.0      0.0   \n",
              "1    0    01:00  25.680357  81.264286  528.696429  1.409003   126.0    126.0   \n",
              "2    0    02:00  25.273333  81.471666  532.833333  1.406913     0.0    126.0   \n",
              "\n",
              "   시간당백색광량  일간누적백색광량  시간당적색광량  일간누적적색광량  시간당청색광량  일간누적청색광량  시간당총광량  일간누적총광량  \n",
              "0      0.0       0.0      0.0       0.0        0         0     0.0      0.0  \n",
              "1      0.0       0.0      0.0       0.0        0         0     0.0      0.0  \n",
              "2      0.0       0.0      0.0       0.0        0         0     0.0      0.0  "
            ],
            "text/html": [
              "\n",
              "  <div id=\"df-5929fb22-6195-4b14-96b0-c15552c1288c\">\n",
              "    <div class=\"colab-df-container\">\n",
              "      <div>\n",
              "<style scoped>\n",
              "    .dataframe tbody tr th:only-of-type {\n",
              "        vertical-align: middle;\n",
              "    }\n",
              "\n",
              "    .dataframe tbody tr th {\n",
              "        vertical-align: top;\n",
              "    }\n",
              "\n",
              "    .dataframe thead th {\n",
              "        text-align: right;\n",
              "    }\n",
              "</style>\n",
              "<table border=\"1\" class=\"dataframe\">\n",
              "  <thead>\n",
              "    <tr style=\"text-align: right;\">\n",
              "      <th></th>\n",
              "      <th>DAT</th>\n",
              "      <th>obs_time</th>\n",
              "      <th>내부온도관측치</th>\n",
              "      <th>내부습도관측치</th>\n",
              "      <th>co2관측치</th>\n",
              "      <th>ec관측치</th>\n",
              "      <th>시간당분무량</th>\n",
              "      <th>일간누적분무량</th>\n",
              "      <th>시간당백색광량</th>\n",
              "      <th>일간누적백색광량</th>\n",
              "      <th>시간당적색광량</th>\n",
              "      <th>일간누적적색광량</th>\n",
              "      <th>시간당청색광량</th>\n",
              "      <th>일간누적청색광량</th>\n",
              "      <th>시간당총광량</th>\n",
              "      <th>일간누적총광량</th>\n",
              "    </tr>\n",
              "  </thead>\n",
              "  <tbody>\n",
              "    <tr>\n",
              "      <th>0</th>\n",
              "      <td>0</td>\n",
              "      <td>00:00</td>\n",
              "      <td>25.300000</td>\n",
              "      <td>81.835000</td>\n",
              "      <td>536.016667</td>\n",
              "      <td>1.407439</td>\n",
              "      <td>0.0</td>\n",
              "      <td>0.0</td>\n",
              "      <td>0.0</td>\n",
              "      <td>0.0</td>\n",
              "      <td>0.0</td>\n",
              "      <td>0.0</td>\n",
              "      <td>0</td>\n",
              "      <td>0</td>\n",
              "      <td>0.0</td>\n",
              "      <td>0.0</td>\n",
              "    </tr>\n",
              "    <tr>\n",
              "      <th>1</th>\n",
              "      <td>0</td>\n",
              "      <td>01:00</td>\n",
              "      <td>25.680357</td>\n",
              "      <td>81.264286</td>\n",
              "      <td>528.696429</td>\n",
              "      <td>1.409003</td>\n",
              "      <td>126.0</td>\n",
              "      <td>126.0</td>\n",
              "      <td>0.0</td>\n",
              "      <td>0.0</td>\n",
              "      <td>0.0</td>\n",
              "      <td>0.0</td>\n",
              "      <td>0</td>\n",
              "      <td>0</td>\n",
              "      <td>0.0</td>\n",
              "      <td>0.0</td>\n",
              "    </tr>\n",
              "    <tr>\n",
              "      <th>2</th>\n",
              "      <td>0</td>\n",
              "      <td>02:00</td>\n",
              "      <td>25.273333</td>\n",
              "      <td>81.471666</td>\n",
              "      <td>532.833333</td>\n",
              "      <td>1.406913</td>\n",
              "      <td>0.0</td>\n",
              "      <td>126.0</td>\n",
              "      <td>0.0</td>\n",
              "      <td>0.0</td>\n",
              "      <td>0.0</td>\n",
              "      <td>0.0</td>\n",
              "      <td>0</td>\n",
              "      <td>0</td>\n",
              "      <td>0.0</td>\n",
              "      <td>0.0</td>\n",
              "    </tr>\n",
              "  </tbody>\n",
              "</table>\n",
              "</div>\n",
              "      <button class=\"colab-df-convert\" onclick=\"convertToInteractive('df-5929fb22-6195-4b14-96b0-c15552c1288c')\"\n",
              "              title=\"Convert this dataframe to an interactive table.\"\n",
              "              style=\"display:none;\">\n",
              "        \n",
              "  <svg xmlns=\"http://www.w3.org/2000/svg\" height=\"24px\"viewBox=\"0 0 24 24\"\n",
              "       width=\"24px\">\n",
              "    <path d=\"M0 0h24v24H0V0z\" fill=\"none\"/>\n",
              "    <path d=\"M18.56 5.44l.94 2.06.94-2.06 2.06-.94-2.06-.94-.94-2.06-.94 2.06-2.06.94zm-11 1L8.5 8.5l.94-2.06 2.06-.94-2.06-.94L8.5 2.5l-.94 2.06-2.06.94zm10 10l.94 2.06.94-2.06 2.06-.94-2.06-.94-.94-2.06-.94 2.06-2.06.94z\"/><path d=\"M17.41 7.96l-1.37-1.37c-.4-.4-.92-.59-1.43-.59-.52 0-1.04.2-1.43.59L10.3 9.45l-7.72 7.72c-.78.78-.78 2.05 0 2.83L4 21.41c.39.39.9.59 1.41.59.51 0 1.02-.2 1.41-.59l7.78-7.78 2.81-2.81c.8-.78.8-2.07 0-2.86zM5.41 20L4 18.59l7.72-7.72 1.47 1.35L5.41 20z\"/>\n",
              "  </svg>\n",
              "      </button>\n",
              "      \n",
              "  <style>\n",
              "    .colab-df-container {\n",
              "      display:flex;\n",
              "      flex-wrap:wrap;\n",
              "      gap: 12px;\n",
              "    }\n",
              "\n",
              "    .colab-df-convert {\n",
              "      background-color: #E8F0FE;\n",
              "      border: none;\n",
              "      border-radius: 50%;\n",
              "      cursor: pointer;\n",
              "      display: none;\n",
              "      fill: #1967D2;\n",
              "      height: 32px;\n",
              "      padding: 0 0 0 0;\n",
              "      width: 32px;\n",
              "    }\n",
              "\n",
              "    .colab-df-convert:hover {\n",
              "      background-color: #E2EBFA;\n",
              "      box-shadow: 0px 1px 2px rgba(60, 64, 67, 0.3), 0px 1px 3px 1px rgba(60, 64, 67, 0.15);\n",
              "      fill: #174EA6;\n",
              "    }\n",
              "\n",
              "    [theme=dark] .colab-df-convert {\n",
              "      background-color: #3B4455;\n",
              "      fill: #D2E3FC;\n",
              "    }\n",
              "\n",
              "    [theme=dark] .colab-df-convert:hover {\n",
              "      background-color: #434B5C;\n",
              "      box-shadow: 0px 1px 3px 1px rgba(0, 0, 0, 0.15);\n",
              "      filter: drop-shadow(0px 1px 2px rgba(0, 0, 0, 0.3));\n",
              "      fill: #FFFFFF;\n",
              "    }\n",
              "  </style>\n",
              "\n",
              "      <script>\n",
              "        const buttonEl =\n",
              "          document.querySelector('#df-5929fb22-6195-4b14-96b0-c15552c1288c button.colab-df-convert');\n",
              "        buttonEl.style.display =\n",
              "          google.colab.kernel.accessAllowed ? 'block' : 'none';\n",
              "\n",
              "        async function convertToInteractive(key) {\n",
              "          const element = document.querySelector('#df-5929fb22-6195-4b14-96b0-c15552c1288c');\n",
              "          const dataTable =\n",
              "            await google.colab.kernel.invokeFunction('convertToInteractive',\n",
              "                                                     [key], {});\n",
              "          if (!dataTable) return;\n",
              "\n",
              "          const docLinkHtml = 'Like what you see? Visit the ' +\n",
              "            '<a target=\"_blank\" href=https://colab.research.google.com/notebooks/data_table.ipynb>data table notebook</a>'\n",
              "            + ' to learn more about interactive tables.';\n",
              "          element.innerHTML = '';\n",
              "          dataTable['output_type'] = 'display_data';\n",
              "          await google.colab.output.renderOutput(dataTable, element);\n",
              "          const docLink = document.createElement('div');\n",
              "          docLink.innerHTML = docLinkHtml;\n",
              "          element.appendChild(docLink);\n",
              "        }\n",
              "      </script>\n",
              "    </div>\n",
              "  </div>\n",
              "  "
            ]
          },
          "metadata": {},
          "execution_count": 23
        }
      ]
    },
    {
      "cell_type": "code",
      "source": [
        "train_y_case[\"01\"].head(3)"
      ],
      "metadata": {
        "colab": {
          "base_uri": "https://localhost:8080/",
          "height": 143
        },
        "id": "t9L1cxmTc0bt",
        "outputId": "0eb313e8-45b5-42dc-93a7-4ffeadd36806"
      },
      "execution_count": 24,
      "outputs": [
        {
          "output_type": "execute_result",
          "data": {
            "text/plain": [
              "   DAT  predicted_weight_g\n",
              "0    1            0.167719\n",
              "1    2            0.181787\n",
              "2    3            0.265921"
            ],
            "text/html": [
              "\n",
              "  <div id=\"df-27771097-ff6b-49eb-b7b2-974da8871fc4\">\n",
              "    <div class=\"colab-df-container\">\n",
              "      <div>\n",
              "<style scoped>\n",
              "    .dataframe tbody tr th:only-of-type {\n",
              "        vertical-align: middle;\n",
              "    }\n",
              "\n",
              "    .dataframe tbody tr th {\n",
              "        vertical-align: top;\n",
              "    }\n",
              "\n",
              "    .dataframe thead th {\n",
              "        text-align: right;\n",
              "    }\n",
              "</style>\n",
              "<table border=\"1\" class=\"dataframe\">\n",
              "  <thead>\n",
              "    <tr style=\"text-align: right;\">\n",
              "      <th></th>\n",
              "      <th>DAT</th>\n",
              "      <th>predicted_weight_g</th>\n",
              "    </tr>\n",
              "  </thead>\n",
              "  <tbody>\n",
              "    <tr>\n",
              "      <th>0</th>\n",
              "      <td>1</td>\n",
              "      <td>0.167719</td>\n",
              "    </tr>\n",
              "    <tr>\n",
              "      <th>1</th>\n",
              "      <td>2</td>\n",
              "      <td>0.181787</td>\n",
              "    </tr>\n",
              "    <tr>\n",
              "      <th>2</th>\n",
              "      <td>3</td>\n",
              "      <td>0.265921</td>\n",
              "    </tr>\n",
              "  </tbody>\n",
              "</table>\n",
              "</div>\n",
              "      <button class=\"colab-df-convert\" onclick=\"convertToInteractive('df-27771097-ff6b-49eb-b7b2-974da8871fc4')\"\n",
              "              title=\"Convert this dataframe to an interactive table.\"\n",
              "              style=\"display:none;\">\n",
              "        \n",
              "  <svg xmlns=\"http://www.w3.org/2000/svg\" height=\"24px\"viewBox=\"0 0 24 24\"\n",
              "       width=\"24px\">\n",
              "    <path d=\"M0 0h24v24H0V0z\" fill=\"none\"/>\n",
              "    <path d=\"M18.56 5.44l.94 2.06.94-2.06 2.06-.94-2.06-.94-.94-2.06-.94 2.06-2.06.94zm-11 1L8.5 8.5l.94-2.06 2.06-.94-2.06-.94L8.5 2.5l-.94 2.06-2.06.94zm10 10l.94 2.06.94-2.06 2.06-.94-2.06-.94-.94-2.06-.94 2.06-2.06.94z\"/><path d=\"M17.41 7.96l-1.37-1.37c-.4-.4-.92-.59-1.43-.59-.52 0-1.04.2-1.43.59L10.3 9.45l-7.72 7.72c-.78.78-.78 2.05 0 2.83L4 21.41c.39.39.9.59 1.41.59.51 0 1.02-.2 1.41-.59l7.78-7.78 2.81-2.81c.8-.78.8-2.07 0-2.86zM5.41 20L4 18.59l7.72-7.72 1.47 1.35L5.41 20z\"/>\n",
              "  </svg>\n",
              "      </button>\n",
              "      \n",
              "  <style>\n",
              "    .colab-df-container {\n",
              "      display:flex;\n",
              "      flex-wrap:wrap;\n",
              "      gap: 12px;\n",
              "    }\n",
              "\n",
              "    .colab-df-convert {\n",
              "      background-color: #E8F0FE;\n",
              "      border: none;\n",
              "      border-radius: 50%;\n",
              "      cursor: pointer;\n",
              "      display: none;\n",
              "      fill: #1967D2;\n",
              "      height: 32px;\n",
              "      padding: 0 0 0 0;\n",
              "      width: 32px;\n",
              "    }\n",
              "\n",
              "    .colab-df-convert:hover {\n",
              "      background-color: #E2EBFA;\n",
              "      box-shadow: 0px 1px 2px rgba(60, 64, 67, 0.3), 0px 1px 3px 1px rgba(60, 64, 67, 0.15);\n",
              "      fill: #174EA6;\n",
              "    }\n",
              "\n",
              "    [theme=dark] .colab-df-convert {\n",
              "      background-color: #3B4455;\n",
              "      fill: #D2E3FC;\n",
              "    }\n",
              "\n",
              "    [theme=dark] .colab-df-convert:hover {\n",
              "      background-color: #434B5C;\n",
              "      box-shadow: 0px 1px 3px 1px rgba(0, 0, 0, 0.15);\n",
              "      filter: drop-shadow(0px 1px 2px rgba(0, 0, 0, 0.3));\n",
              "      fill: #FFFFFF;\n",
              "    }\n",
              "  </style>\n",
              "\n",
              "      <script>\n",
              "        const buttonEl =\n",
              "          document.querySelector('#df-27771097-ff6b-49eb-b7b2-974da8871fc4 button.colab-df-convert');\n",
              "        buttonEl.style.display =\n",
              "          google.colab.kernel.accessAllowed ? 'block' : 'none';\n",
              "\n",
              "        async function convertToInteractive(key) {\n",
              "          const element = document.querySelector('#df-27771097-ff6b-49eb-b7b2-974da8871fc4');\n",
              "          const dataTable =\n",
              "            await google.colab.kernel.invokeFunction('convertToInteractive',\n",
              "                                                     [key], {});\n",
              "          if (!dataTable) return;\n",
              "\n",
              "          const docLinkHtml = 'Like what you see? Visit the ' +\n",
              "            '<a target=\"_blank\" href=https://colab.research.google.com/notebooks/data_table.ipynb>data table notebook</a>'\n",
              "            + ' to learn more about interactive tables.';\n",
              "          element.innerHTML = '';\n",
              "          dataTable['output_type'] = 'display_data';\n",
              "          await google.colab.output.renderOutput(dataTable, element);\n",
              "          const docLink = document.createElement('div');\n",
              "          docLink.innerHTML = docLinkHtml;\n",
              "          element.appendChild(docLink);\n",
              "        }\n",
              "      </script>\n",
              "    </div>\n",
              "  </div>\n",
              "  "
            ]
          },
          "metadata": {},
          "execution_count": 24
        }
      ]
    },
    {
      "cell_type": "markdown",
      "source": [
        " 28개의 상추를 28일 동안 24시간 간격으로 측정한 데이터이다.\n",
        "\n",
        " 28 * 24 = 672\n",
        "\n",
        " - feature는 16개\n",
        " - train_y는 매일 측정된 상추의 잎 크기이다.\n",
        "\n",
        " 잎의 성장은 전날의 데이터에 영향을 받는다. (청경채 예측 분석 코드공유를 참고함.)\n",
        "\n",
        " 각 상추의 train_X를 28개로 나눈 뒤, 하루 뒤의 train_y를 예측하게 할 것이다.\n",
        "\n",
        " https://dacon.io/competitions/official/235961/overview/description\n",
        "\n",
        "상추의 생육환경 예측과 비슷한 문제인 청경채 성장 경진대회를 많이 참고할 예정이다."
      ],
      "metadata": {
        "id": "s2Tq_TbjdrYB"
      }
    },
    {
      "cell_type": "markdown",
      "source": [
        "# 데이터 전처리\n",
        "\n",
        "- 데이터셋 나누기 \n",
        "    1. 28개의 상추를 하루 단위씩 끊어서 데이터셋을 새로 만들기\n",
        "    2. 하루단위 데이터를 평균낸 데이터를 다시 합쳐서 데이터셋을 새로 만들기\n",
        "\n",
        "- target 데이터 전처리\n",
        "    1. 전날 대비 성장률 추가 \n",
        "    2. 초기 대비 성장률 추가\n",
        "\n",
        "- null 값 처리\n",
        "\n",
        "- 컬럼별 상관관계 보기\n",
        "\n",
        "- 이상치 처리\n",
        "\n",
        "- 노이즈값 처리"
      ],
      "metadata": {
        "id": "66NbrtwfVm4X"
      }
    },
    {
      "cell_type": "markdown",
      "source": [
        "### 데이터셋 합치기 train_all_X(DataFrame)\n",
        "모든데이터를 합친다."
      ],
      "metadata": {
        "id": "OmES1X6b4d_P"
      }
    },
    {
      "cell_type": "code",
      "source": [
        "train_all_X = pd.DataFrame()\n",
        "\n",
        "for i in range(1,29):\n",
        "    CASE = str(i).zfill(2)\n",
        "    train_all_X = train_all_X.append(train_X_case[CASE])"
      ],
      "metadata": {
        "id": "oDsxHMNk4RAD"
      },
      "execution_count": 25,
      "outputs": []
    },
    {
      "cell_type": "code",
      "source": [
        "train_all_X.shape"
      ],
      "metadata": {
        "colab": {
          "base_uri": "https://localhost:8080/"
        },
        "id": "4I1LUU-W5M-z",
        "outputId": "bff9ba57-e535-43b5-c8cd-222aad216df3"
      },
      "execution_count": 26,
      "outputs": [
        {
          "output_type": "execute_result",
          "data": {
            "text/plain": [
              "(18816, 16)"
            ]
          },
          "metadata": {},
          "execution_count": 26
        }
      ]
    },
    {
      "cell_type": "code",
      "source": [
        "# 인덱스가 겹치는 모습을 볼 수 있다.\n",
        "train_all_X.iloc[670:675]"
      ],
      "metadata": {
        "colab": {
          "base_uri": "https://localhost:8080/",
          "height": 302
        },
        "id": "RQt8R3XG5SBZ",
        "outputId": "76f0bd13-cd2c-43d4-adfb-9a67292e240d"
      },
      "execution_count": 27,
      "outputs": [
        {
          "output_type": "execute_result",
          "data": {
            "text/plain": [
              "     DAT   obs_time    내부온도관측치    내부습도관측치      co2관측치     ec관측치  시간당분무량  \\\n",
              "670   27      22:00  28.005000  82.850000  577.150000  0.000000   126.0   \n",
              "671   27      23:00  27.868333  82.453333  588.616667  0.000000     0.0   \n",
              "0      0  00:00:00.  25.796666  60.550000  647.433333  2.924978    61.7   \n",
              "1      0  01:00:00.  25.285000  62.153333  648.450000  2.922873    61.7   \n",
              "2      0  02:00:00.  23.513333  63.510000  633.950000  2.890171    61.7   \n",
              "\n",
              "     일간누적분무량  시간당백색광량   일간누적백색광량  시간당적색광량  일간누적적색광량  시간당청색광량  일간누적청색광량  \\\n",
              "670  3890.54      0.0  255263.25      0.0   13652.1      0.0       0.0   \n",
              "671  3890.54      0.0  255263.25      0.0   13652.1      0.0       0.0   \n",
              "0      61.70      0.0       0.00      0.0       0.0      0.0       0.0   \n",
              "1     123.40      0.0       0.00      0.0       0.0      0.0       0.0   \n",
              "2     185.10      0.0       0.00      0.0       0.0      0.0       0.0   \n",
              "\n",
              "     시간당총광량    일간누적총광량  \n",
              "670     0.0  268915.35  \n",
              "671     0.0  268915.35  \n",
              "0       0.0       0.00  \n",
              "1       0.0       0.00  \n",
              "2       0.0       0.00  "
            ],
            "text/html": [
              "\n",
              "  <div id=\"df-d8e75be4-23a5-4f29-828d-c7f8d92fa084\">\n",
              "    <div class=\"colab-df-container\">\n",
              "      <div>\n",
              "<style scoped>\n",
              "    .dataframe tbody tr th:only-of-type {\n",
              "        vertical-align: middle;\n",
              "    }\n",
              "\n",
              "    .dataframe tbody tr th {\n",
              "        vertical-align: top;\n",
              "    }\n",
              "\n",
              "    .dataframe thead th {\n",
              "        text-align: right;\n",
              "    }\n",
              "</style>\n",
              "<table border=\"1\" class=\"dataframe\">\n",
              "  <thead>\n",
              "    <tr style=\"text-align: right;\">\n",
              "      <th></th>\n",
              "      <th>DAT</th>\n",
              "      <th>obs_time</th>\n",
              "      <th>내부온도관측치</th>\n",
              "      <th>내부습도관측치</th>\n",
              "      <th>co2관측치</th>\n",
              "      <th>ec관측치</th>\n",
              "      <th>시간당분무량</th>\n",
              "      <th>일간누적분무량</th>\n",
              "      <th>시간당백색광량</th>\n",
              "      <th>일간누적백색광량</th>\n",
              "      <th>시간당적색광량</th>\n",
              "      <th>일간누적적색광량</th>\n",
              "      <th>시간당청색광량</th>\n",
              "      <th>일간누적청색광량</th>\n",
              "      <th>시간당총광량</th>\n",
              "      <th>일간누적총광량</th>\n",
              "    </tr>\n",
              "  </thead>\n",
              "  <tbody>\n",
              "    <tr>\n",
              "      <th>670</th>\n",
              "      <td>27</td>\n",
              "      <td>22:00</td>\n",
              "      <td>28.005000</td>\n",
              "      <td>82.850000</td>\n",
              "      <td>577.150000</td>\n",
              "      <td>0.000000</td>\n",
              "      <td>126.0</td>\n",
              "      <td>3890.54</td>\n",
              "      <td>0.0</td>\n",
              "      <td>255263.25</td>\n",
              "      <td>0.0</td>\n",
              "      <td>13652.1</td>\n",
              "      <td>0.0</td>\n",
              "      <td>0.0</td>\n",
              "      <td>0.0</td>\n",
              "      <td>268915.35</td>\n",
              "    </tr>\n",
              "    <tr>\n",
              "      <th>671</th>\n",
              "      <td>27</td>\n",
              "      <td>23:00</td>\n",
              "      <td>27.868333</td>\n",
              "      <td>82.453333</td>\n",
              "      <td>588.616667</td>\n",
              "      <td>0.000000</td>\n",
              "      <td>0.0</td>\n",
              "      <td>3890.54</td>\n",
              "      <td>0.0</td>\n",
              "      <td>255263.25</td>\n",
              "      <td>0.0</td>\n",
              "      <td>13652.1</td>\n",
              "      <td>0.0</td>\n",
              "      <td>0.0</td>\n",
              "      <td>0.0</td>\n",
              "      <td>268915.35</td>\n",
              "    </tr>\n",
              "    <tr>\n",
              "      <th>0</th>\n",
              "      <td>0</td>\n",
              "      <td>00:00:00.</td>\n",
              "      <td>25.796666</td>\n",
              "      <td>60.550000</td>\n",
              "      <td>647.433333</td>\n",
              "      <td>2.924978</td>\n",
              "      <td>61.7</td>\n",
              "      <td>61.70</td>\n",
              "      <td>0.0</td>\n",
              "      <td>0.00</td>\n",
              "      <td>0.0</td>\n",
              "      <td>0.0</td>\n",
              "      <td>0.0</td>\n",
              "      <td>0.0</td>\n",
              "      <td>0.0</td>\n",
              "      <td>0.00</td>\n",
              "    </tr>\n",
              "    <tr>\n",
              "      <th>1</th>\n",
              "      <td>0</td>\n",
              "      <td>01:00:00.</td>\n",
              "      <td>25.285000</td>\n",
              "      <td>62.153333</td>\n",
              "      <td>648.450000</td>\n",
              "      <td>2.922873</td>\n",
              "      <td>61.7</td>\n",
              "      <td>123.40</td>\n",
              "      <td>0.0</td>\n",
              "      <td>0.00</td>\n",
              "      <td>0.0</td>\n",
              "      <td>0.0</td>\n",
              "      <td>0.0</td>\n",
              "      <td>0.0</td>\n",
              "      <td>0.0</td>\n",
              "      <td>0.00</td>\n",
              "    </tr>\n",
              "    <tr>\n",
              "      <th>2</th>\n",
              "      <td>0</td>\n",
              "      <td>02:00:00.</td>\n",
              "      <td>23.513333</td>\n",
              "      <td>63.510000</td>\n",
              "      <td>633.950000</td>\n",
              "      <td>2.890171</td>\n",
              "      <td>61.7</td>\n",
              "      <td>185.10</td>\n",
              "      <td>0.0</td>\n",
              "      <td>0.00</td>\n",
              "      <td>0.0</td>\n",
              "      <td>0.0</td>\n",
              "      <td>0.0</td>\n",
              "      <td>0.0</td>\n",
              "      <td>0.0</td>\n",
              "      <td>0.00</td>\n",
              "    </tr>\n",
              "  </tbody>\n",
              "</table>\n",
              "</div>\n",
              "      <button class=\"colab-df-convert\" onclick=\"convertToInteractive('df-d8e75be4-23a5-4f29-828d-c7f8d92fa084')\"\n",
              "              title=\"Convert this dataframe to an interactive table.\"\n",
              "              style=\"display:none;\">\n",
              "        \n",
              "  <svg xmlns=\"http://www.w3.org/2000/svg\" height=\"24px\"viewBox=\"0 0 24 24\"\n",
              "       width=\"24px\">\n",
              "    <path d=\"M0 0h24v24H0V0z\" fill=\"none\"/>\n",
              "    <path d=\"M18.56 5.44l.94 2.06.94-2.06 2.06-.94-2.06-.94-.94-2.06-.94 2.06-2.06.94zm-11 1L8.5 8.5l.94-2.06 2.06-.94-2.06-.94L8.5 2.5l-.94 2.06-2.06.94zm10 10l.94 2.06.94-2.06 2.06-.94-2.06-.94-.94-2.06-.94 2.06-2.06.94z\"/><path d=\"M17.41 7.96l-1.37-1.37c-.4-.4-.92-.59-1.43-.59-.52 0-1.04.2-1.43.59L10.3 9.45l-7.72 7.72c-.78.78-.78 2.05 0 2.83L4 21.41c.39.39.9.59 1.41.59.51 0 1.02-.2 1.41-.59l7.78-7.78 2.81-2.81c.8-.78.8-2.07 0-2.86zM5.41 20L4 18.59l7.72-7.72 1.47 1.35L5.41 20z\"/>\n",
              "  </svg>\n",
              "      </button>\n",
              "      \n",
              "  <style>\n",
              "    .colab-df-container {\n",
              "      display:flex;\n",
              "      flex-wrap:wrap;\n",
              "      gap: 12px;\n",
              "    }\n",
              "\n",
              "    .colab-df-convert {\n",
              "      background-color: #E8F0FE;\n",
              "      border: none;\n",
              "      border-radius: 50%;\n",
              "      cursor: pointer;\n",
              "      display: none;\n",
              "      fill: #1967D2;\n",
              "      height: 32px;\n",
              "      padding: 0 0 0 0;\n",
              "      width: 32px;\n",
              "    }\n",
              "\n",
              "    .colab-df-convert:hover {\n",
              "      background-color: #E2EBFA;\n",
              "      box-shadow: 0px 1px 2px rgba(60, 64, 67, 0.3), 0px 1px 3px 1px rgba(60, 64, 67, 0.15);\n",
              "      fill: #174EA6;\n",
              "    }\n",
              "\n",
              "    [theme=dark] .colab-df-convert {\n",
              "      background-color: #3B4455;\n",
              "      fill: #D2E3FC;\n",
              "    }\n",
              "\n",
              "    [theme=dark] .colab-df-convert:hover {\n",
              "      background-color: #434B5C;\n",
              "      box-shadow: 0px 1px 3px 1px rgba(0, 0, 0, 0.15);\n",
              "      filter: drop-shadow(0px 1px 2px rgba(0, 0, 0, 0.3));\n",
              "      fill: #FFFFFF;\n",
              "    }\n",
              "  </style>\n",
              "\n",
              "      <script>\n",
              "        const buttonEl =\n",
              "          document.querySelector('#df-d8e75be4-23a5-4f29-828d-c7f8d92fa084 button.colab-df-convert');\n",
              "        buttonEl.style.display =\n",
              "          google.colab.kernel.accessAllowed ? 'block' : 'none';\n",
              "\n",
              "        async function convertToInteractive(key) {\n",
              "          const element = document.querySelector('#df-d8e75be4-23a5-4f29-828d-c7f8d92fa084');\n",
              "          const dataTable =\n",
              "            await google.colab.kernel.invokeFunction('convertToInteractive',\n",
              "                                                     [key], {});\n",
              "          if (!dataTable) return;\n",
              "\n",
              "          const docLinkHtml = 'Like what you see? Visit the ' +\n",
              "            '<a target=\"_blank\" href=https://colab.research.google.com/notebooks/data_table.ipynb>data table notebook</a>'\n",
              "            + ' to learn more about interactive tables.';\n",
              "          element.innerHTML = '';\n",
              "          dataTable['output_type'] = 'display_data';\n",
              "          await google.colab.output.renderOutput(dataTable, element);\n",
              "          const docLink = document.createElement('div');\n",
              "          docLink.innerHTML = docLinkHtml;\n",
              "          element.appendChild(docLink);\n",
              "        }\n",
              "      </script>\n",
              "    </div>\n",
              "  </div>\n",
              "  "
            ]
          },
          "metadata": {},
          "execution_count": 27
        }
      ]
    },
    {
      "cell_type": "markdown",
      "source": [
        "### 데이터셋 나누기 train_X_case_day(list)\n",
        "\n",
        "각 상추의 28일치 데이터를 분리해서 저장한다."
      ],
      "metadata": {
        "id": "7dloaJK7rGWZ"
      }
    },
    {
      "cell_type": "code",
      "source": [
        "# train_X_case_day[x][y] 를 입력하면 x 케이스의 y번째 날 데이터 프레임을 리턴함\n",
        "# case는 1~28, day는 0~27 \n",
        "train_X_case_day = [[]]\n",
        "\n",
        "for i in range(1,29):\n",
        "    train_X_case_day.append([])\n",
        "    for j in range(1,29):\n",
        "        train_X_case_day[i].append(train_X_case[\"{}\".format(str(i).zfill(2))].iloc[24*(j-1):j*24, :])"
      ],
      "metadata": {
        "id": "tbVG8kWiVrx0"
      },
      "execution_count": 28,
      "outputs": []
    },
    {
      "cell_type": "markdown",
      "source": [
        "### 타겟데이터 전처리 train_y_all(DF)\n"
      ],
      "metadata": {
        "id": "nkQvl7j7rLMq"
      }
    },
    {
      "cell_type": "code",
      "source": [
        "for case in range(1,29):\n",
        "    CASE = str(case).zfill(2)\n",
        "    IGR = []                    # 초기 대비 성장률(initial growth rate): IGR\n",
        "    DOD = []                    # 전날 대비 성장률(day over day growth rate): DOD\n",
        "    for day in range(1, 28):\n",
        "        id = train_y_case[CASE].iloc[0, 1]          # inital day\n",
        "        yd = train_y_case[CASE].iloc[(day-1),1]     # yester day\n",
        "        td = train_y_case[CASE].iloc[day, 1]        # today\n",
        "\n",
        "        IGR.append((td-id)/id*100)\n",
        "        DOD.append((td-yd)/yd*100)\n",
        "\n",
        "    IGR.append(0)\n",
        "    DOD.append(0)\n",
        "\n",
        "    train_y_case[CASE][\"초기 대비 성장률(%)\"] = IGR\n",
        "    train_y_case[CASE][\"전날 대비 성장률(%)\"] = DOD"
      ],
      "metadata": {
        "id": "0i7D_enecDml"
      },
      "execution_count": 29,
      "outputs": []
    },
    {
      "cell_type": "code",
      "source": [
        "train_y_case[\"01\"].head(3)"
      ],
      "metadata": {
        "colab": {
          "base_uri": "https://localhost:8080/",
          "height": 143
        },
        "id": "wvO2kF7edre_",
        "outputId": "8923f0e5-8eea-4bb4-ed62-148f2aeaad5a"
      },
      "execution_count": 30,
      "outputs": [
        {
          "output_type": "execute_result",
          "data": {
            "text/plain": [
              "   DAT  predicted_weight_g  초기 대비 성장률(%)  전날 대비 성장률(%)\n",
              "0    1            0.167719      8.387751      8.387751\n",
              "1    2            0.181787     58.551144     46.281423\n",
              "2    3            0.265921    152.594543     59.314235"
            ],
            "text/html": [
              "\n",
              "  <div id=\"df-20077fb0-9eb5-4327-9b78-b22991c33919\">\n",
              "    <div class=\"colab-df-container\">\n",
              "      <div>\n",
              "<style scoped>\n",
              "    .dataframe tbody tr th:only-of-type {\n",
              "        vertical-align: middle;\n",
              "    }\n",
              "\n",
              "    .dataframe tbody tr th {\n",
              "        vertical-align: top;\n",
              "    }\n",
              "\n",
              "    .dataframe thead th {\n",
              "        text-align: right;\n",
              "    }\n",
              "</style>\n",
              "<table border=\"1\" class=\"dataframe\">\n",
              "  <thead>\n",
              "    <tr style=\"text-align: right;\">\n",
              "      <th></th>\n",
              "      <th>DAT</th>\n",
              "      <th>predicted_weight_g</th>\n",
              "      <th>초기 대비 성장률(%)</th>\n",
              "      <th>전날 대비 성장률(%)</th>\n",
              "    </tr>\n",
              "  </thead>\n",
              "  <tbody>\n",
              "    <tr>\n",
              "      <th>0</th>\n",
              "      <td>1</td>\n",
              "      <td>0.167719</td>\n",
              "      <td>8.387751</td>\n",
              "      <td>8.387751</td>\n",
              "    </tr>\n",
              "    <tr>\n",
              "      <th>1</th>\n",
              "      <td>2</td>\n",
              "      <td>0.181787</td>\n",
              "      <td>58.551144</td>\n",
              "      <td>46.281423</td>\n",
              "    </tr>\n",
              "    <tr>\n",
              "      <th>2</th>\n",
              "      <td>3</td>\n",
              "      <td>0.265921</td>\n",
              "      <td>152.594543</td>\n",
              "      <td>59.314235</td>\n",
              "    </tr>\n",
              "  </tbody>\n",
              "</table>\n",
              "</div>\n",
              "      <button class=\"colab-df-convert\" onclick=\"convertToInteractive('df-20077fb0-9eb5-4327-9b78-b22991c33919')\"\n",
              "              title=\"Convert this dataframe to an interactive table.\"\n",
              "              style=\"display:none;\">\n",
              "        \n",
              "  <svg xmlns=\"http://www.w3.org/2000/svg\" height=\"24px\"viewBox=\"0 0 24 24\"\n",
              "       width=\"24px\">\n",
              "    <path d=\"M0 0h24v24H0V0z\" fill=\"none\"/>\n",
              "    <path d=\"M18.56 5.44l.94 2.06.94-2.06 2.06-.94-2.06-.94-.94-2.06-.94 2.06-2.06.94zm-11 1L8.5 8.5l.94-2.06 2.06-.94-2.06-.94L8.5 2.5l-.94 2.06-2.06.94zm10 10l.94 2.06.94-2.06 2.06-.94-2.06-.94-.94-2.06-.94 2.06-2.06.94z\"/><path d=\"M17.41 7.96l-1.37-1.37c-.4-.4-.92-.59-1.43-.59-.52 0-1.04.2-1.43.59L10.3 9.45l-7.72 7.72c-.78.78-.78 2.05 0 2.83L4 21.41c.39.39.9.59 1.41.59.51 0 1.02-.2 1.41-.59l7.78-7.78 2.81-2.81c.8-.78.8-2.07 0-2.86zM5.41 20L4 18.59l7.72-7.72 1.47 1.35L5.41 20z\"/>\n",
              "  </svg>\n",
              "      </button>\n",
              "      \n",
              "  <style>\n",
              "    .colab-df-container {\n",
              "      display:flex;\n",
              "      flex-wrap:wrap;\n",
              "      gap: 12px;\n",
              "    }\n",
              "\n",
              "    .colab-df-convert {\n",
              "      background-color: #E8F0FE;\n",
              "      border: none;\n",
              "      border-radius: 50%;\n",
              "      cursor: pointer;\n",
              "      display: none;\n",
              "      fill: #1967D2;\n",
              "      height: 32px;\n",
              "      padding: 0 0 0 0;\n",
              "      width: 32px;\n",
              "    }\n",
              "\n",
              "    .colab-df-convert:hover {\n",
              "      background-color: #E2EBFA;\n",
              "      box-shadow: 0px 1px 2px rgba(60, 64, 67, 0.3), 0px 1px 3px 1px rgba(60, 64, 67, 0.15);\n",
              "      fill: #174EA6;\n",
              "    }\n",
              "\n",
              "    [theme=dark] .colab-df-convert {\n",
              "      background-color: #3B4455;\n",
              "      fill: #D2E3FC;\n",
              "    }\n",
              "\n",
              "    [theme=dark] .colab-df-convert:hover {\n",
              "      background-color: #434B5C;\n",
              "      box-shadow: 0px 1px 3px 1px rgba(0, 0, 0, 0.15);\n",
              "      filter: drop-shadow(0px 1px 2px rgba(0, 0, 0, 0.3));\n",
              "      fill: #FFFFFF;\n",
              "    }\n",
              "  </style>\n",
              "\n",
              "      <script>\n",
              "        const buttonEl =\n",
              "          document.querySelector('#df-20077fb0-9eb5-4327-9b78-b22991c33919 button.colab-df-convert');\n",
              "        buttonEl.style.display =\n",
              "          google.colab.kernel.accessAllowed ? 'block' : 'none';\n",
              "\n",
              "        async function convertToInteractive(key) {\n",
              "          const element = document.querySelector('#df-20077fb0-9eb5-4327-9b78-b22991c33919');\n",
              "          const dataTable =\n",
              "            await google.colab.kernel.invokeFunction('convertToInteractive',\n",
              "                                                     [key], {});\n",
              "          if (!dataTable) return;\n",
              "\n",
              "          const docLinkHtml = 'Like what you see? Visit the ' +\n",
              "            '<a target=\"_blank\" href=https://colab.research.google.com/notebooks/data_table.ipynb>data table notebook</a>'\n",
              "            + ' to learn more about interactive tables.';\n",
              "          element.innerHTML = '';\n",
              "          dataTable['output_type'] = 'display_data';\n",
              "          await google.colab.output.renderOutput(dataTable, element);\n",
              "          const docLink = document.createElement('div');\n",
              "          docLink.innerHTML = docLinkHtml;\n",
              "          element.appendChild(docLink);\n",
              "        }\n",
              "      </script>\n",
              "    </div>\n",
              "  </div>\n",
              "  "
            ]
          },
          "metadata": {},
          "execution_count": 30
        }
      ]
    },
    {
      "cell_type": "code",
      "source": [
        "train_y_all = pd.DataFrame()\n",
        "\n",
        "for i in range(1, 29):\n",
        "    CASE = str(i).zfill(2)\n",
        "    train_y_all = train_y_all.append(train_y_case[CASE].drop([\"DAT\"], axis=1), ignore_index=True)"
      ],
      "metadata": {
        "id": "V_JpQfsQ1WrH"
      },
      "execution_count": 31,
      "outputs": []
    },
    {
      "cell_type": "code",
      "source": [
        "# predicted_weight_g 컬럼 하나씩 당기기\n",
        "for i in range(28):\n",
        "    for j in range(28):\n",
        "        if j != 27:\n",
        "            train_y_all.iloc[i*28+j,:] = train_y_all.iloc[i*28+j+1,:]\n",
        "        else:\n",
        "            train_y_all.iloc[i*28+j,:] = 0"
      ],
      "metadata": {
        "id": "ntyIkSx4xuJR"
      },
      "execution_count": 32,
      "outputs": []
    },
    {
      "cell_type": "code",
      "source": [
        "train_y_all.head(30)"
      ],
      "metadata": {
        "colab": {
          "base_uri": "https://localhost:8080/",
          "height": 990
        },
        "id": "VmKyGiYW1uXu",
        "outputId": "dd596761-097f-4194-9145-8f1854b7120e"
      },
      "execution_count": 33,
      "outputs": [
        {
          "output_type": "execute_result",
          "data": {
            "text/plain": [
              "    predicted_weight_g  초기 대비 성장률(%)  전날 대비 성장률(%)\n",
              "0             0.181787     58.551144     46.281423\n",
              "1             0.265921    152.594543     59.314235\n",
              "2             0.423650    183.373579     12.185154\n",
              "3             0.475272   1057.814298    308.582304\n",
              "4             1.941879   1289.762329     20.033267\n",
              "5             2.330901   1988.755875     50.295905\n",
              "6             3.503249   2558.153802     27.260147\n",
              "7             4.458239   3069.359443     19.231605\n",
              "8             5.315630   3616.792845     17.272683\n",
              "9             6.233782   4535.570538     24.719637\n",
              "10            7.774751   5532.727160     21.510979\n",
              "11            9.447176   6582.006192     18.628259\n",
              "12           11.207020   8485.367463     28.484877\n",
              "13           14.399326  10508.674165     23.566920\n",
              "14           17.792803  12813.094886     21.722043\n",
              "15           21.657764  15712.455039     22.452868\n",
              "16           26.520553  19297.551410     22.672611\n",
              "17           32.533455  23476.114349     21.541703\n",
              "18           39.541715  28244.057663     20.223618\n",
              "19           47.538480  33194.092323     17.464100\n",
              "20           55.840648  38951.844522     17.293615\n",
              "21           65.497515  44435.003007     14.040716\n",
              "22           74.693835  48518.086965      9.168258\n",
              "23           81.541958  49296.361086      1.600791\n",
              "24           82.847275  49078.860029     -0.440318\n",
              "25           82.482483  48941.215668     -0.279885\n",
              "26           82.251627      0.000000      0.000000\n",
              "27            0.000000      0.000000      0.000000\n",
              "28            1.220452     26.812436      9.223821\n",
              "29            1.333024     38.274010      9.038210"
            ],
            "text/html": [
              "\n",
              "  <div id=\"df-daea7454-7547-4261-b095-14ecb107027b\">\n",
              "    <div class=\"colab-df-container\">\n",
              "      <div>\n",
              "<style scoped>\n",
              "    .dataframe tbody tr th:only-of-type {\n",
              "        vertical-align: middle;\n",
              "    }\n",
              "\n",
              "    .dataframe tbody tr th {\n",
              "        vertical-align: top;\n",
              "    }\n",
              "\n",
              "    .dataframe thead th {\n",
              "        text-align: right;\n",
              "    }\n",
              "</style>\n",
              "<table border=\"1\" class=\"dataframe\">\n",
              "  <thead>\n",
              "    <tr style=\"text-align: right;\">\n",
              "      <th></th>\n",
              "      <th>predicted_weight_g</th>\n",
              "      <th>초기 대비 성장률(%)</th>\n",
              "      <th>전날 대비 성장률(%)</th>\n",
              "    </tr>\n",
              "  </thead>\n",
              "  <tbody>\n",
              "    <tr>\n",
              "      <th>0</th>\n",
              "      <td>0.181787</td>\n",
              "      <td>58.551144</td>\n",
              "      <td>46.281423</td>\n",
              "    </tr>\n",
              "    <tr>\n",
              "      <th>1</th>\n",
              "      <td>0.265921</td>\n",
              "      <td>152.594543</td>\n",
              "      <td>59.314235</td>\n",
              "    </tr>\n",
              "    <tr>\n",
              "      <th>2</th>\n",
              "      <td>0.423650</td>\n",
              "      <td>183.373579</td>\n",
              "      <td>12.185154</td>\n",
              "    </tr>\n",
              "    <tr>\n",
              "      <th>3</th>\n",
              "      <td>0.475272</td>\n",
              "      <td>1057.814298</td>\n",
              "      <td>308.582304</td>\n",
              "    </tr>\n",
              "    <tr>\n",
              "      <th>4</th>\n",
              "      <td>1.941879</td>\n",
              "      <td>1289.762329</td>\n",
              "      <td>20.033267</td>\n",
              "    </tr>\n",
              "    <tr>\n",
              "      <th>5</th>\n",
              "      <td>2.330901</td>\n",
              "      <td>1988.755875</td>\n",
              "      <td>50.295905</td>\n",
              "    </tr>\n",
              "    <tr>\n",
              "      <th>6</th>\n",
              "      <td>3.503249</td>\n",
              "      <td>2558.153802</td>\n",
              "      <td>27.260147</td>\n",
              "    </tr>\n",
              "    <tr>\n",
              "      <th>7</th>\n",
              "      <td>4.458239</td>\n",
              "      <td>3069.359443</td>\n",
              "      <td>19.231605</td>\n",
              "    </tr>\n",
              "    <tr>\n",
              "      <th>8</th>\n",
              "      <td>5.315630</td>\n",
              "      <td>3616.792845</td>\n",
              "      <td>17.272683</td>\n",
              "    </tr>\n",
              "    <tr>\n",
              "      <th>9</th>\n",
              "      <td>6.233782</td>\n",
              "      <td>4535.570538</td>\n",
              "      <td>24.719637</td>\n",
              "    </tr>\n",
              "    <tr>\n",
              "      <th>10</th>\n",
              "      <td>7.774751</td>\n",
              "      <td>5532.727160</td>\n",
              "      <td>21.510979</td>\n",
              "    </tr>\n",
              "    <tr>\n",
              "      <th>11</th>\n",
              "      <td>9.447176</td>\n",
              "      <td>6582.006192</td>\n",
              "      <td>18.628259</td>\n",
              "    </tr>\n",
              "    <tr>\n",
              "      <th>12</th>\n",
              "      <td>11.207020</td>\n",
              "      <td>8485.367463</td>\n",
              "      <td>28.484877</td>\n",
              "    </tr>\n",
              "    <tr>\n",
              "      <th>13</th>\n",
              "      <td>14.399326</td>\n",
              "      <td>10508.674165</td>\n",
              "      <td>23.566920</td>\n",
              "    </tr>\n",
              "    <tr>\n",
              "      <th>14</th>\n",
              "      <td>17.792803</td>\n",
              "      <td>12813.094886</td>\n",
              "      <td>21.722043</td>\n",
              "    </tr>\n",
              "    <tr>\n",
              "      <th>15</th>\n",
              "      <td>21.657764</td>\n",
              "      <td>15712.455039</td>\n",
              "      <td>22.452868</td>\n",
              "    </tr>\n",
              "    <tr>\n",
              "      <th>16</th>\n",
              "      <td>26.520553</td>\n",
              "      <td>19297.551410</td>\n",
              "      <td>22.672611</td>\n",
              "    </tr>\n",
              "    <tr>\n",
              "      <th>17</th>\n",
              "      <td>32.533455</td>\n",
              "      <td>23476.114349</td>\n",
              "      <td>21.541703</td>\n",
              "    </tr>\n",
              "    <tr>\n",
              "      <th>18</th>\n",
              "      <td>39.541715</td>\n",
              "      <td>28244.057663</td>\n",
              "      <td>20.223618</td>\n",
              "    </tr>\n",
              "    <tr>\n",
              "      <th>19</th>\n",
              "      <td>47.538480</td>\n",
              "      <td>33194.092323</td>\n",
              "      <td>17.464100</td>\n",
              "    </tr>\n",
              "    <tr>\n",
              "      <th>20</th>\n",
              "      <td>55.840648</td>\n",
              "      <td>38951.844522</td>\n",
              "      <td>17.293615</td>\n",
              "    </tr>\n",
              "    <tr>\n",
              "      <th>21</th>\n",
              "      <td>65.497515</td>\n",
              "      <td>44435.003007</td>\n",
              "      <td>14.040716</td>\n",
              "    </tr>\n",
              "    <tr>\n",
              "      <th>22</th>\n",
              "      <td>74.693835</td>\n",
              "      <td>48518.086965</td>\n",
              "      <td>9.168258</td>\n",
              "    </tr>\n",
              "    <tr>\n",
              "      <th>23</th>\n",
              "      <td>81.541958</td>\n",
              "      <td>49296.361086</td>\n",
              "      <td>1.600791</td>\n",
              "    </tr>\n",
              "    <tr>\n",
              "      <th>24</th>\n",
              "      <td>82.847275</td>\n",
              "      <td>49078.860029</td>\n",
              "      <td>-0.440318</td>\n",
              "    </tr>\n",
              "    <tr>\n",
              "      <th>25</th>\n",
              "      <td>82.482483</td>\n",
              "      <td>48941.215668</td>\n",
              "      <td>-0.279885</td>\n",
              "    </tr>\n",
              "    <tr>\n",
              "      <th>26</th>\n",
              "      <td>82.251627</td>\n",
              "      <td>0.000000</td>\n",
              "      <td>0.000000</td>\n",
              "    </tr>\n",
              "    <tr>\n",
              "      <th>27</th>\n",
              "      <td>0.000000</td>\n",
              "      <td>0.000000</td>\n",
              "      <td>0.000000</td>\n",
              "    </tr>\n",
              "    <tr>\n",
              "      <th>28</th>\n",
              "      <td>1.220452</td>\n",
              "      <td>26.812436</td>\n",
              "      <td>9.223821</td>\n",
              "    </tr>\n",
              "    <tr>\n",
              "      <th>29</th>\n",
              "      <td>1.333024</td>\n",
              "      <td>38.274010</td>\n",
              "      <td>9.038210</td>\n",
              "    </tr>\n",
              "  </tbody>\n",
              "</table>\n",
              "</div>\n",
              "      <button class=\"colab-df-convert\" onclick=\"convertToInteractive('df-daea7454-7547-4261-b095-14ecb107027b')\"\n",
              "              title=\"Convert this dataframe to an interactive table.\"\n",
              "              style=\"display:none;\">\n",
              "        \n",
              "  <svg xmlns=\"http://www.w3.org/2000/svg\" height=\"24px\"viewBox=\"0 0 24 24\"\n",
              "       width=\"24px\">\n",
              "    <path d=\"M0 0h24v24H0V0z\" fill=\"none\"/>\n",
              "    <path d=\"M18.56 5.44l.94 2.06.94-2.06 2.06-.94-2.06-.94-.94-2.06-.94 2.06-2.06.94zm-11 1L8.5 8.5l.94-2.06 2.06-.94-2.06-.94L8.5 2.5l-.94 2.06-2.06.94zm10 10l.94 2.06.94-2.06 2.06-.94-2.06-.94-.94-2.06-.94 2.06-2.06.94z\"/><path d=\"M17.41 7.96l-1.37-1.37c-.4-.4-.92-.59-1.43-.59-.52 0-1.04.2-1.43.59L10.3 9.45l-7.72 7.72c-.78.78-.78 2.05 0 2.83L4 21.41c.39.39.9.59 1.41.59.51 0 1.02-.2 1.41-.59l7.78-7.78 2.81-2.81c.8-.78.8-2.07 0-2.86zM5.41 20L4 18.59l7.72-7.72 1.47 1.35L5.41 20z\"/>\n",
              "  </svg>\n",
              "      </button>\n",
              "      \n",
              "  <style>\n",
              "    .colab-df-container {\n",
              "      display:flex;\n",
              "      flex-wrap:wrap;\n",
              "      gap: 12px;\n",
              "    }\n",
              "\n",
              "    .colab-df-convert {\n",
              "      background-color: #E8F0FE;\n",
              "      border: none;\n",
              "      border-radius: 50%;\n",
              "      cursor: pointer;\n",
              "      display: none;\n",
              "      fill: #1967D2;\n",
              "      height: 32px;\n",
              "      padding: 0 0 0 0;\n",
              "      width: 32px;\n",
              "    }\n",
              "\n",
              "    .colab-df-convert:hover {\n",
              "      background-color: #E2EBFA;\n",
              "      box-shadow: 0px 1px 2px rgba(60, 64, 67, 0.3), 0px 1px 3px 1px rgba(60, 64, 67, 0.15);\n",
              "      fill: #174EA6;\n",
              "    }\n",
              "\n",
              "    [theme=dark] .colab-df-convert {\n",
              "      background-color: #3B4455;\n",
              "      fill: #D2E3FC;\n",
              "    }\n",
              "\n",
              "    [theme=dark] .colab-df-convert:hover {\n",
              "      background-color: #434B5C;\n",
              "      box-shadow: 0px 1px 3px 1px rgba(0, 0, 0, 0.15);\n",
              "      filter: drop-shadow(0px 1px 2px rgba(0, 0, 0, 0.3));\n",
              "      fill: #FFFFFF;\n",
              "    }\n",
              "  </style>\n",
              "\n",
              "      <script>\n",
              "        const buttonEl =\n",
              "          document.querySelector('#df-daea7454-7547-4261-b095-14ecb107027b button.colab-df-convert');\n",
              "        buttonEl.style.display =\n",
              "          google.colab.kernel.accessAllowed ? 'block' : 'none';\n",
              "\n",
              "        async function convertToInteractive(key) {\n",
              "          const element = document.querySelector('#df-daea7454-7547-4261-b095-14ecb107027b');\n",
              "          const dataTable =\n",
              "            await google.colab.kernel.invokeFunction('convertToInteractive',\n",
              "                                                     [key], {});\n",
              "          if (!dataTable) return;\n",
              "\n",
              "          const docLinkHtml = 'Like what you see? Visit the ' +\n",
              "            '<a target=\"_blank\" href=https://colab.research.google.com/notebooks/data_table.ipynb>data table notebook</a>'\n",
              "            + ' to learn more about interactive tables.';\n",
              "          element.innerHTML = '';\n",
              "          dataTable['output_type'] = 'display_data';\n",
              "          await google.colab.output.renderOutput(dataTable, element);\n",
              "          const docLink = document.createElement('div');\n",
              "          docLink.innerHTML = docLinkHtml;\n",
              "          element.appendChild(docLink);\n",
              "        }\n",
              "      </script>\n",
              "    </div>\n",
              "  </div>\n",
              "  "
            ]
          },
          "metadata": {},
          "execution_count": 33
        }
      ]
    },
    {
      "cell_type": "code",
      "source": [
        "# 28 * 28 사이즈의 데이터셋 생성\n",
        "\n",
        "train_y_all.shape"
      ],
      "metadata": {
        "colab": {
          "base_uri": "https://localhost:8080/"
        },
        "id": "VI1ssXSR1ozv",
        "outputId": "a5725738-560a-48cc-d2bf-ebc21bd9f979"
      },
      "execution_count": 34,
      "outputs": [
        {
          "output_type": "execute_result",
          "data": {
            "text/plain": [
              "(784, 3)"
            ]
          },
          "metadata": {},
          "execution_count": 34
        }
      ]
    },
    {
      "cell_type": "markdown",
      "source": [
        "### null 값 처리\n",
        "\n",
        "null 값이 없다."
      ],
      "metadata": {
        "id": "UC3HQSGln4O8"
      }
    },
    {
      "cell_type": "code",
      "source": [
        "for i in range(1, 29):\n",
        "    CASE = str(i).zfill(2)\n",
        "    for _ in train_X_case[CASE].isnull().sum():\n",
        "        if _ == True:\n",
        "            print(_)"
      ],
      "metadata": {
        "id": "qTGWhVeBtaQ1"
      },
      "execution_count": 35,
      "outputs": []
    },
    {
      "cell_type": "markdown",
      "source": [
        "### 노이즈값 처리\n",
        "\n",
        "- 시간당 내부 평균온도: 4도~40도\n",
        "- 시간당 내부 평균습도: 0% ~ 100%\n",
        "- 시간당 내부 평균 co2 농도 : 0ppm ~ 1200 ppm\n",
        "- 시간당 평균 EC : 0 ~ 8\n",
        "- 시간당 분무량 : 0 ~ 3000 / 일간 누적 분무량 0 ~ 72,000\n",
        "- 시간당 백색광량 : 0 ~ 120,000 / 일간 누적 백색광량 0 ~ 2,880,000\n",
        "- 시간당 적색광량 : 0 ~ 120,000 / 일간 누적 적색광량 0 ~ 2,880,000 \n",
        "- 시간당 청색광량 : 0 ~ 120,000 / 일간 누적 청색광량 0 ~ 2,880,000\n",
        "- 시간당 총광량 : 0 ~ 120,000 / 일간 누적 총광량 0 ~ 2,880,000\n",
        "\n",
        "\n"
      ],
      "metadata": {
        "id": "Mu2lbGjqtzHz"
      }
    },
    {
      "cell_type": "code",
      "source": [
        "col = train_X_case[\"01\"].columns\n",
        "col"
      ],
      "metadata": {
        "colab": {
          "base_uri": "https://localhost:8080/"
        },
        "id": "DVtJ02ZO55Pv",
        "outputId": "4ef1e746-2bab-455c-f72d-b0603c3c5055"
      },
      "execution_count": 36,
      "outputs": [
        {
          "output_type": "execute_result",
          "data": {
            "text/plain": [
              "Index(['DAT', 'obs_time', '내부온도관측치', '내부습도관측치', 'co2관측치', 'ec관측치', '시간당분무량',\n",
              "       '일간누적분무량', '시간당백색광량', '일간누적백색광량', '시간당적색광량', '일간누적적색광량', '시간당청색광량',\n",
              "       '일간누적청색광량', '시간당총광량', '일간누적총광량'],\n",
              "      dtype='object')"
            ]
          },
          "metadata": {},
          "execution_count": 36
        }
      ]
    },
    {
      "cell_type": "code",
      "source": [
        "control_variable = pd.DataFrame()\n",
        "\n",
        "noise = [[]]\n",
        "\n",
        "for i in range(1, 29):\n",
        "    noise.append([])\n",
        "    CASE = str(i).zfill(2)\n",
        "\n",
        "    # 내부 온도 관측치 \n",
        "    noise[i].append(train_X_case[CASE][train_X_case[CASE][col[2]]<4].index)    \n",
        "    noise[i].append(train_X_case[CASE][train_X_case[CASE][col[2]]>40].index)   \n",
        "\n",
        "    # 내부습도 관측치\n",
        "    noise[i].append(train_X_case[CASE][train_X_case[CASE][col[3]]<=0].index)    \n",
        "    noise[i].append(train_X_case[CASE][train_X_case[CASE][col[3]]>100].index)   \n",
        "\n",
        "    # co2 관측치\n",
        "    noise[i].append(train_X_case[CASE][train_X_case[CASE][col[4]]<=0].index)    \n",
        "    noise[i].append(train_X_case[CASE][train_X_case[CASE][col[4]]>1200].index)   \n",
        "\n",
        "    # ec 관측치\n",
        "    noise[i].append(train_X_case[CASE][train_X_case[CASE][col[5]]<0].index)    \n",
        "    noise[i].append(train_X_case[CASE][train_X_case[CASE][col[5]]>8].index)   \n",
        "\n",
        "    # 시간당 분무량\n",
        "    noise[i].append(train_X_case[CASE][train_X_case[CASE][col[6]]<0].index)    \n",
        "    noise[i].append(train_X_case[CASE][train_X_case[CASE][col[6]]>3000].index)   \n",
        "\n",
        "    # 누적 분무량\n",
        "    noise[i].append(train_X_case[CASE][train_X_case[CASE][col[7]]<0].index)    \n",
        "    noise[i].append(train_X_case[CASE][train_X_case[CASE][col[7]]>72000].index)   \n",
        "\n",
        "    # 시간당 백색광량\n",
        "    noise[i].append(train_X_case[CASE][train_X_case[CASE][col[8]]<0].index)    \n",
        "    noise[i].append(train_X_case[CASE][train_X_case[CASE][col[8]]>120000].index)   \n",
        "\n",
        "    # 일간 누적 백색광량\n",
        "    noise[i].append(train_X_case[CASE][train_X_case[CASE][col[9]]<0].index)    \n",
        "    noise[i].append(train_X_case[CASE][train_X_case[CASE][col[9]]> 2880000].index)   \n",
        "\n",
        "    # 시간당 적색광량\n",
        "    noise[i].append(train_X_case[CASE][train_X_case[CASE][col[10]]<0].index)    \n",
        "    noise[i].append(train_X_case[CASE][train_X_case[CASE][col[10]]>120000].index)   \n",
        "\n",
        "    # 일간 누적 적색광량\n",
        "    noise[i].append(train_X_case[CASE][train_X_case[CASE][col[11]]<0].index)    \n",
        "    noise[i].append(train_X_case[CASE][train_X_case[CASE][col[11]]>2880000].index)   \n",
        "\n",
        "    # 시간당 청색광량\n",
        "    noise[i].append(train_X_case[CASE][train_X_case[CASE][col[12]]<0].index)    \n",
        "    noise[i].append(train_X_case[CASE][train_X_case[CASE][col[12]]>120000].index)   \n",
        "\n",
        "    # 일간 누적 청색광량\n",
        "    noise[i].append(train_X_case[CASE][train_X_case[CASE][col[13]]<0].index)    \n",
        "    noise[i].append(train_X_case[CASE][train_X_case[CASE][col[13]]>2880000].index)   \n",
        "\n",
        "    # 시간당 총광량\n",
        "    noise[i].append(train_X_case[CASE][train_X_case[CASE][col[14]]<0].index)    \n",
        "    noise[i].append(train_X_case[CASE][train_X_case[CASE][col[14]]>120000].index)   \n",
        "\n",
        "    # 일간 누적 총광량\n",
        "    noise[i].append(train_X_case[CASE][train_X_case[CASE][col[15]]<0].index)    \n",
        "    noise[i].append(train_X_case[CASE][train_X_case[CASE][col[15]]>2880000].index)   \n",
        "\n",
        "    # # 중복값 제거\n",
        "    # noise[i] = list(set(noise[i]))"
      ],
      "metadata": {
        "id": "hoUPUcK9x8mu"
      },
      "execution_count": 37,
      "outputs": []
    },
    {
      "cell_type": "code",
      "source": [
        "for i in range(1, 29):\n",
        "    for j in range(28):\n",
        "        if len(noise[i][j]) != 0 and len(noise[i][j])<100:\n",
        "            print(\"case{} {}\".format(i, col[j//2+2]))\n",
        "            print(noise[i][j], \"\\n\")"
      ],
      "metadata": {
        "colab": {
          "base_uri": "https://localhost:8080/"
        },
        "id": "5rhoXnHQ1Hz7",
        "outputId": "2516466e-4ed6-4f1a-bff1-ee43e53df993"
      },
      "execution_count": 38,
      "outputs": [
        {
          "output_type": "stream",
          "name": "stdout",
          "text": [
            "case1 co2관측치\n",
            "Int64Index([639, 640, 641, 642], dtype='int64') \n",
            "\n",
            "case3 co2관측치\n",
            "Int64Index([ 12,  15,  16,  17,  18,  19,  20,  36,  39,  40,  41,  42,  43,\n",
            "             44,  60,  61,  62,  63,  64,  65,  66,  67,  68,  69, 159, 160,\n",
            "            161, 162, 180, 181, 182, 183, 184, 185, 186, 187, 188, 204, 205,\n",
            "            206, 207, 208, 209, 210, 211, 212, 229, 230, 231, 232, 233, 234,\n",
            "            235, 236, 237, 252, 253, 254, 255, 256, 257, 258, 259, 260, 325,\n",
            "            326, 327, 328, 329, 330, 331, 332, 333, 334, 350, 351, 352, 353,\n",
            "            354, 355, 356, 395, 396, 397, 400, 401, 402, 403, 404, 662, 663,\n",
            "            664, 665, 666, 667, 668],\n",
            "           dtype='int64') \n",
            "\n",
            "case4 내부온도관측치\n",
            "Int64Index([15], dtype='int64') \n",
            "\n",
            "case4 내부습도관측치\n",
            "Int64Index([15], dtype='int64') \n",
            "\n",
            "case4 co2관측치\n",
            "Int64Index([549], dtype='int64') \n",
            "\n",
            "case6 시간당백색광량\n",
            "Int64Index([15], dtype='int64') \n",
            "\n",
            "case6 시간당적색광량\n",
            "Int64Index([15], dtype='int64') \n",
            "\n",
            "case6 시간당청색광량\n",
            "Int64Index([15], dtype='int64') \n",
            "\n",
            "case6 시간당총광량\n",
            "Int64Index([15], dtype='int64') \n",
            "\n",
            "case8 내부온도관측치\n",
            "Int64Index([135, 136], dtype='int64') \n",
            "\n",
            "case13 시간당분무량\n",
            "Int64Index([601, 649], dtype='int64') \n",
            "\n",
            "case13 시간당분무량\n",
            "Int64Index([524], dtype='int64') \n",
            "\n",
            "case26 내부온도관측치\n",
            "Int64Index([52, 53, 54, 55, 56, 368, 408, 409, 410, 411], dtype='int64') \n",
            "\n",
            "case27 co2관측치\n",
            "Int64Index([549], dtype='int64') \n",
            "\n"
          ]
        }
      ]
    },
    {
      "cell_type": "markdown",
      "source": [
        "일단 값이 틀린 칼럼과 인덱스는 찾았으니, 대입할 값은 나중에 처리해보자."
      ],
      "metadata": {
        "id": "cMUr_8Ak6YnT"
      }
    },
    {
      "cell_type": "markdown",
      "source": [
        "#### co2 관측치"
      ],
      "metadata": {
        "id": "KPhFUb6lHerD"
      }
    },
    {
      "cell_type": "code",
      "source": [
        "# case 1 co2관측치\n",
        "train_X_case[\"01\"].loc[[637,638, 639, 640, 641, 642, 643, 644], \"co2관측치\"]"
      ],
      "metadata": {
        "colab": {
          "base_uri": "https://localhost:8080/"
        },
        "id": "c4WVacv3-Tcp",
        "outputId": "59a83ddf-fe2f-4928-d958-72611a28d33d"
      },
      "execution_count": 39,
      "outputs": [
        {
          "output_type": "execute_result",
          "data": {
            "text/plain": [
              "637     682.600000\n",
              "638     997.916667\n",
              "639    1225.066667\n",
              "640    1220.583333\n",
              "641    1217.500000\n",
              "642    1264.366667\n",
              "643    1077.850000\n",
              "644    1043.066667\n",
              "Name: co2관측치, dtype: float64"
            ]
          },
          "metadata": {},
          "execution_count": 39
        }
      ]
    },
    {
      "cell_type": "code",
      "source": [
        "# case 3 co2관측치\n",
        "train_X_case[\"03\"].loc[[ 12,  15,  16,  17,  18,  19,  20,  36,  39,  40,  41,  42,  43,\n",
        "             44,  60,  61,  62,  63,  64,  65,  66,  67,  68,  69, 159, 160,\n",
        "            161, 162, 180, 181, 182, 183, 184, 185, 186, 187, 188, 204, 205,\n",
        "            206, 207, 208, 209, 210, 211, 212, 229, 230, 231, 232, 233, 234,\n",
        "            235, 236, 237, 252, 253, 254, 255, 256, 257, 258, 259, 260, 325,\n",
        "            326, 327, 328, 329, 330, 331, 332, 333, 334, 350, 351, 352, 353,\n",
        "            354, 355, 356, 395, 396, 397, 400, 401, 402, 403, 404, 662, 663,\n",
        "            664, 665, 666, 667, 668], \"co2관측치\"]"
      ],
      "metadata": {
        "colab": {
          "base_uri": "https://localhost:8080/"
        },
        "id": "vh2pz0Qa80Wh",
        "outputId": "03ef9511-cc4a-4959-c509-d3f748e75c6a"
      },
      "execution_count": 40,
      "outputs": [
        {
          "output_type": "execute_result",
          "data": {
            "text/plain": [
              "12     1219.633333\n",
              "15     1260.616667\n",
              "16     1261.050000\n",
              "17     1253.816667\n",
              "18     1343.500000\n",
              "          ...     \n",
              "664    1252.683333\n",
              "665    1263.350000\n",
              "666    1358.550000\n",
              "667    1360.933333\n",
              "668    1232.433333\n",
              "Name: co2관측치, Length: 96, dtype: float64"
            ]
          },
          "metadata": {},
          "execution_count": 40
        }
      ]
    },
    {
      "cell_type": "code",
      "source": [
        "# 케이스4 co2 관측치\n",
        "train_X_case[\"04\"].loc[[548, 549, 550], \"co2관측치\"]"
      ],
      "metadata": {
        "colab": {
          "base_uri": "https://localhost:8080/"
        },
        "id": "5CAjbX_T_wAk",
        "outputId": "77836047-9b0c-4d54-c217-ae134ff14977"
      },
      "execution_count": 41,
      "outputs": [
        {
          "output_type": "execute_result",
          "data": {
            "text/plain": [
              "548    1034.866667\n",
              "549    1311.500000\n",
              "550     953.683333\n",
              "Name: co2관측치, dtype: float64"
            ]
          },
          "metadata": {},
          "execution_count": 41
        }
      ]
    },
    {
      "cell_type": "code",
      "source": [
        "# case 27 co2 관측치\n",
        "train_X_case[\"27\"].loc[[548,549,550], \"co2관측치\"]"
      ],
      "metadata": {
        "colab": {
          "base_uri": "https://localhost:8080/"
        },
        "id": "DmZ5fO3gALtd",
        "outputId": "4a717d2b-3b66-4d50-bc98-0d7ae558e781"
      },
      "execution_count": 42,
      "outputs": [
        {
          "output_type": "execute_result",
          "data": {
            "text/plain": [
              "548    1074.100000\n",
              "549    1355.116667\n",
              "550    1058.033333\n",
              "Name: co2관측치, dtype: float64"
            ]
          },
          "metadata": {},
          "execution_count": 42
        }
      ]
    },
    {
      "cell_type": "markdown",
      "source": [
        "**이 정도 co2관측량 오차는 수용될 수 있는 부분인 것 같다. 허용범위 내에 값이 아니더라도 물리적으로 가능한 값이기 때문에 그냥 넣겠다.**"
      ],
      "metadata": {
        "id": "ZeYXxrvo-HUo"
      }
    },
    {
      "cell_type": "markdown",
      "source": [
        "#### 내부온도관측치"
      ],
      "metadata": {
        "id": "WNO9C-zjHhXK"
      }
    },
    {
      "cell_type": "code",
      "source": [
        "# case 4\n",
        "train_X_case[\"04\"].loc[[14,15,16], \"내부온도관측치\"]"
      ],
      "metadata": {
        "colab": {
          "base_uri": "https://localhost:8080/"
        },
        "id": "wiZsLX5u-8Ys",
        "outputId": "9cfe7e14-47c2-4173-f914-9d794ffe9b77"
      },
      "execution_count": 43,
      "outputs": [
        {
          "output_type": "execute_result",
          "data": {
            "text/plain": [
              "14     6.921053\n",
              "15     0.000000\n",
              "16    16.516215\n",
              "Name: 내부온도관측치, dtype: float64"
            ]
          },
          "metadata": {},
          "execution_count": 43
        }
      ]
    },
    {
      "cell_type": "markdown",
      "source": [
        "온도가 0도 인것은 말이 안되므로, 앞과 뒤 온도의 평균을 넣어주겠다."
      ],
      "metadata": {
        "id": "p8ihSFwL_Liz"
      }
    },
    {
      "cell_type": "code",
      "source": [
        "train_X_case[\"04\"].loc[[15], \"내부온도관측치\"] = (6.921053+16.516215)/2"
      ],
      "metadata": {
        "id": "thba_PNN_TYz"
      },
      "execution_count": 44,
      "outputs": []
    },
    {
      "cell_type": "code",
      "source": [
        "# case 8\n",
        "train_X_case[\"08\"].loc[[134,135,136,137], \"내부온도관측치\"]"
      ],
      "metadata": {
        "colab": {
          "base_uri": "https://localhost:8080/"
        },
        "id": "RLyBjdrPBrRr",
        "outputId": "d4d2d51c-f726-4154-8c0f-b21454b11cf9"
      },
      "execution_count": 45,
      "outputs": [
        {
          "output_type": "execute_result",
          "data": {
            "text/plain": [
              "134    39.278333\n",
              "135    40.033333\n",
              "136    40.363333\n",
              "137    38.435000\n",
              "Name: 내부온도관측치, dtype: float64"
            ]
          },
          "metadata": {},
          "execution_count": 45
        }
      ]
    },
    {
      "cell_type": "markdown",
      "source": [
        "추세를 봤을 때, 큰 오차는 아니므로 그냥 유지하겠다."
      ],
      "metadata": {
        "id": "QxbkwMEXB4XF"
      }
    },
    {
      "cell_type": "code",
      "source": [
        "# case 26\n",
        "train_X_case[\"26\"].loc[[51, 52, 53, 54, 55, 56, 368, 408, 409, 410, 411], \"내부온도관측치\"]"
      ],
      "metadata": {
        "colab": {
          "base_uri": "https://localhost:8080/"
        },
        "id": "KS9z6JN7IEqH",
        "outputId": "18c75d90-12f1-4843-db88-8017b836d701"
      },
      "execution_count": 46,
      "outputs": [
        {
          "output_type": "execute_result",
          "data": {
            "text/plain": [
              "51     39.935001\n",
              "52     40.713333\n",
              "53     40.293333\n",
              "54     40.428333\n",
              "55     41.216666\n",
              "56     42.643334\n",
              "368    40.611667\n",
              "408    40.143333\n",
              "409    40.109999\n",
              "410    40.415001\n",
              "411    40.101667\n",
              "Name: 내부온도관측치, dtype: float64"
            ]
          },
          "metadata": {},
          "execution_count": 46
        }
      ]
    },
    {
      "cell_type": "markdown",
      "source": [
        "추세를 봤을 때, 큰 오차는 아니므로 그냥 유지하겠다."
      ],
      "metadata": {
        "id": "HnzNK0y-IWjy"
      }
    },
    {
      "cell_type": "markdown",
      "source": [
        "#### ec관측치"
      ],
      "metadata": {
        "id": "thGqUYjoIg8J"
      }
    },
    {
      "cell_type": "code",
      "source": [
        "# case1\n",
        "train_X_case[\"01\"].loc[[64,643,644,645, 646, 647, 648, 649, 650, 651, 652, 653, 655, 656, 657, 658, 659,\n",
        "            660, 661, 662, 663, 664, 665, 666, 667, 668, 669, 670, 671], \"ec관측치\"]"
      ],
      "metadata": {
        "colab": {
          "base_uri": "https://localhost:8080/"
        },
        "id": "prZhbMHqIjWI",
        "outputId": "b182941b-d413-48e2-885d-7805fd9ee322"
      },
      "execution_count": 47,
      "outputs": [
        {
          "output_type": "execute_result",
          "data": {
            "text/plain": [
              "64     1.398022\n",
              "643    0.039426\n",
              "644    0.012940\n",
              "645    0.018853\n",
              "646    0.000000\n",
              "647    0.000000\n",
              "648    0.000000\n",
              "649    0.000000\n",
              "650    0.000000\n",
              "651    0.000000\n",
              "652    0.000000\n",
              "653    0.000000\n",
              "655    0.000000\n",
              "656    0.000000\n",
              "657    0.000000\n",
              "658    0.000000\n",
              "659    0.000000\n",
              "660    0.000000\n",
              "661    0.000000\n",
              "662    0.000000\n",
              "663    0.000000\n",
              "664    0.000000\n",
              "665    0.000000\n",
              "666    0.000000\n",
              "667    0.000000\n",
              "668    0.000000\n",
              "669    0.000000\n",
              "670    0.000000\n",
              "671    0.000000\n",
              "Name: ec관측치, dtype: float64"
            ]
          },
          "metadata": {},
          "execution_count": 47
        }
      ]
    },
    {
      "cell_type": "markdown",
      "source": [
        "실험의 마지막 즈음에 추세를 고려해서 ec관측치가 낮게 나타날 수는 있을 것 같다."
      ],
      "metadata": {
        "id": "kk76ju3YJJrt"
      }
    },
    {
      "cell_type": "code",
      "source": [
        "# case 3\n",
        "train_X_case[\"05\"].loc[[39,  40,  41,  42,  43,  44,  45, 245, 246, 247, 271, 272, 273,\n",
        "            302, 303, 321, 322, 337, 338, 339, 340, 353, 354, 355, 356, 367,\n",
        "            368, 369, 370, 377, 378, 379, 396, 397, 405, 406, 407, 408, 409,\n",
        "            425, 426, 427, 428, 429, 440, 452, 453, 454, 455, 456, 457, 466,\n",
        "            467, 473, 474, 475, 483, 484, 485, 486, 487, 488, 581], \"ec관측치\"]"
      ],
      "metadata": {
        "colab": {
          "base_uri": "https://localhost:8080/"
        },
        "id": "GewMjCO8IjSc",
        "outputId": "d6640a34-919f-4bad-cc66-598c24c606b8"
      },
      "execution_count": 48,
      "outputs": [
        {
          "output_type": "execute_result",
          "data": {
            "text/plain": [
              "39     0.0\n",
              "40     0.0\n",
              "41     0.0\n",
              "42     0.0\n",
              "43     0.0\n",
              "      ... \n",
              "485    0.0\n",
              "486    0.0\n",
              "487    0.0\n",
              "488    0.0\n",
              "581    0.0\n",
              "Name: ec관측치, Length: 63, dtype: float64"
            ]
          },
          "metadata": {},
          "execution_count": 48
        }
      ]
    },
    {
      "cell_type": "markdown",
      "source": [
        "ec관측치가 0인 것이 의심스러워서 따로 살펴봤으나, 의도된 것인 것 같다. 나머지는 살펴보지 않아도 될 듯하다."
      ],
      "metadata": {
        "id": "5mlSU2L5IjPI"
      }
    },
    {
      "cell_type": "markdown",
      "source": [
        "#### 광량"
      ],
      "metadata": {
        "id": "dKvBNYEKHmY3"
      }
    },
    {
      "cell_type": "code",
      "source": [
        "train_X_case[\"06\"].loc[[14, 15, 16], [\"시간당백색광량\", \"시간당적색광량\", \"시간당청색광량\", \"시간당총광량\"]]"
      ],
      "metadata": {
        "colab": {
          "base_uri": "https://localhost:8080/",
          "height": 0
        },
        "id": "4UQDU8WJAcMI",
        "outputId": "4c0fe3f8-f656-4a23-bd34-32b8e9fd95d2"
      },
      "execution_count": 49,
      "outputs": [
        {
          "output_type": "execute_result",
          "data": {
            "text/plain": [
              "        시간당백색광량    시간당적색광량     시간당청색광량       시간당총광량\n",
              "14   18255.1900  1659.7644   3419.6695   23334.6239\n",
              "15 -138371.2461 -8793.6072 -18570.8575 -165735.7108\n",
              "16   17744.6635  2128.0728   3223.8570   23096.5933"
            ],
            "text/html": [
              "\n",
              "  <div id=\"df-a86b5fde-f869-46fd-b3b2-da3e15f7b53f\">\n",
              "    <div class=\"colab-df-container\">\n",
              "      <div>\n",
              "<style scoped>\n",
              "    .dataframe tbody tr th:only-of-type {\n",
              "        vertical-align: middle;\n",
              "    }\n",
              "\n",
              "    .dataframe tbody tr th {\n",
              "        vertical-align: top;\n",
              "    }\n",
              "\n",
              "    .dataframe thead th {\n",
              "        text-align: right;\n",
              "    }\n",
              "</style>\n",
              "<table border=\"1\" class=\"dataframe\">\n",
              "  <thead>\n",
              "    <tr style=\"text-align: right;\">\n",
              "      <th></th>\n",
              "      <th>시간당백색광량</th>\n",
              "      <th>시간당적색광량</th>\n",
              "      <th>시간당청색광량</th>\n",
              "      <th>시간당총광량</th>\n",
              "    </tr>\n",
              "  </thead>\n",
              "  <tbody>\n",
              "    <tr>\n",
              "      <th>14</th>\n",
              "      <td>18255.1900</td>\n",
              "      <td>1659.7644</td>\n",
              "      <td>3419.6695</td>\n",
              "      <td>23334.6239</td>\n",
              "    </tr>\n",
              "    <tr>\n",
              "      <th>15</th>\n",
              "      <td>-138371.2461</td>\n",
              "      <td>-8793.6072</td>\n",
              "      <td>-18570.8575</td>\n",
              "      <td>-165735.7108</td>\n",
              "    </tr>\n",
              "    <tr>\n",
              "      <th>16</th>\n",
              "      <td>17744.6635</td>\n",
              "      <td>2128.0728</td>\n",
              "      <td>3223.8570</td>\n",
              "      <td>23096.5933</td>\n",
              "    </tr>\n",
              "  </tbody>\n",
              "</table>\n",
              "</div>\n",
              "      <button class=\"colab-df-convert\" onclick=\"convertToInteractive('df-a86b5fde-f869-46fd-b3b2-da3e15f7b53f')\"\n",
              "              title=\"Convert this dataframe to an interactive table.\"\n",
              "              style=\"display:none;\">\n",
              "        \n",
              "  <svg xmlns=\"http://www.w3.org/2000/svg\" height=\"24px\"viewBox=\"0 0 24 24\"\n",
              "       width=\"24px\">\n",
              "    <path d=\"M0 0h24v24H0V0z\" fill=\"none\"/>\n",
              "    <path d=\"M18.56 5.44l.94 2.06.94-2.06 2.06-.94-2.06-.94-.94-2.06-.94 2.06-2.06.94zm-11 1L8.5 8.5l.94-2.06 2.06-.94-2.06-.94L8.5 2.5l-.94 2.06-2.06.94zm10 10l.94 2.06.94-2.06 2.06-.94-2.06-.94-.94-2.06-.94 2.06-2.06.94z\"/><path d=\"M17.41 7.96l-1.37-1.37c-.4-.4-.92-.59-1.43-.59-.52 0-1.04.2-1.43.59L10.3 9.45l-7.72 7.72c-.78.78-.78 2.05 0 2.83L4 21.41c.39.39.9.59 1.41.59.51 0 1.02-.2 1.41-.59l7.78-7.78 2.81-2.81c.8-.78.8-2.07 0-2.86zM5.41 20L4 18.59l7.72-7.72 1.47 1.35L5.41 20z\"/>\n",
              "  </svg>\n",
              "      </button>\n",
              "      \n",
              "  <style>\n",
              "    .colab-df-container {\n",
              "      display:flex;\n",
              "      flex-wrap:wrap;\n",
              "      gap: 12px;\n",
              "    }\n",
              "\n",
              "    .colab-df-convert {\n",
              "      background-color: #E8F0FE;\n",
              "      border: none;\n",
              "      border-radius: 50%;\n",
              "      cursor: pointer;\n",
              "      display: none;\n",
              "      fill: #1967D2;\n",
              "      height: 32px;\n",
              "      padding: 0 0 0 0;\n",
              "      width: 32px;\n",
              "    }\n",
              "\n",
              "    .colab-df-convert:hover {\n",
              "      background-color: #E2EBFA;\n",
              "      box-shadow: 0px 1px 2px rgba(60, 64, 67, 0.3), 0px 1px 3px 1px rgba(60, 64, 67, 0.15);\n",
              "      fill: #174EA6;\n",
              "    }\n",
              "\n",
              "    [theme=dark] .colab-df-convert {\n",
              "      background-color: #3B4455;\n",
              "      fill: #D2E3FC;\n",
              "    }\n",
              "\n",
              "    [theme=dark] .colab-df-convert:hover {\n",
              "      background-color: #434B5C;\n",
              "      box-shadow: 0px 1px 3px 1px rgba(0, 0, 0, 0.15);\n",
              "      filter: drop-shadow(0px 1px 2px rgba(0, 0, 0, 0.3));\n",
              "      fill: #FFFFFF;\n",
              "    }\n",
              "  </style>\n",
              "\n",
              "      <script>\n",
              "        const buttonEl =\n",
              "          document.querySelector('#df-a86b5fde-f869-46fd-b3b2-da3e15f7b53f button.colab-df-convert');\n",
              "        buttonEl.style.display =\n",
              "          google.colab.kernel.accessAllowed ? 'block' : 'none';\n",
              "\n",
              "        async function convertToInteractive(key) {\n",
              "          const element = document.querySelector('#df-a86b5fde-f869-46fd-b3b2-da3e15f7b53f');\n",
              "          const dataTable =\n",
              "            await google.colab.kernel.invokeFunction('convertToInteractive',\n",
              "                                                     [key], {});\n",
              "          if (!dataTable) return;\n",
              "\n",
              "          const docLinkHtml = 'Like what you see? Visit the ' +\n",
              "            '<a target=\"_blank\" href=https://colab.research.google.com/notebooks/data_table.ipynb>data table notebook</a>'\n",
              "            + ' to learn more about interactive tables.';\n",
              "          element.innerHTML = '';\n",
              "          dataTable['output_type'] = 'display_data';\n",
              "          await google.colab.output.renderOutput(dataTable, element);\n",
              "          const docLink = document.createElement('div');\n",
              "          docLink.innerHTML = docLinkHtml;\n",
              "          element.appendChild(docLink);\n",
              "        }\n",
              "      </script>\n",
              "    </div>\n",
              "  </div>\n",
              "  "
            ]
          },
          "metadata": {},
          "execution_count": 49
        }
      ]
    },
    {
      "cell_type": "markdown",
      "source": [
        "15번째 인덱스의 음수컬럼은 말이 안되기 때문에 이전과 이후의 평균값을 넣어주겠다."
      ],
      "metadata": {
        "id": "Jf2S2ekoAuV8"
      }
    },
    {
      "cell_type": "code",
      "source": [
        "insert_value = (np.array([18255.1900,1659.7644,3419.6695,23334.6239]) + np.array([17744.6635,2128.0728,3223.8570,23096.5933]))/2"
      ],
      "metadata": {
        "id": "CR3lbmW4BRkw"
      },
      "execution_count": 50,
      "outputs": []
    },
    {
      "cell_type": "code",
      "source": [
        "train_X_case[\"06\"].loc[[15], [\"시간당백색광량\", \"시간당적색광량\", \"시간당청색광량\", \"시간당총광량\"]] = insert_value"
      ],
      "metadata": {
        "id": "nz4LFj6YA1Ja"
      },
      "execution_count": 51,
      "outputs": []
    },
    {
      "cell_type": "markdown",
      "source": [
        "#### 시간당 분무량"
      ],
      "metadata": {
        "id": "Lln4BUw4K37U"
      }
    },
    {
      "cell_type": "code",
      "source": [
        "# case 13\n",
        "train_X_case[\"13\"].loc[[523,524,525,600,601,602,648,649,650], \"시간당분무량\"]"
      ],
      "metadata": {
        "colab": {
          "base_uri": "https://localhost:8080/"
        },
        "id": "sGaCE1aTB-ML",
        "outputId": "8f7bca4c-fcdf-4dee-ad45-aa805f5bf44c"
      },
      "execution_count": 52,
      "outputs": [
        {
          "output_type": "execute_result",
          "data": {
            "text/plain": [
              "523    1171.49\n",
              "524    3144.13\n",
              "525     769.00\n",
              "600     537.52\n",
              "601    -537.52\n",
              "602    1415.83\n",
              "648     653.26\n",
              "649    -653.26\n",
              "650    1415.83\n",
              "Name: 시간당분무량, dtype: float64"
            ]
          },
          "metadata": {},
          "execution_count": 52
        }
      ]
    },
    {
      "cell_type": "markdown",
      "source": [
        "시간당  분무량도 어느정도 선형적인 값이므로, 이전과 이후의 평균을 넣어주겠다."
      ],
      "metadata": {
        "id": "o3FQZHXvCXzX"
      }
    },
    {
      "cell_type": "code",
      "source": [
        "train_X_case[\"13\"].loc[[524], \"시간당분무량\"] = (1171.49+769)/2\n",
        "train_X_case[\"13\"].loc[[601], \"시간당분무량\"] = (537.52+1415.83)/2\n",
        "train_X_case[\"13\"].loc[[649], \"시간당분무량\"] = (635.26+1415.83)/2"
      ],
      "metadata": {
        "id": "snJBitNmCgkQ"
      },
      "execution_count": 53,
      "outputs": []
    },
    {
      "cell_type": "markdown",
      "source": [
        "#### 내부습도관측치"
      ],
      "metadata": {
        "id": "9IABMSkhLsCQ"
      }
    },
    {
      "cell_type": "code",
      "source": [
        "# case4\n",
        "train_X_case[\"04\"].loc[[14,15,16], \"내부습도관측치\"]"
      ],
      "metadata": {
        "colab": {
          "base_uri": "https://localhost:8080/"
        },
        "id": "qBva1bLYLxNn",
        "outputId": "49323e50-3598-4337-9891-be566ad27534"
      },
      "execution_count": 54,
      "outputs": [
        {
          "output_type": "execute_result",
          "data": {
            "text/plain": [
              "14     9.639473\n",
              "15     0.000000\n",
              "16    32.157695\n",
              "Name: 내부습도관측치, dtype: float64"
            ]
          },
          "metadata": {},
          "execution_count": 54
        }
      ]
    },
    {
      "cell_type": "markdown",
      "source": [
        "이렇게 갑자기 0이되는건 이상하다 생각되기 때문에 이전과 이후의 평균을 채워주겠다."
      ],
      "metadata": {
        "id": "7w3QqkXiL5nJ"
      }
    },
    {
      "cell_type": "code",
      "source": [
        "train_X_case[\"04\"].loc[[14,15,16], \"내부습도관측치\"] = (9.639473+32.157695)/2"
      ],
      "metadata": {
        "id": "37BxoYX3MC9I"
      },
      "execution_count": 55,
      "outputs": []
    },
    {
      "cell_type": "markdown",
      "source": [
        "### 다시 데이터셋을 합치고 나누기\n",
        "noise데이터를 처리했기 때문에 다시 데이터셋을 생성해준다."
      ],
      "metadata": {
        "id": "lT9hxF_4MZPi"
      }
    },
    {
      "cell_type": "markdown",
      "source": [
        "### 다시 데이터셋 합치기 train_all_X(DF)\n",
        "모든데이터를 합친다."
      ],
      "metadata": {
        "id": "Href82SLMgWy"
      }
    },
    {
      "cell_type": "code",
      "source": [
        "train_all_X = pd.DataFrame()\n",
        "\n",
        "for i in range(1,29):\n",
        "    CASE = str(i).zfill(2)\n",
        "    train_all_X = train_all_X.append(train_X_case[CASE])"
      ],
      "metadata": {
        "id": "aLTJmUL6MgWz"
      },
      "execution_count": 56,
      "outputs": []
    },
    {
      "cell_type": "code",
      "source": [
        "train_all_X.shape"
      ],
      "metadata": {
        "colab": {
          "base_uri": "https://localhost:8080/"
        },
        "outputId": "3d4b7e02-8f99-468f-c56c-d296358c4c83",
        "id": "1Yq0cJgiMgW0"
      },
      "execution_count": 57,
      "outputs": [
        {
          "output_type": "execute_result",
          "data": {
            "text/plain": [
              "(18816, 16)"
            ]
          },
          "metadata": {},
          "execution_count": 57
        }
      ]
    },
    {
      "cell_type": "code",
      "source": [],
      "metadata": {
        "id": "dohS8IKwaFJ1"
      },
      "execution_count": 57,
      "outputs": []
    },
    {
      "cell_type": "markdown",
      "source": [
        "### 다시 데이터셋 나누기 train_X_case_day(list)\n",
        "\n",
        "각 상추의 28일치 데이터를 분리해서 저장한다."
      ],
      "metadata": {
        "id": "sOsS5akhMmKF"
      }
    },
    {
      "cell_type": "code",
      "source": [
        "# train_X_case_day[x][y] 를 입력하면 x 케이스의 y번째 날 데이터 프레임을 리턴함\n",
        "train_X_case_day = [[]]\n",
        "\n",
        "for i in range(1,29):\n",
        "    train_X_case_day.append([])\n",
        "    for j in range(1,29):\n",
        "        train_X_case_day[i].append(train_X_case[\"{}\".format(str(i).zfill(2))].iloc[24*(j-1):j*24, :])"
      ],
      "metadata": {
        "id": "_p8WXHoJMmKG"
      },
      "execution_count": 58,
      "outputs": []
    },
    {
      "cell_type": "markdown",
      "source": [
        "### 이상치 처리\n",
        "train_all_X.describe() 를 통해서 이상치의 값을 어떻게 처리할지 생각해본다."
      ],
      "metadata": {
        "id": "kDfSclhsE00n"
      }
    },
    {
      "cell_type": "code",
      "source": [
        "train_all_X.describe()"
      ],
      "metadata": {
        "id": "jN7zEZwCFcpO",
        "colab": {
          "base_uri": "https://localhost:8080/",
          "height": 382
        },
        "outputId": "a8ee9196-6c93-43c3-8a65-9c8139feb946"
      },
      "execution_count": 59,
      "outputs": [
        {
          "output_type": "execute_result",
          "data": {
            "text/plain": [
              "                DAT       내부온도관측치       내부습도관측치        co2관측치         ec관측치  \\\n",
              "count  18816.000000  18816.000000  18816.000000  18816.000000  18816.000000   \n",
              "mean      13.500000     26.028341     63.936201    498.860695      1.507566   \n",
              "std        8.077962      3.945806     11.652230    120.421248      1.042010   \n",
              "min        0.000000      6.921053     15.348148     60.400000      0.000000   \n",
              "25%        6.750000     23.971250     57.494583    420.245833      0.929581   \n",
              "50%       13.500000     26.291667     62.118333    473.983333      1.308517   \n",
              "75%       20.250000     28.106667     73.157166    551.105952      2.291322   \n",
              "max       27.000000     42.643334     93.350002   1714.850000      5.462324   \n",
              "\n",
              "             시간당분무량       일간누적분무량       시간당백색광량       일간누적백색광량       시간당적색광량  \\\n",
              "count  18816.000000  18816.000000  18816.000000   18816.000000  18816.000000   \n",
              "mean     523.682080   6365.916673   6323.873473   72910.240149   1572.430914   \n",
              "std      543.897317   6903.680044   8120.283264   86040.447105   2936.281308   \n",
              "min        0.000000      0.000000      0.000000       0.000000      0.000000   \n",
              "25%        0.000000   1234.280000      0.000000       0.000000      0.000000   \n",
              "50%      252.000000   3360.485000      0.000000   23205.750000      0.000000   \n",
              "75%      769.000000   9990.570000  18236.625400  145422.700000   1495.939200   \n",
              "max     2951.230000  42855.230000  18564.600000  292014.969800   9928.800000   \n",
              "\n",
              "            일간누적적색광량       시간당청색광량       일간누적청색광량        시간당총광량        일간누적총광량  \n",
              "count   18816.000000  18816.000000   18816.000000  18816.000000   18816.000000  \n",
              "mean    18201.358998   1243.069492   14139.184959   9139.373879  105250.784106  \n",
              "std     34386.384982   2470.253289   27743.227265   9087.008979   97397.224913  \n",
              "min         0.000000      0.000000       0.000000      0.000000       0.000000  \n",
              "25%         0.000000      0.000000       0.000000      0.000000    7280.962850  \n",
              "50%         0.000000      0.000000       0.000000   9242.350000   92172.360000  \n",
              "75%     17529.296400   1306.461000   18484.700000  18255.190000  177491.499450  \n",
              "max    200561.760000   9399.000000  190016.450000  37892.400000  559488.881000  "
            ],
            "text/html": [
              "\n",
              "  <div id=\"df-492df6bb-8a99-41be-bb1f-e661541bf661\">\n",
              "    <div class=\"colab-df-container\">\n",
              "      <div>\n",
              "<style scoped>\n",
              "    .dataframe tbody tr th:only-of-type {\n",
              "        vertical-align: middle;\n",
              "    }\n",
              "\n",
              "    .dataframe tbody tr th {\n",
              "        vertical-align: top;\n",
              "    }\n",
              "\n",
              "    .dataframe thead th {\n",
              "        text-align: right;\n",
              "    }\n",
              "</style>\n",
              "<table border=\"1\" class=\"dataframe\">\n",
              "  <thead>\n",
              "    <tr style=\"text-align: right;\">\n",
              "      <th></th>\n",
              "      <th>DAT</th>\n",
              "      <th>내부온도관측치</th>\n",
              "      <th>내부습도관측치</th>\n",
              "      <th>co2관측치</th>\n",
              "      <th>ec관측치</th>\n",
              "      <th>시간당분무량</th>\n",
              "      <th>일간누적분무량</th>\n",
              "      <th>시간당백색광량</th>\n",
              "      <th>일간누적백색광량</th>\n",
              "      <th>시간당적색광량</th>\n",
              "      <th>일간누적적색광량</th>\n",
              "      <th>시간당청색광량</th>\n",
              "      <th>일간누적청색광량</th>\n",
              "      <th>시간당총광량</th>\n",
              "      <th>일간누적총광량</th>\n",
              "    </tr>\n",
              "  </thead>\n",
              "  <tbody>\n",
              "    <tr>\n",
              "      <th>count</th>\n",
              "      <td>18816.000000</td>\n",
              "      <td>18816.000000</td>\n",
              "      <td>18816.000000</td>\n",
              "      <td>18816.000000</td>\n",
              "      <td>18816.000000</td>\n",
              "      <td>18816.000000</td>\n",
              "      <td>18816.000000</td>\n",
              "      <td>18816.000000</td>\n",
              "      <td>18816.000000</td>\n",
              "      <td>18816.000000</td>\n",
              "      <td>18816.000000</td>\n",
              "      <td>18816.000000</td>\n",
              "      <td>18816.000000</td>\n",
              "      <td>18816.000000</td>\n",
              "      <td>18816.000000</td>\n",
              "    </tr>\n",
              "    <tr>\n",
              "      <th>mean</th>\n",
              "      <td>13.500000</td>\n",
              "      <td>26.028341</td>\n",
              "      <td>63.936201</td>\n",
              "      <td>498.860695</td>\n",
              "      <td>1.507566</td>\n",
              "      <td>523.682080</td>\n",
              "      <td>6365.916673</td>\n",
              "      <td>6323.873473</td>\n",
              "      <td>72910.240149</td>\n",
              "      <td>1572.430914</td>\n",
              "      <td>18201.358998</td>\n",
              "      <td>1243.069492</td>\n",
              "      <td>14139.184959</td>\n",
              "      <td>9139.373879</td>\n",
              "      <td>105250.784106</td>\n",
              "    </tr>\n",
              "    <tr>\n",
              "      <th>std</th>\n",
              "      <td>8.077962</td>\n",
              "      <td>3.945806</td>\n",
              "      <td>11.652230</td>\n",
              "      <td>120.421248</td>\n",
              "      <td>1.042010</td>\n",
              "      <td>543.897317</td>\n",
              "      <td>6903.680044</td>\n",
              "      <td>8120.283264</td>\n",
              "      <td>86040.447105</td>\n",
              "      <td>2936.281308</td>\n",
              "      <td>34386.384982</td>\n",
              "      <td>2470.253289</td>\n",
              "      <td>27743.227265</td>\n",
              "      <td>9087.008979</td>\n",
              "      <td>97397.224913</td>\n",
              "    </tr>\n",
              "    <tr>\n",
              "      <th>min</th>\n",
              "      <td>0.000000</td>\n",
              "      <td>6.921053</td>\n",
              "      <td>15.348148</td>\n",
              "      <td>60.400000</td>\n",
              "      <td>0.000000</td>\n",
              "      <td>0.000000</td>\n",
              "      <td>0.000000</td>\n",
              "      <td>0.000000</td>\n",
              "      <td>0.000000</td>\n",
              "      <td>0.000000</td>\n",
              "      <td>0.000000</td>\n",
              "      <td>0.000000</td>\n",
              "      <td>0.000000</td>\n",
              "      <td>0.000000</td>\n",
              "      <td>0.000000</td>\n",
              "    </tr>\n",
              "    <tr>\n",
              "      <th>25%</th>\n",
              "      <td>6.750000</td>\n",
              "      <td>23.971250</td>\n",
              "      <td>57.494583</td>\n",
              "      <td>420.245833</td>\n",
              "      <td>0.929581</td>\n",
              "      <td>0.000000</td>\n",
              "      <td>1234.280000</td>\n",
              "      <td>0.000000</td>\n",
              "      <td>0.000000</td>\n",
              "      <td>0.000000</td>\n",
              "      <td>0.000000</td>\n",
              "      <td>0.000000</td>\n",
              "      <td>0.000000</td>\n",
              "      <td>0.000000</td>\n",
              "      <td>7280.962850</td>\n",
              "    </tr>\n",
              "    <tr>\n",
              "      <th>50%</th>\n",
              "      <td>13.500000</td>\n",
              "      <td>26.291667</td>\n",
              "      <td>62.118333</td>\n",
              "      <td>473.983333</td>\n",
              "      <td>1.308517</td>\n",
              "      <td>252.000000</td>\n",
              "      <td>3360.485000</td>\n",
              "      <td>0.000000</td>\n",
              "      <td>23205.750000</td>\n",
              "      <td>0.000000</td>\n",
              "      <td>0.000000</td>\n",
              "      <td>0.000000</td>\n",
              "      <td>0.000000</td>\n",
              "      <td>9242.350000</td>\n",
              "      <td>92172.360000</td>\n",
              "    </tr>\n",
              "    <tr>\n",
              "      <th>75%</th>\n",
              "      <td>20.250000</td>\n",
              "      <td>28.106667</td>\n",
              "      <td>73.157166</td>\n",
              "      <td>551.105952</td>\n",
              "      <td>2.291322</td>\n",
              "      <td>769.000000</td>\n",
              "      <td>9990.570000</td>\n",
              "      <td>18236.625400</td>\n",
              "      <td>145422.700000</td>\n",
              "      <td>1495.939200</td>\n",
              "      <td>17529.296400</td>\n",
              "      <td>1306.461000</td>\n",
              "      <td>18484.700000</td>\n",
              "      <td>18255.190000</td>\n",
              "      <td>177491.499450</td>\n",
              "    </tr>\n",
              "    <tr>\n",
              "      <th>max</th>\n",
              "      <td>27.000000</td>\n",
              "      <td>42.643334</td>\n",
              "      <td>93.350002</td>\n",
              "      <td>1714.850000</td>\n",
              "      <td>5.462324</td>\n",
              "      <td>2951.230000</td>\n",
              "      <td>42855.230000</td>\n",
              "      <td>18564.600000</td>\n",
              "      <td>292014.969800</td>\n",
              "      <td>9928.800000</td>\n",
              "      <td>200561.760000</td>\n",
              "      <td>9399.000000</td>\n",
              "      <td>190016.450000</td>\n",
              "      <td>37892.400000</td>\n",
              "      <td>559488.881000</td>\n",
              "    </tr>\n",
              "  </tbody>\n",
              "</table>\n",
              "</div>\n",
              "      <button class=\"colab-df-convert\" onclick=\"convertToInteractive('df-492df6bb-8a99-41be-bb1f-e661541bf661')\"\n",
              "              title=\"Convert this dataframe to an interactive table.\"\n",
              "              style=\"display:none;\">\n",
              "        \n",
              "  <svg xmlns=\"http://www.w3.org/2000/svg\" height=\"24px\"viewBox=\"0 0 24 24\"\n",
              "       width=\"24px\">\n",
              "    <path d=\"M0 0h24v24H0V0z\" fill=\"none\"/>\n",
              "    <path d=\"M18.56 5.44l.94 2.06.94-2.06 2.06-.94-2.06-.94-.94-2.06-.94 2.06-2.06.94zm-11 1L8.5 8.5l.94-2.06 2.06-.94-2.06-.94L8.5 2.5l-.94 2.06-2.06.94zm10 10l.94 2.06.94-2.06 2.06-.94-2.06-.94-.94-2.06-.94 2.06-2.06.94z\"/><path d=\"M17.41 7.96l-1.37-1.37c-.4-.4-.92-.59-1.43-.59-.52 0-1.04.2-1.43.59L10.3 9.45l-7.72 7.72c-.78.78-.78 2.05 0 2.83L4 21.41c.39.39.9.59 1.41.59.51 0 1.02-.2 1.41-.59l7.78-7.78 2.81-2.81c.8-.78.8-2.07 0-2.86zM5.41 20L4 18.59l7.72-7.72 1.47 1.35L5.41 20z\"/>\n",
              "  </svg>\n",
              "      </button>\n",
              "      \n",
              "  <style>\n",
              "    .colab-df-container {\n",
              "      display:flex;\n",
              "      flex-wrap:wrap;\n",
              "      gap: 12px;\n",
              "    }\n",
              "\n",
              "    .colab-df-convert {\n",
              "      background-color: #E8F0FE;\n",
              "      border: none;\n",
              "      border-radius: 50%;\n",
              "      cursor: pointer;\n",
              "      display: none;\n",
              "      fill: #1967D2;\n",
              "      height: 32px;\n",
              "      padding: 0 0 0 0;\n",
              "      width: 32px;\n",
              "    }\n",
              "\n",
              "    .colab-df-convert:hover {\n",
              "      background-color: #E2EBFA;\n",
              "      box-shadow: 0px 1px 2px rgba(60, 64, 67, 0.3), 0px 1px 3px 1px rgba(60, 64, 67, 0.15);\n",
              "      fill: #174EA6;\n",
              "    }\n",
              "\n",
              "    [theme=dark] .colab-df-convert {\n",
              "      background-color: #3B4455;\n",
              "      fill: #D2E3FC;\n",
              "    }\n",
              "\n",
              "    [theme=dark] .colab-df-convert:hover {\n",
              "      background-color: #434B5C;\n",
              "      box-shadow: 0px 1px 3px 1px rgba(0, 0, 0, 0.15);\n",
              "      filter: drop-shadow(0px 1px 2px rgba(0, 0, 0, 0.3));\n",
              "      fill: #FFFFFF;\n",
              "    }\n",
              "  </style>\n",
              "\n",
              "      <script>\n",
              "        const buttonEl =\n",
              "          document.querySelector('#df-492df6bb-8a99-41be-bb1f-e661541bf661 button.colab-df-convert');\n",
              "        buttonEl.style.display =\n",
              "          google.colab.kernel.accessAllowed ? 'block' : 'none';\n",
              "\n",
              "        async function convertToInteractive(key) {\n",
              "          const element = document.querySelector('#df-492df6bb-8a99-41be-bb1f-e661541bf661');\n",
              "          const dataTable =\n",
              "            await google.colab.kernel.invokeFunction('convertToInteractive',\n",
              "                                                     [key], {});\n",
              "          if (!dataTable) return;\n",
              "\n",
              "          const docLinkHtml = 'Like what you see? Visit the ' +\n",
              "            '<a target=\"_blank\" href=https://colab.research.google.com/notebooks/data_table.ipynb>data table notebook</a>'\n",
              "            + ' to learn more about interactive tables.';\n",
              "          element.innerHTML = '';\n",
              "          dataTable['output_type'] = 'display_data';\n",
              "          await google.colab.output.renderOutput(dataTable, element);\n",
              "          const docLink = document.createElement('div');\n",
              "          docLink.innerHTML = docLinkHtml;\n",
              "          element.appendChild(docLink);\n",
              "        }\n",
              "      </script>\n",
              "    </div>\n",
              "  </div>\n",
              "  "
            ]
          },
          "metadata": {},
          "execution_count": 59
        }
      ]
    },
    {
      "cell_type": "markdown",
      "source": [
        "이게 범위가 있는 데이터 셋이여서 이상치라고 할만한게 없다. <br>\n",
        "모든 데이터셋을 선형적으로 관찰하면서 발견할 수는 있겠으나, 내가 그렇게 하지는 않았기 때문에 없다고 생각하겠다.\n",
        "\n",
        "test_train 데이터는 내가 노이즈값 처리를 하면서 얻은 지식을 전처리를 할 예정이다. \n",
        "\n",
        "- 광량이 음수인경우 \n",
        "- 온도가 0인 경우\n",
        "- 시간당 분무량이 음수인 경우\n",
        "- 내부 습도가 0인 경우\n",
        "\n",
        "에는 전 값을 채워넣거나, train_all_X 평균을 채워넣으면 될 듯 하다."
      ],
      "metadata": {
        "id": "5qZuTesYNAEi"
      }
    },
    {
      "cell_type": "markdown",
      "source": [
        "## 학습데이터 최종 가공\n",
        "\n",
        "2D데이터를 target데이터에 대응시킬 수 없기 때문에 시간당 데이터를 일별 데이터로 변환 하겠다.\n",
        "\n",
        "일별 데이터로 가공하는 방법은 \n",
        "1. [평균, 분산, 최대값, 최소값 사용](https://dacon.io/competitions/official/235961/codeshare/6589?page=1&dtype=recent)\n",
        "2. [중앙값 사용](https://dacon.io/competitions/official/235961/codeshare/6594?page=1&dtype=recent)\n",
        "3. [총량 사용](https://dacon.io/competitions/official/235961/codeshare/6582?page=1&dtype=recent)\n",
        "4. 누적된 총량 사용\n",
        "\n",
        "\n",
        "일단 3, 4를 해봤다.<br>\n",
        "시간이 된다면 모두 해보자."
      ],
      "metadata": {
        "id": "7VMUNB7Q0I4P"
      }
    },
    {
      "cell_type": "code",
      "source": [
        "# 하루의 총합으로 일별데이터 가공을 진행했다.\n",
        "\n",
        "train_daily_total_X =  pd.DataFrame()\n",
        "\n",
        "for CASE in range(1,29):\n",
        "    for DAY in range(0,28):\n",
        "        # series를 전치시켜서 내가 원하는 데이터프레임을 얻음.\n",
        "        total = pd.DataFrame(train_X_case_day[CASE][DAY].sum()).T.drop([\"DAT\", \"obs_time\"], axis=1)\n",
        "        train_daily_total_X = train_daily_total_X.append(total, ignore_index=True)"
      ],
      "metadata": {
        "id": "vUDvumk6U7Kp"
      },
      "execution_count": 60,
      "outputs": []
    },
    {
      "cell_type": "code",
      "source": [
        "train_daily_total = pd.concat([train_daily_total_X, train_y_all], axis=1)"
      ],
      "metadata": {
        "id": "vwaM_WFpZ7kY"
      },
      "execution_count": 61,
      "outputs": []
    },
    {
      "cell_type": "code",
      "source": [
        "train_daily_total"
      ],
      "metadata": {
        "colab": {
          "base_uri": "https://localhost:8080/",
          "height": 505
        },
        "id": "awlktt0cZ7h6",
        "outputId": "4294bc62-892e-4463-8792-af7f15559602"
      },
      "execution_count": 62,
      "outputs": [
        {
          "output_type": "execute_result",
          "data": {
            "text/plain": [
              "        내부온도관측치      내부습도관측치        co2관측치      ec관측치    시간당분무량    일간누적분무량  \\\n",
              "0    648.737022   1873.47095  12842.263095  33.446784   3961.27   46930.96   \n",
              "1    661.026031  1873.800978  12575.678161  33.226335   3980.56   48241.17   \n",
              "2     640.28356  1862.161159  12941.668079  33.425884    4093.7   48688.53   \n",
              "3    627.776043  1856.786186   18243.60791  33.631142   3980.56   48241.17   \n",
              "4    636.549377  1875.159607  12948.858192  33.691108   3935.55   45170.79   \n",
              "..          ...          ...           ...        ...       ...        ...   \n",
              "779  669.629376  1410.812712  10991.160169    27.7566  27895.87  444623.68   \n",
              "780  606.278908  1439.229598  10834.186285  28.540896   3292.69   42325.46   \n",
              "781  598.074193  1445.768736  11025.531609    28.5884   2995.68   35476.31   \n",
              "782  611.494999  1443.236666       10295.1  28.115833   2620.28   34809.38   \n",
              "783  669.162569  1439.418842    9749.84548  27.828629   2669.12    33168.5   \n",
              "\n",
              "         시간당백색광량      일간누적백색광량     시간당적색광량     일간누적적색광량     시간당청색광량  \\\n",
              "0    255677.8594  2930842.9076  13698.4344  157076.9256           0   \n",
              "1    256324.5263  2937761.3152  13708.3632  157116.6408           0   \n",
              "2    255724.2709  2930057.0062  13675.2672  156679.7736           0   \n",
              "3    256324.5263  2937761.3152  13708.3632  157116.6408           0   \n",
              "4    255829.4703  2930712.9554  13681.8864  156732.7272           0   \n",
              "..           ...           ...         ...          ...         ...   \n",
              "779   84543.1884   936942.9856  12856.1412  142392.2304   6038.8575   \n",
              "780  146626.3049  1719542.9809     22339.8  262016.0676  10503.3825   \n",
              "781  146617.0226  1718026.8719  22319.9424  261501.4248    10495.55   \n",
              "782  146632.4931  1718255.8353  22266.9888  260793.1704   10473.619   \n",
              "783   146722.222  1719425.4051  22253.7504  260553.2244  10462.6535   \n",
              "\n",
              "        일간누적청색광량       시간당총광량       일간누적총광량  predicted_weight_g  초기 대비 성장률(%)  \\\n",
              "0              0  269376.2938  3087919.8332            0.181787     58.551144   \n",
              "1              0  270032.8895   3094877.956            0.265921    152.594543   \n",
              "2              0  269399.5381  3086736.7798            0.423650    183.373579   \n",
              "3              0  270032.8895   3094877.956            0.475272   1057.814298   \n",
              "4              0  269511.3567  3087445.6826            1.941879   1289.762329   \n",
              "..           ...          ...           ...                 ...           ...   \n",
              "779   66859.7865  103438.1871  1146195.0025           74.002614   8142.323424   \n",
              "780  123047.0085  179469.4874   2104606.057           76.342275   8820.234874   \n",
              "781  122821.4325   179432.515  2102349.7292           82.621245   9248.885811   \n",
              "782  122539.4625  179373.1009  2101588.4682           86.591508      0.000000   \n",
              "783    122406.31  179438.6259  2102384.9395            0.000000      0.000000   \n",
              "\n",
              "     전날 대비 성장률(%)  \n",
              "0       46.281423  \n",
              "1       59.314235  \n",
              "2       12.185154  \n",
              "3      308.582304  \n",
              "4       20.033267  \n",
              "..            ...  \n",
              "779      3.161593  \n",
              "780      8.224762  \n",
              "781      4.805377  \n",
              "782      0.000000  \n",
              "783      0.000000  \n",
              "\n",
              "[784 rows x 17 columns]"
            ],
            "text/html": [
              "\n",
              "  <div id=\"df-03335eca-0d3c-4e34-b165-db21d3ef4608\">\n",
              "    <div class=\"colab-df-container\">\n",
              "      <div>\n",
              "<style scoped>\n",
              "    .dataframe tbody tr th:only-of-type {\n",
              "        vertical-align: middle;\n",
              "    }\n",
              "\n",
              "    .dataframe tbody tr th {\n",
              "        vertical-align: top;\n",
              "    }\n",
              "\n",
              "    .dataframe thead th {\n",
              "        text-align: right;\n",
              "    }\n",
              "</style>\n",
              "<table border=\"1\" class=\"dataframe\">\n",
              "  <thead>\n",
              "    <tr style=\"text-align: right;\">\n",
              "      <th></th>\n",
              "      <th>내부온도관측치</th>\n",
              "      <th>내부습도관측치</th>\n",
              "      <th>co2관측치</th>\n",
              "      <th>ec관측치</th>\n",
              "      <th>시간당분무량</th>\n",
              "      <th>일간누적분무량</th>\n",
              "      <th>시간당백색광량</th>\n",
              "      <th>일간누적백색광량</th>\n",
              "      <th>시간당적색광량</th>\n",
              "      <th>일간누적적색광량</th>\n",
              "      <th>시간당청색광량</th>\n",
              "      <th>일간누적청색광량</th>\n",
              "      <th>시간당총광량</th>\n",
              "      <th>일간누적총광량</th>\n",
              "      <th>predicted_weight_g</th>\n",
              "      <th>초기 대비 성장률(%)</th>\n",
              "      <th>전날 대비 성장률(%)</th>\n",
              "    </tr>\n",
              "  </thead>\n",
              "  <tbody>\n",
              "    <tr>\n",
              "      <th>0</th>\n",
              "      <td>648.737022</td>\n",
              "      <td>1873.47095</td>\n",
              "      <td>12842.263095</td>\n",
              "      <td>33.446784</td>\n",
              "      <td>3961.27</td>\n",
              "      <td>46930.96</td>\n",
              "      <td>255677.8594</td>\n",
              "      <td>2930842.9076</td>\n",
              "      <td>13698.4344</td>\n",
              "      <td>157076.9256</td>\n",
              "      <td>0</td>\n",
              "      <td>0</td>\n",
              "      <td>269376.2938</td>\n",
              "      <td>3087919.8332</td>\n",
              "      <td>0.181787</td>\n",
              "      <td>58.551144</td>\n",
              "      <td>46.281423</td>\n",
              "    </tr>\n",
              "    <tr>\n",
              "      <th>1</th>\n",
              "      <td>661.026031</td>\n",
              "      <td>1873.800978</td>\n",
              "      <td>12575.678161</td>\n",
              "      <td>33.226335</td>\n",
              "      <td>3980.56</td>\n",
              "      <td>48241.17</td>\n",
              "      <td>256324.5263</td>\n",
              "      <td>2937761.3152</td>\n",
              "      <td>13708.3632</td>\n",
              "      <td>157116.6408</td>\n",
              "      <td>0</td>\n",
              "      <td>0</td>\n",
              "      <td>270032.8895</td>\n",
              "      <td>3094877.956</td>\n",
              "      <td>0.265921</td>\n",
              "      <td>152.594543</td>\n",
              "      <td>59.314235</td>\n",
              "    </tr>\n",
              "    <tr>\n",
              "      <th>2</th>\n",
              "      <td>640.28356</td>\n",
              "      <td>1862.161159</td>\n",
              "      <td>12941.668079</td>\n",
              "      <td>33.425884</td>\n",
              "      <td>4093.7</td>\n",
              "      <td>48688.53</td>\n",
              "      <td>255724.2709</td>\n",
              "      <td>2930057.0062</td>\n",
              "      <td>13675.2672</td>\n",
              "      <td>156679.7736</td>\n",
              "      <td>0</td>\n",
              "      <td>0</td>\n",
              "      <td>269399.5381</td>\n",
              "      <td>3086736.7798</td>\n",
              "      <td>0.423650</td>\n",
              "      <td>183.373579</td>\n",
              "      <td>12.185154</td>\n",
              "    </tr>\n",
              "    <tr>\n",
              "      <th>3</th>\n",
              "      <td>627.776043</td>\n",
              "      <td>1856.786186</td>\n",
              "      <td>18243.60791</td>\n",
              "      <td>33.631142</td>\n",
              "      <td>3980.56</td>\n",
              "      <td>48241.17</td>\n",
              "      <td>256324.5263</td>\n",
              "      <td>2937761.3152</td>\n",
              "      <td>13708.3632</td>\n",
              "      <td>157116.6408</td>\n",
              "      <td>0</td>\n",
              "      <td>0</td>\n",
              "      <td>270032.8895</td>\n",
              "      <td>3094877.956</td>\n",
              "      <td>0.475272</td>\n",
              "      <td>1057.814298</td>\n",
              "      <td>308.582304</td>\n",
              "    </tr>\n",
              "    <tr>\n",
              "      <th>4</th>\n",
              "      <td>636.549377</td>\n",
              "      <td>1875.159607</td>\n",
              "      <td>12948.858192</td>\n",
              "      <td>33.691108</td>\n",
              "      <td>3935.55</td>\n",
              "      <td>45170.79</td>\n",
              "      <td>255829.4703</td>\n",
              "      <td>2930712.9554</td>\n",
              "      <td>13681.8864</td>\n",
              "      <td>156732.7272</td>\n",
              "      <td>0</td>\n",
              "      <td>0</td>\n",
              "      <td>269511.3567</td>\n",
              "      <td>3087445.6826</td>\n",
              "      <td>1.941879</td>\n",
              "      <td>1289.762329</td>\n",
              "      <td>20.033267</td>\n",
              "    </tr>\n",
              "    <tr>\n",
              "      <th>...</th>\n",
              "      <td>...</td>\n",
              "      <td>...</td>\n",
              "      <td>...</td>\n",
              "      <td>...</td>\n",
              "      <td>...</td>\n",
              "      <td>...</td>\n",
              "      <td>...</td>\n",
              "      <td>...</td>\n",
              "      <td>...</td>\n",
              "      <td>...</td>\n",
              "      <td>...</td>\n",
              "      <td>...</td>\n",
              "      <td>...</td>\n",
              "      <td>...</td>\n",
              "      <td>...</td>\n",
              "      <td>...</td>\n",
              "      <td>...</td>\n",
              "    </tr>\n",
              "    <tr>\n",
              "      <th>779</th>\n",
              "      <td>669.629376</td>\n",
              "      <td>1410.812712</td>\n",
              "      <td>10991.160169</td>\n",
              "      <td>27.7566</td>\n",
              "      <td>27895.87</td>\n",
              "      <td>444623.68</td>\n",
              "      <td>84543.1884</td>\n",
              "      <td>936942.9856</td>\n",
              "      <td>12856.1412</td>\n",
              "      <td>142392.2304</td>\n",
              "      <td>6038.8575</td>\n",
              "      <td>66859.7865</td>\n",
              "      <td>103438.1871</td>\n",
              "      <td>1146195.0025</td>\n",
              "      <td>74.002614</td>\n",
              "      <td>8142.323424</td>\n",
              "      <td>3.161593</td>\n",
              "    </tr>\n",
              "    <tr>\n",
              "      <th>780</th>\n",
              "      <td>606.278908</td>\n",
              "      <td>1439.229598</td>\n",
              "      <td>10834.186285</td>\n",
              "      <td>28.540896</td>\n",
              "      <td>3292.69</td>\n",
              "      <td>42325.46</td>\n",
              "      <td>146626.3049</td>\n",
              "      <td>1719542.9809</td>\n",
              "      <td>22339.8</td>\n",
              "      <td>262016.0676</td>\n",
              "      <td>10503.3825</td>\n",
              "      <td>123047.0085</td>\n",
              "      <td>179469.4874</td>\n",
              "      <td>2104606.057</td>\n",
              "      <td>76.342275</td>\n",
              "      <td>8820.234874</td>\n",
              "      <td>8.224762</td>\n",
              "    </tr>\n",
              "    <tr>\n",
              "      <th>781</th>\n",
              "      <td>598.074193</td>\n",
              "      <td>1445.768736</td>\n",
              "      <td>11025.531609</td>\n",
              "      <td>28.5884</td>\n",
              "      <td>2995.68</td>\n",
              "      <td>35476.31</td>\n",
              "      <td>146617.0226</td>\n",
              "      <td>1718026.8719</td>\n",
              "      <td>22319.9424</td>\n",
              "      <td>261501.4248</td>\n",
              "      <td>10495.55</td>\n",
              "      <td>122821.4325</td>\n",
              "      <td>179432.515</td>\n",
              "      <td>2102349.7292</td>\n",
              "      <td>82.621245</td>\n",
              "      <td>9248.885811</td>\n",
              "      <td>4.805377</td>\n",
              "    </tr>\n",
              "    <tr>\n",
              "      <th>782</th>\n",
              "      <td>611.494999</td>\n",
              "      <td>1443.236666</td>\n",
              "      <td>10295.1</td>\n",
              "      <td>28.115833</td>\n",
              "      <td>2620.28</td>\n",
              "      <td>34809.38</td>\n",
              "      <td>146632.4931</td>\n",
              "      <td>1718255.8353</td>\n",
              "      <td>22266.9888</td>\n",
              "      <td>260793.1704</td>\n",
              "      <td>10473.619</td>\n",
              "      <td>122539.4625</td>\n",
              "      <td>179373.1009</td>\n",
              "      <td>2101588.4682</td>\n",
              "      <td>86.591508</td>\n",
              "      <td>0.000000</td>\n",
              "      <td>0.000000</td>\n",
              "    </tr>\n",
              "    <tr>\n",
              "      <th>783</th>\n",
              "      <td>669.162569</td>\n",
              "      <td>1439.418842</td>\n",
              "      <td>9749.84548</td>\n",
              "      <td>27.828629</td>\n",
              "      <td>2669.12</td>\n",
              "      <td>33168.5</td>\n",
              "      <td>146722.222</td>\n",
              "      <td>1719425.4051</td>\n",
              "      <td>22253.7504</td>\n",
              "      <td>260553.2244</td>\n",
              "      <td>10462.6535</td>\n",
              "      <td>122406.31</td>\n",
              "      <td>179438.6259</td>\n",
              "      <td>2102384.9395</td>\n",
              "      <td>0.000000</td>\n",
              "      <td>0.000000</td>\n",
              "      <td>0.000000</td>\n",
              "    </tr>\n",
              "  </tbody>\n",
              "</table>\n",
              "<p>784 rows × 17 columns</p>\n",
              "</div>\n",
              "      <button class=\"colab-df-convert\" onclick=\"convertToInteractive('df-03335eca-0d3c-4e34-b165-db21d3ef4608')\"\n",
              "              title=\"Convert this dataframe to an interactive table.\"\n",
              "              style=\"display:none;\">\n",
              "        \n",
              "  <svg xmlns=\"http://www.w3.org/2000/svg\" height=\"24px\"viewBox=\"0 0 24 24\"\n",
              "       width=\"24px\">\n",
              "    <path d=\"M0 0h24v24H0V0z\" fill=\"none\"/>\n",
              "    <path d=\"M18.56 5.44l.94 2.06.94-2.06 2.06-.94-2.06-.94-.94-2.06-.94 2.06-2.06.94zm-11 1L8.5 8.5l.94-2.06 2.06-.94-2.06-.94L8.5 2.5l-.94 2.06-2.06.94zm10 10l.94 2.06.94-2.06 2.06-.94-2.06-.94-.94-2.06-.94 2.06-2.06.94z\"/><path d=\"M17.41 7.96l-1.37-1.37c-.4-.4-.92-.59-1.43-.59-.52 0-1.04.2-1.43.59L10.3 9.45l-7.72 7.72c-.78.78-.78 2.05 0 2.83L4 21.41c.39.39.9.59 1.41.59.51 0 1.02-.2 1.41-.59l7.78-7.78 2.81-2.81c.8-.78.8-2.07 0-2.86zM5.41 20L4 18.59l7.72-7.72 1.47 1.35L5.41 20z\"/>\n",
              "  </svg>\n",
              "      </button>\n",
              "      \n",
              "  <style>\n",
              "    .colab-df-container {\n",
              "      display:flex;\n",
              "      flex-wrap:wrap;\n",
              "      gap: 12px;\n",
              "    }\n",
              "\n",
              "    .colab-df-convert {\n",
              "      background-color: #E8F0FE;\n",
              "      border: none;\n",
              "      border-radius: 50%;\n",
              "      cursor: pointer;\n",
              "      display: none;\n",
              "      fill: #1967D2;\n",
              "      height: 32px;\n",
              "      padding: 0 0 0 0;\n",
              "      width: 32px;\n",
              "    }\n",
              "\n",
              "    .colab-df-convert:hover {\n",
              "      background-color: #E2EBFA;\n",
              "      box-shadow: 0px 1px 2px rgba(60, 64, 67, 0.3), 0px 1px 3px 1px rgba(60, 64, 67, 0.15);\n",
              "      fill: #174EA6;\n",
              "    }\n",
              "\n",
              "    [theme=dark] .colab-df-convert {\n",
              "      background-color: #3B4455;\n",
              "      fill: #D2E3FC;\n",
              "    }\n",
              "\n",
              "    [theme=dark] .colab-df-convert:hover {\n",
              "      background-color: #434B5C;\n",
              "      box-shadow: 0px 1px 3px 1px rgba(0, 0, 0, 0.15);\n",
              "      filter: drop-shadow(0px 1px 2px rgba(0, 0, 0, 0.3));\n",
              "      fill: #FFFFFF;\n",
              "    }\n",
              "  </style>\n",
              "\n",
              "      <script>\n",
              "        const buttonEl =\n",
              "          document.querySelector('#df-03335eca-0d3c-4e34-b165-db21d3ef4608 button.colab-df-convert');\n",
              "        buttonEl.style.display =\n",
              "          google.colab.kernel.accessAllowed ? 'block' : 'none';\n",
              "\n",
              "        async function convertToInteractive(key) {\n",
              "          const element = document.querySelector('#df-03335eca-0d3c-4e34-b165-db21d3ef4608');\n",
              "          const dataTable =\n",
              "            await google.colab.kernel.invokeFunction('convertToInteractive',\n",
              "                                                     [key], {});\n",
              "          if (!dataTable) return;\n",
              "\n",
              "          const docLinkHtml = 'Like what you see? Visit the ' +\n",
              "            '<a target=\"_blank\" href=https://colab.research.google.com/notebooks/data_table.ipynb>data table notebook</a>'\n",
              "            + ' to learn more about interactive tables.';\n",
              "          element.innerHTML = '';\n",
              "          dataTable['output_type'] = 'display_data';\n",
              "          await google.colab.output.renderOutput(dataTable, element);\n",
              "          const docLink = document.createElement('div');\n",
              "          docLink.innerHTML = docLinkHtml;\n",
              "          element.appendChild(docLink);\n",
              "        }\n",
              "      </script>\n",
              "    </div>\n",
              "  </div>\n",
              "  "
            ]
          },
          "metadata": {},
          "execution_count": 62
        }
      ]
    },
    {
      "cell_type": "code",
      "source": [
        "# 누적된 데이터의 총합으로 일별데이터 가공을 진행했다.\n",
        "\n",
        "train_stacked_total_X = pd.DataFrame()\n",
        "\n",
        "for CASE in range(1,29):\n",
        "    for DAY in range(0,28):\n",
        "        stacked_total = train_daily_total_X.iloc[(CASE-1)*28:DAY+(CASE-1)*28+1 ,:].sum()\n",
        "        train_stacked_total_X = train_stacked_total_X.append(stacked_total, ignore_index=True)"
      ],
      "metadata": {
        "id": "16uUd_ZJd6al"
      },
      "execution_count": 63,
      "outputs": []
    },
    {
      "cell_type": "code",
      "source": [
        "train_stacked_total = pd.concat([train_stacked_total_X, train_y_all], axis=1)"
      ],
      "metadata": {
        "id": "xOM7A-atdGTM"
      },
      "execution_count": 64,
      "outputs": []
    },
    {
      "cell_type": "code",
      "source": [
        "train_stacked_total"
      ],
      "metadata": {
        "colab": {
          "base_uri": "https://localhost:8080/",
          "height": 505
        },
        "id": "jwAdZi4RlD5M",
        "outputId": "ce519708-cd6f-46ce-92d4-602b64021e78"
      },
      "execution_count": 65,
      "outputs": [
        {
          "output_type": "execute_result",
          "data": {
            "text/plain": [
              "          내부온도관측치       내부습도관측치         co2관측치       ec관측치     시간당분무량  \\\n",
              "0      648.737022   1873.470950   12842.263095   33.446784    3961.27   \n",
              "1     1309.763053   3747.271928   25417.941256   66.673119    7941.83   \n",
              "2     1950.046613   5609.433087   38359.609335  100.099003   12035.53   \n",
              "3     2577.822656   7466.219273   56603.217245  133.730145   16016.09   \n",
              "4     3214.372034   9341.378879   69552.075437  167.421253   19951.64   \n",
              "..            ...           ...            ...         ...        ...   \n",
              "779  17410.510277  33585.191177  282784.152393  590.539002  363537.83   \n",
              "780  18016.789185  35024.420775  293618.338678  619.079898  366830.52   \n",
              "781  18614.863378  36470.189510  304643.870287  647.668298  369826.20   \n",
              "782  19226.358377  37913.426176  314938.970287  675.784130  372446.48   \n",
              "783  19895.520946  39352.845018  324688.815767  703.612759  375115.60   \n",
              "\n",
              "        일간누적분무량       시간당백색광량      일간누적백색광량      시간당적색광량      일간누적적색광량  \\\n",
              "0      46930.96  2.556779e+05  2.930843e+06   13698.4344  1.570769e+05   \n",
              "1      95172.13  5.120024e+05  5.868604e+06   27406.7976  3.141936e+05   \n",
              "2     143860.66  7.677267e+05  8.798661e+06   41082.0648  4.708733e+05   \n",
              "3     192101.83  1.024051e+06  1.173642e+07   54790.4280  6.279900e+05   \n",
              "4     237272.62  1.279881e+06  1.466714e+07   68472.3144  7.847227e+05   \n",
              "..          ...           ...           ...          ...           ...   \n",
              "779  4555292.75  4.307065e+06  5.043954e+07  113155.2240  1.316585e+06   \n",
              "780  4597618.21  4.453691e+06  5.215908e+07  135495.0240  1.578601e+06   \n",
              "781  4633094.52  4.600308e+06  5.387711e+07  157814.9664  1.840103e+06   \n",
              "782  4667903.90  4.746940e+06  5.559536e+07  180081.9552  2.100896e+06   \n",
              "783  4701072.40  4.893663e+06  5.731479e+07  202335.7056  2.361449e+06   \n",
              "\n",
              "        시간당청색광량      일간누적청색광량        시간당총광량       일간누적총광량  predicted_weight_g  \\\n",
              "0        0.0000  0.000000e+00  2.693763e+05  3.087920e+06            0.181787   \n",
              "1        0.0000  0.000000e+00  5.394092e+05  6.182798e+06            0.265921   \n",
              "2        0.0000  0.000000e+00  8.088087e+05  9.269535e+06            0.423650   \n",
              "3        0.0000  0.000000e+00  1.078842e+06  1.236441e+07            0.475272   \n",
              "4        0.0000  0.000000e+00  1.348353e+06  1.545186e+07            1.941879   \n",
              "..          ...           ...           ...           ...                 ...   \n",
              "779  53190.5075  6.183132e+05  4.473410e+06  5.237443e+07           74.002614   \n",
              "780  63693.8900  7.413602e+05  4.652880e+06  5.447904e+07           76.342275   \n",
              "781  74189.4400  8.641817e+05  4.832312e+06  5.658139e+07           82.621245   \n",
              "782  84663.0590  9.867211e+05  5.011685e+06  5.868298e+07           86.591508   \n",
              "783  95125.7125  1.109127e+06  5.191124e+06  6.078536e+07            0.000000   \n",
              "\n",
              "     초기 대비 성장률(%)  전날 대비 성장률(%)  \n",
              "0       58.551144     46.281423  \n",
              "1      152.594543     59.314235  \n",
              "2      183.373579     12.185154  \n",
              "3     1057.814298    308.582304  \n",
              "4     1289.762329     20.033267  \n",
              "..            ...           ...  \n",
              "779   8142.323424      3.161593  \n",
              "780   8820.234874      8.224762  \n",
              "781   9248.885811      4.805377  \n",
              "782      0.000000      0.000000  \n",
              "783      0.000000      0.000000  \n",
              "\n",
              "[784 rows x 17 columns]"
            ],
            "text/html": [
              "\n",
              "  <div id=\"df-b61bb732-f8c8-4c7f-a197-2c685e6ae97f\">\n",
              "    <div class=\"colab-df-container\">\n",
              "      <div>\n",
              "<style scoped>\n",
              "    .dataframe tbody tr th:only-of-type {\n",
              "        vertical-align: middle;\n",
              "    }\n",
              "\n",
              "    .dataframe tbody tr th {\n",
              "        vertical-align: top;\n",
              "    }\n",
              "\n",
              "    .dataframe thead th {\n",
              "        text-align: right;\n",
              "    }\n",
              "</style>\n",
              "<table border=\"1\" class=\"dataframe\">\n",
              "  <thead>\n",
              "    <tr style=\"text-align: right;\">\n",
              "      <th></th>\n",
              "      <th>내부온도관측치</th>\n",
              "      <th>내부습도관측치</th>\n",
              "      <th>co2관측치</th>\n",
              "      <th>ec관측치</th>\n",
              "      <th>시간당분무량</th>\n",
              "      <th>일간누적분무량</th>\n",
              "      <th>시간당백색광량</th>\n",
              "      <th>일간누적백색광량</th>\n",
              "      <th>시간당적색광량</th>\n",
              "      <th>일간누적적색광량</th>\n",
              "      <th>시간당청색광량</th>\n",
              "      <th>일간누적청색광량</th>\n",
              "      <th>시간당총광량</th>\n",
              "      <th>일간누적총광량</th>\n",
              "      <th>predicted_weight_g</th>\n",
              "      <th>초기 대비 성장률(%)</th>\n",
              "      <th>전날 대비 성장률(%)</th>\n",
              "    </tr>\n",
              "  </thead>\n",
              "  <tbody>\n",
              "    <tr>\n",
              "      <th>0</th>\n",
              "      <td>648.737022</td>\n",
              "      <td>1873.470950</td>\n",
              "      <td>12842.263095</td>\n",
              "      <td>33.446784</td>\n",
              "      <td>3961.27</td>\n",
              "      <td>46930.96</td>\n",
              "      <td>2.556779e+05</td>\n",
              "      <td>2.930843e+06</td>\n",
              "      <td>13698.4344</td>\n",
              "      <td>1.570769e+05</td>\n",
              "      <td>0.0000</td>\n",
              "      <td>0.000000e+00</td>\n",
              "      <td>2.693763e+05</td>\n",
              "      <td>3.087920e+06</td>\n",
              "      <td>0.181787</td>\n",
              "      <td>58.551144</td>\n",
              "      <td>46.281423</td>\n",
              "    </tr>\n",
              "    <tr>\n",
              "      <th>1</th>\n",
              "      <td>1309.763053</td>\n",
              "      <td>3747.271928</td>\n",
              "      <td>25417.941256</td>\n",
              "      <td>66.673119</td>\n",
              "      <td>7941.83</td>\n",
              "      <td>95172.13</td>\n",
              "      <td>5.120024e+05</td>\n",
              "      <td>5.868604e+06</td>\n",
              "      <td>27406.7976</td>\n",
              "      <td>3.141936e+05</td>\n",
              "      <td>0.0000</td>\n",
              "      <td>0.000000e+00</td>\n",
              "      <td>5.394092e+05</td>\n",
              "      <td>6.182798e+06</td>\n",
              "      <td>0.265921</td>\n",
              "      <td>152.594543</td>\n",
              "      <td>59.314235</td>\n",
              "    </tr>\n",
              "    <tr>\n",
              "      <th>2</th>\n",
              "      <td>1950.046613</td>\n",
              "      <td>5609.433087</td>\n",
              "      <td>38359.609335</td>\n",
              "      <td>100.099003</td>\n",
              "      <td>12035.53</td>\n",
              "      <td>143860.66</td>\n",
              "      <td>7.677267e+05</td>\n",
              "      <td>8.798661e+06</td>\n",
              "      <td>41082.0648</td>\n",
              "      <td>4.708733e+05</td>\n",
              "      <td>0.0000</td>\n",
              "      <td>0.000000e+00</td>\n",
              "      <td>8.088087e+05</td>\n",
              "      <td>9.269535e+06</td>\n",
              "      <td>0.423650</td>\n",
              "      <td>183.373579</td>\n",
              "      <td>12.185154</td>\n",
              "    </tr>\n",
              "    <tr>\n",
              "      <th>3</th>\n",
              "      <td>2577.822656</td>\n",
              "      <td>7466.219273</td>\n",
              "      <td>56603.217245</td>\n",
              "      <td>133.730145</td>\n",
              "      <td>16016.09</td>\n",
              "      <td>192101.83</td>\n",
              "      <td>1.024051e+06</td>\n",
              "      <td>1.173642e+07</td>\n",
              "      <td>54790.4280</td>\n",
              "      <td>6.279900e+05</td>\n",
              "      <td>0.0000</td>\n",
              "      <td>0.000000e+00</td>\n",
              "      <td>1.078842e+06</td>\n",
              "      <td>1.236441e+07</td>\n",
              "      <td>0.475272</td>\n",
              "      <td>1057.814298</td>\n",
              "      <td>308.582304</td>\n",
              "    </tr>\n",
              "    <tr>\n",
              "      <th>4</th>\n",
              "      <td>3214.372034</td>\n",
              "      <td>9341.378879</td>\n",
              "      <td>69552.075437</td>\n",
              "      <td>167.421253</td>\n",
              "      <td>19951.64</td>\n",
              "      <td>237272.62</td>\n",
              "      <td>1.279881e+06</td>\n",
              "      <td>1.466714e+07</td>\n",
              "      <td>68472.3144</td>\n",
              "      <td>7.847227e+05</td>\n",
              "      <td>0.0000</td>\n",
              "      <td>0.000000e+00</td>\n",
              "      <td>1.348353e+06</td>\n",
              "      <td>1.545186e+07</td>\n",
              "      <td>1.941879</td>\n",
              "      <td>1289.762329</td>\n",
              "      <td>20.033267</td>\n",
              "    </tr>\n",
              "    <tr>\n",
              "      <th>...</th>\n",
              "      <td>...</td>\n",
              "      <td>...</td>\n",
              "      <td>...</td>\n",
              "      <td>...</td>\n",
              "      <td>...</td>\n",
              "      <td>...</td>\n",
              "      <td>...</td>\n",
              "      <td>...</td>\n",
              "      <td>...</td>\n",
              "      <td>...</td>\n",
              "      <td>...</td>\n",
              "      <td>...</td>\n",
              "      <td>...</td>\n",
              "      <td>...</td>\n",
              "      <td>...</td>\n",
              "      <td>...</td>\n",
              "      <td>...</td>\n",
              "    </tr>\n",
              "    <tr>\n",
              "      <th>779</th>\n",
              "      <td>17410.510277</td>\n",
              "      <td>33585.191177</td>\n",
              "      <td>282784.152393</td>\n",
              "      <td>590.539002</td>\n",
              "      <td>363537.83</td>\n",
              "      <td>4555292.75</td>\n",
              "      <td>4.307065e+06</td>\n",
              "      <td>5.043954e+07</td>\n",
              "      <td>113155.2240</td>\n",
              "      <td>1.316585e+06</td>\n",
              "      <td>53190.5075</td>\n",
              "      <td>6.183132e+05</td>\n",
              "      <td>4.473410e+06</td>\n",
              "      <td>5.237443e+07</td>\n",
              "      <td>74.002614</td>\n",
              "      <td>8142.323424</td>\n",
              "      <td>3.161593</td>\n",
              "    </tr>\n",
              "    <tr>\n",
              "      <th>780</th>\n",
              "      <td>18016.789185</td>\n",
              "      <td>35024.420775</td>\n",
              "      <td>293618.338678</td>\n",
              "      <td>619.079898</td>\n",
              "      <td>366830.52</td>\n",
              "      <td>4597618.21</td>\n",
              "      <td>4.453691e+06</td>\n",
              "      <td>5.215908e+07</td>\n",
              "      <td>135495.0240</td>\n",
              "      <td>1.578601e+06</td>\n",
              "      <td>63693.8900</td>\n",
              "      <td>7.413602e+05</td>\n",
              "      <td>4.652880e+06</td>\n",
              "      <td>5.447904e+07</td>\n",
              "      <td>76.342275</td>\n",
              "      <td>8820.234874</td>\n",
              "      <td>8.224762</td>\n",
              "    </tr>\n",
              "    <tr>\n",
              "      <th>781</th>\n",
              "      <td>18614.863378</td>\n",
              "      <td>36470.189510</td>\n",
              "      <td>304643.870287</td>\n",
              "      <td>647.668298</td>\n",
              "      <td>369826.20</td>\n",
              "      <td>4633094.52</td>\n",
              "      <td>4.600308e+06</td>\n",
              "      <td>5.387711e+07</td>\n",
              "      <td>157814.9664</td>\n",
              "      <td>1.840103e+06</td>\n",
              "      <td>74189.4400</td>\n",
              "      <td>8.641817e+05</td>\n",
              "      <td>4.832312e+06</td>\n",
              "      <td>5.658139e+07</td>\n",
              "      <td>82.621245</td>\n",
              "      <td>9248.885811</td>\n",
              "      <td>4.805377</td>\n",
              "    </tr>\n",
              "    <tr>\n",
              "      <th>782</th>\n",
              "      <td>19226.358377</td>\n",
              "      <td>37913.426176</td>\n",
              "      <td>314938.970287</td>\n",
              "      <td>675.784130</td>\n",
              "      <td>372446.48</td>\n",
              "      <td>4667903.90</td>\n",
              "      <td>4.746940e+06</td>\n",
              "      <td>5.559536e+07</td>\n",
              "      <td>180081.9552</td>\n",
              "      <td>2.100896e+06</td>\n",
              "      <td>84663.0590</td>\n",
              "      <td>9.867211e+05</td>\n",
              "      <td>5.011685e+06</td>\n",
              "      <td>5.868298e+07</td>\n",
              "      <td>86.591508</td>\n",
              "      <td>0.000000</td>\n",
              "      <td>0.000000</td>\n",
              "    </tr>\n",
              "    <tr>\n",
              "      <th>783</th>\n",
              "      <td>19895.520946</td>\n",
              "      <td>39352.845018</td>\n",
              "      <td>324688.815767</td>\n",
              "      <td>703.612759</td>\n",
              "      <td>375115.60</td>\n",
              "      <td>4701072.40</td>\n",
              "      <td>4.893663e+06</td>\n",
              "      <td>5.731479e+07</td>\n",
              "      <td>202335.7056</td>\n",
              "      <td>2.361449e+06</td>\n",
              "      <td>95125.7125</td>\n",
              "      <td>1.109127e+06</td>\n",
              "      <td>5.191124e+06</td>\n",
              "      <td>6.078536e+07</td>\n",
              "      <td>0.000000</td>\n",
              "      <td>0.000000</td>\n",
              "      <td>0.000000</td>\n",
              "    </tr>\n",
              "  </tbody>\n",
              "</table>\n",
              "<p>784 rows × 17 columns</p>\n",
              "</div>\n",
              "      <button class=\"colab-df-convert\" onclick=\"convertToInteractive('df-b61bb732-f8c8-4c7f-a197-2c685e6ae97f')\"\n",
              "              title=\"Convert this dataframe to an interactive table.\"\n",
              "              style=\"display:none;\">\n",
              "        \n",
              "  <svg xmlns=\"http://www.w3.org/2000/svg\" height=\"24px\"viewBox=\"0 0 24 24\"\n",
              "       width=\"24px\">\n",
              "    <path d=\"M0 0h24v24H0V0z\" fill=\"none\"/>\n",
              "    <path d=\"M18.56 5.44l.94 2.06.94-2.06 2.06-.94-2.06-.94-.94-2.06-.94 2.06-2.06.94zm-11 1L8.5 8.5l.94-2.06 2.06-.94-2.06-.94L8.5 2.5l-.94 2.06-2.06.94zm10 10l.94 2.06.94-2.06 2.06-.94-2.06-.94-.94-2.06-.94 2.06-2.06.94z\"/><path d=\"M17.41 7.96l-1.37-1.37c-.4-.4-.92-.59-1.43-.59-.52 0-1.04.2-1.43.59L10.3 9.45l-7.72 7.72c-.78.78-.78 2.05 0 2.83L4 21.41c.39.39.9.59 1.41.59.51 0 1.02-.2 1.41-.59l7.78-7.78 2.81-2.81c.8-.78.8-2.07 0-2.86zM5.41 20L4 18.59l7.72-7.72 1.47 1.35L5.41 20z\"/>\n",
              "  </svg>\n",
              "      </button>\n",
              "      \n",
              "  <style>\n",
              "    .colab-df-container {\n",
              "      display:flex;\n",
              "      flex-wrap:wrap;\n",
              "      gap: 12px;\n",
              "    }\n",
              "\n",
              "    .colab-df-convert {\n",
              "      background-color: #E8F0FE;\n",
              "      border: none;\n",
              "      border-radius: 50%;\n",
              "      cursor: pointer;\n",
              "      display: none;\n",
              "      fill: #1967D2;\n",
              "      height: 32px;\n",
              "      padding: 0 0 0 0;\n",
              "      width: 32px;\n",
              "    }\n",
              "\n",
              "    .colab-df-convert:hover {\n",
              "      background-color: #E2EBFA;\n",
              "      box-shadow: 0px 1px 2px rgba(60, 64, 67, 0.3), 0px 1px 3px 1px rgba(60, 64, 67, 0.15);\n",
              "      fill: #174EA6;\n",
              "    }\n",
              "\n",
              "    [theme=dark] .colab-df-convert {\n",
              "      background-color: #3B4455;\n",
              "      fill: #D2E3FC;\n",
              "    }\n",
              "\n",
              "    [theme=dark] .colab-df-convert:hover {\n",
              "      background-color: #434B5C;\n",
              "      box-shadow: 0px 1px 3px 1px rgba(0, 0, 0, 0.15);\n",
              "      filter: drop-shadow(0px 1px 2px rgba(0, 0, 0, 0.3));\n",
              "      fill: #FFFFFF;\n",
              "    }\n",
              "  </style>\n",
              "\n",
              "      <script>\n",
              "        const buttonEl =\n",
              "          document.querySelector('#df-b61bb732-f8c8-4c7f-a197-2c685e6ae97f button.colab-df-convert');\n",
              "        buttonEl.style.display =\n",
              "          google.colab.kernel.accessAllowed ? 'block' : 'none';\n",
              "\n",
              "        async function convertToInteractive(key) {\n",
              "          const element = document.querySelector('#df-b61bb732-f8c8-4c7f-a197-2c685e6ae97f');\n",
              "          const dataTable =\n",
              "            await google.colab.kernel.invokeFunction('convertToInteractive',\n",
              "                                                     [key], {});\n",
              "          if (!dataTable) return;\n",
              "\n",
              "          const docLinkHtml = 'Like what you see? Visit the ' +\n",
              "            '<a target=\"_blank\" href=https://colab.research.google.com/notebooks/data_table.ipynb>data table notebook</a>'\n",
              "            + ' to learn more about interactive tables.';\n",
              "          element.innerHTML = '';\n",
              "          dataTable['output_type'] = 'display_data';\n",
              "          await google.colab.output.renderOutput(dataTable, element);\n",
              "          const docLink = document.createElement('div');\n",
              "          docLink.innerHTML = docLinkHtml;\n",
              "          element.appendChild(docLink);\n",
              "        }\n",
              "      </script>\n",
              "    </div>\n",
              "  </div>\n",
              "  "
            ]
          },
          "metadata": {},
          "execution_count": 65
        }
      ]
    },
    {
      "cell_type": "code",
      "source": [
        "# 하루씩 타겟 데이터가 밀려있기 때문에 28일째 인덱스는 삭제해야한다.\n",
        "\n",
        "del_index = []\n",
        "for i in range(1,29):\n",
        "    del_index.append(i*28-1)\n",
        "\n",
        "print(del_index)"
      ],
      "metadata": {
        "colab": {
          "base_uri": "https://localhost:8080/"
        },
        "id": "sqPEzTWylOzl",
        "outputId": "d981a6ed-2dc9-437d-ef03-ded0d4821129"
      },
      "execution_count": 66,
      "outputs": [
        {
          "output_type": "stream",
          "name": "stdout",
          "text": [
            "[27, 55, 83, 111, 139, 167, 195, 223, 251, 279, 307, 335, 363, 391, 419, 447, 475, 503, 531, 559, 587, 615, 643, 671, 699, 727, 755, 783]\n"
          ]
        }
      ]
    },
    {
      "cell_type": "code",
      "source": [
        "train_stacked_total = train_stacked_total.drop(del_index) \n",
        "train_daily_total = train_daily_total.drop(del_index)\n",
        "print(train_stacked_total.shape, train_daily_total.shape)"
      ],
      "metadata": {
        "colab": {
          "base_uri": "https://localhost:8080/"
        },
        "id": "ya532-MBlvcs",
        "outputId": "02ab3760-701b-493a-a688-60f970022595"
      },
      "execution_count": 67,
      "outputs": [
        {
          "output_type": "stream",
          "name": "stdout",
          "text": [
            "(756, 17) (756, 17)\n"
          ]
        }
      ]
    },
    {
      "cell_type": "code",
      "source": [
        "train_y_all = train_y_all.drop(del_index)"
      ],
      "metadata": {
        "id": "VBrMhv2gpveT"
      },
      "execution_count": 68,
      "outputs": []
    },
    {
      "cell_type": "code",
      "source": [
        "train_y_all.shape"
      ],
      "metadata": {
        "colab": {
          "base_uri": "https://localhost:8080/"
        },
        "id": "243rsEaNrqkv",
        "outputId": "bf932677-254e-4103-a0b1-dc3801ee7c68"
      },
      "execution_count": 69,
      "outputs": [
        {
          "output_type": "execute_result",
          "data": {
            "text/plain": [
              "(756, 3)"
            ]
          },
          "metadata": {},
          "execution_count": 69
        }
      ]
    },
    {
      "cell_type": "code",
      "source": [
        "train_y_all = train_y_all.reset_index().drop(\"index\", axis=1)"
      ],
      "metadata": {
        "id": "fxvyU-6ps2Fi"
      },
      "execution_count": 70,
      "outputs": []
    },
    {
      "cell_type": "markdown",
      "source": [
        "## 데이터 표준화"
      ],
      "metadata": {
        "id": "d_mT5PAn0tDh"
      }
    },
    {
      "cell_type": "code",
      "source": [
        "from sklearn.preprocessing import StandardScaler\n",
        "\n",
        "train_stacked_total_scaler = StandardScaler()   \n",
        "\n",
        "# standardized\n",
        "train_stacked_total_sd = pd.DataFrame(train_stacked_total_scaler.fit_transform(train_stacked_total.iloc[:, :-3]), columns=train_stacked_total.columns[:-3])\n",
        "train_stacked_total_sd = pd.concat([train_stacked_total_sd, train_y_all], axis=1, ignore_index=True)\n",
        "train_stacked_total_sd.columns = train_stacked_total.columns"
      ],
      "metadata": {
        "id": "6WjS3hi-d1Qg"
      },
      "execution_count": 71,
      "outputs": []
    },
    {
      "cell_type": "code",
      "source": [
        "train_daily_total_scaler = StandardScaler()   \n",
        "\n",
        "# standardized\n",
        "train_daily_total_sd = pd.DataFrame(train_daily_total_scaler.fit_transform(train_daily_total.iloc[:, :-3]), columns=train_stacked_total.columns[:-3])\n",
        "train_daily_total_sd = pd.concat([train_daily_total_sd, train_y_all], axis=1, ignore_index=True)\n",
        "train_daily_total_sd.columns = train_daily_total.columns"
      ],
      "metadata": {
        "id": "4QvVlZGed1M1"
      },
      "execution_count": 72,
      "outputs": []
    },
    {
      "cell_type": "code",
      "source": [
        "train_stacked_total_sd.head()"
      ],
      "metadata": {
        "colab": {
          "base_uri": "https://localhost:8080/",
          "height": 287
        },
        "id": "sykSbMw_uTFg",
        "outputId": "515a8dfb-20b1-4c9a-9911-0b92ba33bb03"
      },
      "execution_count": 73,
      "outputs": [
        {
          "output_type": "execute_result",
          "data": {
            "text/plain": [
              "    내부온도관측치   내부습도관측치    co2관측치     ec관측치    시간당분무량   일간누적분무량   시간당백색광량  \\\n",
              "0 -1.630626 -1.490960 -1.610108 -1.054447 -1.026606 -1.038353 -1.023415   \n",
              "1 -1.498536 -1.339893 -1.482217 -0.979706 -1.001796 -1.013278 -0.887654   \n",
              "2 -1.370591 -1.189765 -1.350604 -0.904516 -0.976281 -0.987971 -0.752211   \n",
              "3 -1.245146 -1.040071 -1.165073 -0.828864 -0.951471 -0.962896 -0.616449   \n",
              "4 -1.117947 -0.888895 -1.033387 -0.753077 -0.926942 -0.939417 -0.480950   \n",
              "\n",
              "   일간누적백색광량   시간당적색광량  일간누적적색광량   시간당청색광량  일간누적청색광량    시간당총광량   일간누적총광량  \\\n",
              "0 -1.028359 -0.580992 -0.568599 -0.605047 -0.577129 -1.366792 -1.389316   \n",
              "1 -0.892297 -0.565963 -0.553881 -0.605047 -0.577129 -1.236247 -1.256558   \n",
              "2 -0.756592 -0.550970 -0.539204 -0.605047 -0.577129 -1.106007 -1.124148   \n",
              "3 -0.620530 -0.535940 -0.524485 -0.605047 -0.577129 -0.975461 -0.991389   \n",
              "4 -0.484795 -0.520940 -0.509803 -0.605047 -0.577129 -0.845168 -0.858949   \n",
              "\n",
              "   predicted_weight_g  초기 대비 성장률(%)  전날 대비 성장률(%)  \n",
              "0            0.181787     58.551144     46.281423  \n",
              "1            0.265921    152.594543     59.314235  \n",
              "2            0.423650    183.373579     12.185154  \n",
              "3            0.475272   1057.814298    308.582304  \n",
              "4            1.941879   1289.762329     20.033267  "
            ],
            "text/html": [
              "\n",
              "  <div id=\"df-60aad511-644f-47f3-a1b3-7dfd25f738d0\">\n",
              "    <div class=\"colab-df-container\">\n",
              "      <div>\n",
              "<style scoped>\n",
              "    .dataframe tbody tr th:only-of-type {\n",
              "        vertical-align: middle;\n",
              "    }\n",
              "\n",
              "    .dataframe tbody tr th {\n",
              "        vertical-align: top;\n",
              "    }\n",
              "\n",
              "    .dataframe thead th {\n",
              "        text-align: right;\n",
              "    }\n",
              "</style>\n",
              "<table border=\"1\" class=\"dataframe\">\n",
              "  <thead>\n",
              "    <tr style=\"text-align: right;\">\n",
              "      <th></th>\n",
              "      <th>내부온도관측치</th>\n",
              "      <th>내부습도관측치</th>\n",
              "      <th>co2관측치</th>\n",
              "      <th>ec관측치</th>\n",
              "      <th>시간당분무량</th>\n",
              "      <th>일간누적분무량</th>\n",
              "      <th>시간당백색광량</th>\n",
              "      <th>일간누적백색광량</th>\n",
              "      <th>시간당적색광량</th>\n",
              "      <th>일간누적적색광량</th>\n",
              "      <th>시간당청색광량</th>\n",
              "      <th>일간누적청색광량</th>\n",
              "      <th>시간당총광량</th>\n",
              "      <th>일간누적총광량</th>\n",
              "      <th>predicted_weight_g</th>\n",
              "      <th>초기 대비 성장률(%)</th>\n",
              "      <th>전날 대비 성장률(%)</th>\n",
              "    </tr>\n",
              "  </thead>\n",
              "  <tbody>\n",
              "    <tr>\n",
              "      <th>0</th>\n",
              "      <td>-1.630626</td>\n",
              "      <td>-1.490960</td>\n",
              "      <td>-1.610108</td>\n",
              "      <td>-1.054447</td>\n",
              "      <td>-1.026606</td>\n",
              "      <td>-1.038353</td>\n",
              "      <td>-1.023415</td>\n",
              "      <td>-1.028359</td>\n",
              "      <td>-0.580992</td>\n",
              "      <td>-0.568599</td>\n",
              "      <td>-0.605047</td>\n",
              "      <td>-0.577129</td>\n",
              "      <td>-1.366792</td>\n",
              "      <td>-1.389316</td>\n",
              "      <td>0.181787</td>\n",
              "      <td>58.551144</td>\n",
              "      <td>46.281423</td>\n",
              "    </tr>\n",
              "    <tr>\n",
              "      <th>1</th>\n",
              "      <td>-1.498536</td>\n",
              "      <td>-1.339893</td>\n",
              "      <td>-1.482217</td>\n",
              "      <td>-0.979706</td>\n",
              "      <td>-1.001796</td>\n",
              "      <td>-1.013278</td>\n",
              "      <td>-0.887654</td>\n",
              "      <td>-0.892297</td>\n",
              "      <td>-0.565963</td>\n",
              "      <td>-0.553881</td>\n",
              "      <td>-0.605047</td>\n",
              "      <td>-0.577129</td>\n",
              "      <td>-1.236247</td>\n",
              "      <td>-1.256558</td>\n",
              "      <td>0.265921</td>\n",
              "      <td>152.594543</td>\n",
              "      <td>59.314235</td>\n",
              "    </tr>\n",
              "    <tr>\n",
              "      <th>2</th>\n",
              "      <td>-1.370591</td>\n",
              "      <td>-1.189765</td>\n",
              "      <td>-1.350604</td>\n",
              "      <td>-0.904516</td>\n",
              "      <td>-0.976281</td>\n",
              "      <td>-0.987971</td>\n",
              "      <td>-0.752211</td>\n",
              "      <td>-0.756592</td>\n",
              "      <td>-0.550970</td>\n",
              "      <td>-0.539204</td>\n",
              "      <td>-0.605047</td>\n",
              "      <td>-0.577129</td>\n",
              "      <td>-1.106007</td>\n",
              "      <td>-1.124148</td>\n",
              "      <td>0.423650</td>\n",
              "      <td>183.373579</td>\n",
              "      <td>12.185154</td>\n",
              "    </tr>\n",
              "    <tr>\n",
              "      <th>3</th>\n",
              "      <td>-1.245146</td>\n",
              "      <td>-1.040071</td>\n",
              "      <td>-1.165073</td>\n",
              "      <td>-0.828864</td>\n",
              "      <td>-0.951471</td>\n",
              "      <td>-0.962896</td>\n",
              "      <td>-0.616449</td>\n",
              "      <td>-0.620530</td>\n",
              "      <td>-0.535940</td>\n",
              "      <td>-0.524485</td>\n",
              "      <td>-0.605047</td>\n",
              "      <td>-0.577129</td>\n",
              "      <td>-0.975461</td>\n",
              "      <td>-0.991389</td>\n",
              "      <td>0.475272</td>\n",
              "      <td>1057.814298</td>\n",
              "      <td>308.582304</td>\n",
              "    </tr>\n",
              "    <tr>\n",
              "      <th>4</th>\n",
              "      <td>-1.117947</td>\n",
              "      <td>-0.888895</td>\n",
              "      <td>-1.033387</td>\n",
              "      <td>-0.753077</td>\n",
              "      <td>-0.926942</td>\n",
              "      <td>-0.939417</td>\n",
              "      <td>-0.480950</td>\n",
              "      <td>-0.484795</td>\n",
              "      <td>-0.520940</td>\n",
              "      <td>-0.509803</td>\n",
              "      <td>-0.605047</td>\n",
              "      <td>-0.577129</td>\n",
              "      <td>-0.845168</td>\n",
              "      <td>-0.858949</td>\n",
              "      <td>1.941879</td>\n",
              "      <td>1289.762329</td>\n",
              "      <td>20.033267</td>\n",
              "    </tr>\n",
              "  </tbody>\n",
              "</table>\n",
              "</div>\n",
              "      <button class=\"colab-df-convert\" onclick=\"convertToInteractive('df-60aad511-644f-47f3-a1b3-7dfd25f738d0')\"\n",
              "              title=\"Convert this dataframe to an interactive table.\"\n",
              "              style=\"display:none;\">\n",
              "        \n",
              "  <svg xmlns=\"http://www.w3.org/2000/svg\" height=\"24px\"viewBox=\"0 0 24 24\"\n",
              "       width=\"24px\">\n",
              "    <path d=\"M0 0h24v24H0V0z\" fill=\"none\"/>\n",
              "    <path d=\"M18.56 5.44l.94 2.06.94-2.06 2.06-.94-2.06-.94-.94-2.06-.94 2.06-2.06.94zm-11 1L8.5 8.5l.94-2.06 2.06-.94-2.06-.94L8.5 2.5l-.94 2.06-2.06.94zm10 10l.94 2.06.94-2.06 2.06-.94-2.06-.94-.94-2.06-.94 2.06-2.06.94z\"/><path d=\"M17.41 7.96l-1.37-1.37c-.4-.4-.92-.59-1.43-.59-.52 0-1.04.2-1.43.59L10.3 9.45l-7.72 7.72c-.78.78-.78 2.05 0 2.83L4 21.41c.39.39.9.59 1.41.59.51 0 1.02-.2 1.41-.59l7.78-7.78 2.81-2.81c.8-.78.8-2.07 0-2.86zM5.41 20L4 18.59l7.72-7.72 1.47 1.35L5.41 20z\"/>\n",
              "  </svg>\n",
              "      </button>\n",
              "      \n",
              "  <style>\n",
              "    .colab-df-container {\n",
              "      display:flex;\n",
              "      flex-wrap:wrap;\n",
              "      gap: 12px;\n",
              "    }\n",
              "\n",
              "    .colab-df-convert {\n",
              "      background-color: #E8F0FE;\n",
              "      border: none;\n",
              "      border-radius: 50%;\n",
              "      cursor: pointer;\n",
              "      display: none;\n",
              "      fill: #1967D2;\n",
              "      height: 32px;\n",
              "      padding: 0 0 0 0;\n",
              "      width: 32px;\n",
              "    }\n",
              "\n",
              "    .colab-df-convert:hover {\n",
              "      background-color: #E2EBFA;\n",
              "      box-shadow: 0px 1px 2px rgba(60, 64, 67, 0.3), 0px 1px 3px 1px rgba(60, 64, 67, 0.15);\n",
              "      fill: #174EA6;\n",
              "    }\n",
              "\n",
              "    [theme=dark] .colab-df-convert {\n",
              "      background-color: #3B4455;\n",
              "      fill: #D2E3FC;\n",
              "    }\n",
              "\n",
              "    [theme=dark] .colab-df-convert:hover {\n",
              "      background-color: #434B5C;\n",
              "      box-shadow: 0px 1px 3px 1px rgba(0, 0, 0, 0.15);\n",
              "      filter: drop-shadow(0px 1px 2px rgba(0, 0, 0, 0.3));\n",
              "      fill: #FFFFFF;\n",
              "    }\n",
              "  </style>\n",
              "\n",
              "      <script>\n",
              "        const buttonEl =\n",
              "          document.querySelector('#df-60aad511-644f-47f3-a1b3-7dfd25f738d0 button.colab-df-convert');\n",
              "        buttonEl.style.display =\n",
              "          google.colab.kernel.accessAllowed ? 'block' : 'none';\n",
              "\n",
              "        async function convertToInteractive(key) {\n",
              "          const element = document.querySelector('#df-60aad511-644f-47f3-a1b3-7dfd25f738d0');\n",
              "          const dataTable =\n",
              "            await google.colab.kernel.invokeFunction('convertToInteractive',\n",
              "                                                     [key], {});\n",
              "          if (!dataTable) return;\n",
              "\n",
              "          const docLinkHtml = 'Like what you see? Visit the ' +\n",
              "            '<a target=\"_blank\" href=https://colab.research.google.com/notebooks/data_table.ipynb>data table notebook</a>'\n",
              "            + ' to learn more about interactive tables.';\n",
              "          element.innerHTML = '';\n",
              "          dataTable['output_type'] = 'display_data';\n",
              "          await google.colab.output.renderOutput(dataTable, element);\n",
              "          const docLink = document.createElement('div');\n",
              "          docLink.innerHTML = docLinkHtml;\n",
              "          element.appendChild(docLink);\n",
              "        }\n",
              "      </script>\n",
              "    </div>\n",
              "  </div>\n",
              "  "
            ]
          },
          "metadata": {},
          "execution_count": 73
        }
      ]
    },
    {
      "cell_type": "code",
      "source": [
        "train_daily_total_sd.head()"
      ],
      "metadata": {
        "colab": {
          "base_uri": "https://localhost:8080/",
          "height": 287
        },
        "id": "Sbn9mHl7uduT",
        "outputId": "211a6162-e3e1-4081-dbfe-7be77d2f59f6"
      },
      "execution_count": 74,
      "outputs": [
        {
          "output_type": "execute_result",
          "data": {
            "text/plain": [
              "    내부온도관측치   내부습도관측치    co2관측치     ec관측치    시간당분무량   일간누적분무량   시간당백색광량  \\\n",
              "0  0.314405  1.317192  0.378530 -0.119031 -0.916947 -0.926895  1.066966   \n",
              "1  0.479803  1.318452  0.261548 -0.128204 -0.914911 -0.915533  1.073616   \n",
              "2  0.200631  1.274010  0.422150 -0.119901 -0.902971 -0.911654  1.067443   \n",
              "3  0.032292  1.253488  2.748726 -0.111360 -0.914911 -0.915533  1.073616   \n",
              "4  0.150372  1.323639  0.425306 -0.108865 -0.919661 -0.942159  1.068525   \n",
              "\n",
              "   일간누적백색광량   시간당적색광량  일간누적적색광량   시간당청색광량  일간누적청색광량    시간당총광량   일간누적총광량  \\\n",
              "0  1.058826 -0.446745 -0.436577 -0.705412 -0.662398  0.629048  0.646410   \n",
              "1  1.065036 -0.446562 -0.436516 -0.705412 -0.662398  0.637281  0.654383   \n",
              "2  1.058121 -0.447172 -0.437193 -0.705412 -0.662398  0.629339  0.645055   \n",
              "3  1.065036 -0.446562 -0.436516 -0.705412 -0.662398  0.637281  0.654383   \n",
              "4  1.058710 -0.447050 -0.437111 -0.705412 -0.662398  0.630741  0.645867   \n",
              "\n",
              "   predicted_weight_g  초기 대비 성장률(%)  전날 대비 성장률(%)  \n",
              "0            0.181787     58.551144     46.281423  \n",
              "1            0.265921    152.594543     59.314235  \n",
              "2            0.423650    183.373579     12.185154  \n",
              "3            0.475272   1057.814298    308.582304  \n",
              "4            1.941879   1289.762329     20.033267  "
            ],
            "text/html": [
              "\n",
              "  <div id=\"df-a6b970b6-59ad-4812-b358-fe8231aab678\">\n",
              "    <div class=\"colab-df-container\">\n",
              "      <div>\n",
              "<style scoped>\n",
              "    .dataframe tbody tr th:only-of-type {\n",
              "        vertical-align: middle;\n",
              "    }\n",
              "\n",
              "    .dataframe tbody tr th {\n",
              "        vertical-align: top;\n",
              "    }\n",
              "\n",
              "    .dataframe thead th {\n",
              "        text-align: right;\n",
              "    }\n",
              "</style>\n",
              "<table border=\"1\" class=\"dataframe\">\n",
              "  <thead>\n",
              "    <tr style=\"text-align: right;\">\n",
              "      <th></th>\n",
              "      <th>내부온도관측치</th>\n",
              "      <th>내부습도관측치</th>\n",
              "      <th>co2관측치</th>\n",
              "      <th>ec관측치</th>\n",
              "      <th>시간당분무량</th>\n",
              "      <th>일간누적분무량</th>\n",
              "      <th>시간당백색광량</th>\n",
              "      <th>일간누적백색광량</th>\n",
              "      <th>시간당적색광량</th>\n",
              "      <th>일간누적적색광량</th>\n",
              "      <th>시간당청색광량</th>\n",
              "      <th>일간누적청색광량</th>\n",
              "      <th>시간당총광량</th>\n",
              "      <th>일간누적총광량</th>\n",
              "      <th>predicted_weight_g</th>\n",
              "      <th>초기 대비 성장률(%)</th>\n",
              "      <th>전날 대비 성장률(%)</th>\n",
              "    </tr>\n",
              "  </thead>\n",
              "  <tbody>\n",
              "    <tr>\n",
              "      <th>0</th>\n",
              "      <td>0.314405</td>\n",
              "      <td>1.317192</td>\n",
              "      <td>0.378530</td>\n",
              "      <td>-0.119031</td>\n",
              "      <td>-0.916947</td>\n",
              "      <td>-0.926895</td>\n",
              "      <td>1.066966</td>\n",
              "      <td>1.058826</td>\n",
              "      <td>-0.446745</td>\n",
              "      <td>-0.436577</td>\n",
              "      <td>-0.705412</td>\n",
              "      <td>-0.662398</td>\n",
              "      <td>0.629048</td>\n",
              "      <td>0.646410</td>\n",
              "      <td>0.181787</td>\n",
              "      <td>58.551144</td>\n",
              "      <td>46.281423</td>\n",
              "    </tr>\n",
              "    <tr>\n",
              "      <th>1</th>\n",
              "      <td>0.479803</td>\n",
              "      <td>1.318452</td>\n",
              "      <td>0.261548</td>\n",
              "      <td>-0.128204</td>\n",
              "      <td>-0.914911</td>\n",
              "      <td>-0.915533</td>\n",
              "      <td>1.073616</td>\n",
              "      <td>1.065036</td>\n",
              "      <td>-0.446562</td>\n",
              "      <td>-0.436516</td>\n",
              "      <td>-0.705412</td>\n",
              "      <td>-0.662398</td>\n",
              "      <td>0.637281</td>\n",
              "      <td>0.654383</td>\n",
              "      <td>0.265921</td>\n",
              "      <td>152.594543</td>\n",
              "      <td>59.314235</td>\n",
              "    </tr>\n",
              "    <tr>\n",
              "      <th>2</th>\n",
              "      <td>0.200631</td>\n",
              "      <td>1.274010</td>\n",
              "      <td>0.422150</td>\n",
              "      <td>-0.119901</td>\n",
              "      <td>-0.902971</td>\n",
              "      <td>-0.911654</td>\n",
              "      <td>1.067443</td>\n",
              "      <td>1.058121</td>\n",
              "      <td>-0.447172</td>\n",
              "      <td>-0.437193</td>\n",
              "      <td>-0.705412</td>\n",
              "      <td>-0.662398</td>\n",
              "      <td>0.629339</td>\n",
              "      <td>0.645055</td>\n",
              "      <td>0.423650</td>\n",
              "      <td>183.373579</td>\n",
              "      <td>12.185154</td>\n",
              "    </tr>\n",
              "    <tr>\n",
              "      <th>3</th>\n",
              "      <td>0.032292</td>\n",
              "      <td>1.253488</td>\n",
              "      <td>2.748726</td>\n",
              "      <td>-0.111360</td>\n",
              "      <td>-0.914911</td>\n",
              "      <td>-0.915533</td>\n",
              "      <td>1.073616</td>\n",
              "      <td>1.065036</td>\n",
              "      <td>-0.446562</td>\n",
              "      <td>-0.436516</td>\n",
              "      <td>-0.705412</td>\n",
              "      <td>-0.662398</td>\n",
              "      <td>0.637281</td>\n",
              "      <td>0.654383</td>\n",
              "      <td>0.475272</td>\n",
              "      <td>1057.814298</td>\n",
              "      <td>308.582304</td>\n",
              "    </tr>\n",
              "    <tr>\n",
              "      <th>4</th>\n",
              "      <td>0.150372</td>\n",
              "      <td>1.323639</td>\n",
              "      <td>0.425306</td>\n",
              "      <td>-0.108865</td>\n",
              "      <td>-0.919661</td>\n",
              "      <td>-0.942159</td>\n",
              "      <td>1.068525</td>\n",
              "      <td>1.058710</td>\n",
              "      <td>-0.447050</td>\n",
              "      <td>-0.437111</td>\n",
              "      <td>-0.705412</td>\n",
              "      <td>-0.662398</td>\n",
              "      <td>0.630741</td>\n",
              "      <td>0.645867</td>\n",
              "      <td>1.941879</td>\n",
              "      <td>1289.762329</td>\n",
              "      <td>20.033267</td>\n",
              "    </tr>\n",
              "  </tbody>\n",
              "</table>\n",
              "</div>\n",
              "      <button class=\"colab-df-convert\" onclick=\"convertToInteractive('df-a6b970b6-59ad-4812-b358-fe8231aab678')\"\n",
              "              title=\"Convert this dataframe to an interactive table.\"\n",
              "              style=\"display:none;\">\n",
              "        \n",
              "  <svg xmlns=\"http://www.w3.org/2000/svg\" height=\"24px\"viewBox=\"0 0 24 24\"\n",
              "       width=\"24px\">\n",
              "    <path d=\"M0 0h24v24H0V0z\" fill=\"none\"/>\n",
              "    <path d=\"M18.56 5.44l.94 2.06.94-2.06 2.06-.94-2.06-.94-.94-2.06-.94 2.06-2.06.94zm-11 1L8.5 8.5l.94-2.06 2.06-.94-2.06-.94L8.5 2.5l-.94 2.06-2.06.94zm10 10l.94 2.06.94-2.06 2.06-.94-2.06-.94-.94-2.06-.94 2.06-2.06.94z\"/><path d=\"M17.41 7.96l-1.37-1.37c-.4-.4-.92-.59-1.43-.59-.52 0-1.04.2-1.43.59L10.3 9.45l-7.72 7.72c-.78.78-.78 2.05 0 2.83L4 21.41c.39.39.9.59 1.41.59.51 0 1.02-.2 1.41-.59l7.78-7.78 2.81-2.81c.8-.78.8-2.07 0-2.86zM5.41 20L4 18.59l7.72-7.72 1.47 1.35L5.41 20z\"/>\n",
              "  </svg>\n",
              "      </button>\n",
              "      \n",
              "  <style>\n",
              "    .colab-df-container {\n",
              "      display:flex;\n",
              "      flex-wrap:wrap;\n",
              "      gap: 12px;\n",
              "    }\n",
              "\n",
              "    .colab-df-convert {\n",
              "      background-color: #E8F0FE;\n",
              "      border: none;\n",
              "      border-radius: 50%;\n",
              "      cursor: pointer;\n",
              "      display: none;\n",
              "      fill: #1967D2;\n",
              "      height: 32px;\n",
              "      padding: 0 0 0 0;\n",
              "      width: 32px;\n",
              "    }\n",
              "\n",
              "    .colab-df-convert:hover {\n",
              "      background-color: #E2EBFA;\n",
              "      box-shadow: 0px 1px 2px rgba(60, 64, 67, 0.3), 0px 1px 3px 1px rgba(60, 64, 67, 0.15);\n",
              "      fill: #174EA6;\n",
              "    }\n",
              "\n",
              "    [theme=dark] .colab-df-convert {\n",
              "      background-color: #3B4455;\n",
              "      fill: #D2E3FC;\n",
              "    }\n",
              "\n",
              "    [theme=dark] .colab-df-convert:hover {\n",
              "      background-color: #434B5C;\n",
              "      box-shadow: 0px 1px 3px 1px rgba(0, 0, 0, 0.15);\n",
              "      filter: drop-shadow(0px 1px 2px rgba(0, 0, 0, 0.3));\n",
              "      fill: #FFFFFF;\n",
              "    }\n",
              "  </style>\n",
              "\n",
              "      <script>\n",
              "        const buttonEl =\n",
              "          document.querySelector('#df-a6b970b6-59ad-4812-b358-fe8231aab678 button.colab-df-convert');\n",
              "        buttonEl.style.display =\n",
              "          google.colab.kernel.accessAllowed ? 'block' : 'none';\n",
              "\n",
              "        async function convertToInteractive(key) {\n",
              "          const element = document.querySelector('#df-a6b970b6-59ad-4812-b358-fe8231aab678');\n",
              "          const dataTable =\n",
              "            await google.colab.kernel.invokeFunction('convertToInteractive',\n",
              "                                                     [key], {});\n",
              "          if (!dataTable) return;\n",
              "\n",
              "          const docLinkHtml = 'Like what you see? Visit the ' +\n",
              "            '<a target=\"_blank\" href=https://colab.research.google.com/notebooks/data_table.ipynb>data table notebook</a>'\n",
              "            + ' to learn more about interactive tables.';\n",
              "          element.innerHTML = '';\n",
              "          dataTable['output_type'] = 'display_data';\n",
              "          await google.colab.output.renderOutput(dataTable, element);\n",
              "          const docLink = document.createElement('div');\n",
              "          docLink.innerHTML = docLinkHtml;\n",
              "          element.appendChild(docLink);\n",
              "        }\n",
              "      </script>\n",
              "    </div>\n",
              "  </div>\n",
              "  "
            ]
          },
          "metadata": {},
          "execution_count": 74
        }
      ]
    },
    {
      "cell_type": "markdown",
      "source": [
        "## 상관관계 보기 (미완)\n",
        "\n",
        "일별데이터로 새로운 데이터를 만들어서 성장률과 각 컬럼을 비교함"
      ],
      "metadata": {
        "id": "JjEyB7zLrO4N"
      }
    },
    {
      "cell_type": "code",
      "source": [
        "plt.rcParams['font.family'] = 'NanumGothic'"
      ],
      "metadata": {
        "id": "2IrkIjmznrd3"
      },
      "execution_count": 75,
      "outputs": []
    },
    {
      "cell_type": "code",
      "source": [
        "sns.set(font=\"NanumGothic\",rc = {'figure.figsize':(15,8)})\n",
        "\n",
        "sns.heatmap(data=train_daily_total_sd.corr(), annot=True)\n",
        "plt.title('일별 총합 데이터 상관관계', fontsize=20)"
      ],
      "metadata": {
        "colab": {
          "base_uri": "https://localhost:8080/",
          "height": 616
        },
        "id": "K6V90JsSlC1h",
        "outputId": "b5df7834-d9e8-4179-9b70-92fdd9082035"
      },
      "execution_count": 87,
      "outputs": [
        {
          "output_type": "execute_result",
          "data": {
            "text/plain": [
              "Text(0.5, 1.0, '일별 총합 데이터 상관관계')"
            ]
          },
          "metadata": {},
          "execution_count": 87
        },
        {
          "output_type": "display_data",
          "data": {
            "text/plain": [
              "<Figure size 1080x576 with 2 Axes>"
            ],
            "image/png": "[encoded data removed]"
          },
          "metadata": {}
        }
      ]
    },
    {
      "cell_type": "code",
      "source": [
        "sns.set(font=\"NanumGothic\",rc = {'figure.figsize':(15,8)})\n",
        "\n",
        "sns.heatmap(data=train_stacked_total_sd.corr(), annot=True)\n",
        "plt.title('누적 총합 데이터 상관관계', fontsize=20)"
      ],
      "metadata": {
        "colab": {
          "base_uri": "https://localhost:8080/",
          "height": 616
        },
        "id": "5UAWCaL2r_ls",
        "outputId": "eea4758a-f2fa-4e2d-97b7-02b5525e9752"
      },
      "execution_count": 86,
      "outputs": [
        {
          "output_type": "execute_result",
          "data": {
            "text/plain": [
              "Text(0.5, 1.0, '누적 총합 데이터 상관관계')"
            ]
          },
          "metadata": {},
          "execution_count": 86
        },
        {
          "output_type": "display_data",
          "data": {
            "text/plain": [
              "<Figure size 1080x576 with 2 Axes>"
            ],
            "image/png": "[encoded data removed]"
          },
          "metadata": {}
        }
      ]
    },
    {
      "cell_type": "markdown",
      "source": [
        "# 모델링\n",
        "\n",
        "1. lstm을 사용하는 모델\n",
        "2. lgbm regressor를 사용하는 모델\n",
        "3. CNN을 사용하는 모델..?? <br>(갑자기 든 생각인데, 1d CNN을 사용하거나 세로가 낮은 CNN을 사용해도 적절한 모델을 만들 수 있지 않을까 라는 생각이 든다.)"
      ],
      "metadata": {
        "id": "6osNndlzFftF"
      }
    },
    {
      "cell_type": "code",
      "source": [
        "train_daily_total = train_daily_total.astype(np.int32)\n",
        "train_stacked_total = train_stacked_total.astype(np.int32)"
      ],
      "metadata": {
        "id": "8f7NP6jj-eb3"
      },
      "execution_count": 94,
      "outputs": []
    },
    {
      "cell_type": "markdown",
      "source": [
        "## LSTM 사용 모델\n",
        "[내가 공부한 RNN 깃허브](https://github.com/donghui-0126/machine-learning/blob/main/%ED%95%B8%EC%A6%88%EC%98%A8%EB%A8%B8%EC%8B%A0%EB%9F%AC%EB%8B%9D/2%EC%9E%A5%20%EB%94%A5%EB%9F%AC%EB%8B%9D/%5B15%EC%9E%A5%5D_RNN%EA%B3%BC_CNN%EC%9D%84_%EC%82%AC%EC%9A%A9%ED%95%B4_%EC%8B%9C%ED%80%80%EC%8A%A4_%EC%B2%98%EB%A6%AC%ED%95%98%EA%B8%B0.ipynb)"
      ],
      "metadata": {
        "id": "LjbY6wltFhY6"
      }
    },
    {
      "cell_type": "code",
      "source": [
        "def last_time_step_mse(Y_true, Y_pred):\n",
        "    return keras.metrics.mean_squared_error(Y_true[:, -1], Y_pred[:, -1])"
      ],
      "metadata": {
        "id": "e1z1Cd8vuZuS"
      },
      "execution_count": 101,
      "outputs": []
    },
    {
      "cell_type": "code",
      "source": [
        "lstm_model1 = keras.models.Sequential([\n",
        "    keras.layers.LSTM(30, return_sequences=True, input_shape=[None, 1]),\n",
        "    keras.layers.LSTM(30, return_sequences=True),\n",
        "    keras.layers.TimeDistributed(keras.layers.Dense(1))\n",
        "])\n",
        "\n",
        "lstm_model1.compile(loss=\"mse\", optimizer=\"adam\", metrics=[last_time_step_mse])\n",
        "\n",
        "lstm_model1.fit(train_daily_total_sd.iloc[:, :-3], train_daily_total.iloc[:,-3], epochs=5)"
      ],
      "metadata": {
        "id": "AW_nVZocSpRd",
        "colab": {
          "base_uri": "https://localhost:8080/"
        },
        "outputId": "30bb774f-9297-48c4-dedc-b03d9de4b4e9"
      },
      "execution_count": 140,
      "outputs": [
        {
          "output_type": "stream",
          "name": "stdout",
          "text": [
            "Epoch 1/5\n",
            "24/24 [==============================] - 9s 16ms/step - loss: 3006.6672 - last_time_step_mse: 2986.5393\n",
            "Epoch 2/5\n",
            "24/24 [==============================] - 0s 16ms/step - loss: 2869.5037 - last_time_step_mse: 2746.5264\n",
            "Epoch 3/5\n",
            "24/24 [==============================] - 0s 17ms/step - loss: 2639.4167 - last_time_step_mse: 2501.3965\n",
            "Epoch 4/5\n",
            "24/24 [==============================] - 0s 16ms/step - loss: 2534.1973 - last_time_step_mse: 2411.0300\n",
            "Epoch 5/5\n",
            "24/24 [==============================] - 0s 16ms/step - loss: 2468.0188 - last_time_step_mse: 2397.5825\n"
          ]
        },
        {
          "output_type": "execute_result",
          "data": {
            "text/plain": [
              "<keras.callbacks.History at 0x7fb4542444f0>"
            ]
          },
          "metadata": {},
          "execution_count": 140
        }
      ]
    },
    {
      "cell_type": "code",
      "source": [
        "lstm_model2 = keras.models.Sequential([\n",
        "    keras.layers.LSTM(30, return_sequences=True, input_shape=[None, 1]),\n",
        "    keras.layers.LSTM(30, return_sequences=True),\n",
        "    keras.layers.TimeDistributed(keras.layers.Dense(1))\n",
        "])\n",
        "\n",
        "lstm_model2.compile(loss=\"mse\", optimizer=\"adam\", metrics=[last_time_step_mse])\n",
        "\n",
        "lstm_model2.fit(train_daily_total_sd.iloc[:, :-3], train_daily_total.iloc[:,-2], epochs=5)"
      ],
      "metadata": {
        "colab": {
          "base_uri": "https://localhost:8080/"
        },
        "id": "RFXHpceLAFjH",
        "outputId": "9813747e-f897-417b-a714-02ec98fd4403"
      },
      "execution_count": 141,
      "outputs": [
        {
          "output_type": "stream",
          "name": "stdout",
          "text": [
            "Epoch 1/5\n",
            "24/24 [==============================] - 4s 17ms/step - loss: 176501888.0000 - last_time_step_mse: 177180928.0000\n",
            "Epoch 2/5\n",
            "24/24 [==============================] - 0s 16ms/step - loss: 176482496.0000 - last_time_step_mse: 174451664.0000\n",
            "Epoch 3/5\n",
            "24/24 [==============================] - 0s 16ms/step - loss: 176441424.0000 - last_time_step_mse: 175395280.0000\n",
            "Epoch 4/5\n",
            "24/24 [==============================] - 0s 17ms/step - loss: 176414496.0000 - last_time_step_mse: 174946032.0000\n",
            "Epoch 5/5\n",
            "24/24 [==============================] - 0s 16ms/step - loss: 176398160.0000 - last_time_step_mse: 177468960.0000\n"
          ]
        },
        {
          "output_type": "execute_result",
          "data": {
            "text/plain": [
              "<keras.callbacks.History at 0x7fb45747ea00>"
            ]
          },
          "metadata": {},
          "execution_count": 141
        }
      ]
    },
    {
      "cell_type": "code",
      "source": [
        "lstm_model3 = keras.models.Sequential([\n",
        "    keras.layers.LSTM(30, return_sequences=True, input_shape=[None, 1]),\n",
        "    keras.layers.LSTM(30, return_sequences=True),\n",
        "    keras.layers.TimeDistributed(keras.layers.Dense(1))\n",
        "])\n",
        "\n",
        "lstm_model3.compile(loss=\"mse\", optimizer=\"adam\", metrics=[last_time_step_mse])\n",
        "\n",
        "lstm_model3.fit(train_daily_total_sd.iloc[:, :-3], train_daily_total.iloc[:,-1], epochs=5)"
      ],
      "metadata": {
        "colab": {
          "base_uri": "https://localhost:8080/"
        },
        "id": "6h93NWfaAFgF",
        "outputId": "06fca99b-4910-441b-902f-c036fed3354e"
      },
      "execution_count": 142,
      "outputs": [
        {
          "output_type": "stream",
          "name": "stdout",
          "text": [
            "Epoch 1/5\n",
            "24/24 [==============================] - 4s 15ms/step - loss: 1039.6421 - last_time_step_mse: 1035.7340\n",
            "Epoch 2/5\n",
            "24/24 [==============================] - 0s 16ms/step - loss: 977.1674 - last_time_step_mse: 911.7812\n",
            "Epoch 3/5\n",
            "24/24 [==============================] - 0s 15ms/step - loss: 894.1306 - last_time_step_mse: 838.5962\n",
            "Epoch 4/5\n",
            "24/24 [==============================] - 0s 16ms/step - loss: 853.4399 - last_time_step_mse: 796.2219\n",
            "Epoch 5/5\n",
            "24/24 [==============================] - 0s 16ms/step - loss: 829.6949 - last_time_step_mse: 782.4127\n"
          ]
        },
        {
          "output_type": "execute_result",
          "data": {
            "text/plain": [
              "<keras.callbacks.History at 0x7fb4646cbb80>"
            ]
          },
          "metadata": {},
          "execution_count": 142
        }
      ]
    },
    {
      "cell_type": "code",
      "source": [
        "lstm_model4 = keras.models.Sequential([\n",
        "    keras.layers.LSTM(30, return_sequences=True, input_shape=[None, 1]),\n",
        "    keras.layers.LSTM(30, return_sequences=True),\n",
        "    keras.layers.TimeDistributed(keras.layers.Dense(1))\n",
        "])\n",
        "\n",
        "lstm_model4.compile(loss=\"mse\", optimizer=\"adam\", metrics=[last_time_step_mse])\n",
        "\n",
        "lstm_model4.fit(train_daily_total_sd.iloc[:, :-3], train_stacked_total.iloc[:,-3], epochs=5)"
      ],
      "metadata": {
        "colab": {
          "base_uri": "https://localhost:8080/"
        },
        "id": "SescmhTpAFdQ",
        "outputId": "4c2342e2-91e7-4bb1-a5e8-022730700ac7"
      },
      "execution_count": 143,
      "outputs": [
        {
          "output_type": "stream",
          "name": "stdout",
          "text": [
            "Epoch 1/5\n",
            "24/24 [==============================] - 4s 16ms/step - loss: 3006.9954 - last_time_step_mse: 2986.1521\n",
            "Epoch 2/5\n",
            "24/24 [==============================] - 0s 16ms/step - loss: 2878.8440 - last_time_step_mse: 2761.4854\n",
            "Epoch 3/5\n",
            "24/24 [==============================] - 0s 16ms/step - loss: 2673.1831 - last_time_step_mse: 2546.5222\n",
            "Epoch 4/5\n",
            "24/24 [==============================] - 0s 17ms/step - loss: 2570.4314 - last_time_step_mse: 2453.5491\n",
            "Epoch 5/5\n",
            "24/24 [==============================] - 0s 17ms/step - loss: 2505.7849 - last_time_step_mse: 2441.4421\n"
          ]
        },
        {
          "output_type": "execute_result",
          "data": {
            "text/plain": [
              "<keras.callbacks.History at 0x7fb46576edf0>"
            ]
          },
          "metadata": {},
          "execution_count": 143
        }
      ]
    },
    {
      "cell_type": "code",
      "source": [
        "lstm_model5 = keras.models.Sequential([\n",
        "    keras.layers.LSTM(30, return_sequences=True, input_shape=[None, 1]),\n",
        "    keras.layers.LSTM(30, return_sequences=True),\n",
        "    keras.layers.TimeDistributed(keras.layers.Dense(1))\n",
        "])\n",
        "\n",
        "lstm_model5.compile(loss=\"mse\", optimizer=\"adam\", metrics=[last_time_step_mse])\n",
        "\n",
        "lstm_model5.fit(train_daily_total_sd.iloc[:, :-3], train_stacked_total.iloc[:,-2], epochs=5)"
      ],
      "metadata": {
        "colab": {
          "base_uri": "https://localhost:8080/"
        },
        "id": "AyFS0zfyAFa5",
        "outputId": "045d5a07-827d-4bba-9fd0-6e39bbca0ab6"
      },
      "execution_count": 144,
      "outputs": [
        {
          "output_type": "stream",
          "name": "stdout",
          "text": [
            "Epoch 1/5\n",
            "24/24 [==============================] - 4s 16ms/step - loss: 176501824.0000 - last_time_step_mse: 177181216.0000\n",
            "Epoch 2/5\n",
            "24/24 [==============================] - 0s 16ms/step - loss: 176480512.0000 - last_time_step_mse: 174448432.0000\n",
            "Epoch 3/5\n",
            "24/24 [==============================] - 0s 16ms/step - loss: 176432288.0000 - last_time_step_mse: 175382560.0000\n",
            "Epoch 4/5\n",
            "24/24 [==============================] - 0s 16ms/step - loss: 176402384.0000 - last_time_step_mse: 174931056.0000\n",
            "Epoch 5/5\n",
            "24/24 [==============================] - 0s 16ms/step - loss: 176385056.0000 - last_time_step_mse: 177453232.0000\n"
          ]
        },
        {
          "output_type": "execute_result",
          "data": {
            "text/plain": [
              "<keras.callbacks.History at 0x7fb4627863d0>"
            ]
          },
          "metadata": {},
          "execution_count": 144
        }
      ]
    },
    {
      "cell_type": "code",
      "source": [
        "lstm_model6 = keras.models.Sequential([\n",
        "    keras.layers.LSTM(30, return_sequences=True, input_shape=[None, 1]),\n",
        "    keras.layers.LSTM(30, return_sequences=True),\n",
        "    keras.layers.TimeDistributed(keras.layers.Dense(1))\n",
        "])\n",
        "\n",
        "lstm_model6.compile(loss=\"mse\", optimizer=\"adam\", metrics=[last_time_step_mse])\n",
        "\n",
        "lstm_model6.fit(train_daily_total_sd.iloc[:, :-3], train_stacked_total.iloc[:,-1], epochs=5)"
      ],
      "metadata": {
        "colab": {
          "base_uri": "https://localhost:8080/"
        },
        "id": "5q99eabpAFYa",
        "outputId": "102129db-999c-4649-9efb-5ccf77b147b6"
      },
      "execution_count": 145,
      "outputs": [
        {
          "output_type": "stream",
          "name": "stdout",
          "text": [
            "Epoch 1/5\n",
            "24/24 [==============================] - 8s 35ms/step - loss: 1039.0197 - last_time_step_mse: 1035.2704\n",
            "Epoch 2/5\n",
            "24/24 [==============================] - 1s 31ms/step - loss: 973.1667 - last_time_step_mse: 906.5633\n",
            "Epoch 3/5\n",
            "24/24 [==============================] - 1s 28ms/step - loss: 882.8904 - last_time_step_mse: 823.8035\n",
            "Epoch 4/5\n",
            "24/24 [==============================] - 0s 16ms/step - loss: 839.7906 - last_time_step_mse: 780.5502\n",
            "Epoch 5/5\n",
            "24/24 [==============================] - 0s 15ms/step - loss: 816.7287 - last_time_step_mse: 768.2162\n"
          ]
        },
        {
          "output_type": "execute_result",
          "data": {
            "text/plain": [
              "<keras.callbacks.History at 0x7fb456dc2340>"
            ]
          },
          "metadata": {},
          "execution_count": 145
        }
      ]
    },
    {
      "cell_type": "markdown",
      "source": [
        "오우 타겟데이터는 전날대비 성장률로 하는게 적절해 보인다."
      ],
      "metadata": {
        "id": "wONrLWYTAFVj"
      }
    },
    {
      "cell_type": "code",
      "source": [
        "lstm_model3.fit(train_stacked_total_sd.iloc[:, :-3], train_stacked_total_sd.iloc[:,-1], epochs=30)"
      ],
      "metadata": {
        "id": "TCme0ieVSO8N",
        "colab": {
          "base_uri": "https://localhost:8080/"
        },
        "outputId": "8333441f-add8-4974-a130-3fed940b56aa"
      },
      "execution_count": 146,
      "outputs": [
        {
          "output_type": "stream",
          "name": "stdout",
          "text": [
            "Epoch 1/30\n",
            "24/24 [==============================] - 3s 16ms/step - loss: 822.3964 - last_time_step_mse: 784.5766\n",
            "Epoch 2/30\n",
            "24/24 [==============================] - 0s 16ms/step - loss: 804.4086 - last_time_step_mse: 760.6045\n",
            "Epoch 3/30\n",
            "24/24 [==============================] - 0s 17ms/step - loss: 790.5861 - last_time_step_mse: 761.1960\n",
            "Epoch 4/30\n",
            "24/24 [==============================] - 0s 19ms/step - loss: 778.7652 - last_time_step_mse: 740.5137\n",
            "Epoch 5/30\n",
            "24/24 [==============================] - 1s 33ms/step - loss: 768.8749 - last_time_step_mse: 736.9100\n",
            "Epoch 6/30\n",
            "24/24 [==============================] - 1s 38ms/step - loss: 760.5132 - last_time_step_mse: 727.8576\n",
            "Epoch 7/30\n",
            "24/24 [==============================] - 1s 41ms/step - loss: 753.3361 - last_time_step_mse: 721.5186\n",
            "Epoch 8/30\n",
            "24/24 [==============================] - 1s 38ms/step - loss: 746.7060 - last_time_step_mse: 716.6572\n",
            "Epoch 9/30\n",
            "24/24 [==============================] - 1s 22ms/step - loss: 741.3715 - last_time_step_mse: 713.4097\n",
            "Epoch 10/30\n",
            "24/24 [==============================] - 1s 25ms/step - loss: 736.4338 - last_time_step_mse: 711.2606\n",
            "Epoch 11/30\n",
            "24/24 [==============================] - 1s 26ms/step - loss: 729.1149 - last_time_step_mse: 756.2587\n",
            "Epoch 12/30\n",
            "24/24 [==============================] - 1s 27ms/step - loss: 721.6470 - last_time_step_mse: 747.2928\n",
            "Epoch 13/30\n",
            "24/24 [==============================] - 0s 16ms/step - loss: 722.7370 - last_time_step_mse: 701.9934\n",
            "Epoch 14/30\n",
            "24/24 [==============================] - 0s 16ms/step - loss: 716.4999 - last_time_step_mse: 695.1169\n",
            "Epoch 15/30\n",
            "24/24 [==============================] - 0s 16ms/step - loss: 711.2059 - last_time_step_mse: 688.1118\n",
            "Epoch 16/30\n",
            "24/24 [==============================] - 0s 17ms/step - loss: 708.7782 - last_time_step_mse: 686.1956\n",
            "Epoch 17/30\n",
            "24/24 [==============================] - 0s 15ms/step - loss: 704.8719 - last_time_step_mse: 686.1683\n",
            "Epoch 18/30\n",
            "24/24 [==============================] - 0s 15ms/step - loss: 701.1926 - last_time_step_mse: 679.9984\n",
            "Epoch 19/30\n",
            "24/24 [==============================] - 0s 16ms/step - loss: 697.8361 - last_time_step_mse: 763.4359\n",
            "Epoch 20/30\n",
            "24/24 [==============================] - 0s 15ms/step - loss: 694.4801 - last_time_step_mse: 673.2530\n",
            "Epoch 21/30\n",
            "24/24 [==============================] - 1s 21ms/step - loss: 691.3509 - last_time_step_mse: 672.0723\n",
            "Epoch 22/30\n",
            "24/24 [==============================] - 1s 28ms/step - loss: 687.7874 - last_time_step_mse: 668.5546\n",
            "Epoch 23/30\n",
            "24/24 [==============================] - 1s 23ms/step - loss: 685.3067 - last_time_step_mse: 670.6832\n",
            "Epoch 24/30\n",
            "24/24 [==============================] - 0s 15ms/step - loss: 682.7032 - last_time_step_mse: 663.0403\n",
            "Epoch 25/30\n",
            "24/24 [==============================] - 0s 16ms/step - loss: 680.2691 - last_time_step_mse: 660.5099\n",
            "Epoch 26/30\n",
            "24/24 [==============================] - 0s 16ms/step - loss: 677.6909 - last_time_step_mse: 657.1791\n",
            "Epoch 27/30\n",
            "24/24 [==============================] - 0s 16ms/step - loss: 676.3127 - last_time_step_mse: 669.1442\n",
            "Epoch 28/30\n",
            "24/24 [==============================] - 1s 25ms/step - loss: 674.6740 - last_time_step_mse: 679.4596\n",
            "Epoch 29/30\n",
            "24/24 [==============================] - 1s 25ms/step - loss: 673.3044 - last_time_step_mse: 693.2618\n",
            "Epoch 30/30\n",
            "24/24 [==============================] - 1s 24ms/step - loss: 672.6635 - last_time_step_mse: 655.7685\n"
          ]
        },
        {
          "output_type": "execute_result",
          "data": {
            "text/plain": [
              "<keras.callbacks.History at 0x7fb456a577c0>"
            ]
          },
          "metadata": {},
          "execution_count": 146
        }
      ]
    },
    {
      "cell_type": "code",
      "source": [
        "lstm_model6.fit(train_stacked_total_sd.iloc[:, :-3], train_stacked_total_sd.iloc[:,-1], epochs=30)"
      ],
      "metadata": {
        "id": "jjSnjt-LSO6W",
        "colab": {
          "base_uri": "https://localhost:8080/"
        },
        "outputId": "4c3ea8a3-e200-4036-b507-b5ab8992c7e8"
      },
      "execution_count": 147,
      "outputs": [
        {
          "output_type": "stream",
          "name": "stdout",
          "text": [
            "Epoch 1/30\n",
            "24/24 [==============================] - 8s 27ms/step - loss: 810.5419 - last_time_step_mse: 771.5172\n",
            "Epoch 2/30\n",
            "24/24 [==============================] - 1s 27ms/step - loss: 793.7216 - last_time_step_mse: 749.3052\n",
            "Epoch 3/30\n",
            "24/24 [==============================] - 0s 20ms/step - loss: 781.0953 - last_time_step_mse: 751.3747\n",
            "Epoch 4/30\n",
            "24/24 [==============================] - 1s 29ms/step - loss: 770.4554 - last_time_step_mse: 732.1541\n",
            "Epoch 5/30\n",
            "24/24 [==============================] - 1s 34ms/step - loss: 761.6623 - last_time_step_mse: 729.6850\n",
            "Epoch 6/30\n",
            "24/24 [==============================] - 1s 41ms/step - loss: 754.2902 - last_time_step_mse: 721.7720\n",
            "Epoch 7/30\n",
            "24/24 [==============================] - 0s 20ms/step - loss: 748.0047 - last_time_step_mse: 716.3900\n",
            "Epoch 8/30\n",
            "24/24 [==============================] - 1s 22ms/step - loss: 742.2000 - last_time_step_mse: 712.3481\n",
            "Epoch 9/30\n",
            "24/24 [==============================] - 1s 24ms/step - loss: 737.6024 - last_time_step_mse: 709.8491\n",
            "Epoch 10/30\n",
            "24/24 [==============================] - 1s 26ms/step - loss: 733.4370 - last_time_step_mse: 708.2744\n",
            "Epoch 11/30\n",
            "24/24 [==============================] - 1s 27ms/step - loss: 729.3228 - last_time_step_mse: 756.7404\n",
            "Epoch 12/30\n",
            "24/24 [==============================] - 1s 28ms/step - loss: 723.3083 - last_time_step_mse: 750.3436\n",
            "Epoch 13/30\n",
            "24/24 [==============================] - 0s 19ms/step - loss: 714.9263 - last_time_step_mse: 689.8187\n",
            "Epoch 14/30\n",
            "24/24 [==============================] - 0s 17ms/step - loss: 712.4648 - last_time_step_mse: 690.0773\n",
            "Epoch 15/30\n",
            "24/24 [==============================] - 1s 27ms/step - loss: 712.1357 - last_time_step_mse: 695.4443\n",
            "Epoch 16/30\n",
            "24/24 [==============================] - 1s 25ms/step - loss: 705.7794 - last_time_step_mse: 684.6974\n",
            "Epoch 17/30\n",
            "24/24 [==============================] - 1s 32ms/step - loss: 703.1656 - last_time_step_mse: 683.9905\n",
            "Epoch 18/30\n",
            "24/24 [==============================] - 1s 29ms/step - loss: 699.0327 - last_time_step_mse: 679.0518\n",
            "Epoch 19/30\n",
            "24/24 [==============================] - 1s 29ms/step - loss: 695.8599 - last_time_step_mse: 762.4692\n",
            "Epoch 20/30\n",
            "24/24 [==============================] - 0s 20ms/step - loss: 691.9790 - last_time_step_mse: 673.5008\n",
            "Epoch 21/30\n",
            "24/24 [==============================] - 1s 26ms/step - loss: 690.3067 - last_time_step_mse: 674.0151\n",
            "Epoch 22/30\n",
            "24/24 [==============================] - 1s 27ms/step - loss: 687.0498 - last_time_step_mse: 671.4180\n",
            "Epoch 23/30\n",
            "24/24 [==============================] - 0s 20ms/step - loss: 683.6230 - last_time_step_mse: 673.1059\n",
            "Epoch 24/30\n",
            "24/24 [==============================] - 0s 16ms/step - loss: 680.7355 - last_time_step_mse: 662.5755\n",
            "Epoch 25/30\n",
            "24/24 [==============================] - 0s 16ms/step - loss: 678.2790 - last_time_step_mse: 659.6595\n",
            "Epoch 26/30\n",
            "24/24 [==============================] - 0s 16ms/step - loss: 676.1558 - last_time_step_mse: 657.6217\n",
            "Epoch 27/30\n",
            "24/24 [==============================] - 0s 16ms/step - loss: 674.2800 - last_time_step_mse: 668.6238\n",
            "Epoch 28/30\n",
            "24/24 [==============================] - 0s 16ms/step - loss: 671.6740 - last_time_step_mse: 676.9939\n",
            "Epoch 29/30\n",
            "24/24 [==============================] - 0s 15ms/step - loss: 669.1423 - last_time_step_mse: 689.1790\n",
            "Epoch 30/30\n",
            "24/24 [==============================] - 0s 16ms/step - loss: 668.3468 - last_time_step_mse: 652.0594\n"
          ]
        },
        {
          "output_type": "execute_result",
          "data": {
            "text/plain": [
              "<keras.callbacks.History at 0x7fb451c74400>"
            ]
          },
          "metadata": {},
          "execution_count": 147
        }
      ]
    },
    {
      "cell_type": "markdown",
      "source": [
        "거의 비슷한 성능을 보인다. \n"
      ],
      "metadata": {
        "id": "RS_zDRiaSO3N"
      }
    },
    {
      "cell_type": "markdown",
      "source": [
        "## LGBM regressor 사용 모델\n",
        "\n",
        "[내가 공부한 LGBM 깃허브 링크](https://github.com/donghui-0126/machine-learning/blob/main/%ED%8C%8C%EC%9D%B4%EC%8D%AC%20%EB%A8%B8%EC%8B%A0%EB%9F%AC%EB%8B%9D%20%EC%99%84%EB%B2%BD%20%EA%B0%80%EC%9D%B4%EB%93%9C/2.%20%EB%B6%84%EB%A5%98%20%5B%EA%B2%B0%EC%A0%95%ED%8A%B8%EB%A6%AC%2C%20GBM%2C%20XGBoost%2C%20Light%20GBM%2C%20%EB%B2%A0%EC%9D%B4%EC%A7%80%EC%95%88%20%EC%B5%9C%EC%A0%81%ED%99%94%2C%20%EC%8B%A4%EC%8A%B5%2C%20%EC%8A%A4%ED%83%9C%ED%82%B9%5D.ipynb)"
      ],
      "metadata": {
        "id": "C2jD5uYqSIEU"
      }
    },
    {
      "cell_type": "code",
      "source": [
        "from lightgbm import LGBMRegressor\n",
        "from sklearn.metrics import mean_squared_error\n",
        "\n",
        "\n",
        "lgbm_reg1 = LGBMRegressor(n_estimators=400, learning_rate=0.05, loss=\"rmse\")\n",
        "lgbm_reg1.fit(train_stacked_total_sd.iloc[:, :-3], train_stacked_total_sd.iloc[:, -1], verbose=False)\n",
        "\n",
        "pred = lgbm_reg1.predict(train_stacked_total_sd.iloc[:, :-3])\n",
        "mean_squared_error(train_stacked_total_sd.iloc[:, -1], pred)**0.5"
      ],
      "metadata": {
        "id": "TluvpXyXSP8r",
        "colab": {
          "base_uri": "https://localhost:8080/"
        },
        "outputId": "b778c841-dfd2-4dbc-cb8e-47ce9bece9cd"
      },
      "execution_count": 148,
      "outputs": [
        {
          "output_type": "execute_result",
          "data": {
            "text/plain": [
              "11.257860351490299"
            ]
          },
          "metadata": {},
          "execution_count": 148
        }
      ]
    },
    {
      "cell_type": "code",
      "source": [
        "lgbm_reg2 = LGBMRegressor(n_estimators=400, learning_rate=0.05, loss=\"rmse\")\n",
        "lgbm_reg2.fit(train_daily_total_sd.iloc[:, :-3], train_daily_total_sd.iloc[:, -1], verbose=False)\n",
        "\n",
        "pred = lgbm_reg2.predict(train_daily_total_sd.iloc[:, :-3])\n",
        "mean_squared_error(train_daily_total_sd.iloc[:, -1], pred)**0.5"
      ],
      "metadata": {
        "id": "zTRtRBxnSP5R",
        "colab": {
          "base_uri": "https://localhost:8080/"
        },
        "outputId": "2a8b8a02-8fa2-46a7-e462-249ef88fb15d"
      },
      "execution_count": 149,
      "outputs": [
        {
          "output_type": "execute_result",
          "data": {
            "text/plain": [
              "9.887921586990394"
            ]
          },
          "metadata": {},
          "execution_count": 149
        }
      ]
    },
    {
      "cell_type": "code",
      "source": [
        "lgbm_reg3 = LGBMRegressor(n_estimators=400, learning_rate=0.05, loss=\"rmse\")\n",
        "lgbm_reg3.fit(train_stacked_total.iloc[:, :-3], train_stacked_total.iloc[:, -1], verbose=False)\n",
        "\n",
        "pred = lgbm_reg3.predict(train_stacked_total.iloc[:, :-3])\n",
        "mean_squared_error(train_stacked_total.iloc[:, -1], pred)**0.5"
      ],
      "metadata": {
        "colab": {
          "base_uri": "https://localhost:8080/"
        },
        "id": "nQtutkgfMUWg",
        "outputId": "57d2cac6-ee5f-469c-8fab-ca64f3f8aecc"
      },
      "execution_count": 150,
      "outputs": [
        {
          "output_type": "execute_result",
          "data": {
            "text/plain": [
              "10.70448324450677"
            ]
          },
          "metadata": {},
          "execution_count": 150
        }
      ]
    },
    {
      "cell_type": "markdown",
      "source": [
        "## CNN 사용모델 \n",
        "[내가 공부한 CNN 깃허브 링크](https://github.com/donghui-0126/machine-learning/blob/main/%ED%95%B8%EC%A6%88%EC%98%A8%EB%A8%B8%EC%8B%A0%EB%9F%AC%EB%8B%9D/2%EC%9E%A5%20%EB%94%A5%EB%9F%AC%EB%8B%9D/%5B14%EC%9E%A5%5D_%ED%95%A9%EC%84%B1%EA%B3%B1_%EC%8B%A0%EA%B2%BD%EB%A7%9D%EC%9D%84_%EC%82%AC%EC%9A%A9%ED%95%9C_%EC%BB%B4%ED%93%A8%ED%84%B0_%EB%B9%84%EC%A0%84.ipynb)\n",
        "\n",
        "얘는 2d데이터를 그냥 넣어도 되지 않을까...??"
      ],
      "metadata": {
        "id": "dqwG3mW9SMfU"
      }
    },
    {
      "cell_type": "code",
      "source": [],
      "metadata": {
        "id": "TzYq6ppTSOBR"
      },
      "execution_count": null,
      "outputs": []
    },
    {
      "cell_type": "code",
      "source": [],
      "metadata": {
        "id": "2KFxZnIqSQov"
      },
      "execution_count": null,
      "outputs": []
    },
    {
      "cell_type": "code",
      "source": [],
      "metadata": {
        "id": "49wPtNHGSQma"
      },
      "execution_count": null,
      "outputs": []
    },
    {
      "cell_type": "code",
      "source": [],
      "metadata": {
        "id": "oQojrwNaSQjk"
      },
      "execution_count": null,
      "outputs": []
    },
    {
      "cell_type": "code",
      "source": [],
      "metadata": {
        "id": "i0w-Tp97SQfh"
      },
      "execution_count": null,
      "outputs": []
    },
    {
      "cell_type": "markdown",
      "source": [
        "# test 데이터 가공\n",
        "- 데이터셋 합치기/지우기 (28일차 데이터 삭제)\n",
        "- target데이터 가공\n",
        "- noise 데이터 처리\n",
        "- stacked데이터 만들기\n",
        "- 데이터 표준화"
      ],
      "metadata": {
        "id": "yqmQWQxaPUVw"
      }
    },
    {
      "cell_type": "markdown",
      "source": [
        "## 데이터셋 합치기"
      ],
      "metadata": {
        "id": "kV7AExmzPWPO"
      }
    }
  ]
}