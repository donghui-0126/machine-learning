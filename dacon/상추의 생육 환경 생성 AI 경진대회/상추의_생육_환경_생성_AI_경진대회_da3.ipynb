{
  "nbformat": 4,
  "nbformat_minor": 0,
  "metadata": {
    "colab": {
      "provenance": [],
      "toc_visible": true,
      "collapsed_sections": [
        "UC3HQSGln4O8",
        "Mu2lbGjqtzHz",
        "KPhFUb6lHerD",
        "WNO9C-zjHhXK",
        "thGqUYjoIg8J",
        "dKvBNYEKHmY3",
        "Lln4BUw4K37U",
        "9IABMSkhLsCQ",
        "lT9hxF_4MZPi"
      ]
    },
    "kernelspec": {
      "name": "python3",
      "display_name": "Python 3"
    },
    "language_info": {
      "name": "python"
    }
  },
  "cells": [
    {
      "cell_type": "markdown",
      "source": [
        "# 모듈 임포트"
      ],
      "metadata": {
        "id": "nndUdBd0apzy"
      }
    },
    {
      "cell_type": "code",
      "execution_count": 1,
      "metadata": {
        "colab": {
          "base_uri": "https://localhost:8080/"
        },
        "id": "sIERZbUGakPa",
        "outputId": "09d52aca-f9da-4d07-c7cd-acf02ff6276e"
      },
      "outputs": [
        {
          "output_type": "stream",
          "name": "stdout",
          "text": [
            "Colab only includes TensorFlow 2.x; %tensorflow_version has no effect.\n",
            "감지된 GPU가 없습니다. GPU가 없으면 LSTM과 CNN이 매우 느릴 수 있습니다.\n",
            "런타임 > 런타임 유형 변경 메뉴를 선택하고 하드웨어 가속기로 GPU를 고르세요.\n"
          ]
        }
      ],
      "source": [
        "# 파이썬 ≥3.5 필수\n",
        "import sys\n",
        "assert sys.version_info >= (3, 5)\n",
        "\n",
        "# 사이킷런 ≥0.20 필수\n",
        "import sklearn\n",
        "assert sklearn.__version__ >= \"0.20\"\n",
        "\n",
        "try:\n",
        "    # %tensorflow_version은 코랩에서만 동작합니다.\n",
        "    %tensorflow_version 2.x\n",
        "    IS_COLAB = True\n",
        "except Exception:\n",
        "    IS_COLAB = False\n",
        "\n",
        "# 텐서플로 ≥2.0 필수\n",
        "import tensorflow as tf\n",
        "from tensorflow import keras\n",
        "assert tf.__version__ >= \"2.0\"\n",
        "\n",
        "if not tf.config.list_physical_devices('GPU'):\n",
        "    print(\"감지된 GPU가 없습니다. GPU가 없으면 LSTM과 CNN이 매우 느릴 수 있습니다.\")\n",
        "    if IS_COLAB:\n",
        "        print(\"런타임 > 런타임 유형 변경 메뉴를 선택하고 하드웨어 가속기로 GPU를 고르세요.\")\n",
        "\n",
        "# 공통 모듈 임포트\n",
        "import numpy as np\n",
        "import os\n",
        "import pandas as pd\n",
        "\n",
        "# 노트북 실행 결과를 동일하게 유지하기 위해\n",
        "np.random.seed(42)\n",
        "tf.random.set_seed(42)\n",
        "\n",
        "# 깔끔한 그래프 출력을 위해\n",
        "%matplotlib inline\n",
        "import matplotlib as mpl\n",
        "import matplotlib.pyplot as plt\n",
        "import seaborn as sns\n",
        "\n",
        "\n",
        "mpl.rc('axes', labelsize=14)\n",
        "mpl.rc('xtick', labelsize=12)\n",
        "mpl.rc('ytick', labelsize=12)"
      ]
    },
    {
      "cell_type": "code",
      "source": [
        "!sudo apt-get install -y fonts-nanum\n",
        "!sudo fc-cache -fv\n",
        "!rm ~/.cache/matplotlib -rf"
      ],
      "metadata": {
        "colab": {
          "base_uri": "https://localhost:8080/"
        },
        "id": "surZF3nWoexf",
        "outputId": "7cfe1343-1e1f-4550-b751-19110d02451b"
      },
      "execution_count": 2,
      "outputs": [
        {
          "output_type": "stream",
          "name": "stdout",
          "text": [
            "Reading package lists... Done\n",
            "Building dependency tree       \n",
            "Reading state information... Done\n",
            "The following package was automatically installed and is no longer required:\n",
            "  libnvidia-common-460\n",
            "Use 'sudo apt autoremove' to remove it.\n",
            "The following NEW packages will be installed:\n",
            "  fonts-nanum\n",
            "0 upgraded, 1 newly installed, 0 to remove and 7 not upgraded.\n",
            "Need to get 9,604 kB of archives.\n",
            "After this operation, 29.5 MB of additional disk space will be used.\n",
            "Get:1 http://archive.ubuntu.com/ubuntu bionic/universe amd64 fonts-nanum all 20170925-1 [9,604 kB]\n",
            "Fetched 9,604 kB in 0s (34.0 MB/s)\n",
            "debconf: unable to initialize frontend: Dialog\n",
            "debconf: (No usable dialog-like program is installed, so the dialog based frontend cannot be used. at /usr/share/perl5/Debconf/FrontEnd/Dialog.pm line 76, <> line 1.)\n",
            "debconf: falling back to frontend: Readline\n",
            "debconf: unable to initialize frontend: Readline\n",
            "debconf: (This frontend requires a controlling tty.)\n",
            "debconf: falling back to frontend: Teletype\n",
            "dpkg-preconfigure: unable to re-open stdin: \n",
            "Selecting previously unselected package fonts-nanum.\n",
            "(Reading database ... 124015 files and directories currently installed.)\n",
            "Preparing to unpack .../fonts-nanum_20170925-1_all.deb ...\n",
            "Unpacking fonts-nanum (20170925-1) ...\n",
            "Setting up fonts-nanum (20170925-1) ...\n",
            "Processing triggers for fontconfig (2.12.6-0ubuntu2) ...\n",
            "/usr/share/fonts: caching, new cache contents: 0 fonts, 1 dirs\n",
            "/usr/share/fonts/truetype: caching, new cache contents: 0 fonts, 3 dirs\n",
            "/usr/share/fonts/truetype/humor-sans: caching, new cache contents: 1 fonts, 0 dirs\n",
            "/usr/share/fonts/truetype/liberation: caching, new cache contents: 16 fonts, 0 dirs\n",
            "/usr/share/fonts/truetype/nanum: caching, new cache contents: 10 fonts, 0 dirs\n",
            "/usr/local/share/fonts: caching, new cache contents: 0 fonts, 0 dirs\n",
            "/root/.local/share/fonts: skipping, no such directory\n",
            "/root/.fonts: skipping, no such directory\n",
            "/var/cache/fontconfig: cleaning cache directory\n",
            "/root/.cache/fontconfig: not cleaning non-existent cache directory\n",
            "/root/.fontconfig: not cleaning non-existent cache directory\n",
            "fc-cache: succeeded\n"
          ]
        }
      ]
    },
    {
      "cell_type": "markdown",
      "source": [
        "# 데이터 적재 train_X_case(dict), train_y_case(dict)"
      ],
      "metadata": {
        "id": "yHaTm72Aa8A8"
      }
    },
    {
      "cell_type": "code",
      "source": [
        "from google.colab import drive\n",
        "drive.mount('/content/drive')"
      ],
      "metadata": {
        "colab": {
          "base_uri": "https://localhost:8080/"
        },
        "id": "viGQIT6BasDH",
        "outputId": "2ccce1cb-2d7e-4c16-83f6-704f9ad6013a"
      },
      "execution_count": 3,
      "outputs": [
        {
          "output_type": "stream",
          "name": "stdout",
          "text": [
            "Mounted at /content/drive\n"
          ]
        }
      ]
    },
    {
      "cell_type": "code",
      "source": [
        "train_X_case = {}\n",
        "\n",
        "for i in range(1, 29):\n",
        "    train_X_case[\"{}\".format(str(i).zfill(2))] =\\\n",
        "      pd.read_csv(\"/content/drive/MyDrive/상추의 생육 환경 생성 AI 경진대회/train_input/CASE_{}.csv\".format(str(i).zfill(2)))\n",
        " "
      ],
      "metadata": {
        "id": "cO_yFb-Ha7dl"
      },
      "execution_count": 4,
      "outputs": []
    },
    {
      "cell_type": "code",
      "source": [
        "train_y_case = {}\n",
        "\n",
        "for i in range(1, 29):\n",
        "    train_y_case[\"{}\".format(str(i).zfill(2))] =\\\n",
        "      pd.read_csv(\"/content/drive/MyDrive/상추의 생육 환경 생성 AI 경진대회/train_target/CASE_{}.csv\".format(str(i).zfill(2)))\n",
        " "
      ],
      "metadata": {
        "id": "70Dvnos9dP3a"
      },
      "execution_count": 5,
      "outputs": []
    },
    {
      "cell_type": "code",
      "source": [
        "train_X_case[\"01\"].head(3)"
      ],
      "metadata": {
        "colab": {
          "base_uri": "https://localhost:8080/",
          "height": 143
        },
        "id": "NaF-_fOMc2_1",
        "outputId": "be9fdbaf-05cf-42ff-a43a-dfddc99bdac3"
      },
      "execution_count": 6,
      "outputs": [
        {
          "output_type": "execute_result",
          "data": {
            "text/plain": [
              "   DAT obs_time    내부온도관측치    내부습도관측치      co2관측치     ec관측치  시간당분무량  일간누적분무량  \\\n",
              "0    0    00:00  25.300000  81.835000  536.016667  1.407439     0.0      0.0   \n",
              "1    0    01:00  25.680357  81.264286  528.696429  1.409003   126.0    126.0   \n",
              "2    0    02:00  25.273333  81.471666  532.833333  1.406913     0.0    126.0   \n",
              "\n",
              "   시간당백색광량  일간누적백색광량  시간당적색광량  일간누적적색광량  시간당청색광량  일간누적청색광량  시간당총광량  일간누적총광량  \n",
              "0      0.0       0.0      0.0       0.0        0         0     0.0      0.0  \n",
              "1      0.0       0.0      0.0       0.0        0         0     0.0      0.0  \n",
              "2      0.0       0.0      0.0       0.0        0         0     0.0      0.0  "
            ],
            "text/html": [
              "\n",
              "  <div id=\"df-f49ac4a0-22d8-460c-91e4-4f27a1ab387c\">\n",
              "    <div class=\"colab-df-container\">\n",
              "      <div>\n",
              "<style scoped>\n",
              "    .dataframe tbody tr th:only-of-type {\n",
              "        vertical-align: middle;\n",
              "    }\n",
              "\n",
              "    .dataframe tbody tr th {\n",
              "        vertical-align: top;\n",
              "    }\n",
              "\n",
              "    .dataframe thead th {\n",
              "        text-align: right;\n",
              "    }\n",
              "</style>\n",
              "<table border=\"1\" class=\"dataframe\">\n",
              "  <thead>\n",
              "    <tr style=\"text-align: right;\">\n",
              "      <th></th>\n",
              "      <th>DAT</th>\n",
              "      <th>obs_time</th>\n",
              "      <th>내부온도관측치</th>\n",
              "      <th>내부습도관측치</th>\n",
              "      <th>co2관측치</th>\n",
              "      <th>ec관측치</th>\n",
              "      <th>시간당분무량</th>\n",
              "      <th>일간누적분무량</th>\n",
              "      <th>시간당백색광량</th>\n",
              "      <th>일간누적백색광량</th>\n",
              "      <th>시간당적색광량</th>\n",
              "      <th>일간누적적색광량</th>\n",
              "      <th>시간당청색광량</th>\n",
              "      <th>일간누적청색광량</th>\n",
              "      <th>시간당총광량</th>\n",
              "      <th>일간누적총광량</th>\n",
              "    </tr>\n",
              "  </thead>\n",
              "  <tbody>\n",
              "    <tr>\n",
              "      <th>0</th>\n",
              "      <td>0</td>\n",
              "      <td>00:00</td>\n",
              "      <td>25.300000</td>\n",
              "      <td>81.835000</td>\n",
              "      <td>536.016667</td>\n",
              "      <td>1.407439</td>\n",
              "      <td>0.0</td>\n",
              "      <td>0.0</td>\n",
              "      <td>0.0</td>\n",
              "      <td>0.0</td>\n",
              "      <td>0.0</td>\n",
              "      <td>0.0</td>\n",
              "      <td>0</td>\n",
              "      <td>0</td>\n",
              "      <td>0.0</td>\n",
              "      <td>0.0</td>\n",
              "    </tr>\n",
              "    <tr>\n",
              "      <th>1</th>\n",
              "      <td>0</td>\n",
              "      <td>01:00</td>\n",
              "      <td>25.680357</td>\n",
              "      <td>81.264286</td>\n",
              "      <td>528.696429</td>\n",
              "      <td>1.409003</td>\n",
              "      <td>126.0</td>\n",
              "      <td>126.0</td>\n",
              "      <td>0.0</td>\n",
              "      <td>0.0</td>\n",
              "      <td>0.0</td>\n",
              "      <td>0.0</td>\n",
              "      <td>0</td>\n",
              "      <td>0</td>\n",
              "      <td>0.0</td>\n",
              "      <td>0.0</td>\n",
              "    </tr>\n",
              "    <tr>\n",
              "      <th>2</th>\n",
              "      <td>0</td>\n",
              "      <td>02:00</td>\n",
              "      <td>25.273333</td>\n",
              "      <td>81.471666</td>\n",
              "      <td>532.833333</td>\n",
              "      <td>1.406913</td>\n",
              "      <td>0.0</td>\n",
              "      <td>126.0</td>\n",
              "      <td>0.0</td>\n",
              "      <td>0.0</td>\n",
              "      <td>0.0</td>\n",
              "      <td>0.0</td>\n",
              "      <td>0</td>\n",
              "      <td>0</td>\n",
              "      <td>0.0</td>\n",
              "      <td>0.0</td>\n",
              "    </tr>\n",
              "  </tbody>\n",
              "</table>\n",
              "</div>\n",
              "      <button class=\"colab-df-convert\" onclick=\"convertToInteractive('df-f49ac4a0-22d8-460c-91e4-4f27a1ab387c')\"\n",
              "              title=\"Convert this dataframe to an interactive table.\"\n",
              "              style=\"display:none;\">\n",
              "        \n",
              "  <svg xmlns=\"http://www.w3.org/2000/svg\" height=\"24px\"viewBox=\"0 0 24 24\"\n",
              "       width=\"24px\">\n",
              "    <path d=\"M0 0h24v24H0V0z\" fill=\"none\"/>\n",
              "    <path d=\"M18.56 5.44l.94 2.06.94-2.06 2.06-.94-2.06-.94-.94-2.06-.94 2.06-2.06.94zm-11 1L8.5 8.5l.94-2.06 2.06-.94-2.06-.94L8.5 2.5l-.94 2.06-2.06.94zm10 10l.94 2.06.94-2.06 2.06-.94-2.06-.94-.94-2.06-.94 2.06-2.06.94z\"/><path d=\"M17.41 7.96l-1.37-1.37c-.4-.4-.92-.59-1.43-.59-.52 0-1.04.2-1.43.59L10.3 9.45l-7.72 7.72c-.78.78-.78 2.05 0 2.83L4 21.41c.39.39.9.59 1.41.59.51 0 1.02-.2 1.41-.59l7.78-7.78 2.81-2.81c.8-.78.8-2.07 0-2.86zM5.41 20L4 18.59l7.72-7.72 1.47 1.35L5.41 20z\"/>\n",
              "  </svg>\n",
              "      </button>\n",
              "      \n",
              "  <style>\n",
              "    .colab-df-container {\n",
              "      display:flex;\n",
              "      flex-wrap:wrap;\n",
              "      gap: 12px;\n",
              "    }\n",
              "\n",
              "    .colab-df-convert {\n",
              "      background-color: #E8F0FE;\n",
              "      border: none;\n",
              "      border-radius: 50%;\n",
              "      cursor: pointer;\n",
              "      display: none;\n",
              "      fill: #1967D2;\n",
              "      height: 32px;\n",
              "      padding: 0 0 0 0;\n",
              "      width: 32px;\n",
              "    }\n",
              "\n",
              "    .colab-df-convert:hover {\n",
              "      background-color: #E2EBFA;\n",
              "      box-shadow: 0px 1px 2px rgba(60, 64, 67, 0.3), 0px 1px 3px 1px rgba(60, 64, 67, 0.15);\n",
              "      fill: #174EA6;\n",
              "    }\n",
              "\n",
              "    [theme=dark] .colab-df-convert {\n",
              "      background-color: #3B4455;\n",
              "      fill: #D2E3FC;\n",
              "    }\n",
              "\n",
              "    [theme=dark] .colab-df-convert:hover {\n",
              "      background-color: #434B5C;\n",
              "      box-shadow: 0px 1px 3px 1px rgba(0, 0, 0, 0.15);\n",
              "      filter: drop-shadow(0px 1px 2px rgba(0, 0, 0, 0.3));\n",
              "      fill: #FFFFFF;\n",
              "    }\n",
              "  </style>\n",
              "\n",
              "      <script>\n",
              "        const buttonEl =\n",
              "          document.querySelector('#df-f49ac4a0-22d8-460c-91e4-4f27a1ab387c button.colab-df-convert');\n",
              "        buttonEl.style.display =\n",
              "          google.colab.kernel.accessAllowed ? 'block' : 'none';\n",
              "\n",
              "        async function convertToInteractive(key) {\n",
              "          const element = document.querySelector('#df-f49ac4a0-22d8-460c-91e4-4f27a1ab387c');\n",
              "          const dataTable =\n",
              "            await google.colab.kernel.invokeFunction('convertToInteractive',\n",
              "                                                     [key], {});\n",
              "          if (!dataTable) return;\n",
              "\n",
              "          const docLinkHtml = 'Like what you see? Visit the ' +\n",
              "            '<a target=\"_blank\" href=https://colab.research.google.com/notebooks/data_table.ipynb>data table notebook</a>'\n",
              "            + ' to learn more about interactive tables.';\n",
              "          element.innerHTML = '';\n",
              "          dataTable['output_type'] = 'display_data';\n",
              "          await google.colab.output.renderOutput(dataTable, element);\n",
              "          const docLink = document.createElement('div');\n",
              "          docLink.innerHTML = docLinkHtml;\n",
              "          element.appendChild(docLink);\n",
              "        }\n",
              "      </script>\n",
              "    </div>\n",
              "  </div>\n",
              "  "
            ]
          },
          "metadata": {},
          "execution_count": 6
        }
      ]
    },
    {
      "cell_type": "code",
      "source": [
        "train_y_case[\"01\"].head(3)"
      ],
      "metadata": {
        "colab": {
          "base_uri": "https://localhost:8080/",
          "height": 143
        },
        "id": "t9L1cxmTc0bt",
        "outputId": "a865f71d-2315-42ba-aade-46fa246d867b"
      },
      "execution_count": 7,
      "outputs": [
        {
          "output_type": "execute_result",
          "data": {
            "text/plain": [
              "   DAT  predicted_weight_g\n",
              "0    1            0.167719\n",
              "1    2            0.181787\n",
              "2    3            0.265921"
            ],
            "text/html": [
              "\n",
              "  <div id=\"df-2a8a8837-3e84-4984-9394-e94b09564bca\">\n",
              "    <div class=\"colab-df-container\">\n",
              "      <div>\n",
              "<style scoped>\n",
              "    .dataframe tbody tr th:only-of-type {\n",
              "        vertical-align: middle;\n",
              "    }\n",
              "\n",
              "    .dataframe tbody tr th {\n",
              "        vertical-align: top;\n",
              "    }\n",
              "\n",
              "    .dataframe thead th {\n",
              "        text-align: right;\n",
              "    }\n",
              "</style>\n",
              "<table border=\"1\" class=\"dataframe\">\n",
              "  <thead>\n",
              "    <tr style=\"text-align: right;\">\n",
              "      <th></th>\n",
              "      <th>DAT</th>\n",
              "      <th>predicted_weight_g</th>\n",
              "    </tr>\n",
              "  </thead>\n",
              "  <tbody>\n",
              "    <tr>\n",
              "      <th>0</th>\n",
              "      <td>1</td>\n",
              "      <td>0.167719</td>\n",
              "    </tr>\n",
              "    <tr>\n",
              "      <th>1</th>\n",
              "      <td>2</td>\n",
              "      <td>0.181787</td>\n",
              "    </tr>\n",
              "    <tr>\n",
              "      <th>2</th>\n",
              "      <td>3</td>\n",
              "      <td>0.265921</td>\n",
              "    </tr>\n",
              "  </tbody>\n",
              "</table>\n",
              "</div>\n",
              "      <button class=\"colab-df-convert\" onclick=\"convertToInteractive('df-2a8a8837-3e84-4984-9394-e94b09564bca')\"\n",
              "              title=\"Convert this dataframe to an interactive table.\"\n",
              "              style=\"display:none;\">\n",
              "        \n",
              "  <svg xmlns=\"http://www.w3.org/2000/svg\" height=\"24px\"viewBox=\"0 0 24 24\"\n",
              "       width=\"24px\">\n",
              "    <path d=\"M0 0h24v24H0V0z\" fill=\"none\"/>\n",
              "    <path d=\"M18.56 5.44l.94 2.06.94-2.06 2.06-.94-2.06-.94-.94-2.06-.94 2.06-2.06.94zm-11 1L8.5 8.5l.94-2.06 2.06-.94-2.06-.94L8.5 2.5l-.94 2.06-2.06.94zm10 10l.94 2.06.94-2.06 2.06-.94-2.06-.94-.94-2.06-.94 2.06-2.06.94z\"/><path d=\"M17.41 7.96l-1.37-1.37c-.4-.4-.92-.59-1.43-.59-.52 0-1.04.2-1.43.59L10.3 9.45l-7.72 7.72c-.78.78-.78 2.05 0 2.83L4 21.41c.39.39.9.59 1.41.59.51 0 1.02-.2 1.41-.59l7.78-7.78 2.81-2.81c.8-.78.8-2.07 0-2.86zM5.41 20L4 18.59l7.72-7.72 1.47 1.35L5.41 20z\"/>\n",
              "  </svg>\n",
              "      </button>\n",
              "      \n",
              "  <style>\n",
              "    .colab-df-container {\n",
              "      display:flex;\n",
              "      flex-wrap:wrap;\n",
              "      gap: 12px;\n",
              "    }\n",
              "\n",
              "    .colab-df-convert {\n",
              "      background-color: #E8F0FE;\n",
              "      border: none;\n",
              "      border-radius: 50%;\n",
              "      cursor: pointer;\n",
              "      display: none;\n",
              "      fill: #1967D2;\n",
              "      height: 32px;\n",
              "      padding: 0 0 0 0;\n",
              "      width: 32px;\n",
              "    }\n",
              "\n",
              "    .colab-df-convert:hover {\n",
              "      background-color: #E2EBFA;\n",
              "      box-shadow: 0px 1px 2px rgba(60, 64, 67, 0.3), 0px 1px 3px 1px rgba(60, 64, 67, 0.15);\n",
              "      fill: #174EA6;\n",
              "    }\n",
              "\n",
              "    [theme=dark] .colab-df-convert {\n",
              "      background-color: #3B4455;\n",
              "      fill: #D2E3FC;\n",
              "    }\n",
              "\n",
              "    [theme=dark] .colab-df-convert:hover {\n",
              "      background-color: #434B5C;\n",
              "      box-shadow: 0px 1px 3px 1px rgba(0, 0, 0, 0.15);\n",
              "      filter: drop-shadow(0px 1px 2px rgba(0, 0, 0, 0.3));\n",
              "      fill: #FFFFFF;\n",
              "    }\n",
              "  </style>\n",
              "\n",
              "      <script>\n",
              "        const buttonEl =\n",
              "          document.querySelector('#df-2a8a8837-3e84-4984-9394-e94b09564bca button.colab-df-convert');\n",
              "        buttonEl.style.display =\n",
              "          google.colab.kernel.accessAllowed ? 'block' : 'none';\n",
              "\n",
              "        async function convertToInteractive(key) {\n",
              "          const element = document.querySelector('#df-2a8a8837-3e84-4984-9394-e94b09564bca');\n",
              "          const dataTable =\n",
              "            await google.colab.kernel.invokeFunction('convertToInteractive',\n",
              "                                                     [key], {});\n",
              "          if (!dataTable) return;\n",
              "\n",
              "          const docLinkHtml = 'Like what you see? Visit the ' +\n",
              "            '<a target=\"_blank\" href=https://colab.research.google.com/notebooks/data_table.ipynb>data table notebook</a>'\n",
              "            + ' to learn more about interactive tables.';\n",
              "          element.innerHTML = '';\n",
              "          dataTable['output_type'] = 'display_data';\n",
              "          await google.colab.output.renderOutput(dataTable, element);\n",
              "          const docLink = document.createElement('div');\n",
              "          docLink.innerHTML = docLinkHtml;\n",
              "          element.appendChild(docLink);\n",
              "        }\n",
              "      </script>\n",
              "    </div>\n",
              "  </div>\n",
              "  "
            ]
          },
          "metadata": {},
          "execution_count": 7
        }
      ]
    },
    {
      "cell_type": "markdown",
      "source": [
        " 28개의 상추를 28일 동안 24시간 간격으로 측정한 데이터이다.\n",
        "\n",
        " 28 * 24 = 672\n",
        "\n",
        " - feature는 16개\n",
        " - train_y는 매일 측정된 상추의 잎 크기이다.\n",
        "\n",
        " 잎의 성장은 전날의 데이터에 영향을 받는다. (청경채 예측 분석 코드공유를 참고함.)\n",
        "\n",
        " 각 상추의 train_X를 28개로 나눈 뒤, 하루 뒤의 train_y를 예측하게 할 것이다.\n",
        "\n",
        " https://dacon.io/competitions/official/235961/overview/description\n",
        "\n",
        "상추의 생육환경 예측과 비슷한 문제인 청경채 성장 경진대회를 많이 참고할 예정이다."
      ],
      "metadata": {
        "id": "s2Tq_TbjdrYB"
      }
    },
    {
      "cell_type": "markdown",
      "source": [
        "# 데이터 전처리\n",
        "\n",
        "- 데이터셋 나누기 \n",
        "    1. 28개의 상추를 하루 단위씩 끊어서 데이터셋을 새로 만들기\n",
        "    2. 하루단위 데이터를 평균낸 데이터를 다시 합쳐서 데이터셋을 새로 만들기\n",
        "\n",
        "- target 데이터 전처리\n",
        "    1. 전날 대비 성장률 추가 \n",
        "    2. 초기 대비 성장률 추가\n",
        "\n",
        "- null 값 처리\n",
        "\n",
        "- 컬럼별 상관관계 보기\n",
        "\n",
        "- 이상치 처리\n",
        "\n",
        "- 노이즈값 처리"
      ],
      "metadata": {
        "id": "66NbrtwfVm4X"
      }
    },
    {
      "cell_type": "markdown",
      "source": [
        "### 데이터셋 합치기 train_all_X(DataFrame)\n",
        "모든데이터를 합친다."
      ],
      "metadata": {
        "id": "OmES1X6b4d_P"
      }
    },
    {
      "cell_type": "code",
      "source": [
        "train_all_X = pd.DataFrame()\n",
        "\n",
        "for i in range(1,29):\n",
        "    CASE = str(i).zfill(2)\n",
        "    train_all_X = train_all_X.append(train_X_case[CASE])"
      ],
      "metadata": {
        "id": "oDsxHMNk4RAD"
      },
      "execution_count": 52,
      "outputs": []
    },
    {
      "cell_type": "code",
      "source": [
        "train_all_X.shape"
      ],
      "metadata": {
        "colab": {
          "base_uri": "https://localhost:8080/"
        },
        "id": "4I1LUU-W5M-z",
        "outputId": "42199421-e37b-40fc-9fa1-a3283dc7792f"
      },
      "execution_count": 53,
      "outputs": [
        {
          "output_type": "execute_result",
          "data": {
            "text/plain": [
              "(18816, 16)"
            ]
          },
          "metadata": {},
          "execution_count": 53
        }
      ]
    },
    {
      "cell_type": "code",
      "source": [
        "# 인덱스가 겹치는 모습을 볼 수 있다.\n",
        "train_all_X.iloc[670:675]"
      ],
      "metadata": {
        "colab": {
          "base_uri": "https://localhost:8080/",
          "height": 206
        },
        "id": "RQt8R3XG5SBZ",
        "outputId": "4311f87c-1c73-4a0a-98f6-d66cea35e12a"
      },
      "execution_count": 10,
      "outputs": [
        {
          "output_type": "execute_result",
          "data": {
            "text/plain": [
              "     DAT   obs_time    내부온도관측치    내부습도관측치      co2관측치     ec관측치  시간당분무량  \\\n",
              "670   27      22:00  28.005000  82.850000  577.150000  0.000000   126.0   \n",
              "671   27      23:00  27.868333  82.453333  588.616667  0.000000     0.0   \n",
              "0      0  00:00:00.  25.796666  60.550000  647.433333  2.924978    61.7   \n",
              "1      0  01:00:00.  25.285000  62.153333  648.450000  2.922873    61.7   \n",
              "2      0  02:00:00.  23.513333  63.510000  633.950000  2.890171    61.7   \n",
              "\n",
              "     일간누적분무량  시간당백색광량   일간누적백색광량  시간당적색광량  일간누적적색광량  시간당청색광량  일간누적청색광량  \\\n",
              "670  3890.54      0.0  255263.25      0.0   13652.1      0.0       0.0   \n",
              "671  3890.54      0.0  255263.25      0.0   13652.1      0.0       0.0   \n",
              "0      61.70      0.0       0.00      0.0       0.0      0.0       0.0   \n",
              "1     123.40      0.0       0.00      0.0       0.0      0.0       0.0   \n",
              "2     185.10      0.0       0.00      0.0       0.0      0.0       0.0   \n",
              "\n",
              "     시간당총광량    일간누적총광량  \n",
              "670     0.0  268915.35  \n",
              "671     0.0  268915.35  \n",
              "0       0.0       0.00  \n",
              "1       0.0       0.00  \n",
              "2       0.0       0.00  "
            ],
            "text/html": [
              "\n",
              "  <div id=\"df-75fcb16d-cc0b-4596-b341-409e4c99bc73\">\n",
              "    <div class=\"colab-df-container\">\n",
              "      <div>\n",
              "<style scoped>\n",
              "    .dataframe tbody tr th:only-of-type {\n",
              "        vertical-align: middle;\n",
              "    }\n",
              "\n",
              "    .dataframe tbody tr th {\n",
              "        vertical-align: top;\n",
              "    }\n",
              "\n",
              "    .dataframe thead th {\n",
              "        text-align: right;\n",
              "    }\n",
              "</style>\n",
              "<table border=\"1\" class=\"dataframe\">\n",
              "  <thead>\n",
              "    <tr style=\"text-align: right;\">\n",
              "      <th></th>\n",
              "      <th>DAT</th>\n",
              "      <th>obs_time</th>\n",
              "      <th>내부온도관측치</th>\n",
              "      <th>내부습도관측치</th>\n",
              "      <th>co2관측치</th>\n",
              "      <th>ec관측치</th>\n",
              "      <th>시간당분무량</th>\n",
              "      <th>일간누적분무량</th>\n",
              "      <th>시간당백색광량</th>\n",
              "      <th>일간누적백색광량</th>\n",
              "      <th>시간당적색광량</th>\n",
              "      <th>일간누적적색광량</th>\n",
              "      <th>시간당청색광량</th>\n",
              "      <th>일간누적청색광량</th>\n",
              "      <th>시간당총광량</th>\n",
              "      <th>일간누적총광량</th>\n",
              "    </tr>\n",
              "  </thead>\n",
              "  <tbody>\n",
              "    <tr>\n",
              "      <th>670</th>\n",
              "      <td>27</td>\n",
              "      <td>22:00</td>\n",
              "      <td>28.005000</td>\n",
              "      <td>82.850000</td>\n",
              "      <td>577.150000</td>\n",
              "      <td>0.000000</td>\n",
              "      <td>126.0</td>\n",
              "      <td>3890.54</td>\n",
              "      <td>0.0</td>\n",
              "      <td>255263.25</td>\n",
              "      <td>0.0</td>\n",
              "      <td>13652.1</td>\n",
              "      <td>0.0</td>\n",
              "      <td>0.0</td>\n",
              "      <td>0.0</td>\n",
              "      <td>268915.35</td>\n",
              "    </tr>\n",
              "    <tr>\n",
              "      <th>671</th>\n",
              "      <td>27</td>\n",
              "      <td>23:00</td>\n",
              "      <td>27.868333</td>\n",
              "      <td>82.453333</td>\n",
              "      <td>588.616667</td>\n",
              "      <td>0.000000</td>\n",
              "      <td>0.0</td>\n",
              "      <td>3890.54</td>\n",
              "      <td>0.0</td>\n",
              "      <td>255263.25</td>\n",
              "      <td>0.0</td>\n",
              "      <td>13652.1</td>\n",
              "      <td>0.0</td>\n",
              "      <td>0.0</td>\n",
              "      <td>0.0</td>\n",
              "      <td>268915.35</td>\n",
              "    </tr>\n",
              "    <tr>\n",
              "      <th>0</th>\n",
              "      <td>0</td>\n",
              "      <td>00:00:00.</td>\n",
              "      <td>25.796666</td>\n",
              "      <td>60.550000</td>\n",
              "      <td>647.433333</td>\n",
              "      <td>2.924978</td>\n",
              "      <td>61.7</td>\n",
              "      <td>61.70</td>\n",
              "      <td>0.0</td>\n",
              "      <td>0.00</td>\n",
              "      <td>0.0</td>\n",
              "      <td>0.0</td>\n",
              "      <td>0.0</td>\n",
              "      <td>0.0</td>\n",
              "      <td>0.0</td>\n",
              "      <td>0.00</td>\n",
              "    </tr>\n",
              "    <tr>\n",
              "      <th>1</th>\n",
              "      <td>0</td>\n",
              "      <td>01:00:00.</td>\n",
              "      <td>25.285000</td>\n",
              "      <td>62.153333</td>\n",
              "      <td>648.450000</td>\n",
              "      <td>2.922873</td>\n",
              "      <td>61.7</td>\n",
              "      <td>123.40</td>\n",
              "      <td>0.0</td>\n",
              "      <td>0.00</td>\n",
              "      <td>0.0</td>\n",
              "      <td>0.0</td>\n",
              "      <td>0.0</td>\n",
              "      <td>0.0</td>\n",
              "      <td>0.0</td>\n",
              "      <td>0.00</td>\n",
              "    </tr>\n",
              "    <tr>\n",
              "      <th>2</th>\n",
              "      <td>0</td>\n",
              "      <td>02:00:00.</td>\n",
              "      <td>23.513333</td>\n",
              "      <td>63.510000</td>\n",
              "      <td>633.950000</td>\n",
              "      <td>2.890171</td>\n",
              "      <td>61.7</td>\n",
              "      <td>185.10</td>\n",
              "      <td>0.0</td>\n",
              "      <td>0.00</td>\n",
              "      <td>0.0</td>\n",
              "      <td>0.0</td>\n",
              "      <td>0.0</td>\n",
              "      <td>0.0</td>\n",
              "      <td>0.0</td>\n",
              "      <td>0.00</td>\n",
              "    </tr>\n",
              "  </tbody>\n",
              "</table>\n",
              "</div>\n",
              "      <button class=\"colab-df-convert\" onclick=\"convertToInteractive('df-75fcb16d-cc0b-4596-b341-409e4c99bc73')\"\n",
              "              title=\"Convert this dataframe to an interactive table.\"\n",
              "              style=\"display:none;\">\n",
              "        \n",
              "  <svg xmlns=\"http://www.w3.org/2000/svg\" height=\"24px\"viewBox=\"0 0 24 24\"\n",
              "       width=\"24px\">\n",
              "    <path d=\"M0 0h24v24H0V0z\" fill=\"none\"/>\n",
              "    <path d=\"M18.56 5.44l.94 2.06.94-2.06 2.06-.94-2.06-.94-.94-2.06-.94 2.06-2.06.94zm-11 1L8.5 8.5l.94-2.06 2.06-.94-2.06-.94L8.5 2.5l-.94 2.06-2.06.94zm10 10l.94 2.06.94-2.06 2.06-.94-2.06-.94-.94-2.06-.94 2.06-2.06.94z\"/><path d=\"M17.41 7.96l-1.37-1.37c-.4-.4-.92-.59-1.43-.59-.52 0-1.04.2-1.43.59L10.3 9.45l-7.72 7.72c-.78.78-.78 2.05 0 2.83L4 21.41c.39.39.9.59 1.41.59.51 0 1.02-.2 1.41-.59l7.78-7.78 2.81-2.81c.8-.78.8-2.07 0-2.86zM5.41 20L4 18.59l7.72-7.72 1.47 1.35L5.41 20z\"/>\n",
              "  </svg>\n",
              "      </button>\n",
              "      \n",
              "  <style>\n",
              "    .colab-df-container {\n",
              "      display:flex;\n",
              "      flex-wrap:wrap;\n",
              "      gap: 12px;\n",
              "    }\n",
              "\n",
              "    .colab-df-convert {\n",
              "      background-color: #E8F0FE;\n",
              "      border: none;\n",
              "      border-radius: 50%;\n",
              "      cursor: pointer;\n",
              "      display: none;\n",
              "      fill: #1967D2;\n",
              "      height: 32px;\n",
              "      padding: 0 0 0 0;\n",
              "      width: 32px;\n",
              "    }\n",
              "\n",
              "    .colab-df-convert:hover {\n",
              "      background-color: #E2EBFA;\n",
              "      box-shadow: 0px 1px 2px rgba(60, 64, 67, 0.3), 0px 1px 3px 1px rgba(60, 64, 67, 0.15);\n",
              "      fill: #174EA6;\n",
              "    }\n",
              "\n",
              "    [theme=dark] .colab-df-convert {\n",
              "      background-color: #3B4455;\n",
              "      fill: #D2E3FC;\n",
              "    }\n",
              "\n",
              "    [theme=dark] .colab-df-convert:hover {\n",
              "      background-color: #434B5C;\n",
              "      box-shadow: 0px 1px 3px 1px rgba(0, 0, 0, 0.15);\n",
              "      filter: drop-shadow(0px 1px 2px rgba(0, 0, 0, 0.3));\n",
              "      fill: #FFFFFF;\n",
              "    }\n",
              "  </style>\n",
              "\n",
              "      <script>\n",
              "        const buttonEl =\n",
              "          document.querySelector('#df-75fcb16d-cc0b-4596-b341-409e4c99bc73 button.colab-df-convert');\n",
              "        buttonEl.style.display =\n",
              "          google.colab.kernel.accessAllowed ? 'block' : 'none';\n",
              "\n",
              "        async function convertToInteractive(key) {\n",
              "          const element = document.querySelector('#df-75fcb16d-cc0b-4596-b341-409e4c99bc73');\n",
              "          const dataTable =\n",
              "            await google.colab.kernel.invokeFunction('convertToInteractive',\n",
              "                                                     [key], {});\n",
              "          if (!dataTable) return;\n",
              "\n",
              "          const docLinkHtml = 'Like what you see? Visit the ' +\n",
              "            '<a target=\"_blank\" href=https://colab.research.google.com/notebooks/data_table.ipynb>data table notebook</a>'\n",
              "            + ' to learn more about interactive tables.';\n",
              "          element.innerHTML = '';\n",
              "          dataTable['output_type'] = 'display_data';\n",
              "          await google.colab.output.renderOutput(dataTable, element);\n",
              "          const docLink = document.createElement('div');\n",
              "          docLink.innerHTML = docLinkHtml;\n",
              "          element.appendChild(docLink);\n",
              "        }\n",
              "      </script>\n",
              "    </div>\n",
              "  </div>\n",
              "  "
            ]
          },
          "metadata": {},
          "execution_count": 10
        }
      ]
    },
    {
      "cell_type": "markdown",
      "source": [
        "### 데이터셋 나누기 train_X_case_day(list)\n",
        "\n",
        "각 상추의 28일치 데이터를 분리해서 저장한다."
      ],
      "metadata": {
        "id": "7dloaJK7rGWZ"
      }
    },
    {
      "cell_type": "code",
      "source": [
        "# train_X_case_day[x][y] 를 입력하면 x 케이스의 y번째 날 데이터 프레임을 리턴함\n",
        "train_X_case_day = [[]]\n",
        "\n",
        "for i in range(1,29):\n",
        "    train_X_case_day.append([])\n",
        "    for j in range(1,29):\n",
        "        train_X_case_day[i].append(train_X_case[\"{}\".format(str(i).zfill(2))].iloc[24*(j-1):j*24, :])"
      ],
      "metadata": {
        "id": "tbVG8kWiVrx0"
      },
      "execution_count": 11,
      "outputs": []
    },
    {
      "cell_type": "markdown",
      "source": [
        "### 타겟데이터 전처리 train_y_all(DF)\n"
      ],
      "metadata": {
        "id": "nkQvl7j7rLMq"
      }
    },
    {
      "cell_type": "code",
      "source": [
        "for case in range(1,29):\n",
        "    CASE = str(case).zfill(2)\n",
        "    IGR = []                    # 초기 대비 성장률(initial growth rate): IGR\n",
        "    DOD = []                    # 전날 대비 성장률(day over day growth rate): DOD\n",
        "    for day in range(1, 28):\n",
        "        id = train_y_case[CASE].iloc[0, 1]          # inital day\n",
        "        yd = train_y_case[CASE].iloc[(day-1),1]     # yester day\n",
        "        td = train_y_case[CASE].iloc[day, 1]        # today\n",
        "\n",
        "        IGR.append((td-id)/id*100)\n",
        "        DOD.append((td-yd)/yd*100)\n",
        "\n",
        "    IGR.append(0)\n",
        "    DOD.append(0)\n",
        "\n",
        "    train_y_case[CASE][\"초기 대비 성장률(%)\"] = IGR\n",
        "    train_y_case[CASE][\"전날 대비 성장률(%)\"] = DOD"
      ],
      "metadata": {
        "id": "0i7D_enecDml"
      },
      "execution_count": 12,
      "outputs": []
    },
    {
      "cell_type": "code",
      "source": [
        "train_y_case[\"01\"].head(3)"
      ],
      "metadata": {
        "colab": {
          "base_uri": "https://localhost:8080/",
          "height": 143
        },
        "id": "wvO2kF7edre_",
        "outputId": "f2af1c2e-7c22-4eb5-f63c-2494ea4ca3bf"
      },
      "execution_count": 13,
      "outputs": [
        {
          "output_type": "execute_result",
          "data": {
            "text/plain": [
              "   DAT  predicted_weight_g  초기 대비 성장률(%)  전날 대비 성장률(%)\n",
              "0    1            0.167719      8.387751      8.387751\n",
              "1    2            0.181787     58.551144     46.281423\n",
              "2    3            0.265921    152.594543     59.314235"
            ],
            "text/html": [
              "\n",
              "  <div id=\"df-f94dc9e5-f0af-4d7f-8909-81878a8a6454\">\n",
              "    <div class=\"colab-df-container\">\n",
              "      <div>\n",
              "<style scoped>\n",
              "    .dataframe tbody tr th:only-of-type {\n",
              "        vertical-align: middle;\n",
              "    }\n",
              "\n",
              "    .dataframe tbody tr th {\n",
              "        vertical-align: top;\n",
              "    }\n",
              "\n",
              "    .dataframe thead th {\n",
              "        text-align: right;\n",
              "    }\n",
              "</style>\n",
              "<table border=\"1\" class=\"dataframe\">\n",
              "  <thead>\n",
              "    <tr style=\"text-align: right;\">\n",
              "      <th></th>\n",
              "      <th>DAT</th>\n",
              "      <th>predicted_weight_g</th>\n",
              "      <th>초기 대비 성장률(%)</th>\n",
              "      <th>전날 대비 성장률(%)</th>\n",
              "    </tr>\n",
              "  </thead>\n",
              "  <tbody>\n",
              "    <tr>\n",
              "      <th>0</th>\n",
              "      <td>1</td>\n",
              "      <td>0.167719</td>\n",
              "      <td>8.387751</td>\n",
              "      <td>8.387751</td>\n",
              "    </tr>\n",
              "    <tr>\n",
              "      <th>1</th>\n",
              "      <td>2</td>\n",
              "      <td>0.181787</td>\n",
              "      <td>58.551144</td>\n",
              "      <td>46.281423</td>\n",
              "    </tr>\n",
              "    <tr>\n",
              "      <th>2</th>\n",
              "      <td>3</td>\n",
              "      <td>0.265921</td>\n",
              "      <td>152.594543</td>\n",
              "      <td>59.314235</td>\n",
              "    </tr>\n",
              "  </tbody>\n",
              "</table>\n",
              "</div>\n",
              "      <button class=\"colab-df-convert\" onclick=\"convertToInteractive('df-f94dc9e5-f0af-4d7f-8909-81878a8a6454')\"\n",
              "              title=\"Convert this dataframe to an interactive table.\"\n",
              "              style=\"display:none;\">\n",
              "        \n",
              "  <svg xmlns=\"http://www.w3.org/2000/svg\" height=\"24px\"viewBox=\"0 0 24 24\"\n",
              "       width=\"24px\">\n",
              "    <path d=\"M0 0h24v24H0V0z\" fill=\"none\"/>\n",
              "    <path d=\"M18.56 5.44l.94 2.06.94-2.06 2.06-.94-2.06-.94-.94-2.06-.94 2.06-2.06.94zm-11 1L8.5 8.5l.94-2.06 2.06-.94-2.06-.94L8.5 2.5l-.94 2.06-2.06.94zm10 10l.94 2.06.94-2.06 2.06-.94-2.06-.94-.94-2.06-.94 2.06-2.06.94z\"/><path d=\"M17.41 7.96l-1.37-1.37c-.4-.4-.92-.59-1.43-.59-.52 0-1.04.2-1.43.59L10.3 9.45l-7.72 7.72c-.78.78-.78 2.05 0 2.83L4 21.41c.39.39.9.59 1.41.59.51 0 1.02-.2 1.41-.59l7.78-7.78 2.81-2.81c.8-.78.8-2.07 0-2.86zM5.41 20L4 18.59l7.72-7.72 1.47 1.35L5.41 20z\"/>\n",
              "  </svg>\n",
              "      </button>\n",
              "      \n",
              "  <style>\n",
              "    .colab-df-container {\n",
              "      display:flex;\n",
              "      flex-wrap:wrap;\n",
              "      gap: 12px;\n",
              "    }\n",
              "\n",
              "    .colab-df-convert {\n",
              "      background-color: #E8F0FE;\n",
              "      border: none;\n",
              "      border-radius: 50%;\n",
              "      cursor: pointer;\n",
              "      display: none;\n",
              "      fill: #1967D2;\n",
              "      height: 32px;\n",
              "      padding: 0 0 0 0;\n",
              "      width: 32px;\n",
              "    }\n",
              "\n",
              "    .colab-df-convert:hover {\n",
              "      background-color: #E2EBFA;\n",
              "      box-shadow: 0px 1px 2px rgba(60, 64, 67, 0.3), 0px 1px 3px 1px rgba(60, 64, 67, 0.15);\n",
              "      fill: #174EA6;\n",
              "    }\n",
              "\n",
              "    [theme=dark] .colab-df-convert {\n",
              "      background-color: #3B4455;\n",
              "      fill: #D2E3FC;\n",
              "    }\n",
              "\n",
              "    [theme=dark] .colab-df-convert:hover {\n",
              "      background-color: #434B5C;\n",
              "      box-shadow: 0px 1px 3px 1px rgba(0, 0, 0, 0.15);\n",
              "      filter: drop-shadow(0px 1px 2px rgba(0, 0, 0, 0.3));\n",
              "      fill: #FFFFFF;\n",
              "    }\n",
              "  </style>\n",
              "\n",
              "      <script>\n",
              "        const buttonEl =\n",
              "          document.querySelector('#df-f94dc9e5-f0af-4d7f-8909-81878a8a6454 button.colab-df-convert');\n",
              "        buttonEl.style.display =\n",
              "          google.colab.kernel.accessAllowed ? 'block' : 'none';\n",
              "\n",
              "        async function convertToInteractive(key) {\n",
              "          const element = document.querySelector('#df-f94dc9e5-f0af-4d7f-8909-81878a8a6454');\n",
              "          const dataTable =\n",
              "            await google.colab.kernel.invokeFunction('convertToInteractive',\n",
              "                                                     [key], {});\n",
              "          if (!dataTable) return;\n",
              "\n",
              "          const docLinkHtml = 'Like what you see? Visit the ' +\n",
              "            '<a target=\"_blank\" href=https://colab.research.google.com/notebooks/data_table.ipynb>data table notebook</a>'\n",
              "            + ' to learn more about interactive tables.';\n",
              "          element.innerHTML = '';\n",
              "          dataTable['output_type'] = 'display_data';\n",
              "          await google.colab.output.renderOutput(dataTable, element);\n",
              "          const docLink = document.createElement('div');\n",
              "          docLink.innerHTML = docLinkHtml;\n",
              "          element.appendChild(docLink);\n",
              "        }\n",
              "      </script>\n",
              "    </div>\n",
              "  </div>\n",
              "  "
            ]
          },
          "metadata": {},
          "execution_count": 13
        }
      ]
    },
    {
      "cell_type": "code",
      "source": [
        "train_y_all = pd.DataFrame()\n",
        "\n",
        "for i in range(1, 29):\n",
        "    CASE = str(i).zfill(2)\n",
        "    train_y_all = train_y_all.append(train_y_case[CASE], ignore_index=True)"
      ],
      "metadata": {
        "id": "V_JpQfsQ1WrH"
      },
      "execution_count": 46,
      "outputs": []
    },
    {
      "cell_type": "code",
      "source": [
        "train_y_all.head(30)"
      ],
      "metadata": {
        "colab": {
          "base_uri": "https://localhost:8080/",
          "height": 990
        },
        "id": "VmKyGiYW1uXu",
        "outputId": "af45dd9b-55f5-4845-c66f-7cfd16db1a41"
      },
      "execution_count": 47,
      "outputs": [
        {
          "output_type": "execute_result",
          "data": {
            "text/plain": [
              "    DAT  predicted_weight_g  초기 대비 성장률(%)  전날 대비 성장률(%)\n",
              "0     1            0.167719      8.387751      8.387751\n",
              "1     2            0.181787     58.551144     46.281423\n",
              "2     3            0.265921    152.594543     59.314235\n",
              "3     4            0.423650    183.373579     12.185154\n",
              "4     5            0.475272   1057.814298    308.582304\n",
              "5     6            1.941879   1289.762329     20.033267\n",
              "6     7            2.330901   1988.755875     50.295905\n",
              "7     8            3.503249   2558.153802     27.260147\n",
              "8     9            4.458239   3069.359443     19.231605\n",
              "9    10            5.315630   3616.792845     17.272683\n",
              "10   11            6.233782   4535.570538     24.719637\n",
              "11   12            7.774751   5532.727160     21.510979\n",
              "12   13            9.447176   6582.006192     18.628259\n",
              "13   14           11.207020   8485.367463     28.484877\n",
              "14   15           14.399326  10508.674165     23.566920\n",
              "15   16           17.792803  12813.094886     21.722043\n",
              "16   17           21.657764  15712.455039     22.452868\n",
              "17   18           26.520553  19297.551410     22.672611\n",
              "18   19           32.533455  23476.114349     21.541703\n",
              "19   20           39.541715  28244.057663     20.223618\n",
              "20   21           47.538480  33194.092323     17.464100\n",
              "21   22           55.840648  38951.844522     17.293615\n",
              "22   23           65.497515  44435.003007     14.040716\n",
              "23   24           74.693835  48518.086965      9.168258\n",
              "24   25           81.541958  49296.361086      1.600791\n",
              "25   26           82.847275  49078.860029     -0.440318\n",
              "26   27           82.482483  48941.215668     -0.279885\n",
              "27   28           82.251627      0.000000      0.000000\n",
              "28    1            1.051178     16.103278     16.103278\n",
              "29    2            1.220452     26.812436      9.223821"
            ],
            "text/html": [
              "\n",
              "  <div id=\"df-995145f5-97cf-4bb0-b25b-868b4b6a2441\">\n",
              "    <div class=\"colab-df-container\">\n",
              "      <div>\n",
              "<style scoped>\n",
              "    .dataframe tbody tr th:only-of-type {\n",
              "        vertical-align: middle;\n",
              "    }\n",
              "\n",
              "    .dataframe tbody tr th {\n",
              "        vertical-align: top;\n",
              "    }\n",
              "\n",
              "    .dataframe thead th {\n",
              "        text-align: right;\n",
              "    }\n",
              "</style>\n",
              "<table border=\"1\" class=\"dataframe\">\n",
              "  <thead>\n",
              "    <tr style=\"text-align: right;\">\n",
              "      <th></th>\n",
              "      <th>DAT</th>\n",
              "      <th>predicted_weight_g</th>\n",
              "      <th>초기 대비 성장률(%)</th>\n",
              "      <th>전날 대비 성장률(%)</th>\n",
              "    </tr>\n",
              "  </thead>\n",
              "  <tbody>\n",
              "    <tr>\n",
              "      <th>0</th>\n",
              "      <td>1</td>\n",
              "      <td>0.167719</td>\n",
              "      <td>8.387751</td>\n",
              "      <td>8.387751</td>\n",
              "    </tr>\n",
              "    <tr>\n",
              "      <th>1</th>\n",
              "      <td>2</td>\n",
              "      <td>0.181787</td>\n",
              "      <td>58.551144</td>\n",
              "      <td>46.281423</td>\n",
              "    </tr>\n",
              "    <tr>\n",
              "      <th>2</th>\n",
              "      <td>3</td>\n",
              "      <td>0.265921</td>\n",
              "      <td>152.594543</td>\n",
              "      <td>59.314235</td>\n",
              "    </tr>\n",
              "    <tr>\n",
              "      <th>3</th>\n",
              "      <td>4</td>\n",
              "      <td>0.423650</td>\n",
              "      <td>183.373579</td>\n",
              "      <td>12.185154</td>\n",
              "    </tr>\n",
              "    <tr>\n",
              "      <th>4</th>\n",
              "      <td>5</td>\n",
              "      <td>0.475272</td>\n",
              "      <td>1057.814298</td>\n",
              "      <td>308.582304</td>\n",
              "    </tr>\n",
              "    <tr>\n",
              "      <th>5</th>\n",
              "      <td>6</td>\n",
              "      <td>1.941879</td>\n",
              "      <td>1289.762329</td>\n",
              "      <td>20.033267</td>\n",
              "    </tr>\n",
              "    <tr>\n",
              "      <th>6</th>\n",
              "      <td>7</td>\n",
              "      <td>2.330901</td>\n",
              "      <td>1988.755875</td>\n",
              "      <td>50.295905</td>\n",
              "    </tr>\n",
              "    <tr>\n",
              "      <th>7</th>\n",
              "      <td>8</td>\n",
              "      <td>3.503249</td>\n",
              "      <td>2558.153802</td>\n",
              "      <td>27.260147</td>\n",
              "    </tr>\n",
              "    <tr>\n",
              "      <th>8</th>\n",
              "      <td>9</td>\n",
              "      <td>4.458239</td>\n",
              "      <td>3069.359443</td>\n",
              "      <td>19.231605</td>\n",
              "    </tr>\n",
              "    <tr>\n",
              "      <th>9</th>\n",
              "      <td>10</td>\n",
              "      <td>5.315630</td>\n",
              "      <td>3616.792845</td>\n",
              "      <td>17.272683</td>\n",
              "    </tr>\n",
              "    <tr>\n",
              "      <th>10</th>\n",
              "      <td>11</td>\n",
              "      <td>6.233782</td>\n",
              "      <td>4535.570538</td>\n",
              "      <td>24.719637</td>\n",
              "    </tr>\n",
              "    <tr>\n",
              "      <th>11</th>\n",
              "      <td>12</td>\n",
              "      <td>7.774751</td>\n",
              "      <td>5532.727160</td>\n",
              "      <td>21.510979</td>\n",
              "    </tr>\n",
              "    <tr>\n",
              "      <th>12</th>\n",
              "      <td>13</td>\n",
              "      <td>9.447176</td>\n",
              "      <td>6582.006192</td>\n",
              "      <td>18.628259</td>\n",
              "    </tr>\n",
              "    <tr>\n",
              "      <th>13</th>\n",
              "      <td>14</td>\n",
              "      <td>11.207020</td>\n",
              "      <td>8485.367463</td>\n",
              "      <td>28.484877</td>\n",
              "    </tr>\n",
              "    <tr>\n",
              "      <th>14</th>\n",
              "      <td>15</td>\n",
              "      <td>14.399326</td>\n",
              "      <td>10508.674165</td>\n",
              "      <td>23.566920</td>\n",
              "    </tr>\n",
              "    <tr>\n",
              "      <th>15</th>\n",
              "      <td>16</td>\n",
              "      <td>17.792803</td>\n",
              "      <td>12813.094886</td>\n",
              "      <td>21.722043</td>\n",
              "    </tr>\n",
              "    <tr>\n",
              "      <th>16</th>\n",
              "      <td>17</td>\n",
              "      <td>21.657764</td>\n",
              "      <td>15712.455039</td>\n",
              "      <td>22.452868</td>\n",
              "    </tr>\n",
              "    <tr>\n",
              "      <th>17</th>\n",
              "      <td>18</td>\n",
              "      <td>26.520553</td>\n",
              "      <td>19297.551410</td>\n",
              "      <td>22.672611</td>\n",
              "    </tr>\n",
              "    <tr>\n",
              "      <th>18</th>\n",
              "      <td>19</td>\n",
              "      <td>32.533455</td>\n",
              "      <td>23476.114349</td>\n",
              "      <td>21.541703</td>\n",
              "    </tr>\n",
              "    <tr>\n",
              "      <th>19</th>\n",
              "      <td>20</td>\n",
              "      <td>39.541715</td>\n",
              "      <td>28244.057663</td>\n",
              "      <td>20.223618</td>\n",
              "    </tr>\n",
              "    <tr>\n",
              "      <th>20</th>\n",
              "      <td>21</td>\n",
              "      <td>47.538480</td>\n",
              "      <td>33194.092323</td>\n",
              "      <td>17.464100</td>\n",
              "    </tr>\n",
              "    <tr>\n",
              "      <th>21</th>\n",
              "      <td>22</td>\n",
              "      <td>55.840648</td>\n",
              "      <td>38951.844522</td>\n",
              "      <td>17.293615</td>\n",
              "    </tr>\n",
              "    <tr>\n",
              "      <th>22</th>\n",
              "      <td>23</td>\n",
              "      <td>65.497515</td>\n",
              "      <td>44435.003007</td>\n",
              "      <td>14.040716</td>\n",
              "    </tr>\n",
              "    <tr>\n",
              "      <th>23</th>\n",
              "      <td>24</td>\n",
              "      <td>74.693835</td>\n",
              "      <td>48518.086965</td>\n",
              "      <td>9.168258</td>\n",
              "    </tr>\n",
              "    <tr>\n",
              "      <th>24</th>\n",
              "      <td>25</td>\n",
              "      <td>81.541958</td>\n",
              "      <td>49296.361086</td>\n",
              "      <td>1.600791</td>\n",
              "    </tr>\n",
              "    <tr>\n",
              "      <th>25</th>\n",
              "      <td>26</td>\n",
              "      <td>82.847275</td>\n",
              "      <td>49078.860029</td>\n",
              "      <td>-0.440318</td>\n",
              "    </tr>\n",
              "    <tr>\n",
              "      <th>26</th>\n",
              "      <td>27</td>\n",
              "      <td>82.482483</td>\n",
              "      <td>48941.215668</td>\n",
              "      <td>-0.279885</td>\n",
              "    </tr>\n",
              "    <tr>\n",
              "      <th>27</th>\n",
              "      <td>28</td>\n",
              "      <td>82.251627</td>\n",
              "      <td>0.000000</td>\n",
              "      <td>0.000000</td>\n",
              "    </tr>\n",
              "    <tr>\n",
              "      <th>28</th>\n",
              "      <td>1</td>\n",
              "      <td>1.051178</td>\n",
              "      <td>16.103278</td>\n",
              "      <td>16.103278</td>\n",
              "    </tr>\n",
              "    <tr>\n",
              "      <th>29</th>\n",
              "      <td>2</td>\n",
              "      <td>1.220452</td>\n",
              "      <td>26.812436</td>\n",
              "      <td>9.223821</td>\n",
              "    </tr>\n",
              "  </tbody>\n",
              "</table>\n",
              "</div>\n",
              "      <button class=\"colab-df-convert\" onclick=\"convertToInteractive('df-995145f5-97cf-4bb0-b25b-868b4b6a2441')\"\n",
              "              title=\"Convert this dataframe to an interactive table.\"\n",
              "              style=\"display:none;\">\n",
              "        \n",
              "  <svg xmlns=\"http://www.w3.org/2000/svg\" height=\"24px\"viewBox=\"0 0 24 24\"\n",
              "       width=\"24px\">\n",
              "    <path d=\"M0 0h24v24H0V0z\" fill=\"none\"/>\n",
              "    <path d=\"M18.56 5.44l.94 2.06.94-2.06 2.06-.94-2.06-.94-.94-2.06-.94 2.06-2.06.94zm-11 1L8.5 8.5l.94-2.06 2.06-.94-2.06-.94L8.5 2.5l-.94 2.06-2.06.94zm10 10l.94 2.06.94-2.06 2.06-.94-2.06-.94-.94-2.06-.94 2.06-2.06.94z\"/><path d=\"M17.41 7.96l-1.37-1.37c-.4-.4-.92-.59-1.43-.59-.52 0-1.04.2-1.43.59L10.3 9.45l-7.72 7.72c-.78.78-.78 2.05 0 2.83L4 21.41c.39.39.9.59 1.41.59.51 0 1.02-.2 1.41-.59l7.78-7.78 2.81-2.81c.8-.78.8-2.07 0-2.86zM5.41 20L4 18.59l7.72-7.72 1.47 1.35L5.41 20z\"/>\n",
              "  </svg>\n",
              "      </button>\n",
              "      \n",
              "  <style>\n",
              "    .colab-df-container {\n",
              "      display:flex;\n",
              "      flex-wrap:wrap;\n",
              "      gap: 12px;\n",
              "    }\n",
              "\n",
              "    .colab-df-convert {\n",
              "      background-color: #E8F0FE;\n",
              "      border: none;\n",
              "      border-radius: 50%;\n",
              "      cursor: pointer;\n",
              "      display: none;\n",
              "      fill: #1967D2;\n",
              "      height: 32px;\n",
              "      padding: 0 0 0 0;\n",
              "      width: 32px;\n",
              "    }\n",
              "\n",
              "    .colab-df-convert:hover {\n",
              "      background-color: #E2EBFA;\n",
              "      box-shadow: 0px 1px 2px rgba(60, 64, 67, 0.3), 0px 1px 3px 1px rgba(60, 64, 67, 0.15);\n",
              "      fill: #174EA6;\n",
              "    }\n",
              "\n",
              "    [theme=dark] .colab-df-convert {\n",
              "      background-color: #3B4455;\n",
              "      fill: #D2E3FC;\n",
              "    }\n",
              "\n",
              "    [theme=dark] .colab-df-convert:hover {\n",
              "      background-color: #434B5C;\n",
              "      box-shadow: 0px 1px 3px 1px rgba(0, 0, 0, 0.15);\n",
              "      filter: drop-shadow(0px 1px 2px rgba(0, 0, 0, 0.3));\n",
              "      fill: #FFFFFF;\n",
              "    }\n",
              "  </style>\n",
              "\n",
              "      <script>\n",
              "        const buttonEl =\n",
              "          document.querySelector('#df-995145f5-97cf-4bb0-b25b-868b4b6a2441 button.colab-df-convert');\n",
              "        buttonEl.style.display =\n",
              "          google.colab.kernel.accessAllowed ? 'block' : 'none';\n",
              "\n",
              "        async function convertToInteractive(key) {\n",
              "          const element = document.querySelector('#df-995145f5-97cf-4bb0-b25b-868b4b6a2441');\n",
              "          const dataTable =\n",
              "            await google.colab.kernel.invokeFunction('convertToInteractive',\n",
              "                                                     [key], {});\n",
              "          if (!dataTable) return;\n",
              "\n",
              "          const docLinkHtml = 'Like what you see? Visit the ' +\n",
              "            '<a target=\"_blank\" href=https://colab.research.google.com/notebooks/data_table.ipynb>data table notebook</a>'\n",
              "            + ' to learn more about interactive tables.';\n",
              "          element.innerHTML = '';\n",
              "          dataTable['output_type'] = 'display_data';\n",
              "          await google.colab.output.renderOutput(dataTable, element);\n",
              "          const docLink = document.createElement('div');\n",
              "          docLink.innerHTML = docLinkHtml;\n",
              "          element.appendChild(docLink);\n",
              "        }\n",
              "      </script>\n",
              "    </div>\n",
              "  </div>\n",
              "  "
            ]
          },
          "metadata": {},
          "execution_count": 47
        }
      ]
    },
    {
      "cell_type": "code",
      "source": [
        "# 28 * 28 사이즈의 데이터셋 생성\n",
        "\n",
        "train_y_all.shape"
      ],
      "metadata": {
        "colab": {
          "base_uri": "https://localhost:8080/"
        },
        "id": "VI1ssXSR1ozv",
        "outputId": "4aaadf15-1d73-43d1-8903-43def5d01472"
      },
      "execution_count": 49,
      "outputs": [
        {
          "output_type": "execute_result",
          "data": {
            "text/plain": [
              "(784, 4)"
            ]
          },
          "metadata": {},
          "execution_count": 49
        }
      ]
    },
    {
      "cell_type": "markdown",
      "source": [
        "### 상관관계 보기 (미완)\n",
        "\n",
        "일별데이터로 새로운 데이터를 만들어서 성장률과 각 컬럼을 비교함\n",
        "\n",
        "일별 데이터로 가공하는 방법은 \n",
        "1. [평균, 분산, 최대값, 최소값 사용](https://dacon.io/competitions/official/235961/codeshare/6589?page=1&dtype=recent)\n",
        "2. [중앙값 사용](https://dacon.io/competitions/official/235961/codeshare/6594?page=1&dtype=recent)\n",
        "3. [총량 사용](https://dacon.io/competitions/official/235961/codeshare/6582?page=1&dtype=recent)\n",
        "\n",
        "시간이 된다면 모두 해보자."
      ],
      "metadata": {
        "id": "JjEyB7zLrO4N"
      }
    },
    {
      "cell_type": "code",
      "source": [
        "plt.rcParams['font.family'] = 'NanumGothic'"
      ],
      "metadata": {
        "id": "2IrkIjmznrd3"
      },
      "execution_count": 14,
      "outputs": []
    },
    {
      "cell_type": "code",
      "source": [
        "sns.set(font=\"NanumGothic\",rc = {'figure.figsize':(15,8)})\n",
        "\n",
        "sns.heatmap(train_X_case[\"01\"].drop(([\"DAT\", \"obs_time\"]), axis=1).corr())"
      ],
      "metadata": {
        "colab": {
          "base_uri": "https://localhost:8080/",
          "height": 1000
        },
        "id": "K6V90JsSlC1h",
        "outputId": "19c71e73-428a-4c7a-e063-69585142606a"
      },
      "execution_count": 15,
      "outputs": [
        {
          "output_type": "stream",
          "name": "stderr",
          "text": [
            "WARNING:matplotlib.font_manager:findfont: Font family ['NanumGothic'] not found. Falling back to DejaVu Sans.\n",
            "/usr/local/lib/python3.8/dist-packages/matplotlib/backends/backend_agg.py:214: RuntimeWarning: Glyph 45236 missing from current font.\n",
            "  font.set_text(s, 0.0, flags=flags)\n",
            "/usr/local/lib/python3.8/dist-packages/matplotlib/backends/backend_agg.py:214: RuntimeWarning: Glyph 48512 missing from current font.\n",
            "  font.set_text(s, 0.0, flags=flags)\n",
            "/usr/local/lib/python3.8/dist-packages/matplotlib/backends/backend_agg.py:214: RuntimeWarning: Glyph 50728 missing from current font.\n",
            "  font.set_text(s, 0.0, flags=flags)\n",
            "/usr/local/lib/python3.8/dist-packages/matplotlib/backends/backend_agg.py:214: RuntimeWarning: Glyph 46020 missing from current font.\n",
            "  font.set_text(s, 0.0, flags=flags)\n",
            "/usr/local/lib/python3.8/dist-packages/matplotlib/backends/backend_agg.py:214: RuntimeWarning: Glyph 44288 missing from current font.\n",
            "  font.set_text(s, 0.0, flags=flags)\n",
            "/usr/local/lib/python3.8/dist-packages/matplotlib/backends/backend_agg.py:214: RuntimeWarning: Glyph 52769 missing from current font.\n",
            "  font.set_text(s, 0.0, flags=flags)\n",
            "/usr/local/lib/python3.8/dist-packages/matplotlib/backends/backend_agg.py:214: RuntimeWarning: Glyph 52824 missing from current font.\n",
            "  font.set_text(s, 0.0, flags=flags)\n",
            "/usr/local/lib/python3.8/dist-packages/matplotlib/backends/backend_agg.py:214: RuntimeWarning: Glyph 49845 missing from current font.\n",
            "  font.set_text(s, 0.0, flags=flags)\n",
            "/usr/local/lib/python3.8/dist-packages/matplotlib/backends/backend_agg.py:214: RuntimeWarning: Glyph 49884 missing from current font.\n",
            "  font.set_text(s, 0.0, flags=flags)\n",
            "/usr/local/lib/python3.8/dist-packages/matplotlib/backends/backend_agg.py:214: RuntimeWarning: Glyph 44036 missing from current font.\n",
            "  font.set_text(s, 0.0, flags=flags)\n",
            "/usr/local/lib/python3.8/dist-packages/matplotlib/backends/backend_agg.py:214: RuntimeWarning: Glyph 45817 missing from current font.\n",
            "  font.set_text(s, 0.0, flags=flags)\n",
            "/usr/local/lib/python3.8/dist-packages/matplotlib/backends/backend_agg.py:214: RuntimeWarning: Glyph 48516 missing from current font.\n",
            "  font.set_text(s, 0.0, flags=flags)\n",
            "/usr/local/lib/python3.8/dist-packages/matplotlib/backends/backend_agg.py:214: RuntimeWarning: Glyph 47924 missing from current font.\n",
            "  font.set_text(s, 0.0, flags=flags)\n",
            "/usr/local/lib/python3.8/dist-packages/matplotlib/backends/backend_agg.py:214: RuntimeWarning: Glyph 47049 missing from current font.\n",
            "  font.set_text(s, 0.0, flags=flags)\n",
            "/usr/local/lib/python3.8/dist-packages/matplotlib/backends/backend_agg.py:214: RuntimeWarning: Glyph 51068 missing from current font.\n",
            "  font.set_text(s, 0.0, flags=flags)\n",
            "/usr/local/lib/python3.8/dist-packages/matplotlib/backends/backend_agg.py:214: RuntimeWarning: Glyph 45572 missing from current font.\n",
            "  font.set_text(s, 0.0, flags=flags)\n",
            "/usr/local/lib/python3.8/dist-packages/matplotlib/backends/backend_agg.py:214: RuntimeWarning: Glyph 51201 missing from current font.\n",
            "  font.set_text(s, 0.0, flags=flags)\n",
            "/usr/local/lib/python3.8/dist-packages/matplotlib/backends/backend_agg.py:214: RuntimeWarning: Glyph 48177 missing from current font.\n",
            "  font.set_text(s, 0.0, flags=flags)\n",
            "/usr/local/lib/python3.8/dist-packages/matplotlib/backends/backend_agg.py:214: RuntimeWarning: Glyph 49353 missing from current font.\n",
            "  font.set_text(s, 0.0, flags=flags)\n",
            "/usr/local/lib/python3.8/dist-packages/matplotlib/backends/backend_agg.py:214: RuntimeWarning: Glyph 44305 missing from current font.\n",
            "  font.set_text(s, 0.0, flags=flags)\n",
            "/usr/local/lib/python3.8/dist-packages/matplotlib/backends/backend_agg.py:214: RuntimeWarning: Glyph 52397 missing from current font.\n",
            "  font.set_text(s, 0.0, flags=flags)\n",
            "/usr/local/lib/python3.8/dist-packages/matplotlib/backends/backend_agg.py:214: RuntimeWarning: Glyph 52509 missing from current font.\n",
            "  font.set_text(s, 0.0, flags=flags)\n",
            "/usr/local/lib/python3.8/dist-packages/matplotlib/backends/backend_agg.py:183: RuntimeWarning: Glyph 45236 missing from current font.\n",
            "  font.set_text(s, 0, flags=flags)\n",
            "/usr/local/lib/python3.8/dist-packages/matplotlib/backends/backend_agg.py:183: RuntimeWarning: Glyph 48512 missing from current font.\n",
            "  font.set_text(s, 0, flags=flags)\n",
            "/usr/local/lib/python3.8/dist-packages/matplotlib/backends/backend_agg.py:183: RuntimeWarning: Glyph 50728 missing from current font.\n",
            "  font.set_text(s, 0, flags=flags)\n",
            "/usr/local/lib/python3.8/dist-packages/matplotlib/backends/backend_agg.py:183: RuntimeWarning: Glyph 46020 missing from current font.\n",
            "  font.set_text(s, 0, flags=flags)\n",
            "/usr/local/lib/python3.8/dist-packages/matplotlib/backends/backend_agg.py:183: RuntimeWarning: Glyph 44288 missing from current font.\n",
            "  font.set_text(s, 0, flags=flags)\n",
            "/usr/local/lib/python3.8/dist-packages/matplotlib/backends/backend_agg.py:183: RuntimeWarning: Glyph 52769 missing from current font.\n",
            "  font.set_text(s, 0, flags=flags)\n",
            "/usr/local/lib/python3.8/dist-packages/matplotlib/backends/backend_agg.py:183: RuntimeWarning: Glyph 52824 missing from current font.\n",
            "  font.set_text(s, 0, flags=flags)\n",
            "/usr/local/lib/python3.8/dist-packages/matplotlib/backends/backend_agg.py:183: RuntimeWarning: Glyph 49845 missing from current font.\n",
            "  font.set_text(s, 0, flags=flags)\n",
            "/usr/local/lib/python3.8/dist-packages/matplotlib/backends/backend_agg.py:183: RuntimeWarning: Glyph 49884 missing from current font.\n",
            "  font.set_text(s, 0, flags=flags)\n",
            "/usr/local/lib/python3.8/dist-packages/matplotlib/backends/backend_agg.py:183: RuntimeWarning: Glyph 44036 missing from current font.\n",
            "  font.set_text(s, 0, flags=flags)\n",
            "/usr/local/lib/python3.8/dist-packages/matplotlib/backends/backend_agg.py:183: RuntimeWarning: Glyph 45817 missing from current font.\n",
            "  font.set_text(s, 0, flags=flags)\n",
            "/usr/local/lib/python3.8/dist-packages/matplotlib/backends/backend_agg.py:183: RuntimeWarning: Glyph 48516 missing from current font.\n",
            "  font.set_text(s, 0, flags=flags)\n",
            "/usr/local/lib/python3.8/dist-packages/matplotlib/backends/backend_agg.py:183: RuntimeWarning: Glyph 47924 missing from current font.\n",
            "  font.set_text(s, 0, flags=flags)\n",
            "/usr/local/lib/python3.8/dist-packages/matplotlib/backends/backend_agg.py:183: RuntimeWarning: Glyph 47049 missing from current font.\n",
            "  font.set_text(s, 0, flags=flags)\n",
            "/usr/local/lib/python3.8/dist-packages/matplotlib/backends/backend_agg.py:183: RuntimeWarning: Glyph 51068 missing from current font.\n",
            "  font.set_text(s, 0, flags=flags)\n",
            "/usr/local/lib/python3.8/dist-packages/matplotlib/backends/backend_agg.py:183: RuntimeWarning: Glyph 45572 missing from current font.\n",
            "  font.set_text(s, 0, flags=flags)\n",
            "/usr/local/lib/python3.8/dist-packages/matplotlib/backends/backend_agg.py:183: RuntimeWarning: Glyph 51201 missing from current font.\n",
            "  font.set_text(s, 0, flags=flags)\n",
            "/usr/local/lib/python3.8/dist-packages/matplotlib/backends/backend_agg.py:183: RuntimeWarning: Glyph 48177 missing from current font.\n",
            "  font.set_text(s, 0, flags=flags)\n",
            "/usr/local/lib/python3.8/dist-packages/matplotlib/backends/backend_agg.py:183: RuntimeWarning: Glyph 49353 missing from current font.\n",
            "  font.set_text(s, 0, flags=flags)\n",
            "/usr/local/lib/python3.8/dist-packages/matplotlib/backends/backend_agg.py:183: RuntimeWarning: Glyph 44305 missing from current font.\n",
            "  font.set_text(s, 0, flags=flags)\n",
            "/usr/local/lib/python3.8/dist-packages/matplotlib/backends/backend_agg.py:183: RuntimeWarning: Glyph 52397 missing from current font.\n",
            "  font.set_text(s, 0, flags=flags)\n",
            "/usr/local/lib/python3.8/dist-packages/matplotlib/backends/backend_agg.py:183: RuntimeWarning: Glyph 52509 missing from current font.\n",
            "  font.set_text(s, 0, flags=flags)\n"
          ]
        },
        {
          "output_type": "execute_result",
          "data": {
            "text/plain": [
              "<matplotlib.axes._subplots.AxesSubplot at 0x7fe34f99cc70>"
            ]
          },
          "metadata": {},
          "execution_count": 15
        },
        {
          "output_type": "display_data",
          "data": {
            "text/plain": [
              "<Figure size 1080x576 with 2 Axes>"
            ],
            "image/png": "[encoded data removed]"
          },
          "metadata": {}
        }
      ]
    },
    {
      "cell_type": "markdown",
      "source": [
        "상관관계에서 뭔가를 얻지는 못했다. \n",
        "\n",
        "상관관계 표에 아예 색칠되지 않은 부분은 통제변인으로써 작용하는 듯 하다."
      ],
      "metadata": {
        "id": "sVn9SPVZqiTV"
      }
    },
    {
      "cell_type": "markdown",
      "source": [
        "### null 값 처리\n",
        "\n",
        "null 값이 없다."
      ],
      "metadata": {
        "id": "UC3HQSGln4O8"
      }
    },
    {
      "cell_type": "code",
      "source": [
        "for i in range(1, 29):\n",
        "    CASE = str(i).zfill(2)\n",
        "    for _ in train_X_case[CASE].isnull().sum():\n",
        "        if _ == True:\n",
        "            print(_)"
      ],
      "metadata": {
        "id": "qTGWhVeBtaQ1"
      },
      "execution_count": 16,
      "outputs": []
    },
    {
      "cell_type": "markdown",
      "source": [
        "### 노이즈값 처리\n",
        "\n",
        "- 시간당 내부 평균온도: 4도~40도\n",
        "- 시간당 내부 평균습도: 0% ~ 100%\n",
        "- 시간당 내부 평균 co2 농도 : 0ppm ~ 1200 ppm\n",
        "- 시간당 평균 EC : 0 ~ 8\n",
        "- 시간당 분무량 : 0 ~ 3000 / 일간 누적 분무량 0 ~ 72,000\n",
        "- 시간당 백색광량 : 0 ~ 120,000 / 일간 누적 백색광량 0 ~ 2,880,000\n",
        "- 시간당 적색광량 : 0 ~ 120,000 / 일간 누적 적색광량 0 ~ 2,880,000 \n",
        "- 시간당 청색광량 : 0 ~ 120,000 / 일간 누적 청색광량 0 ~ 2,880,000\n",
        "- 시간당 총광량 : 0 ~ 120,000 / 일간 누적 총광량 0 ~ 2,880,000\n",
        "\n",
        "\n"
      ],
      "metadata": {
        "id": "Mu2lbGjqtzHz"
      }
    },
    {
      "cell_type": "code",
      "source": [
        "col = train_X_case[\"01\"].columns\n",
        "col"
      ],
      "metadata": {
        "colab": {
          "base_uri": "https://localhost:8080/"
        },
        "id": "DVtJ02ZO55Pv",
        "outputId": "e9a661c8-6d4d-402c-c642-b1954442086a"
      },
      "execution_count": 17,
      "outputs": [
        {
          "output_type": "execute_result",
          "data": {
            "text/plain": [
              "Index(['DAT', 'obs_time', '내부온도관측치', '내부습도관측치', 'co2관측치', 'ec관측치', '시간당분무량',\n",
              "       '일간누적분무량', '시간당백색광량', '일간누적백색광량', '시간당적색광량', '일간누적적색광량', '시간당청색광량',\n",
              "       '일간누적청색광량', '시간당총광량', '일간누적총광량'],\n",
              "      dtype='object')"
            ]
          },
          "metadata": {},
          "execution_count": 17
        }
      ]
    },
    {
      "cell_type": "code",
      "source": [
        "control_variable = pd.DataFrame()\n",
        "\n",
        "noise = [[]]\n",
        "\n",
        "for i in range(1, 29):\n",
        "    noise.append([])\n",
        "    CASE = str(i).zfill(2)\n",
        "\n",
        "    # 내부 온도 관측치 \n",
        "    noise[i].append(train_X_case[CASE][train_X_case[CASE][col[2]]<4].index)    \n",
        "    noise[i].append(train_X_case[CASE][train_X_case[CASE][col[2]]>40].index)   \n",
        "\n",
        "    # 내부습도 관측치\n",
        "    noise[i].append(train_X_case[CASE][train_X_case[CASE][col[3]]<=0].index)    \n",
        "    noise[i].append(train_X_case[CASE][train_X_case[CASE][col[3]]>100].index)   \n",
        "\n",
        "    # co2 관측치\n",
        "    noise[i].append(train_X_case[CASE][train_X_case[CASE][col[4]]<=0].index)    \n",
        "    noise[i].append(train_X_case[CASE][train_X_case[CASE][col[4]]>1200].index)   \n",
        "\n",
        "    # ec 관측치\n",
        "    noise[i].append(train_X_case[CASE][train_X_case[CASE][col[5]]<0].index)    \n",
        "    noise[i].append(train_X_case[CASE][train_X_case[CASE][col[5]]>8].index)   \n",
        "\n",
        "    # 시간당 분무량\n",
        "    noise[i].append(train_X_case[CASE][train_X_case[CASE][col[6]]<0].index)    \n",
        "    noise[i].append(train_X_case[CASE][train_X_case[CASE][col[6]]>3000].index)   \n",
        "\n",
        "    # 누적 분무량\n",
        "    noise[i].append(train_X_case[CASE][train_X_case[CASE][col[7]]<0].index)    \n",
        "    noise[i].append(train_X_case[CASE][train_X_case[CASE][col[7]]>72000].index)   \n",
        "\n",
        "    # 시간당 백색광량\n",
        "    noise[i].append(train_X_case[CASE][train_X_case[CASE][col[8]]<0].index)    \n",
        "    noise[i].append(train_X_case[CASE][train_X_case[CASE][col[8]]>120000].index)   \n",
        "\n",
        "    # 일간 누적 백색광량\n",
        "    noise[i].append(train_X_case[CASE][train_X_case[CASE][col[9]]<0].index)    \n",
        "    noise[i].append(train_X_case[CASE][train_X_case[CASE][col[9]]> 2880000].index)   \n",
        "\n",
        "    # 시간당 적색광량\n",
        "    noise[i].append(train_X_case[CASE][train_X_case[CASE][col[10]]<0].index)    \n",
        "    noise[i].append(train_X_case[CASE][train_X_case[CASE][col[10]]>120000].index)   \n",
        "\n",
        "    # 일간 누적 적색광량\n",
        "    noise[i].append(train_X_case[CASE][train_X_case[CASE][col[11]]<0].index)    \n",
        "    noise[i].append(train_X_case[CASE][train_X_case[CASE][col[11]]>2880000].index)   \n",
        "\n",
        "    # 시간당 청색광량\n",
        "    noise[i].append(train_X_case[CASE][train_X_case[CASE][col[12]]<0].index)    \n",
        "    noise[i].append(train_X_case[CASE][train_X_case[CASE][col[12]]>120000].index)   \n",
        "\n",
        "    # 일간 누적 청색광량\n",
        "    noise[i].append(train_X_case[CASE][train_X_case[CASE][col[13]]<0].index)    \n",
        "    noise[i].append(train_X_case[CASE][train_X_case[CASE][col[13]]>2880000].index)   \n",
        "\n",
        "    # 시간당 총광량\n",
        "    noise[i].append(train_X_case[CASE][train_X_case[CASE][col[14]]<0].index)    \n",
        "    noise[i].append(train_X_case[CASE][train_X_case[CASE][col[14]]>120000].index)   \n",
        "\n",
        "    # 일간 누적 총광량\n",
        "    noise[i].append(train_X_case[CASE][train_X_case[CASE][col[15]]<0].index)    \n",
        "    noise[i].append(train_X_case[CASE][train_X_case[CASE][col[15]]>2880000].index)   \n",
        "\n",
        "    # # 중복값 제거\n",
        "    # noise[i] = list(set(noise[i]))"
      ],
      "metadata": {
        "id": "hoUPUcK9x8mu"
      },
      "execution_count": 18,
      "outputs": []
    },
    {
      "cell_type": "code",
      "source": [
        "for i in range(1, 29):\n",
        "    for j in range(28):\n",
        "        if len(noise[i][j]) != 0 and len(noise[i][j])<100:\n",
        "            print(\"case{} {}\".format(i, col[j//2+2]))\n",
        "            print(noise[i][j], \"\\n\")"
      ],
      "metadata": {
        "colab": {
          "base_uri": "https://localhost:8080/"
        },
        "id": "5rhoXnHQ1Hz7",
        "outputId": "59a64d84-9995-4316-e34d-8e88d8f17169"
      },
      "execution_count": 19,
      "outputs": [
        {
          "output_type": "stream",
          "name": "stdout",
          "text": [
            "case1 co2관측치\n",
            "Int64Index([639, 640, 641, 642], dtype='int64') \n",
            "\n",
            "case3 co2관측치\n",
            "Int64Index([ 12,  15,  16,  17,  18,  19,  20,  36,  39,  40,  41,  42,  43,\n",
            "             44,  60,  61,  62,  63,  64,  65,  66,  67,  68,  69, 159, 160,\n",
            "            161, 162, 180, 181, 182, 183, 184, 185, 186, 187, 188, 204, 205,\n",
            "            206, 207, 208, 209, 210, 211, 212, 229, 230, 231, 232, 233, 234,\n",
            "            235, 236, 237, 252, 253, 254, 255, 256, 257, 258, 259, 260, 325,\n",
            "            326, 327, 328, 329, 330, 331, 332, 333, 334, 350, 351, 352, 353,\n",
            "            354, 355, 356, 395, 396, 397, 400, 401, 402, 403, 404, 662, 663,\n",
            "            664, 665, 666, 667, 668],\n",
            "           dtype='int64') \n",
            "\n",
            "case4 내부온도관측치\n",
            "Int64Index([15], dtype='int64') \n",
            "\n",
            "case4 내부습도관측치\n",
            "Int64Index([15], dtype='int64') \n",
            "\n",
            "case4 co2관측치\n",
            "Int64Index([549], dtype='int64') \n",
            "\n",
            "case6 시간당백색광량\n",
            "Int64Index([15], dtype='int64') \n",
            "\n",
            "case6 시간당적색광량\n",
            "Int64Index([15], dtype='int64') \n",
            "\n",
            "case6 시간당청색광량\n",
            "Int64Index([15], dtype='int64') \n",
            "\n",
            "case6 시간당총광량\n",
            "Int64Index([15], dtype='int64') \n",
            "\n",
            "case8 내부온도관측치\n",
            "Int64Index([135, 136], dtype='int64') \n",
            "\n",
            "case13 시간당분무량\n",
            "Int64Index([601, 649], dtype='int64') \n",
            "\n",
            "case13 시간당분무량\n",
            "Int64Index([524], dtype='int64') \n",
            "\n",
            "case26 내부온도관측치\n",
            "Int64Index([52, 53, 54, 55, 56, 368, 408, 409, 410, 411], dtype='int64') \n",
            "\n",
            "case27 co2관측치\n",
            "Int64Index([549], dtype='int64') \n",
            "\n"
          ]
        }
      ]
    },
    {
      "cell_type": "markdown",
      "source": [
        "일단 값이 틀린 칼럼과 인덱스는 찾았으니, 대입할 값은 나중에 처리해보자."
      ],
      "metadata": {
        "id": "cMUr_8Ak6YnT"
      }
    },
    {
      "cell_type": "markdown",
      "source": [
        "#### co2 관측치"
      ],
      "metadata": {
        "id": "KPhFUb6lHerD"
      }
    },
    {
      "cell_type": "code",
      "source": [
        "# case 1 co2관측치\n",
        "train_X_case[\"01\"].loc[[637,638, 639, 640, 641, 642, 643, 644], \"co2관측치\"]"
      ],
      "metadata": {
        "colab": {
          "base_uri": "https://localhost:8080/"
        },
        "id": "c4WVacv3-Tcp",
        "outputId": "ac1b76df-59b3-425e-be80-278b13205b89"
      },
      "execution_count": 20,
      "outputs": [
        {
          "output_type": "execute_result",
          "data": {
            "text/plain": [
              "637     682.600000\n",
              "638     997.916667\n",
              "639    1225.066667\n",
              "640    1220.583333\n",
              "641    1217.500000\n",
              "642    1264.366667\n",
              "643    1077.850000\n",
              "644    1043.066667\n",
              "Name: co2관측치, dtype: float64"
            ]
          },
          "metadata": {},
          "execution_count": 20
        }
      ]
    },
    {
      "cell_type": "code",
      "source": [
        "# case 3 co2관측치\n",
        "train_X_case[\"03\"].loc[[ 12,  15,  16,  17,  18,  19,  20,  36,  39,  40,  41,  42,  43,\n",
        "             44,  60,  61,  62,  63,  64,  65,  66,  67,  68,  69, 159, 160,\n",
        "            161, 162, 180, 181, 182, 183, 184, 185, 186, 187, 188, 204, 205,\n",
        "            206, 207, 208, 209, 210, 211, 212, 229, 230, 231, 232, 233, 234,\n",
        "            235, 236, 237, 252, 253, 254, 255, 256, 257, 258, 259, 260, 325,\n",
        "            326, 327, 328, 329, 330, 331, 332, 333, 334, 350, 351, 352, 353,\n",
        "            354, 355, 356, 395, 396, 397, 400, 401, 402, 403, 404, 662, 663,\n",
        "            664, 665, 666, 667, 668], \"co2관측치\"]"
      ],
      "metadata": {
        "colab": {
          "base_uri": "https://localhost:8080/"
        },
        "id": "vh2pz0Qa80Wh",
        "outputId": "04c4fc09-c1e2-4b02-ce22-21d50832925d"
      },
      "execution_count": 21,
      "outputs": [
        {
          "output_type": "execute_result",
          "data": {
            "text/plain": [
              "12     1219.633333\n",
              "15     1260.616667\n",
              "16     1261.050000\n",
              "17     1253.816667\n",
              "18     1343.500000\n",
              "          ...     \n",
              "664    1252.683333\n",
              "665    1263.350000\n",
              "666    1358.550000\n",
              "667    1360.933333\n",
              "668    1232.433333\n",
              "Name: co2관측치, Length: 96, dtype: float64"
            ]
          },
          "metadata": {},
          "execution_count": 21
        }
      ]
    },
    {
      "cell_type": "code",
      "source": [
        "# 케이스4 co2 관측치\n",
        "train_X_case[\"04\"].loc[[548, 549, 550], \"co2관측치\"]"
      ],
      "metadata": {
        "colab": {
          "base_uri": "https://localhost:8080/"
        },
        "id": "5CAjbX_T_wAk",
        "outputId": "f2bf48fd-61e7-4564-f679-fe6f1b4146e1"
      },
      "execution_count": 22,
      "outputs": [
        {
          "output_type": "execute_result",
          "data": {
            "text/plain": [
              "548    1034.866667\n",
              "549    1311.500000\n",
              "550     953.683333\n",
              "Name: co2관측치, dtype: float64"
            ]
          },
          "metadata": {},
          "execution_count": 22
        }
      ]
    },
    {
      "cell_type": "code",
      "source": [
        "# case 27 co2 관측치\n",
        "train_X_case[\"27\"].loc[[548,549,550], \"co2관측치\"]"
      ],
      "metadata": {
        "colab": {
          "base_uri": "https://localhost:8080/"
        },
        "id": "DmZ5fO3gALtd",
        "outputId": "6739c0bd-a8ef-4f00-8eab-5c350ca180df"
      },
      "execution_count": 23,
      "outputs": [
        {
          "output_type": "execute_result",
          "data": {
            "text/plain": [
              "548    1074.100000\n",
              "549    1355.116667\n",
              "550    1058.033333\n",
              "Name: co2관측치, dtype: float64"
            ]
          },
          "metadata": {},
          "execution_count": 23
        }
      ]
    },
    {
      "cell_type": "markdown",
      "source": [
        "**이 정도 co2관측량 오차는 수용될 수 있는 부분인 것 같다. 허용범위 내에 값이 아니더라도 물리적으로 가능한 값이기 때문에 그냥 넣겠다.**"
      ],
      "metadata": {
        "id": "ZeYXxrvo-HUo"
      }
    },
    {
      "cell_type": "markdown",
      "source": [
        "#### 내부온도관측치"
      ],
      "metadata": {
        "id": "WNO9C-zjHhXK"
      }
    },
    {
      "cell_type": "code",
      "source": [
        "# case 4\n",
        "train_X_case[\"04\"].loc[[14,15,16], \"내부온도관측치\"]"
      ],
      "metadata": {
        "colab": {
          "base_uri": "https://localhost:8080/"
        },
        "id": "wiZsLX5u-8Ys",
        "outputId": "dda9feab-572f-4f37-c65b-5013469092d1"
      },
      "execution_count": 24,
      "outputs": [
        {
          "output_type": "execute_result",
          "data": {
            "text/plain": [
              "14     6.921053\n",
              "15     0.000000\n",
              "16    16.516215\n",
              "Name: 내부온도관측치, dtype: float64"
            ]
          },
          "metadata": {},
          "execution_count": 24
        }
      ]
    },
    {
      "cell_type": "markdown",
      "source": [
        "온도가 0도 인것은 말이 안되므로, 앞과 뒤 온도의 평균을 넣어주겠다."
      ],
      "metadata": {
        "id": "p8ihSFwL_Liz"
      }
    },
    {
      "cell_type": "code",
      "source": [
        "train_X_case[\"04\"].loc[[15], \"내부온도관측치\"] = (6.921053+16.516215)/2"
      ],
      "metadata": {
        "id": "thba_PNN_TYz"
      },
      "execution_count": 25,
      "outputs": []
    },
    {
      "cell_type": "code",
      "source": [
        "# case 8\n",
        "train_X_case[\"08\"].loc[[134,135,136,137], \"내부온도관측치\"]"
      ],
      "metadata": {
        "colab": {
          "base_uri": "https://localhost:8080/"
        },
        "id": "RLyBjdrPBrRr",
        "outputId": "aa4008e8-ff15-41dd-db2f-6f19ec2b334c"
      },
      "execution_count": 26,
      "outputs": [
        {
          "output_type": "execute_result",
          "data": {
            "text/plain": [
              "134    39.278333\n",
              "135    40.033333\n",
              "136    40.363333\n",
              "137    38.435000\n",
              "Name: 내부온도관측치, dtype: float64"
            ]
          },
          "metadata": {},
          "execution_count": 26
        }
      ]
    },
    {
      "cell_type": "markdown",
      "source": [
        "추세를 봤을 때, 큰 오차는 아니므로 그냥 유지하겠다."
      ],
      "metadata": {
        "id": "QxbkwMEXB4XF"
      }
    },
    {
      "cell_type": "code",
      "source": [
        "# case 26\n",
        "train_X_case[\"26\"].loc[[51, 52, 53, 54, 55, 56, 368, 408, 409, 410, 411], \"내부온도관측치\"]"
      ],
      "metadata": {
        "colab": {
          "base_uri": "https://localhost:8080/"
        },
        "id": "KS9z6JN7IEqH",
        "outputId": "e6dc20a9-b9fd-489b-a5ef-64e4985eb6ef"
      },
      "execution_count": 27,
      "outputs": [
        {
          "output_type": "execute_result",
          "data": {
            "text/plain": [
              "51     39.935001\n",
              "52     40.713333\n",
              "53     40.293333\n",
              "54     40.428333\n",
              "55     41.216666\n",
              "56     42.643334\n",
              "368    40.611667\n",
              "408    40.143333\n",
              "409    40.109999\n",
              "410    40.415001\n",
              "411    40.101667\n",
              "Name: 내부온도관측치, dtype: float64"
            ]
          },
          "metadata": {},
          "execution_count": 27
        }
      ]
    },
    {
      "cell_type": "markdown",
      "source": [
        "추세를 봤을 때, 큰 오차는 아니므로 그냥 유지하겠다."
      ],
      "metadata": {
        "id": "HnzNK0y-IWjy"
      }
    },
    {
      "cell_type": "markdown",
      "source": [
        "#### ec관측치"
      ],
      "metadata": {
        "id": "thGqUYjoIg8J"
      }
    },
    {
      "cell_type": "code",
      "source": [
        "# case1\n",
        "train_X_case[\"01\"].loc[[64,643,644,645, 646, 647, 648, 649, 650, 651, 652, 653, 655, 656, 657, 658, 659,\n",
        "            660, 661, 662, 663, 664, 665, 666, 667, 668, 669, 670, 671], \"ec관측치\"]"
      ],
      "metadata": {
        "colab": {
          "base_uri": "https://localhost:8080/"
        },
        "id": "prZhbMHqIjWI",
        "outputId": "3732b33f-543b-4690-a736-e2d67452df7a"
      },
      "execution_count": 28,
      "outputs": [
        {
          "output_type": "execute_result",
          "data": {
            "text/plain": [
              "64     1.398022\n",
              "643    0.039426\n",
              "644    0.012940\n",
              "645    0.018853\n",
              "646    0.000000\n",
              "647    0.000000\n",
              "648    0.000000\n",
              "649    0.000000\n",
              "650    0.000000\n",
              "651    0.000000\n",
              "652    0.000000\n",
              "653    0.000000\n",
              "655    0.000000\n",
              "656    0.000000\n",
              "657    0.000000\n",
              "658    0.000000\n",
              "659    0.000000\n",
              "660    0.000000\n",
              "661    0.000000\n",
              "662    0.000000\n",
              "663    0.000000\n",
              "664    0.000000\n",
              "665    0.000000\n",
              "666    0.000000\n",
              "667    0.000000\n",
              "668    0.000000\n",
              "669    0.000000\n",
              "670    0.000000\n",
              "671    0.000000\n",
              "Name: ec관측치, dtype: float64"
            ]
          },
          "metadata": {},
          "execution_count": 28
        }
      ]
    },
    {
      "cell_type": "markdown",
      "source": [
        "실험의 마지막 즈음에 추세를 고려해서 ec관측치가 낮게 나타날 수는 있을 것 같다."
      ],
      "metadata": {
        "id": "kk76ju3YJJrt"
      }
    },
    {
      "cell_type": "code",
      "source": [
        "# case 3\n",
        "train_X_case[\"05\"].loc[[39,  40,  41,  42,  43,  44,  45, 245, 246, 247, 271, 272, 273,\n",
        "            302, 303, 321, 322, 337, 338, 339, 340, 353, 354, 355, 356, 367,\n",
        "            368, 369, 370, 377, 378, 379, 396, 397, 405, 406, 407, 408, 409,\n",
        "            425, 426, 427, 428, 429, 440, 452, 453, 454, 455, 456, 457, 466,\n",
        "            467, 473, 474, 475, 483, 484, 485, 486, 487, 488, 581], \"ec관측치\"]"
      ],
      "metadata": {
        "colab": {
          "base_uri": "https://localhost:8080/"
        },
        "id": "GewMjCO8IjSc",
        "outputId": "2927198c-9466-4c0f-fa81-9863ebe3a972"
      },
      "execution_count": 29,
      "outputs": [
        {
          "output_type": "execute_result",
          "data": {
            "text/plain": [
              "39     0.0\n",
              "40     0.0\n",
              "41     0.0\n",
              "42     0.0\n",
              "43     0.0\n",
              "      ... \n",
              "485    0.0\n",
              "486    0.0\n",
              "487    0.0\n",
              "488    0.0\n",
              "581    0.0\n",
              "Name: ec관측치, Length: 63, dtype: float64"
            ]
          },
          "metadata": {},
          "execution_count": 29
        }
      ]
    },
    {
      "cell_type": "markdown",
      "source": [
        "ec관측치가 0인 것이 의심스러워서 따로 살펴봤으나, 의도된 것인 것 같다. 나머지는 살펴보지 않아도 될 듯하다."
      ],
      "metadata": {
        "id": "5mlSU2L5IjPI"
      }
    },
    {
      "cell_type": "markdown",
      "source": [
        "#### 광량"
      ],
      "metadata": {
        "id": "dKvBNYEKHmY3"
      }
    },
    {
      "cell_type": "code",
      "source": [
        "train_X_case[\"06\"].loc[[14, 15, 16], [\"시간당백색광량\", \"시간당적색광량\", \"시간당청색광량\", \"시간당총광량\"]]"
      ],
      "metadata": {
        "colab": {
          "base_uri": "https://localhost:8080/",
          "height": 0
        },
        "id": "4UQDU8WJAcMI",
        "outputId": "d2c8b1ff-b766-4b11-c626-bef692395439"
      },
      "execution_count": 30,
      "outputs": [
        {
          "output_type": "execute_result",
          "data": {
            "text/plain": [
              "        시간당백색광량    시간당적색광량     시간당청색광량       시간당총광량\n",
              "14   18255.1900  1659.7644   3419.6695   23334.6239\n",
              "15 -138371.2461 -8793.6072 -18570.8575 -165735.7108\n",
              "16   17744.6635  2128.0728   3223.8570   23096.5933"
            ],
            "text/html": [
              "\n",
              "  <div id=\"df-cf14596e-c1fa-481f-af50-34ce51f578f1\">\n",
              "    <div class=\"colab-df-container\">\n",
              "      <div>\n",
              "<style scoped>\n",
              "    .dataframe tbody tr th:only-of-type {\n",
              "        vertical-align: middle;\n",
              "    }\n",
              "\n",
              "    .dataframe tbody tr th {\n",
              "        vertical-align: top;\n",
              "    }\n",
              "\n",
              "    .dataframe thead th {\n",
              "        text-align: right;\n",
              "    }\n",
              "</style>\n",
              "<table border=\"1\" class=\"dataframe\">\n",
              "  <thead>\n",
              "    <tr style=\"text-align: right;\">\n",
              "      <th></th>\n",
              "      <th>시간당백색광량</th>\n",
              "      <th>시간당적색광량</th>\n",
              "      <th>시간당청색광량</th>\n",
              "      <th>시간당총광량</th>\n",
              "    </tr>\n",
              "  </thead>\n",
              "  <tbody>\n",
              "    <tr>\n",
              "      <th>14</th>\n",
              "      <td>18255.1900</td>\n",
              "      <td>1659.7644</td>\n",
              "      <td>3419.6695</td>\n",
              "      <td>23334.6239</td>\n",
              "    </tr>\n",
              "    <tr>\n",
              "      <th>15</th>\n",
              "      <td>-138371.2461</td>\n",
              "      <td>-8793.6072</td>\n",
              "      <td>-18570.8575</td>\n",
              "      <td>-165735.7108</td>\n",
              "    </tr>\n",
              "    <tr>\n",
              "      <th>16</th>\n",
              "      <td>17744.6635</td>\n",
              "      <td>2128.0728</td>\n",
              "      <td>3223.8570</td>\n",
              "      <td>23096.5933</td>\n",
              "    </tr>\n",
              "  </tbody>\n",
              "</table>\n",
              "</div>\n",
              "      <button class=\"colab-df-convert\" onclick=\"convertToInteractive('df-cf14596e-c1fa-481f-af50-34ce51f578f1')\"\n",
              "              title=\"Convert this dataframe to an interactive table.\"\n",
              "              style=\"display:none;\">\n",
              "        \n",
              "  <svg xmlns=\"http://www.w3.org/2000/svg\" height=\"24px\"viewBox=\"0 0 24 24\"\n",
              "       width=\"24px\">\n",
              "    <path d=\"M0 0h24v24H0V0z\" fill=\"none\"/>\n",
              "    <path d=\"M18.56 5.44l.94 2.06.94-2.06 2.06-.94-2.06-.94-.94-2.06-.94 2.06-2.06.94zm-11 1L8.5 8.5l.94-2.06 2.06-.94-2.06-.94L8.5 2.5l-.94 2.06-2.06.94zm10 10l.94 2.06.94-2.06 2.06-.94-2.06-.94-.94-2.06-.94 2.06-2.06.94z\"/><path d=\"M17.41 7.96l-1.37-1.37c-.4-.4-.92-.59-1.43-.59-.52 0-1.04.2-1.43.59L10.3 9.45l-7.72 7.72c-.78.78-.78 2.05 0 2.83L4 21.41c.39.39.9.59 1.41.59.51 0 1.02-.2 1.41-.59l7.78-7.78 2.81-2.81c.8-.78.8-2.07 0-2.86zM5.41 20L4 18.59l7.72-7.72 1.47 1.35L5.41 20z\"/>\n",
              "  </svg>\n",
              "      </button>\n",
              "      \n",
              "  <style>\n",
              "    .colab-df-container {\n",
              "      display:flex;\n",
              "      flex-wrap:wrap;\n",
              "      gap: 12px;\n",
              "    }\n",
              "\n",
              "    .colab-df-convert {\n",
              "      background-color: #E8F0FE;\n",
              "      border: none;\n",
              "      border-radius: 50%;\n",
              "      cursor: pointer;\n",
              "      display: none;\n",
              "      fill: #1967D2;\n",
              "      height: 32px;\n",
              "      padding: 0 0 0 0;\n",
              "      width: 32px;\n",
              "    }\n",
              "\n",
              "    .colab-df-convert:hover {\n",
              "      background-color: #E2EBFA;\n",
              "      box-shadow: 0px 1px 2px rgba(60, 64, 67, 0.3), 0px 1px 3px 1px rgba(60, 64, 67, 0.15);\n",
              "      fill: #174EA6;\n",
              "    }\n",
              "\n",
              "    [theme=dark] .colab-df-convert {\n",
              "      background-color: #3B4455;\n",
              "      fill: #D2E3FC;\n",
              "    }\n",
              "\n",
              "    [theme=dark] .colab-df-convert:hover {\n",
              "      background-color: #434B5C;\n",
              "      box-shadow: 0px 1px 3px 1px rgba(0, 0, 0, 0.15);\n",
              "      filter: drop-shadow(0px 1px 2px rgba(0, 0, 0, 0.3));\n",
              "      fill: #FFFFFF;\n",
              "    }\n",
              "  </style>\n",
              "\n",
              "      <script>\n",
              "        const buttonEl =\n",
              "          document.querySelector('#df-cf14596e-c1fa-481f-af50-34ce51f578f1 button.colab-df-convert');\n",
              "        buttonEl.style.display =\n",
              "          google.colab.kernel.accessAllowed ? 'block' : 'none';\n",
              "\n",
              "        async function convertToInteractive(key) {\n",
              "          const element = document.querySelector('#df-cf14596e-c1fa-481f-af50-34ce51f578f1');\n",
              "          const dataTable =\n",
              "            await google.colab.kernel.invokeFunction('convertToInteractive',\n",
              "                                                     [key], {});\n",
              "          if (!dataTable) return;\n",
              "\n",
              "          const docLinkHtml = 'Like what you see? Visit the ' +\n",
              "            '<a target=\"_blank\" href=https://colab.research.google.com/notebooks/data_table.ipynb>data table notebook</a>'\n",
              "            + ' to learn more about interactive tables.';\n",
              "          element.innerHTML = '';\n",
              "          dataTable['output_type'] = 'display_data';\n",
              "          await google.colab.output.renderOutput(dataTable, element);\n",
              "          const docLink = document.createElement('div');\n",
              "          docLink.innerHTML = docLinkHtml;\n",
              "          element.appendChild(docLink);\n",
              "        }\n",
              "      </script>\n",
              "    </div>\n",
              "  </div>\n",
              "  "
            ]
          },
          "metadata": {},
          "execution_count": 30
        }
      ]
    },
    {
      "cell_type": "markdown",
      "source": [
        "15번째 인덱스의 음수컬럼은 말이 안되기 때문에 이전과 이후의 평균값을 넣어주겠다."
      ],
      "metadata": {
        "id": "Jf2S2ekoAuV8"
      }
    },
    {
      "cell_type": "code",
      "source": [
        "insert_value = (np.array([18255.1900,1659.7644,3419.6695,23334.6239]) + np.array([17744.6635,2128.0728,3223.8570,23096.5933]))/2"
      ],
      "metadata": {
        "id": "CR3lbmW4BRkw"
      },
      "execution_count": 31,
      "outputs": []
    },
    {
      "cell_type": "code",
      "source": [
        "train_X_case[\"06\"].loc[[15], [\"시간당백색광량\", \"시간당적색광량\", \"시간당청색광량\", \"시간당총광량\"]] = insert_value"
      ],
      "metadata": {
        "id": "nz4LFj6YA1Ja"
      },
      "execution_count": 32,
      "outputs": []
    },
    {
      "cell_type": "markdown",
      "source": [
        "#### 시간당 분무량"
      ],
      "metadata": {
        "id": "Lln4BUw4K37U"
      }
    },
    {
      "cell_type": "code",
      "source": [
        "# case 13\n",
        "train_X_case[\"13\"].loc[[523,524,525,600,601,602,648,649,650], \"시간당분무량\"]"
      ],
      "metadata": {
        "colab": {
          "base_uri": "https://localhost:8080/"
        },
        "id": "sGaCE1aTB-ML",
        "outputId": "a54bfd28-29c2-4d8b-93b2-8ad8562244c6"
      },
      "execution_count": 33,
      "outputs": [
        {
          "output_type": "execute_result",
          "data": {
            "text/plain": [
              "523    1171.49\n",
              "524    3144.13\n",
              "525     769.00\n",
              "600     537.52\n",
              "601    -537.52\n",
              "602    1415.83\n",
              "648     653.26\n",
              "649    -653.26\n",
              "650    1415.83\n",
              "Name: 시간당분무량, dtype: float64"
            ]
          },
          "metadata": {},
          "execution_count": 33
        }
      ]
    },
    {
      "cell_type": "markdown",
      "source": [
        "시간당  분무량도 어느정도 선형적인 값이므로, 이전과 이후의 평균을 넣어주겠다."
      ],
      "metadata": {
        "id": "o3FQZHXvCXzX"
      }
    },
    {
      "cell_type": "code",
      "source": [
        "train_X_case[\"13\"].loc[[524], \"시간당분무량\"] = (1171.49+769)/2\n",
        "train_X_case[\"13\"].loc[[601], \"시간당분무량\"] = (537.52+1415.83)/2\n",
        "train_X_case[\"13\"].loc[[649], \"시간당분무량\"] = (635.26+1415.83)/2"
      ],
      "metadata": {
        "id": "snJBitNmCgkQ"
      },
      "execution_count": 34,
      "outputs": []
    },
    {
      "cell_type": "markdown",
      "source": [
        "#### 내부습도관측치"
      ],
      "metadata": {
        "id": "9IABMSkhLsCQ"
      }
    },
    {
      "cell_type": "code",
      "source": [
        "# case4\n",
        "train_X_case[\"04\"].loc[[14,15,16], \"내부습도관측치\"]"
      ],
      "metadata": {
        "colab": {
          "base_uri": "https://localhost:8080/"
        },
        "id": "qBva1bLYLxNn",
        "outputId": "52c20bef-a8cd-4636-a6fc-c3766ef976bf"
      },
      "execution_count": 35,
      "outputs": [
        {
          "output_type": "execute_result",
          "data": {
            "text/plain": [
              "14     9.639473\n",
              "15     0.000000\n",
              "16    32.157695\n",
              "Name: 내부습도관측치, dtype: float64"
            ]
          },
          "metadata": {},
          "execution_count": 35
        }
      ]
    },
    {
      "cell_type": "markdown",
      "source": [
        "이렇게 갑자기 0이되는건 이상하다 생각되기 때문에 이전과 이후의 평균을 채워주겠다."
      ],
      "metadata": {
        "id": "7w3QqkXiL5nJ"
      }
    },
    {
      "cell_type": "code",
      "source": [
        "train_X_case[\"04\"].loc[[14,15,16], \"내부습도관측치\"] = (9.639473+32.157695)/2"
      ],
      "metadata": {
        "id": "37BxoYX3MC9I"
      },
      "execution_count": 36,
      "outputs": []
    },
    {
      "cell_type": "markdown",
      "source": [
        "### 다시 데이터셋을 합치고 나누기\n",
        "noise데이터를 처리했기 때문에 다시 데이터셋을 생성해준다."
      ],
      "metadata": {
        "id": "lT9hxF_4MZPi"
      }
    },
    {
      "cell_type": "markdown",
      "source": [
        "### 다시 데이터셋 합치기 train_all_X(DF)\n",
        "모든데이터를 합친다."
      ],
      "metadata": {
        "id": "Href82SLMgWy"
      }
    },
    {
      "cell_type": "code",
      "source": [
        "train_all_X = pd.DataFrame()\n",
        "\n",
        "for i in range(1,29):\n",
        "    CASE = str(i).zfill(2)\n",
        "    train_all_X = train_all_X.append(train_X_case[CASE])"
      ],
      "metadata": {
        "id": "aLTJmUL6MgWz"
      },
      "execution_count": 50,
      "outputs": []
    },
    {
      "cell_type": "code",
      "source": [
        "train_all_X.shape"
      ],
      "metadata": {
        "colab": {
          "base_uri": "https://localhost:8080/"
        },
        "outputId": "4e67166b-6e0e-4c7c-faff-ef50202614bb",
        "id": "1Yq0cJgiMgW0"
      },
      "execution_count": 51,
      "outputs": [
        {
          "output_type": "execute_result",
          "data": {
            "text/plain": [
              "(18816, 16)"
            ]
          },
          "metadata": {},
          "execution_count": 51
        }
      ]
    },
    {
      "cell_type": "markdown",
      "source": [
        "### 다시 데이터셋 나누기 train_X_case_day(list)\n",
        "\n",
        "각 상추의 28일치 데이터를 분리해서 저장한다."
      ],
      "metadata": {
        "id": "sOsS5akhMmKF"
      }
    },
    {
      "cell_type": "code",
      "source": [
        "# train_X_case_day[x][y] 를 입력하면 x 케이스의 y번째 날 데이터 프레임을 리턴함\n",
        "train_X_case_day = [[]]\n",
        "\n",
        "for i in range(1,29):\n",
        "    train_X_case_day.append([])\n",
        "    for j in range(1,29):\n",
        "        train_X_case_day[i].append(train_X_case[\"{}\".format(str(i).zfill(2))].iloc[24*(j-1):j*24, :])"
      ],
      "metadata": {
        "id": "_p8WXHoJMmKG"
      },
      "execution_count": 39,
      "outputs": []
    },
    {
      "cell_type": "markdown",
      "source": [
        "### 이상치 처리\n",
        "train_all_X.describe() 를 통해서 이상치의 값을 어떻게 처리할지 생각해본다."
      ],
      "metadata": {
        "id": "kDfSclhsE00n"
      }
    },
    {
      "cell_type": "code",
      "source": [
        "train_all_X.describe()"
      ],
      "metadata": {
        "id": "jN7zEZwCFcpO",
        "colab": {
          "base_uri": "https://localhost:8080/",
          "height": 300
        },
        "outputId": "c3b527ed-3c82-4596-f998-1ab1beec2162"
      },
      "execution_count": 54,
      "outputs": [
        {
          "output_type": "execute_result",
          "data": {
            "text/plain": [
              "                DAT       내부온도관측치       내부습도관측치        co2관측치         ec관측치  \\\n",
              "count  18816.000000  18816.000000  18816.000000  18816.000000  18816.000000   \n",
              "mean      13.500000     26.028341     63.936201    498.860695      1.507566   \n",
              "std        8.077962      3.945806     11.652230    120.421248      1.042010   \n",
              "min        0.000000      6.921053     15.348148     60.400000      0.000000   \n",
              "25%        6.750000     23.971250     57.494583    420.245833      0.929581   \n",
              "50%       13.500000     26.291667     62.118333    473.983333      1.308517   \n",
              "75%       20.250000     28.106667     73.157166    551.105952      2.291322   \n",
              "max       27.000000     42.643334     93.350002   1714.850000      5.462324   \n",
              "\n",
              "             시간당분무량       일간누적분무량       시간당백색광량       일간누적백색광량       시간당적색광량  \\\n",
              "count  18816.000000  18816.000000  18816.000000   18816.000000  18816.000000   \n",
              "mean     523.682080   6365.916673   6323.873473   72910.240149   1572.430914   \n",
              "std      543.897317   6903.680044   8120.283264   86040.447105   2936.281308   \n",
              "min        0.000000      0.000000      0.000000       0.000000      0.000000   \n",
              "25%        0.000000   1234.280000      0.000000       0.000000      0.000000   \n",
              "50%      252.000000   3360.485000      0.000000   23205.750000      0.000000   \n",
              "75%      769.000000   9990.570000  18236.625400  145422.700000   1495.939200   \n",
              "max     2951.230000  42855.230000  18564.600000  292014.969800   9928.800000   \n",
              "\n",
              "            일간누적적색광량       시간당청색광량       일간누적청색광량        시간당총광량        일간누적총광량  \n",
              "count   18816.000000  18816.000000   18816.000000  18816.000000   18816.000000  \n",
              "mean    18201.358998   1243.069492   14139.184959   9139.373879  105250.784106  \n",
              "std     34386.384982   2470.253289   27743.227265   9087.008979   97397.224913  \n",
              "min         0.000000      0.000000       0.000000      0.000000       0.000000  \n",
              "25%         0.000000      0.000000       0.000000      0.000000    7280.962850  \n",
              "50%         0.000000      0.000000       0.000000   9242.350000   92172.360000  \n",
              "75%     17529.296400   1306.461000   18484.700000  18255.190000  177491.499450  \n",
              "max    200561.760000   9399.000000  190016.450000  37892.400000  559488.881000  "
            ],
            "text/html": [
              "\n",
              "  <div id=\"df-5c87f3eb-0448-4db6-9555-d6c2abcbc065\">\n",
              "    <div class=\"colab-df-container\">\n",
              "      <div>\n",
              "<style scoped>\n",
              "    .dataframe tbody tr th:only-of-type {\n",
              "        vertical-align: middle;\n",
              "    }\n",
              "\n",
              "    .dataframe tbody tr th {\n",
              "        vertical-align: top;\n",
              "    }\n",
              "\n",
              "    .dataframe thead th {\n",
              "        text-align: right;\n",
              "    }\n",
              "</style>\n",
              "<table border=\"1\" class=\"dataframe\">\n",
              "  <thead>\n",
              "    <tr style=\"text-align: right;\">\n",
              "      <th></th>\n",
              "      <th>DAT</th>\n",
              "      <th>내부온도관측치</th>\n",
              "      <th>내부습도관측치</th>\n",
              "      <th>co2관측치</th>\n",
              "      <th>ec관측치</th>\n",
              "      <th>시간당분무량</th>\n",
              "      <th>일간누적분무량</th>\n",
              "      <th>시간당백색광량</th>\n",
              "      <th>일간누적백색광량</th>\n",
              "      <th>시간당적색광량</th>\n",
              "      <th>일간누적적색광량</th>\n",
              "      <th>시간당청색광량</th>\n",
              "      <th>일간누적청색광량</th>\n",
              "      <th>시간당총광량</th>\n",
              "      <th>일간누적총광량</th>\n",
              "    </tr>\n",
              "  </thead>\n",
              "  <tbody>\n",
              "    <tr>\n",
              "      <th>count</th>\n",
              "      <td>18816.000000</td>\n",
              "      <td>18816.000000</td>\n",
              "      <td>18816.000000</td>\n",
              "      <td>18816.000000</td>\n",
              "      <td>18816.000000</td>\n",
              "      <td>18816.000000</td>\n",
              "      <td>18816.000000</td>\n",
              "      <td>18816.000000</td>\n",
              "      <td>18816.000000</td>\n",
              "      <td>18816.000000</td>\n",
              "      <td>18816.000000</td>\n",
              "      <td>18816.000000</td>\n",
              "      <td>18816.000000</td>\n",
              "      <td>18816.000000</td>\n",
              "      <td>18816.000000</td>\n",
              "    </tr>\n",
              "    <tr>\n",
              "      <th>mean</th>\n",
              "      <td>13.500000</td>\n",
              "      <td>26.028341</td>\n",
              "      <td>63.936201</td>\n",
              "      <td>498.860695</td>\n",
              "      <td>1.507566</td>\n",
              "      <td>523.682080</td>\n",
              "      <td>6365.916673</td>\n",
              "      <td>6323.873473</td>\n",
              "      <td>72910.240149</td>\n",
              "      <td>1572.430914</td>\n",
              "      <td>18201.358998</td>\n",
              "      <td>1243.069492</td>\n",
              "      <td>14139.184959</td>\n",
              "      <td>9139.373879</td>\n",
              "      <td>105250.784106</td>\n",
              "    </tr>\n",
              "    <tr>\n",
              "      <th>std</th>\n",
              "      <td>8.077962</td>\n",
              "      <td>3.945806</td>\n",
              "      <td>11.652230</td>\n",
              "      <td>120.421248</td>\n",
              "      <td>1.042010</td>\n",
              "      <td>543.897317</td>\n",
              "      <td>6903.680044</td>\n",
              "      <td>8120.283264</td>\n",
              "      <td>86040.447105</td>\n",
              "      <td>2936.281308</td>\n",
              "      <td>34386.384982</td>\n",
              "      <td>2470.253289</td>\n",
              "      <td>27743.227265</td>\n",
              "      <td>9087.008979</td>\n",
              "      <td>97397.224913</td>\n",
              "    </tr>\n",
              "    <tr>\n",
              "      <th>min</th>\n",
              "      <td>0.000000</td>\n",
              "      <td>6.921053</td>\n",
              "      <td>15.348148</td>\n",
              "      <td>60.400000</td>\n",
              "      <td>0.000000</td>\n",
              "      <td>0.000000</td>\n",
              "      <td>0.000000</td>\n",
              "      <td>0.000000</td>\n",
              "      <td>0.000000</td>\n",
              "      <td>0.000000</td>\n",
              "      <td>0.000000</td>\n",
              "      <td>0.000000</td>\n",
              "      <td>0.000000</td>\n",
              "      <td>0.000000</td>\n",
              "      <td>0.000000</td>\n",
              "    </tr>\n",
              "    <tr>\n",
              "      <th>25%</th>\n",
              "      <td>6.750000</td>\n",
              "      <td>23.971250</td>\n",
              "      <td>57.494583</td>\n",
              "      <td>420.245833</td>\n",
              "      <td>0.929581</td>\n",
              "      <td>0.000000</td>\n",
              "      <td>1234.280000</td>\n",
              "      <td>0.000000</td>\n",
              "      <td>0.000000</td>\n",
              "      <td>0.000000</td>\n",
              "      <td>0.000000</td>\n",
              "      <td>0.000000</td>\n",
              "      <td>0.000000</td>\n",
              "      <td>0.000000</td>\n",
              "      <td>7280.962850</td>\n",
              "    </tr>\n",
              "    <tr>\n",
              "      <th>50%</th>\n",
              "      <td>13.500000</td>\n",
              "      <td>26.291667</td>\n",
              "      <td>62.118333</td>\n",
              "      <td>473.983333</td>\n",
              "      <td>1.308517</td>\n",
              "      <td>252.000000</td>\n",
              "      <td>3360.485000</td>\n",
              "      <td>0.000000</td>\n",
              "      <td>23205.750000</td>\n",
              "      <td>0.000000</td>\n",
              "      <td>0.000000</td>\n",
              "      <td>0.000000</td>\n",
              "      <td>0.000000</td>\n",
              "      <td>9242.350000</td>\n",
              "      <td>92172.360000</td>\n",
              "    </tr>\n",
              "    <tr>\n",
              "      <th>75%</th>\n",
              "      <td>20.250000</td>\n",
              "      <td>28.106667</td>\n",
              "      <td>73.157166</td>\n",
              "      <td>551.105952</td>\n",
              "      <td>2.291322</td>\n",
              "      <td>769.000000</td>\n",
              "      <td>9990.570000</td>\n",
              "      <td>18236.625400</td>\n",
              "      <td>145422.700000</td>\n",
              "      <td>1495.939200</td>\n",
              "      <td>17529.296400</td>\n",
              "      <td>1306.461000</td>\n",
              "      <td>18484.700000</td>\n",
              "      <td>18255.190000</td>\n",
              "      <td>177491.499450</td>\n",
              "    </tr>\n",
              "    <tr>\n",
              "      <th>max</th>\n",
              "      <td>27.000000</td>\n",
              "      <td>42.643334</td>\n",
              "      <td>93.350002</td>\n",
              "      <td>1714.850000</td>\n",
              "      <td>5.462324</td>\n",
              "      <td>2951.230000</td>\n",
              "      <td>42855.230000</td>\n",
              "      <td>18564.600000</td>\n",
              "      <td>292014.969800</td>\n",
              "      <td>9928.800000</td>\n",
              "      <td>200561.760000</td>\n",
              "      <td>9399.000000</td>\n",
              "      <td>190016.450000</td>\n",
              "      <td>37892.400000</td>\n",
              "      <td>559488.881000</td>\n",
              "    </tr>\n",
              "  </tbody>\n",
              "</table>\n",
              "</div>\n",
              "      <button class=\"colab-df-convert\" onclick=\"convertToInteractive('df-5c87f3eb-0448-4db6-9555-d6c2abcbc065')\"\n",
              "              title=\"Convert this dataframe to an interactive table.\"\n",
              "              style=\"display:none;\">\n",
              "        \n",
              "  <svg xmlns=\"http://www.w3.org/2000/svg\" height=\"24px\"viewBox=\"0 0 24 24\"\n",
              "       width=\"24px\">\n",
              "    <path d=\"M0 0h24v24H0V0z\" fill=\"none\"/>\n",
              "    <path d=\"M18.56 5.44l.94 2.06.94-2.06 2.06-.94-2.06-.94-.94-2.06-.94 2.06-2.06.94zm-11 1L8.5 8.5l.94-2.06 2.06-.94-2.06-.94L8.5 2.5l-.94 2.06-2.06.94zm10 10l.94 2.06.94-2.06 2.06-.94-2.06-.94-.94-2.06-.94 2.06-2.06.94z\"/><path d=\"M17.41 7.96l-1.37-1.37c-.4-.4-.92-.59-1.43-.59-.52 0-1.04.2-1.43.59L10.3 9.45l-7.72 7.72c-.78.78-.78 2.05 0 2.83L4 21.41c.39.39.9.59 1.41.59.51 0 1.02-.2 1.41-.59l7.78-7.78 2.81-2.81c.8-.78.8-2.07 0-2.86zM5.41 20L4 18.59l7.72-7.72 1.47 1.35L5.41 20z\"/>\n",
              "  </svg>\n",
              "      </button>\n",
              "      \n",
              "  <style>\n",
              "    .colab-df-container {\n",
              "      display:flex;\n",
              "      flex-wrap:wrap;\n",
              "      gap: 12px;\n",
              "    }\n",
              "\n",
              "    .colab-df-convert {\n",
              "      background-color: #E8F0FE;\n",
              "      border: none;\n",
              "      border-radius: 50%;\n",
              "      cursor: pointer;\n",
              "      display: none;\n",
              "      fill: #1967D2;\n",
              "      height: 32px;\n",
              "      padding: 0 0 0 0;\n",
              "      width: 32px;\n",
              "    }\n",
              "\n",
              "    .colab-df-convert:hover {\n",
              "      background-color: #E2EBFA;\n",
              "      box-shadow: 0px 1px 2px rgba(60, 64, 67, 0.3), 0px 1px 3px 1px rgba(60, 64, 67, 0.15);\n",
              "      fill: #174EA6;\n",
              "    }\n",
              "\n",
              "    [theme=dark] .colab-df-convert {\n",
              "      background-color: #3B4455;\n",
              "      fill: #D2E3FC;\n",
              "    }\n",
              "\n",
              "    [theme=dark] .colab-df-convert:hover {\n",
              "      background-color: #434B5C;\n",
              "      box-shadow: 0px 1px 3px 1px rgba(0, 0, 0, 0.15);\n",
              "      filter: drop-shadow(0px 1px 2px rgba(0, 0, 0, 0.3));\n",
              "      fill: #FFFFFF;\n",
              "    }\n",
              "  </style>\n",
              "\n",
              "      <script>\n",
              "        const buttonEl =\n",
              "          document.querySelector('#df-5c87f3eb-0448-4db6-9555-d6c2abcbc065 button.colab-df-convert');\n",
              "        buttonEl.style.display =\n",
              "          google.colab.kernel.accessAllowed ? 'block' : 'none';\n",
              "\n",
              "        async function convertToInteractive(key) {\n",
              "          const element = document.querySelector('#df-5c87f3eb-0448-4db6-9555-d6c2abcbc065');\n",
              "          const dataTable =\n",
              "            await google.colab.kernel.invokeFunction('convertToInteractive',\n",
              "                                                     [key], {});\n",
              "          if (!dataTable) return;\n",
              "\n",
              "          const docLinkHtml = 'Like what you see? Visit the ' +\n",
              "            '<a target=\"_blank\" href=https://colab.research.google.com/notebooks/data_table.ipynb>data table notebook</a>'\n",
              "            + ' to learn more about interactive tables.';\n",
              "          element.innerHTML = '';\n",
              "          dataTable['output_type'] = 'display_data';\n",
              "          await google.colab.output.renderOutput(dataTable, element);\n",
              "          const docLink = document.createElement('div');\n",
              "          docLink.innerHTML = docLinkHtml;\n",
              "          element.appendChild(docLink);\n",
              "        }\n",
              "      </script>\n",
              "    </div>\n",
              "  </div>\n",
              "  "
            ]
          },
          "metadata": {},
          "execution_count": 54
        }
      ]
    },
    {
      "cell_type": "markdown",
      "source": [
        "이게 범위가 있는 데이터 셋이여서 이상치라고 할만한게 없다. <br>\n",
        "모든 데이터셋을 선형적으로 관찰하면서 발견할 수는 있겠으나, 내가 그렇게 하지는 않았기 때문에 없다고 생각하겠다.\n",
        "\n",
        "test_train 데이터는 내가 노이즈값 처리를 하면서 얻은 지식을 전처리를 할 예정이다. \n",
        "\n",
        "- 광량이 음수인경우 \n",
        "- 온도가 0인 경우\n",
        "- 시간당 분무량이 음수인 경우\n",
        "- 내부 습도가 0인 경우\n",
        "\n",
        "에는 전 값을 채워넣거나, train_all_X 평균을 채워넣으면 될 듯 하다."
      ],
      "metadata": {
        "id": "5qZuTesYNAEi"
      }
    },
    {
      "cell_type": "markdown",
      "source": [
        "## 학습데이터 최종 가공(미완)"
      ],
      "metadata": {
        "id": "7VMUNB7Q0I4P"
      }
    },
    {
      "cell_type": "markdown",
      "source": [
        "## 데이터 표준화(미완)"
      ],
      "metadata": {
        "id": "d_mT5PAn0tDh"
      }
    },
    {
      "cell_type": "markdown",
      "source": [
        "# 모델링\n",
        "\n",
        "1. lstm을 사용하는 모델\n",
        "2. lgbm regressor를 사용하는 모델\n",
        "3. CNN을 사용하는 모델..?? <br>(갑자기 든 생각인데, 1d CNN을 사용하거나 세로가 낮은 CNN을 사용해도 적절한 모델을 만들 수 있지 않을까 라는 생각이 든다.)"
      ],
      "metadata": {
        "id": "6osNndlzFftF"
      }
    },
    {
      "cell_type": "markdown",
      "source": [
        "## LSTM 사용 모델\n",
        "[내가 공부한 RNN 깃허브](https://github.com/donghui-0126/machine-learning/blob/main/%ED%95%B8%EC%A6%88%EC%98%A8%EB%A8%B8%EC%8B%A0%EB%9F%AC%EB%8B%9D/2%EC%9E%A5%20%EB%94%A5%EB%9F%AC%EB%8B%9D/%5B15%EC%9E%A5%5D_RNN%EA%B3%BC_CNN%EC%9D%84_%EC%82%AC%EC%9A%A9%ED%95%B4_%EC%8B%9C%ED%80%80%EC%8A%A4_%EC%B2%98%EB%A6%AC%ED%95%98%EA%B8%B0.ipynb)"
      ],
      "metadata": {
        "id": "LjbY6wltFhY6"
      }
    },
    {
      "cell_type": "code",
      "source": [
        "def last_time_step_mse(Y_true, Y_pred):\n",
        "    return keras.metrics.mean_squared_error(Y_true[:, -1], Y_pred[:, -1])"
      ],
      "metadata": {
        "id": "e1z1Cd8vuZuS"
      },
      "execution_count": null,
      "outputs": []
    },
    {
      "cell_type": "code",
      "source": [
        "lstm_model = keras.models.Sequential([\n",
        "    keras.layers.LSTM(20, return_sequences=True, input_shape=[None, 1]),\n",
        "    keras.layers.LSTM(20, return_sequences=True),\n",
        "    keras.layers.TimeDistributed(keras.layers.Dense(1))\n",
        "])\n",
        "\n",
        "lstm_model.compile(loss=\"mse\", optimizer=\"adam\", metrics=[last_time_step_mse])\n",
        "\n",
        "\n",
        "history = lstm_model.fit(X_train, train_y_case[\"전날 대비 성장률(%)\"], epochs=20)"
      ],
      "metadata": {
        "id": "AW_nVZocSpRd"
      },
      "execution_count": 40,
      "outputs": []
    },
    {
      "cell_type": "code",
      "source": [],
      "metadata": {
        "id": "DCs4OiViSO-d"
      },
      "execution_count": 40,
      "outputs": []
    },
    {
      "cell_type": "code",
      "source": [],
      "metadata": {
        "id": "TCme0ieVSO8N"
      },
      "execution_count": 40,
      "outputs": []
    },
    {
      "cell_type": "code",
      "source": [],
      "metadata": {
        "id": "jjSnjt-LSO6W"
      },
      "execution_count": 40,
      "outputs": []
    },
    {
      "cell_type": "code",
      "source": [],
      "metadata": {
        "id": "RS_zDRiaSO3N"
      },
      "execution_count": 40,
      "outputs": []
    },
    {
      "cell_type": "markdown",
      "source": [
        "## LGBM regressor 사용 모델\n",
        "[내가 공부한 LGBM 깃허브 링크](https://github.com/donghui-0126/machine-learning/blob/main/%ED%8C%8C%EC%9D%B4%EC%8D%AC%20%EB%A8%B8%EC%8B%A0%EB%9F%AC%EB%8B%9D%20%EC%99%84%EB%B2%BD%20%EA%B0%80%EC%9D%B4%EB%93%9C/2.%20%EB%B6%84%EB%A5%98%20%5B%EA%B2%B0%EC%A0%95%ED%8A%B8%EB%A6%AC%2C%20GBM%2C%20XGBoost%2C%20Light%20GBM%2C%20%EB%B2%A0%EC%9D%B4%EC%A7%80%EC%95%88%20%EC%B5%9C%EC%A0%81%ED%99%94%2C%20%EC%8B%A4%EC%8A%B5%2C%20%EC%8A%A4%ED%83%9C%ED%82%B9%5D.ipynb)"
      ],
      "metadata": {
        "id": "C2jD5uYqSIEU"
      }
    },
    {
      "cell_type": "code",
      "source": [],
      "metadata": {
        "id": "TluvpXyXSP8r"
      },
      "execution_count": 40,
      "outputs": []
    },
    {
      "cell_type": "code",
      "source": [],
      "metadata": {
        "id": "KoMRfNEXSP63"
      },
      "execution_count": 40,
      "outputs": []
    },
    {
      "cell_type": "code",
      "source": [],
      "metadata": {
        "id": "zTRtRBxnSP5R"
      },
      "execution_count": 40,
      "outputs": []
    },
    {
      "cell_type": "code",
      "source": [],
      "metadata": {
        "id": "KI0JLCzLSP3i"
      },
      "execution_count": 40,
      "outputs": []
    },
    {
      "cell_type": "code",
      "source": [],
      "metadata": {
        "id": "YSC3A9QSSP0A"
      },
      "execution_count": 40,
      "outputs": []
    },
    {
      "cell_type": "markdown",
      "source": [
        "## CNN 사용모델 \n",
        "[내가 공부한 CNN 깃허브 링크](https://github.com/donghui-0126/machine-learning/blob/main/%ED%95%B8%EC%A6%88%EC%98%A8%EB%A8%B8%EC%8B%A0%EB%9F%AC%EB%8B%9D/2%EC%9E%A5%20%EB%94%A5%EB%9F%AC%EB%8B%9D/%5B14%EC%9E%A5%5D_%ED%95%A9%EC%84%B1%EA%B3%B1_%EC%8B%A0%EA%B2%BD%EB%A7%9D%EC%9D%84_%EC%82%AC%EC%9A%A9%ED%95%9C_%EC%BB%B4%ED%93%A8%ED%84%B0_%EB%B9%84%EC%A0%84.ipynb)\n",
        "\n",
        "얘는 2d데이터를 그냥 넣어도 되지 않을까...??"
      ],
      "metadata": {
        "id": "dqwG3mW9SMfU"
      }
    },
    {
      "cell_type": "code",
      "source": [],
      "metadata": {
        "id": "TzYq6ppTSOBR"
      },
      "execution_count": 40,
      "outputs": []
    },
    {
      "cell_type": "code",
      "source": [],
      "metadata": {
        "id": "2KFxZnIqSQov"
      },
      "execution_count": 40,
      "outputs": []
    },
    {
      "cell_type": "code",
      "source": [],
      "metadata": {
        "id": "49wPtNHGSQma"
      },
      "execution_count": 40,
      "outputs": []
    },
    {
      "cell_type": "code",
      "source": [],
      "metadata": {
        "id": "oQojrwNaSQjk"
      },
      "execution_count": 40,
      "outputs": []
    },
    {
      "cell_type": "code",
      "source": [],
      "metadata": {
        "id": "i0w-Tp97SQfh"
      },
      "execution_count": 40,
      "outputs": []
    }
  ]
}