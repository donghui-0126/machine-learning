{
  "nbformat": 4,
  "nbformat_minor": 0,
  "metadata": {
    "colab": {
      "provenance": [],
      "toc_visible": true
    },
    "kernelspec": {
      "name": "python3",
      "display_name": "Python 3"
    },
    "language_info": {
      "name": "python"
    }
  },
  "cells": [
    {
      "cell_type": "markdown",
      "source": [
        "# 모듈 임포트"
      ],
      "metadata": {
        "id": "nndUdBd0apzy"
      }
    },
    {
      "cell_type": "code",
      "execution_count": 1,
      "metadata": {
        "colab": {
          "base_uri": "https://localhost:8080/"
        },
        "id": "sIERZbUGakPa",
        "outputId": "b2c87039-1d3e-42a9-f257-f7070c66a77b"
      },
      "outputs": [
        {
          "output_type": "stream",
          "name": "stdout",
          "text": [
            "Colab only includes TensorFlow 2.x; %tensorflow_version has no effect.\n",
            "감지된 GPU가 없습니다. GPU가 없으면 LSTM과 CNN이 매우 느릴 수 있습니다.\n",
            "런타임 > 런타임 유형 변경 메뉴를 선택하고 하드웨어 가속기로 GPU를 고르세요.\n"
          ]
        }
      ],
      "source": [
        "# 파이썬 ≥3.5 필수\n",
        "import sys\n",
        "assert sys.version_info >= (3, 5)\n",
        "\n",
        "# 사이킷런 ≥0.20 필수\n",
        "import sklearn\n",
        "assert sklearn.__version__ >= \"0.20\"\n",
        "\n",
        "try:\n",
        "    # %tensorflow_version은 코랩에서만 동작합니다.\n",
        "    %tensorflow_version 2.x\n",
        "    IS_COLAB = True\n",
        "except Exception:\n",
        "    IS_COLAB = False\n",
        "\n",
        "# 텐서플로 ≥2.0 필수\n",
        "import tensorflow as tf\n",
        "from tensorflow import keras\n",
        "assert tf.__version__ >= \"2.0\"\n",
        "\n",
        "if not tf.config.list_physical_devices('GPU'):\n",
        "    print(\"감지된 GPU가 없습니다. GPU가 없으면 LSTM과 CNN이 매우 느릴 수 있습니다.\")\n",
        "    if IS_COLAB:\n",
        "        print(\"런타임 > 런타임 유형 변경 메뉴를 선택하고 하드웨어 가속기로 GPU를 고르세요.\")\n",
        "\n",
        "# 공통 모듈 임포트\n",
        "import numpy as np\n",
        "import os\n",
        "import pandas as pd\n",
        "\n",
        "# 노트북 실행 결과를 동일하게 유지하기 위해\n",
        "np.random.seed(42)\n",
        "tf.random.set_seed(42)\n",
        "\n",
        "# 깔끔한 그래프 출력을 위해\n",
        "%matplotlib inline\n",
        "import matplotlib as mpl\n",
        "import matplotlib.pyplot as plt\n",
        "import seaborn as sns\n",
        "\n",
        "\n",
        "mpl.rc('axes', labelsize=14)\n",
        "mpl.rc('xtick', labelsize=12)\n",
        "mpl.rc('ytick', labelsize=12)"
      ]
    },
    {
      "cell_type": "code",
      "source": [
        "!sudo apt-get install -y fonts-nanum\n",
        "!sudo fc-cache -fv\n",
        "!rm ~/.cache/matplotlib -rf"
      ],
      "metadata": {
        "colab": {
          "base_uri": "https://localhost:8080/"
        },
        "id": "surZF3nWoexf",
        "outputId": "b25f7863-8f62-4835-8e6b-f2442e18cd2e"
      },
      "execution_count": 2,
      "outputs": [
        {
          "output_type": "stream",
          "name": "stdout",
          "text": [
            "Reading package lists... Done\n",
            "Building dependency tree       \n",
            "Reading state information... Done\n",
            "fonts-nanum is already the newest version (20170925-1).\n",
            "The following package was automatically installed and is no longer required:\n",
            "  libnvidia-common-460\n",
            "Use 'sudo apt autoremove' to remove it.\n",
            "0 upgraded, 0 newly installed, 0 to remove and 5 not upgraded.\n",
            "/usr/share/fonts: caching, new cache contents: 0 fonts, 1 dirs\n",
            "/usr/share/fonts/truetype: caching, new cache contents: 0 fonts, 3 dirs\n",
            "/usr/share/fonts/truetype/humor-sans: caching, new cache contents: 1 fonts, 0 dirs\n",
            "/usr/share/fonts/truetype/liberation: caching, new cache contents: 16 fonts, 0 dirs\n",
            "/usr/share/fonts/truetype/nanum: caching, new cache contents: 10 fonts, 0 dirs\n",
            "/usr/local/share/fonts: caching, new cache contents: 0 fonts, 0 dirs\n",
            "/root/.local/share/fonts: skipping, no such directory\n",
            "/root/.fonts: skipping, no such directory\n",
            "/var/cache/fontconfig: cleaning cache directory\n",
            "/root/.cache/fontconfig: not cleaning non-existent cache directory\n",
            "/root/.fontconfig: not cleaning non-existent cache directory\n",
            "fc-cache: succeeded\n"
          ]
        }
      ]
    },
    {
      "cell_type": "markdown",
      "source": [
        "# 데이터 적재 (train_X->dict, train_y->dict)"
      ],
      "metadata": {
        "id": "yHaTm72Aa8A8"
      }
    },
    {
      "cell_type": "code",
      "source": [
        "from google.colab import drive\n",
        "drive.mount('/content/drive')"
      ],
      "metadata": {
        "colab": {
          "base_uri": "https://localhost:8080/"
        },
        "id": "viGQIT6BasDH",
        "outputId": "43d78102-c1ea-435b-90ab-ac6a2b138c56"
      },
      "execution_count": 3,
      "outputs": [
        {
          "output_type": "stream",
          "name": "stdout",
          "text": [
            "Drive already mounted at /content/drive; to attempt to forcibly remount, call drive.mount(\"/content/drive\", force_remount=True).\n"
          ]
        }
      ]
    },
    {
      "cell_type": "code",
      "source": [
        "train_X_case = {}\n",
        "\n",
        "for i in range(1, 29):\n",
        "    train_X_case[\"{}\".format(str(i).zfill(2))] =\\\n",
        "      pd.read_csv(\"/content/drive/MyDrive/상추의 생육 환경 생성 AI 경진대회/train_input/CASE_{}.csv\".format(str(i).zfill(2)))\n",
        " "
      ],
      "metadata": {
        "id": "cO_yFb-Ha7dl"
      },
      "execution_count": 4,
      "outputs": []
    },
    {
      "cell_type": "code",
      "source": [
        "train_y_case = {}\n",
        "\n",
        "for i in range(1, 29):\n",
        "    train_y_case[\"{}\".format(str(i).zfill(2))] =\\\n",
        "      pd.read_csv(\"/content/drive/MyDrive/상추의 생육 환경 생성 AI 경진대회/train_target/CASE_{}.csv\".format(str(i).zfill(2)))\n",
        " "
      ],
      "metadata": {
        "id": "70Dvnos9dP3a"
      },
      "execution_count": 5,
      "outputs": []
    },
    {
      "cell_type": "code",
      "source": [
        "train_X_case[\"01\"].head(3)"
      ],
      "metadata": {
        "colab": {
          "base_uri": "https://localhost:8080/",
          "height": 222
        },
        "id": "NaF-_fOMc2_1",
        "outputId": "1821fae4-2e0d-44be-f6dc-bb76b71d6679"
      },
      "execution_count": 14,
      "outputs": [
        {
          "output_type": "execute_result",
          "data": {
            "text/plain": [
              "   DAT obs_time    내부온도관측치    내부습도관측치      co2관측치     ec관측치  시간당분무량  일간누적분무량  \\\n",
              "0    0    00:00  25.300000  81.835000  536.016667  1.407439     0.0      0.0   \n",
              "1    0    01:00  25.680357  81.264286  528.696429  1.409003   126.0    126.0   \n",
              "2    0    02:00  25.273333  81.471666  532.833333  1.406913     0.0    126.0   \n",
              "\n",
              "   시간당백색광량  일간누적백색광량  시간당적색광량  일간누적적색광량  시간당청색광량  일간누적청색광량  시간당총광량  일간누적총광량  \n",
              "0      0.0       0.0      0.0       0.0        0         0     0.0      0.0  \n",
              "1      0.0       0.0      0.0       0.0        0         0     0.0      0.0  \n",
              "2      0.0       0.0      0.0       0.0        0         0     0.0      0.0  "
            ],
            "text/html": [
              "\n",
              "  <div id=\"df-163a6993-987c-4db6-b2f1-136e1d595410\">\n",
              "    <div class=\"colab-df-container\">\n",
              "      <div>\n",
              "<style scoped>\n",
              "    .dataframe tbody tr th:only-of-type {\n",
              "        vertical-align: middle;\n",
              "    }\n",
              "\n",
              "    .dataframe tbody tr th {\n",
              "        vertical-align: top;\n",
              "    }\n",
              "\n",
              "    .dataframe thead th {\n",
              "        text-align: right;\n",
              "    }\n",
              "</style>\n",
              "<table border=\"1\" class=\"dataframe\">\n",
              "  <thead>\n",
              "    <tr style=\"text-align: right;\">\n",
              "      <th></th>\n",
              "      <th>DAT</th>\n",
              "      <th>obs_time</th>\n",
              "      <th>내부온도관측치</th>\n",
              "      <th>내부습도관측치</th>\n",
              "      <th>co2관측치</th>\n",
              "      <th>ec관측치</th>\n",
              "      <th>시간당분무량</th>\n",
              "      <th>일간누적분무량</th>\n",
              "      <th>시간당백색광량</th>\n",
              "      <th>일간누적백색광량</th>\n",
              "      <th>시간당적색광량</th>\n",
              "      <th>일간누적적색광량</th>\n",
              "      <th>시간당청색광량</th>\n",
              "      <th>일간누적청색광량</th>\n",
              "      <th>시간당총광량</th>\n",
              "      <th>일간누적총광량</th>\n",
              "    </tr>\n",
              "  </thead>\n",
              "  <tbody>\n",
              "    <tr>\n",
              "      <th>0</th>\n",
              "      <td>0</td>\n",
              "      <td>00:00</td>\n",
              "      <td>25.300000</td>\n",
              "      <td>81.835000</td>\n",
              "      <td>536.016667</td>\n",
              "      <td>1.407439</td>\n",
              "      <td>0.0</td>\n",
              "      <td>0.0</td>\n",
              "      <td>0.0</td>\n",
              "      <td>0.0</td>\n",
              "      <td>0.0</td>\n",
              "      <td>0.0</td>\n",
              "      <td>0</td>\n",
              "      <td>0</td>\n",
              "      <td>0.0</td>\n",
              "      <td>0.0</td>\n",
              "    </tr>\n",
              "    <tr>\n",
              "      <th>1</th>\n",
              "      <td>0</td>\n",
              "      <td>01:00</td>\n",
              "      <td>25.680357</td>\n",
              "      <td>81.264286</td>\n",
              "      <td>528.696429</td>\n",
              "      <td>1.409003</td>\n",
              "      <td>126.0</td>\n",
              "      <td>126.0</td>\n",
              "      <td>0.0</td>\n",
              "      <td>0.0</td>\n",
              "      <td>0.0</td>\n",
              "      <td>0.0</td>\n",
              "      <td>0</td>\n",
              "      <td>0</td>\n",
              "      <td>0.0</td>\n",
              "      <td>0.0</td>\n",
              "    </tr>\n",
              "    <tr>\n",
              "      <th>2</th>\n",
              "      <td>0</td>\n",
              "      <td>02:00</td>\n",
              "      <td>25.273333</td>\n",
              "      <td>81.471666</td>\n",
              "      <td>532.833333</td>\n",
              "      <td>1.406913</td>\n",
              "      <td>0.0</td>\n",
              "      <td>126.0</td>\n",
              "      <td>0.0</td>\n",
              "      <td>0.0</td>\n",
              "      <td>0.0</td>\n",
              "      <td>0.0</td>\n",
              "      <td>0</td>\n",
              "      <td>0</td>\n",
              "      <td>0.0</td>\n",
              "      <td>0.0</td>\n",
              "    </tr>\n",
              "  </tbody>\n",
              "</table>\n",
              "</div>\n",
              "      <button class=\"colab-df-convert\" onclick=\"convertToInteractive('df-163a6993-987c-4db6-b2f1-136e1d595410')\"\n",
              "              title=\"Convert this dataframe to an interactive table.\"\n",
              "              style=\"display:none;\">\n",
              "        \n",
              "  <svg xmlns=\"http://www.w3.org/2000/svg\" height=\"24px\"viewBox=\"0 0 24 24\"\n",
              "       width=\"24px\">\n",
              "    <path d=\"M0 0h24v24H0V0z\" fill=\"none\"/>\n",
              "    <path d=\"M18.56 5.44l.94 2.06.94-2.06 2.06-.94-2.06-.94-.94-2.06-.94 2.06-2.06.94zm-11 1L8.5 8.5l.94-2.06 2.06-.94-2.06-.94L8.5 2.5l-.94 2.06-2.06.94zm10 10l.94 2.06.94-2.06 2.06-.94-2.06-.94-.94-2.06-.94 2.06-2.06.94z\"/><path d=\"M17.41 7.96l-1.37-1.37c-.4-.4-.92-.59-1.43-.59-.52 0-1.04.2-1.43.59L10.3 9.45l-7.72 7.72c-.78.78-.78 2.05 0 2.83L4 21.41c.39.39.9.59 1.41.59.51 0 1.02-.2 1.41-.59l7.78-7.78 2.81-2.81c.8-.78.8-2.07 0-2.86zM5.41 20L4 18.59l7.72-7.72 1.47 1.35L5.41 20z\"/>\n",
              "  </svg>\n",
              "      </button>\n",
              "      \n",
              "  <style>\n",
              "    .colab-df-container {\n",
              "      display:flex;\n",
              "      flex-wrap:wrap;\n",
              "      gap: 12px;\n",
              "    }\n",
              "\n",
              "    .colab-df-convert {\n",
              "      background-color: #E8F0FE;\n",
              "      border: none;\n",
              "      border-radius: 50%;\n",
              "      cursor: pointer;\n",
              "      display: none;\n",
              "      fill: #1967D2;\n",
              "      height: 32px;\n",
              "      padding: 0 0 0 0;\n",
              "      width: 32px;\n",
              "    }\n",
              "\n",
              "    .colab-df-convert:hover {\n",
              "      background-color: #E2EBFA;\n",
              "      box-shadow: 0px 1px 2px rgba(60, 64, 67, 0.3), 0px 1px 3px 1px rgba(60, 64, 67, 0.15);\n",
              "      fill: #174EA6;\n",
              "    }\n",
              "\n",
              "    [theme=dark] .colab-df-convert {\n",
              "      background-color: #3B4455;\n",
              "      fill: #D2E3FC;\n",
              "    }\n",
              "\n",
              "    [theme=dark] .colab-df-convert:hover {\n",
              "      background-color: #434B5C;\n",
              "      box-shadow: 0px 1px 3px 1px rgba(0, 0, 0, 0.15);\n",
              "      filter: drop-shadow(0px 1px 2px rgba(0, 0, 0, 0.3));\n",
              "      fill: #FFFFFF;\n",
              "    }\n",
              "  </style>\n",
              "\n",
              "      <script>\n",
              "        const buttonEl =\n",
              "          document.querySelector('#df-163a6993-987c-4db6-b2f1-136e1d595410 button.colab-df-convert');\n",
              "        buttonEl.style.display =\n",
              "          google.colab.kernel.accessAllowed ? 'block' : 'none';\n",
              "\n",
              "        async function convertToInteractive(key) {\n",
              "          const element = document.querySelector('#df-163a6993-987c-4db6-b2f1-136e1d595410');\n",
              "          const dataTable =\n",
              "            await google.colab.kernel.invokeFunction('convertToInteractive',\n",
              "                                                     [key], {});\n",
              "          if (!dataTable) return;\n",
              "\n",
              "          const docLinkHtml = 'Like what you see? Visit the ' +\n",
              "            '<a target=\"_blank\" href=https://colab.research.google.com/notebooks/data_table.ipynb>data table notebook</a>'\n",
              "            + ' to learn more about interactive tables.';\n",
              "          element.innerHTML = '';\n",
              "          dataTable['output_type'] = 'display_data';\n",
              "          await google.colab.output.renderOutput(dataTable, element);\n",
              "          const docLink = document.createElement('div');\n",
              "          docLink.innerHTML = docLinkHtml;\n",
              "          element.appendChild(docLink);\n",
              "        }\n",
              "      </script>\n",
              "    </div>\n",
              "  </div>\n",
              "  "
            ]
          },
          "metadata": {},
          "execution_count": 14
        }
      ]
    },
    {
      "cell_type": "code",
      "source": [
        "train_y_case[\"01\"].head(3)"
      ],
      "metadata": {
        "colab": {
          "base_uri": "https://localhost:8080/",
          "height": 143
        },
        "id": "t9L1cxmTc0bt",
        "outputId": "c0b9e8a8-c92c-4563-bf57-6a1256a3dda0"
      },
      "execution_count": 7,
      "outputs": [
        {
          "output_type": "execute_result",
          "data": {
            "text/plain": [
              "   DAT  predicted_weight_g\n",
              "0    1            0.167719\n",
              "1    2            0.181787\n",
              "2    3            0.265921"
            ],
            "text/html": [
              "\n",
              "  <div id=\"df-a647bd36-bd3e-40ba-b893-6d08c70f65dd\">\n",
              "    <div class=\"colab-df-container\">\n",
              "      <div>\n",
              "<style scoped>\n",
              "    .dataframe tbody tr th:only-of-type {\n",
              "        vertical-align: middle;\n",
              "    }\n",
              "\n",
              "    .dataframe tbody tr th {\n",
              "        vertical-align: top;\n",
              "    }\n",
              "\n",
              "    .dataframe thead th {\n",
              "        text-align: right;\n",
              "    }\n",
              "</style>\n",
              "<table border=\"1\" class=\"dataframe\">\n",
              "  <thead>\n",
              "    <tr style=\"text-align: right;\">\n",
              "      <th></th>\n",
              "      <th>DAT</th>\n",
              "      <th>predicted_weight_g</th>\n",
              "    </tr>\n",
              "  </thead>\n",
              "  <tbody>\n",
              "    <tr>\n",
              "      <th>0</th>\n",
              "      <td>1</td>\n",
              "      <td>0.167719</td>\n",
              "    </tr>\n",
              "    <tr>\n",
              "      <th>1</th>\n",
              "      <td>2</td>\n",
              "      <td>0.181787</td>\n",
              "    </tr>\n",
              "    <tr>\n",
              "      <th>2</th>\n",
              "      <td>3</td>\n",
              "      <td>0.265921</td>\n",
              "    </tr>\n",
              "  </tbody>\n",
              "</table>\n",
              "</div>\n",
              "      <button class=\"colab-df-convert\" onclick=\"convertToInteractive('df-a647bd36-bd3e-40ba-b893-6d08c70f65dd')\"\n",
              "              title=\"Convert this dataframe to an interactive table.\"\n",
              "              style=\"display:none;\">\n",
              "        \n",
              "  <svg xmlns=\"http://www.w3.org/2000/svg\" height=\"24px\"viewBox=\"0 0 24 24\"\n",
              "       width=\"24px\">\n",
              "    <path d=\"M0 0h24v24H0V0z\" fill=\"none\"/>\n",
              "    <path d=\"M18.56 5.44l.94 2.06.94-2.06 2.06-.94-2.06-.94-.94-2.06-.94 2.06-2.06.94zm-11 1L8.5 8.5l.94-2.06 2.06-.94-2.06-.94L8.5 2.5l-.94 2.06-2.06.94zm10 10l.94 2.06.94-2.06 2.06-.94-2.06-.94-.94-2.06-.94 2.06-2.06.94z\"/><path d=\"M17.41 7.96l-1.37-1.37c-.4-.4-.92-.59-1.43-.59-.52 0-1.04.2-1.43.59L10.3 9.45l-7.72 7.72c-.78.78-.78 2.05 0 2.83L4 21.41c.39.39.9.59 1.41.59.51 0 1.02-.2 1.41-.59l7.78-7.78 2.81-2.81c.8-.78.8-2.07 0-2.86zM5.41 20L4 18.59l7.72-7.72 1.47 1.35L5.41 20z\"/>\n",
              "  </svg>\n",
              "      </button>\n",
              "      \n",
              "  <style>\n",
              "    .colab-df-container {\n",
              "      display:flex;\n",
              "      flex-wrap:wrap;\n",
              "      gap: 12px;\n",
              "    }\n",
              "\n",
              "    .colab-df-convert {\n",
              "      background-color: #E8F0FE;\n",
              "      border: none;\n",
              "      border-radius: 50%;\n",
              "      cursor: pointer;\n",
              "      display: none;\n",
              "      fill: #1967D2;\n",
              "      height: 32px;\n",
              "      padding: 0 0 0 0;\n",
              "      width: 32px;\n",
              "    }\n",
              "\n",
              "    .colab-df-convert:hover {\n",
              "      background-color: #E2EBFA;\n",
              "      box-shadow: 0px 1px 2px rgba(60, 64, 67, 0.3), 0px 1px 3px 1px rgba(60, 64, 67, 0.15);\n",
              "      fill: #174EA6;\n",
              "    }\n",
              "\n",
              "    [theme=dark] .colab-df-convert {\n",
              "      background-color: #3B4455;\n",
              "      fill: #D2E3FC;\n",
              "    }\n",
              "\n",
              "    [theme=dark] .colab-df-convert:hover {\n",
              "      background-color: #434B5C;\n",
              "      box-shadow: 0px 1px 3px 1px rgba(0, 0, 0, 0.15);\n",
              "      filter: drop-shadow(0px 1px 2px rgba(0, 0, 0, 0.3));\n",
              "      fill: #FFFFFF;\n",
              "    }\n",
              "  </style>\n",
              "\n",
              "      <script>\n",
              "        const buttonEl =\n",
              "          document.querySelector('#df-a647bd36-bd3e-40ba-b893-6d08c70f65dd button.colab-df-convert');\n",
              "        buttonEl.style.display =\n",
              "          google.colab.kernel.accessAllowed ? 'block' : 'none';\n",
              "\n",
              "        async function convertToInteractive(key) {\n",
              "          const element = document.querySelector('#df-a647bd36-bd3e-40ba-b893-6d08c70f65dd');\n",
              "          const dataTable =\n",
              "            await google.colab.kernel.invokeFunction('convertToInteractive',\n",
              "                                                     [key], {});\n",
              "          if (!dataTable) return;\n",
              "\n",
              "          const docLinkHtml = 'Like what you see? Visit the ' +\n",
              "            '<a target=\"_blank\" href=https://colab.research.google.com/notebooks/data_table.ipynb>data table notebook</a>'\n",
              "            + ' to learn more about interactive tables.';\n",
              "          element.innerHTML = '';\n",
              "          dataTable['output_type'] = 'display_data';\n",
              "          await google.colab.output.renderOutput(dataTable, element);\n",
              "          const docLink = document.createElement('div');\n",
              "          docLink.innerHTML = docLinkHtml;\n",
              "          element.appendChild(docLink);\n",
              "        }\n",
              "      </script>\n",
              "    </div>\n",
              "  </div>\n",
              "  "
            ]
          },
          "metadata": {},
          "execution_count": 7
        }
      ]
    },
    {
      "cell_type": "markdown",
      "source": [
        " 28개의 상추를 28일 동안 24시간 간격으로 측정한 데이터이다.\n",
        "\n",
        " 28 * 24 = 672\n",
        "\n",
        " - feature는 16개\n",
        " - train_y는 매일 측정된 상추의 잎 크기이다.\n",
        "\n",
        " 잎의 성장은 전날의 데이터에 영향을 받는다. (청경채 예측 분석 코드공유를 참고함.)\n",
        "\n",
        " 각 상추의 train_X를 28개로 나눈 뒤, 하루 뒤의 train_y를 예측하게 할 것이다.\n",
        "\n",
        " https://dacon.io/competitions/official/235961/overview/description\n",
        "\n",
        "상추의 생육환경 예측과 비슷한 문제인 청경채 성장 경진대회를 많이 참고할 예정이다."
      ],
      "metadata": {
        "id": "s2Tq_TbjdrYB"
      }
    },
    {
      "cell_type": "markdown",
      "source": [
        "# 데이터 전처리\n",
        "\n",
        "- 데이터셋 나누기 \n",
        "    1. 28개의 상추를 하루 단위씩 끊어서 데이터셋을 새로 만들기\n",
        "    2. 하루단위 데이터를 평균낸 데이터를 다시 합쳐서 데이터셋을 새로 만들기\n",
        "\n",
        "- target 데이터 전처리\n",
        "    1. 전날 대비 성장률 추가 \n",
        "    2. 초기 대비 성장률 추가\n",
        "\n",
        "- null 값 처리\n",
        "\n",
        "- 컬럼별 상관관계 보기\n",
        "\n",
        "- 이상치 처리\n",
        "\n",
        "- target 데이터 가공\n",
        "    1. 있는 그대로 사용\n",
        "    2. 처음과 비교했을 때 얼마나 성장 했는지 계산해서 사용"
      ],
      "metadata": {
        "id": "66NbrtwfVm4X"
      }
    },
    {
      "cell_type": "markdown",
      "source": [
        "### 데이터셋 나누기"
      ],
      "metadata": {
        "id": "7dloaJK7rGWZ"
      }
    },
    {
      "cell_type": "code",
      "source": [
        "# train_X_case_day[x][y] 를 입력하면 x 케이스의 y번째 날 데이터 프레임을 리턴함\n",
        "train_X_case_day = [[]]\n",
        "\n",
        "for i in range(1,29):\n",
        "    train_X_case_day.append([])\n",
        "    for j in range(1,29):\n",
        "        train_X_case_day[i].append(train_X_case[\"{}\".format(str(i).zfill(2))].iloc[24*(j-1):j*24, :])"
      ],
      "metadata": {
        "id": "tbVG8kWiVrx0"
      },
      "execution_count": 80,
      "outputs": []
    },
    {
      "cell_type": "markdown",
      "source": [
        "### 타겟데이터 전처리\n",
        "test_y를 건드릴 수는 없다."
      ],
      "metadata": {
        "id": "nkQvl7j7rLMq"
      }
    },
    {
      "cell_type": "code",
      "source": [
        "for case in range(1,29):\n",
        "    CASE = str(case).zfill(2)\n",
        "    IGR = []                    # 초기 대비 성장률(initial growth rate): IGR\n",
        "    DOD = []                    # 전날 대비 성장률(day over day growth rate): DOD\n",
        "    for day in range(1, 28):\n",
        "        id = train_y_case[CASE].iloc[0, 1]          # inital day\n",
        "        yd = train_y_case[CASE].iloc[(day-1),1]     # yester day\n",
        "        td = train_y_case[CASE].iloc[day, 1]        # today\n",
        "\n",
        "        IGR.append((td-id)/id*100)\n",
        "        DOD.append((td-yd)/yd*100)\n",
        "\n",
        "    IGR.append(0)\n",
        "    DOD.append(0)\n",
        "\n",
        "    train_y_case[CASE][\"초기 대비 성장률(%)\"] = IGR\n",
        "    train_y_case[CASE][\"전날 대비 성장률(%)\"] = DOD"
      ],
      "metadata": {
        "id": "0i7D_enecDml"
      },
      "execution_count": 9,
      "outputs": []
    },
    {
      "cell_type": "code",
      "source": [
        "train_y_case[\"01\"].head(3)"
      ],
      "metadata": {
        "colab": {
          "base_uri": "https://localhost:8080/",
          "height": 143
        },
        "id": "wvO2kF7edre_",
        "outputId": "99c19dd0-efd2-42ab-d163-5563990f16c7"
      },
      "execution_count": 10,
      "outputs": [
        {
          "output_type": "execute_result",
          "data": {
            "text/plain": [
              "   DAT  predicted_weight_g  초기 대비 성장률(%)  전날 대비 성장률(%)\n",
              "0    1            0.167719      8.387751      8.387751\n",
              "1    2            0.181787     58.551144     46.281423\n",
              "2    3            0.265921    152.594543     59.314235"
            ],
            "text/html": [
              "\n",
              "  <div id=\"df-28fd0049-2877-47bb-8df4-23a26751bd0c\">\n",
              "    <div class=\"colab-df-container\">\n",
              "      <div>\n",
              "<style scoped>\n",
              "    .dataframe tbody tr th:only-of-type {\n",
              "        vertical-align: middle;\n",
              "    }\n",
              "\n",
              "    .dataframe tbody tr th {\n",
              "        vertical-align: top;\n",
              "    }\n",
              "\n",
              "    .dataframe thead th {\n",
              "        text-align: right;\n",
              "    }\n",
              "</style>\n",
              "<table border=\"1\" class=\"dataframe\">\n",
              "  <thead>\n",
              "    <tr style=\"text-align: right;\">\n",
              "      <th></th>\n",
              "      <th>DAT</th>\n",
              "      <th>predicted_weight_g</th>\n",
              "      <th>초기 대비 성장률(%)</th>\n",
              "      <th>전날 대비 성장률(%)</th>\n",
              "    </tr>\n",
              "  </thead>\n",
              "  <tbody>\n",
              "    <tr>\n",
              "      <th>0</th>\n",
              "      <td>1</td>\n",
              "      <td>0.167719</td>\n",
              "      <td>8.387751</td>\n",
              "      <td>8.387751</td>\n",
              "    </tr>\n",
              "    <tr>\n",
              "      <th>1</th>\n",
              "      <td>2</td>\n",
              "      <td>0.181787</td>\n",
              "      <td>58.551144</td>\n",
              "      <td>46.281423</td>\n",
              "    </tr>\n",
              "    <tr>\n",
              "      <th>2</th>\n",
              "      <td>3</td>\n",
              "      <td>0.265921</td>\n",
              "      <td>152.594543</td>\n",
              "      <td>59.314235</td>\n",
              "    </tr>\n",
              "  </tbody>\n",
              "</table>\n",
              "</div>\n",
              "      <button class=\"colab-df-convert\" onclick=\"convertToInteractive('df-28fd0049-2877-47bb-8df4-23a26751bd0c')\"\n",
              "              title=\"Convert this dataframe to an interactive table.\"\n",
              "              style=\"display:none;\">\n",
              "        \n",
              "  <svg xmlns=\"http://www.w3.org/2000/svg\" height=\"24px\"viewBox=\"0 0 24 24\"\n",
              "       width=\"24px\">\n",
              "    <path d=\"M0 0h24v24H0V0z\" fill=\"none\"/>\n",
              "    <path d=\"M18.56 5.44l.94 2.06.94-2.06 2.06-.94-2.06-.94-.94-2.06-.94 2.06-2.06.94zm-11 1L8.5 8.5l.94-2.06 2.06-.94-2.06-.94L8.5 2.5l-.94 2.06-2.06.94zm10 10l.94 2.06.94-2.06 2.06-.94-2.06-.94-.94-2.06-.94 2.06-2.06.94z\"/><path d=\"M17.41 7.96l-1.37-1.37c-.4-.4-.92-.59-1.43-.59-.52 0-1.04.2-1.43.59L10.3 9.45l-7.72 7.72c-.78.78-.78 2.05 0 2.83L4 21.41c.39.39.9.59 1.41.59.51 0 1.02-.2 1.41-.59l7.78-7.78 2.81-2.81c.8-.78.8-2.07 0-2.86zM5.41 20L4 18.59l7.72-7.72 1.47 1.35L5.41 20z\"/>\n",
              "  </svg>\n",
              "      </button>\n",
              "      \n",
              "  <style>\n",
              "    .colab-df-container {\n",
              "      display:flex;\n",
              "      flex-wrap:wrap;\n",
              "      gap: 12px;\n",
              "    }\n",
              "\n",
              "    .colab-df-convert {\n",
              "      background-color: #E8F0FE;\n",
              "      border: none;\n",
              "      border-radius: 50%;\n",
              "      cursor: pointer;\n",
              "      display: none;\n",
              "      fill: #1967D2;\n",
              "      height: 32px;\n",
              "      padding: 0 0 0 0;\n",
              "      width: 32px;\n",
              "    }\n",
              "\n",
              "    .colab-df-convert:hover {\n",
              "      background-color: #E2EBFA;\n",
              "      box-shadow: 0px 1px 2px rgba(60, 64, 67, 0.3), 0px 1px 3px 1px rgba(60, 64, 67, 0.15);\n",
              "      fill: #174EA6;\n",
              "    }\n",
              "\n",
              "    [theme=dark] .colab-df-convert {\n",
              "      background-color: #3B4455;\n",
              "      fill: #D2E3FC;\n",
              "    }\n",
              "\n",
              "    [theme=dark] .colab-df-convert:hover {\n",
              "      background-color: #434B5C;\n",
              "      box-shadow: 0px 1px 3px 1px rgba(0, 0, 0, 0.15);\n",
              "      filter: drop-shadow(0px 1px 2px rgba(0, 0, 0, 0.3));\n",
              "      fill: #FFFFFF;\n",
              "    }\n",
              "  </style>\n",
              "\n",
              "      <script>\n",
              "        const buttonEl =\n",
              "          document.querySelector('#df-28fd0049-2877-47bb-8df4-23a26751bd0c button.colab-df-convert');\n",
              "        buttonEl.style.display =\n",
              "          google.colab.kernel.accessAllowed ? 'block' : 'none';\n",
              "\n",
              "        async function convertToInteractive(key) {\n",
              "          const element = document.querySelector('#df-28fd0049-2877-47bb-8df4-23a26751bd0c');\n",
              "          const dataTable =\n",
              "            await google.colab.kernel.invokeFunction('convertToInteractive',\n",
              "                                                     [key], {});\n",
              "          if (!dataTable) return;\n",
              "\n",
              "          const docLinkHtml = 'Like what you see? Visit the ' +\n",
              "            '<a target=\"_blank\" href=https://colab.research.google.com/notebooks/data_table.ipynb>data table notebook</a>'\n",
              "            + ' to learn more about interactive tables.';\n",
              "          element.innerHTML = '';\n",
              "          dataTable['output_type'] = 'display_data';\n",
              "          await google.colab.output.renderOutput(dataTable, element);\n",
              "          const docLink = document.createElement('div');\n",
              "          docLink.innerHTML = docLinkHtml;\n",
              "          element.appendChild(docLink);\n",
              "        }\n",
              "      </script>\n",
              "    </div>\n",
              "  </div>\n",
              "  "
            ]
          },
          "metadata": {},
          "execution_count": 10
        }
      ]
    },
    {
      "cell_type": "markdown",
      "source": [
        "### 상관관계 보기"
      ],
      "metadata": {
        "id": "JjEyB7zLrO4N"
      }
    },
    {
      "cell_type": "code",
      "source": [
        "plt.rcParams['font.family'] = 'NanumGothic'"
      ],
      "metadata": {
        "id": "2IrkIjmznrd3"
      },
      "execution_count": 17,
      "outputs": []
    },
    {
      "cell_type": "code",
      "source": [
        "sns.set(font=\"NanumGothic\",\n",
        "        rc = {'figure.figsize':(15,8)})\n",
        "\n",
        "sns.heatmap(train_X_case[\"01\"].drop(([\"DAT\", \"obs_time\"]), axis=1).corr())"
      ],
      "metadata": {
        "colab": {
          "base_uri": "https://localhost:8080/",
          "height": 580
        },
        "id": "K6V90JsSlC1h",
        "outputId": "fde5f6be-f707-46b4-b855-8afba5289a13"
      },
      "execution_count": 19,
      "outputs": [
        {
          "output_type": "execute_result",
          "data": {
            "text/plain": [
              "<matplotlib.axes._subplots.AxesSubplot at 0x7f790dcdc210>"
            ]
          },
          "metadata": {},
          "execution_count": 19
        },
        {
          "output_type": "display_data",
          "data": {
            "text/plain": [
              "<Figure size 1080x576 with 2 Axes>"
            ],
            "image/png": "[encoded data removed]"
          },
          "metadata": {}
        }
      ]
    },
    {
      "cell_type": "markdown",
      "source": [
        "상관관계에서 뭔가를 얻지는 못했다. \n",
        "\n",
        "상관관계 표에 아예 색칠되지 않은 부분은 통제변인으로써 작용하는 듯 하다."
      ],
      "metadata": {
        "id": "sVn9SPVZqiTV"
      }
    },
    {
      "cell_type": "markdown",
      "source": [
        "### null 값 처리\n",
        "\n",
        "null 값이 없다."
      ],
      "metadata": {
        "id": "UC3HQSGln4O8"
      }
    },
    {
      "cell_type": "code",
      "source": [
        "for i in range(1, 29):\n",
        "    CASE = str(i).zfill(2)\n",
        "    for _ in train_X_case[CASE].isnull().sum():\n",
        "        if _ == True:\n",
        "            print(_)"
      ],
      "metadata": {
        "id": "qTGWhVeBtaQ1"
      },
      "execution_count": 40,
      "outputs": []
    },
    {
      "cell_type": "markdown",
      "source": [
        "### 이상치 처리\n",
        "\n",
        "- 시간당 내부 평균온도: 4도~40도\n",
        "- 시간당 내부 평균습도: 0% ~ 100%\n",
        "- 시간당 내부 평균 co2 농도 : 0ppm ~ 1200 ppm\n",
        "- 시간당 평균 EC : 0 ~ 8\n",
        "- 시간당 분무량 : 0 ~ 3000 / 일간 누적 분무량 0 ~ 72,000\n",
        "- 시간당 백색광량 : 0 ~ 120,000 / 일간 누적 백색광량 0 ~ 2,880,000\n",
        "- 시간당 적색광량 : 0 ~ 120,000 / 일간 누적 적색광량 0 ~ 2,880,000 \n",
        "- 시간당 청색광량 : 0 ~ 120,000 / 일간 누적 청색광량 0 ~ 2,880,000\n",
        "- 시간당 총광량 : 0 ~ 120,000 / 일간 누적 총광량 0 ~ 2,880,000\n",
        "\n",
        "\n"
      ],
      "metadata": {
        "id": "Mu2lbGjqtzHz"
      }
    },
    {
      "cell_type": "code",
      "source": [
        "col = train_X_case[\"01\"].columns\n",
        "col"
      ],
      "metadata": {
        "colab": {
          "base_uri": "https://localhost:8080/"
        },
        "id": "DVtJ02ZO55Pv",
        "outputId": "2a4cd6be-3c12-4c49-b68e-18735f9541ef"
      },
      "execution_count": 102,
      "outputs": [
        {
          "output_type": "execute_result",
          "data": {
            "text/plain": [
              "Index(['DAT', 'obs_time', '내부온도관측치', '내부습도관측치', 'co2관측치', 'ec관측치', '시간당분무량',\n",
              "       '일간누적분무량', '시간당백색광량', '일간누적백색광량', '시간당적색광량', '일간누적적색광량', '시간당청색광량',\n",
              "       '일간누적청색광량', '시간당총광량', '일간누적총광량'],\n",
              "      dtype='object')"
            ]
          },
          "metadata": {},
          "execution_count": 102
        }
      ]
    },
    {
      "cell_type": "markdown",
      "source": [
        "#### 노이즈 값 처리"
      ],
      "metadata": {
        "id": "eJw0KEw36EtI"
      }
    },
    {
      "cell_type": "code",
      "source": [
        "control_variable = pd.DataFrame()\n",
        "\n",
        "noise = [[]]\n",
        "\n",
        "for i in range(1, 29):\n",
        "    noise.append([])\n",
        "    CASE = str(i).zfill(2)\n",
        "\n",
        "    # 내부 온도 관측치 \n",
        "    noise[i].append(train_X_case[CASE][train_X_case[CASE][col[2]]<4].index)    \n",
        "    noise[i].append(train_X_case[CASE][train_X_case[CASE][col[2]]>40].index)   \n",
        "\n",
        "    # 내부습도 관측치\n",
        "    noise[i].append(train_X_case[CASE][train_X_case[CASE][col[3]]<0].index)    \n",
        "    noise[i].append(train_X_case[CASE][train_X_case[CASE][col[3]]>100].index)   \n",
        "\n",
        "    # co2 관측치\n",
        "    noise[i].append(train_X_case[CASE][train_X_case[CASE][col[4]]<0].index)    \n",
        "    noise[i].append(train_X_case[CASE][train_X_case[CASE][col[4]]>1200].index)   \n",
        "\n",
        "    # ec 관측치\n",
        "    noise[i].append(train_X_case[CASE][train_X_case[CASE][col[5]]<0].index)    \n",
        "    noise[i].append(train_X_case[CASE][train_X_case[CASE][col[5]]>8].index)   \n",
        "\n",
        "    # 시간당 분무량\n",
        "    noise[i].append(train_X_case[CASE][train_X_case[CASE][col[6]]<0].index)    \n",
        "    noise[i].append(train_X_case[CASE][train_X_case[CASE][col[6]]>3000].index)   \n",
        "\n",
        "    # 누적 분무량\n",
        "    noise[i].append(train_X_case[CASE][train_X_case[CASE][col[7]]<0].index)    \n",
        "    noise[i].append(train_X_case[CASE][train_X_case[CASE][col[7]]>72000].index)   \n",
        "\n",
        "    # 시간당 백색광량\n",
        "    noise[i].append(train_X_case[CASE][train_X_case[CASE][col[8]]<0].index)    \n",
        "    noise[i].append(train_X_case[CASE][train_X_case[CASE][col[8]]>120000].index)   \n",
        "\n",
        "    # 일간 누적 백색광량\n",
        "    noise[i].append(train_X_case[CASE][train_X_case[CASE][col[9]]<0].index)    \n",
        "    noise[i].append(train_X_case[CASE][train_X_case[CASE][col[9]]> 2880000].index)   \n",
        "\n",
        "    # 시간당 적색광량\n",
        "    noise[i].append(train_X_case[CASE][train_X_case[CASE][col[10]]<0].index)    \n",
        "    noise[i].append(train_X_case[CASE][train_X_case[CASE][col[10]]>120000].index)   \n",
        "\n",
        "    # 일간 누적 적색광량\n",
        "    noise[i].append(train_X_case[CASE][train_X_case[CASE][col[11]]<0].index)    \n",
        "    noise[i].append(train_X_case[CASE][train_X_case[CASE][col[11]]>2880000].index)   \n",
        "\n",
        "    # 시간당 청색광량\n",
        "    noise[i].append(train_X_case[CASE][train_X_case[CASE][col[12]]<0].index)    \n",
        "    noise[i].append(train_X_case[CASE][train_X_case[CASE][col[12]]>120000].index)   \n",
        "\n",
        "    # 일간 누적 청색광량\n",
        "    noise[i].append(train_X_case[CASE][train_X_case[CASE][col[13]]<0].index)    \n",
        "    noise[i].append(train_X_case[CASE][train_X_case[CASE][col[13]]>2880000].index)   \n",
        "\n",
        "    # 시간당 총광량\n",
        "    noise[i].append(train_X_case[CASE][train_X_case[CASE][col[14]]<0].index)    \n",
        "    noise[i].append(train_X_case[CASE][train_X_case[CASE][col[14]]>120000].index)   \n",
        "\n",
        "    # 일간 누적 총광량\n",
        "    noise[i].append(train_X_case[CASE][train_X_case[CASE][col[15]]<0].index)    \n",
        "    noise[i].append(train_X_case[CASE][train_X_case[CASE][col[15]]>2880000].index)   \n",
        "\n",
        "    # # 중복값 제거\n",
        "    # noise[i] = list(set(noise[i]))"
      ],
      "metadata": {
        "id": "hoUPUcK9x8mu"
      },
      "execution_count": 135,
      "outputs": []
    },
    {
      "cell_type": "code",
      "source": [
        "for i in range(1, 29):\n",
        "    for j in range(28):\n",
        "        if len(noise[i][j]) != 0:\n",
        "            print(\"case{} {}\".format(i, col[j//2+2]))\n",
        "            print(noise[i][j], \"\\n\")"
      ],
      "metadata": {
        "colab": {
          "base_uri": "https://localhost:8080/"
        },
        "id": "5rhoXnHQ1Hz7",
        "outputId": "10cc9d67-2406-473b-9ffc-e3c08a8ba327"
      },
      "execution_count": 176,
      "outputs": [
        {
          "output_type": "stream",
          "name": "stdout",
          "text": [
            "case1 co2관측치\n",
            "Int64Index([639, 640, 641, 642], dtype='int64') \n",
            "\n",
            "case3 co2관측치\n",
            "Int64Index([ 12,  15,  16,  17,  18,  19,  20,  36,  39,  40,  41,  42,  43,\n",
            "             44,  60,  61,  62,  63,  64,  65,  66,  67,  68,  69, 159, 160,\n",
            "            161, 162, 180, 181, 182, 183, 184, 185, 186, 187, 188, 204, 205,\n",
            "            206, 207, 208, 209, 210, 211, 212, 229, 230, 231, 232, 233, 234,\n",
            "            235, 236, 237, 252, 253, 254, 255, 256, 257, 258, 259, 260, 325,\n",
            "            326, 327, 328, 329, 330, 331, 332, 333, 334, 350, 351, 352, 353,\n",
            "            354, 355, 356, 395, 396, 397, 400, 401, 402, 403, 404, 662, 663,\n",
            "            664, 665, 666, 667, 668],\n",
            "           dtype='int64') \n",
            "\n",
            "case4 내부온도관측치\n",
            "Int64Index([15], dtype='int64') \n",
            "\n",
            "case4 co2관측치\n",
            "Int64Index([549], dtype='int64') \n",
            "\n",
            "case6 시간당백색광량\n",
            "Int64Index([15], dtype='int64') \n",
            "\n",
            "case6 시간당적색광량\n",
            "Int64Index([15], dtype='int64') \n",
            "\n",
            "case6 시간당청색광량\n",
            "Int64Index([15], dtype='int64') \n",
            "\n",
            "case6 시간당총광량\n",
            "Int64Index([15], dtype='int64') \n",
            "\n",
            "case8 내부온도관측치\n",
            "Int64Index([135, 136], dtype='int64') \n",
            "\n",
            "case13 시간당분무량\n",
            "Int64Index([601, 649], dtype='int64') \n",
            "\n",
            "case13 시간당분무량\n",
            "Int64Index([524], dtype='int64') \n",
            "\n",
            "case26 내부온도관측치\n",
            "Int64Index([52, 53, 54, 55, 56, 368, 408, 409, 410, 411], dtype='int64') \n",
            "\n",
            "case27 co2관측치\n",
            "Int64Index([549], dtype='int64') \n",
            "\n"
          ]
        }
      ]
    },
    {
      "cell_type": "markdown",
      "source": [
        "일단 값이 틀린 칼럼과 인덱스는 찾았으니, 대입할 값은 나중에 처리해보자."
      ],
      "metadata": {
        "id": "cMUr_8Ak6YnT"
      }
    },
    {
      "cell_type": "code",
      "source": [],
      "metadata": {
        "id": "kDfSclhsE00n"
      },
      "execution_count": null,
      "outputs": []
    }
  ]
}