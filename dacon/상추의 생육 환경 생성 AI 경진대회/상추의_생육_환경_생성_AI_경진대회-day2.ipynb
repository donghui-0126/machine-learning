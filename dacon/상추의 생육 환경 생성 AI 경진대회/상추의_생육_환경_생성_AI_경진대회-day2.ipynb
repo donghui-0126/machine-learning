{
  "nbformat": 4,
  "nbformat_minor": 0,
  "metadata": {
    "colab": {
      "provenance": [],
      "toc_visible": true
    },
    "kernelspec": {
      "name": "python3",
      "display_name": "Python 3"
    },
    "language_info": {
      "name": "python"
    }
  },
  "cells": [
    {
      "cell_type": "markdown",
      "source": [
        "# 모듈 임포트"
      ],
      "metadata": {
        "id": "nndUdBd0apzy"
      }
    },
    {
      "cell_type": "code",
      "execution_count": 1,
      "metadata": {
        "colab": {
          "base_uri": "https://localhost:8080/"
        },
        "id": "sIERZbUGakPa",
        "outputId": "50cab7d5-a5d1-4ec2-d73f-cd32ba6b7e94"
      },
      "outputs": [
        {
          "output_type": "stream",
          "name": "stdout",
          "text": [
            "Colab only includes TensorFlow 2.x; %tensorflow_version has no effect.\n",
            "감지된 GPU가 없습니다. GPU가 없으면 LSTM과 CNN이 매우 느릴 수 있습니다.\n",
            "런타임 > 런타임 유형 변경 메뉴를 선택하고 하드웨어 가속기로 GPU를 고르세요.\n"
          ]
        }
      ],
      "source": [
        "# 파이썬 ≥3.5 필수\n",
        "import sys\n",
        "assert sys.version_info >= (3, 5)\n",
        "\n",
        "# 사이킷런 ≥0.20 필수\n",
        "import sklearn\n",
        "assert sklearn.__version__ >= \"0.20\"\n",
        "\n",
        "try:\n",
        "    # %tensorflow_version은 코랩에서만 동작합니다.\n",
        "    %tensorflow_version 2.x\n",
        "    IS_COLAB = True\n",
        "except Exception:\n",
        "    IS_COLAB = False\n",
        "\n",
        "# 텐서플로 ≥2.0 필수\n",
        "import tensorflow as tf\n",
        "from tensorflow import keras\n",
        "assert tf.__version__ >= \"2.0\"\n",
        "\n",
        "if not tf.config.list_physical_devices('GPU'):\n",
        "    print(\"감지된 GPU가 없습니다. GPU가 없으면 LSTM과 CNN이 매우 느릴 수 있습니다.\")\n",
        "    if IS_COLAB:\n",
        "        print(\"런타임 > 런타임 유형 변경 메뉴를 선택하고 하드웨어 가속기로 GPU를 고르세요.\")\n",
        "\n",
        "# 공통 모듈 임포트\n",
        "import numpy as np\n",
        "import os\n",
        "import pandas as pd\n",
        "\n",
        "# 노트북 실행 결과를 동일하게 유지하기 위해\n",
        "np.random.seed(42)\n",
        "tf.random.set_seed(42)\n",
        "\n",
        "# 깔끔한 그래프 출력을 위해\n",
        "%matplotlib inline\n",
        "import matplotlib as mpl\n",
        "import matplotlib.pyplot as plt\n",
        "import seaborn as sns\n",
        "\n",
        "\n",
        "mpl.rc('axes', labelsize=14)\n",
        "mpl.rc('xtick', labelsize=12)\n",
        "mpl.rc('ytick', labelsize=12)"
      ]
    },
    {
      "cell_type": "code",
      "source": [
        "!sudo apt-get install -y fonts-nanum\n",
        "!sudo fc-cache -fv\n",
        "!rm ~/.cache/matplotlib -rf"
      ],
      "metadata": {
        "colab": {
          "base_uri": "https://localhost:8080/"
        },
        "id": "surZF3nWoexf",
        "outputId": "a00d70bd-53cd-46c5-8133-586c2f46f240"
      },
      "execution_count": 2,
      "outputs": [
        {
          "output_type": "stream",
          "name": "stdout",
          "text": [
            "Reading package lists... Done\n",
            "Building dependency tree       \n",
            "Reading state information... Done\n",
            "fonts-nanum is already the newest version (20170925-1).\n",
            "The following package was automatically installed and is no longer required:\n",
            "  libnvidia-common-460\n",
            "Use 'sudo apt autoremove' to remove it.\n",
            "0 upgraded, 0 newly installed, 0 to remove and 5 not upgraded.\n",
            "/usr/share/fonts: caching, new cache contents: 0 fonts, 1 dirs\n",
            "/usr/share/fonts/truetype: caching, new cache contents: 0 fonts, 3 dirs\n",
            "/usr/share/fonts/truetype/humor-sans: caching, new cache contents: 1 fonts, 0 dirs\n",
            "/usr/share/fonts/truetype/liberation: caching, new cache contents: 16 fonts, 0 dirs\n",
            "/usr/share/fonts/truetype/nanum: caching, new cache contents: 10 fonts, 0 dirs\n",
            "/usr/local/share/fonts: caching, new cache contents: 0 fonts, 0 dirs\n",
            "/root/.local/share/fonts: skipping, no such directory\n",
            "/root/.fonts: skipping, no such directory\n",
            "/var/cache/fontconfig: cleaning cache directory\n",
            "/root/.cache/fontconfig: not cleaning non-existent cache directory\n",
            "/root/.fontconfig: not cleaning non-existent cache directory\n",
            "fc-cache: succeeded\n"
          ]
        }
      ]
    },
    {
      "cell_type": "markdown",
      "source": [
        "# 데이터 적재 train_X_case(dict), train_y_case(dict)"
      ],
      "metadata": {
        "id": "yHaTm72Aa8A8"
      }
    },
    {
      "cell_type": "code",
      "source": [
        "from google.colab import drive\n",
        "drive.mount('/content/drive')"
      ],
      "metadata": {
        "colab": {
          "base_uri": "https://localhost:8080/"
        },
        "id": "viGQIT6BasDH",
        "outputId": "856abece-0944-4823-88db-e2fce9965c18"
      },
      "execution_count": 3,
      "outputs": [
        {
          "output_type": "stream",
          "name": "stdout",
          "text": [
            "Drive already mounted at /content/drive; to attempt to forcibly remount, call drive.mount(\"/content/drive\", force_remount=True).\n"
          ]
        }
      ]
    },
    {
      "cell_type": "code",
      "source": [
        "train_X_case = {}\n",
        "\n",
        "for i in range(1, 29):\n",
        "    train_X_case[\"{}\".format(str(i).zfill(2))] =\\\n",
        "      pd.read_csv(\"/content/drive/MyDrive/상추의 생육 환경 생성 AI 경진대회/train_input/CASE_{}.csv\".format(str(i).zfill(2)))\n",
        " "
      ],
      "metadata": {
        "id": "cO_yFb-Ha7dl"
      },
      "execution_count": 4,
      "outputs": []
    },
    {
      "cell_type": "code",
      "source": [
        "train_y_case = {}\n",
        "\n",
        "for i in range(1, 29):\n",
        "    train_y_case[\"{}\".format(str(i).zfill(2))] =\\\n",
        "      pd.read_csv(\"/content/drive/MyDrive/상추의 생육 환경 생성 AI 경진대회/train_target/CASE_{}.csv\".format(str(i).zfill(2)))\n",
        " "
      ],
      "metadata": {
        "id": "70Dvnos9dP3a"
      },
      "execution_count": 5,
      "outputs": []
    },
    {
      "cell_type": "code",
      "source": [
        "train_X_case[\"01\"].head(3)"
      ],
      "metadata": {
        "colab": {
          "base_uri": "https://localhost:8080/",
          "height": 222
        },
        "id": "NaF-_fOMc2_1",
        "outputId": "f163c027-7ef0-4bf4-ba2f-707ca311a480"
      },
      "execution_count": 6,
      "outputs": [
        {
          "output_type": "execute_result",
          "data": {
            "text/plain": [
              "   DAT obs_time    내부온도관측치    내부습도관측치      co2관측치     ec관측치  시간당분무량  일간누적분무량  \\\n",
              "0    0    00:00  25.300000  81.835000  536.016667  1.407439     0.0      0.0   \n",
              "1    0    01:00  25.680357  81.264286  528.696429  1.409003   126.0    126.0   \n",
              "2    0    02:00  25.273333  81.471666  532.833333  1.406913     0.0    126.0   \n",
              "\n",
              "   시간당백색광량  일간누적백색광량  시간당적색광량  일간누적적색광량  시간당청색광량  일간누적청색광량  시간당총광량  일간누적총광량  \n",
              "0      0.0       0.0      0.0       0.0        0         0     0.0      0.0  \n",
              "1      0.0       0.0      0.0       0.0        0         0     0.0      0.0  \n",
              "2      0.0       0.0      0.0       0.0        0         0     0.0      0.0  "
            ],
            "text/html": [
              "\n",
              "  <div id=\"df-307a653a-1db3-49fe-ab66-c6b9021ae67f\">\n",
              "    <div class=\"colab-df-container\">\n",
              "      <div>\n",
              "<style scoped>\n",
              "    .dataframe tbody tr th:only-of-type {\n",
              "        vertical-align: middle;\n",
              "    }\n",
              "\n",
              "    .dataframe tbody tr th {\n",
              "        vertical-align: top;\n",
              "    }\n",
              "\n",
              "    .dataframe thead th {\n",
              "        text-align: right;\n",
              "    }\n",
              "</style>\n",
              "<table border=\"1\" class=\"dataframe\">\n",
              "  <thead>\n",
              "    <tr style=\"text-align: right;\">\n",
              "      <th></th>\n",
              "      <th>DAT</th>\n",
              "      <th>obs_time</th>\n",
              "      <th>내부온도관측치</th>\n",
              "      <th>내부습도관측치</th>\n",
              "      <th>co2관측치</th>\n",
              "      <th>ec관측치</th>\n",
              "      <th>시간당분무량</th>\n",
              "      <th>일간누적분무량</th>\n",
              "      <th>시간당백색광량</th>\n",
              "      <th>일간누적백색광량</th>\n",
              "      <th>시간당적색광량</th>\n",
              "      <th>일간누적적색광량</th>\n",
              "      <th>시간당청색광량</th>\n",
              "      <th>일간누적청색광량</th>\n",
              "      <th>시간당총광량</th>\n",
              "      <th>일간누적총광량</th>\n",
              "    </tr>\n",
              "  </thead>\n",
              "  <tbody>\n",
              "    <tr>\n",
              "      <th>0</th>\n",
              "      <td>0</td>\n",
              "      <td>00:00</td>\n",
              "      <td>25.300000</td>\n",
              "      <td>81.835000</td>\n",
              "      <td>536.016667</td>\n",
              "      <td>1.407439</td>\n",
              "      <td>0.0</td>\n",
              "      <td>0.0</td>\n",
              "      <td>0.0</td>\n",
              "      <td>0.0</td>\n",
              "      <td>0.0</td>\n",
              "      <td>0.0</td>\n",
              "      <td>0</td>\n",
              "      <td>0</td>\n",
              "      <td>0.0</td>\n",
              "      <td>0.0</td>\n",
              "    </tr>\n",
              "    <tr>\n",
              "      <th>1</th>\n",
              "      <td>0</td>\n",
              "      <td>01:00</td>\n",
              "      <td>25.680357</td>\n",
              "      <td>81.264286</td>\n",
              "      <td>528.696429</td>\n",
              "      <td>1.409003</td>\n",
              "      <td>126.0</td>\n",
              "      <td>126.0</td>\n",
              "      <td>0.0</td>\n",
              "      <td>0.0</td>\n",
              "      <td>0.0</td>\n",
              "      <td>0.0</td>\n",
              "      <td>0</td>\n",
              "      <td>0</td>\n",
              "      <td>0.0</td>\n",
              "      <td>0.0</td>\n",
              "    </tr>\n",
              "    <tr>\n",
              "      <th>2</th>\n",
              "      <td>0</td>\n",
              "      <td>02:00</td>\n",
              "      <td>25.273333</td>\n",
              "      <td>81.471666</td>\n",
              "      <td>532.833333</td>\n",
              "      <td>1.406913</td>\n",
              "      <td>0.0</td>\n",
              "      <td>126.0</td>\n",
              "      <td>0.0</td>\n",
              "      <td>0.0</td>\n",
              "      <td>0.0</td>\n",
              "      <td>0.0</td>\n",
              "      <td>0</td>\n",
              "      <td>0</td>\n",
              "      <td>0.0</td>\n",
              "      <td>0.0</td>\n",
              "    </tr>\n",
              "  </tbody>\n",
              "</table>\n",
              "</div>\n",
              "      <button class=\"colab-df-convert\" onclick=\"convertToInteractive('df-307a653a-1db3-49fe-ab66-c6b9021ae67f')\"\n",
              "              title=\"Convert this dataframe to an interactive table.\"\n",
              "              style=\"display:none;\">\n",
              "        \n",
              "  <svg xmlns=\"http://www.w3.org/2000/svg\" height=\"24px\"viewBox=\"0 0 24 24\"\n",
              "       width=\"24px\">\n",
              "    <path d=\"M0 0h24v24H0V0z\" fill=\"none\"/>\n",
              "    <path d=\"M18.56 5.44l.94 2.06.94-2.06 2.06-.94-2.06-.94-.94-2.06-.94 2.06-2.06.94zm-11 1L8.5 8.5l.94-2.06 2.06-.94-2.06-.94L8.5 2.5l-.94 2.06-2.06.94zm10 10l.94 2.06.94-2.06 2.06-.94-2.06-.94-.94-2.06-.94 2.06-2.06.94z\"/><path d=\"M17.41 7.96l-1.37-1.37c-.4-.4-.92-.59-1.43-.59-.52 0-1.04.2-1.43.59L10.3 9.45l-7.72 7.72c-.78.78-.78 2.05 0 2.83L4 21.41c.39.39.9.59 1.41.59.51 0 1.02-.2 1.41-.59l7.78-7.78 2.81-2.81c.8-.78.8-2.07 0-2.86zM5.41 20L4 18.59l7.72-7.72 1.47 1.35L5.41 20z\"/>\n",
              "  </svg>\n",
              "      </button>\n",
              "      \n",
              "  <style>\n",
              "    .colab-df-container {\n",
              "      display:flex;\n",
              "      flex-wrap:wrap;\n",
              "      gap: 12px;\n",
              "    }\n",
              "\n",
              "    .colab-df-convert {\n",
              "      background-color: #E8F0FE;\n",
              "      border: none;\n",
              "      border-radius: 50%;\n",
              "      cursor: pointer;\n",
              "      display: none;\n",
              "      fill: #1967D2;\n",
              "      height: 32px;\n",
              "      padding: 0 0 0 0;\n",
              "      width: 32px;\n",
              "    }\n",
              "\n",
              "    .colab-df-convert:hover {\n",
              "      background-color: #E2EBFA;\n",
              "      box-shadow: 0px 1px 2px rgba(60, 64, 67, 0.3), 0px 1px 3px 1px rgba(60, 64, 67, 0.15);\n",
              "      fill: #174EA6;\n",
              "    }\n",
              "\n",
              "    [theme=dark] .colab-df-convert {\n",
              "      background-color: #3B4455;\n",
              "      fill: #D2E3FC;\n",
              "    }\n",
              "\n",
              "    [theme=dark] .colab-df-convert:hover {\n",
              "      background-color: #434B5C;\n",
              "      box-shadow: 0px 1px 3px 1px rgba(0, 0, 0, 0.15);\n",
              "      filter: drop-shadow(0px 1px 2px rgba(0, 0, 0, 0.3));\n",
              "      fill: #FFFFFF;\n",
              "    }\n",
              "  </style>\n",
              "\n",
              "      <script>\n",
              "        const buttonEl =\n",
              "          document.querySelector('#df-307a653a-1db3-49fe-ab66-c6b9021ae67f button.colab-df-convert');\n",
              "        buttonEl.style.display =\n",
              "          google.colab.kernel.accessAllowed ? 'block' : 'none';\n",
              "\n",
              "        async function convertToInteractive(key) {\n",
              "          const element = document.querySelector('#df-307a653a-1db3-49fe-ab66-c6b9021ae67f');\n",
              "          const dataTable =\n",
              "            await google.colab.kernel.invokeFunction('convertToInteractive',\n",
              "                                                     [key], {});\n",
              "          if (!dataTable) return;\n",
              "\n",
              "          const docLinkHtml = 'Like what you see? Visit the ' +\n",
              "            '<a target=\"_blank\" href=https://colab.research.google.com/notebooks/data_table.ipynb>data table notebook</a>'\n",
              "            + ' to learn more about interactive tables.';\n",
              "          element.innerHTML = '';\n",
              "          dataTable['output_type'] = 'display_data';\n",
              "          await google.colab.output.renderOutput(dataTable, element);\n",
              "          const docLink = document.createElement('div');\n",
              "          docLink.innerHTML = docLinkHtml;\n",
              "          element.appendChild(docLink);\n",
              "        }\n",
              "      </script>\n",
              "    </div>\n",
              "  </div>\n",
              "  "
            ]
          },
          "metadata": {},
          "execution_count": 6
        }
      ]
    },
    {
      "cell_type": "code",
      "source": [
        "train_y_case[\"01\"].head(3)"
      ],
      "metadata": {
        "colab": {
          "base_uri": "https://localhost:8080/",
          "height": 143
        },
        "id": "t9L1cxmTc0bt",
        "outputId": "12a9904a-ef94-4231-b8f8-a85813b64f32"
      },
      "execution_count": 7,
      "outputs": [
        {
          "output_type": "execute_result",
          "data": {
            "text/plain": [
              "   DAT  predicted_weight_g\n",
              "0    1            0.167719\n",
              "1    2            0.181787\n",
              "2    3            0.265921"
            ],
            "text/html": [
              "\n",
              "  <div id=\"df-775ffc78-c4a3-42b4-b478-5e75921a8db3\">\n",
              "    <div class=\"colab-df-container\">\n",
              "      <div>\n",
              "<style scoped>\n",
              "    .dataframe tbody tr th:only-of-type {\n",
              "        vertical-align: middle;\n",
              "    }\n",
              "\n",
              "    .dataframe tbody tr th {\n",
              "        vertical-align: top;\n",
              "    }\n",
              "\n",
              "    .dataframe thead th {\n",
              "        text-align: right;\n",
              "    }\n",
              "</style>\n",
              "<table border=\"1\" class=\"dataframe\">\n",
              "  <thead>\n",
              "    <tr style=\"text-align: right;\">\n",
              "      <th></th>\n",
              "      <th>DAT</th>\n",
              "      <th>predicted_weight_g</th>\n",
              "    </tr>\n",
              "  </thead>\n",
              "  <tbody>\n",
              "    <tr>\n",
              "      <th>0</th>\n",
              "      <td>1</td>\n",
              "      <td>0.167719</td>\n",
              "    </tr>\n",
              "    <tr>\n",
              "      <th>1</th>\n",
              "      <td>2</td>\n",
              "      <td>0.181787</td>\n",
              "    </tr>\n",
              "    <tr>\n",
              "      <th>2</th>\n",
              "      <td>3</td>\n",
              "      <td>0.265921</td>\n",
              "    </tr>\n",
              "  </tbody>\n",
              "</table>\n",
              "</div>\n",
              "      <button class=\"colab-df-convert\" onclick=\"convertToInteractive('df-775ffc78-c4a3-42b4-b478-5e75921a8db3')\"\n",
              "              title=\"Convert this dataframe to an interactive table.\"\n",
              "              style=\"display:none;\">\n",
              "        \n",
              "  <svg xmlns=\"http://www.w3.org/2000/svg\" height=\"24px\"viewBox=\"0 0 24 24\"\n",
              "       width=\"24px\">\n",
              "    <path d=\"M0 0h24v24H0V0z\" fill=\"none\"/>\n",
              "    <path d=\"M18.56 5.44l.94 2.06.94-2.06 2.06-.94-2.06-.94-.94-2.06-.94 2.06-2.06.94zm-11 1L8.5 8.5l.94-2.06 2.06-.94-2.06-.94L8.5 2.5l-.94 2.06-2.06.94zm10 10l.94 2.06.94-2.06 2.06-.94-2.06-.94-.94-2.06-.94 2.06-2.06.94z\"/><path d=\"M17.41 7.96l-1.37-1.37c-.4-.4-.92-.59-1.43-.59-.52 0-1.04.2-1.43.59L10.3 9.45l-7.72 7.72c-.78.78-.78 2.05 0 2.83L4 21.41c.39.39.9.59 1.41.59.51 0 1.02-.2 1.41-.59l7.78-7.78 2.81-2.81c.8-.78.8-2.07 0-2.86zM5.41 20L4 18.59l7.72-7.72 1.47 1.35L5.41 20z\"/>\n",
              "  </svg>\n",
              "      </button>\n",
              "      \n",
              "  <style>\n",
              "    .colab-df-container {\n",
              "      display:flex;\n",
              "      flex-wrap:wrap;\n",
              "      gap: 12px;\n",
              "    }\n",
              "\n",
              "    .colab-df-convert {\n",
              "      background-color: #E8F0FE;\n",
              "      border: none;\n",
              "      border-radius: 50%;\n",
              "      cursor: pointer;\n",
              "      display: none;\n",
              "      fill: #1967D2;\n",
              "      height: 32px;\n",
              "      padding: 0 0 0 0;\n",
              "      width: 32px;\n",
              "    }\n",
              "\n",
              "    .colab-df-convert:hover {\n",
              "      background-color: #E2EBFA;\n",
              "      box-shadow: 0px 1px 2px rgba(60, 64, 67, 0.3), 0px 1px 3px 1px rgba(60, 64, 67, 0.15);\n",
              "      fill: #174EA6;\n",
              "    }\n",
              "\n",
              "    [theme=dark] .colab-df-convert {\n",
              "      background-color: #3B4455;\n",
              "      fill: #D2E3FC;\n",
              "    }\n",
              "\n",
              "    [theme=dark] .colab-df-convert:hover {\n",
              "      background-color: #434B5C;\n",
              "      box-shadow: 0px 1px 3px 1px rgba(0, 0, 0, 0.15);\n",
              "      filter: drop-shadow(0px 1px 2px rgba(0, 0, 0, 0.3));\n",
              "      fill: #FFFFFF;\n",
              "    }\n",
              "  </style>\n",
              "\n",
              "      <script>\n",
              "        const buttonEl =\n",
              "          document.querySelector('#df-775ffc78-c4a3-42b4-b478-5e75921a8db3 button.colab-df-convert');\n",
              "        buttonEl.style.display =\n",
              "          google.colab.kernel.accessAllowed ? 'block' : 'none';\n",
              "\n",
              "        async function convertToInteractive(key) {\n",
              "          const element = document.querySelector('#df-775ffc78-c4a3-42b4-b478-5e75921a8db3');\n",
              "          const dataTable =\n",
              "            await google.colab.kernel.invokeFunction('convertToInteractive',\n",
              "                                                     [key], {});\n",
              "          if (!dataTable) return;\n",
              "\n",
              "          const docLinkHtml = 'Like what you see? Visit the ' +\n",
              "            '<a target=\"_blank\" href=https://colab.research.google.com/notebooks/data_table.ipynb>data table notebook</a>'\n",
              "            + ' to learn more about interactive tables.';\n",
              "          element.innerHTML = '';\n",
              "          dataTable['output_type'] = 'display_data';\n",
              "          await google.colab.output.renderOutput(dataTable, element);\n",
              "          const docLink = document.createElement('div');\n",
              "          docLink.innerHTML = docLinkHtml;\n",
              "          element.appendChild(docLink);\n",
              "        }\n",
              "      </script>\n",
              "    </div>\n",
              "  </div>\n",
              "  "
            ]
          },
          "metadata": {},
          "execution_count": 7
        }
      ]
    },
    {
      "cell_type": "markdown",
      "source": [
        " 28개의 상추를 28일 동안 24시간 간격으로 측정한 데이터이다.\n",
        "\n",
        " 28 * 24 = 672\n",
        "\n",
        " - feature는 16개\n",
        " - train_y는 매일 측정된 상추의 잎 크기이다.\n",
        "\n",
        " 잎의 성장은 전날의 데이터에 영향을 받는다. (청경채 예측 분석 코드공유를 참고함.)\n",
        "\n",
        " 각 상추의 train_X를 28개로 나눈 뒤, 하루 뒤의 train_y를 예측하게 할 것이다.\n",
        "\n",
        " https://dacon.io/competitions/official/235961/overview/description\n",
        "\n",
        "상추의 생육환경 예측과 비슷한 문제인 청경채 성장 경진대회를 많이 참고할 예정이다."
      ],
      "metadata": {
        "id": "s2Tq_TbjdrYB"
      }
    },
    {
      "cell_type": "markdown",
      "source": [
        "# 데이터 전처리\n",
        "\n",
        "- 데이터셋 나누기 \n",
        "    1. 28개의 상추를 하루 단위씩 끊어서 데이터셋을 새로 만들기\n",
        "    2. 하루단위 데이터를 평균낸 데이터를 다시 합쳐서 데이터셋을 새로 만들기\n",
        "\n",
        "- target 데이터 전처리\n",
        "    1. 전날 대비 성장률 추가 \n",
        "    2. 초기 대비 성장률 추가\n",
        "\n",
        "- null 값 처리\n",
        "\n",
        "- 컬럼별 상관관계 보기\n",
        "\n",
        "- 이상치 처리\n",
        "\n",
        "- 노이즈값 처리"
      ],
      "metadata": {
        "id": "66NbrtwfVm4X"
      }
    },
    {
      "cell_type": "markdown",
      "source": [
        "### 데이터셋 합치기 all_X(DataFrame)\n",
        "모든데이터를 합친다."
      ],
      "metadata": {
        "id": "OmES1X6b4d_P"
      }
    },
    {
      "cell_type": "code",
      "source": [
        "all_X = pd.DataFrame()\n",
        "\n",
        "for i in range(1,29):\n",
        "    CASE = str(i).zfill(2)\n",
        "    all_X = all_X.append(train_X_case[CASE])"
      ],
      "metadata": {
        "id": "oDsxHMNk4RAD"
      },
      "execution_count": 8,
      "outputs": []
    },
    {
      "cell_type": "code",
      "source": [
        "all_X.shape"
      ],
      "metadata": {
        "colab": {
          "base_uri": "https://localhost:8080/"
        },
        "id": "4I1LUU-W5M-z",
        "outputId": "d491044c-bc25-4ed4-fa3b-5519c30835a0"
      },
      "execution_count": 9,
      "outputs": [
        {
          "output_type": "execute_result",
          "data": {
            "text/plain": [
              "(18816, 16)"
            ]
          },
          "metadata": {},
          "execution_count": 9
        }
      ]
    },
    {
      "cell_type": "code",
      "source": [
        "# 인덱스가 겹치는 모습을 볼 수 있다.\n",
        "all_X.iloc[670:675]"
      ],
      "metadata": {
        "colab": {
          "base_uri": "https://localhost:8080/",
          "height": 302
        },
        "id": "RQt8R3XG5SBZ",
        "outputId": "98c56708-521e-45bc-9e30-b05a6e59adee"
      },
      "execution_count": 10,
      "outputs": [
        {
          "output_type": "execute_result",
          "data": {
            "text/plain": [
              "     DAT   obs_time    내부온도관측치    내부습도관측치      co2관측치     ec관측치  시간당분무량  \\\n",
              "670   27      22:00  28.005000  82.850000  577.150000  0.000000   126.0   \n",
              "671   27      23:00  27.868333  82.453333  588.616667  0.000000     0.0   \n",
              "0      0  00:00:00.  25.796666  60.550000  647.433333  2.924978    61.7   \n",
              "1      0  01:00:00.  25.285000  62.153333  648.450000  2.922873    61.7   \n",
              "2      0  02:00:00.  23.513333  63.510000  633.950000  2.890171    61.7   \n",
              "\n",
              "     일간누적분무량  시간당백색광량   일간누적백색광량  시간당적색광량  일간누적적색광량  시간당청색광량  일간누적청색광량  \\\n",
              "670  3890.54      0.0  255263.25      0.0   13652.1      0.0       0.0   \n",
              "671  3890.54      0.0  255263.25      0.0   13652.1      0.0       0.0   \n",
              "0      61.70      0.0       0.00      0.0       0.0      0.0       0.0   \n",
              "1     123.40      0.0       0.00      0.0       0.0      0.0       0.0   \n",
              "2     185.10      0.0       0.00      0.0       0.0      0.0       0.0   \n",
              "\n",
              "     시간당총광량    일간누적총광량  \n",
              "670     0.0  268915.35  \n",
              "671     0.0  268915.35  \n",
              "0       0.0       0.00  \n",
              "1       0.0       0.00  \n",
              "2       0.0       0.00  "
            ],
            "text/html": [
              "\n",
              "  <div id=\"df-4f6e7713-033a-4a6c-8c4d-0b478f5e4e1c\">\n",
              "    <div class=\"colab-df-container\">\n",
              "      <div>\n",
              "<style scoped>\n",
              "    .dataframe tbody tr th:only-of-type {\n",
              "        vertical-align: middle;\n",
              "    }\n",
              "\n",
              "    .dataframe tbody tr th {\n",
              "        vertical-align: top;\n",
              "    }\n",
              "\n",
              "    .dataframe thead th {\n",
              "        text-align: right;\n",
              "    }\n",
              "</style>\n",
              "<table border=\"1\" class=\"dataframe\">\n",
              "  <thead>\n",
              "    <tr style=\"text-align: right;\">\n",
              "      <th></th>\n",
              "      <th>DAT</th>\n",
              "      <th>obs_time</th>\n",
              "      <th>내부온도관측치</th>\n",
              "      <th>내부습도관측치</th>\n",
              "      <th>co2관측치</th>\n",
              "      <th>ec관측치</th>\n",
              "      <th>시간당분무량</th>\n",
              "      <th>일간누적분무량</th>\n",
              "      <th>시간당백색광량</th>\n",
              "      <th>일간누적백색광량</th>\n",
              "      <th>시간당적색광량</th>\n",
              "      <th>일간누적적색광량</th>\n",
              "      <th>시간당청색광량</th>\n",
              "      <th>일간누적청색광량</th>\n",
              "      <th>시간당총광량</th>\n",
              "      <th>일간누적총광량</th>\n",
              "    </tr>\n",
              "  </thead>\n",
              "  <tbody>\n",
              "    <tr>\n",
              "      <th>670</th>\n",
              "      <td>27</td>\n",
              "      <td>22:00</td>\n",
              "      <td>28.005000</td>\n",
              "      <td>82.850000</td>\n",
              "      <td>577.150000</td>\n",
              "      <td>0.000000</td>\n",
              "      <td>126.0</td>\n",
              "      <td>3890.54</td>\n",
              "      <td>0.0</td>\n",
              "      <td>255263.25</td>\n",
              "      <td>0.0</td>\n",
              "      <td>13652.1</td>\n",
              "      <td>0.0</td>\n",
              "      <td>0.0</td>\n",
              "      <td>0.0</td>\n",
              "      <td>268915.35</td>\n",
              "    </tr>\n",
              "    <tr>\n",
              "      <th>671</th>\n",
              "      <td>27</td>\n",
              "      <td>23:00</td>\n",
              "      <td>27.868333</td>\n",
              "      <td>82.453333</td>\n",
              "      <td>588.616667</td>\n",
              "      <td>0.000000</td>\n",
              "      <td>0.0</td>\n",
              "      <td>3890.54</td>\n",
              "      <td>0.0</td>\n",
              "      <td>255263.25</td>\n",
              "      <td>0.0</td>\n",
              "      <td>13652.1</td>\n",
              "      <td>0.0</td>\n",
              "      <td>0.0</td>\n",
              "      <td>0.0</td>\n",
              "      <td>268915.35</td>\n",
              "    </tr>\n",
              "    <tr>\n",
              "      <th>0</th>\n",
              "      <td>0</td>\n",
              "      <td>00:00:00.</td>\n",
              "      <td>25.796666</td>\n",
              "      <td>60.550000</td>\n",
              "      <td>647.433333</td>\n",
              "      <td>2.924978</td>\n",
              "      <td>61.7</td>\n",
              "      <td>61.70</td>\n",
              "      <td>0.0</td>\n",
              "      <td>0.00</td>\n",
              "      <td>0.0</td>\n",
              "      <td>0.0</td>\n",
              "      <td>0.0</td>\n",
              "      <td>0.0</td>\n",
              "      <td>0.0</td>\n",
              "      <td>0.00</td>\n",
              "    </tr>\n",
              "    <tr>\n",
              "      <th>1</th>\n",
              "      <td>0</td>\n",
              "      <td>01:00:00.</td>\n",
              "      <td>25.285000</td>\n",
              "      <td>62.153333</td>\n",
              "      <td>648.450000</td>\n",
              "      <td>2.922873</td>\n",
              "      <td>61.7</td>\n",
              "      <td>123.40</td>\n",
              "      <td>0.0</td>\n",
              "      <td>0.00</td>\n",
              "      <td>0.0</td>\n",
              "      <td>0.0</td>\n",
              "      <td>0.0</td>\n",
              "      <td>0.0</td>\n",
              "      <td>0.0</td>\n",
              "      <td>0.00</td>\n",
              "    </tr>\n",
              "    <tr>\n",
              "      <th>2</th>\n",
              "      <td>0</td>\n",
              "      <td>02:00:00.</td>\n",
              "      <td>23.513333</td>\n",
              "      <td>63.510000</td>\n",
              "      <td>633.950000</td>\n",
              "      <td>2.890171</td>\n",
              "      <td>61.7</td>\n",
              "      <td>185.10</td>\n",
              "      <td>0.0</td>\n",
              "      <td>0.00</td>\n",
              "      <td>0.0</td>\n",
              "      <td>0.0</td>\n",
              "      <td>0.0</td>\n",
              "      <td>0.0</td>\n",
              "      <td>0.0</td>\n",
              "      <td>0.00</td>\n",
              "    </tr>\n",
              "  </tbody>\n",
              "</table>\n",
              "</div>\n",
              "      <button class=\"colab-df-convert\" onclick=\"convertToInteractive('df-4f6e7713-033a-4a6c-8c4d-0b478f5e4e1c')\"\n",
              "              title=\"Convert this dataframe to an interactive table.\"\n",
              "              style=\"display:none;\">\n",
              "        \n",
              "  <svg xmlns=\"http://www.w3.org/2000/svg\" height=\"24px\"viewBox=\"0 0 24 24\"\n",
              "       width=\"24px\">\n",
              "    <path d=\"M0 0h24v24H0V0z\" fill=\"none\"/>\n",
              "    <path d=\"M18.56 5.44l.94 2.06.94-2.06 2.06-.94-2.06-.94-.94-2.06-.94 2.06-2.06.94zm-11 1L8.5 8.5l.94-2.06 2.06-.94-2.06-.94L8.5 2.5l-.94 2.06-2.06.94zm10 10l.94 2.06.94-2.06 2.06-.94-2.06-.94-.94-2.06-.94 2.06-2.06.94z\"/><path d=\"M17.41 7.96l-1.37-1.37c-.4-.4-.92-.59-1.43-.59-.52 0-1.04.2-1.43.59L10.3 9.45l-7.72 7.72c-.78.78-.78 2.05 0 2.83L4 21.41c.39.39.9.59 1.41.59.51 0 1.02-.2 1.41-.59l7.78-7.78 2.81-2.81c.8-.78.8-2.07 0-2.86zM5.41 20L4 18.59l7.72-7.72 1.47 1.35L5.41 20z\"/>\n",
              "  </svg>\n",
              "      </button>\n",
              "      \n",
              "  <style>\n",
              "    .colab-df-container {\n",
              "      display:flex;\n",
              "      flex-wrap:wrap;\n",
              "      gap: 12px;\n",
              "    }\n",
              "\n",
              "    .colab-df-convert {\n",
              "      background-color: #E8F0FE;\n",
              "      border: none;\n",
              "      border-radius: 50%;\n",
              "      cursor: pointer;\n",
              "      display: none;\n",
              "      fill: #1967D2;\n",
              "      height: 32px;\n",
              "      padding: 0 0 0 0;\n",
              "      width: 32px;\n",
              "    }\n",
              "\n",
              "    .colab-df-convert:hover {\n",
              "      background-color: #E2EBFA;\n",
              "      box-shadow: 0px 1px 2px rgba(60, 64, 67, 0.3), 0px 1px 3px 1px rgba(60, 64, 67, 0.15);\n",
              "      fill: #174EA6;\n",
              "    }\n",
              "\n",
              "    [theme=dark] .colab-df-convert {\n",
              "      background-color: #3B4455;\n",
              "      fill: #D2E3FC;\n",
              "    }\n",
              "\n",
              "    [theme=dark] .colab-df-convert:hover {\n",
              "      background-color: #434B5C;\n",
              "      box-shadow: 0px 1px 3px 1px rgba(0, 0, 0, 0.15);\n",
              "      filter: drop-shadow(0px 1px 2px rgba(0, 0, 0, 0.3));\n",
              "      fill: #FFFFFF;\n",
              "    }\n",
              "  </style>\n",
              "\n",
              "      <script>\n",
              "        const buttonEl =\n",
              "          document.querySelector('#df-4f6e7713-033a-4a6c-8c4d-0b478f5e4e1c button.colab-df-convert');\n",
              "        buttonEl.style.display =\n",
              "          google.colab.kernel.accessAllowed ? 'block' : 'none';\n",
              "\n",
              "        async function convertToInteractive(key) {\n",
              "          const element = document.querySelector('#df-4f6e7713-033a-4a6c-8c4d-0b478f5e4e1c');\n",
              "          const dataTable =\n",
              "            await google.colab.kernel.invokeFunction('convertToInteractive',\n",
              "                                                     [key], {});\n",
              "          if (!dataTable) return;\n",
              "\n",
              "          const docLinkHtml = 'Like what you see? Visit the ' +\n",
              "            '<a target=\"_blank\" href=https://colab.research.google.com/notebooks/data_table.ipynb>data table notebook</a>'\n",
              "            + ' to learn more about interactive tables.';\n",
              "          element.innerHTML = '';\n",
              "          dataTable['output_type'] = 'display_data';\n",
              "          await google.colab.output.renderOutput(dataTable, element);\n",
              "          const docLink = document.createElement('div');\n",
              "          docLink.innerHTML = docLinkHtml;\n",
              "          element.appendChild(docLink);\n",
              "        }\n",
              "      </script>\n",
              "    </div>\n",
              "  </div>\n",
              "  "
            ]
          },
          "metadata": {},
          "execution_count": 10
        }
      ]
    },
    {
      "cell_type": "markdown",
      "source": [
        "### 데이터셋 나누기 train_X_case_day(list)\n",
        "\n",
        "각 상추의 28일치 데이터를 분리해서 저장한다."
      ],
      "metadata": {
        "id": "7dloaJK7rGWZ"
      }
    },
    {
      "cell_type": "code",
      "source": [
        "# train_X_case_day[x][y] 를 입력하면 x 케이스의 y번째 날 데이터 프레임을 리턴함\n",
        "train_X_case_day = [[]]\n",
        "\n",
        "for i in range(1,29):\n",
        "    train_X_case_day.append([])\n",
        "    for j in range(1,29):\n",
        "        train_X_case_day[i].append(train_X_case[\"{}\".format(str(i).zfill(2))].iloc[24*(j-1):j*24, :])"
      ],
      "metadata": {
        "id": "tbVG8kWiVrx0"
      },
      "execution_count": 11,
      "outputs": []
    },
    {
      "cell_type": "markdown",
      "source": [
        "### 타겟데이터 전처리\n",
        "test_y를 건드릴 수는 없다."
      ],
      "metadata": {
        "id": "nkQvl7j7rLMq"
      }
    },
    {
      "cell_type": "code",
      "source": [
        "for case in range(1,29):\n",
        "    CASE = str(case).zfill(2)\n",
        "    IGR = []                    # 초기 대비 성장률(initial growth rate): IGR\n",
        "    DOD = []                    # 전날 대비 성장률(day over day growth rate): DOD\n",
        "    for day in range(1, 28):\n",
        "        id = train_y_case[CASE].iloc[0, 1]          # inital day\n",
        "        yd = train_y_case[CASE].iloc[(day-1),1]     # yester day\n",
        "        td = train_y_case[CASE].iloc[day, 1]        # today\n",
        "\n",
        "        IGR.append((td-id)/id*100)\n",
        "        DOD.append((td-yd)/yd*100)\n",
        "\n",
        "    IGR.append(0)\n",
        "    DOD.append(0)\n",
        "\n",
        "    train_y_case[CASE][\"초기 대비 성장률(%)\"] = IGR\n",
        "    train_y_case[CASE][\"전날 대비 성장률(%)\"] = DOD"
      ],
      "metadata": {
        "id": "0i7D_enecDml"
      },
      "execution_count": 12,
      "outputs": []
    },
    {
      "cell_type": "code",
      "source": [
        "train_y_case[\"01\"].head(3)"
      ],
      "metadata": {
        "colab": {
          "base_uri": "https://localhost:8080/",
          "height": 143
        },
        "id": "wvO2kF7edre_",
        "outputId": "107c78b8-a21d-455f-e85e-d90527f4bb86"
      },
      "execution_count": 13,
      "outputs": [
        {
          "output_type": "execute_result",
          "data": {
            "text/plain": [
              "   DAT  predicted_weight_g  초기 대비 성장률(%)  전날 대비 성장률(%)\n",
              "0    1            0.167719      8.387751      8.387751\n",
              "1    2            0.181787     58.551144     46.281423\n",
              "2    3            0.265921    152.594543     59.314235"
            ],
            "text/html": [
              "\n",
              "  <div id=\"df-1b334235-7d00-435e-8430-2c343221021e\">\n",
              "    <div class=\"colab-df-container\">\n",
              "      <div>\n",
              "<style scoped>\n",
              "    .dataframe tbody tr th:only-of-type {\n",
              "        vertical-align: middle;\n",
              "    }\n",
              "\n",
              "    .dataframe tbody tr th {\n",
              "        vertical-align: top;\n",
              "    }\n",
              "\n",
              "    .dataframe thead th {\n",
              "        text-align: right;\n",
              "    }\n",
              "</style>\n",
              "<table border=\"1\" class=\"dataframe\">\n",
              "  <thead>\n",
              "    <tr style=\"text-align: right;\">\n",
              "      <th></th>\n",
              "      <th>DAT</th>\n",
              "      <th>predicted_weight_g</th>\n",
              "      <th>초기 대비 성장률(%)</th>\n",
              "      <th>전날 대비 성장률(%)</th>\n",
              "    </tr>\n",
              "  </thead>\n",
              "  <tbody>\n",
              "    <tr>\n",
              "      <th>0</th>\n",
              "      <td>1</td>\n",
              "      <td>0.167719</td>\n",
              "      <td>8.387751</td>\n",
              "      <td>8.387751</td>\n",
              "    </tr>\n",
              "    <tr>\n",
              "      <th>1</th>\n",
              "      <td>2</td>\n",
              "      <td>0.181787</td>\n",
              "      <td>58.551144</td>\n",
              "      <td>46.281423</td>\n",
              "    </tr>\n",
              "    <tr>\n",
              "      <th>2</th>\n",
              "      <td>3</td>\n",
              "      <td>0.265921</td>\n",
              "      <td>152.594543</td>\n",
              "      <td>59.314235</td>\n",
              "    </tr>\n",
              "  </tbody>\n",
              "</table>\n",
              "</div>\n",
              "      <button class=\"colab-df-convert\" onclick=\"convertToInteractive('df-1b334235-7d00-435e-8430-2c343221021e')\"\n",
              "              title=\"Convert this dataframe to an interactive table.\"\n",
              "              style=\"display:none;\">\n",
              "        \n",
              "  <svg xmlns=\"http://www.w3.org/2000/svg\" height=\"24px\"viewBox=\"0 0 24 24\"\n",
              "       width=\"24px\">\n",
              "    <path d=\"M0 0h24v24H0V0z\" fill=\"none\"/>\n",
              "    <path d=\"M18.56 5.44l.94 2.06.94-2.06 2.06-.94-2.06-.94-.94-2.06-.94 2.06-2.06.94zm-11 1L8.5 8.5l.94-2.06 2.06-.94-2.06-.94L8.5 2.5l-.94 2.06-2.06.94zm10 10l.94 2.06.94-2.06 2.06-.94-2.06-.94-.94-2.06-.94 2.06-2.06.94z\"/><path d=\"M17.41 7.96l-1.37-1.37c-.4-.4-.92-.59-1.43-.59-.52 0-1.04.2-1.43.59L10.3 9.45l-7.72 7.72c-.78.78-.78 2.05 0 2.83L4 21.41c.39.39.9.59 1.41.59.51 0 1.02-.2 1.41-.59l7.78-7.78 2.81-2.81c.8-.78.8-2.07 0-2.86zM5.41 20L4 18.59l7.72-7.72 1.47 1.35L5.41 20z\"/>\n",
              "  </svg>\n",
              "      </button>\n",
              "      \n",
              "  <style>\n",
              "    .colab-df-container {\n",
              "      display:flex;\n",
              "      flex-wrap:wrap;\n",
              "      gap: 12px;\n",
              "    }\n",
              "\n",
              "    .colab-df-convert {\n",
              "      background-color: #E8F0FE;\n",
              "      border: none;\n",
              "      border-radius: 50%;\n",
              "      cursor: pointer;\n",
              "      display: none;\n",
              "      fill: #1967D2;\n",
              "      height: 32px;\n",
              "      padding: 0 0 0 0;\n",
              "      width: 32px;\n",
              "    }\n",
              "\n",
              "    .colab-df-convert:hover {\n",
              "      background-color: #E2EBFA;\n",
              "      box-shadow: 0px 1px 2px rgba(60, 64, 67, 0.3), 0px 1px 3px 1px rgba(60, 64, 67, 0.15);\n",
              "      fill: #174EA6;\n",
              "    }\n",
              "\n",
              "    [theme=dark] .colab-df-convert {\n",
              "      background-color: #3B4455;\n",
              "      fill: #D2E3FC;\n",
              "    }\n",
              "\n",
              "    [theme=dark] .colab-df-convert:hover {\n",
              "      background-color: #434B5C;\n",
              "      box-shadow: 0px 1px 3px 1px rgba(0, 0, 0, 0.15);\n",
              "      filter: drop-shadow(0px 1px 2px rgba(0, 0, 0, 0.3));\n",
              "      fill: #FFFFFF;\n",
              "    }\n",
              "  </style>\n",
              "\n",
              "      <script>\n",
              "        const buttonEl =\n",
              "          document.querySelector('#df-1b334235-7d00-435e-8430-2c343221021e button.colab-df-convert');\n",
              "        buttonEl.style.display =\n",
              "          google.colab.kernel.accessAllowed ? 'block' : 'none';\n",
              "\n",
              "        async function convertToInteractive(key) {\n",
              "          const element = document.querySelector('#df-1b334235-7d00-435e-8430-2c343221021e');\n",
              "          const dataTable =\n",
              "            await google.colab.kernel.invokeFunction('convertToInteractive',\n",
              "                                                     [key], {});\n",
              "          if (!dataTable) return;\n",
              "\n",
              "          const docLinkHtml = 'Like what you see? Visit the ' +\n",
              "            '<a target=\"_blank\" href=https://colab.research.google.com/notebooks/data_table.ipynb>data table notebook</a>'\n",
              "            + ' to learn more about interactive tables.';\n",
              "          element.innerHTML = '';\n",
              "          dataTable['output_type'] = 'display_data';\n",
              "          await google.colab.output.renderOutput(dataTable, element);\n",
              "          const docLink = document.createElement('div');\n",
              "          docLink.innerHTML = docLinkHtml;\n",
              "          element.appendChild(docLink);\n",
              "        }\n",
              "      </script>\n",
              "    </div>\n",
              "  </div>\n",
              "  "
            ]
          },
          "metadata": {},
          "execution_count": 13
        }
      ]
    },
    {
      "cell_type": "markdown",
      "source": [
        "### 상관관계 보기"
      ],
      "metadata": {
        "id": "JjEyB7zLrO4N"
      }
    },
    {
      "cell_type": "code",
      "source": [
        "plt.rcParams['font.family'] = 'NanumGothic'"
      ],
      "metadata": {
        "id": "2IrkIjmznrd3"
      },
      "execution_count": 14,
      "outputs": []
    },
    {
      "cell_type": "code",
      "source": [
        "sns.set(font=\"NanumGothic\",rc = {'figure.figsize':(15,8)})\n",
        "\n",
        "sns.heatmap(train_X_case[\"01\"].drop(([\"DAT\", \"obs_time\"]), axis=1).corr())"
      ],
      "metadata": {
        "colab": {
          "base_uri": "https://localhost:8080/",
          "height": 650
        },
        "id": "K6V90JsSlC1h",
        "outputId": "cd8d3dcf-3079-4d8c-e508-61520af23db4"
      },
      "execution_count": 15,
      "outputs": [
        {
          "output_type": "stream",
          "name": "stderr",
          "text": [
            "/usr/local/lib/python3.8/dist-packages/matplotlib/backends/backend_agg.py:214: RuntimeWarning: Glyph 8722 missing from current font.\n",
            "  font.set_text(s, 0.0, flags=flags)\n",
            "/usr/local/lib/python3.8/dist-packages/matplotlib/backends/backend_agg.py:183: RuntimeWarning: Glyph 8722 missing from current font.\n",
            "  font.set_text(s, 0, flags=flags)\n"
          ]
        },
        {
          "output_type": "execute_result",
          "data": {
            "text/plain": [
              "<matplotlib.axes._subplots.AxesSubplot at 0x7ff5419505e0>"
            ]
          },
          "metadata": {},
          "execution_count": 15
        },
        {
          "output_type": "display_data",
          "data": {
            "text/plain": [
              "<Figure size 1080x576 with 2 Axes>"
            ],
            "image/png": "[encoded data removed]"
          },
          "metadata": {}
        }
      ]
    },
    {
      "cell_type": "markdown",
      "source": [
        "상관관계에서 뭔가를 얻지는 못했다. \n",
        "\n",
        "상관관계 표에 아예 색칠되지 않은 부분은 통제변인으로써 작용하는 듯 하다."
      ],
      "metadata": {
        "id": "sVn9SPVZqiTV"
      }
    },
    {
      "cell_type": "markdown",
      "source": [
        "### null 값 처리\n",
        "\n",
        "null 값이 없다."
      ],
      "metadata": {
        "id": "UC3HQSGln4O8"
      }
    },
    {
      "cell_type": "code",
      "source": [
        "for i in range(1, 29):\n",
        "    CASE = str(i).zfill(2)\n",
        "    for _ in train_X_case[CASE].isnull().sum():\n",
        "        if _ == True:\n",
        "            print(_)"
      ],
      "metadata": {
        "id": "qTGWhVeBtaQ1"
      },
      "execution_count": 16,
      "outputs": []
    },
    {
      "cell_type": "markdown",
      "source": [
        "### 노이즈값 처리\n",
        "\n",
        "- 시간당 내부 평균온도: 4도~40도\n",
        "- 시간당 내부 평균습도: 0% ~ 100%\n",
        "- 시간당 내부 평균 co2 농도 : 0ppm ~ 1200 ppm\n",
        "- 시간당 평균 EC : 0 ~ 8\n",
        "- 시간당 분무량 : 0 ~ 3000 / 일간 누적 분무량 0 ~ 72,000\n",
        "- 시간당 백색광량 : 0 ~ 120,000 / 일간 누적 백색광량 0 ~ 2,880,000\n",
        "- 시간당 적색광량 : 0 ~ 120,000 / 일간 누적 적색광량 0 ~ 2,880,000 \n",
        "- 시간당 청색광량 : 0 ~ 120,000 / 일간 누적 청색광량 0 ~ 2,880,000\n",
        "- 시간당 총광량 : 0 ~ 120,000 / 일간 누적 총광량 0 ~ 2,880,000\n",
        "\n",
        "\n"
      ],
      "metadata": {
        "id": "Mu2lbGjqtzHz"
      }
    },
    {
      "cell_type": "code",
      "source": [
        "col = train_X_case[\"01\"].columns\n",
        "col"
      ],
      "metadata": {
        "colab": {
          "base_uri": "https://localhost:8080/"
        },
        "id": "DVtJ02ZO55Pv",
        "outputId": "7e7acd2d-770d-475d-a222-c6b1cbf960c6"
      },
      "execution_count": 17,
      "outputs": [
        {
          "output_type": "execute_result",
          "data": {
            "text/plain": [
              "Index(['DAT', 'obs_time', '내부온도관측치', '내부습도관측치', 'co2관측치', 'ec관측치', '시간당분무량',\n",
              "       '일간누적분무량', '시간당백색광량', '일간누적백색광량', '시간당적색광량', '일간누적적색광량', '시간당청색광량',\n",
              "       '일간누적청색광량', '시간당총광량', '일간누적총광량'],\n",
              "      dtype='object')"
            ]
          },
          "metadata": {},
          "execution_count": 17
        }
      ]
    },
    {
      "cell_type": "code",
      "source": [
        "control_variable = pd.DataFrame()\n",
        "\n",
        "noise = [[]]\n",
        "\n",
        "for i in range(1, 29):\n",
        "    noise.append([])\n",
        "    CASE = str(i).zfill(2)\n",
        "\n",
        "    # 내부 온도 관측치 \n",
        "    noise[i].append(train_X_case[CASE][train_X_case[CASE][col[2]]<4].index)    \n",
        "    noise[i].append(train_X_case[CASE][train_X_case[CASE][col[2]]>40].index)   \n",
        "\n",
        "    # 내부습도 관측치\n",
        "    noise[i].append(train_X_case[CASE][train_X_case[CASE][col[3]]<=0].index)    \n",
        "    noise[i].append(train_X_case[CASE][train_X_case[CASE][col[3]]>100].index)   \n",
        "\n",
        "    # co2 관측치\n",
        "    noise[i].append(train_X_case[CASE][train_X_case[CASE][col[4]]<=0].index)    \n",
        "    noise[i].append(train_X_case[CASE][train_X_case[CASE][col[4]]>1200].index)   \n",
        "\n",
        "    # ec 관측치\n",
        "    noise[i].append(train_X_case[CASE][train_X_case[CASE][col[5]]<0].index)    \n",
        "    noise[i].append(train_X_case[CASE][train_X_case[CASE][col[5]]>8].index)   \n",
        "\n",
        "    # 시간당 분무량\n",
        "    noise[i].append(train_X_case[CASE][train_X_case[CASE][col[6]]<0].index)    \n",
        "    noise[i].append(train_X_case[CASE][train_X_case[CASE][col[6]]>3000].index)   \n",
        "\n",
        "    # 누적 분무량\n",
        "    noise[i].append(train_X_case[CASE][train_X_case[CASE][col[7]]<0].index)    \n",
        "    noise[i].append(train_X_case[CASE][train_X_case[CASE][col[7]]>72000].index)   \n",
        "\n",
        "    # 시간당 백색광량\n",
        "    noise[i].append(train_X_case[CASE][train_X_case[CASE][col[8]]<0].index)    \n",
        "    noise[i].append(train_X_case[CASE][train_X_case[CASE][col[8]]>120000].index)   \n",
        "\n",
        "    # 일간 누적 백색광량\n",
        "    noise[i].append(train_X_case[CASE][train_X_case[CASE][col[9]]<0].index)    \n",
        "    noise[i].append(train_X_case[CASE][train_X_case[CASE][col[9]]> 2880000].index)   \n",
        "\n",
        "    # 시간당 적색광량\n",
        "    noise[i].append(train_X_case[CASE][train_X_case[CASE][col[10]]<0].index)    \n",
        "    noise[i].append(train_X_case[CASE][train_X_case[CASE][col[10]]>120000].index)   \n",
        "\n",
        "    # 일간 누적 적색광량\n",
        "    noise[i].append(train_X_case[CASE][train_X_case[CASE][col[11]]<0].index)    \n",
        "    noise[i].append(train_X_case[CASE][train_X_case[CASE][col[11]]>2880000].index)   \n",
        "\n",
        "    # 시간당 청색광량\n",
        "    noise[i].append(train_X_case[CASE][train_X_case[CASE][col[12]]<0].index)    \n",
        "    noise[i].append(train_X_case[CASE][train_X_case[CASE][col[12]]>120000].index)   \n",
        "\n",
        "    # 일간 누적 청색광량\n",
        "    noise[i].append(train_X_case[CASE][train_X_case[CASE][col[13]]<0].index)    \n",
        "    noise[i].append(train_X_case[CASE][train_X_case[CASE][col[13]]>2880000].index)   \n",
        "\n",
        "    # 시간당 총광량\n",
        "    noise[i].append(train_X_case[CASE][train_X_case[CASE][col[14]]<0].index)    \n",
        "    noise[i].append(train_X_case[CASE][train_X_case[CASE][col[14]]>120000].index)   \n",
        "\n",
        "    # 일간 누적 총광량\n",
        "    noise[i].append(train_X_case[CASE][train_X_case[CASE][col[15]]<0].index)    \n",
        "    noise[i].append(train_X_case[CASE][train_X_case[CASE][col[15]]>2880000].index)   \n",
        "\n",
        "    # # 중복값 제거\n",
        "    # noise[i] = list(set(noise[i]))"
      ],
      "metadata": {
        "id": "hoUPUcK9x8mu"
      },
      "execution_count": 18,
      "outputs": []
    },
    {
      "cell_type": "code",
      "source": [
        "for i in range(1, 29):\n",
        "    for j in range(28):\n",
        "        if len(noise[i][j]) != 0 and len(noise[i][j])<100:\n",
        "            print(\"case{} {}\".format(i, col[j//2+2]))\n",
        "            print(noise[i][j], \"\\n\")"
      ],
      "metadata": {
        "colab": {
          "base_uri": "https://localhost:8080/"
        },
        "id": "5rhoXnHQ1Hz7",
        "outputId": "77a8ca3a-0a9a-4a3c-d737-c69cf4c48656"
      },
      "execution_count": 19,
      "outputs": [
        {
          "output_type": "stream",
          "name": "stdout",
          "text": [
            "case1 co2관측치\n",
            "Int64Index([639, 640, 641, 642], dtype='int64') \n",
            "\n",
            "case3 co2관측치\n",
            "Int64Index([ 12,  15,  16,  17,  18,  19,  20,  36,  39,  40,  41,  42,  43,\n",
            "             44,  60,  61,  62,  63,  64,  65,  66,  67,  68,  69, 159, 160,\n",
            "            161, 162, 180, 181, 182, 183, 184, 185, 186, 187, 188, 204, 205,\n",
            "            206, 207, 208, 209, 210, 211, 212, 229, 230, 231, 232, 233, 234,\n",
            "            235, 236, 237, 252, 253, 254, 255, 256, 257, 258, 259, 260, 325,\n",
            "            326, 327, 328, 329, 330, 331, 332, 333, 334, 350, 351, 352, 353,\n",
            "            354, 355, 356, 395, 396, 397, 400, 401, 402, 403, 404, 662, 663,\n",
            "            664, 665, 666, 667, 668],\n",
            "           dtype='int64') \n",
            "\n",
            "case4 내부온도관측치\n",
            "Int64Index([15], dtype='int64') \n",
            "\n",
            "case4 내부습도관측치\n",
            "Int64Index([15], dtype='int64') \n",
            "\n",
            "case4 co2관측치\n",
            "Int64Index([549], dtype='int64') \n",
            "\n",
            "case6 시간당백색광량\n",
            "Int64Index([15], dtype='int64') \n",
            "\n",
            "case6 시간당적색광량\n",
            "Int64Index([15], dtype='int64') \n",
            "\n",
            "case6 시간당청색광량\n",
            "Int64Index([15], dtype='int64') \n",
            "\n",
            "case6 시간당총광량\n",
            "Int64Index([15], dtype='int64') \n",
            "\n",
            "case8 내부온도관측치\n",
            "Int64Index([135, 136], dtype='int64') \n",
            "\n",
            "case13 시간당분무량\n",
            "Int64Index([601, 649], dtype='int64') \n",
            "\n",
            "case13 시간당분무량\n",
            "Int64Index([524], dtype='int64') \n",
            "\n",
            "case26 내부온도관측치\n",
            "Int64Index([52, 53, 54, 55, 56, 368, 408, 409, 410, 411], dtype='int64') \n",
            "\n",
            "case27 co2관측치\n",
            "Int64Index([549], dtype='int64') \n",
            "\n"
          ]
        }
      ]
    },
    {
      "cell_type": "markdown",
      "source": [
        "일단 값이 틀린 칼럼과 인덱스는 찾았으니, 대입할 값은 나중에 처리해보자."
      ],
      "metadata": {
        "id": "cMUr_8Ak6YnT"
      }
    },
    {
      "cell_type": "markdown",
      "source": [
        "#### co2 관측치"
      ],
      "metadata": {
        "id": "KPhFUb6lHerD"
      }
    },
    {
      "cell_type": "code",
      "source": [
        "# case 1 co2관측치\n",
        "train_X_case[\"01\"].loc[[637,638, 639, 640, 641, 642, 643, 644], \"co2관측치\"]"
      ],
      "metadata": {
        "colab": {
          "base_uri": "https://localhost:8080/"
        },
        "id": "c4WVacv3-Tcp",
        "outputId": "ece7fafa-e1ae-486f-dc4c-e3abd955a92b"
      },
      "execution_count": 20,
      "outputs": [
        {
          "output_type": "execute_result",
          "data": {
            "text/plain": [
              "637     682.600000\n",
              "638     997.916667\n",
              "639    1225.066667\n",
              "640    1220.583333\n",
              "641    1217.500000\n",
              "642    1264.366667\n",
              "643    1077.850000\n",
              "644    1043.066667\n",
              "Name: co2관측치, dtype: float64"
            ]
          },
          "metadata": {},
          "execution_count": 20
        }
      ]
    },
    {
      "cell_type": "code",
      "source": [
        "# case 3 co2관측치\n",
        "train_X_case[\"03\"].loc[[ 12,  15,  16,  17,  18,  19,  20,  36,  39,  40,  41,  42,  43,\n",
        "             44,  60,  61,  62,  63,  64,  65,  66,  67,  68,  69, 159, 160,\n",
        "            161, 162, 180, 181, 182, 183, 184, 185, 186, 187, 188, 204, 205,\n",
        "            206, 207, 208, 209, 210, 211, 212, 229, 230, 231, 232, 233, 234,\n",
        "            235, 236, 237, 252, 253, 254, 255, 256, 257, 258, 259, 260, 325,\n",
        "            326, 327, 328, 329, 330, 331, 332, 333, 334, 350, 351, 352, 353,\n",
        "            354, 355, 356, 395, 396, 397, 400, 401, 402, 403, 404, 662, 663,\n",
        "            664, 665, 666, 667, 668], \"co2관측치\"]"
      ],
      "metadata": {
        "colab": {
          "base_uri": "https://localhost:8080/"
        },
        "id": "vh2pz0Qa80Wh",
        "outputId": "de7c7e54-6ed2-4775-8dc9-34f6896aeee0"
      },
      "execution_count": 21,
      "outputs": [
        {
          "output_type": "execute_result",
          "data": {
            "text/plain": [
              "12     1219.633333\n",
              "15     1260.616667\n",
              "16     1261.050000\n",
              "17     1253.816667\n",
              "18     1343.500000\n",
              "          ...     \n",
              "664    1252.683333\n",
              "665    1263.350000\n",
              "666    1358.550000\n",
              "667    1360.933333\n",
              "668    1232.433333\n",
              "Name: co2관측치, Length: 96, dtype: float64"
            ]
          },
          "metadata": {},
          "execution_count": 21
        }
      ]
    },
    {
      "cell_type": "code",
      "source": [
        "# 케이스4 co2 관측치\n",
        "train_X_case[\"04\"].loc[[548, 549, 550], \"co2관측치\"]"
      ],
      "metadata": {
        "colab": {
          "base_uri": "https://localhost:8080/"
        },
        "id": "5CAjbX_T_wAk",
        "outputId": "cea6c6ce-06bd-4888-cf99-f14d7cf88f5d"
      },
      "execution_count": 22,
      "outputs": [
        {
          "output_type": "execute_result",
          "data": {
            "text/plain": [
              "548    1034.866667\n",
              "549    1311.500000\n",
              "550     953.683333\n",
              "Name: co2관측치, dtype: float64"
            ]
          },
          "metadata": {},
          "execution_count": 22
        }
      ]
    },
    {
      "cell_type": "code",
      "source": [
        "# case 27 co2 관측치\n",
        "train_X_case[\"27\"].loc[[548,549,550], \"co2관측치\"]"
      ],
      "metadata": {
        "colab": {
          "base_uri": "https://localhost:8080/"
        },
        "id": "DmZ5fO3gALtd",
        "outputId": "3aaddf0c-4976-4851-e4aa-3d895190395f"
      },
      "execution_count": 23,
      "outputs": [
        {
          "output_type": "execute_result",
          "data": {
            "text/plain": [
              "548    1074.100000\n",
              "549    1355.116667\n",
              "550    1058.033333\n",
              "Name: co2관측치, dtype: float64"
            ]
          },
          "metadata": {},
          "execution_count": 23
        }
      ]
    },
    {
      "cell_type": "markdown",
      "source": [
        "**이 정도 co2관측량 오차는 수용될 수 있는 부분인 것 같다. 허용범위 내에 값이 아니더라도 물리적으로 가능한 값이기 때문에 그냥 넣겠다.**"
      ],
      "metadata": {
        "id": "ZeYXxrvo-HUo"
      }
    },
    {
      "cell_type": "markdown",
      "source": [
        "#### 내부온도관측치"
      ],
      "metadata": {
        "id": "WNO9C-zjHhXK"
      }
    },
    {
      "cell_type": "code",
      "source": [
        "# case 4\n",
        "train_X_case[\"04\"].loc[[14,15,16], \"내부온도관측치\"]"
      ],
      "metadata": {
        "colab": {
          "base_uri": "https://localhost:8080/"
        },
        "id": "wiZsLX5u-8Ys",
        "outputId": "f9a4222b-c7bf-4912-aac0-50efd60071fa"
      },
      "execution_count": 24,
      "outputs": [
        {
          "output_type": "execute_result",
          "data": {
            "text/plain": [
              "14     6.921053\n",
              "15     0.000000\n",
              "16    16.516215\n",
              "Name: 내부온도관측치, dtype: float64"
            ]
          },
          "metadata": {},
          "execution_count": 24
        }
      ]
    },
    {
      "cell_type": "markdown",
      "source": [
        "온도가 0도 인것은 말이 안되므로, 앞과 뒤 온도의 평균을 넣어주겠다."
      ],
      "metadata": {
        "id": "p8ihSFwL_Liz"
      }
    },
    {
      "cell_type": "code",
      "source": [
        "train_X_case[\"04\"].loc[[15], \"내부온도관측치\"] = (6.921053+16.516215)/2"
      ],
      "metadata": {
        "id": "thba_PNN_TYz"
      },
      "execution_count": 25,
      "outputs": []
    },
    {
      "cell_type": "code",
      "source": [
        "# case 8\n",
        "train_X_case[\"08\"].loc[[134,135,136,137], \"내부온도관측치\"]"
      ],
      "metadata": {
        "colab": {
          "base_uri": "https://localhost:8080/"
        },
        "id": "RLyBjdrPBrRr",
        "outputId": "9ab37fc1-cd98-4088-d642-0775a34e5007"
      },
      "execution_count": 26,
      "outputs": [
        {
          "output_type": "execute_result",
          "data": {
            "text/plain": [
              "134    39.278333\n",
              "135    40.033333\n",
              "136    40.363333\n",
              "137    38.435000\n",
              "Name: 내부온도관측치, dtype: float64"
            ]
          },
          "metadata": {},
          "execution_count": 26
        }
      ]
    },
    {
      "cell_type": "markdown",
      "source": [
        "추세를 봤을 때, 큰 오차는 아니므로 그냥 유지하겠다."
      ],
      "metadata": {
        "id": "QxbkwMEXB4XF"
      }
    },
    {
      "cell_type": "code",
      "source": [
        "# case 26\n",
        "train_X_case[\"26\"].loc[[51, 52, 53, 54, 55, 56, 368, 408, 409, 410, 411], \"내부온도관측치\"]"
      ],
      "metadata": {
        "colab": {
          "base_uri": "https://localhost:8080/"
        },
        "id": "KS9z6JN7IEqH",
        "outputId": "29966680-2f1d-460f-b478-7a2ab27789a5"
      },
      "execution_count": 27,
      "outputs": [
        {
          "output_type": "execute_result",
          "data": {
            "text/plain": [
              "51     39.935001\n",
              "52     40.713333\n",
              "53     40.293333\n",
              "54     40.428333\n",
              "55     41.216666\n",
              "56     42.643334\n",
              "368    40.611667\n",
              "408    40.143333\n",
              "409    40.109999\n",
              "410    40.415001\n",
              "411    40.101667\n",
              "Name: 내부온도관측치, dtype: float64"
            ]
          },
          "metadata": {},
          "execution_count": 27
        }
      ]
    },
    {
      "cell_type": "markdown",
      "source": [
        "추세를 봤을 때, 큰 오차는 아니므로 그냥 유지하겠다."
      ],
      "metadata": {
        "id": "HnzNK0y-IWjy"
      }
    },
    {
      "cell_type": "markdown",
      "source": [
        "#### ec관측치"
      ],
      "metadata": {
        "id": "thGqUYjoIg8J"
      }
    },
    {
      "cell_type": "code",
      "source": [
        "# case1\n",
        "train_X_case[\"01\"].loc[[64,643,644,645, 646, 647, 648, 649, 650, 651, 652, 653, 655, 656, 657, 658, 659,\n",
        "            660, 661, 662, 663, 664, 665, 666, 667, 668, 669, 670, 671], \"ec관측치\"]"
      ],
      "metadata": {
        "colab": {
          "base_uri": "https://localhost:8080/"
        },
        "id": "prZhbMHqIjWI",
        "outputId": "abe11b7b-e07c-4b12-f694-dc753a9eb315"
      },
      "execution_count": 28,
      "outputs": [
        {
          "output_type": "execute_result",
          "data": {
            "text/plain": [
              "64     1.398022\n",
              "643    0.039426\n",
              "644    0.012940\n",
              "645    0.018853\n",
              "646    0.000000\n",
              "647    0.000000\n",
              "648    0.000000\n",
              "649    0.000000\n",
              "650    0.000000\n",
              "651    0.000000\n",
              "652    0.000000\n",
              "653    0.000000\n",
              "655    0.000000\n",
              "656    0.000000\n",
              "657    0.000000\n",
              "658    0.000000\n",
              "659    0.000000\n",
              "660    0.000000\n",
              "661    0.000000\n",
              "662    0.000000\n",
              "663    0.000000\n",
              "664    0.000000\n",
              "665    0.000000\n",
              "666    0.000000\n",
              "667    0.000000\n",
              "668    0.000000\n",
              "669    0.000000\n",
              "670    0.000000\n",
              "671    0.000000\n",
              "Name: ec관측치, dtype: float64"
            ]
          },
          "metadata": {},
          "execution_count": 28
        }
      ]
    },
    {
      "cell_type": "markdown",
      "source": [
        "실험의 마지막 즈음에 추세를 고려해서 ec관측치가 낮게 나타날 수는 있을 것 같다."
      ],
      "metadata": {
        "id": "kk76ju3YJJrt"
      }
    },
    {
      "cell_type": "code",
      "source": [
        "# case 3\n",
        "train_X_case[\"05\"].loc[[39,  40,  41,  42,  43,  44,  45, 245, 246, 247, 271, 272, 273,\n",
        "            302, 303, 321, 322, 337, 338, 339, 340, 353, 354, 355, 356, 367,\n",
        "            368, 369, 370, 377, 378, 379, 396, 397, 405, 406, 407, 408, 409,\n",
        "            425, 426, 427, 428, 429, 440, 452, 453, 454, 455, 456, 457, 466,\n",
        "            467, 473, 474, 475, 483, 484, 485, 486, 487, 488, 581], \"ec관측치\"]"
      ],
      "metadata": {
        "colab": {
          "base_uri": "https://localhost:8080/"
        },
        "id": "GewMjCO8IjSc",
        "outputId": "e32d11a9-0660-4708-f7c1-19e14f2e807a"
      },
      "execution_count": 29,
      "outputs": [
        {
          "output_type": "execute_result",
          "data": {
            "text/plain": [
              "39     0.0\n",
              "40     0.0\n",
              "41     0.0\n",
              "42     0.0\n",
              "43     0.0\n",
              "      ... \n",
              "485    0.0\n",
              "486    0.0\n",
              "487    0.0\n",
              "488    0.0\n",
              "581    0.0\n",
              "Name: ec관측치, Length: 63, dtype: float64"
            ]
          },
          "metadata": {},
          "execution_count": 29
        }
      ]
    },
    {
      "cell_type": "markdown",
      "source": [
        "ec관측치가 0인 것이 의심스러워서 따로 살펴봤으나, 의도된 것인 것 같다. 나머지는 살펴보지 않아도 될 듯하다."
      ],
      "metadata": {
        "id": "5mlSU2L5IjPI"
      }
    },
    {
      "cell_type": "markdown",
      "source": [
        "#### 광량"
      ],
      "metadata": {
        "id": "dKvBNYEKHmY3"
      }
    },
    {
      "cell_type": "code",
      "source": [
        "train_X_case[\"06\"].loc[[14, 15, 16], [\"시간당백색광량\", \"시간당적색광량\", \"시간당청색광량\", \"시간당총광량\"]]"
      ],
      "metadata": {
        "colab": {
          "base_uri": "https://localhost:8080/",
          "height": 143
        },
        "id": "4UQDU8WJAcMI",
        "outputId": "742e97ed-dc1a-4c1b-a14c-0b6035231ad5"
      },
      "execution_count": 30,
      "outputs": [
        {
          "output_type": "execute_result",
          "data": {
            "text/plain": [
              "        시간당백색광량    시간당적색광량     시간당청색광량       시간당총광량\n",
              "14   18255.1900  1659.7644   3419.6695   23334.6239\n",
              "15 -138371.2461 -8793.6072 -18570.8575 -165735.7108\n",
              "16   17744.6635  2128.0728   3223.8570   23096.5933"
            ],
            "text/html": [
              "\n",
              "  <div id=\"df-88060bf2-7e14-433f-b68b-8d14f4814854\">\n",
              "    <div class=\"colab-df-container\">\n",
              "      <div>\n",
              "<style scoped>\n",
              "    .dataframe tbody tr th:only-of-type {\n",
              "        vertical-align: middle;\n",
              "    }\n",
              "\n",
              "    .dataframe tbody tr th {\n",
              "        vertical-align: top;\n",
              "    }\n",
              "\n",
              "    .dataframe thead th {\n",
              "        text-align: right;\n",
              "    }\n",
              "</style>\n",
              "<table border=\"1\" class=\"dataframe\">\n",
              "  <thead>\n",
              "    <tr style=\"text-align: right;\">\n",
              "      <th></th>\n",
              "      <th>시간당백색광량</th>\n",
              "      <th>시간당적색광량</th>\n",
              "      <th>시간당청색광량</th>\n",
              "      <th>시간당총광량</th>\n",
              "    </tr>\n",
              "  </thead>\n",
              "  <tbody>\n",
              "    <tr>\n",
              "      <th>14</th>\n",
              "      <td>18255.1900</td>\n",
              "      <td>1659.7644</td>\n",
              "      <td>3419.6695</td>\n",
              "      <td>23334.6239</td>\n",
              "    </tr>\n",
              "    <tr>\n",
              "      <th>15</th>\n",
              "      <td>-138371.2461</td>\n",
              "      <td>-8793.6072</td>\n",
              "      <td>-18570.8575</td>\n",
              "      <td>-165735.7108</td>\n",
              "    </tr>\n",
              "    <tr>\n",
              "      <th>16</th>\n",
              "      <td>17744.6635</td>\n",
              "      <td>2128.0728</td>\n",
              "      <td>3223.8570</td>\n",
              "      <td>23096.5933</td>\n",
              "    </tr>\n",
              "  </tbody>\n",
              "</table>\n",
              "</div>\n",
              "      <button class=\"colab-df-convert\" onclick=\"convertToInteractive('df-88060bf2-7e14-433f-b68b-8d14f4814854')\"\n",
              "              title=\"Convert this dataframe to an interactive table.\"\n",
              "              style=\"display:none;\">\n",
              "        \n",
              "  <svg xmlns=\"http://www.w3.org/2000/svg\" height=\"24px\"viewBox=\"0 0 24 24\"\n",
              "       width=\"24px\">\n",
              "    <path d=\"M0 0h24v24H0V0z\" fill=\"none\"/>\n",
              "    <path d=\"M18.56 5.44l.94 2.06.94-2.06 2.06-.94-2.06-.94-.94-2.06-.94 2.06-2.06.94zm-11 1L8.5 8.5l.94-2.06 2.06-.94-2.06-.94L8.5 2.5l-.94 2.06-2.06.94zm10 10l.94 2.06.94-2.06 2.06-.94-2.06-.94-.94-2.06-.94 2.06-2.06.94z\"/><path d=\"M17.41 7.96l-1.37-1.37c-.4-.4-.92-.59-1.43-.59-.52 0-1.04.2-1.43.59L10.3 9.45l-7.72 7.72c-.78.78-.78 2.05 0 2.83L4 21.41c.39.39.9.59 1.41.59.51 0 1.02-.2 1.41-.59l7.78-7.78 2.81-2.81c.8-.78.8-2.07 0-2.86zM5.41 20L4 18.59l7.72-7.72 1.47 1.35L5.41 20z\"/>\n",
              "  </svg>\n",
              "      </button>\n",
              "      \n",
              "  <style>\n",
              "    .colab-df-container {\n",
              "      display:flex;\n",
              "      flex-wrap:wrap;\n",
              "      gap: 12px;\n",
              "    }\n",
              "\n",
              "    .colab-df-convert {\n",
              "      background-color: #E8F0FE;\n",
              "      border: none;\n",
              "      border-radius: 50%;\n",
              "      cursor: pointer;\n",
              "      display: none;\n",
              "      fill: #1967D2;\n",
              "      height: 32px;\n",
              "      padding: 0 0 0 0;\n",
              "      width: 32px;\n",
              "    }\n",
              "\n",
              "    .colab-df-convert:hover {\n",
              "      background-color: #E2EBFA;\n",
              "      box-shadow: 0px 1px 2px rgba(60, 64, 67, 0.3), 0px 1px 3px 1px rgba(60, 64, 67, 0.15);\n",
              "      fill: #174EA6;\n",
              "    }\n",
              "\n",
              "    [theme=dark] .colab-df-convert {\n",
              "      background-color: #3B4455;\n",
              "      fill: #D2E3FC;\n",
              "    }\n",
              "\n",
              "    [theme=dark] .colab-df-convert:hover {\n",
              "      background-color: #434B5C;\n",
              "      box-shadow: 0px 1px 3px 1px rgba(0, 0, 0, 0.15);\n",
              "      filter: drop-shadow(0px 1px 2px rgba(0, 0, 0, 0.3));\n",
              "      fill: #FFFFFF;\n",
              "    }\n",
              "  </style>\n",
              "\n",
              "      <script>\n",
              "        const buttonEl =\n",
              "          document.querySelector('#df-88060bf2-7e14-433f-b68b-8d14f4814854 button.colab-df-convert');\n",
              "        buttonEl.style.display =\n",
              "          google.colab.kernel.accessAllowed ? 'block' : 'none';\n",
              "\n",
              "        async function convertToInteractive(key) {\n",
              "          const element = document.querySelector('#df-88060bf2-7e14-433f-b68b-8d14f4814854');\n",
              "          const dataTable =\n",
              "            await google.colab.kernel.invokeFunction('convertToInteractive',\n",
              "                                                     [key], {});\n",
              "          if (!dataTable) return;\n",
              "\n",
              "          const docLinkHtml = 'Like what you see? Visit the ' +\n",
              "            '<a target=\"_blank\" href=https://colab.research.google.com/notebooks/data_table.ipynb>data table notebook</a>'\n",
              "            + ' to learn more about interactive tables.';\n",
              "          element.innerHTML = '';\n",
              "          dataTable['output_type'] = 'display_data';\n",
              "          await google.colab.output.renderOutput(dataTable, element);\n",
              "          const docLink = document.createElement('div');\n",
              "          docLink.innerHTML = docLinkHtml;\n",
              "          element.appendChild(docLink);\n",
              "        }\n",
              "      </script>\n",
              "    </div>\n",
              "  </div>\n",
              "  "
            ]
          },
          "metadata": {},
          "execution_count": 30
        }
      ]
    },
    {
      "cell_type": "markdown",
      "source": [
        "15번째 인덱스의 음수컬럼은 말이 안되기 때문에 이전과 이후의 평균값을 넣어주겠다."
      ],
      "metadata": {
        "id": "Jf2S2ekoAuV8"
      }
    },
    {
      "cell_type": "code",
      "source": [
        "insert_value = (np.array([18255.1900,1659.7644,3419.6695,23334.6239]) + np.array([17744.6635,2128.0728,3223.8570,23096.5933]))/2"
      ],
      "metadata": {
        "id": "CR3lbmW4BRkw"
      },
      "execution_count": 31,
      "outputs": []
    },
    {
      "cell_type": "code",
      "source": [
        "train_X_case[\"06\"].loc[[15], [\"시간당백색광량\", \"시간당적색광량\", \"시간당청색광량\", \"시간당총광량\"]] = insert_value"
      ],
      "metadata": {
        "id": "nz4LFj6YA1Ja"
      },
      "execution_count": 32,
      "outputs": []
    },
    {
      "cell_type": "markdown",
      "source": [
        "#### 시간당 분무량"
      ],
      "metadata": {
        "id": "Lln4BUw4K37U"
      }
    },
    {
      "cell_type": "code",
      "source": [
        "# case 13\n",
        "train_X_case[\"13\"].loc[[523,524,525,600,601,602,648,649,650], \"시간당분무량\"]"
      ],
      "metadata": {
        "colab": {
          "base_uri": "https://localhost:8080/"
        },
        "id": "sGaCE1aTB-ML",
        "outputId": "9e92ad52-821e-48a6-8ac1-cd49473ab0cc"
      },
      "execution_count": 33,
      "outputs": [
        {
          "output_type": "execute_result",
          "data": {
            "text/plain": [
              "523    1171.49\n",
              "524    3144.13\n",
              "525     769.00\n",
              "600     537.52\n",
              "601    -537.52\n",
              "602    1415.83\n",
              "648     653.26\n",
              "649    -653.26\n",
              "650    1415.83\n",
              "Name: 시간당분무량, dtype: float64"
            ]
          },
          "metadata": {},
          "execution_count": 33
        }
      ]
    },
    {
      "cell_type": "markdown",
      "source": [
        "시간당  분무량도 어느정도 선형적인 값이므로, 이전과 이후의 평균을 넣어주겠다."
      ],
      "metadata": {
        "id": "o3FQZHXvCXzX"
      }
    },
    {
      "cell_type": "code",
      "source": [
        "train_X_case[\"13\"].loc[[524], \"시간당분무량\"] = (1171.49+769)/2\n",
        "train_X_case[\"13\"].loc[[601], \"시간당분무량\"] = (537.52+1415.83)/2\n",
        "train_X_case[\"13\"].loc[[649], \"시간당분무량\"] = (635.26+1415.83)/2"
      ],
      "metadata": {
        "id": "snJBitNmCgkQ"
      },
      "execution_count": 34,
      "outputs": []
    },
    {
      "cell_type": "markdown",
      "source": [
        "#### 내부습도관측치"
      ],
      "metadata": {
        "id": "9IABMSkhLsCQ"
      }
    },
    {
      "cell_type": "code",
      "source": [
        "# case4\n",
        "train_X_case[\"04\"].loc[[14,15,16], \"내부습도관측치\"]"
      ],
      "metadata": {
        "colab": {
          "base_uri": "https://localhost:8080/"
        },
        "id": "qBva1bLYLxNn",
        "outputId": "4d3a38d2-1bff-4bd6-90e7-0a1ced20517a"
      },
      "execution_count": 35,
      "outputs": [
        {
          "output_type": "execute_result",
          "data": {
            "text/plain": [
              "14     9.639473\n",
              "15     0.000000\n",
              "16    32.157695\n",
              "Name: 내부습도관측치, dtype: float64"
            ]
          },
          "metadata": {},
          "execution_count": 35
        }
      ]
    },
    {
      "cell_type": "markdown",
      "source": [
        "이렇게 갑자기 0이되는건 이상하다 생각되기 때문에 이전과 이후의 평균을 채워주겠다."
      ],
      "metadata": {
        "id": "7w3QqkXiL5nJ"
      }
    },
    {
      "cell_type": "code",
      "source": [
        "train_X_case[\"04\"].loc[[14,15,16], \"내부습도관측치\"] = (9.639473+32.157695)/2"
      ],
      "metadata": {
        "id": "37BxoYX3MC9I"
      },
      "execution_count": 36,
      "outputs": []
    },
    {
      "cell_type": "markdown",
      "source": [
        "### 다시 데이터셋을 합치고 나누기\n",
        "noise데이터를 처리했기 때문에 다시 데이터셋을 생성해준다."
      ],
      "metadata": {
        "id": "lT9hxF_4MZPi"
      }
    },
    {
      "cell_type": "markdown",
      "source": [
        "### 다시 데이터셋 합치기 all_X(DataFrame)\n",
        "모든데이터를 합친다."
      ],
      "metadata": {
        "id": "Href82SLMgWy"
      }
    },
    {
      "cell_type": "code",
      "source": [
        "all_X = pd.DataFrame()\n",
        "\n",
        "for i in range(1,29):\n",
        "    CASE = str(i).zfill(2)\n",
        "    all_X = all_X.append(train_X_case[CASE])"
      ],
      "metadata": {
        "id": "aLTJmUL6MgWz"
      },
      "execution_count": 37,
      "outputs": []
    },
    {
      "cell_type": "code",
      "source": [
        "all_X.shape"
      ],
      "metadata": {
        "colab": {
          "base_uri": "https://localhost:8080/"
        },
        "outputId": "da1c96d1-764d-4e7a-d99c-0044c12abb57",
        "id": "1Yq0cJgiMgW0"
      },
      "execution_count": 38,
      "outputs": [
        {
          "output_type": "execute_result",
          "data": {
            "text/plain": [
              "(18816, 16)"
            ]
          },
          "metadata": {},
          "execution_count": 38
        }
      ]
    },
    {
      "cell_type": "markdown",
      "source": [
        "### 다시 데이터셋 나누기 train_X_case_day(list)\n",
        "\n",
        "각 상추의 28일치 데이터를 분리해서 저장한다."
      ],
      "metadata": {
        "id": "sOsS5akhMmKF"
      }
    },
    {
      "cell_type": "code",
      "source": [
        "# train_X_case_day[x][y] 를 입력하면 x 케이스의 y번째 날 데이터 프레임을 리턴함\n",
        "train_X_case_day = [[]]\n",
        "\n",
        "for i in range(1,29):\n",
        "    train_X_case_day.append([])\n",
        "    for j in range(1,29):\n",
        "        train_X_case_day[i].append(train_X_case[\"{}\".format(str(i).zfill(2))].iloc[24*(j-1):j*24, :])"
      ],
      "metadata": {
        "id": "_p8WXHoJMmKG"
      },
      "execution_count": 39,
      "outputs": []
    },
    {
      "cell_type": "markdown",
      "source": [
        "### 이상치 처리\n",
        "all_x.describe() 를 통해서 이상치의 값을 어떻게 처리할지 생각해본다."
      ],
      "metadata": {
        "id": "kDfSclhsE00n"
      }
    },
    {
      "cell_type": "code",
      "source": [
        "all_X.describe()"
      ],
      "metadata": {
        "id": "jN7zEZwCFcpO",
        "colab": {
          "base_uri": "https://localhost:8080/",
          "height": 382
        },
        "outputId": "f1912418-f65f-4ac4-fceb-92d0e1c531c9"
      },
      "execution_count": 40,
      "outputs": [
        {
          "output_type": "execute_result",
          "data": {
            "text/plain": [
              "                DAT       내부온도관측치       내부습도관측치        co2관측치         ec관측치  \\\n",
              "count  18816.000000  18816.000000  18816.000000  18816.000000  18816.000000   \n",
              "mean      13.500000     26.028341     63.936201    498.860695      1.507566   \n",
              "std        8.077962      3.945806     11.652230    120.421248      1.042010   \n",
              "min        0.000000      6.921053     15.348148     60.400000      0.000000   \n",
              "25%        6.750000     23.971250     57.494583    420.245833      0.929581   \n",
              "50%       13.500000     26.291667     62.118333    473.983333      1.308517   \n",
              "75%       20.250000     28.106667     73.157166    551.105952      2.291322   \n",
              "max       27.000000     42.643334     93.350002   1714.850000      5.462324   \n",
              "\n",
              "             시간당분무량       일간누적분무량       시간당백색광량       일간누적백색광량       시간당적색광량  \\\n",
              "count  18816.000000  18816.000000  18816.000000   18816.000000  18816.000000   \n",
              "mean     523.682080   6365.916673   6323.873473   72910.240149   1572.430914   \n",
              "std      543.897317   6903.680044   8120.283264   86040.447105   2936.281308   \n",
              "min        0.000000      0.000000      0.000000       0.000000      0.000000   \n",
              "25%        0.000000   1234.280000      0.000000       0.000000      0.000000   \n",
              "50%      252.000000   3360.485000      0.000000   23205.750000      0.000000   \n",
              "75%      769.000000   9990.570000  18236.625400  145422.700000   1495.939200   \n",
              "max     2951.230000  42855.230000  18564.600000  292014.969800   9928.800000   \n",
              "\n",
              "            일간누적적색광량       시간당청색광량       일간누적청색광량        시간당총광량        일간누적총광량  \n",
              "count   18816.000000  18816.000000   18816.000000  18816.000000   18816.000000  \n",
              "mean    18201.358998   1243.069492   14139.184959   9139.373879  105250.784106  \n",
              "std     34386.384982   2470.253289   27743.227265   9087.008979   97397.224913  \n",
              "min         0.000000      0.000000       0.000000      0.000000       0.000000  \n",
              "25%         0.000000      0.000000       0.000000      0.000000    7280.962850  \n",
              "50%         0.000000      0.000000       0.000000   9242.350000   92172.360000  \n",
              "75%     17529.296400   1306.461000   18484.700000  18255.190000  177491.499450  \n",
              "max    200561.760000   9399.000000  190016.450000  37892.400000  559488.881000  "
            ],
            "text/html": [
              "\n",
              "  <div id=\"df-6679889f-9e66-4bc4-a5dc-b079d6cb6363\">\n",
              "    <div class=\"colab-df-container\">\n",
              "      <div>\n",
              "<style scoped>\n",
              "    .dataframe tbody tr th:only-of-type {\n",
              "        vertical-align: middle;\n",
              "    }\n",
              "\n",
              "    .dataframe tbody tr th {\n",
              "        vertical-align: top;\n",
              "    }\n",
              "\n",
              "    .dataframe thead th {\n",
              "        text-align: right;\n",
              "    }\n",
              "</style>\n",
              "<table border=\"1\" class=\"dataframe\">\n",
              "  <thead>\n",
              "    <tr style=\"text-align: right;\">\n",
              "      <th></th>\n",
              "      <th>DAT</th>\n",
              "      <th>내부온도관측치</th>\n",
              "      <th>내부습도관측치</th>\n",
              "      <th>co2관측치</th>\n",
              "      <th>ec관측치</th>\n",
              "      <th>시간당분무량</th>\n",
              "      <th>일간누적분무량</th>\n",
              "      <th>시간당백색광량</th>\n",
              "      <th>일간누적백색광량</th>\n",
              "      <th>시간당적색광량</th>\n",
              "      <th>일간누적적색광량</th>\n",
              "      <th>시간당청색광량</th>\n",
              "      <th>일간누적청색광량</th>\n",
              "      <th>시간당총광량</th>\n",
              "      <th>일간누적총광량</th>\n",
              "    </tr>\n",
              "  </thead>\n",
              "  <tbody>\n",
              "    <tr>\n",
              "      <th>count</th>\n",
              "      <td>18816.000000</td>\n",
              "      <td>18816.000000</td>\n",
              "      <td>18816.000000</td>\n",
              "      <td>18816.000000</td>\n",
              "      <td>18816.000000</td>\n",
              "      <td>18816.000000</td>\n",
              "      <td>18816.000000</td>\n",
              "      <td>18816.000000</td>\n",
              "      <td>18816.000000</td>\n",
              "      <td>18816.000000</td>\n",
              "      <td>18816.000000</td>\n",
              "      <td>18816.000000</td>\n",
              "      <td>18816.000000</td>\n",
              "      <td>18816.000000</td>\n",
              "      <td>18816.000000</td>\n",
              "    </tr>\n",
              "    <tr>\n",
              "      <th>mean</th>\n",
              "      <td>13.500000</td>\n",
              "      <td>26.028341</td>\n",
              "      <td>63.936201</td>\n",
              "      <td>498.860695</td>\n",
              "      <td>1.507566</td>\n",
              "      <td>523.682080</td>\n",
              "      <td>6365.916673</td>\n",
              "      <td>6323.873473</td>\n",
              "      <td>72910.240149</td>\n",
              "      <td>1572.430914</td>\n",
              "      <td>18201.358998</td>\n",
              "      <td>1243.069492</td>\n",
              "      <td>14139.184959</td>\n",
              "      <td>9139.373879</td>\n",
              "      <td>105250.784106</td>\n",
              "    </tr>\n",
              "    <tr>\n",
              "      <th>std</th>\n",
              "      <td>8.077962</td>\n",
              "      <td>3.945806</td>\n",
              "      <td>11.652230</td>\n",
              "      <td>120.421248</td>\n",
              "      <td>1.042010</td>\n",
              "      <td>543.897317</td>\n",
              "      <td>6903.680044</td>\n",
              "      <td>8120.283264</td>\n",
              "      <td>86040.447105</td>\n",
              "      <td>2936.281308</td>\n",
              "      <td>34386.384982</td>\n",
              "      <td>2470.253289</td>\n",
              "      <td>27743.227265</td>\n",
              "      <td>9087.008979</td>\n",
              "      <td>97397.224913</td>\n",
              "    </tr>\n",
              "    <tr>\n",
              "      <th>min</th>\n",
              "      <td>0.000000</td>\n",
              "      <td>6.921053</td>\n",
              "      <td>15.348148</td>\n",
              "      <td>60.400000</td>\n",
              "      <td>0.000000</td>\n",
              "      <td>0.000000</td>\n",
              "      <td>0.000000</td>\n",
              "      <td>0.000000</td>\n",
              "      <td>0.000000</td>\n",
              "      <td>0.000000</td>\n",
              "      <td>0.000000</td>\n",
              "      <td>0.000000</td>\n",
              "      <td>0.000000</td>\n",
              "      <td>0.000000</td>\n",
              "      <td>0.000000</td>\n",
              "    </tr>\n",
              "    <tr>\n",
              "      <th>25%</th>\n",
              "      <td>6.750000</td>\n",
              "      <td>23.971250</td>\n",
              "      <td>57.494583</td>\n",
              "      <td>420.245833</td>\n",
              "      <td>0.929581</td>\n",
              "      <td>0.000000</td>\n",
              "      <td>1234.280000</td>\n",
              "      <td>0.000000</td>\n",
              "      <td>0.000000</td>\n",
              "      <td>0.000000</td>\n",
              "      <td>0.000000</td>\n",
              "      <td>0.000000</td>\n",
              "      <td>0.000000</td>\n",
              "      <td>0.000000</td>\n",
              "      <td>7280.962850</td>\n",
              "    </tr>\n",
              "    <tr>\n",
              "      <th>50%</th>\n",
              "      <td>13.500000</td>\n",
              "      <td>26.291667</td>\n",
              "      <td>62.118333</td>\n",
              "      <td>473.983333</td>\n",
              "      <td>1.308517</td>\n",
              "      <td>252.000000</td>\n",
              "      <td>3360.485000</td>\n",
              "      <td>0.000000</td>\n",
              "      <td>23205.750000</td>\n",
              "      <td>0.000000</td>\n",
              "      <td>0.000000</td>\n",
              "      <td>0.000000</td>\n",
              "      <td>0.000000</td>\n",
              "      <td>9242.350000</td>\n",
              "      <td>92172.360000</td>\n",
              "    </tr>\n",
              "    <tr>\n",
              "      <th>75%</th>\n",
              "      <td>20.250000</td>\n",
              "      <td>28.106667</td>\n",
              "      <td>73.157166</td>\n",
              "      <td>551.105952</td>\n",
              "      <td>2.291322</td>\n",
              "      <td>769.000000</td>\n",
              "      <td>9990.570000</td>\n",
              "      <td>18236.625400</td>\n",
              "      <td>145422.700000</td>\n",
              "      <td>1495.939200</td>\n",
              "      <td>17529.296400</td>\n",
              "      <td>1306.461000</td>\n",
              "      <td>18484.700000</td>\n",
              "      <td>18255.190000</td>\n",
              "      <td>177491.499450</td>\n",
              "    </tr>\n",
              "    <tr>\n",
              "      <th>max</th>\n",
              "      <td>27.000000</td>\n",
              "      <td>42.643334</td>\n",
              "      <td>93.350002</td>\n",
              "      <td>1714.850000</td>\n",
              "      <td>5.462324</td>\n",
              "      <td>2951.230000</td>\n",
              "      <td>42855.230000</td>\n",
              "      <td>18564.600000</td>\n",
              "      <td>292014.969800</td>\n",
              "      <td>9928.800000</td>\n",
              "      <td>200561.760000</td>\n",
              "      <td>9399.000000</td>\n",
              "      <td>190016.450000</td>\n",
              "      <td>37892.400000</td>\n",
              "      <td>559488.881000</td>\n",
              "    </tr>\n",
              "  </tbody>\n",
              "</table>\n",
              "</div>\n",
              "      <button class=\"colab-df-convert\" onclick=\"convertToInteractive('df-6679889f-9e66-4bc4-a5dc-b079d6cb6363')\"\n",
              "              title=\"Convert this dataframe to an interactive table.\"\n",
              "              style=\"display:none;\">\n",
              "        \n",
              "  <svg xmlns=\"http://www.w3.org/2000/svg\" height=\"24px\"viewBox=\"0 0 24 24\"\n",
              "       width=\"24px\">\n",
              "    <path d=\"M0 0h24v24H0V0z\" fill=\"none\"/>\n",
              "    <path d=\"M18.56 5.44l.94 2.06.94-2.06 2.06-.94-2.06-.94-.94-2.06-.94 2.06-2.06.94zm-11 1L8.5 8.5l.94-2.06 2.06-.94-2.06-.94L8.5 2.5l-.94 2.06-2.06.94zm10 10l.94 2.06.94-2.06 2.06-.94-2.06-.94-.94-2.06-.94 2.06-2.06.94z\"/><path d=\"M17.41 7.96l-1.37-1.37c-.4-.4-.92-.59-1.43-.59-.52 0-1.04.2-1.43.59L10.3 9.45l-7.72 7.72c-.78.78-.78 2.05 0 2.83L4 21.41c.39.39.9.59 1.41.59.51 0 1.02-.2 1.41-.59l7.78-7.78 2.81-2.81c.8-.78.8-2.07 0-2.86zM5.41 20L4 18.59l7.72-7.72 1.47 1.35L5.41 20z\"/>\n",
              "  </svg>\n",
              "      </button>\n",
              "      \n",
              "  <style>\n",
              "    .colab-df-container {\n",
              "      display:flex;\n",
              "      flex-wrap:wrap;\n",
              "      gap: 12px;\n",
              "    }\n",
              "\n",
              "    .colab-df-convert {\n",
              "      background-color: #E8F0FE;\n",
              "      border: none;\n",
              "      border-radius: 50%;\n",
              "      cursor: pointer;\n",
              "      display: none;\n",
              "      fill: #1967D2;\n",
              "      height: 32px;\n",
              "      padding: 0 0 0 0;\n",
              "      width: 32px;\n",
              "    }\n",
              "\n",
              "    .colab-df-convert:hover {\n",
              "      background-color: #E2EBFA;\n",
              "      box-shadow: 0px 1px 2px rgba(60, 64, 67, 0.3), 0px 1px 3px 1px rgba(60, 64, 67, 0.15);\n",
              "      fill: #174EA6;\n",
              "    }\n",
              "\n",
              "    [theme=dark] .colab-df-convert {\n",
              "      background-color: #3B4455;\n",
              "      fill: #D2E3FC;\n",
              "    }\n",
              "\n",
              "    [theme=dark] .colab-df-convert:hover {\n",
              "      background-color: #434B5C;\n",
              "      box-shadow: 0px 1px 3px 1px rgba(0, 0, 0, 0.15);\n",
              "      filter: drop-shadow(0px 1px 2px rgba(0, 0, 0, 0.3));\n",
              "      fill: #FFFFFF;\n",
              "    }\n",
              "  </style>\n",
              "\n",
              "      <script>\n",
              "        const buttonEl =\n",
              "          document.querySelector('#df-6679889f-9e66-4bc4-a5dc-b079d6cb6363 button.colab-df-convert');\n",
              "        buttonEl.style.display =\n",
              "          google.colab.kernel.accessAllowed ? 'block' : 'none';\n",
              "\n",
              "        async function convertToInteractive(key) {\n",
              "          const element = document.querySelector('#df-6679889f-9e66-4bc4-a5dc-b079d6cb6363');\n",
              "          const dataTable =\n",
              "            await google.colab.kernel.invokeFunction('convertToInteractive',\n",
              "                                                     [key], {});\n",
              "          if (!dataTable) return;\n",
              "\n",
              "          const docLinkHtml = 'Like what you see? Visit the ' +\n",
              "            '<a target=\"_blank\" href=https://colab.research.google.com/notebooks/data_table.ipynb>data table notebook</a>'\n",
              "            + ' to learn more about interactive tables.';\n",
              "          element.innerHTML = '';\n",
              "          dataTable['output_type'] = 'display_data';\n",
              "          await google.colab.output.renderOutput(dataTable, element);\n",
              "          const docLink = document.createElement('div');\n",
              "          docLink.innerHTML = docLinkHtml;\n",
              "          element.appendChild(docLink);\n",
              "        }\n",
              "      </script>\n",
              "    </div>\n",
              "  </div>\n",
              "  "
            ]
          },
          "metadata": {},
          "execution_count": 40
        }
      ]
    },
    {
      "cell_type": "markdown",
      "source": [
        "이게 범위가 있는 데이터 셋이여서 이상치라고 할만한게 없다. <br>\n",
        "모든 데이터셋을 선형적으로 관찰하면서 발견할 수는 있겠으나, 내가 그렇게 하지는 않았기 때문에 없다고 생각하겠다.\n",
        "\n",
        "test_train 데이터는 내가 노이즈값 처리를 하면서 얻은 지식을 전처리를 할 예정이다. \n",
        "\n",
        "- 광량이 음수인경우 \n",
        "- 온도가 0인 경우\n",
        "- 시간당 분무량이 음수인 경우\n",
        "- 내부 습도가 0인 경우\n",
        "\n",
        "에는 전 값을 채워넣거나, all_X의 평균을 채워넣으면 될 듯 하다."
      ],
      "metadata": {
        "id": "5qZuTesYNAEi"
      }
    },
    {
      "cell_type": "markdown",
      "source": [
        "# 모델링\n",
        "\n",
        "1. lstm을 사용하는 모델\n",
        "2. lgbm regressor를 사용하는 모델\n",
        "3. CNN을 사용하는 모델..?? <br>(갑자기 든 생각인데, 1d CNN을 사용하거나 세로가 낮은 CNN을 사용해도 적절한 모델을 만들 수 있지 않을까 라는 생각이 든다.)"
      ],
      "metadata": {
        "id": "6osNndlzFftF"
      }
    },
    {
      "cell_type": "markdown",
      "source": [
        "## LSTM 사용 모델"
      ],
      "metadata": {
        "id": "LjbY6wltFhY6"
      }
    },
    {
      "cell_type": "markdown",
      "source": [
        "### 모듈 임포트"
      ],
      "metadata": {
        "id": "TVzI3vwZSPAu"
      }
    },
    {
      "cell_type": "code",
      "source": [],
      "metadata": {
        "id": "AW_nVZocSpRd"
      },
      "execution_count": null,
      "outputs": []
    },
    {
      "cell_type": "code",
      "source": [],
      "metadata": {
        "id": "DCs4OiViSO-d"
      },
      "execution_count": null,
      "outputs": []
    },
    {
      "cell_type": "code",
      "source": [],
      "metadata": {
        "id": "TCme0ieVSO8N"
      },
      "execution_count": null,
      "outputs": []
    },
    {
      "cell_type": "code",
      "source": [],
      "metadata": {
        "id": "jjSnjt-LSO6W"
      },
      "execution_count": null,
      "outputs": []
    },
    {
      "cell_type": "code",
      "source": [],
      "metadata": {
        "id": "RS_zDRiaSO3N"
      },
      "execution_count": null,
      "outputs": []
    },
    {
      "cell_type": "markdown",
      "source": [
        "## LGBM regressor 사용 모델"
      ],
      "metadata": {
        "id": "C2jD5uYqSIEU"
      }
    },
    {
      "cell_type": "markdown",
      "source": [
        "### 모듈 임포트"
      ],
      "metadata": {
        "id": "PQS35jtjSnwl"
      }
    },
    {
      "cell_type": "code",
      "source": [],
      "metadata": {
        "id": "TluvpXyXSP8r"
      },
      "execution_count": null,
      "outputs": []
    },
    {
      "cell_type": "code",
      "source": [],
      "metadata": {
        "id": "KoMRfNEXSP63"
      },
      "execution_count": null,
      "outputs": []
    },
    {
      "cell_type": "code",
      "source": [],
      "metadata": {
        "id": "zTRtRBxnSP5R"
      },
      "execution_count": null,
      "outputs": []
    },
    {
      "cell_type": "code",
      "source": [],
      "metadata": {
        "id": "KI0JLCzLSP3i"
      },
      "execution_count": null,
      "outputs": []
    },
    {
      "cell_type": "code",
      "source": [],
      "metadata": {
        "id": "YSC3A9QSSP0A"
      },
      "execution_count": null,
      "outputs": []
    },
    {
      "cell_type": "markdown",
      "source": [
        "## CNN 사용모델"
      ],
      "metadata": {
        "id": "dqwG3mW9SMfU"
      }
    },
    {
      "cell_type": "markdown",
      "source": [
        "### 모듈 임포트"
      ],
      "metadata": {
        "id": "X7eOf5FJSoW4"
      }
    },
    {
      "cell_type": "code",
      "source": [],
      "metadata": {
        "id": "TzYq6ppTSOBR"
      },
      "execution_count": null,
      "outputs": []
    },
    {
      "cell_type": "code",
      "source": [],
      "metadata": {
        "id": "2KFxZnIqSQov"
      },
      "execution_count": null,
      "outputs": []
    },
    {
      "cell_type": "code",
      "source": [],
      "metadata": {
        "id": "49wPtNHGSQma"
      },
      "execution_count": null,
      "outputs": []
    },
    {
      "cell_type": "code",
      "source": [],
      "metadata": {
        "id": "oQojrwNaSQjk"
      },
      "execution_count": null,
      "outputs": []
    },
    {
      "cell_type": "code",
      "source": [],
      "metadata": {
        "id": "i0w-Tp97SQfh"
      },
      "execution_count": null,
      "outputs": []
    }
  ]
}