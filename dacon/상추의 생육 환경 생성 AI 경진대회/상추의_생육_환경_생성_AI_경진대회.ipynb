{
  "nbformat": 4,
  "nbformat_minor": 0,
  "metadata": {
    "colab": {
      "provenance": [],
      "collapsed_sections": [
        "UC3HQSGln4O8",
        "WNO9C-zjHhXK",
        "thGqUYjoIg8J",
        "Lln4BUw4K37U",
        "9IABMSkhLsCQ",
        "Href82SLMgWy",
        "7VMUNB7Q0I4P",
        "d_mT5PAn0tDh",
        "5xAOlzmY4C_q",
        "JjEyB7zLrO4N",
        "8NNQ-0sN5bcD",
        "pSXTzVLi-jjm",
        "dDejYfMEgpK6",
        "SlBl6A_9gkxP",
        "lH1nH56RMHuh"
      ]
    },
    "kernelspec": {
      "name": "python3",
      "display_name": "Python 3"
    },
    "language_info": {
      "name": "python"
    },
    "accelerator": "GPU",
    "gpuClass": "standard"
  },
  "cells": [
    {
      "cell_type": "markdown",
      "source": [
        "# 모듈 임포트"
      ],
      "metadata": {
        "id": "nndUdBd0apzy"
      }
    },
    {
      "cell_type": "code",
      "execution_count": null,
      "metadata": {
        "colab": {
          "base_uri": "https://localhost:8080/"
        },
        "id": "sIERZbUGakPa",
        "outputId": "19db0d3e-2c45-4b59-926b-f91547838ee7"
      },
      "outputs": [
        {
          "output_type": "stream",
          "name": "stdout",
          "text": [
            "Colab only includes TensorFlow 2.x; %tensorflow_version has no effect.\n"
          ]
        }
      ],
      "source": [
        "# 파이썬 ≥3.5 필수\n",
        "import sys\n",
        "assert sys.version_info >= (3, 5)\n",
        "\n",
        "# 사이킷런 ≥0.20 필수\n",
        "import sklearn\n",
        "assert sklearn.__version__ >= \"0.20\"\n",
        "\n",
        "try:\n",
        "    # %tensorflow_version은 코랩에서만 동작합니다.\n",
        "    %tensorflow_version 2.x\n",
        "    IS_COLAB = True\n",
        "except Exception:\n",
        "    IS_COLAB = False\n",
        "\n",
        "# 텐서플로 ≥2.0 필수\n",
        "import tensorflow as tf\n",
        "from tensorflow import keras\n",
        "assert tf.__version__ >= \"2.0\"\n",
        "\n",
        "if not tf.config.list_physical_devices('GPU'):\n",
        "    print(\"감지된 GPU가 없습니다. GPU가 없으면 LSTM과 CNN이 매우 느릴 수 있습니다.\")\n",
        "    if IS_COLAB:\n",
        "        print(\"런타임 > 런타임 유형 변경 메뉴를 선택하고 하드웨어 가속기로 GPU를 고르세요.\")\n",
        "\n",
        "# 공통 모듈 임포트\n",
        "import numpy as np\n",
        "import os\n",
        "import pandas as pd\n",
        "\n",
        "# 노트북 실행 결과를 동일하게 유지하기 위해\n",
        "np.random.seed(42)\n",
        "tf.random.set_seed(42)\n",
        "\n",
        "# 깔끔한 그래프 출력을 위해\n",
        "%matplotlib inline\n",
        "import matplotlib as mpl\n",
        "import matplotlib.pyplot as plt\n",
        "import seaborn as sns\n",
        "\n",
        "\n",
        "mpl.rc('axes', labelsize=14)\n",
        "mpl.rc('xtick', labelsize=12)\n",
        "mpl.rc('ytick', labelsize=12)"
      ]
    },
    {
      "cell_type": "markdown",
      "source": [
        "# 데이터 적재 train_X_case(dict), train_y_case(dict)"
      ],
      "metadata": {
        "id": "yHaTm72Aa8A8"
      }
    },
    {
      "cell_type": "code",
      "source": [
        "from google.colab import drive\n",
        "drive.mount('/content/drive')"
      ],
      "metadata": {
        "colab": {
          "base_uri": "https://localhost:8080/"
        },
        "id": "viGQIT6BasDH",
        "outputId": "7a1a6025-d24a-480b-941f-b12071fa45fc"
      },
      "execution_count": null,
      "outputs": [
        {
          "output_type": "stream",
          "name": "stdout",
          "text": [
            "Drive already mounted at /content/drive; to attempt to forcibly remount, call drive.mount(\"/content/drive\", force_remount=True).\n"
          ]
        }
      ]
    },
    {
      "cell_type": "code",
      "source": [
        "train_X_case = {}\n",
        "\n",
        "for i in range(1, 29):\n",
        "    train_X_case[\"{}\".format(str(i).zfill(2))] =\\\n",
        "      pd.read_csv(\"/content/drive/MyDrive/상추의 생육 환경 생성 AI 경진대회/train_input/CASE_{}.csv\".format(str(i).zfill(2)))\n",
        " "
      ],
      "metadata": {
        "id": "cO_yFb-Ha7dl"
      },
      "execution_count": null,
      "outputs": []
    },
    {
      "cell_type": "code",
      "source": [
        "train_y_case = {}\n",
        "\n",
        "for i in range(1, 29):\n",
        "    train_y_case[\"{}\".format(str(i).zfill(2))] =\\\n",
        "      pd.read_csv(\"/content/drive/MyDrive/상추의 생육 환경 생성 AI 경진대회/train_target/CASE_{}.csv\".format(str(i).zfill(2)))\n",
        " "
      ],
      "metadata": {
        "id": "70Dvnos9dP3a"
      },
      "execution_count": null,
      "outputs": []
    },
    {
      "cell_type": "code",
      "source": [
        "train_X_case[\"01\"].head(3)"
      ],
      "metadata": {
        "colab": {
          "base_uri": "https://localhost:8080/",
          "height": 143
        },
        "id": "NaF-_fOMc2_1",
        "outputId": "5c39cd4c-5298-4d7d-ad92-b27ef1c28685"
      },
      "execution_count": null,
      "outputs": [
        {
          "output_type": "execute_result",
          "data": {
            "text/plain": [
              "   DAT obs_time    내부온도관측치    내부습도관측치      co2관측치     ec관측치  시간당분무량  일간누적분무량  \\\n",
              "0    0    00:00  25.300000  81.835000  536.016667  1.407439     0.0      0.0   \n",
              "1    0    01:00  25.680357  81.264286  528.696429  1.409003   126.0    126.0   \n",
              "2    0    02:00  25.273333  81.471666  532.833333  1.406913     0.0    126.0   \n",
              "\n",
              "   시간당백색광량  일간누적백색광량  시간당적색광량  일간누적적색광량  시간당청색광량  일간누적청색광량  시간당총광량  일간누적총광량  \n",
              "0      0.0       0.0      0.0       0.0        0         0     0.0      0.0  \n",
              "1      0.0       0.0      0.0       0.0        0         0     0.0      0.0  \n",
              "2      0.0       0.0      0.0       0.0        0         0     0.0      0.0  "
            ],
            "text/html": [
              "\n",
              "  <div id=\"df-64ed7ef1-2d2a-41a2-be51-d4914dae8e95\">\n",
              "    <div class=\"colab-df-container\">\n",
              "      <div>\n",
              "<style scoped>\n",
              "    .dataframe tbody tr th:only-of-type {\n",
              "        vertical-align: middle;\n",
              "    }\n",
              "\n",
              "    .dataframe tbody tr th {\n",
              "        vertical-align: top;\n",
              "    }\n",
              "\n",
              "    .dataframe thead th {\n",
              "        text-align: right;\n",
              "    }\n",
              "</style>\n",
              "<table border=\"1\" class=\"dataframe\">\n",
              "  <thead>\n",
              "    <tr style=\"text-align: right;\">\n",
              "      <th></th>\n",
              "      <th>DAT</th>\n",
              "      <th>obs_time</th>\n",
              "      <th>내부온도관측치</th>\n",
              "      <th>내부습도관측치</th>\n",
              "      <th>co2관측치</th>\n",
              "      <th>ec관측치</th>\n",
              "      <th>시간당분무량</th>\n",
              "      <th>일간누적분무량</th>\n",
              "      <th>시간당백색광량</th>\n",
              "      <th>일간누적백색광량</th>\n",
              "      <th>시간당적색광량</th>\n",
              "      <th>일간누적적색광량</th>\n",
              "      <th>시간당청색광량</th>\n",
              "      <th>일간누적청색광량</th>\n",
              "      <th>시간당총광량</th>\n",
              "      <th>일간누적총광량</th>\n",
              "    </tr>\n",
              "  </thead>\n",
              "  <tbody>\n",
              "    <tr>\n",
              "      <th>0</th>\n",
              "      <td>0</td>\n",
              "      <td>00:00</td>\n",
              "      <td>25.300000</td>\n",
              "      <td>81.835000</td>\n",
              "      <td>536.016667</td>\n",
              "      <td>1.407439</td>\n",
              "      <td>0.0</td>\n",
              "      <td>0.0</td>\n",
              "      <td>0.0</td>\n",
              "      <td>0.0</td>\n",
              "      <td>0.0</td>\n",
              "      <td>0.0</td>\n",
              "      <td>0</td>\n",
              "      <td>0</td>\n",
              "      <td>0.0</td>\n",
              "      <td>0.0</td>\n",
              "    </tr>\n",
              "    <tr>\n",
              "      <th>1</th>\n",
              "      <td>0</td>\n",
              "      <td>01:00</td>\n",
              "      <td>25.680357</td>\n",
              "      <td>81.264286</td>\n",
              "      <td>528.696429</td>\n",
              "      <td>1.409003</td>\n",
              "      <td>126.0</td>\n",
              "      <td>126.0</td>\n",
              "      <td>0.0</td>\n",
              "      <td>0.0</td>\n",
              "      <td>0.0</td>\n",
              "      <td>0.0</td>\n",
              "      <td>0</td>\n",
              "      <td>0</td>\n",
              "      <td>0.0</td>\n",
              "      <td>0.0</td>\n",
              "    </tr>\n",
              "    <tr>\n",
              "      <th>2</th>\n",
              "      <td>0</td>\n",
              "      <td>02:00</td>\n",
              "      <td>25.273333</td>\n",
              "      <td>81.471666</td>\n",
              "      <td>532.833333</td>\n",
              "      <td>1.406913</td>\n",
              "      <td>0.0</td>\n",
              "      <td>126.0</td>\n",
              "      <td>0.0</td>\n",
              "      <td>0.0</td>\n",
              "      <td>0.0</td>\n",
              "      <td>0.0</td>\n",
              "      <td>0</td>\n",
              "      <td>0</td>\n",
              "      <td>0.0</td>\n",
              "      <td>0.0</td>\n",
              "    </tr>\n",
              "  </tbody>\n",
              "</table>\n",
              "</div>\n",
              "      <button class=\"colab-df-convert\" onclick=\"convertToInteractive('df-64ed7ef1-2d2a-41a2-be51-d4914dae8e95')\"\n",
              "              title=\"Convert this dataframe to an interactive table.\"\n",
              "              style=\"display:none;\">\n",
              "        \n",
              "  <svg xmlns=\"http://www.w3.org/2000/svg\" height=\"24px\"viewBox=\"0 0 24 24\"\n",
              "       width=\"24px\">\n",
              "    <path d=\"M0 0h24v24H0V0z\" fill=\"none\"/>\n",
              "    <path d=\"M18.56 5.44l.94 2.06.94-2.06 2.06-.94-2.06-.94-.94-2.06-.94 2.06-2.06.94zm-11 1L8.5 8.5l.94-2.06 2.06-.94-2.06-.94L8.5 2.5l-.94 2.06-2.06.94zm10 10l.94 2.06.94-2.06 2.06-.94-2.06-.94-.94-2.06-.94 2.06-2.06.94z\"/><path d=\"M17.41 7.96l-1.37-1.37c-.4-.4-.92-.59-1.43-.59-.52 0-1.04.2-1.43.59L10.3 9.45l-7.72 7.72c-.78.78-.78 2.05 0 2.83L4 21.41c.39.39.9.59 1.41.59.51 0 1.02-.2 1.41-.59l7.78-7.78 2.81-2.81c.8-.78.8-2.07 0-2.86zM5.41 20L4 18.59l7.72-7.72 1.47 1.35L5.41 20z\"/>\n",
              "  </svg>\n",
              "      </button>\n",
              "      \n",
              "  <style>\n",
              "    .colab-df-container {\n",
              "      display:flex;\n",
              "      flex-wrap:wrap;\n",
              "      gap: 12px;\n",
              "    }\n",
              "\n",
              "    .colab-df-convert {\n",
              "      background-color: #E8F0FE;\n",
              "      border: none;\n",
              "      border-radius: 50%;\n",
              "      cursor: pointer;\n",
              "      display: none;\n",
              "      fill: #1967D2;\n",
              "      height: 32px;\n",
              "      padding: 0 0 0 0;\n",
              "      width: 32px;\n",
              "    }\n",
              "\n",
              "    .colab-df-convert:hover {\n",
              "      background-color: #E2EBFA;\n",
              "      box-shadow: 0px 1px 2px rgba(60, 64, 67, 0.3), 0px 1px 3px 1px rgba(60, 64, 67, 0.15);\n",
              "      fill: #174EA6;\n",
              "    }\n",
              "\n",
              "    [theme=dark] .colab-df-convert {\n",
              "      background-color: #3B4455;\n",
              "      fill: #D2E3FC;\n",
              "    }\n",
              "\n",
              "    [theme=dark] .colab-df-convert:hover {\n",
              "      background-color: #434B5C;\n",
              "      box-shadow: 0px 1px 3px 1px rgba(0, 0, 0, 0.15);\n",
              "      filter: drop-shadow(0px 1px 2px rgba(0, 0, 0, 0.3));\n",
              "      fill: #FFFFFF;\n",
              "    }\n",
              "  </style>\n",
              "\n",
              "      <script>\n",
              "        const buttonEl =\n",
              "          document.querySelector('#df-64ed7ef1-2d2a-41a2-be51-d4914dae8e95 button.colab-df-convert');\n",
              "        buttonEl.style.display =\n",
              "          google.colab.kernel.accessAllowed ? 'block' : 'none';\n",
              "\n",
              "        async function convertToInteractive(key) {\n",
              "          const element = document.querySelector('#df-64ed7ef1-2d2a-41a2-be51-d4914dae8e95');\n",
              "          const dataTable =\n",
              "            await google.colab.kernel.invokeFunction('convertToInteractive',\n",
              "                                                     [key], {});\n",
              "          if (!dataTable) return;\n",
              "\n",
              "          const docLinkHtml = 'Like what you see? Visit the ' +\n",
              "            '<a target=\"_blank\" href=https://colab.research.google.com/notebooks/data_table.ipynb>data table notebook</a>'\n",
              "            + ' to learn more about interactive tables.';\n",
              "          element.innerHTML = '';\n",
              "          dataTable['output_type'] = 'display_data';\n",
              "          await google.colab.output.renderOutput(dataTable, element);\n",
              "          const docLink = document.createElement('div');\n",
              "          docLink.innerHTML = docLinkHtml;\n",
              "          element.appendChild(docLink);\n",
              "        }\n",
              "      </script>\n",
              "    </div>\n",
              "  </div>\n",
              "  "
            ]
          },
          "metadata": {},
          "execution_count": 5
        }
      ]
    },
    {
      "cell_type": "code",
      "source": [
        "train_y_case[\"01\"].head(3)"
      ],
      "metadata": {
        "colab": {
          "base_uri": "https://localhost:8080/",
          "height": 143
        },
        "id": "t9L1cxmTc0bt",
        "outputId": "b988ecb4-93aa-4497-d8e8-43a914bae85b"
      },
      "execution_count": null,
      "outputs": [
        {
          "output_type": "execute_result",
          "data": {
            "text/plain": [
              "   DAT  predicted_weight_g\n",
              "0    1            0.167719\n",
              "1    2            0.181787\n",
              "2    3            0.265921"
            ],
            "text/html": [
              "\n",
              "  <div id=\"df-b0e6f74d-2e7e-4515-a4e3-d85027b24852\">\n",
              "    <div class=\"colab-df-container\">\n",
              "      <div>\n",
              "<style scoped>\n",
              "    .dataframe tbody tr th:only-of-type {\n",
              "        vertical-align: middle;\n",
              "    }\n",
              "\n",
              "    .dataframe tbody tr th {\n",
              "        vertical-align: top;\n",
              "    }\n",
              "\n",
              "    .dataframe thead th {\n",
              "        text-align: right;\n",
              "    }\n",
              "</style>\n",
              "<table border=\"1\" class=\"dataframe\">\n",
              "  <thead>\n",
              "    <tr style=\"text-align: right;\">\n",
              "      <th></th>\n",
              "      <th>DAT</th>\n",
              "      <th>predicted_weight_g</th>\n",
              "    </tr>\n",
              "  </thead>\n",
              "  <tbody>\n",
              "    <tr>\n",
              "      <th>0</th>\n",
              "      <td>1</td>\n",
              "      <td>0.167719</td>\n",
              "    </tr>\n",
              "    <tr>\n",
              "      <th>1</th>\n",
              "      <td>2</td>\n",
              "      <td>0.181787</td>\n",
              "    </tr>\n",
              "    <tr>\n",
              "      <th>2</th>\n",
              "      <td>3</td>\n",
              "      <td>0.265921</td>\n",
              "    </tr>\n",
              "  </tbody>\n",
              "</table>\n",
              "</div>\n",
              "      <button class=\"colab-df-convert\" onclick=\"convertToInteractive('df-b0e6f74d-2e7e-4515-a4e3-d85027b24852')\"\n",
              "              title=\"Convert this dataframe to an interactive table.\"\n",
              "              style=\"display:none;\">\n",
              "        \n",
              "  <svg xmlns=\"http://www.w3.org/2000/svg\" height=\"24px\"viewBox=\"0 0 24 24\"\n",
              "       width=\"24px\">\n",
              "    <path d=\"M0 0h24v24H0V0z\" fill=\"none\"/>\n",
              "    <path d=\"M18.56 5.44l.94 2.06.94-2.06 2.06-.94-2.06-.94-.94-2.06-.94 2.06-2.06.94zm-11 1L8.5 8.5l.94-2.06 2.06-.94-2.06-.94L8.5 2.5l-.94 2.06-2.06.94zm10 10l.94 2.06.94-2.06 2.06-.94-2.06-.94-.94-2.06-.94 2.06-2.06.94z\"/><path d=\"M17.41 7.96l-1.37-1.37c-.4-.4-.92-.59-1.43-.59-.52 0-1.04.2-1.43.59L10.3 9.45l-7.72 7.72c-.78.78-.78 2.05 0 2.83L4 21.41c.39.39.9.59 1.41.59.51 0 1.02-.2 1.41-.59l7.78-7.78 2.81-2.81c.8-.78.8-2.07 0-2.86zM5.41 20L4 18.59l7.72-7.72 1.47 1.35L5.41 20z\"/>\n",
              "  </svg>\n",
              "      </button>\n",
              "      \n",
              "  <style>\n",
              "    .colab-df-container {\n",
              "      display:flex;\n",
              "      flex-wrap:wrap;\n",
              "      gap: 12px;\n",
              "    }\n",
              "\n",
              "    .colab-df-convert {\n",
              "      background-color: #E8F0FE;\n",
              "      border: none;\n",
              "      border-radius: 50%;\n",
              "      cursor: pointer;\n",
              "      display: none;\n",
              "      fill: #1967D2;\n",
              "      height: 32px;\n",
              "      padding: 0 0 0 0;\n",
              "      width: 32px;\n",
              "    }\n",
              "\n",
              "    .colab-df-convert:hover {\n",
              "      background-color: #E2EBFA;\n",
              "      box-shadow: 0px 1px 2px rgba(60, 64, 67, 0.3), 0px 1px 3px 1px rgba(60, 64, 67, 0.15);\n",
              "      fill: #174EA6;\n",
              "    }\n",
              "\n",
              "    [theme=dark] .colab-df-convert {\n",
              "      background-color: #3B4455;\n",
              "      fill: #D2E3FC;\n",
              "    }\n",
              "\n",
              "    [theme=dark] .colab-df-convert:hover {\n",
              "      background-color: #434B5C;\n",
              "      box-shadow: 0px 1px 3px 1px rgba(0, 0, 0, 0.15);\n",
              "      filter: drop-shadow(0px 1px 2px rgba(0, 0, 0, 0.3));\n",
              "      fill: #FFFFFF;\n",
              "    }\n",
              "  </style>\n",
              "\n",
              "      <script>\n",
              "        const buttonEl =\n",
              "          document.querySelector('#df-b0e6f74d-2e7e-4515-a4e3-d85027b24852 button.colab-df-convert');\n",
              "        buttonEl.style.display =\n",
              "          google.colab.kernel.accessAllowed ? 'block' : 'none';\n",
              "\n",
              "        async function convertToInteractive(key) {\n",
              "          const element = document.querySelector('#df-b0e6f74d-2e7e-4515-a4e3-d85027b24852');\n",
              "          const dataTable =\n",
              "            await google.colab.kernel.invokeFunction('convertToInteractive',\n",
              "                                                     [key], {});\n",
              "          if (!dataTable) return;\n",
              "\n",
              "          const docLinkHtml = 'Like what you see? Visit the ' +\n",
              "            '<a target=\"_blank\" href=https://colab.research.google.com/notebooks/data_table.ipynb>data table notebook</a>'\n",
              "            + ' to learn more about interactive tables.';\n",
              "          element.innerHTML = '';\n",
              "          dataTable['output_type'] = 'display_data';\n",
              "          await google.colab.output.renderOutput(dataTable, element);\n",
              "          const docLink = document.createElement('div');\n",
              "          docLink.innerHTML = docLinkHtml;\n",
              "          element.appendChild(docLink);\n",
              "        }\n",
              "      </script>\n",
              "    </div>\n",
              "  </div>\n",
              "  "
            ]
          },
          "metadata": {},
          "execution_count": 6
        }
      ]
    },
    {
      "cell_type": "markdown",
      "source": [
        " 28개의 상추를 28일 동안 24시간 간격으로 측정한 데이터이다.\n",
        "\n",
        " 28 * 24 = 672\n",
        "\n",
        " - feature는 16개\n",
        " - train_y는 매일 측정된 상추의 잎 크기이다.\n",
        "\n",
        " 잎의 성장은 전날의 데이터에 영향을 받는다. (청경채 예측 분석 코드공유를 참고함.)\n",
        "\n",
        " 각 상추의 train_X를 28개로 나눈 뒤, 하루 뒤의 train_y를 예측하게 할 것이다.\n",
        "\n",
        " https://dacon.io/competitions/official/235961/overview/description\n",
        "\n",
        "상추의 생육환경 예측과 비슷한 문제인 청경채 성장 경진대회를 많이 참고할 예정이다."
      ],
      "metadata": {
        "id": "s2Tq_TbjdrYB"
      }
    },
    {
      "cell_type": "markdown",
      "source": [
        "# 데이터 전처리\n",
        "\n",
        "- 데이터셋 나누기 \n",
        "    1. 28개의 상추를 하루 단위씩 끊어서 데이터셋을 새로 만들기\n",
        "    2. 하루단위 데이터를 평균낸 데이터를 다시 합쳐서 데이터셋을 새로 만들기\n",
        "\n",
        "- target 데이터 전처리\n",
        "    1. 전날 대비 성장률 추가 \n",
        "    2. 초기 대비 성장률 추가\n",
        "\n",
        "- null 값 처리\n",
        "\n",
        "- 컬럼별 상관관계 보기\n",
        "\n",
        "- 이상치 처리\n",
        "\n",
        "- 노이즈값 처리"
      ],
      "metadata": {
        "id": "66NbrtwfVm4X"
      }
    },
    {
      "cell_type": "markdown",
      "source": [
        "### 데이터셋 합치기 train_all_X(DataFrame)\n",
        "모든데이터를 합친다."
      ],
      "metadata": {
        "id": "OmES1X6b4d_P"
      }
    },
    {
      "cell_type": "code",
      "source": [
        "train_all_X = pd.DataFrame()\n",
        "\n",
        "for i in range(1,29):\n",
        "    CASE = str(i).zfill(2)\n",
        "    train_all_X = train_all_X.append(train_X_case[CASE])"
      ],
      "metadata": {
        "id": "oDsxHMNk4RAD"
      },
      "execution_count": null,
      "outputs": []
    },
    {
      "cell_type": "code",
      "source": [
        "train_all_X.shape"
      ],
      "metadata": {
        "colab": {
          "base_uri": "https://localhost:8080/"
        },
        "id": "4I1LUU-W5M-z",
        "outputId": "5bdcb8b5-be70-4ad8-92ed-2ddb97b2b045"
      },
      "execution_count": null,
      "outputs": [
        {
          "output_type": "execute_result",
          "data": {
            "text/plain": [
              "(18816, 16)"
            ]
          },
          "metadata": {},
          "execution_count": 8
        }
      ]
    },
    {
      "cell_type": "markdown",
      "source": [
        "### 데이터셋 나누기 train_X_case_day(list)\n",
        "\n",
        "각 상추의 28일치 데이터를 분리해서 저장한다."
      ],
      "metadata": {
        "id": "7dloaJK7rGWZ"
      }
    },
    {
      "cell_type": "code",
      "source": [
        "# train_X_case_day[x][y] 를 입력하면 x 케이스의 y번째 날 데이터 프레임을 리턴함\n",
        "# case는 1~28, day는 0~27 \n",
        "train_X_case_day = [[]]\n",
        "\n",
        "for i in range(1,29):\n",
        "    train_X_case_day.append([])\n",
        "    for j in range(1,29):\n",
        "        train_X_case_day[i].append(train_X_case[\"{}\".format(str(i).zfill(2))].iloc[24*(j-1):j*24, :])"
      ],
      "metadata": {
        "id": "tbVG8kWiVrx0"
      },
      "execution_count": null,
      "outputs": []
    },
    {
      "cell_type": "markdown",
      "source": [
        "### 타겟데이터 전처리 train_y_all(DF)\n"
      ],
      "metadata": {
        "id": "nkQvl7j7rLMq"
      }
    },
    {
      "cell_type": "code",
      "source": [
        "for case in range(1,29):\n",
        "    CASE = str(case).zfill(2)\n",
        "    IGR = []                    # 초기 대비 성장률(initial growth rate): IGR\n",
        "    DOD = []                    # 전날 대비 성장률(day over day growth rate): DOD\n",
        "    GGG = []\n",
        "\n",
        "\n",
        "    IGR.append(0)\n",
        "    DOD.append(0)\n",
        "    GGG.append(train_y_case[CASE].iloc[0,1])\n",
        "    for day in range(1, 28):\n",
        "        id = train_y_case[CASE].iloc[0, 1]          # inital day\n",
        "        yd = train_y_case[CASE].iloc[(day-1),1]     # yester day\n",
        "        td = train_y_case[CASE].iloc[day, 1]        # today\n",
        "        \n",
        "        GGG.append(td-yd)\n",
        "        IGR.append((td-id)/id*100)\n",
        "        DOD.append((td-yd)/yd*100)\n",
        "\n",
        "    train_y_case[CASE][\"초기 대비 성장률(%)\"] = IGR\n",
        "    train_y_case[CASE][\"전날 대비 성장률(%)\"] = DOD\n",
        "    train_y_case[CASE][\"전날 대비 성장(g)\"] = GGG"
      ],
      "metadata": {
        "id": "0i7D_enecDml"
      },
      "execution_count": null,
      "outputs": []
    },
    {
      "cell_type": "code",
      "source": [
        "train_y_all = pd.DataFrame()\n",
        "\n",
        "for i in range(1, 29):\n",
        "    CASE = str(i).zfill(2)\n",
        "    train_y_all = train_y_all.append(train_y_case[CASE].drop([\"DAT\"], axis=1), ignore_index=True)"
      ],
      "metadata": {
        "id": "V_JpQfsQ1WrH"
      },
      "execution_count": null,
      "outputs": []
    },
    {
      "cell_type": "code",
      "source": [
        "# 28 * 28 사이즈의 데이터셋 생성\n",
        "\n",
        "train_y_all.shape"
      ],
      "metadata": {
        "colab": {
          "base_uri": "https://localhost:8080/"
        },
        "id": "VI1ssXSR1ozv",
        "outputId": "d31e3332-6e20-4662-83f4-cfdceae76a77"
      },
      "execution_count": null,
      "outputs": [
        {
          "output_type": "execute_result",
          "data": {
            "text/plain": [
              "(784, 4)"
            ]
          },
          "metadata": {},
          "execution_count": 12
        }
      ]
    },
    {
      "cell_type": "code",
      "source": [
        "# 하루씩 타겟 데이터가 밀려있기 때문에 0일째 인덱스는 삭제해야한다.\n",
        "\n",
        "rate_index = [i for i in range(0, 784)]\n",
        "\n",
        "\n",
        "for i in range(1,29):\n",
        "    rate_index.remove((i-1)*28)"
      ],
      "metadata": {
        "id": "sqPEzTWylOzl"
      },
      "execution_count": null,
      "outputs": []
    },
    {
      "cell_type": "code",
      "source": [
        "train_y_W = train_y_all.iloc[:, 0]\n",
        "train_y_R = train_y_all.iloc[rate_index, 2]\n",
        "train_y_G = train_y_all.iloc[rate_index, 3]"
      ],
      "metadata": {
        "id": "XwjviLdlB93o"
      },
      "execution_count": null,
      "outputs": []
    },
    {
      "cell_type": "code",
      "source": [
        "train_y_W[280]"
      ],
      "metadata": {
        "colab": {
          "base_uri": "https://localhost:8080/"
        },
        "id": "OXUxbviI2KKR",
        "outputId": "989b21ed-5670-4a25-b39a-00fa147cbf2a"
      },
      "execution_count": null,
      "outputs": [
        {
          "output_type": "execute_result",
          "data": {
            "text/plain": [
              "11.7641629206507"
            ]
          },
          "metadata": {},
          "execution_count": 15
        }
      ]
    },
    {
      "cell_type": "markdown",
      "source": [
        "### null 값 처리\n",
        "\n",
        "null 값이 없다."
      ],
      "metadata": {
        "id": "UC3HQSGln4O8"
      }
    },
    {
      "cell_type": "code",
      "source": [
        "for i in range(1, 29):\n",
        "    CASE = str(i).zfill(2)\n",
        "    for _ in train_X_case[CASE].isnull().sum():\n",
        "        if _ == True:\n",
        "            print(_)"
      ],
      "metadata": {
        "id": "qTGWhVeBtaQ1"
      },
      "execution_count": null,
      "outputs": []
    },
    {
      "cell_type": "markdown",
      "source": [
        "### 노이즈값 처리\n",
        "\n",
        "- 시간당 내부 평균온도: 4도~40도\n",
        "- 시간당 내부 평균습도: 0% ~ 100%\n",
        "- 시간당 내부 평균 co2 농도 : 0ppm ~ 1200 ppm\n",
        "- 시간당 평균 EC : 0 ~ 8\n",
        "- 시간당 분무량 : 0 ~ 3000 / 일간 누적 분무량 0 ~ 72,000\n",
        "- 시간당 백색광량 : 0 ~ 120,000 / 일간 누적 백색광량 0 ~ 2,880,000\n",
        "- 시간당 적색광량 : 0 ~ 120,000 / 일간 누적 적색광량 0 ~ 2,880,000 \n",
        "- 시간당 청색광량 : 0 ~ 120,000 / 일간 누적 청색광량 0 ~ 2,880,000\n",
        "- 시간당 총광량 : 0 ~ 120,000 / 일간 누적 총광량 0 ~ 2,880,000\n",
        "\n",
        "\n"
      ],
      "metadata": {
        "id": "Mu2lbGjqtzHz"
      }
    },
    {
      "cell_type": "code",
      "source": [
        "col = train_X_case[\"01\"].columns\n",
        "col"
      ],
      "metadata": {
        "colab": {
          "base_uri": "https://localhost:8080/"
        },
        "id": "DVtJ02ZO55Pv",
        "outputId": "b95d1260-a1a4-42f0-e88e-a86f1a5258ce"
      },
      "execution_count": null,
      "outputs": [
        {
          "output_type": "execute_result",
          "data": {
            "text/plain": [
              "Index(['DAT', 'obs_time', '내부온도관측치', '내부습도관측치', 'co2관측치', 'ec관측치', '시간당분무량',\n",
              "       '일간누적분무량', '시간당백색광량', '일간누적백색광량', '시간당적색광량', '일간누적적색광량', '시간당청색광량',\n",
              "       '일간누적청색광량', '시간당총광량', '일간누적총광량'],\n",
              "      dtype='object')"
            ]
          },
          "metadata": {},
          "execution_count": 17
        }
      ]
    },
    {
      "cell_type": "code",
      "source": [
        "control_variable = pd.DataFrame()\n",
        "\n",
        "noise = [[]]\n",
        "\n",
        "for i in range(1, 29):\n",
        "    noise.append([])\n",
        "    CASE = str(i).zfill(2)\n",
        "\n",
        "    # 내부 온도 관측치 \n",
        "    noise[i].append(train_X_case[CASE][train_X_case[CASE][col[2]]<4].index)    \n",
        "    noise[i].append(train_X_case[CASE][train_X_case[CASE][col[2]]>40].index)   \n",
        "\n",
        "    # 내부습도 관측치\n",
        "    noise[i].append(train_X_case[CASE][train_X_case[CASE][col[3]]<=0].index)    \n",
        "    noise[i].append(train_X_case[CASE][train_X_case[CASE][col[3]]>100].index)   \n",
        "\n",
        "    # co2 관측치\n",
        "    noise[i].append(train_X_case[CASE][train_X_case[CASE][col[4]]<=0].index)    \n",
        "    noise[i].append(train_X_case[CASE][train_X_case[CASE][col[4]]>1200].index)   \n",
        "\n",
        "    # ec 관측치\n",
        "    noise[i].append(train_X_case[CASE][train_X_case[CASE][col[5]]<0].index)    \n",
        "    noise[i].append(train_X_case[CASE][train_X_case[CASE][col[5]]>8].index)   \n",
        "\n",
        "    # 시간당 분무량\n",
        "    noise[i].append(train_X_case[CASE][train_X_case[CASE][col[6]]<0].index)    \n",
        "    noise[i].append(train_X_case[CASE][train_X_case[CASE][col[6]]>3000].index)   \n",
        "\n",
        "    # 누적 분무량\n",
        "    noise[i].append(train_X_case[CASE][train_X_case[CASE][col[7]]<0].index)    \n",
        "    noise[i].append(train_X_case[CASE][train_X_case[CASE][col[7]]>72000].index)   \n",
        "\n",
        "    # 시간당 백색광량\n",
        "    noise[i].append(train_X_case[CASE][train_X_case[CASE][col[8]]<0].index)    \n",
        "    noise[i].append(train_X_case[CASE][train_X_case[CASE][col[8]]>120000].index)   \n",
        "\n",
        "    # 일간 누적 백색광량\n",
        "    noise[i].append(train_X_case[CASE][train_X_case[CASE][col[9]]<0].index)    \n",
        "    noise[i].append(train_X_case[CASE][train_X_case[CASE][col[9]]> 2880000].index)   \n",
        "\n",
        "    # 시간당 적색광량\n",
        "    noise[i].append(train_X_case[CASE][train_X_case[CASE][col[10]]<0].index)    \n",
        "    noise[i].append(train_X_case[CASE][train_X_case[CASE][col[10]]>120000].index)   \n",
        "\n",
        "    # 일간 누적 적색광량\n",
        "    noise[i].append(train_X_case[CASE][train_X_case[CASE][col[11]]<0].index)    \n",
        "    noise[i].append(train_X_case[CASE][train_X_case[CASE][col[11]]>2880000].index)   \n",
        "\n",
        "    # 시간당 청색광량\n",
        "    noise[i].append(train_X_case[CASE][train_X_case[CASE][col[12]]<0].index)    \n",
        "    noise[i].append(train_X_case[CASE][train_X_case[CASE][col[12]]>120000].index)   \n",
        "\n",
        "    # 일간 누적 청색광량\n",
        "    noise[i].append(train_X_case[CASE][train_X_case[CASE][col[13]]<0].index)    \n",
        "    noise[i].append(train_X_case[CASE][train_X_case[CASE][col[13]]>2880000].index)   \n",
        "\n",
        "    # 시간당 총광량\n",
        "    noise[i].append(train_X_case[CASE][train_X_case[CASE][col[14]]<0].index)    \n",
        "    noise[i].append(train_X_case[CASE][train_X_case[CASE][col[14]]>120000].index)   \n",
        "\n",
        "    # 일간 누적 총광량\n",
        "    noise[i].append(train_X_case[CASE][train_X_case[CASE][col[15]]<0].index)    \n",
        "    noise[i].append(train_X_case[CASE][train_X_case[CASE][col[15]]>2880000].index)   \n",
        "\n",
        "    # # 중복값 제거\n",
        "    # noise[i] = list(set(noise[i]))"
      ],
      "metadata": {
        "id": "hoUPUcK9x8mu"
      },
      "execution_count": null,
      "outputs": []
    },
    {
      "cell_type": "code",
      "source": [
        "for i in range(1, 29):\n",
        "    for j in range(28):\n",
        "        if len(noise[i][j]) != 0 and len(noise[i][j])<100:\n",
        "            print(\"case{} {}\".format(i, col[j//2+2]))\n",
        "            print(noise[i][j], \"\\n\")"
      ],
      "metadata": {
        "colab": {
          "base_uri": "https://localhost:8080/"
        },
        "id": "5rhoXnHQ1Hz7",
        "outputId": "53cd12e4-1f6b-48ba-cf8f-74d5b2e2f99c"
      },
      "execution_count": null,
      "outputs": [
        {
          "output_type": "stream",
          "name": "stdout",
          "text": [
            "case1 co2관측치\n",
            "Int64Index([639, 640, 641, 642], dtype='int64') \n",
            "\n",
            "case3 co2관측치\n",
            "Int64Index([ 12,  15,  16,  17,  18,  19,  20,  36,  39,  40,  41,  42,  43,\n",
            "             44,  60,  61,  62,  63,  64,  65,  66,  67,  68,  69, 159, 160,\n",
            "            161, 162, 180, 181, 182, 183, 184, 185, 186, 187, 188, 204, 205,\n",
            "            206, 207, 208, 209, 210, 211, 212, 229, 230, 231, 232, 233, 234,\n",
            "            235, 236, 237, 252, 253, 254, 255, 256, 257, 258, 259, 260, 325,\n",
            "            326, 327, 328, 329, 330, 331, 332, 333, 334, 350, 351, 352, 353,\n",
            "            354, 355, 356, 395, 396, 397, 400, 401, 402, 403, 404, 662, 663,\n",
            "            664, 665, 666, 667, 668],\n",
            "           dtype='int64') \n",
            "\n",
            "case4 내부온도관측치\n",
            "Int64Index([15], dtype='int64') \n",
            "\n",
            "case4 내부습도관측치\n",
            "Int64Index([15], dtype='int64') \n",
            "\n",
            "case4 co2관측치\n",
            "Int64Index([549], dtype='int64') \n",
            "\n",
            "case6 시간당백색광량\n",
            "Int64Index([15], dtype='int64') \n",
            "\n",
            "case6 시간당적색광량\n",
            "Int64Index([15], dtype='int64') \n",
            "\n",
            "case6 시간당청색광량\n",
            "Int64Index([15], dtype='int64') \n",
            "\n",
            "case6 시간당총광량\n",
            "Int64Index([15], dtype='int64') \n",
            "\n",
            "case8 내부온도관측치\n",
            "Int64Index([135, 136], dtype='int64') \n",
            "\n",
            "case13 시간당분무량\n",
            "Int64Index([601, 649], dtype='int64') \n",
            "\n",
            "case13 시간당분무량\n",
            "Int64Index([524], dtype='int64') \n",
            "\n",
            "case26 내부온도관측치\n",
            "Int64Index([52, 53, 54, 55, 56, 368, 408, 409, 410, 411], dtype='int64') \n",
            "\n",
            "case27 co2관측치\n",
            "Int64Index([549], dtype='int64') \n",
            "\n"
          ]
        }
      ]
    },
    {
      "cell_type": "markdown",
      "source": [
        "일단 값이 틀린 칼럼과 인덱스는 찾았으니, 대입할 값은 나중에 처리해보자."
      ],
      "metadata": {
        "id": "cMUr_8Ak6YnT"
      }
    },
    {
      "cell_type": "markdown",
      "source": [
        "#### co2 관측치"
      ],
      "metadata": {
        "id": "KPhFUb6lHerD"
      }
    },
    {
      "cell_type": "code",
      "source": [
        "# case 1 co2관측치\n",
        "train_X_case[\"01\"].loc[[637,638, 639, 640, 641, 642, 643, 644], \"co2관측치\"]"
      ],
      "metadata": {
        "colab": {
          "base_uri": "https://localhost:8080/"
        },
        "id": "c4WVacv3-Tcp",
        "outputId": "9e288b82-050b-49d7-adde-cfd34f6dd588"
      },
      "execution_count": null,
      "outputs": [
        {
          "output_type": "execute_result",
          "data": {
            "text/plain": [
              "637     682.600000\n",
              "638     997.916667\n",
              "639    1225.066667\n",
              "640    1220.583333\n",
              "641    1217.500000\n",
              "642    1264.366667\n",
              "643    1077.850000\n",
              "644    1043.066667\n",
              "Name: co2관측치, dtype: float64"
            ]
          },
          "metadata": {},
          "execution_count": 20
        }
      ]
    },
    {
      "cell_type": "code",
      "source": [
        "# case 3 co2관측치\n",
        "train_X_case[\"03\"].loc[[ 12,  15,  16,  17,  18,  19,  20,  36,  39,  40,  41,  42,  43,\n",
        "             44,  60,  61,  62,  63,  64,  65,  66,  67,  68,  69, 159, 160,\n",
        "            161, 162, 180, 181, 182, 183, 184, 185, 186, 187, 188, 204, 205,\n",
        "            206, 207, 208, 209, 210, 211, 212, 229, 230, 231, 232, 233, 234,\n",
        "            235, 236, 237, 252, 253, 254, 255, 256, 257, 258, 259, 260, 325,\n",
        "            326, 327, 328, 329, 330, 331, 332, 333, 334, 350, 351, 352, 353,\n",
        "            354, 355, 356, 395, 396, 397, 400, 401, 402, 403, 404, 662, 663,\n",
        "            664, 665, 666, 667, 668], \"co2관측치\"]"
      ],
      "metadata": {
        "colab": {
          "base_uri": "https://localhost:8080/"
        },
        "id": "vh2pz0Qa80Wh",
        "outputId": "fba7a67c-1be2-4821-899d-f2b353202490"
      },
      "execution_count": null,
      "outputs": [
        {
          "output_type": "execute_result",
          "data": {
            "text/plain": [
              "12     1219.633333\n",
              "15     1260.616667\n",
              "16     1261.050000\n",
              "17     1253.816667\n",
              "18     1343.500000\n",
              "          ...     \n",
              "664    1252.683333\n",
              "665    1263.350000\n",
              "666    1358.550000\n",
              "667    1360.933333\n",
              "668    1232.433333\n",
              "Name: co2관측치, Length: 96, dtype: float64"
            ]
          },
          "metadata": {},
          "execution_count": 21
        }
      ]
    },
    {
      "cell_type": "code",
      "source": [
        "# 케이스4 co2 관측치\n",
        "train_X_case[\"04\"].loc[[548, 549, 550], \"co2관측치\"]"
      ],
      "metadata": {
        "colab": {
          "base_uri": "https://localhost:8080/"
        },
        "id": "5CAjbX_T_wAk",
        "outputId": "1ebfa316-a524-4424-fcca-686d68ef5989"
      },
      "execution_count": null,
      "outputs": [
        {
          "output_type": "execute_result",
          "data": {
            "text/plain": [
              "548    1034.866667\n",
              "549    1311.500000\n",
              "550     953.683333\n",
              "Name: co2관측치, dtype: float64"
            ]
          },
          "metadata": {},
          "execution_count": 22
        }
      ]
    },
    {
      "cell_type": "code",
      "source": [
        "# case 27 co2 관측치\n",
        "train_X_case[\"27\"].loc[[548,549,550], \"co2관측치\"]"
      ],
      "metadata": {
        "colab": {
          "base_uri": "https://localhost:8080/"
        },
        "id": "DmZ5fO3gALtd",
        "outputId": "8862649f-8d74-4caf-991e-b17422e3120e"
      },
      "execution_count": null,
      "outputs": [
        {
          "output_type": "execute_result",
          "data": {
            "text/plain": [
              "548    1074.100000\n",
              "549    1355.116667\n",
              "550    1058.033333\n",
              "Name: co2관측치, dtype: float64"
            ]
          },
          "metadata": {},
          "execution_count": 23
        }
      ]
    },
    {
      "cell_type": "markdown",
      "source": [
        "**이 정도 co2관측량 오차는 수용될 수 있는 부분인 것 같다. 허용범위 내에 값이 아니더라도 물리적으로 가능한 값이기 때문에 그냥 넣겠다.**"
      ],
      "metadata": {
        "id": "ZeYXxrvo-HUo"
      }
    },
    {
      "cell_type": "markdown",
      "source": [
        "#### 내부온도관측치"
      ],
      "metadata": {
        "id": "WNO9C-zjHhXK"
      }
    },
    {
      "cell_type": "code",
      "source": [
        "# case 4\n",
        "train_X_case[\"04\"].loc[[14,15,16], \"내부온도관측치\"]"
      ],
      "metadata": {
        "colab": {
          "base_uri": "https://localhost:8080/"
        },
        "id": "wiZsLX5u-8Ys",
        "outputId": "95e0c997-b697-4f56-a3f5-0ff7fd2ede68"
      },
      "execution_count": null,
      "outputs": [
        {
          "output_type": "execute_result",
          "data": {
            "text/plain": [
              "14     6.921053\n",
              "15     0.000000\n",
              "16    16.516215\n",
              "Name: 내부온도관측치, dtype: float64"
            ]
          },
          "metadata": {},
          "execution_count": 24
        }
      ]
    },
    {
      "cell_type": "markdown",
      "source": [
        "온도가 0도 인것은 말이 안되므로, 앞과 뒤 온도의 평균을 넣어주겠다."
      ],
      "metadata": {
        "id": "p8ihSFwL_Liz"
      }
    },
    {
      "cell_type": "code",
      "source": [
        "train_X_case[\"04\"].loc[[15], \"내부온도관측치\"] = (6.921053+16.516215)/2"
      ],
      "metadata": {
        "id": "thba_PNN_TYz"
      },
      "execution_count": null,
      "outputs": []
    },
    {
      "cell_type": "code",
      "source": [
        "# case 8\n",
        "train_X_case[\"08\"].loc[[134,135,136,137], \"내부온도관측치\"]"
      ],
      "metadata": {
        "colab": {
          "base_uri": "https://localhost:8080/"
        },
        "id": "RLyBjdrPBrRr",
        "outputId": "53035bb9-95df-4b12-a8db-57d644a2fbeb"
      },
      "execution_count": null,
      "outputs": [
        {
          "output_type": "execute_result",
          "data": {
            "text/plain": [
              "134    39.278333\n",
              "135    40.033333\n",
              "136    40.363333\n",
              "137    38.435000\n",
              "Name: 내부온도관측치, dtype: float64"
            ]
          },
          "metadata": {},
          "execution_count": 26
        }
      ]
    },
    {
      "cell_type": "markdown",
      "source": [
        "추세를 봤을 때, 큰 오차는 아니므로 그냥 유지하겠다."
      ],
      "metadata": {
        "id": "QxbkwMEXB4XF"
      }
    },
    {
      "cell_type": "code",
      "source": [
        "# case 26\n",
        "train_X_case[\"26\"].loc[[51, 52, 53, 54, 55, 56, 368, 408, 409, 410, 411], \"내부온도관측치\"]"
      ],
      "metadata": {
        "colab": {
          "base_uri": "https://localhost:8080/"
        },
        "id": "KS9z6JN7IEqH",
        "outputId": "3e0f8a44-d297-43c6-df0a-ab16de37a8b8"
      },
      "execution_count": null,
      "outputs": [
        {
          "output_type": "execute_result",
          "data": {
            "text/plain": [
              "51     39.935001\n",
              "52     40.713333\n",
              "53     40.293333\n",
              "54     40.428333\n",
              "55     41.216666\n",
              "56     42.643334\n",
              "368    40.611667\n",
              "408    40.143333\n",
              "409    40.109999\n",
              "410    40.415001\n",
              "411    40.101667\n",
              "Name: 내부온도관측치, dtype: float64"
            ]
          },
          "metadata": {},
          "execution_count": 27
        }
      ]
    },
    {
      "cell_type": "markdown",
      "source": [
        "추세를 봤을 때, 큰 오차는 아니므로 그냥 유지하겠다."
      ],
      "metadata": {
        "id": "HnzNK0y-IWjy"
      }
    },
    {
      "cell_type": "markdown",
      "source": [
        "#### ec관측치"
      ],
      "metadata": {
        "id": "thGqUYjoIg8J"
      }
    },
    {
      "cell_type": "code",
      "source": [
        "# case1\n",
        "train_X_case[\"01\"].loc[[64,643,644,645, 646, 647, 648, 649, 650, 651, 652, 653, 655, 656, 657, 658, 659,\n",
        "            660, 661, 662, 663, 664, 665, 666, 667, 668, 669, 670, 671], \"ec관측치\"]"
      ],
      "metadata": {
        "colab": {
          "base_uri": "https://localhost:8080/"
        },
        "id": "prZhbMHqIjWI",
        "outputId": "a2591194-b50c-4ac6-e9c8-10aea022a5f3"
      },
      "execution_count": null,
      "outputs": [
        {
          "output_type": "execute_result",
          "data": {
            "text/plain": [
              "64     1.398022\n",
              "643    0.039426\n",
              "644    0.012940\n",
              "645    0.018853\n",
              "646    0.000000\n",
              "647    0.000000\n",
              "648    0.000000\n",
              "649    0.000000\n",
              "650    0.000000\n",
              "651    0.000000\n",
              "652    0.000000\n",
              "653    0.000000\n",
              "655    0.000000\n",
              "656    0.000000\n",
              "657    0.000000\n",
              "658    0.000000\n",
              "659    0.000000\n",
              "660    0.000000\n",
              "661    0.000000\n",
              "662    0.000000\n",
              "663    0.000000\n",
              "664    0.000000\n",
              "665    0.000000\n",
              "666    0.000000\n",
              "667    0.000000\n",
              "668    0.000000\n",
              "669    0.000000\n",
              "670    0.000000\n",
              "671    0.000000\n",
              "Name: ec관측치, dtype: float64"
            ]
          },
          "metadata": {},
          "execution_count": 28
        }
      ]
    },
    {
      "cell_type": "markdown",
      "source": [
        "실험의 마지막 즈음에 추세를 고려해서 ec관측치가 낮게 나타날 수는 있을 것 같다."
      ],
      "metadata": {
        "id": "kk76ju3YJJrt"
      }
    },
    {
      "cell_type": "code",
      "source": [
        "# case 3\n",
        "train_X_case[\"05\"].loc[[39,  40,  41,  42,  43,  44,  45, 245, 246, 247, 271, 272, 273,\n",
        "            302, 303, 321, 322, 337, 338, 339, 340, 353, 354, 355, 356, 367,\n",
        "            368, 369, 370, 377, 378, 379, 396, 397, 405, 406, 407, 408, 409,\n",
        "            425, 426, 427, 428, 429, 440, 452, 453, 454, 455, 456, 457, 466,\n",
        "            467, 473, 474, 475, 483, 484, 485, 486, 487, 488, 581], \"ec관측치\"]"
      ],
      "metadata": {
        "colab": {
          "base_uri": "https://localhost:8080/"
        },
        "id": "GewMjCO8IjSc",
        "outputId": "ac7d853d-1220-462b-ddbd-4321f94b21cc"
      },
      "execution_count": null,
      "outputs": [
        {
          "output_type": "execute_result",
          "data": {
            "text/plain": [
              "39     0.0\n",
              "40     0.0\n",
              "41     0.0\n",
              "42     0.0\n",
              "43     0.0\n",
              "      ... \n",
              "485    0.0\n",
              "486    0.0\n",
              "487    0.0\n",
              "488    0.0\n",
              "581    0.0\n",
              "Name: ec관측치, Length: 63, dtype: float64"
            ]
          },
          "metadata": {},
          "execution_count": 29
        }
      ]
    },
    {
      "cell_type": "markdown",
      "source": [
        "ec관측치가 0인 것이 의심스러워서 따로 살펴봤으나, 의도된 것인 것 같다. 나머지는 살펴보지 않아도 될 듯하다."
      ],
      "metadata": {
        "id": "5mlSU2L5IjPI"
      }
    },
    {
      "cell_type": "markdown",
      "source": [
        "#### 광량"
      ],
      "metadata": {
        "id": "dKvBNYEKHmY3"
      }
    },
    {
      "cell_type": "code",
      "source": [
        "train_X_case[\"06\"].loc[[14, 15, 16], [\"시간당백색광량\", \"시간당적색광량\", \"시간당청색광량\", \"시간당총광량\"]]"
      ],
      "metadata": {
        "colab": {
          "base_uri": "https://localhost:8080/",
          "height": 143
        },
        "id": "4UQDU8WJAcMI",
        "outputId": "1708627f-9aa5-401c-95c0-0a6a40e8fad2"
      },
      "execution_count": null,
      "outputs": [
        {
          "output_type": "execute_result",
          "data": {
            "text/plain": [
              "        시간당백색광량    시간당적색광량     시간당청색광량       시간당총광량\n",
              "14   18255.1900  1659.7644   3419.6695   23334.6239\n",
              "15 -138371.2461 -8793.6072 -18570.8575 -165735.7108\n",
              "16   17744.6635  2128.0728   3223.8570   23096.5933"
            ],
            "text/html": [
              "\n",
              "  <div id=\"df-8a4c0450-c73f-4a93-9c8b-e163d86189ef\">\n",
              "    <div class=\"colab-df-container\">\n",
              "      <div>\n",
              "<style scoped>\n",
              "    .dataframe tbody tr th:only-of-type {\n",
              "        vertical-align: middle;\n",
              "    }\n",
              "\n",
              "    .dataframe tbody tr th {\n",
              "        vertical-align: top;\n",
              "    }\n",
              "\n",
              "    .dataframe thead th {\n",
              "        text-align: right;\n",
              "    }\n",
              "</style>\n",
              "<table border=\"1\" class=\"dataframe\">\n",
              "  <thead>\n",
              "    <tr style=\"text-align: right;\">\n",
              "      <th></th>\n",
              "      <th>시간당백색광량</th>\n",
              "      <th>시간당적색광량</th>\n",
              "      <th>시간당청색광량</th>\n",
              "      <th>시간당총광량</th>\n",
              "    </tr>\n",
              "  </thead>\n",
              "  <tbody>\n",
              "    <tr>\n",
              "      <th>14</th>\n",
              "      <td>18255.1900</td>\n",
              "      <td>1659.7644</td>\n",
              "      <td>3419.6695</td>\n",
              "      <td>23334.6239</td>\n",
              "    </tr>\n",
              "    <tr>\n",
              "      <th>15</th>\n",
              "      <td>-138371.2461</td>\n",
              "      <td>-8793.6072</td>\n",
              "      <td>-18570.8575</td>\n",
              "      <td>-165735.7108</td>\n",
              "    </tr>\n",
              "    <tr>\n",
              "      <th>16</th>\n",
              "      <td>17744.6635</td>\n",
              "      <td>2128.0728</td>\n",
              "      <td>3223.8570</td>\n",
              "      <td>23096.5933</td>\n",
              "    </tr>\n",
              "  </tbody>\n",
              "</table>\n",
              "</div>\n",
              "      <button class=\"colab-df-convert\" onclick=\"convertToInteractive('df-8a4c0450-c73f-4a93-9c8b-e163d86189ef')\"\n",
              "              title=\"Convert this dataframe to an interactive table.\"\n",
              "              style=\"display:none;\">\n",
              "        \n",
              "  <svg xmlns=\"http://www.w3.org/2000/svg\" height=\"24px\"viewBox=\"0 0 24 24\"\n",
              "       width=\"24px\">\n",
              "    <path d=\"M0 0h24v24H0V0z\" fill=\"none\"/>\n",
              "    <path d=\"M18.56 5.44l.94 2.06.94-2.06 2.06-.94-2.06-.94-.94-2.06-.94 2.06-2.06.94zm-11 1L8.5 8.5l.94-2.06 2.06-.94-2.06-.94L8.5 2.5l-.94 2.06-2.06.94zm10 10l.94 2.06.94-2.06 2.06-.94-2.06-.94-.94-2.06-.94 2.06-2.06.94z\"/><path d=\"M17.41 7.96l-1.37-1.37c-.4-.4-.92-.59-1.43-.59-.52 0-1.04.2-1.43.59L10.3 9.45l-7.72 7.72c-.78.78-.78 2.05 0 2.83L4 21.41c.39.39.9.59 1.41.59.51 0 1.02-.2 1.41-.59l7.78-7.78 2.81-2.81c.8-.78.8-2.07 0-2.86zM5.41 20L4 18.59l7.72-7.72 1.47 1.35L5.41 20z\"/>\n",
              "  </svg>\n",
              "      </button>\n",
              "      \n",
              "  <style>\n",
              "    .colab-df-container {\n",
              "      display:flex;\n",
              "      flex-wrap:wrap;\n",
              "      gap: 12px;\n",
              "    }\n",
              "\n",
              "    .colab-df-convert {\n",
              "      background-color: #E8F0FE;\n",
              "      border: none;\n",
              "      border-radius: 50%;\n",
              "      cursor: pointer;\n",
              "      display: none;\n",
              "      fill: #1967D2;\n",
              "      height: 32px;\n",
              "      padding: 0 0 0 0;\n",
              "      width: 32px;\n",
              "    }\n",
              "\n",
              "    .colab-df-convert:hover {\n",
              "      background-color: #E2EBFA;\n",
              "      box-shadow: 0px 1px 2px rgba(60, 64, 67, 0.3), 0px 1px 3px 1px rgba(60, 64, 67, 0.15);\n",
              "      fill: #174EA6;\n",
              "    }\n",
              "\n",
              "    [theme=dark] .colab-df-convert {\n",
              "      background-color: #3B4455;\n",
              "      fill: #D2E3FC;\n",
              "    }\n",
              "\n",
              "    [theme=dark] .colab-df-convert:hover {\n",
              "      background-color: #434B5C;\n",
              "      box-shadow: 0px 1px 3px 1px rgba(0, 0, 0, 0.15);\n",
              "      filter: drop-shadow(0px 1px 2px rgba(0, 0, 0, 0.3));\n",
              "      fill: #FFFFFF;\n",
              "    }\n",
              "  </style>\n",
              "\n",
              "      <script>\n",
              "        const buttonEl =\n",
              "          document.querySelector('#df-8a4c0450-c73f-4a93-9c8b-e163d86189ef button.colab-df-convert');\n",
              "        buttonEl.style.display =\n",
              "          google.colab.kernel.accessAllowed ? 'block' : 'none';\n",
              "\n",
              "        async function convertToInteractive(key) {\n",
              "          const element = document.querySelector('#df-8a4c0450-c73f-4a93-9c8b-e163d86189ef');\n",
              "          const dataTable =\n",
              "            await google.colab.kernel.invokeFunction('convertToInteractive',\n",
              "                                                     [key], {});\n",
              "          if (!dataTable) return;\n",
              "\n",
              "          const docLinkHtml = 'Like what you see? Visit the ' +\n",
              "            '<a target=\"_blank\" href=https://colab.research.google.com/notebooks/data_table.ipynb>data table notebook</a>'\n",
              "            + ' to learn more about interactive tables.';\n",
              "          element.innerHTML = '';\n",
              "          dataTable['output_type'] = 'display_data';\n",
              "          await google.colab.output.renderOutput(dataTable, element);\n",
              "          const docLink = document.createElement('div');\n",
              "          docLink.innerHTML = docLinkHtml;\n",
              "          element.appendChild(docLink);\n",
              "        }\n",
              "      </script>\n",
              "    </div>\n",
              "  </div>\n",
              "  "
            ]
          },
          "metadata": {},
          "execution_count": 30
        }
      ]
    },
    {
      "cell_type": "markdown",
      "source": [
        "15번째 인덱스의 음수컬럼은 말이 안되기 때문에 이전과 이후의 평균값을 넣어주겠다."
      ],
      "metadata": {
        "id": "Jf2S2ekoAuV8"
      }
    },
    {
      "cell_type": "code",
      "source": [
        "insert_value = (np.array([18255.1900,1659.7644,3419.6695,23334.6239]) + np.array([17744.6635,2128.0728,3223.8570,23096.5933]))/2"
      ],
      "metadata": {
        "id": "CR3lbmW4BRkw"
      },
      "execution_count": null,
      "outputs": []
    },
    {
      "cell_type": "code",
      "source": [
        "train_X_case[\"06\"].loc[[15], [\"시간당백색광량\", \"시간당적색광량\", \"시간당청색광량\", \"시간당총광량\"]] = insert_value"
      ],
      "metadata": {
        "id": "nz4LFj6YA1Ja"
      },
      "execution_count": null,
      "outputs": []
    },
    {
      "cell_type": "markdown",
      "source": [
        "#### 시간당 분무량"
      ],
      "metadata": {
        "id": "Lln4BUw4K37U"
      }
    },
    {
      "cell_type": "code",
      "source": [
        "# case 13\n",
        "train_X_case[\"13\"].loc[[523,524,525,600,601,602,648,649,650], \"시간당분무량\"]"
      ],
      "metadata": {
        "colab": {
          "base_uri": "https://localhost:8080/"
        },
        "id": "sGaCE1aTB-ML",
        "outputId": "8555b3a1-1bdb-4b7d-8d9a-275ff604c986"
      },
      "execution_count": null,
      "outputs": [
        {
          "output_type": "execute_result",
          "data": {
            "text/plain": [
              "523    1171.49\n",
              "524    3144.13\n",
              "525     769.00\n",
              "600     537.52\n",
              "601    -537.52\n",
              "602    1415.83\n",
              "648     653.26\n",
              "649    -653.26\n",
              "650    1415.83\n",
              "Name: 시간당분무량, dtype: float64"
            ]
          },
          "metadata": {},
          "execution_count": 33
        }
      ]
    },
    {
      "cell_type": "markdown",
      "source": [
        "시간당  분무량도 어느정도 선형적인 값이므로, 이전과 이후의 평균을 넣어주겠다."
      ],
      "metadata": {
        "id": "o3FQZHXvCXzX"
      }
    },
    {
      "cell_type": "code",
      "source": [
        "train_X_case[\"13\"].loc[[524], \"시간당분무량\"] = (1171.49+769)/2\n",
        "train_X_case[\"13\"].loc[[601], \"시간당분무량\"] = (537.52+1415.83)/2\n",
        "train_X_case[\"13\"].loc[[649], \"시간당분무량\"] = (635.26+1415.83)/2"
      ],
      "metadata": {
        "id": "snJBitNmCgkQ"
      },
      "execution_count": null,
      "outputs": []
    },
    {
      "cell_type": "markdown",
      "source": [
        "#### 내부습도관측치"
      ],
      "metadata": {
        "id": "9IABMSkhLsCQ"
      }
    },
    {
      "cell_type": "code",
      "source": [
        "# case4\n",
        "train_X_case[\"04\"].loc[[14,15,16], \"내부습도관측치\"]"
      ],
      "metadata": {
        "colab": {
          "base_uri": "https://localhost:8080/"
        },
        "id": "qBva1bLYLxNn",
        "outputId": "44086694-b5cd-48d8-af5b-5eceb1560ef0"
      },
      "execution_count": null,
      "outputs": [
        {
          "output_type": "execute_result",
          "data": {
            "text/plain": [
              "14     9.639473\n",
              "15     0.000000\n",
              "16    32.157695\n",
              "Name: 내부습도관측치, dtype: float64"
            ]
          },
          "metadata": {},
          "execution_count": 35
        }
      ]
    },
    {
      "cell_type": "markdown",
      "source": [
        "이렇게 갑자기 0이되는건 이상하다 생각되기 때문에 이전과 이후의 평균을 채워주겠다."
      ],
      "metadata": {
        "id": "7w3QqkXiL5nJ"
      }
    },
    {
      "cell_type": "code",
      "source": [
        "train_X_case[\"04\"].loc[[14,15,16], \"내부습도관측치\"] = (9.639473+32.157695)/2"
      ],
      "metadata": {
        "id": "37BxoYX3MC9I"
      },
      "execution_count": null,
      "outputs": []
    },
    {
      "cell_type": "markdown",
      "source": [
        "### 다시 데이터셋을 합치고 나누기\n",
        "noise데이터를 처리했기 때문에 다시 데이터셋을 생성해준다."
      ],
      "metadata": {
        "id": "lT9hxF_4MZPi"
      }
    },
    {
      "cell_type": "markdown",
      "source": [
        "### 다시 데이터셋 합치기 train_all_X(DF)\n",
        "모든데이터를 합친다."
      ],
      "metadata": {
        "id": "Href82SLMgWy"
      }
    },
    {
      "cell_type": "code",
      "source": [
        "train_all_X = pd.DataFrame()\n",
        "\n",
        "for i in range(1,29):\n",
        "    CASE = str(i).zfill(2)\n",
        "    train_all_X = train_all_X.append(train_X_case[CASE])"
      ],
      "metadata": {
        "id": "aLTJmUL6MgWz"
      },
      "execution_count": null,
      "outputs": []
    },
    {
      "cell_type": "code",
      "source": [
        "train_all_X.shape"
      ],
      "metadata": {
        "colab": {
          "base_uri": "https://localhost:8080/"
        },
        "outputId": "135f98c1-caeb-4d42-9445-4574e7ff6179",
        "id": "1Yq0cJgiMgW0"
      },
      "execution_count": null,
      "outputs": [
        {
          "output_type": "execute_result",
          "data": {
            "text/plain": [
              "(18816, 16)"
            ]
          },
          "metadata": {},
          "execution_count": 38
        }
      ]
    },
    {
      "cell_type": "markdown",
      "source": [
        "### 다시 데이터셋 나누기 train_X_case_day(list)\n",
        "\n",
        "각 상추의 28일치 데이터를 분리해서 저장한다."
      ],
      "metadata": {
        "id": "sOsS5akhMmKF"
      }
    },
    {
      "cell_type": "code",
      "source": [
        "# train_X_case_day[x][y] 를 입력하면 x 케이스의 y번째 날 데이터 프레임을 리턴함\n",
        "train_X_case_day = [[]]\n",
        "\n",
        "for i in range(1,29):\n",
        "    train_X_case_day.append([])\n",
        "    for j in range(1,29):\n",
        "        train_X_case_day[i].append(train_X_case[\"{}\".format(str(i).zfill(2))].iloc[24*(j-1):j*24, :])"
      ],
      "metadata": {
        "id": "_p8WXHoJMmKG"
      },
      "execution_count": null,
      "outputs": []
    },
    {
      "cell_type": "markdown",
      "source": [
        "### 이상치 처리\n",
        "train_all_X.describe() 를 통해서 이상치의 값을 어떻게 처리할지 생각해본다."
      ],
      "metadata": {
        "id": "kDfSclhsE00n"
      }
    },
    {
      "cell_type": "code",
      "source": [
        "train_all_X.describe()"
      ],
      "metadata": {
        "id": "jN7zEZwCFcpO",
        "colab": {
          "base_uri": "https://localhost:8080/",
          "height": 300
        },
        "outputId": "7df03250-9911-4a29-8b68-33be520ba53f"
      },
      "execution_count": null,
      "outputs": [
        {
          "output_type": "execute_result",
          "data": {
            "text/plain": [
              "                DAT       내부온도관측치       내부습도관측치        co2관측치         ec관측치  \\\n",
              "count  18816.000000  18816.000000  18816.000000  18816.000000  18816.000000   \n",
              "mean      13.500000     26.028341     63.936201    498.860695      1.507566   \n",
              "std        8.077962      3.945806     11.652230    120.421248      1.042010   \n",
              "min        0.000000      6.921053     15.348148     60.400000      0.000000   \n",
              "25%        6.750000     23.971250     57.494583    420.245833      0.929581   \n",
              "50%       13.500000     26.291667     62.118333    473.983333      1.308517   \n",
              "75%       20.250000     28.106667     73.157166    551.105952      2.291322   \n",
              "max       27.000000     42.643334     93.350002   1714.850000      5.462324   \n",
              "\n",
              "             시간당분무량       일간누적분무량       시간당백색광량       일간누적백색광량       시간당적색광량  \\\n",
              "count  18816.000000  18816.000000  18816.000000   18816.000000  18816.000000   \n",
              "mean     523.682080   6365.916673   6323.873473   72910.240149   1572.430914   \n",
              "std      543.897317   6903.680044   8120.283264   86040.447105   2936.281308   \n",
              "min        0.000000      0.000000      0.000000       0.000000      0.000000   \n",
              "25%        0.000000   1234.280000      0.000000       0.000000      0.000000   \n",
              "50%      252.000000   3360.485000      0.000000   23205.750000      0.000000   \n",
              "75%      769.000000   9990.570000  18236.625400  145422.700000   1495.939200   \n",
              "max     2951.230000  42855.230000  18564.600000  292014.969800   9928.800000   \n",
              "\n",
              "            일간누적적색광량       시간당청색광량       일간누적청색광량        시간당총광량        일간누적총광량  \n",
              "count   18816.000000  18816.000000   18816.000000  18816.000000   18816.000000  \n",
              "mean    18201.358998   1243.069492   14139.184959   9139.373879  105250.784106  \n",
              "std     34386.384982   2470.253289   27743.227265   9087.008979   97397.224913  \n",
              "min         0.000000      0.000000       0.000000      0.000000       0.000000  \n",
              "25%         0.000000      0.000000       0.000000      0.000000    7280.962850  \n",
              "50%         0.000000      0.000000       0.000000   9242.350000   92172.360000  \n",
              "75%     17529.296400   1306.461000   18484.700000  18255.190000  177491.499450  \n",
              "max    200561.760000   9399.000000  190016.450000  37892.400000  559488.881000  "
            ],
            "text/html": [
              "\n",
              "  <div id=\"df-b68d9f22-fd2f-4990-8906-d3b30f7dd8fb\">\n",
              "    <div class=\"colab-df-container\">\n",
              "      <div>\n",
              "<style scoped>\n",
              "    .dataframe tbody tr th:only-of-type {\n",
              "        vertical-align: middle;\n",
              "    }\n",
              "\n",
              "    .dataframe tbody tr th {\n",
              "        vertical-align: top;\n",
              "    }\n",
              "\n",
              "    .dataframe thead th {\n",
              "        text-align: right;\n",
              "    }\n",
              "</style>\n",
              "<table border=\"1\" class=\"dataframe\">\n",
              "  <thead>\n",
              "    <tr style=\"text-align: right;\">\n",
              "      <th></th>\n",
              "      <th>DAT</th>\n",
              "      <th>내부온도관측치</th>\n",
              "      <th>내부습도관측치</th>\n",
              "      <th>co2관측치</th>\n",
              "      <th>ec관측치</th>\n",
              "      <th>시간당분무량</th>\n",
              "      <th>일간누적분무량</th>\n",
              "      <th>시간당백색광량</th>\n",
              "      <th>일간누적백색광량</th>\n",
              "      <th>시간당적색광량</th>\n",
              "      <th>일간누적적색광량</th>\n",
              "      <th>시간당청색광량</th>\n",
              "      <th>일간누적청색광량</th>\n",
              "      <th>시간당총광량</th>\n",
              "      <th>일간누적총광량</th>\n",
              "    </tr>\n",
              "  </thead>\n",
              "  <tbody>\n",
              "    <tr>\n",
              "      <th>count</th>\n",
              "      <td>18816.000000</td>\n",
              "      <td>18816.000000</td>\n",
              "      <td>18816.000000</td>\n",
              "      <td>18816.000000</td>\n",
              "      <td>18816.000000</td>\n",
              "      <td>18816.000000</td>\n",
              "      <td>18816.000000</td>\n",
              "      <td>18816.000000</td>\n",
              "      <td>18816.000000</td>\n",
              "      <td>18816.000000</td>\n",
              "      <td>18816.000000</td>\n",
              "      <td>18816.000000</td>\n",
              "      <td>18816.000000</td>\n",
              "      <td>18816.000000</td>\n",
              "      <td>18816.000000</td>\n",
              "    </tr>\n",
              "    <tr>\n",
              "      <th>mean</th>\n",
              "      <td>13.500000</td>\n",
              "      <td>26.028341</td>\n",
              "      <td>63.936201</td>\n",
              "      <td>498.860695</td>\n",
              "      <td>1.507566</td>\n",
              "      <td>523.682080</td>\n",
              "      <td>6365.916673</td>\n",
              "      <td>6323.873473</td>\n",
              "      <td>72910.240149</td>\n",
              "      <td>1572.430914</td>\n",
              "      <td>18201.358998</td>\n",
              "      <td>1243.069492</td>\n",
              "      <td>14139.184959</td>\n",
              "      <td>9139.373879</td>\n",
              "      <td>105250.784106</td>\n",
              "    </tr>\n",
              "    <tr>\n",
              "      <th>std</th>\n",
              "      <td>8.077962</td>\n",
              "      <td>3.945806</td>\n",
              "      <td>11.652230</td>\n",
              "      <td>120.421248</td>\n",
              "      <td>1.042010</td>\n",
              "      <td>543.897317</td>\n",
              "      <td>6903.680044</td>\n",
              "      <td>8120.283264</td>\n",
              "      <td>86040.447105</td>\n",
              "      <td>2936.281308</td>\n",
              "      <td>34386.384982</td>\n",
              "      <td>2470.253289</td>\n",
              "      <td>27743.227265</td>\n",
              "      <td>9087.008979</td>\n",
              "      <td>97397.224913</td>\n",
              "    </tr>\n",
              "    <tr>\n",
              "      <th>min</th>\n",
              "      <td>0.000000</td>\n",
              "      <td>6.921053</td>\n",
              "      <td>15.348148</td>\n",
              "      <td>60.400000</td>\n",
              "      <td>0.000000</td>\n",
              "      <td>0.000000</td>\n",
              "      <td>0.000000</td>\n",
              "      <td>0.000000</td>\n",
              "      <td>0.000000</td>\n",
              "      <td>0.000000</td>\n",
              "      <td>0.000000</td>\n",
              "      <td>0.000000</td>\n",
              "      <td>0.000000</td>\n",
              "      <td>0.000000</td>\n",
              "      <td>0.000000</td>\n",
              "    </tr>\n",
              "    <tr>\n",
              "      <th>25%</th>\n",
              "      <td>6.750000</td>\n",
              "      <td>23.971250</td>\n",
              "      <td>57.494583</td>\n",
              "      <td>420.245833</td>\n",
              "      <td>0.929581</td>\n",
              "      <td>0.000000</td>\n",
              "      <td>1234.280000</td>\n",
              "      <td>0.000000</td>\n",
              "      <td>0.000000</td>\n",
              "      <td>0.000000</td>\n",
              "      <td>0.000000</td>\n",
              "      <td>0.000000</td>\n",
              "      <td>0.000000</td>\n",
              "      <td>0.000000</td>\n",
              "      <td>7280.962850</td>\n",
              "    </tr>\n",
              "    <tr>\n",
              "      <th>50%</th>\n",
              "      <td>13.500000</td>\n",
              "      <td>26.291667</td>\n",
              "      <td>62.118333</td>\n",
              "      <td>473.983333</td>\n",
              "      <td>1.308517</td>\n",
              "      <td>252.000000</td>\n",
              "      <td>3360.485000</td>\n",
              "      <td>0.000000</td>\n",
              "      <td>23205.750000</td>\n",
              "      <td>0.000000</td>\n",
              "      <td>0.000000</td>\n",
              "      <td>0.000000</td>\n",
              "      <td>0.000000</td>\n",
              "      <td>9242.350000</td>\n",
              "      <td>92172.360000</td>\n",
              "    </tr>\n",
              "    <tr>\n",
              "      <th>75%</th>\n",
              "      <td>20.250000</td>\n",
              "      <td>28.106667</td>\n",
              "      <td>73.157166</td>\n",
              "      <td>551.105952</td>\n",
              "      <td>2.291322</td>\n",
              "      <td>769.000000</td>\n",
              "      <td>9990.570000</td>\n",
              "      <td>18236.625400</td>\n",
              "      <td>145422.700000</td>\n",
              "      <td>1495.939200</td>\n",
              "      <td>17529.296400</td>\n",
              "      <td>1306.461000</td>\n",
              "      <td>18484.700000</td>\n",
              "      <td>18255.190000</td>\n",
              "      <td>177491.499450</td>\n",
              "    </tr>\n",
              "    <tr>\n",
              "      <th>max</th>\n",
              "      <td>27.000000</td>\n",
              "      <td>42.643334</td>\n",
              "      <td>93.350002</td>\n",
              "      <td>1714.850000</td>\n",
              "      <td>5.462324</td>\n",
              "      <td>2951.230000</td>\n",
              "      <td>42855.230000</td>\n",
              "      <td>18564.600000</td>\n",
              "      <td>292014.969800</td>\n",
              "      <td>9928.800000</td>\n",
              "      <td>200561.760000</td>\n",
              "      <td>9399.000000</td>\n",
              "      <td>190016.450000</td>\n",
              "      <td>37892.400000</td>\n",
              "      <td>559488.881000</td>\n",
              "    </tr>\n",
              "  </tbody>\n",
              "</table>\n",
              "</div>\n",
              "      <button class=\"colab-df-convert\" onclick=\"convertToInteractive('df-b68d9f22-fd2f-4990-8906-d3b30f7dd8fb')\"\n",
              "              title=\"Convert this dataframe to an interactive table.\"\n",
              "              style=\"display:none;\">\n",
              "        \n",
              "  <svg xmlns=\"http://www.w3.org/2000/svg\" height=\"24px\"viewBox=\"0 0 24 24\"\n",
              "       width=\"24px\">\n",
              "    <path d=\"M0 0h24v24H0V0z\" fill=\"none\"/>\n",
              "    <path d=\"M18.56 5.44l.94 2.06.94-2.06 2.06-.94-2.06-.94-.94-2.06-.94 2.06-2.06.94zm-11 1L8.5 8.5l.94-2.06 2.06-.94-2.06-.94L8.5 2.5l-.94 2.06-2.06.94zm10 10l.94 2.06.94-2.06 2.06-.94-2.06-.94-.94-2.06-.94 2.06-2.06.94z\"/><path d=\"M17.41 7.96l-1.37-1.37c-.4-.4-.92-.59-1.43-.59-.52 0-1.04.2-1.43.59L10.3 9.45l-7.72 7.72c-.78.78-.78 2.05 0 2.83L4 21.41c.39.39.9.59 1.41.59.51 0 1.02-.2 1.41-.59l7.78-7.78 2.81-2.81c.8-.78.8-2.07 0-2.86zM5.41 20L4 18.59l7.72-7.72 1.47 1.35L5.41 20z\"/>\n",
              "  </svg>\n",
              "      </button>\n",
              "      \n",
              "  <style>\n",
              "    .colab-df-container {\n",
              "      display:flex;\n",
              "      flex-wrap:wrap;\n",
              "      gap: 12px;\n",
              "    }\n",
              "\n",
              "    .colab-df-convert {\n",
              "      background-color: #E8F0FE;\n",
              "      border: none;\n",
              "      border-radius: 50%;\n",
              "      cursor: pointer;\n",
              "      display: none;\n",
              "      fill: #1967D2;\n",
              "      height: 32px;\n",
              "      padding: 0 0 0 0;\n",
              "      width: 32px;\n",
              "    }\n",
              "\n",
              "    .colab-df-convert:hover {\n",
              "      background-color: #E2EBFA;\n",
              "      box-shadow: 0px 1px 2px rgba(60, 64, 67, 0.3), 0px 1px 3px 1px rgba(60, 64, 67, 0.15);\n",
              "      fill: #174EA6;\n",
              "    }\n",
              "\n",
              "    [theme=dark] .colab-df-convert {\n",
              "      background-color: #3B4455;\n",
              "      fill: #D2E3FC;\n",
              "    }\n",
              "\n",
              "    [theme=dark] .colab-df-convert:hover {\n",
              "      background-color: #434B5C;\n",
              "      box-shadow: 0px 1px 3px 1px rgba(0, 0, 0, 0.15);\n",
              "      filter: drop-shadow(0px 1px 2px rgba(0, 0, 0, 0.3));\n",
              "      fill: #FFFFFF;\n",
              "    }\n",
              "  </style>\n",
              "\n",
              "      <script>\n",
              "        const buttonEl =\n",
              "          document.querySelector('#df-b68d9f22-fd2f-4990-8906-d3b30f7dd8fb button.colab-df-convert');\n",
              "        buttonEl.style.display =\n",
              "          google.colab.kernel.accessAllowed ? 'block' : 'none';\n",
              "\n",
              "        async function convertToInteractive(key) {\n",
              "          const element = document.querySelector('#df-b68d9f22-fd2f-4990-8906-d3b30f7dd8fb');\n",
              "          const dataTable =\n",
              "            await google.colab.kernel.invokeFunction('convertToInteractive',\n",
              "                                                     [key], {});\n",
              "          if (!dataTable) return;\n",
              "\n",
              "          const docLinkHtml = 'Like what you see? Visit the ' +\n",
              "            '<a target=\"_blank\" href=https://colab.research.google.com/notebooks/data_table.ipynb>data table notebook</a>'\n",
              "            + ' to learn more about interactive tables.';\n",
              "          element.innerHTML = '';\n",
              "          dataTable['output_type'] = 'display_data';\n",
              "          await google.colab.output.renderOutput(dataTable, element);\n",
              "          const docLink = document.createElement('div');\n",
              "          docLink.innerHTML = docLinkHtml;\n",
              "          element.appendChild(docLink);\n",
              "        }\n",
              "      </script>\n",
              "    </div>\n",
              "  </div>\n",
              "  "
            ]
          },
          "metadata": {},
          "execution_count": 40
        }
      ]
    },
    {
      "cell_type": "markdown",
      "source": [
        "이게 범위가 있는 데이터 셋이여서 이상치라고 할만한게 없다. <br>\n",
        "모든 데이터셋을 선형적으로 관찰하면서 발견할 수는 있겠으나, 내가 그렇게 하지는 않았기 때문에 없다고 생각하겠다.\n",
        "\n",
        "test_train 데이터는 내가 노이즈값 처리를 하면서 얻은 지식을 전처리를 할 예정이다. \n",
        "\n",
        "- 광량이 음수인경우 \n",
        "- 온도가 0인 경우\n",
        "- 시간당 분무량이 음수인 경우\n",
        "- 내부 습도가 0인 경우\n",
        "\n",
        "에는 전 값을 채워넣거나, train_all_X 평균을 채워넣으면 될 듯 하다."
      ],
      "metadata": {
        "id": "5qZuTesYNAEi"
      }
    },
    {
      "cell_type": "markdown",
      "source": [
        "## 학습데이터 최종 가공\n",
        "\n",
        "2D데이터를 target데이터에 대응시킬 수 없기 때문에 시간당 데이터를 일별 데이터로 변환 하겠다.\n",
        "\n",
        "일별 데이터로 가공하는 방법은 \n",
        "1. [평균, 분산, 최대값, 최소값 사용](https://dacon.io/competitions/official/235961/codeshare/6589?page=1&dtype=recent)\n",
        "2. [중앙값 사용](https://dacon.io/competitions/official/235961/codeshare/6594?page=1&dtype=recent)\n",
        "3. [총량 사용](https://dacon.io/competitions/official/235961/codeshare/6582?page=1&dtype=recent)\n",
        "4. 누적된 총량 사용\n",
        "\n",
        "\n",
        "일단 3, 4를 해봤다.<br>\n",
        "시간이 된다면 모두 해보자."
      ],
      "metadata": {
        "id": "7VMUNB7Q0I4P"
      }
    },
    {
      "cell_type": "code",
      "source": [
        "# 하루의 총합으로 일별데이터 가공을 진행했다.\n",
        "\n",
        "train_daily_total_X =  pd.DataFrame()\n",
        "\n",
        "for CASE in range(1,29):\n",
        "    for DAY in range(0,28):\n",
        "        # series를 전치시켜서 내가 원하는 데이터프레임을 얻음.\n",
        "        total = pd.DataFrame(train_X_case_day[CASE][DAY].sum()).T.drop([\"obs_time\"], axis=1)\n",
        "        train_daily_total_X = train_daily_total_X.append(total, ignore_index=True)"
      ],
      "metadata": {
        "id": "vUDvumk6U7Kp"
      },
      "execution_count": null,
      "outputs": []
    },
    {
      "cell_type": "code",
      "source": [
        "# 누적된 데이터의 총합으로 일별데이터 가공을 진행했다.\n",
        "\n",
        "train_stacked_total_X = pd.DataFrame()\n",
        "\n",
        "for CASE in range(1,29):\n",
        "    for DAY in range(0,28):\n",
        "        stacked_total = train_daily_total_X.iloc[(CASE-1)*28:DAY+(CASE-1)*28+1 ,:].sum()\n",
        "        train_stacked_total_X = train_stacked_total_X.append(stacked_total, ignore_index=True)"
      ],
      "metadata": {
        "id": "16uUd_ZJd6al"
      },
      "execution_count": null,
      "outputs": []
    },
    {
      "cell_type": "markdown",
      "source": [
        "## 데이터 표준화"
      ],
      "metadata": {
        "id": "d_mT5PAn0tDh"
      }
    },
    {
      "cell_type": "code",
      "source": [
        "from sklearn.preprocessing import StandardScaler\n",
        "\n",
        "train_stacked_total_scaler = StandardScaler()   \n",
        "\n",
        "# standardized\n",
        "train_stacked_total_X_sd = pd.DataFrame(train_stacked_total_scaler.fit_transform(train_stacked_total_X), columns=train_stacked_total_X.columns)\n",
        "train_stacked_total_X_sd.columns = train_stacked_total_X.columns"
      ],
      "metadata": {
        "id": "6WjS3hi-d1Qg"
      },
      "execution_count": null,
      "outputs": []
    },
    {
      "cell_type": "code",
      "source": [
        "train_daily_total_scaler = StandardScaler()   \n",
        "\n",
        "# standardized\n",
        "train_daily_total_X_sd = pd.DataFrame(train_daily_total_scaler.fit_transform(train_daily_total_X), columns=train_stacked_total_X.columns)\n",
        "train_daily_total_X_sd.columns = train_daily_total_X.columns"
      ],
      "metadata": {
        "id": "4QvVlZGed1M1"
      },
      "execution_count": null,
      "outputs": []
    },
    {
      "cell_type": "markdown",
      "source": [
        "### 데이터셋 타입 to float32 | 최종"
      ],
      "metadata": {
        "id": "5xAOlzmY4C_q"
      }
    },
    {
      "cell_type": "code",
      "source": [
        "# int32 로 타입 변경\n",
        "train_daily_total_X_sd = train_daily_total_X_sd.astype(np.float32)\n",
        "train_stacked_total_X_sd = train_stacked_total_X_sd.astype(np.float32)"
      ],
      "metadata": {
        "id": "8f7NP6jj-eb3"
      },
      "execution_count": null,
      "outputs": []
    },
    {
      "cell_type": "code",
      "source": [
        "train_daily_total_X_sd_W = train_daily_total_X_sd\n",
        "train_stacked_total_X_sd_W = train_stacked_total_X_sd\n",
        "\n",
        "train_daily_total_X_sd_R = train_daily_total_X_sd.iloc[rate_index, :]\n",
        "train_stacked_total_X_sd_R = train_stacked_total_X_sd.iloc[rate_index, :]"
      ],
      "metadata": {
        "id": "qCQj758oDSIu"
      },
      "execution_count": null,
      "outputs": []
    },
    {
      "cell_type": "code",
      "source": [],
      "metadata": {
        "id": "9lhyFetolV5Y"
      },
      "execution_count": null,
      "outputs": []
    },
    {
      "cell_type": "markdown",
      "source": [
        "## 상관관계 보기\n",
        "\n",
        "일별데이터로 새로운 데이터를 만들어서 성장률과 각 컬럼을 비교함"
      ],
      "metadata": {
        "id": "JjEyB7zLrO4N"
      }
    },
    {
      "cell_type": "markdown",
      "source": [
        "![image.png](data:image/png;base64,iVBORw0KGgoAAAANSUhEUgAAA38AAAJGCAIAAABk16sJAAAgAElEQVR4nOydZ1gU19vGn9nK0jtIEVSaKEVREVCwRiMIRlFRQ0SNYtfYjUosKCaibyxRwVjRWLChYuwFxYqKjSpIX3pZYJet834YWIbdBRY0EvM/v2s/zJx2nzIz+8xpg+E4DggEAoFAIBAIxBeB0tEZQCAQCAQCgUD8D4GsTwQCgUAgEAjElwNZnwgEAoFAIBCILweyPhEIBAKBQCAQXw5kfSIQCAQCgUAgvhzI+kQgEAhlYbPZJ06caGussrKyY8eO1dXVtTXi+/fvY2Ji2hrrq4bD4bSvrhAIxFcEsj4RCEQjtbW1BQUFfD5f3isvLy80NLSmpobsGBoampSUJBPy+PHjV69elZ6eOHHihx9+UD4PBw4csG3KlStXWghfU1OT0ZTKykqpr0AguH37dnV1tfIZkOfBgwe5ubkA8P79+40bN7Y1+ocPHzZv3lxaWtrWiHfu3Nm5c2dbY8nz7t27oqKitsYqKysbNWpUcnJyWyPeu3dv9OjRbYqSkJCQmpoKAPn5+e2rKwQC8RVB6+gMIBCIfwXPnj37/fffX716JZFI6HS6h4fHkiVLbG1tpQHy8/OjoqKCgoLU1dWljlFRUQ4ODvb29uSkrl+/3rlz51GjRhGn5eXleXl5yudk0qRJQ4YMIbuYmJi0EP7kyZPh4eFkl6CgoNWrVxPHxcXFc+fOPXbsmKurq/J5kOGXX36ZMmXKjBkzWghTV1dXWlqqra1Nrp8WEAgEFRUVMjsuMxgMXV3ddudz8uTJY8eO9ff3l3FfuHDh2LFj58+fT3b8888/yWY6AYVCsbW19fb2BgAej5eRkcHhcMgBOBzOgQMH5DeKptFonp6evXv3BoDy8vK0tLQ25Xznzp3W1tYhISFtioVAIL5SkPWJQCDg/v37c+bMmTBhwqZNm4yMjDIzMw8cODBx4sRDhw4R9sQXQCKRZGVlKfz+BZvNVlNTMzIyknGvrKyUSCTjxo0bN26cjFd5eTkAKG8Ijhs3Lj09XUZ9165dI0aMaDV6eXl5aGjojRs3hEIhhmHu7u4hISGWlpYtRCkqKho5ciSXy5Vxt7Kyio2NVSbPCklKSvrmm28UeslXbGZmZllZmYxjRUVFRESEo6Ojubm5wnQEAoF8RQHAx48fL168eO/evebytm7dujNnzpBddHR0wsPDBwwY0FwUBALxXwVZnwgEAjZv3jxy5Mj169cTp46Ojrt27Zo5c+b69esvXbrUjgQvXbp069Yt4riurk5PT6/VKMXFxd9++20LAQjjWHpaUlLi7e0tkUhaiDJv3rzhw4e3Kl1aWpqWlrZp0yYXFxeye8t9rgR1dXVBQUFisfjo0aM9e/bMzs7evHnzpEmTzp0710L0nJwcLpd74cIFCwsLsjuN1v5ncllZGY/HMzU1VTL8li1b5B0zMjJGjRol099JRl9ff//+/fLuf/31l0wPtAxLly4NCgqSngqFwoCAgMTERGR9IhD/gyDrE4H4X6eoqCg7O3vVqlVkRwzDAgIC5s2bV1JSYmBg0EL0FStWrFixQsZxwIAB33//PXF85cqVV69etZoNY2NjYuYfGZFIdOvWrfDwcCaTGRgYSPYyMDB49uwZcSwQCNLS0goKCnR1da2trbW0tKTBlBn0J0xYCwuLbt26tRpYhlOnTmVlZV27do2wNW1sbPbv3+/t7R0eHr5jx46WFTU1NdXU1Nqq2BwJCQkAIBAIPiURojtWVVW1rRF5PF7LsbS1tbW1tcnh+Xx+ly5d2pFJBALxtYOsTwQCAQDA4/FkXIjRVYVD4WSWL18+ePBgssvKlSuNjY2lju/evVPG+pQhOTk5NjaWWPE9c+bMSZMm0el0hSGvXLkSHh6O43jnzp0rKyvz8vImTZr0008/kcNLlz1FRkZ6eXm1NTMtcOnSJQ8PD3I3J4vFGjdu3L59+2pqapQc+v9cOQGAkydPErM2ZaioqMjIyAAAfX19snUOAGw2m0KhEBMbiOVZSs49zcjIMDQ01NDQAAAOh9OmGavEDOMlS5YsWbKEcLG2tlY+OgKB+KpB1icC8b+OkZGRpaXltWvXyFYLjuMnT560sbExNDRsObqBgYFMlyGLxXr48KF0jU5OTo6SOSkoKEhMTHzy5El8fHxRUZGtrS2Hw9HQ0EhMTKRSqd27d7exsZGx5548ebJixYpNmzaNHTsWwzAASEtLmzlzJgCQe2R//fVXBwcHAGhuOmO7+fDhg5+fn4zjoEGDdu3a9e7du/79+yufFJ/PJyxmNptNGP0tjIDL8P79+9u3b0+bNu3o0aPnzp2Tnwh74sQJYq+oH3/8cfny5WSvDRs2MBiMXbt2AUBycrKxsTHZPH3//r1YLAYABwcHwtCU4u/vv2zZsilTpgBASkoKeY0aADx69AgAKBSKq6sr0TRkLl++3Lt379DQUOJ05cqVSpYUgUD8B0DWJwKBgJCQkFmzZq1bt27atGmdOnX6+PHj3r17ExISDh8+3Gpcma0ZcRyvq6szMzMbOXIk4XL79u1WV0C/efNm7ty5JSUlpqamvXr1+umnn1xcXJ48eeLl5ZWSkvLkyZOrV69u27atrq5u586d5JVAf//9t7OzM9nYsrGxmTx5clRUFNn67NSpU5tG1a9fv75w4cJWg1VWVvL5fPmZCZ06dQKAVjc58vX1pVAoACASifh8vkQi+f333+3s7KRVBwDKzOPkcrmrV692dnZeuXIlk8kMDQ01NTWVMXznz5+/YMEChdHJ3dtpaWk9evQg+x48eJDJZAJAWFiY/L4B0rhpaWlTp04le61duxYAKBTKpUuXZAbl2Wz25cuXt2/fLm0UFovVajERCMR/BmR9IhAI8PDwiI6ODgsLGzVqFI7jVCp14MCBFy5caNVis7S0DAkJkd8oZ+nSpePHjyeOCwsLW7U+bWxsNm/e7ODgIB29ffv27apVqy5fvuzu7u7u7g4AEokkJydHZuW7urp6SUmJSCQir9dhs9mfOOTt6elJ3rKUvFxGGVpeCyUlPDxcX1+fqHAmk0ms66dSqQkJCYRVFxkZSc6GQrhc7oIFC8rKyiIjIzEMW7x4cWlp6axZs1avXj1x4kTCulWerVu3ikQissuOHTuU2azq5s2bMlp37txpLvCWLVu6dOkybNiwNuUNgUD8Z0DWJwKBAACwt7ePioqqrq6urKzU1dWVXw2jp6fn7u4u4x4TE1NYWEiMzEpRVVUlOv8IOnXqZGdn17K6iopKq9MxKRSK/DZGAQEBZ86cmTt37qxZsywtLSsqKq5cuXL69OmwsLCWU2sZFotFtrybm3Kqra2toqIiv28Rm80GJZbM29jYmJmZybtLB7iJTscW+PDhw/Lly4lvKRkbGwMAhmGbN282MzMLDQ3Nzc2VXxAGADiOV1ZWSrstRSIRhmHFxcUCgUAgEHC53MrKyuLiYvlWEwgEMp8b4HK5RUVFRMSampqKioqqqqqW83zq1Km7d++eOXNGIBAIhUJpHlqOhUAg/ksg6xOBQDSioaEhM7dPipWVlfxAvIqKSssbWwKAv7+//P7nUl6+fDlp0qTmfJv7ZM6ePXuIrZTMzc3Pnj27e/fu2bNnV1dXMxiMnj17RkZGDhw4kAipqqrq7Oyso6PTcibbja2t7aNHj2TW49+9e1dFRUVmCPufICIiQltbOyIiQmZ67pw5c4YPH95cB/CLFy+IyZpkiBqj0+mampq6urqGhobyMwr+/PNPmW8vbd++ffv27QCgoqKipaWlp6dnYmIydOjQ5jJ8+/bt0NDQFStW2Nvb+/r6knc56N69e+sFRiAQ/wmQ9YlAIOohLxWSh/gKztmzZ+X3pPz1118PHTrUXEQ6nT5u3LgNGzYo9HV0dPz7779bXVkvA7nLUEdHp7y8/Pjx42ZmZqqqqjLjvxQKRd5RBiqVCgDl5eU1NTUikUgikXA4nOzs7KysLFVVVekUAoWMGTMmLCwsLy9PmqWamppz5855e3u3Y9+itrJlyxYajSazpofog1RRUZHucNSnTx/ySwIxp1Za5xiGUalUYvSf3Ljym1X9+OOPAQEB0lMKhUJEVFFRIdfw+fPnFeb20KFD27dvnz9/PrEFwfHjx6XfdG1uTioCgfhPgqxPBAJRT79+/VqYZZiQkBASElJSUkIeVScIDg5uoXfz0KFD8fHxzfnSaLSuXbvKOEokkpKSkrq6Og0NDS0tLcI6bA4ulxsfH69wpBgAampqHj16VFZWZmVl1VwKBgYGFhYWixcvlrpgGKajo2NpaTlo0KAWpAHA39//4sWLP/74Y2hoqIODQ1ZWFrElvnQjIYUQQ/lv376tra0Vi8XEYHdubm5OTk5OTk5QUJC077ZlyFMCysvLDx06dP36dekmAxQKxcbGxsfHZ8OGDeRlPUTpAEAsFr9+/bp79+5KLvqRfgi0qqoqKyvLyclJmVgAUFtbu3Llynv37q1atUraT6ypqamwIAgE4j8Psj4RCEQ9DAajhWVG+fn50Mx6GpmNxGXQ0dFRchVOZWXliRMn7t69m5qaKt01nU6n9+zZ09XVdfLkyfIf25QiEAhqa2vl3WWW5CuERqNduXKFzWZLJBIajaampqahoaGkPcRgMA4ePLh58+agoCDiS5teXl6nTp3S19dvIZadnZ2dnR1h79JoNHV1dW1tbUNDQ1NTU1dX13ZsC8VmswMCAuh0+rRp0zw8PAwNDcVicX5+/p07d44ePRoTE3P8+HH5NiosLJw0aVJUVFS/fv3k06TT6RiGKfz80p07d1atWiX/dQBpRJna4/P5JSUlJ06cUN5gRSAQ/2GQ9YlAIOqprq6eOHFiZmZmc+Pg2traCo2qZ8+eLVy4sKKiormUldngPSMjIzAwUE9P74cffnBycjI3N2cymXw+Pzc39/Xr11FRUSdPnjxy5Ii9vb3C6PPmzWtVogUYDIbMRy+VR0NDY+vWrRs2bCgpKdHR0VHm80WqqqoxMTGEUd7WZekK2b17N4ZhZ86cIW/5Tti448aN8/X1jYiIkN9Ts+UPChgZGaWkpCj0anmmxOjRo2Um7Orq6p4+fVqZgiAQiP8FkPWJQCDqSUtLy8jIiIiIUNj3RqVSjYyMFK7CfvToEYZhV65cUWhIMRgMZT6YHhERwWKxzp07x2AwpI4sFsvGxsbGxua7777z9fXdv38/sSm6PL/99pvCjYEKCwsnTpzYqvqnw2QyFS5gb4HPYncSZGVlOTs7K/zakJGRkaOjI/GhIwQCgfg3gKxPBAJRD7HrjZWVVVutKJFIxGKxPvFLiSwWi8/n19XVka1PKXV1dTweT6HtS6y5qa6uVjjyXllZCZ/Vzvt34ujoeOnSJfLiJymZmZkvXryYNWuWfCxiVD0rK6uFeQLERlcyC5uImbjJyckKG4uAxWIp89aBQCD+B0HWJwKBqIeYq5eSkiJdiSyP/FfCiYi1tbXp6ektGHnm5uYtWCoAsGDBgoSEhOHDh48bN87JycnMzExFRaWuri4vL+/169fnzp3T1NRUuJRHT0/P2to6NDS0ueFgY2PjVreFahnpREb5GY3KQCxLb19EJWPNmzfv2bNn/v7+Y8eOdXV11dfXF4vFhYWFDx48uHLliqur6/Tp0+VjGRgYODo6rl+/vuWJubdu3ZLpDnd0dDQ0NBwzZkwLsUxMTO7evatM5oFUse2uKwQC8RWBtXWjEwQC8V+lpqZm/PjxHz9+bOGxEBwcLG8CPn/+fP78+UQvY3McPHhwwIABLWdAKBTGxsbevXs3JSWlsLCQz+czmUwjIyM7OzsvL6/Ro0e3bL/+jyMQCGJiYog17yUlJRiGGRkZWVtb+/r6Dh06VP5L6wgEAtFRIOsTgUAgEAgEAtGE27dvr1q16sGDByoqKmT3hISErVu3YhhmbGwcFhbWvs8ao5F3BAKBQCAQiP8hOBwOh8Mhu2hqapK34L1///6LFy9sbW1lPqQskUi2bNmyf/9+Q0PD6OjoiIiIpUuXtiMDyPr8EghLM7+86N7eIV9elN8Rg3tZmKADVAGsJR0wCkzroLGK2o5YtMPsiMKyOqiGsY7QzaEptQ/r54WOd8wcgHKsAz4lz4KOWe5Ggw6o5EE8ceuBPjcqWAeIAsDAwrMdokvw6UbF0ZOxe/bsIbvMnz+f/MkxLy8vLy8vmW8IA8C7d++Iad8AMGbMmO+//759GUDWJwKBQCAQCMT/EFOnTv3uu+/ILuSOzxbIz8+XbqxBp9NlekaVB1mfCAQCgUAgEP9DyIyzKw+GNVkv1O61Q8j6RCAQCAQCgfh6kHTMfAMAMDY2fvz4MXEsFArbnc5/fAdmBAKBQCAQiP8UuORTf+3FwcHh7du3xcXFAHDx4kU3N7f2pYP6PhEIBAKBQCAQstBoNJlviFCp1F9++eWnn34CACMjo02bNrUz5c+QOwQCgUAgEAjEl6HFj5N9Rg4fPkwc1NTUREZGEp8acXJyOnHixCemjEbeEQgEAoFAIBDNoq6urvBDx+0G9X0iEAgEAoFAfDXgnzBx819Cx/d9rlmzpqSkZO/evYmJiQAQFBQkE4DsIpFIjhw5MnHixMmTJ0+ZMuWHH364efPmp6hPnz5dZreqI0eOBAYGBgYGKtOxvGrVKjab/SkZaIF8dlHAj4sijpz8h9JHIBAIBALx9SGRfOqvo+mAvs/IyMhZs2ZJT8UNiEQi4lQmPNnl/PnziYmJR44cYbFYAFBeXj537lwDAwNnZ2fi1N/f39TUlBzd1dV1/vz5AJCRkbF+/XppmhYWFmFhYUKhUGa3qqCgIHkLmCA8PPz169cAsHr1ant7ewAQiUTt3mq1ZYpKSkPD9wwf5FHH/5wf8nFfMaGzlwPgeGlSzt21R8SCJh//oDJogzZNNbC3wCiUnIdv48NOk30dA4e5r5xwfPiqGnY5AHQe2LPfou9wiYShzsq8+fLp/51vTnTg8gldvBwAx4uTc24qEh22caqhvQWFSsl68Pb+1npRVX3NgcvG69uYigWimqKKK4v2AYD1iD59fvwWF4txCR637Qz7VUZba8B3+SR7Tyccx/OTs0+t+1PUNDMuPm4DpwwHDGOymNf3xSRee9rW9D1WTLDwcgAcL0nKuaOosINJNfww7DQAqHfSDbwRVpKUQ4RJOvsgKToOAEbsCNY0NwAcpzLpL//8O+1ys5lxWzmhs6cDDnhpUs69NUckTUUpDNqgTVP1e1hgFErug7ePwk4DgI61yaDN0wCAxqRzyzhx645W55fp2Zl7bvxBGlHPzuzcuE0V6QXN6Xoun9DVywHH8eLknBuKCjt841QjewuMSsl68Pbe1tMA4Brs3W2wc0PGqBQq9ZjfLwDQ3detz7RvxAIRQ531+tS9V1G3vkANjzu5ms5iivhCAOCWVl2dt0dOrZF+KyeYezrggJcl5TxQVMkDN03V62GBUSh5D94+DTsNAHr2nfutmEBXY9JUmTl3XidsPwcAgGGjji6jsRgYhQIACTvO58e/b0HUzMsBcLwsOefBzwpEB4RO1bO3wKiU/Advn25pvGEdfhzZd7n/IdsfpS4+p1bTVJlivhAAeCVVt+a2VFgpw5dPtPZ0BBxnJ2dfWndYprYBgK7C8A2dpmmkezgwjHBR1dUI2L0Ao1KoNKqIL7waerwwOUcZLSlDl0/o5uUIOF6YnBO7VrGod+g0DWOdqO+3kt17+rr5hE7bO2IVh13eJkUCn+UB3RseDtHrDooU6U4InaFlpLs3cLPU0Wvaty5+HiK+kMFi3toXk/h32x4aI5ZPtPF0BBzYydkX1h1SWNgxodO1jHT/DNwi42U3pFfA7/OOTN+WlZDaJlH44i2rYqrXPXwWTUuNQqdl771UeOGRTAD1HhaOBxZnbj9XeO4h4WLk52Y2dTgAUFVVsnZfLI591tYyAgDTVN9qWzChm7c3puRivEwAtR6WdpFLcnZEl5x7QLgY+ntarAyoyy0hTjNDjtS++9gOaUTLdID1+eDBA7L1KUNpaamM8UfuXKTRaD4+PoTpCQC6urpDhgyR+lZXV7u5uW3evBkU0a1bt6ioKOJYJBIFBwfLBODxeMHBwVJjlM1mW1tb79u3jzg9fPgwYXoCwMGDB7dv395aQT8JIwP9veEbY67eyi8s+lxp2vq5aZjonfJeBwBuy8e7zPZ5tusiOUDvmaO4pZxTo0MAYMTvc+zGeqScr79XjXt10+xsUPI+G6NSAIChwRq+I/i07y817HIqgzb25Gr2i/ScuLfyot393DRN9Y75rAOAgcvH95vt87ipaN+Zo7hlnCjfEADw/n2O/XceSRfiMQrmvWP2wx3n2ImN9qW2hZHbfN9Tk8IENTympqrfvoVng7ZJhG2w/vv4euia6G8dvQoAfJcFDA/2+3v3OXKAnLeZu74PlYglmgbaqy5vfXfnhfw/UAsQNfyX9zoAcF8+vs9sn6eKavjk6BAAGPn7nO5jPZLPx1OolJKknLMTZa/bO2uPCLl8AFDRVp98ZePH24nEqQw2Y9zUTfROe68DgP4rxrvM8Xm+s6norFHcMs4ZnxAAGL5zju1Yj9Tz8VVZRTFTthK1Z+Xj6v5zwPV5f5Sl5F6YUJ8NFW1170NLWjA97f3cNE31jvisAwDP5eNdZ/s8alrYfjNHccs4R31DAMDn9zk9vvN4fyH+aUTs04hYIoDz5CEMNSYA6FmZDFg89tiYX/gcLlNTdeqljdnx78szFYwqfN4axiiUq/P3cPJKmyujFKsxbuomeue81wFAvxXjnef4vGxayU6zRvHKOOd9QgBgyM451mM90s/H88o4txf8IajmUWhUn5OrOvW3Yz9JARy/MXuXiMsHAA0z/dGnfv5rgOLZVFZj3NRN9c6PWgcAfZsTLeVcIER3zbEe55F+Lh4A+i73r84rrSuvblJYKuXW3D01ShRWiqOvu7aJ3t7RawBg+LIJnsGj7+6+IBNm4u75r2Me9ft+mNSFV1ETNSNcWCcAADOnbn5bZkR894vyog5+7lqmepE+awFgyPLxHrN94po2MQCM2z3/bcyjvt8PJTv2mTJUTV+rMDmHQm3PmJ6Lr4eOif620asBwHvZxKHBvtd3y75RB+1emBATP+D74VKX7oOcnUa67pqwXiQQ6ZjoLY3ZknQ/UaDoPlWIs6+7ton+7tFrAGDEsgmDgkfflqvhSbsXJMbE9yeJEuh2NnQY5Zp08wWF1ubyfvmWtd8RnPXH5fK4tzQNVp+YDVUvP/Cyi6W+Gg5dLBf4llx/gdGoUkfO68yX40NxsYRhqO16I6zk5ku8LU9jAuvtc/L2xlTGvaFqqDpe3Fj9Mr0up1FXzaGL+fwx5TcSyLpApRSdvpcTfqatWl8UNPL+2dHX1z/SlE6dOkl9x4wZo6amVlJSUlVVVVVVlZ+f7+LiQnR8Kkl6enpZWRmHw9HV1ZXxYrFYx44dO3To0OzZs01NTQcMGLBlS+O75rRp06KioqKiojZt2sTlcj+xmMqAYZ/5Q702fm4vGv74X0bGWnv3kwlgPdpVGuBFRKzN6P7EMUtPs9eP3z76tfFuFPEEFR8KiE5QsUBUlprX3F94d1+3Zw1pPouItR0lK2rn40oO0H10fwCwGdm38O1Hl2nfTDqz1vePBdoWRgBgaN8553GyoIYHAHwOtyQ5p5NTtzbVQF/fATcjLxHHNyMv9x7VXyZASXaRRCwBAE5JJaeksq1NYOfnliCtQEU1bEuq4YSGGsYluE5XY7/DSwNi1g9aH8jQqH+5ktqauladqgvKhDzFveA2vm6v9ten+Soi1kpRs76UBtgfaz26PwBIhGLC9KSxmHq2ZsVvZF/unWd9++bIjRYKa09q2acRsXZyLdvdx/WpXMtKodCoTpMGvTp+BwB4FTVlH/L5HC4QLZuSw21qOUn5vDWMSySDN02deD7E7/AyY+eWriUrX7fXDXWYGBHbTU6322jXxIYAr/fHWo3uDwDcokpBNQ8AJCJxeWoe1rBxCWF6YhRM1868LKXZ3iMrP7fEfQ1pRsR29ZET9XVtzNW+2G4NNfx829mUk/dkAuMSyYDQqX4XQkYeXWbYS6kbx8nX/UHkFeL4QWRsz1Gu8mGOz9yRm/ihiRCOEwYKlU7tZG9RIHdptUxPX7f4hhZ8FBHbQ5HoqZk78puKAkDCidv3d56H9n55xcXX43bkZeL4TuQVZ7mHAwAcmBme3VS3kl1WlJFPvKNWFpbnJ2URXelK4uTrHtcgGhcZ66BI9NjM7blyhaUx6d+unHR5w9H2fWnmC7csXVeDrqNRHvcWAETVvPyTdw2bPi6q3358O2unuLaO7MjLKsLFEgAQFFcKiisxSpv/EGm6GjQd9cq4NwAgruYWnbyj592khmvffkwJ/j8ZXZDgeiP79jwT4ngp1DTYp62iCCX5V6w6WrRoUUlJCbFnqZaWlsxX7VVVVcmnRLDIyEg7OztPT0+ZcfZWb8WbN286Oztra2u7uLgQLkFBQa6urgsWLIiOjn769CmNRnN1dXV3d3/x4kVYWFjXrl1nz54tjS4SiUJDQ1euXPkJxf2imPSzdVvqDwAVH9ma5gaVWfU9qfwqLkOdJROYoc4ScOoN66rsIg0zfQDAKJjXL9/f33BcImrsZZSIxLdXHeoxaVD+kxR9O/P3Z+IqST1VZn1tBzSIapFFOVymvKgGi98gWpldpGmmDwCGPSwtB/a8GPx7NbvcxMX6u8jFR0atKX6f7bbAj6WrwSuv1uik28XLkdwz2hzd+tqNXjoRAIoz2XrmBiVZhYQ7j1OroiGbGSkOw1ySH74RKvFHYtpQw5XK1TCfVMNEYasLyg66L5YIxYBh/eaNHrIp6NrifQBAZdLHHl+p08WYV159/vtfyX+rJv1sXZf5A0BlJluzcyui9KbNqmmuTxx3Gd677+Ixutam747febq9SR8wU0u1s5fD0/CzMkmZ9bX1XOoPAOUf2VrmBhVKt2xFdpGWmUWVQHwAACAASURBVD7Zt+e4AR9uvhTy+ADALeM82h3T3det6H2WaS+r+9ui6yprvkANX5y6jRhwNLDv7BOx6JTfeh7J6jXuZ9uPVMlVDboCZe4d8yaFVeukq2lhVPA4mThVN9Ebtne+drdO5Sm5V38IJ4c07mfbd7k/AFRlsjXMDTgtipJbltNwwzbH1cBtxMC9nn3n4ZGLLvqur1Nk4lv0tR22dDwAlGUW6pgblDVkoI5Ty2z+fpHBzKmbz4aphlamqfcSzyxsfYi/c1/bIUv9AaDsY6GOuUF5o6iC6+oz0rWvnffSCQBQnMnWNTcsVe7hQIadmvvqymP7Qc7FmWw7T8cTy/cTr68tYNnX9pulEwCgtF60SCqqfA37rAu8tfNcXTVPyfDQQS1LwDI3IPd08rKK9AY7KZ9zgxEuZXFvJHVt/qyOirkhuaezLrtIZ3DrfVUlFx4Wn40DHKeqs2x2LxBV84r+ut1W6X+cjvvW0efiX2F97ty5Mzo6mjjes0fZC1oePT29vLy8wMBAoVBYVFRkZmYGAD179pQxFnEct7KyMjY2zs3NBYAjR47QaLQnT57Q6fRhwxpHGQgzVyKRxMXFeXp6AoBAIAgJCeHz+cXFxdbW1u3O55ek4FnquYYBxyk3wsherb80S3AA6L/U/83x29ziShnPbiNcPlx7zskpEVRz7Sd6VX5k86vq/wjznqeeCqgXnXa9NdGmDrgEBwAVLdU3p+5Vs8sBoOBFOie/VLercVl6QdyvZ3x+n0Nj0qvySnOfpoiVGHbPeJ7ye8AG4njNtSb/9ISWPKZ2nfuN8Ty8eFeriQNA/rNU6ZBuYNMabrUbRpqB+vkDOP5sz6Ufn+wkHMV8YfT4UADoPLDnqD3zoic0DhwXPEuVDpFPuhmmME2Sk2LRjzdffrz5ksZiuq+a4PDDsLfHGqdaOs8Y+e7Ybfmk8p6n/tXQstPb1bIEGJXiMnX4XwH1YwtUBs3Co8e78w9riyvFApG9r9vTyFjpnIp/sIYbBvJKknKy7r3p5GKdefOlNG7hs9RLDZU8vr2VDAAMDdaA0Kn3V/wpzW1NQdnFMRsAw6z93AZvn3Vz7m6y6OXx9aL+t9oo2mJtSOeMliXl5N17Y9THOvvGS/lg2c9TDwaEEscLrjWZVdnc/SJP3uuM/WNCqHSq+4xR36wIuL61laWTOc9TjzRcV3OuNxVtb1+mMmQ+T9kdsJE4XnVtWxNd5QqrqqVm1rPL41O3eRxuxrOUPn4edw5caTlK1vPUyID6DboXX/u1qahSw6n9vx/+8WlyUVqeMoGldEjL1qev4OGgrKK6fWfjcQPfke6RNiCnokxJ8YZ+FnENL3fnOfOFY/+N1ufXT8dYnzU1NRKJpLi4uLq6ycs3udezsrJSW1tbehocHHz69OmysjIMw4id9x88eHDgwAHC197efvXq1erq6seOHQOAwsLC8PDw8PAmpsb48eN5PB6GYdevX2cymZqammQLUk1NzdDQUGFuVVRUAODNmzc7d+6cPn16v379NmzYkJSUNHPmzE+shy9MdX6ZtqVRaXIOADC1VOUnEQq5fIamKtGbomVhVF1QTqFTuwx1NnToQgTQ727+zY7gxIPXhTy+urEOJ6cEALilnPK0fJfZPuSheSmcgjJtS6MSQlRTsShTU5Xor9K2MCIszpriSvJkJlxS//j6eP/Nx/tvCMdJ0eukI79KUlFQamBpnJ+cDQAsTTW+oulZpt0tvpntd2zpHnJfr5JwlKhhaWGJGpZNAsMEMsNAADkP3g1cHUB0+sqL1siI8uREeU2ataapqIjHTzp1323lBKn1ydBgdR3Z5/Soda0UtqBMx9KouKFl5ee6CUiF1bEwIi8E6THGI/P+W2knpYO/p5gvrC2uBICq3BIhl+843ivxrzsKRP+ZGgYAjIIRkzoUUpNfpmVpVJacAwCMtlQyQ1PV69cZjzYcr5VfB4Pj6Rcfuf4c0IKopqVRuXKimnIt2xIUTNh8YaVUFZTpWRoRK0tUNNUEXAX11gJiofjZiVvB5zYoaaM0iJbqWhoV1YsquK7+ISoKSvUtjQsaHg5K6g4N9s16lc7jcAGAnZbbf+JgO0+nlLjXSopWFpTpWxqxk3PaJOo02k1YJ3Dx9wIAY1tzIyvT59H3n55odqGePF+4ZevyS1mWRtJTlqVRXX6ZMhHV7S0sF/i+X/gH3vanMQDw80tZFo26KhZG/II2zHsGAAyjiJW4UzoANO+zHYwcOXLx4sU///zziRMnKioqyF5RJLS1tcmnAwYM2L17t5+fX0BAQJQcq1evblU3Ojp6/fr13377bUxMzJkzZ/7888+VK1cOGTKEsGUdHBxKSkr2NSUyMtLQ0LB37944jj98+HDHjh0eHh50Oj00NLRHjx7/VAWRoNKoNCq19XDKkXrpce/gUcRx71ne6Vdk12amXX7iEuxNHLsEe6ddfiwRiv8auSbmh9+IX2ly7o0lERnXEwQ1PAsvR1UDLQDAKFi3kX2Eiv7RASD50uN+s+pF+wV7p8TKiqZcedKvQbRfsHfypccAkH4twfn7oSpaagBg1NNS3Ui7oukalD4zRnJLq6oaliUqScKl+GEzRxPHw2eNfhn7WCaAhWO34cG+USv2KTPmLk/qpcd9GmrYZZZ3mlwNp5JquE+wd9rlxwBAoVOlU5pcF/plXH8BAFQGTerYeWBPwDBeRQ0oIi3mca8G0V7B3h/kRNMvP+k9u16012zvtEuPAYCmwiBcKDSqw9RhBc8a18w6TR/x/uS9Vo1vcsu6NtOyrnItCwAYBes7Y+Tzg39LQ/Krubbf9iVGlqkMmtWwXs39HX7GGiZXgn73zsZOXQub30LhQ8xjpwZd52DvDDndjMtPnBsq2Wm294dLjwFARUd9UPjMJ5tPVuc0XqhUFbr02MZ/YHlqsz1YGTGPnWbXizoFe2fKbXqQcemJU4Oo8xzvjEuy1zMZaWF1u3c2dOpa/LL1WSuvLz0aMLM+/YGzvN/JNbFC6A1CGIa5B43Mfp6iTCwp7y49dp9VL+oe7P0+9kmborebF5fih86sn+Q3ZJbPK7mHg0J41VwXPw8agwYALE1VWw+HNllyry898mwQ9Zzl/Va5wkZM3Hho6lbil/7w7dWtf7XJ9IQv3rLCsmphRbWupwMA0DRYppMHF11uvaSazt0s5/smLd7fjjH3Bl2OsKJa29MRAKgaqsaTh5Zebr1ZKayGZ6Mq0/ynccXnH7RP/Z8F7bjUDqZMmTJlyhTp6Y0bLa1skEEikUiaqbUzZ85cvnxZGqy2tpbck/r777/r6ekRWzuRY02bNk167Ofn5+fnR/Y9ceJEWlqalZUVhmFz584le7m7uyuf7XYzesSQ1gMpTeqFeJ0uRuPPhwCOl6bkxm04LhPgZUTswHVT/M+uwyhYbnxSitymGBKxGBdJAKDw5Ydnuy76RC4WC0V0FjP/aUrCPsXjTUkX4nUsjSafCwEcL0nJvbNRVvRZROzgdVMmRa+jULHs+KSki48AoDQt71nE1fHHVgh5AkEt79K8PcSIyYTjKyk0Ko3JyH+RFrt4X1tr4NnFBwZdjJee3YjjUJCac3bjEbIvhUZdcHxt4Yf8+Ud/Jlyu7Djz4Vmy8umnXIjX6WI08XwIjuOlKbn35Wr4RUSs57opE86uwyhYTnxS8oVHAKBpZjDy/2aLBUKMSsl7nPx4xzkAMOhhMWTTVCFPgEvw2uLKmOnbmxurSr0Qr93FaNz5EMDxstTcuPVyzbo/dmDIlHHn6ps19cIjAOiz0M98QA9RnZBCo3688UK6LInGYlqPdj3tE9JqYd9fiNexNPr+XAiO4yUpubflWvZpROyQdVOmRK/DqFh2fNL7i/WXk51P/5wnydxSjjRk8uUnavpaAcdXiuqEdFVm6rXnSRdlr73PXsMAMGzrDE0zfYlIzK/mXp3/h6iu2d3N0i/Ea3UxGnM+BMfx8tTcBLlKTtwf6x4yxe/cOoyC5ccnpV94BABDfp+tYW4weEf99hqZfz9/d/iG+SCn3gt8RVw+RqGUp+bdan6bp/Tz8VpdjPwuhOA4Xp6S+0hO9PX+WPeQKb7n1mFULP9hUvr5JpUms4eO528z1E31JWKxgMO91WJhG9O/GK/fxXjW2V9wHIpSc2M3HlMYDBdLJKLGx3Lv8V69/T0FPD6VRs1OSL2y/mirQmTeXIjXtTSefu4XwPGilNxrG6MUBpOIJQpnWDbn3ioJFx8adOm0+OxGHMfZqTnnNyrOtqRpYW9HXBr104RF0RuFdXwak37v0NXMtmx+9OriQ/0uxnPOrsdxvDA193IzNSwRS5p7G5SIxOT8KMmXb9n3C/d23zaz65JxGJ2auf1cnaKOA1wskfZxYjRq7zNratPze52s71rK+C268kkbnsYEaYv+sPptVuef/DE6NWdHNF+hrkhM7lvV+6avycxREoEIo1DYR69X3lO2JxvRJrB/dFaNMqxZs2bRokXR0dEeHh7k1etTp049elT24o6Li9u6dauenh7ZceTIkWRztgU+fPgwd+5cIyMjsqO/v7+M0Snl5MmTmpqa3t7ezSW4atWqRYsWkVflK0RYmqlM9j4ve3u3bkAAAGDY0K3T76490qati5qDr+SqRAwbETb95rrPI5qFfdKWqBiGTdoy63TIn8rMIiVjLWEoKTBs6/Q7n6mGaUrerxg2ZOv0e59JFABqlRwmwbCRYdNvfKaWZSpd2M9Ywyzln4gY5rV1+oPPpIspXVjPX6c/XPN5RHNobTZcMAzz2zLjcsjhtt4vUuh4mxcvYxjmEzbj6rr2iwJAOdbm/XowDJu4ZWZ0yMF267LaPsCIYdjYLT9eDDn0KYWlQXsq+RNbdhCvDRE1e1tp9bLKPXitfVpSVLC25Vajl7VGb6sC0thL+xhYKLso80vCz/jUMQFmNwUbLHxJOt76/Dfz6tUrFotlZ2f3ien8q63Pz4qy1udn5ROtz3ajrPX5WVHW+vzcKGt9flaUtT4/K22wPj8rylqfn5V2WJ+fTjusz89CO6zPT6cd1udnoR3W56fTJuvzc9FW6/NzgazPT+Rfseb9X0uvXr06OgsIBAKBQCAQJP4FEzc/EWR9IhAIBAKBQHw9oDXvCAQCgUAgEAiE8qC+TwQCgUAgEIivh6//W0eo7xOBQCAQCAQC8eVAfZ8IBAKBQCAQXw9f/7xPZH1+CTpk86O5Lzd+edGlfVr/6NRnZ1Jdx9yHGZ/tK1RtQNgxm9WAakeM8zA7omHpHbQJXYeMQ/UUdcxuZR1CLd4B/3fqlI6p4Z6jOK0H+tzciTX48qI3VTpmCHdgh6hK+frXvKORdwQCgUAgEAjElwP1fSIQCAQCgUB8PXz9I++o7xOBQCAQCAQC8eVAfZ8IBAKBQCAQXw9f/7xPZH0iEAgEAoFAfDXgONrvE4FAIBAIBAKBUBrU94lAIBAIBALx9YBWHX06a9asKSkp2bt3b2JiIgAEBQXJBJB3AYCEhIS8vLxPV58+fbpY3KQH+8iRI4GBgYGBgSdOnGg1+qpVq9hs9qdnA4FAIBAIBOJ/hA7o+4yMjJw1a5b0VNyASCQiTmXCy7sIhcJt27b17t175cqVZPfy8nJ/f39TU1Oyo6ur6/z58wEgIyNj/fr10jQtLCzCwsKEQiHedHPpoKAghfYuAISHh79+/RoAVq9ebW9vDwAikUg+e8rgvmJCZy8HwPHSpJy7a4+IBSKyL5VBG7RpqoG9BUah5Dx8Gx92muzrGDjMfeWE48NX1bDLAaDzwJ79Fn2HSyQMdVbmzZdP/+98O/JDJp9dtHTdlsED+gcHTfrEpOTxWR7Q3dMJx/H85OzodQdFTQsOAHQVxoTQGVpGunsDN0sdvaZ96+LnIeILGSzmrX0xiX8/VVKOaapvtS2YpqVGodPy9saUXIyXCaDWw9IucknOjuiScw9kvKy3z9Zy75HgtqBlCTUTPfffZjC0VCl02rt9sR9jHpN9dbqbu4ZOpdCpFCr1Rdhp9sP3AMDQUnX/bYaaqT6FTs04+zDpwDUAoKow+oZM1nOwlIjEuEjyZN3RypQ8AOji59Z9xjcSgYiuzko7ee/dsVvSxPusnGDm5QA4Xp6c8/DnI5KmlUlh0DxCp+rZW2BUSv6Dt8+21F9FPaZ/YzPeUyIW1xaUPVhxkF9ZK42i72A54tjyp5v++nA+HgB0bM1c105iaLC0rEwEVVwBh/t2f2ymXAHdN02l0KkYlfo87DQ7vr6AA36doW6mT6FR088+fP/nNSKwy8oJZl4OOI6XJ+c8apph86HOXrvm3AzaXvQ8TepI12ANi/654l32k2V/AoCqqV7/32bQNVWpDFrSvtisi01yot3dvO/mqRQalUKjvtpyuvDhewCwnT68s3c/AKAw6K9CTxY/TSUCq1sYOq3wVzc3EPOFFe+yX2xo6VVT1VSvz7YZDE01CoOasjc2p6muVnfz3luCKDQqhUZ5vfl08cP3Ui+MRh14dClGo96fGAYAmjamLmFBAEBlMupKq16uPcbNK21OlGWq12fbDLqmGoVBTd0bmysn2mtLEIVGxWiUt3KiHkeXUmjUuIlhAAAUrMeyccaDHMV8IYVGfbPlVOnjlBYKK4XRcO9gdFr+3phSRfeObeSSXNK9Y+Dv2XllAD+3hDj9GHKk9t1HZbQ6XFfFVM8+fCbxoMjae7nwwiOZABo9LBwPLM7cfo597qHUkcJidN86Q6WTzosJW9pWSAAAYJjqd9s2m6aphjFoBXtjSi8+lAmg2sPSNmJp7v9Fl56LkzqqOXQxWzKBrqeJ84UVd18V7I1pqy6ma8D64SdQVcdoNP61aNGzuwrDqK3YLnh4TXDlL8KF0tmK6fs9pqENQoHoXYLg2hlltFimes7bfqRrqVLotPS9V/KbXsaa3c0dtwRR6DSMRnkfeqq04TLWH9DDeq4PTV1FIhTlnIrLjX5AYdB6rJus7dhFIhDy2OVvVh8R1dYpWd6RyyfaeDoCDgXJ2RfWHRIr+tP5LnS6ppHun4GN7RiadDj3TSZxnBb35m7b6/mfBa06agcPHjwgW58ylJaWyhh/Mp2LRUVFmzdvnjFjRlpa2rZt2+bPn89isQiv6upqNze3zZs3gyK6desWFRVFHItEouDgYJkAPB4vODhYaoyy2Wxra+t9+/YRp4cPHyZMTwA4ePDg9u3blSmsQmz93DRM9E55rwMAt+XjXWb7PNt1kRyg98xR3FLOqdEhADDi9zl2Yz1Sztc/go17ddPsbFDyPhujUgCAocEaviP4tO8vNexyKoM29uRq9ov0nLi37c5bUUlpaPie4YM86vif/xMdLr4eOib620avBgDvZROHBvte3y1rKwftXpgQEz/g++FSl+6DnJ1Guu6asF4kEOmY6C2N2ZJ0P1HA5SujaL19Tt7emMq4N1QNVceLG6tfptflFEt91Ry6mM8fU34jAaPJfrbINNin/M4rbU/HViXcw398ty+W/eAdXYP17fm1Ja8+1OSUSH0H7poTt2BvZUqeaifdEWdWXx6xVsTlu/wckH//bfpf9yh06vATK0pffyx+luq85DthDS929HoAMBvm7P7bjKu+G7SsTJyXjo31+UXA4TK0VH1iN+Y+fF+VyQaAbmPc1E31Lo5aBwB9Vox3muPzameTq8hx1iheKeeiTwgADNo1x2qcx4dz8UZ9rC1HuMT4/iIRim0nD3JdOylu2Z9EeKa2mtO80Wmn7xOXFgAM+WPe7Tm73dYH3p33h/VYj6RjNz3Cppe8+lBNKuCgXXPuLdhbkZKn2kl31OnVF0euFXH5fX8OyI97m/rXPQqdOuL4itI3H4uepXYd46Zuqhczah0AuKwY7zjHJ7EhwxoWhpbe/XJuvJRpiD4bA9OO3jLsZ0uc9g//MWlfbGHcO7oG65vza0tfNqlqj91z4ufXV/WwM6uvjlgr4vLZce9SD90EAC0bU69DP10asAwAaGoqrr/NeL7mCOeDUgMXfbfPTNl7pSjuHV2DNeTCurKXH2pJuv33zH0yb29VSi6rk+7g6J9vfLNG1HBxOv488eOZOKsfhhKnNR8L7wdslQjFAGA+2tVpTcDjOXuaE+2zfWbq3ivFce9oGqzBF9aVNxXtt2fu03l7OSm5rE66XtE/3/xmjbhB1OHnidln4ro2iHb9foi6pdFt718Ax7XsOw+IWh7r0soLFYHV9jn5e2Oq4t5QNVQdLm6sfpnOb3rvmMndOxiVUnz6Xm64UnbJv0rXfkdw1h+Xy+Pe0jRYfWPWV738wMtuFNVwsOyywK/k+guZ69Nx/0L2+XjzqcPl0lMKckl7XthU/TKdn1Mk9VVz6GI677vyG88xaqMo08yg8+opGUv2CgrL2ycKAKygpfxrZ8RJL4GlqrZyhzgzGS8tbBKCRleZOFtwJwZTUSUcMD1DlbHTeUe245VlbdLqtX1m+t4rJXHvaBqsgRdDKl5mcEmt6fLHvBdz/+Ck5Kp00h1wds3d4T+LuXyd3laWgUMS5uwRVjW+GFsv8BVU1jzw2wAAhoMdbZeNfb/hL2Uy4Ozrrm2iv2v0GgAYsWzCoODRt3dfkAkzefeCxJj4/t83acea8uqIgE1tKiyiTXT8yLsM+vr6R5rSqVMnwgvH8WXLloWGhs6dO/ebb76ZP3++q6vrokWLdu/erXz66enpZWVlHA5HV1dXxovFYh07duzQoUOzZ882NTUdMGDAli2Nb0LTpk2LioqKioratGkTl8v9lDLa+Lm9iIgljl9Gxlp795MJYD3aVRrgRUSszej+9TnU0+z147ePfm18yIp4gooPBUQnqFggKkvN4zTfm6IMRgb6e8M36unofEoizeHi63E78jJxfCfyivOo/vJhDswMz078QHapZJcVZeQTvaSVheX5SVkivlAZOZquBk1HvTLuDQCIq7lFJ+/oeTdRrH37MSX4/8Ry79BabvY0HY2y2NZ7WJk66kwddfaDdwAgrOaln4qz+Lav1FfPwbI6u5jowuSyy/NuJ5oOdgSATgN6fDh1HwAkQnHSn9e7+LoCQE1eaUVK/WSSiuRcTgYbAPgVNVXp+QIOFwAEVdzypJy68moiTDc/tzf76i+SNxGxXXxkr6Kuvq5v9jcE2BfbbXR/Ita7g9cJAyjt1H0Td/v60BjmtvGHJxv/knYMMLXVxXVCXimHqaOed/9t5uWnph4900/LFpCTXVzRUMDc24lmgx0BwMSjR1pDAd8fvN7V15WQftuQ4bekDFNV6H1XT3zyS5TMKITjvNE5V57VZNX/VzF11Zk66oVx9VX94VSc+ajGnOg2rer824kmgx0BQGpfcj4USAT1l43ND0ML7r52XjVh+Pm1bv83S0Vfs9kGBmDoqjN01IsadDNP3Tcj6eo4WtZkF1Wl5AIAj11ecDvReLAT4WUx1r0mq6jsRePFLBGKiZqnsphadmblrzNbEGXqqBfHvQMAUTXv46n7piRRbUfL2uwiToMomyTaWU6Um1fKScsHHAeAmqyiyndZLRRWCk1Xg66jXtXivZMqd+/gElx3ZN8eZ0IcLoWaBPsoI/Rv0KXrajB01Mvj3gKAqJqXf/Ke4agmd1P126w3s3bKPygSp4ZXvfwA7YKmq0HT0ZCWtPjUHb1RruQAtW8/ps3eIWkqajLXr+zK427hc3pe3NRl03SKqkpbdTF1TUxNQ5z0EgCAxxU+vE53GSAThjl+Jj/2JF5b3egycqLwxQOVqUtUV+5gTpoLTKV0GboaDB2NkobLOPvkfRPvxstYy7FLbVb9ZVzHLi+89cpoiBMA2CzyK7z2ou+BRQMurLNb4Q8UDAB0nLoWXKl/IBfffaPnaqdkeZ193e83/OnERcY6KvrTOTpze06ibDuyNNV+iFgy78LG8duCNQ3/kT/ETwKXfOqvo/lXrDpatGhRSUmJm5sbAGhpaQUGBpJ9VVUbXr8wLCQkRFOz8a/C09PT09Ozrq7x/sRb+0bzzZs3nZ2dtbW1XVxcCJegoCBXV9cFCxZER0c/ffqURqO5urq6u7u/ePEiLCysa9eus2fPlkYXiUShoaEyI/7KYNLP1m2pPwBUfGRrmhtUZtW/4/KruAx1lkxghjqLMDgAoCq7SMNMHwAwCub1y/f3NxyXiBrH+iUi8e1Vh3pMGpT/JEXfzvz9mbjKzE+dh4phn/NT4l372nkvnQAAxZlsXXPD0qz6l2wep1ZFQ7bgCmGn5r668th+kHNxJtvO0/HE8v0SsVJ3joq5Ibmnsy67SGewc6uxGEY6xoHDU+cr9Uqjbm5QQ5Kozi4yHdTYXare2aA6q7EzozqrWN3MgKmjLqisxSV4Q5RidXMDAEg9drvrd+6aXY05mYUmXg6PVhwEgLoyzuudMV383MrfZRm4WOX8nTDswCIAqMpka5gbcBoSF7R2FXGyi9TN9AGAHAuX4HUVNUwddX5FTe/FY9LOxNUWNHZs8CtrqCp08yFO1TnFNBaz2xh3AadWal8SaHRuTA0AONn1BeTLFNDMQEZaUMWlN2TYNWTKq/+7IKzmkTNvMrAnhU7Nv51o5NadcFEzM6ghdUfVZBeZDG5S1TXkqs4uVjNv8slpm2nDUw/fJI51elowNFXjF+wTVNZ29u7r8ce828QgtSLUzA1qybpZxZ1IumrmhjUfi0i+RWrm+gCgZWeu39fmxeojqmb6Tcr1Te8eS77TtDHNOHb73bZzLYiSC1ubVWyshKimnbleX5tXTUUL77ymMGh6fayrPxaa+7g+nb+3OVEy7bt3Si88LDkbBzhOVWdZ714gruYV/XVbGbmO1WWZG3BJtc3NKtJvsOb/OZjmhnXZjY1Yl1WoPbhXq7HUenahqDBSZ26T8AQmwaO7hE7PWKJUg0rB9IwlpJ5OSXEBrWdfcgD6gBGSnAxJzgeqeVepI6VzN2AwePs2goDP+MZfZfK8usOtj/6pmuvXklqzNrvIiFSxk/7wEAAAIABJREFUap0Nakn3bG12saq5AQBodjevyWA/nrQVl+AOGwNtF49J3XGh4lWGuf/ApC2nAcdN/fprWJu0oGvZ13bE0gkAUFr/p1OvwuPUMpX70wGAjX2CiVfx3mMHTvlj4b7xG5SM+IWQfPU7Lv0rrM+dO3dGR0cTx3v2NDsUtXDhQjabjWEYk8mUOtbW1jKZTEdHx9WrV+vp6eXl5QUGBgqFwqKiIjMzMwDo2bOnjLGI47iVlZWxsXFubi4AHDlyhEajPXnyhE6nDxs2TBqMsIYlEklcXJynpycACASCkJAQPp9fXFxsbW3dpjIWPEs9N7F+SsCUG03+6lq1mEGCA0D/pf5vjt/mFlfKeHYb4fLh2nNOTomgmms/0avyI5tf9Ulds5+XzOcpuwM2Eserrm0je0kNlJZR1VIz69nl8anbPA4341lKHz+POweuKKUtV7GtKmI0atcNQRlrDio7q6ZlCTk1hW1NRNHtaUlh0AhrlVdU2Xlkn6zLTykMWqcBPTLOPuQVV4oFoi5j3P6eXD90O+5WmHwiLWSNkFaQARw3H+IsqhMUkOYOEtyaudN981S9HhZD981nP05WN9FrtYAgwRWUWoLLhyUcu/8wrPBJSkVqkxWEaiZ6VuM84n6KZDaJ0FJVK6hXkq/xwB7aNmZPVx4iThlaaikHrgkqawEgJ/a5w0/fUVlMMa+ZuRytXEXy1Y7TNVj2P415tmi/fGIFN14W3HhJZTEdf55oNXXYh6O35MOAomZqVZTWjKiqmb6qiV7hvTeSOmHl++zOY9wyo+4oFG1LBpqJ1fBiLK7h5e08Z7ZwbFutzw7RVSD6BXqG5C9ZJZ45NG31/D8uSngCACiIuNz78R/tEJbLSKMupbMVxawr/9Q+mTCYqobg6mkQ8AFAcOOsethRpZQUPAokLXgTbc3U10z+LRoXSwAg9f8uuJ1YkbrjQtquGLtl4wacX4tLJOy/X7QwYRoAsp6nSgfNf7r2a7MZaBHpKNDL8w8GBY9W0WDVNX1DRnwiHWN91tTUSCSS4uLi6upqsju517OyslJbW1t6GhwcvGvXrlOnTqmqqvr6+krdt2/fPmzYMCcnJwBQV1c/duwYABQWFoaHh4eHh5MTHz9+PI/HwzDs+vXrTCZTU1OTbEGqqakZGhoqzK2KigoAvHnzZufOndOnT+/Xr9+GDRuSkpJmzpzZvuJX55dpWxqVJucAAFNLVSg3hVHI5TM0VYmOKy0Lo+qCcgqd2mWos6FDFyKAfnfzb3YEJx68LuTx1Y11ODklAMAt5ZSn5bvM9iEPzf+rqCgo1bc0LkjOBgCWppqSczeHBvtmvUrncbgAwE7L7T9xsJ2nU0rc61Yj8vNLWRZG0lMVCyN+QSvTEjR6WalYGNrsrp8YR9fX6vHXmozVf5J7KcjU5JdpkCQ0LIxqC8rJvl3HejT6WhoWJ6TzK2pU9DQwCkY8ajUsDIkex/5bpt6c8hvhmHc70fvKhrzbiV3Heoj5Ql5xJQDU5JaIuHybCV4pJ+4QiWtaGpUn5wAAQ0tVJGc8iXiNV5FmQ8aIWBVp+QCAUTAVXQ1+Za21/wCmpqqJRw8A0LQ0EtcJNMz0X/7fhaqPhXfn7/32xMrrQdv7LPMve5elaSlbwG6kAmpaGBYlpPMrFRewVlGGu/i6iuuE1hM8AUDHzkzHxjTt1H0ai6lupj8iajkFB4a2mqqxjueBhU9XHtawbKxqdQsjLikn3Pwy9XGkqrYwLElIJ46NB/boPKrv01WHpb68ogoKeQIfjiuyo0kpWzY+GdQtDbmkHmJuXpkFSVfd0qj0eZrxYCfVTroeh34CAKoKQ8vO3PPEikezdknXSYh5/I8n7zmsntCc9SkjqtaaaNnzNOPBTqymogNOrHgya5fDzxNT9lyW1AkBoCwh3Xaud/Gj5JqMVkZI+PmlKk3vHUFr944sGEVc0+Z/6w7RrcsvVSVdWqqWRvz8ts1ubAf8/FIVS2PpqYqlMb+gdVFBYTl5Giiu3CgQGbysmGLQSXpKMTTByxvnE9PdhlLNuqgu3gIAmI4+Rmdgmtp1x3fjVWVA1lXOhuPll6pZkC5jCyNe03vWbNwAkq9heUI6ANQVVWIUilSo/rVZLEn+tb6LSq2LcaeRLkqWt7KgTN/SiJ2cA23505EBl+DCus+/EOKT+BcMnX8iHWB9jhw5cvHixSoqKgYGBgMHDiR7SVcFAUBgYCD5lADHcZn3VHmX5oiOjk5ISHj27NncuXOljocPH6ZQKADg4OAQExNz9uxZchQqlbp27VorKyscxx8+fLhjxw4tLS0ACA0NffRIdlGk8qReetw7eNSNxfsBoPcs7/QrsvML0y4/cQn2frwtGgBcgr3TLj+WCMV/jVwjDTDu9JobSyOq80qNe1tZeDmqGlzhllRhFKzbyD6VHwvh38qLS/FDZ/pELfkDAIbM8nkV+7jVKADAq+a6+Hkk308UCUQsTVVbD4fXyq15F5ZxhBXV2p6OxKoj48lD30/d2nIUzvPUxG9XS0/7Pt/7frLiRWwE/PJqfkV1p4E9iVVH1gFed6btkPqWvc7UsDDUtjMjlsKYDXF+9dtZACh48N4qwItYdWT/44hX4ecBQMjhWU/0TPrzOgBo25mpmejhEomQw+06ddiH03HCGh6FQTMf3ivlTP3q14yYx46zR91btB8AHIO9My/L1knmpSeOs70TfosGAMc53hmXHhOx+iwbl3v3tUQotgnwKoh/DwB35jYOOPReMrY6tyQ9un41cV15dV1FtUPwKIuRLtcm/TryrxU3SQUsfZ2paWGoY2dW0VDAF9vOAkDBw/c2AV7EqqMeM0a83H6ekHaYPer+ov0A4BDs/fHyUwC46t9YvQN3zEqPflD4OBkA3h34GwCYEjBy6951wsDHP0UCAL+i2tizJ7HqyGqS172gZqvadKjz69/OAoDpMGeTIU7Pfj5K7mjJvZrQffYo9sP3Er7QdKgzt7BCzGv2r4VfVs0vrzHy7EmsOuo6adCDqY1jjuWvM9UtjLTszIlVR52GOL37NVrE5edeekIEUDXTd90ZHDflNwCgshiEEEajWk0bXtKwAF8eQVm1oLzG0LMnseqoy6RB8STRiteZahZGmnbmHJKomMvPI4n23Rn8cMpvACCs5lmMH/hm41+A46xOujqOXSVKTJsWlXFEFdVano7EmhijyUOTW7t3AIDCYhDdchRVpvlP49iH/m41yr9BV1hWLayo1vV0IFYdmU4e9OqH8NajfRqiMo6ovLGkhpOGpkxtdvqHlPKrT80WjU2fvwtw3DhoZNXDNi8wxWuq8BoO1b43seqIPmAkd3eI1Jd/OkJ6TPf4hqJnxL8UBQDCFw+Z3pN4f/4KOE4f7CtOfqWMlqCsWlBRY+DZk1h1ZDF50NOpjRVbmZipZll/Gat00jUa6kzYl+y/E2wXj0nachoAbBb4sq8+J6fJ0NVw3jYjI0LZJk689Mhzps/pJXsBwHOW95vYJ8rEwjCMQqcS3Z8u/p6Fabli4Vc/0v1vowOszylTpkyZMkV6euPGjTZF379/P9lGzM3NJYbLz5w5c/ly/eRiiURSW1tL7kn9/fff9fT0iK2dyKlNmzZNeuzn5/f/7J13XNRIG8efbHbpLL13saGCgqJiQ7FLUeyiHGJDPAuo2CgqIiqWsyOc9ewVFFHxbKciFuxUC703pbM17x/BZVkW2AWU4975fvaP7MyT/GaSzOTJtEycOJE/9uzZs58+fercuTOGYfw+KwAMGjRIrGTzkxwWrWSkMe2aHxBEUVLm481nBAzehEQO9Z099YovRsEyoxOSGiz/weVwCDYXAPLefHm5P9wu1IPDYtOkJbNfJMUGi9Yr3SQ4FafigtPAW09s+FM1Iy2PK/4EQeQmZ1zzF959w+Vwuey6F7v7ITcmeE5fcdmfVcOgStIeHb+VEtvoY1uATysOdQ5apO85FaPhGXsu89Zk4Ydgcwi28JqFbDFqmqeeoVbbXXt7TKLQ8Pd7wyrqdwn9s+TggC2/Uag4hlOeeR0lZ0O/8j9rtc3VeMoQCg1Pufas4GUyADxeHtx/85wJNzaS6xA9WrSPU8NKvfFcSk1hzPm1nBoWVUYy/farrz9uhi/XoulGGvZhfkAQJUmZMZsE76L3RyIH+s22v+qL4Vj204Qv154BQP6rTymRr2wveQOXqMwrebr+hMBeBJvDa1AZuHG2sok+TU7adOH4ytySUUdXvG2QwYdLDg70/41CwzEKJXpNbQZf+J8dvM218+QhFBr+JexZ/stkAPh6LZpupGEX5kcQxLekzOcNEkxwuA0vBJdTl55nHqEDdriaekyiUPGPf4RV1k/JU/eD/QJqT/Xz1UfZVQxpTaWhIcuL330dfXkDafN8zbHylLzs++8UuuuOuebDqWZWF35/5hHa+OUFAHjpEdJ3x7weno4UKh6/J0yg1y/G/aD5lt8oNBzDKbFex9j1G1cIvpu5x4qJGkN7cWqYFCo1O+p10uGmiiq/aEID0ef1RTkNRIkfou83nTHzdRoZuZldzaDQqG82nGy615LH5xWHjIMW6XlOxWh4pmhlR3mMpdbCCQSTDRRK3qmo74+a76D4l+jGLQ/usXOB8crJGA1P2X2tRpgolyOkoiA4XKJFi+4BwBePg512uOl6TqNQ8aw9lxhZwnLK4fAfP//M35L66qYRgVwmq/prTtrGky3QrT6+U8p5BWY/G3AqI+IMUSy8Ywc4HOLH4ELW40iKmqbM+n3AZnHzMmsuChlVIpQ3K470CZrfzdORQqMm77lWlVnv3otdfMA0wIWsPd6tPkrexkm7rvbeNndoxCaCwy15mfwlOBIA1IebdV5iR6HhgGFfQ2/n/f1GxAS8DX+qaqS55MomgiDykjNv+P8l1IzL4fJPqJCUl553Yi0ZkpeceW3DURHlfh0df8UlTMSGw5+Ht7f3ihUrLl++PHjw4D596gaYu7i4nDol6J3cuXNn//79KioqvJDc3NyQkBBjY2NRtL58+bJkyRINDQ3+wKlTpwo4nTzOnz9Pp9NtbW0bO+C6detWrFjBm5XfGPv05zSfOAwbuX3eQ5+T3DZ6x1ryxr9NjiMWq/qtb96oPhiGzQhceNnvWItfLqfViLGjvHkXeYvOOcfEbpVpyFdc+MRPVXNj1T6dkn7McWlbWE1PCcOwoTvmRXu32V3Eg391DDVzY7U+nRJ+Tgb5kWyuglUxN1Y170SuqdRW0ESoEpXNjVXMjT8fF+/NuWmaXX9E2dxY2dz4S5uKahNidETKmXeRt+ic2xZlRyzaSreSEKO1RcGiM93cOPNYVCtF5SgiLdBRa2zeRc68c574bcYN6TWhTHRj3Kg7xagb60Frl7R8EKnWrI2SubGShXHKsTa7jZ9Jie3DYBg2OXBBuN/x1rRoBqWdb/G+racmprXqUlZtv563WLS/9/lv5u3bt9LS0t27i7q4Q2OI5H22NR3F+2w9YnmfbUhj3udPpRnv86fRLmuzNet9/gxE8T5/Bu1yhsXyPjs6YnmfbYVY3mcbIpb32VaI4n22OS3wPtsE5H22kn/FnPd/LebmzS+BgUAgEAgEAvHr6Pg97/+61eYRCAQCgUAgEP9hUNsnAoFAIBAIRMeh47d9Iu8TgUAgEAgEosNAEB1+BSjU845AIBAIBAKB+HWgtk8EAoFAIBCIjgPqeUeIAqM9Vslpl8WPdsc2/7mONmdXX7/mjX4Cf1V/+vWiFKx9llyKUFdoF91fz5Zy+XbRZbfHSk9GmPSvF6W00yp/Q2vYv160jEv79aIA4BDVDmfZUaIdelNtqtvhsv4/EBsbu337dgzDNDU1t23bJicnx4u6d+/e0aNHqVQqm8329vY2NTVtwfGR94lAIBAIBALRcfjJ33nncrmBgYFHjhxRV1e/fPlySEjIqlWryKiqqqqdO3devnyZTqfHxcX5+/tfunSpBRLI+0QgEAgEAoH4P6KsrKysrN4nCeh0Op1OJ7fj4uLMzMzU1dUBYNKkSXPm1H0xh0qldu7cmbQ0MDDo1KlTyxKAvE8EAoFAIBCIjkOrx32eOnXq4MGD/CFLly5dtmwZuZ2dna2rq0tu02g0Dqduir2EhMSyZctu375tYWFx7949P78WjnxD3icCgUAgEAhEx6HVPe8uLi6Ojo78IbyGTwDAsHqfYeff5nK5MTExDg4OKioqPXr0uH//vr29fQsSgLxPBAKBQCAQiP8j+PvZG6KpqRkTE0Nus1gs/qgnT54wGAwVFRUAMDc3P3z4sI2NjaysrLgJQOt9IhAIBAKBQHQcuNzW/prE1NT048ePBQUFABAeHm5lZcWLUlZWfvToUWVlJQDk5uampqZKSkq2IAeo7ROBQCAQCAQCUQuO4xs3bvT09AQADQ2NLVu28KJMTU0dHR3nzp0rKSnJZrP9/f2p1JZ4ksj7RCAQCAQCgeg4/OQVlwCgd+/eZ8+e5f2tqKgIDQ1duXIlAMyYMWPGjBmtPP7/e8+7t7d3VlYWf8jNmzednZ2dnZ337t3b7O4HDhyIjY39aan7PyI7N3/mghUhJ8+3d0IQCAQCgfh385N73hsiJydHup5txX+27TMgICAxMZHD4XTp0mXz5s0UCqW0tHTp0qU8AxqNdvz4cQ6Hw7+UAADY2dnZ2dkJPebJkyfv378PAAsWLLC2tgYANpstsLvoDPWabmRtCgRRkJjxt89JDrPeBxtwCeoofxf1HgYUnJL25OM/2y+S4TKq9KGrp6l21eEw2RX5326uCAaALmP79VswnuBwCC7xeOel3Ldfm1W385ppMqw3QRDZiemXfY+xmYKfi6BJSUwPmK+goXzYeSsv0Np1fN+Jg9kMloS05L3g6+9uv2hZ3gXILywK2HVw9PDBNQxmmxyQxJrvDEcJO8Nj/F00ehhgOCX1ycdH2y8CAEbBhnpOMRpmymawcBr+cPvFzBdJvF3o2ipOF70/XPrn2YHroiTAY4P7kBEDCQKS4z9vXruDxWQJNduyx9tysMW4AVPIvzKy0svWuplZ9GSz2Ewmy22WB1ecmmLFBvfBwwcSBJGc8HnL2qDGRDfv2dB/kMX4gVNrRWWkl65dZGbRk8Vis5isxU6eoovimmpqGz0o8nIYjfr95OXK24/q4igUVZ9ltE76AEDUMAr9dnMKioFC0TwSiFFx0oSqpV568krZxQjR89heoiRTvJx6DetDEERmYvpp31CBstPfbtDw2WMxDCSlpSKDw17feQ4A2p11nQMWAgBNUqKsqPTspmPF2YXi6k7zmm1qTeqmnfQR1B1gN9hmzhgMMEkZqYjga7G3n/PHjnQeN33N7PVjPEpyi8USHeU1vfMwM4Ig8hIzbvqe4AirKOwCXOkaSqect5MhCjqq433nyCjJUSUlcuPTIv1OcjniPepGek03tjYDgshLzIj0ES5qG+Aqr6l0es52/vBeDlZ2Aa6Hx64ryy0RS1FSR8Vk1yKqgixGo2YcvpEf9kzAQK6ngemfHqm7r+ZdfUqGqE+00nUZDQC4jFTagfDCyJdiKQogpaPSc9dCmoIsRqOmHY7IbZAA+Z4Gff70+LL7au6PBLSSBWvnWVr3A4L4kpiyd8N+gYpihP3wya6TOFyOtLRUwtvE4IBQZg0TAKRlpFxXzzUx785hc5gM1rrfNjRbUQxaM13f2hQIoigh46Gwenj4Fhe1HgYYhZLx9GP0tov8sWbOowatnX5m9LqK3BLV7nrWm3/jRal0170ydUvJ5xwR8/vrzzCiaf6z3qezs7OBgQEArF+//sGDB6NGjVJQUDh9+jTPwMXFpeFe7u7uFRUV5HZJSQmVSr1+vdbPiIiIIF1PADh37tzAgQNbNtKWxGSiFV1H5S87XwAY6jWt/2K7mP3h/AaWCydUFZeddvADANu97j0cByeERWMUzHbP4qd7rua+q/MvFQ00rJY6XJi1jVlRLUmXmRi8/MrcnVxWUz5xX4fBStqqO+3XA4Dt6hkj3RyiDlwTsJl7YHns9eghc0bXpXl4n97jBuyfvonNZCtpq6y6HpjwzztmFaPFJ4GHhprq4V3+12/dy87Lb/3RSHpMtKLrqJy08wWAYV7TBi62i65/hvsvnFBZXHbSwQ8A7Pe693IcHBcW3cfJRslA49SkTUAQ6ib6006sPjRwOWmPS1BtfJxen/pbUk6kjxPaTh6rpas5dbQLAKxY775gqXPwnuMNzVwWOz1+8MxqmCUvJGCvb9j5iB1+zTe9CxMdo6WjMX2MCwAsX794/u/OR/4QJuo26+n9GKuhdaJb9vqEXbgZtHFfC0TVNq8sPXm5OuYNJiejfXI342MSOyuvNo7LLT19jZWaCQDy02yVl80t9N0NXG7eonW83bWOBVU+iO4QogAw0GGIirbqZvs1ADB5tdN4t0kRB67wG6R9TNk1ZzOXw1VQU9wYEfT+QSybyc5Pz9vlvIXDYgOApe2gaevmHFn2h1i6VhOHquio+tl5AcBULyfbxY7X91/mN0j9+HXH7M1cDldBXck/Iujd/Viee2ps3lVdXyM9PpWCi9fZZeowSEFb5Yi9DwCMXD1tiJvdPwfCBWymHlj68fozyzkjeSHMiuoIn+OVRWUAMGXvErNJg99dfSKG6MRBCjoqoXY+AGDjNW3wYrvH+wVFpzQQBYB+s0fKqirkJWaIm00AMNnjlnEoouTxR1xeuu/1zaVvvtSkF/Bi5U2NDJY5FEa95r29AED5+5S30wIIDldCXdHy7raiv98QDbxk0em1xy31UETx449Ueen+1zd9f/Olmi8BdFNDo2UTC6JeU/gS0BpGTrLR0FF3m7AEAOavcZ3pPv30vrP8BjH3nj+MqH2j89i6fNzUMTfO3ASANbu9bl+6c9j/iIhC3SZayWurXLD1BQArr2l9F9u9rH81LRZOqCoqu2DvBwBj97p3nzw46VptwdQ0N6brqxXGp2M4BQCKkjKvzqhtCpFSlLM/vlJ01xN++Rn+6XT877x31J73hISE+fPnz5kzZ+7cudnZ2YsXL3Z2dnZycrp79y5pQLqeANClSxf+HbOzszMzMwmCoNGEfH43ODj41KlTHh4eXbp06d69e3BwMC/K3t7+9OnTp0+fPnjwYFlZWWtcTwAwcbB6GRJJbr8Miew2ob+AQXe7AfwGJvYDAaDrOMu8j6l9XcfMuuTjcGiZooEGAKj30M+ISWRWVAMAo6yqMDFDq7dx0+p9HQbfD61t9XkQerPPhIENbf5cuCv93Rf+kO+5xflfs8lH2ve8kuyENDZDeLtaC8Da+vPlPRysXvCdwO4NzrCJ3QCewYsfZ7g0q7DwcxYQBAB8S8/Pj0/j2dtsmBVzOKLme4WICbB1HHP80Bly+8ThM2MdRja0sbQyV1RS+PvmQ15Irz4m5aXlNuOt/wo/EnxmT8/eJiLKkUxwHHPiUO1T5OThs2McbBra9LMyV1BW+DuyvmhZhc24YSfDgg+d2d2zd3fRFSmKdFyRXh3zBgCIiqrysCjZkUP4DUgvEACYCZ+BIljhSFtZsNKyOIXitVS1iyjJAIeht0Nr30jvhF63nDBIwKAgPY9s6ist/F5a+B3DKADAYbFJ11NCWlKnq37ah+Z7JwSwchhyK6RW91bI9f4TrAQM6nQLvvF0AYCuojBuvv2lHWfEVQQAMwerp6G1ZSQ6NLLnhAENbc4v3JNVv6KoLq0kXU8AyEtIxxqc/6bp5WAV/aNgPgsRLnph4Z7s+qIAEHv2/j/7rgEh9vfNacryNCX5kscfAYBTXp17/qF6/eqi/GNq3KJ9nMoa/sDqtHyCwwUAZsF3ZsF3jNLyGoymLE9Tkit+/BEA2OXV2ecfadRPQNnHtPcNEtAaRk4ccSG49uuIF0MuD7ezFjCoqa7VUlZTUtFQ/pLwFQC69e5WUVYxZMygvVd2bzsZ0M2sa7NCXSdavf5xNd+ERnaxFayHu9gP4Bm8Donsal/7MJJWoZsvGP9sh/BPOJovHP/+xN1m1Xn8+jOMaJYO2fZZXl7u5+d36NAhDQ0NAJgzZ87q1av79OlTVVW1cOHCLl26GBkZkZYMBiMmJob/I1GxsbFMJtPGxsbMzIwMWb16tYmJib+//71796KiogDA3Ny8f//+r1692rdvn4KCwoYNG/jVt27dyt+DLzq6lt2GrJoKAN9ScxX01L6n1bbzMcqqGjanSchLM8qqyO3v6fl0XVUAUO9paDi0V7jb3vLcEu2+XRxDPU5O8C6IT7daNlFaWb66pFxeS9nI2oy/ZZRHJ8vutqumA0BBSq6ynnpRWm1DUXVZpZS8SI15ucmZb2/G9BjepyAlt/sws7NeR8TtUPvZ6Fp2G7ZqKgCUpOYq6ql9+3GGa8qqJBqcYUm+M/wtPV9BVxUAUh59wCVoOn27lKTmmdgOiPCoff0wmz4sLz49Py5NvbteEwnoO6DP8nVuAJD2NUNXXzvjhw9UVlouJye4HJqahur03yav/X0jf6CJabeBwyx/d179JTnF0Fj/4Kmds+0Wln4vg8axGNBn2dpFAJCekqmjr52R1qyo47rfNwmIDhjab+lvq78mpxoa6+8/GeRsv6hpUR5UbQ1WVi7vLzszV3pIP6GWCi5Tvx8VHNeruGBmod8eUYTaUbSLpcnkVTMBIC8lV1VPPf9H2akqq5RuvOz0GdUv/ukH1o/BJH1G9XNYPk27i96js3fD/7ggim5XS5Opq2YBQF5qjpqeRn5abp2unExje5mPsox78p7UxSiU2Rtdz/gf57BFHSBkYNnNZtVUAChOyVPUUyvhK0SSolUUPCTlpLsM73123q5mLfV5oql5SgKionU1tAYpPTX+ZrCqtHyVEb1F3111bN+Sxx+4NS1/FZdukABVcRIgIqb9e833cgWAzJQsLT3N7LTahsOK0gpZYbeTi6fzCPvhalqqu9f+kfAmEQC69OpsMdjce55v2qd0vU66AcdF0uHsAAAgAElEQVQ2L3X0KP9eLrCjdv9uVj+edHT+J12pkHpYQk6a+aMeLk3Pl9dVBQCMgllvnPPP5jNcYfetpIKMgbXp891XGkY1xq85w7+Unz/r6GfTIb3PN2/eWFtbk65nRUUFhmF9+vQBABkZmSlTpkRHR/O8z+3bty9fvlxCQkLgCPLy8r/99ltqaioA7Nq1y8DA4P379xUVFTY2NrxGOEtLSwDgcrl3794dM2YMub179+6cnBxyESxxyXqVfGFmbceBa9Q2/iii4ft6/QCCSwCAlILMhwuPynNLACDn9eey7CLlTprFn3Me77hkt9edKkkrzSrKfJHEEdbtnvIq6cBMf3J73Z2dDQ/eLDIKsrq9jGIu3K8uq/r6MqnfxMEP/rwpyo6/jKxXyed+nOH5zZ1hQtgZVtBVpWsrp/7zgc1g5Sekm9hbvTv3QKOXoXp3/Xv+zbcevX7xzsXRndy+/ugcfxS3vh6Viq/z9wjYsEtg1JSCIv3O9XtfklMAIO1rxvMnr3r37fX4vuAQJX7evHjnOnkJuR32qF73WUPRNf4egQ1E6QryUTfuf01OJUVfPIk169vrSZOiTSHsdlJ0m131LJb5KZU/UMqyNzu/iJ2d19D+XyX6+VXijpm1Lwlb7tRzW7mNlB3d7gZWk6xDPeqGT7y7F/vuXqyEtOTUNbNHzBn78ExUs7qfXiUGzqz9il1gVL2eeqKRZ49ed4PBjsOCV9TqTlk18/7pqNKCb81q8Uh/lXziRyH6/U69UZUiVhQkOA132Db/9pYzrJrmB3NnvEo++UPUPaq+qPhtmWIjpPoVVVSuh77mlKHxSw60dQLa3rf4+DLOY9oqcvv4vT/5o4Texqf+OH3qj9PK6sq+Bzekf874mpgiryD36OY/aZ/SASAzJetN9NseFiYvHggOeM15mczrIp99t7knnQBcAgAGrpr64cz9qoLvQk3M54/7ePq+WHfjrznDv5SO3/PeIb1PLpfbxEhnnvu4b9++4cOHm5qakn+XLl2alpaGYRiGYRcvXqTT6RoaGrzjSEtLq6urN3HAlJSU3bt3jx492svL648//ggKCvLw8GhxFspyihUNNQoTMwBAki7DajB6klXFkKTLkI1zigYapMdZUfCdQq3rxiK4tWU59Z8Pqf98IANnXfblddk3xrecIlVDzZzEdACQpsuKOHZzpJtD2tvP1WVVAJD7KXPgjBHdh/VOevxepAz/cspyipUMNQoSMwBAqrkzrGSgQU5TGL5mRkxwBDmiIPv15wGLbDOeJ/ZyHKzWXW/GqTUAIKepRJOSkFWlR/mcbDoBudl5+kZ6yfGfAYCuIF9dWc0fa2rRU9dAZ8ehzeRfFTXl0Av7tqwLKsgrVFRW4JlxuYRYT9/crHx9Q73khB+iVfVFzXvqGWhvP7iJJxpyfm/Aup0FeUWKyop1orwbSwTYuQU0XS3eX6qeFjtPcD6NwvwZnKKSinDBnjKlRU5F2w6JKNTuoiTFOUUahpqZiekAIEOXZVYJ6arTMzGYsNjx6KoDDVscmdWMJ5fuT/GaLYr32UBXKyMxjdRlCCuz+iaGtu6TQlbW6uI0qrlNP6NexrxUue1efuf4zddRok4WLM0pUjbUyG+8EDUGLkGduG1B9J+3yH3FQkC0TUaWN01NdpG0oQbvr4yhRk22SHOz5HoYGCxzSFh+iBC5aVko1Q0SUC1aAlpMfnaBjqH218QUAJBTkOP1szekpKDkaVR0P+t+XxNTivKLFcSsncqzixUNNYrIJ52C8HpYgi5DNn8qGGiU55RQaLjRyD7qprVNSKomemP2uL07FvU1KhYAJOSljcf2O2/rK1Z+f/0ZRjRLhxz3aWFhcffu3czMTACQk5MDgNevXwNAZWXl1atXhw4dCgBHjhzp3LkzOTOd5ODBg3/++aeZmdmNGzeuXLly/Pjxbdu2DRw4UF5eHgC6du0KAMH1OXLkCI7j5Cr/jx498vPzmzRpEgB4enoOHz68NUMVE2/E9F80gdzu72abFCn4PEi6+by/my3PIPFGDAB8vhPbZ85IKQVZANDoZSinofgtJZd/r37zx1UVlZZmNjOd9vWN6JELa+f12yyyexsZI0qaq8ur+k4cTJWgAoA0XabbYFOhj94Wg1NxKt5mI74TbsQMaPIMJ958PuDHGR7w4wzXlFf1mjIEMAwA5DWVtcyM2Azm/S1nzzttu+gSdNEl6OWft+LCopt1PQEgMuzuvCWzyW3XJXPu3LjHH/v25YcZ41wXzVxB/ooLSxbNXJGZlv3kQcwYOxttXU0A0NbTGjC475uXH0TP9a2wu3N/iM5dMjvq+v16oq8+zBw3z22WB/krLixxm+WRmZ799GHMaLsRWj9E+w/u+1ZkUe63Uk5pubSVBQBgcjLyk8dV3n3Mb6C0xJlT/K386m2BHSXNe3LLK1gpYnsn7SVK8uLG03ELJ5Lb4xZNfBkp2EJsZGY83m3SsTWHWHwLOEhI1Xa/4FTcxnn8p1eJ4urG3HgyfpEDuT3BbeILIbqdbRdPOupVp8thsb3Hr9zpsoX8ZSamh6zaL7rrCQAfbsQMXlhbRgYvso2LfN60PQlNSsJxl1vM8Ts5H1JE1+IRdyNm0KJa0UFutvGiibYGVnE561u58jBTAMDlpbWcRhRENC8q38fYYKlDoseR1vS58ydAZZgpAFDlpXWdhudHtM1yIo3x4PqDGYunkdsz3KbxJhjxkJSqndhAV6SPnGgTHxsPAC8fvho2fqiGjjoAaOpqmA/qE/cqvmmh5BsxFm619bDFItvPNwXz9Snied8f9XBfN9tPETFcFufcOO/rvwWRv6LEzLsrQ0jXEwD6uI6Nu/BIaI98E/z6M/zTIbit/bU3HbLtU0FBYcuWLevXr+dyuRQKZceOHQEBAXv37uVwOPPmzdPX14+NjT169KiJicmFCxcAYPjw4fPnzweAhusrTZ48mbc9aNCgQYPqzSF49OjR+/fvBwwYAADz5s3jj+rfX3D0tFgkhEUrGWo4XfUDgihMynzQoFf3ZUjkCN/Zsy77UnAsPTohIfwZABR9ynoZcmvaX2tY1UxmZfWN3w+SvQ/Tz6ylUHGqpET260+RHsFC9OoTG/5UzUjL44o/QRC5yRnX/E8JNeNyuFx23T16P+TGBM/pKy77s2oYVEnao+O3UmKTW34KGmA/VsgUmRYTHxatbKjhfNWPIIjCpMyG/eYvQiJH+s6ec9kXw7H06IS48GcAcH/LWRvvWS7hm1jVTFwCj/I9VVb/FZnL4XJFW2Mr4sodg056Z2/+SRDE58SvgT5NDTRk/PAYvhV/91+zY0/oViaTxWaz1y/3r6yoFD3XN6/eMeikdyYilCDgU+KX7b5NTazmFw1YG7Q7dCuTwWSz2d7Lt4glWuizU9V3haLbbIyKfz9ylp1Tt3CB7Nhh9NmTmMkp8g6jAYCoYeQt8SGjlBbOKjko/Mb714oCQEz4Yw0jrQ1XthIEkZWccd6/3pICOBVffWZjzpesVadqFcP2XPz0MsFu6dQeQ0xZNUycSn3798vbISKt2MXPs7DHmoZavlcDCYLISko/00B37ZmNOV+zvE7Vtgld3XMh+WUCvw2Hw+GwxXvkfAiPVjHSXHBlI0EQ+cmZt/1PCzUTqCjGejvpmXce51v7FpT5+vO9ncLnjggXDYtWNtScd3UjEER+UuadJkSFjTtvLLxpEpcf7rZzoeHKKRQanrb7ao2wF3iCw+W1cWJU3PySd9Xn7D7n15MhKUGXvz8X+6WCx8flwT13LjBeOZlCw7/svlYtLAFcDkdcr6sx/r52X8dI50DYXiAgJSn14KbDAgZbjm6WlpVis9gAcHr/2bjYeAAoLSnd671/Y7Avk8nksDjbPYOqKqqaFkoOi1Yy0ph2zQ8Ioigp8/FmwXr4TUjkUN/ZU6/4YhQsMzohqcFCSFwOh/hxd1GlJbvYD7hg59eCLP/iM4xoFuxXjKr511BaWjplyhQtLS3+QJ5v2pDHjx8nJSUtWrSosQMeOHDAysqqXz/hMx54BBnMadqgFgwbu23e374nm14vSUSyMPHeyDEMmxG48LLfMaHDRkVkd+y25o3aml19Ra6MMGz8tnlRbXSG/6r+JO4uGIZt3rV+y7ogFquFi7NQxG9xxzBs0651Aet2tlgUACLUFZo3+oGkaXdJ025l58T2sVpDW4luKZcXdxcMw1wC3U77HeW04gyzxa+KMQxz3bb4lO+fLdY1wsSe04NhmH3g/Ei/Ey2uKCjiP3MwDLPbNv+Wb8tFAWBojRhniW7RmW7eOevYnRbLkbCghV1kChadFcyNM46JN0KDx3Zakbi7YBi2aofnXu/97JbeTo4UTRGVRm6f99CnberhbowWpraVZ3hcvkhzB38S1WHbmzdqEmnHdc0b/Uz+v7xPcUlNTc3LyyN73luDqN5nmyKu99km/Nu9zzalBd5n62mB99kmiOV9dmha4H22CS3wPltPC7zP1tMC77NNEMv7bCta7H22khZ4n61HVO+zTWmx99lKkPfZSjpkz/svw8jIiDd9HoFAIBAIBKL9+RcM3GwlyPtEIBAIBAKB6Dh0/BWXOuScdwQCgUAgEAhEBwW1fSIQCAQCgUB0HFDbJwKBQCAQCAQCITqo7ROBQCAQCASi49DxVytC3uevIA1r/kvHbc6smnZomW+XxY9Wv/b/9aIAYNbT+9eLVlPap79iaakY3wpvK9plPbhQTeFfl/7ZUCXbocCmfm2H9YCKCYlfLwoA0VLt8LxjYO3jJeyHdlhLK4hoZvH5n8E3qXbIKQCMaxdVHqjnHYFAIBAIBAKBEB3U9olAIBAIBALRcUBtnwgEAoFAIBAIhOigtk8EAoFAIBCIjgP61hECgUAgEAgE4teBet4RCAQCgUAgEAjRQW2fCAQCgUAgEB2Hjr/e5/9726eLi4tAyM6dO52dnZ2dnaOiolqwOwKBQCAQCASiCf6P2j6fP39+6NAhcru6utra2nrZsmVMpuA68F5eXo0dYd26ddnZ2QCwe/dudXV1AGi4O6JjkZ2bv8o3cMSQgW5zZ7V3WhAIBAKBEIGOP+7z/8j7HDhw4MCBA8nt9PT0Y8eOCRhkZmZu2LCB9zc9PX3MmDE+Pj7k36CgINL1BIDjx4+vW7fuZyTSwWtWj2G9CYLITky/4HuUzWTzx/a1sxo6ezRgmKS0ZFTw9Xd3XrRMRVJHtfNON6qCLIVGzTp8vTA8WsBAtqdh99CVGXsuF159IhDVZfdihUE9Y62WiS5n7TXdyNoUCKIgMSPK5ySnfqZwCeoYfxeNHgYYTkl98vHR9osAgFGwoZ5TjIaZshksnIY/3H4x80USbxe6torTRe8Pl/55duC6eDmvT35hUcCug6OHD65htMFbhJSOiumuhTQFGQqNmnL4Zk7YM/5Y+R76PQPnUmg4huNJW88XP4kHAGl9tV6BrricFC4tWfk1J27tcXZ5NVCwrl5T1UaYcWpYFBqeFHChJCaxCV1pHZW+O+fT6LIUCfzT4cjM8Bj+WAUTvT6BcylUHKNS4rZeLHgaDwAmnpP0Jg9mFNR+1OeF+6GagroP/HRyGWW6YcbdEWurc0pEzLvLGhcLawsgICUh5ZDPIYH7dpj9MPu59lwOV0pGKulN0rGtx5gMprqO+kK/hXQluoSUxNe4r4d9D3M5YtenLmtd+g7rSwCRmpB6yPsQi8kS0HWY68DlciVlJGt1a5gKygrrDq2j4BScirMYrFD/0NTEVBHlcA11JW9PipwcRqOVn75Ydfchf6zyxrW4tiYAgUlIlJ+7Uv33IzIck5RUWrcCV1MtXLpG3AySUDTUFdasosjJYVRqxfmLNfce8McqeK/DtTSBAExSovLC5ZoHDwFAymaE7FRHgsPFpKVY8Qllh46AmK/KEjqqxjsXU+mymAQ15/D1ovCnAgYyPQ27hazK/ONy0dXHvEBZUyPdldNpKnSCwfr28G3OYZFKqLSOitnO2rLz5fDNnPD6ZcdE3zRwLkbDKVQ8MeB80dPasmMa6EqVlcJlJCu+5Hxcd5xdXk3ad1o0vtva6beNXcXKLz82XtM7WZsBQeQnZtzyOSFQZQEAVUpiQoArXVPpzJztLVYhGe01o8swMyCI3MT0G75CtGhSEg4BrnQN5RPO28gQGWX5mQeWYTgFp+JsButWwJm8xAzRFWnaarrbfqfQZSk0WmHote836i4fUCg6Ae6SxroYhnFrGJle+9j5tZUArkTX2+PJzi/JWnegxZmd7jXb1LoPQRAZiWknfUIFKooBdoNHzhmDASYpIxURfO3V7ecAoKylsi3qj4yENNLmydVHjy8/EHLoxhnpNd3Y2gwIIi8xI1LY1aRJSdgGuMprKp2ufzV7OVjZBbgeHruuLFfUmhAhOv8p7/PRo0fHjh3DMMzIyMjPzy85OXn37t0MBoNKpZ44cQLDMAB4//59165dS0tLlZWVBXbX09M7ffp0dXV1dHT0jRs3zM3N3d3debFr1tQ+OWJiYu7du/cz0t/PYbCytup2+3UA4LB65mi3ibcPXOU3yPiYsn9OAJfDpasprovYHvfgNbtBQRKFLrvdsw5f//74Ay4vYxbuX/7mc01GAS9W1tRIb+mkkruxGBUX2FHHza7kwVvFYWaia/WYaEXXUTlp5wsAw7ymDVxsF70/nN+g/8IJlcVlJx38AMB+r3svx8FxYdF9nGyUDDROTdoEBKFuoj/txOpDA5eT9rgE1cbH6fWpvyXlWvuBNQ011cO7/K/fupedl9/KQwGA2Z5FKYduFj3+SJWXtrq+8dubL9XpdWe1z6Hf3y05WJ6YKaWlPOCqz9NR6zlVDPOQ5Z93XS28/w4Auvs5GS+fmLz1gr7zSBkjzejxfkAQ8j30Lc+ueWC+tAndfrsXJh++WfA4jiovPTzMt+TNl8qMQl6s5cElL38/XJaUKa2lPOzyhntjvDlVDIxCST4QkX7pccOjKVt0ljNQ/x6Xhon8Sc/hE4eraautsF0BAL95/TZt8bTz+8/zG7y49+JxRK3WkoAlo6aNunXmVlVF1SHvQ9+LvgOA1z6vEY4j7l+5L6Jire6k4era6sttlwOAyxqXqe5Tz+9rVPf3rb+Pmjrq1plbZd/KNrluYtQwAKBrn67Lty/3nOgpoqKyz6qy05cYL19jsrLqoX8w4pM42bm82G9B+4jqGgCgKNA1Th2uefqc/Kuy1bsy6oHcFHuxcseP4trVFecuMmNfY7KyKof2sRISOTl1umV79pJCGJ2uevQIIyaGqK5hPIsh3VAAoK/ykBk/tup6hFiinXe7Zx++Xvr4Ay4v0ytsS/mbz4yMumIia2qk87tjyd1XGF5XS0jqqumvn/115WFmnnhP6967F305XFt2BoVv/P7mSxVfjWRx6Pc3Sw6WJ2VKaSlbXfF5PHo9p4rR98jyT7uvFtx/BwAmfk6dl01MCrwAAN3WTq/OLGSWlIuVAH56TRxE11E5aucDACO8pg1abPekfpUFAFMOLP14/Vm/OSNbrEJi5jBIUVvlsL03AIxePX2Ym/3DA2ECNjMOLH1//Vn/OaN4IdXfKk7P38WqYQKAbm/jiYHzQxw3ii6qu31ZYei1iqfvKPIyxpe2V71NZmb+uLJcbtGx64yvWQCg7DROc7Vzltc+AMAkJfT3rSq9FS3Tr0eLM2s1caiKjqqvnRcATPNyslvsGL7/Mr9B2sev22dv5nK4iupK/hFBb+/HsplsCk7JSEjbOrOF33A2nThIQUcl1M4HAGy8pg1ebPe4katpWf9q9ps9UlZVIS8xg4L/Kwcodvy2z3/laW0RJSUl4eHhJ06c+Ouvv/T09G7cuOHn5xcYGHjmzJmTJ0+SricAXLp0qaCgoLi4uHfv3uRezs7O58+fB4DQ0NDVq1cHBAQwmcyhQ4eWlJT4+fldvHiRX6WiouLgwYP8XmkbYukw5O/QG+T236ERFhMGChgUpueT7UNlhd/LCr/zMiUWVGV5qpLc98cfAIBTXpV//oGKbT2hyo+pSW5/cCprBHZUsOpBVZIvjhSvwbWHg9WLkEhy+2VIZPcJ/QUMTOwG8AxehESa2A8EgNKswsLPWeTA6m/p+fnxaTx7mw2zYg5H1HyvECsZjdGyc9gQmrK8hJJc0eOPAMAur848/0hrgiUvlm5mVJWWX56YCQA1uSUF996q2fQGgOrMwvKE2kaL8qSsyi85ZGBFcm3eq9Lyy+LSGsrxkFCWk1CSK3gcR+qmXfhHh09X0cywMj2/LCkTAKpzS/Luv9Mc0RsACC7Rac4I66ve1mG++lMG8+wlVehdFo3/GHixgU5TWE+0vhpS+5p0LfTaENshAgaMaga5oaSmpKyunJKQAgAVpRWk6wkAKQkpFPG/Xz/cYfiVI1fI7ashV4faDhVFlyAI0vWk0qjGPYw/ffgkohxFgU5RoDNevgYAorKyMuKOzIh6OSVdQACgGuix8wuImlr1otV+zLimWq+bBlOgUxQUmLG1ulWRt6Ws6+WUT1ef80OXqKkNpCgr4SrKrC9fxRKlKstTleRLf9QSBRceqEwYwG9Q+TH10+I93Pq1hPaSicU3Y4x3ufcK32K0ZR5FRkoULQlleVr9sqNpW3cPK5gZVabllyfVlR11m94AUJVZWMZXdiq+5pDbyTsuZZx7KKghDr0crGJ+1EgxIZE96mec5OLCPdnvvrRGhaS3w6AnoTfJ7Sehkb2EaZ1ZuCezvhZBEKTridNwrR4GOR9EbbwHAFyJjivJVzx9BwDc8qqSS3/Txw3iNyBdTwCojvvKewUlGMzU3zYy0nJEF2qIlcOQyJDatvDIkOv9J1gJGOSn55EPuO8F30oLv2MYBQAILqHZSXvV8Q2bwrc7b5wnLS8jlmgvB6voH1fzWUhkT2Fn+IKwqxl79v4/+679eyf3ENzW/tqb/07b59u3b+Pj411dXQGAwWAMGzbM2tpaQ0OjoSWXyx00aFB5eXlOTo6ysvLp06cB4OHDh+rq6vr6+qSNvLz8kCFDSONXr15ZWloCQHl5+dq1a6lUalFRkaqqapsk29iyu/2qGQBQkJKroqdWmJZHhleXVUrJN9q2Zzqqb+LTDywGqzGDJpDSU+dv6axJz1ca0afZvSQ0lDSdRycvFanPRdey27BVUwGgJDVXUU/tW1rti3VNWZVEgwZLSXlpRlkVuf0tPV9BVxUAUh59wCVoOn27lKTmmdgOiPAIJg3Mpg/Li0/Pj0tT764nSkp+GTJ6alV8LZ1VaflqI3rXxeqrVabm8cfK6KkBwAePEN3pwzLPPZTtrM0ur8q/HQsAhQ/eUyRpSv26VKbmadkPfLfkUBO6snpqlXy6lWkFGiPM+GLVK1Lr2qsq0vJl9VQBIOngjcQ/wgBAUpU+6MTKmoLvBU/igYL19nd+73eaYHOazW/P/j2dVzkDQHZqtoaeRs6Px1JFaYWMnJDHg5OH0zD7YaqaqvvX7U96k8QfJS0n3W94v02um5oVJXV/W/0bAGSnZGvoi6RrbW+tqlVPt2ufru7+7vpd9F89fBW0NEgUXQDAtTXZfC2d7KwcKSvLehYSNLUDQTQDXc6374VL17bVc4uqqcnOqXvqc7KzJQfUf4WToCnv2UnV0+N+/16y0ounK+f6m5TNCFxdrTRoNys+QSxRST31mvS6O6cmLU9xhHmze8n2MqJISSQv3MmtZmq72RsFzPu68nCze0nrqfG3dFam56sLlJ20PP5YaT01AHjv+aPsGGuzy6vybseKmDWh6Ft2G75qKgAUp+Yp6qmV8FVZre9jEcDAstuoVdMAoDglT0lPrbhOq1Ky8TpfAN3exnabXdQ76yQ/endp+UHR1SV01ZkZdeeTmZ4nb20h1FJt4aSCQ5eFRolON0uTqatmAUBuao6ankZ+Wm0JqiqrlBZWYEksRlnGPXnPYjABoDinyGPwYg6LjWGY/e+T525ZGOyxr2lRfctuNj+uptJPvpqIFvPf8T4JgrCzs1uxYgX59+HDhx8+fODFlpWVzZ49myAIDMM8PDykpKQUFRX79evHM5CXl5eUlBR6ZBkZGQB48uTJ8ePHvby89PX1N2zYYGNjM2nSpNYn++urpL0zN5Pb3nd21csRV/jTS6e7fv9Jw0547G+hZIOHYmNCPDAq3mnz3K/ex0Rs7c96lXxu5lZye37UtvriDdTrB5CJUdBVpWsrp/7zgc1g5Sekm9hbvTv3QKOXoXp3/Xv+Z0RJwy9GWL74QhqcYDKbGmP7lidlcpnsyi85yv270XsalMWnS+upSmurFD58z61hlcWlaU8alHG60S5pIbr1rqbwVBGsWv+SUVT2KeSW1ijzgifxPddMTfnrHv8A0CaIfxm/bkbt0OfDd+t5GFxhb9Xn9p47t/eckrrSmv1rMr9k8oZaUmnU5duXh/qHMn60FDaru3b62lrdv+vrCrs5ebprD6zN+JxB6n5698nTwZNKozoucJy7bu7xwOOiSAvxJgUUmaxCN08AkOzfVyXQp9BtpUiHbVa2YZBAgWWySpZ6AIBEv76Km/xKlnmQwRUn/qo48RdFRVlxow87PYMtVvNns5kVBlVRLvtQOLeaCQA5IREWMU29ODWhVe8ebph/suyM+VF2vuYoD6gtOyLJCSPjVfJfP6ost6h6g/8aFrFWkv4q+djMAHJ72Z36Ws1VxTyy3n89MskPp+GD5k8Ys2Zm1Pbzze9Tq9HwygoRVV82o/zxm5qkpjpeRCH5VSKv03xb1B/1EyL8jtLrbjDYcdjhFXt5IRwWGwAIgrhx8Oq+mNBmRTNeJZ/8cTXdf/LVbC9Ev1X+tfx3et5NTU1v375dUlICAEwms0+fPnfv3s3MzCRj6XR6RETEggULFixYcP369YsXL4aEhCxcuHDUqNrBNP369UtMTAyuz7Fjx7p169azZ8/KysqEhITg4OAePXrIycnt3btXU1OzzbPwLadIzY9z7DsAACAASURBVLD2sNJ0WUaVkOexjonBGPdJf606yBWhgUoojOwiaYO6JmEpAw1GTlHTu8ibd5YyUO96YFnPc949z3nTVBV6nvOWMhDSrtyQspxiJcNaSym6DKtBplhVDEl67UuwkoEGOb57+JoZmS+S2QwWAGS//tzJ2ky5k1Yvx8Fq3fVmnFoz49Sa/gsn9HIcPDZgrmiZ/unUZBfJGNadEBlDjZrsYt7f6uwiWSNN/tjqnGJcRtLIbXzJ8yQA4DLZ2Vef9gqaBwDdvGcVxyRya1gA8C32s5pNb1ljrcZ0q7KLZQ3VeX9lDdWrc+p0q7KK5YzqUiVnqFHFlyoSjEJhlVdjNFxrlHn3FROHnFsz5NwaBRN9y/2Ltcf3AxEoyC7QNtSulVCQE3rfknwr+Pb87nOLYbVtLVQJ6oqgFddCr4k+74efwuxCft2aasGxIvy6MVExPF0SNosdeSayv43gUJDG4OQVUHW1eX+putqc/EKhloyXrymyMhRFBRGP3DTc/Hyqdp0urqPDKSgQasmMFaLLLS6peRItaSnSpeTByC6SMqy7Y6UMNRk5gneOkATklfAPAyVEm0ZWnV0ky1eZyBpo1PDfw9lFsnwpkTWoLTud6pcd0x3zRNEShbKcImW+KovZ+P3cekpzilXqtGSZVY3ew0LhsDgvz97rZtN8szQPZk6hpEFdfSJhoMnKFbyN1dynsgu/fbss3jjsZinOKdIwrJWWaeQBp29iaL/E8cjKAxxhDzgMw2oqq8USLf2FVxMhFv8d71NDQ2PZsmULFiyYM2fO/PnzcRzfsmXL+vXrnZyc5syZQ7aLcLlcDqfePT1//nz+7dP16dq1a1ZWFgDIysq6ublJSdUOY6JQKLzp821I7I3oUQtrpyaMXmT/JjJGwMDAzHi0m8PpNcEt63MnYRWXsb6VkzOHcHkZTaeRRRGCQgKUvUp+N359vNNW8scqKo132srfMdcECTdiBiyaQG73d7NNajBsNPHm8wFutuT2ADfbxBsxAFBTXtVryhDAMACQ11TWMjNiM5j3t5w977TtokvQRZegl3/eiguLjvI5KU7WhYNTcSouOL9KXJjF5cxvFarDTAGAKi+t5zQiN+I5L7b0XYqMoYa8iR4ASGkpq4/sU3j/HcHlSmmpKPbrQtpo2Q9gVzIAgF1WpTt9GJl3KS1lhd6duI1fbmZxObOkQn1YL1LXcNbwrIi6M/ztfYqsgQa9ux4ASGspa9r0znvwHgBwaQnSQEJJrvP8sVk3XxIszr1RG546BZG/0sSMV8uP5IjWm/nPjX+muE0htycvmvzkpuA6CZJStb0K8ory1g7Wia8TycCVu1eGHwv//OGzKCoNeXT9EU93ituUpnWHTxzO0yUDMQybOG9i3Ms4EeW430u5pWWS/fsCACYrK+swvur+P3XRNBr8GCQn2b8vYBi3tKxl+RKiW1Ym0a9WV8Z2fM3DR0J1Jfrx6f7oycHodOlRNsy4eLFE2cVl7JJyhR+1hPqskcURz5rdq+TWC90Vk8lbV3PuuNKnH0XREig7+k4jcuqXHVlDDfnudWWn4P47gsuV1lJR6vuj7NgN4FS2mVcRdyPGalFtjWTlZpsQ+bxp+9bw/sazIQtrtYYuso0TbVQ9Taq2/GIYNmjuuPRXSU3b88MpKWN/K5Mb0gcAKPIyytNHf79Vb80TDU8ndtG3kgt3RT+miMTceDJhkQO5bes28UWk4B3Vyayz7eJJf3odYvEtQoLTqLzhpxOXTX0d9VIs0bgbMYN+XM1BbrbxP/Nq/lK43Nb+2pv/Ts87ANja2tra2vL+WlhYnDlTr5dWTU0tMDAwLKzepEJ3d/dBg+oNu+aB43jTDfUSEhKtSK8gL8OfqBlprrriTxCQk5xxxb+ea0Wh4svO+OR9yV56qnZZqJt7Ln152ZLZDJ9WHOoctEjfcypGwzP2XGZkCmnCIdicxsb/kc1yIhIfFq1sqOF81Y8giMKkzIb95i9CIkf6zp5z2RfDsfTohLjwZwBwf8tZG+9ZLuGbWNVMXAKP8j1VVr/RjsvhcjktbP0VwH6sTZsc5/3yYNOd8zuvdKTQ8M+7r1Zn1mtRfuu2v+dWF4xKxXDs46o/OVUMAIj9bVc375kUCSqFitfkf3u/9DAAJGw8beI3e/Btf04VkyJBjVt/ojqrqcbpVx4hFjvmmXg6Uqh44p6wqvrGL9wP9tnyG4WGYzjltdcxUrfTbyN1JvTnstgAkLjnGjktiR8umytiwxUAPAx7qG2kvevaLoIg0pLSQjaHCBj4/OkjLStNLod04eCFhNgEAJjvM7+7efeFvgtJm8TXiaeCTomoyNPVMdLZdW0XEJCWnBaySVDX96ivlIwUm8UGgAsHanVHzxg9etromqoanIonvEo4svGI6Iolm4OU1nvQ58/BqNSyo6c5uXUvYBLdOit5LePWMIDgcopKilb61Ovi5HKhFbfr9607FLw85eY6Y1Rqxcm/OHxLNNC6dqZ7riBqaoAguMXFJWs3kLrKgVswaWmCzQKAir/OsD6K6mTz+OJxsNMON13PaRQqnrXnEiNLWC3B4RB8+co/87ekvrppRCCXyar+mpO2UdSXw3crgk2D5nf1dMRo+Kc9gmXn9eL9vQJcKDQqRsHer64tOy9ddplsmEmRoGJUnJH/7e2y+sMwWvF+/jEsWtlQ0/XqRoIgCpIyo/xPCzUjONwWrBEmwPvwaFUjzUVXNhIE5CdnRvr/1agWu07LYpq1xdRhzGoGTsXTY5NvbhKv4GSu3qu79Xf1ZTMwGrVg/wVWVl1TuoLtEJW59jWJqUpTRgIAt5qR5rq5LhlsLrS0zw0AosMeaxhq+V0NJAgiMyn9jH+9ES84FV97ZmPO16w1p3zJkCt7LiS/TFDTVVu8ZwWLyaLglMTncVf/uCCW6IewaGVDzXlXNwJB5Cdl3mnkanIbuZqNhbc//4JpQ60E+88Mg/gZPHr0qFu3blpajfZ7isgSw+kt3hfDsFmBiy76HeWwxCv2s2rEuDvlzbvIW3TOOXZbzNQJ8lRSpFmugGHjt82L8j3JFTNTQln92r/1B2kBd3t6N22gaGGsaN457VjzH80SnWoR5oYrmxsrmRt/Pd6WrRfHad/EsscwbNn2ZYd9DpPOX8toQe3Uet1QTTHWxZTo2V2iZ/eKS4JruLQAqqQYBZbWw4Rm0r3qquDqPOKS+lVw4bkmkDPvImfeOe94a2uJYqL5l3ZFc2NFizYuO28lW9HXh2F22+bf8j0hbpXFwFpyD08MnB/hd0LcOp+fGSDGmlPSfbrK9O5afOpmi+VIggiauLtgGDZv2+KTvn9yWlpgO4PYE4mwH1ezNWd4U/rZFu/beqqCxVhyWygy7i1ft7VNQN7nr6A13meLEcv7bCtE9T7blH+t9/kzEMX7/BmI6322Ce1SO4nlfbYhYnmfbYVY3mdbIYr3+TNolffZUlrgfbYJYnmfbUULvM/W0wLvs01oZ+/zUFOLQIuCzO9iLJXwM/jvjPtEIBAIBAKBQPz7+U+N+0QgEAgEAoH4j/MvmDbUSpD3iUAgEAgEAtFx6PjeJ+p5RyAQCAQCgUD8OlDbJwKBQCAQCETHoePPF0fe56+gC7cd5nh+be0C6i3hr+pPv17UrD3mngPAmPit7aDKbZtVTsXloIX7rxfltkcN+62w0c9P/1RotHa4st/ao2oqbfXHHVpGElT+elEm0T4FVrt723zsQCxmvNdu3qitiZfEfr0oovUg7xOBQCAQCASi49Dxx30i7xOBQCAQCAQCUUdsbOz27dsxDNPU1Ny2bZucnBwvis1m79+//+XLlzQazdzcfOXKlS04PvI+EQgEAoFAIDoO3J87KonL5QYGBh45ckRdXf3y5cshISGrVq3ixe7bt69nz54tczp5IO8TgUAgEAgEouPQ6u+8l5WVlZXVGxxMp9PpdDq5HRcXZ2Zmpq6uDgCTJk2aM2cOz6ympiYzM5PL5Z4+fVpTU3PdunVqamotSABacQmBQCAQCATi/4hTp06NrM+pU6d4sdnZ2bq6uuQ2jUbjcDj8US9fvhw7duzZs2cdHR39/PxalgDU9olAIBAIBALRcWh1z7uLi4ujoyN/CK/hEwAwDCP4lhzh3y4vL+/du7eZmRkADBkyZP/+/QRBYJjYKw8g7xOBQCAQCATi/wj+fvaGaGpqxsTEkNssFos/SlVVlcs3474FficJ6nlHIBAIBAKB6DAQXG4rf00f39TU9OPHjwUFBQAQHh5uZWXFi9LV1S0oKPj06RMAxMbGamhotMwB/fe2fQq05bq4uPAPSuCniSgA8Pb2dnd3541gcHV1PXHiBC82ISHh5s2ba9asIf96enrm5+fjfIshZ2VlRUVFSUgIX5P52rVrVCrVwcFB5GwhEJCdm7/KN3DEkIFuc2e1d1oQCAQC0dH4yXPecRzfuHGjp6cnAGhoaGzZsoU/NjAwcOPGjTiOKyoqbtq0qWUS/17v08PDY926dVpaWuRfJpMJAOfOnbt9+zYZkpmZef/+fRzHySgAKCkpmTJlCs/RHDt27Jw5czgcDv+AWTabza/C4XD4BzQUFRWdO3eO38DNza2mpob0PhcvXlxZWQkAZWVl06dPnz17Nv+RxWLwmukG1qZAEIUJGQ98TnKY9VKFS1BHbHFR62GAUSgZTz8+3XYRAOS0lJ3vbitMyCBtEq48Sbj8GADG7nGj66kBQeCStDdHb3+KeME7jqy2yqCg+RIKMhQaNS44MvV6DL+KkonegAAXCg2n4PjrbRdzn8YDgISCzKCg+bI6qhQa/vXK04Q/7wAALiVh6eekYmrIZXMINve576nvSVkAYDTRymT+GC6TTZOT/nT+UfKpe81m3GOD+5ARAwkCkuM/b167g8VkCTXbssfbcrDFuAFTyL8ystLL1rqZWfRks9hMJsttlge3yVc3KR0V010LaQoyFBo15fDNnLBn/LHyPfR7Bs6l0HAMx5O2ni9+Eg8A0vpqvQJdcTkpXFqy8mtO3Nrj7PJqoGBdvaaqjTDj1LAoNDwp4EJJTGKzeWya/MKigF0HRw8fXMNgtvJQAuTmF2wKOlheUclisV2dJk8YZc0fe+/xs78uhuM4TsGw5Yt+692zOwB8TknbffgEg8kkCMJuzIip9mNbJr1g7TxL635AEF8SU/Zu2C9wWUfYD5/sOonD5UhLSyW8TQwOCGXWMMdMGT1h5jiejb6x3mSL6eLqLlw3v791P4Igviak7NmwT0DXxmH4ZNdJXA5XSkYq4U3i4YAQZg1z7NTRE2bw6XbWdzSfJroiTVtNd9vvFLoshUYrDL32/cbjujgKRSfAXdJYF8Mwbg0j02sfO7+EjMGV6Hp7PNn5JVnrDoibRwCgaqlpBSzD6XIYjVp89GrZzX/4RTU3L5E01gcAbg0jd/1edn4x35643pGNGBXPmCvq98DaquxQJKjd/ZwUzIy4THZNTknc+hOcyprGRGV0VAYGzafRZXAJakJwZFp4vZpK0UTPcqsLhYpTqPjbwIt5T+MBoNu80fq2/QGAIkF7G3C+4EUyAKj17zYsZFnZ11xyx/hDETkPP4iYcQCY4TXbzNqcIIj0xLQTPiHs+tXyQLvBI+eMxQCTlJG8EXzt1e3nZDhdVWH66tm6XfVYTNb3/JJDK/aKrggATl7Ova3NgSDSEtP+9AkWEB1kN2TMnHEYYJIyUmHBV17cjgEACoUy3XNW72HmLAYLp+Fnt59KeBEvuiJFTV3OYzUmK4dRaVVXLjAf3eePlVu9HtfUAoIACYnqa5eY/zwEALl1vriyCmmAKSoxX8RUHTsiipa0jorZztrb6cvhmznh9W8nE33TwLkYDadQ8cSA80VPa28n00BXqqwULiNZ8SXn47rj7PJqua46ptvnAQAuSWMUlcV5n6zOKmpaepjX9E7WpgRBFCRm3BX2kB3t76LRwwDDKWlPPj7afhEAMAo2xHOK0TBTDoNFoeGPtl/MfJFE2qv30J90aFn0/vD4sGhRMv4foHfv3mfPnuX9raioCA0NJVdZMjExOX/+fCuP/+/1PktKSvhXNyVxcnJycnICACaT6erqitf/YltVVVXfvn137drVxGFTU1OdnZ15fysrKwcMGCBiko4cqS1vMTExL17UOnm3bt36/Pmzp6dnY+2jDek20UpeW+WcrS8ADPKa1m+x3Yv94fwGFgsnVBWVnbf3A4Bxe91NJg9OvBZNwSmFCRlXZgh+3fGBz0lWFQMApBTlnG76p95/R/4FgEG7FsQFR+Y+iaPJS4+/5lP49ktFRiFvx6H73R8vO/w9KUtGS3nspfURY33YVYy+G2Zm//Px87lHFBo++uyaovepBS+T+6x0ZFVUR9pvAgDdUX0GBc2/5bBZobN2n1WTI+02MsuqJBRk7CL9c5/GQ1JTX9q0nTxWS1dz6mgXAFix3n3BUufgPccbmrksdnr84JnVMEteSMBe37DzETv8RK3WzfYsSjl0s+jxR6q8tNX1jd/efKlOL+DF9jn0+7slB8sTM6W0lAdc9Xk6aj2nimEesvzzrquF998BQHc/J+PlE5O3XtB3HiljpBk93g8IQr6HvuXZNQ/Ml4qYhsbQUFM9vMv/+q172Xn5rTyUAH47DrjOmjzI0ry8otJl6VrTHt30tDXJqIysnNC/Lh3fFygnK1NaXrHKd1vwzk00Gm3N5p27Nq01NtLncDjegXvNenTramworu7ISTYaOupuE5YAwPw1rjPdp5/ed5bfIObe84cRj8htj63Lx00dc+PMzbtX/7579W8y0NK6n9WogeLqjppko6GtvnC8OwAsWDtv1pIZf+09w2/w7O/nD27U6noGLh83bcyN0zejrvwddaVOd5CYurrblxWGXqt4+o4iL2N8aXvV22Rm5o/ryOUWHbvO+JoFAMpO4zRXO2d57QMATFJCf9+q0lvRMv16iJtHEq3AFSVHr1ZGv6XIyRicC6p+n8zKzOOJlpwIZ6ZkAYDizPFqnr/lrvuDt6P6qrmlYfcUZ00QXautyo7xsomsb5UxDpsBQG1E766rpyRuPtuY6MBdCxKCI/Mex9Hkpcdc8yl6U6+mGnzAPXppbU016tL6W2N92FWM/7F31nFRbO8ff2aD2KBhabBFBSkDRRCuCajYCApigwUGWKBi4gUbFK+t1+IqFtfuxEAQJJTuroWFzfn9MbjsLrnKvVy/v3m/eL04M+fM+cyZnTnnmefEFD5PTD35AAAUe+vYnvS9ab0GAAhEQsHTz298j3W8vEKGTRqhqqO+0WkNAMxY6zZhyeSog5GiCTIT0ne5bRHwBUoayttv/f7p0Qceh4cQCN57V0buvZge9+0HRK0n2ajpqPs7rQKAWWtnOy+Z+tfBy6IJMhLSg9wCMdHgW3s/PnrP4/BGuY7VNNDa4LwWRVEDI8MNpwIXD53XcVGar1/9X5e4sR8QClUx9CAvJUlQVCiMrT28HxrqAQChKygdPsaJeQsN9bW7m1xftHUBnOdPOqg1MHRRWnjj7TTs+uaq2DRWTtPtZB62NNb7MDMlV05LxeqvTc9Hr+ez2BZHV3wNvVryKA4AjAJdey6flLLzUl1m0duZO1EuHwC0Jg412jQrdklbL3L9Jlkp6KiedgoAAJu104cscXot3sgOXujAKq85MzEQAJz2e/WfPPxL1CtTV3tlA8ZZ5y2AohpG+tNOrQkfugIAGAMMhy5x+vYwlkD8zwxW/OkVl6SFRqP95AKfEvxnLmUzysrK6HR6a7GRkZGjRo3qYFZr1qwRLgqgo6OzRYQFCxYQCG1dBIFAIBwAMG7cuDlz5syZM+fIkSNmZmbYTgcHB39//46bngDQd5LVh4hoLPzxWHQvx8ESCfpMGPLxe4IPEdG9JwwFAFSAKnfXnHRqtcuNLSO3zJGhy2MJhLamSk8tZkE5t77RoyarTJNVphW+SAQALrP+26XnBuOb7DlVY0NmdgnmwmQVVuQ9itOxMwEALev+aZeeAYCAy086fq/bxCEAUJtXVpmShx1YmZyLuRbYlbXV3/I5NSwA4FSzKpJy2BXMtgvuOHnMybBG++BU+PmxE39rnmaQlZmSsuKD20212wBTI2Y103687dnrR4+c39t/oFHbKmQVuowyrex5AgDwmPW5F59qOTQVXMGkGyurmJmcCwANhRUlDz+p2w8EgPrcUuZ3vzIzJa8urQDbWZuaBygKAKys4prErLalO8gPD9Nug8qq6urqmmGDzACATqNOdhz98FmTmyE1LXOwmQmNSgEARTqtT89uCclfq6prZGRkenTTBwAikTjO3vrJy7c/IP3bJLtLR65g4csRkSOdbCUSNNQ3Or1U1JVVGSppSekSCVyXughzkELX2f7i0cam+tLRK3aObepqqKYnZUgkcFs266I0ukRlBaIyvfZlHAAImKyKKw8Uxg0TTYCZngBQn5iOfK9YUDYn030zO6ug40KSokr0ulefAEBQy6q6+oA+RkwUMz0BoOFLGojUZgoTR3JyC+vjUjqu1YnPjqJpt8Lbja/opU/ilYf2bU1UVoUmq0wret5YU6Vdeq4nIqoiXlPlP4rTtjMBgJq0RoOpJq1A8N3njQoE6oN62//pN/bm5oFrpxFkpHCvDJs44nZEo4ESHXF9iMMwiQTF2UUCvgAAqkoqq0urEIQAAIPHDc1ISB/n6RhwZfuKsDUMA82OKwKA9USbGxHXsPDNiCgrh+ESCYqyC4WiVaWVBIQAAKV5xbnfcrBeu+Lsoswvkjd2GyAKigQFBW7sBwBAWXUN9/6WtbYRS9FQj/0n6ukLSoqBLeaxJurqEShU3rfUjmjJqNDJ4reTpmPTL6to0q0uq5iZ0nQ7adgPBABWbmmNyO1Um14AACiXj5meRIqsQl/dqvh2itxvotW7721oTER0XwfJRtbIaUjM9wTvIqKNJgwFgOq80rJvjRV+ZXZxyZfGCr84MevGssPcOnZHSo3TQf6jvs+vX7/m5+fHxcWZmpo2j33z5s39+/dPnmx0m5WVlc2ZM8fR0dHe3r6mpubbt28sFquioiIvLw+b0hUSEmJgYIAlXr58eXx8vDArAoHg5uYm3DQ1NXVzcxO1RwkEAoVCwcLKysrnzp3DwvX19Xl5eQBw8+bNpKQkPz+/tg1QncF9rFZPA4CqzEIFPfWqrEZ/CbuaJUOTl0gsQ5Nn17CwcHV2sYKuGgAwC8pPDPMRcPmAIIOXTrDfNveuzxEAIMqSp5z3V+6mWV/BvDY7GL4PJKDpqdeKvGUys4t1RpoIN2n66sysJt8bM6uEpqsuq0zjVNWh3weUMLNLaHrqAJB69lH3ycMUumvWZBRp2xq/9jsBAA3lNfEHbnSbZFWRmKVu0fNTcCS7srZ5wS2GmK5YtxgAstJzdPW1czJzsf011UwajSqRWJ2hNsN9iv/SzaI7jYz7DLUZtHTOmrTUDMMe+ofP/O7mtLC6qgZagaKnzhLx1rCyitXtBjbF6qvXZRaJxlL01AHgs0+E7gyb3AtPqD21eUxW8Z0PAFD6OJ4gS1a27FWXWaQ1YWicd1hrol1OflGJrnZTy6enrfXq3UfhZp9e3SPOXq6orFZRViwsLn0ZEzvAqLe5SX82m52Y8m1A316s+oboB8/ozX6R1jAePGD+Wk8AyM3I09LTzP9uWtVW11JplObpPXzn2E0Yqa6lFuq/LylWbPSC+XCzwpyikoKS5kc1x2Sw8fy1c5t0M5t0KfQWdOf6zrGfaKeupfa7374vH5PEdK3NCnMKO6iLIaOrwclpunk42UV0W/MWU6ovdC4Ji2wxSlrIOowmTycAN6eQOsKixZQq86aUfzfHZXsbUsz7FW0JJ+todFyrE5+dqth0nenWqTsuA4pqTRpK66XdmihVV71WRLQ2uxizLzFo+uq1ojVVdglVT2xp696eo1NPNTqzS959vWXrh/IFBBmS5dbZxj7O8Xv+aqO8fQYZTV/tCgBFmQXqeozirEaLtq6mTr6l2xjDfNSghBfxXDYHAAz7dxswYuC+xcEVheW9LPr4Hlu3wWEVZi+2htGgfi6r3QCgILNAQ49RJCYq2RYIsRw1+POLOA6bAwCfnsaSZMh9LPoWZhZYOQ4/6LO3DTkJiAxNfmGTp5NfWCBjKW6ZkWUUd4UQdXQF1dXVG1YDKja+UH6WO+uK2OC0NpDXUxf1dNZlF2tI3E5ZRaKx8nrqABDv+/126qHNY7KK7nzAEjDGWPRePYXeSyfr7MPUln5W3UF9bFZPA4CKzEJFPfVKYSNbw5Jt3sjSmxrZyuxiRV01AMh4+pkoQ9ax6FWRWdTXccgtnyMdLGkX8A+P+/wX+I9an6dOnTp69GhYWNjRo0dFu9dZLNbJkycTExPDwsKE+9XU1IRG4eTJkz9//iwvL6+srGxlZaWrq/v27VvM1XTlypVbt24117p69SoA7N+/X1VVVfRbUs1paGjw9PQEAD6fLysrO3DgQAaDMXHixClTprRbovx3qcJO8zn3d4nFoe3cRkJzUMDlY+nfHb654O0BbCefzY2cvh0A9EcMcDi8NHLG9675ZtmiovdrM020pdPADlEZYEiQIWHWan1xlf44y6xbMQQZkpZ1//S/XtaXVPE5vG7OVl+ORkOzYZwfY+I8Jnth4RtPxaotgbgiiURcF+SzfUOIxJhORSWFuzcepqVmAEBWes7bF+8HWgx4/khs/FDbBRHb07zgAhQAGGMtmCm5Ag6vLq1AZXAfhf4GNV+y5fXU5LVVS5/ECxq4NYlZ2s7Dcs49kjz+v0Fzfyrmm8HQ19HyWeyxblsIh8PV1tKwNB1AJpMAYP/2jYeOnyuvqKJQ5AeZGReVlELHSHiX6DO98WE5+fAP0ShBS9XimX3nzuw7p6KhEnB4Q/a3nPTkJtfF7BWue9d1dEzF53cJK7/rnhbXbXEW5+l9507vO6eqoRIQtjE7LVvU/em+wi2kg9IAcgAAIABJREFUw7rfNZoVraXCaiyfyXwe25DSOZ7yFkRb6nRTWzqr7mUsOzULAAg0itrSWQV+odJLddqzk37wRq+104ZGBYBAUHTnQ1uj9NqsqVqolkRiNUf0V+qtG+N/Upga5aMAIODw4n+/+tsl/7atz9T3ydtdArDw7ntiNwPaSs+mXl8D68m2YSsbhzdQFWlPLj2sKCwHgG8fU8vyS7W6a+d/y2tDNPl90maXxmG4ofcOiou23BYY9DW0mTzywMrGH1RdV0NNWy3+2ScOm5OVlDl8wogHF+61odiOhMQ9zOVUr1kBAGRzS4X1m6vXrhTGELR1iOrqvMQOD6WVsg3CzoQx5vvtlF6gMqTxdgKA4vsfi+9/JFJk+25wMZg7Ovv0A4mj896nXnBpbP7m3RNrZFsotfgO7MQUddUUtFUyn33msbklSdlGE6ziLjzuYFn/bdqbtP7f579ofb5580YgEAwbNqykpCQ0NFQ4IR0ADh8+3Lt3bxcXl+ZDQjHGjx9fX19/+fLlu3fvcjic/v37e3t7Y/OQZsyYMX369LKyMnV1dR6P5+npKbRZAaCoqEh0PGhZWZmamppwc+rUqc7OzlFRURJyJSUlP9CLWpNfrmTIKEvOAQBZRYqw61wIl8WWVaBgb2aKBgxmQYVkFgjCaTaEP+dF4oj1LvIq9PoKJgDU5pfTDRjCWLoBo04kn9r88u5Tmnp56IYaJR++sStr5VTpCAHBHkW6gUZdQTkADN3p8cBtD7Yz71Gc4+2teY/iuk8Zzmdz60uqAKA2t5THYvecaQun2pqUU5hfpN9NL/XLNwBQUKTX19WLxhqb99c10AkO24ptqqqrHLt0YNu6PSVFpUoqisJkAgHaWh2N0ZBfRjFsKjjFkNGQ3zQPoz6/TGeatWhs5fuvRIpst8XjX40LAAABh5d/9eXgS+teO27us3FW+sEbggYuAFR++NZ96YTy10l16YXw30NLQz03v8mRkFtQqKmhJprAeoiF9ZBGn5n7Uj/PWVMAwFBfJzRoHbbz0PFzRr16/IB0cX6JjqE2ZlDSFGnC/u7mVJRUvLz3ytLWUmh9DhxqUlVWlZeZ/yO6BSU63bQxg5KmSGtgtapbXlLx8u6rQTaWQutz4FCTyrKqvIy2rITmcApKZQ20hJsyBprcQkl7Xd1rGq+0sjKy095SuIUlMvpNomR9LW6hpCWnumg6r7Si+vs4WqqNJUlTVTd8EwAgcrJyvQ31jgflr9wlEH/imtOJzw7KF3zd3TiqgdJNkzHOsjXRuvxyuogozYDBEqmpWPnltKkiNZWBRumHxhGWmiP66zsMilnXtIaJKAgB4TLbKa8o5QWlDEOtnOQsAKAqUBuaVcsAoG9kOMFr8pFVB/m8xvmmlSUVRFKTfwQVCNpzJohRVlCqaaiV3STawj1sYGTo7DX18Kr9QlE3P/eoI39hftDUjykTF03+8jaxIKNDD5GgtJio1eSHJmppC0pbdv9zYz8g85cgiopodTW2hzJrTscdnwBQn19GFWmDqAaMhoKm24mVX6Yz1Vo0tuLDVyJFtvvi8S/HN91OQy6ue+XU1BvGZ7FzLzzpu8GlufUpSk1BubIhowRrZBUonGa/JkekkVU2YNQUVgCArd/Mt0du8dhcAMj/+G3IIsect8kVGf/FCv9/gP/cuM/i4uI//vgDm8Pv7OxMpVJTUprGLfn5+WlpaUlMtlqxYoXopp+fH5lMDgoKCg0N7du3r6+vLzZRHcs8ODi4RV1NTc1zIjAYjFOnTgk3nZ2dsWRpaWlLly51d3d3d3efPXt2ZGSkioqKtGVMvfnGcnHjPACLRY5fb8dIJrj11mKxIxa2XOz49dYbACCQiQih0dIdsmJS+r2PAECUIQl36o8YAAhS/737m13BZFcytUYMAAAyXb6Xi222iFB5fAbdQEOpry4AULRUdO1N8x/HA0DBiy89XWwxuX4LxmbeeAsA3Jr6XjMbxwYp9dWlaquiAgG3hmXgMIhMkwcAggxJb7QZr/U5rRjRUffneTeOc/D0nn33ptgc+U/vPs8c57nIZSX2V15aschlZW5W/ovHb8Y42WvragKAtp7WkOEWse/aevnmlDM5lbVqNsYAQKLL67naFd5qGs5YHZdBMWTQjfQAQE5LReM309JHcahAIKelqmTZC0ujNWEIr44NALwalu4MG0AQLLHiwO4CdsuT9KWFSCKSxOfM/SQqyoqKivTX7z8BALO27trtB2PtrJsnQ1H07OXrqspKot30APDu0+fHL96OaemQdnl84/HMJY3Txmcuni6cYCREVk4WCygoKfw2yf7Lh6b5ue4rZ/95+AfnTj68/sRlSeM0eZclMx6LzgSX0FVW+M3ZLlFE18Nn9vnDUrSjGPyKGl5lDc3aFAAIdIrKjNFVf4tNgGX4uvLKKisu3Zc253ZEq5jU4WYAQKBRlKaNYd55IZpAbYUbr7yq6kqT94v59/PsmWty5wfmzg8s9AttSM3MXRDYrukJnfrsCCGr0I1DFmRG/N2aKFZTado01lQ9Z9lm32q1ptL5zbTgcTwA6Iwy1Rtv+W7DGVEHG1GOjAUQEnGg37TMa632kDTn9c2XjosmYWHHxc4x0ZJTm7ub9JywxPnY2sNckdUq3t+NGTV7HFWRBgCGA7orM1QKM6QY4Pvy5ouJixq/NzNx8eQ3zUR7mPR0XjIlfO1Bjogoi1lnO9Uec3yoaKr2MOnJ6fACGmh1tYBZQza3BACEQpUb68h+IfLAksnCocNkc0tAAP3+KXACQ5Oob8D98K7jpZO4nfRd7QrEbyeqIYPet+l2KnkUhwoE8lqqyhbfbyenIfw6NgAQ5RsHtiEkoqHnmIq37YxmTr75ZvCixkZ2yGLHlGjJRjbl9tsh3xvZwYsdk2++AQA2kzVgqjVW4dM1VTRNuvE6e2WSTkOA/uxfV4O07Ub690FRtK6urrlrc9asWZjRGRMT8+7du+XLl7d2+IwZMyIjm0ZcBQYGTpw40dLSEgCKiopCQkKwSfHv378fNGhQi5kAwNy5c48fP04iSfqG3dzc9uzZo6Ojg23u27dPQ0NDdORoi+zTny2xx2rVFH3rASiKlqXkPtt6vvliEDYBbupG+ggByXmV9GbvVUBRpW6a4/Yt4XO4CJGQ9yb57f4oAY+vadbDfpsHt56DCtC6kqoXOy/WFja6DZT5QNFUttrtSaZTCGTil4i/s6Pfi6oo9tIess2dQCIiRELs7ivFMakAQKbLW+3ypGipEMjEjGuvU04/AABZFfrgrbPpBhoCDg8AYndfKfnwDQCM5o/t7mzFb+CSKLLZd94nHL4VzG1rzjsALPNbaGUzGEXRb8npOzftbW3FJQCIfnXFcXijbWFtN3TZ2oUcDpfH44UEHU76LFb1hCCSHjtZTWXj3+eT6BQCmZhxJLrotliNSeut03+HB0IiIUQkdedlrCJTHNi9z0YXggyJQCI2FFd+WX+aXVJFkJcxCnRTMuvOZ3EIMqS0QzdL7jUNphzzRXL9gX8DQauLfBWXlgWFhNXWsXg8nsfMyaKmJIqiC1cF8Pl8NptjZmy0fOEcOVlZAAg++MfX9Ew2h8vQUFu1ZK6OFqO1zEebe7VxUnNXu1tYmwMKGSmZh7eES/yse87vlqfK8bg8ALhy7K83DxtboH7mRq7eLpsWbG4hR6ys7dVOnqs9LEeYoyiakZJ5aLOkbsifu+Wp8tzvuq8fNK7j09+in6u3y8b5LX+e+DC51QF/AEBiqOjuWEqgUxAyqeyPqOo7TfaNoqO1zs6lDcmZjSdfz87y3CqMpVj2U5n2WxsrLpHJrf6yJIaqZtAyIp0KJGLFyWvMu002Cn38CK1tyxpSGkXRenbuQrHrSdJU1d69qrUVlzJqFCX2dNazozbSpMdSJ4REQghIZsTfRX83VT6Vzd675DWVhwR7kukUAomYHPF3TrOaynJ7Y00Vt+tKSUyqvKbypFeh5XHpwv7Tt34nmBlFGkP6mG2aJWBzERIh5/a7lONi/dF/k+tavAhCpvq6DLA2ARRyU7LPBp0QXfyISCIejT1TkJ7H/f7++dfeiynvkgBgxFS7Me7j2fXshrr6s1tPloiMDAYADrSzKt8M31km1qYoiuakZJ8K+kNC9GTsubz0PN530Ut7LyS/+yIjJ+O+0bOHSS9OPZskQ4oKv/rhoaRReLRvdWuKBFU12orVCJUKRFL91cucl02vbaS+/ahLVwKbDQKBoKKi7sQRQWmjd5+6YhX3w3vO6xet5AoA8CZecnSvnKay8Z75ZDoFIRMzjkYXNrudBmz3IJBJCAFJ3tV0OxltcCHIkBASkV1cmbDhNLukqu+6GWo2xvwGDoFELLr3MT2saRDdF9mWX+OtfacYWg9AUbQ0JfdRUAuNrH2Am0ZffYSIZL9KerH3KqAoSU7GbuMsLZPuvHoOQYb4Nvx22sNY4SHDlk+qzisTrri0LltshY1/mbpAl5/MgRp0qVPO5If5z1mfrSFcUj4tLc3b25vBEGsmvb29hWvxL1261M7ObuzYsSQS6d27d+Hh4SdPnqRSqQDQ0NAwceJEiWOpVKpwKSUh8+fPP3bsGLFZLblixYpx48bZ2NjIycnl5+eHhIRMnjzZ3t6+7ZNvbn22AIKM2j3v8abTjYM7fxrllrJRM+uhZto95VRbfRY/Q7vWZ3MQBNkasn7buj2YlfADNLc+m6Nk3kPJrGfWiY6OjuoI/zXrszmfv6QmJH91mzbh52Xbtj6bgyDI6mDf/RsP8n70Z4UOWJ8t6q4J9t33E7ptW5/NkTftTRnYu/zM7R+TE9KG9dkcuYF95E16V55rYSC7VDS3PpvT6c9Oc+uzOapmPdTMumNrKnUW7VqfzUEQZP4ur1MBx/g/eju1a322KLp4l/fxgIifeXbasD6bQ+pjROpj1HDz2g/LYTS3PpujZNZDybwzb6fWrM8WQJBxu+bdD+icRraLrc8AqVdHloC6TeplRjqXX8b67Dh1dXUXLlyIi4vj8Xh9+/adPXu2urp6+4d1jNra2gsXLsTHxzc0NDAYjAkTJoh+gao1OmR9djYtWp//ND9gff48HbE+/wn++9ZnJyKt9dkp/ID1+fNIa312FlJZn51FR6zPTqcj1uc/wQ9Ynz/PD1ifnYJU1mdn0RHrs9ORwvrsVHDr8yf5L846+kmoVOrChQv/ocxpNNqiRYv+ocxxcHBwcHBwcNrhPzBw8yf5H7Q+cXBwcHBwcHD+V2lxgblfi//cnHccHBwcHBwcHJz/YXDfJw4ODg4ODg7Or8Ov3/OO+z5xcHBwcHBwcHD+PXDfJw4ODg4ODg7Or8Ov7/vErc9/A1JX3Cdcqb8A2gkQpP/u6M9TT+giF36XLH5E6JrlRYhd0U+CIF3w5HB4XXOFuwReVzywXQXawpfF/3G6am6I4MeXCv1x5NAuKe7/owe2ia651J0J3vOOg4ODg4ODg4Pz74H7PnFwcHBwcHBwfh1+/Z533PeJg4ODg4ODg4Pz74H7PnFwcHBwcHBwfhnQX9/3iVufODg4ODg4ODi/Dr++9Yn3vOPg4ODg4ODg4Px74L5PHBwcHBwcHJxfB/w77zg4ODg4ODg4ODgdpwusz6ysrAULFri6unp6en779g3b6eHh0cYhorHXrl27ceOGVIqih2/fvj09PV00du7cucLws2fPxo0bN0eE8ePHR0dHt5Yzn8+fP3++VCeDg9Ml5BcWuyxYGXH6YlefCA4ODg7OzyFAf/avq+mCnvegoKCAgIBu3boVFhb6+vpeunQJADgcDhZ74cKFO3fuYOHc3NxHjx4RiURhLADw+W19YCYyMvLmzZsAgKJobW3t9evXRTMHAIFAIJGD6GZJSYmXl9ekSZOEe+7evVtUVISF//zzz7t37wrz+fPPP1EUFc1cKqz8Z+jbGKOAliXlPN14WsAR+zYFQYY0cpuHWn8DhEDIfZHwetdlAFDupT1yhycAkGTJrPKa5wFnmPnlqn31bILchQeq9tW9OnVb5bcC4R5L/xm6tsaAohXJOS83tCA0fLuHaj8DhEjIf5HwbudlbH//eWN6T7cR8Pl1BeUv/E6wq+qEh6gZG449uzZm24W0a68AQLmP7pBNs4iyZECQ3MhrV/+82UapV27wGj5yKIqiqUnftvnv4XK4LSbbunfD4GHm44dOwzYpFPll/otMzPtzuTwuh7vE1VfQZr+DvI6qxe/zyQpUggzxa3h07vU3orGKRnqmO+cSSESEREjccbnk5RcAMPJ11psynF1ShaWJ8Qpr+B4GgO4eo4w3zLxv519fUNGGrpDC4pItew4za+u4XJ6n6xSHUbaisQ+fvz57+TqRSCQgyIpF7gP79wWAbxlZoeGn2BwOiqJOY+ymTRjbEaEOUlxatj3k8OiRwxvYP3i7ts18f09LW0sURTOSMw5sOCTxs46cYOvsOUkgEMjJyyV/So7Y/gengQMAt7/eTI1PxdJ8ePrxYtglaXUX+M8bZGuBopCenL6/ma7dBNvJns6YbtKn5KPbj2G6chS5eWs8jMyMeDwel81d576x7dtJiIy2msEeb6ICFSGTio9er7jxQiKBfL9uPY6uKdh/peLaM2wPUYmuv32hrK4GIMCrqs1ed4RbWC5tMcna6rq7lhIUqAQyufTYtaqbz5viCASd7V6yPXQRBBE0sHPXHuAVN96iRGUFvb2+vOKKvHWHOq4lr6M68PcFZEUKgUxKC7+dL/7sKBjpGe+cSyCTEBIhafulspdfgIBYXVxHIBO/H66WduR21umHRHmZ/pvdFI0NUZ4A5fM/bzjDTMltTZSiozp0z3yyAoUoQ0o6Ep0lLqpkpDdohweBRCSQiJ92Xi56+QUA+swbre84GAAIMuRP2y+WxKQCgKZ1//7LnAhkEokql37x2dczDztecACYuXa2ia0ZoGh2ctbJTUd54lXlUKfho2aPQwCRpcjePHLt3Z03ADBh8WRTOwssAUmGRCASAib5SSXqtnaOqa0ZiqJZyVnHNh2REB3uZD1m9jgEEDmK3LUjf7298wYTcl8/t4dxTy6HW15Y/kdgRENdfccVCRoadN81BBoNyGTW5UvsJ49EY+n+64maWoCiiIwM668r7KdPGkvXqxd1jgdBSRnlcDjv37EuS/ceK6ejahSyiKRIJZBJ2eE3i6JeSySg9Tcw+cMnI/Rq0dWXTacqL2O0e76slkrsjB1SyQGAzdoZ3W2NURQtSc65v+k0X/zCEmVIo4M8GP0MECIh60XC092XAWDIYscedqaN0jJEApF4dtJmADB1tR8w1ZrP4fLY3Idbz1dmFkl7MjjN6QLrs6GhoVu3bgCgpaWlrKxcVVWlpKQkjHV1dXV1dQUADofj6elJJEr3Ea3p06dPnz4dAB48eJCYmNhimvXr11MoFOFmXl5eBzN3c3Nzc3PDwi4uLlggJycnODh4zJgxZmZmHT/P3s5WNG3Vy44BADDUb7qFl9P7A9dFE5gvcmCV11xxCgSA0Qe8+kwZnnrtVXVW8Q233QIuHwB6Og0ZtsHl3tKw8pTcqO9PppwSzfHkKlHTs4ezFU1H9bpDAABY+k0f6OX0SVzIZJFDfVnNdadAABh50Kvn1OFpV18xLHsZjrW4MXGzgMvv4zpyyKZZz9ccx9LLKlEHLp3w9fIzhNjoOLcPW/rI61DVtwKEgFiGun6O/fItWcy7LMRxyhgtHcaMMR4AsGL9kvlL5xzdd7J5Mo/Fs14+emM1YpBwz7b9m6Iu3d6z+UAHL69l6MLU8NslzxNJdPmRUQEVsWl1OaXC2EGHvd8tDa9JyZXXUrGJ3PBwzEY+i40QCKmHbmVfed48NxXznjQDjarELKTDn/QMDD7kOWvKsEFmzNo6j2X+xv366GlrYlE5eQXHzl45eWAnjUqpZtauDth15PctZDLZb+vvIVv8e3TT5/P5G3fuN+nXp3cPww7KtQtDXS08JOjG3w/zi4o7K08h9s52GjoaXg5LAWCe39yZXjPOH/hTNMHbhzFPbzVaYyt2LB8zbfTt89EAUF1etXr62h/W/c3ZTkNHfbHDUgCY7+fp4jXjnLjum4cxT77r+uxYPnbamFvnbwOAf+iaO1fuhQdFSKto8Puy4qNRNS/iiXRKn6s7aj995eQ0XU/KgO6a3lOq7r9HRGotg52LmW+/ZC7bCwDqcx10N3pgYanQ3b289Ni12pdxBDqlx5XdrE+pnNzvugJB2Ykb7PQ8AFBxHae5Zk7e2gMAgMjK6B9YXf33K4plP6m0TEMXpoXfLn2eSKLLW18PrIxNZ+WUCGPNw5Z+9A5jpuTKaakM/2vj09Eb+Cz2m5m7hAmGXd1YdOcDAPRZPYVXW//CcTMAMEabmYYseOG0uTXRoSELko5EFz1PJNPlx1zbVBabVivywA4/5PVqWXhVSh5FS2XUlfV/j93EY7ELnyemnnwAAIq9dWxP+t60XgMAzKzip3P38hu4JKqcw91t+Y/i6vLKOljwYZNs1HTUNjqtBoAZa90mLJkSdfCKaILMhPSdbpsFfIGShvKOWyGxj97zOLxbEVG3IqKwBL+5jpGjyndQDmPEJBs1HfW1TqsAwHXt7MlLpkYevCyaID0hfatboIAvUNZQ3nNr74dH73kc3hSvabVVtRunrQMAM1vzmT4uZ3ac6riowmq/uiuXuB8/IFSq0r6D3JQkQWGhMLb2wH60oR4AEAUFlfBjnLdv0YZ6ggaDOm8hM3SPoKyj11OCfnsXZ4XdqnieQKLLW97YWh2bVp/ddF/RjbsZLp9Yeu8jQhJr8Y2Prii69krXY7TUcpOsFHRUTzsFAIDN2ulDlji9PijW8A1e6MAqrzkzMRAAnPZ79Z88/EvUq5iI6JiIxq5OU1d7GaosAOgN6dtrrMXFWTv5HJ6CturYnZ6Rc0OkvwCdzX/AefmTdEHPu7y8fEFBAQBUVFRUVlaKmp6iREZGjho1qsWott2fAJCQkBAcHLxo0aIFCxbMmTPn69evwigCgeDl5bVFBAaDIXosior9qAKBAPn+KeR9+/ZNmzYN65E3NjbGdurr6/v7+0tlegJA74lWn4423uWfIqJ7Og6WSNBrwpBYYYKj0b0mDAUAAZePmZ4keVnVProlnzMljjJdNP7z6fuie3pMsvp8pDGfzxHR3ZwkhbpPHPL5u9DnI9E9JgzFjko8cQ/T+nrpmfaw7w0YglgFub8NuiB8j5RVovEbuFXfCgAAFaD3bj60H2fTWqkdJo85FdZoH5wO/3PMRPvmaSytzBRVFB9EPxHuGWBqxKyptR9nczrqSNj50P4D+7aWP4aMCk1GmVbyPBEAeMz6rEvPdByaDFklE8O67OKalFwAqC+sKHoUp2k3EDv57rPtbK9utI0K0J86XJheVlWh16LxCTsvN9Nplcqq6urqmmGDzACATqNOdhz98FnTi35qWuZgMxMalQIAinRan57dEpK/VlXXyMjI9OimDwBEInGcvfWTl287rtgRkH/si972k+wuH4nEwlci/rJ1GiGRoKG+AQsoqyurMlQykjKwTZoifevxzYduHlgbulqVofIzupcjIm2dJG88UV0Vhkp6UjoA9BnYu7amdviYYfv/Ct15eltvk94dlCMp00nK9JoX8QDAZ7LKLj9SHj9UNAErMSPDO0TAahDdyc4rqU/OwsL1KdnsjAKQEqKyAlGZXvsyDgAETFbFlQcK44aJSaQ3vj/XJ6YLX5BQNifTfTM7Szo5GRW6jDK99Puzk3PxmZZj07OjaNKNlVWMuTAbCiuKH37SsB8oeri6zYDatMKG4ioAYOWW1SQ3OjtrknNr01s9E1kVmqwyreh5IgBwmfVpl57riTywKsaGzOySqpQ8AGAVVuQ/itO2MwGAmrRGg6kmrUDw3eddl1fGb+ACAK+ugZlZjBCkuOeHTRxxK6LRQImOuD7UYZhEguLsIgFfAABVJZVVpVUIItZ6EklE+1ljHp6/23FFALCeaHMj4hoWvhERZeUwXCJBUXYhJlpZUllVWklACADQw6Tnm79fYQk+PYs1GiTFCwaioIgoKHA/fgAAtK6u4e7fstZiDw5megIASU+fX1KMshsAgOIyi/3iGX3VWqX9h2hLVyBy0hnZZBU6WZle8TwBAHjM+vyLTzQcxFoiZkJmwqID/LoGiQPjPUKqY9Ok0sLoN9Hq3Xc7MiYiuq+DZMNn5DREaGi+i4g2miD2LBNIxIGzRn46/xgAtEy6pT/6hDV5NQXlvAYOXVPqyqrTQX+ari5BV/g+N27cGBgYiCAIj8cLCAhoMc2bN2/u379/8mSjY6ysrGzOnDmOjo4uLi4mJia7du3CuteFTJ061dnZGQBQFL18+fL79+99fHxWrFjh7e1tYWExa9YsYUp3d/ePHz/Gx8cL9/j4+AjDPXr0CA4Ovnr1qnAPh8Px9fXFwsXFxaGhoQYGBgAgEAgKCgoUFBSysrKCgoIcHBwsLS3bLrj24D5D1kwDgKqMQgV99aqsRu8Fu5olQ5N8mMk0eU4NCwtXZxcr6Klh4W6jzQf5OKv00kk8/zgm9KroIbKKFH1b45iQvzAhAkB1RiFdT73muxCnJSEZEaGa7GKarhoAiB6FCtCGylpZZRq7stbcx/nrled1BU1dh+yqWqIcWc2kW9nnTJK8rOOUsTXVTNH8zYeYLvdfBADZGbk6+to5Wd8bpGomjUaVOBl1htoM98nrlm4R3Wlk3GfICMtl7mvSUzMNe+gfPL1nzoRF1VU1rVxmoOqp14m8VddllTDsTERiNWozm/xVtVnFVD01AEg5fDN5XxQAyKopDDu1qqGkquTFFyAgA4PmxAeeQ3ntvPCIkl9Uovvd0wkAetpar959FG726dU94uzlispqFWXFwuLSlzGxA4x6m5v0Z7PZiSnfBvTtxapviH7wjN7s4vynMB48YO5aDwDIy8jX1NMs+G7l1FbXUmiU5unn+M6A1XNhAAAgAElEQVS2m2CrpqW2z/9AUmwytnOa6Qysr3z01FEBRzb5TFnVEd15a+cCQF5GnpaeZr6ILrUlXXff2XYTRqprqYX678d0ew3oaTbcbNO8wKyv2Xrddbed2Lp8sg+zitn8WAlk9DTYOU09buysIkW79t85C/b8qTrdrj41B5EhyWirFeyVenSBjK4GR0SXk11EtzVvMaX6QueSsEhp8xeFoqdWJ+LprMsu1rBrsi8p+uq1WcUisSUUPXXRw3utnBTnewwLZ515qDtlOLW7Zl1GkYatcdz3zpPmUHXVa0Ue2NrsYm2RB5YmLsrMLqGKi/b2HJ166oFEnirGhpzqOlEHaov0GdRvxmpXACjMLNDQ0yjOarRo62rq5Fu6nTAsRg1KeBHHFR/EMmKq3ccH79j17LYVAcBoUL9Zq90AoCCzgKHHKBQRpTSrn4UMGjU4/kUch80BgLT4b7ZT7P7ccw5F0eFO1ro99doVFULU1OSLeDr5BQUyg8QtM7KM0p4Qoq4uWlVd5b8aUBQAyD17ITKy1VsDgc2Wnz6DtmwFMyS446Lyeuqins76rGJVu4FtpP8xdAf1sVk9DQAqMgsV9dQrhS1sDUu2ecNHl2d/b/gqs4sVddVEYwdMtU57EMutZwNAYXzGcJ8piVdfcuoa1HrpaJv3omkqM4s6NAQLpw26wPrs3r378ePHURQVdcasXdvYAcdisU6ePJmYmBgWFibsdldTUzt37hwW7tOnz+nTp1vMmc/ne3t729rahoSEIAgyaNCg6OhoCwsLFRUVACgsLPTza3lETlhYGGa/mpubX77cqpfLwMBg7dq1VCoVRVGBQKCjo7No0SJDQ8PAwMCOFLzgXaqwi3zWg12iUS18t0B8hzBB5oPYzAexJHnZYetmGLuPSjjbNLDJdP64xLOPUAGKCcmhAABTH7YjJPEKhL0StfBihKJ69qa8Bk7Byy8SMQ8XHrD0my6vrsCtbbj88oWmjpgvOTYmznOKNxaOeirWMSoQVyGRiH5BPjs3hEgMwlNQpN+7+Sg9NRMAstJzYl58MLEY8OKR5LAhiSKI7RErdfMrgAIAym20L9llNV8j/tYaZVby4kt/v2kZZx+KDgDtCM29jKJuEn0dLZ/FHuu2hXA4XG0tDUvTAWQyCQD2b9946Pi58ooqCkV+kJlxUUk7DWfXkvAuUdhp/sdDsS5sQUtdQuf2nT+377yKhsrGw+uyv+VkJGcAgHCY5oOrD2d6zaDSKXVMVru6vtPXYOETD4+1q3t23/mz+86raKhsOrw+51tOenIGTZH+9PazrK/ZAJCbkRf76lM/c6OYx+/aL3PzZ6IDnV90qwG8Sia/pg4IBEBR+nAT5qvP7WuJyTRTaUlXY/lM5vPYhpQs6TJvT0psYZc2z0RteL+GggrWd4NP0diQIEuqyyoGgIbiSq3xlgU3YzqoKnphWzqlpl2aI/or9daN8RcbwEPRVjFZPeXV8iMty4mQ+j5pm8smLBx8T2xgjwBteSiwfl8D68kjD68UGz5BIBLGejhsd2nZmSJB8vukQJeNWHjfvYPioi3fUQZ9DW0mj9y/MhTbvBoWOdN3VtDlnQIB/929mNL8khaPapl2bycup8p3BQCQLSwVNm2uWrUSABAanXXpArDZAFAfeUX13AUpFFtpUKTKoSPkvU+94NLYws67J97wtXAC4lsiFwEhEiw8Rl9w2Ylt5r5L/Xzl2dTjvgiBUJqSm//xm4ArNoS0a/j1e967Zr3PZ8+enTolNk5lwIAB5ubmAHD48OHevXu7uLjQaLTmB65YsaKyshILM5lMGRkZWVlZbLNfv37r168PDw8X2qwMBmPevHkAEBYWBgBaWlrnzp0rLi7GutrXrFnj4+Ojq6srzDwoKEg4B5/FYqEoSqU2+p80NDRCQ0O9vLy8vLwkTmn9+vU/cAVq88uVDBllyTkAIKtI4TZ7Y+bWs2UUKJhXUtGAUSs+2YVXz0669MzKf4bQ+pShy3cfZ3nZQbL6q80vVzBkVCTnAICMIoXXTIgnIqRgwKgrqBAeVfk1HwAQAiKnQmdX1fWaZi2rQNEe3h8AFAwZ/AYOXVctdl9UdWbRI6/GaQ30VfYpCamtlbowr1jfUC816RsAKCjS61liI+WNzfrrGWjvPtzo+FRVV4m4uH/7ut9LisqUVJqGZwhQQdu9Bqz8cqqhhnCTaqhRL+KsZeWVi3as0wwZZe+/gjgIgcBl1iNkotYoM2WTbthORSP9QQeXfPvjbsGdD22oA4CWhnpufpOzKregUFND7MXaeoiF9ZDGmQruS/08Z00BAEN9ndCgddjOQ8fPGfXq0bbKf4eS/BJtQ23MoKQp0oT93c2pKKl4de+1pa0FllgUFBWwG6SbEVWSX6JjqJ0ujW56ckZ5cbmiikKTrqCd20kIJ79U1qDJpS1rqMkpaH8MnN7WBV/slwMACAQVUc/7Pz7UuNlhOAWlsgZawk0ZA01uoeSbibrXNF5pZWXkI/g56vPLqAYiz44BQ3SaXX1+ud5Ua5FYjYoP34SbvX2cEzaeEW6a7PJ8M2s31kYWP4yzubOt+GEcn9WCa7Auv5xu2PTKSjNgsEREWfnlNJEHlm6gUfpdVHNEf32HQTHrxJoSio6qxWa3N6uOcZlSTMQBgPKCUoahVk5yFgBQFajslk5V38hwoteU8FUH+OKdIdbOtvHPPtXV1DU/pG3KCkq1DLWymkRbuIcNjQydvaYeWrVfKCrgCy6GNL7JaxlqDR4zpOOK/JJiora2cJOorS0obdl45X78gCxcgigqotXVgvIyEBnNjEq52GRDfpm8yE8sb8hoyJd67p1U1BSUKxsySrAWVoHCafZrclhsWQUK5v5UNmDUFDbdcv2dh2c8SxB6RgEg6frrpOuvAQAhIPMf7C5Pk3r8DE5zusb6tLW1tbUVmwUsnMTj5+cXExNz8eLF5cub6ugVK1ZggYMHm94Uw8PDTU1Nhw0TG51DJBKfPXt2/LhYL09lZeXt27exsL+///Hjx0mkFgou6sK8ceMGh8PBJjCJwuVy9+/fHx8fTyAQUBRVU1NbvXp1xwotxtcbb8wWOzzwOQoAZosd025LegW+3XprvsTx7Z5IADBb4vj15hsAIMnJ8Bo4AEAgEY09RhW8a7LzBs4b++XiU0GzDuL0G29Mljg8XXkUAEwWO2bckhTKuPnWZInjhz2RAGDi5Zh+8w12lOWaqblP4gVcfm8X24JXXwDgsfdh4VHmq6Ywc0u/RYrN+dWyMuo93sbVodUlqP6Ouj/X2239si0AMNfb7d4Nscby0/vPLuPmCTfvv49aPMsHAGpr65b6LbxwMrIwr0hbT2vwcIuDu9qaL8IpZ3IqajVsBmCzjgxnjXztESqMrYzPoBowFPrqYbOONO0HJgZHAgBRXoZfzwEAGWVaz/ljY/1Polz+w1EbhAfaXt34fmUEqwOTGFSUFRUV6a/ff8JmHV27/eDw7hacIiiKnrtyQ1VZSbSbHgDeffr8+MXbP4+GNj/kJyGSiCQpp/F1hCc3ns5YMm33yj0AMGPxtGe3JGduycrJshvYAKCgRLebZHc0KAIAEAQhkUmY+3Ps9NGZqVk8KT0Kj248mbFk+q6VwQAwc/F04cSmFnXtJ9kdCYoAgHdP3s9d5X791I3i/BKGLsN0mOmJPS33pUjAq6jhVzIVRgzEZh2puYxK89zZ/mEERGnckKq7MQBAtzZByFJff35FDa+yhmZtis06UpkxOmvhdtEEDF9XTl7xz5uegD07lbXqNgOwWUf6riNjPJomWFTFZVAMGfS+etisI8ZvpsnBjR39KoP7cKtZzK/5wsTcGpa+i23GH3cBgN5XT15bpTWThV3BZFcyNW0GYLOOes6yfTq3ybNYHp9BN9BQ6quLzTrS+c00fs9fAKAzylTbfuC7DWdEvWg0Aw3zTS5v157gVEltCL6++cJpkXO4734AcFzs/Db6lUSC7iY9x8+fELH2EJcttrQCQiCMnz9xt/sWkJ4XN19MXDT5oO8+AJi0ePLrZqI9TXo6zZ8YtvaghCgGXZm+ZNfSW8elWIIQra5Ga2rIFpbYrCP58Y5Vm5pqOSCTgc/HHN5kC0tAAK2pAQD2y+dU19k1u3cAispPcubExkpVTG45k1vJVLExxmYd6bjaxbn/LlUO0pJ8883gRQ63fY8CwJDFjinRkg1fyu23QxY7Pv89EgAGL3ZMvtm4zAJCQAbNH3fZvYVxBQQSceR6l/THcbyWfot/G9z3+WPExMQEBwcrKDR5IHr3bmvsv5WVVcczb27aio77FOLu7q6urt58f9tcuXJFSUnp/Pnz2GZaWtqaNWuwRaOkIjXqlVI3xtRrgYCi5am5z7ecl0gQezR6RKDb1KsBCAHJfZWUGvUaACxXTNKz7s9r4BJIxMz7H4XTkkjysr0mDLns1MIAgLRrrxS6MSZEBQKKVqTkvmkmFH80emig24SrAQgRyX+ZlHbtNQAUv/+aEf3e8cpGEKB1RRUv10tOqER5fJTf2JYM3eymYqRPlCXXFVYsmbOmvqXXd4zbV+8adNc7f+sYisLX5LTdAfvauETs78OqKsurtvvvCT22g8Pm8Hi8jSu21dW207S894kwD55n5DuZQCIm742SMBljvA6bbnMnkIkIkfBx7QnMH9Pd/Tcdh8FYl0ry3ms1zVaHEfAEwiK3y44NPkEhYRFnLvF4PK+5LjpaTe/9KIouXBXA5/PZbI6ZsdGugMa3l+CDf3xNz2RzuAwNtcO7Aynych3U6jgTxrYwzevneXjtkU437QNR+1AUzUzJDN9yVCLB1uOb5anyPC4XAC4cvPjlQxIAUOiUXWe383h8AMhKydrn39EFDUR1dbvpHIraj6JoRkpm2BbJntZtx7fIU+W5XC4AnD94IfHDFwCorqjev/Fg4JFNXA6Xx+UF+/7Oqm2nu19I5qqDBru8tFbOQMjEwv2XOXktOI1QHh8VmRaZ5rFdb/M8zcXOqAAV1LM7ZLA2I3fNft0dSzWWz0TIpJKDl7giuoqO1qpzJzQkZypP/Q0ABPXsLM+tIicjAGmGLAPAp5VHB+6Z39t3MoFMSt17rT5X7Nn5uOSQ8XYPhExECIS4NceFvszeKyel7BEbchq7PHxAkPuI21uxZ+r9ggOChlbb7Nc+x4YEexr7OBNIxIR9URIT1V96Hbbc7k4gEREi4e2a4zwWW15TeUTEivK49NGRjZbTW78TzIyikWdWCzhc2+ONQ/lTzzzMafa+3Rovo55pGmptuboLRdHclOyzQSdEY4kk4obzW/PTc9edaZy5H7n3Qsq7JACwchqe/Daxuqy6g0KiPI96qmWotfNqMIqi2SnZJ4P+kBDdfD4oLz0v4EyjaXtp74Wkd19MbcwmLZ5MIpEQAnLrxM0Pj95LJVqzZxfdZzUy2x0hkerOnREUN3XUkHr2oi9fibLZIBAIKiqqN63HjPv627eImlrKB8NQLpefm1t7JEzakn5ZEW70+8Luq6YiZGJG6NWG3BZGFqF8QfMR9ihfioq3SS7qlbIhY/bVQBRFS1NyHwVJNnwxEdH2AW5ukQEIEcl+lfTleuNQrr5OQ3PeJrPKmuYVUFQVJoUtAwCSrEzao9i34bekPZl/go4M+/mPg3TJ1KeoqCg+nz9t2rQWY9PS0ry9vSWmont7e0vYoEePHh04cGBHDNNZs2ZdvNi4OFlAQEB6errEQk6+vr5Yv7+QW7dusdns5mf48OHD+/fv+/j4aGho1NbWPnjw4MWLF6Ie2RY5pDe73ZMEAEAQ+93znm46LeBK12C0iFwbPyyCjAie92pj5wiJsp/7rf1EkueCbAlZt33d79wfHUyzldCz3TQqZj2UzXqkn7zfbsqOMyleCm/H5y+pCclf3aZN+FlVQuc7LzvCONMlUqVHEMQ3eOXBjYel9WiKImg+1rIDuquCfQ5sPPTDur+DFPO9qGa9qKa9S061+kGKjiNDkuJhlDftTRnYu/zM7Z8UzWygt5tG2ayHknmPzBOd9uwwO7BymapZDzWz7tiaSp1FNLlW2kMQBFmwy+tkwDH+j95ObJDackIQZMku7z8CIn7m2TnaUwprmNTXiNzXqP76tR+Ww4hP1Gw/0XcUzHsqmvXMPSHdKgHN+ShH7mhSBBm3a979gM5p+NZlS1q0/ybVni2vCNRxFE9Jtxpup9M11mdqauqePXtEF05CEOTAgQOi3tBOZPfu3evWreus3B4/fnz37t2ysjIqlTpo0CAXFxcZGZm2D+mo9dmptGV9/mP8gPX583TE+vwnkMr67DR+EeuzU/gB6/Pnkcr67ESksj47i45Yn51OR6zPf4IfsD5/nh+wPjsFqazPzkIq67OzkML67FS62Pr0+O0nc1A80wljdX6Grul579Onz4kTJ9pP10l0oukJAPb29vb2/0gPJg4ODg4ODg7O/zxdY33i4ODg4ODg4OD8CF3jUu9McOsTBwcHBwcHB+eX4X9g1lHXjL/BwcHBwcHBwcH5/wnu+8TBwcHBwcHB+XX49X2fuPX5b1DXFS5mShfMoIVbGor/vuiy6sp/XxQADptLfvjqX4DYRf0Vd+MkV/H8X4WuO7JLdFv7tOM/ygAVw39fFFAggOTXaP8Fni3q9u+LAr8rKmIAp2PSfeqpU5go2wXTz40buuYK4/wkuPWJg4ODg/Pv0SWmJw7O/xS//qwjfNwnDg4ODg4ODg7Ovwfu+8TBwcHBwcHB+WXA57zj4ODg4ODg4OD8iwh++q89Pnz4MG3atOnTpy9fvry2toXvhN24ccPc3Ly+/gdHGOPWJw4ODg4ODg4OTiMCgWDnzp3h4eGRkZE2NjYRERESCXJzc+Pj4/v37y8Q/OAQVNz6xMHBwcHBwcH5ZUAF6E/+1dTU5IlTU1MjzD8xMdHExERDQwMAnJ2d3717J6rO4/EOHDiwatWqnykCPu4TBwcHBwcHB+f/EWfOnDl8+LDonmXLli1fvhwL5+fn6+rqYmEymcwXXzjs6NGj7u7uNBrtZ04Atz5xcHBwcHBwcH4dfnrFJQ8Pj8mTJ4vuUVBQEIYRBEHRpolNouEPHz7Iy8ubmJj85Al0Wc+7aGEAwMPDo7WUbUQBwMaNG/Py8lqMCg8Pj4uLu3v37o0bN4Q7hWMUCgsLAwMDAcDLq9U1w69duyZ6rAR8Pn/+/PltnBsODk5+YbHLgpURpy929Yng4ODg/I+ACn72T0FBQVccUetTU1NTaFlxuVxR6Tt37rx+/Xr+/Pnz589PTU1dtmxZcnLyDxShy3yfPj4+69at09LSwjY5HA4AXLhw4c6dO9ie3NzcR48eEYlELAoAKioqpk6dKvQGjx07dvbs2Xw+X+gT9vDwOHPmDACsX79++fLlfD6fx+OJJgAAX1/fwMBAVVVV4X5h/t7e3kwmEwsXFRVdvXpV9MA///zz7t27WFggEPz5558oigqP/QFs1s7obmuMomhJcs79Taf5HJ5oLFGGNDrIg9HPACESsl4kPN19GQCGLHbsYWeKJSDIEAlE4tlJmwHAaKKVpecYPocnQ5OPv/Q0/dGncbvm0xQoBDIp4Wh0xo03ojkrG+kN2+ZBIBMRIvH9rsuFr74AgIwixTp4Pk1XjUAifvvr5ZfjjSW18J+ha2uMomhFcs7rDacFIiep95up7UGvB3NDi99/Fe5EaBTtE7+zk9PKtuyTKC9RU119sw+BTkPIpKrTkXV3njbFEQhqm5aTu+sDANrALg0M5ZeUA4GgeXQnQiJiSUhaGtWn/6q5fOsHLrWHn4e5rTmgkJGUEbYpjCd+qW0m2EyYO0HAF8hR5FJiU07sOMFhczR0NBYGLlRQVpCRk0lPTA8PCBfwpX7ZXOA/b5CtJaBoWnLG/g0HuRyxZ9huwsgpns58AV9eXi7pU/KR7cc4DZwxU0c7uIwTptHvoTfFfIZUovP9PS1tLVEUzUjOOLDhkIToyAm2zp6TBAKBnLxc8qfkiO1/cBo4AHD7683U+FQszYenHy+GXZK2sC1SXFq2PeTw6JHDG9g//qS0SGFRyZY9B5nMWi6P5+k6zWG02AeKHj57dfZSFJFIJBCQFYs8Bg4wAoBvGVmhYSfYbA4KqNMY+2kTx7WSdzsEBfmNGmWLomhCQtKKFZuaVwKmpgM2bFiprq7KZrPv33+2d2/jZ6JmzJh48OAOS8sxeXmFP6C7Lch/9GhbFEU/f05evmJDi7qbNvqoq6s1NLDvP3gaGnpEX18n5PctKirK8vJyn+ISVq7cxJfy0zvL1i+yGjkERdGvX9J2rQ+VuJ2EBIT4Ww4zmzTMBQC0dBmrt65QVFaQlZNNSfgavGGftKLe6xdZjRyMoui3L2m71+9tTXRTiL/FMNPJw2YBgKYuY9XW5YrKinJyMikJX/ds2C+VKKKgKuPgichRgEjivvmbn/RWNFbO1R9kZIHHBQC0roYdFQYAIE+THTsHUVQDQNCGWs7fp1CmdB9dQxRUZZzmI3JUIBK5r6P5X8Qqark564EsBzxOo+jVQwAgO3kpQldqPJyqyPv2ifvwB9/rFvjPG2RrgaKQnpy+v1lFYTfBdrKnM1ZRJH1KPrr9GFZRyFHk5q3xMDIz4vF4XDZ3nfvGdiedDPebYWBrDChampTzuKWWzm6bh3o/A4RAyHmZ8HLXZQCgaanMub+rNCkHS5P014ukyOcAMHbvYgU9dUBRoiw59vidr7diWlSU01E1DllIVqQQyKSM8NsFUa9FY+n99PvvnIu1gCk7Lpa/+AIA8vrqA3Z6EmlyRHnZuvSCRP+TPGa9nLaKzZPgmi+Np5F35XnepWcdvsC/NsbGxkFBQSUlJRoaGtevX7eyshJGBQQECMNz5sw5fPgwlUr9AYkusz4rKiqaDxpwdXV1dXUFAA6H4+npSSQSRWNZLJaFhUVISEhreRYXF1+7dg0AsrKyWnwk+Hx+cnKykpJSi4eHh4ejKFpVVaWsrLxmzRoeT+whcXNzc3Nzw8IuLi5YICcnJzg4eMyYMWZmZm2XV4J+k6wUdFRPOwUAgM3a6UOWOL0+eF00weCFDqzymjMTAwHAab9X/8nDv0S9iomIjomIxhKYutrLUGUBQLWntrXPlLPOm9k1LFkFisfNoP6Thr3cf63uWSKZLu94dVPppzRmTqkw55EHvZ4uD69MyaNoqThcXn993CYeiz1og0v+84TUC08JZOLY835lnzOL36V2d7ai6ajecAgAAAu/6SZeTnEHGk+SbqBh6Dg4536s0DrEUFvnXXPplpzFgOZFVt+6qvp0ZP2bWIRG0T4dyk5I4eUVNcYJBNXnrnEzcwGAPt1RZfnc0oBQEAiKFq0THq51Yk/d41dSXeTG8k4aqa6tvtJxJQC4r3WfvmT6xYNi9XXMw5jnt55jYe/t3qOmj/r7/N+sWlbYxrCqsioAWHtgrd1ku0d/PZJK9zdne4aOxmIHbwCY7+fp4jXj3IE/RRO8efj2ya1GE9xnx4px08bcPH/7/tUH968+wHYOsrW0GjVUKlF7ZzsNHQ0vh6UAMM9v7kyvGefFRd8+jHl6q7ECXbFj+Zhpo2+fjwaA6vKq1dPXSqXVERjqauEhQTf+fphfVNy5OQfu3u/pOm3YYHNmbZ3H0rXG/fro6TS+yubkFRw7c/nkoV00KrW6hrk6YOeRkCAymey3OTgkaF2PbgZ8Pn/jjr0m/fv07iH1pxdnzpykp6c9bJgjAGzdunb16iW7dh0UTaCvrxMU5LdkydqCArEiL1gwm8FQS0hIlqjWOojLTGc9PZ2hVg4AELTVb81qr527Dkjobtu2bvHiNQUFRcKdTGbdsuXrS0rKAODM6UOusyafO/9Xx0XHTR6tqcNwGzsfAJauW+Sx1PX4vjPNk7ktnvnqydshNpbYZl0ta6d/SEVZJQBsDwscP2X07ci7HRcdO3mUpg5jztgFAOC9bqH7UtcTrYi+fvJ2sI0FtsmqZe32D8VEt4UFjJsyOloaUVnHeZy3fwsyv4CsvNycjYKCdLSqqc4EAoEdFY5Wl4kdMs6Dn5PCu34EAEiWo2R+c2FfP9JxRQCQnbCQ8+a2ICMRZOXlPAIE+WliogiBffWQhGij4YsdPnkp/4uYldxxfnO209BRX+ywFFqtnWKefK8ofHYsHzttzK3ztwHAP3TNnSv3woMkZ0C3Rp9JVnRt1QuOAQAwbO10yyVOMeItnflCB1ZZzcUJgQAwbr+X0ZThyddeEYiE0qScv2bukMjt8abTXBYbAOSUaK63gzIfxWGbEpjsXZQRdrvseQKJLm91Y3NlbFp9dokw1jRsaZz3YWby/7F33mFNZF8fP5MGAULvXVRsoKCIXdS1o2IXUUAsIKgIgopLEcGGUqwgrL2giGJZe2+IYhcEpIlUQXogIXXePyaGEIIQdHX3987n8dm9c++Z+c4MmXvPnFumSFZHddD5gCdjN/AYLMtYz5zw81/vvgWAnkEOXT3tPm45gxAJ9R8Kn80M7eDF/lL+4W8dEYnEjRs3ent7A4CWllZoqOSbQCKRCIROdqH/tp73yspKGo3WVmliYuLYsWM7eChfX1+sD51KpZqYmJiYmAiPvHnz5v37mx/XhIQEJSWlhIQEbPPhw4eOjo6iUeXS0tIdO3YAQF1dnaqqKgDExcU5OTmxWKyoqKjZs2c7Ojo6Ojqam5tj9oaGhuvXr5fW9QSA3tOGpH7zI5/HXu052VrMoNeUQUJHMzX2aq+pLbwQAonYb/6oNyfvAQCzpqEqt4RVzwAAVj2jOq+ULC9T8CQdADh0Zk7CI6NJA4U7qpkb13+uqMkqBgBGWXXR3bf6o/sCgO6wPtlnHgIAn8P7cOimybRBANDVbkhajOAc0mKvdpkiOEmiLHnghnnPNp4QGz7Rd8XUhpuPOEWlra+XoKxIVFZkprwGALSBQb9wU/6P4aIGmOsJAOyMHGj1a6YO6c8pKOZ9rW7jdku4/DYAACAASURBVH4PGzub87HnsXRSXNJw2+FiBiymoP5S0VBR1VTNz8gHgIa6Bsz1BID8jPxOPGB/2I0+E3MWSyfEJo6aYiNm0MRswhKqGipqWqq5GXliBg4r7IVH6CBj7EYnxCRi6bOx52ymjGhLVEVDRU1LcLEAoKBE23Rw497Lu9dG+KhpqUol+n0Q5Od/VrGmtq6unj7Uuj8A0BTkZ9iOv/Ow+c3kY06+df++CvLyAKCkSOvRzSQt42NtXT2FQu7axQgAiETixDEj7j/uTMs9d65dZKSg6Y2Kips501bMYM2a5RcuXIuODrt791xExCZ5eTks/+DBk1u27BJ7ZDrOvHl2kZEC5yYyKnbWrCliBj4+7klJV2Nidty7ez4yMgTTrampxVxPAHj3/gNBSsd34vSxx6IFr2rHY06PmzK6tU3/IRbKKkr3rjbHhOpr6ZgXCADZ6TnSetsTpo89ER2PpU/EnB7bhqiSimLborlEojQPLFUBqAr8Tx8AAFhM7rtHxB5WLQxQlDLBSdYpQGbeGoKuCZbHr/3KLxfUWvyKIn7VF5AKTDQ/XSD69iGx18AWBihKmbRI1mWjzHxfgl5Xsb0RNR2QpfLLPkkn+g3RiiIhNtFmykgxA9GKQlVLNS8jDwB69DNtqG8YNn7ornMRW4+GmvY1bVeop92Ql98asldxV7vbird0PaYOevXN4GXsVdOpgwEA5aMqJtp2R3zsLwWPCnak0KiYgdDXVO2mQy+t4jAl9KiQVWkUFYXKR2kAwKUzi04/0JncfGMV+3ZhFJTTM4sAoKmsuuLOG40x/QCAWfSV/i3USs8qbswtxU5DvquO1cm1Q6+H9t7sRPp2Gv9P6Nev36lTp06dOhUZGSkvL9/Q0BAZGSlmc+TIESq1k7fl98Q+s7OzS0pK3r59a2Fh0bo0JSXl1q1bhw8fxjYrKysdHR1tbW3HjBlTX1+fk5PDYDCqq6uLi4uxYQrh4eFGRkYAQKVSsQMqKSlh+wYEBJSXl7NYLAC4dOlSamrq6dOng4ODr1271rdvXxsbmy1btoiO3URRFGsehD6rq6vrzJkzAaC8vDwiIgIT4vP5paWlioqKBQUFISEhkydPtrJqWVtJQn9gj5E+swGg+lOZkoFGTYEgNMKqZ8goiP/9KDQq5lACQM3nciV9ddFSs1nDc2+/5jBZAMCoqn+691KvaUPKPxToWXZ7f+5xbxFXtb6gHPMvMWiGGvUFzSGZ+s8VCvoaMioKrNpG4bcT6J8rFPQ1AIBm0GzMrmOQv53koKAFb6IucOgt1pjVHWFGIBOZj1NlrSQMRibpanFEehu5RWXU4ZLvmJLz7NqD4n1JykvtvwaJ/+6/Qx/rPo4+jgBQ8qlEy0CrtEDgEDfUNcgpyLW2d/ByGDl1pLq2+h6/PVmvs0SLqApUq1FWwS7BHdE1tzZbstYFAIryi3UMtEtEdOUl6Tp7O46eOkpDRz1ifVTG6xZDZ/oPsywr/FJRWtF6r9aii9Y6A0Bxfom2gXa7F+vovXD0VBt1HfWo9buForMt5mJdb+NmjQ2MCfCa+UNLafzTlJSV6+tqCzcN9HSSn70SbvbobhJ77HR1Ta2qinJZ+dcnz16a9TLt38+MxWKnZ2ab9TJlMJuu3n5AU+hob9GwYdYbN/oAQE7OJ2Njg7y8Aiy/trZOUVG8A6dfvz5Uquz8+cuZzKbVq5dFRm5yc+tkUHnYMOvgjWsBICc339jYIFdEl0YT17XoZ0aVlbW3d2Uym7y8XKMiQ1zdfIWlNJrChPGjp8/43hh6DMtBfd3XLQOAwvwiXUOdok+CsV/0Oro8TfyOqWupzVpoF7hKclxEXkFu2JjBq53WtStqMaiv+7qlAPA5v0jPUKfoU8k30QZ5mvhvWF1LbebCaUGrNrclOnTMIC+n9e2KCiEoa4gGHdGaCmJXc1GDpjPhwOMCAEHLUGbWKubREGDQOQ/Pk/oO538tBhIJUVTjPL7QccVvos1PN1pTQezaouZsit/xTdRIZs5q5uGNwKALSykjpnOSr0ilaG5ttnjtIgAo7ljt5OS98FvttAurKLqbdbMcZhmwOKgg+7OBiX7ooU2rZnjRa+liO+pZ9xjiMxsAaj+VKRpo1ApbujoGpXVLp9Dc0tV9LlfUVwcAemnVoaFefA4PEMR6xdQxoYtueMUAAFGGPPPkepUu2sxqetLCMJD0LidnoMEQiXQyCso1RvdrLjXUaPz0RbRUzkADAN57xerPHVkUf1++my6Xzii//hIAmkqq7lmtQjk8QJBuq+3Mti9+u2I//DtAf/l33hUUFH5wiSUxfo/3eeTIkQMHDuzfv//AgQOib8YMBuPw4cPp6en79+8X5qurq584cQJLz5gx4/3791QqVUVFZciQIfr6+s+ePRMGV9TV1R0dHQGASqVqaGj06tVLXV29srKSRCIBgJqaWlRUFIIgoaGhR44csba27t+/PwBgQxYiIiIePXrE5XKrq6tnzpxJJBIJBIKZmVmfPn2wgxsZGa1du1ZeXh5FUT6fr6en5+rqamxsjIVdO0Lxi4/x9oKuhMU3t4kWSYiItMwQ/awWQiQMcB4Xb78V2yRSSEbD+qQnPWmsqOWxudbLJgMBaWtfaP208tHWmdguqKTMXk5jvzzLqvnYYqaXvK5at1nDHnnHjZY8qEESkj4Upuy2gPH0JTu7xQu97MB+3PJKbokUoYUPqR/85gl67aNvRbeUlfDUxu+Kj98Vr6Kpsm7PuqLcok+ZghMgkUme2z3jQuJYTRL6d1qTlpruNccHSx++81cLXUnXeyzqxLGoE6qaqoH7/vycU5iXmS8sWujpEOm3q4Oiwk7zv+606BGTKHoi6uSJqJOqmqr++/w+5xTmZ+YDgHDU1+3zd+a5z5WnyTXSGR1R/y20jqciIr95Q31dr+UufiE72Wy2rraWlaU5mUwCgF1bA/b+dbyqukZOTm6gpfmXikroGMnJqePHz8PSL1/eEi1qfYdVVJTCw2OYzCYA2L37r4yMx9JcmbjuuPFzsPTrV3da6Lb6GauoKIVHRGO6u3bFZWY+ERaRyeSY6LC1a4OZ3wJa3+HN8/euswSrriTca9HlLXaxJBLRJ3hVWMAuicOcSGRSwM514Rv3NjHbf3bePn/vNssTS5+5d/Q7okQScU3wqh1ti/rvXBe5cS+rA6LNSKh+W+bwBKOw+OWFvLw0on53XvZrglFPlNkALAawEUBRgnFvfkGGFKISqt22RD/z8t4T9U152YJXLERFC1FU5RdmgTSkpaZ7zxG8kBy6EydaJLGiOB518njUSVVN1YB9GwpzCvMy8xWUaA+uPCzI/gwARfnFr5Pf9O7f6/m9VLEdS1I/CjvNHW+1aOkk+ostyr+dCZ/Dw+xT911e+kwwyITH4iTO2QwAhiPMJu9bkThXvGseJDWmLXLaaOy0JgygZxXx2dzG3FJV6x6KfYzqP3wGAPTbaeTuujjm9T7xnX8jv9z7/On8Bu8zJSWFz+cPHTq0oqIiIiJi3brmN+N9+/aZmpra29u3tY7UpEmTmExmQkLCjRs32Gx2nz59PDw8hPOQ9uxpMQAL67s3NjbGNocPF3S5IgiyePFiAJg1a5ZwLx8fHx8fHzG5uro6YTvn7u7eenb8hg0bpL18jPrSKhVjrYrMQgCQUZRjtxq8wmawZBTlsJdCFSOt+rLmTuc+04flP0wTvi+azx7JY3EaK2oBoK7oa0N5TbexzSMBFI21Gkub920oqeo6c1hzqZFm+cscVm2DrBoNISDYc0gz0mwsrQKAxpIqRWOt6sxCAKAoyXGZLADoMm0Qr4nTfe5IAFDpqa9iqpd95iGJKqOgrz7hxFpVEougRCNpqmtFBpavaY6IcMsqyPo6wk2SgQ73i8gIJwAAUFoyj1dZ3XDxlli+iqtD5bbOv3FWlFToGutiDqWCkgJL0jghjJqKmme3nvUf2R8zJlFIq8NWJ8UlCZ1RqSgvqdAz1sUcSgUlhaa2G/7qiuonN5OtbKyE3me/wX1rK2uLv0WAOg52sfkdE02++dTKZkC+iMuLgaJ8VtNPniT0c9HR0igqaQ6lF5WUaWtqiBoMH2w1fLAguO7k7uviMBsAjA31I0L/xDL3xh3v1V28N7MjFBWVdO1qnJaWCQDKykqNjeI+ellZBfa6iyHthJu2KCwq6dbV+P03XUaj+NftSsvKScRmXeEkOQqFciBmR9SuOGxfqfhSUm7QRT8nIxcAaEo0JqOFaB/L3npGupv3CqYgqKqr7ouP2L4hovhzKZlCDgxff+LAGWxfKUUrDLro5WTkAQBNSaGppaiZZW89I52QvQFC0T3x4WEbIks+l5Ip5IDwdScPnMlpNYjl+/DrqxAVTeEmoqKJ1rc9yAdBUBYTAGTGLWTGbQAAQFHehxSq6zbBZgdF61qLVn1PlN18H8gj7DjJnZl/KaRCmtoJqyjyMvOryquUVJunRaN8frsjSepLqpSNtSqxlk5JrvUwTY5IS6dkpEUvbXXnEYTdKH56hY/TR2ywp6rSmNXikdemkko5Yy3hppyxVlNJ841lllTqzR4uWlrzIpsoJ9PFbVLyxEAA4LO5JeefWJ/xe2q7Uew0uA2d/KQkjkR+9bjP8vLyv/76Kzg4GACmT58uLy+fldX8Ardu3TodHZ3Tp1t0vHp6eopurlu3jkwmh4SERERE9OzZ09vbu7GxUVh6584dx5ZMnDjxyRNBGIDL5To5OYmWOjg4iLq/KSkpS5cudXR0XLBgwcKFCxMTE0X9YA6Hs3PnzoULF2IH8fb2Fl2hQCoyL6dYu07G0oPcbLOuis/dy7rybJCbYEiZtZtt5mXBdEiEgAxcMvHFoetCSxad0WPSQKxHg0ghGQ3tzW5gGg83AwAyjWpqb/PpSvPBK9/lKxppqvTUBwA5HVX9MRbF998BQOmTD6b2NgBAIBP7LJmQf/kZAORdSjFfLjhJczfbT38/B4Brs7fcXLgD+1fyKD11y5msk/fS/7qO5X9x96+OPMh89lrU9QQAfk0dr45OHdIfABAFOdrMiY23HokaqHg48qpq6OevQ0tkLPvw6Q2c/ELp7q8IDy8/nOU2C0vPdJ35+Ip4LEpGVgZL0JRpNtNsMl9lYplrItZcPHQx531O53TvXbo3b7kgcDXPbY5wglFrXUVlxT/sxnx4+UFY5LR64al9nZnKev/Sg7nLZ2PpuW6zH/79SMxARJQ22m40JoogCJlCxvInzBn36WMBl8OFnweRRCR1aqpNW6iqKCspKj5NfQ0A9IbGpCs3J4wRH+EKACiKHj9zQU1VWbSbHgBSX7+/9zhlvKRd2uXs2cve3m5Y2tvb9fx58d7Pixevr1+/AntrdXNzun+/M1PlJOgmXPL2Xo6l13i7nTsn7nxcvHh9/fpVmO7y5c737j8BACpV9tDByD17D7569a4Tojcv3nFyF8ywdHKff/vve6Kl716kOU12Xengg/2rrqxe6eBT/LlUliqzaZd//F9nM95JF5wTijq6z8fSju7zb/99X0zUebKbp4Mv9q+6strTwbfkc6kMVSZ415/xfyV2RpRBB0YDoUsfAAAZKrnfSG5my3geiYL9n6BpQNA14ZfkAQAgCLGHYM4TwbgPSPsLZ9CB2UAwMROIWo7iZrRsBYSiWoYEXRN+scCPR5Q1CBp6vLz30sm15O6l+3NFaifhTEQhohXFGLvRH15mAEDq/RcjJ43Q0tMEAC19LYuhFukvPsB3+Xg5xcpN0IgMcLXNviLe0n38+9mAby2dlZtt9t8pAEAgE4W9GYM87fJuvgIAIoUkzDQcYQYIwqyR8PFxdhWdXdOgPtIcAEg0qoHD6LK/m0d4173NlzPWovUyAABZHVXNPyy+3n2L8vmyOmrKVt0xG52pg7iNLABAyERhR2I37xnlN15+/2J/JT++4tJvB+n0KPjOgaJoY2Nj69Dm/PnzMafz+fPnqampwgX3W+8+d+7cxMREYU5QUNC0adO+M+wyMTGRSCRiYzdbw+VyXVxcsJ59Op3u6Oh4/PhxzKdEUTQqKkpbWxubhg8Ap06dYjAYy5YtwzZzc3MDAgLOnGl/bZrtRgtbZw73nmk83AxF0a9ZRXdDTrZeh2JM4ALNnoYIEfmcnPE48jzWZ9Fr2hBdi653Q06KGlu5TOhtN4TbxCHLyXy88SL9/JOJW10UFOQIZGJa3LWCqy9EjZW76w4OcSKQiQiB8Crs7JfnHwGATKMO2+Yir61KIBNzLzzNPCqYdm3pM1NvuBmKojVZRc+CT/JbnuTwnUtzzj4SXXFptEqFjGUfmt14CSsuaaqpB64m0OQRErHu2PnG281eoPyEkepBq9kfBUE4tIn1xUMQ29CO3ly97xg743su4Mq6dkL4C9YssBxuiaJoQVZB7KZYsRWXQk+EUuWpWNfzhYMXUu+kAoDHZg+rUVYVJYLxQ5mvMo/tEJ94y+C3EyBc5OM0YHh/QCE/69O+4GixNU12nNxOlZfF/LyzcedS7giqyN79ezl42Acs3SjhiADE9t4YnX0c+w/vj6Lop6xP0cEHxES3n9xKladyORwAOBeXhInKK8pvO76Zy+UBQEFWwV/bDjFbhdZuvD3wfd1fTPnXypCdexsaGFwu13n+zPGjm11JFEWXefnzeDwWi2XZt88qVydZGRkACNsdm533icXmaGmor/FYrKejJfHINP1REvOFBAauGTNmOIqi6elZvr6bxFY+IpFIoaHrhw4dyGazs7Pz160LEY2PXrsW7+rqI3HFJYljQkQJCvQR6H7I8vEJbq27ebPfsKHWLBY7Oydv7dpNjY2MPXu2TJgwuvCzIIj+7NnLwKAw0b3MVI2/L7rcd7H1CCsUIDczLzxIfNUwUc4/PjVrxAIA8NvmM2zMoLJiwWi/9y/T9m1r0c9LgHYmorn6Lh40wgoFNDczP+K7oucen5w9YiEArN+2ZuiYQV++ib57mR7dUhQAHq5sc4kDhKZCmbQIkaECgcR5fp2X1aLOlJnmhiipA5+Hspjsu2fQmnIAQJQ1KeMcEKoCoCjKYbNvn0KrJEy4hLaD3whNhWK7GJGRAyKRk3KN19LllZnujiirA5+PNjHYd+LRasGlUSYv5uW9531sxxOaEtfOkHGsdkJRND/r0/7gmFa10zaqPBWbkpsYd15YOw0cZbVojROHzeFyuHFbD2antaiZpxEkPFND1sw0HG6GomhlVtHDTRJaupGBCzR6GSIEpDA5IyXyPKCochftiVHLeWwOQiQUp2Q+23WBz+VpW3YdE+rMYbJRPtpYUft46+mGsmoAMGWJ32EZbRXznUtINDkCmZgfc/XLlRY3VsFUr88WZ4REQojIx60J1c+yAECpn0kPf3sChUQgEZvKaz5sOMqqqJU30e63z4PP4iJEpOppZk74eZTbrGVb/jvXMP46Tnwaq7Ro3P7Nq0f9au+zLYRLdebm5np4eGhptfgRe3h4CJebWrFixejRoydMmEAikVJTU6Ojow8fPvyd5aY67n2y2ewFCxasXr3awsKCQqEUFBTs3bt39uzZNjaCP/OdO3du3brl5eWlqanZ0NBw+/btx48fi3X3S0Si9ykBBJm4bfGtwKOCIS8/hobIMTQsu2pYmGQcuf3jh/0+o1XanyUjRMa8p4x5j/r4Ntfz7yDtep+tQRBk1fZV0QHRPxLka9f7lKjrE+a9y39Pp3Xb9T4linqHrd7jv+9HLvbf5n225v2HrLSMjwvm2P3gcdr1PluDIMj+/dtXrw4QW5ZZKtr1PiXqRu8P81zt32nddr1PiaL+O9du3xDZ6Z9Tu96nRNE/d64N+wFR+K732RqCrglBtyv35Q/XmdIMvSDodSXoduW+EB991Ana9T5bgyDImjCv3f57O32TJXqfEpXGbl98L+DntHStvc/WKPfvqmzZreDQzR+XE/J7vc+KP37U+9S8i3ufUtLY2BgfH//27Vsul9uzZ8+FCxdqaGh8xz45OZlAIIiulSoKn8/fvXs3tqgVAHz9+jUhISEjI4PNZhsYGNjZ2YnNyr93796NGzcqKyvl5eUHDhxob29PoVDaPeeOep8/FY2fM95MOqTyPn8WnfA+fwqd8D5/nE54nz+Ff7/3+bPohPf5U+iE9/njdML7/HE64X3+FKTyPn8aP2ngr7R0wvv8cTrqff5UOuJ9/hP8Xu+zfPSPep9a93+z9/nf+867vLy8sO+7IwwbNuw7pQQCQeh6AoCGhsbKlSu/Yz9mzJgxY8Z0XB0HBwcHBwcHB0eU/573iYODg4ODg4Pz/xf093Qg/ER+27eOcHBwcHBwcHBw/h+Cxz5xcHBwcHBwcP4z/BuWTPpB8NgnDg4ODg4ODg7OrwOPfeLg4ODg4ODg/GdA+f/5cZ+49/krkPkdq1rJ/Pcj8x3kd60axv8dugjyH1si7T/Hb1n5CH7Tz4n3Oy4W/U0rLsEPrMbaeSR9Qv1/Fbwv9ZeB97zj4ODg4ODg4ODgSAEe+8TBwcHBwcHB+c+A4isu4eDg4ODg4ODg4HQcPPaJg4ODg4ODg/Of4X9g3CfufeLg4ODg4ODg/Gf4H5jzjve84+Dg4ODg4ODg/Drw2CcODg4ODg4Ozn+G37TM4M8Ej33i4ODg4ODg4OD8On6+91lQULB06VIHBwcXF5ecnBws09nZ+Tu7iJYmJSVdunRJKsW2Dl5WVhYUFAQA7u7uwkwURYWLk7u6ugJASEhIWVmZxCPweLzFixd/R9rPz+/Lly9SnS0ODs4/TUlZuf3S1bFHT//uE8HBwcH5+aB85Af//e4r+Ad63kNCQgIDA7t06VJWVubt7X3mzBkAYLPZWGl8fPz169exdFFR0d27d4lEorAUAHg83ncOnpiYePnyZQBAUbShoeHixYuiB9+wYcOqVat0dXVfvHjx/Pnz6dOnY0cTPf6jR4+ys7OXLVsmzOdyuZjZ6dOnr127hpnV19cvXLhwxowZnG+fxygqKvrzzz+xdHl5+Z49e3r27Mnlcrlcbifu0rB1c41szAFFv2YU3gs4ymO3OAiRQhod6qzR2wghEAqfpD3ZlgAACjqqjre2fc0oxGwyzj3OSHwEALNObyBTZbgsDgAwKuuurdgnUVFOT23wjiVkRTkihZQRc7XgYopoqXIvg4FbnAkkIoFEfLM14cuTDwDQY/E4Q1trACBQyG82n654/hEzVjDS7LdutoKBBo/FqUn//GrTqY5cMlFbQ2OjF4GmgJBJtUcTG68/aC4jENQDVpFNDAEAbWJ9DYrgVVQBgaB9YCtCImImJB3NuqPn6hP+7oiWGM7rnQeMHIAC+inj037//Rx2i0+ejJw6ctqiaXw+X0ZOJut11qEth9hNbCVVJb/9fgQigUgiclicuJC4T5mfpNVd5rfE2sYKRdG8jPzIP3eL6Y6ZNmqmy3Q+jy8rJ5vxOjN6cyy7iT1h9rjJ8yYKbQy7Gc6wnCOV6NL1iwfaDEBRyMvM2/XnXjHR0VNtZrhM5/P5slTZjDeZBzbHsZvYACArJ7vY17mXZS8ul8thcfyc/Pn8jk6qLPtSEbxjD53ewOFyXRxmTx43SrT0zsPk42cuEIlEAgHxdHXuZ9YLAHLyCyL2H2Kx2CigU8aPmT1tYhvH7gzlXys3h+8bN2pYE4vdvrX0hIasHzfOBkXR9+8zV3n+KVq9YFhYmAX4e2loqDc1sW7dfhAREWNoqBe+M1hVVYVKlX3zNm316oDvV3QS2Rzq9003Y+UqCbqWFmYBAd6aGupNTaybt+6HR8QIi2wnjz12dI/ddOfkpy+kEl21wW3oqEEooNkfcrf4hYv9nIRsjPCzGtp/6pC5opkjxw3dsm+jp+PaN6nvpRJducFtyChrAMj+kLPVL6It0aAIvwFDLe2GzAMAFTXlbQc2EYkEEonEYrEjN+7NzsjtuCKipEaZugyRlQMiiZN8hZf+VLRU1skfKDLA5QAA2lDHOrcHyyfoGJNtZiLySsDl8HLfcZKlq50QJTXKtGWIrDwQSZzkv3lpLUUXBQBZRDRxd7PoqFmIvBJw2bzcd5wnnakS4RdWFEPXzTW0MQcUrcwovC+psRsl0tglb0sQLe3rOHbo+rknx/k1lFWr9zSw2eQkLFLrqX9udmh1TmlrRVk9NfPwZWQlOQKZlB99pfRCixtL623YZ+siApmIEIlZW05XPf4AAFRDDbOtLkQFWSJVpjGvNH39YS6dCQAUDaUefnNpPfT5bE7Tl5q3Hvs7cm9/Af8G9/EH+fneZ1NTU5cuXQBAR0dHRUWltrZWWVlZWOrg4ODg4AAAbDbbxcWFSCRKdfA5c+bMmTMHAG7fvp2eni5WiqLo9evXVVRU8vPzZWRkJB7h1atXXbt2lVg0f/78+fPnV1dXq6qqPn36NDMzU7TUwMDgxIkTWHr37t01NTVYOjY2tnv37k5OTuKHa5sedkNoumrxtoEAMHTtHKvlU57vuShq0H/ZZEZl/empQQAwcZd7r5nDMpOSCUTC14zCc/O2iB0NIRCurdxXX1z5fdHB4UszYq5+eZROplHHJwVUvs5tKPwqLB221z15ZXRtVrGcjurYsxuuTQjgMlhlj9I/Hr4NAEqmejaHvS8P9wUAkrzsoB1LXvgfrc+VHDBuC41Na+qOJjJTXiMKcrpHI1hpWdzib2FjPr/uRBLnUxEA0ObYqq5a9DUwAvj8L65+wt11Du1ovJcslSLGqOmjNHU1PW09AcB5nfNs99mnd7cIiT2/8/zR34+w9IotK8bOHnvt5LX6mvpgl2BWEwsATC1MPbd7ett5S6U7dvoYLV3NZZPcAWDp+sXzPeYd33VS1ODp7Wf3LgtccO+tnhPnjL984srNc7dvnruNZQ60sRo6drBUon9MH62pp+E2eQUALFnnYu8+98TuFu8GKXee3//7IZb22rJqwuzxf5+8AgDrI3yvn70ZHRIrlRxG0PZdLg6zh1r3pzc06EP84wAAIABJREFUOq9Ya967h4GeDlZUWFwadyzh8N5tCvLydfV0n8CtMeEhZDJ53caw8BC/rl2MeDye/5bIvn16mHbt0glpiWhpqEeHh1y6dqfkS/nPOqYQ+3nTDQz0Bg+ZDAAhm9b5+rhv3bZb1MDQUC801M/Nzbe0tLlXhE5vXLlqQ0VFJQAcO7rXYf6MEyfPSadrP93AQHfQ4EkAEBqyfq2vx5atu8R0N4f6LWupi2FiYjRzpu3lv2+RSNJV+JNmjNPR054/YTEArPRzc1mxIC7qaGszRzf7J/eeDRo5UDRT30hv7JTRD24+JpKkq+Qnzhinrae1YMISAFjh57poxYK/JIkudJuXfO/ZoJFW2GZtdZ2X07omJgsA+lj28t+5ztnWteOiMtNc2clX+PlpIEOVddnIL8lFayqaiwkE1rk9aG2LOhZRUif/Yc++FIvSa6S6wGZROzd28t/8vDSQocouCeYXtxRFCKzEPWjtV9FdECV18lh79sXOi2L8sooCa+zO2AYCwJC1cwYsn5IqqbE7MzUIACbscu85c1hWkqCe17bsqmio8fXDZ4RIAIDKrKLz35o/WWWFqYfXSHQ9AaBvpGv+/iuVj9JINOqQSxtrXucyPzffWIv9K9567KNnFsnqqA46H/Bk7AYeg2UZ65kTfv7r3bcA0DPIoaun3cctZ4CAWOx1z96RWPs6r4PXi9Nxfn7PO5VKLS0tBYDq6uqamhpR11OUxMTEsWPHSixqNyqQlpYWFhbm6uq6dOlSR0fH7OxsYZGhoaGJiYmOjqDxe/jwoaOjozB+WV5enpycfOPGDUyCx+M5Ojreu3dP9OCrV68GgNzcXFNTUwDIzMx0dHS8c+dOdnb2+PHjHR0dHR0d379/b2RkhNm7ublJ5XoCQE+7IS9jr2LpV3FXu9taixn0mDro1TeDl7FXTacOBgCUj6qYaNsd8bG/FDwq2JFCo2IGKJ8/OtR5XlKQ3RFfbQvJjrWMqoKMisKXR+kAwKEzc888Mpjc3FSomhvTP1fUZhUDAKOsuuTuW93RfQFA6F/W55byv70Zmzr9UXr/nYXf3HFJAUOiXGXVFTtyyQRlRaKyIjPlNQCgDQz6hZvyfwwXNcBcTwBgZ+QAQfxnSR3Sn1NQzPta3REtMUZNG3XugKClPx97foTtCDEDFpOFJVQ0VFQ1VfMz8gEARVHM9SSRSV17d81+nw1S8sf0MacPCN7jzxw4O9rWRsygidmEJVQ1VNQ01fIy8sUMFqycfzrmrFSiY+xGJ8QkYumE2ESbKSPbElXRUFHVUs3LyAOAHv1MG+obho0fuutcxNajoaZ9TTuuWFNbV1dPH2rdHwBoCvIzbMffedj8kvAxJ9+6f18FeXkAUFKk9ehmkpbxsbaunkIhd+1iBABEInHimBH3Hz+T6jLbBUH+qcDAvHl2kZGCmGJkVOysWVPEDHx83JOSrsbE7Lh393xkZIi8vBwA1NTUYq4nALx7/4Eg5Vs3ANjPmx4ReQBLR0QemDXLVszA18fjfNLV2JgdD+4lRX3TBQBZWdmtW/70XhOESj9PYdKMcUejBU7JsZj4cVPHtLYZMMRCSUXp7tUHopkyspTVAe47AnZ1QnTijLHHo+Ox9PGY02Onju6IKIqimOtJIpN69Ome8S5LCkk5GlAV+PlpAAAsJvfNA2KvFp40oChlsovs4mAZh3UEPUEdSx42lZfxnDJtmazLRsokZ6BIjnd8T1ROgZ/3TfT1A2Lvlg0ByqfYusgu3SSzcB1Bv5tAdPhU3ofnFDtX2SXBlMnSi37jl1UUpnZDhG3Za0mNXXeRxu7Vt8YOAKhqipZLJz0Nk1wBWi6b9O7ILYlFZFUaRUWh8lEaAHDpzKLTD3REGjvFvl0YBeX0zCIAaCqrrrjzRmNMPwBgFn2lf+tXpGcVN+aWAoC2rXXdu3zjpRMHXwyyjFstZ6zV7vX+MlD0R//9dn5+7NPf3z8oKAhBEC6XGxgYKNEmJSXl1q1bhw8fxjYrKysdHR1tbW3t7e379u27bds2rHtdyKxZs6ZPnw4AKIomJCS8ePHCy8vL09PTw8NjwIAB8+fPF1r26NHD0NCQyWRWV1cDgI2NzZYtW5YsWQIARUVFQUFBW7duLS8vDwgICAoKIhKJR48excaGijF//nwSicTj8Xr16oWFPJ8/fz5p0iRvb0EArK6urqKiAgD27t1ramqKSXwHPeseQ3xmA0DtpzJFA43aAkFUhlXHoChQxYwpClRWPUMg9LlcUV8dAOilVYeGevE5PEAQ6xVTx4QuuuEVAwAXnXdifRkavQ2nxK4+YxfMrKaLHVBeX6NB5OWv4XM55l9iKBhqNBQ0R4nonyvkDTREdzd1GffxiCAgp2JmRFGUS14Vw65tNLQdOGz/irvztn3/2gGApKvFKW6OlXKLyqjDrSRaKjnPrj0oPlxPean916DIdlWE9LHu4+TrBAAl+SVahlqlBYJX5Ia6BjkFudb2Dl4ONlNt1HXU9/jtyXotaLdMLUzdQ9wNuxu+uP9ix8odHdHta22+ZO0iACjKL9Yx0C75JKJLk6C7yNtxzLTRGjrqO9dFfXiVIVrUf7hlWWFZRWlF673EMLc2W7x2EQAUY6IiFysv6WKdvBeOnjpKQ0c9Yv2ujNeZANDdrJvlMMuAxUEF2Z8NTPRDD21aNcOLXiv+K5JISVm5vq62cNNATyf52SvhZo/uJrHHTlfX1KqqKJeVf33y7KVZL9P+/cxYLHZ6ZrZZL1MGs+nq7Qc0BfmOaP0uhg2zDt64FgBycvONjQ1y8wqw/NraOhpNQczYop8ZVVbW3t6VyWzy8nKNigxxdfMVltJoChPGj54+43vj4IUMH2a9KXgtAGTn5BsbG+TmfhLqKtJoYsaWFmZUquxce1cms8nby21XVOgyVx8ACN+5MXRzZH19h/6aAGA5qN+K9csA4HNekZ6hblFBMZZPr6PL08T/TBpa6rMdp/uvDBHL993kGRtxuIHe2HFRj/VLhaKFIqIKkkRnOdoFrAwVy+9j2Wv9Fm8T0y5P7qb86R7cQWkAIChriAYd0ZpyYrd+ogZNJ7cDjwsABG0jmbnezIOBwKATdIyBTGGd3QUcNmmILWXSIvYlKboOCMoaaLWIaHU5sXtL0RMiovZrmHEBwKATdLoAmcJKiAIOmzTUljJ5EftiR0V/WUWh+62xq+lYY8cWaexo+uoAgBAQm40LH246yedKCEXJKMkZ2Zg/i5DceyBnoMEQaewYBeUao5tvrJyhRuOnL6KlcgYaAPDeK1Z/7sii+Pvy3XS5dEb59ZcAoGRurD7S/NXiyKbSahWr7gOOrnnyxwaU999f5/3fwc/3Pk1MTA4ePIiiqGj4Ye3atViCwWAcPnw4PT19//79wm53dXV1Yad2jx49jh6V0M8CADwez8PDw8bGJjw8HEGQgQMHXr16dcCAAaqqqpjBgAED/P39AQBBkGXLlikoKFhYWACArKwsADQ2NoaFhWlqavbo0UNOTu7Dhw8jR44EABkZGRKJ9ObNm+DgYAAoKSmZMWMGgUAgEAijRze/dmtoaNy+ffv9+/coivJ4PCUlpUmTJgHAqlWr9PX1270tJakfhZ3mjrdaumvtvYagfIEBn8PD7FP3XV76TNDfJxxG8zWjsODBe50B3fNvv251CHEJ4TEl64uUao/oo2yq/3y94FWBoiSf9dcNdm0jABRefWHuPYNIleF9Cx9KAV/CVSu7LWA8fcnObjHCUnZgP255JbdEitldH1I/rJ+7HktH345uIStplFL8rvj4XfEqmirr964vzCnEhnhmv832nuZNIpNmLJ2xyG/R4a2H29V9n5q2eo4Plj565y/RIlSS7tGoE0ejTqhpqgbu9/+c+1k0/OnkuSDcb1frXVqTlpruPUfg3xy6EydaxJd0k49HnTwedVJVUzVg34bCnMK8zHwFJdqDKw8Lsj8DQFF+8evkN73793p+L7Uj6q2jjAihOcdQX9druYtfyE42m62rrWVlaU4mkwBg19aAvX8dr6qukZOTG2hp/qWinXEjv5fk5NRx4wWjb1+/uiNaxG/1yREVFaXwiGgmswkAdu2Ky8x8Iiwik8kx0WFr1wYzvwWWvs+T5NQ/xgl037xuqdvq56SsorQzXKAbtSv2Y2YyACx3c370OOXDh48dkRMIPX+3dOZKLH3u/gnRIrHfMIlE9N3kud0/Uuxk5i6a+erp29ws8Vj+90WXzVyFpc/ePy5axG8l6rNpVZh/VOs78OFNptNkVxKZtNBt3ir/5btDo6GDtK4BxXJ4gjqW/+UzL/cd0cCU9/EVIivPeXIZOGwA4KZcpXp26Gn9rmjLKxIVzXlLNDTlZb1CqPKcx99En16leu0WP0jb/LKKojT1o7CLfEHLxq79WDgfBYDBPrPfn7zLqKiVaGK5ZGLaibuopHOWKNEiR8JdRwFAa8IAelYRn81tzC1Vte6h2Meo/sNnspJ80an7TaXVAFDzModZXCnfVachu6SdS/gl4OM+JfPw4cMjR46I5piZmfXv3x8A9u3bZ2pqam9vr6AgHjMAAE9PT+F4SjqdTqFQhMM3e/fuvWHDhujoaKHPqqWlhU1I379fMBBYOCpUCLaJGfTs2VOYb2VlJfwv5rBqa2tLnGs/depULGFiYiKckyTE1NRUU1OzndvRivqSKmVjrcrMQgCQUZLjMMRdNw6DJaMoh4U/lYy06KWtepwRhN0ooQFDCAi7gdk6v7GkiibSa6BgpMUQOSajpEph1jDhJs1I8+tLwWIF2iP6GE4e+Nyv+a/JLK8hiA7kQlEJD3QruGUVZH0d4SbJQIf75auYjdKSebzK6oaL4v0pKq4Olds6P9b7a8lXXWNdzKFUUFJoarvhr6moSbmZ0n9kf9EJRlwO9+rJq5EXIjvifYpSXlqh10UXcygVlBSaGG3qVlVUP7mRPHCkldD77De4b01lbXF+sVSKAFBRUqFnrJuX+U207YutrqhOvvnUymZAXmZ+VXmVkmrzCAqUz+94h6mOlkZRSXNUu6ikTFuzReB8+GCr4YMFcW4nd18Xh9kAYGyoHxEqmMO3N+54r+6SR4z8CyksKunW1fh9WiYAKCsrMRrFH7fSsnISsble5X+LlFAolAMxO6J2xWH7SktRYWm3bl3ev8/AdBsZDDGDstJyksiDyePzAWDunKlMZpOz41wAMDPr2btX9yNHE+L+OgEdo6yk3MBYH5u+Q1OiMVv+hs0se+sb6W7ZK+g7UlNXjY6P3LohYoLdHywma9q8yQDQvVfXrqZdLp6+knj8YuvjS+RLSblh26J9LHvrGemG7hX0qqmqq+6Lj9i+IbL4s8An4HK4545dPHoltuPeJ7+uElFtrh4RFS20rqpNawRBWUwAQOk1QBCtCaULiYmLqn5flCBZtMNTA8X4ZRUFvQONHUVRji3S2BHIxC5/WGiaCwaCq/cyGB/p9vbQzbybLwGAQqN2nWB12lZytyoANJVUinaRyxlrNZU031hmSaXe7OGipTUvsolyMl3cJiVPDAQAPptbcv6J9Rm/p7Ybm77UICSRYWD8f0eP9f8K/4j3aWNjY2PTYpSbvb09lli3bt3z589Pnz69atUqYamnpyeW2LNnjzAzOjrawsJi6NChoschEokPHz48ePCgaGZNTc2VK1ewdFNTEzafXQiPx9PX19+xQ9BzeuDAgeTkFpNXSktLL1y4oKioiB0qPDy8oEDQs6anp+fj4yNqfPfu3RMnTmDLNiEIYm9v37179w7ckhZ8vJxi5Tb5htcBABjgapt95bm4wd/PBrjZPt2ZCABWbrbZf6cAAIFMRHl87EVtkKdd3k1B/yZJlsJtYgOAei9D7X4mj0LjWyuyqumsGrr2SDNs1lG3+TYPFjV3ZFe9y6cZaSr31MdmHen9YfFuxzkA0BtroTumX+qfx0QfuaJrL3stn1z25AOfxdH7w4LxpYbHbH9mMb+mjldHpw7pj806os2cWL5qo6iBiocjp7S8tespY9mHT2/g5Be2K9EWDy49mOU2K9wrHABmuc16fOWxuISsDDbEk6ZMG2U36q/Qv0QzEQSxW2yXnio+xa1d7ly8b7987hbP7QBgv3zuvSsP29JVVFH8Y/ro/ZsOCIucvRbuDzkA0nP30v25y+dsWx0GAPPc5jz4u21RZdoYu9ExIbEAkHr/xaI1ThePXCovqdDS17IYanFoh+T+h9aoqigrKSo+TX2NzTpKunJzX5iETk8URU8kXFRTVRbtpgeA1Nfv7z1OORUX1YmL/T5EEpEk/fDKdjmbcMnbe7nL4tUAsMbb7dw58RnHFy9eX79+1SIXTxRFly93vnf/CQBQqbJxseERkQfevpX6h4Rx5uzFNd7LF7l4AoDPmuXnzl0RM7hw8Zrf+lXOizxRFHVf7nzv3hMAGDN2ttDg0MGo48fPPnyUAh3mxoXbzu4O/qtCAMDZ3eHW5buipW9fpC2YtFS4ee3FeQ+HNQCwZMYKYWbIbv/LCddePn0jlaij+/zAVaEA4OQ+//blFuPy371Ic5zUXMNffXFupYMPAMhSZbBxnwiCzF86582zdx1XBAYdGA0EE3Ns1hG5/+im0ztbGJApWLiRoGVI0OvKv3USALiZqZQRdqwL0YCipIHjePlS/mUZdGDSCV3NsVlH5P6jmuLD2xY14d88AQDcjFTKyOmspP2AoiTr8VKLfuOXVRQfL6f0d5t8y+sAAPR3tc1p1dhl//1sgJttys5EABjgZpv9dwqfw4uf6C80mJXgf8snlv5tWq2Fy4T0Mw8k9shjsKvo7JoG9ZHm2KwjA4fRL52a/5p1b/PljLVovQywWUeaf1hkbz+L8vmyOmrKVt1rX+YAgM7UQdxGFgB8uf6if6xn6YWnnNpGRXNjGS2Vhjzp5tr+c6AoHvuUxPPnz8PCwjB/DgObwdMWQ4YM6fjBW7u2ouM+ZWVlhZ34GFwu18XFRbi5fPny5cuXixr4+vrW19djZxsSEjJ79uxhwwSBwKysLG9v7/h4gT9Hp9Pj4uKOHj1KpVIBgMViubm5devWTVoHNOtCskoXrXlJQSiKVmYVPdx0UszgVezVkYEL5p4LRAhIYXJG5oWnAKCorzExajmPzUGIhOKUzJTI85jx2O1LFPXV+Vwei864tnI/5om25qlX3KAwF3Ov6QQSMS3qQmPLOfJP3PdZbXYikIgIkfDM9yCXwaJqq4yI9ax6mzcuURCjerbuED3/S8ndt0o99ccnBfCYbObX2qdecZLUJPA1YKd64GpltwUIiVh74BS3tHmkqfyEkYoLprM/5tOmjQMAtIn1xSMAK1JZNr9637EOSkjk/oX7el30wpPCAYWCjwWxweLDpAIPBsrKyXI5XAA4s/dMxssMABg3b9y4OeOaGE1EEjHjRcaBjVL7greT7uh30dt/cTeKovlZn/ZuFI/EbDm0iSpP5XC4AHBiT3z6yw9Yfp8BvZmNTa0nIXWEO0l39bvo7b2wCxPdHxwjZhB6MJgqT8Xm4Z38JlpXXbfLf09QTACHzeFyuGHeOxkN4qG177AlYE3Izr2xR09zuVx3Fwc9nebAA4qiy7z8eTwei8Wy7NtnW5BgBE7Y7tjsvE8sNkdLQ33fjmA5qmwnLvb7TJ0gYYrMjxN/Oqlbty4P7l9AUTT9Q5aPj7irffDgKWNjg0cPL7FY7OycvLVrNwFAWFig9aD+O3cI3riePXsZGBQmnW58UvduXR49uIiiaFp61hqfjWIGfx081cXY8MmjyywW62N2nu/aTWIGnVge7ur5m4Ym+kcvHwAUzcnK2xH4vfA/W1LNw+PyeG07ChK5dv6WoYnBkcsxKIrmZuXvDPxe5zLrm+g0e9tp8yYzGUwSifQm9X1YgHTvM6yLMZQpSxCbGUAgsh+eF5veLjN1GaKkDnweymKwzu0VdHy/ukdQ0ZRdsgm4XH5VKftmRyPKzaJJMZRpSxGbmUAksh8kiU1vl5m2DFHWAD4PbWKwEr+JvrxLUNGUXRoCPA6/sox943gbx26HX1ZRfLyQrNJFa05SEKBoZVbRo1aN3evYqyMCF8w+F4gQkKLkjKyWqyMBAJ/HQ7mCEC+JKtN96qAzUyRM1RDlnWeM+c4l3dbMIJCJORHnmUUt/ppv3Pb02eKMkEgIEUnz+YvHYAHAS6fwHv72BAqJQCI2lde8WxkNAA1ZxXn7r1if8eMx2NxG5hvX3RIHjP0WpAy1/xtBOjEnsV0uXLjA4/Fmz54tsTQ3N9fDw0NLq8X0MQ8PDzEf9MCBA/369euIYzp//vzTp9tcVhrzPsVcUlF8fX29vLywsZvh4eGysrJz5sxRU1Orqam5devW69evIyIiMEs2m+3g4PDnn3/26dMHALKysjZv3rxv3z6xa2lNlOHCdq8CEGTs9sX3Ao4KBnf+MBrtNTRqll3VLU2wNZV+FkPV2p8lI0TGvKeMeY/6eOk+LtCaFbVSh7gQBFm1fVV0QDTmdHaORr7Uy0kiCOIb5h3lv6fTukRE6nUqEARZE+a123/vj1zsrbdSzKh4/yErLePjgjl2nZb7jcjric//bRcEQaL3h3mu9hcur9EJ+NJXxQiCxESHrfLsvG4fVaNOiAbuXL91Q3inf04EkDpsgyBIwM512zZE/Mhv+Mlyw44bE/S6EvS6cVNvdlpOgDT+CkG/G0GvK/f5D4sCTDncdj9+G/x4RTGd0LFZ4Qjyx/bF939SY9eN1f5BlPt3VbbsVnDoJ9xYIbblv/NjFrm9J/zgEbpl/My70Qn+Ee/z48ePO3bsEF04CUGQ3bt3i0ZDfyLbt2/38/Nrq5TP5+/evVs4V701R44csbOzw6YuoSh66dKlJ0+e1NTUKCkpDRkyZMaMGaKL5BUVFcXHx+fn56MoamJiMm/ePGxx0+/TIe/zZ9Ou9/lPIJX3+bPohPf5U+iE9/njdML7/ClI5X3+p+mE9/lT6IT3+eN0wvv8cTrhff4UpPI+fxq/KVrWCe/zx+mo9/lT6Yj3+U/we73P7F4/+oUO08wbP+VMOs0/4n3iiIF7n/8ouPf5C8C9z38a3Pv8p8G9z38a3Pv8ZfwPeJ//yLhPHBwcHBwcHBycfwJ81hEODg4ODg4ODs6v439gvc/f04uHg4ODg4ODg4Pz/xM89omDg4ODg4OD85/hf2DCDh77xMHBwcHBwcHB+XXgsc9fAfV3vKaQf8fLUSid9utF47Qlfw74n6bmq9yvF2Vzf88Ef5r+qF8v2vor6r+AxpJHv14UAIAj/hHCXwAzwPPXi/LqO78q6o+Q8Veb35P85+D9ptkhkaTfUDudJ/yGB5Yh+3uqRNvfovqN/4Fxn7j3iYODg4ODg4Pzn4H/35/zjve84+Dg4ODg4ODg/Drw2CcODg4ODg4Ozn+G/4H1PvHYJw4ODg4ODg4Ozq8Dj33i4ODg4ODg4Pxn+AWTil++fLl9+3YEQbS1tbdt26agoCAs2rx5c2ZmJo/H6969+6ZNmwiEzsQx8dgnDg4ODg4ODg6OAD6fv3Xr1ujo6MTExJEjR8bGxoqWOjo6njp16syZM1wu9969e52TwGOfODg4ODg4ODj/GX58znt9fX19fb1ojqKioqKiIpZOT0/v27evpqYmAEyfPn3hwoWilkZGRliie/funT6B3xb7RFsGjp2dnduy/E4RAPj7+xcXF3/HQGx3Pl+wIFlZWVlQUBAAuLu7t7VvUlLSpUuX2irl8XhLliz5jjQODg4ODg4Ozs8FRZEf/Hfs2LE/WnLs2DHh8UtKSvT19bE0mUzm8Xitz4HFYqWkpIwcObJzl/DbYp9eXl5+fn46OjrYJpvNBoD4+Pjr169jOUVFRXfv3iUSiVgRAFRXV8+aNUt4RyZMmLBw4UIejye8L4mJiZcvXwYAFEUbGhouXrwoPLIQb2/voKAgNTU14Y5CAw8PDzqdjqW/fPly/vx50Tt+6tSpGzduYGk+n3/q1CkURcUOLhXW6+cajDRHAa3KKHzsf5TP5oqWEiikEaHOan2MEAKh+HHa820JAKDW29B63VyyvAxJTqbw3ruXEecBABBk8jFfEpWCEAgA8DIyqST5Q2s5OT01q51LKIryBAoxK/pq4cUU0VKlXgb9ty4ikIgEEuHdloSKJ81HQEjEEcd8EBLx4bxtAKBoqjdg2yIAIMpQmirrXgccZxRXdvyqZ611MBtpgaJoUebnE4Fx3JZXbT1l6KgFExAEZKiyV2MuvLrxDAB0u+k7bl4GAGQZSn1l3angQ1UlXzsoR9TSVPH3JigoIGQy/UQC49Z90VLVjeuJutoAKEKh0OPPMW8/EFyyjIyK32qihvrXles6fmmikHU19LetICjKE8jkr3FJtZdFFjAnEPQ2u8t01UcQhN/EKlq7m1teLThbFUWDSG9ueXWx395OiFJ01Y12eBAV5REyqfzAxepLj8UMqL27dD3gW7rrbHXSQ4GiMs1w8zIZfU1AgFvb8NkvhlNW1QnpkJB1Y8faoCialpbh6RnQ+rmwsDD788/VGhpqLBbr1q2HkZEHsPy5c6ft2bPFymp8cXFZJ3RDQ9aPG2eDouj795mrPP+UqBvg76Whod7UxLp1+0FERIyhoV74zmBVVRUqVfbN27TVqwMkVqydo6Ss3Cdw6+jhg90Wzf9ZxwSAsvKvweHR9IZGDpfrYj998h8tqvs7j58dP3uJSCQSCIjnkoX9+vQAgOKy8i274xgMJrOJ1cVQL8DLjaYgL5UooqpBdfIGOQWERGLdSOSm3pdoI78ugv3kBvtKPJZDMOwmM20hQlMGDpub/pJ946y0F4uoa8q7+SJyCkAiNV0+w0mW0K+HqGvSgnex711vSjoBAOSho2XGTQMEQWRkmy7Gc55L/b0Aiq668Q53opI8QiZ9iblYfemJmAG1j3G3A2tLo85WCZ8dFZrR5mUy+hqAINxaesH6A9I+OxQ9dZMd7kRFeQIiGGioAAAgAElEQVSFVBpzseqiuKhcH+PuB3xLos5WJgmuqNt+L4qWKpYmqSvV3nlZuPmEtBdL1lU33L4CqygqYi/UXJZQURhHr/2yO6HmguBiyTrq+sFLiUoKAEB/8q58X6K0ohjj1s7rNrIvoOiXzM+XA4/wWtb/AECWpUzd7KKopXrUcRuWo6ynPilwoZwKjSxDKf3w6UrQUT6vQ2va26yd28XGHFC0IrPwZsBRMS0ihTQ+xFmrtxFCJHx6nPZgewIAIARkhPesLiPNuSwOkUy8vz2h6HmWcBdFXTWHBP/3Zx8+3dtmTOo/hLOz84wZM0RzhIFPAEAQRDREiEoaZ7p9+3ZPT08KhdK5E/ht3md1dbXoIFYMBwcHBwcHAGCz2S4uLkRii28YMBiMAQMGhIeHt3XMOXPmzJkzBwBu376dnp7e2oDH42VmZiorK0vcPTo6GkXR2tpaFRUVX19fLrfFj3XBggULFizA0vb29liisLAwLCxs/PjxlpaW379eMbpNH6Kgq3beNhAArNfNsXCf8nr3RVGDfq6TmVX1SVOCAGDMbvfuM4flJCUzq+rvrtrPpjMJJOKU0346g3uWPcsCFL21fA+XwQIAmr761DN/xg9f01pxYMSyrOgr5Y/SyTTqmAuBVa9zGwubfbjB+zyerYiuyyqi6qiOTvzz1nh/7IAA0PfPeZ/OPurm9Ae22fDpy0P77XwODwAMpg7q52+f4r6vg1c9eNpwNV31TVPXAcBMX4dJbtP/3ntO1KAgLT984SY+j6+kobzx7x3v7r3ksrnln7+EO4byOFwAGGg7dI7fwgOrojqoqBrgU3/iLCv1FSIvrxkXxfqQxStp9nJqduxGmU0AQFBS1DoW3fTkGbaptsW/8eY9hVlTO6jSGv3tq77GJTU8eUugyXU9u53x5iO7qFxQxudXHrrEyisGAFWHidq+jsVrdwMAIkMx3O1Tdy1Zzqp350SNdq4sP3Ch/vE7Ik2ux/ktDW+y2YXlwlI5MxNtj5m1t14gIo+V0VY3+rMPn1ZGAoDGosn6/s5YWirmzbMzMNAdOtQWADZtWuvjs3zbtj2iBoaGeiEh65YvX1taWi6av3TpQi0t9bS0TLEnvYPYz5tuYKA3eMhkAAjZtM7Xx33rtt1iuqGhfm5uvqWlX4SZdHrjylUbKioqAeDY0b0O82ecOHkOfgblXys3h+8bN2pYE6vzL6USCdq5z8V+xlArC3pDo/Nqf/Nepga62lhRYXFZ3InEw1GhCvJydfQGn407YsICyWTy2pBwd+d5IwdbAUB4zNGD8Unero5SiVIX+bBunOVlvAaqnPz6SF5+Jlr5pYUFiSw7bzn73iVEVvBZHURNU3bmYubRCLS2M+8wGPLL1zZdPsN9/wrk5GmbdvNyMvkVLd9MSGQ5Jw/WjQsIVeBP8/KzG0J9gc9DlFUVw2LrXqUAV7rPKRmHr/gScxF7dnombW58k8Nq+ezorJhReysVSM29hcZbXeuffchfcQMANBdNMghwzl8h3bNjEu5RFnOp7tE7Ik2ud9LmhtctRc1N9FbMqLn9AiE1Px25K3YJ0932e1VdfiqVIobhjpUVsRfoj98RaHKmiVsb37aoKKhmJlrus+pup7aoKCJXf9md0PAsHQB01jsq/mFVf/eltLp9pw1V0lWLmeoPAGN9545wm/pg7wUxm7l7V7679HTQwrHCHFYD83LA4cbKegCYs2tFv+nD3pwXd5db09tuiKKe2tEpgQAwcu2cwcunJO9p0cJaL5vcWFV/dFoQAEzd5W42Y1j6hWQLhzEqRlrHpgcDimr2MpxzxHf/YMHHwIgU0pgAh1fHbssoUKW98H+CH591JNrP3hptbe2UFEGIisOR8DTt3r171KhR5ubmnT6B39bzXllZSaO1+VXGxMTEsWPHtlUqhq+vL9aHjpGWlhYWFubq6rp06VJHR8fs7GxhUUJCgpKSUkJCArb58OFDR0dH0TtbWlq6Y8cOAKirq1NVVQWAuLg4JycnFosVFRU1e/ZsR0dHR0dH4R03NDRcv369tK4nAHSbNuTdgatY+m3s1a621mIGXacOevvN4N2Bq92mDgYARnktm84EAD6XV/2xGPk20QzzFBECotrToCqrsLUcRVWBoqJQ/igdADh0Zv6Zh/qTBwpLVfoaN3wur8sqAgBmWXXp3bfao/thRUYzhzYUlFe9yhUa8zk8zPUkUmWUeupXv8vv+FUPmjbiepzgrfFG3KWBk4eKGVR8/oK919Z9ra37WosgBADgcbiY60mhyuiZGha8z+ugHEFJkaCkyEp9BQBoY2Pj3zfkRg8XNcB8TQAgGRlwyyvQJoHDXekbxE7P7Ph1iUFUUSSq0BqevAUAPp1Rffa24sQWV4q5ngDATM8T/hFRFvuT00ZWQWnnREkqNJIKrf7xOwDg0RmVCXdVJg0WNWCk5+d7hPMZLT42yCquYGYWCE4m6zMrvzPqc+faRUYKxqRHRcXNnCn+Cbo1a5ZfuHAtOjrs7t1zERGb5OUFzsrBgye3bNkl8a26I8ybZxcZGYOlI6NiZ82aImbg4+OelHQ1JmbHvbvnIyP/j73zDmsi+/r4mVRCSOiEFooioiJgX8vK2ntBUUHFuoCioAjYRcW2KthBdF3rKiJ2xV5RxIIuIgoKKh1Cr+nJvH9MDCEgJIi6+3vn8/j4zNx7Zr5zQ+bOmXPPvQnBdMvLKzDXEwBeJ78ltMjxbRSWoUFEaIi+rm5rnRCjvKKqsqq6T3cnAGBo0V1GDLoT91Re+/7j555dOmvRNQFAm6HV3sbqTWo6AJgaG9m2scJs2llbWLNN1RJFtJgInSF59woAgMcVPb5J7tZPyYY6yVMQG4XWVteVDJ8ievlIY+YSzWU7qO4+QNVQt7EIQxthMMXJLwEAuLXC+9fJvZTH9Wge8/gXTqI1dbrSwjyQSgAArSiTVpQBQb2UOOV75/S9hvfOx/lhktr6905OEe9dFrbNS8vmf8xTT1SPQdJlVMbJRItP39UbWV/0zaf0eWHS2sZ/HVSjrSmRQa9VuTOUQ9RlkHQZ1Y9eA4C0mlt65o7O8N6KBryUT5kLtit1FBQ2C3M9AaD8Ypz20HqXqiIOY/s8PngV2358MNZ+ZK+GNic9d+QmZSiW8CprMdcTAAreZSGqTa/uOLb3swOyB+jzA7F2I5WfsB1G95IbPDsQ22HMLwBQmVtcnJ6LeXblWRzO20y5/cCV7gkRV/gVNaqo/w/QuXPnN2/eFBUVAcDFixd79673JYmMjLSxsXF2dv4WiZ8T+/zw4UNeXl5SUpKTk1PD2oSEhFu3bh0+fBjbLSkp8fDwGDVq1MCBA6uqqtLT07lcbllZWW5uLua5h4aGYjmwKIpGR0e/ePFi8eLFfn5+Pj4+3bp1c3eXDYFdunTp+fPnUVFR69atu3btmoODg7Oz86ZNmxRzN1EUxZ6F4eHhWImXl9eECRMAgMPhhIWFYUJSqTQ/P5/JZGZmZoaEhIwcObJ79+7Nttq4Z/uega4AUPGpgGlhWJkpe90UVnIpDV6nKFo0YRUX267M4jDYBoq1dBM9piUrP0HmIWmZ6g+OWKjT1qQsLefajEZiw3S2YW1WkXy3JrPIZICDQq1RzWeOQi2HzjYAAG07tkEP25crjmqa11M3Hdq10xIXpq3Zx+N3U7afa7rV7Xp0mBDgBgCFnwoM2EacTFn4hFtVS2N89SXSaXD3t4+TRV9iSE6Du4/1m2Tajv3g5K2LO083rSiHaGosVoh0inPzNXr3qGdBIRvu3Ua2NJeUVxQvXNZai1hQzI2E2XVRImFWIcO5a6OWhp7ji8JbOIalLMo2EiiICjILtQc0/1KUv+2k/qQBvPfZCIVEMTXI36HqZ9u3b8+1awMAID39s5UV++NHWTddUVHJZCqPaTg6dqLRNNzd5/F4/EWLPHfsWO/tHaSiUEPddWuDACA945OVFTtDQZfBUNZ1crSnaWi4uXnxePzFi7127gjx8g6U1zIYWsOGDhjv0lRaubogSOsvAZ1XWGRuYizfZZsaxz//R77b3sb6wImYsopKPR3tgqLix8//sbezBYANQQsv37o/YeSQzzl5dLrm4F/VcxcQfWOpQqRTWpRPsq9375D7DZNmf5RmZxDZbeSFBIu2QKHw9oeAUEAZ6qoxdQH/SJhaugRDYymn7p6VFuaTutTzGygDRkg+p0s+pxMt2zY8nNy9jzj5JaiZEEVhGykGHflZhdq/NX/v5G07pT9pAO99FkIhU0wN8ndEqyVKNTcSZNUT1VHhhpVjtsg1P1w5cKgKFDZLsbGCrELmV3onRYTZhbJ4J4mo5zqAYqynopxlj/aDAyYBQMmnQl22YemXpx6/qpb69f6/UahaNNvfHE/M2f41A/Me7fsHuAJA2ecCHbZheZ1WI09YKoMm+PKELc/iaJsbAMCnB8lECtmsW7uyz4UdRvW6slj2cuswuX/h2yxOSqaRHVuta/5+fO9f2iQSiWvXrvX39wcAFou1YcMGeVViYuKhQ4c6dOhw+vRpAPjtt99aNgHm53ifR44ciYyMDA8Pj4yMVBx043K5hw8fTklJCQ8Pl5cbGBicOCFLbXFxcUlOTqbRaLq6ur179zY3N3/69CnW40skEh8fH2dn59DQUARBevToERsb261bNyyECQD6+vo7d+5EEGTDhg1Hjhzp2bNn165dAYBOpwNAWFhYXFycWCwuKyubMGECkUgkEAj29vadOnXCDre0tAwKCqLT6SiKSqVSMzMzLy8vKysrxbBr0xQ+f3958iZse9LtLYpVqLSB31O/QNGAwqD12zjz4dJDcm+pJr/04vj1gCDtxvUeEOZ126dB1mADv6q+YoNaFCUzaB39xz9fFNmwIfm3XuXfekWkUR1WTrGZOTjj2J2GNnLSX6RudVuLbW+4UW9kStqw1QAAYG5n2Xu888HFdWNMSXcSk+4kUmhU16XTBkwfdv/vm00oKjZDuURaP2FIKCr29gcAas9u+ptXF3s3krHQEhrRbaSlRr5TquNe8dMyG1a1SLRBwVc+XkUYve3F5dWSqlogEABFGX0dquOTVVGLj38+dOgUbDsx8ZZiVcM/q66udmjofh6PDwC7d//57l3zA2dN6A4ZOgnbfvWy3hdPiipng+nqaoeGRWC6u3YdTE2ty6sjk8n7I7YGBa3j8RqPLf17aOjQIgqxPQszk8WeHss37RQKRabGRt0dO5HJJAB4kPDCxtqSQiFbs83+efMuLf2TXbs2yidqioZ9Qt3HS7CwIZi3EZzer3xhmgzhtWgQCgBAeOus1pZjoDZN3bNE63ZEy7a8o42n+hAt2lB+HVK7Z6P6ms11FI3x5d7hAoGAoiijX+fqx2++RVSVGxaDamVMNTWofvZODbkmdFV4685ctMN0+QwjbxdUKKq49oRqrWooPevF+7/cZH+RhTf+qKercnsBgEgmjtvy+7UNJ0T8r75a5L54f8pN9oSde7P+E7aRVtfflaIAoG1uwDTV+/wwWSwQcd5ldRjTO+nUPZa9lZGdxZ2Qv1W/2h/AD/itI0dHx5MnT8p3a2pqDh48uGTJku7duycmqp130ZCf4H0mJCRIpdI+ffoUFRWFhYUtXVo3sWPfvn22trZubm4NU0IxRowYwePxoqOjb9y4IRQKO3Xq5OPjg81DIhKJERERcp+VxWLNmTMHFKKY/frJRo4QBMGqJk6cCAB79uwBgICAgICAACW5yspKeTBj/vz5DWfHr1ixomUfQk1eqbYVqzQ1GwAo2poinkDJQMQTUJiaWPhT25JVky+bmEJhajpvnftk/d+1BWXKJ0XR9ItPeq10ayjHzSvVsjKS72pZGXHz6xKzuLmllhP7KtSySl58MB7gqGmi1/ewPwAQNSjaduz+J5c+8doj/jISJOEJPkc96LxictPepyKl+SUsK+Oc1CwA0GTShdxGHvzsDpYj57kcCtgrESvPBRHyBI/O3J0YNE1F71NSWEQyr+slSeamEk7j05UEz18S/DwJOtrSikoV29IEwvxiqqWJfJdiaSwqUNY1nO8qLi4vj7n77XIy0bxiqmVdhIxqZSzMb342GHv9728H+gIASKVlF+I63dsr21WHnJy8tm2t3rxJBQAdHe3aWq6SQUFBEYlU19W01iyf7Jw8m7ZWyV90ubU8JYP8Ag6JWKcrn6xAoVAi92/buesgduy/HBOWYY5C3mpOfqGxUb2xiH69uvbrJQtfzfBdMdvNhcvlHY+5cjpyOwBQKORRg53nLQ05GbFVdVG0tIhgWPcdJhiZomV132Fy70FEc2vNxZsBANE1QMgUhKnD/3svWlkKCtEEVAUfTglpCYfAqrtnCcam0tK6QRtK/yFEC2utVdsAgKBnABQqoq3DO7QLAIiWbTXGu9eGbwH1v13CvBKqJUu+q2FpLMxvPm/VImRuygA/ANm9Y39/j2xXNQR5JRpWdTeshqVKNyyG2SLXvH0tCXwCgCivmGqh0FFYGotU0BUXV2QHyJK59aYM5r1VI+FKTmV+qb4VqzA1GwA0vtL/NwqRQhq/xTP+z1jsWFWoyi/VtWIVybQ0RdwGT1iugMrUxMKfupasqoIyAPht6ZSE/VfEAhEA5L1M7+U1Kvtpqr1LX0M79pRjSwFAy1iXrEGhGzBvrj6q4pX8z6ClpbVkSSsFaADgx+d9cjicP//8c926dQAwfvx4Op2ellY3p2zp0qUmJiZRUVGKh/j51bully5dSiaTQ0JCwsLC7Ozs/P39a2trsSoikYilcioyenRdNphYLJ4xY4Zi7dSpUxXd34SEBCxbdNq0adOnT4+JiVH0g0Ui0fbt26dPn46dxN/fv4mk3abJuJTg6D0S23byHvXx6jMlg49XnjrNk+XPOc4blXE5AQA0dLV+C/V8uimqWmHCEFGDLN+2df217H0j608JSqsFZTWs/vYAQGbQ2rj/lnOlTrHs9SctS5a2HRsAaCZ6JgMdC++9zrn89O7Y9XFTt8VN3fbML7IyNTtu2jZxLZ9Ik01wQ0hEm9lDip+9V73Vzy4/Hu45Dtse7jXueaxyyry1Q9sR3uP/WhouUpi3QdGQKRJJxIEeIz68UNVjkFZUSiurqD27AQBCp9PHjuDefVhXTSbDlxQias9ugCDSyqpGz6MukrIqcXmVVj8nACAwNPUmD6m4Fq9owPKfKi4pLzt96ysnaAnisipJeTXzV0cAIDI0DdwGl19VYUYCAdEZLsu+YvRzQMgtSYI8c+ayv783tu3v73Xu3FUlg4sXry9btgB7kfP2nnH/frzyKVrEmehL/v7zsO0l/t5nz15pTNcX0503b+a9+48BgEbT+OvQjj17D718+bpVLuN7o6ejrc1kPElMAoDqmtrz1+4Mc1ZOmAYAFEWPx1zW19UxN2ERiAROcUnSW1nXeuvhExpNvRRMtKYSrakiduwKAEDTJPcbLkqsm0guiD7ADV3K3bWSu2ul8NZZ0dO7/L/3AoDo5WPqKHcsWkseMFaS+s9XTv913apKtKaK5NANAECTThk4UpRQd8/yjkXUhATUbFpas2kp/8oZYdxtmevZtj11nFttxDZ1x9wxxGVV4nr3zqCyqyp8RRXuHeavat874rIqUXm1dn+ZqKH7oLIrKk0horKNNNuZVz5Q+7OV64orqhm/OgIAgaGpP2VIRawa96OGnaWR57jSqNstkE6+/KSfp+yh1s9rVEqs8lOvUcgalImh854cvp6XrIbL++5yQi8v2RO2p/eotAZaqVef9vKWXUwv71GplxMAgF/NtZ/YD/sCM4z1TBysxQLh3Q0no6ZuiZ65LXrmtud/Xku5EP9vcD2lKPKN/352C3547NPIyGjPnj00miwJY8GCBc0eopjuiqJoYWGhfO75kCFDHj16lJaWJk+7dHZ2VsqEled9AgCJRDp+/LhirVgsnj17NrZdXV29devW48ePYz4liqI7d+48ffo0Ng0fAM6cOaOjo/P337IIfEZGRmBgIJb6oC7pF+K1rVnjzwejKFr2PidxnXJUPykytk/wtHHn1iAEJC/+XfqFJwAwcNc8BttwwA7Zk/7T9RcpR26xf3Ps6jtWzBUgBELZ+9w7Cxoflnq++EC3rXM6+rsQSMS3Oy4oLZOUMH9flw0zCGQiQiQkBv0lrv+miEqkUrEsjNFx0TjWr/YSvpBAIuXdfJkWoexqNEHCxTiWtcnKs5tQFM19nx0VclixlkgiBv69Nj8jN+DYaqzkwo7oD8/fjV7o2rFfZxFfSCSR/rn9/PoBNVa7KFu/TXfFYubc6QiJVHXohKSgLuGJ0t5GN8hXyhcAKpWUlJUsWV1vMEYqbUEQRU5O4C7zTQuMfKcgZFLRntOi3Lr4jfaofvqzxvBTP+tOHAQAUp4gc/Z6eS0qlkKDoK+KfF6yx3LLfJNFkxEysWBXtFBBVOH8ElShXRkzN7LXzjH2Ho9KUSlPkDF7cwt0o6Iu2NhY379/HkXRlJS0wMD1SgZ//XXKyor94MEFoVD44cOnpUtDFGvFYknLoqGnos7b2Fg/uH8BRdGUt2kBAeuUDA4dOmllxY57eEkgEH5I/xgUtB4Atm5d07NX1+3bZNkgT58mrglWIyjYLEQSkdR6M5kwNi33C9mx/8DxM2KxZP6MKWYmdYE6FEU9A9dJJBKBQNils92WVYsBQINK3btp1a4/T4hEIrFEYqivu2XlInVFeYe3a3gsQsZMAyJJcOVvtJTTuJ1Egkplfz5RXCzB0FhzxW4Qi6SFOfzoRvJ2mqU2/A9NzyUaE2cgJBL/7HFpcWHjdhKJ7A4lErXWhEnzsrCYKADwow+LU1VKIJHz2X+v1R/zTBdPQsik/F1nhLmNDJKgEgmI66K56TM2sdfNNp43DqSolCdIn7Wl4SFN83Hx3jZbvc0WuyIkUt7OGEGjomIJWr9DMF3g0uLAJ0b2kt3sLfON/aYgJGLhbpU6CpbPREY/R4RCklRzs3zDRIUtWdPg9cV4fWtjz7NrAYXC9znXQo43aqb4uAGA4aumsbvYjFwjW+08+2X67e3Np9i+vRCvZ8XyOBeMomhxWk7DcfNnB2IHrZk2PWYNQkSy4t+lXHwCAHc3nBy4yn3mxXUinpBIId5cc6wqr15LpRKptPUWaPt/DtLiCaety8yZM7GVTjMyMnx8fFgslmKtj4+P3AddsGDBgAEDhg0bRiKRnj9/HhERcfjwYSx3s1Hc3d2VgqmKYN4nllcqFAqnTZu2aNEiJycnCoWSmZm5d+9eV1dXuTt7586dW7duLV682MjIqKam5vbt248ePcIG7psmkj29WRsAAARx/mPOo9VHsUnl34iuuJm/rF6Xtvpd2qYfbs0I3A2q2ll0CILM3Ox9IvgQNrG9BYQYVqhuTOlkR+lkV3PmYvOmzVFerKm6Mc3JVtPRtvSYGs56owjFang29C7t6E62RUdiv1EUAPqVvFLLHkGQ8PA/Fi1a3ehqHSrSMJVTFd2I8K1+i1a1WLc2T+3VIlsHkfLgYBMkv/vwJu3DtAnK0/zVhbdajcFiorUdwbq96N63LnYoqVLvT0O06UCysRPc+CaXCwAynqixHAG9Szu6U7uiI9e+UVSiTpBJq0s7epd2nMPfKgoAVJIaDxFNJ1tNp3YlR7+1ozhHUG9NWQBAEGTc5rlXgo9IWvrUo6MqD+EiyIgtc26uaZ0n7Iqsn5kJ+tR0wjee4Zf8861yJS3m3+J9qk5tbe2pU6eSkpLEYrGdnd306dMNDQ2bsP/jjz+WL1/+tVqpVLp7925sYhcAFBcXR0dHv3v3TigUstnscePGKc3Kv3fv3o0bN0pKSuh0eo8ePdzc3FRZalVV77NVadb7/B60wPv8dtTyPlsRtbzP1kIt77MVUdf7bBVa4H1+O/8J77O1UMv7bC3U9T5bC7W8z9ZCLe+zFVHL+2wtWuB9fjtqeJ+tys/1Pp+YTPzGM/QpaGa9mu/Nf+933ul0uqenp+r2TbieAEAgEOSuJwAYGhouXLiwCfuBAwcOHDhQdXUcHBwcHBwcHBxF/nveJw4ODg4ODg7O/1t+wIpL35uf9ltHODg4ODg4ODg4/w/BY584ODg4ODg4OP8ZfkJGfGuDxz5xcHBwcHBwcHB+HHjsEwcHBwcHBwfnPwMK//m8T9z7/BEgP2NVq58S1hb/jAW8SNSfMwpBJv8/Wnb4pyx+JP0p68H9jJWPAADI1J8gSvoJ/YSU+3OW+eNLfs5qZT8FLVJLfvbpGyFI//Mu0X8F6X9sqcxGwEfecXBwcHBwcHBwfhx47BMHBwcHBwcH5z+D9L8/8o7HPnFwcHBwcHBwcH4ceOwTBwcHBwcHB+c/Az7rCAcHBwcHBwcH58eBr/eJg4ODg4ODg4ODowZ47BMHBwcHBwcH5z/D/8DIOx77xMHBwcHBwcHB+XG0vveZmZn5+++/T506dfbs2enp6VjhzJkzmzhEsfb8+fOXLl1SS7HpkyudEEVR9MsS1l5eXgAQEhJSUFDQ6LESiWTOnDlNnHz58uWFhYVqXS0ODg5OK5JXwHH7fdGBo1E/+0JwcHB+ENJv/vfTaf2R95CQkDVr1lhbWxcUFPj7+58+fRoAhELZ7y6cOnXq+vXr2HZOTs7du3eJRKK8FgAkkqZ+PyYmJuby5csAgKJoTU3NxYsXFU/O4XACAwOx7czMzP3799vb2yudMC4u7sOHD56envIDxWIxZhMVFXXt2jXMrKqqavr06S4uLiKRSH61K1eulAvt2bPHzs5OLBaLxeIWfEo9l002d+4MKFqamv1o5VGpsN5JCBRSv40z9TtaIkRC3qM3zzZHy6s6/z68R5Dr4fa/y0tGn15B0qRKBCIA4BVX3vHZ16gizUy/+/a5ZCadQCG+j4jNuZigWKvdgd1l8ywCiYiQCG82RRc9fiuvQkjEvscCCCRi3JQtAAAEpFPgROPfHCQCEYFETN58uiQhTfWGT954LtQAACAASURBVAqa1tnZCUXRnNTMo6sPius3vNfovgOnD0UAoWpqXNl/PvH6U8XaQR7DJy+dtmLo4rKCUhXlCCwj7aUBBC0thESqiYrm37lXr9WrlhNNjAEFhEqpPR3Dv3cfADQGDqC7uqASKULTEL19VxUeCUK1fzWEZGJostGXyNRCyKTSQ+eqrj5UuCaC8XofalsLAJDyBQUrdok5Cs0hEdmRaxESMXvWKnVFyaaG5lsWEJh0AplcfPB8xeU4RVGzjfOpbc0RBJHyBTlBu8WcMqyGqMtk7/AXc8pyl+9VV1HOhpBlQ4Y4oyianJzq67dS2OATc3KyX71qsaGhAZ8vuHX7QVjYfgsLs9Dt6/T0dGk0jX+S3ixatLrpe79RNm5Y/kX33ULfRnS7ONmvXu1vZGjA5wtu3rofGrZfXjVq5OBjR/eMGz8z/skL1RULOMXrQiOqa2pFYvFst/EjB/VXrL3z6OnxM5eIRCKBgPjNne7YqT0A5BZwNu0+yOXyeHyBtYXZ6sXeDC26ui39Gpziko2h+4b81pcvaOXftkF0DWkei4FGR0gkwa2z4hcPGrWhB2wXPrkpvBYFALS5yxFtPVkVQ0f85png/F/q6hIMjei+gQhdCyGReedPCx/eVayl+68gGpsAigKFwr9wRvjoPgAQDAw1vf0IWgwAECUl8qL/VleUamZgs92bpE0nkEm5EZeKL8YrGdA7WdkdXJK9I6b43COsxMi1v+UyN35OMbb7Kfhobcrnf78oAJBNDU03LSQy6QiZVPLn+cor9ToK05D5VBs2IIiUJ8hbthvrnfRmjNYe0RcAEAq58I8j3Bdvv3byphkcNNmmvwOKooWp2VfXHJEIlZ+eZA3K6I2zmSzdYx5/KJZ3Htt79MbZ4cOWVxWUqajlHDTZ2rkzoGhRavbN1UeVtIgU0tCQmayOlgiR8PnRmwd/RAMAQkB+9Z9o3b+zWCAikon3/4jOeZaGEJBhG2fr25giCCLiCWKD/qzhlLes+a3Iv8F9/EZa3/vk8/nW1tYAYGJioqurW1FRoaOjI6+dOnXq1KlTAUAoFM6ePZtIVO+nzyZNmjRp0iQAuH37dkpKilIti8U6ceIEANTU1Hh7e7dv377hGV6+fNm2bdtGT+7u7u7u7l5WVqanp/fkyZPU1FTFWjabjZ0cAHbv3l1eLvv+HThwoF27djNmzFC9FTbje2uZ6Z8fuQYAeiyd5DR/9KvdFxUNHL1G8kqqLowOBoCBe+a3m9g3/Vw8APQIcq3OLeGXVSsaI0TCHZ99NbklTYt2D/N8H3G1KC6FxKANuLCm7FVGbXaxvLbnPp9nCyKq0nJoJnrOMStvD10l4cp+b7DzyilZZ+LazBiE7baZPlDLinV31FpAUe2OFv1OBMV281Wx4b3H/apvZhA8OggAXIOmjprncmlPjKLB5zcft05bL5VItY10Q65sS7qbKHdP23axNbJgZb39TCCqEbDXWRZYcypamPgSodP1w3eL3qVK8uvi3FU7dqE8PgAgTKbBoUhBQgLK4wueJGBuKAAwAxZrjhjGvXRFdUUMk82Lyg6dq43/h6ClaXlqG+/1e1HOlxi5VFp25KLwUy4A6LiNMPSfUbB8p/xAo4BZlRfu6LiPVFcRAMz/8C0+eL7mcRKBodn2zB/cf94Lczhy0ZK/Lgk+5gKA3tThxoEeuUG7AQChUix2B1Rei9fs3rEFihhuU8az2Wa/9B4JACHrlwYGzN+8ZbeigYWF2YYNy729A/Pz6wYKqqtrF/quKCoqAYBjR/dOdXc58fdZ9XTdxrPZpr1+GQEAG0KWBQX6bNq8S0l344blnvV1Mdq0sZwwYdTlK7dIJPX6wODt+2a7ufTp7lRdUztz0arOHWzZpsZYVXZuwcETMYd3btCia1ZW1wSs3bZ/6xoymRwUEjp/5pT+v3QHgND9Rw+dOu/v5aGWaBOwDA0iQkMuXbuTV8hp3lodaDP8BbfOSlJfgYYmPTBM8jkNLan/MZLIGpO8hA8uIxqaWAHvrzqPgTZ3uehlHKgP3W8p/9xpUVIioklnbt0jfv9OWlh3z9bu3wV8HgAgDKb2roPCF0+Bz9NaspIbdUz8JgkANGd6knv0Fr1I+KpAY7QLm58bcakiLpnI0HS4GFL9Kp2fXVR3SZ2t2QvHl91KREgKDywigRP9IDv0TAva+BNFAcBsi2/xn+drHycRGJrWp7dyk96LFDuKw5ew3knXfTgrYHre0t0AUPM4qez4VQCgtrOwOLA6faBXC3Q7j+2jbaofOWY1AAwKnNTPe/TDvReVbFz3Lnxz6UmP6YMUC7tPG6RloM1JzVa98+84rjfTTP/o6DUA0D9o0i/zRsfvqafV03NkbWnV0bHBADBm13x7l74pF+Kdpg7UtWQdG78OUNSog8WkI4Hhv/ihUvT5X9fLPhYAgNPUgc6Bk2KDDrag+ThKtP7IO41Gy8/PB4CysrLy8nJF11ORmJiYwYMHN1rVbAjkzZs3W7du9fLy+v333z08PD58+KBYy+fzfX193dzcTp065eHhcejQIXkVh8OJj4+/ceMGJiGRSDw8PO7dqxcPW7RoEQBkZGTY2toCQGpqqoeHx507dz58+DB06FAPDw8PD4/k5GRLS0vM3tvbWy3XEwBsxvVO2h+Lbb8+ENtmdE8lg7Zje72OlBkk7Y9tO+YXbPvF9rNpUcoRCFQq7bdx5rgLwcOPBRp1adyxpuhpUXW1iuJSAEBczft8+qHZyB7yWh0Hq9osTlVaDgDwCsoK7iYZD3DEqiwm9KnJ5JS+zJAbc3NLqj7kAYoCQE0mpyIlU/WG9x7b79oBWRbEtQOXeo7srWRQlFUolUgBoLKovLK4AkFk30+mvvbwuWPObFUvpIFoMwna2sLElwCA1tZyY69rOP+qaIC5ngBAsrSQcIpQvgAAUL6skKCnS9TXE2V8VEsUAIi6TKIOozb+HwCQ1nArzt1mDO2jaIB17gDAf5sBhLp7kDn2N2FOAS9JjVhyPVFdRs3jJACQVnPLztxmDq8nirmeAMBL+Yh8EUUFws8z1goy81ugKGfKlHE7dshiijt2Hpg4cbSSQUDA/PPnY/fv33bv7rkdO0LodE0AKC+vwFxPAHid/Jag5osoALhNGR+2IxLbDtsROXHiKCWDwACfc+djD+zf9uDe+Z1fdAFAQ0Nj86aV/kuCUTV/R768oqqyqrpPdycAYGjRXUYMuhNXF55///Fzzy6dteiaAKDN0GpvY/UmNR0ATI2NbNtYYTbtrC2s2abqtrRpEKT15x8gdCZCZ0pSXwEA8LmiJzfJXfop2VAn/i64Ho3WVjc8nMAyB5qmNCtdbV2mNoHJFCUlAgDKrRXcvkbpUy+6jLmeAEA0t5AWc0DABwACywRzPQFA8OAupbfypTYNSY9B0tWqiEsGAEk1lxN1T3/UL4oGtW8+p3nvlNTy6x0mRfWH97A/E+xweaOZt/J3/t8pCrLeiVn7paOoiLnNHPa13ukjEIhKhYKPuahA1AJdAHAY2/vxQdlzLf5gbKeRvRraRHnuyE3KUCpMPHn3we7zat2tHcf2fnZApvX8QKzdSOWHbIfRveQGzw7EdhjzCwBU5hYXp+diT7fyLA7nrezphrmeAMBJyUSI/4rpPigg3/jvZ7fgO8Q+V61aFRwcjCCIWCxes2ZNozYJCQm3bt06fPgwtltSUuLh4TFq1Cg3NzcHB4ctW7Zgw+tyJk6cOH78eABAUTQ6OvrFixeLFy/28/Pz8fHp1q2bu7u73PL9+/fbt2/38PA4deqUs7PzX3/9JU/6zMnJCQ4O3rx5M4fDWb16dXBwMJFIPHr0aHBwcMMrdHd3J5FIEomkQ4cOWMjz2bNnI0aM8Pf3xwwqKyuLiooAYO/evba2tnPnzm36YzHu2b5HkCsAVH4qYLANqzJl75rCSi5Fi6ZkTNaiCau42HZVFodhbtDEma95bMcG7vU7Wgw5uOji2HVKwVEAoLMNa7Lq3qprM4uMBzgo1BrVfK4LnNRkcuhsAwBg2rH1e9j+s+KopsIFFN57TaCQ9Lu3q/5cyB7d69nCiKYbbtujg2uAOwAUfs43ZLM4mbLbmFtVS9PS/NpRXQb3SHn0WiQQAgBCIExbO/vvkMMSsXojsyRjY3F+nV8lycuj9qrfB1HIeju2k9hsaUVF2ZIg+NK7ac2eoTFwANHIsHJbmOjtO7VEAYBsxqqLdAKIsgvov3Zr1FJvzoTSSFlaBdXWSrNrx8J1EWQzI3UVAYBibiTMrhMVZhUynLs2amnoOb4oPKbRKtXp27fnurVBAJCe8cnKip3xUdZNV1RUMhhaSsZOjvY0DQ03Ny8ej794sdfOHSFe3oHyWgZDa9jQAeNdmsreltOvb8/164IA4EP6JysrdkbGZ7kuk8FQMu7iZE+jaUx28+Lx+P6LvXft3ODpFQAAodvXbti4o6qqEbepafIKi8xNjOW7bFPj+Of/yHfb21gfOBFTVlGpp6NdUFT8+Pk/9na2ALAhaOHlW/cnjBzyOSePTtcc/OsvjZz6XwZiwJKW1EUcpcUFpE7dFQ3IfYZKcz5KczKI5tYND6eMdBfebEl8jmBkLFGIdEoK8ind6t+zZApzYyjRzFxaWVm1OgC7ZyWFebJ4J5FIHTyMoG+olqgG20gx6MjP4ugOcGr2qOILj4vOxgGKErVotnt9xdU8zqm7zR71c0UBgGxuJFTonYTZBVr9G++d9Oe6FO9X/iPqeYwqPXFVdTnLHu0HBrgCQOmnQh22YdmXBx+/iktlKD/4vhHzHu37B7gCQNnnAh22YbmCVsOHLJVBE3x5yJZncbTNDQDg04NkIoVs1q1d2efCDqN6XVm8X+monp4jnoRfBpzWoPW9zzZt2hw6dAhFUcU38qCgIGyDy+UePnw4JSUlPDxcPuxuYGAgH9Ru37790aNHGz2zRCLx8fFxdnYODQ1FEKRHjx6xsbHdunXT05NlGh0/fvzDhw9btmwxNDR0dnY+ffo0h8Oh0WiYUG1t7datW42MjNq3b6+pqfn27dv+/fsDAJVKJZFI//zzz7p16wAgLy/PxcWFQCAQCIQBAwbI1Q0NDW/fvp2cnIyiqEQi0dbWHjFiBAD4+vqam5s3+7EUPn9/ZdImbNv1zhbFKlTa4JWufkHT73zynNHSd9m5D5JZ3dtl3XqlfL4GZ6gv2qAWRUkMWkf/8c8XRSpVaZobaJrqFz5IlvJFFW+zLMb3/nTiHnydDy9SN7vJ/PvNN3cqVqFo47krbDvLvi799y+SjaJODHC7e+JmZZHaqTaNfGpKH7VQVLZwMQBQunfTWRdc5rsYK645crzmyHGCvp7O2tXirGyxuuHPhn+vxlpqsMC99vErwftMACBoaRoscM9fGqaeUNOiDb9XAEa+U6rjXvHT1IhYN0p8/PMhQydh269e3qkvq9xYXV3t0LAIHo8PALt2HUxNfSyvIpPJ+yO2BgWt4/H4oAKP458PGiLT/edVfV2psq6Orvb2UJnuzl0H3qfGA8A875lxjxLevn2vipwSDYOMCKGuyMLMZLGnx/JNO4VCkamxUXfHTmQyCQAeJLywsbakUMjWbLN/3rxLS/9k165NC9R/KA17DIU/K4FtQzBvIzij3DlgIIamBF1DSbpyZpSKwg1065eIhFXL/ACA7NSdsWxt1fJFAFATuklzlhdtohsqEgnjHxJNm++QlTSUCxq7d5RtvrwMS2p4ObvPsf0mqOcI/hTRxnShwY0DAIYL3WoevRLU7yjofR012lnkrw5XXS3rxfsjbrIH34Ib9VI5VWmvWuS+eH/qi9bcm/Ufso18n+vvSlEA0DY3YJrqfX6YLBaIOO+yOozpnXSq7unW12/8p7g3xWk5rXvZLUP682OX38p3We/z4cOHR44cUSyxt7fv2rUrAOzbt8/W1tbNzU1LSzlAAgB+fn7yfMrq6moKhUKlUrHdjh07rlixIiIiQu6zslgsbEJ6eLjsZpg2bZq8lkgkTps2DQDYbDZWYmdnJxfq3r27/P9Vq1YBgLGxcaNz7ceMGYNttGnTRj4nSY6tra2RkdqRqpq8UqYVqyw1GwAo2poinkDJQMQTUJiaWPiTacmqyVc1zxoIiKiG17CYm1eqZVV3nXQrI25+3UwXbm6p5cS+8l0tK1bpiw/GAxxpJnp9D/sDAFGDom3H7ndy6VOvPZ1XTknbd0XKFwFAaWJ6e59RRU9Saz42vmiAEqX5JSwrk+zUTADQZNIFXOWGA4BFB6tR88cfWLIXi3QSyaQuA7tb28syCtgdLL3D/G4cvvry5rNm5aQcDsm0bpSTaGYmKSpq1FKY+JLg403Q0ZZWVNYdXlrGfxRP7dFdXe9TVFBEsTCR75ItTEQFylm5+l6TxMVlleduY7v0/t1JxvrmEasBANGgathasQ+F5C3aIq1t5K/ZeBPyi6mWdaIUS2NRQbGSjeF8V3FxeXmMmo+r5sjOybNpa5X8JhUAdHS0uQ2uOb+AQyLWdTVYcgUAUCiUyP3bdu46iB2rLjnZ+TY21snJ7zDdWi5XyaAgn0NSyJmTSKUAMHnSGB6PP9NjMgDY29t17NDuyNHog3+eUEXRhGWYo5BCmpNfaGxUb1yiX6+u/XrJQs4zfFfMdnPhcnnHY66cjtwOABQKedRg53lLQ05GbG1Be38kaFkxwbDu60QwNEHL675O5F8GEs2sNP02AQCio4+QqQhDhx8lm+9IHekuaFHgEwCkRRyiscI9a2IqLW78nhUlJWrOmYcwtdGqSrS8rHanzLOhDh0p/qjeiL8gr4RmyZLvaliyBPnNpNErgSAESWMd779NFABE+cUUi7r4PaWx3slgnqu4uLzibL23O3pfR+bwvvlrmhnsaoLK/BI9KxYnNRsANJiaosb6/9aiKr9U14pV9HUtEVdAZWpi4U9dSxY2mem3pVMS9l8RC0QAkPcyvZfXqOynqWWfCgDgl/ljaooq3sS0JJUZp1G+i/fp7Ozs7OysWOLm5oZtLF269NmzZ1FRUb6+dVNV/Pz8sI09e/bICyMiIpycnPr0qZeSQiQSHz58qJjKCQDl5eVXr17FasVi8Zw5cxRfdIqLi9euXdu7tyzFMDIyMj6+3tTC/Pz8CxcuMJlM7FShoaGZmbIXPjMzs4CAAEXju3fvnjhxAlu2CUEQNze3du3aqfzByPh4KcFx3sj7iyIBwNF71Kcryo7Ux8tPHeeNerEtBgCc5o/6eLmpDHqSBkXMFwKAXgcLI8c2T0NONbQRllYLy2qM+ttjs46s3X+Ln1kXZit//YluyWLasbFZRyYDHVO2xki4gtzLspw2TXODHru9H0/bBgCiap7lpF+TQ04BitJM9HQd2khVTgNKuPxohNfYA/57AGCk97hnsU+UDKwdbIbPHX0oKFz05ZwSkXjViCVyg5WnQw4G7i3JVfarGkVaUSmtqqJ074bNOtIcNaJ8ucJEcjIZJBLsvZ/SvRsgiLSyCgCASgWBAAAQJpM2eGDVPuXBl2aRlFWJK6rpfbtgs450XIfmzluvaGDgN02UVyR3PQGg+lpc9TVZv0Y2MzLZuiTn90YSQpoRLa/S6ueEzTrSmzwk03OjogHLf6owl9PqricAnIm+5O8/b/acRQCwxN/77FnlSVoXL15ftsx31mw/FEXnzZt57/5jAKDRNA4eCA3bEZmU1LIgGZw+c3GJ/7xZs/0AIGDJvLNnlQcEL1y8tnyZ78xZfiiKzp838969xwAwcLCr3OCvQzuPHz/zME7VGSp6OtraTMaTxCRs1tH5a3f2bVrZ0AxF0RNnr+jr6pibsPgCAae4JOltmlMnOwC49fAJjabRsvY2AZFEJKmfONsEaE0lWlNN7NAVm3VE7juMG7FOXiuIqZt1Qe49hKDPElyV5WQj+iyiiQX/bWILdasqpdVVZKfu2Kwj6tBR1SEKnzCJDFLZPUt26g4IoNVViocTrdpojJ9cvSZILVFRaZWovFqnvwM2Ach46qC3M/9o9igCjSLlCQGAoEll+0/MP3z93y8KAJKyKklFNb2fEzbrSHfykCzPDYoGRounCnOLlFxPxsAeWs7dCoL3NxI6VZnkywl9PUedX7IfAPp6jUqJfdrsIS3m3eWEXl4jr/hHAkBP71FpscoP2dSrT3t5j4rbHgMAvbxHpV5OAAB+Ndd+Yr97m6IARRnGeiYO1mKBEAB+9Z9QkVvyr3I9pf+CxM1v5Lt4n8+ePdu6dSvmz2FgM3i+htw1VIWGrq1i3ieJRDp+/LhibUxMjOJynvPmzZs3b56iQWBgYFVVFXa1ISEhrq6uffvKAoFpaWn+/v6nTsn8uerq6oMHDx49epRGowGAQCDw9va2sbFR1wFNPx+vbc0adyEYRdGytJwn65Qn07yOjO0TPG3suTUIEcl7/C79fD0vTWnliP7b5mqZGUglEmEV987CcMwTbcjzxQe6bZ3T0d+FQCK+23GBW3+O/NP5+7psmEEgExEiITHoL0n9N0VUIkXFsnjV63V/O6yZOih2vZgnIJBJr1Ye5TY33V7OkwtxxlYma85tRlE0Ny3r75DDirVEEnHZ32vzP+YGHZOlC5/bcfr983pplxKJRCJWY62Jik1btYP8tWZ5ICRSzdHjEoV5wWRbG6b/IpTPBxSVlpaWLVuJdax6mzcgNBoqFgFAzfG/RW9a4hsVLNthHLLQYIE7kIgl4adEeXXxG8aIX/VmjOWnfdZ2GQQAKE+Q47lW8VhUIgE1M1wxcgJ3mW9aYOQ7BSGTivacFuXWiWqP6qc/aww/9bPuxEEAIOUJMmfXOcSoWNoyRYxTUedtbKwf3L+AomjK27SAgHVKBocOnbSyYsc9vCQQCD+kfwwKWg8AW7eu6dmr6/ZtsrY/fZq4Jli9iOCpU+fb2VjHPbiIouiblLQlAWuVDP48dNLayuJx3GWBQPD+w8fAoPVKBi1YMW3Tcr+QHfsPHD8jFkvmz5hiZlIXvkJR1DNwnUQiEQiEXTrbbVm1GAA0qNS9m1bt+vOESCQSSySG+rpbVi5SS1EVxgwb2Orn5B0L1Zjmh4yaCkSiIPYkWvqVOfVSCSqt+/JQh00R3Ihu3FI1anduoS8IoLnPACKJF3VMWlQXbCa1bUefvwgVCEAqlZaXVa9fgd2zGpOmkp26ISQKyq2p2b5BWqrS26kiHxaF22zzsvB3RcjE7B0xgpxGzoCKJajCbaI/tIep50ipUIwQCAXHblY8eP2fEAWA3KBdphsXGC10Q0ikor2nFXsn5sh++jPH8lM/604YBABSviBrzjoSS5+9bznv9Qfrk5sxs7xVe4Wf1Z6qmHwxXt/a+Peza1EU5bzPuR7S+ICDVCKVNtbJS8VS+bBJs7y9EK9nxfI4F4yiaHFazp0Q5YfsswOxg9ZMmx6zBiEiWfHvUi4+AYC7G04OXOU+8+I6EU9IpBBvrjlWlVdqN6pXt9nDit5ld574KwCI+YIzs0LVaPb3oZWzFn4GiLqzPlXhwoULEonE1dW10dqMjAwfHx8Wi6VY6OPjo+SDRkZGOjo6quKYuru7R0V9daXlmJgYIpE4YcKErxkEBgYuXrwYy90MDQ3V0NCYNGmSvr5+eXn5rVu3Xr16FRYmCxMKhcKpU6euXLmyU6dOAJCWlrZx48Z9+/YptaUhB8ynN9sKQJD+W+c8XnVUKmq5H6CInqSZv6xel7Z6XdpmHL7VKnIYlylqjwQhCDJ7y7xja/6UiFqycioAbGOrkRJK7tiB3MGOe+5Cy7QUqeCokTWv4die5mBbfkLtxZuUEInUCHHRnGw1HW1Lj6kxS+BrdC/4p3kjBRAEiQjf6rdolXzF3BYgVb93QhBkf8RWX7+W6/Ky7jRvpEDyuw9v0j5Mm9CSCcj1IFO/9Qzqw1s1X3VjolV7gnV70f1vnXUhylUpx1cOqX0Hkm0H/pXz36j77qUas5EYXdoxutrk/6V2cPFbaEVRXU01PmSaoy3N0RZbU+lbOCPVVvcQBEHGbJ4bG3xE0tIHHw1VOQqIICO2zLm5pnUesiuy1F5WthW5aDz1G88wvrCRYdIfyXfxPt+/f79t2zbFhZMQBNm9e7diNLQV+eOPP5YvX/612ri4OCKRKA9nNuTIkSPjxo3Dpi6hKHrp0qXHjx+Xl5dra2v37t3bxcVFcUXAnJycU6dOffr0CUXRNm3aTJkyBVvctGlU8j5bm2a9z+9BC7zPb0ct77MVUcv7bC3U8j5bEXW9z1ahBd7nt6Ou99lq/Ou9z9ZCXe+ztVDL+/yvo5b32Vq0wPv8dtTwPluVn+t9nv9m73PC/6T3iaME7n1+V3Dv8weAe5/fHdz7/M7g3uf3Bvc+fxj/A97nd8n7xMHBwcHBwcHB+R5Iv8NvTPxgcO8TBwcHBwcHB+c/w//AmHXr/9ImDg4ODg4ODg4OztfAY584ODg4ODg4OP8Z1Fh38N8KHvvEwcHBwcHBwcH5ceCxzx9BNuknvKjYixtfdv67Yo38hGngnz/+nPzrcinlx4uKf1Kyub2e1Y8XlTT4yfgfAG+1348XBQAg/YRYAG2T2j/l9e1o8Kp/vCgAtJns/+NFieSfE6WqKfkJSyjwuT+hsTXI/0AOpNrgv/OOg4ODg4ODg4Pz4/gf+KVNfOQdBwcHBwcHBwfnx4HHPnFwcHBwcHBw/jP8D2Qb4LFPHBwcHBwcHBycHwce+8TBwcHBwcHB+c/wPzDrCI994uDg4ODg4ODg/Djw2CcODg4ODg4Ozn8GfLX5loOi9bJmZ86c+TXLJqoAYNWqVbm5ufLdo0ePenh4eHh4FBYWYiVz586VSCRyA6lU9lcrKCgIDg4GgPnz53/t5OfPn7906dLXaiUSydy5c5u4NhwcHBwcHByc1gX95n/NkpiY6OrqOmnSJF9f35qaGhWrVOenxT4XL168fPlyExMTbFcoFALAqVOnrl+/jpXk5OTcvXuXSCRiVQBQJbs5aAAAIABJREFUVlY2ceJEc3NzbHfYsGHTp0+XSCSKzuWsWbNmzZqlKCQUChU9XX9//+DgYH19ffmB8vP7+PhUV8uWQS4sLDx37pzimU+ePHnjxg1sWyqVnjx5EkVR+bE4ODg4/3/IK+AErNk8oN8v3rPcf/a14ODgqE1VVVVVVZViCZPJZDKZ2LZUKt28eXNkZKSRkVFMTMyBAwcCAgKarVKLn+Z9lpWVaWlpKRVOnTp16tSpACAUCmfPnk0kEhVruVxut27dQkNDv3bO8+fPX7hwAdv++PHj/fv3qdR6v/cgkUhSU1N1dHQaPTwiIgJF0YqKCl1d3cDAQLFYrFg7bdq0adOmYdtubm7YRnZ29tatW4cOHdqlS5dmm/w1hgRNadffAVC0IDXr8pojEqFYyYCsQRm7cTaTpXfEYwtWoqnHcNvrixAJRBJRLBBd2/h3YWq26ooUMwOb7d4kbTpCJuVFXCq5GK9kQO9k1f7gkpwdMcXnHmElhq79LZa5CXKKsd3PwUdrUz63oLGDgybb9HdAUbQwNfvqVxo7euNsJkv3mMcfWIm2mcGINdM1dbVIVErB28zY4KNSiarDDhQzg7bb55GYdIRCyo+4VHLxsZKBZier9gcCcnbGlJyLkxfSO1ubL5lM1meiAlH5/X/yI74a/1ZEw0y/c6gnWVuTQCZ9iriaf+GJYi2jo0WnzbMIZCJCJKZtiip99BYAaBaG9ptnE7U0iDRq7cf8lGWHxdU8AoVkFzxV28FaKhTz88tSVhyR1PKb0KWZ6Ttu/x3TzYi4mncxQbGW2YHdefMsApmEkAjvNp4uefwWCEjvqOUEMvHL4QYZ+69mHr1DpFE6rZ2m3dkKFUtRiSR55bHqtBxVGg4AC1d49f6tF4qiH95mbFkRJhKKGjVbE7qse58u4/q4AYCJOStgvZ+2LpOqQU1782Hryp2KL3sq4rvCu89vvVBAP7zN2LQ89Gu6a8OWd+/TdUzvyYqF/Yf02bRvrZ9H0D/Pk1WUQ/QMaTP8QVMLIZEEN2LEz+83akNfGiZ8fEN49RRWQrCwoY6djjB0QCQUpyQKb5xRp4kAAIiuIc1jMdDoCIkkuHVW/OJBozb0gO3CJzeF16IAgDZ3OaKtJ6ti6IjfPBOc/0td3a/BKS7ZGLpvyG99+YLWf/0u4JSs33mguoYrEotnTR4zcmA/xdq7j58fP3uVSCQSCIjvbDfHjrZY+dNXb46euVzL45NJpPHDfhs71FktUSLLSGf5EoKWFpDJNSejebfvKdbqrllGNDEBQBEKpSYqhnf3AQDQBv1GdxkDCIJoaFSfiOI/eKRuSwlGRtpBgYiWFkIm1Uad5t+tJ6q9cjnRxARQFCgU7pkY/r16Xzbm0iCKk1PJ1GnqigIAycTQcN1iIpMOZFLF4bM11xS+TgSCYfBCShsLQBCUx+es3iEpKsVqaL846cyeRKDTUJG4+sKt6st3WiA9PGiKbX8HQCE/NevCmsON9v8uG+cwWXqHPDbLCze+O5KT/Anb/hCXfF+1DlnOyCC39v0dAEXzU7PPrvmrUdGJG+dqs3QPKIhSNKnDl0y2dLKRiCVioejPWX+g0n/RMkffPuvo2LFj+/btUyxZuHChr68vtp2SkuLg4GBkZAQA48ePnz59utysiSq1+GneZ0lJCYPB+FptTEzM4MGDVTxVYGBghw4dQkJCJkyYMGHCBABITEw8ceKEkusJANHR0dra2tHR0ZiP+/DhQw8PD0Thpwvz8/P37du3ZcuWyspKPT09ADh48ODFixf//PPPiIiI+Ph4Go0GAJ07d8bsLSwsli1bpkazG+Awto+OqX7EmFUAMCRwcn/vMff3XlCymbJ34etLT3pOr/tAeOU1J+aGivhCADB3bDtu89wDLmtVF7UJm58XcakyLpnI0Ox8MaT6Vbogu0heS+9sbb5wfNmtRIRU5/0jREJR9IOcULUfnIp0HttH21Q/csxqABgUOKmf9+iHey8q2bjuXfjm0pMe0wfJS4Q1vCurD9eWVAHAxF0+DuP7Jp1TtaNXbKn9hQ3Vr9IF2Rx5Lb2ztdkCl7JbLxCF9xyquaHFimkfl0QIC8vUap3DDq9P4VdL4t6QGLTel9aWv8rgZdV9qk7hC5J89lWn5miY6PU6t/rx4BUSrqDLAb/00HPFd5MAwC54alu/ce83nW7rO05UXpswdj0AGA5wtA2cmLr+ZBO6TmGeGRFXi+NSSAxav4vB5a8+chX+ml3DF7z0Ca9Oy9Ew0et7dtWDISslXEHClC1ygz7nVhVeTwSA9gETxDW8R6PWAgBrSBen0N8fjVbpSzXcZYixGWvasLkAsGC518wFUw/tPNbQbJr3lPj7T3v1747t1tZwNy8LLSspB4CN4cEjJgy5GnNDFTk5I1yGmJgZuw+bAwALl3vPXjDt4M6jDc08vN0e33vaq38PxUJzS7PBowc8uPmISCI2PORr0GYFCG6ckbx7BTRN+rIdkk+paElhPQsSWWPKPOG9S4iGJlaA6BtpTJjDOxqGVpSq1bp6ujP8BbfOSlJfgYYmPTBM8jmtEd1JXsIHl+W6vL/+qDt87nLRyzhoPViGBhGhIZeu3ckr5DRvrSZrd0TOmjy2TzeH6hrurCVrO9u1Y5uysKrsvMKDp87/tT1Yi65ZWV0TELJz/+YVZDLp9bsPZ2PvbF21SJuhHNFQEZ0VgTUnowUvXiJ0uuH+XcK3qZL8AnltRehulMcHAAKTaXhkP//JU5THF77/wFsUBBIpQV/P6EhkYfxTEDX+8vM1tJcF1UadFia+ROh0vb27Re9SJQV1olU7d6M8HgAgTKb+nwcECU+xXQDQnDxJ8OwZtVu3ljXWKMS//PBZXsIrgpam2fEwfnKaOPfL10kqrTh2QfQ5BwCYk0fqL5pVtCoMAKgOdsxJIzlBW6RVLRxmBQCnsX10TA32jFkFAMMCJ//mPeZug4fd1L2+SZfif5k+RLGwpqz6gNuGlol2HdtX11R/55iVADAicMpA77G3955XsvHY6/fqUnyf+qJu2+Y9P/vw8sYTLdP99zNz5kwXFxfFEnngEwDy8vLk48xkMlkxNNBElVr8nLzPDx8+5OXlJSUlNVqbkJBw69atGTNmYLslJSUeHh6nT5+mUChVVVXp6emvX7++f//+iRMnsKTM0NDQkJAQ+eHPnz9funTp6tWrd+7c6eHhkZqaipVfunTp+fPnUVFR7969u3btGgA4OzufOHGCTCbLj0VRFBumDw8Px0q8vLyOHz9OpVI5HE5YWNiJEydOnDixYsWK/Px8Pp+fmZkZEhKSmJjY4o/CcWyfRwevYtuPDsbaj+zV0OZvzx05SRmKJSiKYq4nkUw06WiZn6xGGJKkxyDralXGJQOApJrLibqnP+oXRYPaN5/fe+9UirehUlRveI9OZ4I7X95o6j1adTlFHMb2fnwwFtuOPxjbqbHGRnnuyK3fWF5lLeZ6AkDhuyyEoOqXlqTHIOky5C0tOn1Pv75i7ZvPH+btkNZvqanPuNKrCW1D59tf3GC9YQ5BU0MVLbIeg6KrVRL3BgDE1bycqAcmI+vcHaaDNTeTU52aAwD8grKiO/8YDnQEAF5OcfU7WdC6Oi23NiMfALSdrAuuPsMKi++/1v3Frgldih6DossojkvBdLOjHpqMqtPVxnTTZLqcO/8YDXRUPNywv31NRgGfUwEA3JySqlRZsLMqNafmY74qDQeA4eMHH4uIwraP748aMnpAQ5uuvZ10dLXvxT6Ul1RVVGOuJwB8SElXGuhQhREuQ45GyPzyY/tPDRkzsKFNt95O2rrad2PrBQupGpRFq+dvW71LKfu8aRAtJkJnSN69AgDgcUWPb5K79VOyoU7yFMRGobV1v2NOHT5F9PKRxswlmst2UN19gKrS16meLp2J0JmS1FcAAHyu6MlNcpcGuhN/F1yPVtSVQ2CZA01TmpWurm4zV4V8lxVfyiurKqqq+3RzAACGlqbL8AF3Hz+T177/mNnTsZMWXRMAtBla7dtavknLAIBDURcG9OkRELJzpv/afUejJSqPjWAQtJkEbabgxUsAQGtra69ep/32q6IB5noCAMmKLeEUoXwBAEhy80EiBQBpaZmktAwI6n0giLY2gckUJspEedeuU5371xeV+ZokCwsph4PyZddAdnQkMJmChy18nSDoMAk6TF7CKwCQ1nCrzt/UGlLv64S5ngAgeJcBXzpbPS+32nsJxjtXmx0P1Vs4A1TuhBVxGtvn4cEr2HbcwViHkb80tDnmGZZdv/8HABqTPuPAkgUXQiZt92Ya6aol2mVsn/tfRB8cvOrY2EPnsGdoVn1RtkMbXhXXfki3BdHBc/9aat65jVqiPwDpN/9jMpnm9VH0PhEEUeweFbebqFKLnxP7PHLkSGRkZHh4eGRkpOJTh8vlHj58OCUlJTw8XF5uYGBw4oTs/cPFxSU5OZlGo+nq6vbu3dvc3Pzp06fyfrC0tHT//v21tbULFy5cv379rFmz/P39PTw8sFp9ff2dO3ciCLJhw4YjR4707Nmza9euAECn0wEgLCwsLi5OLBaXlZVNmDCBSCQSCAR7e/tOnTphh1taWgYFBdHpdBRFpVKpmZmZl5eXlZUVNnVJLSx7tB8cMAkASj8V6rINSzNl8QN+VS2VQVPxJOaObUevn2lkY/b+QdIZv33NH/AFDbYRXyE2xs/i6A5wavaokguPi8/GAYoStWjt9vpKqnmcU3dVkbPs0X5ggCsAlH4q1GEbltU1lqt6YzGoWrR2vzmenPPV1Atle7YRP6suNsPPLNQZ0HyCBN3emqBBee+5XcoTmnqPsd445+OSiGaP0mQbchUindxMjuGAOj9P08Kw9nOhYq0m2xAAkhcfMJ/cP+fUfbqNqbiay7meCAAVrz6aTer3flM0oKjJuF+02pk2qWtQq/DXrM3iGNXXrcnkKNQWYbpy2i0al+R/ENvOPHbHfEJfehvj2k+FRs6dkwIPNaHbpZfD/KWeAJD9KcfUwiTns2zmX3VlNZ1BVzI2YOlPnD5ujW/j0Qu6lmbfgb8smrG0CTkFXccFyzwBIOtjjpmFaU5mU7qGLANXj/GrFoYolQeu9zsQdrimulYVRTmIvrFUIeIoLcon2deLp5L7DZNmf5RmZxDZdc8qgkVboFB4+0NAKKAMddWYuoB/JEw9XQOWtKQuJCYtLiB16l5Pt89Qac5HaU4G0dy64eGUke7Cm980ZPEjyS8sNjdhyXfZpqzHL+qCFHY2VgdPni+rqNLTYRYWlcS/SOrc3gYA0j9nW5mbRv6xkoAg2/YfO3jq/HwPV9VFiSbGipFOSV4+9Zee9SwoZINd20kW5tKKipJFS6H+41ajXx/B85egZhIC0VhZlNJLSZSiF7adaM6WVlaUBwRiogR9fc2xYyo3bYaWQjZjiXPrdEU5BZr9ujdqqTNrYvnB07JrsbWmZubme60EKWqw3FvX2718f1MDMnKserQfFjAZAEo+FeixjUq+dEc8dR52Id29seHyrhN+nRbut3/S+qbtrXvYjQiYDADFDUQ1GJqqKJp1sm7X1/6v37dz0nMN25jMORi4d2Iwt1K9HuO78r3nvBsbGyckyJK4RPWD+k1UqcVP8D4TEhKkUmmfPn2KiorCwsKWLq176uzbt8/W1tbNza1hSijGiBEjeDxedHT0jRs3hEJhp06dfHx85EHgqKioMWPGODo6AsCAAQOeP3/+f+ydd1gT2dfHz2RSCBB671awYUFcURf7WlDsighiBRsoFqygi13B3ntHRRGx1921YRexAIKI9NBJICFt5v1jYkhChARQd3/vfB4fn5l7z8w3N8zcOXPuPTcA4OXlRTiyPXpI3/AQBJkyZQoAjBo1CgB27NgBAAsWLKg5c7a8vFzm2s6cObNmdvzSpUvr8Q18fZFy2GsNsR14c4N8lfozS7Lfft43PAylod2mDv4jxOvWhig1D6z5pqKOKC6WRtclFfzs7Rdtgkaq6X1+fZFy1GstsT27vo0FAJSGeq6femP1KSLoqxY138mwuu9ZqoFuzu5YjC8EgNz9VzrF71ZPqsa3Kl9S44MQbTcf4MJNzsKE4sq0XKMujnpt7Dkfvn7ecbnFotFdL4UChuXfeMnPLqpVt0aRfBtVfAPVJSbdW1fllvAypXN59ds5UBjUygw2AFSxSy0Hdc6Ne6Z8+DfePEv0HyWdIXTuvsI4O6b4Z6VS0QWrAjeu2Iap+vKpNOqKzSERK3dW8QXf01LUfTtt5Bxi+8JfCoNiuOL5qVR04Z9BG5ZvUdIdO2nkqycJacnp6sgpUvNPXH1mil1zik1Twdm9SjaINkt4/RwIBQAgvH1Bd72KOQl1ydaqa9ucYtNUcH6fykMRUyuKoakk9b3Gor+KGiFVilyJrZXF3KneS9fvFIiE1uamnZ1b02hUACgp48yeNI6KogAQ4DNq1rL1GnmfdXcUQlHRrHkAwHB1MVodWjQrWFZDbdaUObBf6cq1GsipKyosCZwLAPTOLgYrw0qC5gGKsubM5mzbrk4/poEuruJshjO8eY9fCT9JR9VQI4OSnSeIWG/J3jNW+9ao6X1mvEiRDZoH39yoKKtuK2QzNV/HPOwVMFSLxazi8mux//IieY+X9J1z0c1N9RDV1td5ey2enZoNAIXpeamP39t3bJH0t+rR2v9J2rVrFx4eXlBQYGZmFhsb6+bmpk6VRvxs75PNZh88eJAY1x4+fPju3buTk5OdnKRjiyEhIc+ePYuKipJNfQWAoKAg+TOEhIR07do1PDycRqM9efIkODj42LFjhLc6Z84cALh8+XJMTAwA4Dh+4cKFOXPmyDxIsVg8ZcoUebdAIpHY2Nhs2iS9QOPj4w8fPiwQCDAMQxCkV69ehJ9KIBKJtm3b9vbtWwqFguO4iYlJ/VK95CnPLTZ2MCdyhrT0dIS82vJLaiIRSZ6fvhtw8U/1vU9BTpGWfXV0QcveXJhbm3+jAoQiqajt5v8e5blFRg7mbGljtUU8tRwOAEDp1GHrpz0+eJ2tSXKVIKdIy8FCtqvlYCHIrXvunTC/RH4aKK7eKF5VTpG2Q/W3qu1gXpVTrcXPKbIe3UO+tvTFJ1Sb0SRg0OOBoQCACcU5Fx91ObvkicdKXIJ92iANVmk3sTAfqDoyITuzjr2ZbFfH3pyfWyJXW2w7qodcrVnJy+oR2Jbzhr9bXu0MOa+fHD9+A+Gesu8muN9Yzb6bIFHjb5Sfw7ZtYpP6MQ0AWPosPk/h2mjTsbW1vdWanaHErpGJ0a4zkRuWRmZ/zaXRaaERi0/uO0scqyl5OWxbB5tP1boK907bjq1t7K3W7pQOTRibGO05s2Xd0sgBw/oK+ALPcYMBoEWrZs1aNomNuhp9Qnn+cU3w4gKKqaVsl2JmhZcUynZpbn1Rmyba89YBAGJogtDoiJ5B1amdeHkxyF9OmvsNeEmhgq6pJV4qp9u1D2rtoB20FgAQA2OExkBYBlVR0sEQxuDxgv9O4BMALM1MsnOro/VZuWwLUxN5gx5dOvToIh2r8ZsXNmmsJwCYGBnI3jEoCEXTWQESdgFqXT3CgFpbSQoKVVoKXrzSm+NPMdDHysoBgNq8Kct3fOnqDaD51DcJm11DtEClpfDlK2TGDERfn2pri1pZGqxYTpRTjAwNN2/ibN0myVV3kgwAiPIKqbbVlxPN1lKcr9xYg2ljJUWl3Eu3ZSXiohJAv42242qu2KNMWW6xiYN5XlImADD1dIRq9//y4BiuQQACoDS3yMTBPFdD0XJ2qY5hdV4Kjv2bEo4AAAD/wb91hKLoypUrg4ODAcDc3Hz16tXqVGnEz/Y+zczMduzYQeTuAMDs2bPrPETes8ZxPD8/X5Z73r9//4cPHyYnJ3fuLH1Cp6amXr169eDBg3Q6HQAKCgqmTp168eJFYpdKpZ44cUL+5GKxePLkycQ2l8vduHHjiRMniNkPOI5v3br17NmzRIoSAJw/f97AwODUqVPEblpa2sKFC8+ePVvP7wIAAN7GPekx3ePC/L0A8Lu/x/tr3402yUPTohN3IIIg3SYN/PoiWX1FcTFHXMrVd3cmcnHMvfsm+W2o8ygKk06EAynaDNvgUXlHbqivKCMxLr77dI+Y+XsBoLu/x/trT9U5iqZFH7Zp+uP91/I+ZGgkJy7miEuqW2o2vm+y3/o6jyq5/sxm7sjUOTsAxy0mDSx/9E4dLWExV1haYeLejsg6svXu/XLiZllteUK6toM5q5UtkXVk1rfDpw3ncQzTsjQ26Nyi7GUqAFgO/U1cqdAz0oxY7SKmfdl/vU5dU/e2RNaRnXevZ37VMxPKCF0nWyLryLxvh6SN0USVURdHUTmP+ylHZizi8Oy8eqYfvAkALCdbppWRmq7Srdi7E2d6hQauAYCJM8ffuaKQuvv2xbuJg/1lu1efR8/xXgAAWkxGWOTSE3vPJL/7pI5KTW5euuM303t5YDgA+M30vh2nEIxPePFuwqBpst3rLy7O8p4PAFNHVPc54duXx527/vLJG3Xk8IpyvIKDtu5EZB3Regzk7ayedSM4t1+2Tev+B8XYXBB3EgBErx4xPMbzD20EHKf19pQkqaVVQ5eLtupEZB3Rug/g7VlVrRt9oFrXrT/F2FxwVdpBIcbmqKVd1Yf6z0qvHZSKUjWfrVs7RgZ6+nq6T14lEllHMTfu71ytYkoGjuMnL14zNtS3sTQDgL7duxw4HTNvmjcAHD4b27dHl5qH1AJWVo6VlzNcXYisI52hg4oXraiuptFAIiHCjQxXFwAEK+cAAK2Vo+64UaVrN8F3VlqoHby8HCvn0Du7EFlHTI/BZUuXqxSld3YBBME5HNH79yUB1eNvpufOli5Sa76KQmNLy7EyLtOtE5F1pDdqQN7sVfIGRnN8RTlsedcTACrvPjYKGF+89SgAGE4bW3FHeZkUdUiIe+I+fci5+XsAwN3fI1G9/h9BEAoNJcKfLqPd8z9lSUQa+Ppv4p70mj70zPzdANDLf0iCeqLJ/yQMDB796MSt0pwiQxvT5m5trkf+l97iGoX27dufPl0d4a6oqDhw4MD8+fNrVtWPn+19IgiiclSd8A4BwNjY+MqVK8SguYxZs2YRPiiCIGZmZhcuXBgwYACVSn3+/HlKSkqrVq1klvr6+jweLy0trVmzZiKR6MOHDywWi0pVq5kMBoNGoyUmJnbo0IFOp2dkZHz58sVFLq/Q3Nz89u3bubm5ZmZmFRUVb968IRYdaAhvYx+bNLHwv7ASx4GdknUt/IRKM1yCYeJqV6DTmJ6dRrsL+QKUin59mXJ1lWbDealzdzfb5G8bPBqhoVlbomXrKCkoiiWy0XYAMPrD1XL6YFwoBgol//itsr/faqRIkBj72LiJxbQLK3EcZ6dk3QhXnU6IKTZ2wHJv247NB4ZKXzmyXqXe3axuR5A2b1fTjQE2wWMoVDR7y3lBtqqWSiS4XOiCfeoOw86s3ZV1mFDE/5ybsVJFGrVK3gbtbbd5avP5Iyg0NDXyIj9LIaL8JmBHm7V+CJWKoMi7BQeJmOLLiRGOy70odCqFilaxS9/O2QMAJr2cm80eglCpCAX5sv96we3Xteu+mbuv/aapLYNHUGjUlC0xSrqvZuxst8YPoaEIhZKw8JAsltly7rDkTdHylq8D97QNn/j71T8xkRgAXkzbjlWp9Vi9fvG2XRObI5f34ABpSZ8jwo7WYiz4Nj1uXticdi6t56+SjnIkvny3a/2B7x+ngmsXb9k1tTkWtw9wPDX586bQI7UYC1XFSyRiiUSswZOMf2Szlu9cZOgEQKmCK6fw4u9kfEskOCY9rejBNYqphfbS7SAWYflZVedUD5HXoXs8QmtCEOLhDSgquHb6u7pYtS4AMAaME9w8Vw85NRk6QEWaV8NZEzJ79bYD+09dFIvFM3xHW1tU97E4jvsvXiORYAKBsENbx3VLpBfPzIlj1u487BO0AqVQOrZ18hszVFPR0jWbDEKCWZN9ESrKOXJSIpfLT2vZ3GBBEF4lAByTFJWULFoOOA4oarJ9szjjq8lW6Wgy5+AxYYK6S3cRlK/foLdgvq7fRECpFcdOSPKrZxXTWrTQmzcXF1QBhkuKi0uXLlUxAaO+q02zl0WYrQwymumNUNGSvafFcsFm3YHu+hOGCVPS9Yb1AwCsSpA3IxQASvacMl0+2/r0VsCwqtfvy45dqIfum9hHJk0sZl1YheN4fkpW3HcedpgEw+TuSgaLOeXoYqIkPyUrZllt89Fr8ir2kUkTi8ALf+I4npeSFRuu+lmJK4pWlnAvhh6ZuGuuWCiSiCRRC/cK6jXc9+P4+b91pKurS7iejQVS73ylX0VlZeWZM2cSEhLEYrGTk5OPj4+pqUIiRUZGRnR0dHp6Op1Od3Z2HjNmjHwmlxIYhm3fvp2IIQNAYWHhuXPnPn78KBQKbW1thw0b1qGDQkbO/fv3b968WVRUpKOj4+rq6uXlJfOba2G5g7dGbUQQZNi6qVfCjmr0kqfEYE2GJ3Q7tmB1ap53uD4RTXluaSmvclUnCIIMXTf1WgMaO1CgwXQF3Y4tdDs2z69X7FaJUqyOP71Bp2YGHZtnHL7VcC0ZYjVGFQ07NjPo1OzL4dt1WqrPn4gGcx4AAEGQ5ZsXbVi6RSxSXl1PfSSqZqTVqRu6efG6pRH11n3ooZy9VAtoEydKE0fRfc0WIFQNVYM8YtTBkdLEUfRXXAM1mWuVJ6r+BHC+itz8WkhMSn2XnDZhxKAG6haODa7b6Bu01k701q0qLygvCaQpKE2Da5jWqhWtlRMvpqGiAFBRpEFXzHB21GrnWH66oZfTAZ6RpocgCDJy3bTYsCP17v/Fmk8DQBBkzLppFxsgCgBbMho07NlAdtnWc5VNGXOyTjXKJ6k3/z3v87+Ipt5no6CR99lY1MP7bDgaeZ+NSJ3e549AHe/zR6Cp99ko1MP7bDihgL3CAAAgAElEQVQaeZ+NiSbeZ2Pxn/A+GwuNvM/GQiPvsxHRyPtsLOrhfTacenifjQLpfTaQX7baPAkJCQkJCQkJiab8D0QNf81q8yQkJCQkJCQkJP8/IWOfJCQkJCQkJCT/GRr+O++/HDL2SUJCQkJCQkJC8vMgY58kJCQkJCQkJP8Zfk0uW6NCep8/A9qP/l2Cfw2UXzEXuhj/BbnnAFDe2Ett/5uh/IprGIdfICrh1P+XixsCxvsFN4/Wr0g/R5isuo1+AIKKX/C8o2vXf8WxhsDn/4JeUetXjKYK/hc8MY35H2gzOfJOQkJCQkJCQkLy8yBjnyQkJCQkJCQk/xnIFZdISEhISEhISEhINICMfZKQkJCQkJCQ/Gf4H1hxifQ+SUhISEhISEj+M5BZRyQkJCQkJCQkJCQaQMY+SUhISEhISEj+M5BZRyQkJCQkJCQkJCQa0PjeZ0ZGxrRp07y9vSdPnpyamkoU+vn51XKIfG1MTMzly5c1UpQ//PPnz76+vr6+vtHR0UTJ5cuXY2JiZAY4juO49LXB398fAMLDw/Py8lSeWSKRTJkypRbpJUuW5Ofna/RpSUhISEjqR04e22va3P3Hon71ByEh+ZVggDfw369uwQ8YeQ8PDw8NDW3SpEleXl5wcPDZs2cBQCgUErVnzpy5ceMGsZ2VlXXv3j0URWW1ACCRSGo5eXR0dFxcHADgOF5RUREbGyt/cgBo1qzZyZMn5Q+RSCTy53zw4MGnT5+mT58uO1AsFhMGUVFR169fJ8w4HI6Pj8+IESNEIpHs0y5btozYZrPZO3bscHJyEovFYnFDf8qi76KxzXo6A47nJ2VeW3FUIlQ+IU2L7rFmMsvC8KTPBvnytp5uQ9ZM3jNgCSevRCNFurVJ880BVH0dhEbN2XO5KPaxkoFOGwfHA/OztkQXXnxIlJiOdrdb7CXIKiR2v4Qdq3z/RSNRgp/TWKa1sfPm6TR9bQqNmrbnam7sE/laViu7dusmITSUQkWT1kQVPfoAAEw703brJlN1tFBtRkVa7rslR8RcPmHf1H+Q4+KxN5pNrl1U29q466apND1tlE79uPdaRmy8fK1BK1vXtX4UKkqhom/Wnct/9AEAHKf0t/PoAgAUOu3NmqiCZykAYNrF0X1/IOez9I3ow+4ruX8l/gRdix5t2swZQqFRqTpan6P++XT8bl1fczWzlvq79eqC43jqh7QNS7eIhKp/LmhFxGKXbh1GdBsPABY25vP/DNQ31NfSoie/+7Rp2bba732VzFka4NarCwB8+pC6bknk93TDIpe4dOs4zG0cABgaG6zf9yeKUqhUqkAg3LJy56ePaeorIiZmOgELEW1doFKr4s6KHt9XacNatU14/0ZVzEkAoHXrzejvCQiCMLSqYs+Inj3QtJkUUzOdwIWIji5CpfFjzgr/uSdfqxO8FLWwBBwHOr3q0nnhw78AgGJiqh0QRNFlAYAo4SX/3ClNRfPYRX9u3c+t4InE4kljhw7u00O+9t6j5ycuXEVRlEJBAid7tW/dkih/+vrdsfNxlfwqGpU6fEAvzz96aqpbC+zCojURu/r36l4lENZtrQmohanpynkUli5Co5Ydi6688Xd1HYVisiKQ1tQOAPAqQWFYpKSgGCgUi33rEKr0186olmblxy5wzl3RTNTczHDpfISli1Bp3NPn+LcVriXDsMVUK0vAcYRO50ZF8+9KPxLCYBiEzEVNTYqCQurXWJqVqfW62aieDkKjFR6IKb8id0FSKFarZ2o1twEEwfiC7JDtYnYJABj7DdEb1B0AKHRq3oZjvOcf6ifdb9HY5u7OOI7nJ2VeDVXd/w9ZM1nP3PC4r7T/17c2GRTqo22oS2XQ8z5kXAs7hkk0S7kZsGhcS3dnwCEv6eul0CMqRYevmaJvbnTId52scPXHo1mJ6cT2pweJf+/RLCj2o/kfyDpqfO+zqqqqSZMmAGBpaWloaFhWVmZgYCCr9fb29vb2BgChUDh58mRUw98qHDNmzJgxYwDgzp0779+/V6otLCycP38+sZ2bmxsUFDRs2DAlm1evXjVr1kzlycePHz9+/PiSkhIjI6MnT54kJSXJ19ra2sr82u3bt5eWlhLb+/fvb9GixcSJEzVqiIx2w7rpWxsfGLICAPosGtN9xpAHO2KVbEbtnPPu8hNXn77yhZ0n9NUx0c9PyqSgGgewm0fOzNlzufxBIsrSbhcbzn2dKsgskNXqtGtiM2d4ye2Xsr4VABCUUnDu76yI85pqyfPTGts+0j9tz9WiB++oLGa32JVlr9N4cg3stHv261m7uMlZWpZGbhdWPOi/VMITuOwL+hR5seBeAgC0CvNuHjgsed1ZAHBcPJafVSgsqfsHCbtGTPu491r+g/c0FvOPmBVFr9MqMgtltd13znw8Z09Zcra2pVG/80uvD1gh5gnyHrxPOXIHAPRbWvc8EhzXYyEAUFBK7t+J8cEH1GlpI+pyM9h/T9oiqRJRdbQG31ydcy+hMrtInQ8wYEQ/C2tz3wHTAGDWkukTZ3sf3nq8ptmEgHFP/nraxd2F2OVV8DYsjiwpKgWA1btDB47sfy36pppNJhg4or+FtfmEAVMBYPYS/0mzJxzceqymmU/AuMf3n/7m3pnYLSspnzcxpIovAIA2HVst3xzi5+GvvqjOjEVVcWfFia9AW4f153ZJahJWoDhyQqVpT5wluHkJYeoQBZL0TxWrFwImQQyM9DbuL38VD2LNfsxTJyik6uJZUcJLRFtHb+MOccpHLL9atHLvNqjiAwDC0tPfdkD44ilU8XXnL+NFHRe/SwAAbb/pNFc30Yv47wqoYuWWfZPGenZzceZW8CbNX9nOqYWtlTlRlZmTf+BMzOHNYbo62uXcigXhW/euW0qjUd9+/HTh2t2Ny+fqs3Q10lITc1OTPRHhl6/fzclnN+6ZTf+cX34smh//GtHVtjoWKXiXLM7+NqiFYeUnY0RfsgCANcbDKHBSYWgkYFi+/xLZ4ZaHN1XeV36HrxPD5Qu5p84Jnr9CdHRM928Tvk+S5Fb/Wcs2b8f5VQBA0dMzO7636vFTYtdozQrerXu6Iz3r3VjrDYFFB2IqHiVQWNpNz23gJaSIsr59nxhWfPiyID0bAIzGDzRf4JsTsh0AKh4mFB+/CgCMFnb2+5d/6hNQD912nt30rYz3DV0BAH0XjukRMOSfncr9/+ga/b+wgn9lxZHKIg4AjNo2y3l494RvMRF16ODZzcDKZOfQ5QAwYOHYXgFD7+28pGQzfmdgwuXHXX36yxdWlHAPeK3WpH0kmtH4I+9MJjM3NxcASkpKSktL5V1PeaKjo/v166eyqs4QyLt37zZu3Ojv7z9t2jRfX99Pnz4R5aampidPnjx58uTBgwfNzc27du2qdCCbzX78+PHNmzcJCYlE4uvre/++whvn3LlzASAtLa1ly5YAkJSU5Ovre/fu3U+fPv3xxx/EsH5iYqK9vT1hHxAQUG/XEwDaero93n+N2H6y/1qbwb/VtDk7fUtOgnJ45uXpe/9sjwFc4/g51YhFM9Qtf5AIABIujx1139hD4YuqfPclJWCrpLJKvhDHcKOBrm3Oh7WLW2MVMERTUYKf01i6EYtmqFv04B0AiLn8rKi/LTxcZbX6zk0qM9jc5CwAqMorKbj7xqxPewDgZRVyPmYSNtzk7IrPucR2ysbzmWf+qlOUYaTLMNTNf/AeAERcftrZB7aDq0WN2jlwvxaUJWcDAC+vJOdeglVvZwDgpEkfNpy0XOxb3A7HMFPXln1OhwyIW9l+0WgKvbZXxEbUrcwuklSJAEBcWcX9wkYo6i4oN2B4v5N7zhDbJ/dG9RvSu6ZNJ7cO+oZ696/9IyvhlHEJ1xMAPr1PQzV/iRo4ot+Jb7on9kb1G6pC18Wtg76h/r1r1aEsHMcJ15NKozq2afHxbbL6ighLH2HpiRNfAQDwKoV/3aD95q5kw/SdUXXpNF5R/bqC5ecAJgEAvKwEKysBtb9YqaiePkVPT5TwEgBwXqXgznV6N0XRKmmQHrWxwwrZIKgCAIq5JeF6AoDg73t0N4XIZZ2UlnPKONxuLs4AwNLVHjGw971Hz2S1KZ8zurRvo6ujDQD6LF3HZvbvktMA4FDUpd7dXBeEb/ULXrnr2DmJhjEqdUCQxl/nkGKghxro8eNfAwBeweNeuqXTV+HrIlxPABB+TAWK8oXKdOskysiWFGo2AEXR16Po6wmevwIAvLKSd+UGs/fv8gaErwkAVAdbSX4BXiUgdosXhQo/JEF9QQ31qAasikcJAIBxeaXn7+gP7CZvQLieAMD/8Bn5dlfKCgWfs/HvjDDUibOn26MD0v7/8QHV/X/U9C3Ziv0/v7yScD0BIP/jV6TG91877T27PTggjUk/OHCt3WBlrwAATkyPzKrx0NHW0/HdP3/2pfAxmwNYZoYaif4E8Ab/++U0fuxz+fLlYWFhCIKIxeLQ0FCVNvHx8bdv3z5y5AixW1RU5Ovr6+Hh4eXl5ezsvH79emJ4XcaoUaOGDx8OADiOnzt37sWLF/PmzQsKCpo1a5aLi8v48ePljcvLy4OCgoYOHZqVlbVw4cLCwsKpU6cCQFZWVlhY2Lp169hs9ooVK8LCwlAUPXbsWFhYWM1POH78eCqVKpFIWrVqRYQ8nz17NmjQoODgYJlKQUEBAOzcubNly5aEhJrYuTr2WTAaAIq/5BvampZkSN87qzg8hi5T/fPUDy1bsyq5QGDVV7Zh7w51HlV06VHhhQeA46gus8XOQAmXzz5zr86j4Fc0lmlrKh/prPzKNuvdXrarbWdamZEvX8u0NQWAt8H7bca6Z535S6eZlZjLy7/xUiNRHRvTiq/VohVf2YSfR6BrZ1qRUR2t4X4t0LE1lT+85eT+KUfvENsFzz9d6RmCSzAKndr5T59284a/3XThJ+jKMGrnICyvlA+g1qTDb84zQ6YBwNf0LGs7y6wvOVKJ8godlraSsYm58Ugfz7DANaqboKvdrc9v8yYurkVORsff2s9aPA0Avn7OsrazyszI/qbL1WXpKBmbmpuM8h22Yo5yAKNNx1aL1wY3bdnk0b34ZTNXqaNLQDG1wNjV0SksP5fasYu8Ab33IMmXVMmXVNRexQALrXM3ceIrEGo2akwxs5DIRTolebl0FwVRoNH11kSg1jZYeTlnxQLiJU2SnyONd6Ioo98AirEpaEJufqGNpbls19bK/NGLBNmuU3OHA6djSso4RgZ6+QVFj18ktHNsDgCpXzIdbKz2bVhGQZBNe48fOBMz03e0Rrq/BKqVuSi7+hsWZ+Uxe3RWaanvN7rskPKUU4NpXoVhWzQVRS0txDlyotm5Wm6Kf1Y6zXTHZqqdDVZaVhgUUo9Ag0roNmbCrOoOUJiZz+rZSaWlybThhXuilQqNJ3oUn7iqvpy9rP9PzzdQ6v9ZmvX/DF1mi17tT0+JqNPSwdXxjwVjAaAoPc/I1qzomyifU6m+aHjnAGKMvtPI3yfsDto35k+NPi1JnTS+99m0adNDhw7hOC7/krpo0SJig8fjHTly5P3797t375YNu5uYmMgGtR0dHY8dUzF8BgASiWTWrFk9e/aMiIhAEMTV1fXatWsuLi5GRkaEAYZhV65cuXDhgq+vb1xcnFgsPnz48NWrV4lIZ2Vl5caNG83MzBwdHbW1tT98+ODu7g4ADAaDSqW+efNm1apVAJCTkzNixAgKhUKhUHr3ro6mmJqa3rlzJzExEcdxiUSir68/aNAgAAgMDLSxsdHoK8p8kXLMay2xPfOWwuxGvJG6mFqoKYFjdYviYmlAWlLBz95+0SZopJre5y9obO0NrKmJ4QBg/ocLNzkLE4orP+ca/eao18ae8+FrY4mqaKhcrcXvbQxa2jxbfERmjUtwAMCE4rebL/Y9u7gW77MxdQEAQNvKyHnByMeBe7+rCAAACc8SA0YFEdtn7yvcsJji5YRS0fmrAjet2IZhKiJhVBp1+eaQLSt3CviC2hUJ3jx7O31kILF9/q8TiroK56dS0QV/Bm5cvrWm7oc3SRMH+1NpVJ+AcYHLZ2xfvUcdaQBQcfXInRxt0gK1b8Y/tkvlkahdU/rv/St3qHbBNRJVvnFEQs7iIACgdejMWrySs2QuAFRErNWe5M8c5YWLRMLH/6BWmvVRUCPESJErsbWymDvVe+n6nQKR0NrctLNzaxqNCgAlZZzZk8ZRURQAAnxGzVq2/j/hfapAVZdoEDCB9+Sl8JPCfHct1/ZidpE4px65pzXvXMULVSgqnDEPABhdXIzXhBbODNZcQpWqev2/WeC4igevq5Iz5At1urdntLDLXb5bfbmvL1KOfuv/Z99U7P/VeO7IQGmo5/qpN1afElXV/fKW8SJFNmg+7+ZGRVF14/Gy6aGvYx72DBiqxWJWfcsE+DdAzvtUzT///HP06FH5krZt23bq1AkAdu3a1bJlSy8vL11dFRODgoKCZPMpuVwunU5nMBjEbuvWrZcuXbpnzx6Zz2pubk4kpO/eLb0ZHj58yOfzDx8+TKfT+/Xrd+vWLYFA0LZtW+J+c3Jykgl17txZ9v/y5csBwMLCQmWu/dChQ4mNpk2bynKSZLRs2dLMzEz9b6Ym5blFRg7m7KRMANDS0xby1HoGNwRBTpGWfXVUQ8veXJir1vS+ahCKpKI+9+HPaSw/p0hHroE69uZVucWyXV5OkfWoHvK1JS8/odqMpgGDHg0KBQBMKM65+Oi3qCWPh6xUX7Qyp5jlUC2qa2/Oy60eiePlFOuO6i7bZdmbFb6ULgdh8Xsbu8Guz5Yo3C8yEAoiqrXLa1xdbWtjl5UT4ucfqF1UifycAtsm1qkfPwMAS1+3iqdwbNuOra3tLcN3riB2jUyMdpyJ2Lh0S87XXBqdtiIi5NS+s8SxmpKfw7ZzsCFyhlj6LD5PYa5Im46tre2tVu8MlenuOhO5YemW7K/SMK1YJL5wPPbY1f3qe59YEZtibiXbpVhYYcXVgWe6e3/Uronu8k0AQDEyAToD0TfgH9oGAKh9M63h4yt3rwfNM6uwAjZqUS2KWlphhQUqLUUJL7WnzED09HFOOV5aUrlV+rBn/DFY/DlVI1FLM5Ps3OqoeVYu28LURN6gR5cOPbpIx0z85oVNGusJACZGBjJfn4JQfsQo+Y9AnFdAs7GU7VJtLcX5yoF//anjJEUlFbG3lcoN/b2L1mvgjcmQ5BdQrav/rFQbK0mB6tEGwfNXyBx/ioE+VlZeDyElRLmFdLvqxtLtLER5yrqmM0aLCktLLygmt3Vvrz+wW+4K9V/VlFHq/0Vq9/8onTps/bTHB68Tx2pEWW6xiYN5XlImADD1dOr30MExXB2vl0Qjfoj32bNnz549FVIdvby8iI2QkJBnz55FRUUFBgbKaoOCpEGUHTt2yAr37NnToUOHbt0UpqSgKPrPP/8cOnRIvrC0tPTq1auELgB8+fJl69atHA4Hw7BTp07169dv8uTqbOV9+/Y9fqwwPTw3N/fSpUt6enrEqSIiIjIypC981tbWCxYskDe+d+/eyZMniWWbEATx8vJq0aKFJt+NMu/j4rv5e1wK3gsA3QI8Plx72pCzqYO4mCMu5eq7OxNZR+befZP8NtR5FIVJx/hCAKBoM2yDR+UduVEP6Z/TWGExV1haYeLejsg6svPu/dxvs6y2PCFdx8Gc5WRLZB2Z9e2QvPE8jmFMS2NDlxalr1IBwHLIb5JKzTopQQlXUMq1cG9LZP80H9/z70nVg3HFb9NZ9mYGTjZE9o913w5EONO6XwerPu2fLzsuH6VEtWjE/EuEirYPGf0l5klNuR+hq2tv1mmF19NFh4VllRq1/VbsXd+Z44mBdd+Z4+9cUZgm+/bFO7/B1TkKcc/PB3kvBAAGkxEWueTE3qiUd580kpNx89Id35njQwNXA8DEmePvxClM4H774p3voOmy3WsvLszxXgAAWkwGMe8TQZDx08a8efpWfUWcU45XcKjOLkTWEb3P4MqNy2W1/OPVD2Z6r4EUU4uq6GMAgDZzZHiMrtyzCUT1eYDhnHKMy6F16ExkHTH+8OCGL6uuptIAkxAhWFqHzoAAzuXIH446NNUaPpYbukgjUSMDPX093SevEomso5gb93euVpFhjeP4yYvXjA31bSzNAKBv9y4HTsfMm+YNAIfPxvbt0aXmIQ0HpaJUDdNVawcrLZeUc5lunYisI9bIgexAhTdPw1m+olx2TdeT0bENxq0QpWvsEgEAVlaOlZczurgQWUfaQwcVL1pRXU2jgUT6Z2V0cQEEwco53z2XJkhKOOIyjm6PDkTWkeG4/l+nKcTjzeZ5i7LZSq4nq48rq5dLbti+hkwASIyL7z7dI2b+XgDo7u/xXr3+n6ZFH7Zp+uP91/I+ZNRtXYO3cU/cpw85N38PALj7e7xTTxRBEAoNJcKfLqPd8z9lSUQavzf+UMjfeVfNs2fPNm7cSPhzBEQGz/dwc3NT/+Q1XVuleZ/Lly9ft26dg4MDAEgkktWrV1+5ckUWwpwxY8aMGTPk7RcuXMjhcIhPGx4ePnr06O7dpeGi5OTk4ODgM2ekmQ1cLvfAgQPHjh1jMpkAIBAIAgICmjdv3hAHNPHSYyMHiykXVwKOs5OzboafVGmGSTCVy0x8r7x2UufubrbJ3zZ4NEJDs7ZEy9ZRkgcXS2Sj7QBg9Ier5fTBuFAMFEr+8Vtlf2vwzJbx0xqbMHdvu01TWwaPQGjopy0X+VkKwd1XM3a0XeNHoVERCvJ24UEJTwAAz/0iWi3zotCpCBUVsEvfBCq84mOCuifaP5l34LeNk9vNG06hou+2XlJKGH80c1fnNRMpVBRBKU8XHhLzBEwLw9/3BxUnfO4fLXUmnoYc5qbnG7dv2nHFeEwgQqiUzKvP007XkfPUWLq9ji/AhKKeh+YRhSnH72ZeeaYspoobF2/bNrE5fHkPDnhaUnpk2I5ajIXf1sqZFza7rUvr+avmELtvX77fs17dNH+C6xdv2zW1PRq3F8fxtOT0zaHbazEWfAtdeHp5eI4bzOfxqVTqm+eJG1ds1Ui0cvcG7enztUZNRKjUqgsnsMLvDLlKJNIwJ4rqhkZiOV+JmCgAVJ07Ik6qbQktFaJb1+vMXsAcPxFQKj/qOFZQLUpt1kJn5lxcIAAMw0pLuH8uJfwDrTHetA4uCJWO8yoqNq/GimubxauSNSGzV287sP/URbFYPMN3tLVF9SAPjuP+i9dIJJhAIOzQ1nHdEmkoYebEMWt3HvYJWoFSKB3bOvmNGaqpqDoMHdCn0c9ZuGKzSehcg4AJCBUt23daLBf31RngrjdhuDAlneXZHwDwKkH+LKmbaDh9fMkuFcs7qEnJ6k2Gi4P1pvgCFeUeOSnJqxalOzY3WBiEVwkAwyTFJcULliu4fRIM1zyILiN74TbrtbPNAschVGrBjrOinOpQur5HD5NJQ/lJXwxG9QUAnC/ImPIn1dzIbvdi3tvUJmekY+g5y3YJv+RqqpsY+9i4icW0CytxHGenZN2opf8XV/fzA5Z723ZsPjB0ArGb9Sr17mYNll55E/vIpInFzAurcBzPT8m6En5CpRkmwTC55x2DxZxydLFELAGA/JSsmGWHVB71C/k3LNjZQJAfMffu0qVLEolk9GjVM37S0tJmzZplbm4uXzhr1iwlH3Tfvn3t27dXxzEdP358VFT1TPB58+b17dvX3d2dyWR+/fo1MjJy2rRpxCC7ShYuXDhv3jxi7mZERISWltaYMWOMjY1LS0tv3779+vXryMhIwlIoFHp7ey9btqxNmzYAkJycvGbNml27dim1pSar7CfU2Qp5EAQZsn7q9dCjDXnf6i/QIHqn27EFq1PzvMP1iWjKc+fbTAn1aXhjXQR1u6QGHZsZdGqecfhW/SRUUk6pIwBj3LGZScemxNpGP5MfobsN12QWLACCIMs2L9q4dItYVP8FcSW4xm9WCIKs2ByyfmlkvXXv/07TyB5t3ora3ElwU3kZF03BeBp0xVTHVtSWraquxNRtWiusfbW9KiiRmJT6LjltwohBDRRFmKwGnqF+ZPWeUbfRNxjtnBjtHDlnGrrKI11bg+uQ3saJ1rpVZXRDryUAKC1QTsKrBWaHltrtWxJrKjWEaFyvbiNFEAQZum7qtbD69/8CzedAIggyct202LAjDXnCbsz4lT95sMLBu4FnWJNxplE+Sb35Id5nSkrKpk2b5BdOQhBk+/bt8tHQRmTDhg1LllQvvSYQCC5cuPDq1Ssej2drazty5MhWrVrVcvjRo0eHDRtGpC7hOH758uVHjx6Vlpbq6+u7ubmNGDGCSq2OEGdlZZ05cyY9PR3H8aZNm44bN45Y3LR2NPU+GwWNvM/Goh7eZ8NRx/v8EdTpff4voan32SjUw/tsOJp6n42FRt5nY6GR99lY/Ce8z8ZCI++zEdHI+2ws6uF9Npx6eJ+Nwq/1Ppc32Ptc+z/pfZIoQXqfPxTS+/wJkN7nj4b0Pn80pPf5oyG9z5/G/4D3+UPmfZKQkJCQkJCQkPwIyBWXSEhISEhISEhIfh7/A1lHjf9LmyQkJCQkJCQkJCTfg4x9kpCQkJCQkJD8Z/jPRz7J2CcJCQkJCQkJCcnPhIx9/gxKkF+Q9liJ/4I/7u9Vv6Clj7V+zWWcDJr9JlCjgP+il95//OteWazxEdW9yH+j8/FgVd1GP4AqyS9YQqHp2Mb59XCNEFT8mhvW9q99v0BV8guuYQDY/JsGPxTcWHDhFyy00kmi9fNFfzlk1hEJCQkJCQkJCcnPg8w6IiEhISEhISEhIdEAMvZJQkJCQkJCQvKf4T8f+SRjnyQkJCQkJCQkJD8TMvZJQkJCQkJCQvKfgcw6IiEhISEhISEh+Xn8qsVPGhFy5J2EhISEhISEhOTnQcY+SUhISEhISEj+M5Aj7z8QHMcRBJHt+vn5HT9+XKVlLVUAsHz58kvHn40AACAASURBVJkzZ9rY2MhKnj59unv3bgCwt7dfs2ZN7R+j9pPHxMRQqVRPT8/aT0JCQkJC8h8lJ4+9IHRd7x5dAyaN/9WfhYTkJxEbG3vx4kWlQjMzs8jIyIqKimXLluXl5WEYtmTJEldXV3mb+/fvHzt2DMMwHMfDw8ObNWum8vz/Xu9z3rx5S5YssbS0JHaFQiEAnDlz5saNG0RJVlbWvXv3UBQlqgCgpKRk1KhRMkdzwIABPj4+EolEIpHIn7lr165du3atqZiQkBAZGUlsYxhmZWW1efNm2ckBYMaMGZWVlQDA4XDGjh07YcIEpTPXjyGLvFq5t8dxPCfpa3ToYbFQ+eeCaFr0sWum6psb7fFdKyvsOXmQy7DuYoGIzmTc3Xs54cYz9RW1rI1bR0yn6utQaNSMPVfyLz1RMmC1sXc+OC898mLexUeyQgqT3mrDVC1Lw1dj12neSmBYG7eK8Kfq6yA0auaeOHYNUd029u0OzvsSeTH/m6jZMDcbv/4AgGprZeyMLbz2vB66SvRZNLZpT2fAcXZS5vUVRyU1vm2qFn3wmsl6FoanfDY0UGvcognOPTviOP41KePoiv1Kf9muQ7r39RmAAMLQZsTtjXlx4ylRrmeiP3bhBJuWtiKhqIxdsnvuNg1FfZx7dgQc/5qUcWTFvpqi/XwGykSf34gHgKEBIzr0diEMqHQqBaWEDgtRXxHRM6YPnoxoaQNKFcVfl3x8Kl+r5b0Y6AwQiwAAr+QILu0GAGDqMgb4IvomAAheVSG8fhTnlmrUTETfmD50ulT08VXJe4XLSWvi8mrRinLBhR1EOcXSgdZzJKKjD2KRJO2t6PEVjUTpViYOm2ai+joIjZq/N7bk8iMlA2Ybh+b7FuVuPV8c8w9Rghqy7NdMZ9iYAoKIy7gZi/eJ8oo1EgUAhrVJ880BxA2bvedyYexjJQOdNg5OB+ZnbokuvPiQKDEb7W6/2Ksqq5DYTQ87Vvn+i0aiqLmZwZL5FF1doNEqTp/j37kvX2sYuhi1tATAETq9Iiqaf+9vAGD27aUzYiggCKKlxT0ZVfX3Q01bCgCohanpynkUli5Co5Ydi6688Xd1HYVisiKQ1tQOAPAqQWFYpKSgGCgUi33rEKr0l6Kolmblxy5wzmn2l60FdmHRmohd/Xt1rxII67bWhDx24arNu7gVlSKRePL4EYP79ZSvvfsg/sT5yyiKUhAkaLpP+zZOAJCdm7922wEej8cXCJvYWq+YP4Olq1M/9SGLvJzcnXEcz03KPB96uGZPSNOij1kz1cDccI+vtMN3Hfn7b2N7ywzMm1mFus7QSHTkIu+27u0Bh6ykjJOhB5V6J9ch3XpN+ANBEAaTcX3vpVc3nwGAVXMbnzXTAYDGoHGKys+sOlycU6SOVtfFY+3c2wHgRR8z/15+DFPUotCpPVf7mbSxRyiUrIfv4tefAwDDFla91k4GAJRB4xdzHoQe5+ZI79Z2fv2aD+2KIAgmEj/883RxUqZGDW90fsJq8wKBYOTIkSNGjJCVfPz4MTo6GgAOHjzo7u4+evTogoICf3//mJgYCqV6Gqejo+Phw4dpNNqLFy+2bNlCBPtq8u/1PktKSnR1dZUKvb29vb29AUAoFE6ePBlFFX6bjsfjubi4RERE1HLasLCwL1+kvXBFRUVJScnNmzeZTCYAdOjQ4eTJk1wuV0tLC0GQ2bNnKx27b5/0h9ri4+OfPZN6e9evX09NTQ0ODqbT6fVopotnd0Mrk81DlwKAx8JxfQM8b+2MUbKZtDPo5eXHPXz6y0pa9erQfuBvO8auEgvFhlbGCy6v+/hPgpCn7q+ctd4SkLH7SsmDd1QW0/XyqvLXafyvBbJaVjuHJoHDCm+9knXoBM77gvJiHtv69a9xPrVotSUgc/eVkgfvUBbT5fKf5a/TqhREm9gHeiqJct+mvxmzBpdgdDMD19vri+68xmt0kRrRdlg3PWvjQ0NWAEDvRWO6zRjycEesks2onXPeXX7S2advQ4QAoNuw342tTZcPWQgAYxdNGDpjxKUd0fIGX959Xj9hFSbBDMwM11zZ/ObeS7FQjFAos7bMjd4S9TkhtV6i7ibWJsuHLPgmOvLSjvNKousmrCRE116JeH3vhVgovrL/0pX9lwiDvt5/aOkwNRJleEwRPr2OffkADKaW73Is9zNeVlhdTaEILu3ByxUeGIyBfpLMZHHsXgCgdu5H7+sliN2rmainv/DxVSz9HTCYWpNXYjlpeGn15QQUiuDCDrxMQRTRN6H19RJe3q+ppyvDIWJ2/t5YzsO3KEvbKWZN5ZtUQSZbVqvdtqnl7BFlt58Dtbojdljnz3n6IX32TQAwmzTIdoVf+uwtmuq2iJyZvedy2YNElKXtHBvOfZ1alVndWJ12TWznDC+5/VLhhkUp7HN/Z0acV3E69TBYurDi9DnBi1eIjo7p3m3CD0mS3DxZbVnEdpxfBQAUPT3To3urnjzF+VXClE/8uYtAglGMjcyO7st//LQev5Vq+uf88mPR/PjXiK621bFIwbtkcXa+tA7Dyk/GiL5kAQBrjIdR4KTC0EjAsHz/JbLDLQ9vqryv7J03BHNTkz0R4Zev383JZ9dtrQlhG3dOHj+im2tHbkWlX+DSdq0dba0siKrM7NwDJ6OPbFujq6Ndzq1YELZx76YwGo226M+ImZO83N06A0DEnqOHTl8IDvCrh7SLZ3dDK+OIocvg23Pndo3njt/OoFeXH3eXe+68iHn4Ikb6RuHk7tymTyeNRH/z7GFsZRI+dDEAjFw4flDA8Cs7L8gbfH2XHukTjkkwfVODsCsb395/JRaK2V/zI31XS0RiAHD1cBu9xHd/4NY6tVoOd2NZGZ/3CAWAriFjOs0c8nK7Qlff0X8wv5gTPSQMAPpvn+k4sntKzOPyDPblCRswkQQAmg/5zW2Z1+3ZuwGgY4AHhY7Gjl2LY//5XB8ZHA6Hw+HIl+jp6enp6cl2tbS0unbt+vTpUyJal5+fX1pa2qFDBwCIj48PDAwEADMzs/bt279//97Z2Vl2oLW1NbHRvHlzHP/uN/bvzToqKipisVjfq42Oju7Xr5+ap1q4cGFYWBixHR4efujQoZkzZ7Zo0cLc3PzMmTOE6ynj+PHjb968SUtLa9myJVHi6+u7a9cuABg4cKCvr6+vr+/evXs7duxI1A4ePHjx4sX1cz0BwMWz+70D0tf0+weudhisIih7cHrE14Q0+ZKyvGL25xzixbEsvyTnY4ZYoG4vTzNi0Q11Sx68AwAxl58T9bfZ4C7yBtx3GYn+2yWVyr92neAXUf46DeoFzYhFM2QRohIuPy/qrxqiX97XEOVnsHEJBgDCgjJhQRlCQaBhtPV0i99/jdiO33+t9eDfatqcm74lJ6GezZSnm+fvV/dL+7tr+2N/G9xNyYD9NR+TYABQVlBaXliGIBQA6DKwa/q7zwMne4SeXxO0e6G5vYWmolfkRLvWKlr2TVQGSkX7jP/j7qmbGkgydYGpi335AAAg4IvfPkAdOysY4Dh9wEStiSsY4+ZTrJoSZVhZIcbOkm4XZGHF+aAR2ixg6mLp76Sib/5GWykM/QCO0wdP1pqyiuEdQrGWjvvQug+VfHxG95yuNXklfZAf0BkaaVINWVRDFufhWwCQcHlFZ+8bDlK4W3nv0z/PjFS6hgVZBfyPX4ltfnJm1eccjUQBgGrEohrqlj1IJHTZUfeNPRR0K999SQ7YqnzDYrjxQNe258Oc49ZYBwzRVJSir0fR1xO8eAUAeGVl5dUbzF6/yxsQricAUB1sJewCvEoAAJLsXJBgAIAVl0iKS0DzG5ZioIca6PHjXwMAXsHjXrql07eHvAHhegKA8GMqUJSfX0y3TqKMbElhiaa6tSM/B6yxKC3jlHO43Vw7AgBLV2fE4H53/4mX1aakZXTp2E5XRxsA9Fm6js0c3iWlAoCVhVnLZg6ETYsmdk3sbFSdu246eXaTf+50VNUTHqrx3JGn38xh9w9oFmD+zbPHzQOXie2bB+I6D3ZTMij41juVF5bJukSJSEy4nnQmw7qlXUbiZ3W0Wni6vd4n7erf7L/W3KOLssHQ32QGr/ddazG0KwBgIgnhelKZDCNHm8LELwBAoaF2PdthQvHwc8tGnF/eYpjyx/4l4A3+d/z48b6K1JxkaG5ubmtrm56eXllZ+fnz5+7duxPlGIZRqdLYpY2NTW5ursoPeeLECV9f3+814V8a+/z06VNOTk5CQgLhaCsRHx9/+/btI0eOELtFRUW+vr4eHh59+vThcDipqak8Hq+kpCQ7O5tw5CMiIuzt7YkDL1++TKfT27Zta2VlZW1tvWvXLolEsm7dOtlXieM4juOOjo6yyQonT54kNgwNDWXbfD4/OzsbAOLi4j5+/BgSEqK+A9rU1cljwVgAKEjPM7I1K8qQPnr5nEotllphp7yUrDdX41v36lCQnufk7nx60T7iplUHpq0pTy7oyMtgm/Rur+ax9UbL1pSvKGqsiajJAJeSB4lYlcZxFACwc3XstWA0ABR/yTewNS3JkAYwqjg8hq5mQb46cXRtNWaBNwDkf8k1tTVnZ0hjRZWcSqau9veO6tTP9d3DtyKBEAAc2jRp+3v7rQEbS/KKW7g4Bh9Ysmzw/Nr/uI6urccu8AaAvC+5ZrZmaoq69HN99zBBpDiY+Puo3q/uPBfw1Q2iAwDFwFQ+0omXFqDN2skbVJ2NAIkYACjmdoxRgfxj4cDjiv65SHXugRVmA5WK6BmLHl5SX1EqKhfpxEvZaHOFy6nq1AapqIU9Y2ww/1Ao8LgUSweg0QXnt4FISHXzoA+aJLy8X31Ruq2ZfKSz6mu+fq+OdR6Vs+mM8Zje/JSvCJ1GtzLJ3XJOfUUCLVsz+Uhn1Ve2YW8VvaIShZceFVx4ADiO6jJb7gwUc/nsM/fUF0UtLeQjnZKcXEZXxec3nWaybTPVzgYrKyuaGwKKEQ6tHt0Ez1+B5kPVVCtzUXa1rjgrj9mjs0pLfb/RZYeilAoNpnkVhmkcWv4l5OSzbazMZbu21paPn72S7Tq2aLL/5LmSsnIjA/08duGj56/btmoJAKsXB8bd+mukR/8vWdk6Otr93DXwhJq6Og1eMBYACtPzjG3Nir71hHxOJYP13Y5CJS27tS3OKijNrXsOSQvXViMWeAEAOz3XxNaM/e1hx+NUMr//sOvQr/PHR4my3qlDv86eQWMsW9j8ffp27Nbv3kGWXRy7LhwNAGXpeXp2puXfGigo59FrdPV0XaaQwyO2OV/ZLFsTYtuhf6cu84YbtrD+cOr+88iLAKBnY2resdn70/cvjVlLZzE9ji6oZJfmPk2us+0/lIaPvPv5+cmPqgOAfOBThrW19YcPH54+fdq3r+rxQKUUHRlPnjyRSCRubt+9RP+l3ufRo0f37du3e/fuffv2yQ+v83i8I0eOvH//fvfu3bJyExMTmVM4YsSIxMREJpNpaGjo5uZmY2Pz9OlT4qvhcrm2trZz5swBgPz8/KNHjy5dunTAgAEAwGazTU1Nx40bh2FYSUnJ1atXdXR0UBS1srKS/1RVVVWTJ08GAIlEwmAw2rdvb25u7unpOXLkSI1al/4ieadXOLG95OZm+So1A/va+jo2bZvEn73H5/A+P0/uPKz7/YNX1VSvGQnH8R+fP1cz/P79gLwSuq3tLEb9/mHWzvopZ75IOeElnS8bcEthKmctgwL1I+VF0hqvUGJ7wy2F+Zrf+5Jtnex7jOi5e650LElHX/evs3dL8ooBIPVVSlFOoWVTq5zU7FpFP672WkFsb7y1Xb4K+46onZN9jxG9ds1VeE5TUMoAv8Gyz68udf5lJdLJEhg7U/L5HWrTQvLpNcXeCedXgIAHQgRwnOLQGsv4+ENE879K0t6iti0lKa8QLR3RozgQCQFAHH+NGaTZhFoVoljdNw7Lra24lCvh8IBCwXGc1aMd99G7Buqq00vgYumUdEkFP2v7RdugkRp5n3U3VigqmjUPABiuLkarQ4tmBctqqM2aMgf2K125FhoFVY01CJjAe/JS+ElhJquWa3sxu0ico2Ec/RdR84GNyIVy7awt5/lPXLJ6i1AotLIw69yhLY1GBYC/nzxv3sSOTqc1sbV5k5iUnJru1KKpmorpL5J3fXvuLL65Sb4KV+NKlqf/nOHnlx9WxzL1RdImr5XEdvjNSEVR1ZexjZO923D3A/Oqu7KEuy8T7r6kMxmjQyb09hnw16lbKg/Me55yaaz0qht/Z33tWkoXuMwg487rjDuvqUyG25KxbSf2e3/iLkNfpyQl+/O15wAg5PITj9xy6NPhl3ufDUdpnP17VFRUVFZWtmrVKjk52cnJiSjEcVwkEtFoNADIzs7u0kU5tJyYmHjnzh3ZmLNK/o3eZ3x8PIZh3bp1KygoiIyMDAmpToDYtWtXy5Ytvby8ak4JJRg0aBCfzz937tzNmzeFQmGbNm1mzZpF5CG9efPm+fPqtJUmTZqcPXuW2EYQZNq0aZcuqQjAZGVlybZrGhQUFDRwUKY0t8jEwSI36SsAMPV01Jy72TfAM+NNKp/DA4C8T1ldx/V2cm+f/OCtOsdW5RRpO1S/c2s7mAtyNE6D0JSqnCKmomiVeqK6re3tAz0/Bu2WPU0bAie3yMjBnJ2UCQBaetrqz5StB8W5heYOlplJGQCgo6dTpUrLrpXD0Jkj9s7fIfnWutKCElRu9h6OYRp5yEqigu+Ies4cuWf+doniV9pjeM+3/7yp5FRqoAeAcYoRQzPZLmJohnO+P+6JILiADwCM/j78A0sBAHBc8iGe6b9euqumaHkRYlR9OSGG5nj59y+nb6I4txQocjMjNXzpEuYUMeyrRbXsLYRqxH7swqe+7x0EAIBhJZcetP1rh3RXbQQ5RUwFXXNBrlpZFzIQhCKp4Gt0iIRdgFpXv3uj1laSgkKVloIXr/Tm+FMM9LGycgCgNm/K8h1funoD1CsjU5xXQLOxlO1SbS3F+cq6+lPHSYpKKmJvK5Ub+nsXrVed3/AvxNLcNEvOUc7KybMwM5E36PGbS4/fpLmAE+csmew1gsfjnzgfd/ZAJADQ6TSP/j1nLFp1eq9C/EJNSnOLTBzMc5MyQZPnDkGz31pVFHMKv+TVbapIcW6RuYNFVtJXANDW0xHwlCd3AYBtK/tBM4YfWrBLUqPDF/IFD8/fG7nI+3vepzzcnGJ9B3MiN4ihry2uMZ4j5gvoetpE+FPP3rwit0Sp9uPZf9wWj31/4m4luxRR6JPxRg9b1IOfs+KSUCh88ODB4MGDAaCsrOzTp09Eebdu3WJjY8eMGcNmsxMTE1euXCl/VHJyclRU1OrVq2v3jv518z7ZbPbBgwdXrVoFAMOHD9fR0UlOrn7JCAkJsbS0jIpSGHAJClLozUNCQmg0Wnh4eGRkpJOTU3BwMJGo7u7uvnDhwjFjxohEog8fPrx9+zYzM9Pe3n7+/PkLFizQ19cHAIlEsmfPHh8fnwkTJvj4+AQEBLDZCjPN09LSZs+ePXHixIkTJ/r4+ERHRxsZGTWkva/iHvedLp2V1cd/yJtr8bXbE/C5PJdh3al0KgAw9bQdu7cTqrqTVSIq5opKuUbu7QCAymJae/fKv6JBvnz9kBdFWUxL794FV57WeRSrQzP7OZ5J8/bVb8y9Ju/j4t38PYhttwCPj9fq/gz15kncIw//YcS2R8DwZ9eUMyGaOjcfOmP4gUW75Ie/X9x81s9noI6+LgA4tG1qaG6Ul656Ss13RB8O8R8uE32qWnTE/kU7lcbcEQpl0FTPG4fj1NeSwuMCr4LSpA0AAINJa+8uTlJcmoAqnZFCMbOlWDXFcj4DACAI6ih9slIc2oBi+qC6ok3bSUU79RYrJtoD7ZuouR3FuhmWkwYA4qTn9N+HAYIAANW1vyT9vUaa4hKOuJSr93t7AEBZ2iZefUuuqpHdQkEMBkon1en97ozQNGwpgKiYIyrlGrg7E7oW3n2LrtTdS1CY374BbYZt8KiCGM3Sz7Gycqy8nOHqAgCIjo7O0EFEVrsUGk0255Lh6gKAYOUcAKC1cmT5eJWu3VSPMXepbmm5pJzLdOsEAIiuNmvkwMrbD+QNDGf5SopLuRdvKB3I6NgG41aI0n9UJjJKRamaXqW1YmSgr6/PevLiDQBwKypjrt0Z0Kt7TTMcx0+cv2xsaGBjZUFBKezC4oT30gfi7b8fM5la9VN/Hfekz/ShxHYf/yFvNOkJBwSOvLNHOVlTHZ7FPRowXbo64UB/zxc1HnYOzs0GBgw/ErJHvneia0mvZJSK9vEdmPoiSR2tT5fjOwYMJrY7BnikXlV+xqVeedpphvRZ0GmGR2pcPABQv2lRqKizX7/c5ykAUJFXgmOYXS9nwsB5Uv8vt17B/wNwHL906dIff/xB7LZu3TovLy8zMxMAZs6c+ezZswkTJsybN2/lypVK+d+BgYGfP3+ePHmyr6/vlClTvuesI/8GL14eHMcrKytrhjbHjx9POJ3Pnj17/vw5kW+l8vCxY8cSiwIQhIWFeXp6du7cGQB4PJ6Pj8/KlSvbtm2Lomh5efmZM2fKy8uXLJGmTEZFReXn5wcHS0eRSktLp06devToUcI3BYAJEyZs2rRJltK1detWMzOzCRMm1N6oIIdxtdQOCh7j2L0djuN5KZkx4cdrrrgEAAaWxhM2z9ztI12dFKEgg4PHOrm3F1UJqAzakzP3np7/S+mQIfzvvnYwLAxbb55GZWkjNPTr3mvsGncmADQJHlGVWSi/4hIAMKyM226f8WrMd8fU0O9PRmFYGDpunk5laVNoaObeqwWqRB2CR1ZlFhArLiFU9PePB3mpOdi3hKr0TdFlT1V0PY+1NAjh9wwe1bRHWxzHC5KzboWfrLnOCADoWRp5RgScmrC+ZpU8ycCr3WBUsFfbHs6AQ1by1xPhCmtpoVR03+vjuZ+zRd9ad2FLVPLzjwDw+6jef0wcJOALqir5J/48UpCpMJJY5w+sjQ72atujPY7jKkX3vz7xf+yddVwU2/vHn9mGhaU7RMEGFBWvioJ9vQY2goKFgi0GFsL1KmKBLV6xsEVExe7CFlvBlu7O7fn9MbAsywI7C1e++jvv1/4xe86Z8zln4swzz4lJ/ZYs5FUERm4+Toj2cO5l1bHV4dW19qbt86q1jwZT12L8NRljqgCFJnh6RfTxuXQs09kb09AFsQjnlfNvncTzMwEA09RnDBiPqagBjuMCPv/GMTxXnpFd+4xpTF2LMdQTY6kChSp4fEkUV83kZY6aXSlaxr9+HM/LAACgUBn9XSnmrUEoFOem8a8dAb4cl0/c3lpf5OiG2hbrZ1DVVTE6LWNPdL68d0Wj+WP4ydmSFZeYzQzNVk2haamDGBeX85L+PsD9Kn8cBVdUq3HDMNS22uhF3LCp/17IuSjHVjDzGc1NzpKsuKQ33MF4+mAxX4hRKOmHrmWflV0ciqBF81od1RQ9Xc0lCyhsNkajFp+I5N6psgLp7dtqLpqHc3mAi0U5eUW79oiysoFKNbpyVpiQiFeetaK94fzXb2vmzCup64al6uvo+s+nqLMxGrXwUFTpjSq7mf2no27AfP6n78RfnMvLmFUx5sQwNDBv5yF+XF0rRZjd+beO2P8KUa3XcGZ27uqQ0JKSUqFINGnciIFS1ieO49MXBYhEYh6PZ2fddu50dxaTCQDvP37ZGnZYwBcIRWI9HS0/H289Xfnuj8V//C03XMJfC8a0crABHE/7lHxm9SG5LaGmkc74TTNC3asafItOLfvNcN7vFVIzMQAUQz1rkgxf4NLOwRZwPOVT0onVB2Vap20vD6R9TZEEntt88vOz+FGL3dr1tOVz+VQa9dWN51f3RMvk2Ukk3wTvunCUWU9rHMdzPyXHrDpac8WlngETdNuaYxQs5WHc05AowPFuS8aa9mwv4gooNOr36y9eVU5L0rAwcFo7mbBN3x+59fncIwCYk3y07sr+p0yzGNPAHPYlnK47QWho6M2bN9nsakt6FRYWnj8v30kRFhbm7OxsaKjoTNn/OeuzNiSrvn/9+nXWrFkGBgbSsbNmzZIMbp09e3afPn3+/PNPGo327Nmz0NDQAwcOEEeQy+WOHz9+yZIlNjY2KioqWVlZJ0+exDBs/vz5xL737t2Liory8fExNTXl8XixsbF79uw5dOgQk1kxPXbevHmDBg1ydHRksVipqanBwcEjR47s27dv3YWv2/qsCYZh44KmRwbsFwmU726uw/qsiUYnK46dZfL++ns06qYO67MmnE5WHDurlP1kZljLg5T1KQcMG7rO87L/QTHJo12v9SlPCvNcN/Ogfxgxi1MJlPi8L4Zh09bNPNAAUajT+qwJxbgFxdhSGHtDabkKyKzXQzGxpJhYCZ819Bquw/qsCduuJbtjy6yDlxsoCnVanzVRt2up3skqbb+sC5AsdVifNaG3a8No17b0NLkpYjWp2/qsCdOmDdOmddFxWbODLP9r1mdN3sZ9ehf/ZcJo0msU1KRe67MmGIa5BE07HXBA6edOvdanXNGJQd5HA/Yp3TrVZn3KFeuzfuq9leFkm3q5NK31ObXB1ueB+qzP/5pfxvpUnNLS0uPHj79+/VooFLZp08bd3V1PT08Sm5qaGhERER8fz+PxdHV1HR0dhw0bJu03fv78+YULF9LS0phMpo2NjYuLi3TfeklJyfHjx9+8ecPlcg0MDIYNG1bHlC4JZK3PRoGU9dlYkLI+G4uGWp/KooT12XCUsD4bBVLWZ6NBfrXIhkPK+mxESFmfjQUp67OxIGt9Nhb/+9ZnI6KE9dlwlLA+Gw4J67NRQdZnA/lfnHXUQNhs9vTp02uLNTExWbhwYR2729vby3w2Sho1NTUvL68GlQ+BQCAQCARCWZrKDdGI/M/NOkIgEAgEAoFA/Mb8hr5PBAKBQCAQiN+Vn7Pi0n8Ksj4RCAQCdy6PYQAAIABJREFUgUAgfhnILQT9PwnqeUcgEAgEAoFA/DyQ7/NnoNIUVr4aRckFnxtCkZj+80W7ckUxKk1whPl4IyzbQZYm63BR6tM1DUWxD882LiK8CRaLaCqo9Ca4oFS1+EJeUzg+mmT6ObUJmkRoIscSFZrg3nlD5XUQMX++btPyy3s+ke8T8RvQJKYnAoFQjqYxPRG/Kf8PTc/fA+T7RCAQCAQCgfhlEP/63k/0DopAIBAIBAKB+Hkg3ycCgUAgEAjEL8NvsNo8sj4RCAQCgUAgfhl+g/U+Uc87AoFAIBAIBOLngXyfCAQCgUAgEL8MaNYRAoFAIBAIBAJBgiawPhMSEqZNmzZ+/PgpU6Z8+fKFCJw0aVIdu0jHnjlzJjo6mpRizcw9PT09PDw8PDySkpLq3rduOZFI5OnpSaowCAQCgUDUTWp6puu0+XvCTzR1QRD/i+CAN/DX1DVoip731atX+/v7N2/ePD09fcGCBSdPngQAPr/iwzzHjx+/cuUKsZ2cnHzr1i0qlSqJBQBRnd9ciYyMPH/+PADgOF5SUnLu3DnpzCXs379f7u6zZs0qLi4mtjMyMqKioqTljh07dvXqVWJbLBYfO3YMx/GamZPlT99xrRxtAYf0+MSz/gdEfKFMAjqLMSJwqoaB9j6PIJmoNn3tXLfODp+6KSH2k+KKDBNdy00zaBw2xqClhUbnnHsgk0C1vUXrPYuSt0TmRN2XBLJtmpsudKHrcHCeIP/Oq7RQcu8A0rBMdNoHT6drsDE6LSH0QvrZRzIJ1Ns367jX52tIVHqUbNmUYIDvuJaOtoDj6fGJ5/0Pyj3CzoFTOAbaBz3WESGq2uquO+ZiVAqVRhXyBJcDj2bE1/OiUpPxvh4dnOwAxxPiE/au3C2srttjaM+B7oMwwJiqrLO7Tz+98hgAKBSKywK3Do52Ap6ASqceW38o7ukHUqITfD06OtnhOJ4QnxBWQ9ShUpSlyjqz+/STK48BgMagTVw+2dLGSsAX5Kbn7g3Ywy0tV1wR4+gwhnpiLDZQqYJHl0QfHkvHsjyWA50FQj4A4KVFvKgdAMAcORtT16zYna0h/PJKcJPcUxbT0GE4T8dYbKDSBA8viN5Vu4RYk1cCnQlCAQDgJYW8yG1EOMXIgt57NMbWACFf9PWN4MEFUqIAwDDRbbFxJpXDpjBoabvP5cq7d1r+uzh1y6mcMxX3jtUuH4aBNrFN09UouBmbFHiElCjTRNdqkzdNg02h01JCo7PPPZRJwG5v0SZsYdLmyOyoGCJEf4xjs6Wu3ORs4u/3gPDS9z9IiVL09TV8F2NqahidVnriJPfWbelYjRXLqEZGgOPAYJSdiuTeviMdy1niy+jYMWf8BFKKBFQDfa3lCzF1NYxGLz4WUX69mq5WwFKasRHgOMZgFJ+ILL95lwjHmEzNJfOpero585YoIZqemb1q087iklKBQDjFbeTg/k7SsTfvPz58KppKpVIwbN509w7t2wBASlrG2q1hZWVl5Tx+czOTlQtnqKuxlZCWS2Z2TmDwzgG9Hbi8/+qTdYN9Xds42gKOp8YnnfbfL7dVHBPoqWGg9W/lc6fLqF5/uPSRJNC3NP7bfgYp0ZG+bu0dO+I4nhKfeMx/r0zr1GVoD6cJAzAMY6owr+w+9/LqU0lUf88hwxe6zm3vobhWt6Uu5o42AHhOXNJdv3BxdS0Kg+a0ZpJu+2YYhZIc8+7xuggA0Gpp3HvtFACgMunluUX3/Q8Vp+ZKdlEz1hl5yi/+1L3Y7co/+xqL32DWURNYn1wut3nz5gBgZGSkpaVVUFCgqakpiR0/fvz48eMBgM/nT5kyhUqlksp87NixY8eOBYAbN268f/++ZoIbN24cPnxY8jcuLm79+vUDBgwg/oaGhuI4XlBQoKWltXjxYqGw2vU6YcKECRMq2lNXV1diIykpacOGDQMHDrSzsyNVVIKOzj00jXV3DPMDgD8Xu/T2HnZrx1mZNG475r6OftjNfYBMuLa5vs3gP+JuvKDQyPmwrUJmpoZGF95/S1VXtT67pvjlF15SpiSWbdPcZPbIvOvPMamDzzTVM18+4dvCUH5GHrkaysN6s/ePXRdy77+jqat0jV5V8PJreWKWJJZjY9F87vCsay8oNHJnXy62zj00jXVCh/kBwIDFLo7ew+7UOMLjdsx5E/2oq3t/SUh5fskRz2ABlw8Aph0shwd57hn5NyndnsMddU30lg5dCABuvu4jZow+vT1COsH3d99WTwgQi8Sa+lobLmx+ceu5kC/sP/5Pw2ZGK0b44jjerK3FioMB3t2mKi7aa7ijrome79CFADDe133kjNGR1UW/vfv2z4QAsUispa+18cLm2FvPhXzhqJljSgpK/MYsAwA7p07jfFwPrT2ouChz2HT+44vi7++BqcKa5C9O/YoXZFdFYxRe1A68MEd6F97ZXVW7j5wt+vBEcbmKvYZ78x9eEH97B0wVlucqccpXPL/qEgKMwovcXq0YAJiGLr2/K//cHrw4n6ychBbBs9J3Rxfef0NVV213JrCk+r2jatPCZPbI/BvPMalL9+vsrZJtq10+uedl37XqpWXIzJTQ6IL7b6nqqrbnVhe//MJNqqos26a52ZwReddjpUWBSsmMuJsUfIqslgSNpb6lJ07yY19gbLb2jm2CuHhReroktmjLNry8HAAwDkdn7x7e4yfEXwBQdRnLe/qU2bmzcrpafouLj0bwnr3A2Gy9PVv57+NFaVW6BZu24eVcAKBwOPqHdnMfPiH+ageuLLt2S22Us3KiARt2THEb2cPerrikdNLc5TbtWpsZGxJRSSlpYUciD2wNVGOrFhaXLArYsHtjAJ1O9/0neOZkV8fuXQAgOPTgvmOnF3jX1YNHCgM93dDg1dGXb6ZmZNafmjydnB20jHU2D1sBAIMXj+vr7XxjxxmZNB475r2Mfugg9dyJPRMTe6bi9aa1o237vp1IiXZ17qltrBs4bCkAjFjs9qf38Es7oqQTJL77vsV9jVgk1tDT9Luw4e3tF4R5OmKRa05KVkl+keJarUZ0VzfWOTXEHwC6LRnbaebQ2G3npBPYeQ0uzy2KHBoAAAO2zWw9yuHTmYeFCZnRE9aLBSIAsBr6R/cVrtdnV7RUFAatp//4d4duMNRUSNUaURtN0POuoqKSlpYGAHl5efn5+dKmpzSRkZH9+/eXG1W3+xMA3r17t2HDBi8vr2nTpnl4eHz+/FkSNWDAgCNHjqxatcrJyQnH8bVr10pMT4K0tLSNGzcCQGFhoba2NgCEhYVNnDiRx+Nt2bJlzJgxRJe9jY0Nkd7c3Hzp0qXKmZ4A0MG5x/2wCgfM/bBLNoO71UxzeHpI8uuvMoE0Jv2vpW4X/jmE4+Rc6DRtdZqWeuH9twAgKi7LOnlbZ/Af0glK3/34PGOzuJQrHWg8a3juxceWwTOtz61pvmYqRZVFSlQaurY6XUst9/47ABAWl6eeuGswuKt0gqJ3CW+8tomqF0BpOjj3iAm7SGzHhF2yrl5ZgqPTN8scYRzHCdOTSqcatWuW9pac3wgAejo7Ru+paNDP7znbfbCDTIKMxHSxSAwABVn5Bdn5FIwCANkpmclfkohzmpmY8ePDd6VFo+sUzZcStbS1eny5wp326t7LtvbtSEiqqIGKmvj7ewAAXrnw9T1qW/tqCXCc8ddk1pS/mW6LKSaWMntjOkbAUhGnkzy8quqgqib+9q5C9OVdartqlxDgYsaQKaxp/zDdl1BMrYgwes9hog9PGcO9WJ6rGIMnAYP0B/oq7503ACAqLss+eUu7+g1b9u77lxkh4louXZalMVWdXfr2G3lRtYLKGzbzxG2dIdVES9/9+Oi9RfZ+EeM6g+ytTwXYng808R5KShEAMA0NCofDj30BAHhpafnlK0wnR+kEEluTZm4uzszEuRXq9A4dKBwO7959UAqKBoeiweE9q9Atu3BFpU+v6roVQjQLM1FGFs7lEX9zff35H+KVE80vKCosKu5hbwcA6mrskYP737xX5b//9DWhq52NGlsVADTU1VpbWryL/wIAxob6rSwtiDQtm5s3NzdVTr02MOw//GZ6J+cedyqfO3fCLnaU1yoemB6cWOO5I6HfzOG3w8h1HXR1drgWdp7Yvh52vsvg7jIJshMziNapMLugKLsAwyrsk3MhJx9E3AYytHTu/vLfS8T2qz2XrIZ0lU0w7A9Jgpf/Xmo5rBsAiAUiwvSkqTC1W5tmSzX7Dn5uL3Zd4BaUkCrGfwfeYJq6Bk3h+/Tz8wsICMAwTCgU+vv7y03z+PHj69evHzhwgPibk5Pj4eExZMgQV1dXW1vbdevWEd3rEkaPHj1ixAgAwHE8IiLi+fPnPj4+8+bNmzVrVufOnd3c3IhkPB5v1apVANC8eXOBQDB27NgnT57cvHlz3Lhx9vYVj0zJidm1q+Klx8vLa9SoUQCQmZkZEhLSrFkzABCLxWlpaRwOJyEhYfXq1YMHD+7SpYuCR8DCvvXARS4AkPM9XdtMPyeh4u22vKiUqa7oe9VQf4+b26K4xSR6SAmYZvrcxKr3aW5Chmaf+k1ntnVzCovxafomcTnf2HtY88Cp3xaGkpUmUDHTk/Z0liVk6vbpoFxWtdHMvnX/RWMBIPd7hpaZXm7lEeaSOcKmHSyH/jNJ38rk093Xp+btVGSXtvbtXBdNAIC0H2n6ZgYZCRU+m9KiUpXa35i79O/6NuY1n8cHgFd3X9IY9Nad26T/SOs+xGG7z2ZFRN0qRQ3MDNKlRFVrF7Xv3/VNpejXN1+cRvU5tvEIjuMOQ3uaWpkpUlkCiqYeXlB1NvH8LKqlrXQC7vGNIBICAMWgGXPs/PIDf0NZsSSW0WuE4OFFxeWqRPOkRPMyqS2rXULcI+srRA2bMV0XloethLJiilFzoDN4EVtAwKf1GMIYPJl/bg8pXaapPk/63klU6N6RYDJ/TNouWb97vbDM9KU9ndzETK0+HevdK/vsg6zT9wHHqWoqrXbMFRaXZx6/pbgo1dBQ2uMoSk1j/FH9+c1gaIdsopqaiQsL8hctBhwHAIqOjqrzsMK1sgOESOgaGQpTq3SFKWms7jK6dL3tm2jmpuL8gux5S6AxHqKpGZmmxgaSv2YmRg+fvpD8bd2y+Z4jEXkFhdqaGumZ2Q+evbRu2woA1iyde/7anVFDBvxITmGzVfs7ytpS/2u0sG/z1yIXAMiu8dxhqauSyqplD+u85KyCtNz6U9q3Gb7IFQAyv6frmulnJWQQ4WVFpazam+IO/bvEPXgrIDnqwKhr626LxwBAwfd0jrleYWUFeYVlNR2WDDUVflEZsV2UmKlupktsWwzo1NVnhFZLkw9Hbz8LqXDNth3nmPMhMft9gk5bEm0jom6awPps0aLFvn37cByXfrfz9fUlNsrKyg4cOPD+/ftdu3ZJut11dXWPHKkYKdW6devw8HC5OYtEolmzZjk5OQUHB2MYZm9vf+nSpc6dOxMuTJFIlJ2dPXv2bCLxwoULg4ODO1d2D5WUlOzZs+f+/ftCoTAvL2/UqFFUKpVCoVhbW7dv355I06xZM19fXzabjeO4WCw2MTHx8vKysLAICAggdQQSnn8Kc11DbPtc3SAdhYsVGs7RzX3Aj6fxmZ9TSOlWatRorxUQpWmqpe46Jy7nA0DangudHu+qdxcSBcAbeRBL4vNP+10Die25V9dXl1L0cZXy5tu/IwKodGoPz8EDl7heW1//wMT453F/u/oR2yHXtlfTreUx2ayNhePI3tvmhxB/9Uz1dY1139x7xefxE+J+OAzrdeP4tXpFAypFt1QXFdcpurVSNGpX5LgFbqsjgsRi0bNrT7NTs+TuVQs1z2b1EFHF8BVxZqLo21uqaSvR54pHO6ZlgHG0xUkfycjJk4Aal5BENCNR9OU11byV6OMLTIUtiDkPAj4ACB9dUvHZ1nBdxS8npoUh01i3+GnczxHFhRUdRKKS8uRtUWbzRpGyPutvJfj8vLnzAYDRpbPm3wF583yASlWfM7to6zZF2pM6hGX/y+oKsmf4AACza2edQP/smQsaoFVBTS8jRqnqFTQ3MfLxmrhszWY+n29sqN+lozWdTgOAu4+eWTU3ZzDozc1MX72N//jle5uWLRpemP+O788/7nJdTWz7Xt0oHaXgc0fCgDkjIv3kz52Q4cvzj8Guq4jtv6+GVBeVfxmbtDHvNqLXPp/tcmPrIP3Zp7Mua4lttxvr6taSucAlCRJuvEy48ZKmwuy+zMV6Yv/3h2/qWVvotDF/8M9RsuX5T/kNVlxqmvU+7927d/BgtYFl1tbWnTp1AoCdO3e2atXK1dVVTU2t5o7z5s3Lz68Ys1VcXMxgMJjMiu6zdu3aLV++PDQ0VGKzGhgYTJ06FSq9mIWFhcQMJ4KuXbueOlU1KKpHjx6LFi1atGiRjGJhYaGkbZo5c+bMmTNlEixfvpxU3WUoSMvVtTBIj08CABUOm1/GU2SvDsO6C7j8zmOcAMCwtZmBlcnzyHtPj91UZF9eag7LwlDyl2VhyFPgFZafkSc9DBQXKf+AKU/NUbGo8jSoWhiUp9ZfAKUpTMvVsTAg5gyxOGx+GbkOfZFA9OzYTe+ofxSxPqXJScs2tDBKjE8AADaHzZWn26ytxYiZo3cu3CqqtBUmLJl4dvdpwiX56cVHZ6+RH568T/ueqriokYVRQqUoT56oRVuLETNH75ASFYvEJ4KPEdtGFkZdB8rphqsNcWEupqUv+Ytp6eNFtZ9NDMP5Vd56eq/hgoek5/0AgLgwB9OuuoQwbQO8sA5RCs4rBwC8OB8oUiMjyRtJsvdOM0N+Wk4d6aUxmT8mdSdpxychqtKsqrKsZgY8hUUJMIwiKiHXSSLKzKSaGEv+Uk2MRVny30n4sS+wGTMwDQ2amRnV2EhzZcWLEEVbS2vTxqItW0VpaSR0M7JoUro0U2NRVrbclLxnL7A5XhRNDXFBoeL5y8XIQC85NUPyNzk13VBfVzpBzz869/yjwk8xcc6yKa4jy8rKD586fzIsBAAYDPqQAU4zfFcd272pgSX5aRSk5ehaGKRVPnd4ij13CCz/aFucW5T9I73+pNXJS8vRtzBMiU8EANVaRE3bNhs0Y8SBRbskrZNyFKfmalgY5MYnAQBTQ1VYLqslLOcxOKqE+5PTzKAkLU8mNu7kve5LXd4fvtl6lINOG7NhR5YAgJqhFpXFUNHl3POT7wL7aaBZR0ri5OTk5FRtUqFkEs+SJUuePn164sSJuXPnSmLnzZtHbGzfXvU+FBoa2rFjxx49ekjnQ6VS7927t2/fPunA/Pz8ixcvamtrL168mMfjRUZGPnz4sLi4mMlktmvXzsPDQ1+/6vH5+PHj/fv383g8sViMYVjv3r0JE5ZAIBBs3br1zZs3FAoFx3FdXd2aBisp3px/5Dh9aMTCUABw9Bry7pJC0y/2jFst2R4bPOPF6Xvfnyg65kmYWyTMK9ZwtCVmHem79fs4aV29e+Vdfmo6f9SXOdsBxw0nDyp88E5BuZoIcosF+cU6jjbErCPT8b1fTgxWOrd6eXP+Uc/pQ04v3A0AvbyGvL/0tN5dAIDOYhDjPjEM6zF5UOJz0v65B+djnL1G7liwBQCcvUc+viQ7T9nS1mqop3Oo73YBTyAJLCsudRrd98jagziOaxvqWNpa8cl0P8Wcj3H2Grl9wRYAGO498lENUStbq6Gezruqi0pQ11KfsW72hX1kZnSWFUN5CaWFNTHriG7Xm3uymocDaAxiwjvFwJxi3EJ8vcLMxTT1KHom/G9vSWhVEy2mWNoQs47onXpzj1e/hOgMwsdJMTCnmLQQXzsCAMK4ZwzHEbwzuwDHaV0Hir7LmZVYN8K8IkF+sYZjB2LWkZ5bv8+T6793AIBppq/a0vT73VdkFQFAkFskyC/WdLQlZh0Zju/3YdL6eveiqDCIngqKKtNswei0A1dIieKFheLCIkaXzsSsI5UhgwuW+1VF0+kgEhHmO6NLZ8AwvKhI8P59nnfVy7lexMl8X9LTz8UFheLCQmbXzsSsI9Vhf+X6rpSry+zaGTBMXEhiJkptaGtqaGioP3r+iph1dObSjZ3rVtZMhuP4kcjzOlqapsaGXB4vMzv39fuPHa3bAMD1uw9VVJQfCl8bVBqVRnLerYK8PP+oz/RhxxbuAoA+XkNfK/bcIRg4d1T0WnKLNhA8O/9g4HTnAwt3AMBAL+fYS7LT7yxsLftPHRK+JFQor3Uixefox3beg2/6/AsAdt5DvlyUbfa/XHjSacaQJxsjAaDTjCFfzj8GABqLIeTyAYBCo9pO6p/27BMAPFh9TLJXm7G9OKZ6z7bIztBCKEHTWJ9Pnz7dsGEDh8ORhLRq1aqO9N27kxhSU9O0lYz7BIA1a9a0bdt206ZNampqAoHg1atXXl5ep0+fptFoAFBcXLxhw4bDhw8TZcNxfMuWLSdPniSm4QPAqVOnNDU1jx6tcMJ//fp18eLF0i5Vsrw690C3ueHM06twHM/4lHxh9WG5ycQisbiWd0GxUCQWknsR+uqzs8UGb9MFYyk0asrmU7wUOd4FXCTCpWZ3ZR69wTTXt7kQJOYLyr+lJfzdoDe/d/N2t980zXLhKAqd+jXkTHmynAKIRaLaqkyKN+ce6jY39Dr9N45D5qfkS7UcYVwklj6MncY6dRrjyC/nUWnUxNhPF1cdIqsbc/aukYVRYNQGHMeTPiYeXL1XOpZKowYcXZ3yLWXloYpuqZObj8c/+xC+Zv9EvylB5zbxy3k0Bm2f/56cVPm+H7ncP3vXyMIoKGoDjuOJHxMP1BD9++jqlG8p/lKicc8+dHS0G+49kkajYRTswv7zsbeek6opL3oPY8hUrNdIoFL598/KTG9nDvXENHVBLMa5ZbwzOwlLFADoPYYpseBRleiZ3QznaZjTKKBS+XfPyExvZzpPxzT1QCzCuWW8yB0Vve2xtyha+qxpq0EkEOek86/KvxLq5pvPjhYbvE18xmA0WuqWSPn3jlCEV790jWePVM7xSfB5/i6rjV7mC8ZgdGrS5kievPtFRlRnoL3x9MFivhCjUNIPXSu4+4asaOG69ZxFC9UmTQQqrST8sCijyjtIb9mS4zMf53FBjItyc/OXL5czPEDZpejy1mzUWrqAM9UDaNTiA0dE6VUDbRmtrTQXz8O5PBCLRbl5uYv8qumKxHh9E1JrY+1yn9UhoXsORQhFopmTXU2MqpzNOI5PXxQgEol5PJ6dddt1KxcAAIvJ3LHOb2vYYQFfIBSJ9XS01q1ohDEAMgz7s2+j50nw4twDveaG807/g+N4+qfks6vlt294jedOs04teWXcNPLLzwHA03MxBs2Nlp5eg+OQ+ikpYnW1/k8qjbrgqH/611SfQxXvOdGbI748q/KqCHmya0LVweezDzWbG4w+E4DjeO6n5GerZPvNX/57qWfAhFFR/hgFS3kY9+nsIwDoMm+4ac/2Iq6AQqN+v/7iVeW0JAlioVis7DXWuPwvLNjZQLAmmfp09uxZkUg0ZswYubFfv36dNWuWgYGBdOCsWbNkbNB///23Q4cOihimbm5uJ05UdJv+888/pqamzs7OOjo6ZWVlL1682LlzZ0REBIVCAQA+nz9hwoT58+d37NiRwWAkJCTs2LFjzJgxEnP25s2b169f9/Hx0dfXLykpuXHjRkxMjLRHVi5LLdzqTiADhmGjgqadCzggEih/oQ8n4zNTs2upZmeVQdJBUpMiMV25HTU6WWnYWSbtr2eMo1xiVEgv3YBh2PAgzwsBBxtyhD/hpOc/YhjmvW7WPv89QgGJllQaJTpcMAybsW7W3gaIAsART3XFE1NMLCnGlsLn15WWq4DM6wfF1IpiYil8qswlJM27feTMJjW7lmy7lpkHLjdQVyAmcRmr27VU72SVtr+hN2zLViQ68elt29Lbtik7o7wZTSDkkbthGe3b0Nu1LY1sqK7B+d2KJ34b9+ld/JcJo0kvFyALVckmsYEs6bKC7C4Yho0NmhbVgOdOCZDeEcMw9yCv4wH7Rcq2Th1ECi9egWF91k+9tzJc3IBmX8Kc5KYcCTrUfEgDc7iYJGtb/2Saxvr89OnTxo0bpRdOwjBs27Zt0t7QRmT9+vXLli0jtvl8fnR09IMHD/Lz81VUVNq3b+/m5qanpydJnJ2dHRERERcXx+fzzczMhg8f3rFjtRmmt2/fvnr1ak5ODpvNtre3d3V1ZTAYdReArPXZKJCyPhsLpa3PhqCE9dkoKGF9NpymGu5DyvpsNBrD+U0WstZnY0HK+mwsSFmfjQVZ67OxIGV9Nhq/jvXZcJSwPhsOCeuzUWla63Ow+eAG5nA5qaEvzA2kaXreW7duXdvXhv4LJKYnADAYDMmK9HLR09ObM2dOHbn17du3b9//qkMEgUAgEAgE4vemaaxPBAKBQCAQCIQS/C8sF99AkPWJQCAQCAQC8cvwG6y41DTjbxAIBAKBQCAQ/z9Bvk8EAoFAIBCIX4bfYMUl5PtEIBAIBAKBQPw8kO/zZ0AD2e8I/wSsBzfCV0DI4nytCV7ItoPKzxcFAOM2TXCExcov2dkghoaR+1Tjr8tmmmqT6KrRmmClp5KcJlitpry8niXq/iM2/fH3zxdtKgfPxtigny+a7ez580XnpDbFYnAAda2M89+DvvOOQCAQCAQCgfh5/AZz3lHPOwKBQCAQCATi54F8nwgEAoFAIBC/DL9BzzvyfSIQCAQCgUAgfh7I94lAIBAIBALxy/AbrLiErE8EAoFAIBCIXwYxmnWEQCAQCAQCgUAozn9ifd6/fz80NBQAwsPDk5OTayYoKSm5du2aIlkFBwfHxsY2vEjnz59/+/at3KjY2Njg4GCZQMVLiEAgEAgEAvHTwBv8a3L+E+tTJBKJRCIAmDx5spmZWc0EBQUFly5dIpVVA3F2dra1tVVcQvESIhAIBALxe5CanumTLLfvAAAgAElEQVQ6bf6e8BNNXRDEbw4a99n0DPAd19LRFnA8PT7xvP9BEV/2azZ0FsM5cArHQPugxzoiRFVb3XXHXIxKodKoQp7gcuDRjPgkxRUxbT2ViQtAVQ2j0XhXI4XP7shNw14Swn9wlX/xOBFCMbdiOrtj6pog4Avfx/KvnlKistOWTrV36gI4/jX++9YV2wV8gXRsn2G9R00ZIRKLVFRYca/idweG8bl8AFBRZU1ZPLmtXRuRUMTnCZZNXCEWixVUpBvrma6bTeGwKXR6dtiZgvP3q+IoFJPAmUxLUwzDxFxesu82YWYeEUPV4phtXiDMzEtZtkOJalL09NV8FmNsNYxGLzt9kn/3lnSs2uLlVEMjwHFgMMrPnOLfuwMAasv8qdo6RAJMU4v/9HHZ/n/Jierrqy9YTFFTAzq9LOIk7041UfWlFaIYg1F2+hTvbsVJp7VsyfaYRNHUwvl8/vNnZRHKPHWmLZ1q79QZx+Fb/LetK3bUOK1OI6eMEIvFLBVW3Kv4fytPK0uVNXXxpLZ2bYVCoYAnWDbRT/HT2lS6dGNd8/WzqRw2Rqdl7Tmbfz5GJoFKu+YWob4Z2yLyz96r2MVI13TVNKqGGgAUP3iTuTOSVB0BgG6sZ7x2DiGas/dM4YVq17Dx6plMKzPAMHE5L3XpNmFmLgBoTxyq8ZcDAGAMesb6g2XPP5AVpRnp6a3yoXLYQKcVHDhdcvmutKhewBxGC3PAMLycm7lysygrt6L63TpqThlLYavgAmHx2evF528qUVmTIOII07PDalR2zUyWlSlR2ZQlFTeszqShnL8cAIDCoKWvDy97RrqyBEN9Xds42uI4nhafdMp/v9ymeGygp6aBVqhHxZeE7Ef1+sOljySBgaWxv/0MUqKDfV3bONoCjqfGJ52uRXRMoKeGgda/laJdqovqWxr/TVK0NjKzcwKDdw7o7cDlNfKXt6gG+hpLF1HU1IBOKz0eUX7jtnSs5splVGNDwAFjMEpORnJv3QEAVr8+7BHDAMMwFVbJkRPcu/drybseJvh6dHSyw3E8IT4hbOVuYfUj7DC050D3QRhgLFXWmd2nn1x5DAA0Bm3i8smWNlYCviA3PXdvwB5u6f/Wx95+gxWXarU+MzIy1qxZQ6VSs7OzVVRU1q5d++zZs4SEhNjY2J49e3p6eq5fv/7Lly8CgcDT07Nfv34CgSAgIODLly8sFsva2prNZgOAn5/f1KlTLS0t4+LiQkJCeDwejUZbuHBhYGBgUlLSpEmT9u3bV1hYuHr16oKCAhqNtnLlyhYtWmRkZCxfvry8vJzD4RD51GTTpk2Ojo5//PEHAHh4eAwaNGjChAkA4O/v7+Xlpa2tvWbNmvT0dLFYvHDhQjs7u9DQUGtra0dHx7t37+7atYvNZltaWn758uXw4cMA8PnzZ09PTz6fz2azt23b9vnz5zVr1khKSKfTZdQTExP9/f1xHNfQ0KDRaHPnzrW0tFTuBNg699A01gkd5gcAAxa7OHoPu7PjrEyacTvmvIl+1NW9vySkPL/kiGewgMsHANMOlsODPPeMJPEROZXJi3hXT4niXoKKKnvpZtH3eDwno1oKGp01bgb/djTGqvjqIKajzxo1tTw8BC/IVaqiAAD9RvQ1MNH3HjwLADyXTHGd6XJk2zHpBI9vPrlzoeIh57N23qAxA88fvQgAS0J8r5y6GrqanDVGYLp+bnbYmZIHrynqqpan1pe9+sRPzqyIE4tz9kfzvqUAgPb4QYaLPVJ8twEAxmSYb1tUePmhapd2ytVUbcGS8tMnBS9jMVW2Rsh24cc4cUa6JLZk51bglgMAps7R3BnGf/oEuOUl69dU7b7Mn39fzitB3XAWLSk9dVLwIhZjszW3bBd8jBOnS4lu24oTohyOdmgY/8kTnFtO0TdgT51eHLJRnJOjXE0BoN+IPvomet6DZ0Otp/XpnQsVppjP2rl/jhl44ehFAFgasvjKqWuhq/f8QrrmG+dk7TlbHPOGoq7aKjKo9PVnflKmJFbFuoXBzNGFN55hVKoksNnm+RnbIkqevAcAo6UenH5dim6RG01ksm5u9t4zpQ9eU9RVm5/cUPb6k0D6Gj4Qzf+eAgBaboMMFrmnLtkGACUPXucdvggAzJbm5ntWfunrRbam+qsX5B84Xf74JUVN1eRwCPftR2FKZSshFhccOiv4kQwAHJfBOvMnZ/mFAADTtg1n7OBM33XiohKyclWVXT83p/KGbRGxXqayufujed9TAEDbbZDBIo+Kysa8zj1UUdlme/w+9/VWQrezs4OWsU7wsBUAMGTxuH7eztd3nJFJM2nHvBfRDx3cB0hCnp+JeX6m4g2kjaNt+76dSIl2cnbQMtbZPGwFAAxePK6vt/ONGqIeO+a9rC4aeyYmtlK0NXnROjDQ0w0NXh19+WZqRmb9qcmgsXxx6bEI3vMXGJutG7qN/yFelFbVOhWGbMXLuQCAcTh6B/7lPXqMl3MFHz/l+twDkZiio6134F/uw8cgENSuIJ9ewx11TfR8hy4EgPG+7iNnjI7cHiGd4Nu7b/9MCBCLxFr6WhsvbI699VzIF46aOaakoMRvzDIAsHPqNM7H9dDagw09BL8a586di4qKkgnU19cPCQkpKSlZsWIFYWItW7bM3t6+5u55eXmurq6TJ08eP3683Pxr7XkXCoWPHj3y9fU9ceLElClTgoODRSLR48ePDxw44O3tferUqY4dOx46dCg8PDw8PJzL5V66dElFReX06dMHDx6Mi4sjMiE6tYuLiwMCAoKCgo4ePRoeHm5ra7t58+auXbseOnSITqeHhIQsXrz48OHDa9eu3bhxIwBs27Zt3LhxJ0+eXLt27ePHj+UWr3///jdu3ACAzMzM5s2bE8lEIlFqaqqZmVloaKiLi8uhQ4d2794dEhIiKQmPxwsJCdm3b194eHi3bt0+ffpE5FZYWLh79+4jR460bt36+vXrNjY20iWsqR4UFLRw4cIjR44sX778/v37DRkb0MG5R0zYRWI7JuyS9eA/aqY5On1z8uuv0iE4jhOmJ5VONWrXLO3tD8UVMTUOxlYXxb0EACgvEzy4Ru/cUyYNc+x03qUTeGlxVcigcYIXMaxJC1WXbma6zQImS3FFCf2G9zm5u8JjGrEnsvdQJ5kE3HIusaGtp6VjoP017hsAtO7QuqSopOfAHltPh6wLD2xt20pxRaoWh6qlXvLgNQCIi8vyTt3gDOohnYAwPQGg/P03jFJxO+A8/o+Jf/MS0kjXEAAAMI4GhcMRvIwFALyslHvtMrOno0w9K4pnZi7OygQet1qZTc0oqmzhl09kRTEOR/AiFgDw0lLuVVlRvFKUZmYuysrEeVwAUHV148XcU1/oq7l1h9rseRhLhZQoQd/hfSJ2V/jzIvZEOg11lEkgOa1aelraBtrfKk5rq5KiEoeBPbaeDgkKX9OKzGltKl2qljpNS7045g0AiIvLck/d1BzUXTpB+fvvCbM3icuqnVCGmQFhegJA/rn7GgO7kagkcQ1rckorr+GCyBucP6tdw4TpCQDcD9+AQpUJ5H1LwXmkn9kUTQ5Fk1P++CUAiEvKis5cUxtQrZUgTE8A4MV9hcobR9vLtfT2Y8MtK00OB2vPmSgJVxyqFoemWXXD5p+6oSFzw1bWq/zDN4xKkQnkfUvB+aQrS9DJucetsAvE9u2wi3bymuJ904MTqzfF0vSfOfx2ZQ6Ki96p3OVO2MWO8kQP1Cnaj7xo3WAY1oi5EVA0OBSOBu/5CwDAS0vLLl1hOfWSToBX3qr0ZuaizCycywMAUWoaiMQAIM7NE+Xmg1IF6+nsGL2nwqCP3nO2+2AHmQQZielikRgA8rPyC7LzKRgFACxtrR5ffkgkeHXvZVt7Jd0Q/x1iwBv4q1eCx+ONGjXqiBTLly/ncDgAsHfvXkdHx8jIyN27d69du1Zu31FwcPCYMWPq6Faqq+fdzs6OGLXZq1evrVu3Ojg4ODk5EdbYo0ePcnNzIyIiACA/Pz87O/v9+/fOzs4AQKfTR40aJT3Z6OXLl05OTgYGBnJVHj9+nJJS0XYIBAIA+Pr1a1BQEADo6en17dtX7l4dO3bcsGEDANy6deuvv/6KiooqKiqKj48nbPCnT59K5hjl5uby+RWdCD9+/LCxsdHQ0ACAAQMGEIYpAHTp0oXBYACAjY3N58+f6zgmBNnZ2R07dgQAExOTnj1lTbd6aWbfuv+isQCQ+z1Dy0wvN6HiLZNbVMpUV/Txb9rBcug/k/StTD7dfX1q3k7F1TEdQ7GUp1OclUazrvbiQu/5pzjpmzjpK9WshSSQYm4JDEb57tXA5zEGjmGNn809GKKInE1Xa0/fKQCQ/D3FyMwwtdKkKyksYaup1kw/aYFHn2G99Yx0Q5ZuiXsZDwAtra06Odj5TfVP+Jxo1sI0cP8/c0b6FBcU19y3JgxTfX5SVWX5iRnqTvL9BHrTR2TtIt0lKheqgaFIyukoSk9jdOlaLQWdobEumGpiKi4sLFyxCKqvnaHiNrHs1HHSoobVRdPSGPayopobg6mmpnhBYcHSClG6VUuMwSz8JwB4PJWxLmpz5hUHb1BEzqar9VTfyQCQothpnbjAvfK0bpWcVjsHu5VTA4jTumb/P3MVOK1NpUvAMDPgSXk6eYkZnFouJ2n4SRkV/k4aVXtMH4ahtiJaEuim+vxkqWs4KV3NsbPclDqeI7N3y46H0fYYknvkIilFAKCbGAhTqi4nQXK6as8uclNqTh6dH3aS2Ga0as5MSEnzWgFiXHeZt5a3W/7uY3L3qg2GbGVrvWF1p43IDpW9YXUmDsk9TKKyLezbDF7kAgDZ39N1zPRzKpvi8qJSprqcy6kOWvWwzk3Oyk+rv2uohX2bvypFtauLskiKtuxhnZecVaCAaNNCNTIUpVW9zAtTUlndqrdODLrO1k00MzNxQUGuj69Mk8js2YP3PBb4ig4GaGvfzm3RBABI+5FmYGaQnlBxJZcWlaqq1fqEte/f9U3Maz6PDwBf33xxGtXn2MYjOI47DO1paiVn+krT0vDvvBcVFRUVFUmHcDgcwrgkYLFY3bp1e/LkSbdu3QAgIyMjPz+fsHweP348d+5cANDX1+/QocP79+9l5tUcO3Zs4MCBeXl5ZWVltRWgLutT2qVHoVAAQF1dnfiL4/jGjRulZxRRpF5zZaxdsVhch/2rrq5+5MgR6ZA6spKAYVj79u0/fvz4/PlzFxeX7Ozs+/fvv379mvDx4ji+f/9+wqCUKQmNVlVlamXvmORtj0qlKuLIlC4hhfz7feLzT/tdA4ntuVfXS0fhYkUvqZQ33/4dEUClU3t4Dh64xPXaesWH68lK4HjVQaaYW1FMW/BO7pZJg6mq8y9HAJ8HAPzrp9XWHVJQ7N2z9z5jFxHbB27ulY4Sy6vsoS1HDm05oq2v7b9zReKXpG/x39U11O5evJfwOREAkr+nvHz4ql2ntk9vP1NIvuYtKk9Uf+644vsvuR8TFMqzfs36RAX8wsXzAIDeqQtn+d+FvvMlMRRjE6qenvC9/PUZ6latV7RgwTwAoHfuwln5d8HC+QCAqamXnTwOPB4AlEee0jmiqNX77tn7BWMXE9v7b4ZVk5V3hA9vOXp4y1Ftfe2VO5cnfUn6Fv9dTUNdidPaVLoV1DjIijwDEuZvNl42Ud97JM4XFFx+xGxurJBW7aIgr1XUm+NaEvOSV/0aZjt0YLU0T1u5i5yiXFFcjqjWjPFlD1/wP1f0vVC1NfN2HCb8VXm7jxv/G0jW+qx5POU2ifpzx5XUuGHZDh2YLc3T/EhU9vvzjztdVxPbS69urK5LbgjygDkjTvntV1B0V6Wob4NFIxUTbWJqXk0yJ5ovyJ3lAwBM+85aqwNyZ/tIYmiWLVT/HJC/KlBxtfjncQGufsT2lmvbpaNqWyazWRsLx5G9t86vcKlE7Yoct8BtdUSQWCx6du1pdmqW4uq/CocOHdq5s5rfas6cOYRNKcHAwEAoFH7//t3AwODbt28ODg7R0dFQ3ZQyNTVNS0uTtj6/fPmSnp4+YcKEM2dkh5FIU5fl9OrVq8TERAC4fv16+/btpaM6deoUHh5ObPN4PADo2rUrUSwejxcZGSmT+Pr169LeUAaDITG6jY2Nr169Kp2Vra3tlStXACA1NfXOnVpHvw0YMCAqKkpNTY1Gozk5Od27dy8hIaFFixYA0KFDB4lFS+RJYGlp+e7du9zcXAC4fPlyXl5ebZlLl7AmhoaGz58/B4DExMSYmBglDFAJhWm5OhYVXmEWh82v3mdXLyKB6Nmxm6372im+C56bRdEzkvyl6BvjedmSv/Tu/aimzVV9glR9ghgDx9C79WO5zwUAvDAXpIaykW0lCTJTs0wsKh69ahpqko7RmuRl5T249rCLUxcAyMnMpdKqpMViXPHXPn5aNrNZVWUZzQwF6dkyafRmjhFm5+dH3oJGQpydSTWqsjCoRsbibPmNFzEwFNPQkISounko4fgEAFFWJtVYStS4dtEXVaLi3JyGn9YsMqf14bVHXZw6A0Bu9dOKi8Vk3+Z/vq4gNZtpbij5y2xmKEirf7ysMLsgadH2ry5+39xX4SJx+YfvCspViKZlM6REGeZGgnRZUd0ZY4TZ+QWnq03xYTt04AxySPMPJSVXIZqeTTOrunHoZkbCDNkbR3Oaiygnv/jsdUmIMCcPKnvDAVdmXRdBWjbDXOqGNZd3w84YI8jOzz9d7YZlO3TQGNQjbaUylSXIT8vRrWyKVThsfhmv7vTSWP7RtiS3KPtHev1Jq1NQXZRHUrRYKdGfjygzk2pS1TrRTE1EmfJbJ97zFxS2KkWzokmkWVmqeYzPX7MOlB3elpOWbWRRcUWxOWyevCesRVuLkbNG71i4VSSsUBGLxCeCj/m7LP/bdeXLO7FFebUaA01Fw3veJ02adKs6kyZNqilkYmJSXl7+5MkTBwfZQQsEOI5Lj9bg8Xh79+6dN29evVWoy2zq1q3bli1b3Nzczpw5M2/ePCqVKjGz3N3deTze2LFjPTw8duzYAQD9+vVjsVguLi5Tpkzp2bMn4VakUChUKlVDQ2PNmjXLly8fP368u7u7WCzW09MTiUTjx49/8+aNv79/ZGSkm5ubu7v7rVu3AGDOnDmXL192dXVdvXr1gAEDqFJPR2ns7e2vXLnSv39/ANDQ0MjPz7ezqzDC5s6d++bNG1dXVw8PjxMnThAloVAoTCZz5cqVc+fOdXNze/XqFeG7la4XUWAAkC5hTWl/f//9+/ePHz9+/fr1LVq00NPTq/dA18ab8496Th9CbPfyGvL+0lNF9qKzKty6GIb1mDwo8flHxRXxkkK8pIjarhMAgIoqvecgQWzVXEJexJ6y4CVlW1eUbV3Bv35a8OQW9+gOABC8eMAc4kaMvKH3cRbFv1JcUcLt6NvjZowltsd5j5VMMJLAZDGJDY4mp9/wvh9iPwDAszvPHf/qZWCiDwCGpgZ2PTq+V3gCryivSJhfpNazIwBQ1FW1XQYUVI7mITBYMF6Yk5938notGSgDXlgoLi6id+oCAJgqm/XnEF6MVE3pdMl4OHqnLoABXvmeQzEwpJo3E8Qq5oerIYoXFdE7dwEAjM1W+WsI914top2rRHkP7rPHuxOnVWX4CP7Ll0pI34q+4yJ1Wu9WTvSRIHVa1fsO7/MhNg6qn1YDU4OOZE5rU+kK84qEBcXqvToAAEVdVWfcgIJLD+vdSwKrTTP96cNzT9xQfBcAEOUViQqK2ZXXsJbLgMLLD6QT6PuMF+YU5EdUW59Yva89Z2D39IDdcryYCiDOLxQXFKt07wQAFDVVzug/S65Wm92vPcdDlFtQdPqKdGDpzYfa3m7EttY0l5IbJA4OgSivSFhQdcNqjRtQWP0I6/uMF+bk51e/YdX72mv82T0t4F/lKkvw8vyjvtOHEdt9vYa+uvRE8X3/nDvqRug55UT7VIr28Rr6mozowLmjbiklWi9UGpVWy2NXOcQFhXhhEdO+MwBgbLbq0L+4t+W3Tkz7zgCYuLAIAOhtW6tNcC0I2qB4n3tNYs7HOHuNJLaHe498VOOGtbK1GjFj1C7f7Xx50/zVtdRnrJt9YV+00gX4n4XD4ZhWR7rbXUJJSUlpaWnbtm0/fqwyM3AcF1TOAEtJSZEeV/n69evExMSZM2d6enoePHjw+PHj+/btk1sArLb3/pSUlI0bN27fvl1u7K8Lj8djMpkAEBERkZKSsmjRooZk8unTp8DAQJmRAzXxs5A/54ug34LRlg7WOA6Zn5IvrT5cc8UNANAw0h61acZB94oVN/7wGNBpjCO/nEelURNjP90MiRQJZF8Nl/aT9RlIwDR1WB7zMVU2UGn8a6eFL2RXjSGgd+uH6RpUrLhEpTJHe1KtrEEoEGckcyP+lZkrQ+B8rZ7Wf/KiiZ17dgIcvn/8sXNVqMwSORuPrldhs4QCIQCcCjv9+GZFW9y1t/3khRP5fL5IINoTtPfzuy/Se22n1TVYlmagbbp2NkVdFaPTcvaeLbzySBKlMaSnSdBsbnxFv6G4nJcw5R9JrGqXdtpj+tWx4pJx61pfiCk6umrzFmFsNlBp5VER/AdVhhGtTTv27PnA44FYLM7LK92/W5xdcabY8xYKYp/zH8k/HRWFlHN1VIrq6qr7LMLYbIxGK4uM4N2XEm3bTn3ufLxStCSsUpRKVZvmRbe2wQUCUXJyye5dkslJMoz7JDuORRritOI4/v3jj12rdtc4retU2CpEaxUZFiU5rfa9u0xeOFHAFwgFwrCgfTKnVRH+C93NlLrG3tENtM3WzaSqszEaNWtvdMHlRzXTGMwdy0/Jkqy4ZDBrtHrPDhiDJiouS994tDxe/gAPOq1W7w7NQMc4cDZVXRWj0XL2ny26UvUE5QzuabJ2TtU1zOUlTl1FM9BpdSes/M1nifMx1W8H/4ecWXQsVq1zdKj6Ovp/z6OoszEaNT88qvR6lcmrNshR7+95/E/fJaLpM/wBAFNl6fnNpluYgljMffk+d/shohdehvLyuq4lmoG2ydqKymbvO1skc8OunV1eWVm8nJcw9R+agXbru2Flb75ITM/UFTvlVnYfLn8FFQl/LRjTysEGcDztU/KZ1YfkNsWaRjrjN80IdV8rCbHo1LLfDOf9XvLHwdfbLzZowZhWDjY4jqd/Sj5bu6jbphm7pUSbdWrZb4bzgVpEAWBjbFB9yo1PtrNnbVEUXV3NJQswNTZGo5WcOMW9U+XyoLdvq7FwPs7jghgX5eYW7dojzsoGKtXw8jlhYqJkGlnxvoP813KGJM1JVa+7VOMWuHXo2RHH8cSPiQdW75VecYlKo4a/PJLyLUVQOTPv5Objcc8+dHS0G+49kkajYRTswv7zT6/Kmf18JvF83br/KfbGspMsyfI8rZ4VrKKjo//666+bN28OHjwYAOLi4mg0Wnx8/PDhw0NCQszNzceOHZuZment7R0VFSXXS3jmzJmysjJ3d3e5+ddqfaalpW3atGnLli0ka/SfEBgYKJmfTrB9+3YtLS0lstqwYcO7d+8wDDM3N1+xYkVtKzpJiIqKOneu2vvlrFmzcnNzjx07RqPRVFVVV6xY0axZs7ozqdv6rAmGYcODPC8EHKxpUypOHdZnTajN21CatxbcbugbXr3WZ00wDFu0YcFWv+2E0akEdVufNVHp2Eq1QytiiZaGUIf1WRNa67a01m255+saB6MIdVifckTbtKW3aVt+rqGiUJ/1WRMMwxZu8Nnmt0Pp06ocDdet2/qsiWrHVqodW+aEN/TjFHVYnzVR6dBKpUOrPDIzbORSh/VZE6Zta5ZN68JjDX3o1m191qSxbth6rc+aYBjmEjTtdMABpZtiJUZlYRg2NmhaVANE4X/P+qwJvV1bRrs2padlVxgkS73WZ00wDJuxbtZe/z0NaZ2a1vrsYtSr/kR1Eptel5sDAM6dO8fj8UaPHi0Z4nnv3r23b9/OnTu3rKwsICCAWHFpyZIlkm5nGaKjo8vKytzc3OTG1mp9IhoRstZno0DK+mwslLA+Gw5Z67OxIGV9NhakrM9GhKz1+etC1vpsLEhZn40FKeuzsSBrfTYWSlifDec/+ZygAvzvW5+NhRLWZ6Pw21ufoaGhN2/elPHQFRYWnj8vv+JhYWHOzs6GhoZyY2uCvnWEQCAQCAQC8cvwE751NGvWrFmzZime3suL3CctmurFDIFAIBAIBALx/xHk+0QgEAgEAoH4ZfgNxkwi6xOBQCAQCATil+En9Lz/16CedwQCgUAgEAjEzwP5PhEIBAKBQCB+GfBf3/eJrM+fQe/yJlhL5fYl5b/ApDQjGU3gTd+Il/18UQAY94bkB7sbA5a8z23/BJyZ9J8v2iRdM1GUpjnCFDFWf6LGhlvWBJVlNVGfWzGQ+I5lY0GFJjit0ESLH+mdb4KPztt19v/5ooiGg6xPBAKBQCAQiF8G8a8/6wiN+0QgEAgEAoFA/DyQ7xOBQCAQCATilwGN+0QgEAgEAoFA/DxQzzsCgUAgEAgEAkEC5PtEIBAIBAKB+GX4DXreke8TgUAgEAgEAvHzUNT6PHXqlIeHh4eHx9atW+tNvGPHjtjY2LrTeHl5AYCfn19WVlZtafz8/FJSUuRGTZw4UbKdmprq5+dXWyYpKSnSsUePHp1cHVdXV+n08fHx58+fr7vwBBcvXnz//r0iKREIBAKBQCAaBTGON/DX1DVQuOfdxcXFxcWlZvjjx49DQ0OJbaFQuGnTJlNTU6FQKBJVW1+9rKzMx8envLwcAPT19UNCQvh8PgCIRCKxWAwAO3fu/OOPP+zt7QHg3LlzADBixAiRSCSTDwGPx5MOl5bbt2/fvXv3AIDP57PZ7AMHDshk4u7u7u7uLp2bjPW5b9++TZs2AcDLly83bNgAAAMHDvT09ASAiIgINps9dOhQIuXgwYN9fX1DQucUj4QAACAASURBVELqPXoIBAKBQCDkkpqeucg/qE/Pbt6T3Zq6LL8Gv0HPe/3WZ2lp6YwZMyR/xWJxeXn5sWPHVFRUAKB79+7du3cnooKCgrKzs01NTWtmkpeXp66uHhYWVpsKjuOEGUpI1F2kmJgYwpCtybRp06ZNmwYAx44do1DkeHZ37dp1//59ovAEtra20jlbW1sTOx44cGDjxo3NmjUbPnz4lClTCgoKHj58uH37dkliCoVibW0dExPTq1evugtcGywTnbbBXjQNNoVOSww9n3H2kUwCtfbNbPf6fA+Jyoh6QIQYDO9uOmkAAFBVWQk7zmVdeqagloqJTsdN0+gaqhQ67UvoxdRzj6VjOW3NbIMmU+g0jEb5EHgy58EHIly3Z/uWs4bS1FhigTDp5P3kyBgKg9bef7ymbXMxX1Cenvd2ebiwlFu3dI8lLuZONoDjOXFJd1aGi/hC6Vgqg9Z7zSS9ds0wCiXpwbuH6yKkY209+vdY6nJ0wLKS9DzdNmZO/1T5vHXamJ4esybvS1q9dXfxnWDj1BHH8aT4hPCVYcLqBfhjqEM/94EYYExV1oXdZ55feQIA2kY6665tSYpLINLERN29H3m7bhUVEx3bTdOJI/w19GLauWpnU72tuU3QZIxOpdCo8YEniCOsYq5nEzSFxmZRVZklX9PeLTsgLC5Xa2Vis34qAFCZdF5O0Xu/8PKUnHrrCEpdTgBAUWG0Xe/JNNJ+6bJWERVpHJa4NHOyARzPjku6Le/M9pE6sw/WRQCAmpG2x/V12XFJRJq40zFxkfcB4M/N3hwzPcBxKpP+ct+Vzxee1iba5JfTAN9xVo62gOMZ8Ynn/Q/KFAAA6CzGsMApHAPtcI91RIimie5f/u6qWup0JiPtw4+LAeFiEemPDPX3dbFytMVxPCM+6WItukMDp3AMtA55rJcOt3HuPjRwyq4/lxWl55EVHeQ7rpWjLeCQFp941v+AXNGRgVM5Btr7PIIkgYFxB5Pffie2P99/eyc0mpSoEjXVqDjCajQmI/1DwiWljvAo3/HWjh0Ah+T4hCP+e2UaCvuhPXpPGIhhGFOFeXn32RdXnwKAsZWpe+B0AKAz6UU5hcdX7c9NVehulTDS1629Y0ccx1PiE4/VEO0ytIfThAGE6JXd515erbov+nsOGb7QdW57D7LVpBroayxdRFFTAzqt9HhE+Y1qLZvmymVUY0PAAWMwSk5Gcm/dAQBWvz7sEcMAwzAVVsmRE9y798mK1kFmdk5g8M4BvR24PH4jZtvH18XSyRbH8cz4pCsrZa8iKoM2aPVkw3bmGJXyI+b9rfUnicB+y92MbJqL+IKi9LyrAYf4pdwWvWwcZjtLdjSyab7FfragrAm+m/WbUb/1yWazjxw5QmyXlJQEBwcbGRlJW28S4uPj58+fX1s+GFbPB8eCgoI4HA4AZGdnE/3ychGJRHv37k1NTf348WNcXNzZs2e5XK6lpaV0mocPH+7fv//ixYvE35iYGA8Pj8WLF3fo0KGoqKhHjx76+vrSBeNyuSwWCwCuX79OuDkBgMlkZmVlGRgY8Hg8DMO2bds2b948mcI4OTmFh4crbX222+ydsOtC3v13NHWVLtH/FL78Wp5YNQ5B3aa5xVzn7GsvMBpVElj05vvLsf/H3nmHNbF0cfhsEnqTDiIQBMUG2AVF7A1pil2xK4qIIio2sGLBcm2IgGJBxYaiyLUXRMSKoFIVpEMoovQkJPv9sRBDCBCQBD/vvI+Pz7I7O789M7OTs1N34Sy2uFqHQQ/2FD6MwRtUzXzpc3DJlxN3Cp9/pshJDQ31LIlJrcz8pdXPZ8V7J5/SpCxJTSXz65ufjtnEqqQr9jWgOox8t/w482cFJ2SXlTaMH+WRttsBQG2EseHayfHbLzWha2hrJtdR+fJEDwAwWze13zKrN0dDuQP0XWJZWVR62doTAMYdXt5t8pCkG1HEJY0++vI6qoXxGRiZBABFSVkh02s9JMkOstaBawTxFcxshyprqXhYrQOAqetmWS2bFHr0GneA9E+pe2dvZ7PYHdQUd4R5f3j8roZRQyKTMhPSvWZ4Nhs/B5ODS7+euFP0/BNFTmpw6NYfMV+5U7ivz4oYp+NlSVmSmkpm17c8H7ORVUnvd9Il5WBIweNYAOjuOctgpW3S7ssV3/JfTd+NM1kAoGlj2n3LzJhlxwR5gFYUJwAwOumSfyOK+KRpEUTOXproAQCD103tv8zqNb+cDbb2BIDxh5d3nzwk8UYUiUwqTMi8Pp3X032y5SxRoUt2kJ11Z8e3x7F86/d2L07GNoMVOir7Wm8GgNFrpw11tH527CZPmGnHnONuvRw0ZzTnDL286vaWwIqiUgCYeniFid2QDyGRzWpxY2QzWKGj8knrLQAwau1Uc0eriGOhPGGmHHP+dOvlgDmjuE/2nz1KVkWBlphJIrd4lH9vm8EdOqoctd4MAOPWThvuaP24gbGzjq2MvRVlOqde+Sn/XuY3Y2dL5QhaZymjvCqsLoXtDzsZ2w2JbWEKD7IxV+6ossPaHQAmr505wdEu7Nh17gAZn9IOztnBZrEVVDt4hu2Le/K+hlFDy8g/6LCTxawBgAETzaZscPBb+Y/gogNtzJU6quyydgcAu7Uzxznahh8L4RH9Z85OQnRz2L6PT94T7qmd24yi7ILyktIW2UigsHFtxcUr9LfvMRkZlRNHGPGJrNw8ztWfBw/jVdUAgMnLqwaepL+MxquqmUnJxasjgMUmKSupBp6sjooGJrMV0nxRV1U5cWDHrX8f5eTT2irOXraDFbSUT1ltAYAR66YOXmYVWb+iMF1iWVn887SNJwDYHV5uNMn8080XQ5bbVP+oODdlBwDoDzO2WD35kdeltMhPaZGfiLtUDDqOdJ/xJ7ief0LX+W8iaH1Eo9F8fX1Hjx6toqJCNC7yEB8fr6amJiMjI2CELBbLwcEhMvJXBbFp06agoKCgoKAmXE82m717925FRcXg4ODdu3cPGzYsKCjowIEDnABMJtPf3//Ro0dbtmxxdHR8/vw5AAwdOjQoKMjExAQAVq9ebWlp2a8+YmK1e1inp6dTqVTi2NnZOTAwcMWKFa6urnFxcfLy8h8+fHByctq3bx+nK79z587fvn0T0GQexJTkxBTlvj//BAA1ZVU5wU/VLAdyByj79O3T0iOs+i2LVek0nMUGAEbBD0bBD4wk0CbC4kpy4opyhc8/E1oZwREdJw7gXFUw1qtIp5UmZQFAdd73/Ecf1EeaAEDXVbb5994PCFhlftOj2/opQMIAQNGkc+6d2u/vgqcflQd1a1q6q63Ze79w4jjGP7zLxIE8AbpYD+IEeO8X3tXalDiWUpbvs3jCy31X+UbbZ8mEuDMPBLHdzMY83K+26SXc79ZASzOeALSMfKKZ5EdByc/CHxhGAgCcjWt07ugWuGlb6F6HrQul5KSbVhFXkhNTlC2qy82s4GcaDVK4rC6FCx59UBtpAgCVWYWlda2AZUnZ5am5AIAzWYTrSZaWkO/W6UdcmiBmtq44AUDcvAM/Y74KIsFDN1uzd5yM45ezhlw5+64uZ3E2rthZw/aM24xb24ZvcxCXq/2O5VToSgaaZbnFzCr+rSDtXpyMbQa/8K/9rH3hH97LclDDMBeXHMqOrZekVT8rCMcIAPISMjB+3TLN6Zq98K+1K8o/vCc/3eAGugDw7uLjZ0du4K36reptMzjCP4w4fu4fbmxp2jDMuSUHMxuISsnLzPVbs+Lmjqn7HeXVFFsk2jpLuVM4v1UpPMjG/J5/bUVxz/92/wYVRUFdRfGz8AenomAxawjXU1xKQqurTvrH1BaJDrQZct+/dprBA36ihVyipXWiABB68PKLK830xvCFpCBPklegv30PAHhFRWX4Xclh9VpPCNcTAMR0dVi0AryaDgCsnFxgsQGAXfydVVwCzbUltZRmG6daSk8bs+i6eiDaL7x7g1LU08r0JVeAHtamAKBprJf4b+2vW2rER50Bhjx3mTvbRp0QaFoIolmab/sMDAyMjY2Vk5Ozs7OztrZ+8uTJunXrMAzbvHmzkpISEYbBYBw6dMjTswUNRWQy+ezZsxs2bGjR44aEhCgpKW3evJlEIm3ZsmXVqlUnT56EurJbXl6+atUqe3t7wn/t3bv348ePqVQqcTUvL2/9+vUAkJ+fLy4urqSkxGKxUlNTu3btCgD29vZ2dnbcWnp6er6+vgDAYrGcnZ03bdrk5eV18uTJI0eOPH36dPTo0Q2ermVIaatyN01VpdOUR5gIfrvquH7Fzz+yqwX6AJXWVqngaoeryKCpc2nJ6KhWpNO4rhZIa6sCgHx37fLUvOiZe3E2brTDwXC1XfKhmyUfUrWnDE3YfQVwXMvWVK5Lx4ZyHQcamrlNAYCSb3ny2qo/6iKn/6wUl+VtNReXlWKUVhLHPzNocp1UAAAjYcO2zonYfoFdw2fgr4SCtO4wo1cHrze8RGA4oPsUt5kAkPctV1VbnZZe+2VfWVohJduoH9l39IDPkXFMOgMAinOLVg9ZxmLWYBhmvWLy/J1LfFcfaexGAJDSVq2sn8JqXCksraNakZ7PfVVKWxUA4lz9Ok2zyLr0VEa/Y01ZZf7d2rl66mP7dXWbLNdFK/38o2TvRs3keYDfKU4ColWXsz8Ey1k6V87Kd1IBgLLc4tODV7OZLMCwgSusR+6cf2+1LwCQJcQmX3BX1NOo+l52Y84+4PKW2r046Q4wHO02FQCK0vIVtVWL6x6gurRCQo5PL1ATSMhKdR1uErRwvyCBdQcYjnSbAgDFafkdtFW//9KtbKmu4FAHGI5zmwYARWl5StpqRXWiVS0xdkd/R6Kjs+/kobN9XHynbm86fBtaKiEr1WW4ycWFB5oPCtBlQPdJbjMAgJaWq6KtRqt7SStLK6Qa1+09un/Ci4/Mum7i3qP727hM1ezS6dnFB6H/XGnsLi7Rbra1onkq2moFXKKSjYua1BdtNWRNDVburzb+muwcSdP6n3DiYsqH91O0tdk/fhSvXgf1v1skzAfT374DRlt2kbcV2gMMh7tNAYDv3xqUooYVhdyv2ul7Bq1DJxUAyI1LNZps/sT7KuB4DytTFQMt7luU9DSklRVyPrTmW73N+U+M+7Szs1u4cCEAxMbG3rt3b/HixXPnzmWxWGRybf8dg8HYsGGDg4ODrq5uY5GQSCQmk1ldXc1isXJzc/l+iHOGe3JHzsPUqVOJg1evXt26dUtCQsLLy8va2nrjxo0AICsr6+/vTyaT37x5ExoaWlBQoKqqqq6uvm3bNgDQ1NQMCgr6+PFjcHBwhw4dTExM6HT6uXPn1qxZ06dPnyZSIDg4eNKkSUVFRYaGhgDQvXv3tDSBmqOahk8iCNw+IdtDR8N+6GcngTpk+UaMcw+ubXAZZ+MAIKEin+h9jWhqTf7nptnF9cmHbqYcvdVtrb35jS04m513930lvyGJuW+SOX2asx/sqf8kzdnIxgHA1G3KxwuPKwt+8A3SZ9H4T0GPiYfkS/LbRE6n+Z779TrCcJz/aDDtbrpDJlmcWPVrSQeiSQPH8dvHQ45ENzpkmRMv7wnux2v4pGwcANTH9itLymIzaipSc5UGGcr31C2NzwAA2oP3tAfvydIS3TbN0J0/JuPsw2bUf684CU7Om2ROp7lD/ZxtVo6TIGwmiwj/5vjtxa9qfXoWnXlt6i4A0Bnay/L4imtcg1DbvThlvE0+PWMXcex8r96QyibuaghZjGy7Z/G/O4OY1QL9eGe8TT4zo9bwFb+h2yLS3yZzOs1d7+2rLyroSErOGLuYG5HDHa0l5aSqy/iP1CdoK0vJYmSbPYvu7rwgYAp/eZvoPWMrcbzjXr35o43pduqma2Zn4c/1LRr76F3so3fiUhJT1s8eMWfc0wv3mxNNOjBjG3G8VTBRrW46pnZDT60+yvdqy+BTT9Q/xWAWO60GAIkB/RR3eBavWM25QtHvLD1uTMm2XW3wGEIg621yUF0pcrxfvxTxqR7r/8XGAeCFz+1hrvZzr2zB2ezk++9+1h/Ca+5s+/JkWFs/dStp7Ifs/4jmuyc4DZx0Or2srIw45niHCQkJixcvtra2Hj58eBORqKurYxi2cuXKDRs23Lhx4/t33sHvRkZG/v7+xBJI9+7dI9ojG+Px48fnz59fvHixr6/vokWLLl68+OzZM86DRUREBAYGLlq06MSJE0uWLLlx4wYxiZ5ARkbGzs5u+PDhioqKGhoa7u7uXl6/fueoVGp6ejq3VlFRUUxMzNixY1VVVZOTkwEgPT2dM2z027dvenp6TTxqE1TnFElR1Tl/SlHVq3OKBblRtocudaVtvIsPzq8hhy9VOUUyur+Gusroqlfl/sqCypxiGa4nkdFVq8otBoBq2g9OBxbOZhMvMM5iJ+679mLSzih7L9rjWEZxWdPSZTnFHeoil1CQbjhihllJF5evbY9U0FUvy/1OEiPrjeo9wNnW9vx62/PrVbprjz3kqD+uPxFGXE5Kf1z/RK55M01TnFukTtUkjqXlZej8huzodKdaO006ueYYi1+SYhhWXdHUbyfUpjB3GqpX5/7KzcqcIhmqBvfVqtxisrREZ8cJ318lAQCbUZMT8sJo30LuOFmV9KxLT9VHN/VpxKHVxanVlAqQsxL1c5Y3CgxjNBgJkBn5WVxWSkpJjq9ouxenn7nFynUPICkvw6hsZsodB7I4xW7v0qiA8PzETAFvqa9bpPRLl4/hwuBHbrFKnaiUvAyjVaI4GxfQFyRotaVkcYrt3iVRAf/SWpXCxblF6nUvqbS8DJ1fzmp317VcbnfK7XjDioJRRY+8+th4ZN8WiX7PLVKrJ8rH2E7ddScsnxTo5sO3dmopLBqNrPWrw4rSSYtF47/oIf3te5KMNKmDQm1IA31Zh1klO/cAv4Vo/jSaLUXctZOSrnppXjEA4Cz2swPXzk/bGTTD6+vT2Irvv4bVdtBWVdRVT4+KF8nj/ydoxvv08fFxqOOff/4hpu8QzJ8/H8dxFov1zz//jBgxoul4yGTy4cOHAwICjh075u7ubmrKO35o+PDhZ86cOXv27NmzZ0+fPt2rV68mYouIiHB2dtbX1xcXFzcwMFi/fv39+/e5rzo5ORFXO3fuvGHDhnv37nGuPnjw4Pjx475cqKiocK6OHTv26dOn3FrHjh0jplJ16tSJSqXOnDkzJiZm3LhxxNVnz56NGdPi6RoEzOIyZkmZkoURAFDkpLRmjaCFvWr2Lvne+lRnm4TVJwXscydgFJcxSspVLXoRWrqzhudyaf2ITZOhqst30wYASU0l9VG9aY9jASDv7jvD1bWjEbqutMn79y13nOJKcr33L0r1u9u0dPLt6L6OlsRx36UTv9zhncucEvaqn+NE4rif48SUsGg2k3Vp/OZbc72Jf0WJWQ/W+KXer+2V7r1g3OfLz/h2ofIl+nak5dLaGYsTHW1fh/POBO9sbDBxmV3AOh/uXi2yGIXjeduunPL+fjNrCxAprFKXmzqzRnCn8M/YNBmqulxdCquN6l3wOBZns6U0lRX7dSHCaFoNYlXQAYAsJU6cwShk6oKxhHvaLK0rTr9D8u3o/nU522/pxJQGOZvMlbP9HSemhEUDAEmMzBmsPMjFNvX+ewAgi1M4J3WG9gIMqyopb0y0fYvTx9svzZfUxm++dOLn8Ebn5nMjJiluf2DZy8C7OR9b2W3y8Xb0kDrdIUsnfg4XbuYSxN5+abGkdoE5i6UTPwomimEYWby2V63fFIv8lCwWswX+SussFZMUn3TAMTrwXm5rU/j17RfjltRWFOOX2rwNj+YJQDXWH+9oF7j+BHdFIS5Z+7aSKeSRDuO/vE1skeib2y/G1omOXWrzrkHtRDXWH+9oe7a+6O/A/vET/1kqMaAfAGAyMtJWE6qfPPt1WUwM6uo9iQH9ADD2z1IAEOtuKDt7xo/d+4TX506mkCmN9Hm2gvjb0aZLa0uRmePEhAalKP7Oq8GOvwLE364XQEpR1nLPotenfv26ma+0iz55p60e7/dhA/6b/9rbguZ63lesWLFixYomAhgZGfGJlEJprOucg7i4OACQyWS+6yIRkMlkvvEMHTo0ICDA1dVVQ0MjNzf32LFjHHcQAMzNzU+dOuXm5qapqUmj0Xx8fLivlpaW1tTUcEdbXV2dk5OjpaVFxBwaGspmszlPtX37rxFLPKNU2Wz2p0+fFixY0LSlTRDvcqL7/iWd19hjYuS0gyHVWYUNw+AsNqeNE6OQ+17dXPElp0/wRuJMqve1H68Equ9iVp3s7b3I0HUSSYySfOhGZVa9PoV3y44Z7ZpHEiNjJFLs2lOsSjoAJB0IMdkzf2jYNpzF/v4m+atvOACoDTc2cLIiiZEBw1L97+Y/jGlaN/lmlKKe+tQbnoDjRUlZz7df4H0wv/ChHrOnXPfASFhWVEJSg3WC2CwWXlPby0CRkuhiPeiyVQtGGEfdfK5O1fQM2Y3jeFZSxoUdgdxXyRSy+4WtuanZ6895EGeuH7qc/CZBtZPqskOrmAwmiUxKfPU55J/LzQrFrvI18l7U1XUSJkZOORRSVT+F3y872mvXPJIYBSNhcWsDiBR+M+9A900zSOIUjEKm00o+rDwBAF1W2alYGLGqGSQKOf/++1QfQft6Wlqc6p1s+fI0STejFPXUp9/wxHG8KCkrokHOvvcLt/CYPe26B0bCMqMSEm++BAD5Tqrj/1nGYjAxMik7OjH6UAgAqPbUHblzHrOKgbPxioIftxYebKwfv92LU1xolLKexpLrWwGH/OSsf3ec5xsMZ7HZNb+SdPzm2dp9DCw9alcaznz/5eH+5gcIcvMxNEpZT2Px9a04jtOSs+7uCOIbjF1f99f5GnYrViD6EPpCRU/D6fo2HMfzk7NuN2Ism8Xmdt8l5KQWnnEnzuQnZ93YdKpFoq2zdNzmWdp9DMZ7zCb+zHr/5dF+/jPMGuNVaKS6nubG67sAx7OTM4N3nOG+SqaQ117wzP2avebcFuJM6KHLKW8SrZzte5gbM6oZZAr5w8O39/xatrbU69BIdT1N9+s7cRxykjOvNBB1veCR9zVn9bnaDVNuHbry5c2vCr+GLtCCJzyU7NrXYb2r7AIHjEIpO3OexTXTXKyrgcKaVTi9Gtg4q7i4eP0mwHEgk5UPH6jJyFA+5E0EKzt1hhH7sRXSTWA9bmQbxvbpZpQSVWN+yFYcxwuSsh40KEXRfnfGeMyZd80DI5PSo+I/hUYBQGcLIzNHKzKFjJGw16fvfnn8gQgs31FZzVD7zvqANnxCBNa6uZDtzvPnz8PDw4uKilRUVKytrc3Nzbmvvnjx4s6dO4WFhcrKypaWlk2PCuAhKSnpy5cv1tbWzYYMDw/X09Pr0aNHsyEfqk8XUF2+r4FCH4Os0/eaD9ocFVgzHwCKffQV++qnnRZoqq+AZIgLNtUUw0btXfh0y1l2SxpFGuMtVtnSWzAMW7hn2VmPAGJwZ+uYTpdoOkCHPvod+hqkn25mHFiLkGzJcJ82LE6fJcQECodho/cufNJGOSvovOU2LU6FpBZ7aRiG2e5eFOZ5pkWNfDyQoMXTfjEMs969KPw3dKuhNcZO3r041DOw1aKSLd/h+fctBYBsaPHIAQzD5u52vOB5qtUVBblV2Tpn99JLnqd/p3ba3rEFy46K9egu3qNbxXXe5bRaiurt078ZQyvY289D0KAYNnHPorseZ9qkovDIuPj7kbQaHSU+DX8tIvP7pzZ5klbz/+p9/n8huPfZhjTrfQoDQb3PNqUV3meb0Kz3KQxa5H22IYJ6n21KOxSmVnmfbUIrvM/fpxXe5+/TCu+zTWiF9/n7tML7bBNa5H22FX+699mmIO/zNxF0p00EAoFAIBAIRLvzJwzc/E2Q94lAIBAIBALxf8Nf0GvdPj0gCAQCgUAgEIj/JqjtE4FAIBAIBOL/hv/QPu8IBAKBQCAQCMTvg9o+RYEk1g6bQzyUbIdPi5FVrV8ipNWUSAprz+umiZdol9ms7bCUAQAYVf8fbHDSJlRKtk8KtwvlWDu0oNDbY6I9APRlSbaLbrvgnMN/tzCh0qc9pp9veL9T9KLtzn9in3cEAoFAIBAIxB8CmnWEQCAQCAQCgUC0ANT2iUAgEAgEAvF/w1+w3idq+0QgEAgEAoFAiA7U9olAIBAIBALxf8NfMO4TeZ8IBAKBQCAQ/zeg9T4RCAQCgUAgEIgW0Ervc968ecTB69evT5w40djVJli6dCkAbN68uaCgoLEwmzdvzs7O5ntp7ty5nOOcnJzNmzc3Fkl2djb31QsXLsyvz4wZM7jDJyYm3r59u9nnB4A7d+58/vxZkJAIBAKBQCAQbQL+27S3BQL0vB8/fvz169cAUFlZqaGh4ePjAwAMBoO4ymKxWCzeZag5VzlUVlauXr26qqoKANTU1A4ePEiEYbFYbDabUBk0aNCAAQMAIDQ0FADs7Oz4Rg4AdDqd+3xNTQ3nz1OnTkVERBDPICMjExgYyBPJnDlz5syZwx0bj/d56tSp/fv3A0BMTMy+ffsAYOzYsYsWLQKAK1euyMjIWFlZESEtLS3XrVt38ODBZlIQgUAgEAjEH0ZOHs3NY/cIc1PH+TPb+1n+czTvfTo7Ozs7OwMA4ckJEun3798dHR3Hjh1rb2/POSMnJ+fv79/YLTiOE24oAHAOGiMyMpJwZBuyePHixYsXA8DFixdJJD4tuz4+Ps+fP5eS+rU7jrGxMXfMvXr1Im4MDAz09vbW1dW1tbVdsGDBjx8/oqKijh49yglMIpF69eoVGRk5dOjQph+4MSS0VAz2O1IUZEhilOwTtwpDo3gCyPSkdvNfk3noWmFIJHFGbYqFrvuM6qxC4s80z7MVn7+1Qnr8uuldLYwBh9zEjJsegSwG7x5FYpLik3YtlFdXOuWwm3NyV8KZrI9pxHHK849PT9xqhTQASGopKHnm7gAAIABJREFU9zywRExBBhOjpJ8Iy7v5kieAXE/d3gGrvx4MyQt50ToJbkatm6Y/zBhwPD8xM3zLGb7GTty1QE5DMWjOXu7zvWzMrHYtODFuQ2nedwG1LNZN6zzMCMfxgsTMB1vO8miRxSljdsxT76GLkUnpkZ+e7b0CABgJM3e117MwYtGZJDHys71Xsl4nEeHVeujY+ayMOhoaf5O3bPy+7iDHifojehMBSOJkEpl83nYrAPSeNbKXvTmLwayhMx9tv1DyLb+hnKSWstGBJWIK0iQxStqJO7n1c1Cuh07P3fNJYmSMTE7yCi6OjAcAKR3VXrsXkGUlyVISFam5n90Da8qqJDsqWTzdVxqfSdyYffV59uWIxmxsK1EAEFdVMNwwTc6wE5vBrM4viXXyaTp5AWDYuml6w4wAxwsSM+/zS+GxdSn8jStnh7ra61kY1dCZZDHyU66cBQD5jsqzrmz+eDXi5bFG36O2EsVI2LhdC5QNOmIYxqyih68LKKeVNGsyAFium2FoYQw4npuYed3jNN93x37XIgV1RT+uikJcWmL8mmm6vQ1YNawaBjNg/l6c3YK2lnF1tVNe47WT3a6FCvVrp531a6dngtVOpu7TdCyMAPCihMxnm8+y62uRxCnDds5T6amLkUhZkZ+i91wBAMUuHYd7LQAAsoRYVXHpc49zZTnFRHijeaMNrE0xDGMzayK3XyxOzBSBKADIdlSedHVz4tWId0cFrZNnr3PoPawPjuPpien+W3xr6j/DECvzsXPGY4BJSkve8L3+6m40AFDEKXM3ztc3MmAymMV5xQGeftUV/H+IuRmxbpr+MGMcx2mJmXcbVL9kccr4HfM1euhgZNK3yM+P914mTo7aOFPTSI/FYJbmfb/neY5RUd15qNGQFTacGzWN9P4ZsIJZSRfQ3obQCot2HTg+ZviQajpve9mfz1+w4pKgs45iY2Nv377t7++/YMECHMdLSvjXXAwGA8MwRUXFo0ePUij1IsewZrYl3L17t7y8PAAUFhYS/fJ8YbFYAQEBOTk5SUlJCQkJN2/erK6u1tfX5w4TFRV1+vTpO3fuEH9GRkY6ODisXbvWxMSktLR08ODBampq3A9WXV0tKSkJAA8ePCCaOQFAQkKioKBAXV2dTqdjGHbkyBEXFxeehxk2bNjZs2db7X12Obg8+8StH88/kuWkjUN3lMV8qc78NQ5BxkhP29nu+4N3GIVr6z8yiXblWeaBq61TJOhtM7hDR5Wj1psBYNzaacMdrR8fu8kTZtaxlbG3okznjOE+Wf69zG9GG2xr1uuQ4zefsOLnnyhyUgNvbfsR87Uq45fh8kZUvZW2BfffkyhtsOehke1gBS1lf6stADBy3dQhy6yeHw3lCWN/zPnTrZcD5oziPtl/9igZFYX8xEwSWdABKj1szeS1lM9aeQCAxbqpg5ZZvayvNXCJZWVx6TkbTwCwOry856Qh8Tejes8aqairft5uG+C4WnedKWfWnjB1AQD1XlTTZVZfHsU0+wCt033tF/7aL5wI0HvWSHEZCQDQHtSty7h+wTN3sxg18h2Vx+1ecG3+gYaKxoeWpvncKXr+iSInZXZra0n9HOztsyLW6XhZYpakptKgkC0vRm9kVdL7+Ll8ORBS+DgWALp5ztJ3sU32uoyRSaXxma8mC1So2koUSFjvY8tTvK/9iEkVRLdhCpsus4pqkMIVxaVnbTwBwPrw8l6Thnyuy9lzdTk79cxaH9PaOoQsThm5Zdb7cw8lZBvdJ7YNRXE2/ub03e+peQDQe9bIYWunhq9rtC2AQ1+bIYodlf+x3gQAE9ZOH+lo8/DYDZ4wDsdcYm5FDa5fUczwXvbmesTtXUHNSjSEqJ2ONVk7zWykdvJvYe3U1c5MrqPy1YkeAGC6fmrf5VbvjtRL4T5LLauKS69ZeQLAmCPLDScPSb4R9TOddmv2XjaTBQAGVoPMNs14sMIHAPo4TiSJk0OneTXtaretKACQxCnmHrM+nXso3nhZ4mGorYWKluo6qzUAMGvdnEnL7K8dvcIdIPVT6vbZnmwWW1FN0Tvs0LvHb2sYNZOXTyn/Ub55ygYA6DOs7/TVM855nWlaqJftYAUt5VNWWwBgxLqpg5dZRdYvw6ZLLCuLf5628QQAu8PLjSaZf7r5Yshym+ofFeem7AAA/WHGFqsnP/K6lBb5KS3yE3GXikHHke4zfsf1BAB1VZUTB3bc+vdRTj7td+JBtA6BflYjIiL27NmjoaHx7du3M2fOnD17VlFRkbikqakZFhY2ffp0BweH+fPnu7i4pKSkYBgmISFBJjflOrBYLAcHh8jISM6ZTZs2BQUFBQUFNeF6stns3bt3KyoqBgcH7969e9iwYUFBQQcO/Pp1ZDKZ/v7+jx492rJli6Oj4/PnzwFg6NChQUFBJiYmALB69WpLS8t+9RETEyNuT09Pp1KpxLGzs3NgYOCKFStcXV3j4uLk5eU/fPjg5OS0b98+Thtw586dv31rTdMjAFCU5CiKsj+efwQAVlklLfiJ8kRT7gAVn74lOf7DqqiunwS48vgBva56Gt/epeVo1Trp3jaDI/zDiOPn/uHGlqYNw5xbcjAz9ivPSSl5mbl+a1bc3DF1v6O8mmLr1MWU5MQUZYuffwKAmrKqnOBn6pYDuQOUfkqPW3qE1/DW0svGLKrOx3rpF97TclDDMJeXHMppYOy7i48jjtyAloyP6WFj9qZO67VfeLf6dgFAd6tBHIfvjV94d2tTAPiZXVj0JZsQKsmgFcSnEwFon9NvOR9nVjRfw7ZOlwOJQjaZOfzDhScAoGmsl/r4A9E+UZpbXFPNkNNQ4olNTElOXFG2qC4Hs4KfaVoO4FyVN9arTKeVJWYBQHXe94JHH1RHmgBAVVZhWUJtU1BZUnbF11wAwNm4jL5m/wvrBt/d2WPXXIpcoz+fbSiqMXHgz7g06uLxpqGeffxXSVPVm0tg6GFjxp2ATafwa66cLeTKWVpdzgLAyE0zo0+EVf8oF5ko4XoCAO1zOkZupi2AoI/N4Kd1FcUz/zsm/N6dwCUHMuq/O9rGnatKK3uN6bfiiuei0+s7GXUWRIuDic3g51y1kxG/2un8koNZDV5YaXkZh7raSU6w2qmLjVnMydoE/OAXbjCRN4W7WA/iBIg5Gd7F2hQA2EwW4QVSpCSUDDsVfvwGACQxss4wIzajxu7KpklXN3exNROBKMGQzTPf+zRTlngwt7G45Vf7IXHL76aZ5RCeAPkZeWwWGwBKCkp+FJaQMBIA6BsbRP9b2wnzISKm+4AezQr1tDGLriui0X7h3RsUoZ5Wpi+5AvSwNgUATWO9xH9fEydTIz7qDDDkfX5n26gTAk3PaJpmG8X+WP7+cZ/l5eVeXl6SkpKBgYFkMnnz5s1xcXHc3qGent6DBw947tqwYUOzwmQy+ezZs4KE5CYkJERJSWnz5s0kEmnLli2rVq06efIk1JWh8vLyVatW2dvbE0/Yu3fvx48fU6lU4mpeXt769esBID8/X1xcXElJicVipaamdu3aFQDs7e3t7Oy4tfT09Hx9fQGAxWI5Oztv2rTJy8vr5MmTR44cefr06ejRo1v05A2R1FbjbumszqAp1nWDNkHhzRcF158DjpNlpboeW1lTVkW79FgQOeoAw3Fu0wCgKC1PSVutKL32a6+qtEKi8Z98Hnb0dyT8kr6Th872cfGdul3AG7mR0lblbrKqTKepjDBpRTxNoDPAcKTbFAAo/pavqK36vc7Y6tLKJpqaWkenAYYWblMA4Pu3PAVt1ZI6LTo/LXE5KXppJXFckkFT6KQCAGnPPpLFxbT6dfn+Lb/bxEFhq31Fo8uhl73514cxzCo6AOTFpQ1ZPflzyAtGRbVKF62OfbvIaiiW5dcbeCCtrVpZPwdVuXJQWke1gquzvjKdJq2tCgAfV/t1mmaRdempjEHHmrJK2t13AFCdU/yk/0qcyQIMM1hl22vvwtgV/DvB21BUwYiqYmH0fuGh6tzviv279Du75sWojTiLd8APdwp34Erh6tLKho1MEs3lbHeunDWeZpEfn0H7nK7WTVtkohwGLpnw0qfRX269Ad0muE0DgMIGFYWknHRjd3Gj1VOvy5Bepxfvp33JVu2sudB/7TF7z8qfFU3cQh1gOLata6eTjdROmgMNTddOAYAfaXnyOqo/OS/OTz4pLC4rxahL4dIMmpx27YtDHdN34Go7xS5a8ReevDkYAgDynVTV++h/vvjk5lQvcTmpiWfcKmglua+ShCoKAN2nWxTFZxR+TlfuzluWeOg+oMdMt9kAkPstV11bPS+99mukorRCuvFaccDogXGRsQw6AwC+xn0ZNnnERe8gHMeHWJl3MuCvqD3AcHhtGc7v0Fz1y101fc+gdeikAgC5calGk82feF8FHO9hZapioMV9i5KehrSyQs4H3s+P/xQiWHEpNDQ0JCSE5yQxb6e8vHzTpk15eXlsNnvDhg3EjB1unj9/fvr0aSaTKSYmdvz4cTk5uYbxN+N9SklJLVu2TFlZGcdxSUnJgwcP5ufzDgKLiIg4c6Ze83vPnj2JhkYOJBKJyWRWV1ezWKzc3Fy+fjdnuCeLxWqs3XTq1KnEwatXr27duiUhIeHl5WVtbb1x40YAkJWV9ff3J5PJb968CQ0NLSgoUFVVVVdX37ZtGwBoamoGBQV9/PgxODi4Q4cOJiYmdDr93Llza9as6dOnTxOJEBwcPGnSpKKiIkNDQwDo3r17WlpaE+EFpUEiCDI0Cq+pbXZllVdlHQnRdpksoPeZ/jaZ02nuem9ffd1mBtpy4AzZibkROdzRWlJOqrqs+XE/vDTMfVzQBxCQzLfJZ2d4EcfL79cbytnm33zZb5Mv1WktvL+nGa36J4gcV+ikIt9R6VvExxo6syAho7u1WeylJyLQJcDIpH7zxlyaUTt+LutN8serEfanXDESqTApK+f9FzaTd9Rdw/jrneGTvTgAqI/rV5aUxWbUVHzNVRpoKN9TtzQ+AwBwJouI4uvh0JExxxuztw1FxRRksi4+rc79DgAl775UZRfJ6GuWp+TwxMCdwouaS2G8uZyl1eWsei+qWjedRzsu8DVTSKKcMENc7NKefypMyuKrDgDf3iadmLGDOF53z7t+/AK9p9IKMnHh0bQv2QBQmJb3Jeqzbp8uic9im7gl/W0yp9N8dVvUTsMar53y3iTfnFabwjMf1k/hBjUw3xQGgPSHMekPYyhSEmYbpvWaO/rz+UcSCjLfk7NTw98AAKOs6mPgferI3hzvU0iiqr2oyt10XmznX5Z4SHyb4DmjdvmXf+4f5b7UmCuj241qMWn44VW1M2tDfK5Nd52548puNpv15v7rwhz+69VkvU0OqivDjs1Wv/yMfeFze5ir/dwrW3A2O/n+u585RdxhzJ1tX54Ma8xMRFtBp9MnT548adIkzpmEhIRr164BQEBAgIWFxZQpUwoKCpYuXXrjxg3uaTZJSUlhYWEnT57knmDTkGa8TzKZrKure+PGDRaLRXh+GhoaULdeEsGwYcOGDRvGfdf06dN54lFXV8cwbOXKlZKSkp06deIJDwBGRkb+/v5+fn6EqKuraxNP9fjx45CQEDc3N21t7czMzH/++WfcuHE2NjbEvREREcHBwevWrdPW1s7Ozj569GheXh7nkWRkZLjbON3d3b28vK5fv078SaVSuTvfAaCoqCgmJubQoUPZ2dnJyckAkJ6ezhk2+u3bNz09vabTsDHoOUVSur+6/CR11em5RU2EbwiGkVjlLXf+AH7kFqtQ1fMSMwFASl6G0arRMzgbZ1a3ZrB2VU6RFFdfpzRVvYpr+Hyb8zO3SImqTkvMBABJeenWGSsgpbnFilT1gsRMAJDgp8WopEvISxPf+oq66sRkpmHrp7/yDauhMwEg5/2XQUsnZr5K/J6WJ2xdgp52Q9IiPnGaHwAgIfRlQuhLAMBI2KKHe4u/5vLEVp1TJF0/B6u5crAqp0hrijn31ZK3KWRpCT3HCVHjPQCAzajJCXkx8PKGlxO31osXw2oaL89tKFqdX4JRuAYdsfFmx1dwp7CkvHTDAWdMfik8fP306AY522vSENVu2tPPrQcAWQ1FMUlxGRX5+1vOClWUKE6my63LC358uva8aWM5lOQWqVDVc1tYUfyklcgo/mrqwNktmXAk2tqpLKdYgapOzA2SUJCuqeLVqqmii8tLEy2R8rrq5bnfea4mXI4wc5/2+fyjCloJ9wB9nN1o52YbihpOHqLcTds6qLYskSXFpVTkIzbzKUs8FOUWalI10xPTAUBGXoZeyWeYE7U71W65/bE1h1l1TR5sFjv4wEXiWJOqOXAsn5EYPPBUv02XYSVd9dK8YgDAWexnB64RAZSo6l3H9uOE76Ctqqirnh4V36z03w3+27OOSktLS0tLuc/Iy8sTc28IJCUlTU1NX716ZWpqCgD5+fklJSW9e/cGgOjo6JUrVwKAmpqaiYnJ58+fuWdvBwUFWVhYODo64ji+ePHihv4eQSvX+xwxYgTnODo6evLkydwraBJ92dyQyeTDhw8HBAQcO3bM3d2dMIab4cOHEyNKz549e/r06V69ejWhHhER4ezsrK+vLy4ubmBgsH79+vv373NfdXJyIq527tx5w4YN9+7d41x98ODB8ePHfblQUfnVCzl27NinT59yax07dmzVqlUA0KlTJyqVOnPmzJiYmHHjxhFXnz17NmZMvZHvgsMsLmWWlHWwMAYAspy0xqxRRWHRzd5FkhKvPZCW0Ha1L7gR2XR4vsTefmmxpHbMqMXSiR/DXwlyF4ZhZPHaz5V+UyzyU7JYTIHWQOCBWVzGLClTtjACAIqcVKdZw2lhr1sRj4B8vh09eOlE4niw48R4wYxtHYm3owcutSSOBzlOTArntSvpzqtBjrUPM9BxYuLtaACgl1X2sjcHDAMAOQ0lDWO9mhbOwWydLgBgJGzAovFvT99tGCeJQh6xeVbqk1jCj+GGUVzGKClXqctB7Vkj8sJ+perP2DRpqrpcd20AkNRUUhvVu/BxLM5mS2oqd+jfhQijaT2opoIOAJgYGUi1Q68MXCfR7r1rzMY2FM2/+1Z3/hixDjIAIG9ElVBXLE9txtdPuB09qC6FB/JL4USuFB5Ul8LV9XNW01ivhs54vPNi8Kw9V+Z5X5nn/Sbg3883o/i6nm0rCgBDXSdXFP2Mu/ysaUu5+XD75fAl1sTx8KVWsYK9O0kRscYTBipqqQCAYidVA7Oe394lCy4aV792+iTM2inlVnQfx9oU7uM48csd3hT+Evaq77LaFO67bOKX29EAQJGsq4QpZON5o3PfJANAed53nM3WGW5MBDCeP+bb/ffCFn2x4+KtmXvCHLzDHLw/+P+bciNKENcTACJvR9osrW3TsnWc9DKcd0kNA2MDu2WTfdYdZfCri+QU5ZbtWRF2qvn59fG3o03rql8zx4kJDXIz/s6rwY6/AsTfrhdASlHWcs+i16d+VVDmK+2iT95pVldwyBQypck5Kn8r586dG1Wfc+fO8YRRV1fX1tZOS0urqKhITU0dMqR2fDCbzeZMK+/UqVNubr0WirS0tPT09LNnzx4/ftzHxycvj3/tKtCcd1VVVS8vL5412Hfu3Em0EWZnZ8+aNWvKlCmCRMVBXFwcAMhkMt91kQjIZDLfLvihQ4cGBAS4urpqaGjk5uYeO3aM4w4CgLm5+alTp9zc3DQ1NWk0mo+PD/fV0tLSmpoa7mirq6tzcnK0tLSImENDQ9lsNueptm//NXiIZ5Qqm83+9OnTggULWmQ4NymrfAy8l+q4TsHEyJmHrtHr1lHiBq9hcXrbAUB57ICOSyzZjBqMRMo7d//Hs7hW6H4IfaGip+F0fRuO4/nJWbd3nOcbjM1is7mkJeSkFp5xJ87kJ2fd2HSqFdIEn1x8e+5frL9mMkmM/PXgjSp+hrNZLG71VvPxZpQSVWNhyFbAcVpS1r0d/OfhsllsdoORf02c50v8zShFqvqcEE8cxwuTsh436F197Rc+0mP27GseGBnLiEqID30JAI93Xhyxeebc0G01VQySOPmBx7lSrlY9NovV7AO0ThcAulmZZr5KrCz69QUsrSxv6+MMABQJ8a+PY16d4N/DFefia7R/kcGaSSQx8peDIVVZ9ZrtPzge7ek1D6NQMDL2yS2AVUkHgHdzDxhunkESp5Ao5GpaSZzzCQCQ1lY1Oe7EptdgZKz4ZWKK9/UmzGwr0fKk7FSfOwMvb2BVMmoqqj4sPQLNNc/F34xSoqo71KVww37z137hozxmz6lL4c91OTty88x5oduYVQyyOPl+/ZyF2tLVaCFvQ9FuEwf1WzCuICHTyH4oANRU06/yW8qAh/ehL1T0NFZe347jeF5yVugO3h8nArx+RVHxvSzEI3Du8VU1DCaLyQpe60tvSRcNUTstr6udwlpSO7FaWDul3IzqoKduf8MTx/Hi5Kw323hTOOZkuLnn7MkhHhgJy45KSL75EgD6u9h2Mu/JqmaSKOS0B+8/1M0QeujiO8xrfv+VtgDwOehxfgz/gYltK/orQWqaKks8PL/5TJOquTtkH47jGUkZgTsCuK+SKeStF3Zkp2Z7nNtGnLl86FLCm/jeFn1sHSdRKBSMhIWdvv3u8dtmhT7djFKiaswP2YrjeEFS1oMG1W+0350xHnPmXfPAyKT0qPhPoVEA0NnCyMzRikwhYyTs9em7Xx5/IALLd1RWM9S+sz6AV+Y3sB43sg1jExm/P+5z3rx53L3qAMDd8MlBS0srPj7+1atXo0aNangVAHAc55m8VVJSMnfuXBKJpKCgMGHChA8fPmhqaja8Efv9YXCJiYkHDhzgXgoUw7DDhw8rKCj8ZsxN8Pz58/Dw8KKiIhUVFWtra3Nzc+6rL168uHPnTmFhobKysqWl5fDhwwWPOSkp6cuXL9bW1s2GDA8P19PT69Gj+Xl/kRqCuuZyfbrI9TXI5dcW1VLCJMVaFB7DsMm7F4d6BrauRZNgZFUri5NCXwOFPvqZp+83H7QBryRb/OWKYZjVnkX/epz5HWMlQbD5khg2fs/CBx5n2b+h1RraVNeouplIOvTV79DHIL1VOdhqhCH6UfDihGET9iy8L+KcbVPRQox3UK8A+tjU3YtDfqOiEBPwxakv+vu1kzZLsJzFsBF7F0ZsEXW2tq3oE1Jp84F4HwFbtscpwMOvpsFQbwHpA3wml/BVmrhn0V2PM21i7Ib3bbAIYCsQU2nZYg5ti6Skzm/GUF3NfzFaDrdu3bK1tS0vL09ISOjUqVNpaWm3bt2Ik/b29pcvXyYWC/L09Jw8eTLRI0/g4OBw5MgRJSUlADh79qyqqurEiRMbxt8G3ieiWQT3PtuQlnqfbUKrvc/foRXeZ5sgqPf5V9Cs9/nX0ALv8/+fVnifv08rvM82QVDv86+gFd7n7yOo99mmIO+zdQjifU6YMOHRo0eWlpYAkJCQQKFQEhMTbW1tDx48qKOjM3XqVBqN5ujoGBISwt2fHBAQUF5e7urqWlFRsXjx4iNHjnCvsM5B0NXmEQgEAoFAIBDtzu/POmpeAsdv3rzJ2bGyR48eERERmZmZALB8+XJPT09imOLWrVt5Rkg6ODhs27Zt5syZAODo6MjX9QTkfSIQCAQCgUAguMnNzX306BFnz0iCnz9/rly5UlpamnuXHwJ/f38bGxsNDQ1JScm9e/dCcyDvE4FAIBAIBOL/BhGMmXRycnJychI8fBO7VPIFeZ8IBAKBQCAQ/zf8BTN2WrneJwKBQCAQCAQC0QpQ2ycCgUAgEAjE/w3/9y2faMUlBAKBQCAQCIQoQT3vCAQCgUAgEAjRgbxPBAKBQCAQCIToQN4nAoFAIBAIBEJ0IO8TgUAgEAgEAiE6kPeJQCAQCAQCgRAdyPtEIBAIBAKBQIgO5H0iEAgEAoFAIEQH8j4RCAQCgUAgEKIDeZ8IBAKBQCAQCNGBvE8EAoFAIBAIhOhA3icCITpqamo4/yMQiD8c9MIiEEICeZ8IhOj4559/AGDfvn0i1o2LiwOA9+/f//WiFy5cAIAzZ86IUrRdLAVkrPD5T72w3759+1pHampqWVmZsBVfvHjh6ek5d+7cuXPnzps3b+vWrVFRUX+lKKIhlPZ+AMR/l5iYGBaLxfcSmUzu27eviJ9HqNy5c6empiYlJSU0NPTr16+hoaFDhw5VUlIKDg7u2LHj8OHDhap+//59ExOTu3fv9uvXT6hC7ShKo9FYLFZKSkpubi7xv5qaGoVCSU1NlZeXV1VVFZ606JMXGStsY/+DL+zRo0cjIyOHDBlCIpEiIyP19fUlJCS8vLy0tbXbXCs+Pj4wMNDIyGjBggV6enrEyfT09GfPnt24cWPJkiXdunX7O0QRjYHhON7ez4CoB1HV8r1EJpPV1dX/GtHjx4831qVFoVCcnZ2FITp//nwmk8l9BsdxDMNwHJeQkBBey8rNmze5jcUwbNiwYdevX6+urv727dvs2bMHDRokDN1FixYxGIysrCwdHZ309HQqlbpp0yY5OTk3NzcNDY39+/eLiYn9HaIbN27kSWFHR8evX79evny5srLS29tbV1e3zUXbxVJAxgrf2P/UC0uwcuXKjRs3duzYEQAyMjL27du3evXqQ4cOnTx5ss21wsPDLS0tMQxreAnH8bt371paWv4doojGQN7nHwdPVcsNhULZs2fPXyPaECaTiWEYhfKXN8nn5OSEhoauWLHCwcEhKCgoIyMjICBg165dwtBis9mcd7y6urqwsJBKpbq5uTk5OcXExNDp9Dlz5vwdotwUFha+ffvW0tJywYIFfn5+iYmJ9+7dc3d3b3OhdrcUkLHCMZabv/6FJZg7d+758+c5f86ZM+fChQuEyUJSRPyX+ct/5v8fEZmr1+6iBAwGQ1xcnDg+cuTI8OHD+/fvL8oHuHXrlqam5sBwYH08AAAgAElEQVSBA4UtFBwcXFhY2KdPnwEDBnz8+BEASCQSAHTq1Ck/P19IooQEQWlpaUBAgJeXV0FBgb6+voqKioeHhzB+zNpFFACSk5NLSkqoVKq0tPS9e/csLS3ZbLa4uHj37t19fX2FodhelgIyVsjGwn/phSXAMOzjx4/GxsYA8O7dO1lZWQBorE+sDcFx/MmTJ2lpaWpqauPHj5eQkBC2YnuJIrhBs47+Dzh9+nR0dPRfKRoZGeni4jJ79uzo6OjQ0FAKhSIC17OoqGjfvn27du36/v17UlLSkydPROB6AsDVq1cHDhx4+vRpSUlJOp3OOV9VVSUpKSk83Tlz5syaNWvv3r0aGho5OTlQ9wsnKytbUVHxN4m6uLi8efNmy5Yt8vLyP3/+BAC+vWxtS7tYCshY4Rv7n3phAWDnzp0nTpyYMmXKtGnTzp8/v3PnTgaDMXv2bOEpEuzfvz8+Pp5KpdJotNWrVwtbrh1FEdwg7/NPJCkpad26dStWrEhNTY2Ojk5PTzczM/srRf39/SsrK319fUNDQ0NCQkRTC7i6usbHx48aNcrFxWXfvn0ia/eVk5MzNTVls9kAQCaTiTN5eXmRkZFEe4OQIJFIly5dSkhIwDCM+BkjnqGgoEBFReVvElVTU3NxcSEcBSKFMQxjMBgJCQmcSQZtTrtYCshY4Rv7n3phAUBHR+fkyZPXr1+/evXq0aNHVVVVxcXFlZWVhST377//EgcZGRkuLi5jxoxZunQp8WkhPNpFFMEX1PP+J+Ll5YVh2M6dO3ft2sVgMAIDA/9WUQJ5efl9+/YdOHDg9u3bNjY2ohE1MzMzMjJyd3fPzMxsr6mOrq6u69atU1ZWFpkHTLQYmZiYnD59+suXLxMmTPibRAkh7v/nzJkzd+5cNpt96NAhIYk2fADRJC8yVpTGEvxHXlhuTpw4YWpqKoyYy8vLV61a5eLiMmLECCcnp65du6akpJiYmAhDq31FEXxB3uefi66urq+vr4eHx5s3b0TQDNkuoqNGjXry5Alx7ObmtnLlSlNTUzU1NaGKamlp5ebmAoCsrOy+fftWrVrl6+vLGXsqPGRkZACgsLBw9uzZVVVVAKCvr0+sYigCqqqqsrKyysvLAWD16tVXrlwZM2aMsBeOEbEoMV2DRqMdOXKEGJk3atSoQYMGSUhICG+mMIHokxcZK2xjiRe2oKDgv/PCNkR485KnTZs2evToo0ePKigobNq0qaioaOrUqVpaWkKSa0dRBH9wxJ/H/v37HRwciGM6nb5o0aLS0tK/UhTH8bCwMM5xWlramTNnRCDq7e3NOY6MjPTz8xOBaHtx8eJFHMcPHTq0YcMGX1/fv1g0MzMTx/GUlJTXr1+npaWJRrRdLMWRsX8v7ZXIfOH8KAiP2NjY5cuXP3z4UNhC7S6K4AZ5n38o3E5YXFycaOqgdhH9E6ioqBC9aGhoqOhFRQydThe96OPHj0Uv2i6W4shY4XP8+HHRi+Ltl8g8CM/7PH36tK2t7YQJEx48eMBisS5cuLBmzRriM0N4tIsogi/I+0T8KTx8+PDVq1ciFn379m1CQoIIhBgMRlkdxJJ+ImhU4Iubm5vItObNmycyLQ7tkrDtYimOjBW5aGlpqWj8wvZKZB7mzJkjpJinT5+O43hVVdWiRYuIM4WFhVu3bhWSXDuKIviCxn3+6bx48UJWVrZ3795/t+jevXt79+7NZrPfvn0bFxeH47ixsbGQdhPhcO3aNTk5OSaT+f379+zsbABQV1cX0sZO48aN69q1KwCw2eyamprAwEBcJBs9/Pvvv0VFRQCAYZihoeHAgQNpNJqwRcPCwlgsFo7jNBotNDQUAEaPHi0jI3PlyhUtLa2hQ4cKQ3TRokVMJhPH8aSkpLlz5wLAnj17KBTKmjVrOnbsuG/fPu6VFNuKdrEUkLHCN5bYFI14SWfNmoVhmLe3d35+vpeXl4SEhK+vb4cOHdpcFNovkQGAxWIRU/sJiLU/J02aJDzFrKwsGo3GGXOvoqKybds24cm1oyiiIcj7/KPx9/fX0dEhk8mpqakpKSk4juvr6xsaGv5NopMmTfL19f3x4wfxE+Lj47NgwQISiSQkL5DAy8tr7dq1b9++HT16NAC4u7t36dKFTCb3799fSLpaWlqcDeuIX1DR4OPjs2rVKhzHidnBly9fFoFoTU0NsXXWwoULmUxmcnLyqFGjzpw58/Pnz5cvXyooKAhjwZqAgACOQ4/j+KlTp7S0tDZs2ODp6fn+/fubN2/a29u3uWi7WArIWOEbe/bsWe4/XV1dtbS0du7cGRgYGBsbe/Xq1aVLl7a5KLRfIgPA4sWLubca9vb2vnDhwuTJk4Uk5+7u7u3tLSEhsX79eiFJ/CGiCL4g7/MPZcWKFbt3705NTaVSqQDg5eU1atQoMplcXV3914gePXrUxcWFyWQePHhQQUGBOMlms4cNGyYMOYKHDx+OGTPmwYMH0tLSnP0t6HS6sCujxjYXxnEcwzDhLZ2tpKQ0duxY4jg4OFhIKjxMmjSpvLy8pqaGaB+aMWOGnJzc06dPg4KCUlJSrly5IoxfUBKJdP369bKysq5duw4ZMuTp06fLli3Lzs42NDQklsgRho/SLpYCMlb4xgKAu7v7z58/DQ0NV65cSaySUVFR0aFDh/79+4eEhAhDEdojkR88eHDnzh0ASEpKWrVqFXGytLRU2Ov59+nT59ixY0KV+ENEEXxB3ucfx6VLl2bNmpWSknLkyBEpKSniZE1NjVD3nGgX0Xfv3gGAoqKigoLCgAEDhCfETVBQ0JgxY3R0dDIyMoYMGSIaUb4UFxcTY4/IZPKpU6eEpNLwJ6SysvL69esAQCKRhNewYW9vb2Ji8vPnT2LSBtQt3aKnp5eVlSUk0YsXL65fv/7r16+DBg0iFugmUFRUFN6C0u1iKSBjAUDIxubk5Jw7d+7r168UCoXYcJIwVkJCgnvrozZHxIk8ZMiQnj174jju5ubG+QgXFxdXVVVtcy0Od+7csbKyauxqeHj4xIkT/w5RRGMg7/OP4969e7NmzdLQ0Kiqqho8ePBfLMrpTbO0tExJSVFSUhKNLoGVlRXRw9VeKCsri3JJfw4YhklISOA4LozRchzU1NS8vb2JYyKdCT+YwWAIb4FGWVlZMzMzYp1a7v2pi4uLFRUVhSTaLpYCMhYAhGws8YKUlZW9efOG2OKSMDY7O1tTU1NIoiDyRJaRkSFWNvXw8BDZypcGBgZr167t1avXyJEjdXR0iJOZmZlPnjyJj49fvHjxXyOKaAzkff5xcHwya2vrgoKCv1h0xowZAIBhWN++fS9fvkwMwRQ2RL8VhmHm5ua7du2ysLAQgSjU7ZVHIJr5Ro0hJSVlbW0tbBUMw37+/Ll3714AIJYHl5SULC8v//jxY/fu3YUnWlJSQoxzJaaRUanU6OjoDx8+mJubC09U9JYCMlb4xgJAVVXVq1evAKCyshIABg8efPjw4W/fvjk4OAhPtL0SuWvXruHh4VlZWYTLS6FQli1bJiStbt26HThw4MWLF6dOnUpPTyc+hnV1dceNGzd//vy/SRTRGMj7/OMYNWoUAGAYNnDgQA8PjxEjRvytokQ3h6ysLPEndx+T8Fi7di2hIikpKdTuMx7U1NQ4k4369u0LjYwEbXMKCwvDwsIAgM1mMxgMEShyUFBQWLlyJZvN/vz5MwAsXLjQwcFBXFz8xIkTQlLEcVxRUfH8+fMAYGdnBwBr167dsWNHp06dbG1thSQK7WEpIGOFbyyO47Kyss7OzgDw+PFjAHB0dLx69WqfPn369+8vJFGCdknkVatWGRoa9urVi0KhQF3Tr1AxNzcX6sfDnyOKaAjyPv84iI8wDMMoFAqna1jYPlm7iBIQ9em4ceOIvi0nJycRiBLbNHfp0qWqqkpOTk4E+9c13I1aNMm7YcMGojEbwzB3d3cRKBLIyckBQMeOHQGAWMbFzMwsKChIXFxceJuaNhy21aFDB2HvA94ulgIyVvjGEl+qBMS3IolEInpshEp7JXJ5efnq1auFF38T3Lp1S6ifTH+OKOIXbbl4KKLtqKqqwnH82rVroaGhL1++vHXr1t8qyiEuLo5Y4EmUPH369N27dyIWxXG8uLg4Pz9f9Lo4ju/YsUPEigcPHhSxIo7jHz58EL1ou1iKI2OFD51OF83OwzyIMpEXL15cU1MjMjkCOp3OYrG4l/TPzc39K0URPGB4uw5BQzTL69evZWVle/bs+XeLbtu2TfRL/l65cmX69OkiFiWYN2/euXPnRK/7F3/u02g07vkoZDJZXV29vLy8tLQUAKSlpYW0PHi7gIwVpbFsNjs/P//KlSuurq5CFWpIeXn5p0+fiOlWQuLgwYNE8qakpJSWlvbr149o6CWTyW5ubkISnTlzJoZhxsbGnTt37tu3744dO9zc3Hbt2qWiokKn04U0HbNdRBGNgXre/2iOHz9OjDr6K0Vzc3M565gkJiYSi4nIycl16NDhzJkzCxYsEPYDhIeHc3uf0dHRwqvl9+/fT3zpkcnkWbNmcU9CcnJyEupwLm5CQkI43mdsbKyQtrNycnIixpjW1NRQKBQZGZkjR464u7vn5eUBQL9+/TjLCrYh/v7+xKCRp0+fjhgxQlJScuPGjXZ2dn379sVxvGfPnsKYWNAulgIyVvjGEtDpdAkJiU2bNq1cuZJ4f/ft2yctLe3s7CyCcdvv3r3T1NQk6iU2my2kgZjDhw8n6mGeAUjc+x61OVJSUoGBgQsWLNDT08NxPDk5eefOnevXr/f19RVewraLKKIxkPf5x0E0ShMHr1+/XrFiBV63OE5YWJiQZiu3i+iJEyc4TRqdO3c+ceIEjuOmpqZ2dnZPnz4VkvfJvYHe9+/fiQVNR48evWDBAl9fX+F5n1ZWViwWy9PTc+nSpa9fv+au7MrKyoQkCgALFixgsVjZ2dnq6uo8LTeHDh0ipnG0ORxneu7cuZylTLOzswk5If2Ienh4EAdpaWnbt28njjU1NTmL1wiDdrEUkLHCN5Zg/Pjxly5dIvaDwHE8JCREQUGBTqeHhYXZ2NgIT/fRo0ejR4++evUqMRCzqKhoyZIlxKwjZWXlttXq169f20bYCgwMDEQwoPZPEEVwQN7nH8fixYs57hEAzJs3DwBGjhw5f/78a9euCckRbBfRXbt2cf+Znp7u7+9PTGgV3oAQng308vLywsPDCU9XqKNQiKVSZGRkDA0NY2NjuS8J9bOb2DrPwcFh+/btcXFx3JeEZ+/WrVuJxt20tDQPD4++fftOmjSJRCIJtTXF0dGRyWQCAIZhCxcutLCwmD9/vrCbNNrFUkDGCt9YT0/PHTt2KCoq7ty5k7MXxvPnz3ft2lVZWent7S0k7zMrK0tbW3vjxo1sNltGRoZoFwgKCtq0aVNlZWVwcLDwOqbmzZuXkpKiqKhIIpFKSkq0tbUHDRq0bNkyzv4jwoNEInF2nhMZ7SKK4IC8zz+O06dPc/+ZlZV16dIlomtJeO5Cu4gCwKJFi9hstpiYmLGxsYODA41GI84L9afl+PHjhYWFysrKJiYmvXr1evfuHbHOsCg7X3Acd3BwwDDMxcVFNIoc64g9A1VUVIRn7/Lly4lWbWK9QOLXS9jJ6+fnxzmurq4mlqoR9rj2drEUkLHCNzY9PR0AZGRkNDU12Wz2nj17qFRqSUmJnJycrKxscXGxkHQ3b958/vz5bt26BQUFTZs2jXD34+PjXVxcqqqqhLpZbpcuXRwcHIh1l//999/Y2FgtLa3du3fv3LlTeKIEJSUlsbGxIlh7pN1FERyQ9/knsmnTpoKCAmVl5X79+o0ZMyY19X/t3XlYVNX/B/BzZ2AQBjdKBkMN1wyVXAgyv4pfN8oVydwAhdEUiMWNDEFNUinFryMImAak4loJgrlgpQRuJSaUaNpXAwZkc1gDZpyZ+/vjfLvPPCP02zjnjnc+rz96LuPz9OaM3pkzd+4573/jx4m+0PMSqtFoDh8+jBBSqVQ2NjZEv4Pm5Obm7tq1q6GhQaVSde3atb6+nkKoEYZh8FVJ0teNjLAsu3v3boZhfH19yaU4ODhwx+fPn6+srPT396e2wJFl2ZiYmHnz5iHycyN+R4pgsCSz8MGUKVOUSqW/v//ly5ctLS1Zlm1tbSW68xE2ceLEsrKyI0eOvP7662q1WiwWS6XStrY2cokPHz6Mjo7Gx9OnTz9y5MiGDRtwBTwhra2t1dXVDMNoNBr8OqzVag3viRdMKHgWzD5NUUlJyaFDhxoaGqqqqqRSKV7aKchQ/BZSVlZ248YNlmXpbIfepUuXfv36tbW11dTUVFRU0Nxz3vAtk+a8k8tlGGbnzp0UElUqVc+ePU+cOHHnzh187YTCRbKUlBR7e/vz588vXLgQb+lPYW7Ey0gRDJbwYPEX3AzDjBkz5vz58+PGjUMIDR48+JdffmlrayPXOcR1aU6cOPHSpUu7du06fvx4t27dWlpaWlpaiK7ub25ubm5uxvUfKpUKP0joecb9JhMmTGhqaurTp49MJlu8eLGNjc24cePIvfXwEgo6ArNPUyQWi/HUpL6+/ubNm3SmR7yEctH4WoJOp9u4caNWq8X9coTg98v79++fPHkSh2ZnZ2u1WnLfpiGE5HL506dPHz16FBkZGRoaihB68uQJLtPj7jcg4eHDhzqdrqWl5dGjR9xEQa/XsyxL7uM+vkZ19+7dHj16cN8VUpimDBo06NatW1VVVdxVOtKlJnyNFMFgCQ/W3d0dIeTk5CSRSPCnYoZhFi9evGrVKpFIlJCQQCiXuwlq4MCBKSkp+Ol98803MzMz1Wo1ngQTEhwcvHjxYhcXF5FI9Ouvv27cuFGj0YwYMYJEFl7uadgtMnz4cPTXTR2E8BIKOtRpO4eCzoN3wX3w4EFSUlJSUtKsWbOSk5MTEhKmTZsmyFDOzJkzKysrlUplQ0MDuVBfX1+j0NOnT586dSovL49caLu/Q2VlZWVlZVtbG7mgrVu3xsTExMTEbNu2rbS01M/Pr7q62t/fPyAgYOPGjeRyWZbV6XRHjhxZvXo1/pHaRtaVlZVyubympoZOHMvfSFkYLBXXrl1TKpVxcXEsy7a0tBA9YbGLFy+yLBsZGVleXr5r1y61Wh0dHR0TE4PXhpKjVqvv3btXXFysVquJBnEKCwtZln38+DGdOB5DgRGYfZqiZ6dHN2/evHHjxu+//y6wUKNZZkhICLkszvXr1w1/nDlzJoVQIydPnqQfyj7zt0zB6dOnr1y5Qjm0rKzs3r17lEN5GSkLg6Wiqanphx9+oByqVqu5WS85RUVF+CAvL++yATrjNboAQQcvocAIdB2Zon//+98DBw7kfpw/fz7+jlh4oaagqakJFyvTwUurE6eystJw7QgA4O/xe8Lq9fr6+no7OztyEdyOzsnJyUadUkFBQYRCo6OjcVZeXt748eMZhvnoo48yMzMvXLjg6ek5f/58wYSCjsDs87mhUqmIvgbxFfr999+zLOvh4WFh8Z+7kOkUHcnlcsNqNT8/P7z6nhBc7MSybERERFxcHEKob9++LS0t9+7de/XVVynsqEdTVlaW4U2lFhYWM2fOvHr1anV1NUKod+/e+Ka6zhUcHIy/l8RNPNbW1gkJCRSaeHiRnZ1tOFGwtrb29PS8fv06vmFaJpOR6E3AVywMH8E7zD99+pRbK0NCZmYm7jrivPbaa4MHD/7mm2969+6NFyF1OrM6YQ2R/tvEysvLDf8BMwzzxx9/ZGRkrF+/XqFQvPXWWx4eHsIIBR2BVUfPjdWrV9NvBicdumnTJp1ON2jQoPfffz8sLAw3y5MrOjKE96/mkN5xgyt2wq1ODMMEBwevXr3a2dl5x44diYmJnV5hgnHdTg8ePBgyZIidnV1CQsKsWbO6deuGEHJxcVm/fn2nh1pZWeHBJiUlBQcH488VW7dulcvlLLHVTrw08fDy9CKEtFotnpClpqbK5XK8aC8mJgY/w4ZvsZ0Id1IghFiW/e2334YOHbpw4cI+ffpERUV179593759eLl0pzPc0P7AgQMrVqxACH3xxRclJSWVlZXh4eFDhw7t9FCzOmGxwsLCuLi4urq6M2fOaDSa48ePL1myhFCWo6Mjd5yfn//48eOff/45NDRUJpMFBwcnJiaSmAjyEgo6RP/LfvDfSkxM5I4//fRTfED6jj1eQhcuXIgP1Gr1li1bcnNzKYRicrm8uroaH5eVldG8IfL06dNtbW0JCQl4bcHly5cVCgXpUMMBkh5sYWFhQUHBzZs3vby8CgoKSkpKKIRu2rQpOjo6Kipq3Lhx0dHRX375JYVQDs2n1yj36dOnSqWSfi4+WLFiRXV19aVLl1JTU+nkPn36tKmpydfXV6/X379/f/v27aRDBX/CYn5+fviJxT8uWbKEaJxcLj9+/Hhra+uSJUuePHmyfPlyjUbDsqxGo1m+fLmQQkG7SDXzgv+P69evc8e42AOR39mEl1DukoZEItm0adPt27fPnj1LZw+XtWvXBgcH7927Nz4+PigoaO3ataQTjxw5gg+ampqUSmVxcTHeP8Xd3f3u3buk07t06fLzzz/jolHSz/CVK1euXr167dq1yZMnX7169cGDBxRCg4KCAgMDg4KCTpw4ERgYOG3aNAqhHJpPL1ZcXKzT6aZOnXrixIkffviBWi7efmjMmDEFBQU5OTlqtbpXr16urq5FRUVEc7Ozs2tqalatWnXixIn8/HyxWMwwjJOTU2lpKaFE8zlhMbFYbHj1mvTuy3/++adOp5s5c2ZAQICdnZ29vX1ZWRlC6PHjxy+++KKQQkG7YPZpilg+bsblJXTo0KH45MfCwsJKS0vv3btHIfrVV1/18fERiUQuLi6HDx8eNGgQ6cQLFy7gA0dHx+rqagsLC/w9Jr5PkVyut7e3QqHYs2fP3r17p0+fTi6IExQUNG/ePO+/jB8/nkKog4NDZmZmxl9++eUXROVfNf2nFwsMDPT393/hhRcuX768cOFCCol4Y9p//vOfq1ev9vPzO3jwoJubG54YSSQScjsEf/XVVwihPXv2rF69+vfff79x44anpyfObW1ttbGxIZRrPics5uDgcPv2bYZhtFptampqr169iMZJJJLFixdv2bIlLy8PIeTl5RUXF/frr7/u2rULr4ISTChoF8w+TZHhJ12lUvnBBx9EREQ0NzcLLzQ6Orpv376GjwQGBiYnJxMNxWJiYp48efLDDz9MnDhRKpUabkFMCDcTsrOzq6urGzNmDG6xy8nJGTlyJLlcqVQ6fPhwLy+vd955x97enlyQofj4+IiIiJiYGIVCgbvsKUwE3d3d1Wo1bos9cOAAonLRiJenFyH08ssvJycnf/311z4+PnSujUVERCCEBgwY4OPjM3/+/EmTJvXo0YNlWa1W+/DhwwEDBhDKzcrKQgj17t07JSXl3Llzs2fPZhima9eupaWleXl5Y8aMIZRrVicsQmjjxo3ffvtta2vrokWLKioqYmJiiMbhp3fcuHEymezcuXOvv/76ggULMjIyvLy83nzzTSGFgnbBqiNTJ5PJ1q5dy7IsfukXamhJSUl+fj7DMOPHjyf3dmLo0aNHmzdvvnz5MkII1zeTTuSmCFKpVK1WL1iw4IMPPsjMzJTJZDt27CCaO2XKFJlMdvDgQXwphcJgt2/fnpGRMWDAgNdee43c2gUjrq6uZWVlAwcOdHFxofMZBvH09OJcW1vbpKSk0NBQFxcXOzs7OtXnDMO4urrGxsaePn3ay8vL29s7ODi4tbV127ZtpHOtrKz27NkTFhY2ceLENWvWREZGymQyXBhGglmdsAihurq6devWUQjCJk6ciA/kcvnKlSvxknPS6354CQXtgtmnqbO0tJTJZIjiHWz0Qy9evHjw4MF58+axLBsZGSmXyydNmkQ6VK/X6/V6PECVStXS0kI6EV9RZlm2qalp7ty5Xbp0iY+PJx2K/nrrGjFixOuvv378+PGFCxcuX76cQi7DMIb/fpYuXUo6sbKysr6+vrq6mrudA18BJYqvpxfndunSZd26dQqFIiYmxnAHMRKmTJnC5bq5uV28eLGoqGj27NnOzs7du3cn90Xtli1buNzu3bu/8847p06dmj9/PndfJiHmdsJ+9tln5eXlbm5unp6eTk5OpOOWLVuGDywsLOLj4+m81/ASCtoF+32aokmTJuHb2/V6vVKpxHseLVmyBO8dI6RQzNfX98CBA3gLvT///HPlypXp6emkQ3NzczMzM+/cuTNr1qxz586FhISQvsWqrq4Oz3ElEgnpe6oMffXVV/PmzcPH+MYGCq+5/v7+VVVV1tbW1tbWL7744p49e0gnIoQ2bNjAvaCNHj363XffpRDKy9OLEKqqqsIfERFChw8f9vX1pZObkZExd+5chJBKpTp27Nj7779PIRQhVFtbi9eFsCybl5c3YcIE0olmdcJier3+5s2bOTk5paWlo0ePhgJ0QA7MPk2RSqXibrh84YUXpFIpIr8dOi+hmFEKnVCEkEqlun37Nsuyw4cP597IKTh58iRfvRp6vZ7QzpcAwdMrUGZ1wjY3N+fm5ubm5tbX1+/fv59QClc7hDEMs2HDhkuXLuXk5Hh6es6cOVMwoaBDFHZ1Ap2Cl2ZwOqGBgYGFhYX4uKCgICgoiEIoj4xahq9du0Yz/ZNPPqGWtXnzZmpZ/DKfkbJmNljWbE7Yo0ePhoaGRkREZGdnNzQ0EM0qLy8vKSn5448/5s+fX1JSUlJScvXq1ZCQkJKSkjVr1ly5ckUwoaAjcN/nc+DTTz9dv349na8RDRMRQnRCN27cuH79eoZhWJYViUTklhHwCFeYIIRYlq2trfXx8UEIhYaGvvHGG0lJSW+88QaF3+H06dNz5sy5c+cO6SCupbC4uBjfgkmhpZCXkhhupHfv3qU2UgSDJT9YszphsXPnzjk5OU2fPlqhfi4AABLlSURBVN3NzY30BdeXXnoJH0gkkn79+jU3N3/22WerVq3q169fWFjYvn37SKxA5yUUdARmn6YI79vs4uKCf+RefY4dO7Zo0SKi0Xv37n3vvfcKCwu5vaO7du3av39/oqHR0dGHDx9ubm5mGEYqlVL75p0mvGt0u1had798/fXXc+bMoRDHtRQOHDiQWksh9wwb/vvp0aMH0X9LfPUxwmBJD9asTljs0KFD1dXV33333ZdffimVSqdOnUphp15vb2+VShUeHt6lS5d+/fohhF566aWamhrhhQIjMPs0Od9+++3nn38+efJknU43atQoZPBid+7cOaKzz7a2tl9//dXKyqqtre27777T6/VnzpyxtLTMyckhF4r+qlznajZIV67zhWXZdlcPCG/d5datW7njrKwsT0/PAwcOrFy5csqUKbm5uenp6eHh4eTScUlMYWGhv78/6eeW35EiGCxJ5nPCcuzt7RctWjRq1KhTp05FRUXhDi2inJ2d16xZs2nTprS0NKVS2b9//8rKStK1Q7yEAiMw+zQ56enpSUlJdnZ2FRUV+BHuxY70h+DExERfX1+EkFQqXb16NUIIV18QDUUISSSSmpoavKpUqVQKdd3GpEmT+vTpM3ny5KVLl/L4BqbRaK5du4YQEolE7u7uhFKOHDmCv6zkWgrxXifu7u7Hjh0jFOrt7T1hwoQ9e/aEhobGxsYSSjHCy0gRDJY8szphEUI//fRTTk7OnTt3nJ2dp06d+uGHH5LLWrp0qV6vb2lpqaioOHbsmJOT05w5c3bt2hUSErJ//35vb2/BhIKOCPNt/rmm1Wrt7OwQQra2tvn5+bgQDCP3ClheXr5z505ra+t//OMfRIPaRb9ynRd9+vRJTU21tLSUy+UUthftiEajKSwsvH37dmFhIbkUXloKeSmJ4auPEQZLmlmdsAih3NzcGTNmHD16NDo62t3dHV8FaGhoIJF18ODBlJSUoKCgfv367dy5EyHk7u7u7e197Nix6dOn47chYYSCjsC1T5NWXFxMJ+jx48cFBQXcnsbU7jTCnJ2d09LSCgoKWJb19/fHiwmEh2EYS0tLHx+fAQMGrFu3buvWrUePHkV/1WdTY2trS2EbP9agpVCpVOKWwsWLFxNtKeSlJIaXkSIYLJVyMvM5YRFC7RYdhYWF4b2fO51EIpkyZcqkSZO2b9+enJwcFBQ0adIk0j0jvISCdsHs0+RotVqNRiORSJ4+fbpixQqEUH5+PulQV1fXw4cPr1u37uWXXx48eDDpuGfZ2toKvu6Me78cO3bsrVu38vPz3dzcEEJvv/02udDs7Gy8UoT01SkjvLQUsnyUxPDVxwiDJRdnGIrM44TtCOm78EUiUVRU1Ndff000xRRCgRH+/3EDI2+//faHH344Y8YMqVSK15Dq9fpvvvlGp9M9efKEXK6lpeWGDRu2bdsWHx+v0WjOnDmj1+ufPHki1Lsw6TPsUpLL5Xv37p09ezbpUK1Wq9VqEUIMw+AbuejcVsFLS+GcOXPwwYIFCwIDAxcsWEDhIw1ffYwwWNKhZnXCdoRCOsMwXLcTNbyEAkPQdWRyWJY9deqUhYUF94Lr4+Pj5eWl0+kcHR1Jb4ERERGxadOmZcuWzZs3D3/q7dmzp6enJ9FQQFNYWBiFGQNfLYUcaiUxvI8UwWAFjc4J2xE6ZcvADMHs8zlA/9WH39c7QeI2rzbCsqyVlVVaWhqF34GXwkAeWwq50gQ6eBwpgsF2NrM9YY0IcvdlYBJIFimBzsFLAxjUjgkPL4WBvIRmZmY+G00aX32MMFih4rfhE9u6dSv9UGAO4L7P5wAvDWBQO0bBb7/99sorrxCN4KUwkPeWQmolMbyPFMFgKRLkCXvr1i28zsmIWCwePXp0VFRUpyeiv1pb2/0jsVjMVWIKIBR0BGafJicgIECn01VWVspkMltb2+TkZAovtbyEmjOWZePi4mxtbUm/mfFSGGgKLYV0mM9IkZkN1oiAT9hLly7hdU5VVVXXrl3DNXuXLl2aNm3a6NGjSSQig9bWZ1lYWHz88ceCCQUdgdmnycF3FAUEBKSlpfn5+Qk41NxUVVVJpVJbW9uioqLExMQZM2ZQWEKLeCoM5CXUCJ2SGFMYKYLBEmAmJyzX7rFy5crs7GxcOFleXk50NmbY2koNL6GgIzD7NFH4hYbyazovoeYjNjZWpVLV1tZWVFQkJyePHTuWTi4vhYGm0FKIS2JYlhWLxeTmKKYwUgSDJcCsTliEUGNjI9d17ujo2NjYSDTu9OnTRldzhwwZ4uzsLLxQ0C4z2rfi+dXQ0LBkyRI/P7+AgABhhwqbQqE4dOjQ2bNnT548mZWVFRkZqVarKeTyUhhoCi2FuCQmKCgItzYQYgojRTBYAszqhEUIWVtb5+Tk4ONz587h3abJwUtP9u/fj4+fPn36r3/9i2giX6GgXXDt8znQvXt3+juu8RJqJoYMGRIbG3vt2rXg4OCEhAQbGxuicbwUBtIP5bHVif7TC4OlyRxOWIRQbGzsnj17Pv/8c5FI9Nprr23bto1onJeXF0Lo1KlT+AAhdPbsWaKJfIWCdsHsEwB+jB07duDAgaTfyRBPhYH0Q/kqieHl6YXBkovriLBPWISQTCbbvn070YhnGf5VUvtr5SUUGIHZp8nBy89ra2v9/Px69uyJqJwevIQCe3t7Cim8FAbSD507d67RIz169CCaiPHy9MJgSYe2S8AnLELojz/++OSTTxobG48eParRaL777jui892bN2/q9frGxsaffvoJIYQ/YJDGSyhoF3QdPQd4aZuAigvw/DKFkhhqYLCgUyxbtmzbtm0RERH4lZ/0W0BiYqLR9GPEiBEeHh7kEvkKBe2Ca58mp6ioyOgDWXh4+K1btxBCFhYWLi4uggkFvGtubra1te30/y3vLYVnzpwxnKNcv36d9L76RqiNFMFgqexybyIInbCYTqdzcHDgftTr9YSCsPfff5/o/990QkG7YPZpcq5cucLtiJuRkWH4rZNYLCY0EeQlFFBgWJ3CMExERMT333//448/Dh069KOPPgoPD09JSen00L/ZMZscXpp4eBkpgsFS71iihpcTFuvWrVtZWRm+5+rChQvW1taEghBCtbW1f1M7xG38JIBQ0BGYfZqc+fPnc5ch8/Pz3333Xe6PxGKxkEIBBc/OGOLj448fPy6XyxH5yxuGSLcUmk4TD4U+RhgsJrw7x3g8YTdv3hwXF1dWVjZnzpzevXvHxMSQy1IoFNxEMC8vb/z48dwfkasd4iUUdARmnyZn9+7d3BnSv39/hULB/RG5M4SXUEBNY2Njt27d+Eqn1lLIexMPtZEiGCxCSLiLI3k5YXv06BEbG8v9WFRURK763LB2yM/PzzCXHF5CQUdg9mlynm0Du337dn19/cSJEwUWCij4/fffo6Oj7ezs6urqNm/ePHToUDq5vLQU8lISw1cfIwxWkPg6YRFCy5cvN7x5d8eOHenp6YSyVq5cyd1DzDAMvrKLSSSSffv2CSYUdARmn8+Brl27ZmdnU54I8hIKOl1sbKxCoXBwcFCpVBEREeRuGns2l35LIS6JOXnypFwuT0xMpLA1I+KvjxEGK0j0T9icnJwzZ84ghO7duxceHo4fbGxsJDrL/+yzz4weefDggUqlItebylco6AjMPp8D9vb2NTU15hAKOl1bWxtex2pnZ4d7YvCtcg0NDadOnSJ3Uy9388b9+/fT0tKysrI++ugjKysrQnEYLyUxvIwUwWCp1P/QR/+EHTdu3LBhw1iWXbt27QcffIAflEgkvXr16vQsQxERETt37uR+ZBgmNzeX9ESQl1DQLuh5fw6IRKLW1lZzCAWdzsbGprS0FCH0+PFjvGQhICAAIbR+/XqRSMS92ZCDWwpnz54dHBxMurTasCRm2LBhuCTGzc0tKSmJaC5Gc6QIBktxsDTRP2GlUqmjo2OfPn2io6Md/0J66okQqqysNPzxpZdeUiqVggwF7YJrn6Zo//79eXl5+IsPlmVFIpGnp6cgQwFp0dHRW7ZsUavVXbp0iYqKQghNmDABIYS7+6ih01LIV0mMIWp9jDBY0qG84PGE3b17d2pqKvcj6d3mjb7ZF4vFarWaXByPoaBd0HUEAAAAmDuj6aaPj8+RI0fIxa1cubJr164i0X++gNVoNAzD7N69m1wiX6GgXXDtEwAgfERLYkwNDBb8H0gkkpqaGvydu1Kp5KZohCgUCpVKxf0oEolkMhnRRL5CQbvg2icAQAj+viRm2bJl1Nb7UwCDFepgeVRcXLx582YPDw+9Xn/x4sWPP/545MiRfP9SQLDg2icAQAhMp9WJAhisUAfLI2dn57S0tIKCApZl/f39eeynAOYA1rwDAISjsbGR71+BHhgs+P8rLy/HB48ePaqsrMTr36urqx8+fMjvLwaEDa59AgCEgMeSGPpgsKCzfPvtt0uXLkUIpaSkcH3LCCGxWPxsB54AZGRkeHl5Cbsx67kAs08AgBDw1erECxgs6Cx46ona61sm59atW4YzXUNisXj06NHkoi9cuDBz5kxLS0ujx5uamrp27UouFxiB2ScAQAj4anXiBQwWCXSw9O3bt0+r1T77uIWFRWBgIKHQq1evthuKcwnNPvHytdra2iVLlohEovXr11+8ePGnn3565ZVXtmzZsmrVKvhgQxPMPgEAQoBLYvr16/dsSUxFRQWFVieaYLBIoIOlb9iwYfgy5I0bN4qLi729vfV6/Zdffjl+/HhyoSEhIeT+5x3hlq9ptdr79+87OzsrFApYvsYX2HEJACAEJSUlMTExXElM//79+f6NCILBgk7n5+eXlpaGry6r1eply5alp6eTi6uoqKipqRkyZIi1tTW5lHZpNJrw8PDk5GS5XJ6amor/GxAQkJaWRvk3MWdw7RMAIAQvv/yy+XxxBoMFna6trQ1PPRFCVlZWeI9VciIiIoYPHx4XFyeTycLDw/v27Us0zpBEIoGCTd7B7BMAAAAwd4MHD966devs2bMRQpmZmWPGjCEaJxKJIiMjEUJ37tzZsmWLn5+fh4cH0URDHa15AtTA7BMAAAAwdzExMWfOnMnKyhKLxW+++eaUKVOIxnF7Hg0bNiwpKQnPRKlNQPG1T8Pla6SbRYERmH0CAAAA5s7CwmL69Omurq59+vShEGe45kQikcTGxr733nsjRoyws7MjlJicnMxd8qyrq0N/LV9bt25deXl5REQEoVzQLlh1BAAAAJi7S5cupaamNjQ0ZGVlaTSavXv3rlmzhlzc9evX33jjDcNH7t69q9Pphg8fTijxxx9/5GafvXv3dnJyIhQE/ifg2icAAABg7lJSUtLS0vD2QxKJpLCwkGic0dQTIfTqq68STXRzcyP6/wf/K3CjAwAAAGDuLC0tDRuAWltbqUXj78ERQnjuS19paSkvueYMrn0CAAAA5m7QoEFnz57V6/VKpfKLL7545ZVXSCeq1WorKyuE0LZt23bu3MkwDNFtnnDXEcuy9fX1PXv2ZFmWYZgVK1Z4eHhER0cfOnSIXDR4Fsw+AQAAAHP34Ycfnjx50s7O7tNPPx01apSvry/pxMWLF7/11lvLli3DE0FksBCeBK7r6NmN5WEBDH0w+wQAAADMXUpKyooVKxYtWkQhKz4+PiwszNrauqKiIjk5eeTIkRRCOXiO+/nnn8+aNUsmkyHCs17QLrjvEwAAADB3+fn51LrOb968iRASiUTr1q1LT0+fPHlySkqKQqFoaWkhmhsaGpqSkrJjx44ff/zx7t27eOoJeAHXPgEAAABz5+rq6uvr6+HhYWtrixASi8ULFy4klMV90y2VSpcuXVpRUeHq6qpWq2/cuEEoEXv8+PHo0aPfe+89BwcHhUJBNAv8PZh9AgAAAObOycmpb9++3HfQRLt/cJ8n5u3tnZCQ8PHHHyOEDBfdk2BjYxMQEDBq1KhPPvmEZdnm5ubz58+zLFtbW0s0FzwLvnkHAAAAzJ2bm1t+fn56evrRo0eLioomTJhALuvdd9/lju3t7RsaGshlGcLXXEeOHBkUFLRz506RSCQWiy0sLDZs2EDnFwAcuPYJAAAAmLuoqCi5XD5u3DiE0MWLFyMjI5OTk4km7tu3Dx+MGjWqrq4O74JENNHd3R0feHh4XLhw4cmTJ3PnziWaCDoC1z4BAAAAc9fa2oqnngihqVOnUrgeaWNjgw8CAgJ69uyJEBo7dizRxJCQEO44KirK0dGRaBz4GzD7BAAAAMxdr169ysvL8XFZWZmDgwP93yE4OJhallQqJXpvK/h7DGyyCgAAAJi5kJCQq1evjho1SqfT3b59293d3crKytLScteuXXz/akCAYPYJAAAAmLuqqiqtVmv0oEgk6t27Ny+/DxA2mH0CAAAAAAB64KYHAAAAAABAD8w+AQAAAAAAPTD7BAAAAAAA9MDsEwAAAAAA0AOzTwAAAAAAQM9/AWo4Pc4HXKJBAAAAAElFTkSuQmCC)"
      ],
      "metadata": {
        "id": "DDUlWoCvBINu"
      }
    },
    {
      "cell_type": "markdown",
      "source": [
        "![image.png](data:image/png;base64,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)"
      ],
      "metadata": {
        "id": "z5GeRyhOBMYm"
      }
    },
    {
      "cell_type": "markdown",
      "source": [
        "# 모델링\n",
        "\n",
        "1. 상추의 성장을 예측하는 모델\n",
        "2. 상추의 초기무게를 예측하는 모델\n",
        "\n",
        "\n",
        "일단 상추의 성장을 예측하는 모델을 생각해 봤다.\n",
        "1. lstm을 사용하는 모델\n",
        "2. lgbm regressor를 사용하는 모델\n",
        "3. CNN을 사용하는 모델..?? <br>(갑자기 든 생각인데, 1d CNN을 사용하거나 세로가 낮은 CNN을 사용해도 적절한 모델을 만들 수 있지 않을까 라는 생각이 든다.)\n",
        "\n",
        "만약 상추의 성장률을 예측하는 모델을 만든다면 상추의 초기무게를 예측하는 모델이 필요하다.\n",
        "\n",
        "\n",
        "상추의 초기무게를 예측하는 모델은 lgbm regressor이 적절할 것 같다."
      ],
      "metadata": {
        "id": "6osNndlzFftF"
      }
    },
    {
      "cell_type": "markdown",
      "source": [
        "**데이터 명칭 정리**\n",
        "- train_daily_total_X_sd_W : 일별 총합 정규화 데이터 (무게데이터 학습에 사용됨)\n",
        "- train_stacked_total_X_sd_W : 누적 총합 정규화 데이터 (무게데이터 학습에 사용됨)\n",
        "\n",
        "**1~28일 까지의 데이터**\n",
        "\n",
        "------------------\n",
        "\n",
        "- train_daily_total_X_sd_R : 일별 총합 정규화 데이터 (비율데이터 학습에 사용됨)\n",
        "- train_stacked_total_X_sd_R : 누적 총합 정규화 데이터 (비율데이터 학습에 사용됨)\n",
        "\n",
        "**2~28일 까지의 데이터**\n",
        "\n",
        "-----------------\n",
        "\n",
        "- train_y_W : 상추 무게 데이터 (shape = 784,1)\n",
        "- train_y_DGR = 전날 대비 성장 데이터(shape = 756,1)\n",
        "- train_y_all.loc[:, \"전날 대비 성장(g)\"]"
      ],
      "metadata": {
        "id": "xmSZb1tpBXaw"
      }
    },
    {
      "cell_type": "markdown",
      "source": [
        "## 상추의 성장률 예측 모델"
      ],
      "metadata": {
        "id": "YQmJIv8xCAPA"
      }
    },
    {
      "cell_type": "markdown",
      "source": [
        "#### DNN 사용 모델\n",
        "초기 5 일까지의 무게를 원래는 lgbm으로 예측했는데 성능이 조금 별론 것 같아서, 이걸로도 해보겠다."
      ],
      "metadata": {
        "id": "_tBy3W3HOf6t"
      }
    },
    {
      "cell_type": "code",
      "source": [
        "def make_day_vector(day):\n",
        "    X1 = np.array(train_daily_total_X_sd_W)\n",
        "    target_index = []\n",
        "    for i in range(28):\n",
        "        for j in range(day):\n",
        "            target_index.append(j + 28*i)   \n",
        "    return X1[target_index], train_y_all.iloc[target_index, 0] "
      ],
      "metadata": {
        "id": "dLncDReeOws0"
      },
      "execution_count": null,
      "outputs": []
    },
    {
      "cell_type": "code",
      "source": [
        "X, y = make_day_vector(5)\n",
        "\n",
        "X.shape, y.shape"
      ],
      "metadata": {
        "colab": {
          "base_uri": "https://localhost:8080/"
        },
        "id": "uraSW_3FPSLN",
        "outputId": "31681ea6-2416-4296-e998-c68036a3ee4c"
      },
      "execution_count": null,
      "outputs": [
        {
          "output_type": "execute_result",
          "data": {
            "text/plain": [
              "((140, 15), (140,))"
            ]
          },
          "metadata": {},
          "execution_count": 48
        }
      ]
    },
    {
      "cell_type": "code",
      "source": [
        "DNN_model = keras.models.Sequential([\n",
        "    keras.layers.Dropout(0.5),\n",
        "    keras.layers.Dense(15),\n",
        "    keras.layers.Dropout(0.5),\n",
        "    keras.layers.Dense(8),\n",
        "    keras.layers.Dense(1)\n",
        "])\n",
        "\n",
        "optimizer = keras.optimizers.SGD(learning_rate=0.01)\n",
        "\n",
        "DNN_model.compile(loss=\"mse\", optimizer=optimizer)\n",
        "\n",
        "DNN_model.fit(X, y, epochs=30)"
      ],
      "metadata": {
        "colab": {
          "base_uri": "https://localhost:8080/"
        },
        "id": "KFkMsm1NPEde",
        "outputId": "4ddad380-9281-46e0-e561-b6317d1b87f1"
      },
      "execution_count": null,
      "outputs": [
        {
          "output_type": "stream",
          "name": "stdout",
          "text": [
            "Epoch 1/30\n",
            "5/5 [==============================] - 2s 5ms/step - loss: 20.3746\n",
            "Epoch 2/30\n",
            "5/5 [==============================] - 0s 7ms/step - loss: 12.9779\n",
            "Epoch 3/30\n",
            "5/5 [==============================] - 0s 4ms/step - loss: 10.3202\n",
            "Epoch 4/30\n",
            "5/5 [==============================] - 0s 7ms/step - loss: 7.1659\n",
            "Epoch 5/30\n",
            "5/5 [==============================] - 0s 7ms/step - loss: 6.1184\n",
            "Epoch 6/30\n",
            "5/5 [==============================] - 0s 6ms/step - loss: 7.3079\n",
            "Epoch 7/30\n",
            "5/5 [==============================] - 0s 7ms/step - loss: 8.2515\n",
            "Epoch 8/30\n",
            "5/5 [==============================] - 0s 6ms/step - loss: 8.3427\n",
            "Epoch 9/30\n",
            "5/5 [==============================] - 0s 7ms/step - loss: 8.5265\n",
            "Epoch 10/30\n",
            "5/5 [==============================] - 0s 7ms/step - loss: 7.4466\n",
            "Epoch 11/30\n",
            "5/5 [==============================] - 0s 10ms/step - loss: 8.4326\n",
            "Epoch 12/30\n",
            "5/5 [==============================] - 0s 5ms/step - loss: 6.7829\n",
            "Epoch 13/30\n",
            "5/5 [==============================] - 0s 5ms/step - loss: 6.9773\n",
            "Epoch 14/30\n",
            "5/5 [==============================] - 0s 4ms/step - loss: 7.2194\n",
            "Epoch 15/30\n",
            "5/5 [==============================] - 0s 4ms/step - loss: 7.4391\n",
            "Epoch 16/30\n",
            "5/5 [==============================] - 0s 7ms/step - loss: 7.0955\n",
            "Epoch 17/30\n",
            "5/5 [==============================] - 0s 5ms/step - loss: 7.3740\n",
            "Epoch 18/30\n",
            "5/5 [==============================] - 0s 6ms/step - loss: 7.0819\n",
            "Epoch 19/30\n",
            "5/5 [==============================] - 0s 5ms/step - loss: 7.9570\n",
            "Epoch 20/30\n",
            "5/5 [==============================] - 0s 10ms/step - loss: 6.1416\n",
            "Epoch 21/30\n",
            "5/5 [==============================] - 0s 4ms/step - loss: 8.0933\n",
            "Epoch 22/30\n",
            "5/5 [==============================] - 0s 4ms/step - loss: 7.2310\n",
            "Epoch 23/30\n",
            "5/5 [==============================] - 0s 10ms/step - loss: 6.3310\n",
            "Epoch 24/30\n",
            "5/5 [==============================] - 0s 6ms/step - loss: 6.5872\n",
            "Epoch 25/30\n",
            "5/5 [==============================] - 0s 4ms/step - loss: 7.8204\n",
            "Epoch 26/30\n",
            "5/5 [==============================] - 0s 5ms/step - loss: 7.3301\n",
            "Epoch 27/30\n",
            "5/5 [==============================] - 0s 6ms/step - loss: 7.0432\n",
            "Epoch 28/30\n",
            "5/5 [==============================] - 0s 6ms/step - loss: 5.8640\n",
            "Epoch 29/30\n",
            "5/5 [==============================] - 0s 6ms/step - loss: 7.0465\n",
            "Epoch 30/30\n",
            "5/5 [==============================] - 0s 6ms/step - loss: 6.7980\n"
          ]
        },
        {
          "output_type": "execute_result",
          "data": {
            "text/plain": [
              "<keras.callbacks.History at 0x7fd7c03d2040>"
            ]
          },
          "metadata": {},
          "execution_count": 49
        }
      ]
    },
    {
      "cell_type": "markdown",
      "source": [
        "### LSTM 사용 모델\n",
        "[내가 공부한 RNN 깃허브](https://github.com/donghui-0126/machine-learning/blob/main/%ED%95%B8%EC%A6%88%EC%98%A8%EB%A8%B8%EC%8B%A0%EB%9F%AC%EB%8B%9D/2%EC%9E%A5%20%EB%94%A5%EB%9F%AC%EB%8B%9D/%5B15%EC%9E%A5%5D_RNN%EA%B3%BC_CNN%EC%9D%84_%EC%82%AC%EC%9A%A9%ED%95%B4_%EC%8B%9C%ED%80%80%EC%8A%A4_%EC%B2%98%EB%A6%AC%ED%95%98%EA%B8%B0.ipynb)\n",
        "\n",
        "LSTM은 회귀를 할때 어떻게 해야하는지 잘 모르겠다. 이건 나중으로 미뤄보자"
      ],
      "metadata": {
        "id": "LjbY6wltFhY6"
      }
    },
    {
      "cell_type": "markdown",
      "source": [
        "데이터 shape (28 * 28-5), 5(참고할 날짜), 14(컬럼개수)"
      ],
      "metadata": {
        "id": "K_h51sX_24U4"
      }
    },
    {
      "cell_type": "code",
      "source": [
        "# 데이터 크기, 컬럼 수(타임스텝), 데이터 순으로 모델 크기를 재구성함\n",
        "\n",
        "# 예측하는 날에서 4일 전까지의 데이터만 사용함. (총 5일의 데이터를 사용해서 예측)\n",
        "time_step = 5 \n",
        "\n",
        "X1 = np.array(train_daily_total_X_sd_W)\n",
        "\n",
        "train_X1 = []\n",
        "\n",
        "for i in range(28):\n",
        "    for j in range(23):\n",
        "        train_X1.append(X1[i*28+j:i*28+j+5])\n",
        "\n",
        "\n",
        "train_X1 = np.array(train_X1).reshape([np.array(train_X1).shape[0], 5, -1])\n",
        "\n",
        "\n",
        "X2 = np.array(train_stacked_total_X_sd_W)\n",
        "\n",
        "train_X2 = []\n",
        "\n",
        "for i in range(28):\n",
        "    for j in range(23):\n",
        "        train_X2.append(X2[i*28+j:i*28+j+5])\n",
        "\n",
        "\n",
        "train_X2 = np.array(train_X2).reshape([np.array(train_X2).shape[0], 5, -1])\n",
        "\n",
        "train_X1.shape"
      ],
      "metadata": {
        "id": "q1NZIFKXxyEM",
        "colab": {
          "base_uri": "https://localhost:8080/"
        },
        "outputId": "2b854558-a7b0-41c8-eda8-86d0bde76b4b"
      },
      "execution_count": null,
      "outputs": [
        {
          "output_type": "execute_result",
          "data": {
            "text/plain": [
              "(644, 5, 15)"
            ]
          },
          "metadata": {},
          "execution_count": 50
        }
      ]
    },
    {
      "cell_type": "code",
      "source": [
        "train_y = []\n",
        "y = np.array(train_y_all.iloc[:, 0])\n",
        "\n",
        "for i in range(28):\n",
        "    train_y.extend(y[i*28+4:i*28+27])\n",
        "\n",
        "train_y = np.array(train_y)\n",
        "train_y.shape"
      ],
      "metadata": {
        "colab": {
          "base_uri": "https://localhost:8080/"
        },
        "id": "XfFaB-VTaKNa",
        "outputId": "33fab01c-b706-4ba4-98b0-cb9d3f2eb38e"
      },
      "execution_count": null,
      "outputs": [
        {
          "output_type": "execute_result",
          "data": {
            "text/plain": [
              "(644,)"
            ]
          },
          "metadata": {},
          "execution_count": 51
        }
      ]
    },
    {
      "cell_type": "markdown",
      "source": [
        "#### lstm_model_1"
      ],
      "metadata": {
        "id": "9Yj_iIMq03ra"
      }
    },
    {
      "cell_type": "code",
      "source": [
        "from sklearn.model_selection import KFold\n",
        "\n",
        "sequence = 5\n",
        "batch_size = 32\n",
        "epoch = 100\n",
        "verbose = 1\n",
        "dropout_ratio = 0.25\n",
        "\n",
        "\n",
        "early_stopping_cb = keras.callbacks.EarlyStopping(patience=8)\n",
        "callbacks = [early_stopping_cb]\n",
        "             \n",
        "n= 1\n",
        "\n",
        "rmse_history = []\n",
        "\n",
        "kf = KFold(n_splits = 4)\n",
        "print(\"학습시작\")\n",
        "\n",
        "for train_index, test_index in kf.split(range(644)):\n",
        "    lstm_model1 = keras.models.Sequential([\n",
        "        keras.layers.LSTM(32, return_sequences=True, input_shape=[train_X1.shape[1],train_X1.shape[2]]),\n",
        "        keras.layers.LSTM(16, return_sequences=True),\n",
        "        keras.layers.Flatten(),\n",
        "        keras.layers.Dropout(0.5),\n",
        "        keras.layers.Dense(8),\n",
        "        keras.layers.Dropout(0.25),\n",
        "        keras.layers.Dense(4),\n",
        "        keras.layers.Dense(1)\n",
        "    ])\n",
        "\n",
        "    lstm_model1.compile(loss=\"mse\", optimizer=\"adam\", metrics=\"mse\")\n",
        "\n",
        "    lstm_model1.fit(train_X1[train_index], train_y[train_index], epochs=epoch, \n",
        "                    validation_data =(train_X1[test_index], train_y[test_index]), callbacks=callbacks, verbose=0)\n",
        "\n",
        "    _, mse = lstm_model1.evaluate(train_X1[test_index], train_y[test_index], verbose=0)\n",
        "\n",
        "    rmse_history.append(mse**0.5)\n",
        "\n",
        "    print(n,\"번째 fold 학습완료\")\n",
        "    n+=1 \n",
        "\n",
        "print(rmse_history)\n",
        "print(np.mean(rmse_history))"
      ],
      "metadata": {
        "id": "AW_nVZocSpRd",
        "colab": {
          "base_uri": "https://localhost:8080/"
        },
        "outputId": "78cad363-123b-4e75-fd98-bbddbdcdd71c"
      },
      "execution_count": null,
      "outputs": [
        {
          "output_type": "stream",
          "name": "stdout",
          "text": [
            "학습시작\n",
            "1 번째 fold 학습완료\n",
            "2 번째 fold 학습완료\n",
            "3 번째 fold 학습완료\n",
            "4 번째 fold 학습완료\n",
            "[22.016194711844363, 19.486475240154547, 20.70460711086386, 18.7721597567673]\n",
            "20.24485920490752\n"
          ]
        }
      ]
    },
    {
      "cell_type": "markdown",
      "source": [
        "#### lstm_model_final"
      ],
      "metadata": {
        "id": "4pbXWG9M0-Yx"
      }
    },
    {
      "cell_type": "code",
      "source": [
        "import math \n",
        "\n",
        "K = keras.backend\n",
        "\n",
        "# 지수적으로 증가하는 학습률을 사용해서 손실이 급등하는 학습률을 찾기위한 코드이다.\n",
        "class ExponentialLearningRate(keras.callbacks.Callback):\n",
        "    def __init__(self, factor):\n",
        "        self.factor = factor\n",
        "        self.rates = []\n",
        "        self.losses = []\n",
        "        \n",
        "        # 배치학습이 시작될 때, 실행되는 코드\n",
        "    def on_batch_end(self, batch, logs):\n",
        "        self.rates.append(K.get_value(self.model.optimizer.lr))\n",
        "        self.losses.append(logs[\"loss\"])\n",
        "        K.set_value(self.model.optimizer.lr, self.model.optimizer.lr * self.factor)\n",
        "\n",
        "# 모델의 학습률을 증가시키면서 손실과 학습률을 각각 받아서 리턴함\n",
        "def find_learning_rate(model, X, y, epochs=1, batch_size=32, min_rate=10**-5, max_rate=10):\n",
        "    init_weights = model.get_weights()\n",
        "    iterations = math.ceil(len(X) / batch_size) * epochs\n",
        "    factor = np.exp(np.log(max_rate / min_rate) / iterations)\n",
        "    init_lr = K.get_value(model.optimizer.lr)\n",
        "    K.set_value(model.optimizer.lr, min_rate)\n",
        "    exp_lr = ExponentialLearningRate(factor)\n",
        "    history = model.fit(X, y, epochs=epochs, batch_size=batch_size,\n",
        "                        callbacks=[exp_lr])\n",
        "    K.set_value(model.optimizer.lr, init_lr)\n",
        "    model.set_weights(init_weights)\n",
        "    return exp_lr.rates, exp_lr.losses\n",
        "\n",
        "# 학습률과 손실의 관계를 나타내는 그래프를 설정함\n",
        "def plot_lr_vs_loss(rates, losses):\n",
        "    plt.plot(rates, losses)\n",
        "    plt.gca().set_xscale('log')\n",
        "    plt.hlines(min(losses), min(rates), max(rates))\n",
        "    plt.axis([min(rates), max(rates), min(losses), (losses[0] + min(losses)) / 2])\n",
        "    plt.xlabel(\"Learning rate\")\n",
        "    plt.ylabel(\"Loss\")\n",
        "    \n",
        "class OneCycleScheduler(keras.callbacks.Callback):\n",
        "    def __init__(self, iterations, max_rate, start_rate=None,\n",
        "                 last_iterations=None, last_rate=None):\n",
        "        self.iterations = iterations\n",
        "        self.max_rate = max_rate\n",
        "        self.start_rate = start_rate or max_rate / 10\n",
        "        self.last_iterations = last_iterations or iterations // 10 + 1\n",
        "        self.half_iteration = (iterations - self.last_iterations) // 2\n",
        "        self.last_rate = last_rate or self.start_rate / 1000\n",
        "        self.iteration = 0\n",
        "    def _interpolate(self, iter1, iter2, rate1, rate2):\n",
        "        return ((rate2 - rate1) * (self.iteration - iter1)\n",
        "                / (iter2 - iter1) + rate1)\n",
        "    def on_batch_begin(self, batch, logs):\n",
        "        if self.iteration < self.half_iteration:\n",
        "            rate = self._interpolate(0, self.half_iteration, self.start_rate, self.max_rate)\n",
        "        elif self.iteration < 2 * self.half_iteration:\n",
        "            rate = self._interpolate(self.half_iteration, 2 * self.half_iteration,\n",
        "                                     self.max_rate, self.start_rate)\n",
        "        else:\n",
        "            rate = self._interpolate(2 * self.half_iteration, self.iterations,\n",
        "                                     self.start_rate, self.last_rate)\n",
        "        self.iteration += 1\n",
        "        K.set_value(self.model.optimizer.lr, rate)"
      ],
      "metadata": {
        "id": "2iCEysSETmZo"
      },
      "execution_count": null,
      "outputs": []
    },
    {
      "cell_type": "code",
      "source": [
        "sequence = 5\n",
        "batch_size = 32\n",
        "epoch = 90\n",
        "verbose = 1\n",
        "dropout_ratio = 0.25\n",
        "             \n",
        "lstm_model_final = keras.models.Sequential([\n",
        "    keras.layers.LSTM(32, return_sequences=True, input_shape=[train_X1.shape[1],train_X1.shape[2]]),\n",
        "    keras.layers.LSTM(16, return_sequences=True),\n",
        "    keras.layers.Flatten(),\n",
        "    keras.layers.Dropout(0.5),\n",
        "    keras.layers.Dense(8),\n",
        "    keras.layers.Dropout(0.25),\n",
        "    keras.layers.Dense(4),\n",
        "    keras.layers.Dense(1)\n",
        "])\n",
        "\n",
        "lstm_model_final.compile(loss=\"mse\", optimizer=\"adam\", metrics=\"mse\")\n",
        "\n",
        "rates, losses = find_learning_rate(lstm_model_final, train_X1, train_y, epochs=1, batch_size=batch_size)\n",
        "plot_lr_vs_loss(rates, losses)\n",
        "plt.axis([min(rates), max(rates), min(losses), (losses[0] + min(losses)) / 1.4])"
      ],
      "metadata": {
        "colab": {
          "base_uri": "https://localhost:8080/",
          "height": 386
        },
        "id": "4UzcSDo31Bla",
        "outputId": "4eb79ccf-6403-4e3a-a814-759f0a1d3b43"
      },
      "execution_count": null,
      "outputs": [
        {
          "output_type": "stream",
          "name": "stdout",
          "text": [
            "21/21 [==============================] - 3s 7ms/step - loss: 19410.5273 - mse: 19410.5273\n"
          ]
        },
        {
          "output_type": "execute_result",
          "data": {
            "text/plain": [
              "(9.999999747378752e-06,\n",
              " 5.179472923278809,\n",
              " 2053.000732421875,\n",
              " 3380.4106794084823)"
            ]
          },
          "metadata": {},
          "execution_count": 54
        },
        {
          "output_type": "display_data",
          "data": {
            "text/plain": [
              "<Figure size 432x288 with 1 Axes>"
            ],
            "image/png": "[encoded data removed]"
          },
          "metadata": {
            "needs_background": "light"
          }
        }
      ]
    },
    {
      "cell_type": "code",
      "source": [
        "early_stop_callback = tf.keras.callbacks.EarlyStopping(\n",
        "    monitor=\"loss\",\n",
        "    patience=30)"
      ],
      "metadata": {
        "id": "xIsz1RVkWFEm"
      },
      "execution_count": null,
      "outputs": []
    },
    {
      "cell_type": "code",
      "source": [
        "sequence = 5\n",
        "batch_size = 32\n",
        "epoch = 100\n",
        "verbose = 1\n",
        "dropout_ratio = 0.25\n",
        "\n",
        "lstm_model_final = keras.models.Sequential([\n",
        "    keras.layers.LSTM(32, return_sequences=True, input_shape=[train_X1.shape[1],train_X1.shape[2]]),\n",
        "    keras.layers.LSTM(16, return_sequences=True),\n",
        "    keras.layers.Flatten(),\n",
        "    keras.layers.Dropout(0.5),\n",
        "    keras.layers.Dense(8),\n",
        "    keras.layers.Dropout(0.25),\n",
        "    keras.layers.Dense(4),\n",
        "    keras.layers.Dense(1)\n",
        "])\n",
        "\n",
        "os.chdir(\"/content/drive/MyDrive/상추의 생육 환경 생성 AI 경진대회/\")\n",
        "\n",
        "model_checkpoint_cb = keras.callbacks.ModelCheckpoint(\"final_model.h5\", monitor= \"loss\",save_best_only=True)\n",
        "onecycle = OneCycleScheduler(len(train_X1) // batch_size * epoch, max_rate=0.0005)\n",
        "lstm_model_final.compile(loss=\"mse\", optimizer=\"adam\", metrics=\"mse\")\n",
        "\n",
        "lstm_model_final.fit(train_X1, train_y, epochs=epoch,callbacks=[onecycle, early_stop_callback,model_checkpoint_cb])"
      ],
      "metadata": {
        "colab": {
          "base_uri": "https://localhost:8080/"
        },
        "id": "azrvbvqxU4h9",
        "outputId": "0e3f0e31-a321-4f17-8d64-65796958db6e"
      },
      "execution_count": null,
      "outputs": [
        {
          "output_type": "stream",
          "name": "stdout",
          "text": [
            "Epoch 1/100\n",
            "21/21 [==============================] - 3s 10ms/step - loss: 3087.9778 - mse: 3087.9778\n",
            "Epoch 2/100\n",
            "21/21 [==============================] - 0s 9ms/step - loss: 3085.0315 - mse: 3085.0315\n",
            "Epoch 3/100\n",
            "21/21 [==============================] - 0s 9ms/step - loss: 3083.9358 - mse: 3083.9358\n",
            "Epoch 4/100\n",
            "21/21 [==============================] - 0s 9ms/step - loss: 3079.1689 - mse: 3079.1689\n",
            "Epoch 5/100\n",
            "21/21 [==============================] - 0s 10ms/step - loss: 3073.0806 - mse: 3073.0806\n",
            "Epoch 6/100\n",
            "21/21 [==============================] - 0s 10ms/step - loss: 3068.1965 - mse: 3068.1965\n",
            "Epoch 7/100\n",
            "21/21 [==============================] - 0s 9ms/step - loss: 3061.2368 - mse: 3061.2368\n",
            "Epoch 8/100\n",
            "21/21 [==============================] - 0s 9ms/step - loss: 3049.1650 - mse: 3049.1650\n",
            "Epoch 9/100\n",
            "21/21 [==============================] - 0s 9ms/step - loss: 3037.7893 - mse: 3037.7893\n",
            "Epoch 10/100\n",
            "21/21 [==============================] - 0s 9ms/step - loss: 3017.1631 - mse: 3017.1631\n",
            "Epoch 11/100\n",
            "21/21 [==============================] - 0s 10ms/step - loss: 2986.1587 - mse: 2986.1587\n",
            "Epoch 12/100\n",
            "21/21 [==============================] - 0s 10ms/step - loss: 2947.3098 - mse: 2947.3098\n",
            "Epoch 13/100\n",
            "21/21 [==============================] - 0s 9ms/step - loss: 2879.2285 - mse: 2879.2285\n",
            "Epoch 14/100\n",
            "21/21 [==============================] - 0s 9ms/step - loss: 2760.5793 - mse: 2760.5793\n",
            "Epoch 15/100\n",
            "21/21 [==============================] - 0s 9ms/step - loss: 2625.6619 - mse: 2625.6619\n",
            "Epoch 16/100\n",
            "21/21 [==============================] - 0s 9ms/step - loss: 2396.5203 - mse: 2396.5203\n",
            "Epoch 17/100\n",
            "21/21 [==============================] - 0s 10ms/step - loss: 2081.4402 - mse: 2081.4402\n",
            "Epoch 18/100\n",
            "21/21 [==============================] - 0s 9ms/step - loss: 1847.2250 - mse: 1847.2250\n",
            "Epoch 19/100\n",
            "21/21 [==============================] - 0s 9ms/step - loss: 1522.8767 - mse: 1522.8767\n",
            "Epoch 20/100\n",
            "21/21 [==============================] - 0s 9ms/step - loss: 1297.4479 - mse: 1297.4479\n",
            "Epoch 21/100\n",
            "21/21 [==============================] - 0s 10ms/step - loss: 1132.1678 - mse: 1132.1678\n",
            "Epoch 22/100\n",
            "21/21 [==============================] - 0s 9ms/step - loss: 956.9114 - mse: 956.9114\n",
            "Epoch 23/100\n",
            "21/21 [==============================] - 0s 8ms/step - loss: 921.2148 - mse: 921.2148\n",
            "Epoch 24/100\n",
            "21/21 [==============================] - 0s 9ms/step - loss: 807.1555 - mse: 807.1555\n",
            "Epoch 25/100\n",
            "21/21 [==============================] - 0s 9ms/step - loss: 800.1707 - mse: 800.1707\n",
            "Epoch 26/100\n",
            "21/21 [==============================] - 0s 9ms/step - loss: 684.5468 - mse: 684.5468\n",
            "Epoch 27/100\n",
            "21/21 [==============================] - 0s 9ms/step - loss: 665.0237 - mse: 665.0237\n",
            "Epoch 28/100\n",
            "21/21 [==============================] - 0s 9ms/step - loss: 613.6003 - mse: 613.6003\n",
            "Epoch 29/100\n",
            "21/21 [==============================] - 0s 10ms/step - loss: 555.8177 - mse: 555.8177\n",
            "Epoch 30/100\n",
            "21/21 [==============================] - 0s 8ms/step - loss: 517.5247 - mse: 517.5247\n",
            "Epoch 31/100\n",
            "21/21 [==============================] - 0s 6ms/step - loss: 547.9418 - mse: 547.9418\n",
            "Epoch 32/100\n",
            "21/21 [==============================] - 0s 6ms/step - loss: 537.7563 - mse: 537.7563\n",
            "Epoch 33/100\n",
            "21/21 [==============================] - 0s 9ms/step - loss: 479.2637 - mse: 479.2637\n",
            "Epoch 34/100\n",
            "21/21 [==============================] - 0s 9ms/step - loss: 475.9725 - mse: 475.9725\n",
            "Epoch 35/100\n",
            "21/21 [==============================] - 0s 9ms/step - loss: 428.1920 - mse: 428.1920\n",
            "Epoch 36/100\n",
            "21/21 [==============================] - 0s 6ms/step - loss: 432.3846 - mse: 432.3846\n",
            "Epoch 37/100\n",
            "21/21 [==============================] - 0s 9ms/step - loss: 390.1308 - mse: 390.1308\n",
            "Epoch 38/100\n",
            "21/21 [==============================] - 0s 9ms/step - loss: 337.2905 - mse: 337.2905\n",
            "Epoch 39/100\n",
            "21/21 [==============================] - 0s 10ms/step - loss: 332.2952 - mse: 332.2952\n",
            "Epoch 40/100\n",
            "21/21 [==============================] - 0s 6ms/step - loss: 390.4504 - mse: 390.4504\n",
            "Epoch 41/100\n",
            "21/21 [==============================] - 0s 9ms/step - loss: 299.3226 - mse: 299.3226\n",
            "Epoch 42/100\n",
            "21/21 [==============================] - 0s 8ms/step - loss: 279.5606 - mse: 279.5606\n",
            "Epoch 43/100\n",
            "21/21 [==============================] - 0s 6ms/step - loss: 331.5320 - mse: 331.5320\n",
            "Epoch 44/100\n",
            "21/21 [==============================] - 0s 9ms/step - loss: 250.8906 - mse: 250.8906\n",
            "Epoch 45/100\n",
            "21/21 [==============================] - 0s 6ms/step - loss: 268.7920 - mse: 268.7920\n",
            "Epoch 46/100\n",
            "21/21 [==============================] - 0s 6ms/step - loss: 273.6999 - mse: 273.6999\n",
            "Epoch 47/100\n",
            "21/21 [==============================] - 0s 6ms/step - loss: 252.5882 - mse: 252.5882\n",
            "Epoch 48/100\n",
            "21/21 [==============================] - 0s 8ms/step - loss: 236.3081 - mse: 236.3081\n",
            "Epoch 49/100\n",
            "21/21 [==============================] - 0s 7ms/step - loss: 253.7153 - mse: 253.7153\n",
            "Epoch 50/100\n",
            "21/21 [==============================] - 0s 8ms/step - loss: 233.5391 - mse: 233.5391\n",
            "Epoch 51/100\n",
            "21/21 [==============================] - 0s 7ms/step - loss: 274.9788 - mse: 274.9788\n",
            "Epoch 52/100\n",
            "21/21 [==============================] - 0s 8ms/step - loss: 231.3701 - mse: 231.3701\n",
            "Epoch 53/100\n",
            "21/21 [==============================] - 0s 9ms/step - loss: 200.4171 - mse: 200.4171\n",
            "Epoch 54/100\n",
            "21/21 [==============================] - 0s 7ms/step - loss: 256.6318 - mse: 256.6318\n",
            "Epoch 55/100\n",
            "21/21 [==============================] - 0s 6ms/step - loss: 245.0936 - mse: 245.0936\n",
            "Epoch 56/100\n",
            "21/21 [==============================] - 0s 6ms/step - loss: 208.9431 - mse: 208.9431\n",
            "Epoch 57/100\n",
            "21/21 [==============================] - 0s 7ms/step - loss: 242.3648 - mse: 242.3648\n",
            "Epoch 58/100\n",
            "21/21 [==============================] - 0s 6ms/step - loss: 226.9351 - mse: 226.9351\n",
            "Epoch 59/100\n",
            "21/21 [==============================] - 0s 6ms/step - loss: 244.0489 - mse: 244.0489\n",
            "Epoch 60/100\n",
            "21/21 [==============================] - 0s 7ms/step - loss: 244.6710 - mse: 244.6710\n",
            "Epoch 61/100\n",
            "21/21 [==============================] - 0s 6ms/step - loss: 241.0742 - mse: 241.0742\n",
            "Epoch 62/100\n",
            "21/21 [==============================] - 0s 6ms/step - loss: 201.2093 - mse: 201.2093\n",
            "Epoch 63/100\n",
            "21/21 [==============================] - 0s 6ms/step - loss: 259.3748 - mse: 259.3748\n",
            "Epoch 64/100\n",
            "21/21 [==============================] - 0s 7ms/step - loss: 234.1496 - mse: 234.1496\n",
            "Epoch 65/100\n",
            "21/21 [==============================] - 0s 6ms/step - loss: 255.6488 - mse: 255.6488\n",
            "Epoch 66/100\n",
            "21/21 [==============================] - 0s 6ms/step - loss: 221.8987 - mse: 221.8987\n",
            "Epoch 67/100\n",
            "21/21 [==============================] - 0s 6ms/step - loss: 201.3669 - mse: 201.3669\n",
            "Epoch 68/100\n",
            "21/21 [==============================] - 0s 8ms/step - loss: 199.1594 - mse: 199.1594\n",
            "Epoch 69/100\n",
            "21/21 [==============================] - 0s 6ms/step - loss: 217.5638 - mse: 217.5638\n",
            "Epoch 70/100\n",
            "21/21 [==============================] - 0s 7ms/step - loss: 236.6378 - mse: 236.6378\n",
            "Epoch 71/100\n",
            "21/21 [==============================] - 0s 6ms/step - loss: 210.6833 - mse: 210.6833\n",
            "Epoch 72/100\n",
            "21/21 [==============================] - 0s 9ms/step - loss: 196.3438 - mse: 196.3438\n",
            "Epoch 73/100\n",
            "21/21 [==============================] - 0s 6ms/step - loss: 220.5689 - mse: 220.5689\n",
            "Epoch 74/100\n",
            "21/21 [==============================] - 0s 6ms/step - loss: 247.2152 - mse: 247.2152\n",
            "Epoch 75/100\n",
            "21/21 [==============================] - 0s 6ms/step - loss: 217.8643 - mse: 217.8643\n",
            "Epoch 76/100\n",
            "21/21 [==============================] - 0s 6ms/step - loss: 226.1322 - mse: 226.1322\n",
            "Epoch 77/100\n",
            "21/21 [==============================] - 0s 7ms/step - loss: 201.1276 - mse: 201.1276\n",
            "Epoch 78/100\n",
            "21/21 [==============================] - 0s 7ms/step - loss: 210.9096 - mse: 210.9096\n",
            "Epoch 79/100\n",
            "21/21 [==============================] - 0s 6ms/step - loss: 199.0957 - mse: 199.0957\n",
            "Epoch 80/100\n",
            "21/21 [==============================] - 0s 8ms/step - loss: 191.2233 - mse: 191.2233\n",
            "Epoch 81/100\n",
            "21/21 [==============================] - 0s 7ms/step - loss: 202.3189 - mse: 202.3189\n",
            "Epoch 82/100\n",
            "21/21 [==============================] - 0s 6ms/step - loss: 197.4053 - mse: 197.4053\n",
            "Epoch 83/100\n",
            "21/21 [==============================] - 0s 10ms/step - loss: 186.7133 - mse: 186.7133\n",
            "Epoch 84/100\n",
            "21/21 [==============================] - 0s 7ms/step - loss: 188.7459 - mse: 188.7459\n",
            "Epoch 85/100\n",
            "21/21 [==============================] - 0s 6ms/step - loss: 239.8123 - mse: 239.8123\n",
            "Epoch 86/100\n",
            "21/21 [==============================] - 0s 6ms/step - loss: 239.4035 - mse: 239.4035\n",
            "Epoch 87/100\n",
            "21/21 [==============================] - 0s 7ms/step - loss: 229.2441 - mse: 229.2441\n",
            "Epoch 88/100\n",
            "21/21 [==============================] - 0s 7ms/step - loss: 224.4624 - mse: 224.4624\n",
            "Epoch 89/100\n",
            "21/21 [==============================] - 0s 6ms/step - loss: 246.2508 - mse: 246.2508\n",
            "Epoch 90/100\n",
            "21/21 [==============================] - 0s 9ms/step - loss: 181.7316 - mse: 181.7316\n",
            "Epoch 91/100\n",
            "21/21 [==============================] - 0s 7ms/step - loss: 201.5089 - mse: 201.5089\n",
            "Epoch 92/100\n",
            "21/21 [==============================] - 0s 6ms/step - loss: 194.4370 - mse: 194.4370\n",
            "Epoch 93/100\n",
            "21/21 [==============================] - 0s 7ms/step - loss: 228.9259 - mse: 228.9259\n",
            "Epoch 94/100\n",
            "21/21 [==============================] - 0s 6ms/step - loss: 225.8387 - mse: 225.8387\n",
            "Epoch 95/100\n",
            "21/21 [==============================] - 0s 7ms/step - loss: 235.0409 - mse: 235.0409\n",
            "Epoch 96/100\n",
            "21/21 [==============================] - 0s 6ms/step - loss: 236.1269 - mse: 236.1269\n",
            "Epoch 97/100\n",
            "21/21 [==============================] - 0s 6ms/step - loss: 210.5021 - mse: 210.5021\n",
            "Epoch 98/100\n",
            "21/21 [==============================] - 0s 6ms/step - loss: 231.9000 - mse: 231.9000\n",
            "Epoch 99/100\n",
            "21/21 [==============================] - 0s 6ms/step - loss: 195.6986 - mse: 195.6986\n",
            "Epoch 100/100\n",
            "21/21 [==============================] - 0s 6ms/step - loss: 240.2029 - mse: 240.2029\n"
          ]
        },
        {
          "output_type": "execute_result",
          "data": {
            "text/plain": [
              "<keras.callbacks.History at 0x7fd7b9d58880>"
            ]
          },
          "metadata": {},
          "execution_count": 56
        }
      ]
    },
    {
      "cell_type": "markdown",
      "source": [
        "### LGBM regressor 사용 모델\n",
        "\n",
        "[내가 공부한 LGBM 깃허브 링크](https://github.com/donghui-0126/machine-learning/blob/main/%ED%8C%8C%EC%9D%B4%EC%8D%AC%20%EB%A8%B8%EC%8B%A0%EB%9F%AC%EB%8B%9D%20%EC%99%84%EB%B2%BD%20%EA%B0%80%EC%9D%B4%EB%93%9C/2.%20%EB%B6%84%EB%A5%98%20%5B%EA%B2%B0%EC%A0%95%ED%8A%B8%EB%A6%AC%2C%20GBM%2C%20XGBoost%2C%20Light%20GBM%2C%20%EB%B2%A0%EC%9D%B4%EC%A7%80%EC%95%88%20%EC%B5%9C%EC%A0%81%ED%99%94%2C%20%EC%8B%A4%EC%8A%B5%2C%20%EC%8A%A4%ED%83%9C%ED%82%B9%5D.ipynb)"
      ],
      "metadata": {
        "id": "C2jD5uYqSIEU"
      }
    },
    {
      "cell_type": "markdown",
      "source": [
        "#### 교차 검증을 위한 인덱싱 작업"
      ],
      "metadata": {
        "id": "8NNQ-0sN5bcD"
      }
    },
    {
      "cell_type": "code",
      "source": [
        "index_1 = [x for x in range(28*7)]\n",
        "index_2 = [x for x in range(28*7, 28*14)]\n",
        "index_3 = [x for x in range(28*14, 28*21)]\n",
        "index_4 = [x for x in range(28*21, 28*28)]\n",
        "\n",
        "split_784 = [index_1, index_2, index_3, index_4]\n",
        "\n",
        "\n",
        "\n",
        "index_11 = rate_index[:189*1]\n",
        "index_22 = rate_index[189*1:189*2]\n",
        "index_33 = rate_index[189*2:189*3]\n",
        "index_44 = rate_index[189*3:189*4]\n",
        "\n",
        "\n",
        "split_756 = [index_11, index_22, index_33, index_44]"
      ],
      "metadata": {
        "id": "wPTmeUNh5fMu"
      },
      "execution_count": null,
      "outputs": []
    },
    {
      "cell_type": "markdown",
      "source": [
        "#### lgbm_reg1 (stacked -> weight)"
      ],
      "metadata": {
        "id": "_t_WRn7JokJY"
      }
    },
    {
      "cell_type": "code",
      "source": [
        "from lightgbm import LGBMRegressor\n",
        "from sklearn.metrics import mean_squared_error\n",
        "from sklearn.model_selection import KFold\n",
        "\n",
        "rmse_history = []\n",
        "\n",
        "kf = KFold(n_splits = 4)\n",
        "for train_index, test_index in kf.split(range(784)):\n",
        "\n",
        "\n",
        "    lgbm_reg1 = LGBMRegressor(n_estimators=300, learning_rate=0.1, loss=\"rmse\",colsample_bytree=0.5)\n",
        "    lgbm_reg1.fit(train_stacked_total_X_sd_W.iloc[train_index], train_y_W.iloc[train_index], verbose=False) \n",
        "\n",
        "    y_pred = lgbm_reg1.predict(train_stacked_total_X_sd_W.iloc[test_index]) # 예측 라벨\n",
        "    rmse_history.append(mean_squared_error(y_pred, train_y_W.iloc[test_index])**0.5) # 정확도 측정 및 기록\n",
        "\n",
        "print(\"각 분할의 rmse 기록 :\", rmse_history)\n",
        "print(\"평균 rmse :\", np.mean(rmse_history))"
      ],
      "metadata": {
        "id": "TluvpXyXSP8r",
        "colab": {
          "base_uri": "https://localhost:8080/"
        },
        "outputId": "285e3bd9-9448-4cb9-a365-07e64b96de99"
      },
      "execution_count": null,
      "outputs": [
        {
          "output_type": "stream",
          "name": "stdout",
          "text": [
            "각 분할의 rmse 기록 : [19.067683266628755, 17.850069247461985, 33.645259372163125, 17.13992696985662]\n",
            "평균 rmse : 21.92573471402762\n"
          ]
        }
      ]
    },
    {
      "cell_type": "markdown",
      "source": [
        "#### lgbm_reg2 (stacked -> growth rate)"
      ],
      "metadata": {
        "id": "bSPHEqKFqORD"
      }
    },
    {
      "cell_type": "code",
      "source": [
        "rmse_history = []\n",
        "growth_index =[]\n",
        "\n",
        "kf = KFold(n_splits = 4)\n",
        "\n",
        "for train_index, test_index in kf.split(range(756)):\n",
        "    \n",
        "\n",
        "    lgbm_reg2 = LGBMRegressor(n_estimators=300, learning_rate=0.1, loss=\"rmse\",colsample_bytree=0.5)\n",
        "    lgbm_reg2.fit(train_stacked_total_X_sd_R.iloc[train_index], train_y_R.iloc[train_index], verbose=False) \n",
        "\n",
        "    y_pred = lgbm_reg2.predict(train_stacked_total_X_sd_R.iloc[test_index]) # 예측 라벨\n",
        "    growth_index.append(y_pred)"
      ],
      "metadata": {
        "id": "xN4yPfoHfjwO"
      },
      "execution_count": null,
      "outputs": []
    },
    {
      "cell_type": "code",
      "source": [
        "grto5 = []\n",
        "\n",
        "for i in range(4):\n",
        "    for j in range(7):\n",
        "        grto5.extend(growth_index[i][j*27:j*27+4])\n",
        "\n",
        "real_w = []\n",
        "pred_w = []\n",
        "\n",
        "for x in range(1,29):\n",
        "    CASE = str(x).zfill(2)\n",
        "    real_w.extend(list(train_y_case[CASE].iloc[[0,1,2,3,4], 1]))\n",
        "\n",
        "    pred_w.append(real_w[(x-1)*5])\n",
        "\n",
        "    pred_w.append(pred_w[(x-1)*5] * grto5[(x-1)*4]/100 + pred_w[(x-1)*5])\n",
        "    pred_w.append(pred_w[(x-1)*5+1] * grto5[(x-1)*4+1]/100 + pred_w[(x-1)*5+1])\n",
        "    pred_w.append(pred_w[(x-1)*5+2] * grto5[(x-1)*4+2]/100 + pred_w[(x-1)*5+2])\n",
        "    pred_w.append(pred_w[(x-1)*5+3] * grto5[(x-1)*4+2]/100 + pred_w[(x-1)*5+3])\n",
        "\n",
        "mean_squared_error(pred_w, real_w)**0.5"
      ],
      "metadata": {
        "colab": {
          "base_uri": "https://localhost:8080/"
        },
        "id": "KkMtWvY0NCUm",
        "outputId": "ee0ddc77-cee7-4711-cc22-c53af43b0bdf"
      },
      "execution_count": null,
      "outputs": [
        {
          "output_type": "execute_result",
          "data": {
            "text/plain": [
              "5.125631308590411"
            ]
          },
          "metadata": {},
          "execution_count": 60
        }
      ]
    },
    {
      "cell_type": "markdown",
      "source": [
        "#### lgbm_reg3 (daily -> weight)"
      ],
      "metadata": {
        "id": "4ECBQNbPonc_"
      }
    },
    {
      "cell_type": "code",
      "source": [
        "rmse_history = []\n",
        "\n",
        "kf = KFold(n_splits = 4)\n",
        "for train_index, test_index in kf.split(range(784)):\n",
        "\n",
        "\n",
        "    lgbm_reg3 = LGBMRegressor(n_estimators=300, learning_rate=0.1, loss=\"rmse\",colsample_bytree=0.5)\n",
        "    lgbm_reg3.fit(train_daily_total_X_sd_W.iloc[train_index], train_y_W.iloc[train_index], verbose=False) \n",
        "\n",
        "    y_pred = lgbm_reg3.predict(train_daily_total_X_sd_W.iloc[test_index]) # 예측 라벨\n",
        "    rmse_history.append(mean_squared_error(y_pred, train_y_W.iloc[test_index])**0.5) # 정확도 측정 및 기록\n",
        "\n",
        "print(\"각 분할의 rmse 기록 :\", rmse_history)\n",
        "print(\"평균 rmse :\", np.mean(rmse_history))"
      ],
      "metadata": {
        "id": "zTRtRBxnSP5R",
        "colab": {
          "base_uri": "https://localhost:8080/"
        },
        "outputId": "a88b1dbb-7886-49a8-dd8f-fbdb21807846"
      },
      "execution_count": null,
      "outputs": [
        {
          "output_type": "stream",
          "name": "stdout",
          "text": [
            "각 분할의 rmse 기록 : [24.09317202099786, 28.083298564939955, 25.019971250938468, 14.86881462546871]\n",
            "평균 rmse : 23.01631411558625\n"
          ]
        }
      ]
    },
    {
      "cell_type": "markdown",
      "source": [
        "#### lgbm_reg4 (daily-> growth rate)"
      ],
      "metadata": {
        "id": "bk5SmLA5qZu6"
      }
    },
    {
      "cell_type": "code",
      "source": [
        "rmse_history = []\n",
        "growth_index =[]\n",
        "\n",
        "kf = KFold(n_splits = 4)\n",
        "\n",
        "ii = 0\n",
        "for train_index, test_index in kf.split(range(756)):\n",
        "    \n",
        "\n",
        "    lgbm_reg4 = LGBMRegressor(n_estimators=300, learning_rate=0.1, loss=\"rmse\",colsample_bytree=0.5)\n",
        "    lgbm_reg4.fit(train_daily_total_X_sd_R.iloc[train_index], train_y_R.iloc[train_index], verbose=False) \n",
        "\n",
        "    y_pred = lgbm_reg4.predict(train_daily_total_X_sd_R.iloc[test_index]) # 예측 라벨\n",
        "    growth_index.append(y_pred)"
      ],
      "metadata": {
        "id": "nQtutkgfMUWg"
      },
      "execution_count": null,
      "outputs": []
    },
    {
      "cell_type": "code",
      "source": [
        "grto5 = []\n",
        "\n",
        "for i in range(4):\n",
        "    for j in range(7):\n",
        "        grto5.extend(growth_index[i][j*27:j*27+4])\n",
        "\n",
        "real_w = []\n",
        "pred_w = []\n",
        "\n",
        "for x in range(1,29):\n",
        "    CASE = str(x).zfill(2)\n",
        "    real_w.extend(list(train_y_case[CASE].iloc[[0,1,2,3,4], 1]))\n",
        "\n",
        "    pred_w.append(real_w[(x-1)*5])\n",
        "\n",
        "    pred_w.append(pred_w[(x-1)*5] * grto5[(x-1)*4]/100 + pred_w[(x-1)*5])\n",
        "    pred_w.append(pred_w[(x-1)*5+1] * grto5[(x-1)*4+1]/100 + pred_w[(x-1)*5+1])\n",
        "    pred_w.append(pred_w[(x-1)*5+2] * grto5[(x-1)*4+2]/100 + pred_w[(x-1)*5+2])\n",
        "    pred_w.append(pred_w[(x-1)*5+3] * grto5[(x-1)*4+2]/100 + pred_w[(x-1)*5+3])\n",
        "\n",
        "mean_squared_error(pred_w, real_w)**0.5"
      ],
      "metadata": {
        "colab": {
          "base_uri": "https://localhost:8080/"
        },
        "id": "uPh5At-Oq_fV",
        "outputId": "4286275a-ab68-41a6-f75b-660370e7f4d4"
      },
      "execution_count": null,
      "outputs": [
        {
          "output_type": "execute_result",
          "data": {
            "text/plain": [
              "8.199468381127257"
            ]
          },
          "metadata": {},
          "execution_count": 63
        }
      ]
    },
    {
      "cell_type": "markdown",
      "source": [
        "#### lgbm_reg5 (stacked -> grow weight)\n",
        "첫날 데이터는 빼는게 일반화 성능에 좋을 듯 하다.\n",
        "즉, 성장률 학습에 사용되는 데이터를 사용하면 된다."
      ],
      "metadata": {
        "id": "tifQrC4wrdO-"
      }
    },
    {
      "cell_type": "code",
      "source": [
        "rmse_history = []\n",
        "\n",
        "kf = KFold(n_splits = 4)\n",
        "for train_index, test_index in kf.split(range(756)):\n",
        "\n",
        "\n",
        "    lgbm_reg5 = LGBMRegressor(n_estimators=300, learning_rate=0.1, loss=\"rmse\",colsample_bytree=0.5)\n",
        "    lgbm_reg5.fit(train_stacked_total_X_sd_R.iloc[train_index], train_y_G.iloc[train_index], verbose=False) \n",
        "\n",
        "    y_pred = lgbm_reg5.predict(train_stacked_total_X_sd_R.iloc[test_index]) # 예측 라벨\n",
        "    rmse_history.append(mean_squared_error(y_pred, train_y_G.iloc[test_index])**0.5) # 정확도 측정 및 기록\n",
        "\n",
        "print(\"각 분할의 rmse 기록 :\", rmse_history)\n",
        "print(\"평균 rmse :\", np.mean(rmse_history))"
      ],
      "metadata": {
        "colab": {
          "base_uri": "https://localhost:8080/"
        },
        "id": "2n684S77rtOs",
        "outputId": "0dbf263c-6ad1-43c5-cd5a-8a0e78167092"
      },
      "execution_count": null,
      "outputs": [
        {
          "output_type": "stream",
          "name": "stdout",
          "text": [
            "각 분할의 rmse 기록 : [2.644099793147542, 3.7709392559874195, 3.883503563075291, 2.7090871044498788]\n",
            "평균 rmse : 3.2519074291650325\n"
          ]
        }
      ]
    },
    {
      "cell_type": "markdown",
      "source": [
        "#### lgbm_reg6 (daily -> grow weight) \n",
        "\n",
        "첫날 데이터는 빼는게 일반화 성능에 좋을 듯 하다. <BR>\n",
        "즉, 성장률 학습에 사용되는 데이터를 사용하면 된다. "
      ],
      "metadata": {
        "id": "hWNOozD4rtLi"
      }
    },
    {
      "cell_type": "code",
      "source": [
        "rmse_history = []\n",
        "\n",
        "kf = KFold(n_splits = 4)\n",
        "for train_index, test_index in kf.split(range(756)):\n",
        "\n",
        "\n",
        "    lgbm_reg5 = LGBMRegressor(n_estimators=300, learning_rate=0.1, loss=\"rmse\",colsample_bytree=0.5)\n",
        "    lgbm_reg5.fit(train_daily_total_X_sd_R.iloc[train_index], train_y_G.iloc[train_index], verbose=False) \n",
        "\n",
        "    y_pred = lgbm_reg5.predict(train_daily_total_X_sd_R.iloc[test_index]) # 예측 라벨\n",
        "    rmse_history.append(mean_squared_error(y_pred, train_y_G.iloc[test_index])**0.5) # 정확도 측정 및 기록\n",
        "\n",
        "print(\"각 분할의 rmse 기록 :\", rmse_history)\n",
        "print(\"평균 rmse :\", np.mean(rmse_history))"
      ],
      "metadata": {
        "colab": {
          "base_uri": "https://localhost:8080/"
        },
        "id": "yAC8IbtBrtCL",
        "outputId": "933711cd-2488-4915-aa24-a474d7bf2481"
      },
      "execution_count": null,
      "outputs": [
        {
          "output_type": "stream",
          "name": "stdout",
          "text": [
            "각 분할의 rmse 기록 : [3.2560554321986452, 3.997788322331404, 3.7584642461470414, 2.3769955770090125]\n",
            "평균 rmse : 3.347325894421526\n"
          ]
        }
      ]
    },
    {
      "cell_type": "markdown",
      "source": [
        "### 모델별 최적 예측 구간 찾기"
      ],
      "metadata": {
        "id": "3CyfXChfqs2y"
      }
    },
    {
      "cell_type": "code",
      "source": [
        "# 예측 구간 리스트 [start, end]\n",
        "day_list = [[1,2], [2, 6], [6, 11], [11, 16], [16, 21], [21, 25], [25, 29]]\n",
        "\n",
        "# 위의 예측 구간에 해당하는 데이터 프레임의 인덱스\n",
        "day_list_index = []\n",
        "\n",
        "for start, end in day_list:\n",
        "    li =[]\n",
        "    for i in range(28):\n",
        "        for j in range(start-1, end-1):\n",
        "            li.append(28*i + j)\n",
        "    day_list_index.append(li)\n",
        "day_list_index[0][0:7]"
      ],
      "metadata": {
        "colab": {
          "base_uri": "https://localhost:8080/"
        },
        "id": "_X2HB_n8q0Sf",
        "outputId": "beeaa2b1-c57b-4bd8-aabf-0cd35d5e8319"
      },
      "execution_count": null,
      "outputs": [
        {
          "output_type": "execute_result",
          "data": {
            "text/plain": [
              "[0, 28, 56, 84, 112, 140, 168]"
            ]
          },
          "metadata": {},
          "execution_count": 66
        }
      ]
    },
    {
      "cell_type": "code",
      "source": [
        "rmse_list = []"
      ],
      "metadata": {
        "id": "Z1ZxAgDh2QqD"
      },
      "execution_count": null,
      "outputs": []
    },
    {
      "cell_type": "code",
      "source": [
        "rmse_list1 = []\n",
        "\n",
        "for iii, day_index in enumerate(day_list_index):\n",
        "    kf_len = int(len(day_index)/4)\n",
        "\n",
        "    rmse_history = []\n",
        "\n",
        "    kf = KFold(n_splits = 4)\n",
        "\n",
        "    i = 0\n",
        "\n",
        "    for train_index, test_index in kf.split(range(784)):\n",
        "\n",
        "\n",
        "        lgbm_reg1 = LGBMRegressor(n_estimators=300, learning_rate=0.1, loss=\"rmse\",colsample_bytree=0.5)\n",
        "        lgbm_reg1.fit(train_stacked_total_X_sd_W.iloc[train_index], train_y_W.iloc[train_index], verbose=False) \n",
        "        y_pred = lgbm_reg1.predict(train_stacked_total_X_sd_W.iloc[day_index[kf_len*i:kf_len*(i+1)]]) # 예측 라벨\n",
        "        rmse_history.append(mean_squared_error(y_pred, train_y_W.iloc[day_index[kf_len*i:kf_len*(i+1)]])**0.5) # 정확도 측정 및 기록\n",
        "\n",
        "        i += 1\n",
        "\n",
        "    print(\"stacked_data -> weight 모델 예측구간: {}일~{}일\".format(day_list[iii][0], day_list[iii][1]-1))\n",
        "    # print(\"각 분할의 rmse 기록 :\", rmse_history)\n",
        "    print(\"평균 rmse :\", np.mean(rmse_history))\n",
        "    rmse_list1.append(np.mean(rmse_history))\n",
        "    print(\"\\n\")"
      ],
      "metadata": {
        "colab": {
          "base_uri": "https://localhost:8080/"
        },
        "id": "RWGvF7y2q0QK",
        "outputId": "23dfeae8-1ae3-4045-cbac-050ba11067b4"
      },
      "execution_count": null,
      "outputs": [
        {
          "output_type": "stream",
          "name": "stdout",
          "text": [
            "stacked_data -> weight 모델 예측구간: 1일~1일\n",
            "평균 rmse : 2.2961200319132353\n",
            "\n",
            "\n",
            "stacked_data -> weight 모델 예측구간: 2일~5일\n",
            "평균 rmse : 3.2444248507564475\n",
            "\n",
            "\n",
            "stacked_data -> weight 모델 예측구간: 6일~10일\n",
            "평균 rmse : 6.712857854161869\n",
            "\n",
            "\n",
            "stacked_data -> weight 모델 예측구간: 11일~15일\n",
            "평균 rmse : 15.835569728959939\n",
            "\n",
            "\n",
            "stacked_data -> weight 모델 예측구간: 16일~20일\n",
            "평균 rmse : 25.563034410743164\n",
            "\n",
            "\n",
            "stacked_data -> weight 모델 예측구간: 21일~24일\n",
            "평균 rmse : 29.746054700834783\n",
            "\n",
            "\n",
            "stacked_data -> weight 모델 예측구간: 25일~28일\n",
            "평균 rmse : 34.467620221970286\n",
            "\n",
            "\n"
          ]
        }
      ]
    },
    {
      "cell_type": "code",
      "source": [
        "rmse_list2= []\n",
        "\n",
        "for iii, day_index in enumerate(day_list_index):\n",
        "    kf_len = int(len(day_index)/4)\n",
        "\n",
        "    rmse_history = []\n",
        "\n",
        "    kf = KFold(n_splits = 4)\n",
        "\n",
        "    i = 0\n",
        "\n",
        "    for train_index, test_index in kf.split(range(784)):\n",
        "\n",
        "\n",
        "        lgbm_reg3 = LGBMRegressor(n_estimators=300, learning_rate=0.1, loss=\"rmse\",colsample_bytree=0.5)\n",
        "        lgbm_reg3.fit(train_daily_total_X_sd_W.iloc[train_index], train_y_W.iloc[train_index], verbose=False) \n",
        "        y_pred = lgbm_reg3.predict(train_daily_total_X_sd_W.iloc[day_index[kf_len*i:kf_len*(i+1)]]) # 예측 라벨\n",
        "        rmse_history.append(mean_squared_error(y_pred, train_y_W.iloc[day_index[kf_len*i:kf_len*(i+1)]])**0.5) # 정확도 측정 및 기록\n",
        "\n",
        "        i += 1\n",
        "\n",
        "    print(\"stacked_data -> weight 모델 예측구간: {}일~{}일\".format(day_list[iii][0], day_list[iii][1]-1))\n",
        "    # print(\"각 분할의 rmse 기록 :\", rmse_history)\n",
        "    print(\"평균 rmse :\", np.mean(rmse_history))\n",
        "    rmse_list2.append(np.mean(rmse_history))\n",
        "    print(\"\\n\")"
      ],
      "metadata": {
        "colab": {
          "base_uri": "https://localhost:8080/"
        },
        "id": "YzgPkdPcq0NL",
        "outputId": "85d89c1b-38af-4129-b250-66a54f525d4a"
      },
      "execution_count": null,
      "outputs": [
        {
          "output_type": "stream",
          "name": "stdout",
          "text": [
            "stacked_data -> weight 모델 예측구간: 1일~1일\n",
            "평균 rmse : 7.860458829616386\n",
            "\n",
            "\n",
            "stacked_data -> weight 모델 예측구간: 2일~5일\n",
            "평균 rmse : 8.560680895418876\n",
            "\n",
            "\n",
            "stacked_data -> weight 모델 예측구간: 6일~10일\n",
            "평균 rmse : 8.872985614687984\n",
            "\n",
            "\n",
            "stacked_data -> weight 모델 예측구간: 11일~15일\n",
            "평균 rmse : 11.565357602072842\n",
            "\n",
            "\n",
            "stacked_data -> weight 모델 예측구간: 16일~20일\n",
            "평균 rmse : 25.406179898930326\n",
            "\n",
            "\n",
            "stacked_data -> weight 모델 예측구간: 21일~24일\n",
            "평균 rmse : 35.51579050736723\n",
            "\n",
            "\n",
            "stacked_data -> weight 모델 예측구간: 25일~28일\n",
            "평균 rmse : 35.032043499191474\n",
            "\n",
            "\n"
          ]
        }
      ]
    },
    {
      "cell_type": "code",
      "source": [
        "rmse_list3 = [None]\n",
        "\n",
        "for iii, day_index in enumerate(day_list_index):\n",
        "    if iii != 0:\n",
        "        kf_len = int(len(day_index)/4)\n",
        "\n",
        "        rmse_history = []\n",
        "\n",
        "        kf = KFold(n_splits = 4)\n",
        "\n",
        "        i = 0\n",
        "\n",
        "        for train_index, test_index in kf.split(range(784)):\n",
        "\n",
        "\n",
        "            lgbm_reg2 = LGBMRegressor(n_estimators=300, learning_rate=0.1, loss=\"rmse\",colsample_bytree=0.5)\n",
        "            lgbm_reg2.fit(train_stacked_total_X_sd_W.iloc[train_index], train_y_all.iloc[train_index,2], verbose=False) \n",
        "            y_pred = lgbm_reg2.predict(train_stacked_total_X_sd_W.iloc[day_index[kf_len*i:kf_len*(i+1)]]) # 예측 라벨\n",
        "            rmse_history.append(mean_squared_error(y_pred, train_y_all.iloc[day_index[kf_len*i:kf_len*(i+1)],2])**0.5) # 정확도 측정 및 기록\n",
        "\n",
        "            i += 1\n",
        "\n",
        "        print(\"stacked_data -> growth rate 모델 예측구간: {}일~{}일\".format(day_list[iii][0], day_list[iii][1]-1))\n",
        "        # print(\"각 분할의 rmse 기록 :\", rmse_history)\n",
        "        print(\"평균 rmse :\", np.mean(rmse_history))\n",
        "        rmse_list3.append(np.mean(rmse_history))\n",
        "\n",
        "        print(\"\\n\")"
      ],
      "metadata": {
        "colab": {
          "base_uri": "https://localhost:8080/"
        },
        "id": "GgbHI_bvq0KS",
        "outputId": "e28283fe-0e44-4764-aada-7916ec91345e"
      },
      "execution_count": null,
      "outputs": [
        {
          "output_type": "stream",
          "name": "stdout",
          "text": [
            "stacked_data -> growth rate 모델 예측구간: 2일~5일\n",
            "평균 rmse : 87.25314008773628\n",
            "\n",
            "\n",
            "stacked_data -> growth rate 모델 예측구간: 6일~10일\n",
            "평균 rmse : 34.27821432100564\n",
            "\n",
            "\n",
            "stacked_data -> growth rate 모델 예측구간: 11일~15일\n",
            "평균 rmse : 12.525722350164251\n",
            "\n",
            "\n",
            "stacked_data -> growth rate 모델 예측구간: 16일~20일\n",
            "평균 rmse : 12.287068170889004\n",
            "\n",
            "\n",
            "stacked_data -> growth rate 모델 예측구간: 21일~24일\n",
            "평균 rmse : 10.828683407005155\n",
            "\n",
            "\n",
            "stacked_data -> growth rate 모델 예측구간: 25일~28일\n",
            "평균 rmse : 9.479867275958062\n",
            "\n",
            "\n"
          ]
        }
      ]
    },
    {
      "cell_type": "code",
      "source": [
        "rmse_list4 = [None]\n",
        "\n",
        "\n",
        "for iii, day_index in enumerate(day_list_index):\n",
        "    if iii != 0:\n",
        "        kf_len = int(len(day_index)/4)\n",
        "\n",
        "        rmse_history = []\n",
        "\n",
        "        kf = KFold(n_splits = 4)\n",
        "\n",
        "        i = 0\n",
        "\n",
        "        for train_index, test_index in kf.split(range(784)):\n",
        "\n",
        "\n",
        "            lgbm_reg4 = LGBMRegressor(n_estimators=300, learning_rate=0.1, loss=\"rmse\",colsample_bytree=0.5)\n",
        "            lgbm_reg4.fit(train_daily_total_X_sd_W.iloc[train_index], train_y_all.iloc[train_index,2], verbose=False) \n",
        "            y_pred = lgbm_reg4.predict(train_daily_total_X_sd_W.iloc[day_index[kf_len*i:kf_len*(i+1)]]) # 예측 라벨\n",
        "            rmse_history.append(mean_squared_error(y_pred, train_y_all.iloc[day_index[kf_len*i:kf_len*(i+1)],2])**0.5) # 정확도 측정 및 기록\n",
        "\n",
        "            i += 1\n",
        "\n",
        "        print(\"daily_data -> growth rate 모델 예측구간: {}일~{}일\".format(day_list[iii][0], day_list[iii][1]-1))\n",
        "        # print(\"각 분할의 rmse 기록 :\", rmse_history)\n",
        "        print(\"평균 rmse :\", np.mean(rmse_history))\n",
        "        rmse_list4.append(np.mean(rmse_history))\n",
        "\n",
        "        print(\"\\n\")"
      ],
      "metadata": {
        "colab": {
          "base_uri": "https://localhost:8080/"
        },
        "id": "b2CKcuZ_0Njp",
        "outputId": "3770819c-093b-4a34-94a6-57a8294a0862"
      },
      "execution_count": null,
      "outputs": [
        {
          "output_type": "stream",
          "name": "stdout",
          "text": [
            "daily_data -> growth rate 모델 예측구간: 2일~5일\n",
            "평균 rmse : 84.3430127596094\n",
            "\n",
            "\n",
            "daily_data -> growth rate 모델 예측구간: 6일~10일\n",
            "평균 rmse : 40.532759304718155\n",
            "\n",
            "\n",
            "daily_data -> growth rate 모델 예측구간: 11일~15일\n",
            "평균 rmse : 25.589985912202387\n",
            "\n",
            "\n",
            "daily_data -> growth rate 모델 예측구간: 16일~20일\n",
            "평균 rmse : 23.430458974874412\n",
            "\n",
            "\n",
            "daily_data -> growth rate 모델 예측구간: 21일~24일\n",
            "평균 rmse : 21.4711095462414\n",
            "\n",
            "\n",
            "daily_data -> growth rate 모델 예측구간: 25일~28일\n",
            "평균 rmse : 20.095950436922763\n",
            "\n",
            "\n"
          ]
        }
      ]
    },
    {
      "cell_type": "code",
      "source": [
        "rmse_list5= []\n",
        "\n",
        "for iii, day_index in enumerate(day_list_index):\n",
        "    kf_len = int(len(day_index)/4)\n",
        "\n",
        "    rmse_history = []\n",
        "\n",
        "    kf = KFold(n_splits = 4)\n",
        "\n",
        "    i = 0\n",
        "\n",
        "    for train_index, test_index in kf.split(range(784)):\n",
        "\n",
        "\n",
        "        lgbm_reg5 = LGBMRegressor(n_estimators=300, learning_rate=0.1, loss=\"rmse\",colsample_bytree=0.5)\n",
        "        lgbm_reg5.fit(train_stacked_total_X_sd_W.iloc[train_index], train_y_all.iloc[train_index,3], verbose=False) \n",
        "        y_pred = lgbm_reg5.predict(train_stacked_total_X_sd_W.iloc[day_index[kf_len*i:kf_len*(i+1)]]) # 예측 라벨\n",
        "        rmse_history.append(mean_squared_error(y_pred, train_y_all.iloc[day_index[kf_len*i:kf_len*(i+1)],3])**0.5) # 정확도 측정 및 기록\n",
        "\n",
        "        i += 1\n",
        "\n",
        "    print(\"stacked_data -> growth weight 모델 예측구간: {}일~{}일\".format(day_list[iii][0], day_list[iii][1]-1))\n",
        "    # print(\"각 분할의 rmse 기록 :\", rmse_history)\n",
        "    print(\"평균 rmse :\", np.mean(rmse_history))\n",
        "    rmse_list5.append(np.mean(rmse_history))\n",
        "    print(\"\\n\")"
      ],
      "metadata": {
        "colab": {
          "base_uri": "https://localhost:8080/"
        },
        "id": "T3eRkRvk09vT",
        "outputId": "ad807354-8198-44bd-fdf9-4ed334231e69"
      },
      "execution_count": null,
      "outputs": [
        {
          "output_type": "stream",
          "name": "stdout",
          "text": [
            "stacked_data -> growth weight 모델 예측구간: 1일~1일\n",
            "평균 rmse : 2.2687335639611175\n",
            "\n",
            "\n",
            "stacked_data -> growth weight 모델 예측구간: 2일~5일\n",
            "평균 rmse : 0.873505392329125\n",
            "\n",
            "\n",
            "stacked_data -> growth weight 모델 예측구간: 6일~10일\n",
            "평균 rmse : 1.5055548125595757\n",
            "\n",
            "\n",
            "stacked_data -> growth weight 모델 예측구간: 11일~15일\n",
            "평균 rmse : 2.6687648546872857\n",
            "\n",
            "\n",
            "stacked_data -> growth weight 모델 예측구간: 16일~20일\n",
            "평균 rmse : 3.870097313018274\n",
            "\n",
            "\n",
            "stacked_data -> growth weight 모델 예측구간: 21일~24일\n",
            "평균 rmse : 4.139212551786929\n",
            "\n",
            "\n",
            "stacked_data -> growth weight 모델 예측구간: 25일~28일\n",
            "평균 rmse : 4.866978446184476\n",
            "\n",
            "\n"
          ]
        }
      ]
    },
    {
      "cell_type": "code",
      "source": [
        "rmse_list6 = []\n",
        "\n",
        "for iii, day_index in enumerate(day_list_index):\n",
        "    kf_len = int(len(day_index)/4)\n",
        "\n",
        "    rmse_history = []\n",
        "\n",
        "    kf = KFold(n_splits = 4)\n",
        "\n",
        "    i = 0\n",
        "\n",
        "    for train_index, test_index in kf.split(range(784)):\n",
        "\n",
        "\n",
        "        lgbm_reg6 = LGBMRegressor(n_estimators=300, learning_rate=0.1, loss=\"rmse\",colsample_bytree=0.5)\n",
        "        lgbm_reg6.fit(train_daily_total_X_sd_W.iloc[train_index], train_y_all.iloc[train_index,3], verbose=False) \n",
        "        y_pred = lgbm_reg6.predict(train_daily_total_X_sd_W.iloc[day_index[kf_len*i:kf_len*(i+1)]]) # 예측 라벨\n",
        "        rmse_history.append(mean_squared_error(y_pred, train_y_all.iloc[day_index[kf_len*i:kf_len*(i+1)],3])**0.5) # 정확도 측정 및 기록\n",
        "\n",
        "        i += 1\n",
        "\n",
        "    print(\"daily_data -> growth weight 모델 예측구간: {}일~{}일\".format(day_list[iii][0], day_list[iii][1]-1))\n",
        "    # print(\"각 분할의 rmse 기록 :\", rmse_history)\n",
        "    print(\"평균 rmse :\", np.mean(rmse_history))\n",
        "    rmse_list6.append(np.mean(rmse_history))\n",
        "\n",
        "    print(\"\\n\")"
      ],
      "metadata": {
        "colab": {
          "base_uri": "https://localhost:8080/"
        },
        "id": "nmdBAw0X09q6",
        "outputId": "7ed61642-0539-47ab-9a80-b53d6e1d08a8"
      },
      "execution_count": null,
      "outputs": [
        {
          "output_type": "stream",
          "name": "stdout",
          "text": [
            "daily_data -> growth weight 모델 예측구간: 1일~1일\n",
            "평균 rmse : 2.1458307309655367\n",
            "\n",
            "\n",
            "daily_data -> growth weight 모델 예측구간: 2일~5일\n",
            "평균 rmse : 1.3626966365973083\n",
            "\n",
            "\n",
            "daily_data -> growth weight 모델 예측구간: 6일~10일\n",
            "평균 rmse : 1.4431963058939028\n",
            "\n",
            "\n",
            "daily_data -> growth weight 모델 예측구간: 11일~15일\n",
            "평균 rmse : 2.4247967085962983\n",
            "\n",
            "\n",
            "daily_data -> growth weight 모델 예측구간: 16일~20일\n",
            "평균 rmse : 3.65404958631147\n",
            "\n",
            "\n",
            "daily_data -> growth weight 모델 예측구간: 21일~24일\n",
            "평균 rmse : 4.360808109224952\n",
            "\n",
            "\n",
            "daily_data -> growth weight 모델 예측구간: 25일~28일\n",
            "평균 rmse : 4.998913271699825\n",
            "\n",
            "\n"
          ]
        }
      ]
    },
    {
      "cell_type": "code",
      "source": [
        "rmse_list = [rmse_list1, rmse_list2, rmse_list3, rmse_list4, rmse_list5, rmse_list6]\n",
        "\n",
        "model_valid = pd.DataFrame(rmse_list, \n",
        "             index=[\"stacked_data -> weight\", \"daily_data -> weight\", \"stacked_data -> growth rate\", \n",
        "                    \"daily_data -> growth rate\", \"stacked_data -> growth weight\", \"daily_data -> growth weight\"] , \n",
        "             columns=[\"Day 1\", \"Day 2~5\", \"Day 6~10\", \"Day 11~15\", \"Day 16~20\",\"Day 21~25\", \"Day 25~28\"])\n",
        "\n",
        "model_valid"
      ],
      "metadata": {
        "colab": {
          "base_uri": "https://localhost:8080/",
          "height": 237
        },
        "id": "f-kblPo233-C",
        "outputId": "cbe187fa-7df9-47fe-ba10-8910970723fc"
      },
      "execution_count": null,
      "outputs": [
        {
          "output_type": "execute_result",
          "data": {
            "text/plain": [
              "                                  Day 1    Day 2~5   Day 6~10  Day 11~15  \\\n",
              "stacked_data -> weight         2.296120   3.244425   6.712858  15.835570   \n",
              "daily_data -> weight           7.860459   8.560681   8.872986  11.565358   \n",
              "stacked_data -> growth rate         NaN  87.253140  34.278214  12.525722   \n",
              "daily_data -> growth rate           NaN  84.343013  40.532759  25.589986   \n",
              "stacked_data -> growth weight  2.268734   0.873505   1.505555   2.668765   \n",
              "daily_data -> growth weight    2.145831   1.362697   1.443196   2.424797   \n",
              "\n",
              "                               Day 16~20  Day 21~25  Day 25~28  \n",
              "stacked_data -> weight         25.563034  29.746055  34.467620  \n",
              "daily_data -> weight           25.406180  35.515791  35.032043  \n",
              "stacked_data -> growth rate    12.287068  10.828683   9.479867  \n",
              "daily_data -> growth rate      23.430459  21.471110  20.095950  \n",
              "stacked_data -> growth weight   3.870097   4.139213   4.866978  \n",
              "daily_data -> growth weight     3.654050   4.360808   4.998913  "
            ],
            "text/html": [
              "\n",
              "  <div id=\"df-7e2213a1-d6c8-4909-beaa-ff38f39b09af\">\n",
              "    <div class=\"colab-df-container\">\n",
              "      <div>\n",
              "<style scoped>\n",
              "    .dataframe tbody tr th:only-of-type {\n",
              "        vertical-align: middle;\n",
              "    }\n",
              "\n",
              "    .dataframe tbody tr th {\n",
              "        vertical-align: top;\n",
              "    }\n",
              "\n",
              "    .dataframe thead th {\n",
              "        text-align: right;\n",
              "    }\n",
              "</style>\n",
              "<table border=\"1\" class=\"dataframe\">\n",
              "  <thead>\n",
              "    <tr style=\"text-align: right;\">\n",
              "      <th></th>\n",
              "      <th>Day 1</th>\n",
              "      <th>Day 2~5</th>\n",
              "      <th>Day 6~10</th>\n",
              "      <th>Day 11~15</th>\n",
              "      <th>Day 16~20</th>\n",
              "      <th>Day 21~25</th>\n",
              "      <th>Day 25~28</th>\n",
              "    </tr>\n",
              "  </thead>\n",
              "  <tbody>\n",
              "    <tr>\n",
              "      <th>stacked_data -&gt; weight</th>\n",
              "      <td>2.296120</td>\n",
              "      <td>3.244425</td>\n",
              "      <td>6.712858</td>\n",
              "      <td>15.835570</td>\n",
              "      <td>25.563034</td>\n",
              "      <td>29.746055</td>\n",
              "      <td>34.467620</td>\n",
              "    </tr>\n",
              "    <tr>\n",
              "      <th>daily_data -&gt; weight</th>\n",
              "      <td>7.860459</td>\n",
              "      <td>8.560681</td>\n",
              "      <td>8.872986</td>\n",
              "      <td>11.565358</td>\n",
              "      <td>25.406180</td>\n",
              "      <td>35.515791</td>\n",
              "      <td>35.032043</td>\n",
              "    </tr>\n",
              "    <tr>\n",
              "      <th>stacked_data -&gt; growth rate</th>\n",
              "      <td>NaN</td>\n",
              "      <td>87.253140</td>\n",
              "      <td>34.278214</td>\n",
              "      <td>12.525722</td>\n",
              "      <td>12.287068</td>\n",
              "      <td>10.828683</td>\n",
              "      <td>9.479867</td>\n",
              "    </tr>\n",
              "    <tr>\n",
              "      <th>daily_data -&gt; growth rate</th>\n",
              "      <td>NaN</td>\n",
              "      <td>84.343013</td>\n",
              "      <td>40.532759</td>\n",
              "      <td>25.589986</td>\n",
              "      <td>23.430459</td>\n",
              "      <td>21.471110</td>\n",
              "      <td>20.095950</td>\n",
              "    </tr>\n",
              "    <tr>\n",
              "      <th>stacked_data -&gt; growth weight</th>\n",
              "      <td>2.268734</td>\n",
              "      <td>0.873505</td>\n",
              "      <td>1.505555</td>\n",
              "      <td>2.668765</td>\n",
              "      <td>3.870097</td>\n",
              "      <td>4.139213</td>\n",
              "      <td>4.866978</td>\n",
              "    </tr>\n",
              "    <tr>\n",
              "      <th>daily_data -&gt; growth weight</th>\n",
              "      <td>2.145831</td>\n",
              "      <td>1.362697</td>\n",
              "      <td>1.443196</td>\n",
              "      <td>2.424797</td>\n",
              "      <td>3.654050</td>\n",
              "      <td>4.360808</td>\n",
              "      <td>4.998913</td>\n",
              "    </tr>\n",
              "  </tbody>\n",
              "</table>\n",
              "</div>\n",
              "      <button class=\"colab-df-convert\" onclick=\"convertToInteractive('df-7e2213a1-d6c8-4909-beaa-ff38f39b09af')\"\n",
              "              title=\"Convert this dataframe to an interactive table.\"\n",
              "              style=\"display:none;\">\n",
              "        \n",
              "  <svg xmlns=\"http://www.w3.org/2000/svg\" height=\"24px\"viewBox=\"0 0 24 24\"\n",
              "       width=\"24px\">\n",
              "    <path d=\"M0 0h24v24H0V0z\" fill=\"none\"/>\n",
              "    <path d=\"M18.56 5.44l.94 2.06.94-2.06 2.06-.94-2.06-.94-.94-2.06-.94 2.06-2.06.94zm-11 1L8.5 8.5l.94-2.06 2.06-.94-2.06-.94L8.5 2.5l-.94 2.06-2.06.94zm10 10l.94 2.06.94-2.06 2.06-.94-2.06-.94-.94-2.06-.94 2.06-2.06.94z\"/><path d=\"M17.41 7.96l-1.37-1.37c-.4-.4-.92-.59-1.43-.59-.52 0-1.04.2-1.43.59L10.3 9.45l-7.72 7.72c-.78.78-.78 2.05 0 2.83L4 21.41c.39.39.9.59 1.41.59.51 0 1.02-.2 1.41-.59l7.78-7.78 2.81-2.81c.8-.78.8-2.07 0-2.86zM5.41 20L4 18.59l7.72-7.72 1.47 1.35L5.41 20z\"/>\n",
              "  </svg>\n",
              "      </button>\n",
              "      \n",
              "  <style>\n",
              "    .colab-df-container {\n",
              "      display:flex;\n",
              "      flex-wrap:wrap;\n",
              "      gap: 12px;\n",
              "    }\n",
              "\n",
              "    .colab-df-convert {\n",
              "      background-color: #E8F0FE;\n",
              "      border: none;\n",
              "      border-radius: 50%;\n",
              "      cursor: pointer;\n",
              "      display: none;\n",
              "      fill: #1967D2;\n",
              "      height: 32px;\n",
              "      padding: 0 0 0 0;\n",
              "      width: 32px;\n",
              "    }\n",
              "\n",
              "    .colab-df-convert:hover {\n",
              "      background-color: #E2EBFA;\n",
              "      box-shadow: 0px 1px 2px rgba(60, 64, 67, 0.3), 0px 1px 3px 1px rgba(60, 64, 67, 0.15);\n",
              "      fill: #174EA6;\n",
              "    }\n",
              "\n",
              "    [theme=dark] .colab-df-convert {\n",
              "      background-color: #3B4455;\n",
              "      fill: #D2E3FC;\n",
              "    }\n",
              "\n",
              "    [theme=dark] .colab-df-convert:hover {\n",
              "      background-color: #434B5C;\n",
              "      box-shadow: 0px 1px 3px 1px rgba(0, 0, 0, 0.15);\n",
              "      filter: drop-shadow(0px 1px 2px rgba(0, 0, 0, 0.3));\n",
              "      fill: #FFFFFF;\n",
              "    }\n",
              "  </style>\n",
              "\n",
              "      <script>\n",
              "        const buttonEl =\n",
              "          document.querySelector('#df-7e2213a1-d6c8-4909-beaa-ff38f39b09af button.colab-df-convert');\n",
              "        buttonEl.style.display =\n",
              "          google.colab.kernel.accessAllowed ? 'block' : 'none';\n",
              "\n",
              "        async function convertToInteractive(key) {\n",
              "          const element = document.querySelector('#df-7e2213a1-d6c8-4909-beaa-ff38f39b09af');\n",
              "          const dataTable =\n",
              "            await google.colab.kernel.invokeFunction('convertToInteractive',\n",
              "                                                     [key], {});\n",
              "          if (!dataTable) return;\n",
              "\n",
              "          const docLinkHtml = 'Like what you see? Visit the ' +\n",
              "            '<a target=\"_blank\" href=https://colab.research.google.com/notebooks/data_table.ipynb>data table notebook</a>'\n",
              "            + ' to learn more about interactive tables.';\n",
              "          element.innerHTML = '';\n",
              "          dataTable['output_type'] = 'display_data';\n",
              "          await google.colab.output.renderOutput(dataTable, element);\n",
              "          const docLink = document.createElement('div');\n",
              "          docLink.innerHTML = docLinkHtml;\n",
              "          element.appendChild(docLink);\n",
              "        }\n",
              "      </script>\n",
              "    </div>\n",
              "  </div>\n",
              "  "
            ]
          },
          "metadata": {},
          "execution_count": 74
        }
      ]
    },
    {
      "cell_type": "markdown",
      "source": [
        "위 모델별 최적 구간을 살펴보겠다.\n",
        "\n",
        "예측하는 데이터에 따라서 단위가 다르기 때문에 고려를 해야서 최적의 모델을 구하면 될듯 하다. \n",
        "\n",
        "1일차는 가장 오차가 적은 daily_data-> grow weight 모델로 정하고 나머지 기간들은 각 기간별로 같은 것을 예측하는 모델중더 오차가 적은 모델로 정하면 될듯 하다. \n",
        "\n",
        "1x3x3x3x3x3x3 = 729 가지의 모델로 실험을 해보면 될 듯 하다. "
      ],
      "metadata": {
        "id": "jUFDpD_3q0Ho"
      }
    },
    {
      "cell_type": "markdown",
      "source": [
        "## 모델 실험\n",
        "\n",
        "0. 타겟데이터마다 일별로 자를 수 있는 함수 만들기. rmse 측정을 위함.<br>\n",
        "    list.extend를 사용해서 한개의 벡터를 만든다.\n",
        "\n",
        "\n",
        "\n",
        "1. 각 케이스를 제외한 인덱스 리스트 만들기.<br>\n",
        "index_list = [ ] <br>\n",
        "    ex) index_list[1] = 1번째 케이스 상추를 제외한 인덱스. \n",
        "\n",
        "\n",
        "\n",
        "2. 케이스 마다 케이스를 제외한 데이터를 학습하는 모델을 만들기. (lgbm1~6 모델 학습) <br>\n",
        "28 x 6 개의 모델을 학습함. <br>\n",
        "pred_case_model = [ ][ ] <br>\n",
        "    ex) pred_case_model[1][1]= 1번째 케이스 상추를 제외한 데이터로 학습한 lgbm_reg1 모델\n",
        "\n",
        "\n",
        "\n",
        "3. 위 모델들로 각 예측을 리스트로 만들기.<br>\n",
        "pred_case_model_day= [ ] [ ] [ ]<br> \n",
        "    ex)pred_case_model_day[1][1][1] = 1번째 케이스 상추를 제외한 데이터로 학습한 lgbm_reg1 모델의 첫째날 예측\n",
        "\n",
        "\n",
        "\n",
        "4. 2에서 구한 예측들을 토대로 최종 무게 예측 데이터를 만듦. \n",
        "    <b>\n",
        "day_list = [[1,2], [2, 6], [6, 11], [11, 16], [16, 21], [21, 25], [25, 29]</b><br>\n",
        "    를 참고해서 만들면 될듯 함. for문 사용.\n",
        "\n",
        "    - weight 추정 데이터를 최종 무게 예측 데이터로 만드는 함수\n",
        "    - 성장률 추정 데이터를 최종 무게 예측 데이터로 만드는 함수\n",
        "    - growth_weight 추정 데이터를 최종 무게 예측 데이터로 만드는 함수\n",
        "\n",
        "\n",
        "\n",
        "5. 0. 에서 만든 타겟 데이터와 4. 에서 만든 데이터의 rmse를 한번에 비교함.<br>\n",
        "list.extend 를 사용해서 한개의 벡터를 만든다.<br>\n",
        "final_pred = [ ]"
      ],
      "metadata": {
        "id": "COcqmccs-F-d"
      }
    },
    {
      "cell_type": "code",
      "source": [
        "'''\n",
        "0. 타겟데이터마다 일별로 자를 수 있는 함수 만들기. rmse 측정을 위함.\n",
        "'''\n",
        "\n",
        "def make_target_vector(day):\n",
        "    target_index = []\n",
        "    for i in range(28):\n",
        "        for j in range(day):\n",
        "            target_index.append(j + 28*i)   \n",
        "    return train_y_all.iloc[target_index, 0] "
      ],
      "metadata": {
        "id": "MzwGMJ2xVdZ6"
      },
      "execution_count": null,
      "outputs": []
    },
    {
      "cell_type": "code",
      "source": [
        "def make_list(test_index):\n",
        "    test_len = int(len(test_index)/7)\n",
        "    list_1 = test_index[:test_len]\n",
        "    list_2 = test_index[test_len:test_len*2]\n",
        "    list_3 = test_index[test_len*2:test_len*3]\n",
        "    list_4 = test_index[test_len*3:test_len*4]\n",
        "    list_5 = test_index[test_len*4:test_len*5]\n",
        "    list_6 = test_index[test_len*5:test_len*6]\n",
        "    list_7 = test_index[test_len*6:test_len*7]\n",
        "\n",
        "    return list_1,list_2,list_3,list_4,list_5,list_6,list_7"
      ],
      "metadata": {
        "id": "O7diU_M54hSj"
      },
      "execution_count": null,
      "outputs": []
    },
    {
      "cell_type": "code",
      "source": [
        "kf = KFold(n_splits=4)\n",
        "\n",
        "fold=1 \n",
        "all_pred = []\n",
        "\n",
        "for train_index, test_index in kf.split(range(784)):\n",
        "    print(fold, \"번째 fold\")\n",
        "    # 모델 학습 시키기\n",
        "    lgbm_reg1 = LGBMRegressor(n_estimators=300, learning_rate=0.1, loss=\"rmse\",colsample_bytree=0.5)\n",
        "    lgbm_reg1.fit(train_stacked_total_X_sd_W.iloc[train_index], train_y_W.iloc[train_index], verbose=False) \n",
        "\n",
        "    lgbm_reg2 = LGBMRegressor(n_estimators=300, learning_rate=0.1, loss=\"rmse\",colsample_bytree=0.5)\n",
        "    lgbm_reg2.fit(train_stacked_total_X_sd_W.iloc[train_index], train_y_all.iloc[train_index,2], verbose=False) \n",
        "\n",
        "    lgbm_reg3 = LGBMRegressor(n_estimators=300, learning_rate=0.1, loss=\"rmse\",colsample_bytree=0.5)\n",
        "    lgbm_reg3.fit(train_daily_total_X_sd_W.iloc[train_index], train_y_W.iloc[train_index], verbose=False) \n",
        "\n",
        "    lgbm_reg4 = LGBMRegressor(n_estimators=300, learning_rate=0.1, loss=\"rmse\",colsample_bytree=0.5)\n",
        "    lgbm_reg4.fit(train_daily_total_X_sd_W.iloc[train_index],train_y_all.iloc[train_index,2], verbose=False) \n",
        "\n",
        "    lgbm_reg5 = LGBMRegressor(n_estimators=300, learning_rate=0.1, loss=\"rmse\",colsample_bytree=0.5)\n",
        "    lgbm_reg5.fit(train_stacked_total_X_sd_W.iloc[train_index], train_y_all.iloc[train_index,3], verbose=False) \n",
        "\n",
        "    lgbm_reg6 = LGBMRegressor(n_estimators=300, learning_rate=0.1, loss=\"rmse\",colsample_bytree=0.5)\n",
        "    lgbm_reg6.fit(train_daily_total_X_sd_W.iloc[train_index], train_y_all.iloc[train_index,3], verbose=False) \n",
        "\n",
        "    # pred 변수\n",
        "    pred=  [None, [], [], [], [], [], [], []]\n",
        "\n",
        "    # 테스트 데이터 보기쉽게 나누기\n",
        "    test_data = train_daily_total_X_sd_W.iloc[test_index]\n",
        "    list_1,list_2,list_3,list_4,list_5,list_6,list_7 = make_list(test_index)\n",
        "\n",
        "    test_data_daily = [None, train_daily_total_X_sd_W.iloc[list_1], train_daily_total_X_sd_W.iloc[list_2], train_daily_total_X_sd_W.iloc[list_3], \n",
        "                 train_daily_total_X_sd_W.iloc[list_4], train_daily_total_X_sd_W.iloc[list_5], train_daily_total_X_sd_W.iloc[list_6], train_daily_total_X_sd_W.iloc[list_7]]\n",
        "\n",
        "    test_data_stacked = [None, train_stacked_total_X_sd_W.iloc[list_1], train_stacked_total_X_sd_W.iloc[list_2], train_stacked_total_X_sd_W.iloc[list_3], \n",
        "                 train_stacked_total_X_sd_W.iloc[list_4], train_stacked_total_X_sd_W.iloc[list_5], train_stacked_total_X_sd_W.iloc[list_6], train_stacked_total_X_sd_W.iloc[list_7]]\n",
        "\n",
        "    \n",
        "    ####################################\n",
        "    # 초기 무게 예측 (lgbm6: daily-> growth weight) | rmse = 2.145831\n",
        "    for i in range(1, 8):\n",
        "        initial_pred = abs(lgbm_reg6.predict(test_data_daily[i])[0])\n",
        "        pred[i].append(initial_pred)\n",
        "\n",
        "    ####################################\n",
        "    # 2~5일 무게예측\n",
        "    '''\n",
        "    # 1. lgbm1: stacked_data -> weight | rmse:  3.490668986009254\n",
        "    \n",
        "    for i in range(1, 8):\n",
        "        li = list(lgbm_reg1.predict(test_data_stacked[i])[1:5])\n",
        "        pred[i].extend(li)\n",
        "    \n",
        "    # 2. lgbm_3: daily_data -> growth rate | rmse: 4.361826783222147\n",
        "\n",
        "    for i in range(1, 8):\n",
        "        li = list(lgbm_reg4.predict(test_data_daily[i])[1:5])\n",
        "        li2 = [pred[i][-1]*(li[0]/100+1)]\n",
        "        li2.append(li2[0] * (li[1]/100+1))\n",
        "        li2.append(li2[1] * (li[2]/100+1))\n",
        "        li2.append(li2[2] * (li[3]/100+1))\n",
        "        pred[i].extend(li2)\n",
        "    '''\n",
        "    # 3. lgbm_reg5 (stacked -> grow weight) | 3.1422712262903154\n",
        "    # lgbm_5 모델이 선택됨.\n",
        "\n",
        "    for i in range(1, 8):\n",
        "        li = list(lgbm_reg5.predict(test_data_stacked[i])[1:5])     \n",
        "        li2 = [pred[i][0] + li[0]]\n",
        "        li2.append(li2[0] + li[1])\n",
        "        li2.append(li2[1] + li[2])\n",
        "        li2.append(li2[2] + li[3])\n",
        "\n",
        "        pred[i].extend(li2)\n",
        "    \n",
        "    ####################################\n",
        "    # 6~10일 무게예측\n",
        "    '''\n",
        "    # # 1. lgbm1: stacked_data -> weight | rmse: 5.698081858443776\n",
        "    for i in range(1, 8):\n",
        "        li = list(lgbm_reg1.predict(test_data_stacked[i])[5:10])\n",
        "        pred[i].extend(li)\n",
        "\n",
        "    # 2. lgbm2: stacked_data -> growth rate |rmse:  9.026787652875939\n",
        "    for i in range(1, 8):\n",
        "        li = list(lgbm_reg2.predict(test_data_stacked[i])[5:10])\n",
        "        li2 = [pred[i][-1]*(li[0]/100+1)]\n",
        "        li2.append(li2[0] * (li[1]/100+1))\n",
        "        li2.append(li2[1] * (li[2]/100+1))\n",
        "        li2.append(li2[2] * (li[3]/100+1))\n",
        "        li2.append(li2[3] * (li[4]/100+1))\n",
        "        pred[i].extend(li2)\n",
        "    '''\n",
        "    # 3. lgbm_6: daily_data -> growth weight | 5.480477965592783\n",
        "    # lgbm_6 모델이 선택됨.\n",
        "    for i in range(1, 8):\n",
        "        li = list(lgbm_reg6.predict(test_data_daily[i])[5:10])     \n",
        "        li2 = [pred[i][-1] + li[0]]\n",
        "        li2.append(li2[0] + li[1])\n",
        "        li2.append(li2[1] + li[2])\n",
        "        li2.append(li2[2] + li[3])\n",
        "        li2.append(li2[3] + li[4])\n",
        "\n",
        "        pred[i].extend(li2)\n",
        "    \n",
        "    ####################################\n",
        "    # 11~15일 무게예측\n",
        "    '''\n",
        "    # 1. lgbm_reg1 (stacked -> weight) | rmse: 10.96585880466057\n",
        "    for i in range(1, 8):\n",
        "        li = list(lgbm_reg1.predict(test_data_stacked[i])[10:15])\n",
        "        pred[i].extend(li)\n",
        "    \n",
        "    # 2. lgbm_reg2 (stacked -> growth rate) | rmse: 12.367346477866556\n",
        "    for i in range(1, 8):\n",
        "        li = list(lgbm_reg2.predict(test_data_stacked[i])[10:15])\n",
        "        li2 = [pred[i][-1]*(li[0]/100+1)]\n",
        "        li2.append(li2[0] * (li[1]/100+1))\n",
        "        li2.append(li2[1] * (li[2]/100+1))\n",
        "        li2.append(li2[2] * (li[3]/100+1))\n",
        "        li2.append(li2[3] * (li[4]/100+1))\n",
        "        pred[i].extend(li2)\n",
        "    '''\n",
        "    # 3. lgbm_reg6 (daily -> grow weight) | rmse: 8.858352673010751\n",
        "    for i in range(1, 8):\n",
        "        li = list(lgbm_reg6.predict(test_data_daily[i])[10:15])     \n",
        "        li2 = [pred[i][-1] + li[0]]\n",
        "        li2.append(li2[0] + li[1])\n",
        "        li2.append(li2[1] + li[2])\n",
        "        li2.append(li2[2] + li[3])\n",
        "        li2.append(li2[3] + li[4])\n",
        "\n",
        "        pred[i].extend(li2)\n",
        "\n",
        "\n",
        "    ####################################\n",
        "    # 16~20일 무게예측\n",
        "    '''\n",
        "    # 1. lgbm_reg3 (daily -> weight) | rmse: 15.237585422915325\n",
        "    for i in range(1, 8):\n",
        "        li = list(lgbm_reg3.predict(test_data_daily[i])[15:20])\n",
        "        pred[i].extend(li)\n",
        "    \n",
        "    # 2. lgbm_reg2 (stacked -> growth rate) | rmse: 15.315663865895681\n",
        "    for i in range(1, 8):\n",
        "        li = list(lgbm_reg2.predict(test_data_stacked[i])[15:20])\n",
        "        li2 = [pred[i][-1]*(li[0]/100+1)]\n",
        "        li2.append(li2[0] * (li[1]/100+1))\n",
        "        li2.append(li2[1] * (li[2]/100+1))\n",
        "        li2.append(li2[2] * (li[3]/100+1))\n",
        "        li2.append(li2[3] * (li[4]/100+1))\n",
        "        pred[i].extend(li2)\n",
        "    '''\n",
        "    # 3. lgbm_reg6 (daily -> grow weight) | rmse: 13.942179211077281\n",
        "    for i in range(1, 8):\n",
        "        li = list(lgbm_reg6.predict(test_data_daily[i])[15:20])     \n",
        "        li2 = [pred[i][-1] + li[0]]\n",
        "        li2.append(li2[0] + li[1])\n",
        "        li2.append(li2[1] + li[2])\n",
        "        li2.append(li2[2] + li[3])\n",
        "        li2.append(li2[3] + li[4])\n",
        "\n",
        "        pred[i].extend(li2)\n",
        "\n",
        "    ####################################\n",
        "    # 21~25일 무게예측\n",
        "    '''\n",
        "    # 1. lgbm_reg1 (stacked -> weight) | rmse: 22.378775685996853\n",
        "    for i in range(1, 8):\n",
        "        li = list(lgbm_reg3.predict(test_data_stacked[i])[20:25])\n",
        "        pred[i].extend(li)\n",
        "    \n",
        "    # 2. lgbm_reg2 (stacked -> growth rate) | rmse: 22.470400713213273\n",
        "    for i in range(1, 8):\n",
        "        li = list(lgbm_reg2.predict(test_data_stacked[i])[20:25])\n",
        "        li2 = [pred[i][-1]*(li[0]/100+1)]\n",
        "        li2.append(li2[0] * (li[1]/100+1))\n",
        "        li2.append(li2[1] * (li[2]/100+1))\n",
        "        li2.append(li2[2] * (li[3]/100+1))\n",
        "        li2.append(li2[3] * (li[4]/100+1))\n",
        "        pred[i].extend(li2)\n",
        "    '''\n",
        "    # 3. lgbm_reg5 (stacked -> grow weight) | rmse: 18.6669196066826\n",
        "    for i in range(1, 8):\n",
        "        li = list(lgbm_reg5.predict(test_data_stacked[i])[20:25])     \n",
        "        li2 = [pred[i][-1] + li[0]]\n",
        "        li2.append(li2[0] + li[1])\n",
        "        li2.append(li2[1] + li[2])\n",
        "        li2.append(li2[2] + li[3])\n",
        "        li2.append(li2[3] + li[4])\n",
        "        pred[i].extend(li2)\n",
        "\n",
        "    ####################################\n",
        "    # # 25~28일 무게예측\n",
        "    \"\"\"\n",
        "    # # 1. lgbm_reg1 (stacked -> weight) | rmse: 23.032173394833755\n",
        "    # for i in range(1, 8):\n",
        "    #     li = list(lgbm_reg3.predict(test_data_stacked[i])[25:28])\n",
        "    #     pred[i].extend(li)\n",
        "    \"\"\"\n",
        "    # # # 2. lgbm_reg2 (stacked -> growth rate) | rmse: 23.705896004601655\n",
        "    # for i in range(1, 8):\n",
        "    #     li = list(lgbm_reg2.predict(test_data_stacked[i])[25:28])\n",
        "    #     li2 = [pred[i][-1]*(li[0]/100+1)]\n",
        "    #     li2.append(li2[0] * (li[1]/100+1))\n",
        "    #     li2.append(li2[1] * (li[2]/100+1))\n",
        "    #     pred[i].extend(li2)\n",
        "    \n",
        "\n",
        "    # 3. lgbm_reg5 (stacked -> grow weight) | rmse: 22.701096506434375\n",
        "    for i in range(1, 8):\n",
        "        li = list(lgbm_reg5.predict(test_data_stacked[i])[25:28])     \n",
        "        li2 = [pred[i][-1] + li[0]]\n",
        "        li2.append(li2[0] + li[1])\n",
        "        li2.append(li2[1] + li[2])\n",
        "        pred[i].extend(li2)\n",
        "\n",
        "\n",
        "\n",
        "\n",
        "\n",
        "    # pred 통합\n",
        "    for i in range(1, 8):\n",
        "        all_pred.extend(pred[i])\n",
        "\n",
        "    print(fold*7, \"/\", 28)\n",
        "    \n",
        "    fold+=1 \n",
        "\n",
        "print(\"rmse:\", mean_squared_error(make_target_vector(28), all_pred)**0.5)"
      ],
      "metadata": {
        "id": "qVKiwfom-xmD",
        "colab": {
          "base_uri": "https://localhost:8080/"
        },
        "outputId": "887653aa-b03d-4d79-e240-8270c705500e"
      },
      "execution_count": null,
      "outputs": [
        {
          "output_type": "stream",
          "name": "stdout",
          "text": [
            "1 번째 fold\n",
            "7 / 28\n",
            "2 번째 fold\n",
            "14 / 28\n",
            "3 번째 fold\n",
            "21 / 28\n",
            "4 번째 fold\n",
            "28 / 28\n",
            "rmse: 22.701096506434375\n"
          ]
        }
      ]
    },
    {
      "cell_type": "markdown",
      "source": [
        "lgbm_reg6-> lgbm_reg5 -> lgbm_reg6 -> lgbm_reg6 -> lgbm_reg5 -> lgbm_reg5"
      ],
      "metadata": {
        "id": "wqJFs2MX-xjg"
      }
    },
    {
      "cell_type": "markdown",
      "source": [
        "### CNN 사용모델 (폐기)\n",
        "[내가 공부한 CNN 깃허브 링크](https://github.com/donghui-0126/machine-learning/blob/main/%ED%95%B8%EC%A6%88%EC%98%A8%EB%A8%B8%EC%8B%A0%EB%9F%AC%EB%8B%9D/2%EC%9E%A5%20%EB%94%A5%EB%9F%AC%EB%8B%9D/%5B14%EC%9E%A5%5D_%ED%95%A9%EC%84%B1%EA%B3%B1_%EC%8B%A0%EA%B2%BD%EB%A7%9D%EC%9D%84_%EC%82%AC%EC%9A%A9%ED%95%9C_%EC%BB%B4%ED%93%A8%ED%84%B0_%EB%B9%84%EC%A0%84.ipynb)"
      ],
      "metadata": {
        "id": "dqwG3mW9SMfU"
      }
    },
    {
      "cell_type": "code",
      "source": [
        "CNN_data = []\n",
        "\n",
        "for CASE in range(1,29):\n",
        "    for DAY in range(28):\n",
        "        scaler = StandardScaler()\n",
        "        data = scaler.fit_transform((train_X_case_day[CASE][DAY].drop(\"obs_time\", axis=1)))\n",
        "        CNN_data.append(data)\n",
        "\n",
        "CNN_data = np.array(CNN_data)"
      ],
      "metadata": {
        "id": "qr6LJk2O-_Ur"
      },
      "execution_count": null,
      "outputs": []
    },
    {
      "cell_type": "code",
      "source": [
        "CNN_data.shape"
      ],
      "metadata": {
        "id": "wG9H2oQY-_Ks",
        "colab": {
          "base_uri": "https://localhost:8080/"
        },
        "outputId": "8c4f73ef-1de9-4276-a69e-7ad7ea8f7c25"
      },
      "execution_count": null,
      "outputs": [
        {
          "output_type": "execute_result",
          "data": {
            "text/plain": [
              "(784, 24, 15)"
            ]
          },
          "metadata": {},
          "execution_count": 79
        }
      ]
    },
    {
      "cell_type": "code",
      "source": [
        "cnn_model = keras.models.Sequential([\n",
        "    keras.layers.Conv1D(32, 8, activation=\"relu\", padding=\"valid\",),\n",
        "\n",
        "    keras.layers.Conv1D(16, 4, activation=\"relu\", padding=\"valid\"),\n",
        "\n",
        "    keras.layers.Conv1D(8, 4, activation=\"relu\", padding=\"valid\"),\n",
        "\n",
        "    keras.layers.Flatten(),\n",
        "\n",
        "    keras.layers.Dense(64),\n",
        "\n",
        "    keras.layers.Dense(8),\n",
        "\n",
        "    keras.layers.Dense(1, activation=\"relu\")\n",
        "])\n",
        "\n",
        "cnn_model.compile(loss=\"mse\", optimizer=\"adam\")\n",
        "\n",
        "# cnn_model.fit(CNN_data, train_y_all, epochs=20)"
      ],
      "metadata": {
        "id": "96z0PWKTCzby"
      },
      "execution_count": null,
      "outputs": []
    },
    {
      "cell_type": "markdown",
      "source": [
        "# test 데이터 가공\n",
        "- 데이터셋 합치기/지우기 (28일차 데이터 삭제)\n",
        "- target데이터 가공\n",
        "- noise 데이터 처리\n",
        "- stacked데이터 만들기\n",
        "- 데이터 표준화"
      ],
      "metadata": {
        "id": "yqmQWQxaPUVw"
      }
    },
    {
      "cell_type": "markdown",
      "source": [
        "## 테스트 데이터셋 적재 test_X_case, test_y_case (dict)"
      ],
      "metadata": {
        "id": "kV7AExmzPWPO"
      }
    },
    {
      "cell_type": "code",
      "source": [
        "test_X_case = {}\n",
        "\n",
        "for i in range(1, 6):\n",
        "    test_X_case[\"{}\".format(str(i).zfill(2))] =\\\n",
        "      pd.read_csv(\"/content/drive/MyDrive/상추의 생육 환경 생성 AI 경진대회/test_input/TEST_{}.csv\".format(str(i).zfill(2)))\n",
        " "
      ],
      "metadata": {
        "id": "v2sbtSmN2If-"
      },
      "execution_count": null,
      "outputs": []
    },
    {
      "cell_type": "code",
      "source": [
        "test_y_case = {}\n",
        "\n",
        "for i in range(1, 6):\n",
        "    test_y_case[\"{}\".format(str(i).zfill(2))] =\\\n",
        "      pd.read_csv(\"/content/drive/MyDrive/상추의 생육 환경 생성 AI 경진대회/test_target/TEST_{}.csv\".format(str(i).zfill(2)))\n",
        " "
      ],
      "metadata": {
        "id": "2_fH16d52IgV"
      },
      "execution_count": null,
      "outputs": []
    },
    {
      "cell_type": "markdown",
      "source": [
        "## 테스트 데이터 나누기"
      ],
      "metadata": {
        "id": "8ydFzh3d_JaX"
      }
    },
    {
      "cell_type": "code",
      "source": [
        "test_X_case_day = [[]]\n",
        "\n",
        "for i in range(1,6):\n",
        "    test_X_case_day.append([])\n",
        "    for j in range(1,29):\n",
        "        test_X_case_day[i].append(test_X_case[\"{}\".format(str(i).zfill(2))].iloc[24*(j-1):j*24, :])"
      ],
      "metadata": {
        "id": "sqoaSxZA_JXX"
      },
      "execution_count": null,
      "outputs": []
    },
    {
      "cell_type": "markdown",
      "source": [
        "## test 노이즈값 처리\n",
        "- 광량이 음수인경우 -> 이전과 이후데이터의 평균을 넣어준다.\n",
        "- 온도가 0인 경우 -> 이전과 이후데이터의 평균을 넣어준다.\n",
        "- 시간당 분무량이 음수인 경우 -> 이전과 이후데이터의 평균을 넣어준다.\n",
        "- 내부 습도가 0인 경우 -> 이전과 이후데이터의 평균을 넣어준다.\n",
        "- 나머지 컬럼이 음수인 경우-> 평균값으로 채워준다."
      ],
      "metadata": {
        "id": "O2pP3Q-L79RM"
      }
    },
    {
      "cell_type": "code",
      "source": [
        "control_variable = pd.DataFrame()\n",
        "\n",
        "noise = [[]]\n",
        "\n",
        "for i in range(1, 6):\n",
        "    noise.append([])\n",
        "    CASE = str(i).zfill(2)\n",
        "\n",
        "    # 내부 온도 관측치가 0인 경우\n",
        "    noise[i].append(test_X_case[CASE][test_X_case[CASE][col[2]]<=0].index)    \n",
        "\n",
        "    # 내부습도 관측치가 0인 경우\n",
        "    noise[i].append(test_X_case[CASE][test_X_case[CASE][col[3]]<=0].index)    \n",
        "\n",
        "    # co2 관측치\n",
        "    noise[i].append(test_X_case[CASE][test_X_case[CASE][col[4]]<=0].index)    \n",
        "\n",
        "    # 시간당 분무량\n",
        "    noise[i].append(test_X_case[CASE][test_X_case[CASE][col[6]]<0].index)    \n",
        "\n",
        "    # 누적 분무량\n",
        "    noise[i].append(test_X_case[CASE][test_X_case[CASE][col[7]]<0].index)    \n",
        "\n",
        "    # 시간당 백색광량\n",
        "    noise[i].append(test_X_case[CASE][test_X_case[CASE][col[8]]<0].index)    \n",
        "\n",
        "    # 일간 누적 백색광량\n",
        "    noise[i].append(test_X_case[CASE][test_X_case[CASE][col[9]]<0].index)    \n",
        "\n",
        "    # 시간당 적색광량\n",
        "    noise[i].append(test_X_case[CASE][test_X_case[CASE][col[10]]<0].index)    \n",
        "\n",
        "    # 일간 누적 적색광량\n",
        "    noise[i].append(test_X_case[CASE][test_X_case[CASE][col[11]]<0].index)    \n",
        "\n",
        "    # 시간당 청색광량\n",
        "    noise[i].append(test_X_case[CASE][test_X_case[CASE][col[12]]<0].index)    \n",
        "\n",
        "    # 일간 누적 청색광량\n",
        "    noise[i].append(test_X_case[CASE][test_X_case[CASE][col[13]]<0].index)    \n",
        "\n",
        "    # 시간당 총광량\n",
        "    noise[i].append(test_X_case[CASE][test_X_case[CASE][col[14]]<0].index)    \n",
        "\n",
        "    # 일간 누적 총광량\n",
        "    noise[i].append(test_X_case[CASE][test_X_case[CASE][col[15]]<0].index)    \n"
      ],
      "metadata": {
        "id": "IJVLBrMW8Acs"
      },
      "execution_count": null,
      "outputs": []
    },
    {
      "cell_type": "code",
      "source": [
        "for i in range(1, 6):\n",
        "    for j in range(13):\n",
        "        if len(noise[i][j]) != 0 and len(noise[i][j])<100:\n",
        "            print(\"case{} {}\".format(i, col[j//2+2]))\n",
        "            print(noise[i][j], \"\\n\")"
      ],
      "metadata": {
        "id": "RkuOgEEg9qw9"
      },
      "execution_count": null,
      "outputs": []
    },
    {
      "cell_type": "markdown",
      "source": [
        " noise값이 없다."
      ],
      "metadata": {
        "id": "tHg-ABZS-JkK"
      }
    },
    {
      "cell_type": "markdown",
      "source": [
        "## 테스트 데이터 null값 처리"
      ],
      "metadata": {
        "id": "pSXTzVLi-jjm"
      }
    },
    {
      "cell_type": "code",
      "source": [
        "for i in range(1, 6):\n",
        "    CASE = str(i).zfill(2)\n",
        "    for _ in test_X_case[CASE].isnull().sum():\n",
        "        if _ == True:\n",
        "            print(_)"
      ],
      "metadata": {
        "id": "vYpvxZXx-tJI"
      },
      "execution_count": null,
      "outputs": []
    },
    {
      "cell_type": "markdown",
      "source": [
        "null값이 없다."
      ],
      "metadata": {
        "id": "2GfsbFHX-yll"
      }
    },
    {
      "cell_type": "markdown",
      "source": [
        "## 테스트 데이터를 일별 데이터로 가공"
      ],
      "metadata": {
        "id": "pllBIrx1-C2k"
      }
    },
    {
      "cell_type": "markdown",
      "source": [
        "### 일별 총합 데이터"
      ],
      "metadata": {
        "id": "hkd9AumD-ZX3"
      }
    },
    {
      "cell_type": "code",
      "source": [
        "# 하루의 총합으로 일별데이터 가공을 진행했다.\n",
        "\n",
        "test_daily_total_X =  pd.DataFrame()\n",
        "\n",
        "for CASE in range(1,6):\n",
        "    for DAY in range(0,28):\n",
        "        # series를 전치시켜서 내가 원하는 데이터프레임을 얻음.\n",
        "        total = pd.DataFrame(test_X_case_day[CASE][DAY].sum()).T.drop([\"obs_time\"], axis=1)\n",
        "        test_daily_total_X = test_daily_total_X.append(total, ignore_index=True)"
      ],
      "metadata": {
        "id": "oLfnpIzh-5oV"
      },
      "execution_count": null,
      "outputs": []
    },
    {
      "cell_type": "code",
      "source": [
        "test_daily_total_X.shape"
      ],
      "metadata": {
        "id": "ZXwPvU61-5LE",
        "colab": {
          "base_uri": "https://localhost:8080/"
        },
        "outputId": "01b9b00c-6a7b-44ae-e168-a35c846f8e86"
      },
      "execution_count": null,
      "outputs": [
        {
          "output_type": "execute_result",
          "data": {
            "text/plain": [
              "(140, 15)"
            ]
          },
          "metadata": {},
          "execution_count": 88
        }
      ]
    },
    {
      "cell_type": "markdown",
      "source": [
        "### 누적 총합 데이터"
      ],
      "metadata": {
        "id": "Arb_RjRK-fQe"
      }
    },
    {
      "cell_type": "code",
      "source": [
        "test_stacked_total_X = pd.DataFrame()\n",
        "\n",
        "for CASE in range(1,6):\n",
        "    for DAY in range(0,28):\n",
        "        stacked_total = test_daily_total_X.iloc[(CASE-1)*28:DAY+(CASE-1)*28+1 ,:].sum()\n",
        "        test_stacked_total_X = test_stacked_total_X.append(stacked_total, ignore_index=True)"
      ],
      "metadata": {
        "id": "OnNck4B2_cQn"
      },
      "execution_count": null,
      "outputs": []
    },
    {
      "cell_type": "code",
      "source": [
        "test_stacked_total_X.shape"
      ],
      "metadata": {
        "id": "2ULLNOGK_cOU",
        "colab": {
          "base_uri": "https://localhost:8080/"
        },
        "outputId": "d5ff0d14-d385-40e1-befd-9d74ad448393"
      },
      "execution_count": null,
      "outputs": [
        {
          "output_type": "execute_result",
          "data": {
            "text/plain": [
              "(140, 15)"
            ]
          },
          "metadata": {},
          "execution_count": 90
        }
      ]
    },
    {
      "cell_type": "markdown",
      "source": [
        "## 테스트 데이터 정규화"
      ],
      "metadata": {
        "id": "yYVfizne-UmE"
      }
    },
    {
      "cell_type": "markdown",
      "source": [
        "### 테스트 누적 총합 데이터 정규화"
      ],
      "metadata": {
        "id": "oe4lsu0dAatQ"
      }
    },
    {
      "cell_type": "code",
      "source": [
        "# standardized\n",
        "test_stacked_total_X_sd = pd.DataFrame(train_stacked_total_scaler.fit_transform(test_stacked_total_X), columns=test_stacked_total_X.columns)\n",
        "test_stacked_total_X_sd.columns = test_stacked_total_X.columns"
      ],
      "metadata": {
        "id": "GORTcNUN-W-J"
      },
      "execution_count": null,
      "outputs": []
    },
    {
      "cell_type": "markdown",
      "source": [
        "### 테스트 일별 총합데이터 정규화"
      ],
      "metadata": {
        "id": "eULAEdMVASbT"
      }
    },
    {
      "cell_type": "code",
      "source": [
        "# standardized\n",
        "test_daily_total_X_sd = pd.DataFrame(train_daily_total_scaler.fit_transform(test_daily_total_X), columns=test_daily_total_X.columns)\n",
        "test_daily_total_X_sd.columns = test_daily_total_X.columns"
      ],
      "metadata": {
        "id": "DDLX7MYNAi_v"
      },
      "execution_count": null,
      "outputs": []
    },
    {
      "cell_type": "markdown",
      "source": [
        "## 데이터셋 타입 변경 to float32"
      ],
      "metadata": {
        "id": "6ahoxZfa30pZ"
      }
    },
    {
      "cell_type": "code",
      "source": [
        "# float32 로 타입 변경\n",
        "test_daily_total_X_sd = test_daily_total_X_sd.astype(np.float32)\n",
        "test_stacked_total_X_sd = test_stacked_total_X_sd.astype(np.float32)"
      ],
      "metadata": {
        "id": "zAL_f5lEAxTN"
      },
      "execution_count": null,
      "outputs": []
    },
    {
      "cell_type": "code",
      "source": [
        "# 데이터 크기, 컬럼 수(타임스텝), 데이터 순으로 모델 크기를 재구성함\n",
        "\n",
        "# 예측하는 날에서 4일 전까지의 데이터만 사용함. (총 5일의 데이터를 사용해서 예측)\n",
        "time_step = 5 \n",
        "\n",
        "X11 = np.array(train_daily_total_X_sd_W)\n",
        "\n",
        "test_X1 = []\n",
        "\n",
        "for i in range(5):\n",
        "    for j in range(23):\n",
        "        test_X1.append(X11[i*28+j:i*28+j+5])\n",
        "\n",
        "\n",
        "test_X1 = np.array(test_X1).reshape([np.array(test_X1).shape[0], 5, -1])\n",
        "\n",
        "\n",
        "X22 = np.array(train_stacked_total_X_sd_W)\n",
        "\n",
        "test_X2 = []\n",
        "\n",
        "for i in range(5):\n",
        "    for j in range(23):\n",
        "        test_X2.append(X22[i*28+j:i*28+j+5])\n",
        "\n",
        "\n",
        "test_X2 = np.array(test_X2).reshape([np.array(test_X2).shape[0], 5, -1])\n",
        "\n",
        "test_X1.shape"
      ],
      "metadata": {
        "id": "WyKA3oLTcssi",
        "colab": {
          "base_uri": "https://localhost:8080/"
        },
        "outputId": "8614a94a-e9d3-49ac-c4b4-dbd342336545"
      },
      "execution_count": null,
      "outputs": [
        {
          "output_type": "execute_result",
          "data": {
            "text/plain": [
              "(115, 5, 15)"
            ]
          },
          "metadata": {},
          "execution_count": 94
        }
      ]
    },
    {
      "cell_type": "code",
      "source": [],
      "metadata": {
        "id": "S0y9ae_ZdO7d"
      },
      "execution_count": null,
      "outputs": []
    },
    {
      "cell_type": "markdown",
      "source": [
        "# 모델 예측"
      ],
      "metadata": {
        "id": "3PzOzFIICVjx"
      }
    },
    {
      "cell_type": "markdown",
      "source": [
        "#### lgbm 모델 예측"
      ],
      "metadata": {
        "id": "7o30oFrL17tC"
      }
    },
    {
      "cell_type": "code",
      "source": [
        "# lgbm 모델을 사용한 예측\n",
        "\n",
        "for _ in range(1):\n",
        "    lgbm_reg5 = LGBMRegressor(n_estimators=300, learning_rate=0.1, loss=\"rmse\",colsample_bytree=0.5)\n",
        "    lgbm_reg5.fit(train_stacked_total_X_sd_W, train_y_all.iloc[:,3], verbose=False) \n",
        "\n",
        "    lgbm_reg6 = LGBMRegressor(n_estimators=300, learning_rate=0.1, loss=\"rmse\",colsample_bytree=0.5)\n",
        "    lgbm_reg6.fit(train_daily_total_X_sd_W, train_y_all.iloc[:,3], verbose=False) \n",
        "\n",
        "    # pred 변수\n",
        "    pred=  [None, [], [], [], [], []]\n",
        "\n",
        "    test_data_daily = [None, test_daily_total_X_sd.iloc[:28], test_daily_total_X_sd.iloc[28:56], test_daily_total_X_sd.iloc[56:84], \n",
        "                 test_daily_total_X_sd.iloc[84:112], test_daily_total_X_sd.iloc[112:140]]    \n",
        "    test_data_stacked = [None, test_stacked_total_X_sd.iloc[:28], test_stacked_total_X_sd.iloc[28:56], test_stacked_total_X_sd.iloc[56:84], \n",
        "                 test_stacked_total_X_sd.iloc[84:112], test_stacked_total_X_sd.iloc[112:140]]\n",
        "\n",
        "    \n",
        "    ####################################\n",
        "    # 초기 무게 예측 (lgbm6: daily-> growth weight) | rmse = 2.145831\n",
        "    for i in range(1, 6):\n",
        "        initial_pred = abs(lgbm_reg6.predict(test_data_daily[i])[0])\n",
        "        pred[i].append(initial_pred)\n",
        "\n",
        "    ####################################\n",
        "    # 2~5일 무게예측\n",
        "\n",
        "    # 3. lgbm_reg5 (stacked -> grow weight) | 3.1422712262903154\n",
        "    # lgbm_5 모델이 선택됨.\n",
        "\n",
        "    for i in range(1, 6):\n",
        "        li = list(lgbm_reg5.predict(test_data_stacked[i])[1:5])     \n",
        "        li2 = [pred[i][0] + li[0]]\n",
        "        li2.append(li2[0] + li[1])\n",
        "        li2.append(li2[1] + li[2])\n",
        "        li2.append(li2[2] + li[3])\n",
        "\n",
        "        pred[i].extend(li2)\n",
        "    \n",
        "    ####################################\n",
        "    # 6~10일 무게예측\n",
        "    # 3. lgbm_6: daily_data -> growth weight | 5.480477965592783\n",
        "    # lgbm_6 모델이 선택됨.\n",
        "    for i in range(1, 6):\n",
        "        li = list(lgbm_reg6.predict(test_data_daily[i])[5:10])     \n",
        "        li2 = [pred[i][-1] + li[0]]\n",
        "        li2.append(li2[0] + li[1])\n",
        "        li2.append(li2[1] + li[2])\n",
        "        li2.append(li2[2] + li[3])\n",
        "        li2.append(li2[3] + li[4])\n",
        "\n",
        "        pred[i].extend(li2)\n",
        "    \n",
        "    ####################################\n",
        "    # 11~15일 무게예측\n",
        "    # 3. lgbm_reg6 (daily -> grow weight) | rmse: 8.858352673010751\n",
        "    for i in range(1, 6):\n",
        "        li = list(lgbm_reg6.predict(test_data_daily[i])[10:15])     \n",
        "        li2 = [pred[i][-1] + li[0]]\n",
        "        li2.append(li2[0] + li[1])\n",
        "        li2.append(li2[1] + li[2])\n",
        "        li2.append(li2[2] + li[3])\n",
        "        li2.append(li2[3] + li[4])\n",
        "\n",
        "        pred[i].extend(li2)\n",
        "\n",
        "\n",
        "    ####################################\n",
        "    # 16~20일 무게예측\n",
        "    # 3. lgbm_reg6 (daily -> grow weight) | rmse: 13.942179211077281\n",
        "    for i in range(1, 6):\n",
        "        li = list(lgbm_reg6.predict(test_data_daily[i])[15:20])     \n",
        "        li2 = [pred[i][-1] + li[0]]\n",
        "        li2.append(li2[0] + li[1])\n",
        "        li2.append(li2[1] + li[2])\n",
        "        li2.append(li2[2] + li[3])\n",
        "        li2.append(li2[3] + li[4])\n",
        "\n",
        "        pred[i].extend(li2)\n",
        "\n",
        "    ####################################\n",
        "    # 21~25일 무게예측\n",
        "    # 3. lgbm_reg5 (stacked -> grow weight) | rmse: 18.6669196066826\n",
        "    for i in range(1, 6):\n",
        "        li = list(lgbm_reg5.predict(test_data_stacked[i])[20:25])     \n",
        "        li2 = [pred[i][-1] + li[0]]\n",
        "        li2.append(li2[0] + li[1])\n",
        "        li2.append(li2[1] + li[2])\n",
        "        li2.append(li2[2] + li[3])\n",
        "        li2.append(li2[3] + li[4])\n",
        "        pred[i].extend(li2)\n",
        "\n",
        "    ####################################\n",
        "    # # 25~28일 무게예측\n",
        "    # 3. lgbm_reg5 (stacked -> grow weight) | rmse: 22.701096506434375\n",
        "    for i in range(1, 6):\n",
        "        li = list(lgbm_reg5.predict(test_data_stacked[i])[25:28])     \n",
        "        li2 = [pred[i][-1] + li[0]]\n",
        "        li2.append(li2[0] + li[1])\n",
        "        li2.append(li2[1] + li[2])\n",
        "        pred[i].extend(li2)\n",
        "\n",
        "    # pred 통합\n",
        "    all_pred = []\n",
        "\n",
        "    for i in range(1, 6):\n",
        "        all_pred.extend(pred[i])"
      ],
      "metadata": {
        "id": "AzZw1ORtT9Ul"
      },
      "execution_count": null,
      "outputs": []
    },
    {
      "cell_type": "markdown",
      "source": [
        "#### lstm 모델 예측"
      ],
      "metadata": {
        "id": "2iUs9_Tz1_xe"
      }
    },
    {
      "cell_type": "code",
      "source": [
        "# lstm 모델을 사용한 예측\n",
        "lgbm_reg5 = LGBMRegressor(n_estimators=300, learning_rate=0.1, loss=\"rmse\",colsample_bytree=0.5)\n",
        "lgbm_reg5.fit(train_stacked_total_X_sd_W, train_y_all.iloc[:,3], verbose=False)\n",
        "\n",
        "lgbm_reg6 = LGBMRegressor(n_estimators=300, learning_rate=0.1, loss=\"rmse\",colsample_bytree=0.5)\n",
        "lgbm_reg6.fit(train_daily_total_X_sd_W, train_y_all.iloc[:,3], verbose=False) \n",
        "\n",
        "# pred 변수\n",
        "pred=  [None, [], [], [], [], []]\n",
        "\n",
        "test_data_daily = [None, test_daily_total_X_sd.iloc[:28], test_daily_total_X_sd.iloc[28:56], test_daily_total_X_sd.iloc[56:84], \n",
        "                 test_daily_total_X_sd.iloc[84:112], test_daily_total_X_sd.iloc[112:140]]    \n",
        "test_data_stacked = [None, test_stacked_total_X_sd.iloc[:28], test_stacked_total_X_sd.iloc[28:56], test_stacked_total_X_sd.iloc[56:84], \n",
        "                 test_stacked_total_X_sd.iloc[84:112], test_stacked_total_X_sd.iloc[112:140]]\n",
        "\n",
        "\n",
        "os.chdir(\"/content/drive/MyDrive/상추의 생육 환경 생성 AI 경진대회\")\n",
        "\n",
        "\n",
        "for i in range(1,6):\n",
        "    pred[i].extend(list(DNN_model.predict(test_data_daily[i])[:5]))\n",
        "\n",
        "\n",
        "lstm_model_final = keras.models.load_model(\"final_model.h5\")\n",
        "\n",
        "pred5to28 = lstm_model_final.predict(test_X1)\n",
        "\n",
        "\n",
        "for i in range(1,6):\n",
        "    pred[i].extend(pred5to28[23*(i-1):23*i])\n",
        "\n",
        "# pred 통합\n",
        "all_pred = []\n",
        "\n",
        "for i in range(1, 6):\n",
        "    all_pred.extend(pred[i])"
      ],
      "metadata": {
        "colab": {
          "base_uri": "https://localhost:8080/"
        },
        "id": "t5tL9eZcrXMc",
        "outputId": "8c6ddea5-38a4-44b7-efd7-3c9cd166a831"
      },
      "execution_count": null,
      "outputs": [
        {
          "output_type": "stream",
          "name": "stdout",
          "text": [
            "1/1 [==============================] - 0s 28ms/step\n",
            "1/1 [==============================] - 0s 27ms/step\n",
            "1/1 [==============================] - 0s 27ms/step\n",
            "1/1 [==============================] - 0s 22ms/step\n",
            "1/1 [==============================] - 0s 22ms/step\n",
            "4/4 [==============================] - 1s 6ms/step\n"
          ]
        }
      ]
    },
    {
      "cell_type": "code",
      "source": [
        "p = []\n",
        "for x in all_pred:\n",
        "    p.append(float(x))"
      ],
      "metadata": {
        "id": "Ittq2yx7rgEN"
      },
      "execution_count": null,
      "outputs": []
    },
    {
      "cell_type": "code",
      "source": [
        "pred1 = p[0:28]\n",
        "pred2 = p[28:56]\n",
        "pred3 = p[56:84]\n",
        "pred4 = p[84:112]\n",
        "pred5 = p[112:140]"
      ],
      "metadata": {
        "id": "AeaOy98khGFu"
      },
      "execution_count": null,
      "outputs": []
    },
    {
      "cell_type": "code",
      "source": [
        "sub_1 = pd.read_csv(\"/content/drive/MyDrive/상추의 생육 환경 생성 AI 경진대회/sample_submission/TEST_01.csv\")\n",
        "sub_2 = pd.read_csv(\"/content/drive/MyDrive/상추의 생육 환경 생성 AI 경진대회/sample_submission/TEST_02.csv\")\n",
        "sub_3 = pd.read_csv(\"/content/drive/MyDrive/상추의 생육 환경 생성 AI 경진대회/sample_submission/TEST_03.csv\")\n",
        "sub_4 = pd.read_csv(\"/content/drive/MyDrive/상추의 생육 환경 생성 AI 경진대회/sample_submission/TEST_04.csv\")\n",
        "sub_5 = pd.read_csv(\"/content/drive/MyDrive/상추의 생육 환경 생성 AI 경진대회/sample_submission/TEST_05.csv\")"
      ],
      "metadata": {
        "id": "t4sBwvUNKSxq"
      },
      "execution_count": null,
      "outputs": []
    },
    {
      "cell_type": "code",
      "source": [
        "sub_1.loc[:, \"predicted_weight_g\"] = pred1\n",
        "sub_2.loc[:, \"predicted_weight_g\"] = pred2\n",
        "sub_3.loc[:, \"predicted_weight_g\"] = pred3\n",
        "sub_4.loc[:, \"predicted_weight_g\"] = pred4\n",
        "sub_5.loc[:, \"predicted_weight_g\"] = pred5"
      ],
      "metadata": {
        "id": "UJ-Bwr4LJkrM"
      },
      "execution_count": null,
      "outputs": []
    },
    {
      "cell_type": "code",
      "source": [
        "sub_1.to_csv(\"/content/drive/MyDrive/상추의 생육 환경 생성 AI 경진대회/submission4/TEST_01.csv\", index = False)\n",
        "sub_2.to_csv(\"/content/drive/MyDrive/상추의 생육 환경 생성 AI 경진대회/submission4/TEST_02.csv\", index = False)\n",
        "sub_3.to_csv(\"/content/drive/MyDrive/상추의 생육 환경 생성 AI 경진대회/submission4/TEST_03.csv\", index = False)\n",
        "sub_4.to_csv(\"/content/drive/MyDrive/상추의 생육 환경 생성 AI 경진대회/submission4/TEST_04.csv\", index = False)\n",
        "sub_5.to_csv(\"/content/drive/MyDrive/상추의 생육 환경 생성 AI 경진대회/submission4/TEST_05.csv\", index = False)"
      ],
      "metadata": {
        "id": "ZvuTzrKpJkoy"
      },
      "execution_count": null,
      "outputs": []
    },
    {
      "cell_type": "code",
      "source": [
        "import zipfile\n",
        "\n",
        "os.chdir(\"/content/drive/MyDrive/상추의 생육 환경 생성 AI 경진대회/submission4/\")\n",
        "\n",
        "file_ls = ['TEST_01.csv', 'TEST_02.csv', 'TEST_03.csv', 'TEST_04.csv', 'TEST_05.csv']\n",
        "\n",
        "with zipfile.ZipFile(\"submission_zip.zip\", 'w') as my_zip:\n",
        "    for i in file_ls:\n",
        "        my_zip.write(i)\n",
        "    my_zip.close()"
      ],
      "metadata": {
        "id": "FsZuLWeNQg8M"
      },
      "execution_count": null,
      "outputs": []
    },
    {
      "cell_type": "markdown",
      "source": [
        "# 방명록"
      ],
      "metadata": {
        "id": "3RqlMCthpuq0"
      }
    },
    {
      "cell_type": "markdown",
      "source": [
        "\n",
        "####12/5 5일차\n",
        "\n",
        "내가 지금까지 엄청나게 잘못생각한 것 같다. 생장률을 구하면 초기 무게를 구하지 못하고, 일당 면적을 구하려고 하면 성장에 대한 추이를 학습할 수 없다. (과대적합은 덤이다). <br>\n",
        "또, 데이터셋도 잘못 설정했다. 괜히 한칸씩 앞으로 땡겼다. \n",
        "\n",
        "내일은 LSTM과 CNN모델을 실험 해볼 예정이다. <br>\n",
        "LSTM은 데이터셋 모양을 다르게해보고 CNN은 2dconv로 데이터를 분석해보려고 한다. \n",
        "\n",
        "test데이터를 int타입으로 변환하는 대참사를 저질러서 엄청 헤맸는데, 내일 예측을 진행할떄는 예측이 잘 나오기를 바라는 바다.\n",
        "\n",
        "\n",
        "한가지 의문이 든다. lgbm으로 무게를 학습한 모델이 가장 성능이 좋은데, 완전히 전날의 X컬럼에만 의존하기 떄문에 전날 보다 무게가 적을 수도 있을 것 같다. (즉 성장률을 반영 못한다). 전날 대비 성장률과 예상 무게를 동시에 반영해서 예측하는 모델을 만들수는 없을까?\n",
        "\n",
        "\n",
        "- 데이터 셋에 DAT컬럼을 내가 추가하면 될 듯 하다!!!!! 내일 해보자. \n",
        "\n",
        "\n",
        "\n",
        "\n",
        "++ 초기 대비 성장률은 폐기했다."
      ],
      "metadata": {
        "id": "dDejYfMEgpK6"
      }
    },
    {
      "cell_type": "markdown",
      "source": [
        "#### 12/6 6일차\n",
        "\n",
        "~~어제 오류를 수정한 코드를 통해서 예측을 얻었다. 근데 제출할 때마다 에러가 뜬다... 으악~~\n",
        "\n",
        "다행히 제출에 성공했다!!! 42/474 등 이다.\n",
        "\n",
        "이제 모델을 좀 더 개선해보도록 하자.\n",
        "\n",
        "\n",
        "\n",
        "1. 일별 무게 증가량을 통해서 회귀를 진행한다.\n",
        "2. DAT 컬럼에 가중치를 두어서 학습을 진행해보자.\n",
        "3. 여러 모델을 스태킹해서 최종적인 모델을 만든다.\n",
        "\n",
        "++ Kfold 검증과 Grid_search를 사용해서 파라미터를 수정해보자.\n"
      ],
      "metadata": {
        "id": "SlBl6A_9gkxP"
      }
    },
    {
      "cell_type": "markdown",
      "source": [
        "#### 12/9 7일차\n",
        "\n",
        "일단, 컬럼에 가중치를 주는 모델은 불가능하다. 다시 생각해보니까 컬럼별 가중치는 말이 안되는 것 같다.. ㅋㅋㅋㅋ \n",
        "\n",
        "그래서 Grid search 모델을 만들어서 제출해보았는데, 성능이 낮게 나왔다. 내가 잘 알지는 못하지만 파라미터 수정으로 유의미한 순위 상승은 이끌어 낼 수 없을 것 같다. 다음 번에는 매일의 성장을 타겟으로 만들어 보자. \n",
        "\n",
        "++ 모델을 섞어서 예측 모델을 만들어도 될법 하다. "
      ],
      "metadata": {
        "id": "lH1nH56RMHuh"
      }
    },
    {
      "cell_type": "markdown",
      "source": [
        "#### 12/11 8일차\n",
        "매일의 성장을 타겟으로 만들었다. \n",
        "\n",
        "초기값을 예상하지 못하는 문제가 있는데... 그냥 초기값을 받고 2일차부터 성장률을 예측해도 될듯하다..!!\n",
        "\n",
        "k-fold 를 처음 적용했는데, 너무 내가 안일하게 생각하고있었다. 검증 RMSE가 굉장히 낮게 나온다. 이게 정상이다. \n",
        "\n",
        "내가 데이터 프레임으로 계속 학습을 시켰는데, numpy array로 학습시킬 때와 장단점이 있는 것 같다. 다음에는 잘 고민해서 해보자.\n",
        "\n",
        "모델 예측을 진행할 때 여러 모델로 학습을 진행하는게 좋을 것 같다. \n",
        "\n",
        "예를 들어서 \n",
        "\n",
        "초기 무게 예측은 stacked -> weight 모델로 <br>\n",
        "1 주차는 daily -> growth rate 모델로<br>\n",
        "2 주차는 ...<br>\n",
        "3 주차는 ...<br>\n",
        "4주차는 stacked -> weight 모델로<br>\n",
        "\n",
        "이런 식으로 말이다. \n",
        "\n",
        "9일차에는 각 모델이 어떤 시기를 예측하는게 효과적인지 살펴보겠다. \n",
        "\n",
        "각각 장단점이 있다. \n",
        "\n",
        "growth rate 예측 모델을 시간이 지날수록 오차가 너무 커지는 경향이 있고, <br>\n",
        "weight 예측 모델은 너무 윤곽적으로 예측한다. \n",
        "\n",
        "growth weigh 모델은 위 두가지 모델의 장단점을 모두 적당히 수용한 경향이 있다. \n",
        "\n"
      ],
      "metadata": {
        "id": "JxEehCtTghyG"
      }
    },
    {
      "cell_type": "markdown",
      "source": [
        "#### 12/12 9일차\n",
        "\n",
        "각 모델의 최적 예측 지점을 찾았다. 이를 통해서 최종모델은 모델을 구간별로 쪼개서 최적의 모델로 구성할 예정이다.\n",
        "\n"
      ],
      "metadata": {
        "id": "mWZfFyuLjri9"
      }
    },
    {
      "cell_type": "markdown",
      "source": [
        "#### 12/13 10일차\n",
        "어제 구한 최적 예측지점을 기반으로 구간을 점점 늘려가나면서 모델 테스트를 진행했다. \n",
        "\n",
        "나는 이렇게 모델을 만들면 상당한 모델 성능 개선이 이루어 질 거라 생각했는데, 거의 이루어 지지 않았다. 일단 내 가정은 이렇다\n",
        "\n",
        "1. tree기반 모델에서는 stacked 데이터와 daily 데이터의 큰 차이가 없다. <br>\n",
        "내가 실수로 stacked데이터를 학습한 모델에 daily 데이터로 예측시켰는데 오히려 성능이 향상 됐다.<br>\n",
        " 내가 넣은 데이터는 stacked 데이터와 daily데이터의 차이가 굉장히 큰 후반부 데이터 였는데 불구하고 이런 결과가 나온걸 보면 트리기반 모델에서는 데이터의 대소는 큰 상관이 없는 듯 하다.\n",
        "\n",
        "\n",
        "\n",
        "2. tree기반 모델은 정규화의 영향을 딱히 받지 않는다. 위의 결론에서 이어지는 말인데, tree기반 모델에서 큰 의미는 없는 듯 하다. \n",
        "\n",
        "일단 대회는 6일이 남았다. 오늘 모델성능을 극적으로 올릴 수 있을 줄 알았는데 그렇지 못해 아쉽다. 모델의 원리를 이해하고 진행하는게 아니다 보니까, 더 효율적인 모델을 고르는 것과, 데이터와 모델 학습/예측 사이의 면밀한 이해가 부족하다. \n",
        "\n",
        "내일 일단 그나마 성능이 좋은 모델로 제출을 하자. \n",
        "\n",
        "그리고 LSTM모델로 예측도 진행해보자. (input 데이터에 따른 output 데이터의 의미를 잘 이해해지 못했었는데, 좋은 예제를 찾았다.\n",
        "\n",
        "[링크](https://sosoeasy.tistory.com/404\n",
        ")"
      ],
      "metadata": {
        "id": "ILoCizVkKbe_"
      }
    },
    {
      "cell_type": "markdown",
      "source": [
        "#### 12/14\\~12/15 11일차~12일차\n",
        "\n",
        "위 링크의 도움을 받아 RNN에 대한 이해를 하고 LSTM으로 모델을 만들어서 약 7일 만에 모델 성능을 상승시켰다. 초기 5일차 무게는 어차피 rmse가 적었던 lgbm 모델로 예측을 하고, 그 이후의 예측은 LSTM 모델로 만들었다. \n",
        "\n",
        "현재는 42/560 등까지 올라간 상태이다. 오랜만에 모델 성능이 올라서 매우 뿌듯하다. "
      ],
      "metadata": {
        "id": "n90PkrO54kSh"
      }
    },
    {
      "cell_type": "markdown",
      "source": [
        "#### 12/16 13일차 \n",
        "\n",
        "lstm 모델을 더 실험했다. 과대적합을 막기 위해서 dropout층을 추가하고 학습률 스케줄링을 사용했다. \n",
        "\n",
        "순위가 올랐다. 32/580등이다. 제출한 사람 중에서만 봐도 32/123 이다. 신난다. \n",
        "\n",
        "앞 5일차를 DNN을 사용해서 학습해봤는데 오히려 점수는 떨어졌다. 음... 이번 경진대회는 여기 까지 하게 될듯 하다. \n",
        "\n",
        "최근 두번의 경진대회를 하면서 내 실력도 많이 상승하고 코딩과 더 친해진 느낌이 든다. 하지만 경진대회만 하다보니 실력이 정체된 부분도 있는 듯 하다. \n",
        "\n",
        "앞으로 머신러닝 공부도 하고, 자바스크립트, sql 공부도 할 것이다.\n",
        "\n",
        "머신러닝은 비지도 학습과 오토인코더, 강화학습(솔직히 얘네 둘은 내 단계에서는 사용할 일이 없어서 안할 것 같다) 공부를 하고  <br>\n",
        "자바스크립트와 SQL 공부를 진행할 해야겠다. \n",
        "\n",
        "최근에 인스타그램 스토리에 진저호텔이라는 컨텐츠가 뜨던데, 나도 그런 컨텐츠를 만들어보고 싶다. javascript를 사용해서 프론트엔드, 백엔드에 대한 이해를 넓히고 싶다. (django도 된다면 배우고 싶다).\n",
        "\n",
        "SQL은 내년의 학부생활에 대한 예습과 데이터베이스에 대한 이해를 가지고 싶은 욕심(?)이다.\n",
        "\n",
        "암튼 대략 13일 동안 매달린 프로젝트의 성적이 꽤나 나쁘지 않은 것 같아서 기분이 좋다. 사실 제출한 사람중에서는 높지 않지만 32등이라는 숫자가 기분이 좋은 것 같다. 암튼 수고했구리~~~"
      ],
      "metadata": {
        "id": "_95RPd5xXbex"
      }
    },
    {
      "cell_type": "code",
      "source": [],
      "metadata": {
        "id": "nOcIoh0VYCKo"
      },
      "execution_count": null,
      "outputs": []
    }
  ]
}