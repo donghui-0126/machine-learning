{
 "cells": [
  {
   "cell_type": "markdown",
   "id": "3859b3f4",
   "metadata": {},
   "source": [
    "호우! 재미없던 공부에서 도망쳐서 다시 여기로 왔다."
   ]
  },
  {
   "cell_type": "markdown",
   "id": "5c07a0de",
   "metadata": {},
   "source": [
    "대체 뭘 공부를 해야할 지 모르겠다. \n",
    "\n",
    "일단 첫 목표를 데이콘 대회를 해보는 것이다. 지금 당장이라도 할 수 있긴 한데, 할 수 있는 방법론이 몇가지 없다. \n",
    "\n",
    "데이터 전처리 후 선형회귀.. 이정도??? 물론 데이터 전처리가 중요한 건 알지만 잘 모르겠다... \n",
    "\n",
    "그래서 그냥 딥러닝 기법을 더 공부해 보려고 한다. 딥러닝 기법을 좀 더 배워보고싶다.\n",
    "\n",
    "\n",
    "-----\n",
    "\n",
    "내가 해둔 미니프로젝트를 더 완벽하게 다듬고 싶은 마음도 있는데, 이거를 더 해야할지 아니면 더 공부를 할지 잘 모르겠는 막연한 생각이 있다. 자바스크립트와 Django공부는 12~1월 SQL공부는 내년 2월에 해보는걸 목표로 하고 딥러닝 공부에 매진해보자."
   ]
  },
  {
   "cell_type": "code",
   "execution_count": 73,
   "id": "52c7e375",
   "metadata": {},
   "outputs": [],
   "source": [
    "import tensorflow as tf"
   ]
  },
  {
   "cell_type": "code",
   "execution_count": 4,
   "id": "87cf535c",
   "metadata": {},
   "outputs": [
    {
     "data": {
      "text/plain": [
       "<tf.Tensor: shape=(2, 3), dtype=float32, numpy=\n",
       "array([[1., 2., 3.],\n",
       "       [4., 5., 6.]], dtype=float32)>"
      ]
     },
     "execution_count": 4,
     "metadata": {},
     "output_type": "execute_result"
    }
   ],
   "source": [
    "tf.constant([[1.,2.,3.],[4.,5.,6.]])"
   ]
  },
  {
   "cell_type": "code",
   "execution_count": 6,
   "id": "728c622e",
   "metadata": {},
   "outputs": [
    {
     "data": {
      "text/plain": [
       "<tf.Tensor: shape=(), dtype=float32, numpy=42.0>"
      ]
     },
     "execution_count": 6,
     "metadata": {},
     "output_type": "execute_result"
    }
   ],
   "source": [
    "tf.constant(42.)"
   ]
  },
  {
   "cell_type": "code",
   "execution_count": 8,
   "id": "27ace0ce",
   "metadata": {},
   "outputs": [
    {
     "data": {
      "text/plain": [
       "TensorShape([2, 3])"
      ]
     },
     "execution_count": 8,
     "metadata": {},
     "output_type": "execute_result"
    }
   ],
   "source": [
    "t = tf.constant([[1.,2.,3.],[4.,5.,6.]])\n",
    "t.shape"
   ]
  },
  {
   "cell_type": "code",
   "execution_count": 9,
   "id": "b929484e",
   "metadata": {},
   "outputs": [
    {
     "data": {
      "text/plain": [
       "tf.float32"
      ]
     },
     "execution_count": 9,
     "metadata": {},
     "output_type": "execute_result"
    }
   ],
   "source": [
    "t.dtype"
   ]
  },
  {
   "cell_type": "code",
   "execution_count": 10,
   "id": "2d4b4bc7",
   "metadata": {},
   "outputs": [
    {
     "data": {
      "text/plain": [
       "<tf.Tensor: shape=(2, 2), dtype=float32, numpy=\n",
       "array([[2., 3.],\n",
       "       [5., 6.]], dtype=float32)>"
      ]
     },
     "execution_count": 10,
     "metadata": {},
     "output_type": "execute_result"
    }
   ],
   "source": [
    "t[:,1:]"
   ]
  },
  {
   "cell_type": "code",
   "execution_count": 14,
   "id": "3ac4e9d6",
   "metadata": {},
   "outputs": [
    {
     "data": {
      "text/plain": [
       "<tf.Tensor: shape=(2, 1), dtype=float32, numpy=\n",
       "array([[2.],\n",
       "       [5.]], dtype=float32)>"
      ]
     },
     "execution_count": 14,
     "metadata": {},
     "output_type": "execute_result"
    }
   ],
   "source": [
    "t[:,1,tf.newaxis]"
   ]
  },
  {
   "cell_type": "code",
   "execution_count": 15,
   "id": "8e37747b",
   "metadata": {},
   "outputs": [
    {
     "data": {
      "text/plain": [
       "<tf.Tensor: shape=(2, 3), dtype=float32, numpy=\n",
       "array([[11., 12., 13.],\n",
       "       [14., 15., 16.]], dtype=float32)>"
      ]
     },
     "execution_count": 15,
     "metadata": {},
     "output_type": "execute_result"
    }
   ],
   "source": [
    "t+10"
   ]
  },
  {
   "cell_type": "code",
   "execution_count": 16,
   "id": "fe80fa8b",
   "metadata": {},
   "outputs": [
    {
     "data": {
      "text/plain": [
       "<tf.Tensor: shape=(2, 3), dtype=float32, numpy=\n",
       "array([[ 1.,  4.,  9.],\n",
       "       [16., 25., 36.]], dtype=float32)>"
      ]
     },
     "execution_count": 16,
     "metadata": {},
     "output_type": "execute_result"
    }
   ],
   "source": [
    "tf.square(t)"
   ]
  },
  {
   "cell_type": "code",
   "execution_count": 19,
   "id": "cf1060e5",
   "metadata": {},
   "outputs": [
    {
     "data": {
      "text/plain": [
       "<tf.Tensor: shape=(2, 2), dtype=float32, numpy=\n",
       "array([[14., 32.],\n",
       "       [32., 77.]], dtype=float32)>"
      ]
     },
     "execution_count": 19,
     "metadata": {},
     "output_type": "execute_result"
    }
   ],
   "source": [
    "# 행렬 곱셈\n",
    "t @ tf.transpose(t)"
   ]
  },
  {
   "cell_type": "code",
   "execution_count": 26,
   "id": "32cc3370",
   "metadata": {},
   "outputs": [
    {
     "data": {
      "text/plain": [
       "<tf.Tensor: shape=(3,), dtype=float32, numpy=array([2.5, 3.5, 4.5], dtype=float32)>"
      ]
     },
     "execution_count": 26,
     "metadata": {},
     "output_type": "execute_result"
    }
   ],
   "source": [
    "# 행렬 평균 axis=0은 열 평균 axis=1 은 행 평균\n",
    "tf.reduce_mean(t, axis=0)"
   ]
  },
  {
   "cell_type": "markdown",
   "id": "da124c6d",
   "metadata": {},
   "source": [
    "> tf.reduce_sum()\n",
    "\n",
    ">tf.reduce_max()\n",
    "\n",
    "> tf.reduce_log()"
   ]
  },
  {
   "cell_type": "code",
   "execution_count": 28,
   "id": "6993b1da",
   "metadata": {},
   "outputs": [
    {
     "data": {
      "text/plain": [
       "<tf.Tensor: shape=(3,), dtype=float32, numpy=array([2., 3., 4.], dtype=float32)>"
      ]
     },
     "execution_count": 28,
     "metadata": {},
     "output_type": "execute_result"
    }
   ],
   "source": [
    "import numpy as np\n",
    "\n",
    "a= np.array([2.,3.,4.])\n",
    "\n",
    "tf.constant(a, dtype=tf.float32)"
   ]
  },
  {
   "cell_type": "markdown",
   "id": "a0901e1e",
   "metadata": {},
   "source": [
    "<b> array -> tensor 변환에서는 타입을 float32로 바꾸어주는게 좋다. </b>\n",
    "    \n",
    "<b> 또한 tensorflow에서는 어떠한 타입변환도 자동으로 해주지 않는다.</b> \n",
    "    \n",
    "> tf.cast(t, dtype=float32)\n",
    "\n",
    "위 코드로 타입변환을 하면 된다."
   ]
  },
  {
   "cell_type": "markdown",
   "id": "eb1b378b",
   "metadata": {},
   "source": [
    "# 변수"
   ]
  },
  {
   "cell_type": "code",
   "execution_count": 30,
   "id": "cbfb41d6",
   "metadata": {},
   "outputs": [
    {
     "data": {
      "text/plain": [
       "<tf.Variable 'Variable:0' shape=(2, 3) dtype=float32, numpy=\n",
       "array([[1., 2., 3.],\n",
       "       [4., 5., 6.]], dtype=float32)>"
      ]
     },
     "execution_count": 30,
     "metadata": {},
     "output_type": "execute_result"
    }
   ],
   "source": [
    "v = tf.Variable([[1.,2.,3.], [4.,5.,6.]])\n",
    "\n",
    "v"
   ]
  },
  {
   "cell_type": "code",
   "execution_count": 31,
   "id": "780369b8",
   "metadata": {},
   "outputs": [
    {
     "data": {
      "text/plain": [
       "<tf.Variable 'UnreadVariable' shape=(2, 3) dtype=float32, numpy=\n",
       "array([[ 2.,  4.,  6.],\n",
       "       [ 8., 10., 12.]], dtype=float32)>"
      ]
     },
     "execution_count": 31,
     "metadata": {},
     "output_type": "execute_result"
    }
   ],
   "source": [
    "v.assign(2*v)"
   ]
  },
  {
   "cell_type": "code",
   "execution_count": 32,
   "id": "7aee095d",
   "metadata": {},
   "outputs": [
    {
     "data": {
      "text/plain": [
       "<tf.Variable 'UnreadVariable' shape=(2, 3) dtype=float32, numpy=\n",
       "array([[ 2., 42.,  6.],\n",
       "       [ 8., 10., 12.]], dtype=float32)>"
      ]
     },
     "execution_count": 32,
     "metadata": {},
     "output_type": "execute_result"
    }
   ],
   "source": [
    "v[0,1].assign(42)"
   ]
  },
  {
   "cell_type": "code",
   "execution_count": 37,
   "id": "ef7fa79f",
   "metadata": {},
   "outputs": [
    {
     "data": {
      "text/plain": [
       "<tf.Variable 'UnreadVariable' shape=(2, 3) dtype=float32, numpy=\n",
       "array([[ 2., 42.,  0.],\n",
       "       [ 8., 10.,  2.]], dtype=float32)>"
      ]
     },
     "execution_count": 37,
     "metadata": {},
     "output_type": "execute_result"
    }
   ],
   "source": [
    "v[:,2].assign([0.,2.])"
   ]
  },
  {
   "cell_type": "code",
   "execution_count": 39,
   "id": "f7e2a645",
   "metadata": {},
   "outputs": [
    {
     "data": {
      "text/plain": [
       "<tf.Variable 'UnreadVariable' shape=(2, 3) dtype=float32, numpy=\n",
       "array([[100.,  42.,   0.],\n",
       "       [  8.,  10., 200.]], dtype=float32)>"
      ]
     },
     "execution_count": 39,
     "metadata": {},
     "output_type": "execute_result"
    }
   ],
   "source": [
    "v.scatter_nd_update(indices=[[0,0],[1,2]], updates=[100.,200.])"
   ]
  },
  {
   "cell_type": "markdown",
   "id": "d7418bda",
   "metadata": {},
   "source": [
    "# 사용자 정의 모델과 훈련 알고리즘"
   ]
  },
  {
   "cell_type": "code",
   "execution_count": 117,
   "id": "218cc573",
   "metadata": {},
   "outputs": [],
   "source": [
    "from sklearn.datasets import fetch_california_housing\n",
    "from sklearn.model_selection import train_test_split\n",
    "from sklearn.preprocessing import StandardScaler\n",
    "\n",
    "housing = fetch_california_housing()\n",
    "X_train_full, X_test, y_train_full, y_test = train_test_split(\n",
    "    housing.data, housing.target.reshape(-1, 1), random_state=42)\n",
    "X_train, X_valid, y_train, y_valid = train_test_split(\n",
    "    X_train_full, y_train_full, random_state=42)\n",
    "\n",
    "scaler = StandardScaler()\n",
    "X_train_scaled = scaler.fit_transform(X_train)\n",
    "X_valid_scaled = scaler.transform(X_valid)\n",
    "X_test_scaled = scaler.transform(X_test)"
   ]
  },
  {
   "attachments": {
    "image.png": {
     "image/png": "[encoded data removed]"
    }
   },
   "cell_type": "markdown",
   "id": "e9bdc725",
   "metadata": {},
   "source": [
    "손실함수를 직접 구현해보기\n",
    "\n",
    "만약 데이터에 이상치가 많을 때 평군 제곱오차는 너무 과한 벌칙을 가하기 때문에 정확하지 않은 모델이 만들어지고 평균 절대값 오차는 이상치에 관대해서 훈련이 너무 오래걸린다. \n",
    "\n",
    "이럴 때 후버손실을 사용하면 좋다.\n",
    "\n",
    "후버손실은 오차가 1보다 작다면 제곱후에 2를 나누어 주고 오차가 1보다 크다면 0.5를 빼서 손실을 구하는 함수이다.\n",
    "\n",
    "![image.png](attachment:image.png)"
   ]
  },
  {
   "cell_type": "code",
   "execution_count": 118,
   "id": "94561e5c",
   "metadata": {},
   "outputs": [],
   "source": [
    "def huber_fn(y_true, y_pred):\n",
    "    error = y_true - y_pred\n",
    "    is_small_error = tf.abs(error) < 1\n",
    "    squared_loss = tf.abs(error) / 2\n",
    "    linear_loss =  tf.abs(error) - 0.5\n",
    "    return tf.where(is_small_error, squared_loss, linear_loss)"
   ]
  },
  {
   "cell_type": "raw",
   "id": "e13f4b22",
   "metadata": {},
   "source": [
    "model.compile(loss=huber_fn, optimizer=\"nadam\")\n",
    "model.fit(X, y)"
   ]
  },
  {
   "cell_type": "markdown",
   "id": "baed0dd1",
   "metadata": {},
   "source": [
    "사용자 정의 함수를 사용할 때 모델을 저장할 때는 아무런 문제가 생기지 않는다. 하지만 모델을 로드할 때는 그 이름과 객체를 매핑해야한다. "
   ]
  },
  {
   "cell_type": "markdown",
   "id": "2b987b67",
   "metadata": {},
   "source": [
    "> model = keras.models.load_model(\".....h5\", custum_objects={\"huber_fn\", huber_fn})\n",
    "\n",
    "위와 같이 모델을 로드해야한다."
   ]
  },
  {
   "cell_type": "markdown",
   "id": "a60a094d",
   "metadata": {},
   "source": [
    "huber_fn은 1을 기준으로 작은 손실과 큰 손실을 구분한다. 이번에는 사용자가 경계도 지정하는 함수를 만들어보겠다."
   ]
  },
  {
   "cell_type": "code",
   "execution_count": 119,
   "id": "c62c0d85",
   "metadata": {},
   "outputs": [],
   "source": [
    "def create_huber(threshold=1.0):\n",
    "    def huber_fn(y_true, y_pred):\n",
    "        error = y_true - y_pred\n",
    "        is_small_error = tf.abs(error) < threshold\n",
    "        squared_loss = tf.abs(error) / 2\n",
    "        linear_loss =  tf.abs(error) - 0.5\n",
    "        return tf.where(is_small_error, squared_loss, linear_loss)\n",
    "    return huber_fn"
   ]
  },
  {
   "cell_type": "markdown",
   "id": "4ae261bb",
   "metadata": {},
   "source": [
    "> model.compile(loss=create_huber(2.0), optimizer=\"nadam\")\n",
    "\n",
    "위와 같이 모델을 컴파일 한다.\n",
    " \n",
    "하지만 아쉽게도 threshold값을 저장하진 않는다. 따라서 모델을 로드할 때 threshold 값을 지정해야한다. \n",
    "\n",
    "> model =  keras.models.load_model(\".....h5\", custum_objects={\"huber_fn\", create_huber(2.0)})"
   ]
  },
  {
   "cell_type": "markdown",
   "id": "d05d1990",
   "metadata": {},
   "source": [
    "이 문제는 keras.losses.Loss 클래스를 상속하고 get_config() 메서드를 구현하여 해결할 수 있다.\n",
    "\n",
    "model.get_config()를 사용하면 initiate 할 때 쓴 configuration을 딕셔너리로 반환해준다.\n",
    "\n",
    "\n",
    "https://velog.io/@moondeokjong/TF-model.getconfig"
   ]
  },
  {
   "cell_type": "code",
   "execution_count": 120,
   "id": "7eeea14f",
   "metadata": {},
   "outputs": [],
   "source": [
    "from tensorflow import keras\n",
    "\n",
    "\n",
    "class HuberLoss(keras.losses.Loss):\n",
    "    # threshold와 **kwargs 받아서 상위 클래스에 전달해준다.\n",
    "    def __init__(self, threshold=1.0, **kwargs):\n",
    "        self.threshold= threshold\n",
    "        super().__init__(**kwargs)\n",
    "    def call(self, y_true, y_pred):\n",
    "        error = y_true - y_pred\n",
    "        is_small_error = tf.abs(error) < threshold\n",
    "        squared_loss = tf.abs(error) / 2\n",
    "        linear_loss =  tf.abs(error) - 0.5\n",
    "        return tf.where(is_small_error, squared_loss, linear_loss)\n",
    "    def get_config(self):\n",
    "        base_config = super().get_config()\n",
    "        # base_config를 통해서 딕셔너리로 받은 인자들과 threshold를 딕셔너리로 리턴해준다.\n",
    "        return {**base_config, \"threshold\":threshold}"
   ]
  },
  {
   "cell_type": "markdown",
   "id": "f163310f",
   "metadata": {},
   "source": [
    "> model.compile(loss=HuberLoss(2.), optimizer=\"nadam\")\n",
    "\n",
    "이 모델을 저장할 때 임곗값도 함께 저장된다. \n",
    "\n",
    "모델을 로드할 때는 아래와 같이 로드하면 된다.\n",
    "\n",
    "> model = keras.models.load_model(\"OOO.h5\", custom_objects= {\"HuberLoss\":HuberLoss})"
   ]
  },
  {
   "cell_type": "markdown",
   "id": "4e098279",
   "metadata": {},
   "source": [
    "# 사용자 지정 활성화 함수, 초기화, 규제, 제한을 커스터마이징"
   ]
  },
  {
   "cell_type": "code",
   "execution_count": 121,
   "id": "6f9fe4a5",
   "metadata": {},
   "outputs": [],
   "source": [
    "# tf.nn.softplus 와 동일함\n",
    "def my_softplus(z):\n",
    "    return th.math.log(tf.exp(z) + 1.0)\n",
    "\n",
    "# keras.initializers.glorot_normal()과 동일함\n",
    "def my_glorot_initializer(shape, dtype=tf.float32):\n",
    "    stddev = tf.sqrt(2. / (shape[0] + shape[1]))\n",
    "    return tf.random.normal(shape, stddev=stddev, dtype=dtype)\n",
    "\n",
    "# keras.regularuzers.l1(0.01)과 동일함\n",
    "def my_l1_regularizer(weights):\n",
    "    return tf.reduce_sum(tf.abs(0.01 * weights))\n",
    "\n",
    "# tf.nn.relu과 동일함\n",
    "def my_positive_weights(weights):\n",
    "    return tf.where(weights<0, tf.zeros_like(weights), weights)"
   ]
  },
  {
   "cell_type": "code",
   "execution_count": 122,
   "id": "2952f0db",
   "metadata": {},
   "outputs": [],
   "source": [
    "layer = keras.layers.Dense(30, activation=my_softplus,\n",
    "                          kernel_initializer=my_glorot_initializer,\n",
    "                          kernel_regularizer=my_l1_regularizer,\n",
    "                          kernel_constraint=my_positive_weights)"
   ]
  },
  {
   "cell_type": "markdown",
   "id": "f77f15c5",
   "metadata": {},
   "source": [
    "전과 같이 저장해야할 하이퍼 파라미터가 있다면 class를 작성하면 된다."
   ]
  },
  {
   "cell_type": "code",
   "execution_count": 123,
   "id": "2321832e",
   "metadata": {},
   "outputs": [],
   "source": [
    "class myL1Regularizer(keras.regularizers.Regularizer):\n",
    "    def __init__(self, factor):\n",
    "        self.factor = factor\n",
    "    def __call__(self,weights):\n",
    "        return tf.reduce_sum(tf.abs(factor * weights))\n",
    "    def get_config(self):\n",
    "        return {\"factor\": self.factor}\n",
    "    "
   ]
  },
  {
   "cell_type": "markdown",
   "id": "0d612437",
   "metadata": {},
   "source": [
    "## 사용자 정의 지표"
   ]
  },
  {
   "cell_type": "markdown",
   "id": "1c0df25c",
   "metadata": {},
   "source": [
    "손실과 지표는 개념적으로 다른게 아니다. 손실ㄹ은 모델을 훈련하기 위해 경사 하강법에서 사용하므로 사람이 쉽게 이해할 수 없어도 괜찮다. 후버손실을 지표로 사용할 수도 있다. 반면 지표는 모델을 평가할 때 사용한다. 즉, 사람이 더 쉽게 이해할 수 있어야한다. \n",
    "\n",
    "\n",
    "훈련하는 동안 각 배치에 대해 케라스는 지표를 계산하고 에포크가 시작할 때부터 평균을 기록한다. 이 방식이 대부분의 요구사항에 맞는다. 하지만 항상 그렇지는 않다. 예를 들어 이진분류기의 정밀도를 생각해보자. 정밀도가 80%, 30% 나왔다고 해서 평균이 꼭 55%가 되는 건 아니다. 즉, 실시간으로 모델이 예측한 값을 저장해 주어야한다. 이를 스트리밍 지표라고 한다. "
   ]
  },
  {
   "cell_type": "markdown",
   "id": "ee4b8588",
   "metadata": {},
   "source": [
    "케라스에서는 keras.metrics.Precision이 이런 작업을 진행해준다."
   ]
  },
  {
   "cell_type": "code",
   "execution_count": 124,
   "id": "66d1918e",
   "metadata": {},
   "outputs": [
    {
     "data": {
      "text/plain": [
       "<tf.Tensor: shape=(), dtype=float32, numpy=0.8>"
      ]
     },
     "execution_count": 124,
     "metadata": {},
     "output_type": "execute_result"
    }
   ],
   "source": [
    "precision = keras.metrics.Precision()\n",
    "\n",
    "precision([0,1,1,1,0,1,0,1], [1,1,0,1,0,1,0,1])"
   ]
  },
  {
   "cell_type": "code",
   "execution_count": 125,
   "id": "1cd0cedf",
   "metadata": {},
   "outputs": [
    {
     "data": {
      "text/plain": [
       "<tf.Tensor: shape=(), dtype=float32, numpy=0.5>"
      ]
     },
     "execution_count": 125,
     "metadata": {},
     "output_type": "execute_result"
    }
   ],
   "source": [
    "# 아래의 정밀도만 따지면 0% 이지만, 80% 와 0% 의 평균이 40%가 아닌 50%를 출력해준다.\n",
    "precision([0,1,0,0,1,0,1,1], [1,0,1,1,0,0,0,0])"
   ]
  },
  {
   "cell_type": "markdown",
   "id": "98d2f15a",
   "metadata": {},
   "source": [
    "위와 같이 스트리밍 지표를 수행해준다."
   ]
  },
  {
   "cell_type": "markdown",
   "id": "1e6d61bd",
   "metadata": {},
   "source": [
    "이 지점에서 result() 메서드를 호출하여 현재 지춋값을 얻을 수 있다. 또 variables 속성을 사용하여 (진짜 양성과 거짓 양성을 기록한) 변수를 확인할 수도 있다. reset_states()메서드를 사용해 이 변수를 초기화할 수 있다."
   ]
  },
  {
   "cell_type": "code",
   "execution_count": 126,
   "id": "8d3a8d29",
   "metadata": {},
   "outputs": [
    {
     "data": {
      "text/plain": [
       "<tf.Tensor: shape=(), dtype=float32, numpy=0.5>"
      ]
     },
     "execution_count": 126,
     "metadata": {},
     "output_type": "execute_result"
    }
   ],
   "source": [
    "precision.result()"
   ]
  },
  {
   "cell_type": "code",
   "execution_count": 127,
   "id": "b21ed1a8",
   "metadata": {},
   "outputs": [
    {
     "data": {
      "text/plain": [
       "[<tf.Variable 'true_positives:0' shape=(1,) dtype=float32, numpy=array([4.], dtype=float32)>,\n",
       " <tf.Variable 'false_positives:0' shape=(1,) dtype=float32, numpy=array([4.], dtype=float32)>]"
      ]
     },
     "execution_count": 127,
     "metadata": {},
     "output_type": "execute_result"
    }
   ],
   "source": [
    "precision.variables"
   ]
  },
  {
   "cell_type": "code",
   "execution_count": 128,
   "id": "48bbe531",
   "metadata": {},
   "outputs": [
    {
     "data": {
      "text/plain": [
       "<tf.Tensor: shape=(), dtype=float32, numpy=0.0>"
      ]
     },
     "execution_count": 128,
     "metadata": {},
     "output_type": "execute_result"
    }
   ],
   "source": [
    "precision.reset_states()\n",
    "precision.result()"
   ]
  },
  {
   "cell_type": "markdown",
   "id": "35472720",
   "metadata": {},
   "source": [
    "이런 스트리밍 지표를 만들고 싶다면 keras.metrics.Metric 클래스를 상속한다. 다음 예는 전체 후버 손실과 지금까지 처리한 샘플수를 기록하는 클래스이다. 결괏값을 요청하면 평균 후버 손실이 반환된다."
   ]
  },
  {
   "cell_type": "code",
   "execution_count": 129,
   "id": "11fbbd85",
   "metadata": {},
   "outputs": [],
   "source": [
    "class HuberMetric(keras.metrics.Metric):\n",
    "    def __init__(self, threshold=1.0, **kwargs):\n",
    "        super().__init__(**kwargs)\n",
    "        self.threshold = threshold\n",
    "        self.huber_fn = create_huber(threshold)\n",
    "        # add_weight 를 통해서 변수생성을 대신해주는 것이다. 즉, 변수를 생성해준다.  \n",
    "        self.total = self.add_weight('total', initializer=\"zeros\")\n",
    "        self.count = self.add_weight('count', initializer=\"zeros\")\n",
    "    \n",
    "    # update_state 메서드는 이 클래스를 함수처럼 사용할 때 호출된다.(Precision객체에서 했던것 처럼)\n",
    "    def update_state(self, y_true, y_pred, sample_weight= None):\n",
    "        metric = self.huber_fn(y_true, y_pred)\n",
    "        # total변수에 후버손실 총합을 저장한다.\n",
    "        self.total.assign_add(tf.reduce_sum(metric))\n",
    "        # count변수를 예측한 횟구로 업데이트한다. \n",
    "        self.count.assign_add(tf.cast(tf.size(y_true), tf.float32))\n",
    "    # result 메서드는 최종 결과를 계산하고 반환한다.\n",
    "    # 이 지표 클래스를 함수처럼 사용하면 먼저 update_state()메서드가 호출되고 result()메서드가 호출된다\n",
    "    def result(self):\n",
    "        return self.total / self.count\n",
    "    # threshold 변수를 저장한다.\n",
    "    def get_config(self):\n",
    "        base_config = super().get_config()\n",
    "        return {**base_config, \"threshold\":self.threshold}"
   ]
  },
  {
   "cell_type": "markdown",
   "id": "bd385e34",
   "metadata": {},
   "source": [
    "HuberMetric 클래스를 정의하는 유일한 이점은 threshold를 저장하는 것이다. \n",
    "\n",
    "물론 정밀도와 같이 어떤 지표는 배치에 걸쳐서 단순히 평균을 낼 수 없는 경수도 있다. 그럴 때는 스트리밍 지표를 구현하는 것이 최선일 것이다."
   ]
  },
  {
   "cell_type": "markdown",
   "id": "aa25fcab",
   "metadata": {},
   "source": [
    "<b> 이 클래스는 예시를 위해 만든 것이다. keras.metrics.Mean 클래스를 상속하는 것이 간단하고 더 좋은 구현이다."
   ]
  },
  {
   "cell_type": "markdown",
   "id": "bbc95998",
   "metadata": {},
   "source": [
    "# 사용자 정의 층"
   ]
  },
  {
   "cell_type": "markdown",
   "id": "18fb309a",
   "metadata": {},
   "source": [
    "만약 A B C A B C A B C 층으로 구성된 모델을 만들고 싶다면 A B C 층을 상용자 정의 층 D로 정의 하고 D D D 층으로 구성된 모델로 만드는 것이 편리하다. "
   ]
  },
  {
   "cell_type": "markdown",
   "id": "872392c6",
   "metadata": {},
   "source": [
    "----------\n",
    "먼저 keras.layers.Flatten나 keras.layers.ReLU와 같은 층은 가중치가 없다. 가중치가 필요없는 사용자 정의 층을 만들기 위한 가장 간단한 방법은 파이썬 함수를 만든 후 keras.layers.Lambda층으로 감싸는 것이다. 예를 들면 입력에 지수함수를 적용하는 층이다."
   ]
  },
  {
   "cell_type": "code",
   "execution_count": 130,
   "id": "ac5ae4b1",
   "metadata": {},
   "outputs": [],
   "source": [
    "exponential_layer = keras.layers.Lambda(lambda x: tf.exp(x))"
   ]
  },
  {
   "cell_type": "markdown",
   "id": "3af6a5e9",
   "metadata": {},
   "source": [
    "위 사용자 정의 층을 시퀀셜 API나 함수형 API, 서브클래싱 API에서 보통의 층과 동일하게 사용할 수 있습니다.\n",
    "\n",
    "지수함수는 이따금 회귀모델에서 예측값의 스케일이 매우 다를 때 출력층에 사용된다."
   ]
  },
  {
   "cell_type": "markdown",
   "id": "783fbc5b",
   "metadata": {},
   "source": [
    "가중치를 가진 층을 만드려면 keras.layers.Layer을 상속해야한다."
   ]
  },
  {
   "cell_type": "code",
   "execution_count": 131,
   "id": "d44f0f02",
   "metadata": {},
   "outputs": [],
   "source": [
    "class MyDense(keras.layers.Layer):\n",
    "    # 부모 생성자에 포함된 매개변수들을 포함해서 모든 하이퍼파라미터를 매개변수를 받습니다.\n",
    "    # activation 매개변수를 ksras.activation.get() 함수(이 함수는 함수객체나 \"relu\", \"self\", None와 같은 문자열을 받는다)를 \n",
    "    # 사용해 적절한 활성화 함수로 바꾼다.\n",
    "    def __init__(self, units, activation=None, **kwargs):\n",
    "        super().__init__(**kwargs)\n",
    "        self.units = units\n",
    "        self.activation = keras.activations.get(activation)\n",
    "    \n",
    "    # build() 메서드의 역할은 가중치마다 add_weight() 메서드를 호출하여 층의 변수를 만드는 것이다. \n",
    "    # build() 메서드는 층이 처음 사용될 때 호출된다.\n",
    "    # 이 시점이 되면 케라스가 층의 입력크기를 알고 있을 것이므로 build() 메서드의 입력으로 크기를 전달한다.\n",
    "    # 가중치를 만들때 크기가 꼭 필요한 경우가 종종 있다.\n",
    "    # 예를 들어 연결 가중치(즉, kernel)을 만드려면 이전 층의 뉴런 개수를 꼭 알아야 한다.\n",
    "    # 이 크기는 입룍의 마지막 차원 크기에 해당한다.\n",
    "    # build() 메서드 끝에서 부모의 build()메서드를 호출해야한다. \n",
    "    # 이를 통해 층이 만들어 졌다는 것을 케라스가 인식한다.\n",
    "    def build(self, batch_input_shape):\n",
    "        self.kernel = self.add_weight(\n",
    "            name=\"kernel\", shape=[batch_input_shape[-1], self.units],\n",
    "            initializer=\"glorot_normal\")\n",
    "        self.bias = self.add_weight(\n",
    "            name=\"bias\", shape=[self.units], initializer=\"zeros\")\n",
    "        super().build(batch_input_shape)   # 마지막에 호출해야한다.\n",
    "        \n",
    "        \n",
    "    # call메서드는 이층에 필요한 연산을 수행한다.\n",
    "    # 이 경우 입력 X와 층의 커널을 행렬 곱셈하고 편향을 더한다. 그다음에 활성화함수를 적용한다.\n",
    "    # 이 값이 층의 출력이다\n",
    "    def call(self, X):\n",
    "        return self.activation(X @ self.kernel + self.bias)\n",
    "    \n",
    "    # 이 층의 출력 크기를 반환한다. 이 예에서 마지막 차원을 제외하고 입력과 크기가 같다. \n",
    "    # 마지막 차원은 이 층의 뉴런개수이다.\n",
    "    # tf.keras 에서 크기는 tf.TensorShape클래스의 객체이다. 이 객체는 as_list()메서드를 사용해 리스트로 바꿀 수 있다.\n",
    "    def compute_output_shape(self, batch_input_shape):\n",
    "        return tf.TensorShape(batch_input_shape.as_list()[:1] + [self.units])\n",
    "    \n",
    "    # 함수의 전체 설정을 저장한다.\n",
    "    def get_config(self):\n",
    "        base_config = super().get_config()\n",
    "        return {**base_config, \"units\": self.units, \n",
    "               \"activation\": keras.activations.serialize(self.activation)}"
   ]
  },
  {
   "cell_type": "markdown",
   "id": "ee9f6496",
   "metadata": {},
   "source": [
    "아래 예는 2개의 입력과 3개의 출력을 만드는 층이다."
   ]
  },
  {
   "cell_type": "code",
   "execution_count": 132,
   "id": "3ff23b78",
   "metadata": {},
   "outputs": [],
   "source": [
    "class MyMultiLayer(keras.layers.Layer):\n",
    "    def call(self, X):\n",
    "        X1, X2 = X\n",
    "        return [X1 + X2, X1 * X2, X1 / X2]\n",
    "    def compute_output_shape(self, batch_input_shape):\n",
    "        b1, b2 = batch_input_shape\n",
    "        return [b1, b1, b1]"
   ]
  },
  {
   "cell_type": "markdown",
   "id": "149f7ac2",
   "metadata": {},
   "source": [
    "훈련과 테스트에서 다르게 동작하는 층이 필요하다면 (예를 들면, Dropout이나 Batch Normalizertion을 사용하는 층이라면) call()메서드에 training 매개변수를 추가하여 훈련인지 테스트인지를 결정해야한다. 예를 들어, 훈련하는 동안 (규제목적으로) 가우스 잡음을 추가하고 테스트시에는 아무것도 하지 않는 층을 만들어보자. (keras.layers.GaussianNoise 층과 같다)"
   ]
  },
  {
   "cell_type": "code",
   "execution_count": 133,
   "id": "ca7d5005",
   "metadata": {},
   "outputs": [],
   "source": [
    "class MyGaussianNoise(keras.layers.Layer):\n",
    "    def __init__(self, stddev, **kwargs):\n",
    "        super().__init__(**kwargs)\n",
    "        self.stddev = stddev\n",
    "    \n",
    "    def call(self, X, training=None):\n",
    "        if training:\n",
    "            noise = tf.random.normal(tf.shape(X), stddev=self.stddev)\n",
    "            return X + noise\n",
    "        else:\n",
    "            return X\n",
    "    \n",
    "    def compute_output_shape(self, batch_input_shape):\n",
    "        return batch_input_shape"
   ]
  },
  {
   "cell_type": "markdown",
   "id": "518daea4",
   "metadata": {},
   "source": [
    "만약 입력크기과 출력크기가 다르다면 comput_output_shape 메서드를 써줘야 한다."
   ]
  },
  {
   "cell_type": "markdown",
   "id": "c20804ad",
   "metadata": {},
   "source": [
    "# 사용자 정의 모델"
   ]
  },
  {
   "attachments": {
    "image.png": {
     "image/png": "[encoded data removed]"
    }
   },
   "cell_type": "markdown",
   "id": "6b5a0a90",
   "metadata": {},
   "source": [
    "10장에서 알아봤듯이 서브클래싱 API를 설명할 때 어떻게 사용자 정의 모델 클래스를 만드는지 알아봤다. 방법은 간다하다. keras.Model 클래스를 상속하여 생성자에서 층과 변수를 만들고 모델이 해야 할 작업을 call()메서드에 구현한다. \n",
    "\n",
    "![image.png](attachment:image.png)\n",
    "위와 같은 모델을 만들어 보자"
   ]
  },
  {
   "cell_type": "markdown",
   "id": "3827b8f5",
   "metadata": {},
   "source": [
    "입력이 첫번째 완전 연결 층을 통과하여 두 개의 완전 연결 층과 스킵 연결로 구성된 잔차 블록(ResidualBlock)으로 전달 된다. (14장에서 보겠지만 잔차 블록은 출력에 입력을 더한다). 그 다음 동일한 잔차블록에 세번더 통과시킨다. 그다음 두 번째 잔차 블록을 지나 마지막 출력이 완전 연결된 출력층에 전달된다. 이런 구조는 실제 사용되는 것이 아니다. 필요하다면 반복문이나 스킵연결도 있는 어떤 종류의 모델도 쉽게 만들 수 있다는 것을 보이기 위한 예시일 뿐이다. \n",
    "\n",
    "이 모델을 구현하려면 동일한 블록을 여러개 만드러야 하므로 먼저 ResidualBlock층을 만들겠다."
   ]
  },
  {
   "cell_type": "code",
   "execution_count": 134,
   "id": "8754a8c8",
   "metadata": {},
   "outputs": [],
   "source": [
    "class ResidualBlock(keras.layers.Layer):\n",
    "    def __init__(self, n_layers, n_neurons, **kwargs):\n",
    "        super().__init__(**kwargs)\n",
    "        self.hidden = [keras.layers.Dense(n_neurons, activation=\"elu\",\n",
    "                                             kernel_initializer=\"he_normal\") for _ in range(n_layers)]\n",
    "        \n",
    "        def call(self, inputs):\n",
    "            Z = inputs\n",
    "            # Dense층을 함수형으로 사용하는 것이다. 층이 연결되는 것을 알려준 것이다.\n",
    "            for layer in self.hidden:\n",
    "                Z = layer(Z)\n",
    "            return inputs + Z"
   ]
  },
  {
   "cell_type": "code",
   "execution_count": 135,
   "id": "9d8ddd41",
   "metadata": {},
   "outputs": [],
   "source": [
    "# 모델 정의 하기\n",
    "class ResidualRegressor(keras.Model):\n",
    "    def __init__(self, output_dim, **kwargs):\n",
    "        super().__init__(**kwargs)\n",
    "        self.hidden1 = keras.layers.Dense(30, activation=\"elu\",\n",
    "                                             kernel_initializer=\"he_normal\")\n",
    "        self.block1 = ResidualBlock(2, 30)\n",
    "        self.block2 = ResidualBlock(2, 30)\n",
    "        self.out = keras.layer.Dense(output_dim)\n",
    "        \n",
    "        def call(self, inputs):\n",
    "            Z = self.hidden1(inputs)\n",
    "            for _ in range(1 + 3):\n",
    "                Z = self.block1(Z)\n",
    "            self.block2(Z)\n",
    "            return self.out(Z)"
   ]
  },
  {
   "cell_type": "markdown",
   "id": "6a4ab4c5",
   "metadata": {},
   "source": [
    "# 모델 구성 요소에 기반한 손실과 지표"
   ]
  },
  {
   "cell_type": "markdown",
   "id": "513045b4",
   "metadata": {},
   "source": [
    "앞서 정의한 사용자 손실과 지표는 모두 레이블과 예측을 기바능로 한다. 은닉층의 가중치나 활성화 함수 등과 같이 모델의 구성 요소에 기반한 손실을 정의해야할 때가 있다. 이런 손실은 규제나 모델의 내부 상황을 모니터링할 때 유용합니다.\n",
    "\n",
    "모델 구성 요소에 기반한 손실을 정의한다는게 무슨 의미인가 싶었다. \n",
    "\n",
    "모델 구성 요소에 기반한 손실이란, y_pred - y_test로 계산한 손실과 지표가 아닌, 활성화 함수 계산시 계산하는 손실함수를 통해 계산한 손실과 지표를 말하는 것 같다.\n",
    "\n",
    "모델 구성 요소에 기반한 손실을 정의하고 계산하여 add_loss()메서드에 그 결과를 전달합니다. 예를 들어 다섯개의 은닉층과 출력층으로 구성된 회귀용 MLP(Mulit Layers Perceptron)모델을 만들어 보자. 이 모델은 맨 위의 은닉층에 보조 출력을 가진다. 이 보조 출력에 연결된 손실을 재구성 손실(reconstruction loss) (17장 참조)라고 한다. 즉, 재구성과 입력 사이의 평균 제곱 오차이다. \n",
    "\n",
    "재구성 손실을 주 손실에 더하여 회귀 작업에 직접적으로 도움이 되지 않은 정보일지라도 모델이 은닉층을 통과하면서 가능한 많은 정보를 유지하도록 유도한다. \n",
    "\n",
    "이렇게 모델의 일반화 성능을 향상시킨다. (규제 손실처럼 동작한다.)"
   ]
  },
  {
   "cell_type": "code",
   "execution_count": 136,
   "id": "79ce6eef",
   "metadata": {},
   "outputs": [],
   "source": [
    "class ReconstructingRegressor(keras.Model):\n",
    "    def __init__(self, output_dim, **kwargs):\n",
    "        super().__init__(**kwargs)\n",
    "        self.hidden = [keras.layers.Dense(30, activation=\"selu\", kernel_initializer=\"lecun_normal\")\n",
    "                          for _ in range(5)]\n",
    "        self.out = keras.layers.Dense(output_dim)\n",
    "        \n",
    "    def build(self, batch_input_shape):\n",
    "        n_inputs = batch_input_shape[-1]\n",
    "        self.reconstruct = keras.layers.Dense(n_inputs)\n",
    "        super().build(batch_input_shape)\n",
    "    \n",
    "    def call(self, inputs):\n",
    "        Z = inputs\n",
    "        for layer in self.hidden:\n",
    "            Z=  layer(Z)\n",
    "        reconstruction = self.reconstruct(Z)\n",
    "        # 재구성과 입력사이의 MSE를 계산하고 add_loss()메서드를 사용해 모델의 손실 리스트에 추가한다. \n",
    "        # 재구성이 만든 손실이 원래의 손실을 압도하지 않기 위해서 0.05를 곱해준다\n",
    "        recon_loss = tf.reduce_mean(tf.square(reconstruction - inputs))\n",
    "        self.add_loss(0.05 * recon_loss)\n",
    "        return self.out(Z)"
   ]
  },
  {
   "cell_type": "markdown",
   "id": "4a4d1e72",
   "metadata": {},
   "source": [
    "# 모델 구성 요소에 기반한 지표"
   ]
  },
  {
   "cell_type": "markdown",
   "id": "b366fd0b",
   "metadata": {},
   "source": [
    "1. 생성자에서 keras.metrics.Mean() 측정 지표를 만들고 call() 메서드에서 사용하여 평균 재구성 손실을 추적합니다. \n",
    "    <br>훈련에서만 사용해야 하기 때문에 call() 메서드에 training 매개변수를 추가합니다.\n",
    "    <br> training이 True이면 reconstruction_mean를 업데이트하고 self.add_metric()를 호출합니다.\n",
    "2. TF 2.2에 있는 이슈(#46858) 때문에 build() 메서드 안에서 super().build()를 호출하면 안됩니다."
   ]
  },
  {
   "cell_type": "code",
   "execution_count": 137,
   "id": "5c1adce8",
   "metadata": {},
   "outputs": [],
   "source": [
    "# 답지코드에서 퍼왔다. \n",
    "class ReconstructingRegressor(keras.Model):\n",
    "    def __init__(self, output_dim, **kwargs):\n",
    "        super().__init__(**kwargs)\n",
    "        self.hidden = [keras.layers.Dense(30, activation=\"selu\",\n",
    "                                          kernel_initializer=\"lecun_normal\")\n",
    "                       for _ in range(5)]\n",
    "        self.out = keras.layers.Dense(output_dim)\n",
    "        # keras.metrics.Mean을 상속해서 재구성 오류를 만들어 준다.\n",
    "        self.reconstruction_mean = keras.metrics.Mean(name=\"reconstruction_error\")\n",
    "\n",
    "    def build(self, batch_input_shape):\n",
    "        n_inputs = batch_input_shape[-1]\n",
    "        self.reconstruct = keras.layers.Dense(n_inputs)\n",
    "        #super().build(batch_input_shape)\n",
    "\n",
    "    def call(self, inputs, training=None):\n",
    "        Z = inputs\n",
    "        for layer in self.hidden:\n",
    "            Z = layer(Z)\n",
    "        reconstruction = self.reconstruct(Z)\n",
    "        self.recon_loss = 0.05 * tf.reduce_mean(tf.square(reconstruction - inputs))\n",
    "        \n",
    "        # 만약 트레이닝 중이라면\n",
    "        if training:\n",
    "            # 학습중이라면 손실에 \"재구성 손실\"을 추가한다.\n",
    "            result = self.reconstruction_mean(recon_loss)\n",
    "            self.add_metric(result)\n",
    "        return self.out(Z)\n",
    "    \n",
    "    def train_step(self, data):\n",
    "        x, y = data\n",
    "        \n",
    "        # 이건 뭔지 잘 모르겠다. 아래에서 살펴보자\n",
    "        with tf.GradientTape() as tape:\n",
    "            y_pred = self(x)\n",
    "            loss = self.compiled_loss(y, y_pred, regularization_losses=[self.recon_loss])\n",
    "\n",
    "        gradients = tape.gradient(loss, self.trainable_variables)\n",
    "        self.optimizer.apply_gradients(zip(gradients, self.trainable_variables))\n",
    "\n",
    "        return {m.name: m.result() for m in self.metrics}\n"
   ]
  },
  {
   "cell_type": "markdown",
   "id": "cc30b91a",
   "metadata": {},
   "source": [
    "# 자동 미분을 사용하여 그레디언트 계산하기"
   ]
  },
  {
   "cell_type": "markdown",
   "id": "7546c312",
   "metadata": {},
   "source": [
    "이 부분은 내가 정말 쓸일이 없을 것 같기도 하고... 이해도 잘 못하겠어서! Pass"
   ]
  },
  {
   "cell_type": "markdown",
   "id": "b5ac4e01",
   "metadata": {},
   "source": [
    "# 사용자 정의 훈련 반복\n",
    "fit()메서드의 유연성이 원하는 만큼 충분하지 않을 수 있다. 예를 들어 와이드-딥 네트워크가 설명된 논문(https://homl.info/widedeep)에는 두개의 다른 옵티마이저를 사용한다. fit메서드는 (compile메서드로 하나의 옵티마이저를 지정) 하나의 옵티마이저 밖에 사용하지 못하기 때문에 이것을 구현하려면 사용자 정의 훈련 반복을 구현해야한다.\n",
    "\n",
    "하지만 이 방법을 사용하는건 많은 버그와..에러에 시달린다. 왠만하면 사용하지 않거나, train_step 메서드를 오버라이팅 하여 사용자 정의 훈련을 구현할 수도 있다. 깃허브에 있는 [custom_model_in_keras.ipynb](https://github.com/rickiepark/handson-ml2/blob/master/custom_model_in_keras.ipynb)를 참고해보자."
   ]
  },
  {
   "cell_type": "markdown",
   "id": "3d9ac169",
   "metadata": {},
   "source": [
    "--------\n",
    "먼저 간단한 모델을 만들어보자. 훈련반복을 직접 다루기 때문에 컴파일할 필요가 없다."
   ]
  },
  {
   "cell_type": "code",
   "execution_count": 138,
   "id": "d4b52397",
   "metadata": {},
   "outputs": [],
   "source": [
    "l2_reg = keras.regularizers.l2(0.05)\n",
    "\n",
    "model = keras.models.Sequential([\n",
    "    keras.layers.Dense(30, activation=\"elu\", kernel_initializer=\"he_normal\",\n",
    "                          kernel_regularizer=l2_reg),\n",
    "    keras.layers.Dense(1, kernel_regularizer=l2_reg)\n",
    "])"
   ]
  },
  {
   "cell_type": "code",
   "execution_count": 150,
   "id": "ea7b90bf",
   "metadata": {},
   "outputs": [],
   "source": [
    "# 훈련세트에서 샘플 배치를 랜덤하게 추출하는 함수\n",
    "def random_batch(X, y, batch_size=32):\n",
    "    idx = np.random.randint(len(X), size=batch_size)\n",
    "    return X[idx], y[idx]"
   ]
  },
  {
   "cell_type": "code",
   "execution_count": 157,
   "id": "de223394",
   "metadata": {},
   "outputs": [],
   "source": [
    "# 현재 스텝 수, 전체 스텝 획수, 에포크 시작부터 평균 손실(Mean 지표를 사용해 계산한다.), \n",
    "# 그 외 다른 지표를 포함하여 훈련 상태를 출력하는 함수도 만든다.\n",
    "def print_status_bar(iteration, total, loss, metrics=None):\n",
    "    # 이 포문을 잘 모르겠당\n",
    "    metrics = \" - \".join([\"{}:{:.4f}\".format(m.name, m.result())\n",
    "                         for m in [loss] + (metrics or [])])\n",
    "    end = \"\" if iteration < total else \"\\n\"\n",
    "    # \\r 탈출문자는 상태막대가 동일한 줄에 출력되게 한다.\n",
    "    print(\"\\r{}/{} - \".format(iteration, total) + metrics,\n",
    "         end=end)\n",
    "    \n",
    "    # end 는 다음 print 함수를 출력할 때 줄바꿈이 되지 않게 해주고 end에 할당된 문자를 출력하는 역할이다."
   ]
  },
  {
   "cell_type": "code",
   "execution_count": 158,
   "id": "2b626ed8",
   "metadata": {},
   "outputs": [],
   "source": [
    "n_epochs = 5\n",
    "batch_size = 32\n",
    "n_steps = len(X_train) // batch_size\n",
    "optimizer = keras.optimizers.Nadam(learning_rate=0.01)\n",
    "loss_fn = keras.losses.mean_squared_error\n",
    "mean_loss = keras.metrics.Mean()\n",
    "metrics = [keras.metrics.MeanAbsoluteError()]"
   ]
  },
  {
   "cell_type": "code",
   "execution_count": 159,
   "id": "395433b6",
   "metadata": {},
   "outputs": [
    {
     "name": "stdout",
     "output_type": "stream",
     "text": [
      "Epoch 1/5\n",
      "11610/11610 - mean:2.3268 - mean_absolute_error:0.6298\n",
      "Epoch 2/5\n",
      "11610/11610 - mean:0.8699 - mean_absolute_error:0.5202\n",
      "Epoch 3/5\n",
      "11610/11610 - mean:0.9375 - mean_absolute_error:0.5395\n",
      "Epoch 4/5\n",
      "11610/11610 - mean:0.6865 - mean_absolute_error:0.5215\n",
      "Epoch 5/5\n",
      "11610/11610 - mean:0.6398 - mean_absolute_error:0.5053\n"
     ]
    }
   ],
   "source": [
    "# 5번의 에포크를 반복함\n",
    "for epoch in range(1, n_epochs+1):\n",
    "    print(\"Epoch {}/{}\".format(epoch, n_epochs))\n",
    "    # 배치들을 위한 반복문\n",
    "    for step in range(n_steps):\n",
    "        X_batch, y_batch = random_batch(X_train_scaled, y_train)\n",
    "        with tf.GradientTape() as tape:\n",
    "            y_pred = model(X_batch, training = True)\n",
    "            main_loss = tf.reduce_mean(loss_fn(y_batch, y_pred))\n",
    "            # add_n: \n",
    "            loss = tf.add_n([main_loss] + model.losses)\n",
    "            # ?\n",
    "        gradients = tape.gradient(loss, model.trainable_variables)\n",
    "        # ?\n",
    "        optimizer.apply_gradients(zip(gradients, model.trainable_variables))\n",
    "        mean_loss(loss)\n",
    "        # ?\n",
    "        for metric in metrics:\n",
    "            metric(y_batch, y_pred)\n",
    "        print_status_bar(step * batch_size, len(y_train), mean_loss, metrics)\n",
    "    print_status_bar(len(y_train), len(y_train), mean_loss, metrics)\n",
    "    for metric in [mean_loss] + metrics:\n",
    "        # 마지막으로 평균 손실과 지춋값을 초기화\n",
    "        metric.reset_states()"
   ]
  },
  {
   "cell_type": "markdown",
   "id": "1d237be7",
   "metadata": {},
   "source": [
    "내가 사용자 지정 그래디언트 계산을 건너 뛰어서 이해를 못하는 코드가 많지만, 사용자 지정 모델을 만들면서 keras의 전반적인 코드 흐름과 클래스 구성을 알게 되었다. "
   ]
  },
  {
   "cell_type": "markdown",
   "id": "7abdd6cf",
   "metadata": {},
   "source": [
    "# 텐서플로 함수와 그래프"
   ]
  },
  {
   "cell_type": "code",
   "execution_count": 169,
   "id": "630cb4ce",
   "metadata": {},
   "outputs": [
    {
     "data": {
      "text/plain": [
       "<tf.Tensor: shape=(), dtype=float32, numpy=8.0>"
      ]
     },
     "execution_count": 169,
     "metadata": {},
     "output_type": "execute_result"
    }
   ],
   "source": [
    "def cube(x):\n",
    "    return x**3\n",
    "\n",
    "cube(tf.constant(2.))"
   ]
  },
  {
   "cell_type": "code",
   "execution_count": 174,
   "id": "29d088a9",
   "metadata": {},
   "outputs": [
    {
     "data": {
      "text/plain": [
       "<tensorflow.python.eager.def_function.Function at 0x2b0883ef7f0>"
      ]
     },
     "execution_count": 174,
     "metadata": {},
     "output_type": "execute_result"
    }
   ],
   "source": [
    "# 일반함수를 텐서플로 함수로 바꿀 수 있다.\n",
    "tf_cube = tf.function(cube)\n",
    "tf_cube"
   ]
  },
  {
   "cell_type": "code",
   "execution_count": 175,
   "id": "94f415fd",
   "metadata": {},
   "outputs": [
    {
     "data": {
      "text/plain": [
       "<tf.Tensor: shape=(), dtype=int32, numpy=8>"
      ]
     },
     "execution_count": 175,
     "metadata": {},
     "output_type": "execute_result"
    }
   ],
   "source": [
    "@tf.function\n",
    "def tf_cube(x):\n",
    "    return x**3\n",
    "\n",
    "tf_cube(2)"
   ]
  },
  {
   "cell_type": "code",
   "execution_count": 177,
   "id": "50a8bc00",
   "metadata": {},
   "outputs": [
    {
     "data": {
      "text/plain": [
       "8"
      ]
     },
     "execution_count": 177,
     "metadata": {},
     "output_type": "execute_result"
    }
   ],
   "source": [
    "tf_cube.python_function(2)"
   ]
  },
  {
   "cell_type": "code",
   "execution_count": 180,
   "id": "ed0d3f53",
   "metadata": {},
   "outputs": [
    {
     "data": {
      "text/plain": [
       "<tf.Tensor: shape=(2,), dtype=int32, numpy=array([1, 8])>"
      ]
     },
     "execution_count": 180,
     "metadata": {},
     "output_type": "execute_result"
    }
   ],
   "source": [
    "tf_cube(tf.constant([1,2]))"
   ]
  },
  {
   "cell_type": "markdown",
   "id": "2f526e80",
   "metadata": {},
   "source": [
    "[...] 마지막 파트 내용은 어떻게 텐서플로우가 빠르게 동작하는지에 대한 내용이다. 내가 굳이? 깊게 알 필요는 없을 것 같아 책 내용만 간단하게 읽어봤다."
   ]
  },
  {
   "cell_type": "markdown",
   "id": "8f1b5bac",
   "metadata": {},
   "source": [
    "# 마무리\n",
    "\n",
    "이번 장은 Tensorflow에 대해서 공부한 파트 같다. 이번 장을 공부하는 초기에는 엄청나게 하기 싫었는데, 하다 보니까 내가 사용하던 케라스가 어떻게 이루어져 있는지 대략적으로 알 수 있었다. 또한 프로그램이 객체 지향으로 프로그래밍 되있다는 것을 여실히 느낄수 있는 파트 였다. 연습문제는... Pass"
   ]
  },
  {
   "cell_type": "code",
   "execution_count": null,
   "id": "c0ae9fc7",
   "metadata": {},
   "outputs": [],
   "source": []
  }
 ],
 "metadata": {
  "kernelspec": {
   "display_name": "Python 3 (ipykernel)",
   "language": "python",
   "name": "python3"
  },
  "language_info": {
   "codemirror_mode": {
    "name": "ipython",
    "version": 3
   },
   "file_extension": ".py",
   "mimetype": "text/x-python",
   "name": "python",
   "nbconvert_exporter": "python",
   "pygments_lexer": "ipython3",
   "version": "3.9.7"
  }
 },
 "nbformat": 4,
 "nbformat_minor": 5
}
