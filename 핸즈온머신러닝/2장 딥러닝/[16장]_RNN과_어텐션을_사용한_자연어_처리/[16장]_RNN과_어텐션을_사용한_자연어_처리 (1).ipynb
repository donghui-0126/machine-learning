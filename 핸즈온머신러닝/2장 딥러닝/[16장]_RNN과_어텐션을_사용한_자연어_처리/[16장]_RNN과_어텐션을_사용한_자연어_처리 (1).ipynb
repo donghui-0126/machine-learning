{
  "cells": [
    {
      "cell_type": "markdown",
      "id": "784a15c9",
      "metadata": {
        "id": "784a15c9"
      },
      "source": [
        "<a href=\"https://colab.research.google.com/github/donghui-0126/machine-learning/blob/main/%ED%95%B8%EC%A6%88%EC%98%A8%EB%A8%B8%EC%8B%A0%EB%9F%AC%EB%8B%9D/2%EC%9E%A5%20%EB%94%A5%EB%9F%AC%EB%8B%9D/%5B16%EC%9E%A5%5D_RNN%EA%B3%BC_%EC%96%B4%ED%85%90%EC%85%98%EC%9D%84_%EC%82%AC%EC%9A%A9%ED%95%9C_%EC%9E%90%EC%97%B0%EC%96%B4_%EC%B2%98%EB%A6%AC.ipynb\" target=\"_parent\"><img src=\"https://colab.research.google.com/assets/colab-badge.svg\" alt=\"Open In Colab\"/></a>"
      ]
    },
    {
      "cell_type": "code",
      "execution_count": 1,
      "id": "f3843735",
      "metadata": {
        "id": "f3843735"
      },
      "outputs": [],
      "source": [
        "# -*- conding:utf-8 -*-\n",
        "\n",
        "# 파이썬 ≥3.5 필수\n",
        "import sys\n",
        "assert sys.version_info >= (3, 5)\n",
        "\n",
        "# 사이킷런 ≥0.20 필수\n",
        "import sklearn\n",
        "assert sklearn.__version__ >= \"0.20\"\n",
        "\n",
        "# 텐서플로 ≥2.0 필수\n",
        "import tensorflow as tf\n",
        "from tensorflow import keras\n",
        "assert tf.__version__ >= \"2.0\"\n",
        "\n",
        "if not tf.config.list_physical_devices('GPU'):\n",
        "    print(\"감지된 GPU가 없습니다. GPU가 없으면 CNN은 매우 느릴 수 있습니다.\")\n",
        "    \n",
        "\n",
        "# 공통 모듈 임포트\n",
        "import numpy as np\n",
        "import os\n",
        "\n",
        "# 노트북 실행 결과를 동일하게 유지하기 위해\n",
        "np.random.seed(42)\n",
        "tf.random.set_seed(42)\n",
        "\n",
        "# 깔끔한 그래프 출력을 위해\n",
        "%matplotlib inline\n",
        "import matplotlib as mpl\n",
        "import matplotlib.pyplot as plt"
      ]
    },
    {
      "cell_type": "markdown",
      "id": "427271a7",
      "metadata": {
        "id": "427271a7"
      },
      "source": [
        "이번 장에서는 자연어를 읽고 쓰는 AI를 만드는 법을 알아볼 것이다. \n",
        "\n",
        "자연어 문제를 위해 많이 사용하는 방법은 순환 신경망이다. 따라서 RNN을 계속해서 살펴본다. 문장에서 다음글자를 예측하도록 훈련하는 **문자 단위 RNN(character RNN)** 부터 시작한다. 새로운 텍스트를 생성하고 그 과정에서 매우 긴 시퀀스를 가진 텐서플로 데이터셋을 만드는 방법을 알아보자. 먼저 **상태가 없는 RNN(stateless RNN)** 을 사용하고 다음에 **상태가 있는 RNN(stateful RNN)** 을 구축할 것이다. (상태가 없는 RNN은 각 반복에서 무작위하게 택한 텍스트의 일부분으로 학습하고, 나머지 텍스트에서 어떤 정보도 사용하지 않는다. 상태가 있는 RNN은 훈련 반복 사이에 은닉 상태를 유지하고 중지된 곳에서 이어서 상태를 반영한다. 그래서 더 긴패턴을 학습할 수 있다). 그 다음에는 감성분석을 수행하는 RNN을 구축하고 이번에는 문자가 아니라 단어의 시퀀스로 문장을 다룰것이다. 그리고 신경망 기계번역(NMT)을 수행할 수 있는 인코더-디코더 구조를 만들기 위해 RNN을 사용하는 방법을 알아보자. 도구로는 텐서플로 애드온 프로젝트에서 제공하는 seq2seq API를 사용한다.\n",
        "\n",
        "16.4절에서는 어텐션 매커니즘을 알아보자. 이름에서 알 수 있듯이 이는 각 타임 스텝에서 모델이 집중해야 할 입력 부분을 선택하도록 학습하는 신경망 구성요소이다. 먼저 어텐션을 사용하여 RNN 기반의 인코더-디코더 구조의 성능을 높이는 방법을 알아본 뒤, RNN을 모두 제거하고 어텐션만 사용해 매우좋은 성능을 내는 **트랜스포머** 라는 구조도 살펴보자.  마지막으로 NLP분야에서 가장 중요한 발전을 살펴보자. 트랜스포머를 시반으로 한 GPT-2와 BERT같은 매우 강력한 언어 모델도 포함한다."
      ]
    },
    {
      "cell_type": "markdown",
      "id": "348a1c7b",
      "metadata": {
        "id": "348a1c7b"
      },
      "source": [
        "# char-RNN을 사용해 셰익스피어 문체 생성하기"
      ]
    },
    {
      "cell_type": "code",
      "execution_count": null,
      "id": "996d1d9f",
      "metadata": {
        "colab": {
          "base_uri": "https://localhost:8080/"
        },
        "id": "996d1d9f",
        "outputId": "0c2750ff-8ef3-40d2-9806-9b915ca626ac"
      },
      "outputs": [
        {
          "output_type": "stream",
          "name": "stdout",
          "text": [
            "Downloading data from https://homl.info/shakespeare\n",
            "1115394/1115394 [==============================] - 0s 0us/step\n"
          ]
        }
      ],
      "source": [
        "shakespeare_url = \"https://homl.info/shakespeare\"  # 단죽 url\n",
        "filepath = keras.utils.get_file(\"shakespeare.txt\", shakespeare_url)\n",
        "with open(filepath) as f:\n",
        "    shakespeare_text = f.read()"
      ]
    },
    {
      "cell_type": "code",
      "execution_count": null,
      "id": "1ad9e061",
      "metadata": {
        "id": "1ad9e061"
      },
      "outputs": [],
      "source": [
        "# 모든 글자를 정수로 인코딩해준다. \n",
        "# 간단하게 Tokenizer 클래스를 사용한다.\n",
        "\n",
        "# char_level 을 True로 지정해서 단어 수준 인코딩 대신 글자 수준 인코딩을 만든다. 이 클래스는 기본적으로 텍스트를 소문자로 바꾼다.\n",
        "# 이제 문장을 글자 ID로 인코딩 하거나 반대로 디코딩 할 수 있다. \n",
        "# 이를 통해텍스트에 있는 고유 글자 개수와 전체 글자 개수를 알 수 있다.\n",
        "tokenizer = keras.preprocessing.text.Tokenizer(char_level=True)\n",
        "tokenizer.fit_on_texts(shakespeare_text)"
      ]
    },
    {
      "cell_type": "code",
      "execution_count": null,
      "id": "72c34059",
      "metadata": {
        "colab": {
          "base_uri": "https://localhost:8080/"
        },
        "id": "72c34059",
        "outputId": "55011faa-91b4-40eb-e13d-114669e4a177"
      },
      "outputs": [
        {
          "output_type": "execute_result",
          "data": {
            "text/plain": [
              "[[20, 6, 9, 8, 3]]"
            ]
          },
          "metadata": {},
          "execution_count": 7
        }
      ],
      "source": [
        "tokenizer.texts_to_sequences([\"First\"])"
      ]
    },
    {
      "cell_type": "code",
      "execution_count": null,
      "id": "e24d084b",
      "metadata": {
        "colab": {
          "base_uri": "https://localhost:8080/"
        },
        "id": "e24d084b",
        "outputId": "2fcb8009-a5f1-43e3-e592-7b4caf17ccfe"
      },
      "outputs": [
        {
          "output_type": "execute_result",
          "data": {
            "text/plain": [
              "['f i r s t']"
            ]
          },
          "metadata": {},
          "execution_count": 8
        }
      ],
      "source": [
        "tokenizer.sequences_to_texts([[20,6,9,8,3]])"
      ]
    },
    {
      "cell_type": "code",
      "execution_count": null,
      "id": "e7695e76",
      "metadata": {
        "colab": {
          "base_uri": "https://localhost:8080/"
        },
        "id": "e7695e76",
        "outputId": "bc133390-261e-4aa1-ba61-0653c13fa18f"
      },
      "outputs": [
        {
          "output_type": "execute_result",
          "data": {
            "text/plain": [
              "39"
            ]
          },
          "metadata": {},
          "execution_count": 9
        }
      ],
      "source": [
        "# 고유 글자 개수\n",
        "max_id = len(tokenizer.word_index)\n",
        "max_id"
      ]
    },
    {
      "cell_type": "code",
      "execution_count": null,
      "id": "ba9b5ef9",
      "metadata": {
        "colab": {
          "base_uri": "https://localhost:8080/"
        },
        "id": "ba9b5ef9",
        "outputId": "2760000d-2692-4635-bd66-a18528fdf8e8"
      },
      "outputs": [
        {
          "output_type": "execute_result",
          "data": {
            "text/plain": [
              "1115394"
            ]
          },
          "metadata": {},
          "execution_count": 10
        }
      ],
      "source": [
        "# 전체 글자 개수\n",
        "dataset_size = tokenizer.document_count \n",
        "dataset_size"
      ]
    },
    {
      "cell_type": "code",
      "execution_count": null,
      "id": "a6d7f28c",
      "metadata": {
        "id": "a6d7f28c"
      },
      "outputs": [],
      "source": [
        "# 전체 텍스트를 인코딩해서 각 글자를 ID로 나타내 보자.\n",
        "# 1~ 39인 값을 0~38로 바꾸기\n",
        "[encoded] = np.array(tokenizer.texts_to_sequences([shakespeare_text])) - 1"
      ]
    },
    {
      "cell_type": "code",
      "execution_count": null,
      "id": "49bf0e39",
      "metadata": {
        "colab": {
          "base_uri": "https://localhost:8080/"
        },
        "id": "49bf0e39",
        "outputId": "652baa6f-f0b9-4bb3-e656-6f54f0e887c6"
      },
      "outputs": [
        {
          "output_type": "execute_result",
          "data": {
            "text/plain": [
              "(1115394,)"
            ]
          },
          "metadata": {},
          "execution_count": 12
        }
      ],
      "source": [
        "encoded.shape"
      ]
    },
    {
      "cell_type": "markdown",
      "id": "e7f9a744",
      "metadata": {
        "id": "e7f9a744"
      },
      "source": [
        "## 순차 데이터셋을 나누는 방법\n",
        "훈련셋, 테스트셋, 검증셋을 중복되지 않도록 만드는 것은 중요하다.\n",
        "\n",
        "보통 시계열을 다룰 때는 시간에 따라 나눈다. 다른 차원으로 나눌 수 있지만, train set 과 test set 사이의 상관관계가 있다면 오차를 낙관적으로 측정해서 모델이 유용하지 않을 것이다. \n",
        "\n",
        "시계열 데이터가 시간에 따라서 반복되는 **변하지 않는 상태** 라면 시계열을 안정적으로 분석할 수 있다. 하지만 그렇지 않은 시계열도 있을 것이다. \n",
        "\n",
        "시계열이 안정적인지 확인할 방법은 시간에 따라 검증 세트에 대한 모델의 오차를 그리는 것이다. 모델이 검증 세트 마지막 보다 첫 부분에서 성능이 더 좋다면 이 시계열이 충분히 안정되지 않을 것일 수 있다. 이런 경우에는 **더 짧은 사건 간격으로** 모델을 훈련하는 게 좋다."
      ]
    },
    {
      "cell_type": "code",
      "execution_count": null,
      "id": "a4160b18",
      "metadata": {
        "colab": {
          "base_uri": "https://localhost:8080/"
        },
        "id": "a4160b18",
        "outputId": "df0f3e63-0ec4-4a3a-949d-3e3958a3f7a5"
      },
      "outputs": [
        {
          "output_type": "execute_result",
          "data": {
            "text/plain": [
              "1003854"
            ]
          },
          "metadata": {},
          "execution_count": 71
        }
      ],
      "source": [
        "# 셰익스피어 텍스트의 처음 90%를 trainset으로 사용하고 나머지는 validset과 testset로 사용한다. \n",
        "# 이 set에서 한 번에 한 글자씩 반환하는 tf.data.Dataset 객체를 만든다.\n",
        "train_size = dataset_size * 90 // 100\n",
        "dataset1 = tf.data.Dataset.from_tensor_slices(encoded[:train_size])\n",
        "train_size"
      ]
    },
    {
      "cell_type": "markdown",
      "id": "6f04f7ee",
      "metadata": {
        "id": "6f04f7ee"
      },
      "source": [
        "## 순차 데이터를 윈도 여러개로 자르기\n",
        "\n",
        "https://teddylee777.github.io/tensorflow/dataset-batch-window  이해가 잘 안되서 찾아본 블로그이다. \n",
        "\n",
        "trainset은 백만개 이상의 글자로 이루어진 시퀀스 하나이다. 여기에 신경망을 직접 훈련시킬수는 없다. 이 RNN은 백만 개의 층이 있는 심층 신경망과 비슷하고 (매우 긴) 샘플 하나로 훈련하는 셈이 된다. 대신 데이터셋의 window() 메서드를 사용해 이 긴 시퀀스를 작은 많은 텍스트 윈도로 변환한다. 이 데이터셋의 각 샘플은 전체 텍스트에서 매우 짧은 부분 문자열이다. RNN은 이 부분문자열 길이만큼만 역전파를 위해 펼쳐진다. 이를 **TBPTT** 라고 한다. window() 메서드를 호출하여 짧은 텍스트 윈도를 갖는 데이터셋을 만들어보자."
      ]
    },
    {
      "cell_type": "code",
      "execution_count": null,
      "id": "4c3be689",
      "metadata": {
        "id": "4c3be689"
      },
      "outputs": [],
      "source": [
        "# n_steps를 튜닝할 수 있다.\n",
        "# 짧은 입력 시퀀스에서 RNN을 훈련하는 것은 쉽지만 당연히 이 RNN은 n_steps 보다 긴 패턴을 학습할 수 없다.\n",
        "n_steps = 100\n",
        "window_length = n_steps + 1 # target = 한글자앞의 input\n",
        "# window_depth: 윈도우 크기 \n",
        "# shift: 원래는 윈도우크기가 default값이여서 윈도우가 겹치지 않음. shift=1 이면 최대크기의 trainset 생성\n",
        "# drop_remainder: True로 지정하면 같은 크기의 윈도우를 생성함. False면 윈도우크기가 1씩 줄어든다. \n",
        "dataset1 = dataset1.window(window_length, shift=1, drop_remainder=True)"
      ]
    },
    {
      "cell_type": "markdown",
      "id": "b3fdd940",
      "metadata": {
        "id": "b3fdd940"
      },
      "source": [
        "window()메서드를 사용하면 각각 하나의 데이터셋으로 표현되는 윈도를 포함하는 데이터셋을 만든다. 리스트의 리스트와 비슷한 nested dataset이다. 이런 구조는 데이터셋 메서드를 호출하여 각 윈도를 변환할 때 유용하다. 하지만 모델은 데이터셋이 아니라 tensor를 기대하기 때문에 훈련에 데이터셋을 바로 사용할 수 없다. 따라서 flat_map()을 통해서 nested dataset을 flat dataset으로 변환해주어야한다. \n",
        "\n",
        "flat_map()메서드는 중첩 dataset을 평평하게 만들기 전에 각 데이터셋에 적용할 변환 함수를 매개변수로 받을 수 있다. 예를 들어 lambda ds: ds.batch(2) 함수를 flat_map()에 전달하면 텐서 2개를 가진 테이터셋으로 변환해준다."
      ]
    },
    {
      "cell_type": "code",
      "execution_count": null,
      "id": "92c018fc",
      "metadata": {
        "id": "92c018fc",
        "colab": {
          "base_uri": "https://localhost:8080/",
          "height": 433
        },
        "outputId": "7f538af8-bee5-4ddf-ae03-2c1b096ae1e1"
      },
      "outputs": [
        {
          "output_type": "error",
          "ename": "TypeError",
          "evalue": "ignored",
          "traceback": [
            "\u001b[0;31m---------------------------------------------------------------------------\u001b[0m",
            "\u001b[0;31mTypeError\u001b[0m                                 Traceback (most recent call last)",
            "\u001b[0;32m<ipython-input-79-828d475b3505>\u001b[0m in \u001b[0;36m<module>\u001b[0;34m\u001b[0m\n\u001b[1;32m      1\u001b[0m \u001b[0;31m# 윈도마다 batch(window_length)를 호출한다. 이 길이는 윈도 길이와 같기 때문에 텐서 하나를 담은 데이터 셋을 얻는다.\u001b[0m\u001b[0;34m\u001b[0m\u001b[0;34m\u001b[0m\u001b[0;34m\u001b[0m\u001b[0m\n\u001b[1;32m      2\u001b[0m \u001b[0;31m# 이 데이터셋은 연속된 101글자 길이의 윈도를 담는다.\u001b[0m\u001b[0;34m\u001b[0m\u001b[0;34m\u001b[0m\u001b[0;34m\u001b[0m\u001b[0m\n\u001b[0;32m----> 3\u001b[0;31m \u001b[0mdataset1\u001b[0m \u001b[0;34m=\u001b[0m \u001b[0mdataset\u001b[0m\u001b[0;34m.\u001b[0m\u001b[0mflat_map\u001b[0m\u001b[0;34m(\u001b[0m\u001b[0;32mlambda\u001b[0m \u001b[0mwindow\u001b[0m\u001b[0;34m:\u001b[0m \u001b[0mwindow\u001b[0m\u001b[0;34m.\u001b[0m\u001b[0mbatch\u001b[0m\u001b[0;34m(\u001b[0m\u001b[0mwindow_length\u001b[0m\u001b[0;34m)\u001b[0m\u001b[0;34m)\u001b[0m\u001b[0;34m\u001b[0m\u001b[0;34m\u001b[0m\u001b[0m\n\u001b[0m",
            "\u001b[0;32m/usr/local/lib/python3.7/dist-packages/tensorflow/python/data/ops/dataset_ops.py\u001b[0m in \u001b[0;36mflat_map\u001b[0;34m(self, map_func, name)\u001b[0m\n\u001b[1;32m   2090\u001b[0m       \u001b[0mDataset\u001b[0m\u001b[0;34m:\u001b[0m \u001b[0mA\u001b[0m\u001b[0;31m \u001b[0m\u001b[0;31m`\u001b[0m\u001b[0mDataset\u001b[0m\u001b[0;31m`\u001b[0m\u001b[0;34m.\u001b[0m\u001b[0;34m\u001b[0m\u001b[0;34m\u001b[0m\u001b[0m\n\u001b[1;32m   2091\u001b[0m     \"\"\"\n\u001b[0;32m-> 2092\u001b[0;31m     \u001b[0;32mreturn\u001b[0m \u001b[0mFlatMapDataset\u001b[0m\u001b[0;34m(\u001b[0m\u001b[0mself\u001b[0m\u001b[0;34m,\u001b[0m \u001b[0mmap_func\u001b[0m\u001b[0;34m,\u001b[0m \u001b[0mname\u001b[0m\u001b[0;34m=\u001b[0m\u001b[0mname\u001b[0m\u001b[0;34m)\u001b[0m\u001b[0;34m\u001b[0m\u001b[0;34m\u001b[0m\u001b[0m\n\u001b[0m\u001b[1;32m   2093\u001b[0m \u001b[0;34m\u001b[0m\u001b[0m\n\u001b[1;32m   2094\u001b[0m   def interleave(self,\n",
            "\u001b[0;32m/usr/local/lib/python3.7/dist-packages/tensorflow/python/data/ops/dataset_ops.py\u001b[0m in \u001b[0;36m__init__\u001b[0;34m(self, input_dataset, map_func, name)\u001b[0m\n\u001b[1;32m   5326\u001b[0m     \u001b[0mself\u001b[0m\u001b[0;34m.\u001b[0m\u001b[0m_input_dataset\u001b[0m \u001b[0;34m=\u001b[0m \u001b[0minput_dataset\u001b[0m\u001b[0;34m\u001b[0m\u001b[0;34m\u001b[0m\u001b[0m\n\u001b[1;32m   5327\u001b[0m     self._map_func = structured_function.StructuredFunctionWrapper(\n\u001b[0;32m-> 5328\u001b[0;31m         map_func, self._transformation_name(), dataset=input_dataset)\n\u001b[0m\u001b[1;32m   5329\u001b[0m     \u001b[0;32mif\u001b[0m \u001b[0;32mnot\u001b[0m \u001b[0misinstance\u001b[0m\u001b[0;34m(\u001b[0m\u001b[0mself\u001b[0m\u001b[0;34m.\u001b[0m\u001b[0m_map_func\u001b[0m\u001b[0;34m.\u001b[0m\u001b[0moutput_structure\u001b[0m\u001b[0;34m,\u001b[0m \u001b[0mDatasetSpec\u001b[0m\u001b[0;34m)\u001b[0m\u001b[0;34m:\u001b[0m\u001b[0;34m\u001b[0m\u001b[0;34m\u001b[0m\u001b[0m\n\u001b[1;32m   5330\u001b[0m       raise TypeError(\n",
            "\u001b[0;32m/usr/local/lib/python3.7/dist-packages/tensorflow/python/data/ops/structured_function.py\u001b[0m in \u001b[0;36m__init__\u001b[0;34m(self, func, transformation_name, dataset, input_classes, input_shapes, input_types, input_structure, add_to_graph, use_legacy_function, defun_kwargs)\u001b[0m\n\u001b[1;32m    269\u001b[0m         \u001b[0mfn_factory\u001b[0m \u001b[0;34m=\u001b[0m \u001b[0mtrace_tf_function\u001b[0m\u001b[0;34m(\u001b[0m\u001b[0mdefun_kwargs\u001b[0m\u001b[0;34m)\u001b[0m\u001b[0;34m\u001b[0m\u001b[0;34m\u001b[0m\u001b[0m\n\u001b[1;32m    270\u001b[0m \u001b[0;34m\u001b[0m\u001b[0m\n\u001b[0;32m--> 271\u001b[0;31m     \u001b[0mself\u001b[0m\u001b[0;34m.\u001b[0m\u001b[0m_function\u001b[0m \u001b[0;34m=\u001b[0m \u001b[0mfn_factory\u001b[0m\u001b[0;34m(\u001b[0m\u001b[0;34m)\u001b[0m\u001b[0;34m\u001b[0m\u001b[0;34m\u001b[0m\u001b[0m\n\u001b[0m\u001b[1;32m    272\u001b[0m     \u001b[0;31m# There is no graph to add in eager mode.\u001b[0m\u001b[0;34m\u001b[0m\u001b[0;34m\u001b[0m\u001b[0;34m\u001b[0m\u001b[0m\n\u001b[1;32m    273\u001b[0m     \u001b[0madd_to_graph\u001b[0m \u001b[0;34m&=\u001b[0m \u001b[0;32mnot\u001b[0m \u001b[0mcontext\u001b[0m\u001b[0;34m.\u001b[0m\u001b[0mexecuting_eagerly\u001b[0m\u001b[0;34m(\u001b[0m\u001b[0;34m)\u001b[0m\u001b[0;34m\u001b[0m\u001b[0;34m\u001b[0m\u001b[0m\n",
            "\u001b[0;32m/usr/local/lib/python3.7/dist-packages/tensorflow/python/eager/function.py\u001b[0m in \u001b[0;36mget_concrete_function\u001b[0;34m(self, *args, **kwargs)\u001b[0m\n\u001b[1;32m   2566\u001b[0m     \"\"\"\n\u001b[1;32m   2567\u001b[0m     graph_function = self._get_concrete_function_garbage_collected(\n\u001b[0;32m-> 2568\u001b[0;31m         *args, **kwargs)\n\u001b[0m\u001b[1;32m   2569\u001b[0m     \u001b[0mgraph_function\u001b[0m\u001b[0;34m.\u001b[0m\u001b[0m_garbage_collector\u001b[0m\u001b[0;34m.\u001b[0m\u001b[0mrelease\u001b[0m\u001b[0;34m(\u001b[0m\u001b[0;34m)\u001b[0m  \u001b[0;31m# pylint: disable=protected-access\u001b[0m\u001b[0;34m\u001b[0m\u001b[0;34m\u001b[0m\u001b[0m\n\u001b[1;32m   2570\u001b[0m     \u001b[0;32mreturn\u001b[0m \u001b[0mgraph_function\u001b[0m\u001b[0;34m\u001b[0m\u001b[0;34m\u001b[0m\u001b[0m\n",
            "\u001b[0;32m/usr/local/lib/python3.7/dist-packages/tensorflow/python/eager/function.py\u001b[0m in \u001b[0;36m_get_concrete_function_garbage_collected\u001b[0;34m(self, *args, **kwargs)\u001b[0m\n\u001b[1;32m   2531\u001b[0m       \u001b[0margs\u001b[0m\u001b[0;34m,\u001b[0m \u001b[0mkwargs\u001b[0m \u001b[0;34m=\u001b[0m \u001b[0;32mNone\u001b[0m\u001b[0;34m,\u001b[0m \u001b[0;32mNone\u001b[0m\u001b[0;34m\u001b[0m\u001b[0;34m\u001b[0m\u001b[0m\n\u001b[1;32m   2532\u001b[0m     \u001b[0;32mwith\u001b[0m \u001b[0mself\u001b[0m\u001b[0;34m.\u001b[0m\u001b[0m_lock\u001b[0m\u001b[0;34m:\u001b[0m\u001b[0;34m\u001b[0m\u001b[0;34m\u001b[0m\u001b[0m\n\u001b[0;32m-> 2533\u001b[0;31m       \u001b[0mgraph_function\u001b[0m\u001b[0;34m,\u001b[0m \u001b[0m_\u001b[0m \u001b[0;34m=\u001b[0m \u001b[0mself\u001b[0m\u001b[0;34m.\u001b[0m\u001b[0m_maybe_define_function\u001b[0m\u001b[0;34m(\u001b[0m\u001b[0margs\u001b[0m\u001b[0;34m,\u001b[0m \u001b[0mkwargs\u001b[0m\u001b[0;34m)\u001b[0m\u001b[0;34m\u001b[0m\u001b[0;34m\u001b[0m\u001b[0m\n\u001b[0m\u001b[1;32m   2534\u001b[0m       \u001b[0mseen_names\u001b[0m \u001b[0;34m=\u001b[0m \u001b[0mset\u001b[0m\u001b[0;34m(\u001b[0m\u001b[0;34m)\u001b[0m\u001b[0;34m\u001b[0m\u001b[0;34m\u001b[0m\u001b[0m\n\u001b[1;32m   2535\u001b[0m       captured = object_identity.ObjectIdentitySet(\n",
            "\u001b[0;32m/usr/local/lib/python3.7/dist-packages/tensorflow/python/eager/function.py\u001b[0m in \u001b[0;36m_maybe_define_function\u001b[0;34m(self, args, kwargs)\u001b[0m\n\u001b[1;32m   2709\u001b[0m             \u001b[0;34m(\u001b[0m\u001b[0margs\u001b[0m\u001b[0;34m,\u001b[0m \u001b[0mkwargs\u001b[0m\u001b[0;34m)\u001b[0m \u001b[0;34m=\u001b[0m \u001b[0mcache_key\u001b[0m\u001b[0;34m.\u001b[0m\u001b[0m_placeholder_value\u001b[0m\u001b[0;34m(\u001b[0m\u001b[0;34m)\u001b[0m  \u001b[0;31m# pylint: disable=protected-access\u001b[0m\u001b[0;34m\u001b[0m\u001b[0;34m\u001b[0m\u001b[0m\n\u001b[1;32m   2710\u001b[0m \u001b[0;34m\u001b[0m\u001b[0m\n\u001b[0;32m-> 2711\u001b[0;31m           \u001b[0mgraph_function\u001b[0m \u001b[0;34m=\u001b[0m \u001b[0mself\u001b[0m\u001b[0;34m.\u001b[0m\u001b[0m_create_graph_function\u001b[0m\u001b[0;34m(\u001b[0m\u001b[0margs\u001b[0m\u001b[0;34m,\u001b[0m \u001b[0mkwargs\u001b[0m\u001b[0;34m)\u001b[0m\u001b[0;34m\u001b[0m\u001b[0;34m\u001b[0m\u001b[0m\n\u001b[0m\u001b[1;32m   2712\u001b[0m           self._function_cache.add(cache_key, cache_key_deletion_observer,\n\u001b[1;32m   2713\u001b[0m                                    graph_function)\n",
            "\u001b[0;32m/usr/local/lib/python3.7/dist-packages/tensorflow/python/eager/function.py\u001b[0m in \u001b[0;36m_create_graph_function\u001b[0;34m(self, args, kwargs)\u001b[0m\n\u001b[1;32m   2634\u001b[0m             \u001b[0mautograph_options\u001b[0m\u001b[0;34m=\u001b[0m\u001b[0mself\u001b[0m\u001b[0;34m.\u001b[0m\u001b[0m_autograph_options\u001b[0m\u001b[0;34m,\u001b[0m\u001b[0;34m\u001b[0m\u001b[0;34m\u001b[0m\u001b[0m\n\u001b[1;32m   2635\u001b[0m             \u001b[0marg_names\u001b[0m\u001b[0;34m=\u001b[0m\u001b[0marg_names\u001b[0m\u001b[0;34m,\u001b[0m\u001b[0;34m\u001b[0m\u001b[0;34m\u001b[0m\u001b[0m\n\u001b[0;32m-> 2636\u001b[0;31m             capture_by_value=self._capture_by_value),\n\u001b[0m\u001b[1;32m   2637\u001b[0m         \u001b[0mself\u001b[0m\u001b[0;34m.\u001b[0m\u001b[0m_function_attributes\u001b[0m\u001b[0;34m,\u001b[0m\u001b[0;34m\u001b[0m\u001b[0;34m\u001b[0m\u001b[0m\n\u001b[1;32m   2638\u001b[0m         \u001b[0mspec\u001b[0m\u001b[0;34m=\u001b[0m\u001b[0mself\u001b[0m\u001b[0;34m.\u001b[0m\u001b[0mfunction_spec\u001b[0m\u001b[0;34m,\u001b[0m\u001b[0;34m\u001b[0m\u001b[0;34m\u001b[0m\u001b[0m\n",
            "\u001b[0;32m/usr/local/lib/python3.7/dist-packages/tensorflow/python/framework/func_graph.py\u001b[0m in \u001b[0;36mfunc_graph_from_py_func\u001b[0;34m(name, python_func, args, kwargs, signature, func_graph, autograph, autograph_options, add_control_dependencies, arg_names, op_return_value, collections, capture_by_value, acd_record_initial_resource_uses)\u001b[0m\n\u001b[1;32m   1139\u001b[0m         \u001b[0m_\u001b[0m\u001b[0;34m,\u001b[0m \u001b[0moriginal_func\u001b[0m \u001b[0;34m=\u001b[0m \u001b[0mtf_decorator\u001b[0m\u001b[0;34m.\u001b[0m\u001b[0munwrap\u001b[0m\u001b[0;34m(\u001b[0m\u001b[0mpython_func\u001b[0m\u001b[0;34m)\u001b[0m\u001b[0;34m\u001b[0m\u001b[0;34m\u001b[0m\u001b[0m\n\u001b[1;32m   1140\u001b[0m \u001b[0;34m\u001b[0m\u001b[0m\n\u001b[0;32m-> 1141\u001b[0;31m       \u001b[0mfunc_outputs\u001b[0m \u001b[0;34m=\u001b[0m \u001b[0mpython_func\u001b[0m\u001b[0;34m(\u001b[0m\u001b[0;34m*\u001b[0m\u001b[0mfunc_args\u001b[0m\u001b[0;34m,\u001b[0m \u001b[0;34m**\u001b[0m\u001b[0mfunc_kwargs\u001b[0m\u001b[0;34m)\u001b[0m\u001b[0;34m\u001b[0m\u001b[0;34m\u001b[0m\u001b[0m\n\u001b[0m\u001b[1;32m   1142\u001b[0m \u001b[0;34m\u001b[0m\u001b[0m\n\u001b[1;32m   1143\u001b[0m       \u001b[0;31m# invariant: `func_outputs` contains only Tensors, CompositeTensors,\u001b[0m\u001b[0;34m\u001b[0m\u001b[0;34m\u001b[0m\u001b[0;34m\u001b[0m\u001b[0m\n",
            "\u001b[0;32m/usr/local/lib/python3.7/dist-packages/tensorflow/python/data/ops/structured_function.py\u001b[0m in \u001b[0;36mwrapped_fn\u001b[0;34m(*args)\u001b[0m\n\u001b[1;32m    246\u001b[0m           attributes=defun_kwargs)\n\u001b[1;32m    247\u001b[0m       \u001b[0;32mdef\u001b[0m \u001b[0mwrapped_fn\u001b[0m\u001b[0;34m(\u001b[0m\u001b[0;34m*\u001b[0m\u001b[0margs\u001b[0m\u001b[0;34m)\u001b[0m\u001b[0;34m:\u001b[0m  \u001b[0;31m# pylint: disable=missing-docstring\u001b[0m\u001b[0;34m\u001b[0m\u001b[0;34m\u001b[0m\u001b[0m\n\u001b[0;32m--> 248\u001b[0;31m         \u001b[0mret\u001b[0m \u001b[0;34m=\u001b[0m \u001b[0mwrapper_helper\u001b[0m\u001b[0;34m(\u001b[0m\u001b[0;34m*\u001b[0m\u001b[0margs\u001b[0m\u001b[0;34m)\u001b[0m\u001b[0;34m\u001b[0m\u001b[0;34m\u001b[0m\u001b[0m\n\u001b[0m\u001b[1;32m    249\u001b[0m         \u001b[0mret\u001b[0m \u001b[0;34m=\u001b[0m \u001b[0mstructure\u001b[0m\u001b[0;34m.\u001b[0m\u001b[0mto_tensor_list\u001b[0m\u001b[0;34m(\u001b[0m\u001b[0mself\u001b[0m\u001b[0;34m.\u001b[0m\u001b[0m_output_structure\u001b[0m\u001b[0;34m,\u001b[0m \u001b[0mret\u001b[0m\u001b[0;34m)\u001b[0m\u001b[0;34m\u001b[0m\u001b[0;34m\u001b[0m\u001b[0m\n\u001b[1;32m    250\u001b[0m         \u001b[0;32mreturn\u001b[0m \u001b[0;34m[\u001b[0m\u001b[0mops\u001b[0m\u001b[0;34m.\u001b[0m\u001b[0mconvert_to_tensor\u001b[0m\u001b[0;34m(\u001b[0m\u001b[0mt\u001b[0m\u001b[0;34m)\u001b[0m \u001b[0;32mfor\u001b[0m \u001b[0mt\u001b[0m \u001b[0;32min\u001b[0m \u001b[0mret\u001b[0m\u001b[0;34m]\u001b[0m\u001b[0;34m\u001b[0m\u001b[0;34m\u001b[0m\u001b[0m\n",
            "\u001b[0;32m/usr/local/lib/python3.7/dist-packages/tensorflow/python/data/ops/structured_function.py\u001b[0m in \u001b[0;36mwrapper_helper\u001b[0;34m(*args)\u001b[0m\n\u001b[1;32m    175\u001b[0m       \u001b[0;32mif\u001b[0m \u001b[0;32mnot\u001b[0m \u001b[0m_should_unpack\u001b[0m\u001b[0;34m(\u001b[0m\u001b[0mnested_args\u001b[0m\u001b[0;34m)\u001b[0m\u001b[0;34m:\u001b[0m\u001b[0;34m\u001b[0m\u001b[0;34m\u001b[0m\u001b[0m\n\u001b[1;32m    176\u001b[0m         \u001b[0mnested_args\u001b[0m \u001b[0;34m=\u001b[0m \u001b[0;34m(\u001b[0m\u001b[0mnested_args\u001b[0m\u001b[0;34m,\u001b[0m\u001b[0;34m)\u001b[0m\u001b[0;34m\u001b[0m\u001b[0;34m\u001b[0m\u001b[0m\n\u001b[0;32m--> 177\u001b[0;31m       \u001b[0mret\u001b[0m \u001b[0;34m=\u001b[0m \u001b[0mautograph\u001b[0m\u001b[0;34m.\u001b[0m\u001b[0mtf_convert\u001b[0m\u001b[0;34m(\u001b[0m\u001b[0mself\u001b[0m\u001b[0;34m.\u001b[0m\u001b[0m_func\u001b[0m\u001b[0;34m,\u001b[0m \u001b[0mag_ctx\u001b[0m\u001b[0;34m)\u001b[0m\u001b[0;34m(\u001b[0m\u001b[0;34m*\u001b[0m\u001b[0mnested_args\u001b[0m\u001b[0;34m)\u001b[0m\u001b[0;34m\u001b[0m\u001b[0;34m\u001b[0m\u001b[0m\n\u001b[0m\u001b[1;32m    178\u001b[0m       \u001b[0;32mif\u001b[0m \u001b[0m_should_pack\u001b[0m\u001b[0;34m(\u001b[0m\u001b[0mret\u001b[0m\u001b[0;34m)\u001b[0m\u001b[0;34m:\u001b[0m\u001b[0;34m\u001b[0m\u001b[0;34m\u001b[0m\u001b[0m\n\u001b[1;32m    179\u001b[0m         \u001b[0mret\u001b[0m \u001b[0;34m=\u001b[0m \u001b[0mtuple\u001b[0m\u001b[0;34m(\u001b[0m\u001b[0mret\u001b[0m\u001b[0;34m)\u001b[0m\u001b[0;34m\u001b[0m\u001b[0;34m\u001b[0m\u001b[0m\n",
            "\u001b[0;32m/usr/local/lib/python3.7/dist-packages/tensorflow/python/autograph/impl/api.py\u001b[0m in \u001b[0;36mwrapper\u001b[0;34m(*args, **kwargs)\u001b[0m\n\u001b[1;32m    690\u001b[0m       \u001b[0;32mexcept\u001b[0m \u001b[0mException\u001b[0m \u001b[0;32mas\u001b[0m \u001b[0me\u001b[0m\u001b[0;34m:\u001b[0m  \u001b[0;31m# pylint:disable=broad-except\u001b[0m\u001b[0;34m\u001b[0m\u001b[0;34m\u001b[0m\u001b[0m\n\u001b[1;32m    691\u001b[0m         \u001b[0;32mif\u001b[0m \u001b[0mhasattr\u001b[0m\u001b[0;34m(\u001b[0m\u001b[0me\u001b[0m\u001b[0;34m,\u001b[0m \u001b[0;34m'ag_error_metadata'\u001b[0m\u001b[0;34m)\u001b[0m\u001b[0;34m:\u001b[0m\u001b[0;34m\u001b[0m\u001b[0;34m\u001b[0m\u001b[0m\n\u001b[0;32m--> 692\u001b[0;31m           \u001b[0;32mraise\u001b[0m \u001b[0me\u001b[0m\u001b[0;34m.\u001b[0m\u001b[0mag_error_metadata\u001b[0m\u001b[0;34m.\u001b[0m\u001b[0mto_exception\u001b[0m\u001b[0;34m(\u001b[0m\u001b[0me\u001b[0m\u001b[0;34m)\u001b[0m\u001b[0;34m\u001b[0m\u001b[0;34m\u001b[0m\u001b[0m\n\u001b[0m\u001b[1;32m    693\u001b[0m         \u001b[0;32melse\u001b[0m\u001b[0;34m:\u001b[0m\u001b[0;34m\u001b[0m\u001b[0;34m\u001b[0m\u001b[0m\n\u001b[1;32m    694\u001b[0m           \u001b[0;32mraise\u001b[0m\u001b[0;34m\u001b[0m\u001b[0;34m\u001b[0m\u001b[0m\n",
            "\u001b[0;32m/usr/local/lib/python3.7/dist-packages/tensorflow/python/autograph/impl/api.py\u001b[0m in \u001b[0;36mwrapper\u001b[0;34m(*args, **kwargs)\u001b[0m\n\u001b[1;32m    687\u001b[0m       \u001b[0;32mtry\u001b[0m\u001b[0;34m:\u001b[0m\u001b[0;34m\u001b[0m\u001b[0;34m\u001b[0m\u001b[0m\n\u001b[1;32m    688\u001b[0m         \u001b[0;32mwith\u001b[0m \u001b[0mconversion_ctx\u001b[0m\u001b[0;34m:\u001b[0m\u001b[0;34m\u001b[0m\u001b[0;34m\u001b[0m\u001b[0m\n\u001b[0;32m--> 689\u001b[0;31m           \u001b[0;32mreturn\u001b[0m \u001b[0mconverted_call\u001b[0m\u001b[0;34m(\u001b[0m\u001b[0mf\u001b[0m\u001b[0;34m,\u001b[0m \u001b[0margs\u001b[0m\u001b[0;34m,\u001b[0m \u001b[0mkwargs\u001b[0m\u001b[0;34m,\u001b[0m \u001b[0moptions\u001b[0m\u001b[0;34m=\u001b[0m\u001b[0moptions\u001b[0m\u001b[0;34m)\u001b[0m\u001b[0;34m\u001b[0m\u001b[0;34m\u001b[0m\u001b[0m\n\u001b[0m\u001b[1;32m    690\u001b[0m       \u001b[0;32mexcept\u001b[0m \u001b[0mException\u001b[0m \u001b[0;32mas\u001b[0m \u001b[0me\u001b[0m\u001b[0;34m:\u001b[0m  \u001b[0;31m# pylint:disable=broad-except\u001b[0m\u001b[0;34m\u001b[0m\u001b[0;34m\u001b[0m\u001b[0m\n\u001b[1;32m    691\u001b[0m         \u001b[0;32mif\u001b[0m \u001b[0mhasattr\u001b[0m\u001b[0;34m(\u001b[0m\u001b[0me\u001b[0m\u001b[0;34m,\u001b[0m \u001b[0;34m'ag_error_metadata'\u001b[0m\u001b[0;34m)\u001b[0m\u001b[0;34m:\u001b[0m\u001b[0;34m\u001b[0m\u001b[0;34m\u001b[0m\u001b[0m\n",
            "\u001b[0;32m/usr/local/lib/python3.7/dist-packages/tensorflow/python/autograph/impl/api.py\u001b[0m in \u001b[0;36mconverted_call\u001b[0;34m(f, args, kwargs, caller_fn_scope, options)\u001b[0m\n\u001b[1;32m    437\u001b[0m     \u001b[0;32mtry\u001b[0m\u001b[0;34m:\u001b[0m\u001b[0;34m\u001b[0m\u001b[0;34m\u001b[0m\u001b[0m\n\u001b[1;32m    438\u001b[0m       \u001b[0;32mif\u001b[0m \u001b[0mkwargs\u001b[0m \u001b[0;32mis\u001b[0m \u001b[0;32mnot\u001b[0m \u001b[0;32mNone\u001b[0m\u001b[0;34m:\u001b[0m\u001b[0;34m\u001b[0m\u001b[0;34m\u001b[0m\u001b[0m\n\u001b[0;32m--> 439\u001b[0;31m         \u001b[0mresult\u001b[0m \u001b[0;34m=\u001b[0m \u001b[0mconverted_f\u001b[0m\u001b[0;34m(\u001b[0m\u001b[0;34m*\u001b[0m\u001b[0meffective_args\u001b[0m\u001b[0;34m,\u001b[0m \u001b[0;34m**\u001b[0m\u001b[0mkwargs\u001b[0m\u001b[0;34m)\u001b[0m\u001b[0;34m\u001b[0m\u001b[0;34m\u001b[0m\u001b[0m\n\u001b[0m\u001b[1;32m    440\u001b[0m       \u001b[0;32melse\u001b[0m\u001b[0;34m:\u001b[0m\u001b[0;34m\u001b[0m\u001b[0;34m\u001b[0m\u001b[0m\n\u001b[1;32m    441\u001b[0m         \u001b[0mresult\u001b[0m \u001b[0;34m=\u001b[0m \u001b[0mconverted_f\u001b[0m\u001b[0;34m(\u001b[0m\u001b[0;34m*\u001b[0m\u001b[0meffective_args\u001b[0m\u001b[0;34m)\u001b[0m\u001b[0;34m\u001b[0m\u001b[0;34m\u001b[0m\u001b[0m\n",
            "\u001b[0;31mTypeError\u001b[0m: in user code:\n\n\n    TypeError: <lambda>() takes 1 positional argument but 2 were given\n"
          ]
        }
      ],
      "source": [
        "# 윈도마다 batch(window_length)를 호출한다. 이 길이는 윈도 길이와 같기 때문에 텐서 하나를 담은 데이터 셋을 얻는다.\n",
        "# 이 데이터셋은 연속된 101글자 길이의 윈도를 담는다.\n",
        "dataset1 = dataset.flat_map(lambda window: window.batch(window_length))"
      ]
    },
    {
      "cell_type": "markdown",
      "id": "989f5288",
      "metadata": {
        "id": "989f5288"
      },
      "source": [
        "경사하강법은 훈련 세트 샘플이 동일 독립 분포 일 떄 가장 잘 작동하기 때문에 이 윈도를 섞어야한다. 그다음 윈도를 배치로 만들고 입력과 타깃으로 분리하겠다."
      ]
    },
    {
      "cell_type": "code",
      "execution_count": null,
      "id": "d914b52a",
      "metadata": {
        "id": "d914b52a",
        "colab": {
          "base_uri": "https://localhost:8080/",
          "height": 450
        },
        "outputId": "68494ed4-a51c-470a-ab84-6bfb61873760"
      },
      "outputs": [
        {
          "output_type": "error",
          "ename": "TypeError",
          "evalue": "ignored",
          "traceback": [
            "\u001b[0;31m---------------------------------------------------------------------------\u001b[0m",
            "\u001b[0;31mTypeError\u001b[0m                                 Traceback (most recent call last)",
            "\u001b[0;32m<ipython-input-74-d6b4855e64bd>\u001b[0m in \u001b[0;36m<module>\u001b[0;34m\u001b[0m\n\u001b[1;32m      4\u001b[0m \u001b[0mbatch_size\u001b[0m\u001b[0;34m=\u001b[0m \u001b[0;36m32\u001b[0m\u001b[0;34m\u001b[0m\u001b[0;34m\u001b[0m\u001b[0m\n\u001b[1;32m      5\u001b[0m \u001b[0mdataset1\u001b[0m \u001b[0;34m=\u001b[0m \u001b[0mdataset1\u001b[0m\u001b[0;34m.\u001b[0m\u001b[0mshuffle\u001b[0m\u001b[0;34m(\u001b[0m\u001b[0;36m10000\u001b[0m\u001b[0;34m)\u001b[0m\u001b[0;34m.\u001b[0m\u001b[0mbatch\u001b[0m\u001b[0;34m(\u001b[0m\u001b[0mbatch_size\u001b[0m\u001b[0;34m)\u001b[0m\u001b[0;34m\u001b[0m\u001b[0;34m\u001b[0m\u001b[0m\n\u001b[0;32m----> 6\u001b[0;31m \u001b[0mdataset1\u001b[0m \u001b[0;34m=\u001b[0m \u001b[0mdataset1\u001b[0m\u001b[0;34m.\u001b[0m\u001b[0mmap\u001b[0m\u001b[0;34m(\u001b[0m\u001b[0;32mlambda\u001b[0m \u001b[0mwindows\u001b[0m\u001b[0;34m:\u001b[0m \u001b[0;34m(\u001b[0m\u001b[0mwindows\u001b[0m\u001b[0;34m[\u001b[0m\u001b[0;34m:\u001b[0m\u001b[0;34m,\u001b[0m \u001b[0;34m:\u001b[0m\u001b[0;34m-\u001b[0m\u001b[0;36m1\u001b[0m\u001b[0;34m]\u001b[0m\u001b[0;34m,\u001b[0m \u001b[0mwindows\u001b[0m\u001b[0;34m[\u001b[0m\u001b[0;34m:\u001b[0m\u001b[0;34m,\u001b[0m \u001b[0;36m1\u001b[0m\u001b[0;34m:\u001b[0m\u001b[0;34m]\u001b[0m\u001b[0;34m)\u001b[0m\u001b[0;34m)\u001b[0m\u001b[0;34m\u001b[0m\u001b[0;34m\u001b[0m\u001b[0m\n\u001b[0m",
            "\u001b[0;32m/usr/local/lib/python3.7/dist-packages/tensorflow/python/data/ops/dataset_ops.py\u001b[0m in \u001b[0;36mmap\u001b[0;34m(self, map_func, num_parallel_calls, deterministic, name)\u001b[0m\n\u001b[1;32m   2046\u001b[0m         warnings.warn(\"The `deterministic` argument has no effect unless the \"\n\u001b[1;32m   2047\u001b[0m                       \"`num_parallel_calls` argument is specified.\")\n\u001b[0;32m-> 2048\u001b[0;31m       \u001b[0;32mreturn\u001b[0m \u001b[0mMapDataset\u001b[0m\u001b[0;34m(\u001b[0m\u001b[0mself\u001b[0m\u001b[0;34m,\u001b[0m \u001b[0mmap_func\u001b[0m\u001b[0;34m,\u001b[0m \u001b[0mpreserve_cardinality\u001b[0m\u001b[0;34m=\u001b[0m\u001b[0;32mTrue\u001b[0m\u001b[0;34m,\u001b[0m \u001b[0mname\u001b[0m\u001b[0;34m=\u001b[0m\u001b[0mname\u001b[0m\u001b[0;34m)\u001b[0m\u001b[0;34m\u001b[0m\u001b[0;34m\u001b[0m\u001b[0m\n\u001b[0m\u001b[1;32m   2049\u001b[0m     \u001b[0;32melse\u001b[0m\u001b[0;34m:\u001b[0m\u001b[0;34m\u001b[0m\u001b[0;34m\u001b[0m\u001b[0m\n\u001b[1;32m   2050\u001b[0m       return ParallelMapDataset(\n",
            "\u001b[0;32m/usr/local/lib/python3.7/dist-packages/tensorflow/python/data/ops/dataset_ops.py\u001b[0m in \u001b[0;36m__init__\u001b[0;34m(self, input_dataset, map_func, use_inter_op_parallelism, preserve_cardinality, use_legacy_function, name)\u001b[0m\n\u001b[1;32m   5245\u001b[0m         \u001b[0mself\u001b[0m\u001b[0;34m.\u001b[0m\u001b[0m_transformation_name\u001b[0m\u001b[0;34m(\u001b[0m\u001b[0;34m)\u001b[0m\u001b[0;34m,\u001b[0m\u001b[0;34m\u001b[0m\u001b[0;34m\u001b[0m\u001b[0m\n\u001b[1;32m   5246\u001b[0m         \u001b[0mdataset\u001b[0m\u001b[0;34m=\u001b[0m\u001b[0minput_dataset\u001b[0m\u001b[0;34m,\u001b[0m\u001b[0;34m\u001b[0m\u001b[0;34m\u001b[0m\u001b[0m\n\u001b[0;32m-> 5247\u001b[0;31m         use_legacy_function=use_legacy_function)\n\u001b[0m\u001b[1;32m   5248\u001b[0m     \u001b[0mself\u001b[0m\u001b[0;34m.\u001b[0m\u001b[0m_name\u001b[0m \u001b[0;34m=\u001b[0m \u001b[0mname\u001b[0m\u001b[0;34m\u001b[0m\u001b[0;34m\u001b[0m\u001b[0m\n\u001b[1;32m   5249\u001b[0m     variant_tensor = gen_dataset_ops.map_dataset(\n",
            "\u001b[0;32m/usr/local/lib/python3.7/dist-packages/tensorflow/python/data/ops/structured_function.py\u001b[0m in \u001b[0;36m__init__\u001b[0;34m(self, func, transformation_name, dataset, input_classes, input_shapes, input_types, input_structure, add_to_graph, use_legacy_function, defun_kwargs)\u001b[0m\n\u001b[1;32m    269\u001b[0m         \u001b[0mfn_factory\u001b[0m \u001b[0;34m=\u001b[0m \u001b[0mtrace_tf_function\u001b[0m\u001b[0;34m(\u001b[0m\u001b[0mdefun_kwargs\u001b[0m\u001b[0;34m)\u001b[0m\u001b[0;34m\u001b[0m\u001b[0;34m\u001b[0m\u001b[0m\n\u001b[1;32m    270\u001b[0m \u001b[0;34m\u001b[0m\u001b[0m\n\u001b[0;32m--> 271\u001b[0;31m     \u001b[0mself\u001b[0m\u001b[0;34m.\u001b[0m\u001b[0m_function\u001b[0m \u001b[0;34m=\u001b[0m \u001b[0mfn_factory\u001b[0m\u001b[0;34m(\u001b[0m\u001b[0;34m)\u001b[0m\u001b[0;34m\u001b[0m\u001b[0;34m\u001b[0m\u001b[0m\n\u001b[0m\u001b[1;32m    272\u001b[0m     \u001b[0;31m# There is no graph to add in eager mode.\u001b[0m\u001b[0;34m\u001b[0m\u001b[0;34m\u001b[0m\u001b[0;34m\u001b[0m\u001b[0m\n\u001b[1;32m    273\u001b[0m     \u001b[0madd_to_graph\u001b[0m \u001b[0;34m&=\u001b[0m \u001b[0;32mnot\u001b[0m \u001b[0mcontext\u001b[0m\u001b[0;34m.\u001b[0m\u001b[0mexecuting_eagerly\u001b[0m\u001b[0;34m(\u001b[0m\u001b[0;34m)\u001b[0m\u001b[0;34m\u001b[0m\u001b[0;34m\u001b[0m\u001b[0m\n",
            "\u001b[0;32m/usr/local/lib/python3.7/dist-packages/tensorflow/python/eager/function.py\u001b[0m in \u001b[0;36mget_concrete_function\u001b[0;34m(self, *args, **kwargs)\u001b[0m\n\u001b[1;32m   2566\u001b[0m     \"\"\"\n\u001b[1;32m   2567\u001b[0m     graph_function = self._get_concrete_function_garbage_collected(\n\u001b[0;32m-> 2568\u001b[0;31m         *args, **kwargs)\n\u001b[0m\u001b[1;32m   2569\u001b[0m     \u001b[0mgraph_function\u001b[0m\u001b[0;34m.\u001b[0m\u001b[0m_garbage_collector\u001b[0m\u001b[0;34m.\u001b[0m\u001b[0mrelease\u001b[0m\u001b[0;34m(\u001b[0m\u001b[0;34m)\u001b[0m  \u001b[0;31m# pylint: disable=protected-access\u001b[0m\u001b[0;34m\u001b[0m\u001b[0;34m\u001b[0m\u001b[0m\n\u001b[1;32m   2570\u001b[0m     \u001b[0;32mreturn\u001b[0m \u001b[0mgraph_function\u001b[0m\u001b[0;34m\u001b[0m\u001b[0;34m\u001b[0m\u001b[0m\n",
            "\u001b[0;32m/usr/local/lib/python3.7/dist-packages/tensorflow/python/eager/function.py\u001b[0m in \u001b[0;36m_get_concrete_function_garbage_collected\u001b[0;34m(self, *args, **kwargs)\u001b[0m\n\u001b[1;32m   2531\u001b[0m       \u001b[0margs\u001b[0m\u001b[0;34m,\u001b[0m \u001b[0mkwargs\u001b[0m \u001b[0;34m=\u001b[0m \u001b[0;32mNone\u001b[0m\u001b[0;34m,\u001b[0m \u001b[0;32mNone\u001b[0m\u001b[0;34m\u001b[0m\u001b[0;34m\u001b[0m\u001b[0m\n\u001b[1;32m   2532\u001b[0m     \u001b[0;32mwith\u001b[0m \u001b[0mself\u001b[0m\u001b[0;34m.\u001b[0m\u001b[0m_lock\u001b[0m\u001b[0;34m:\u001b[0m\u001b[0;34m\u001b[0m\u001b[0;34m\u001b[0m\u001b[0m\n\u001b[0;32m-> 2533\u001b[0;31m       \u001b[0mgraph_function\u001b[0m\u001b[0;34m,\u001b[0m \u001b[0m_\u001b[0m \u001b[0;34m=\u001b[0m \u001b[0mself\u001b[0m\u001b[0;34m.\u001b[0m\u001b[0m_maybe_define_function\u001b[0m\u001b[0;34m(\u001b[0m\u001b[0margs\u001b[0m\u001b[0;34m,\u001b[0m \u001b[0mkwargs\u001b[0m\u001b[0;34m)\u001b[0m\u001b[0;34m\u001b[0m\u001b[0;34m\u001b[0m\u001b[0m\n\u001b[0m\u001b[1;32m   2534\u001b[0m       \u001b[0mseen_names\u001b[0m \u001b[0;34m=\u001b[0m \u001b[0mset\u001b[0m\u001b[0;34m(\u001b[0m\u001b[0;34m)\u001b[0m\u001b[0;34m\u001b[0m\u001b[0;34m\u001b[0m\u001b[0m\n\u001b[1;32m   2535\u001b[0m       captured = object_identity.ObjectIdentitySet(\n",
            "\u001b[0;32m/usr/local/lib/python3.7/dist-packages/tensorflow/python/eager/function.py\u001b[0m in \u001b[0;36m_maybe_define_function\u001b[0;34m(self, args, kwargs)\u001b[0m\n\u001b[1;32m   2709\u001b[0m             \u001b[0;34m(\u001b[0m\u001b[0margs\u001b[0m\u001b[0;34m,\u001b[0m \u001b[0mkwargs\u001b[0m\u001b[0;34m)\u001b[0m \u001b[0;34m=\u001b[0m \u001b[0mcache_key\u001b[0m\u001b[0;34m.\u001b[0m\u001b[0m_placeholder_value\u001b[0m\u001b[0;34m(\u001b[0m\u001b[0;34m)\u001b[0m  \u001b[0;31m# pylint: disable=protected-access\u001b[0m\u001b[0;34m\u001b[0m\u001b[0;34m\u001b[0m\u001b[0m\n\u001b[1;32m   2710\u001b[0m \u001b[0;34m\u001b[0m\u001b[0m\n\u001b[0;32m-> 2711\u001b[0;31m           \u001b[0mgraph_function\u001b[0m \u001b[0;34m=\u001b[0m \u001b[0mself\u001b[0m\u001b[0;34m.\u001b[0m\u001b[0m_create_graph_function\u001b[0m\u001b[0;34m(\u001b[0m\u001b[0margs\u001b[0m\u001b[0;34m,\u001b[0m \u001b[0mkwargs\u001b[0m\u001b[0;34m)\u001b[0m\u001b[0;34m\u001b[0m\u001b[0;34m\u001b[0m\u001b[0m\n\u001b[0m\u001b[1;32m   2712\u001b[0m           self._function_cache.add(cache_key, cache_key_deletion_observer,\n\u001b[1;32m   2713\u001b[0m                                    graph_function)\n",
            "\u001b[0;32m/usr/local/lib/python3.7/dist-packages/tensorflow/python/eager/function.py\u001b[0m in \u001b[0;36m_create_graph_function\u001b[0;34m(self, args, kwargs)\u001b[0m\n\u001b[1;32m   2634\u001b[0m             \u001b[0mautograph_options\u001b[0m\u001b[0;34m=\u001b[0m\u001b[0mself\u001b[0m\u001b[0;34m.\u001b[0m\u001b[0m_autograph_options\u001b[0m\u001b[0;34m,\u001b[0m\u001b[0;34m\u001b[0m\u001b[0;34m\u001b[0m\u001b[0m\n\u001b[1;32m   2635\u001b[0m             \u001b[0marg_names\u001b[0m\u001b[0;34m=\u001b[0m\u001b[0marg_names\u001b[0m\u001b[0;34m,\u001b[0m\u001b[0;34m\u001b[0m\u001b[0;34m\u001b[0m\u001b[0m\n\u001b[0;32m-> 2636\u001b[0;31m             capture_by_value=self._capture_by_value),\n\u001b[0m\u001b[1;32m   2637\u001b[0m         \u001b[0mself\u001b[0m\u001b[0;34m.\u001b[0m\u001b[0m_function_attributes\u001b[0m\u001b[0;34m,\u001b[0m\u001b[0;34m\u001b[0m\u001b[0;34m\u001b[0m\u001b[0m\n\u001b[1;32m   2638\u001b[0m         \u001b[0mspec\u001b[0m\u001b[0;34m=\u001b[0m\u001b[0mself\u001b[0m\u001b[0;34m.\u001b[0m\u001b[0mfunction_spec\u001b[0m\u001b[0;34m,\u001b[0m\u001b[0;34m\u001b[0m\u001b[0;34m\u001b[0m\u001b[0m\n",
            "\u001b[0;32m/usr/local/lib/python3.7/dist-packages/tensorflow/python/framework/func_graph.py\u001b[0m in \u001b[0;36mfunc_graph_from_py_func\u001b[0;34m(name, python_func, args, kwargs, signature, func_graph, autograph, autograph_options, add_control_dependencies, arg_names, op_return_value, collections, capture_by_value, acd_record_initial_resource_uses)\u001b[0m\n\u001b[1;32m   1139\u001b[0m         \u001b[0m_\u001b[0m\u001b[0;34m,\u001b[0m \u001b[0moriginal_func\u001b[0m \u001b[0;34m=\u001b[0m \u001b[0mtf_decorator\u001b[0m\u001b[0;34m.\u001b[0m\u001b[0munwrap\u001b[0m\u001b[0;34m(\u001b[0m\u001b[0mpython_func\u001b[0m\u001b[0;34m)\u001b[0m\u001b[0;34m\u001b[0m\u001b[0;34m\u001b[0m\u001b[0m\n\u001b[1;32m   1140\u001b[0m \u001b[0;34m\u001b[0m\u001b[0m\n\u001b[0;32m-> 1141\u001b[0;31m       \u001b[0mfunc_outputs\u001b[0m \u001b[0;34m=\u001b[0m \u001b[0mpython_func\u001b[0m\u001b[0;34m(\u001b[0m\u001b[0;34m*\u001b[0m\u001b[0mfunc_args\u001b[0m\u001b[0;34m,\u001b[0m \u001b[0;34m**\u001b[0m\u001b[0mfunc_kwargs\u001b[0m\u001b[0;34m)\u001b[0m\u001b[0;34m\u001b[0m\u001b[0;34m\u001b[0m\u001b[0m\n\u001b[0m\u001b[1;32m   1142\u001b[0m \u001b[0;34m\u001b[0m\u001b[0m\n\u001b[1;32m   1143\u001b[0m       \u001b[0;31m# invariant: `func_outputs` contains only Tensors, CompositeTensors,\u001b[0m\u001b[0;34m\u001b[0m\u001b[0;34m\u001b[0m\u001b[0;34m\u001b[0m\u001b[0m\n",
            "\u001b[0;32m/usr/local/lib/python3.7/dist-packages/tensorflow/python/data/ops/structured_function.py\u001b[0m in \u001b[0;36mwrapped_fn\u001b[0;34m(*args)\u001b[0m\n\u001b[1;32m    246\u001b[0m           attributes=defun_kwargs)\n\u001b[1;32m    247\u001b[0m       \u001b[0;32mdef\u001b[0m \u001b[0mwrapped_fn\u001b[0m\u001b[0;34m(\u001b[0m\u001b[0;34m*\u001b[0m\u001b[0margs\u001b[0m\u001b[0;34m)\u001b[0m\u001b[0;34m:\u001b[0m  \u001b[0;31m# pylint: disable=missing-docstring\u001b[0m\u001b[0;34m\u001b[0m\u001b[0;34m\u001b[0m\u001b[0m\n\u001b[0;32m--> 248\u001b[0;31m         \u001b[0mret\u001b[0m \u001b[0;34m=\u001b[0m \u001b[0mwrapper_helper\u001b[0m\u001b[0;34m(\u001b[0m\u001b[0;34m*\u001b[0m\u001b[0margs\u001b[0m\u001b[0;34m)\u001b[0m\u001b[0;34m\u001b[0m\u001b[0;34m\u001b[0m\u001b[0m\n\u001b[0m\u001b[1;32m    249\u001b[0m         \u001b[0mret\u001b[0m \u001b[0;34m=\u001b[0m \u001b[0mstructure\u001b[0m\u001b[0;34m.\u001b[0m\u001b[0mto_tensor_list\u001b[0m\u001b[0;34m(\u001b[0m\u001b[0mself\u001b[0m\u001b[0;34m.\u001b[0m\u001b[0m_output_structure\u001b[0m\u001b[0;34m,\u001b[0m \u001b[0mret\u001b[0m\u001b[0;34m)\u001b[0m\u001b[0;34m\u001b[0m\u001b[0;34m\u001b[0m\u001b[0m\n\u001b[1;32m    250\u001b[0m         \u001b[0;32mreturn\u001b[0m \u001b[0;34m[\u001b[0m\u001b[0mops\u001b[0m\u001b[0;34m.\u001b[0m\u001b[0mconvert_to_tensor\u001b[0m\u001b[0;34m(\u001b[0m\u001b[0mt\u001b[0m\u001b[0;34m)\u001b[0m \u001b[0;32mfor\u001b[0m \u001b[0mt\u001b[0m \u001b[0;32min\u001b[0m \u001b[0mret\u001b[0m\u001b[0;34m]\u001b[0m\u001b[0;34m\u001b[0m\u001b[0;34m\u001b[0m\u001b[0m\n",
            "\u001b[0;32m/usr/local/lib/python3.7/dist-packages/tensorflow/python/data/ops/structured_function.py\u001b[0m in \u001b[0;36mwrapper_helper\u001b[0;34m(*args)\u001b[0m\n\u001b[1;32m    175\u001b[0m       \u001b[0;32mif\u001b[0m \u001b[0;32mnot\u001b[0m \u001b[0m_should_unpack\u001b[0m\u001b[0;34m(\u001b[0m\u001b[0mnested_args\u001b[0m\u001b[0;34m)\u001b[0m\u001b[0;34m:\u001b[0m\u001b[0;34m\u001b[0m\u001b[0;34m\u001b[0m\u001b[0m\n\u001b[1;32m    176\u001b[0m         \u001b[0mnested_args\u001b[0m \u001b[0;34m=\u001b[0m \u001b[0;34m(\u001b[0m\u001b[0mnested_args\u001b[0m\u001b[0;34m,\u001b[0m\u001b[0;34m)\u001b[0m\u001b[0;34m\u001b[0m\u001b[0;34m\u001b[0m\u001b[0m\n\u001b[0;32m--> 177\u001b[0;31m       \u001b[0mret\u001b[0m \u001b[0;34m=\u001b[0m \u001b[0mautograph\u001b[0m\u001b[0;34m.\u001b[0m\u001b[0mtf_convert\u001b[0m\u001b[0;34m(\u001b[0m\u001b[0mself\u001b[0m\u001b[0;34m.\u001b[0m\u001b[0m_func\u001b[0m\u001b[0;34m,\u001b[0m \u001b[0mag_ctx\u001b[0m\u001b[0;34m)\u001b[0m\u001b[0;34m(\u001b[0m\u001b[0;34m*\u001b[0m\u001b[0mnested_args\u001b[0m\u001b[0;34m)\u001b[0m\u001b[0;34m\u001b[0m\u001b[0;34m\u001b[0m\u001b[0m\n\u001b[0m\u001b[1;32m    178\u001b[0m       \u001b[0;32mif\u001b[0m \u001b[0m_should_pack\u001b[0m\u001b[0;34m(\u001b[0m\u001b[0mret\u001b[0m\u001b[0;34m)\u001b[0m\u001b[0;34m:\u001b[0m\u001b[0;34m\u001b[0m\u001b[0;34m\u001b[0m\u001b[0m\n\u001b[1;32m    179\u001b[0m         \u001b[0mret\u001b[0m \u001b[0;34m=\u001b[0m \u001b[0mtuple\u001b[0m\u001b[0;34m(\u001b[0m\u001b[0mret\u001b[0m\u001b[0;34m)\u001b[0m\u001b[0;34m\u001b[0m\u001b[0;34m\u001b[0m\u001b[0m\n",
            "\u001b[0;32m/usr/local/lib/python3.7/dist-packages/tensorflow/python/autograph/impl/api.py\u001b[0m in \u001b[0;36mwrapper\u001b[0;34m(*args, **kwargs)\u001b[0m\n\u001b[1;32m    690\u001b[0m       \u001b[0;32mexcept\u001b[0m \u001b[0mException\u001b[0m \u001b[0;32mas\u001b[0m \u001b[0me\u001b[0m\u001b[0;34m:\u001b[0m  \u001b[0;31m# pylint:disable=broad-except\u001b[0m\u001b[0;34m\u001b[0m\u001b[0;34m\u001b[0m\u001b[0m\n\u001b[1;32m    691\u001b[0m         \u001b[0;32mif\u001b[0m \u001b[0mhasattr\u001b[0m\u001b[0;34m(\u001b[0m\u001b[0me\u001b[0m\u001b[0;34m,\u001b[0m \u001b[0;34m'ag_error_metadata'\u001b[0m\u001b[0;34m)\u001b[0m\u001b[0;34m:\u001b[0m\u001b[0;34m\u001b[0m\u001b[0;34m\u001b[0m\u001b[0m\n\u001b[0;32m--> 692\u001b[0;31m           \u001b[0;32mraise\u001b[0m \u001b[0me\u001b[0m\u001b[0;34m.\u001b[0m\u001b[0mag_error_metadata\u001b[0m\u001b[0;34m.\u001b[0m\u001b[0mto_exception\u001b[0m\u001b[0;34m(\u001b[0m\u001b[0me\u001b[0m\u001b[0;34m)\u001b[0m\u001b[0;34m\u001b[0m\u001b[0;34m\u001b[0m\u001b[0m\n\u001b[0m\u001b[1;32m    693\u001b[0m         \u001b[0;32melse\u001b[0m\u001b[0;34m:\u001b[0m\u001b[0;34m\u001b[0m\u001b[0;34m\u001b[0m\u001b[0m\n\u001b[1;32m    694\u001b[0m           \u001b[0;32mraise\u001b[0m\u001b[0;34m\u001b[0m\u001b[0;34m\u001b[0m\u001b[0m\n",
            "\u001b[0;32m/usr/local/lib/python3.7/dist-packages/tensorflow/python/autograph/impl/api.py\u001b[0m in \u001b[0;36mwrapper\u001b[0;34m(*args, **kwargs)\u001b[0m\n\u001b[1;32m    687\u001b[0m       \u001b[0;32mtry\u001b[0m\u001b[0;34m:\u001b[0m\u001b[0;34m\u001b[0m\u001b[0;34m\u001b[0m\u001b[0m\n\u001b[1;32m    688\u001b[0m         \u001b[0;32mwith\u001b[0m \u001b[0mconversion_ctx\u001b[0m\u001b[0;34m:\u001b[0m\u001b[0;34m\u001b[0m\u001b[0;34m\u001b[0m\u001b[0m\n\u001b[0;32m--> 689\u001b[0;31m           \u001b[0;32mreturn\u001b[0m \u001b[0mconverted_call\u001b[0m\u001b[0;34m(\u001b[0m\u001b[0mf\u001b[0m\u001b[0;34m,\u001b[0m \u001b[0margs\u001b[0m\u001b[0;34m,\u001b[0m \u001b[0mkwargs\u001b[0m\u001b[0;34m,\u001b[0m \u001b[0moptions\u001b[0m\u001b[0;34m=\u001b[0m\u001b[0moptions\u001b[0m\u001b[0;34m)\u001b[0m\u001b[0;34m\u001b[0m\u001b[0;34m\u001b[0m\u001b[0m\n\u001b[0m\u001b[1;32m    690\u001b[0m       \u001b[0;32mexcept\u001b[0m \u001b[0mException\u001b[0m \u001b[0;32mas\u001b[0m \u001b[0me\u001b[0m\u001b[0;34m:\u001b[0m  \u001b[0;31m# pylint:disable=broad-except\u001b[0m\u001b[0;34m\u001b[0m\u001b[0;34m\u001b[0m\u001b[0m\n\u001b[1;32m    691\u001b[0m         \u001b[0;32mif\u001b[0m \u001b[0mhasattr\u001b[0m\u001b[0;34m(\u001b[0m\u001b[0me\u001b[0m\u001b[0;34m,\u001b[0m \u001b[0;34m'ag_error_metadata'\u001b[0m\u001b[0;34m)\u001b[0m\u001b[0;34m:\u001b[0m\u001b[0;34m\u001b[0m\u001b[0;34m\u001b[0m\u001b[0m\n",
            "\u001b[0;32m/usr/local/lib/python3.7/dist-packages/tensorflow/python/autograph/impl/api.py\u001b[0m in \u001b[0;36mconverted_call\u001b[0;34m(f, args, kwargs, caller_fn_scope, options)\u001b[0m\n\u001b[1;32m    437\u001b[0m     \u001b[0;32mtry\u001b[0m\u001b[0;34m:\u001b[0m\u001b[0;34m\u001b[0m\u001b[0;34m\u001b[0m\u001b[0m\n\u001b[1;32m    438\u001b[0m       \u001b[0;32mif\u001b[0m \u001b[0mkwargs\u001b[0m \u001b[0;32mis\u001b[0m \u001b[0;32mnot\u001b[0m \u001b[0;32mNone\u001b[0m\u001b[0;34m:\u001b[0m\u001b[0;34m\u001b[0m\u001b[0;34m\u001b[0m\u001b[0m\n\u001b[0;32m--> 439\u001b[0;31m         \u001b[0mresult\u001b[0m \u001b[0;34m=\u001b[0m \u001b[0mconverted_f\u001b[0m\u001b[0;34m(\u001b[0m\u001b[0;34m*\u001b[0m\u001b[0meffective_args\u001b[0m\u001b[0;34m,\u001b[0m \u001b[0;34m**\u001b[0m\u001b[0mkwargs\u001b[0m\u001b[0;34m)\u001b[0m\u001b[0;34m\u001b[0m\u001b[0;34m\u001b[0m\u001b[0m\n\u001b[0m\u001b[1;32m    440\u001b[0m       \u001b[0;32melse\u001b[0m\u001b[0;34m:\u001b[0m\u001b[0;34m\u001b[0m\u001b[0;34m\u001b[0m\u001b[0m\n\u001b[1;32m    441\u001b[0m         \u001b[0mresult\u001b[0m \u001b[0;34m=\u001b[0m \u001b[0mconverted_f\u001b[0m\u001b[0;34m(\u001b[0m\u001b[0;34m*\u001b[0m\u001b[0meffective_args\u001b[0m\u001b[0;34m)\u001b[0m\u001b[0;34m\u001b[0m\u001b[0;34m\u001b[0m\u001b[0m\n",
            "\u001b[0;32m/tmp/__autograph_generated_fileh4q7wreg.py\u001b[0m in \u001b[0;36m<lambda>\u001b[0;34m(windows)\u001b[0m\n\u001b[1;32m      3\u001b[0m \u001b[0;34m\u001b[0m\u001b[0m\n\u001b[1;32m      4\u001b[0m     \u001b[0;32mdef\u001b[0m \u001b[0minner_factory\u001b[0m\u001b[0;34m(\u001b[0m\u001b[0mag__\u001b[0m\u001b[0;34m)\u001b[0m\u001b[0;34m:\u001b[0m\u001b[0;34m\u001b[0m\u001b[0;34m\u001b[0m\u001b[0m\n\u001b[0;32m----> 5\u001b[0;31m         \u001b[0mtf__lam\u001b[0m \u001b[0;34m=\u001b[0m \u001b[0;34m(\u001b[0m\u001b[0;32mlambda\u001b[0m \u001b[0mwindows\u001b[0m\u001b[0;34m:\u001b[0m \u001b[0mag__\u001b[0m\u001b[0;34m.\u001b[0m\u001b[0mwith_function_scope\u001b[0m\u001b[0;34m(\u001b[0m\u001b[0;34m(\u001b[0m\u001b[0;32mlambda\u001b[0m \u001b[0mlscope\u001b[0m\u001b[0;34m:\u001b[0m \u001b[0;34m(\u001b[0m\u001b[0mwindows\u001b[0m\u001b[0;34m[\u001b[0m\u001b[0;34m:\u001b[0m\u001b[0;34m,\u001b[0m \u001b[0;34m:\u001b[0m\u001b[0;34m(\u001b[0m\u001b[0;34m-\u001b[0m \u001b[0;36m1\u001b[0m\u001b[0;34m)\u001b[0m\u001b[0;34m]\u001b[0m\u001b[0;34m,\u001b[0m \u001b[0mwindows\u001b[0m\u001b[0;34m[\u001b[0m\u001b[0;34m:\u001b[0m\u001b[0;34m,\u001b[0m \u001b[0;36m1\u001b[0m\u001b[0;34m:\u001b[0m\u001b[0;34m]\u001b[0m\u001b[0;34m)\u001b[0m\u001b[0;34m)\u001b[0m\u001b[0;34m,\u001b[0m \u001b[0;34m'lscope'\u001b[0m\u001b[0;34m,\u001b[0m \u001b[0mag__\u001b[0m\u001b[0;34m.\u001b[0m\u001b[0mSTD\u001b[0m\u001b[0;34m)\u001b[0m\u001b[0;34m)\u001b[0m\u001b[0;34m\u001b[0m\u001b[0;34m\u001b[0m\u001b[0m\n\u001b[0m\u001b[1;32m      6\u001b[0m         \u001b[0;32mreturn\u001b[0m \u001b[0mtf__lam\u001b[0m\u001b[0;34m\u001b[0m\u001b[0;34m\u001b[0m\u001b[0m\n\u001b[1;32m      7\u001b[0m     \u001b[0;32mreturn\u001b[0m \u001b[0minner_factory\u001b[0m\u001b[0;34m\u001b[0m\u001b[0;34m\u001b[0m\u001b[0m\n",
            "\u001b[0;32m/usr/local/lib/python3.7/dist-packages/tensorflow/python/autograph/core/function_wrappers.py\u001b[0m in \u001b[0;36mwith_function_scope\u001b[0;34m(thunk, scope_name, options)\u001b[0m\n\u001b[1;32m    111\u001b[0m   \u001b[0;34m\"\"\"Inline version of the FunctionScope context manager.\"\"\"\u001b[0m\u001b[0;34m\u001b[0m\u001b[0;34m\u001b[0m\u001b[0m\n\u001b[1;32m    112\u001b[0m   \u001b[0;32mwith\u001b[0m \u001b[0mFunctionScope\u001b[0m\u001b[0;34m(\u001b[0m\u001b[0;34m'lambda_'\u001b[0m\u001b[0;34m,\u001b[0m \u001b[0mscope_name\u001b[0m\u001b[0;34m,\u001b[0m \u001b[0moptions\u001b[0m\u001b[0;34m)\u001b[0m \u001b[0;32mas\u001b[0m \u001b[0mscope\u001b[0m\u001b[0;34m:\u001b[0m\u001b[0;34m\u001b[0m\u001b[0;34m\u001b[0m\u001b[0m\n\u001b[0;32m--> 113\u001b[0;31m     \u001b[0;32mreturn\u001b[0m \u001b[0mthunk\u001b[0m\u001b[0;34m(\u001b[0m\u001b[0mscope\u001b[0m\u001b[0;34m)\u001b[0m\u001b[0;34m\u001b[0m\u001b[0;34m\u001b[0m\u001b[0m\n\u001b[0m",
            "\u001b[0;32m/tmp/__autograph_generated_fileh4q7wreg.py\u001b[0m in \u001b[0;36m<lambda>\u001b[0;34m(lscope)\u001b[0m\n\u001b[1;32m      3\u001b[0m \u001b[0;34m\u001b[0m\u001b[0m\n\u001b[1;32m      4\u001b[0m     \u001b[0;32mdef\u001b[0m \u001b[0minner_factory\u001b[0m\u001b[0;34m(\u001b[0m\u001b[0mag__\u001b[0m\u001b[0;34m)\u001b[0m\u001b[0;34m:\u001b[0m\u001b[0;34m\u001b[0m\u001b[0;34m\u001b[0m\u001b[0m\n\u001b[0;32m----> 5\u001b[0;31m         \u001b[0mtf__lam\u001b[0m \u001b[0;34m=\u001b[0m \u001b[0;34m(\u001b[0m\u001b[0;32mlambda\u001b[0m \u001b[0mwindows\u001b[0m\u001b[0;34m:\u001b[0m \u001b[0mag__\u001b[0m\u001b[0;34m.\u001b[0m\u001b[0mwith_function_scope\u001b[0m\u001b[0;34m(\u001b[0m\u001b[0;34m(\u001b[0m\u001b[0;32mlambda\u001b[0m \u001b[0mlscope\u001b[0m\u001b[0;34m:\u001b[0m \u001b[0;34m(\u001b[0m\u001b[0mwindows\u001b[0m\u001b[0;34m[\u001b[0m\u001b[0;34m:\u001b[0m\u001b[0;34m,\u001b[0m \u001b[0;34m:\u001b[0m\u001b[0;34m(\u001b[0m\u001b[0;34m-\u001b[0m \u001b[0;36m1\u001b[0m\u001b[0;34m)\u001b[0m\u001b[0;34m]\u001b[0m\u001b[0;34m,\u001b[0m \u001b[0mwindows\u001b[0m\u001b[0;34m[\u001b[0m\u001b[0;34m:\u001b[0m\u001b[0;34m,\u001b[0m \u001b[0;36m1\u001b[0m\u001b[0;34m:\u001b[0m\u001b[0;34m]\u001b[0m\u001b[0;34m)\u001b[0m\u001b[0;34m)\u001b[0m\u001b[0;34m,\u001b[0m \u001b[0;34m'lscope'\u001b[0m\u001b[0;34m,\u001b[0m \u001b[0mag__\u001b[0m\u001b[0;34m.\u001b[0m\u001b[0mSTD\u001b[0m\u001b[0;34m)\u001b[0m\u001b[0;34m)\u001b[0m\u001b[0;34m\u001b[0m\u001b[0;34m\u001b[0m\u001b[0m\n\u001b[0m\u001b[1;32m      6\u001b[0m         \u001b[0;32mreturn\u001b[0m \u001b[0mtf__lam\u001b[0m\u001b[0;34m\u001b[0m\u001b[0;34m\u001b[0m\u001b[0m\n\u001b[1;32m      7\u001b[0m     \u001b[0;32mreturn\u001b[0m \u001b[0minner_factory\u001b[0m\u001b[0;34m\u001b[0m\u001b[0;34m\u001b[0m\u001b[0m\n",
            "\u001b[0;31mTypeError\u001b[0m: in user code:\n\n    File \"<ipython-input-74-d6b4855e64bd>\", line 6, in None  *\n        lambda windows: (windows[:, :-1], windows[:, 1:]))\n\n    TypeError: '_NestedVariant' object is not subscriptable\n"
          ]
        }
      ],
      "source": [
        "np.random.seed(42)\n",
        "tf.random.set_seed(42)\n",
        "\n",
        "batch_size= 32\n",
        "dataset1 = dataset1.shuffle(10000).batch(batch_size)\n",
        "dataset1 = dataset1.map(lambda windows: (windows[:, :-1], windows[:, 1:]))"
      ]
    },
    {
      "cell_type": "code",
      "execution_count": null,
      "id": "cce2cce5",
      "metadata": {
        "id": "cce2cce5"
      },
      "outputs": [],
      "source": [
        "# 범주형 입력특성이므로 원핫인코딩을 진행한다. (고유한 글자 수가 적기 때문에 임베딩 대신 원핫 인코딩을 사용함).\n",
        "dataset1 = dataset1.map(\n",
        "    lambda X_batch, Y_batch: (tf.one_hot(X_batch, depth=max_id), Y_batch))"
      ]
    },
    {
      "cell_type": "markdown",
      "id": "414f5c9f",
      "metadata": {
        "id": "414f5c9f"
      },
      "source": [
        "마지막으로 프리페칭을 추가한다."
      ]
    },
    {
      "cell_type": "code",
      "execution_count": null,
      "id": "c1455063",
      "metadata": {
        "id": "c1455063"
      },
      "outputs": [],
      "source": [
        "dataset1 = dataset1.prefetch(1)"
      ]
    },
    {
      "cell_type": "code",
      "execution_count": null,
      "id": "PotQVLqjRPQ0",
      "metadata": {
        "colab": {
          "base_uri": "https://localhost:8080/"
        },
        "id": "PotQVLqjRPQ0",
        "outputId": "c87057b4-e7af-41cd-e473-2298ee76f68f"
      },
      "outputs": [
        {
          "output_type": "stream",
          "name": "stdout",
          "text": [
            "(32, 100, 39) (32, 100)\n"
          ]
        }
      ],
      "source": [
        "for X_batch, Y_batch in dataset.take(1):\n",
        "    print(X_batch.shape, Y_batch.shape)"
      ]
    },
    {
      "cell_type": "markdown",
      "id": "2ee70ba3",
      "metadata": {
        "id": "2ee70ba3"
      },
      "source": [
        "13장에 나온 데이터 전처리와 적재 파트의 공부를 건너 뛰어서 살짝 잘 모르겠는 부분이 있다. 이제 필요성을 느꼈으니 공부를 해야겠다."
      ]
    },
    {
      "cell_type": "markdown",
      "id": "7f9ace11",
      "metadata": {
        "id": "7f9ace11"
      },
      "source": [
        "## Char-RNN 모델 훈련"
      ]
    },
    {
      "cell_type": "code",
      "execution_count": null,
      "id": "1cc2a032",
      "metadata": {
        "colab": {
          "base_uri": "https://localhost:8080/"
        },
        "id": "1cc2a032",
        "outputId": "1b3a50e7-4765-49c0-cf9d-d0d1726d2cf7"
      },
      "outputs": [
        {
          "name": "stdout",
          "output_type": "stream",
          "text": [
            "Epoch 1/10\n",
            "31368/31368 [==============================] - 420s 13ms/step - loss: 1.6238\n",
            "Epoch 2/10\n",
            "31368/31368 [==============================] - 392s 12ms/step - loss: 1.5397\n",
            "Epoch 3/10\n",
            "31368/31368 [==============================] - 396s 13ms/step - loss: 1.5191\n",
            "Epoch 4/10\n",
            "31368/31368 [==============================] - 389s 12ms/step - loss: 1.5076\n",
            "Epoch 5/10\n",
            "31368/31368 [==============================] - 393s 12ms/step - loss: 1.5000\n",
            "Epoch 6/10\n",
            "31368/31368 [==============================] - 411s 13ms/step - loss: 1.4943\n",
            "Epoch 7/10\n",
            "31368/31368 [==============================] - 397s 13ms/step - loss: 1.4906\n",
            "Epoch 8/10\n",
            "31368/31368 [==============================] - 394s 13ms/step - loss: 1.4876\n",
            "Epoch 9/10\n",
            "31368/31368 [==============================] - 390s 12ms/step - loss: 1.4854\n",
            "Epoch 10/10\n",
            "31368/31368 [==============================] - 397s 13ms/step - loss: 1.4828\n"
          ]
        }
      ],
      "source": [
        "np.random.seed(42)\n",
        "tf.random.set_seed(42)\n",
        "\n",
        "# GRU 클래스는 다음 매개변수에서 기본값을 사용할 때에만 GPU를 사용합니다: \n",
        "# activation, recurrent_activation, recurrent_dropout, unroll, use_bias reset_after. 이 때문에 (책과는 달리) recurrent_dropout=0.2를 주석 처리했습니다.\n",
        "\n",
        "model = keras.models.Sequential([\n",
        "    keras.layers.GRU(128, return_sequences=True, input_shape=[None, max_id],\n",
        "                   # dropout = 0.2, recurrent_dropout = 0.2),\n",
        "                   dropout = 0.2),\n",
        "    keras.layers.GRU(128, return_sequences=True,\n",
        "                   # dropout = 0.2, recurrent_dropout = 0.2),\n",
        "                   dropout = 0.2),\n",
        "    keras.layers.TimeDistributed(keras.layers.Dense(max_id, activation=\"softmax\"))\n",
        "])\n",
        "\n",
        "\n",
        "# 손실함수는 https://didu-story.tistory.com/27 참조\n",
        "# 라벨이 정수인코딩 된 경우에 사용함\n",
        "model.compile(loss=\"sparse_categorical_crossentropy\", optimizer=\"adam\")\n",
        "history = model.fit(dataset, epochs=10)"
      ]
    },
    {
      "cell_type": "code",
      "execution_count": null,
      "id": "u_sn43LQ1i7D",
      "metadata": {
        "id": "u_sn43LQ1i7D"
      },
      "outputs": [],
      "source": [
        "model.save(\"my_shakespeare_model.h5\")"
      ]
    },
    {
      "cell_type": "code",
      "execution_count": null,
      "id": "DsI1mwEV13F1",
      "metadata": {
        "id": "DsI1mwEV13F1",
        "colab": {
          "base_uri": "https://localhost:8080/",
          "height": 329
        },
        "outputId": "dede7b4a-c5d8-4146-adf8-5df1df9304e8"
      },
      "outputs": [
        {
          "output_type": "error",
          "ename": "OSError",
          "evalue": "ignored",
          "traceback": [
            "\u001b[0;31m---------------------------------------------------------------------------\u001b[0m",
            "\u001b[0;31mOSError\u001b[0m                                   Traceback (most recent call last)",
            "\u001b[0;32m<ipython-input-20-e2dea598e7bb>\u001b[0m in \u001b[0;36m<module>\u001b[0;34m\u001b[0m\n\u001b[0;32m----> 1\u001b[0;31m \u001b[0mmodel\u001b[0m \u001b[0;34m=\u001b[0m \u001b[0mkeras\u001b[0m\u001b[0;34m.\u001b[0m\u001b[0mmodels\u001b[0m\u001b[0;34m.\u001b[0m\u001b[0mload_model\u001b[0m\u001b[0;34m(\u001b[0m\u001b[0;34m\"my_shakespeare_model.h5\"\u001b[0m\u001b[0;34m)\u001b[0m\u001b[0;34m\u001b[0m\u001b[0;34m\u001b[0m\u001b[0m\n\u001b[0m",
            "\u001b[0;32m/usr/local/lib/python3.7/dist-packages/keras/utils/traceback_utils.py\u001b[0m in \u001b[0;36merror_handler\u001b[0;34m(*args, **kwargs)\u001b[0m\n\u001b[1;32m     65\u001b[0m     \u001b[0;32mexcept\u001b[0m \u001b[0mException\u001b[0m \u001b[0;32mas\u001b[0m \u001b[0me\u001b[0m\u001b[0;34m:\u001b[0m  \u001b[0;31m# pylint: disable=broad-except\u001b[0m\u001b[0;34m\u001b[0m\u001b[0;34m\u001b[0m\u001b[0m\n\u001b[1;32m     66\u001b[0m       \u001b[0mfiltered_tb\u001b[0m \u001b[0;34m=\u001b[0m \u001b[0m_process_traceback_frames\u001b[0m\u001b[0;34m(\u001b[0m\u001b[0me\u001b[0m\u001b[0;34m.\u001b[0m\u001b[0m__traceback__\u001b[0m\u001b[0;34m)\u001b[0m\u001b[0;34m\u001b[0m\u001b[0;34m\u001b[0m\u001b[0m\n\u001b[0;32m---> 67\u001b[0;31m       \u001b[0;32mraise\u001b[0m \u001b[0me\u001b[0m\u001b[0;34m.\u001b[0m\u001b[0mwith_traceback\u001b[0m\u001b[0;34m(\u001b[0m\u001b[0mfiltered_tb\u001b[0m\u001b[0;34m)\u001b[0m \u001b[0;32mfrom\u001b[0m \u001b[0;32mNone\u001b[0m\u001b[0;34m\u001b[0m\u001b[0;34m\u001b[0m\u001b[0m\n\u001b[0m\u001b[1;32m     68\u001b[0m     \u001b[0;32mfinally\u001b[0m\u001b[0;34m:\u001b[0m\u001b[0;34m\u001b[0m\u001b[0;34m\u001b[0m\u001b[0m\n\u001b[1;32m     69\u001b[0m       \u001b[0;32mdel\u001b[0m \u001b[0mfiltered_tb\u001b[0m\u001b[0;34m\u001b[0m\u001b[0;34m\u001b[0m\u001b[0m\n",
            "\u001b[0;32m/usr/local/lib/python3.7/dist-packages/keras/saving/save.py\u001b[0m in \u001b[0;36mload_model\u001b[0;34m(filepath, custom_objects, compile, options)\u001b[0m\n\u001b[1;32m    204\u001b[0m         \u001b[0;32mif\u001b[0m \u001b[0misinstance\u001b[0m\u001b[0;34m(\u001b[0m\u001b[0mfilepath_str\u001b[0m\u001b[0;34m,\u001b[0m \u001b[0mstr\u001b[0m\u001b[0;34m)\u001b[0m\u001b[0;34m:\u001b[0m\u001b[0;34m\u001b[0m\u001b[0;34m\u001b[0m\u001b[0m\n\u001b[1;32m    205\u001b[0m           \u001b[0;32mif\u001b[0m \u001b[0;32mnot\u001b[0m \u001b[0mtf\u001b[0m\u001b[0;34m.\u001b[0m\u001b[0mio\u001b[0m\u001b[0;34m.\u001b[0m\u001b[0mgfile\u001b[0m\u001b[0;34m.\u001b[0m\u001b[0mexists\u001b[0m\u001b[0;34m(\u001b[0m\u001b[0mfilepath_str\u001b[0m\u001b[0;34m)\u001b[0m\u001b[0;34m:\u001b[0m\u001b[0;34m\u001b[0m\u001b[0;34m\u001b[0m\u001b[0m\n\u001b[0;32m--> 206\u001b[0;31m             \u001b[0;32mraise\u001b[0m \u001b[0mIOError\u001b[0m\u001b[0;34m(\u001b[0m\u001b[0;34mf'No file or directory found at {filepath_str}'\u001b[0m\u001b[0;34m)\u001b[0m\u001b[0;34m\u001b[0m\u001b[0;34m\u001b[0m\u001b[0m\n\u001b[0m\u001b[1;32m    207\u001b[0m \u001b[0;34m\u001b[0m\u001b[0m\n\u001b[1;32m    208\u001b[0m           \u001b[0;32mif\u001b[0m \u001b[0mtf\u001b[0m\u001b[0;34m.\u001b[0m\u001b[0mio\u001b[0m\u001b[0;34m.\u001b[0m\u001b[0mgfile\u001b[0m\u001b[0;34m.\u001b[0m\u001b[0misdir\u001b[0m\u001b[0;34m(\u001b[0m\u001b[0mfilepath_str\u001b[0m\u001b[0;34m)\u001b[0m\u001b[0;34m:\u001b[0m\u001b[0;34m\u001b[0m\u001b[0;34m\u001b[0m\u001b[0m\n",
            "\u001b[0;31mOSError\u001b[0m: No file or directory found at my_shakespeare_model.h5"
          ]
        }
      ],
      "source": [
        "model = keras.models.load_model(\"my_shakespeare_model.h5\")"
      ]
    },
    {
      "cell_type": "markdown",
      "id": "uK_7366ySR0d",
      "metadata": {
        "id": "uK_7366ySR0d"
      },
      "source": [
        "## Char-RNN 모델 사용하기.\n",
        "이제 셰익스피어가 쓴 텍스트에서 다음 글자를 예측해주는 모델을 얻었다. 이 모델에 새로운 텍스트를 주입하려면 앞에서와 같이 먼저 전처리를 해야한다."
      ]
    },
    {
      "cell_type": "code",
      "execution_count": null,
      "id": "hLBhVOVuXYLY",
      "metadata": {
        "id": "hLBhVOVuXYLY"
      },
      "outputs": [],
      "source": [
        "def preprocess(texts):\n",
        "    X = np.array(tokenizer.texts_to_sequences(texts)) - 1\n",
        "    return tf.one_hot(X, max_id)"
      ]
    },
    {
      "cell_type": "code",
      "execution_count": null,
      "id": "JSAt7eoAXkRA",
      "metadata": {
        "colab": {
          "base_uri": "https://localhost:8080/",
          "height": 218
        },
        "id": "JSAt7eoAXkRA",
        "outputId": "08b6f1a6-61c4-405e-de0e-d4c4dcfbeb3d"
      },
      "outputs": [
        {
          "output_type": "error",
          "ename": "NameError",
          "evalue": "ignored",
          "traceback": [
            "\u001b[0;31m---------------------------------------------------------------------------\u001b[0m",
            "\u001b[0;31mNameError\u001b[0m                                 Traceback (most recent call last)",
            "\u001b[0;32m<ipython-input-22-432d30f79be1>\u001b[0m in \u001b[0;36m<module>\u001b[0;34m\u001b[0m\n\u001b[1;32m      1\u001b[0m \u001b[0mX_new\u001b[0m \u001b[0;34m=\u001b[0m \u001b[0mpreprocess\u001b[0m\u001b[0;34m(\u001b[0m\u001b[0;34m[\u001b[0m\u001b[0;34m\"How are yo\"\u001b[0m\u001b[0;34m]\u001b[0m\u001b[0;34m)\u001b[0m\u001b[0;34m\u001b[0m\u001b[0;34m\u001b[0m\u001b[0m\n\u001b[1;32m      2\u001b[0m \u001b[0;31m#Y_pred = model.predict_classes(X_new)\u001b[0m\u001b[0;34m\u001b[0m\u001b[0;34m\u001b[0m\u001b[0;34m\u001b[0m\u001b[0m\n\u001b[0;32m----> 3\u001b[0;31m \u001b[0mY_pred\u001b[0m \u001b[0;34m=\u001b[0m \u001b[0mnp\u001b[0m\u001b[0;34m.\u001b[0m\u001b[0margmax\u001b[0m\u001b[0;34m(\u001b[0m\u001b[0mmodel\u001b[0m\u001b[0;34m(\u001b[0m\u001b[0mX_new\u001b[0m\u001b[0;34m)\u001b[0m\u001b[0;34m,\u001b[0m \u001b[0maxis\u001b[0m\u001b[0;34m=\u001b[0m\u001b[0;34m-\u001b[0m\u001b[0;36m1\u001b[0m\u001b[0;34m)\u001b[0m\u001b[0;34m\u001b[0m\u001b[0;34m\u001b[0m\u001b[0m\n\u001b[0m\u001b[1;32m      4\u001b[0m \u001b[0mtokenizer\u001b[0m\u001b[0;34m.\u001b[0m\u001b[0msequences_to_texts\u001b[0m\u001b[0;34m(\u001b[0m\u001b[0mY_pred\u001b[0m \u001b[0;34m+\u001b[0m \u001b[0;36m1\u001b[0m\u001b[0;34m)\u001b[0m\u001b[0;34m[\u001b[0m\u001b[0;36m0\u001b[0m\u001b[0;34m]\u001b[0m\u001b[0;34m[\u001b[0m\u001b[0;34m-\u001b[0m\u001b[0;36m1\u001b[0m\u001b[0;34m]\u001b[0m \u001b[0;31m# 1st sentence, last char\u001b[0m\u001b[0;34m\u001b[0m\u001b[0;34m\u001b[0m\u001b[0m\n",
            "\u001b[0;31mNameError\u001b[0m: name 'model' is not defined"
          ]
        }
      ],
      "source": [
        "X_new = preprocess([\"How are yo\"])\n",
        "#Y_pred = model.predict_classes(X_new)\n",
        "Y_pred = np.argmax(model(X_new), axis=-1)\n",
        "tokenizer.sequences_to_texts(Y_pred + 1)[0][-1] # 1st sentence, last char"
      ]
    },
    {
      "cell_type": "code",
      "execution_count": null,
      "id": "3LE6kF1J_IGz",
      "metadata": {
        "colab": {
          "base_uri": "https://localhost:8080/"
        },
        "id": "3LE6kF1J_IGz",
        "outputId": "59f90f10-2144-4637-e904-b1647e5b8590"
      },
      "outputs": [
        {
          "output_type": "execute_result",
          "data": {
            "text/plain": [
              "array([[0, 0, 1, 1, 1, 0, 0, 0, 0, 1, 0, 0, 0, 0, 0, 0, 0, 1, 1, 1, 0, 0,\n",
              "        2, 0, 0, 1, 1, 1, 0, 0, 1, 2, 0, 0, 1, 1, 0, 0, 0, 0]])"
            ]
          },
          "metadata": {},
          "execution_count": 23
        }
      ],
      "source": [
        "tf.random.set_seed(42)\n",
        "\n",
        "tf.random.categorical([[np.log(0.5), np.log(0.4), np.log(0.1)]], num_samples=40).numpy()"
      ]
    },
    {
      "cell_type": "markdown",
      "id": "x5_icqP3h9Ay",
      "metadata": {
        "id": "x5_icqP3h9Ay"
      },
      "source": [
        "## 가짜 셰익스피어 텍스트 생성하기 \n",
        "Char-RNN 모델을 사용해 새로운 텍스트를 생성하려면 먼저 초기 텍스트를 주입하고 모델이 가장 가능성 있는 다음 글자를 예측한다. 이 글자는 텍스트 끝에 추가하고 늘어난 텍스트를 모델에 전달하여 다음 글자를 예측하는 방식이다. 실제로는 이렇게 하면 같은 단어가 계속 반복될 수 있다. 대신 tf.random.categorical()함수를 이용해 모델이 추정한 확률을 기반으로 다음 글자를 무작위로 선택할 수 있다.\n",
        "\n",
        "categorical() 함수는 클래스의 로그 확률(로직)을 전달하면 랜덤하게 클래스 인덱스를 샘플링한다. 생성된 텍스트의 다양성을 더 많이제어하려면 temperature 라고 불리는 숫자로 로짓을 나눈다. 온도가 낮을수록 랜덤성이 줄고 온도가 높을 수록 랜덤성이 높아진다. "
      ]
    },
    {
      "cell_type": "code",
      "execution_count": null,
      "id": "Y3IQLQoXis5h",
      "metadata": {
        "id": "Y3IQLQoXis5h"
      },
      "outputs": [],
      "source": [
        "# 위 방식을 사용해서 다음 글자를 선택하고 그 텍스트를 반환한다.\n",
        "def next_char(text, temperature=1):\n",
        "\n",
        "    # X_new 형태와 y_proba 형태 살펴보기\n",
        "    \n",
        "    \n",
        "    X_new = preprocess([text])\n",
        "    y_proba = model(X_new)[0, -1:, :]\n",
        "    rescaled_logits = tf.math.log(y_proba) / temperature\n",
        "    char_id = tf.random.categorical(rescaled_logits, num_samples=1) + 1\n",
        "    return tokenizer.sequences_to_texts(char_id.numpy())[0]"
      ]
    },
    {
      "cell_type": "code",
      "execution_count": null,
      "id": "pJL2cjmplPky",
      "metadata": {
        "colab": {
          "base_uri": "https://localhost:8080/",
          "height": 322
        },
        "id": "pJL2cjmplPky",
        "outputId": "a25d1f01-7929-44be-de10-5f60fc592778"
      },
      "outputs": [
        {
          "output_type": "error",
          "ename": "NameError",
          "evalue": "ignored",
          "traceback": [
            "\u001b[0;31m---------------------------------------------------------------------------\u001b[0m",
            "\u001b[0;31mNameError\u001b[0m                                 Traceback (most recent call last)",
            "\u001b[0;32m<ipython-input-25-37a826d4d011>\u001b[0m in \u001b[0;36m<module>\u001b[0;34m\u001b[0m\n\u001b[1;32m      1\u001b[0m \u001b[0mtf\u001b[0m\u001b[0;34m.\u001b[0m\u001b[0mrandom\u001b[0m\u001b[0;34m.\u001b[0m\u001b[0mset_seed\u001b[0m\u001b[0;34m(\u001b[0m\u001b[0;36m42\u001b[0m\u001b[0;34m)\u001b[0m\u001b[0;34m\u001b[0m\u001b[0;34m\u001b[0m\u001b[0m\n\u001b[1;32m      2\u001b[0m \u001b[0;34m\u001b[0m\u001b[0m\n\u001b[0;32m----> 3\u001b[0;31m \u001b[0mnext_char\u001b[0m\u001b[0;34m(\u001b[0m\u001b[0;34m\"How are yo\"\u001b[0m\u001b[0;34m,\u001b[0m \u001b[0mtemperature\u001b[0m\u001b[0;34m=\u001b[0m\u001b[0;36m1\u001b[0m\u001b[0;34m)\u001b[0m\u001b[0;34m\u001b[0m\u001b[0;34m\u001b[0m\u001b[0m\n\u001b[0m",
            "\u001b[0;32m<ipython-input-24-772ff11feff2>\u001b[0m in \u001b[0;36mnext_char\u001b[0;34m(text, temperature)\u001b[0m\n\u001b[1;32m      6\u001b[0m \u001b[0;34m\u001b[0m\u001b[0m\n\u001b[1;32m      7\u001b[0m     \u001b[0mX_new\u001b[0m \u001b[0;34m=\u001b[0m \u001b[0mpreprocess\u001b[0m\u001b[0;34m(\u001b[0m\u001b[0;34m[\u001b[0m\u001b[0mtext\u001b[0m\u001b[0;34m]\u001b[0m\u001b[0;34m)\u001b[0m\u001b[0;34m\u001b[0m\u001b[0;34m\u001b[0m\u001b[0m\n\u001b[0;32m----> 8\u001b[0;31m     \u001b[0my_proba\u001b[0m \u001b[0;34m=\u001b[0m \u001b[0mmodel\u001b[0m\u001b[0;34m(\u001b[0m\u001b[0mX_new\u001b[0m\u001b[0;34m)\u001b[0m\u001b[0;34m[\u001b[0m\u001b[0;36m0\u001b[0m\u001b[0;34m,\u001b[0m \u001b[0;34m-\u001b[0m\u001b[0;36m1\u001b[0m\u001b[0;34m:\u001b[0m\u001b[0;34m,\u001b[0m \u001b[0;34m:\u001b[0m\u001b[0;34m]\u001b[0m\u001b[0;34m\u001b[0m\u001b[0;34m\u001b[0m\u001b[0m\n\u001b[0m\u001b[1;32m      9\u001b[0m     \u001b[0mrescaled_logits\u001b[0m \u001b[0;34m=\u001b[0m \u001b[0mtf\u001b[0m\u001b[0;34m.\u001b[0m\u001b[0mmath\u001b[0m\u001b[0;34m.\u001b[0m\u001b[0mlog\u001b[0m\u001b[0;34m(\u001b[0m\u001b[0my_proba\u001b[0m\u001b[0;34m)\u001b[0m \u001b[0;34m/\u001b[0m \u001b[0mtemperature\u001b[0m\u001b[0;34m\u001b[0m\u001b[0;34m\u001b[0m\u001b[0m\n\u001b[1;32m     10\u001b[0m     \u001b[0mchar_id\u001b[0m \u001b[0;34m=\u001b[0m \u001b[0mtf\u001b[0m\u001b[0;34m.\u001b[0m\u001b[0mrandom\u001b[0m\u001b[0;34m.\u001b[0m\u001b[0mcategorical\u001b[0m\u001b[0;34m(\u001b[0m\u001b[0mrescaled_logits\u001b[0m\u001b[0;34m,\u001b[0m \u001b[0mnum_samples\u001b[0m\u001b[0;34m=\u001b[0m\u001b[0;36m1\u001b[0m\u001b[0;34m)\u001b[0m \u001b[0;34m+\u001b[0m \u001b[0;36m1\u001b[0m\u001b[0;34m\u001b[0m\u001b[0;34m\u001b[0m\u001b[0m\n",
            "\u001b[0;31mNameError\u001b[0m: name 'model' is not defined"
          ]
        }
      ],
      "source": [
        "tf.random.set_seed(42)\n",
        "\n",
        "next_char(\"How are yo\", temperature=1)"
      ]
    },
    {
      "cell_type": "code",
      "execution_count": null,
      "id": "dZSiqbQYjOwR",
      "metadata": {
        "id": "dZSiqbQYjOwR"
      },
      "outputs": [],
      "source": [
        "# 위 함수를 반복 호출하고 텍스트뒤에 합쳐주는 함수\n",
        "def complete_text(text, n_chars=50, temperature=1):\n",
        "    for _ in range(n_chars):\n",
        "        text += next_char(text, temperature)\n",
        "    return text"
      ]
    },
    {
      "cell_type": "code",
      "execution_count": null,
      "id": "ettMzQqvlNXA",
      "metadata": {
        "colab": {
          "base_uri": "https://localhost:8080/",
          "height": 311
        },
        "id": "ettMzQqvlNXA",
        "outputId": "3dc3ddf6-4cf1-4ce4-f77d-8228c2e25b92"
      },
      "outputs": [
        {
          "output_type": "error",
          "ename": "NameError",
          "evalue": "ignored",
          "traceback": [
            "\u001b[0;31m---------------------------------------------------------------------------\u001b[0m",
            "\u001b[0;31mNameError\u001b[0m                                 Traceback (most recent call last)",
            "\u001b[0;32m<ipython-input-27-36ab1904392d>\u001b[0m in \u001b[0;36m<module>\u001b[0;34m\u001b[0m\n\u001b[0;32m----> 1\u001b[0;31m \u001b[0mprint\u001b[0m\u001b[0;34m(\u001b[0m\u001b[0mcomplete_text\u001b[0m\u001b[0;34m(\u001b[0m\u001b[0;34m\"t\"\u001b[0m\u001b[0;34m,\u001b[0m \u001b[0mtemperature\u001b[0m\u001b[0;34m=\u001b[0m\u001b[0;36m1\u001b[0m\u001b[0;34m)\u001b[0m\u001b[0;34m)\u001b[0m\u001b[0;34m\u001b[0m\u001b[0;34m\u001b[0m\u001b[0m\n\u001b[0m",
            "\u001b[0;32m<ipython-input-26-b305d9a8ef56>\u001b[0m in \u001b[0;36mcomplete_text\u001b[0;34m(text, n_chars, temperature)\u001b[0m\n\u001b[1;32m      2\u001b[0m \u001b[0;32mdef\u001b[0m \u001b[0mcomplete_text\u001b[0m\u001b[0;34m(\u001b[0m\u001b[0mtext\u001b[0m\u001b[0;34m,\u001b[0m \u001b[0mn_chars\u001b[0m\u001b[0;34m=\u001b[0m\u001b[0;36m50\u001b[0m\u001b[0;34m,\u001b[0m \u001b[0mtemperature\u001b[0m\u001b[0;34m=\u001b[0m\u001b[0;36m1\u001b[0m\u001b[0;34m)\u001b[0m\u001b[0;34m:\u001b[0m\u001b[0;34m\u001b[0m\u001b[0;34m\u001b[0m\u001b[0m\n\u001b[1;32m      3\u001b[0m     \u001b[0;32mfor\u001b[0m \u001b[0m_\u001b[0m \u001b[0;32min\u001b[0m \u001b[0mrange\u001b[0m\u001b[0;34m(\u001b[0m\u001b[0mn_chars\u001b[0m\u001b[0;34m)\u001b[0m\u001b[0;34m:\u001b[0m\u001b[0;34m\u001b[0m\u001b[0;34m\u001b[0m\u001b[0m\n\u001b[0;32m----> 4\u001b[0;31m         \u001b[0mtext\u001b[0m \u001b[0;34m+=\u001b[0m \u001b[0mnext_char\u001b[0m\u001b[0;34m(\u001b[0m\u001b[0mtext\u001b[0m\u001b[0;34m,\u001b[0m \u001b[0mtemperature\u001b[0m\u001b[0;34m)\u001b[0m\u001b[0;34m\u001b[0m\u001b[0;34m\u001b[0m\u001b[0m\n\u001b[0m\u001b[1;32m      5\u001b[0m     \u001b[0;32mreturn\u001b[0m \u001b[0mtext\u001b[0m\u001b[0;34m\u001b[0m\u001b[0;34m\u001b[0m\u001b[0m\n",
            "\u001b[0;32m<ipython-input-24-772ff11feff2>\u001b[0m in \u001b[0;36mnext_char\u001b[0;34m(text, temperature)\u001b[0m\n\u001b[1;32m      6\u001b[0m \u001b[0;34m\u001b[0m\u001b[0m\n\u001b[1;32m      7\u001b[0m     \u001b[0mX_new\u001b[0m \u001b[0;34m=\u001b[0m \u001b[0mpreprocess\u001b[0m\u001b[0;34m(\u001b[0m\u001b[0;34m[\u001b[0m\u001b[0mtext\u001b[0m\u001b[0;34m]\u001b[0m\u001b[0;34m)\u001b[0m\u001b[0;34m\u001b[0m\u001b[0;34m\u001b[0m\u001b[0m\n\u001b[0;32m----> 8\u001b[0;31m     \u001b[0my_proba\u001b[0m \u001b[0;34m=\u001b[0m \u001b[0mmodel\u001b[0m\u001b[0;34m(\u001b[0m\u001b[0mX_new\u001b[0m\u001b[0;34m)\u001b[0m\u001b[0;34m[\u001b[0m\u001b[0;36m0\u001b[0m\u001b[0;34m,\u001b[0m \u001b[0;34m-\u001b[0m\u001b[0;36m1\u001b[0m\u001b[0;34m:\u001b[0m\u001b[0;34m,\u001b[0m \u001b[0;34m:\u001b[0m\u001b[0;34m]\u001b[0m\u001b[0;34m\u001b[0m\u001b[0;34m\u001b[0m\u001b[0m\n\u001b[0m\u001b[1;32m      9\u001b[0m     \u001b[0mrescaled_logits\u001b[0m \u001b[0;34m=\u001b[0m \u001b[0mtf\u001b[0m\u001b[0;34m.\u001b[0m\u001b[0mmath\u001b[0m\u001b[0;34m.\u001b[0m\u001b[0mlog\u001b[0m\u001b[0;34m(\u001b[0m\u001b[0my_proba\u001b[0m\u001b[0;34m)\u001b[0m \u001b[0;34m/\u001b[0m \u001b[0mtemperature\u001b[0m\u001b[0;34m\u001b[0m\u001b[0;34m\u001b[0m\u001b[0m\n\u001b[1;32m     10\u001b[0m     \u001b[0mchar_id\u001b[0m \u001b[0;34m=\u001b[0m \u001b[0mtf\u001b[0m\u001b[0;34m.\u001b[0m\u001b[0mrandom\u001b[0m\u001b[0;34m.\u001b[0m\u001b[0mcategorical\u001b[0m\u001b[0;34m(\u001b[0m\u001b[0mrescaled_logits\u001b[0m\u001b[0;34m,\u001b[0m \u001b[0mnum_samples\u001b[0m\u001b[0;34m=\u001b[0m\u001b[0;36m1\u001b[0m\u001b[0;34m)\u001b[0m \u001b[0;34m+\u001b[0m \u001b[0;36m1\u001b[0m\u001b[0;34m\u001b[0m\u001b[0;34m\u001b[0m\u001b[0m\n",
            "\u001b[0;31mNameError\u001b[0m: name 'model' is not defined"
          ]
        }
      ],
      "source": [
        "print(complete_text(\"t\", temperature=1))"
      ]
    },
    {
      "cell_type": "markdown",
      "id": "IroxkaIXlVtf",
      "metadata": {
        "id": "IroxkaIXlVtf"
      },
      "source": [
        "## 상태가 있는 RNN"
      ]
    },
    {
      "cell_type": "markdown",
      "id": "ca7f0e86",
      "metadata": {
        "id": "ca7f0e86"
      },
      "source": [
        "지금까지는 상태가 없는 RNN을 사용했다. 훈련 반복마다 모델의 은닉 상태를 0으로 초기화한다. 타임 스텝마다 이 상태를 업데이트하고 마지막 타임 스텝후에는 더 필요가 없기 때문에 버린다. RNN이 한 훈련 배치를 처리한 후에 마지막 상태를 다음 훈련 배치의 초기 상태로 사용하면 어떨까? 이렇게 하면 역전파는 짧은 시퀀스 안에서만 일어나지만 모델은 장기간 패턴을 학습 가능하다. 이를 **상태가 있는 RNN**이라고 한다.\n",
        "\n",
        "먼저 상태가 있는 RNN은 배치에 있는 각 입력 시퀀스가 이전 배치의 시퀀스가 끝난 지점에서 시작해야한다. 따라서 상태가 있는 RNN을 만들기 위해 첫 번쨰로 할 일은 순차적이고 겹치지 않는 시퀀스를 만드는 것이다. (상태가 없는 RNN에서 사용된 겹치는 부분이 있는 Dataset이면 안된다). Dataset을 만들 때 window() 메서드에서 shift=n_steps로 지정해주면 된다. 또한 shuffle()메서드를 호출해서는 안된다. 안타깝게도 상태가 있는 RNN을 위한 데이터 셋은 상태가 없는 RNN의 경우보다 배치를 구성하기 더 힘들다. 실제로 batch(32)라고 호출하면 32개의 연속적인 윈도가 같은 배치에 들어간다. 이 윈도가 끝난 지점부터 다음배치가 계속되지 않는다. 첫 번째 배치는 1~32까지 포함하고 두번째 배치는 윈도 33부터 64까지 포함한다. 따라서 각 배치의 첫 번째 윈도를 생각하면 연속적이지 않음을 할 수 있다. 이 문제의 가장 간단한 해결책은 하나의 윈도를 갖는 배치를 만드는 것이다."
      ]
    },
    {
      "cell_type": "code",
      "execution_count": null,
      "id": "0f524a68",
      "metadata": {
        "id": "0f524a68"
      },
      "outputs": [],
      "source": [
        "dataset = tf.data.Dataset.from_tensor_slices(encoded[:train_size])\n",
        "dataset = dataset.window(window_length, shift=n_steps, drop_remainder=True)\n",
        "dataset = dataset.flat_map(lambda window: window.batch(window_length))\n",
        "dataset = dataset.batch(1)\n",
        "dataset = dataset.map(lambda windows: (windows[:, :-1], windows[:, 1:]))\n",
        "dataset = dataset.map(\n",
        "    lambda X_batch, Y_batch: (tf.one_hot(X_batch, depth=max_id), Y_batch))\n",
        "dataset = dataset.prefetch(1)"
      ]
    },
    {
      "cell_type": "code",
      "execution_count": null,
      "id": "326cc6c2",
      "metadata": {
        "scrolled": true,
        "colab": {
          "base_uri": "https://localhost:8080/"
        },
        "id": "326cc6c2",
        "outputId": "dc5690f4-ad04-40b2-d893-0c90e19813e3"
      },
      "outputs": [
        {
          "output_type": "stream",
          "name": "stdout",
          "text": [
            "(1, 100, 39) (1, 100)\n",
            "tf.Tensor(\n",
            "[[0. 0. 0. ... 0. 0. 0.]\n",
            " [0. 0. 0. ... 0. 0. 0.]\n",
            " [0. 0. 0. ... 0. 0. 0.]\n",
            " ...\n",
            " [0. 0. 0. ... 0. 0. 0.]\n",
            " [0. 0. 0. ... 0. 0. 0.]\n",
            " [0. 0. 0. ... 0. 0. 0.]], shape=(100, 39), dtype=float32)\n"
          ]
        }
      ],
      "source": [
        "for X_batch, Y_batch in dataset.take(1):\n",
        "    print(X_batch.shape, Y_batch.shape)\n",
        "    print((X_batch[:][:][0]))"
      ]
    },
    {
      "cell_type": "code",
      "execution_count": null,
      "id": "b0738df7",
      "metadata": {
        "id": "b0738df7"
      },
      "outputs": [],
      "source": [
        "batch_size = 32\n",
        "encoded_parts = np.array_split(encoded[:train_size], batch_size)\n",
        "datasets = []\n",
        "for encoded_part in encoded_parts:\n",
        "    dataset = tf.data.Dataset.from_tensor_slices(encoded_part)\n",
        "    dataset = dataset.window(window_length, shift=n_steps, drop_remainder=True)\n",
        "    dataset = dataset.flat_map(lambda window: window.batch(window_length))\n",
        "    datasets.append(dataset)\n",
        "dataset = tf.data.Dataset.zip(tuple(datasets)).map(lambda *windows: tf.stack(windows))\n",
        "dataset = dataset.map(lambda windows: (windows[:, :-1], windows[:, 1:]))\n",
        "dataset = dataset.map(\n",
        "    lambda X_batch, Y_batch: (tf.one_hot(X_batch, depth=max_id), Y_batch))\n",
        "dataset = dataset.prefetch(1)"
      ]
    },
    {
      "cell_type": "code",
      "execution_count": null,
      "id": "f1b12be9",
      "metadata": {
        "colab": {
          "base_uri": "https://localhost:8080/"
        },
        "id": "f1b12be9",
        "outputId": "39df8d1f-45d1-4ca3-c528-503c14f2b195"
      },
      "outputs": [
        {
          "output_type": "stream",
          "name": "stdout",
          "text": [
            "(32, 100, 39) (32, 100)\n",
            "tf.Tensor(\n",
            "[[0. 0. 0. ... 0. 0. 0.]\n",
            " [0. 1. 0. ... 0. 0. 0.]\n",
            " [0. 0. 0. ... 0. 0. 0.]\n",
            " ...\n",
            " [0. 0. 1. ... 0. 0. 0.]\n",
            " [0. 0. 0. ... 0. 0. 0.]\n",
            " [0. 1. 0. ... 0. 0. 0.]], shape=(100, 39), dtype=float32)\n"
          ]
        }
      ],
      "source": [
        "for X_batch, Y_batch in dataset.take(1):\n",
        "    print(X_batch.shape, Y_batch.shape)\n",
        "    print((X_batch[:][:][1]))"
      ]
    },
    {
      "cell_type": "code",
      "execution_count": null,
      "id": "6d49fa0d",
      "metadata": {
        "id": "6d49fa0d"
      },
      "outputs": [],
      "source": [
        "model = keras.models.Sequential([\n",
        "    keras.layers.GRU(128, return_sequences=True, stateful=True,\n",
        "                    dropout=0.2, batch_input_shape=[batch_size, None, max_id]),\n",
        "                    # recurrent_dropout=0.2)\n",
        "    keras.layers.GRU(128, return_sequences=True, stateful=True,\n",
        "                    dropout=0.2),\n",
        "                     # recurrent_dropout=0.2)\n",
        "    keras.layers.TimeDistributed(keras.layers.Dense(max_id,\n",
        "                                                   activation=\"softmax\"))\n",
        "])"
      ]
    },
    {
      "cell_type": "code",
      "execution_count": null,
      "id": "31bbb2dc",
      "metadata": {
        "id": "31bbb2dc"
      },
      "outputs": [],
      "source": [
        "# 아무리 stateful RNN이라고 해도 에포크가 시작할 때는 state를 초기화해주어야한다.\n",
        "# stateless RNN은 배치마다 state를 초기화하고, stateful RNN은 에포크마다 state를 초기화한다.\n",
        "\n",
        "class ResetStatesCallback(keras.callbacks.Callback):\n",
        "    def on_epoch_begin(self, epoch, logs):\n",
        "        self.model.reset_states()"
      ]
    },
    {
      "cell_type": "code",
      "source": [
        "model.compile(loss=\"sparse_categorical_crossentropy\", optimizer=\"adam\")\n",
        "history = model.fit(dataset, epochs=50,\n",
        "                    callbacks=[ResetStatesCallback()])"
      ],
      "metadata": {
        "colab": {
          "base_uri": "https://localhost:8080/"
        },
        "id": "-_sgx3PcrZsL",
        "outputId": "6055ef23-21f1-4e23-8987-ee3f8f8a339d"
      },
      "id": "-_sgx3PcrZsL",
      "execution_count": null,
      "outputs": [
        {
          "output_type": "stream",
          "name": "stdout",
          "text": [
            "Epoch 1/50\n",
            "313/313 [==============================] - 12s 15ms/step - loss: 2.6211\n",
            "Epoch 2/50\n",
            "313/313 [==============================] - 4s 14ms/step - loss: 2.2422\n",
            "Epoch 3/50\n",
            "313/313 [==============================] - 4s 14ms/step - loss: 2.1109\n",
            "Epoch 4/50\n",
            "313/313 [==============================] - 4s 14ms/step - loss: 2.0358\n",
            "Epoch 5/50\n",
            "313/313 [==============================] - 6s 21ms/step - loss: 1.9854\n",
            "Epoch 6/50\n",
            "313/313 [==============================] - 4s 14ms/step - loss: 1.9480\n",
            "Epoch 7/50\n",
            "313/313 [==============================] - 4s 14ms/step - loss: 1.9206\n",
            "Epoch 8/50\n",
            "313/313 [==============================] - 4s 14ms/step - loss: 1.8991\n",
            "Epoch 9/50\n",
            "313/313 [==============================] - 4s 14ms/step - loss: 1.8817\n",
            "Epoch 10/50\n",
            "313/313 [==============================] - 4s 14ms/step - loss: 1.8661\n",
            "Epoch 11/50\n",
            "313/313 [==============================] - 4s 14ms/step - loss: 1.8533\n",
            "Epoch 12/50\n",
            "313/313 [==============================] - 4s 14ms/step - loss: 1.8419\n",
            "Epoch 13/50\n",
            "313/313 [==============================] - 4s 14ms/step - loss: 1.8338\n",
            "Epoch 14/50\n",
            "313/313 [==============================] - 4s 14ms/step - loss: 1.8235\n",
            "Epoch 15/50\n",
            "313/313 [==============================] - 4s 14ms/step - loss: 1.8160\n",
            "Epoch 16/50\n",
            "313/313 [==============================] - 4s 14ms/step - loss: 1.8100\n",
            "Epoch 17/50\n",
            "313/313 [==============================] - 4s 14ms/step - loss: 1.8012\n",
            "Epoch 18/50\n",
            "313/313 [==============================] - 4s 14ms/step - loss: 1.7960\n",
            "Epoch 19/50\n",
            "313/313 [==============================] - 4s 14ms/step - loss: 1.7923\n",
            "Epoch 20/50\n",
            "313/313 [==============================] - 4s 14ms/step - loss: 1.7885\n",
            "Epoch 21/50\n",
            "313/313 [==============================] - 4s 14ms/step - loss: 1.7840\n",
            "Epoch 22/50\n",
            "313/313 [==============================] - 4s 14ms/step - loss: 1.7787\n",
            "Epoch 23/50\n",
            "313/313 [==============================] - 4s 14ms/step - loss: 1.7739\n",
            "Epoch 24/50\n",
            "313/313 [==============================] - 4s 14ms/step - loss: 1.7714\n",
            "Epoch 25/50\n",
            "313/313 [==============================] - 5s 15ms/step - loss: 1.7683\n",
            "Epoch 26/50\n",
            "313/313 [==============================] - 4s 14ms/step - loss: 1.7639\n",
            "Epoch 27/50\n",
            "313/313 [==============================] - 4s 14ms/step - loss: 1.7626\n",
            "Epoch 28/50\n",
            "313/313 [==============================] - 4s 14ms/step - loss: 1.7589\n",
            "Epoch 29/50\n",
            "313/313 [==============================] - 4s 14ms/step - loss: 1.7567\n",
            "Epoch 30/50\n",
            "313/313 [==============================] - 4s 14ms/step - loss: 1.7535\n",
            "Epoch 31/50\n",
            "313/313 [==============================] - 4s 14ms/step - loss: 1.7490\n",
            "Epoch 32/50\n",
            "313/313 [==============================] - 4s 14ms/step - loss: 1.7480\n",
            "Epoch 33/50\n",
            "313/313 [==============================] - 4s 14ms/step - loss: 1.7451\n",
            "Epoch 34/50\n",
            "313/313 [==============================] - 4s 14ms/step - loss: 1.7456\n",
            "Epoch 35/50\n",
            "313/313 [==============================] - 4s 14ms/step - loss: 1.7407\n",
            "Epoch 36/50\n",
            "313/313 [==============================] - 4s 14ms/step - loss: 1.7402\n",
            "Epoch 37/50\n",
            "313/313 [==============================] - 5s 18ms/step - loss: 1.7354\n",
            "Epoch 38/50\n",
            "313/313 [==============================] - 4s 14ms/step - loss: 1.7376\n",
            "Epoch 39/50\n",
            "313/313 [==============================] - 4s 14ms/step - loss: 1.7342\n",
            "Epoch 40/50\n",
            "313/313 [==============================] - 4s 14ms/step - loss: 1.7310\n",
            "Epoch 41/50\n",
            "313/313 [==============================] - 4s 14ms/step - loss: 1.7307\n",
            "Epoch 42/50\n",
            "313/313 [==============================] - 4s 14ms/step - loss: 1.7302\n",
            "Epoch 43/50\n",
            "313/313 [==============================] - 4s 14ms/step - loss: 1.7282\n",
            "Epoch 44/50\n",
            "313/313 [==============================] - 4s 14ms/step - loss: 1.7274\n",
            "Epoch 45/50\n",
            "313/313 [==============================] - 4s 14ms/step - loss: 1.7254\n",
            "Epoch 46/50\n",
            "313/313 [==============================] - 4s 14ms/step - loss: 1.7209\n",
            "Epoch 47/50\n",
            "313/313 [==============================] - 5s 14ms/step - loss: 1.7232\n",
            "Epoch 48/50\n",
            "313/313 [==============================] - 4s 14ms/step - loss: 1.7200\n",
            "Epoch 49/50\n",
            "313/313 [==============================] - 4s 14ms/step - loss: 1.7222\n",
            "Epoch 50/50\n",
            "313/313 [==============================] - 4s 14ms/step - loss: 1.7188\n"
          ]
        }
      ]
    },
    {
      "cell_type": "code",
      "source": [
        "model.save(\"my_shakespeare_stateful_model.h5\")"
      ],
      "metadata": {
        "id": "WydP4LDTEK7S"
      },
      "id": "WydP4LDTEK7S",
      "execution_count": null,
      "outputs": []
    },
    {
      "cell_type": "markdown",
      "source": [
        "# 감성분석\n",
        "이전까지는 글자 수준 모델을 만들었다. 이제 단어 수준 모델을 살펴보고 자주 등장하는 자연어 처리 작업인 감성분석을 다루어 보자. 이 과정에서 마스킹을 사용해 길이가 다른 시퀀스를 다루는 방법도 알아보자.\n",
        "\n",
        "학습은 IMDb 리뷰 데이터 셋을 사용한다."
      ],
      "metadata": {
        "id": "nE1opKYpFv8n"
      },
      "id": "nE1opKYpFv8n"
    },
    {
      "cell_type": "code",
      "source": [
        "(X_train, y_train), (X_test, y_test) = keras.datasets.imdb.load_data()\n",
        "X_train[0][:10]"
      ],
      "metadata": {
        "colab": {
          "base_uri": "https://localhost:8080/"
        },
        "id": "iuvJCD2QVxAd",
        "outputId": "50e56b0d-237d-47be-8f94-941bad906073"
      },
      "id": "iuvJCD2QVxAd",
      "execution_count": 3,
      "outputs": [
        {
          "output_type": "stream",
          "name": "stdout",
          "text": [
            "Downloading data from https://storage.googleapis.com/tensorflow/tf-keras-datasets/imdb.npz\n",
            "17464789/17464789 [==============================] - 0s 0us/step\n"
          ]
        },
        {
          "output_type": "execute_result",
          "data": {
            "text/plain": [
              "[1, 14, 22, 16, 43, 530, 973, 1622, 1385, 65]"
            ]
          },
          "metadata": {},
          "execution_count": 3
        }
      ]
    },
    {
      "cell_type": "markdown",
      "source": [
        "리뷰 내용은 어디 있을까? 사실 여기서 볼 수 있듯 이 데이터 셋은 이미 전처리되어있다. X_train은 리뷰들의 리스트이다. 각 리뷰는 넘파이 정수 배열로 표현된다. 각 정수는 하나의 단어를 나타낸다. 구두점을 모두 제거하고 단어는 소문자로 변환한 다음 공백으로 나누어 빈도에 따라 인덱스를 붙힌다. (따라서 정수가 낮을 수록 자주등장하는 단어이다). 정수 0, 1, 2는 특별하다. 각각 패딩토큰, SOS(start of sequence)토큰, 알 수 없는 단어를 의미한다. 리뷰 내용을 보고 싶다면 다음과 같이 디코딩할 수 있다."
      ],
      "metadata": {
        "id": "BGxdsrhqV-Iz"
      },
      "id": "BGxdsrhqV-Iz"
    },
    {
      "cell_type": "code",
      "source": [
        "word_index = keras.datasets.imdb.get_word_index()\n",
        "id_to_word = {id_ + 3: word for word, id_ in word_index.items()}\n",
        "for id_, token in enumerate((\"<pad>\", \"<sos>\", \"<unk>\")):\n",
        "    id_to_word[id_] = token\n",
        "\n",
        "\" \".join([id_to_word[id_] for id_ in X_train[0][:10]])"
      ],
      "metadata": {
        "colab": {
          "base_uri": "https://localhost:8080/",
          "height": 36
        },
        "id": "S4_MuW5TW0pO",
        "outputId": "c8b4c9d8-36e9-4e90-8e55-1b7d7a0f5ce6"
      },
      "id": "S4_MuW5TW0pO",
      "execution_count": 4,
      "outputs": [
        {
          "output_type": "execute_result",
          "data": {
            "text/plain": [
              "'<sos> this film was just brilliant casting location scenery story'"
            ],
            "application/vnd.google.colaboratory.intrinsic+json": {
              "type": "string"
            }
          },
          "metadata": {},
          "execution_count": 4
        }
      ]
    },
    {
      "cell_type": "markdown",
      "source": [
        "실제 프로젝트에서는 스스로 텍스트 전처리를 진행해야한다. 그 때 이전에 사용했던 Tokenizer 클래스를 사용할 수 있다. 하지만 이번에는 char_level=False로 지정해서 단어 수준 모델을 만들 것이다. 단어를 인코딩할 때 필터는 \" \", \".\", \"    \" 등으로 단어를 구분할 수 있다. 영어는 이렇게 해도 괜찮지만, 다른 언어의 경우에 들어맞지 않는 경우가 있다. \n",
        "\n",
        "다행히도 더 좋은 옵션이 있다. 2018의 논문에서 언어에 의존하지 않는 방식으로 하위 단어 수준에서 텍스트를 토큰화하고 토큰을 해제하는 감독되지 않은 학습 기술을 도입하여 공간을 다른 문자와 같이 취급하는 방법이 소개 됐다.\n",
        "<br>만약 새로운 단어가 입력되더라도 단어를 하위단어 수준으로 쪼개서 인식할 수 있는 방법이다.\n",
        "\n",
        "다른 방법으로는 더 이전에 발표된 바이트 페어 인코딩(using byte pair encoding))을 사용하는 하위단어로 접근하는 방식과을 TF.Text 라이브러리로 사용하는 방법이 있다.\n",
        "\n",
        "만약 내가 모델을 다른 전처리 함수를 사용하지 않고 모바일이나 웹브라우져에 배포한다고 생각해보자. 그럴 때는 오직 tensorflow operation만 사용해야 한다. 또한 모델에 전처리 함수가 속해있어야한다. \n",
        "\n",
        "일단, IMDb 리뷰를 로딩하자. "
      ],
      "metadata": {
        "id": "6eovUwJMXVY1"
      },
      "id": "6eovUwJMXVY1"
    },
    {
      "cell_type": "code",
      "source": [
        "import tensorflow_datasets as tfds\n",
        "\n",
        "datasets, info = tfds.load(\"imdb_reviews\", as_supervised=True, with_info=True)\n",
        "train_size = info.splits[\"train\"].num_examples"
      ],
      "metadata": {
        "id": "deZdugD35HFI"
      },
      "id": "deZdugD35HFI",
      "execution_count": 6,
      "outputs": []
    },
    {
      "cell_type": "markdown",
      "source": [
        " 그 다음 전처리함수를 생성하자"
      ],
      "metadata": {
        "id": "TLoMI7ju8DaJ"
      },
      "id": "TLoMI7ju8DaJ"
    },
    {
      "cell_type": "code",
      "source": [
        "def preprocess(X_batch, y_batch):\n",
        "    X_batch = tf.strings.substr(X_batch, 0, 300)\n",
        "    X_batch = tf.strings.regex_replace(X_batch, b\"<br\\\\s*/?\", b\" \")\n",
        "    X_batch = tf.strings.regex_replace(X_batch, b\"[^a-zA-Z']\", b\" \")\n",
        "    X_batch = tf.strings.split(X_batch)\n",
        "    return X_batch.to_tensor(default_value=b\"<pad>\"), y_batch\n"
      ],
      "metadata": {
        "id": "I3DlhAcg8Gq_"
      },
      "id": "I3DlhAcg8Gq_",
      "execution_count": 11,
      "outputs": []
    },
    {
      "cell_type": "markdown",
      "source": [
        "이 전처리 함수는 일단 리뷰를 잘라낸다. 오직 첫 300글자만을 남긴다. 이것은 학습속도를 늘리지만 모델의 성능에 큰영향을 미치지 않는다. 왜냐하면 보통 시작 두문장에서 영화에 대한 긍정과 부정을 알 수 있기 때문이다.\n",
        "\n",
        "그 다음 \\<br \\\\> 태그를 공백으로 바꾸어준다. \n",
        "\n",
        "그 다음 공백을 기준으로 리뷰를 나누어 준다. 그 다음 이 ragged tensro를 dense tensor로 바꾸어준다. 마지막으로 padding token \"\\<pad>\"를 사용해서 모두 같은 길이로 패딩해준다.\n",
        "\n",
        "그 다음 우리는 vocabulary를 구성해야한다. 이것은 모든 trainset을 한번 훑어보고, 전처리 함수를 적용하고, 각 단어들의 occurences를 알아보기 위해 Counter()를 사용해야한다."
      ],
      "metadata": {
        "id": "YIjfrxKT8uLD"
      },
      "id": "YIjfrxKT8uLD"
    },
    {
      "cell_type": "code",
      "source": [
        "from collections import Counter\n",
        "\n",
        "vocabulary = Counter()\n",
        "for X_batch, y_batch in datasets[\"train\"].batch(32).map(preprocess):\n",
        "    for review in X_batch:\n",
        "        vocabulary.update(list(review.numpy()))"
      ],
      "metadata": {
        "id": "tLFpMcBW9Vd0"
      },
      "id": "tLFpMcBW9Vd0",
      "execution_count": 12,
      "outputs": []
    },
    {
      "cell_type": "code",
      "source": [
        "# 가장 많이 나온 단어를 봐보자\n",
        "vocabulary.most_common()[:3]"
      ],
      "metadata": {
        "colab": {
          "base_uri": "https://localhost:8080/"
        },
        "id": "QcXfTm3C_Flv",
        "outputId": "693539e8-afcc-4c9c-8285-2372d5b4520d"
      },
      "id": "QcXfTm3C_Flv",
      "execution_count": 13,
      "outputs": [
        {
          "output_type": "execute_result",
          "data": {
            "text/plain": [
              "[(b'<pad>', 214462), (b'the', 61137), (b'a', 38564)]"
            ]
          },
          "metadata": {},
          "execution_count": 13
        }
      ]
    },
    {
      "cell_type": "markdown",
      "source": [
        "\n",
        "우리가 모델을 볼때 모든 단어를 알아야하는 것은 아니다. 그렇기 때문에 10000개의 단어만 살펴보자"
      ],
      "metadata": {
        "id": "MEr2vYtr_eBi"
      },
      "id": "MEr2vYtr_eBi"
    },
    {
      "cell_type": "code",
      "source": [
        "vocab_size = 10000\n",
        "truncated_vocabulary = [\n",
        "    word for word, count in vocabulary.most_common()[:vocab_size]\n",
        "]"
      ],
      "metadata": {
        "id": "hVKbk2rN_tqL"
      },
      "id": "hVKbk2rN_tqL",
      "execution_count": 14,
      "outputs": []
    },
    {
      "cell_type": "markdown",
      "source": [
        "이제 단어들을 ID로 인코딩해주어야한다. 나는 100 out-of-vocabulary(oov)를 사용해서 lookup table를 만들겠다. (13장에 나온다)"
      ],
      "metadata": {
        "id": "gbEEdUDCAAbE"
      },
      "id": "gbEEdUDCAAbE"
    },
    {
      "cell_type": "code",
      "source": [
        "words = tf.constant(truncated_vocabulary)\n",
        "word_ids = tf.range(len(truncated_vocabulary), dtype=tf.int64)\n",
        "vocab_init = tf.lookup.KeyValueTensorInitializer(words, word_ids)\n",
        "num_oov_buckets = 1000\n",
        "table = tf.lookup.StaticVocabularyTable(vocab_init, num_oov_buckets)"
      ],
      "metadata": {
        "id": "U07iiK51AgqP"
      },
      "id": "U07iiK51AgqP",
      "execution_count": 18,
      "outputs": []
    },
    {
      "cell_type": "code",
      "source": [
        "table.lookup(tf.constant([b\"Thus movie was faaaaaantastic\".split()]))"
      ],
      "metadata": {
        "colab": {
          "base_uri": "https://localhost:8080/"
        },
        "id": "bmtEB0XnC7Z7",
        "outputId": "4a064e53-9fa0-4aff-cc37-c4c55743ff31"
      },
      "id": "bmtEB0XnC7Z7",
      "execution_count": 19,
      "outputs": [
        {
          "output_type": "execute_result",
          "data": {
            "text/plain": [
              "<tf.Tensor: shape=(1, 4), dtype=int64, numpy=array([[ 7585,    12,    11, 10053]])>"
            ]
          },
          "metadata": {},
          "execution_count": 19
        }
      ]
    },
    {
      "cell_type": "markdown",
      "source": [
        "Thus, movie, was는 각각 ID가 10000보다 작아서 table에서 발견할 수 있지만, faaaaaaaantastic은 찾을 수 없다. 그렇기 때문에 마지막 단어를 10000보다 크거나 같은 ID로 매핑해주겠다."
      ],
      "metadata": {
        "id": "L_M0I8OjDegC"
      },
      "id": "L_M0I8OjDegC"
    },
    {
      "cell_type": "markdown",
      "source": [
        "이제 최종 trainset을 만들 준비가 됐다. preprocess()를 통해 리뷰를 단어로 이루어진 시퀀스로 만들고 encode_words()를 사용해서 단어를 간다하게 인코딩할 것이다."
      ],
      "metadata": {
        "id": "jBKPPLhhGdz9"
      },
      "id": "jBKPPLhhGdz9"
    },
    {
      "cell_type": "code",
      "source": [
        "def encode_words(X_batch, y_batch):\n",
        "    return table.lookup(X_batch), y_batch\n",
        "\n",
        "train_set = datasets[\"train\"].batch(32).map(preprocess)\n",
        "train_set = train_set.map(encode_words).prefetch(1)"
      ],
      "metadata": {
        "id": "zQgK6PmrDPFL"
      },
      "id": "zQgK6PmrDPFL",
      "execution_count": 20,
      "outputs": []
    },
    {
      "cell_type": "code",
      "source": [
        "embed_size = 128\n",
        "model = keras.models.Sequential([\n",
        "    # 임베딩층을 사용했다/\n",
        "    keras.layers.Embedding(vocab_size + num_oov_buckets, embed_size,\n",
        "                           input_shape=[None]),\n",
        "    keras.layers.GRU(128, return_sequences=True),\n",
        "    keras.layers.GRU(128),\n",
        "    keras.layers.Dense(1, activation=\"sigmoid\")                           \n",
        "])\n",
        "\n",
        "model.compile(loss=\"binary_crossentropy\", optimizer=\"adam\",\n",
        "              metrics=[\"accuracy\"])\n",
        "model.fit(train_set, epochs=5)"
      ],
      "metadata": {
        "colab": {
          "base_uri": "https://localhost:8080/"
        },
        "id": "rbk8blwXHFg2",
        "outputId": "17b8a26b-981a-4dfe-fbfd-6d5d7c19dd66"
      },
      "id": "rbk8blwXHFg2",
      "execution_count": 23,
      "outputs": [
        {
          "output_type": "stream",
          "name": "stdout",
          "text": [
            "Epoch 1/5\n",
            "782/782 [==============================] - 17s 11ms/step - loss: 0.6904 - accuracy: 0.5287\n",
            "Epoch 2/5\n",
            "782/782 [==============================] - 8s 11ms/step - loss: 0.5002 - accuracy: 0.7468\n",
            "Epoch 3/5\n",
            "782/782 [==============================] - 8s 11ms/step - loss: 0.3320 - accuracy: 0.8592\n",
            "Epoch 4/5\n",
            "782/782 [==============================] - 8s 11ms/step - loss: 0.2409 - accuracy: 0.9078\n",
            "Epoch 5/5\n",
            "782/782 [==============================] - 8s 11ms/step - loss: 0.1699 - accuracy: 0.9414\n"
          ]
        },
        {
          "output_type": "execute_result",
          "data": {
            "text/plain": [
              "<keras.callbacks.History at 0x7f66a01bacd0>"
            ]
          },
          "metadata": {},
          "execution_count": 23
        }
      ]
    },
    {
      "cell_type": "markdown",
      "source": [
        "# 마스킹\n",
        "방금 본 train_set에서 padding token을 무시할 수 없을까? 이건 간단하게 할 수 있따. 그냥 임베딩층에 mask_zero=True를 지정해주면 된다. 이러면 패딩토큰의 ID가 0이 되고 뒤에서는 padding token이 무시되게 된다.\n",
        "\n",
        "(이 다음에 마스킹이 층마다 이루어지는 방식에 대해서 설명되어있는데, 이는 다음으로 넘기겠다.)\n"
      ],
      "metadata": {
        "id": "fQalu6I9HxxN"
      },
      "id": "fQalu6I9HxxN"
    },
    {
      "cell_type": "markdown",
      "source": [
        "# 사전 훈련된 임베딩 재사용하기\n",
        "텐서플로 허브 프로젝트는 사전훈련된 모델의 구성요소를 쉽게 재사용할 수 있게 만들었다. 모델의 요소는 modules이라 불린다. 간단하게 TF Hub repository를 보면 원하는 모델의 코드를 그냥 복사헤서 내 프로젝트에 포함시키면 된다. \n",
        "\n",
        "예를 들어, nnlm-en-dim50 문장 임베딩 모듈을 봐보자. "
      ],
      "metadata": {
        "id": "n9p2g-kmNEs2"
      },
      "id": "n9p2g-kmNEs2"
    },
    {
      "cell_type": "code",
      "source": [
        "import tensorflow_hub as hub\n",
        "\n",
        "model = keras.Sequential([\n",
        "    hub.KerasLayer(\"https://tfhub.dev/google/tf2-preview/nnlm-en-dim50/1\",\n",
        "                   dtype=tf.string, input_shape=[], output_shape=[50]),\n",
        "    keras.layers.Dense(128, activation=\"relu\"),\n",
        "    keras.layers.Dense(1, activation=\"sigmoid\")\n",
        "])\n",
        "model.compile(loss=\"binary_crossentropy\", optimizer=\"adam\",\n",
        "              metrics=[\"accuracy\"])"
      ],
      "metadata": {
        "id": "ehS_gtOfNEG5"
      },
      "id": "ehS_gtOfNEG5",
      "execution_count": 24,
      "outputs": []
    },
    {
      "cell_type": "markdown",
      "source": [
        "hub.KerasLAyer은 해당 url에서 모듈을 다운 받는다.\n",
        "\n",
        "원래는 모듈을 학습시킬 수 없지만, trainable=True을 지정하면 학습시킬 수 있다."
      ],
      "metadata": {
        "id": "DldlVGqwPGFK"
      },
      "id": "DldlVGqwPGFK"
    },
    {
      "cell_type": "markdown",
      "source": [
        "이제 hub모델로 학습을 진행해보자"
      ],
      "metadata": {
        "id": "5eH2m-GTQD9W"
      },
      "id": "5eH2m-GTQD9W"
    },
    {
      "cell_type": "code",
      "source": [
        "datasets, info = tfds.load(\"imdb_reviews\", as_supervised=True, with_info=True)\n",
        "train_size = info.splits[\"train\"].num_examples\n",
        "batch_size = 32\n",
        "train_set = datasets[\"train\"].batch(batch_size).prefetch(1)\n",
        "history = model.fit(train_set, epochs=5)"
      ],
      "metadata": {
        "colab": {
          "base_uri": "https://localhost:8080/"
        },
        "id": "XJtK07RMP5My",
        "outputId": "cfa81fc2-a2c0-425e-e09f-75b3922a2036"
      },
      "id": "XJtK07RMP5My",
      "execution_count": 25,
      "outputs": [
        {
          "output_type": "stream",
          "name": "stdout",
          "text": [
            "Epoch 1/5\n",
            "782/782 [==============================] - 6s 7ms/step - loss: 0.5466 - accuracy: 0.7253\n",
            "Epoch 2/5\n",
            "782/782 [==============================] - 4s 5ms/step - loss: 0.5139 - accuracy: 0.7478\n",
            "Epoch 3/5\n",
            "782/782 [==============================] - 4s 5ms/step - loss: 0.5086 - accuracy: 0.7514\n",
            "Epoch 4/5\n",
            "782/782 [==============================] - 4s 5ms/step - loss: 0.5052 - accuracy: 0.7538\n",
            "Epoch 5/5\n",
            "782/782 [==============================] - 4s 5ms/step - loss: 0.5021 - accuracy: 0.7561\n"
          ]
        }
      ]
    },
    {
      "cell_type": "markdown",
      "source": [
        "# NMT 인코더 - 디코더 네트워크\n",
        "영어를 프랑스어로 바꾸는 번역기를 생각해보자.\n",
        "\n",
        " 영어 문장은 인코더에 입력되고 디코더는 프랑스어 번역을 출력한다. 프랑스어 번역은 디코더의 입력으로도 사용되지만 한 단계 뒤로 이동한다. 다시 말해, 디코더는 이전 단계에서 출력해야 하는 단어를 입력으로 제공한다. 첫 번째 단어의 경우, SOS 토큰이 주어진다. 디코더는 EOS 토큰으로 문장을 끝낼 것으로 예상된다.\n",
        "\n",
        " 영어 문장은 입력될때 거꾸로 입력된다. 이것은 영어단어의 시작이 인코더의 마지막 출력으로 나오게 한다. 이것은 번역하는데 도움이 되는 기술이다. \n",
        "\n",
        " 일단, 각 단어는 ID로 표현된다. 그 다음 임베딩 층이 단어 임베딩을 리턴한다. 단어 임베딍은 인코더와 디코더에 입력된다.\n",
        " \n",
        "\n",
        " ![image.png](data:image/png;base64,iVBORw0KGgoAAAANSUhEUgAABaEAAAPOCAIAAACZLkOxAAAgAElEQVR4nOzdf4xUVZ74/dsb8+RxCfRUf1cymZ6FUIwuGug/LLBHH9ivQvUYIzqGhyKIuOskULVAYPxnrLJ5/vCPL22X/jNqgK2CrE5EMF08xBEJcbpo3WDGbe1yk4aIM05XBzI9+U67W7UNTy//TNLPH0cPh3PvPXXr560f71eMKbpu3Xvq3lP33vO553xO18LCggUAaA5dXV1VroGzevNIJBLiRTAYjEaj/hYGFUgkErlczrKsUCg0PDzc4K3n8/mVK1eK16Ojo+FwuMEFQL3FYrF0Om1ZVjgcHh0d9bs4qJlcLifP/yMjI4FAoIYrl/cJhtNCsVis7UaB1nKH3wUAAKA20ul0U4USksmkeBGPx/0tCSqTyWTy+bxlWaFQqPFbF+EVgQBHW5KH2JcKhvrJZDLZbNayrEAgUL9Yg+NpoVgsJpPJfD4/MjJSp+0CzY8YBwCg5cnnWk0V45Cas1Qwy2azIsBh+XQExRN+tDEZ44hEIv6WBLWVyWTEi0aeOvL5fCwWE7EVugWhwxHjAIAm4nZfonZ8jUaj3BC3lmAw6HcRUDbRVBB8OYJqAdDe6MfRTvL5vAyPNvLIZrNZedKgRqHDEeMAgCbipUd6IBCg4zpQb7KV4hdy6wCtqN6jzNzODGpghWQc6HB/5XcBAABoQzIZB1qU7G0O1EOxWPS7CKgLOcosEok0MtYgLzr09PSdGDfU1dXVNt3xEolEV1fXypUrW+Xehn4cAADUnvooDwA0nCLalTyyjRzjplYnBqr4a2BgoG1CG5p8Pp9IJPL5fDweb/JBuMQ4AKAj5HK5XC6Xz+fllHKRSKSsO6FisSgu26FQyO3als/nM5lMsVjM5/ORSCQcDpf7FEtsRd6uhcPhFu126/02N5/Py/kjGYXUhNQjKNLiBAKBUChU1sEqFoviByjmWfDyWXVoveEnkMvlMpmMKJL4v/dSod7kKdGynXLl8W3F8xsMZA+dkj/zTCajXimCwWDJj7idFpiGyXdiRhs5G5dHIntLNpsNh8OiDlSw3Vwul81mRZUo9+iLC1M+n/d+BUmn0+l0utlnvF4AADQ99UISj8fL/azbPXQgEBgeHnb7oHqlSKVS6kpCoZB9+VQqZd9EJBKZmprS1ubla6pSqZS5hCUvcA2+8BUKBXUPuC1jfxISDAbj8bjYY/CXegTFwdJ+Rx5/iYVCwfGu0a1WC+pvYWJiwnGZaDRq/2lHIhHzmtEw9sZGMBiU78oBBeFwWP3U1NRU+Dtuh16uXzCcxtF48nAXCgXHBQqFwvDwsGNrNhAIjI6Ouq3ZflqYmpqyr0TiUtIwjhPoBINBw0+4UCjY60AwGPR+1IaHhyu4uEhTU1OON4eOH3e8wRN3LG713F/EOACgBVQQ43C7etkFAgHHS5T5U+qSJTekXv7tG5qYmPDy7CIQCFRcQre/10k8Hpebs9+wFgoFL09aGlBOuJmYmHCsvXaO8T7By6h4tyaN3KjWANbeNa+5lnsEnpU8oYk4pvynVgHk2UMNiDhuxW0N8Jc8LuZ3zaLRqP2z9tOCeq2xq+OXhPtdVskHFV5uAAyBy0Kh4PHi4rYGj1cQt2/huPVQKNRU4XVqPwC0gApiHOpFNBgMDg8Py+cJExMTWkjecZ3m659cTO2zIDqGiOviyMiI44XQviH1LkEt6tTUlPawS4vFxL+jfhHJ7bt42XtVUne+VmbtqX4gEJBF1W6YzI9wUVf2Z1aRSGRkZGRhYWFiYkK7QXS8sVN/F5ZlRaNR0RAtFAqpVEqt1Y53onIB+29zZGREfjYcDotSLSwsjI6Oag2eGu8UeFAoFNRfsThAhUJBO+7qkdJOEfLs4dYFTFCraJ2/E8pjOC7aiSWVSonL5dTUVCqV0pq+8qct2U8LqVTK40UQNTQ6OlpxO1+7ZYrH4/KGR+st6HYPoPXdMFxcHB9f2a8gYjFxBdFOX27fQpTWvgcMkZEG47QIAC2gghiHetUpeZ1zXEa7bsXj8dHRURG5UK98hpt1sRXtQUe5RfUy7sOwcvsm3JapIfmV7U9i1RsjMQhCfXdqakrevhhuL1Bv2t2bvbGh/iQdn7ercRDHez5DnVTrvKGd4/hzUG9/m+qpWodQ97/9XK1Fvhwrj3zLPAJFVjBDTyI0ntq/RntLjWIHAgH7T1v7uHZkzacFt42ithwHmFiWFY1GPT6WUO8B7Dc8ag8vt3sAdQHzxcWxN5BafscvqH4v83exB+aESCTie+cyfgkA0ALKjXGol0nD8ubezvItQ0tJfSrleMemrcp+yZRNArchM9piju06j9fjxlCDR1orRb17MKxBNrAdb1DQAGqNdavYavBO/bv6JD8YDLrVasOPVFYAexcP9VTgVnjZ+mW4SoOpx9Qt9FCyD53Hs5mX8zMazy325PGivOB+uTScFhaa7CLYliwnZbXk1UuDITSpRtgNazCMZTNXNvmWWwzFPLjYTSqVsicHCQQCfvVI/SvHAwYAaGmi24WYlMQwblO9IBkmMjSsIZPJiBfBYNCwmGEeFrldxwSKkrzoykkKmpZhDj+PE8vLByPtOv9ck9NmKHCr2G5jqpPJpKyi9n5MkjqHgnagZVp+c4p7tx+C/BRzrDSYmCBJGB4edlxGq06VTYGhVhiOclNRJwXT3hLjR8LhsDmJhhvDaaHJr4ntR+baLOv3q10a3BYzrNPjGgwXF5XbXZ/amdTts3aiJ4v65MyyrGKx6Fvl9CWyAgAoSzXzqpgZVlvySqH2SjCXyu25hNoMMI/hVJ9L2J9bNtVFTb0t0N6Szd2SHTSa6ht1GrVaGh7TOdZq9TlbyaPs9ruQa7D/rNQ7yLIy8KPe1ENvHmjm1gNI8PLbV6toteVGTRmuU+WuQeuvYTgteOnehSqpJ97K+iZUeQNQk4vLwu0dUupxBRkeHlZPcX4NWqEfBwB0qHw+77FbgRvtcbdhSbd35RpKTgsfDAblVbOsyecbTz420Z62pdNp+UDDS1J0ocm/bFuS+1x9GmbnWGPVo1zyaa3jE/h8Pi/XYF8gFArJP+bz+bVr18ZiMfNW0BhqFzPzoa++o42sopV1A0GdVN+/Rj3hq2swnxbo8ddI4sS7du1atd9WSdXfAFR/cbG/Ja4ghm68Zcnn84lEIpFINEXHIl8iKwCAslTTj2NqaioajZa8Fa6gH4fhQYGd45KVXbnsz0ib56KmDrbXnuNV9mX9+iKdTO588zMux/pf1rFznBrDy9ShqVTKPgQmHA77nuatk8kDYc4Val7SSwcNc+5J+Ei2Xd068pQ1ukG9gpivtoZpmFBDo6OjjrOumqdAEjwedI3jGrwcZfO8SzW8ghQKBW3+O0GdM84X9OMAgLaVz+djsdjKlSvT6XQ7PedpikcELtyScbTT/m9vajccc9+i6jl20pFVyPAgTox81v6YzWYHBgaoab4wZOHRqKcv+5JeOmiQjKNpmX+8iURi5cqV5l+oNnOnfc12xWLRYwYfVCkcDovJerUAQSaTWblypZoso+a8n2EEcw9QcQXRupOIK8jAwID3UsVisZ6enkQiofU/SqVSIvbhfVU1R4wDANqTuJ1y60sZDAbFRajBpaoJQ2pS37ndiFQ25KSZv2m78hJiEKqPJjhuSx3AZfhsMBgcHR2193keGBjYtm1bM8cB25K6w80P6s1D/LxUP7lMIBCodxgO3pljDQMDA/Y2sBgNJ7KQjoyMFAoFdVIk9eAaYhzltn5RpeHh4UKhoE0jIoZp9PT01GnwoPczjFDyTBIMBkdGRuxXkGw26+UKkk6nHUfriOiJY2+XBrvD7wIAAOrCnmtD3EuJ8fwNbjyXbOHH43F/Q/614nYnqu4BdeSRGTGOxlMbkB6XrJiMkqiNGXlzWfJGVvyi8/n8wMCAWsFEYgjv1QzV8x7ENITGisWilxiHnM2KBm1TMcca5HEPBAKRSCQcDgeDQcNi2s/f0OZU10zMq2Gi0Wg0Go3FYlo7P51O53K5aDQaiUTcLiIVnJzV84aXGwPHi4vdyMhIPp9Pp9PqHaP5CiLSkdgrpJg2qIluWnwcJwMA8KjcfBzq2F1D/m21u3sF+TjUj5tzyLsNMpe3cYa54r1ozEVNndvFbdiq2xW2rNwl8JH3H5pcUp3+wPstlvqkS038Yf746OioW5aQQqGgPpQzpPNAzXmf2MJQQ+RZQptQw3EZi2QcTUZezuzJONTeGYY1GGZ0kn+3XysN862gYbRuHfbj6P3S4KisWwi3i8vCwkKhUKjsCuKY5VT02qjg6zQAY1UAoA2pIXw19ZSmyjk71P4g5mfa8sGjfQ3y4yX7RmYyGX8nGVG3Xu7jMu+5OWKx2MDAQCKRqFWqc9SDWl29J8lXqU//vFSnrq6urq6ugYEBtwFogUBgZGRE/pMZefxS8Z73Mu2CevSZVKWpGPrgyHO+uQ+/eqF0O7jays3zraBhRGvfLSlpWcQNgHYPoPaPKHmGkWcJ0V1IvBZXkJ6eHvMVRFa8fD5v2FAwGIzH426RnWZAjAMA2pDHIf3VJxSQ9+LqvImG8mjUq6N5IttcLrdt27aVK1d2dXUlEomKClstdXeVbJRqC3i8QclmsyJBbF2zl6F6anWtLMZRrqa9lYR1+w/cEJ00n3LlmcHQ31s9LTRRt/COZ441eAl7ZbNZLyOVtCsLyTiaikxKWvGgoWw2K24AtHsAx5xNJanXJo/VQw2uudXbVCo1NTXV7OOL/e5IAgAordyxKvL6GgwGC4WC4zLaBa+CsSqCekV0XEDrSKK9qz70cBuxoq7BcZnGXNTUo+A4NkfdFfbuoOrdRrlDXdAw6iFwnAS0UCjI304gENAOtFoH3I6yNiWK2tfXMHWo2lXYMDupXMbcKx41J3/ggUDA8ayrPeA1nHIdT/ITExNaUKMuXwMV8Ti3q9sko1qvDa0CGE4LhgEy8N3ExIS8QHi5AVBPEfYxIBVcXNS3PF5B3MZVTUxMuN1MNifOjwDQAsqNcahXSsd8HPaJJyuOcair0i6c2vBOx7Vpc7s4XkTVBRwv7fJdOUBdW4+hAN6p+TjsDUj1BsLxdlPdUfZcCRMTE2rUiZHVvpCHWB4L7UZzampKPUz2UJd6lB3buiMjI2pLVfvJyF+uvQppa3bMxaBGA6lCDaaFYrVDb+/Bbj+ChhNIKpUS1UatPPX9PiiHOdavHn37u/bLsffTgoyeGBJvoRloNwD2S0PJG4AqLy6ddgXh/AgALaDcGIeWEFtMSrewsDAxMZFKpdS4g7wi2m+evN9Jq9sKBALh79i34rg29ePBYHB4eFg0LAuFgjo61HAbZzlxW6Dk1/H4TcXkuwsLC1ohLacnMIIaB5EfV+cLNH9N1JvMZ6Fmf5S/OO1n5XaY1KMcCARkHGRqakrr02Rfg7zNdfyZaxFDWc2mpqZGRkbUWuTWlQB1pXZQl80Y9birzRh7Vy/1XVk3JiYm5GN8+nE0LfNx0a7g8per/mzVyqOF8g2nBbW+idW23PP2zqFeGkSutIXv7nNKPpeyr0HtRTg1NaXdhDiuRLuCqL2K2u8KwvkRAFpAuTGOBZdmv0q0vuQls5oYhyGtqaCmQnT8uMeB5WV9WbcFvOy9sjakMRwgrdOKIwIcPpI/B+2BWFm1ccHW89yRY29h+a7jYCgv9ceyrEAg0LS57tub/YG8KhQKyTO540gi84lUHFZ1bY3/gnCjHqmSC9hFIhH11639/N3+vqBMqlKyAPCdOs7RwLySii8u3gvQHlcQfgYA0AImJiZk5wjzLK2q0dFRx8thNBpVHxPJNWvXxQpumKLRqLyChsPheDwunjN4nPbMLYVVJBJxG30qaZ0ptCaEujbvX8dtQ26tX4+zdaZSKceEZEQ3fCeHA4h/Tk1N2YcYRKNRt7n3NPF43F5VIpGI2084lUrJH6NhtVNTU45rthiT3wTsD1TVM4M8ExoiofYjq55Y5B8NI+rRePK4GGJPIyMj2plfTE4hH5jH43Hx81erh/m0YB8QynWk+bndAHi8shQKhXIvLirzFaTkvVar6Frw9lQKANCi8vm8OpGYL9MNJhIJOQ+F+bqTy+Wy2ayWTtz7vBXZbLYBX7BYLGYymUwmI2ZJENOzhUKhsiaNU2eH8eu4wAv1F+R2a2iQy+XElJBiruUaHuhMJiMS7It1qnM5w1/yPCaOeFkTXhSLxXQ6Lc6BFXwcTU7Ol1HD076YiUO8Hh4epsI0P3ldECqrDOl0Wkx9UtZtkmMZxHmmna4gxDgAAHUnYxziKYHfxQEAAEB7+iu/CwAAaGGJRKKrq6urqysWixkWk4+Y6K0AAACA+iHGAQConOzZmMlk1AEmbiroTgkAAAB4RIwDAFA52S+jWCxu27bNcRm1i4djqi0AAACgJsjHAQCoysDAgEi9aVnW8PCwzJCXzWZzuZzMiWV9N+O6bwUFAABAuyPGAQCo1tq1a8X8Dm5CoVAqlSLZOwAAAOqKGAcAoAbS6XQymZRdNlR03wAAAEBjEOMAANRMMpksFov5fL5YLIpeG5XN+g4AAABUgBgHAAAAAABoB8yrAgAAAAAA2gExDgAAAAAA0A6IcQAAAAAAgHZAjAMAAAAAALQDYhwAAAAAAKAdEOMAAAAAAADtgBgHAAAAAABoB8Q4AAAAAABAOyDGAQAAAAAA2gExDgAAAAAA0A6IcQAAAAAAgHZAjAMAAAAAALQDYhwAAAAAAKAdEOMAAAAAAADtgBgHAAAAAABoB8Q4AAAAAABAOyDGAQAAAAAA2gExDgAAAAAA0A6IcQAAAAAAgHZAjAMAAAAAALQDYhwAAAAAAKAdEOMAAAAAAADtgBgHAAAAAABoB3f4XQAAqKOuri4vi4XD4UAgEA6Ho9FovYtUK+pXW1hYkK8TiUQymbT/va582WjzO3L+ZfHiBz3Ln+rf4W9hUIEj51/+auaSZVmretfsfezFBm99pnBta3K9eP36rpPr7l7f4AKgvnI5K5H49vXoqK9FQe19NXNJXgIOPXN08Z3dtVqzxzPDjZtzNdwo0FroxwEAVjabzWQysVisq6urq6srFov5XaJmlMvlBgYGEvKmHKW8/fFR8Z/fBUElbtyce/vjo59//cnnX3+yqrev8QX49fg78jUBjjaUTFrZrJXN+l0O1MXbHx8RZw/Lsmoba5BnhlW9a+xnhvfGT/7kpTUPxpe9/fGRGm4UaC3EOABAl06nCXNoEonE2rVrs9yOV4QGaiv66o+X5Ou/++EaHwowc6n0Qmhdudy3L0IhX8uBuvjddyeQVb01PnvIM8Mq23lppnAteSZx4+acZVnrfrShttsFWghjVQB0hFAoNDw87PZuNpvN5/OZTEb+JZ1Op1KphhStNeTk7TjK19uzzO8ioGyf/+GifO3LERRPgNGe8nkrn//2NTGOtjNTuDZTuCZe17wXmDwz/KBnudtbllMEBOgcxDgAdASRbsPtXfFWNpsdGBhoYKHqYnh42BDNaaeNAnUlmyh++TTpcwFQR2rU2P3ahBb1O6UXWM378RnODH8qXBUvVvWuIRkHOhljVQDgW+FwOB6Py3+SeALVIA1HqxubPOd3EdC+0ulvX0QiViDga1FQe+999m3KjI19jzcy1iCvOxv7Njdso7ATg4YejC9rm+54R86//GB82dbk+la5tyHGAQC3RCIR+ZrRGajGVzOTfhcBQLOS15dg0NdyoC5kNp9GDnNTM/jUPAkIvDtwfMfW5Pr3xk/6XZDamylcO3L+5eSZhO/9HEtirAoA3BJSxkWXzK+ZyWRyuVwoFFIjI3bFYlHOqxoOh0OhUKCcp3b5fD6dTheLxUAgUHJbZcnlctlstlgsWpYlVm4YzlMr2WxW7Nh8Pi+2GKpoLHoulxP5U0KhUDAYrGwldfU7z/e4M4VrIk/+uh9tIDtpE1KPoJgMcvGd33Oc0cDgxs25r/54aaZwbcmd3Yvv7PbyWfkAcNUPTd3Ov5q5NDb5gSjS4r/upm3TAvJ5q1j89rX5rCvSdmSzVjhsBYMERFrCTOGayPpplUr8OTZ5TkbDf9CzvLdnWVlnBm3hr+o5QAYl3bg59/bHR8Ymz5XV/p8pXPvTf177/A8X1/1oww/+x7IKgmLi4vL5Hy6u6u3zeHFRfTVz6U//eW2mcM37FeS98ZPvjZ9cd/f613c1bxyHGAcA3CYQCBTl3aeiq6tLvFhYWLBun3slFApFo9FoNKp9JJvNptNpNZWpCHaEw+FIJGJfXpNOp9PptNadJBKJpFIpQ5QkkUjIkIooqp0Iu8jFVKOjo1qkQ35x+RXs6/ey0Xw+n0wm07KHtmWJPRMIBCYmJoLu9+7qnhclz2QyeZmuz7Isy4pGo8PDw4bdon4LtxLW0I2bc/Iux21KDvv90NsfH+3tWbax7/Gf9j9DmtLm8Xc/XCMO1nvjJ2XTxbKsZx/es/exF0t+/MbNuQPHdtgnSYlvGX6qf4fbpz7/+pMDx799980D5xzvO5NnEhcmz6lFsixrY9/j6360wbBm+E8NoLvFZ4tFa+3aW3lJxQk2GLRGR4l0NLmSiT9v3Jx7b/zkr8ffsTeGF9/ZfeiZo4ZmqnpmEIk5ZgrXtib15R+Mf3sFOR3/hKtJAyTPJOwdN3p7li3+a9fw9I2bcz97/XH1BkB85LXdJz0esrc/Pjo2+UG5FxdppnDtZ68/rl1B3D7umOB2a3L9xr7Hn314bxMmf+lqwK0eAPhFtmzD4fDo6GjJ5fP5/MqVK8XrUCg0MTFhX9XExMTatWu1Dw4PD6u5PHK5nH0ZTSAQGB0ddeyAkMvlBgYGHEMtjtQzuTnc4HFa3Gg0KqeV0WIcjts1b7RYLPb09JTcqFv4xrzn3YrkthLDMjV05PzLcszq67tOajesN27OHXxnT8lhuqSc9NFXM5d+9vrj4vVT/TsMvY5X9a5584Bz5o6D7+wpmdTDrUkj75gdn5U53k/b1/ybl5h9tikNDHwb5ohGLfsEXvJdg+FhS7nioKkcOL5DnN6f6t8R36Jn45bRBzPHz1pOZwb1cqNp8iftrc4tRvDsw3vMDypkDTHY+9iLzz68x/GtGzfnhs8kvFxc3C4BHq8gbx445/gtHC9tq3rX/LT/meYJr9OPAwBuUXsZuA1/cMxFqg4hyefz6vwswWBwZGRErE10ZBB9EIrF4sDAwNTUlNaqF3+XAY5gMDg6Oiq6OWQymW3btlX87SzLUgMcojtJOBwOBoOZ74i30um0eNeyLBG7kV0nKhhdopY5Go2KjYqtZDIZOSYok8kEAgHDlL2y8MFgMBwOh8NhMWJF69PRDG4bF337czztqf7iO7uf6t8hugNoN0xfzVxi3IFf1F7f4l5wY9/jm9Zs3tj3+Fczl349/o68Qfxq5tJ74yftN3Y3bs6pd4FP9e/YuGbzurvX37g5d2Hy3ImPj4jHdyLgZb8TvTVQxVYHxibPya2vu3v9Uw88s7HvcfGRz/9wUbZ27HfeaBYyhGHvkVEs3no3ELCiUSsSsUIhK5+30mkrnf52kEsiYYXDTDrbnAxzu2oNy/iW4XV3r+/tWTZTuPb515+MXfpAfva98ZPrfrRB/LQdVy7PDD/oWf7sw3tE3xDxF9k2No+UQcU+//qT9z57p7J2/o2bc/IgihuAjX2bV/WuEaNWZW/BI+dfXnf3esd7AK1joOHicuPmnL2Hhf0Ksu7u9Yvv7BZXEFmAGzfnkmcSjjGyQ88cnXns2q/H31GDa1/NXPrqTOLI+ZfdIiMNRj8OAO2s3H4cPT09MrgwMjKiRi607gyBQGBkZCQcDmcymXQ6ra58YGBAttvtYyiKxWIikZDBlEgkMjIyoq45FovJd0Oh0OjoqPrxTCYTi8W0Lh4e+3Fo/Sns53919txAIFAoFOxfKh6P26eJNWxUfUtbp5BMJtWwkb1U6p4PBALDw8PaMB+12KlUynEQUIP7cfzkpTXiLqG3Z9np+G2Pa9QHIBv7Hk9sGVZvQWYK1/6fE3vE7QuP4HykPRo99MxRrbGh9hi3H2Xr9gdljt3F1ce5Wp+dGzfnfvLSGrdNb02uF7ewG/seP/SM/vz2Z68/Lm9/PfZYRkPlcpbsjzY6qufj2LbNksMbCwV9ypV83vqup6EVDlseLmpoPPnT1jrxqVHsxXd2J7YM20MYag8yex8xw5nh7Y+PimxBFn0A60kbYCI91b/jp/3PeHksod4D/OalS1oMQh155HYPICvYurvXx7cMGy4ujr2B5BXEcqoqah1zXED13vhJNTAnbex7XIRODJ+tN+ZVAQArmUwODAx0dXWpsQNDds9UKlUoFERnhEgkogY41q5dK2IBoj1vH3whuirIZrbWNUPNWDExMTExMaF9PBKJiNVW8DXlQI9QKOTYzhd9OsRr7yNlDNQARzwetwc4xN/VYT5qVxq7QqFgD2GoXUvU7CeqBYX38ldmTEmR8NP+Z9S31Gf7nyavHXrmqHZ/09uz7M0D58RTuM+//iR5hgmM/WEOcFiWJR58idfa/a64RxQBjt6eZb956ZLjQy01LCIbJ99t/Yh4sfjObntsRW7OHuCwLOvNA+dkXENbLZqCeopTAxzFotXT822AIxSyFhYc5pQNBm8NUSk5ngV+0wIcW5PrxaXh2Yf3/OalS/azinV7vy17ngXDmUEkrraUThyorQfjyx6ML/vJS2vUE/7ru05+mrz2afJafMtwyQCHuDSIe4BVvWs+TV6zd7Lo7Vkmj6A9dqAGIHp7lr2+yzlzh7y4vDd+0n4VkOV3jEGIriXmLyI91b/DcQ+MTZ47cHyH2F32atwYxDgAdIRsNtvlLpFIaLOomBOCGsIfMkVoNBr1OH+K2ixXXxuGhJTMV2qXzWblmI64+0BuueZgMFh9mEN+HdH/wm0xtauLIcZh2J8yT2ozjFtRZ43VbnrkHaqZ7GBccsgu6kG9J1t393rHpojlPnPB2x8fkUGu/7VTD2NJ6pszyOUAACAASURBVBwK2oGW96COCQslt9Eof9fb5+Xj8IfbrOTJ5K3JVm7v3Heb+s9+hTp59uE9zz68Z93d6599eG9lazCcGeRb9gEyqDkRifjNS5fK6qqgXRrcFjOMMPK4BsPFRaUOyVTJK0hZ3+6p/h1vHjhn73l047/9GTVJPg4A0KkZN+08Tv5aQRjCUkIkNacGcQwxmmg0WqtJZPP5vIw4lNwb0WhU9PjI5XJiolz7Ml5K1RwxDtcJ/OTgBfNzEvmp5p+Cvi2pN4XP/k/X1ojjAzR1VPxT/TvMT/ZW9a4R29KedBmScahZ+n/2+uOOGfif6t/BEJXm5XaSl+HdaNQ0cwoxjtbU27PMyzRMKnt41HBmkIhs1ltvz7L/tfNoBdmy1EuDIWOFW2ShJhcXbYUzhWu1vYKs6l2z97EX1ViMX+jHAQC3BAKBeDxuHgniMeOmYTJUua0ySlY1GT0xRwoCgUBNAhzW7eGGkjtNXcAt0FNylzYJt9tQdebRjWs2e1wbYY7G+1PhqnihPg2zc3xeqh7lnaWe1q767nGZaqZwTa7BvsCq3jWyXonh/QxoagcymahlWe4xaF0ThHShqbLznXrC16IV5jPDrU+RqbrOxIn3Z68/XnJqElX1NwDVX1y+e+tWDRFXkFoNJ5kpXDty/uUj51/2PcBh0Y8DQIcIhUKGsRJlteo9xiYMU676QvbjKHdWlOq3aBl7jtgXyGaz5cZZwuGwTPzhL/WmR0vGobZFZbrKkpohP3mnkQfxtd2mW1gZClGpg59LHrvrTjeCclx9b88yx2Eybx44J0ZZi7T5742flHNJPvs/9/qb5g1lUM9y6pTeyrRcJbRI2LejvPfZt79fx1+ix4nDBa0lXPLMgLr6NPnt3DfifCumERGXdcf0z5rqbwDkxeXZh/dUdnERansFEWv49fg72vMYdc44XxDjANARatg9ATD4nZqMQ3kKR2aNVqF2w6l3gMkxSiIfqf2de5/zp/p3rLt7vUy/L3z+9Seff/2JNpUDmhczv7aj332X48Den+LI+ZfVR/GOFt/ZLRfQfsiGM0MzPDbvBOvuXi+yTWvHcWzy3NY/rhezxrolYKrSbRPSu/fRkBwvLpK4ghw5/7I6/a24gpQ1oZs6fZhSvNIT6DYAY1UAAKgZNYmXeo9b2ZCTOt0twUDeSpYc1l593OrWttTJFL6rQuYIi0iqb3+ce+D4joPv7KHN06TURM7EONqOSHAgXmsN0QPHd7z98VHthylGw627e/2zD+859MzR37x0SbYMF9/ZrZ0BDGcGt+SRqIe9j734m5cuaROpiGEaP3lpTZ0GD6qZO71EsR0vLqrenmWOU4Z9/vUnXq4g742fdBytIzKP+h7gsOjHAQB10oA5SssSDAYbnI9THdSTy+XMY2TUgS3N3ONGNmsX/3W3462D27hW9aGKecJ5+Et2CC8ZYKpyDPNXM5dkddrYd6tTury5LNnLV7SOrGcsy7Le/vioTPM2NnlubPJcfMtwM9xo4jZySF0g4Jp3o8muHfDObW5X8YRcvD4d/8QtfDlTuCZnrdbmXlE7DtjPDOYBMqgHmZhzpnDt1+PvyAMnh34svrP7zQPnHI91BfcAn//honzt5drkeHGxO/TMUe9XkLHJcxcufaB2/RDW3b1+45rNzXa5oR8HAHQEmbCz5NQt6XQ6k8lok+lWQA1qlAyvqKVqcDZW72YK1w4c3yH+82s6NNRbBT1uKutuI4MplmV5H13/+defOJbw2Yf3/L/xT9T1nPA2UTEaSp7o6MTRjtx6gY1d+kC8sPfOuG0xpfWoxdDNQw+8zLeCOhEz5mjdOizLunFzbmtyvS/DVA0XF7WrkarkFeTI+ZcPvrNHC3CIXhuv7zrZbAEOi34cAFAnbhOgSplMJhAIBIPBxkwXEgqFRNiiZIwjkUgUi0XLsoaHh+PxeMVbVL9XLpczpx1VS9WwrKjl+tN/3roz+MH/KC9Tg9pvWQx5dVsyeSYxU7i2qnfNxr7N3LA2LbUr76aK8v+pvXy9JP54MP7tMs8+vMexi8fiO7sPPXP0wclvF2NGnmZUfYxjYODbz0YiBEqazVcuyThkQ9fcFByb/EC+dkvGYedxvhXUlejWoSYlrdiB49/OC6veAyy+83tyAccJX1WyAOvuXi+X9HgFOXBzh6iuM4Vrhg2JxLc+phQtiX4cAFAXJaf52LZt28DAwMqVK9UZWOoX75BrLhaLmUzGbbFcLlf8bsR4lWNG1PCNYYtakZo2wGHd3lm0ZKNUW0B91G9ofH7+9SfvjZ/8/OtP3v74KF1FmtnbyjMu7xMBVoOAV8vL52/l46jsRJfNWtmslUxayeRtqT3QBAyxBi8Bx8+//sSQQ8HQHeB3SjIOQ6JiNMC6u9fHtwx7mffEjRjW9PbHR7V7ALVK/M5z+hX12uTxCrLuRxvka/W5jiq+Zfh0/JNmDnBYxDgAoLai0ah4kUwm165d67ZYOp2Wr9VW/dTUlIwL9PT0OPa5KBaLK1eurKBgsmzbtm1zC8GoZXYMN5SV1GN0dFR+yu3rWJbV09Nj/0gTUq/9jg9q1AnhtGlH1929XvYCTZ5JuN2wqmtgZLW/xF2m/e83bs797PXHxVuL7+w+Hb+tV4762u0ofzVzST5SsyzrzQO3ev86blFbs1vBNCSsbTrytB8M6sk41H+6jROMxW5NKzsxYTVx3qLOZJjbVbZ43YIdYgik/GdZJ381GQdzjTeDvY+9eDr+yafJa28eOCe7fGr5WRw/mDyTkNXgzQPntCuL/Kdh+mHt4qL2G/J4BZGjohbf2a0WYGPf5t+8dOnT5LVPk9eacGSKHTEOAKil4eFhOUQll8vFYrGi7WlbOp2OxWLqR9R35fCQYrEYi8W0uEA+nx8YGKgse6g68CSRcEj97SUpRjabFX0u7N/LLhgMql9nQN6g375C9Z91SsbRpah4Jer4FDlTvfoXedvheK+p5pCzp17/aubSz15/XFl4T8XlRMWUORHWWJZ15PzLWhfxmcK1A8d2yD/ufexF7UCrj7Ycs9OPTZ47cGyHurz6eE3eX9obOWrquLc/PmJP/GbdHnpridvQzmIYqKKOCozFHPporF17K0QSjzNKpQkZ5naVP2fHn62aIVJQBya4rUqSD9sJcDQbdQJy7QbAfmlQpyl59uE99m4XFVxc1Hc9XkFkGbQryKreNa0VNyfGAQC1FAgEUqmU/Gc6nV67dq2MHWQymYGBATXAEY1GtSEh6l9yudzAwID8eC6XU9dWLm0gTCwWy2QyIlSRzWZjsZjaiUOLvKhDXbZt29bV1dXT0+Ml1BKPx2V/EBG1kUGNTCYjBuzIhZt5oIp1+x3kjZtzMtH92OQ5MS+gfNexD+eq3jUycjFTuCY/fuPmXPJM4mevPy5vkZ/q39HkvUDblewDLBsSB47tkPGsz7/+ZGtyvXqY7HEE9SjfuDn3fyfXy1tGcdDVe9On+ndowSy38fziL/JJ4I2bcwff2SNLMlO4NjZ5LnkmIWNni+/s1uZlgP9kPNc+JjEUuhXmyOdvRTSKRSuTsWKxW/GRaNS6/eSMJiHjFPZYgzpkQI2cip+tiG6rnzIMK7C/JSOzcrTLVzOXmD262Wg3ADKicePmnKgGJW8A7BcXeehFQnTzxcV+BTn4zq0F2u8K0tVssxsCQA3Jh/bhcLjKQRByVfF4fNjDLebKlSvNIQDzeorFojqCQ5NKpdRAiXomTyQSchyK4xk+k8k49i5RVy5HtahisZg6xEb9CiU3qi7gyLA3vOz5bDYrYyWOBVC7b1Rz4Tty/mXzMIGn+nfEt5iqhxrLsNv72Iv04PDRgePfpls7Hf/kT/95zfFZmWA+Ujduzr398RHzwJPXd+nDnT7/+hO1o7JjO+fI+ZfVWSQd16z1DUFTSKctedJ2OwUVi9bAgOUWxQ4ErHjcqiIPNOrnvfGTsn3oODNo8kzCLRXl4ju7f/PSJcuyfvLSGvHT1rJCms8M9jWv6l2jjoBD87hxc07tCagRkQXzPcCNm3M/ecl0ene8uKhkNXPjdvVpLfTjANDOwt9pfAeBqamp4eFhtxyikUjEHCgJBAKjo6P2rJ/hcHhiYsIxBuFRJBKZmppyW4Nh5alUamRkRC2h93Elw8PDjl9HbtRL2KgZ7H3sxUPPHHXrsdnbs8wc4LAs680D5+Jbhh07FdsfvKDBRDcKMb/jurvXv3ngnL2nxlP9O07HPzEfqcV3dosgiL2qbOx7PL5l2PEedKZwTQy6Xnf3erdbzL2PvfjmgXOOa7a+u7ttg9vTNiRD3oaLUSBgTUw49PKwLCsatSYmCHA0LfPcrpZlxbcMH3rmqHbm7+1ZJubsFP98qn+HmnZBMp8Z9j72opb+YxWZR5vV4ju73zxwzu0GQJzbS67hNy9dKvfiouqQKwj9OACgvnK5nDqrSCgUCofD3qMD2sdrGAvIZDLqsJdgMBgOh0tO7FIsFnO5XMVTrqTTabV7i8eNNpsbN+cuTJ4bu/SBeOYvsm/8XW9fWRkQ1Iwe6360gQyjTWumcE1mE3z24b3ljkn+auaSmBJyVW+flsWtSmOT576ambS+y4a76octNl4arnI5S52LKhwmw2jbePvjozdu/pdV69O+HALT27Psp/3PtEcztY3J64JQWWV4b/ykCK6t6u3bWP4U5moZ1v1oQ5tdQYhxAAAAAACAdsBYFQAAAAAA0A6IcQAAAAAAgHZAjAMAAAAAALQDYhwAAAAAAKAdEOMAAAAAAADtgBgHAAAAAABoB8Q4AAAAAABAOyDGAQAAAAAA2gExDgAAAAAA0A6IcQAAAAAAgHZAjAMAAAAAALQDYhwAAAAAAKAdEOMAAAAAAADtgBgHAAB1d/nyZb+LgCZCfQDgiJMDVNSHyhDjAACgvo4fPz40NDQ7O+t3QdAURH3wuxRoFsePH+fkAImLBaSzZ88ODQ2Nj4/7XZDWQ4wDAID6GhsbsyyL2xRYljU/P09NgCTqw4ULF/wuCJoI9QHCv/3bv8n/oyzEOAAAaARuW2FZ1vj4+Pz8vN+lQLMQ9YGwFwQC4lBNT09b1IeKEOMAAKARZmdnxf0KOtmlS5fECyoDrO/qAycHCLI+kIUBqAYxDgAA6ujs2bPyNVkYIJ/IURlw9uxZ6gMktT689tpr/hYGvlO7b5CipVzEOAAAqCN1iAqDFCAxQgHqMPv5+XkxTgEdi/oAlez0ZzHWtXzEOAAAqJfp6Wkev0DSxiOQSa7DafVBbdKg09jHK1EfOpkWBCcgXi5iHAAA1Iu9/zmP5jqZ1v98fHyc+gBpfHxcHdqGjmK/WNCs7WTHjx9XO37Ozs4eP37cx/K0HGIcAADUheMMGvQ47Vjj4+P2Tj3Uh47l2IKla09nunz5Mj3+IM3OztrPD8S8ykKMAwCAunDsaczolY5FfYDKrT40viTwnVtsi5NDZ3IMZ5DCqSzEOAAAqAu3YQg8uu9AhttT6kMHorkCFScHqNxiXvTz8o4YBwAADXX27Fme1nYabXC1ihQMHchQHy5fvtzgwsB3hpMD9aHTnDp1yu0OgRRO3hHjAACg9sx9jHk611EcB1ejY5nrA49qO415TnHqQ6cxXyy4efCIGAcAALVnvk2hxdtRONxQcXKAyvxknvrQacwPSOgE6hExDgAAak972LJixQr1n+YHd2gz9iexq1evVv9JM6ajmJ/Mz8/P0x29o2j1wX6xoD50Mq0+wCNiHAAA1NipU6fURzG7du2anp5etGiRugxhjs6hPXl7+umntTH2r732GvWhQ9gH2z/99NPaycGQrQNtxl4fpqenly5dqv7l+PHjjS0UfKPFszZu3Dg9Pa3FxOnK4QUxDgAAaky7Tenv75f/l3h037E2btxo/yP1oUPYD/TGjRvtVYJH9x3C8YevXSzQObQppX/84x/L/0uk5PCCGAcAALU0Pj6uPYPdvXu3ZVmbNm1S/8htSofQ2jD9/f2iPmioDx1CG2wv6oPWhrHINNkZxsfH7fXBsrVp0SHs2YiHhoYsHpBUhBgHAAA1Mz8//9prr6l/kb3QDx48+MQTT8i/T09Pnzp1qqGFQ8PZ64O8PX366afVv1MfOoEW/Vy0aJGoDwcPHrTXh4aWDH7QBqEsWrRo165dllN94OTQCbSLhaSFxe2XFdgR4wAAoGbsD1jUJzBaVw6exrQ9wyG2d0enPrQ9e6cex9foEFrMS+3kxaP7TjM9Pa1FNtVso1rKHnt3UWiIcQAAUDP2HuZqXOP5559X35qdneVpbXszjDh4/vnntUxy1Ie25zjYXrDXBy0xLdremjVr5Ovnn39eDXPMzs5SH9qb/WKhnh9I2VMuYhwAANSMdhu6dOnSgwcPGpYnC0MbszdLtOkS7KPuqQ9tzG2wvaTVB1JytDctE8fSpUu1AQhqyMOiPrQ7x2zE8jUpe8pFjAMAgHoZHBzU/qL1QB4bG6MTcrvSWrCWrT4cP35cezrHo7k2VnIIvVYfxsbGqA9tTKsPP//5z7UFtGwd1If2psW8du3apabhIGVPuYhxAABQG/bBtNrgFIunMZ1Eu2d1rA/ao1q0K/Nge0mrD9rYFrQNrT6sWLHC3ONPoD60K3s2Yi3CZZGyp0zEOAAAqA0tWqFlGBVee+01e/Kw+hYLzcFxPkh7fSCTXFsyD7aX7LPwUB/aklYf3CaL1Ua3UR/alSEbsUTKnrJ0LSws+F0GAABa3vj4uNY+sQ9UEeyzhJ48ebKOJYMftPqwYsUKraexpNWHFStWHDp0qO7lQ2Pt2LFD/aehPmhDnKgP7aeaiwX1of3Mzs6qXfwWLVpkH7gkaLPGLlq06NixY3UvX2u6w+8CAADQDuy9iO3pGNzMzs5qz+vQ6rT6MD097bE+TE9PUx/aHvWhk1VzsSALQ/vROnHMz897rA/z8/NjY2P2KVdgMVYFAIDqiVuNij/ObBpthvoAVZXjC6gP7WR+fp7xiVBV8wMnRYsbYhwAAFSryntWbnnbDPUBKuoDJHJqQCU6alX8caqTG2IcAABUZXZ21p4CvcFrQPOgPkBVk/pQq8LAd9X/tDk5tBPvw5Tqt4a2RIwDAICq1OQpK49q2wb1ASoOJWqLGtU2atILo8qeIO2KeVUAAKjK9PS04TZFe8bilj/fsqwVK1Zo04iiFXmvDw8++OAjjzzitqQ2TSBalKE+aCcHQ33g5NA2DPN9Uh86zezsrCE8cerUKZli1jATk0V9cMK8KgAAVGXFihXeF6bh2va814e/+Zu/oT60PeoDVN4PMfWh7S1dutQwZZIatli0aBGVoSyMVQEAAAAAAO2AGAcAAAAAAGgHxDgAAAAAAEA7IMYBAAAAAADaATEOAAAAAADQDohxAAAAAACAdkCMAwAAAAAAtANiHAAAAAAAoB0Q4wAAAAAAAO2AGAcAAAAAAGgHxDgAAAAAAEA7IMYBAAAAAADaATEOAAAAAADQDohxAAAAAACAdkCMAwAAAAAAtANiHAAAAAAAoB0Q4wAAAAAAAO2AGAcAAAAAAGgHxDgAAAAAAEA7uMPvAgAAUF//+2LWx63f9V//W/2nv4WB726rD19fpj50Mu3kQH3ocNQHqO784x9klbjzj/9nM1SG/+N7gZ41Ib9L4UnXwsKC32UAAKCOTv1tl99FAAAAaG3/19GRZZsjfpeiNMaqAAAAAAAAk6mTab+L4AljVZpUNpsdGBio+OOjo6PhcLiG5WlF6XQ6n8+rfxkeHvarMM3AY6UKhUKBQCAYDMbj8WAw2ICCtZZEIqH+s8MrVWtZ9Q/P9e3b73cpAAAAWsm/7t/758/G/S5FGYhxoG1lMpls9rahazRHvcjlcuJFOp2ORqNEOjTJZFL9J5UKAAAAaB6MVQHgKp1Or1y5squrq1gs+l0WAAAAACiBGAeA0rZt2+Z3EQAAAACgBGIcAErLZrPaGA0AAAAAaDbk42gZzPKLmlMrVbFYFJk4stlsJpPR0rValpVIJCKRCLk5AAAAADQt+nEAsCzLCgQC4XA4HA4PDw9PTU0tLCzYwxkrV670pWwAAAAA4AX9ODpdLpfL5XL5fD4cDgcCgVAoVNbHxcP/bDYrpqoV046WtYZsNpvL5URKy2AwGI1Gy/q4INdQ/Yy5YiqWCr6IlM/ns9lsPp+PRqMt3eshlUpVNoGxnM6mssMhe5QIlR2LmtQr8UVqMg0z9QoAAABoAGIcHaGrq0u+jsfjYrbLRCKhDkkQ2RYCgUChUPCyzmKxODAwINuiMllDNBqNRCJemoXbtm3LZrPahB1iQITHNViWlc1m0+l0JpORf0mlUhU0aJPJZCaTUZvWgUBgeHjYsKqBgQF1blqxY4vFouzskEwmQ6FQNBqtrIHtO9GtQ5t/16BYLKbT6UQiIf8i+4Z43AP2NQjBYDCVSnmsEtXXK3ulCofDo6OjXrauEl9Hq1eiDOXWq1gslk6nxV9avV4BAAAA9cNYlU6UTqe7urqSyaQ950KxWOzq6urp6VFbZdoCa9euNSyTTqcHBgbEAo5rSCQSXV1dXV1dmUzGPiOpaBaKNchGnaNMJtPV1TUwMKC2RS3LisViYv2Gz6qb27ZtW1dXVyKR0L5OsViUq/I4c+q2bdu0b53L5Sp+bt8M7A17x4Miq40WnigWi5lMRuzGWCxm2I2yUtkDHJZl5fN5c6WyalSv3CpVNpsVKzfXSXVzojLY65XcIWXVK227rV6vAAAAgDohxtFx8vm8YzNSVSwW3ZZR+26UXIljE8779Bzqs2tNNpstOZupl3LaW7OOvMycKlJ1an8MBAKRSKTkZ5uZNnzJHhezLMvLkJZ0Ou22G7XBKQZulSoWi1Vfr7xUqlgs5mUT1CsAAADAF8Q4WkaXZ+b1qE+5xVACx7H9biMUPLZFBXuzs2R4RROLxexbFA/JS3625ENy+zN2N15mTnVcVRs0RLX+AvavWf1u9Bg4EBzX4LF7hbpFe7cdL5XKC+oVAAAA4BdiHJ1rYmKiUCiMjo5OTU15TDVqD3yIRAkLCwtTU1PxeFwLl2jDYfL5vL0tGg6HR0ZGxBpSqZR9o/aWZzKZ1OIXgUAglUoVCoWFhYVUKuWxG7+9eRkOhxcWFhYWFkZGRrTEDfaNugmFQuFwWOzSmqSr9Je2M7WdYG+lywO6sLBg//r2fW7vpyAqVaFQ8FKpLJeuJeXWK8fjKytVoVDwPjbEXK/sC3dmvQIAAADqoWthYcHvMsBBNputbEoLy7Lsx1Tr3BEMBqemprRl0um09jhdW08+n9emDnVs+LltSyTjVJtzMvupJpFIaK1EtSSZTMYe9bB/5WKxaM/doC6Wy+XWrl0r/xkKhSYmJrTlteyP2jLau8LIyEjTPmO3VyovP3/D4dD2oeVtN6obtVcqx6y3WsnVClyremXvADUxMaHF/uzbsmz7sE71ihN1lU79bZdlWav+4bm+ffv9LgsAAEAr+df9e//82bhlWd/fEH7kZNlp+BuPfhydyHE6hpKzUTomBXBcTygUikQi8Xh8ampKtkXtU104NkQty4rH49qa1U3bu+47fp2ST921r+O4Eu2PYpJdwzqDwWDTBjjqwV4lvOxGdR96XIPov2CvVFbt6pW9GPbOTYFAoORUJnWqV+aNAgAAABCIcXQix5EpJYereEwxMDU1NTExMTIyMjw8rLbNvE9Bas+nqG7aXozKwgraehybkfY1m79FRwU4LKdj4WU3qvvQvga3URiOlcqqXb0yl7lk8dzWSb0CAAAAGukOvwsAr2rYWd2xnVay44PHrAFuykpWqrUM1c/an3h7TCaisbcqvbSWzc/bK8uS4L2V7igQCFS2B6rnWPKSX0fdh/ZKVe6UqLWqVxq3XVpyVzdPvQIAAAA6EDEOeFVlU7ystmg0GlVnYFE3bW8NurWKQ6GQ9416zH5iXmFlbdGKE6/IjY6O1nFcnDb4wvwdvXwXdR/aK1W58Zpa1SuNW6UqNwTjY70CAAAAOhBjVdCMym1J1m8lmioDPa1ICypV32fEx31YjypREx1YrwAAAIB6IMaBZqQ91q6saVrWE344qr6fRbmqHBJlVpN6BQAAAKBpEeOAVx47zGcymYGBATFPp9peLau/vWFyCvt60um040rMrWUtNcOCZ96/hUfeN+2ofgNVisWifZpeNf+lPaFmufvQ+9F0rFSOazDwMumJuRglO1w0T70CYHBHb6jK/y5cHBerGhx6Q/7R3y9VGY/f99HteweH3pDf2qDJd4j6pRz/Pjj0hl9laxJlHb5Ht+8tudMuXBx/dPveu+57RN359zz05CuH38pfnalRqT3JX51R66eo1Y0sQBMSO2R7LO53QYBaIsYBrzw+wM9kMtlsNplMJhKJnp6enp4e0Sz0/vy/WCxqLUz1s/b1VNbPX2uLmpM+dqZEIlFWnMgqfzfaj6Zb7xvHSuW4BjfmemXfXFl/l6hXANrShYvjrxx+S7QJi3PXfSzJK4ff8nHrDXDsxJlW+Y6vHH5LhL2GBvc7LjA49MZd9z3y6Pa9Fy6Oa9VGhBvueejJPfFDjYl0HDtxRgRW5F8uXBzPX/2jukCr7Pka+sW+fwx0Lzn9QbYDvzvaGDEOeOWxOao9Ki8Wi+KD9vkv1eyPKvuzevWz9uf22haFkm1L7es4PrfPZDIrV64cGBhIp9OdljHBHhGwbDvfXiXcdqPohWHfjfY1eDmaslJZtatX9mLYq3c+n3fr3yFRrwC0t1cOv3XPgz/1pTn0xeSVR7fv/a+5G43fdMN8MXllT/xQq3zHVw//yvCuiIuVjIgdO3Gm/7GdNS2Xg9MfZPfED9n/Hlz+Q/Hi0e17W2jP11Cge4kIUb16+FcN7lYD1A8xDngViUS0/AWxWKxk9gT5qVAopLWQk8mkvQUoxiMYVhgOh+1pFLRiOA6ysBdM/Wc6nba3adPpdD6fz2azsVhsYGCgq6vLXLb2kM1mE4nEm7EuLgAAIABJREFUypUr7W/F47d1ZbTHCByb9KIln0wmxW5U96G9UllOg4xisZi2XfmpWtUrezG0jYpK5aXCq/+kXgFoP8W564NDbzi2GOtncOiNBx7b6WWwTOsS39HvUpRBxC82bei3v3X6g+yj2/d6X0+9q9Pg0OuOf7+/717LsjyOw2pXu3dusb79XTvvJaDlMHdsy+jq6ipr+XqM8J+amurp6ZH/zOVy6j/twuHwyMiI/Ofo6KjW1IzFYlpL0s6eb2Jqamrt2rXqs31zMRxpz9uLxeLatWuDwWAqlQqHw9lsVgy6UZeJx+NaI7/Vea9UoVBodHRUCwSIP6rToxaLxZUrV8bj8WAwGA6HY7GYPdyg7cNyj6ZWqSzLGh0d1b5IBfXKXoxcLlfuj87yUK/ss8m2X70Cmt9fZlyTUss0BC/se86tB75qaHC/l8Wa36YN/R++e8S8zCuH35L5C46dOLNpQ//WzXrnyjrtkNzklZqsx3DofVer79gAxbnr9zz4U8uydu/ccjR5UHt3T/zQsRNnxOv7++795+RBEUrQ5K/O7IkfEsGFYyfOHDtx5ve/fT+4vLceBVZ7KNjrQAvt+ToJLu/NX505/UH2noee/P1v3/e7OEC16MeBMgQCgbKmokilUtpfhoeHy9qiaBnaizEyMlKyJCXbjfYF8vm8eK4uxhGobwWDwU5uiNoDHEI4HNZ2Sz6fl90T7AEOewoPcTS9l8ReqawyM49aTvXKY6XywlyvtLc6vF4BaC0v7Hsu0L1E/nPPC4f8zc0Bv8i0LPYgV3Huuhrg+PDdI44BDsuygst7tXePv3OmPuVFCTJQxXAVtAdiHCiPW1vXLhAI2Bu0lnEyC00qlXJbOBQKlQyXlGz3Dg8PGzIyqGrYAG5FjiNKpHJ3o/3voVCoyko1MjJSfb3yUqkcIywa6hWANvbhu0dkmEMMWvG3PGi8/NUZEcXYtKHfPlDl9NlbfWC1oJijd//5Vvfe0x/Ua6o4mG3a0C+DTQQu0QYYq4LyhEKhQqFgWVY6nXYcDhAMBiORSDwed2u5pVIp0VAcGBhwTLgYDocjkUjJJms0Go1EIolEIpPJqFkSRM//QCCQy+VKhjlEkzuTyRjyd8Tj8XK7n7S6UCgkhld4bH6PjIxkMplEIuGW6lUeFLc1yErlmMCi5BoCgUBN6pVbpQoEAlNTU2LrjllRNaJerVy50pD7tgPrFQDLsr6YvJKbvDJ9bWbThgdWLPuhY8/84tz1Cxc/+2Lyyv199waX9bo9Bnf8oJoGUsyYUJtyf+f+vnu/+fIjORjh2IkzMmdhWS5cHL9w8TP5z13PbKntIAWxK+7vu/f+NfdWvOZXDr8lklBWuZ46Of1B9ovvBlls2vDA/X33lnW4xbcrzl0PdC/xXlXyV2fueehJ8dpxcNP0tVsdAey9POyCy3uPJg+KfBxeOhHImpO/+sf7++4NK43zRvpi8srpD7Lf614c6rvX7YcsD9D9ffd62RXqysVZQhwdy7K2bg7X+2t++O6Ru+57xLKsex786e8//XXNTx1AI3XVI2sDOoTIm6i24oLBoPfH6WINuVxObdOaW8JuxJQZwWBQpIEo9+OWZWWz2Ww2m8vlZPNYDCIwd2GARuQWzeVyIkAQDAZFTtCyaoVIySn/KVbifY5Yq0b1SlSJaiqV5VSvIpGIiLZQrxrp1N92WZa16h+e69vXDnkTUFfl5uMYHHpDTjKijfOXq5J/V/NZCPf33fvCvufU9o+ay0AILu8tOUL+wsXxYyfOnP5Aj/CKlBkip6AjWUgv+TgktaF7f9+9n50/Id8y7BDxwVePvHX6bNb+rDi4vHfr5gH7PpcltJPrV5f5y0zu2Ikz6hy3agm1Je1bEcddTRUh2Q+WSqbYNO9wNROn3OFevqPKcLi9HMRjJ84ce+fMF7cnodi6OXz0lYOB7iX2eqsyH19tAY/5NfJXZ+QoFcOPTlQe7ddhWVage8n4+RP2DV24OO4976mdvXaJv7xy+K3j75zRwjHvppJqxbAX1a1628u8PZZw7EkhQlEv7HtO+/v2WFzWBO3HqFKPi2MWFXVVR5MHDXUYHehf9+/982fjlmV9f0P4kZMt0N+KGAcAoM0R44B3dYpxfDF5Zfs/xd0eU8sPHjtxxnGCCZHXwO3JqtrIcWRoalYW47As64HHdspGsvrFzW3gu+57xNwTXmsrWuXHOGSngJJLusU4VizrVUMkmm++/MjxQHisOY4F8B7jKM5d3/PCIcPh3rSh/2jyoCGyoB44TaB7yYfvHpFzuziGMO556ElZjR0XUAN5Hn9EXqj1ypF9W/WIcXwxecVt7hsZONBCbCpDDMIxrGZnj3gW5673P7bTfFDUbxFc3jt+/oRjHZbHzktcFR2l5WIc5OMAAACooy8mrzy6fa+hH74c9+E2g+YXk1f2vOD6ljnAYVlWv3uztmJhpxlDzY6dOFNyqH/JeE1JVc5Cmr04viduyqX66Pa9PiYs6H9sp3n/XLg4bjjcX0xeMdSE4tz1kpPXlhxOsnXzrezarxx+yxyY8Kg4d73kel45/Nb2WLyuh0b8kN3eFVPDWJZlqD9uOz9/dabf29TI+asz2soD3UvUThmOB0j9yLv/nHSLlspjl786U/MzBtBIxDgAAADq6IHHdopx9R++e+QvMznx3zdffiQH2O+JH7qjNyQa5998+ZFc5i8zOdlj/PQHWXuCz0e375WN0t07t2if/ebLj8THRdt1e6yWszht2vBAWcsPDr0hvmCge8ln50+o5dS+6fZYXO3kL96VuS1f2Pec/IjbtgLdS8RioleIPS+mgWja2Qsp+9F8MXnlrvseqTIQo/H4HdVI2e6dW7QdWPJw74kfkrXl/r57tY+/m3Jt+jqyD5oQgst7v/nyI9mRZHDojTt6Q3f0hh54bOfg0BsV7LfBoTdEngjLsgLdS+w1R3bfOP1BVi5pWdamDf2Ou9G+Bo+1S/yQ1V+x4w9ZrEf7Mapfx77mex56UoYhtA/KoyMXtneGUjOG3vPQk1o86JXDb8ndYs7rEVzeKw/ri6QTRisjxgEAAFBfIsChNrYD3UvUGSWEocH9WjtzaHC/bC5mb3/Me+zEGfngd+vm8NHkQe2z4gGv2gL08qDYo7ICB5ZS+KHB/Y6tLPW7V1NOsavFt966OfxuKlnWGBy5Bq2Qmzb0qz38B4der7iElbEfbm0B7Xm+Fk2wT+mqfXzr5rBhPJRciXxtCHKJuq2t6ovJK6KrxT0PPWlPOmPYolxSHBf7MtrsLXXtyhHoXqLVfPsPeWhwv/2H7PYrtq/f8RBs3RxWg0r2Thb/rPz8Xz38KxkL+2LyioyqBJf3Hn3FIQ2HSlb7Gp4rgMYjxgEAAFBfjg374PLb5kzZtKHf/mw80L1EdiDXGjbH3rnV9jM0XdR1emxY1oMsvFuqiED3EtENIdC9pDh3o+INucVQvNu9c4vjGoLLe2XAyMsMILXl8XC7fXf10P+zLRwmP2tOn6HWQHOQ6/6+e8fdE0+IYVmiZ4d5TMSrh38lYxZux0W8JV+rk9fWnOP+0aq0Yw8Xt1+xdXtdMmT6NM/Mcn/fvb/Y94/idXHu+qtH3hIv/kkZumUPg9oFlzXX5EFAZYhxAAAA1NGmDf1uTRc1q8XLZWZnlI0ltwyCdrUdYVEWWcJHt+91C7UMDe4Xnf/L7XmhqnI+iN07txja+X5NNvHK4bc8Hm61T4Hcz8W56/Jh/tHkQUMMyPwFZf3x0osnuLxXjuZwbJ+Lnh0PPLbzjt6QY5LO/NUZOezCnL50aHC/jCyY06lUw/BDrobcUeq4Gzv1qKnzLktigIx4fezEmXseevKu+x5REwN7OWq+TMQL1BwxDgAAgDoKeWs2uLUuSma+KDk9Z1l5Fupk6xO3zY97z0NPNmdneO9jcBqZeVTtBWM+3MHlvfJwT1+7NWBBXaDiYsgeB4Huxd4/Fehe8m4q+ZeZ3GfnT7jN+fLK4bfsyVynr/1Rvi7Z9lYXqFO+TI8/ZEfl5q/RqOEeA/WXrnYPaYYzANBId/hdAAAAAFTOMYuhKvC9xTVvkJfbjBwa3H/6bFYWI391RkxRIXKC+tU/ws576/2LySvlJiWpmDp4x/vhzn13jHLKwarmQb0MOgSX/7CCj9/fd+/9fffu3rlFTAakNdrFrCXq1Kpqb4WSYyjUBXINPDT1U5y7fvpsdvraTG7yiveA4O6dW+z9pEqm4QDaDDEOAGgKY2NjGzdu9LsUAFpPTabnLFe5QRORMNI+NenpD7KnP8gee+dMeEO/edKHxvDeNm5kQ1o2cT0+z9f8lxIiqeaRfq2ykIhgx9Dg/mMnzqijVAyBs7L6cfxXFflc/JW/OvPqkbfyV2cq7uU0NLj/wsVx9Ui9sO85cy4PoP0wVgUA/Ldjx47jx4/v2LHD74IAgCcVpPYQ85V+dv6EvdeGmprBPmahObVuQ7p5yAmP5V+acwRTvckZdu956El1Ah0huLz3aPKgzLVhFuhe8r3bw1jmmVyAtkQ/DtTX7Ozs7OysZVmrV6/2uyxA81q0aNH8/LxlWcePH9+1a5ffxQHQStQmYsNU3Ba9v+/eo30Hhwb3Dw69kZu8Yn90f+HiuDZmoTlVmWGhMubUm83g0e17Rd2orKgXLn5WWe8YNS72vXLShTQDe9+cTRv6Q333btrwwP1995bV9cY+VY2YPrbJqw1QW/TjQH1duHBhaGhoaGjI74IATW1wcHDRokWWZY2NjR0/ftzv4gCAidoZvrIWaaB7ydHkwc/On/jLTO7Dd49oeShFvoYaFLR81aerrEfsQ+6f6nu41HvWWxn8ylW9J9VQRcnjoi5QTXLQxtOOiPxRDA3u37Shv9yxRY5DmXwZzgb4iBgHAPhvxYoVhDkAtIpXDv9Kvq5+qP+mDf2//+37H7575PbZMf3pYO89iNDI1CErln2b47OywIEadlEnKylXWXOyVH8E1VBF/lqJ0Iy6Z1prGpHj79xKEbp75xa3euUl+qbW3kD3EnU/tMT4L6BWiHEAQFNYsWLFsWPHZJiD3BwAPCo50YYY6i/+q3Jbxbnr6rSvL+x7zsuUKDLdgJhLxdGmDf3q+BT73BCN8aJxZ2ptSMdl1NlAakXuZDHuwLDkF5NX5LGWS27a0C/DE3vihyouxv1rvm1+ewy1VNAp5hf7/lG+Vos9OPS64VPFuevyy4qEpuVu10eyk8WmDf1Hk64ToBx7p8Qv4tiJM3fd94h4vXVz+JsvP/rmy49kN6u77nvEr75RQOMR4wCAJiJ7c1iWRW8OAAayjX3sxJmGPaR9dPte2bU+0L1EbZEayEEHFy6OeyyqX4/ivzDO0/mq0oFFIwucv+raUaLirg2bNjzg8XCrMRq1+8bWzQPfFW/GED8yh5bklLGG4IUa83p0+14vYQ51o9pxl01084Qyr9a0Y1ETyl+dOX3WFKHIX52RUZ5A9xI5WezR5EG5S/e8cIjeHOgQxDgAoIkwaAWAR1uf+LYtV5y7bugfoTYgq3y+fezEGbXJevSVgx4jEWElZ4ehG4LaAHPLamGIINTKi8pspiox+Yt4bc9CIvfthYufOX68OHfd3ElEsn/HQPcSj4dbDaOohRwa3K/0idDTUso1v3rElLhBfsfi3HW3vB6/2PucrBXFuesPPLbTfMQHh94wdC35xd7n5OtXD//KLWKihj+8dCxy04DaZSePy/S1P7rFILb/U9wcntgTvxW/UH+YweW9MhBZnLu+PZYwF6Yz57VB+yHGAQDNRQxaOXTokMWgFQDujiYPvptKitdihMI9Dz0pG4GiJXxHb0g2IHfv3GKYrOTCxXF1SIvjf2pb9IV9z3l/YH5/370fvntEvD524owYtKI2kl85/NY9Dz0pe9pv2tAvv5og24GnP8jK8tQjfWage8kXk1fuuu+Rex56Uq5/T/zQHb2hBx7bKf75wr7n5NeR5CiD4tz1u+57RC5sWdaFi+N33ffIXfc9Yu7UYP6O9sP9yuG35ApPf5AVh1uuzd7U//1v3xdRDxl6kB8fHHpDlNC8S9Ujftxl6ERwee83X36kjrl45fBbbjXqrvsekeGJ3Tu32GcIEmsTsRVR7D3xQ7IdfvqD7PZYXP3W5c5CIrciV1jX2uVI7qv81RkxokRGK46dOCO+oDhS8qvlbDOnyH3yzZcfaT/MF/Y99/vfvi9eX7g4bq6EcjxLZbmEgSbB3LEA0IxWrFjBhLIAzLZuDh9NHpShh/zVGbVprTIP9S+L6Alf7oiATRv6X9j3nGzQXrg4fs9DTzoueX/fve+mhrU/bt0ctg+jmL72x7KyYHoxNLhf7M/81RnHEu7eucVxGs7g8l71C4owRFmbLvkdt24OB7qXyAbw4NAbg5ZzFwm3w/1ualgGkl45/FY1021kL44PWa7Tke7euSXwvSXbY3GPazNMNBvoXvLhu0dksY+dOOM2oEYNpZWlYbXLkRZNcNxpge4lQ4P7p685DNgpzl3/JyX46BjiUb/IP8UPmWOd35XKh6mRgVqhHwcANCkGrQAoaffOLSVbYo79Dirzwr7nfv/prytLeTA0uL/kM/atm8MfvnvEvtimDf32jgl1yu5pDgYZ3nVrpQtiulzDAl6+o32eXTvD4Q50LzEP5fAeCCuZaGPr5vAL+57z0qti04b+krvuhX3PGRawLOuFfc99dv5EZWlcHPss1KN2uSn57cbPn1CnXFEnb1aH8Bh+mPI7GtLWfjF5Ra5WJnABWhExDgBoUuTmABpv04Z+8d+KZY14hFsTv//t+2q2Bc3WzWFzA9IL0Qvjs/MnvMQpDERTzbCVd1NJt/WrgzUsywp0L5GpTGtr984tjqGErZvDhgfgwtHkQccDsWlDv/m7y4+r7W37d7y/717z4f7w3SPmw300efDDd4/YW/ViXpuSJSwrpcvQ4P7ff/prNe2ltkVRqbwE4IYG9zsWWxA103vB7N5NJc17vq4M306tjVs3h+UJ6vQHo5Zlnf4gK3t2qKlG7dSj8MrhtxzzbmS/++PWzeHG9GEB6qRrYWHB7zKgnZ06ders2bOWZZ08edLvsgCtavfu3WLQisVPqSKn/rbLsqxV//Bc375qW3oA0OFkppJvvvzIr+lvUHNfTF4RI92Cy3tl/g5A+Nf9e//82bhlWd/fEH7k5KjfxSmNfhwA0OyYUBYA0CTkKAbDTLpoOTLbqDqXDdCiiHEAQLNj0AoAoEn8Yt8/iu4bYrgE2kBx7rrMuipnKQZaFzEOAGgBTCgLAGgGge4lv//014HuJYZ5fNBa+h/bKebrCS7vZfwR2gAxDgBoGWJCWfGa3hwAAF8Eupf8Yt8/Wpb1xeQVt5lc0ULkdCpDgwf8LQlQE8Q4AKCVMGgFAOA7Od3pq0fe8rckqJVNG/ormxYaaDbEOACglZCbAwDQPGQXALQoMftsoHvJ0aTr1LNAayHGAQAtRuTmkGEOcnMAABrvLzO5F/Y9t2lDP8NVWtexE2cuXPzshX3PffPlR8HlvX4XB82uZ03I7yJ4coffBQAAVGJwcHBoaGh+ft6yrOPHj+/atcvvEgEAOsvQ4H6/i4Cq7N65ZffOLX6XAqgx+nEAQEti0AoAAACgIcYBAK3KPqEskQ4AAAB0MmIcANDa1Allx8bG/C0MAAAA4CNiHADQ8uSgFcuy6MoBAACAjkWMAwBaHrk5AAAAAIsYBwC0B3tuDr9LBAAAADQaMQ4AaB9qbg56cwAAAKDTEOMAgLbCoBUAAAB0LGIcANBWyM0BAACAjnWH3wUAANSYyM2xe/fu+fn5sbGxsbGxkydP+l0o/xW/ujJ5+A2/SwEAANBK/r+ZP/pdhPIQ4wCA9jQ4ODg0NDQ/P29Z1vHjx3ft2uV3iXz258/G//zZuN+lAAAAQB0xVgUA2hODVgAAANBpuhYWFvwuA9rZqVOnzp49a1kWXeUBv0xPTx88eFC85pfYeNo8vhyCDqfWhyeeeOLpp5/2sTDwl3ZyoD50OOoDVENDQ5cvXxavV69ePTg46G95Wgv9OACgzTGhLAAAADoEMQ4AaH8MWgEAAEAnIMYBAO2P3BwAAADoBMQ4AKAjiAllZZhDG/cLAAAAtAFiHADQQWRvDovcHAAAAGg7xDgAoIMwaAUAAABtjBgHamx+fr4mywCoEzFo5dChQxaDVgAAANBeiHGgxubn581Phqenp99///2GlQeAIyaUBQAAQPshxoEaW7p06fT0tKHJNDQ09OMf/7iRRQLgiEErAAAAaDPEOFB7mzZtcmsyTU9PL1q0aMWKFY0vFQBNydwcs7OzjCwDAABACyHGgdrbuHFjf3+/1mSanp7evXv3wYMHBwcHfSwbAJV5QtnZ2dmDBw/6VDQAAACgbMQ4UBdiNMrY2Njk5KT4y9DQkHggvHTpUj9LBsDGMKHs7Ozs2NiYH4UCAAAAykaMA3XR398vmkxXr14Vf6HHO9C0zINWSBIMAACAVkGMA/XiOCZl48aNjS8JgJLsE8rKSMfs7KyvRQMAAAC8IsaBenFMLLpmzZrGlwSAR+qEsuoQlcuXL/tUIgAAAKAMxDjQOEuXLu3v7/e7FABM1Nwc58+fFy8YrgIAAICWQIwDjUOAA2h+am6Of//3fxd/vHz5MiNWAAAA0Pzu8LsAaGe7du2SQ/pXrFjx9NNP+1seAI7Gx8dPnTpljmI8//zzv/zlL5kXCQAAAM2MfhyoI7XjhphNFkAT6u/v/+Uvf7lr1y7HNDoSI1YAAADQ5IhxoI4WLVokwxwMVAGa3MaNGw8dOrR69Wq3BcbHx5kEGgAAAM2MGAfqS3Tf6O/vp4s70BIGBwcHBwcdp3men5+nKwcAAACaWaPzcUxPT2uPARctWmTvHT0/Pz89Pe22kqVLl9obzBV8ZHZ21jz+3PF5pnkOxVp9xL6jqtmK406urGDmj9j3c39//9///d+vXbvW7YMVHBp1estqPmLeyVZD9rOP9d9cMKuiClDBfm5A/a/sIyUPjaG/Q6tbvXr16tWrd+3aJYIaY2Nj8nCcPXvWr8Q69uNVk3OU1agTjrmEFfwQ3D7FOcrwkWY7R/3Hf/yH+Hs9zlF2jbl9quAnY7XR7VNld1yOmvZsVvOfjNunWvFsZtWuMv/3f/+34VPNdjar5iOtdTareWV2+4i6lfn5eXUNjan/bgWr7LvMz8838oF318LCQr23MTs7+/7778/OzjrWidWrVw8ODmp/vHz58tDQkNsKn3jiCftNdgUfOXXq1NmzZw0lP3nypP2PO3bsaMBHhoaGDBWo3K047uTKCmb+iON+zmaz//Iv/1LWR8yHZnBw0P77qeAj5p1sNWQ/+1j/zQWzKqoAFeznBtT/yj7i5dCsXr160aJFS5cuXbNmTRuHPObn5w8ePChvAhx3Zj3Mzs5euHBhfn5+dnbWsT7U6hxV7xOOuUhCBT8Et09xjjJ8pNPOUZrG3D5V8JOx2uj2qbI7LkHb2014NhNq/pNx+1Qrns2sKiqztsyPfvSjP/zhD24f4Wzm19ms5pW5go80pv5XUDC3j8gNLV26VKQvCAaDS5cuNaeBq0Yj+nHMz8+PjY01YENoTt///vf9LgJQF/Iid/bs2UWLFq1evfrnP/+5v0Wqh0WLFv3yl78cGxsT0eqxsTHHkSw1Nzs7a24UAQAAoFVot3ZPPPFEnR4T1qwfhwhk/PnPf961a5f93aGhIfm0U3urabsnWYxVqVE/8GboB8tYlc7sB17NR0oemtnZ2UuXLom/iNLu2rWrMY1/f12+fNmtRlVGjIhxe4wvOsusWbPm/2fv/oLjuu4Dzx8asqDgWnDgoRrMSGWqwZCJNg1XYlhueGeYShpgxZWkWVtRqKqGU0lqBiCr7Aegdsshq/GiPLCLnHhrgIdkSwR2yluVoGvFSXaGnew6RbDLiWZq0BbheI1rKyFNtOgYWaKJISzKFxElIdyHA99cndt9cdH/7p/z/TzYQKMBHOr+cP78zj/3b4zKXhVlxqPu3Ivmq7u1qqOck2af+9znfvmXf3nfb6krtN0n9qr4/xZlBlWZZw5hbSaxV6VDy/uVxmJsbMzjwP4w1Gbt+pZo1WZd26syOztr/3OSyaSzcojiXpVqtbq2tia/Xfml09PTbb+boj05jmKxaG/Y7toyZgAIiUqlsra2dvr06botrhDC43QGnTnP+1hYWIjrfyWl20orqTlnPDTapANNKJUD8aA54gFOzk0xjTanRFetVqtUKsViUXSmX9SGvSrlcpnlxAB0lk6nG2Wgi8VipVJZWFjocpEiYWZmxp4MqVQqOqyCAQAA0Fwikchms5lMptE6mlqt1sqS4ZbujjVNc2ZmZnFx0X6lm8elAkDIydMrLMuamZnhWCKnSqXiTHC0d/MLAAAAQq7RpptarebcqtOEJtdxKIfQZrPZ06dPx3WZMQA0J5FITE5OyqM6FxcXFxcX0+n05OSkzrWlcy2uYRinT5/OZrMBlgcAAAAhIacGhRCzs7NCCMMwcrncQZf6NrOOY3FxUUlw5HI5nbvsANBIJpO5ePGiXUNWKpVCodBKZjrSZHMlyetaSHAAAABAkv1Dew+4ZVmLi4ve57y6NZPjGBoakh9kMpm5uTmOwwEAD8pgvlqtFgoFPbeujI2NyQ+U1A8AAAAghEgkEtPT084rWgqFgvflXIpm9qpkMhl5QAjbpwHAD7nQLpfLzc/PVyoVmZPW8IjNTCaTSqVoOwAAAOBBXiVjmub8/Hy1WpUbWHzeN9T8maN0UgHgoKanp+WCDm1XwNF2AAAAwI9UKjU3N2d/6nMddBvujgUA+JfL5UZHR+ueIw0AAADAZhhGNpstlUqGYcjFHfsixwEA3UaCAwAAAPAjl8sNDQ0lEgmfXeh99qpUq9WpqanZ2dkDHfIBANBctVqdmJiYnZ096FHYAAAAgFM6nfY/R+iV47Asa35+3rKsarV648aNdpR/jAfmAAAgAElEQVQNAFBfnFLJlmUVCgUhRLVa1fMGGQAAAATCK8dh39GSSqW0PR4PALpgdnY2NkseZIJD/lsymYx9aS4AAADQaYceP35c9wuVSmV+fl4IYRjGwsJCd0sFAHqZmJiQHywtLQVbkhaVy+XFxUX58cLCgmEYwZYHAAAA8TM1NWVZ1tzcnPvOvobrOIrFovxgenq6g0UDAAhh5wKivmPFbjuE4x8FAAAAtItpmnLJsD215lQ/x1EqlWQ/O5vNplKpjpYPADA5OSk/uHbtWrAlaZG93YYdjgAAAOgEO0dhmqZpmspX6+Q4LMuSnWzDME6fPt3p8gEA0um0rKzL5XJ0l3LYCY5EIsExHAAAAOg09wShmuOo1WozMzOyn8pWagDomnw+L9McMzMz7oR0+NVqtampKSFEMpmcm5sLujgAAACILbu3uf86jkQiMT09zf4UAOg+e39HFHesJBKJfD4v2KUCAACADnOuGi6Xy84ved2rkk6nO140AICDfcGKvawjWmg7AAAA0AWWZck9KIlEwrmIuOG9KnRSASBAzgtKIoS2AwAAAF1gGEYmkxFC1Go151KOhus4AADdZ1mWzEYHXRAAAAAg7IrFYqlUEkLMzc3JLvQTQRcJAPDPDMPgsGcAAADAj9HRUdM0U6mU3YVmHQcAAAAAAIiDfz6Po1qtyitjAQDwr1qtBl0EAAAAQAhnjmN+fn5qaqpSqQRYGgBA5BQKhUKh4L6cHAAAAOiyvRxHtVqt1WpCCPm/AAD4YZqmZVmmadJ8AAAAIHB7OQ57/o1r/wAA/q2trckPaD4AAAAQuL17VexOKhcWAkAY2PdgLS0tBV0WLzJFns1muQ4GAAAAgdvLcXBiHACEytDQkPzAsqwwpw9oPgAAABCsarW6srIihMjlcnt7VbhRBQBCxc5rhDmJYJ/BMTw8HGxJAAAAoK2VlZVSqSTXF39k33cDALovlUrJD+y9hCFkn+VklxYHderUqUMOQRcH3aM8ep4+6qKKgBPxABuNiEKugK5Wq5ZlkeMAgFAL8zq7zc3NoIsAAAAA3TlXQH8ox5FMJoMoDwCgIe5kBQAAADw41xR/KMcR5mPtAAAAAAAAPDwRdAEAAFGVy+VyuVzQpQAAAAD2cB4HAACBuX79+uPHj8+fPx90QdBt8tHbT39gYCDoEiGMqCLg5IwHKg3N0Yh4IMcBAEDAVldXgy4CAiOf/sjISNAFQXhRRcCJSgNOxIPbocePHwf46zc2Nu7du+d8xePxbG9vr6+v25/29fW98MILHSwcgqC04t5P+UBvRiQodQIBgDBT7mkbGRm5efNm3XdevXr15Zdf9niz/aOCbZTh04ULFy5fvux8xePBKU9fefTnzp27cuWKEOLOnTvy3jvEgxIkHvWD8FGZUEVEXRvbCyqNqHO3IAeKB6USIB6cJiYmhBD5fD7gdRyHDx9WXnn06FGjNz98+ND5KQtydLCzs+MREgpCIgaUOoEAQISsrq46E/FOy8vLyitnzpyRH6yvr9vdF5ajR8XZs2eVVxo9euF6+sqjl33T8+fP0zeNGSVIPOoHNztIBFVETDXXXggh1tfXZaUhhKDSiCh3C+KxUMsdDzYaEbd8Pp/P55PJZMA5jt7eXmVYsr293ejNypeeeeaZThULwXEPUz1CQkFIxEBvb6/yCgGA0HL2O6WrV6/Wfaf7ddnFWV1dPXbsmPzqyMgIA5ioGBoaUp5+o0fv/pLdu7UfvWDsGkfu8YZHkCjsIKGKiI3W2wvx43iQH7MxIbrcLYgHj3qDRsQtlUqlUinDMII/j6O/v9/5aaPxzPb29u7urvOVnp6eDhYLAVHiQXiGhPPTgYEBQiKWCACE1vj4uPJKo76IEq5nzpyR+dyRkRH5Q86ePXv9+nXWIkWI8vQ9hivuykr5CWfPnuXR68DnmNauHwRVRIy03l4IVzx0oJjoEnc81OVuQZzJERoRDwGfxyHdvXt3a2vL/vTZZ589cuSI8h7TNJ1L1nt6en7+53++S+VDdynxIBrkqp0hQTzEiTsA9q0TCICgFIvFUqkkhFhaWgq6LMGw98Ha6raqzp3YAwMDDx486HjJ0HnKBvtLly65Z9KOHTvmXJHO09eKu37wEyRh6JmjE2gv4KTEAy1IewW/jkO4Vpi7p23de/JJVsWYnx0HSkgQD3HiDoB96wQCAEFx76p1U/bZ+l+himhxz8q6t9zz9LXirh/8BAniivYCTko81F3XQwvStFDkOPr6+pyfujMa7hEOQ5oY6+vrUw5lcJ862WjpL2LAHQA7OzvKewgAhMTIyIiy6949XHEvRO94sdAVyqN3D1bdfVaevlbc9YP7ZEH/h3Qg6mgv4KSsUveT7iQe/NvLcUxMTExMTBQKhWBLY1OesXK/7JEjR9ynNiBOjh8/7vxUiYednR0lJIiHmFECQKFPAIStZkZdyqZo5Y631dVV5Yo4n7twEX7u/fDK01ce/fnz53n6uvE+NMFdP3BwYLzRXsCDOx6cn9KCHEgo1nEI1zSs94WR7htnETPKhTtKPPi/aAMR5b5xiQBAaHlP5jNJG2Pus/E97v8T/laqI2bcQeJdPxAk8UZ7ASd3C+IRD1QOfhQKhUKhUK1WQ5rjEI2HMe517Iglj0uFldhQ9johHggARJezX6L0UbjtL2b8rxx2L1OHJjyuGXbXDwSJbmgvdOZ9o7DzYyoHn0zTNE3TsqwQ5TiUex/tYYyyFd/PgZSIgUZDXPcaH0IilggARIgSrna/xL29lnmYmHFe66hQ1nTw6LWlBIlz3EL9oCHaC9jcLUijeCAYDiosOQ4hxIkTJ5yf2qkN5Q+ejSp62tnZ2djYEK54GBgYICR0QAAgzJQt1qurqxcuXBCuvbVnzpyhmxI/ytOXj158+Onz6DXnDBK7flAQJJqgvYCTOx7kB0o8EAwHFaIcR19fn3vNuffBHIg3JR7kTD63COuDAEBUjIyMKIuK5VQMt77pQHn68tErU3A8es3VrR+4JVRPddsL7pnWljseBFdKt0OIchyi3smjysZ7ZT8L4s196qSycamnp4chbowRAOE3ODiYSqVSqVTQBQme+1hBZQAzMDBAnzWunE9WPnougIQHd5BQP2jF3V4oNQbxoBX3yaPueOhuieIgXDkOZV/99va2kuNg471W3I+beNAKARB+mUwmn8/n8/mgCxI89zpSTkTXh/Jwr169yv0I8KYECfWDVmgv4LRvC0I8NCFcOQ5lmca9e/ec69J7e3ufffbZrhcKgenp6VHOEL53757zU+Ih3ggARMjAwMBrr73mfOXy5cv2x0NDQ5cuXep6odAlyiTb5cuXncuMOQwfQgh3/eAMEuoHrbjbC6XGIB60osSDuwUhHpoQrhyHEMLjXlifJwuurq6apln3Sw8fPrx9+7Z8w+3btx8+fFj3bbu7u9/61re8b7lHdwwMDLR+VfDdu3cbhYSTaZqNHrqMB3nmJbqpowGwu7u7tbW1vr4uL5q6ffu2xyMmBrCvM2fONBrNtmsS5ty5c8eOHav7peXl5XPnzp06derYsWOnTp2qe6ihEGJ7e/sTn/jEoUOHGr0BzfFIZLTl6Z87d+7QoUONnr6Tx8OVT59HHwiP+qGNGlUR29vbV65cefnll48dO7ZvFUH90AVdaC+EEI0qDXnQ6alTpz7xiU/QXoSBx9akNvYffDYip06dqhsVdjy0pTydtpfjkIuNc7lcsKURnjuO/GxGkkvZ3bO7u7u7t2/ftvMajx49kvmO27dv7+7uKm/u6el57rnnhBCNkiDophY3oW1vb29tbe074b+xseFxuq2Mh3v37hES3dehANjd3V1bW7t79+729vajR49knXDv3j3TNOs+ZTsGWinMQS0tLS0tLbETJEIadVPasrP66tWrV65cqTufI3skV65cWV5eXl9fX15evnz58qlTp5TtXUKIgYEB+ROcy0zQOo9H3Janf+XKFeFjtt97KCKf/uXLl5eXl1svEg6q0ycsNKoitre3jx07du7cuatXr66vr9tVxLFjx9yRINtcgqQLOtpeiB/vf3HHw7lz5z7zmc/IR7y9vS2D4TOf+Yx7no/2IgzaFQ8+GxEZEsvLyx7xEI3K4XH4fPe7373pcv/+/X2/8a233rp58+bbb7/t/pL9c9599135imVZ9ot1f9r9+/dv3rz5gx/8oJV/C9rCHQ8HColGj9gmn7X3O+33HLj0aFmLdYL7qd25c0e+/t3vfvfBgwfyRcuy7PffvHnTsizlu6gT4EeHmlp7Jsf9pfHxcfmlM2fO3Llz5/Hjxzdv3rRfHBkZcX/Lq6++KoQ4f/586wWDzX02vhDi1Vdfbf0ny6d//fp1j/fIZyp5P1k/70GHdDpI3FWEPUAaGRl57bXX5Is3b950Tg4rraQdS62XCt46NzRrVGnYz318fFw+9wcPHpw/f75RMDymveiWzlUOj/01Io8fP3ZumRkfH6/7nqjEQ+j2qoh65wj6uT3h4cOHW1tbQoj+/n7lS/J1IcSRI0fsde99fX325pe607byq8qZIAiJFkPCaWNj4+7du/v+xsOHD8vgIR66r7k6Qfz4b18JgIcPH8rJ7cOHD7/wwgv2z+nr6zt69Kj9Nve2FBkD1Ak4qLaciC5nYOzMhfN1OaNy/vz51157TS5+HhkZuX79unzD6uqqe8rl7NmzQ0NDyqZftMi9orgtlyMsLy9fuXJlfHzc/fRtFy5cOHfunM8fKIOEidlAdChIRIMqYnl5WU7mnz179ubNm858hzMppiz/kfWDcN1+jS5oS3shKw1RLx7s169fvy4H1XJy3v697pqB9qI76u5JaUvl4KcREUJsb2/7aUdkOcMfD2HMcQwMDCiHj7pfcdvc3Gz0pfv374t6R5YePXpU/kl7fK/o+up0uLmf/oFCYnBwsO4bdnd319fX/T9fGT/EQ/e5m3w/AWBTAsBOesrtJ4ojR47ID+qmPokB7Msdrm1coO6cbZNkh7XumWT27607mmUFctudOXNGefruV5ogn5H70du2t7cP9Bw5vi5A7tqgLUFiU+JE1g+iwUO33+xOg1I/dEeH2otGD86OB2eGS/m9de+EIh66oG5V0JbKYd9GRHr55Zfd+1v3/bGhFcYch3vo4j0PL4R4+PChHJD09fUpX3r06NHOzo5wDF2cZOg8fPhQvkch5+3tERHCY9+QED8eo/b19dV9szyOwf5jdkeOmzz/cmtri2n8LmuiThCNA8B+6HWzJN5nG8sagxiwFYvFiYmJiYmJoAsSat4zJ37IEcjIyIjyo9bX1+WO2bp9F7vPWnfrrPzqlStXQj4VEyHuzmhbHr18fHV/1Pb29oULF+wz5EZGRuqudlbYhx3y6LuvE0EiGlcR9ni17kjJ4yxDGSTUD93XxkrDXRvIeKh73Kn376W96II25jqdvBsRm30Ej59GRMaPnTILpzDmOEzTVM4B3fep3759W37g/qOVC86dO1OUnyzHP3WvS/jkJz8pP3CfS4puUv77HzlyZN+QsIegjY6tXl9f393d7evrO378+MjIyBNPPOGnJDIk3CGKjlJuRfEZALJacAfA8ePHjx8/7tyW4uQzEogBNKJMg5w/f77Febn19fVTp04J192TwrHCvNEaVz/d5WPHjh1o6gaNuP9LtuvRN/Lyyy9fvnx5e3tb7rK+efOmz16ynMXl0XefcqlB6/WD8Kwirl+/fv36dfekveQdLQRJF7S9vRBC2JWGOx7kOQXu14XvATbx0Dnu/7b7rrzY176NiE12Jy5dunTz5s1932xXKWEOhtDlOLyvt/DW19fnvmZSLtDwuH7yySefFA0OWejv75czvXK3CwLhTj/5v2GnbkjYjh49+sILL/hZEWCz30xIdI27TmgxAPr7+/v7+xut19i3vrZXfxADcHPfatF6h1XOvI2MjLgTdvvece59V6X9pxTy2ZhIuHDhQttnOO1JeI+JtaGhoVdfffWgc7/j4+Py6fPou8kdJO26cUk0qCLkDvxG6zXq7kpwfq/8gCDpkE60F7a68eDBOxgE7UXnuVuQdvUfxH6rM2Qojo+P+8yqRKIF2ctxFAqFQqFQLBYDKYS9T0Te3ah81f8QtO475ejIY6Arp20bJVbkI6y7kwUd4owH93kZ/f39fvaVyJGqR/A8++yz3rsSfBYSbdedAGhk38yF3cx3IQbkNpBCodDpX4Sm2VmG5eVlOanu/Or4+LifZZ/eZB+l7iB230G1d0LQ7j/tmyuBN3n5ovJi62vO7e5pox916dKlO3fueOw48CCfPo++o5z/ed31g/C3LHxfHlWEN5/jE4KkXbrQXjh/2oHebwdDo/qE9qLtlHhQvtrG/oPwjAfZfg0MDNRd4NNI+FuQvVXZylLwLtvY2Kh7vJ8Qor+///jx497fbs+7uk/caPRjnezx0sOHD90jomeeeWZra2t7e3tnZ8fPyAqt84gHIcS+8SCEkM9LNDiERWrxaYZ5dVbUdScA6trZ2ZHf2NPTMzw8XPc9sk4QxACEEEJcuHDB46J4+3KTpl29etXjxI192T2k5eVldxfn7Nmzsl+77wwe6jp06FCjL8lrC1r8+Xb3sdHTb6UHLJ++DLA2jqzg5F0/tOUkjqariNXVVfmNAwMDd+7c2fdXECSt84iHttQYwlGZ+4mHq1evXr582a5nxsfHX3vttUaZcdqLtutCPOzbiLz88svygT548OBAPzm0LYicF8zlcqHbq+LU09PjZ52VPSbxf8+C8ls8vurMgDTxw9FePh9xiyGB0DpQAPh/v/1dt27dkh8/99xzjb6XXCd8asv5YXYHpbmf5v1doeqXxMlBJ8T2/WmdOIvOmf9q+w/HvtoVJM1VEaurq/Yufee9oY0QJJ3WrhrDzlv5iQc7zyV+fIexx3fRXnRNe1sQ4RkPMsFxoG1NUmhbENM0TdO0LCsUOY5GY4YTJ074GaLIbSaGYXi8x2Ovyr7k93K+YNc0iofe3t4TJ074+Ql+QqJprcQS/GhXAByITHDIP/MjR45472MiBmBr1O0bGhpqyyRMpw+xb6JnA2/y0bcxK9HpoQVL0jrHu35oS5A0UUXIBId87ufPn/fY62TXDwRJW3jEQ7tqDBkPPiuN7e3t8fFx+ZS3t7fPnTt37NgxjyEr7UV7NXpM7W1BPH6RXXs0OpbYmx05TReso0KR43Dr7e09cuSIz/lSj+yDPRSRB4s2XRjB+QuBkvHwwgsvtB4SbSlM5344Gul0ANgJjsOHDz/77LPebyYG4GFoaOj8+fM3b95sy9C0070H+qztNTQ01K5H3zVh3lAdS22sH0RTVYSd4Dh79uylS5c83mnXDwRJh9jtRbt+4IHi4dKlS9evX79z5469Wcn7Gg7ai06T8dC1FuTcuXNCiPPnzze3b07GQ2grB1+3JHbas88+u++gwoPcRVJ38GMPRd555519Tx/0vjPSsqxmC4iDaTEehGdIIPzaFQA+3bt3z7675+jRo62cRAsNXbp0yXuQ0KJ2rQLtxGYHPH78uAu/pdP93dD2UGOg0/WDOGAVcfnyZfsuj1dffdX/abUESVt0LR58Vhp2uzA0NPT48eMLFy7IY1CvXr3axhte0EgX4kFyx8Pq6upnPvMZIUTr+dbQVg4hXcfRTe+88478oNGQWL7OzC0kUiexsbu7e/fuXZng6Onp8Z/gIAZsg4ODqVQqlUoFXRDUZ49/GnViorXiAJ3A3KwO5E4EmeAYGBjwmeCw6weCRAd2SDQatdJexIZ9p8+FCxdOucgvyU1tp06danQBk4yH0FYOoVjH0aKenh6Ppel9fX0tbjOR3+69ygOh4h0SLWLXUvj5DIBbt27ZT/PEiRP+MxfEgC2TyWQymaBLEWcDAwMea49HRkZanEIJ7QwMuoY1PpHmXUXYTp06Zf+xX79+3edgtcUzj9F9PuOhLnksyPb2dqN2gfYiNuwg8VgItr297b0syD7gtgMFbIM4jNsNw3j48GGjUUd/f//Ozs69e/carX6/f/++8Lxj8oMPPhDM3EaKd0i0SMYDwkwGgMcbdnd37QRHX1+fz+ONbcQAumZkZMT77knvTmej6RdbaE8Lg63T4wrmZiPNu4oQQmxvb9sJjpGRkQMdZ2jXDwRJVMh4qFtpXLlyRZ6/8ODBg0YxIJ94o8dNexFR7ni4dOmSx9OUSzlGRkbkVppGKzW8oyVwcchx9PX1eYxnBgYG7t27J4TY2tpyL0R/+PChnO/1SGHYF5G2p7joPO+QaBFz+OG3bwD84Ac/kM/x8OHDHtfENtK1GJB7QJLJZHd+HULIewBz5swZueL0ypUr7pXny8vL+3ZJmZdDaGfh4Me+OY4LFy7IP3N5wuhBr5iVHxAkUeERD/ZY9OrVq3V3KslrREXjMS3tRWz4SUwMDAx4n0UajXUcS0tLwZajFfKkjEZDmr6+vt7e3kePHt2/f9+d49ja2pI/odETsgczrOOIEO+QQOx5n55z7949+Yff399/9OjRg/7wbia58vl8134Xwsl7p+vIyMjQ0ND6+nrdHIe9iIMOa6S169xZhf30QzsLBz+8q4jLly/LemB8fLy56yElgiQqZDzUrTRGRkbkVpTLly/XzXHYTUbdA0dpL6KrE41I+FuQOJw5amcfGo095D6UnZ2du3fvOl/f2tqSc1weG1Xsn7nvtSwIj31DAvHmHQByYZcQ4vDhww891f3hBBW6ye49NOpfnj9/Xn5VLkJ2sifl5Hvc6LNGRSeelP0zm7s1ECHhXUXYJwuePXt22ZP3byFIosI7HmRqY3193d1enDt3zg6DuvO+tBeR1vbHF/4WJJI5jkePHjk/tccz9tBFcfjwYfmera2t1dXV1dXV27dvr66uypRHT0+Px2UK8me2eJMlOsp9umRfX5/MWzUKidYREmHmHQB2wKyvr9/2VPeH2z+TGMCB1Gq1Jr5rZGREZijssYri7NmzDx48EEJcuXLl0KFDhw4dOnXqlPxACDEwMHDnzp1GFyjYP7M719fByc+F9HZyqtHTb4X8mTz6qPOuIuzdai+//LL79gT3TQp1ESRd5qdyaMTOcdSNh0uXLintxbFjx44dO3bo0CG5iGNoaOjmzZt1fzLtRVBaiYfONSKhbUGWlpaWlpZSqVQkcxz37t1T0hySx96EEydOOLOS9jv7+vpeeOGFRt+1s7Mjf1Fo9xpBCLG+vu5+UT6ytm9XsefwCYnwqFsbdCgAnL+OGBBC1Go10zRN0wy6IBFw7dq15tIcctmwx0TrwMCAc2mx877YmzdveixltyvPuiuT0VGFQmHf99jPpe0rjVdXV+XT59GHQStjGOGjimiOPU9LkHTZ/Px86z+kUTwMDAw4s97r6+t2QzA+Pn7z5s1GWw9oL4KyuLjYdBXRoUYkEi1IJM8c3d7efuKJJ5yTqP39/fL00LoHiwohenp6hoaGHj58uLm5KYc9vb29R44c8VjBIRz5b+/t/QjQo0eP6o5j5codj5BQHD9+3M+vkyHR399PSITH1taWe0lFX1+frBbcAdCWrYPEgHTjxo1SqSQifqhTF1iWVS6XBwcHs9nsQb93ZGRkfHx8eXm57qEb0muvvba8vHz16tX19fXl5eWhoaGRkZHXXnvNz88fHx8P7f32cVWtVqvV6r5vsx+9/+sMrl+/7udtch8Tjz4kKpVKKpVKJBLNfbtHFfH48eOmS0WQBMU0zUqlkk6nm/t2u9Jo1GS8+uqrZ8+evXr16urq6vLy8sDAgLxBw0/viHjoMsuyKpXK0NBQE50H0VQjInzUG/seTxsG0VvHsbW1tbu7qzwqe0LVe9q2v7//+PHjIyMjIyMjqVRq36EvlySFnzw80kN7Z/JlSAwODrbxZ6JF29vbdcOgc0s5BDGAA6pUKkKIGzduNPftfuZp5ZmC169ff/z48Z07d3wmOETj0zrQOSsrKz7f2aFZMtlD5dGHxNraWtOVg9SJpRwESYDW1taa/l4/U/cyqSHbiwcPHly/ft3n9A/x0GXlclkcpMlw60QjYuc4wix6OQ55iIayOv3w4cNy+317sxLyt/ic4Uf3PXz4UB6OUPfYBTsklLNmm3b79u1Hjx4dP36cA2jD4+7du48ePbp79677WBaZxGxjAAgh5CEdxAAOanFxUQhRq9WKxWIT3y7n4q5eveo+KK5pcgf+9evXQ3tgWFxVKhW5+kl2Xr2dPXtWDira++jlMmMefRiUSiUZEn6W9jTS9ipCBgn1Q/fJhHi5XPZTP9RlVxptHIjSXgRF9hlarBza3ojIFsTnssGg7OU4CoVCoVBoru8VEkeOHOnp6RENNuc3QU7/9vf3M5gJLTulVTe3ZYfEvms9/LAv2iAeQsV+9Pfv33d/tY0BIH4cA92sEyYmJiYmJvzs20dUNN1tleuS7Lv9WiRvUhgfH6fD2n32DK3Pqbnz588PDAxcuXKl7uFTTZCzuzz6kLDDoMWlHG2sIuybVgiS7rPrh1aWcshKQzQ4se6gaC+irr2NiF05hDwe9nIc8tC4VrJE3aeMW3p6ep577jnRvqs0Njc3hRCf/OQn2/LT0An2+NY+HdbJDom2kPGAUNne3raXb9TNc7UxAAR1Atqh6ZPD2nt6uTwR/dVXX23jz4RPdp7LNE0/x9AODAzIp9/eg/F5+mHgPJlFTuA3rY1VRCfu8YEf8uQm+XGlUmnumGrR7kqD9iIMWjncXc94iNhelY2NDftj9+r0w4cP//zP//zW1lajSx/9u3379sOHD0dGRjhWMMycAVD3ocuQ6O3tbTEkZDz09fW15bhKtIszIb2zs+OsH6R2BYBwxAB1Ag5KWSPZXJpD3hE7NDTkfcujH6dOnVpeXh4ZGQnzaWGa8LlK6+zZs0NDQ1euXGnL0x8ZGXn8+DFPPwycN2hYltXKhRptrCJk/dDKeaVojhIArcdD65UG7UWA5C5XqcXbdjN17poAACAASURBVNrViMh4CHMLIldAm6YZsXtVlKna+/fvyzMXbD09PfKV3d1duUy9CY8ePerr65MXcyC0lAyXvGDFvYlAXqkjJ/ybDgkZD37uZ0GAtre33RestCUABDGAFij7UyqVSiaTaeLnDAwMvPbaa1evXt3e3m766uL19XV58HajK1rQUcrEbK1Wq1aryWRy32+Uj77F3y6fPo8+PJR4qFQqlmUZhtHcT2tXFXH+/HmCpPvkXezOV1pcXz8wMCAPYmg6HmgvguVc2yXX+DTXeZBab0TseGjlh3RNlHIcDx8+VPYjbG9vKzkOIYR7kHNQvb29rf8QdJr7/IXt7e26ByW0nrEiHiKhUZ6rLSlLYgDNkYMW5ysrKytNd1Na714MDQ21d9sLDsS9H2FlZcVPjqMtPUuefvg1nQOVqCKiq8UDWepq8VESDAEql8tK52FtbY3Kwb8o7VVx77evewoDNOGOB+761Urdv31iAGHjPjfO5ykMiCX3MKbpY2gRdXW3rXVioItIaPFAFsSMu/PgnjKBh8jkOLa2tupejtD6NntE0cbGxs7OjvLi7u5uu46dR/jV/dtv1xUq8Gl4eDibzWaz2aALElKN7v/jrhw9FYtFd3rLsiznpmvoo+5zj9bx/2iXxcXFurlvKgc9ySul3a/TefAvMjkOeW2nm1yd3uXCIHCNpuuZxteEe+caApFKpXK5XC6XC7ogIdXoclB5CkOXC4PANVqywVIODdVqNebtYWsUDEzd66lR56FarbIO1Kdo5Dh2d3c9xq4Ma3XD+BYef/XKYbRAgDwue2vUg0FcMVaBk0eCgwSohhpVDpZlkQvTjfcsCNvZfIpGjuPWrVseX2V1um68N6SQ/oi9RjvXJO/qIlpSqVQqlfJzHiEip1QqBV0EdM++14IyNaeVarWqXCntxHJ03XhnPxttY0FcedcAdB582rtXZWlpKdhyeHOfvABtbW1tKRP1PT09zle2tra4AiPevLenyaOIe3t7u1aezsnn80EXAc1jMhY290ysYRjOgU2lUuFcG314L+OSU/fpdLpr5UGw9l2pQf2gFSWlpTQW8Cka6zgUzz77rDKAYXW6PtzjW+X+YPYuxZt751pPT4/yHtZ2IQyUYUwulzMMw/kKvRZ9uMe0yik2LD/Wyr5jWvayaUX585+enlbeQDzo7PTp00EXIUrkCmjDMCKZ4xgYGBgYGHC+cv/+/aAKgy5zj283Njacr3AMbby5/9ifeeYZ5RXyXAgD5SDJTCajTMyyy1ofysksiURCuS6BY2j1UalUlHnadDqtJEA5vUUf7r/9+fl5ZY8qlYO2DMPIZDKZTMb5IsdUe8jn8/l8PplMRiDHcffuXeenR48eNU3z3r17zhc3NjY4hUFPJ06cEK6ZfG6QjTElpdXb23vv3r2jR486X3z06JFSb6BDarWaaZoeJ2tqa3Fx0TlEmZycnJqaKpfLiUTC+R52Weup7jY0TmHQhJLeMgyjUqm4Q4J40ETdB81OVW0pJzfZnQfni0oHA3VFIMehTMkqKzhsrE7XgZLJ6u3tffPNN4UrKnZ3d4kHTRw+fFgIMTAwoOS5WMrRHTdu3CgUCvTFFZZluXsk8gOWcmhImYNNJpMzMzPCFQxcoKAJZXAiw2B2dtaZABVM3evBfRWoXMExNTVFY6EhdyvQ6LBqlnLsK+w5DvcBk9/61rfqvpMhjQ6UzIUc3woh+vv7lXeyXUUTMr31rW99izwXwsOjMzo2Nub8lFMYdKDspbdjYHR0VHnn2tpal8qE0LDDgENGNeRuAuz6YXh42Pk6lYMO/GcuOKJlX6HOcezu7ioLzp1TtaxO183Dhw/de5TkB+vr65w8qoO6O9fkx1tbW8pRxDGoEOQ2EGbzoqVWqylr0Z3Ts3IC3/lmjyskEQOVSkW56s8Oj/n5efcua2bn4k0Jhmw2a6+DK5VKnMKgG+XvPZ1O2/XD4uKis36gcog9d3/AWSEox1R73z8NYec4JiYmJiYmwrbe2PtwQVan68b7+TbaxIQ48d65Fr8YkNtAaMaixb2Iw3t6lm5rvHnPvirregSzc3HXaFFP3U9Z56UbZW2X8ilLOeLN/ffuDAB3R4LtS95CvY7DPaZ1jmFYna4b7xtD33zzzb6+PucrHEMbM/vuXItfjgNR5LH2WOIUBn24T2ZRrs9wn8LACb4xVq1WlaUZysIujmDQinIyi2EYyuELytyz+0YexIn3BMnMzEwqlXJ+lWDwFuocx87OjvPTvr4+ecCkjVMY9OEe37oHtMorJLxiZt+/bneeS6lDgC5wHyCnDGM4hUEffhb1cAqDPvZdpDM1NeXcnkACNN6Uh+unKiAeYsx9pfS+nQe4yb0ppmmGOsehGBoaUl7hFAZNuE9m6e3tdacwNjY2nGmOe/fukfOKjXv37il/3crfvqTUEtwijMC5rwCsewpDF0uE7nGfzOJ+1pzCoAn3ySx1x7RKhMzPz3NJZCwpJzfVrRzEh09kEEIUi0XqBx0YhjE5Oam8qBzRIug8eApvjkMZnQ4MDNRdwMnqdB24T2Zp9NyVpT3kvGLDe+eaTaklHj16RAygm9zzclNTU+63uU9hgA4azdMq8cCRHLHkXq6lXJzRCFP3saTsamxUObin7qkfYsl9+mzdzgO37fgX3hyHMjJxb0uROIVBBz7Ht+7XGd/GhrLrpLe3V9m51ghredBNSoej0cpS9ykMbKzVQaPcljK8YWoulpRUhWEYyjKfRjh5NJaUeGhUOSjz9oL6IaaUzkOjBOj8/Lyz81CpVFjn1cgTQRegIWV0ev/+/UZpDiWpsbW19eyzz3awZOg696kKGxsbdeNB2Zsgj6E9fPhwBwuHgDSqEJSkxvb29nPPPaecUAt0gvuAyRs3biiHhNmU9caVSiWbzXawcOg695LyxcXFuvGgHDQoT2HgnI6YcQ9FGlUOyoLEarVaq9WUrCgiTT5T5yselYNhGM7gYUwbP+6Td/x3HsrlMp2HukKa41hfX1cOmPR/duC9e/eefvrpRuMfxIP/yfm7d++6rxlGtLgf96NHj3yu2JKHubhP80Fb5HI55c52nSkjVXGQOzKKxWIqlVK2XiPSlDsRxEHiYX5+fmFhQbmEBdHlXqhlWZb/eCgUCnNzc+0uFALTSuUghLAsi8ohTlqJh2KxmE6nyYG6hXGvyu7ubotbDNihECet7zVwH+eBaKFCQPjVarUWb/1kl3WctL6EmFMY4qTFp8letjihcoBTrVZr8RxZtrPVFcYcR+sjUoY0cdL60yQeoo4niPBrvdPJLus4af0oOHJeccLThK31YCCc4qT1DAU5r7r29qosLS0FWw6nd955p9FOk3ffffe9996zP/XYkLKxscGpHDGws7Pz3nvv+Tl54YknnlBOn0U8bGxsNFqTqazxefLJJ5966qm673z06FFvb2/7C9dhoaqZ4aFWq62trTXaPbu5uenM3Td6mxCiVCqxsTYG5GZ7P6ctfOxjH3v++ee7VS4Eo1wuG4ZRNx7eeuutH/3oR/anHvFQrVbZyxYPlmU1qhz8xwNH9sSDXMTReuehXC67j6fV3KHHjx8HXYYD2NjYuHfvnv3pyMhIgIVB4FZXV+2P+/v7jx8/HmBh0H3OABBCHDlyhMwmQqhYLJZKJftTUleam5iYsD9OpVL5fD7AwiBYhULBmfMiHjRHPMCJzkMT5OEmuVwupGeOAgAAAAAA+GGnBcN4HgcAAAAAAMBBsY4DANAkeyElSygBAAAQBqzjAAAAAAAAcUCOAwAAAAAAxMHeXhV5yjfn9wJAeFAzAwAAAAfCeRwAAAAAACDC5O3LyWSSHAcAAAAAAIiwQqEghMjn85zHAQAAAAAA4oAcBwAAAAAAiANyHAAAAAAAIA7IcQAAAAAAgDjgzFEAQJNyuVwulwu6FAAAAMAe1nEAAAAAAIA4IMcBAAAAAADiYG+vSiqVEkIkk8lACwMA+GfZbFYIMTg4GHRBAAAAgGjYy3Hk8/lgywEAUHDUBQAAAOCHnB1MJBKcOQoAAAAAACLMnh3kPA4AAAAAABAHrOMAADTJNM21tTXBthoAAACEA+s4AABNWltbK5VKpVIp6IIAAAAAQpDjAAAAAAAA8bC3V8U0TSGEYRhcHwsAIVEsFoUQg4ODmUwm6LIAAAAAEbCX4ygUCkKIVCrFJbIAEBJyD0gqlSLHAQAAAHiQ6zaSySRnjgIAAAAAgAiT6zby+TzncQAAAAAAgDggxwEAAAAAAOKAHAcAAAAAAIgDchwAAAAAACAOOHMUANCksbGx4eHhoEsBAAAA7CHHAQBoUiKRSCQSQZcCAAAA2MNeFQAAAAAAEAd76ziy2awQYnBwMNDCAAD+WT6fF0IYhhF0QQAAAIBo2Mtx5HK5YMsBAFCkUqmgiwAAAABECedxAAAAAACACFtaWpIfcB4HAAAAAACIA9ZxAACaVC6XV1ZWxI+PDgEAAACCRY4DANCkzc1N0zSDLgUAAACwh70qAAAAAAAgDvbWcciJOMMwkslkoOUBAOwpFotCiMHBwUwmE3RZAAAAgAjYy3EUCgUhRCqVYk81AIREqVQSQqRSKXIcAAAAgB+cxwEAAAAAACJsYmJCCJHP5zmPAwAAAAAAxAE5DgAAAAAAEAfkOAAAAAAAQByQ4wAAAAAAAHHAmaMAgCblcrlcLhd0KQAAAIA9rOMAAAAAAABxELF1HL29vf39/UGXAmHhDIa+vr4AS4JAKLVBb29vUCUBPAwODqZSqaBLgbBwBkMymQywJAicEgDEg+aIBzjReWjFocePHwshisWiEGJwcDCTybTy40zTbE+5QoYIa4JlWdVqNehStB/B4F8sKwTDMLrW7ZD/Abv5G/VhWVaxWKzVakEXpFMMwxgbG6O+8qlUKq2vr1uWFXRBOmV4eDiVSlGT+FGtVldWVmLZgZGSyaQcOyUSiaDLEgHVatU0zbW1taAL0inJZPJjH/tYNpsNuiDRUKvVisVijBuLRCIxNjYW3cZiYmJCCJHP5/dyHC0qFouyCmj9R4VWMplMpVKylxB0WUKtUqmsr6+bphnj/oEQIpVK5XK56FYBnVOr1UzTXF9fr1QqMW4DDMNIpVKTk5OGYQRdFhxMsViMfQVlMwwjnU6Pjo7SctVVrVZv3LhhmmaMs11OiUQinU5zhk4j5XJ5bW2tUqkEXZAuyeVymUyGVqwR0zTn5+dj3JNxksOc06dPEw+NLC4u6tZYjI2NRS4T2rYcR7FYLJfLmvz9S9lsliqgrlqtdu3atXK5HHRBuieRSJw+fbrF1U9xYppmoVAIuhRdJQcMkWsDtFUqleS6Rd1cvHiRnKzCsqypqamgSxEAujFutVpNDmCCLki3GYZx+vRp5vAVlmUtLi7qk+2yGYaRyWRIg7oVi8VSqRR0KQKwsLAQrcZCVuPJZLL5HIe2D9sWuafeOfPz8xq2BE7ZbFbzJmFmZkaT3HZdhmFMTk6m0+mgC4L6KpXK4uKiVun4upLJ5MWLF4MuRfDowEhLS0tBFyF42mY3FJOTk0zYCI1Tnwq6tRKNhZTJZCYnJ4MuxcH0vPLKKwf9nmq1+pWvfEXzMa0QolwuDw8PDwwMBF2QgFUqlT/90z8NuhQBu3Xr1je/+c3R0dEnn3wy6LIEoFgs/s3f/E3QpQjS+++/X6lU3nvvveHh4aDL0lXlcrlYLL7++usnT54Muixefu/3fu/9998PuhTB++EPf/j5z39ez2rKNjs7SwdG2t7e/vSnPx10KYJUrVZ///d/f2NjI+iCBO+b3/zmwMCA5qu9LMsqFAo//OEPgy5I8G7dukX9YFnWV77ylaBLEQrVavWll14KuhQHc+B1HNVqtVAoMBsmGYaRz+d1bhLK5fLi4mLQpQiLZDKZz+d1W92zuLio1QYlb1FMdbfCnuII84Swx/6UZz7+E4mP/0SXy9Md3/n+g7qv61lNOcnNunU9P/i00fvRbhamO6xH77+1+U7dL+lWZSm8VyD+3Cc/0c3CdE2jykFov5qjUCg0WtET18qh9vY/3n/7Hxt9Ncwtexd4rFKPa+chTo3FgXMcdTsHud84mTn5KaPvqTaVKqTKr3/72te+Udt6W3k9lUrl8/lAihSsuo1B4vDHc7/xi+mRE4EUqWusnXdnZv93a+dd95f0aRIaZTzTIydyv/GLicMfD6RUXVO9uzlb+GP361odfBD+HEfdaurXXjz6qy8+bzwVsdvTm3D/7X987fXvvXFLHcXpOZKxLGtmZkapsoynnvjd8RdePKHFkTrf+f6Dr17/W2VIYxjGxYsXNTxUqO4BUs8PPv3KFz4bSHm670t/9FfWux8oL2q7o63uAOfLv/kLcU11Kb7+7Y2r/+V7SjwYhjE3N6dhTrxRY/GrLz7/ay8eDapU3fSd7z+4+vr33PmOubm5qDQWH5H/VywW5emh3u+uexB96oWj2V/5bOwTHEKIzMlPzV2sk8HSdhtn3X/4xdnfin2CQwhh9D01d/Hf1v2X6nMsRd0DDqbPZqfPZmOf4BBCJI8O5md+0/0vbeORloVCoVAo6HlGZluUSiV3NfXl3/yFMyd/WocEhxDimY//xJd+ffjMyZ9WXr927Vog5QmWu8r6uU9+4pUvfFaTBIf48b9XedGyLA3jQR4qqbz4ay8e1SfBIYR45QuffX7waeVFTe6c8uPFEwlNEhxCiF/61LP/7t/8K+Xfq2flIBr0b1/5wmc1SXAIIX7uk5/48kuf/qVPPau8HqEe6V6Oo1QqlUqllZUV73cr7YHR91TuN07mZ36zU6ULpfzMb7oTOhpu3nGP5BOHP173P05cGX1PTZ/N5n5DPYZAn/bA3RNKj5zQIcNlS71w9OLsbyWPDjpfNE2zXXlP+aPocTbN/cf4/ODT+vRZbe5uWa1Wi1BPpS0qlYp71fGXf/MXnonjemMPxlNPuLutGu43vHbtmtKN+d3xn3VnA+PtmY//xJdf+rQ7zaEhd334ay8e/dKv63XAlvHUE+51K+VyWZ+pO6luY/FLn3pWw8bid8d/VnmxUqlEZWr/I/7fWiwWla726c+/mP0VjRLeUuqFo9Nnf115UZ9hrc09ATJ9Npt6QZcEpy37K59V/go0aQ/c/8bk0cHps9rdP2f0PeXO83JITUi4s8+/O/5CICUJnDvNoduw1j2G0a3Dajvzr39a82FtrVZT7kp48UTCnfrRgdyrpaxr061yEK5/8vODT+uW8LJ98cOZHcuybty4EVRhAlG3sTjzrzWNB3djEfJ4kHtTarWa3xyHuz0w+p7SMMEhpV44uvDvv+R8pVQqaTXXqqwATx4dXHr1f1Fms/XhXsrh3uIbP/Pz885Ps7/y2Yv53wqqMMFyV4YaTpKHkJKGe37w6a/+z2PaDu3OnPxpZUJGt+WHSjz82otH/+Df/o9BFSZYxlNPuHfoaHXXjLt+1m3G3un5waf/3b/5V85XdLtpu1gsOv+9Z07+tFZblhTGU08oSzl0G+PUbSw02d/q9soXPqvkf0PeWMi9KQfIcbj/Pac//2K7SxUl7h0ZUVm60xbr6+vOTye/cCqokoRE5uSnnJ/WarV4tweWZSn/QHeiRyvu+jDkbYAOlEfwS8M6TtI66TlN3Qj/NT574kPTEkqzHm9Kh03b1KfNPX7Tqk+r/GP1OXOhEfcRRVrFg4LGIqLdJ785DnfjpwzqsLa2FnQRukep7LRdwWEbcv0X2Pd0m0jTubWry+h7SjmIRIf9SiGnNFs/d1S7Yzjc9Dlc09vzg09ru1HFpgRDvPPyTtVq1X30bFCFCS19cl7uORu8eELt025ubgZSksA98/GfoLF4fvDpKC5jaXIdhyYXqXhTVqfrM+orl8taLWL0I3PyU0qiJ95NprIZj9pACDFG2jdknM3Wr714lG6KcM1H6dNsueZpnw+qJKGlTzC4ZyB+lXhwLWaJdx/GSZ9/qX/u7Sr61A/Kv/RlXY9lUURxKUf0sjIInLbZXG86j/NZyCOE0PDAXSFELpfL5XJBlwI4mL4ITkmhc6I4Rdl2Ru9Hgy4CQuT5wae/8/0H9qfaLk2lsYiuA9yrAgAAAAAAEFrkOAAAAAAAQBzsrcDJ5/NCCMMwAi0MAOCfLS0tBV0EAAAAIEr2chypVCrYcgAAAAAAALSCk1QAAAAAAECEyb0pyWSSHAcAAAAAAIgwe28KOQ4AQJOKxWKpVBIcHQIAAIBw4F4VAAAAAAAQB+Q4AAAAAABAHOztVSkWi0KIwcHBTCYTaHkAAHsKhYIQIplM5nK5oMsCAAAARMBejkNuqE6lUuQ4ACAkTNMMuggAAABAlLBXBQAQGNM0a7Va0KVAWJTL5aCLgBChcoCtXC4TD7CVy+VqtRp0KRA6hUKhUChUq1VyHHE2MzNTLBZpErRlmmahUGDMgDBbW1ubmZkplUrUVBBCrKysEA+wzczM0IpBkpXD7OysZVlBlwXBW1lZmZ2dZZgDhWmapmlalsXdsXFWq9VKpZLciCSESKfTo6Oj6XQ62FKhm+Sf+uLiohDCMIxMJsPJDgihYrEoj4USQmQymeHhYWoqbdVqNeIBNmcrlkgk0uk0rZjOqtXq1NSU/NgwjOnp6VQqFWyRECCGOWiEHIdGKpVKpVLJZDJjY2PJZDLo4qDbLMsqlUqVSmVsbCydTicSiaBLBNRRLpfL5bJhGPl8npoKMh6y2ezo6CjxoDk5c2OaphzJ0IppzrKsQqFA5guSHObQeYBEjkM7sr+YSCTy+Tz9Aw3Zc6SpVGp6etowjKBLBNRhWdbs7KzsvI6NjVFZaU5O1iUSibGxsWw2G3RxEKRqtVqtVovF4uTkZDqdphXTnDPzlclkiAfN0XmARI5DU7VabWZmxv50enqaxV26MU3TXvDJHCmak8vlOjp75t5wNz093blfh5BTtrHQcmlucXFR7mERtGLaszNfQgjDMOS2BbaxaIvOA8hxQAgh5ufnZZPANhY9MUeKSKhUKlNTU3ReIcmWK5PJMLiFbMWSyeTo6CitmOYsy7L3uDGTD/HjzgONhVbIcWCP3STkcjm2uepJzpGura3Jrc4s+EQI2TVVIpGYnp6msxJvhmF436EgjxkqlUq0XLGXSCT2vUBBTuavr6/Lc2ppxWJMPlzv+oHMlz78Nxbs1tcEd8dqJJ1O+1nWWywW5W1t3M4VP37aeHmC/dTUVKVS6UKRAIXcY7/v22q12uzs7OzsLPeMxphlWT7jgZYr9tLp9MLCgp/NcZVKZXFxcWZmhlYsxpLJ5NzcnJ/KQe5hmZ+f5xLiGLMsy+fuRblbn0upY29vHcfS0lKw5YgH0zSDLoKXRCJh70ybm5srFAoeAwPnYQ2cUdwEy7ICj4dqtaq8Mjw8bMdAPp+fn5/3GA/Mz8/bHzNH2oRWAqBarf7oRz+yc1L2AQRBqdVqHRo6bm5uKq/YG+yFEHNzc5VK5caNG40qK+cebCFEJpOZnJzsRDljqVAoBF2E/SnxcOPGDbsSc3O2XKz0OaiJiYmgi7AP++FKmUymUqk0qposy6IVa5ppmtGKh4sXL66srFQqlUaNhbx0w3kJMdtYDiT88eD8e5eNhUc8OC+llnseuZonZtir0k6R6C9K8sDRixcvyipg3/Vd8oxiDmvwr1qthjweZPEmJyfX1tb2neziKpYmhDwAIsE+GjmbzZbL5X3zLOVyuVKpyM5r50uHbpPxkM/n5WDGOx7kSh+5TP0nf/Inu1VGdI+chj1QK5ZOpwcGBrpSOnTV7Oys/GB6enpxcXHfysHe4/ZTP/VTXSkgusruPHhnQiW5jaVSqYyNjdFYRJ29boMch9bsJiGdTu/bP7APa/jIR9jiFB8yh53L5VZWVtzrPhRyjjSTybz99ttdKR2wR07d++m82gd2dKto6DY7e+in5ZIrfTpfKATmQK1YpVL56Ec/2pVyIRjz8/MLCwuVSsVn5qs7pUJQZGdgenraucqjLjnM6Uqh0A0MViGEEJVKRW5z3XdZr2ma3/72t7tTKnRNsVisVqtzc3N+1umUy+W///u/70KpAKe5ubn19XWfW2ZYgRx709PT/reDHTlypKOFQbAWFhbW19d9JrOeeeaZTpcHwTJNc3193edpLFQOsZfP59fW1ny+mXiIDdZxQAgh0um0ss21kVQq9ZGPfIQ0R8zIGTB7aZ8Hecfw7du3SXOgaxYWFubn5/3EpxAik8nIO7DDv3kYzclms5VKZd9JOeHYdV+r1dg7FkvT09Nra2szMzN+sp9y49KPfvSjf/iHf+hC2dB98lQOP5WDEELer0HlEGPy8EGfzzebzY6OjlqWRTzEAzkOrdm7mv1ku+3zOIrFIjmO2JA7mX0uz0un05OTk4ZhFAoFchxaSaVSdV/f3Ny8f/++xxv2Zf+EuuQAxmcGNp1ODw8PZzKZ5kqioc997nOHDx8OuhQfsrKy0ige5AG0KysrHmeO2mQ21j6Alpt3/AjheVsez/rixYvz8/MHGs3K5V0sR/fjmWeeGR0dDboUH+JROQghcrncjRs37C3Y3uxUuKBy8C1s9YNHPCwsLJTL5QNN3cnbpkXor4+Af+Q42imfzwddhA/xyEQeKLXJvSpNSCaTgR/R7Lxvwk3eq+K8s8ADJ9I3oZUKIZlMRuJs12KxKAchTf9j7Z+gONAAJplM5vP5SPwXC5Vf/uVfbjo51SHVatXdbV1YWJBXgfr5CaS6mhZ4m+VWt3KQCw/9jGbl6GV0dDRscR5+g4ODYYuHRpWDTH36n6oZHR31c8MoFJGIByHE5OSkz3kR8eO76uk8xNJejkOu6U2lUmEbpUdLyBvRWq1mn9C2b2eRGzRaZBhGCONhZWXF/tg7w2UYhqz6O1+o2Go9AHSumfcdwHBNrD727bByTawO7HzHvqPZXC6XyWTowMSbnG/3UzlwTaxWvKfuZDyELV+DTmAdh0Z8Hr/EjH2M+blswl6zRwcRFOedggAAIABJREFUIZRMJsfGxohPCNcaY2iO0SycWIMMp0wmQ2OhAzmDm8vlyHFgj2EYmUxmdHSU9kBb8jy2sG25BCSmX+BkHw8UdEEQPMMwpqenQ7h2EoFgQwqcUqnU6OgoGxg1IVd4WZZFjkNr8s+eGVFtMQuKkONsBdhkkotEPCRO4YFTNptlCQ8kZm0h2KuiLecZ49ATs6AIs2QyOT09TR0FwfFA+DBGs7DJqRr7khSAs7ogkePQjrz/mcZAW3JDCkeuILSoo2DjeCDYuCQFinQ6PT09HXQpEAqsTIeCHIdGOG5HcxxngLYbHBxs43iDOgo2jgeC0+TkJHvWIHHyNJwSicTY2BiNBRTkOOJM/tkzY68zjjNAR2UymRaja3R0lGXnsOVyOZbwwLa0tBR0ERAWk5OTtBSw0VjAGzmOOJubmwu6CAhSKpViTS9Cjj4KnIgHAHWR4IATjQW8keMAgJCSKSoacgAAAMCnvRwHqwEBIGzy+XzQRQAAAACihHUcAAAAAAAgwux1Gx8JthwAAAAAAABtwToOAECTarVarVYTPz46BAAAAAgWOQ4AQJNu3LhRKpUEhzoBAAAgHNirAgAAAAAA4oAcBwAAAAAAiIO9vSqFQkEIkUwmc7lcoOUBAOyZmJgQQqRSKS6RBQAAAPzYy3GYphlsOQAAAAAAAJogZwfz+Tx7VQAAAAAAQByQ4wAAxJz16IOgixAKO+/y30EIIe7/8B+DLgJC5P7bxIOwHr0fdBEQIjX+KIQQNBZR5jfHYRiG81Pzb+92oDARU1n9O+enyn+iGBseHg66CKFT23rbfPNDfxTxjodEIuH8VPm366n4Z68HXQR8SCaTsT/++rc33tp8J8DChMRrr3/P+WkqlQqqJF2m/Euv/pfvNXqnPpSBfTqdDqokXTY2Nqa88hdv0IQJpYbUp6enTzXo33e+/+CNWzXnK9lsNqjCdBmNhZv17gdRrCT95jiUR169u1nbersD5YkS5b+APrVkKpWK9wC+Ce5Bfrz7B/H+1zWn+v3NoIuAD1Gi9DvffxBUSULi/tv/yHy1ZL37ATmv79z90F+EPrV6IpFQ0vRv3KL2VumT8xKuDryl/Xq3795Vm8uhoaFAShI4690P6DxEtIb0m+NwB7eyigH69A9EvZxXUCUJiZXVW8or8c55xftf1wT3Qh5N/hMNDw9ns9lwzvAoj+D/fuMtzUf4yiIOzV3V+7+G9e4HyvykJlWWxJhWoYzi3GmgeFM68F9dfjOokoTE19c2lFe0ynkpaCyiuIhD+M9xuIP72tfeaHdhosQ9qteqf6DkvBb/5HpQJQkJZXwb+/6BYRjJZNL5iuY7NRb/WP0TUP77xFUqlcrlcuG8dFxZbma9+8FXr/9tUIUJ3F+8cVdZe6y573z/QUT7bW3x1eU3lYF9vNsshXtSSud1Pe66UasOrXD9e9+4VdO8tlQqB93iQfHW5js6pznc80NRaSz85jgSiYQyU2ftvFv6y290oEgRUPyz12cLf+x8JZfLReWRt0U2m3VWedW7mxPn/ldtV3MU5v6j8ko+nw+kJN00PT3t/LT0l99Q/ij0UXcRRziH/bpRquXvfP/Bl/7or4IqTICsdz9wd9F0qKacLl68qLxy9fXv6TmB/6U/+itlCKdVB0YIkU6nlSr6lT/5xleXdcyBfv3bG1/6o79SxjCTk5NBlScQyWRSqQ//8M/X/vDP1zSsH9ytpPs/TuxdvHhRmSP5izfuvvInOo5539p8R5kMMAzD3ZiG0wHuVcnlcsrM5LWvvaFhmqP0l99w/6vDuVS7o9xN4PyVkm5nT1o777r/1dlsVof+ovvfWL27OX+lFEhhAlS9u1n491eVF9uV4EilUqlUSpMlIZ3grqbqjvbj7Y1btd/7D/9VeVHJU+sgmUy6W+rf+w//VbcJ27qZHd3GtKLen8DXv73xyp98Q6sFHX/452vuzI6eB66568M3btW0GtbKxvEP/uPfKPWDhpVDMpk8ffq08uJbm+/o1ljUzexMTk5GpYroeeWVV4QQL7300ksvvXTy5Envdw8NDZXLZfvT99//wHzz+3935x9Ojv4PnS1maNS23v7KH/4n5UXDMNx/DLFnGMaf/umfOl+xdh69vvLdz499+smPPhFUqbrJfPPu7//B/+k+aVL+Teng7/7u72q1D9X4G//ff3/uXx5+7l/+i6CK1GXFP3v9f/vq/2PtPHK+mM1m961LfTp58uTJkye1OuunvRKJxHvvvXfr1oeOy7n9D29/a33r+cH+n/xYb1AF6w7r3Q/+839b/5Ov33r/g39yvp5IJL74xS8++eSTQRUsKMPDw9/85jd/+MMf2q+8/8E/vXGrtvHfrc+eGAywYN3x1uY7c//5/3V307PZrPuqER38zM/8zNe+9jXnKz+03vv62sb/9Dktjld841btP/23qvv1L37xi88991z3yxO4119/3bIs5ys7jz54/4N/en6w/8knDjAlHFGz/8fKt9a3lBfb2J+Jlp/5mZ9xd3FlY/Fzn/wXsY+H+2//4x/9uVn3WJaXXnopkCL5JwenJ0+ePPT48eMDfefs7Gy1WqdOFEIkjw6mfvbo8AufbEMBQ6b4f73eaCNGKpXSbRGXrVarzc7OKk2CLT1yYuzkp7pcpC5YWb1lvnm30b1C2WxWq00KpVKpWCzW/VLi8MdPf/6zicMf73KROq36/c31u5vmm9+3dt6t+4alpaUuFwneqtXq7Oxs0KUIC93qKLeJiYmgixAi+XxetxU9ToVCwTTNoEsRFoZhzM3NRWWSthOKxWKppN1y1EYMw1hYWAi6FEHy6OJqKHKNxYFzHNVqtVAoNBrW6kbuStJhY0Ij5XJ5cXEx6FKERTKZjMoutTZaXFx0Lu/S3OTkZCaTCboUUE1NTdFsSeTgGMbYqK8sy5qfnyfNIYRIJBLT09NsjaRLIxmGkc/niQdy4lIUE149B11XPzAwMDw8XK1Wnas99ZRMJqenp/Vc0WdLJpPPPfdcpVIJuiDBy2azk5OTGi7//vSnP+3eDqAhwzB+53d+R7cBQ61Wq1artVot5Kne0dHRH/zgB8q6U90YhvHlL3855E+qC4aHh+U6ZM3TXqlU6rd/+7eDLkXAnnzyyZMnTz755JOkOebm5qgchBCf/vSnv/a1r73//vtBFyRI6XQ6n88TD+LHm1Y0byzkgHdgYCDoghzMgddx2JgJYTbMNj8/r3maY3p6WufLw4UQMzMzOg8gU6nU5OSkhh0CuyGIRH1YKpWuXbumZ2clnU5H6KiwLrAs69q1a9p2Y3K5nIZnpXvQedNKIpGYnJyM1ir0jrIsa3FxUdtubRRn7DtK88Yiuvtbm89xSMVisVwua9VljO7D7jTLsmQ8BF2Q7kkkErlcTvPshpNpmoVCIehSdFUmkzl9+rSG2Q0pWjkOqVqtrqysmKbZ6Gyp2EgkEqlUanh4mDrKQ6VSWV9f16H/mkwmU6nU6Ogo688bsSyrUqkUi0UdurXapub9k91a0zR1mMLJZrNUDt5kY1GpVGIfD/FoLFrNcUilUmltbS3eKXDZU+Qex32ZpimDIcbjB8Mw0um0ziNbD7VazTTN9fX1eHcLZAPQ6XSnrFQNwwhttRPFHIdN9le687vefvvtv/7rvxZCfOpTnzp69GgXfuPHPvYxJur9kxXX5mb9w8Xb7u7du9/+9rd/8Rd/8eMf79KpzKdPn2YVj3/VatU0zR/96Efd+XVvvvnm9773vc9//vMf/ehHu/DrZG+2C78oNmq12o0bN7r260qlUl9fX9duOxoaGkqlUtQP/pXL5a41Fjdu3NjZ2XnmmWdGR0e78xsHBwfjse16L8chj1Rp/YqQarUay+Q3jUFzYpn2SiQSpDZ8imUACCGSyWR3egPtqpk7J9I5jm6yz7EL89NE18idEZlMZnJyMuiyIHhysycbiCCEsCxrampKsAkaQgjHoaf0sg7qifb+uO5MNpbL5XQ6TcYx/LqTGyqXy/HIOMYPyUFAsrd2xzXxB//kmhEhRKVSIccBe+n7ysoKOQ7YO77X1tbIcQBN+0jQBTiwarW6uLjIfaWQuLwW8/PzMd4YhXiI5QpHNMc+tEheXBpsYRAsebyl/LharRaLxWDLg2DVajU7BsrlslYn3MHNefAtHV2fJiYmJiYmTNOMXo5jZWVFfPipQ2dra2tBFwFBkkfEyWoBCCclwUFPRXPOg4oqlQr5L50pAUDnVnPKqR90cTXn7NzS0T2o6OU4aABgk+NbQVRoTM5yEAAIMyU+6anAiepLZ8og1t7HBD0ptQGVg87sMY7Eop6Dil6Ow54AYSoM9orfxcVFpsI0ZK/qrNVqbFlCOLmDs1Qq0XPVlvvRLy4uxvgKKnhzxwPbl7RFVQAne4wjOfe1wY+I5Tic41imwmDnuZRkJzThXNXJku9ADA8PZ7NZzsnzUPfGQVYga6vuo+/mtZQIORoybdXtxzKhq6dareZ+9OVymfrBv4jlOJx//4xp4cSYQUPOSoA8VyBSqVQul8vlckEXJLzqhiU9FT1ZllV3vTF1l54YvsLWqFFgQldPjRLfNBb+RSzH4RzH1mo1njRs9u1r0IfyxMlzIWyq1Wqjeon2S0ONHjqNl54aDV9JgGqoUQeGlkJPjZ47OS//9nIcqVQqlUolk8lgS+PNvYeZUxh05t6Wxi5WzVUqlVKpFHQp2kluAxkdHQ26IGiSsp/WiY21uuHYIDh5NFge9QbiyiMBSr2hG4+TWUzTjFlHt3P2chz5fD6fz4d8vbE7d8XqdG3VffTVapWVn/qou+Q7ZhluuQ0kk8kEXRA0iSw8bN7dFTozuvFYeOix/gsa4rgx3Xg3B5zf5FNk9qo0Gr6yOl1PjWr8mA1x4aHu3z5JLgDh5N0xpfHSSqOTWWwMY7Ti3XVhQlc33iktEqDe5N4UwzAik+NotA0hfqvTsS+PlXsEgya4fRPhp4xhstns5OSk8xV58zF0UCwWlY6pEgyVSsV70Is4cfdpU6mU89NSqWSaZhdLhCAp8TA3N5dIJJyvsF1FH0qCwzCMhYWFoAoTRXJvSjKZjEaOw/s4SWY/dMPgFh5/9YRHN5mmWSwWGavXpczEjo6OptNp5yuMafXhftZKMAim7rVRq9WU/EUikXCfu0TnVhPuMc7MzIy7foAmlMYik8lMTU0p8UBH149o5Di8N6SwOl033g0/uxZjr+614Tb2r3XT2tpaqVRi/ZSbEqWJRGJ2dlbpqbACWR9Kw5ROp6emppSpWk5h0IT7rz6dTrvHtFQOmqjbaeGscW0pYxwZCcPDw84X6ej6EY0cBxU9bPseLEq0xJ73bCencyEMlCgdGxuTHyg9V3oqepJhwFIOPbmf8tjY2NTUlHK8NA2ZDtyZbsMwhBCzs7PKZZdM6OrAPYc3OzsrXJuVyuUy9cO+opHjUB7k9PQ0i3a05d7FOjc35/zU48olxID73iylNrAsKzY7V03TNE2Tnk3kVKtVJUrt7TxKDVYul9mxEnvutccyDEqlkjKMKZVK/L3HntJFyeVyMzMzQohyuSzHtzaGMbG3uLioPGX7pJ7p6Wnn643OJUSc+L83mnjY116OY2JiYmJiIpw3ciuNQSKRmJ+fZ9GOtpR4SKfTsnPgRM4rxtw7lYaHh5Ul394n+ERIoVAoFAqcdhE5B5qNZ9d97DVa1KN8XPfNiD3n8g1lKQcJ0NhT+qtyjCM/Vk7lqNVqdG7jzTRNpe/qPIpY6ei63wxFBNZxKH/S8g/evY6DbLeelGyXxJghxtyrOtnJjLDxDj96KlpptPZYou7SjbtPOzU1ZX+q7GWjM6MbpUJgQlcr7r93Z4VAY+GTXAFtWVbYcxzValWZw5QLgJ1NgojX6nR4cK/4lc89l8s5X3eHDWLDvapzamrKveS7WCyy5BuBmJ+fd++vdH6az+eVbwnnIkq0hffDnZqaUsKDCZsYsyxLWWGujFJmZ2ed/Rk6M/Gm9FKSyaSyydF9CgNLe2Ks0RhHqtvR7VLJIkWugK5Wq2HPcXjksOO6Oh0elBy2neEmu6mJujvX5MdcvIeQcC81UkY1MzMzSk+Fxiuu3FelKI9eCDE/P88pDJrw0zPhvDl91L1BwxtLOfThXqjObTsHEvYch0flzrBWN+69iI12LQrGDDFVd+eapGxjdr8ZCIQ7MkW9UxgQS3Vv0HC/jWGtJvxk3pUjxmq1mmmaHSsRguTRpbExoasJJbXtnh0RDboTaCTUOQ73X7Lz759pW914d/vqHsyBmPGY9JiamiLPhRCqO/FSty+L+HE3W3UfvZL44NjRWHJnK5ThayN0bmNJGePUPUFfMKGrDfdGFfd73B1dgsHDE0EXwIuyD80wjMnJSftxyl2Lzs1IcuOicjQD4sG9KzWZTDq3Mi4uLmYyGWcdUS6XSXnGifuIDefRfUKISqViGIYzF25ZlrIIHO01NjZGetFJqaYymYxlWe4DOKrVajabdW69XlxctK8MRGwoU3PZbLZarbrjQXkbnZlYcp/Mcvr06bppjmvXrjmzIeVyeWhoiP5MnLiPERwdHW20vk/JhhSLxWw229nyobtqtZqz82AYxvDwcKPOlTOvMT8/v7CwQEe3rlDnOJRWXzl9Wr6idCgrlQrdgliqe9qwMuIdHR115jjW1tboE8SJz53MzhioVCrEQEclEgmfU5GaUKLU/xFx5XI5l8vRU4kT97EapVJJOVOwEToz8eNeWuj/sHz6MzHjvg7SvTEB+lDW7lmW5f8kcjq6jYR6r4rCndDiFAZ9+FnxWygUnMMtdi3GiffONZuyL4DTudBNLd4Cy6LTmGnlgbpvnIXOqBxihs4JnFr5A2cvWyPhzXF4XKDgxDJpHdQd3/rZuEi3IDbcHYK6f/tK5ps8F7qpxa4GPZWYafFYDU7lAGLJfYL+QdG5jZMWZ0da/PYY29ursrS0FGw53JSMRiqVqruId3NzM5FIOJ8upzDEj3s9ZyKR8LMdsVgsplIp9119iBxlwX8ikdjc3KwbA8pS8Pn5+YsXL3a2cB0TwpoZjfjfltKIaZqlUomN1vHgPj/ooMrlMke0xIb/bSmN1Go1NgbGQ+vbUhYXFxsNixA5rcdDoVCYm5trS2HiJKTncVSrVaVz4L/vyK7F+Km7q9nn966srJDjiJ9areYzBmRlQgyg09qy9vjGjRvkOOKBiVbYLMtqMQEqhLhx4wZHtMRD69vQLMviFIZ4KJfL7jHOQcm9jXR0JdmJSiQShx4/fhx0YeooFov+B7Fuc3NzZLvjZGJiounvTSQSZDejrlar1d2a5FM2m6VriACZpuncRZXP51OpVIDlQbCUFo140Jm7u8vyPZ0VCgXnlTqpVMp9DRP04YwHguGgwngeR6VSaSXBITidOF5aDIZardb6GlEEq8W/6BZDCB5M0ywWi8r9VgAAAEBQwpjjaH3Fr3urC6Kr9XP4WDMcafw5h9na2pr/6zABAACATgtjjqMtI1IOqI+HtoxvW9/qhgC15W+ZGAAAAAB0EMYzRxcWFhp9Sdm4yK7F2Esmkx5P2bmrmY1qcZXL5RqdpqFsa+fcDQAAAEBzezkOOVRglAgA4UHNDAAAABxIGNdxAAAAAAAA+CRvokkmk+Q4AAAAAABAhBUKBSFEPp8P45mjAAAAAAAAB0WOAwAAAAAAxAE5DgAAAAAAEAfkOAAAAAAAQBxw5igAoEm5XC6XywVdCgAAAGAP6zgAAAAAAEAckOMAAAAAAABxsLdXZWlpKdhyAAAU1MwAAADAgXAeBwAAAAAAiLBsNiuESCQS5DgAAAAAAECE2Qfhcx4HAAAAAACIA9ZxAACaVCwWS6WS4OgQAAAAhAPrOAAAAAAAQByQ4wAAAAAAAHGwt1fFNE0hhGEYyWQy0PIAAPYUi0UhxODgYCaTCbosAAAAQATs5TgKhYIQIpVK5fP5/5+9u4uN47oPv3+YOn4KLBRlBZRCHscXuwYa5d/VRbWOKQj1DUUBdgIajg3KIINHSWCKvJADCYgK0rQTFLXJUIACSI3VgpSExAIi1iSsGCYSG+DLTQpBK5PqhbZP1ADiXjh6ArMA14qyQf/285TPxZFPjublzOzOzM7Lfj8wYIrcGR7u/PacM785L7GWBwBwn1zqolQqkeMAAAAADOTTwYMHD7LmKAAAAAAASDH5dHDv3r2sxwEAAAAAALKAHAcAAAAAAMgCchwAAAAAACALyHEAAAAAAIAsYM1RAECLBgcHBwcH4y4FAAAAcB/jOAAAAAAAQBaQ4wAAAAAAAFlwf65Kf3+/EGL37t2xFgYA8GcTExNCiFwuF3dBAAAAgHS4n+NgQjUAJE2pVIq7CAAAAEAKyKeDhUKBNUcBAAAAAECKqaeDrMcBAAAAAACygHEcAIAWra6uXrt2TXw2OBAAAACIFzkOAECLPvroo2q1GncpAAAAgPuYqwIAAAAAALLg/jiOubk5IcTu3bt7e3tjLQ8A4L6pqSkhRKFQYOsrAAAAwI/7OY7FxUUhRKlUIscBAAnBNBAAAADADzlu4+DBg6zHAQAAAAAAUkyO29i7dy/rcQAAAAAAgCwgxwEAAAAAALKAHAcAAAAAAMgCchwAAAAAACALWHMUANCiwcFB9rUFAABAcjCOAwAAAAAAZAE5DgAAAAAAkAX356pMTEwIIXK5XKyFAQD82eXLl+MuAgAAAJAm93McpVIp3nIAAAAAAAAEwZqjAABEqFQqMSQHCsEAhWWboZPD6gGJeGiBamFZjwMAAAAAAGQB4zgAAC2am5tbXFwUPJoGAABAMjCOAwAAAAAAZEHX9vZ23GUAAKQS4zgAAACQKPfnqszNzQkhdu/e3dvbG2t5AAD3TU1NCSEKhQKL0gEAAAB+3M9xyAdxpVKJHAcAJES1Wo27CAAAAECasOYoAAAAAABIsaGhISHExMQEa44CAAAAAIAsIMcBAAAAAACygBwHAAAAAADIAtbjAAC0aPfu3aVSKe5SAAAAAPeR4wAAtKi3t5fduAAAAJAczFUBAAAAAABZQI4DAAAAAABkwf25KhMTE0KIXC4Xa2EAAH92+fLluIuAMI2Pj6+vr6t/Li0txVgYJIElJARR0dmoIjocFQLcHDp0SP8ngeHpfo6DReMAAIjU+vr68vJy3KVAghAS0BEPHY4AgBsCo1msOQoAAAAAAFJMjYBmPQ4AAAAAAJAFjOMAALRobm5ucXFRsHQIAAAAkoFxHAAAAAAAIAvIcQAA0A5LS0vb29t9fX1xFwRJIUNie3tb/pPY6HBUER3OEgBEAhTZUsiQIDD8uD9XZWpqSghRKBQGBwdjLQ8A4L6hoSEhRKlUktt7IxtYHR0W9XpdflEul+MtCZKAKqLDqQCgQoCuXq/L2CAw/Lg/jqNarVar1VqtFlc5du3a1WXj+Er7y2gMMqZer9vjYWFhwf7Kxx9/3GfYIF2CxAAVAkJXr9ftVQ0B2cnCraPGx8flFyMjI5EXHRGgiuhwEQUAFUIGhHhTQ0vRlKTMVZmZmbF/Uz3ZUNTVVcbGxhixkzH5fN4eD+Pj4/Z4WF9ft3xnbGwswpKhXXzGwPj4uD0GqBAQunw+b/+mvT2yB6SlhdrY2Dh8+LD6UdjFRPuEVUfJkJidnRVCjI2NFYvFaMqLaFFFdLiIAoAKIQPCuqlRLYUQgsAwmJqampqaqtVq96f3DA4ODg4OTk5Obsdna2vLfs3UVNXt7W3LyJx8Pn/79u0YC4xIbW1t2QOXeOgojpW4/gLLj7IXA0momc0uX74sCxl3QSLXbAslA9JyEtmXHRkZ2draam/xEYngdZS6vSEk0o4qosMRADAIflMjv09seJKd0ps3byZlHIcQIp/Pz8/PW745Ojoqv7DnPqenp8ljZZhjUpx46Cj2CkFnf0JCDCA6zbZQQojp6WnLd+Qju5mZGcf6DakTvI6SIbG0tERIpJ25ihBOD2mpIrKEAIBB8Jsa2VIQG03Qcx5JeFpoL+HY2Nja2ppbyZFhjgM1t7e37fEwMDAQd2ERCXsMjI2NbXdMDCSnZnbTOeM4JLeAtNdUmQxI2HV4HQUL4qHDEQBww01Ne6hxHInLcTjOpbeP7yoWi3GXFO1gj4elpSV7PDBwK8P8xECxWMxkDCSnZnbTaTmObad0xtLSkr2FymRAwlEn11Gwc6wiiIfOQYUAN9zUtEES56pIS0tL9rFe9hV6bt++3cZCITb2eDh06JA9Hhi4lWF+YuD27dvEQCwGBwcvX758+fLluAvSPvYW6tChQ/o/ZQtFQHYO6ijoHKsIPR6oIrLNnvUmACBxU9NOictxCCEGBgYMm+KUy2X7BDZk2MDAgOGnxEMn8IyBtpUEMLdQwmmKNTKPOgoKVQQIALjhJrdtkpjjEMa1A81LfCGT3ILBcYUnZBIxgOQwtFA8fulY1FFQqCI6HAEAA7csBo1FuLq2naYOJkRXV5flO/l83nH3HWTe+Pj4qVOnLN9McvQidPYYoEJAjAhIWBAS0BEPHY4AgBtuaqIzNDQkhJiYmEjoOA4hRL1e9/lNZF69Xl9YWLB/374zH7LKMQbq9ToxgFgQkLAgJKAjHjocAQADbmraILnjOA4fPuwYAUtLS457ryDD3IJBEA8dgxhAohgCMrGtKiJFHQUdVUSHIwBgYJ+pINFYhCihOY6FhYXDhw87/qhYLK6trTGfraO41QWCeOgY5hhgoyW0k6GFEkJsbW1RI3Ug6igoVBEdjgCAATe57ZHEuSqHDh0yVA0bGxu7du1yS44ieyz7MlrIeGhbYRALzxigQojL3Nzc0NCQnP3YIcwtlBCCFqoDUUdBoYoAAQA3fm5y21meDEtcjuPUqVPLy8uWb9oTWqOjo+0qEeJkj4f5+Xl7PGxsbLSxUGgrPzEwOjpKDKA97C2UfSF0ArKjUEdB51hFEA+dw76WJAEAiZuattpOGHsJx8bGHHfZibukiNy143QPAAAgAElEQVTa2prjdbfHQ19fX9yFRSTsMTA2NrZNDCTG5cuXBwcHBwcH4y5Im7gFpL2mIiA7BHUUdMRDhyMA4Iabmja7nymYnJycnJy8fPlyvKUZGxuzXOb5+Xn5o9u3b9sTXWtra26nkg/W1OHK1taW42oufX19W1tb9vPMzMwIIZaWlkL8M+GT/TK1HA+Ww93ICJQNkh3B0Gb2CkFoyU3H+e1uMaCetOsxsLW1NTY25jjvsVgsOl7oNseATB9MTk6259e1oKNyHM22UCJALt6tCdve3vbfhMlwpdaKToh1lCdViXm+Ur6Mhqz9DFXE9vZ2iFWEWzDIRs3+W9yuOFVEuNoWANvG2xzHACiXy47nUTHQckngk/2itHxTY2boP+i2traKxaJwT6mkvbG4H9NJ6EkvLS1Zru7AwID+Anuiy+0TK5fzcbxm5XLZ8cMvhMjn87dv37YfUiwWi8WiYwYE0Qk3HgyfYUVV9G5dw22Cob3sH1JLDNhf4BYDsvGwxIChNpDcStW2GEhCzWzWOTkOe41kiZAQxxuqFekcf+QWro5NmOzBFIvF1koCsxDrKE+OlZidn4asnZVY52hbFaHqB0swbG1tmRu1mZkZ+9moIsKShDbCHANuN70yBqgQIhXiTY2Z4RbYYmRkRP4iw4tTfdeTlByHSibp7O+p/fmVYysuL5tj5skeW/rYIcd4kj0GQ3cBobPHQz6ft8eDvQZvNh4U1S80X2uCoW3s93L2GHB8oO14NvkjSww4fvBVpS9ckuieQRKi2GtmT52T47C3UPl83vIany2UJxWE9h+pXzEwMCAzGmtra+qb9iaMZ3TRCbeO8uRYiVn4bMjaWYl1jrZVEap+sATDwMCAqgfU3eza2pq5UaOKCEsS2gj9rlVea8t4VcdeDT3bqIV7U2Pm55ZnWxsLJow5jjTGhuyU3rx5Myk5DlU16+wvcxz5abmQKlVmP9zt+YbeADgWT/7IcZQHomCPB8f0s5+BfzIePDOa/usUgqE9/MSA4+g+e83uGAOqohgZGXF8vVvYqIaqDTEQe83sqXNyHPaqpuWANDOEn+ERveHXyYilygpdiHWUJz8NmWWcvHlAonxNs8WAQduqCLf6QZ3QfoifRo0qIqC2BcC2SwwYrrLajtQydkAhBiIV4k2NmeEWWGfZvdjcssjXpCg2EpfjCJG8GPbHWSo/4jhaTyW0HHOc7byrQYjMn3ZLertcLssxfuYcB73DdJExYK8Q5EV0u9aqupienrb/tG0xkPyauXNyHG0TsAlzDEv6r6nmVolJliUY1Eh1Pw0ZIZE6hmAwX3cVIYZGjXhIBXOvxq1n4rgqmf1wYiC91C2P5yQX9TLZdphzHKm761E5jsTtHRsWe85MbUbtOGZEfdNxz2r1U/uOUEgy8/U6fPjwqVOn6vW6EGJgYGBpackxh2rhGD9ILBkDlqu2vr4uv7APLrV8X4aHBTGAqLXchBnORvuVUo6VmCIbMvm1bMj8nJOQSCm3YPBs1BRDo0Y8pIJbDIyNjfX19bkFgJomo0LFcHKkkd4QGF4mAyCfz9u3vXeU3h5v1nIcakthtwagXC673cfKz7/jh19VDbOzs2EVFVHb2Niwb1PvSE5e9ZPgEFowOHYUkCgqBiwVQrlcXlpampmZcZwtL7wuLjGAiHg2YUIIcxNm+NHs7CwRmzpulZiFrNOabcgIiXQxBINno2ZGPKSFIQamp6eXlpYcJ/ULrQUxRwgxkF7qlsfcWIyOjgohxsbGPPOhUnp7vFnLcRw+fFi4XDn5EMzw2ZYjPB3vivv6+vQ1O5AKMhiEEG5bqakRm457VrtRwSCrCSSZigF7hSCvo1sVf+jQIfmFY/AQA8rg4ODly5cvX74cd0EywrMJMzAsp68aPiI2dQyVmCQbMn3pWT+oxNLIUD8Ir0ZNcWvU5BfEQ8KZY8DN7Oys7NWMjIy4VRTqNocYSDVDbCwvL3d1da2vrxs2mbZLb2ORqRxHvV6XeUr7B9g8NMtCPUnTtZYaR4w8k9aeW4e6kSf0vOVA7Jr64Cuzs7PywJGREfMzc2IAITI0YU1xbMIkIjZdVEgY0JB1iCD1gxqDbGjUJOIhyVqIgY2NjdHRUXl3Wi6XHfevldQ5iYE0UoMsDLGhkhQ+h/spKW0sMpXjUEMw7E2+nwE26ijHDqLKirV214QYtdwFdEMwZNj6+vr4+Lj82tAbIAYQOkMT5oe5CUMa+Zxu2RoqsXRpuX5QjVo+nzc0avrrWyge2qCpGFhYWDh06NBjjz2mMlzmVeeaGhiCpPETG7Jv0ML6GiltLDKV41DLqDSboJLMR6mgibTPgdC1HA8GBEO6NBUAhw4dUilRw4HtiYH+/v7+/v79+/dH9yuQHJE2YUgjz0VYgqAhS5fWgmF9fV01atPT036OJR4Sq6kYWF9f1y+lZ8sS+uNAtJNn/0GmuorFotqE3r+UNhb3cxxyQvXExES8pQlIrSpq/5FKQQUZAyyPTdcFRkS1NsGQIj5jYH19fdeuXbIvODIysu203b2uDTEgd8Dq7e2N7lcgOQxNWHBMt0wjdUsT6e0HDVkqtPAEdX19/fHHH5eN2vb2tnldOVVFEA+J1VQMqF2Eb9++PTIyUq/Xu7q6urq6DDMOaCbSy9x/OHTo0Ojo6NjY2O3bt1vLmKforqdUKpVKpVwul6lxHHIQjuNoK/VNBvF2GkbfwU8MyFGdKsHRQp4bCMjQhKEzqR4LUYFmu6+yUZNfs2p+NjQVA+pWVj66V7tKq9m4yBJD/2F8fFzmJvyvM5pqExMTExMThULhobhLEiZ5gc0JKj8VhPkM6ZqMhEjHbxMMqeAnBtTmBTMzM011B4kBhMVPE+YHk1YyQ/VYaMjQ1P3tqVOn1K0sjVpmBHlMq8Zo8Kw3k9z6D+vr66dOnZJfB29H0lU5ZGocR0Ce67XI7/M4BYJgyJB6va6vNe2/L0gMCCE2Nzer1Wq1Wo27IPBowphrDTcdXollz+joaAsJDlVFEA8di2Yie/QExyEbOXFJrtpz6NAhtTytXRp7vJnKccgkpdsWKnIhWUMKynNDJrWgS8Byop38bKnTAoIhRdxioF6vP/7447t27ZqdnS2Xy2tra1tbW/5PSwwIIVZWVqampqampuIuSBb4acIMzA9Y0vX4BZLqkETUkEkdXomlhZ+1EmSjJm9UZKPmP2sf6QK3CIVnDCwvLxuW2/BMYdBMpJdb/0F9p16vL9vI0R/qR4YxPmns8WZqrorkdoVk8smwXIrnem8yUEhzpktEo/IIhhRxi4FDhw6pFt28p5ojYgBRMDdhBubuaaQ3yYhapMPLqcSyoV6vq0atXC4326ipKoJ4SKmuri75hduK6Z4pDJqJtLO3FNPT04bLurCwIB/yyV2lDd2MNPZ4MzWOw/zWq4dgjkNxlpeXPa9fGpNYiAjBkAGqvR8ZGWnhUrYhBuQ0kFqtFt2vQHKE0oS54QFdGrWnQ0lDlgqewTA+Pi4/5iMjIy1k7RnHkXxRVwg0E+llWGahz538sOfzeflPQ44jjXc993McQ0NDQ0NDaR9vLLuAy8vLjp/Scrks90oYHR1V0++l2dlZtfq023hg1a3skGVpM8MtHoIgGNLFPnqrXq/v2rVLfj0/Pz8wMGAfwmceudeeGJDTQObm5qL7FUiOlpswIYRqwtgSKEtUhySKHftoyNJFBYNj/VCv19UFHRgYWF9fb7ZRU4iHxDLHgLpw9gZC/6bb9TWsxYDkM/cfAkppY5GpuSrlcrlYLG5sbCwvLzsmtEZGRuSHfHZ2tl6vz8/PiwdXHPQcxIEUkcEghHCLh5Z5TmtCQqgYsFhYWFAPvdWOKo7GxsbkED4LYgCh89OELSwsLC8vyyZsenq6WCzW63W1qFi5XDZPvydi00WFRBQnpxJLF3P9oK/CoDKejtwaNfVbApYT0THHwNjYmLzFlQ3E2NiYfM3Gxsbo6KjMk5bLZbfbVHWbQwykkbpqod/yiLQ1FkNDQ0KIiYmJTM1VET4WFlVXaGFhoaur69ChQ+pxbj6fl1kPR1E8RUGkzAnvIGQweC4BiNi5XaPgH2diAFHwbMJUI7WwsPDYY4/JJkzmOMxNmH5+pEh0l4xKLHUM9UNYfVTiIeEMMZDP55eWluRtzsLCwuOPP97V1fXYY4899thjMjyKxeLMzIzbdAMVQsRAqkXxSD6ljUU2cxyGun5paUm/SPpme2tra24zkdbX19lQOnUiGuWrgiF1n/YO5HaNAi6sRQwgIp5NWD6fb60J08+PFInoklGJpZGhfgjeqOm/AollbiNkmkP/jn7zsra2ZngUr15JDKRa6I/k09tYZC3HIT+99Xrdbfy5fNK1bWPoHQptNLul7kCSqenr/tv+paWl7e1twzBOoQVDuraJ7kwqBiwVgrzQfjgGAzGAiHg2YUKIlpuwpaUlIjZ13CoxA0PdpRASaSSDwbF+CKVRIx6SzxADUj6fd7v0fhaMJAbSS93y+G8spqent7e3zfe26e3xZi3HIT67BoYNolsgM1hy1dkQT4uojYyMyHgIcRiOCoawTohIyRhYWFgIKwbUqYgBNMXn2rGqCQs3Ymm/ksb/WsJUYlDkgjshBoOgikgec+UQUQwIbnOSymdjoW55IroFDvGc7ZHBHEd0Y2nStZwsJBkPak2+sBAMKRJuDKR0femI7N27t7+/v7+/P+6CJF2lUllcXGw0Gp6vVE1YuBFLuCaKjAf/r4+oEkNCVKtVP5WDLsReDVVE0iwuLm5ubnq+jBjoBLVazWc8CG6BH5TKHMfZs2crlYrbT6enp9UGe6H8OrlC9e3bt9OYxOoQZ8+edfuRjIfZ2dlQ4oFgSCBDbSDJoblhxYCc60gMSKVSaXBwcHBwMO6CJN2FCxeEEH42aFdNWCg3oocOHZIRS7gmR6PRkPHgX0SVWPBTIRRnz571UzlIqn4Iq1dDFZFAhm6t0GIglN8lY4BeTTLJmsEcDwq3wLr05Tg2NzcrlcrNmzcNrxkZGenr65udnQ0+jktuJz42Npa6aUgdpVKpGJ6ByHF9weOBYEimmzdvema4Ze0cSgwIIYgBNEtWULVazc/TGNmEicCT7GSVJdL5BCbDVIPl89GcpCqxgL+dSixpVldXG42Gz8pBaPVDKMFAFZE0q6urQoharVar1dxeE1YbIbQYoEJIJtV58Pl6boGV+zmOUqlUKpUKhUK8pfFDPrP1fHIrt9ALnseSI8HMa3chXvLzL1sFN/LzGTAeCIYEajQalUrFT4UQVgyUy+W2xYCcBrJ///72/Dq0wcrKip+XyYgNpcpqZ8TCD/WQxmcwSKoSC6jNlRg8tRAPIQaDoIpIGBUP165dM7wslDZCaDEQ8DxIDm6BpYfk/yYmJuIth3/yM+85cTGfz8u0dL1e97OSsKONjY1yucwnP+Hk/e21a9cMiwLMz88HXIOHYEgm+UTUfPXFZxsqhRIDclhQezAHJBv0x7OVSsXPZVURG6QJk1VWOyMWfqicrM9gkEIJifZXYjCTaXr5tf94CCUYBFVE8viPB2KgEzS7TI/ELbDUtb29HXcZmjM0NCS/OHPmTHd3d7yFQew2NzdPnDghv+7v7+eesKNw9ZEKr7zyij7Q9PLlyzEWBrFT3RghRG9v7/DwcIyFQbwslQPx0OGIB+j0eCAYmpW+9TgUz9Hp6AR6GBASnYarj+QzT6tGp7EEAxVXhyMeoGxubhIPUCzxYF55EHYpy3Hon3bzRDV0CH3+6ubmZrVajbEwaDO9EpCrEcdYmM4kB9bOzc1xG+/G3lQRqJ3MEg+NRsO8mBQ6CvHQyewLsnBP28ks8aDPY4IfacpxWLZbq9Vqc3NzMZYHsZubm7OsQ+5zdyVkg+W++sKFC3QI2iyXy509e3ZxcZGks6NKpbK4uGj55tmzZwnUzuQYD1RcHcvxqUyz+wojG6rVqr1yEE3uvoTMqNVqjo0F8eBfmnIc9lE6JLQ6nP1xBz3FTkaSOxasi2Tgts05gdqZ3OKBR/edidQwFLdgoLHoTG67LBEP/j2Q40j4OH9754DR6R2OjEYnc/zsu91CpFGlUlldXU3+HBCZ40h+OWPh1kI1tWkossGQhOVetwORlIeOygE64iG4+zmOubm5oaGhqampxN40uqUzsnRLg1AkNoYRLsfPfpa6jHNzcxcuXHj33XfjLoiHQqEgyHG4cKuOarUaI047jWHFOD4+HcgQD1QOHchQOVA/dBpzY0E8+HQ/xzE4OJjL5YQQiV3hwm2dhdXVVQZ5dia36z41NdXmkqD9Mv/BX1xclN3c5G+IK0toWS8JwutGhZqqo2xubvIBgWKOByqHTmN+OMdKc53GfMWJBzcnTpwYGhpSu7P/ea5KT0+PSOpTUHPWiqEcncltvBYPSDuB4VOfjQy3DO9CoZCK1S5k85Hw2Y7tZ25PqaY6imfnio9PR/GsHIiHjmJ+ZsPEfOjoPLixvDN/znHs3btXJHV+oHn2UQILjKiZewDMdc82c3ufgcmKalP0/fv3x10WX2TzYdnLHZZQ7O/vj6skiJ29XrLEQwYqLvjnebmJh47i2VjwNLeT0XlojXUch0jkB4ksBizMIUHAZJv5+mZgDov6A0ulUrwl8Uk1H/TLFcvww0Kh8Mwzz8RYHsTLkv6zxwPNVuewj00uFApywrhCPHQO++OBZ555hnjoWJbBCN3d3YuLi5Z4YOVBA7lInLDsqzI8PCyESOBK/pbrPTw8rP4AKWkFRqRqtZpl4RgZugoznzPMfvUttUHaF4ZoNBrqD7T8aYklW99cLke7q1hmzE5MTBw9evT48eOG16BzyHjQv9NoNIiHDmG/0MePH7d0Y4iHzmFffuXo0aP2eGhjiRAnSzxMTEwIISydh1T3ciOyuLgov1CfnQdyHOpZXKKG+ls+2LlcrqenxzKEm4eHHcV+uXt6esh5dwj71d+/f7/l6q+urqa3Q5DS0J2cnDx//rylW9axKpWKJTUvb2jPnj2rx6ph7XRkieVD3dPTI+PB3mwRD53AUjn09PScOHHi7NmzltWXUtoWoCnVatUeD0IIezywCkMnsMfDiRMnhC3xYe9jQE5D6e7udh7HoZrb1dXV5Lx3jp2D3t5ew2uQbfbJCEePHlUZOomeYlbZP+w9PT2Wq+/4srRQgzgs9z8Jl5YhJ+1hmPJpabwyMLUKnizxINevEbZgEMRDR1LxYG/IkHn2xzZu8ZDeXg388//MnnjQra6uylUa9U/N5ywvktO/u7u7E5LjsE86kD0AyyBP5iZ0jgsXLljyF2qOlSXnTZojk+wz106cOGG/+hcuXEhIJdYsuZN3d3f3+fPn4y4LWmHf2Fi/lVXDKaW5ubmUBip8sseD6q4sLi5aKi7iIfPslYMeD5ZkMcGQef7jYW5ujon52WbuPFgqB+JBWV1dlZ+a/v7+wcFB9X1rjmNwcHB4ePjMmTMJWevOkKZikGdnsnz+c7mcag8sOW8eiGWP48w1+XVmhnL09vaeOXNGzsBEGjlOpzK8PlGTQxE68zruBw8etHyHeMg2t0E9kqWuIBg6jTkemJifbfbGQo8He0eCeJDeffdd+YVlJW9rjqNQKNgHT8bIcP3scxNSekuDIPQwoDHIPLdp7SJbtwpyHEfcpUCLLNtad3d325eU09FyZZh9o2vLRzszyVn4YY8Hy8KiTE/oKJbHNt3d3ZZ4YGJ+R7Fc31wup8eD/faceJAmJyfl9rqW0Q/WHEeiOG6vpb62J7QSuOstoqaHwSuvvKJHSK1WY5xnxlg+4/rVP3HiBKN8kUD2m1jLMMnNzU1LWgSZ4bh+kP7PEydO2OMh8mIhJp73JCdOnNAjxJ4TQZZYhhvbGwv7xHzioXNYkhr2lQdpLKRcLjc4OHjmzBnL9xOd43DcXkt9PTU1JdM2SqVSsUx1RsZYrm9/f7/lAalldyXz41Oky+LioqV1d9xhC/FaXFw8evTo0NCQpXPWIex5eXurZKmmBJvIZpd9o2vHeEjXAsNojefG55Jldyr7GmTIhs3NTT0eHCsHYXs0TTxklSVh0d3dbY+HSqViiQeCQbEPf050jsNxey39O/bR6UxPyDbL7AN7AFgihAekWeL56bYnuXni0X5//OMfZaPbaDQ6sPW1RKnjShz2rcE68I3qTG7xwGJSncDnSj2W7DATsbPK0qF1W7aJifkdwvMGR6KX61+icxwWlpV4hNPodNaYzTD73BNLRsMRaa9sMM9cUyy1RFrmr1ke7qXaM888oy5Nlv4unwyLouvszRk6gc94SEvFhaZ4TlxyQzxkkn19MceXMTG/Q7QWDwSDQdf29rbhx1NTU/Ix+PDwcJvXIlU7wUi9vb2OTzbOnz9vyXlfvnw58sIhDkePHvXztNMeKu2PXoTuxIkTlgyX/bPvKOFXv1arvfLKK/LryclJx8RNGul/1/Hjx3125dPuwoULLT+BHxwctMy+RNoRD9ANDQ21fCzxkDFBKgfBnU7m0Fg0a2pqynOa50PmU+zfv1/mOC5cuFAoFNrZ/7akpnK5nONk+1qtVigU9Ae8lUqlQ/rTHcW+N3ChUNC3QVbsSc2bN28m+S4XflgSHPJT71gnWBbpuHbtWmKvfqPRUKXt7+/PTIJDCFEoFIaHh2We+sKFC93d3Vn66xw1Go0gfdZr1651YDclwwIOKSceMibgfDTiIWOYYgBdkHhYWVnptMphdXW1Wq1OTU0NDw8b+pYeOY7e3t6PPvpIrnoyNTU1OTnZnh0N7UsHLy4u+lxP9ObNm+Q4sseeuajVaj6XFKUtyR7/V79arW5ubiZzK9apqSnV8XVM2KVab2+vzHE0Go2zZ8/al7zOmID1jJyLl8xARQvsefmmEA8ZE7x+CKskiN3q6mrAnJd8vhtWeRCvgPGwubnZUfFQq9Vk31K2koY/3Hs9DtXzbjQaauxx1II0BgE7FkiggA9IkXYBP9HJTHLJZkl+ndXGSW2Kqf+xWRV86R/LkmNIteDTpImHLGHaPJTgwcBKc1lCPPi3urqqchGDg4PmMQ2+1hw9f/687II3Go2hoaGol5Gzb6/VFPnMMMTyIHbBL2jm76+yTV+apwVJW/lydXV1aGhIrpjb3d09OTk5OTkZd6EiMTExcebMGdl8ZHt3zMXFxeBbOC0uLlJTZYN9o+vWThJKYRC7UOKBTeIyI5TKgXjIhrAai8zHg0xBqNuBy5cve87Q8VhzVD/13Nycepbe09MzPDwcUZ91bm4ueNN+5swZBnlmRpCVuqT+/v7szQXoEJubm3420DFLzgJd+spShUJhYmIi2zf/4rPmY3h4OO6CxEat3i0lJxoRC71FK5VKjusKoUNYKgfiocMRD9Dp8dDJwSDnp6iHQD6XWfW7d2wulxseHlZ3idVqNbr5IKEMLE/m6HTEhXhIrwxfu8nJycwnOMRnzUfcpQAAAECayOVFZYIjl8sdP37c5xqrHmuOWvT395dKpWq1GukKroal6SxDPHga1iEMF9oyxIPxGtnT39/vVuGk8erLZHGtVlNrVXSsRqPRCSkeAAAAtEB1FM+fP99Up7G5HIcQos07yAJAxuRyORIcQoh33323Vqs988wzvBsAAACwKBQKg4ODH330UbNPxZrOcbhpNBqNRoMlMABAkpuJsJW1o83NTTkor1qt9vb2MpkFAAAAFr29vS0cFVqOQ65ISlcVAIQQtVptamqq0Wiw/rEjfVk1uQjr/v37GdABAADQaRqNRqVSyeVyYT0aDCfHsbi4KDupq6ur+t4re/fuLZVK9O8BZJusmm/evGlfj/nChQsduxS2QW9vb29vr9wpvFqt6m2HEGJiYoJ8BwAAQFZZNkyRJicnQ1kWI5wcR39/f6FQWFlZ0XdAqFQq8p+FQmFycjKUXwQACXT06FH7NwuFwsGDB1sbYtch5O65ctFsy/fjKhIAAAAiMjc3V6vVNjc3Nzc3LT/K5XKbm5sJynEIIUqlUqlUajQac3NzlUpFf5JpSc8olj0RLBy30rh27ZrhDI6HGH6L21bDLRSshUPs3Xqd4w4Rlm1lLByffLZwiGV3bgvHv8V8iNtRoV8auxbeZPMhoqUASOylCSuYzUc5Xs0oLo1d6B8Z4W87JzmKjeyGT6VS6fz585VKZWNjo1KpdHd3O64sld6a2f7NJHz83Y4Kt2Zu28c/XTWzUq1W7YXMUs3cns6MCO9NC7fRbPYjI+Ohhb8lsZcmxI9MuE1AjLWZZzA7aqE2S2yn0XxIlqomt0GprXVODEclM/7dCub4jvX39xeLxRDXsAstxyHlcrnh4eHh4eFKpTI3N2dPzwBAVslphKxJ1IJcLidnrwwPDzt2sNxy5QAAAEijQqFQKpX2798f+gDekHMcSk9Pj2cmpr+/v9nTfulLX/qv//qvps5geM3u3bvDKlgLh3R3dxuO2rt3r89v6icM5ZAW4qy10Azl0phz4S28yeZD3JgPSdelaeHPNx/leDVDuTSeT0JC/8i48TO4Az45PvTo7u4eHBz84x//2NSpqJnjqpnNh1AzK3/1V3+1f/9+P69MUc3seUjbauYW3rRwG03Pj8y1a9f0bq0hHsx/S2IvTYgfmXBrgBhrM8M7ZokHnwUTaes0mg/JUtXktiRlC2+a/8bCz29pT/y7aU+fuWt7e7sNvyYslhFB3FfAMqrKcewZsoqrj1SwjP6l5epwesXlNmAYHcJSORAPHY54gE6PB4KhWZ+LuwAAAAAAAAAhIMcBAAAAAACygBwHAAAAAADIAnIcAAAAAAAgC8hxAAAAAACALCDHAQAAAAAAsoAcBwAAAAAAyAJyHAAAAAAAIAvIcQAAAAAAgCwgxwEAAAAAALKAHAcAAAAAAMgCchwAAAAAACALyHEAAAAAAIAsIMcBAAAAAACygBwHAAAAAADIAnIcAAAAAAAgC8hxAAAAAACALCDHAQAAAAAAsoAcBz1IG1gAACAASURBVAAAAAAAyAJyHAAAAAAAIAvIcQAAAAAAgCwgxwEAAAAAALKAHAcAAAAAAMgCchwAAAAAACALyHEAAAAAAIAsIMcBAAAAAACygBwHAAAAAADIAnIcAAAAAAAgC8hxAAAAAACALCDHAQAAAAAAsoAcBwAAAAAAyAJyHAAAAAAAIAvIcQAAAAAAgCwgxwEAAAAAALKAHAcAAAAAAMiCrrW17dFRsb4ed0EAAL7l82JrK+5CZMvsrBgfF/V63OUAAABIp3JZzM+LYjHmYnQNDGwvLMRcCABAs7a34y5BtuzaRYIDAAAgkLExMT0dcxkekl26Rx7dPvj0/8RcFgCAl1vVrutXmWYYPpXgODLy/8VaEAAAgPRZee9zdz7sirsUQgjxkPzfI49uHzv5/8ZbFACAp3OnH7p+Ne5CZBqtIQAAQLNuVT+fkBwHDwMBAAAAAEAWkOMAAAAAAABZQI4DAAAAAABkATkOAAAAAACQBeQ4AAAAAABAFpDjAAAAAAAAWUCOAwAAAAAAZAE5DgAAAAAAkAXkOAAAAAAAQBaQ4wAAAAAAAFlAjgMAAAAAAGQBOQ4AAAAAAJAF5DgAAAAAAEAWkOMAAAAAAABZQI4DAAAAAABkATkOAAAAAACQBeQ4AAAAAABAFpDjAAAAAAAAWUCOAwAAAAAAZMFDcRcgEXr++i9bO/CJA70/+dmvwi2MmV7Uym//u52/ulnXr65+7ztfl1+3UFTD4edOv3pp9nTLZ45Xkq9gqt9YAIDUcq9GxFH5q9IeGTl57OTrbf7t/gXs1ZjPkOS+gackX0E6NkBnYhwHAAAAAADIAnIcAAAAAAAgC5ir8oA9pX1NjbL7whe+GF1hAAAAWtZsrwYAgAwgx/GAL3zhi08c6I27FPBw7OTrdNoAADCjV5MWLBUBACFirgoAAAAAAMgCchwAAAAAACALmKsSMrWBlhx2eGn29DtvXbzzYU29YE9p35Gj3z/49PPqO3c+rD138Kv6SR55tHDw6ef9TMe482Ft+gfHrl9d1b9p/xVurl9dfeetiyvvvW35/hMHeg8+/fyzL7xoPvydty7+4q2Lt6o39G8efPr5l//xjR07856/veXDDTuB6e//vbv1S+d/vPLe2/r7v2Nn/uBTz7108nXPEr7z1sUf/eCY5ZsHn35+6uzPhe1Ch+vOh7VLs6dX3r9y725d//6OnflvvvCiz8CQsWf5/o6d+TevXH3k0UJrBbt3t973tS+pf+p/u9oPz7Cbsh5slpepw+WP5LVTV1l8duGOjJxsufAAgBZ4dmyEEFNnf27p2FjaIP8dm+995+uWXo39/Ab6/qy6l18759mrEV5Nvx/ffu6ApWPj5wxue8da3vx7d+vffu6A5c2X7ePLr50zF8yt03Xs5OuPPFqIevPaH/3gmFuv5tkXXvTTsgc/g6N7d+svffcb6m159oUX1TupAsnQJfbTsZHfP3f6VXuPNEiXDIABOY4IPXfwq5Z2SAhxq3pj4vi3nr26KuvQd966+MbpVy2vkZ2DI0e/b74Pl8daqnv1Kw6+f8XcoE4c/5Y9uyFdv7p6/erq1w70GmreOx/W7P0AIcTKe29fv7r6xk9/afjVwQ/3w94PEELcu1t/562LK+9fefkf33DrMN35sDZx/Fv2Poos3qW/+dsjIyeDF8+NnsGxuHe3Ln9k7iaaz/Dcwa+2toO97Aeof1rae3uX1O7OhzW3l+nflwFsuXbywr3z1kUmLQNAXG5Vb5yzdVqEEPaOjaVzIjs216+uvnnlquH877x10bGZkL0a8yOQe3frP/rhS24dmx/94NjKe2+Pv3bOrWNjbvpvHf2+odhhncHMsXEUn7WP8umU27GOmRdZsJX33o56jbNzp1+1P3QRn/VqLs2e9uyWeJ6htb6BIcEhtJ7JntI+tzP479jYO2ZBumQAzJirEpVb1Rv2dkiRd2vycYE9SSH96IcvmX+F4VghxMp7bxt+eqt6w60foLi1iPLwbz93wO1A+ZzhA/eb3oCH+2F+/+/drU8c/5ahbG5/uBDi3OlXHbMzoVBZDINLs6cnjn/L7eJ++7kDAc/gVjBDPyBcL333G4ZrF92bDwAwuFW9oWe6LWSvRhg7J4a2VQhx/eqqoYZfee/tl777DcOZv/3cAXPH5vrVVbe+h2fT79ktCX4GM/nmGxpHw4OrW9Ub5nfeMW8VCtmj89MtcbuyPs/QbK9Gak/HxvzBuTR7mo4NEDpyHFFR1dme0r6XXzs3dfbnR0ZO6s8f3tBulZ994cVjJ1+fOvtz/dn4yntvm9sk5dkXXqz89r8rv/1vy+MRt9v4Ox/W9Nr2kUcLb165Ks9wZeU36hGHvK21txmW7z/yaOHKym/k4frIEcNQAsvhL792zv/hPqkM0SOPFp594UX5/vsZEKg3kzt25o+dfF3+dfpAWceHCaGwXLKf/OxX8p15+bVz+tr4K++9bR/+I+kx8+wLL8ozLH/we/9ncNS2BIcQQr3/x06+LiNTD4x33roYXW8MAOBGtd17SvuOjJx8+bVz9o6Nah9lAyo7NvprDB0bvZWRjdebV67q/SI5kMGtbOr+/5FHC6r5uLLyGzkXQ/7o3t26452wvVtib/rN3ZLgZzD70Q9fkueXvZojIyenzv7c0qtxbBwtD3V27MyrPpvP6T9BWAa2WLol+ivd+iT2M8jCW87QbK9GCHHvbl0/c3QdG9WxlHs5W6JCRNmrBDpWV1/f9vKyeOLA//zkZ5/GXZjYqFmITe0k/8ijBfs9sz6h8c0rV+3D2/QXCCGOnXzdMvFBn2y5p7TPkrbQD9+xM//GT39p/xV3Pqx9+7kDqi28svIb/af6XFPDBNFLs6dVY/mTn/1K3R7rKzLsKe1746e/tA8clRlrvRvhOLm0tcOFv/U4hMv7v/Le26qxt//5+l9nf+ukvq99yVA2T25TXu/drX+z73/JM7tdWfHgEJjlD36vv3s+z6CX33IGxzfWMoLD7e/1s0CJzwsnXKZe64HhdnU6wbnTD12a/QshxPZ23EXJlq6u+19Ufvu/Yy0IEFRrvRrho2OzY2d++YPfW15gWVbM3rER2uxdz46N/fziwZbL3sr46di49WqErWPjOJvG3PTrZ7A0rD7P4Lkeh3Bv2Q0dG0uv5s0rV1vodHlShbRMu9B/u2OXzPLbd+zM/2L5/9ZLqL9prZ3BT8fG7cmN29+l89+xcXxX1R/Yyb0aZMn3vvP561c/NzYmpqdjLgnjOB5wq3rje9/5us//PNOujnWx/s0nDvTa+wE7dubV3Z15HMc3X3jR8Vc88mjhpc/q4jsf1izl/IX2jOXlf3zD7eR6wfQz/EL72m1m7J7Svpd8dKoCHu7J8c05+PTz6vv2hzkr719RX7u1Z6GUze7S+R+r8rhdWfHgH6WX1v8ZvqmPFXrwDHaWfkB7poweGTnp+HBJD4w7H9Y8J1sBQIdrqlfjp2Pj2AJa0iKOS1b579h4/l57If10bI6MnFTNolu/SAjhdri56dfP4LZiSPDOw0snX2+2Y2Pp1UTa6bK7dP7H+m9xfM2e0j510e/drVu6Jfqf09oZHFk6NpEOTZXc1nGjVwNEhBxHu+mPDgKOEjzivn6VPjTUshiSqta/+eDwUQO92tUbD8MiTM/6OHnAw80Mh6tLYJ/Xqv5SuQK8W9miWARb/Wo5vtfwSvWn/eLBXprPM+i9nF8Yu7OWBIcclmz6G0JiDmz1tZ9VTgEAIfKzNUnLduzMu9X/hl7NnQ9rPjs26k7YsmCZ6tjoyQJDAez0M7i9JmDHZsfOvOHNd+vY+OnViMguq94tMbzMT7fE8wzqa3PHRjw4RaU9HZvWAhtAEOQ4ouKn0nRrVL6m5UEMzDW+3pY7vsDzmbzj+X0uESJcHln4r8EDPlVwexaks3QF5G4y8utxY1Lf/NMWXL+6qgpjGFxjecGt6g1V4OBnsJBDTPUpKpF2bXU+e4HMXwWAdgpyN+inY2PeNsUtQ6FmoMhlOAzn1+8n1RCD61dX9TkLhsPduiXBz+CHn16NcOrYyC9C77d4arlbop/B/gJPhm6qnAyups8cO/l6ezo2L7mMoJHUlbVvyQygZewd+4AnDvRadrdOr68d6DWvbuW5cOMXvvDFFhapVv5Pp8EO/lMkjoeHwu2d0cv21b/5W8MZQh/Hoa+17nly/QW3qjfk05vgZ7AwrAEOAEiFdPVqzAluve3+zX/8u75MmHqN/46NavH9N/1u3ZLgZwjOs8tnLlgUWu6WtHYGP/ShqUKIW//x78HP6cce45uvX7s7H9aiGCkMdCByHJ0r4MYlnhzvnO/94eMgh0dKL5u5pxVpC2SYwmN/geP7GfwMwpaNWnnv7TYswA4A6Fj+2309O6+e9t/5sNZCx8Z/0+9WvOBnaIOA838Daqpb0toL/LB3bITLuvvh8l94t8dOAJrFXJXMopZEcKpXpHatAwCg/R7YCcX38xI3fwh8BmRAEjo24QY2AIlxHJnlWXE3uzcYlHgnTOpXdscXvhjdGWSEfO87X79+dVUuz/Hya+fatioHAACK3nI5ru5h2OATCde2XIPsxsiOjRAiCR2bB/aOafuUIiCrGMeRWb9p1zxDN/6X3oji8BboTYt5bdTQcxx6osHzD9evrBoAGfwMFmoKt95lfMNrqjMAAK0xN15uvRo1e/QPge+TzY27n25J8DNEpP17drTcLWntDH785Ge/kukMS8fGs1PncyuA1uh/e7xTioAsIceRWTE2pZJjm+G/nWj/WAl9lY3/p73dFD3R4PmH67/9C5/1AIKfwUINntxT2qfW0k/CqE4AQCaZ54+4Le2p2u7WlpDUuyXm1tPtp8HP0AbmXk0UWu6WtHYGP9w6NtM/OBb85AbmvpN+adq/NCyQVeQ4Mks19m4LZHrer66897a+9VfLBdC53VH7PDxSe0r7VAb9N8Ysxsr7V8L91Q9sdOL1h99yGoUR/AwG+hOPIEvVhpsbYu1xAMiSD4xjDfRejf64W7Vit6o3/HRsLL0avVviswAWwc8QHZ+9mii03C1p7QzNOnbydRU516+umvs2hsvqp2NjHkSjLo0lsAEEQY4jxQyV5rnTr66897b82rIpuqpAv9n3v8y9gYnj3/red77+3MGv9vz1X6pvqsy3EOKdty66HfvOWxcdGwz9jrqFw6M29dkK2++8ddFtC7qJ498KfRzHI48W1HTQS7OnzX+7urJ66sH/GfTY8D91WV33c6df/d53vu7zKN31q6s+x8oa3l79ojDvGgCy5NLsabdmwtCrOXL0+z47Nt/7ztcnjn9L9mrUL9If6V+aPe3WMzF0SyxncPvtsXRs/PRqhBATx78V+q+2dEsMr3Trlug5Ds8zqK/99w3evHLV8QyKiiu3p30+OzaGfuO506+qkKNXA4SIHEeKnTv9qmNbfqt6QzUGTxzotWywcvCp5+QX9+7WX/ruN9xOrjfzemLi2MnXVavzxulXHWvte3frhtYo4OGR0t8rtzKoljhcevLo0vkfuzWH+ve/+eAqWT7PoP9d3/S9ztaRo99XF878xMMxJu/drRt6VxY/+uFLbmf+xWdh+cijBfayBYCMcWsp9EbH0qvZsTPvp2PzzlsX9byGfhI/y06ZuyX6Gfw0vm2jdwIvzZ527MC889bFNnRsDL0a9c7s2Jk3dEuCn8HOnEZRM0cMqTefv8itY0OvBogIOY4H/OEPH8ukrP//Ylz24lb1xsTxb1luKa9fXdUb+P9La2Ckl06+rjLTt6o3fvSDY/ab0nfeuvgjbXaiJbWsT2L80Q9fsrwDdz6svfTdbxhmuAQ8PGr6QEFLg3fvbj2KZx3SI48W9Hfmpe9+wx5alotrGdNoP4P9t1jaaf+jInfszOuPzi6d/7HbNXrpu9+wR5Tjn+NGhqX9m/qZj9gCGwBgka5ejXCZb+L5qPylB1MMjql2Q69Gd+9u3f4O3Pmw5r9bYu/YNHuGcB3Ten0/+uFLesdG9mrsDW5Y9AyCn17NN1940dIt0dv61s5gZu7YqCd89+7W7UF158NaUx0bx2/SqwEiwt6xD7hVvdHsOPwnDvSqHSja7/rV1b6vfcntp467w+7YmV/+4Pcqi/HOWxcNc0Yc/7pnX3jx4FPPycbmVvXGt5874Hjsy6+dc2w4Ax4eNf3NOXf6VXuS/okDvc++8GIUyY5jJ18/cvT78oLeu1t3e2eEEHtK+9746S8dz6B6qPfu1vVJRj7PYPDEgd7lD36vivfcwa/qAXZk5KTsOd2q3nCLyZ/87Fc+P1+GsJQlZ84qAHhKV69GtvuGXs2zL7z48oMTVaQdO/Mvv3bujc8GtxrOIFy6Rssf/F7dQrfWLVFnSFrHZk9p3/IHv5f9ATmm0rFjE9HGK+ptMfdq5CvtLbvsF/k5Q2t9A9mxkVOcZMfm2MnXVbrh2MnXVUooSMdmx868Z5cs3v1rgexhHEeKObb0ijkl/OwLL3ou2Xhk5KRbR2fHzrz5Dtm833jAw6P27Asv/uRnv3J7f37ys19F9zRmx868Zy7/yMjJN69cdWvI37xyNeAZzMXT/6m/D8dOvm6+4i+/du4Jf7vqmC99ayUHACScWwpDOjJy0vDTZ1948Y2f/tJPx8bx+7JbYmh9PLslwc8QKUOvxtDZC27HzrzPbolby+7zDC33DXbszL/8j2+of146/2P9p+ZL5rNj880XXjScR3bJfJQUQBPIcaSY2634waeff/PKVc+1i66s/EZfXMN+EvMZduzM/+Rnv7JX7k8c6H3zylXPhjzg4VF74kDvlZXfPPvCi2qk4hMHeo+MnLyy8hshxD3j/nYBHTv5uuM7I3leF88z+IkNA32+qGW7tZdfO+fWAW3qmr782rmpsz+3R+azL7wo338AQCa5PYDx03LtKe2THRvHnx58+vmf/OxXhpPIXLzj3b4cv2n+7cKYzfd5hujIXs3U2Z/rxZC9mjYsdXns5OuGXo2fi+t5hiDFO/j086pvY5mTIjs2jjHZ1DV1O0l73n+gA3X19W0vL4snDvzPT372adyFQYuuX11V+1r5GaBhcat6Q98Mdc/f/O0TB3r9p8MthzdbWQc8PBbnTr+qhi86jnoNxZ0Pa/p8jUceLXztQG9TF/edty7qQy1aOEMLZDTKEb87dub3/M3fHnz6eX29UvmFpbOij+FUb+m5z1al3VPap6+c3+HOnX7o0uxfCCG2t+MuSrZ0dd3/ovLb/x1rQYBOp/dqWmi5blVvXL+6qj+NkC2R/8P1bsnBp57zs8l6uGdoP8dWOFx3Pqx9cHVV75Y022UNfoaWndOWyf/agd6mOjZHRk7Kzu3Ke2/f+o9/v1W9sae075FHCwefeo6ODTLme9/5/PWrnxsbE9PTMZeEHAfwZ3KS6p6/+VvZ/Li97Hvf+bps0g4+/bzamA1BtKF3lRnkOCJCjgNAxpw7/eof7ta/sDPvmQtQrTAdm7DYcxxA5iUnx8Gao8AD5AANw6zgOx/W/rz/3Gf7igEAACSNHBD6h7t1w2om+sgIOjYAMoD1OIA/2/GFL8ovVt6/4rj5nHhwO3Q2MwcAAMnkp1cj6NgAyBxyHMCfqYW7792t933tS5dmT6vpl9evrl6aPf3cwa+uvPe2/M7yB79vzyxQAACAZh0ZOSkXiZC9mucOflWtJiaEkL2anr/+S9mx2bEzT8cGQDYwVwV4gNzGXH597vSrbiM7d+zMs1IUAABIsvHXzn37uQOyY3Pnw9q506/qozYUufctHRsA2cA4DuABb/z0l57rn+8p7Xvjp79sT3kAAABa88ijBT89Fj+dHwBIC3IcwAP2lPa9eeWq207mQogjIyffvHKVrgAAAEi+PaV9hl7Njp35IyMn6dUAyBLmqgAOnn3hxWdfeDHuUnQQ9osFACAi9Graj44NECPGcQAAAAAAgCwgxwEAAAAAALKAHAcAAAAAAMgCchwAAAAAACALyHEAAAAAAIAsIMcBAAAAAACygBwHAAAAAADIAnIcAAAAAAAgC8hxAAAAAACALCDHAQAAAAAAsuAh+b/rVz/X89f/R7xFAQAgdrSGAAAA6cU4DgAAAAAAkAWfK5fjLgIAAHHr64u7BAAAAClXLMZdAiG6tre34y5DE+bm5hYXF9U/L1++HGNhkARDQ0P6P/v7+wcHB+MqDNqMq49UmJqaqlar6p+0XB1Or7hKpdLExESMhUG8LJUD8dDhiAfo9HggGJrFXBUAAAAAAJAF5DgAAAAAAEAWkOMAAAAAAABZQI4DAAAAAABkATkOAAAAAACQBeQ4AAAAAABAFpDjAAAAAAAAWUCOAwAAAAAAZAE5DgAAAAAAkAXkOAAAAAAAQBaQ4wAAAAAAAFlAjgMAAAAAAGQBOQ4AAAAAAJAF5DgAAAAAAEAWkOMAAAAAAABZQI4DAAAAAABkATkOAAAAAACQBeQ4AAAAAABAFpDjAAAAAAAAWUCOAwAAAAAAZAE5DgAAAAAAkAXkOAAAAAAAQBaQ4wAAAAAAAFlAjgMAAAAAAGQBOQ4AAAAAAJAF5DgAAAAAAEAWkOMAAAAAAABZQI4DAAAAAABkATkOAAAAAACQBeQ4AAAAAABAFpDjAAAAAAAAWUCOAwAAAAAAZAE5DgAAAAAAkAXkOAAAAAAAQBaQ4wAAAAAAAFlAjgMAAAAAAGQBOQ4AAAAAAJAF5DgAAAAAAEAWPBR3AQAAyLLBwcFGoxF3KZAUExMT6utcLhdjSRA7S+VAPHQ44gE6PR4IhmaR4wAAIEKFQiHuIiBBSqVS3EVAUlA5QEc8QEc8BJGyHMfu3bvpHEBniYfdu3fHVRK0H1cfAAAAgK5re3s77jIAAAAAAAAExZqjAAAAAAAgC8hxAAAAAACALCDHAQAAAAAAsoAcBwAAAAAAyIKk7KsyOzu7vLy8sbGxvr4uhMjn8+VyeXp6ulwu+zl8YWFBHr68vCyEKBaL5XJ5ZmYmn8/7LEDwM8DTxsbGwsLC7OzsxsaGEKKvr69cLo+MjBSLxRYOz+fzIyMj/g+XZxgdHd3Y2GihAOvr6/V63c9v6evr81keSPJD16xyuez48azX6+rjrOqTkZGRgYEBn/UJECJZcZ06dUpWIMVicWxsbGBggMYlAyJqFw4fPrywsCCEYFX45IiiZZEXemxsbHp62s/rg/eC5F8xOzurd7bL5TLtYzsFvOWxazaQEIV6vT46OipbhKWlJc/XB/84W6iGg0i4bztuW1tbIyMjbsXr6+tbWloyn2F+ft7x2Hw+PzY25qcMbvHk/wwwM1/lgYGBSA8P5Qz+b0j8vin4jM831sKxZtja2jIc4qc+AULkVu3k8/n5+fm4S4egImoXWjsK0YmiZVF9V5/9THMfZmtry/NPMJxBuDSpCFfwWx67ZgMJERkbG/NfdQe8JXGkzkAkSDG3oGtra366CIYz6CHlqFwum6t+P2cI++/uOJ5X2VytBzw8+Blu375tPlzXyhvU2fy/t+ZLFrw+AUK0trZGKGab//rK/zn1sImu5PAvipZFP6efGxLPyiSfz5vP4OdP4NYoUj4Dqamr0GwgITr+awPPj3MLqS79nESCFGcLqo+eKJfLlitqGeeztrZmOdzygrGxMT2XYclcOBbA/xkIlyD00Xd9fX3q+7dv39YTmfl8/vbt2/4P334wD+p2uOUMeiD5LMC2j0SYZ7DBwP97q1hyl1tbW+b6xDJQ3F6fACGyBKSlBdFDkcYl1cJtF7a2tiyD1aMuPzxF0bJYrrJnJRCwF2RvH/WfLi0t0T62gT4UqIVbHs9z+gkkRGdgYMBn1R38psbC3nAQCVKcLahnNOiziSxxsP1g0zIzM2M/XK/THQMl+BngSc8OjIyM2F8wMzNjeEHAw0M5w/aDlZf334wI6JW4ver3vMrbXvUJECI9IO2Ni/7kLZ/Pew4yR2J5Vjv+ra2t2afNhlJIBBF6y2J/hGu+IWlDL6iFvwLN8pzI0EIgWWoM7mzjon8GzVV3KLckOseGg0iQEpHjMEwG0aPBkvX0DCY9Lep4vT2jwfMM8KS68oYq25BBaPZw+91CwAJIeg3idhJESr9G9lF8+vhPw0kM9QkQlq2tLc/Bw/p9zvT0dJtLiLCEeBEdB7GHUkgEEW7LMj8/b7/Q5u5liL0g88xrAi9Sfq5CpIGEiNy+fdt+LdxeHPzj7HZCIsEutr1j5dKvkmH1V/0Drx/iR19fn7o1lWsXu3Fb+sX/GeBoYWFBrTlvXl8nrMMtO3QELIAiFz1GjNTHf2xszL5Dgc+tDYLUJ4BPs7OzKiDdprmVy2X1o9nZ2TaVDKHSq50ge1LU6/XDhw/7rMTQTj6bCZ8ty+HDh5u90OH2gthqIS4+r4LPQKLGSBR1LTxbgeAfZx1h4C2u5Iq6S/EckeU2vkt9s1gsNnus5Qwt/Hb4sba2Nj09LTdKNL/S8U1u4XBL8jJgAew/ZQxnLFSq0W1ZNf8XiE80oua/hVUvCz7TAe2nKpOW2wVLujafz8vxINRRCRG8p2o5j2S5yoaHrqoP41kAt7OF9ScgiIgCSfaI/AQSIqKGZMqNOM2foOAfZ/sLHBsOIkF6SMRE7sW9vr7u/+lHC89Jgue3yJAFIfdd93yZ2xiZFg63vD5gARyL5POVCMv4+LgaR+P2VFx+P+r6BIgII8XSSHUPQqlMBgYGpqen3XayRyyi6KkODAz4X8U8eC9I/gk+fx0iElEgMTAnXnIkhfx6fn7eMOZCCv5xtqPhMIgtx2HeplungsZtyyW33mG9XldjveyD2y1ncIwP/2dAEAFnDeiHt9aW+y8A9Uibra+vnzp1Sn7d19fn1jX039J71idAWPzHmGffCAmkeqLB24VisTg/Px+4RAhZiD1VIUSxWJyZmYmiM2noBbXwJyB04QaSEMK+Gw7a79SpU/IOVA7NCOsT5P+mhobDQ9wDSTzo9cL8/Lz+I8+1T8io/AAAIABJREFUZz3/TP9nMEyHQRBLS0t6Pd7sjmUBD/d5Bn3p2du3bzt+jkZGRth5J3R63R3K0DtDfQKERcWY//GoyW+LYWFpF9zuYcztgttPiYp08WxZHC90KK1b8F6QvTwEXlxiDCQ0RV9ZXH3ogs/2CvhxJhIsEl2R6SvPO87D16uDvr6++fl5uQLt/Py8ZZNht19hP4P8vuUM7BYeurW1NUt60nH7XsPhlkf3TR3eVAHUL8rn8+bMOvsjhEt/Ohp8f03P+gQIhf9+hl57tKdsCEuk7QJRkSIttyz+Kwq33xuwF2Q5G+1jvOIKJLRAH0SjvhkkxxHKx5lIsIhtroofo6Oj6mvHhyQzMzP5fF4OZV9eXnYcJtTX12ffuLjZMzCbMURdXV32b/ofdxfw8BbOoCZdey7OMj4+Xq/XmSEZFn0aWsCpJfV63bM+AQCfaBcgYmpZHPswxWKx5d9O+5gEXIIUUXeLwW8Pg9/UwE1se8f6oSa7lstlt/7B9PS0nvvUyZVml5aWzHNlp6en3WJUnaGZUqNp+Xw+yIe5qcMd01jmM1hWJB0bG5Pjera2tubn5y0HqsUjEKLga2ccPnzYT30CAH5Y2oV8Pq/Ge9IudI6EtCyys9ry4Qn5KzqcXqVwCZJMXal8Ph/FchgB74mgJDTHMTo6qme2HLMY6+vru3bt6urqevzxx+V3isViX1/fyMiIzFnU6/Xx8fGurq7HHnvM8beoM+grh42NjdnP4H/fDXgaGRkZGxuTs4HkvWu9Xu/q6urq6tLT2J6HyzE4zR6+sbHRVAHW19dVWkQu2qKSYvl8fmBgYGlpaXt7W0+TjY+P+30v4E59bPP5vNsyKD6Njo7quS23rCgA+GFvF7a2tlQroNqFra0tdQjtQvbE1bI49oIOHz7ssxekk51t9Vesra3RPrafn1seJMT4+Li86+zr69va2gq+4HTAmxqYxDZLxsXW1pYlfeU2JUl/tFsul2WXQrHUEY4Lavg/g/6IBiHa2tqy7JQR8PBmJ6H5LMDS0pL5zHq0sEJtcPrgKcf1gH3yX58AYfFfHSW5LYYnz3Zhu9WVy4mKhAulZWm532IpScu9ID0HR+MYl4QEEvxQXdN8Pm9fJC74mqMBb2qIBIvEtaD+16H07B3qy3A4di/UT91uojzPgFBYFqgPcnhrNUvAAkgDAwPqJGTEAtLfzCAb1gRZ1xZojf9+RsCKC8nXWrtAVCRcKC2L/4rCUwu9IH3kEcEWl1DSTCEGEszUqA3HXW+C5ziklm9qiASLBM1VWV5e3rVrlz7NafvBfU90+rBPw3ae259F5MbGhprSYj+D26Kk5jMgLHoa+9ChQ0EOj6UAkj5/Ut/dGs06deqUegNnZmZaGwpoqU/k3QXreAFoJ9qFjElmyyKHzft//a5du9RfocYpR1Y6OJCBtGvXLvlP8y0PkmBhYUEuhF8sFvXkdehYjCMsSdlXZXZ2Vp93VC6XDZuhiAeXIzXfAg0MDMjlvtbX1zc2NtSL9TOYy+Z2BoSor69Pzgjd2Nho4U1Wh8sztHCNAhZACKEfwgIuQejvXmsNib0+YWsktJ++MRA6E+1CliS5ZdEnX5v7MLOzs2ozINnZTs5f0SGaveVBEqhLVi6XHddX0mt49YLWNjwKflMDkZwch+XTvrS0ZN5JQV17z3RXX1+fWtJ8eXlZhVrwMyBE5XI5yOc54OGhnMFytiCHdzj1tHNgYKCFHVXGx8f1XQxkfRJa4QDfPHcVRUehXUi1FLUshj6M5a/w7GwjCs3e8iAJVIPuZ0Se+pTJrTCa/V3h3pJ0rETMVbFsCr22thbip13vVbT2VC34GRCwrx/8VqENNxvcz4SutVsCvQMXen0C+Of/uT0hmlW0C5mRgZZldHTU8lek7k/IAMtmGWkMJCAVYh7HMTo6Ojs7q/45MzPjM91VLBZlusGzA6H3MvUhG8HPAE9qN6yRkRHzSDw9eaTe5ICHh3KGXbt2yQjp6+szP7SxdB0Mr4RPlvWlPbVcnwBRMDcu+k8J1HShXegoMbYs+pai/pfMcOyp6qeicYwFXZRU8+yR6nuKqxfrQzD8f5zdbknQnNhWO31wBdpmN2dVs/Qd9+9x+y36K/Uz+C+n+XfBQn0yPd9k9Q6Xy+Ugh1tCOmABth/c1st89VVFZjkDmtVa7RSkPgFCpFcahpfpWVfCNV2ibheS0EODFF3Lok5r2ATBZ2Wy/eAOHfafWv6KoEVHS2IMJLSB574q/j/OQuO/AESCRZxzVSxzApsal64CpV6v62lRi42NDfXTcrmsjwfTz2D4RYYzwJP+JuuX20BfY7KFw8MtgHgwgWo4w6lTp1TaNdL1ljNPZcGbsrCwEKQ+AUKk1wCGeFZzeovFIuGaLj7bBaE9jqNdSKl4Wxb/kWb4qb19DKVsaIq+iANdlM7k/+OMUHRtx7RflD5kq1wu6/urGThOQxBCLC0t2QfzWH7F2tqa5QXqDMVicWZmpoUzwJO+wJXj0kqzs7Pj4+Mq02QJyGYPn56etgwns5zBfhHNBbCcQY4bsrxgeXlZ33E2rs9UNhw+fFh1Bfy/k5bawOdRjABERE6dOqWWVbdPlNN/WiwW3bY/R5JZ2gX7Tcvy8vLhw4cNLYuBqtBoTeKldwJDb1nUVR4bGzP0gQP2goJ3thFcpFfBZyAhavpH1a3qDn5TY0AkWMU1gKS1ARH6GSxPReQSUPJHa2trlphwHBXm/wwMfW/Z1taW3vMrFovqnbTnlUZGRvwffvv2bc/D7WeYnp5uqgDbDw4BFUKMjY3JM2xtbc3Pz/s5A/xTF6tYLPo/yl5X+BHdXwHoNUO5XJYzGmSloQchLUtKWVoWvZMQvF2gjkqI4D1VA/V688DygL2gSP8E+JSEQELUPOeqbIdxU2NAJFjEU5FZOnmtfeC3trZ8rtbjNvnQ/xnohgZhH/jgyO3DHPDwUM7gc1QhCY7g1JvZ19fn85BQ6hMgXJaujKOZmZm4i4nWBW9Z3FBHJUHULYt6vecNiZ/KxC3SIv0T4EdyAgmR8pPj2A72cTYjEiziWY/D/456Bvl8fmZmxnMMT7FYdBth6P8MTJwLIp/Pe05Fnp6edtv3JODhoZxhaWnJ8wxjY2PmrVvQFP/PPUKpT4BwyfkL5hewqH6q+WlZaBfSKzkti2dlIhFpyZScQEIS+Pk4m29J4FNs63GEq16vLy8v6/VIsVhsqvsY/AzwY319fWFhQb7P5XK5r6+vqZVcAx4uhDh16lS9Xg9yhtnZWX1XJ3kSFqMF4GZ5eVlffHRkZETfTw4ZoC9PLmgXEJngvSAACcHHOVIZyXEAAAAAAIAOF+fesQAAAAAAAGEhxwEAAAAAALKAHAcAAAAAAMgCchwAAAAAACALyHEAAAAAAIAsIMcBAAAAAACy4KG4CwAAAHypVquO3280GhsbG25HNRqNzc1N+/ePHz+ey+VCKxwAAEACkOMAACBZNjc3p6amHBMTISLBAQAAsoe5KgAAJEt3d/fk5GTcpQAAAEgfchwAACROLpe7fPny8PBwROcvFAoRnRkAACBG5DjQERqNRtxFAICm9fb2Tk5ORjGpZP/+/aGfEwE1Gg1aq07G1c8wLi6UWq1GPESta3t7O+4yAJE7e/bs8ePH4y4FALSi0WgcPXq05cNzuZy9O3XmzJnu7u5g5ULIGo3G1NRUrVbL5XJyoI0abrN37175RalUiq18iFilUllZWZmYmIi7IAgfHdGOtbm5ubm5efPmzc3NzUajUavVmI7aBuQ40BGGhoaGh4d7e3vjLggAtGh1dfXChQv27zumMMyoD5PslVdeqdVqAU/S3d0tc1gyS7J7926V0iJLkmRnz56tVCqFQmFwcJArlRnVanVqaury5ctxFwQhk5ud3bx5Uw7N8FN1FwoFEhxtwL4qyD5Z46ysrNCnB5Bevb29hULhlVdesXy/0WgMDw87pj/c9PT0hFo0hGliYkKO5ghyEvnkUDjtN8yNVpLt3bu3UqnUarWpqanz58+z+VEGNBoNWT/XajUWQko1mciQGQ3hvpu7QS6XYzhPe5DjQPZdu3ZNCFGr1TY3NxmbDSC9CoVCoVCw3/1euHCht7d3dXXV8ajJyUk9M9LT08ONU5LlcrmJiYm5uTm3C4oM6+npUfnKEydODA8Pk5FMu3fffVcmHFmCIV02Nzer1epHH30k55i0kNGwkHU7dyLtQY4D2VepVOQXKysrg4OD8RYGAIKYnJy8cOGC/e53dXW1UChMTEzYV+6QeV7l9u3bi4uLPT099LQSK5fLDQ8Pk+PoQHr+sdFonD17tlQqDQ8P82lNqVqttri4qL5m/lHyXbhwoVqtyrRUiGSCg4E8bcN6HMg4y80AY3QBZEOtVrPPWxFCWOatWAZx2PX09Ozdu5epfMnkmM8Sn62p4XP6t461ZpNvaGjI/k1W6Eijubk5leAQQpRKJRaUTYUTJ06EnuPgBqTN/uIf/uEf4i4DEJVGo3Hx4sVPP/1Ufef555+PsTwAEJZ8Pn/jxo2PP/7Y8v0bN2709vaqW99cLvfb3/7WcJ47d+7cuHHjd7/73Z/+9Kfu7u6HH344qhKjefv27avX6/ZERi6X+/u///tLly7Jf05OTu7fv//JJ5/ct29fd3f3V77ylXw+n8/nLd30Uqn01FNPtanoaNXvfve7O3fuWL758ccf//rXv/7kk0/UDjtIvn/6p3/Su6Dd3d1PPvlkjOWBTw8//PCNGzeaOqS7u7tQKJRKpc3NTf2iS8PDw4zgaDPGcSDL7NsQkEYFkBmNRsNt1Qa1bEd3d3dTz6Pk/H8W7EgUx9EcjiuzmE1MTDAQIPkWFxfn5ubcfnr8+HFW6EgL+5AceqFpYR7KIbf3zuVye/fulZtYnThxQggxODho//D29/czU779yHEgszY3N2WNo+vp6WFBYwAZc/ToUcfV7Oy3wU3dGPf29u7du5cbqiRwS3M4rsCifqpfazYMThHP/YNzudwzzzzT39/ftiKhKY1G48SJE/ZqmTxjiljSHIaFvYVtlqg6ZHh4OKrywYi5Ksis1dVV+xrId+7ceeqppxiMnQ2Li4vvv//+v/7rvzL6Gh1u//79//mf/2mft2L/zj//8z8/+eSTn//85z/++GPPRf5rtVqlUnn//fd379795S9/OcwSo0n79u2Ts5P0b3788ceVSmViYsLe856YmNAXAmDDwnT505/+ZN7E4dNPP61WqzIq2lYq+Pcv//IvjlmqJ598kgVx0uLLX/7yr3/9a/XPWq125syZ999/3/HFjnNbJicnoyocvJDjQGZdunTJ3r8XQuzevZtJcelVq9X+7d/+7f3337948eKNGzfu3LkzODjIBUWHy+Vy+/fv91yBsre3d9++fXJ47VNPPfXJJ5/4yXR8+umnMtMhpxmT7IhLoVCwpzkajUalUrFP/67X6/oTyK9+9at/93d/145SIgz5fN7tVkq3urr6ySefFItFntwkSqVSefvttx1/9MUvfpEVVdKiu7vbch0/+eQTx0Z2cnLScZzdwYMHIywfjDolx7G4uHjjxo2uri6yp53j4sWLjt+v1+tUOqmjUhuXLl2qVqt37tyRffqenh5mOQJCiIcffnjfvn0PP/yw4fHvM888o2coZKZDZj3M65IKIT799FM5rKNer8v1LEMrOnwrFAr2e6dPP/3U0sM+c+aMWo5U+uijj37961/LFBX3w8mXy+UsKwrncjl7JksI8dvf/rZSqeTzeZKPyXH69Gm33PFXvvIVchwpYqlvHYdyTE5OTk1NWT6eciIhlW2MOmg9jmq1OjU1pX+nv79/7969zIvLKsfd1ySW/0m4zc3NarX67rvvmtdKZF4rYLe5uXn27Fn7syafE4MvXLhQqVQ8B3dI3d3dPT09+/fvZyxVO9mX0xZC5HK5iYmJV1555fz5824rdCi9vb0HDx7kqiWZZU2xnp6eSqVi2AqaFToSwn67oSsUCsxfSItKpXL27FnzaxyXuJqcnKR2jV0H5TiEbZ9qhWRH9pgrpu7u7jNnzrSzPPDDZ2pDYX1ywJHjfitNbcdQqVRu3rz5/7d3/jCNJHse77m7cdIbvF6dTOLEnsCJnZiR7MQb2IzEBZDsMhIXvE28cDMvYKS7EQgu2BeAZjV7EiRvhGGTDZ5HIBKc8AQ4OCe0BF7pphMs4dbpIOknYQfXE+CTuKBu62qrusvtf+1/308E/be6qt2/X/3q90eSX41jbm4Olg4/kZg5Li4uHFUdEVToGHK4pRpivVpcXDw+PnazQmIKPXDk9TgUqC6jANFF5TlxlF9/ktxGVVX39vb61jTglUmJVSHE43HHALlqtVoul4+Ojq6vr0OhEFxwx4CTkxPWsMo5edq2jUxdw4NlWYVC4eeffz46OqpUKh4XkGOxGOrMA+AIiVth5Z2qqq9evfJ+hVAolEgkQqGQqqokDYf8+Gq1WiqVyuVyvV6HJ7YPOObmIJlTTNNsOV4EXdfL5XIgEAgGg/CpHkI4lXVqaqpSqRiG8f79+9vbW8eJdKPRQIaOAVIoFH755Rd2Szgc5nLDff311/42CrTH1tbW0dGRxFC1vr5OcpEahsENLjE0Y34xDEyWjUNRlJOTE4nstyyrVCqR6fFf//rXaDTqZ9tAr7Bt+6effmIH+ttvvxUzHicSCX/bBX5DqVQ6Pz8npg3TND2aNgiqqr59+1ZV1f41D4BRJxQKGYZBvoTpdLqDLx6xdMzPz5MEli1nzrZtV6vVSqXy+fNnTdPwC+0r4XBYVGmazSa35Xe/+93f/u3fuo2dbduVSqVUKqVSKYzXsMHZOJ4+fXp3d6coCkkAvLKyouu6eBYydAwK0zQ/fPjAbkkmk9lslhsm2DiGFsMw9vf3W7pvEIGYyWQ4e5aiKN9++y0mF0PCZMWqEByLzMtRVTUWi0UikVgsBl/c4WdnZ0cU/GJda7gL+gYJQqnVaoZheIxDkYB64wB4x7bt/f39HtYNLZVKnz59cpxcORIOh1OpFNIE9AnTNLe2ttxsxGxgpq7r5+fnLdV35DkaHsQI61wux8Uora+vFwoFt4JKi4uL+On5Q7FYLBQK4nYxnAHK57BhWdbx8bFkbqiq6t///d//53/+p+QiuVwuk8n0oXWgQybRxmHb9sbGRscTrWQyCWPHMMOl6VIUJRgMkhUPLkMHxIw/uAn+lgSDQVVVOdWNpKrGeiMAg4WYTtq1dCSTSVQ36zmmabrloRQTbMsTIhKCweD8/Dz09YEjjizJPCoeOTc355aEJRaLocK6D3z33XecqTEWizmaFKF8Dg9erBuZTGZ+ft62bW5ywYFhHTYmLlZFUZRAIBCNRtt15aDc3d0ZhlEqlW5vb//6178GAgGEXQ0VpVKJEyqZTIa4bnJZOWZnZxGw6gPNZpMELnqEVGrIZrO///3vj46OOBfrt2/fYo4EwMAJBAKpVGp2dnZqaoq60EtoNBqGYZycnGiahuwPvUXTNLc43Ldv33JdHQwG0+k0GTJ5AMvJyUk2m8VIDRBN08rlMjtzdvuhSWo/B4NBjKMPfPz4kduyvr5OioxyKTkQqzIkkDVRNx8owvv371OpVCAQUFXVMaUjIZPJIERl2JhEPw6KWFt0cXHxv//7vw3DkL/xjqBQ0JDADStb1Ykruob0474hSTMeDAZjsdj8/LzcQE6IxWLr6+u9bh0AoDdYlqXrune/rWQyGY/Hk8kkPLO6xzFopeXSYqlUuri4aBnAgm/voJA46VDcnDhQ38EfyAo/+9Pj6olyA4QF/8EijhcHcdwQl9Mccx1gKjG0TKIfB0Vc9zBNk+TI3dvbi0QilmVx+XLdmJubQ4mHIYGzs/7DP/wD1d64b1Oj0Uin09CtfSAUComuHLlcjnhqmKZJ1jpYNjc3ufFSVfX777/HYhQAQ4uqqtFoNJ1Oa5pm23ZLAXp3d1epVIrFIpw7ukfTtHg8rus6VWySyWQqlZKfFQ6H0+l0NBqVe9tZllWpVJ48eYK1HJ+ROOkoirK3t0eS5Yu7ENfpGx8+fOBWRt++fcsOSjQaZR1toHkOCtu2j46OPnz4IDFwJJPJ169fOw4QUWW5H+P79+8huYaTibZxTE1NcWGN9MUtFou6rns3dkxyNw4bnI1jZWXFLUhVUZSnT5+izKEPBIPBh4cHzpk2Go3++OOPjsfv7e3t7OxwP7q3b98iSzwAww+xdBD3eC+WDkVRSGkPUroFP/OOIWYOOrn69ttvPUb2kQCWh4cHSfWcRqNRqVTK5XI6nYZO7yeWZbFTaLaciq7rjlEqmUzm9evXiKT2AcMwxCgVzur0zTffsDbERCKBkFv/KRQKHz58oLXGRGKxWC6Xm5+fd7uCqqqkdhjdEg6HZ2dne99W0Asm2sYRCoXEedfc3By7hTN2BINBR3GC4LohQdd11m6VTCa5Ol4cjUYDnyd/iEQiuq6ztnPTNN+/fy96cBA4++Pc3Fw2m+1vEwEAPYVYOohbR8toiGazaZqmruv1eh2Wjo7RNK1SqTQajVgs1pZmoqpqIpEgdS4li5y2bRNrVCgUwlq0PzSbTVYg0lTcuVzO0fsml8t9/fXXsEP5gG3bP/74I/d7CQaD3JZ0Os2OVDQahT+Uz5RKpY8fP0rKn5NwvJa2p0gkUiqVyHVUVd3c3MQPbWiZ6HwcBDHWUVXV7e1trtQTgUvooCAQa5jgQuyIwZU7Rqy7hkKkfiJWwltcXOSi98WBQ1AxAGNDoVDQdd1jaTNVVWnOjn43bJywbbt7A4SXCiyxWCyVSqECS7/hEgE4qjeEr7766p/+6Z/8atekI+b1y2QyLWsaJJPJHhbzBhJKpRKn83N0UCqbzDXW19dhqBpy/mbQDRg84jtq2zZXZJTC/VRUVcX0eHjgVp8cdWJxo/fah6B7uCqGiqIcHx9vb2+zW0TVTTwLADCiLC4ubm9vb25uzs3NtTyYeA3s7OwUCoUOcoFPLD3xsIjFYtvb23L7hWEY+/v78gR+oHu4oFpJb//7v/97/5sDnFFV1U1dYSfS+LH4gGEYb968kRg4gsFgLpdr18ChKIqqqisrKzBwDD8THatCub295cpxWZa1uLjI+dbOzc1x8+FvvvkGi0vDw/HxMTuOi4uLohtnsVjMZDKsrkycouEX7Q+2bXN+HM1m8/r6mkbsc8FiiqIkk0nYOAAYM0jmiEQioapqo9FoqfRXq9VSqVQul+v1OpIo+QYJYCERnZLqpMQUZdv21NQUAlj6QSgUktSt5EgkEsjE4QOFQoH7UWiaZprmV199JYbmBYNB6rxm27Yk6QPonq2traOjI4lYyeVyr1696thOgXQqIwFiVf4PR5/Mvb09ErGyt7e3tbXFLSL98z//8/T0tH9NBFKKxSIX8iCxzoriB6W8+opt2/v7+xKXmc3NzWAwuLGxwXmwd+BGCAAYUXRd//TpU0tPb8rc3FwqlcJ6mp94DGDJZrNYAeotYlgEIZPJ/M///A/nvoFav/1ma2urZY4hQjAYjMVilmWxx29ubuLD1VsMwzg+PpYMiqqqpCgs7LATAvw4/g/Hug+2bVO7hjg9+4//+I8nT55Eo1Gfmgik/Pzzz1z2fssd8XRkje0rf/jDH+R+5qZp3t7eip5TyDMKwOQQCoUSiQRJZikp8EGhzh3NZhOy2B9oBRbJJ92yLF3XUYGltzj6cSwuLi4uLj5//pwkmqXbLct6eHiAx1OfKBaL3k2xZCrBaZ6pVAq+AD3EsixxkYyFZFpMJBL4Ik0OsHH8P/F4nBMSpmmSGl2OLprNZtMwjOvr62g0CqPgYDFN07sbpyOwcfQJ27bF0vEijUZDPAZfJwAmEGLpmJ+fD4VCkjp/FNu2DcOoVCqfP3/WNA3iuN+QAJZ0Ov306VMEsPiGGFWtquq//Mu/kL/j8ThXpKxarSIOt09UKpVms+mlKrYboVAIZtmeYFkWKQrrdoCqqrOzsysrK/gKTRqwcfwGUUgYhvH9999L7LWWZZXLZUTWDZaTkxOJpuWFdDqNz1/PMQzjxx9/7GxoVFXFzwqASSYUCs3Pz2ua9vTpU252J9JoNAzDODk5CQQCsHT4gKqq8Xhc07Tb21u3uPdms1mtVk9OTur1eiKR8LmFY8bnz58rlQr9NxaLff/993RRWlVVcaXHMAyI0X4Qj8ez2ezXX3/98PCgaVqj0WhpiuUIh8Pwsukey7LevHkjX0X705/+BPeNyQT5OHi4Al3eIemUUUFtILjFqXonGAxy1T1AN5Bk+45+g3NzcyQeUkyhQkFBXwCAiG3buq7LawGyhMNhkhgCJo9+Y5rm+fl5S/UJorYbdnZ2dF1fWVlxy3VCDmC3QJj6zL/9279dXV21PAwJU7qhUCgQHzG3A0jeDUQDTTjw4+CJRqNcCVKOf/3Xf/2v//ov0UWt2WxWKpXZ2VkYC/3n+vo66AI3zY7FYo6HqaqKmKOeYNv20dHRTz/95PgjCgaDb9++Jb+RaDR6fX0t2kHC4fDr16/xOwIAcAQCgXA4PDs7OzU15dG5o1KpFIvF29vbeDyOr0r/0DTNYwDLycmJbduRSATD0S6fP3+u1+u///3v3Q6Ix+OcBmuaZiAQQFiEbxwcHLD9TxY+xSmDZVkIke4AomEWi0WJ4wyx60GfB/DjcMA0zY2NDbe9pABHoVDgSmASVFXN5XJIJz48cC4eqJ/SbzY2Ntz8BjOZzOLiIit4SJoozhqCfOMAAC8Ui8WLi4uW6X4oyWQyHo/D3bLfFIvF8/NzSf4/AlwM2oXISvnkzVGDhVT1BxI6wW4hOifJGXR+fs4mVoc62i4t3TdisVgul4P7BiDAxuGKWBeKZOVlpYubpYMcvLe3198mAg/AxuEPpmnu7++7TTb29vYkahn7W4MDJwCgA0gtj3ZNHisrK31t1YRjGMbFxYWXAJb5+XnYnnqFY8w1lB8fECcF6PaZF7IGAAAgAElEQVTuKZVKx8fHEptpLBabn5+PxWJ+tgoMP4hVcSWRSHCfqtevX3OG8Hg8nkgkDMMQzYrNZrNer0ejUXhjDhYuCxecA/vEH/7wB8cc46qqij8cDvpbU1WVTaIGAAAeIfGG2Ww2EAjYtu2l5MHd3d3JyQkpUovyE/0gGAySABZ5rVnbtiuVysPDAwJYekIikeCqBCqKglKyPlAsFtmpOFKnd8+bN2/K5bLEd2N9ff3rr7+G7wYQgY3DlUAgwE6PSQIb8TBN09LptKM3h2mauq6HQiH89gYIbBz9xjTNH3/80XFGkUwm19fXW7rI0t/a27dvMdMAAHQDsXS0TAxBaDabRFLX63VYOvoEqTX78PDQaDQkc5VqtVoqlSzLQgWW7onH4+Vymc1ZUK1WNU1DxEpf4SqYJhKJVCo1qMaMOqVSaWdnR+K+EQwGFxcXkRwAuAEbh4yHhweiIQWDwZWVFbflBZLP6fr6WhTetm2Xy2UkIh0gsHH0lWKx6FY/RVXVzc1Nj2/+7e1tIpHIZrO9biAAYBIhlU0TiYSqqvKpNYFYOohbB+bY/SAej8/OzmqaxhZA5SAmp9vb2y+++AKLQ92gqmokEimXy+zG6+trUu53UK0abwzD4Do8kUjAd6YzNjY2JKk3iHXj1atXsNkBCcjH0QLTNLe2trxn1njz5o2b0ZGWzOxd60BrkI+jT7hVfiXOmXNzc/43CQAAJJimeXFx4ZZFS2Rubi6VSkGN7geWZR0fH7dM1bG4uJjJZKA4dQynAilIQ9M3xMK9UDjbwjCM4+NjLhMii6qq5IPgZ6vA6AI/jhZomjY1NeXdfzWdTluW5VjQrlqtGoaBlWqfgR9Hz7Esa2dnx003ff/+PVZBAQBDiKZp1Lnj7u5OUn2QQKInyuVyvV7HemxvoQEs8oEwDIMs56L/O0NMzHF3dwdFqB98/PiR9TsIh8NQ+L1jmuYf//hHSWQKKfuAKsjAO7BxtKatAN1AIJBKpUKhkGEYothuNBpI++QzsHH0FhIh6WjFU1X1m2++gYEDADDMEEvH/Py8m6TmsG27Wq0SS8cXX3wBV/8eQgZC07Tb21s3v/Rms1mtVuv1eiAQQABLu0QiEV3XuZc8Go2iJ3vOzz//zP6bTqeh7XvBsqxCofDTTz+5HaCq6uzs7MrKCvy5QFsgVqVf2Lb93XffOe4Kh8O5XA7ur/6AWJUegrcaADBm6Lr+6dOnlkETFASw9Am2iLgbsVgslUrBWb0tSqXS/v4+u4UsiWPG2Fs4bTOXy+FFbYljnWMWhPmDjoGNo7/Ytr2/v89F6FG2t7dhSu83sHH0BDHQlALrBgBgbNB1fWdnx+PB4XA4lUolk0mI8h5SKBQk6QYJqqpmMpnFxUXfWjXqiIk55ubm0IE9hO1hVVW9J/KbQAqFgjwvEqllie8q6AbYOPzgu+++c5TWyM7oA7BxdI9E6YeSBAAYM2zbJs4dboZdkXA4vLKyAo28V5AhOD4+lsTnK4qSyWSy2Sws7F5wVEShEfUQVttEYlc3bNs+Pj5uaeDI5XK+NQmMK8jH4QepVOr29lYU1c1m0zCM6+vrdDo9kIZNAsjH0Q22bf/8888fP3503Lu5uYlXFwAwZgQCAeKgoWna06dPHdMPcTQajZOTk0ql8vnzZ2TF6x4yBLOzs9fX1xIzh2mapVLp+vo6EAi0lTptAhFLySqKkkgkkF+mJ3CFY1E1VsS27aOjow8fPkhC0jKZzMrKChRL0BPgx+ErlmW9efPGcVcsFsvlclgF6jnw4+gMSeqNYDCYy+VisZjPTQIAgEHRgXNHMpnM5XKIJO8J3gNYEL0vQQw7hcdBT+A6FqomS6lUKhQKkh9vLBabn5+HVgl6C2wcflMsFguFguMuVVVzuVwymfS5SeMNbBwdYBjG/v6+4+oZ8j8BACaZYrF4cXFhmqbH45PJZDweR/bB7rFtu1QqnZ+fywNYFCQ7c8e27a2tLe7tXVxcRNB0l3ChQFA1KW/evJH8YGHdAP0DNo4BYJrm/v6+m4a0t7eHCWQPgY2jXSS5oILB4Pb2ts/tAQCAYcOyLF3X3VYsRIilI5lMQr53j8cKLJg7OWKa5sbGBrdxfX0dfdUxoo82VE1FUUqlkjylTjgc3tzc9LNJYKKAjWNguM0k4c3RW2DjaAtH7YcAv2sAAGAhlo623DqQTq8nGIZxcXHRsuIv6nc6ItZYQR2QbhCr8064qknsvxLrRjAYnJ+fx28T9BXYOAaMZM18ZWUFlo7ugY3DC3LfIsTrAgBASyzLOj8/l5cMYMlkMsS5o6+tGm9ImQZd1+UBLKqqbm5uIoCFsrGxwUl8VEnrGK4zJ9bj1TCM4+NjiY8VTBvAT2DjGDyGYWxtbTnuQu6D7oGNwwviqg4BXkUAANAWpmleXFy0nHVTVFUlXnL9bth4I07aRZLJZDabRVCGoii2bb9584ZLAwm3lw4QE7RP5rKQZC5DQNoX4DOoHTt4gsHgw8NDtVoVd1WrVV3XQ6EQFh86BrVj5ViWtbW11Wg0xF3JZHJ9fT0cDvvfKgAAGFE0TYvH47Ozs4lEwjAMeSkQRVGazaZpmicnJ5ZlaZqGWp6dkc1mo9How8ODpNbv3d1duVzWNA1yLRAIiNVkr6+v4/E43sC2qFarXDd+9dVXE1VA2rKsnZ0dTtlmUVV1dnYW6jfwGfhxDBHE5dLRzRXVOjsGfhxuoJIxAAD4A8kfoet6S5MHIRgMJpNJxA50BtGmvNSanfAAFrGUrDKpbggdI2bAnRA907Is8itzO4DUcsZHDAwK2DiGDq4AFQuiJTsANg5HisXi8fGx45sGf0IAAOgTuq7v7++3ZelIpVLwO+gMed1KQiaTSaVSk7mG5FhKVoGm1A6c0h6LxdbX1wfYHn/Y39+XZ/wl1g3E2oMBgliVoSObzVqW5ehsWa1WE4kE3AjbArEqHMSrsFQqNZtNcS/x4PC/VQAAMAmEQqH5+flQKKSqasv8EbZtV6vVUqlULpcTiQQmDO0yOzsbjUbr9brE0mGa5sQGsJCIFV3XOX0gGo1OsnuLd0iUGbuFVIkeVHt8wLbto6Ojv/zlL5Jjtre30+l0IBDwrVUAiMCPY0jRdX1nZ8dxF7w52gJ+HBwSRyF4cAAAgG/ouv7p0yfvASzhcDiVSuEr3QGS2ExKMBjMZrOZTGbSbEli6VNE8XhE7LoxLonoJQQsk8nMz8/jzQHDAGwcQ43cqRXTdS/AxkHAuwQAAEOLbdvU5OHxlHA4vLKygulEu3gMYMlmsxPl2SGWV8tkMvDrlDMJVWO9mDZisdj8/PxkBnyBoQU2jmHHtu2dnR3HctNIDOkF2DgUl7xihHA4nMvlJkqTAwCAocW27f39/bYsHXDuaBdd18/Pzx01K5YJya1AcPTxnEyVyTuchjl+VqFSqXR8fCyxCcK6AYYW5OMYdgKBQDqdPjk5EbMnWJZVLpefPHkyUUWq2gX5OHRdd6vpNTc3t7KyggwvAAAwJAQCgVQqNTs7OzU1ValUWh7faDQMw7i9vf38+XMwGEQMvBdCoVA6nU4kEvK8iUTLCgQCk9Cx8Xhc7A3kgJPDKVepVGqcFHISiSN331hfX8dSKxhO4McxShSLxUKh4LgLmRTcmGQ/DolH7tzc3Pz8/KRFHQMAwChCckW3zFFKIYkPk8kkPvJesG17Y2PDSwDL2OcaEOtloJSshLHUMA3D2NrakhwwliE5YPyAH8coEY1Gr6+vHcWwYRjX19eJRGLslxraZTL9OEji619++UXcFQwGV1ZWstksXhUAABgJVFXNZrPpdFrTtJYRFoqi3N3dVSqVYrE4meVC2iUQCMzOzmqa9vDwIK/AcnJycn19nU6n/Wyen0SjUcMwGo0G3XJ3d/fw8DDetUI6htUwY7HYqL8YhmHs7++7ef4qihIMBhcXF1+9euVnqwDoDPhxjB6FQqFYLDruUlV1b2/P5/YMOWNpZZdDpJSbora3t4eVPQAAGFEsy9J1/eLiwqNbh6qqyWRyzNIE9I+Wi9iKogSDwfn5+Uwm40+TfMY0zY2NDW7j+vo6ci5wcB016kUPt7a25PbTXC43ru88GEtg4xhJTNPc39931G+IKoNJLGXSbBxyE9jKygrUFAAAGAMsy9ra2moZYUEglg4SwNLvho06lmWdn5/LC0koiqKq6vb29liqW2KNFSyhiXDx46NbNdYwjOPjY4mBQ1XVTCYz0hYcMIHAxjHCSCwdCkIof2VybBwS68boil4AAAAtMU3z4uJC1/W2TB5w7mhJqVQ6Pz9v6TIzfhqXuKo/fkVDuoRLeTai6iVJLOq4a4yteGASQD6OEUbTtGw2+/DwUK1Wxb13d3fRaHS8k2N5YULycWxsbLjVGkwmk+P61AAAABRF0TQtHo/Pzs4mEgnDMOQOCIqiNJtN0zTL5XK9Xv/iiy9QO8ONcDiczWaj0Wi5XJYcRhKgPHnyZGyyn5CiM2xFP9M0kd6FYtv2x48f2S0jqmiFw+FyuSx+MUjdPRg4wOgCG8fIE4/H3aRvuVx+eHiIRCKTnF1yEmwcuq6fnJyI21VVff369Vg+MgAAABFN04ilQ1XVRqMhN3bYtl2tVkulUrlcjkajsHS4EQwG0+k0yUjKTvtZGo1GpVIpl8vpdHoMlK5AICBWk72+vo7H43hPFEX55ZdfuIWl0dW1AoEAV6Z6e3s7lUqNwWsMJhnYOMaBYDDo5s1RrVZ1XZ+dnfW/VUPCJNg4AoGAo43jT3/6E5ZcAABg0qBuHfV6XTItp9i2TSwd9XodFTQcUVU1kUhks1lFURzVLQLpScuyQqHQqK+Ba5rGaVDNZtMwjElWKSnlcpl7DUZXvWRdOTKZzMrKCnzAwRiAfBxjhW3b3333nbg9GAxubm6OurjtDDYjlKIo45ozaWdnhy4pxGKxXC4HEQUAAICi6/qnT590XW8ZyUIIBoPr6+sQJW54qcASi8Wy2ezo5sOybXtra4tLRzLqBUR6hWEY5+fnJDQsFoutr68PukUAgP8HNo5xQ9f1/f19ToNB0a+xx7btN2/e2La9uLg4Nzc36OYAAAAYUvb3971bOsLhcCqVSiaTMHaIWJZ1fHzMBXRwjHqqTtM0t7a2uLdlc3MTXqIUknkUPxAAhgrEqowboVAom81alnV3d0c3vnr1aoBNAj4QCASmpqZs2x5pXQoAAEC/ITEXU1NTXBC+I41GwzCMk5OTQCCgadpkOoS6QQJYSOyGWwDLqCdu1DRtamqKzT0xNzeXTqcH2KRhQ1XVkR5iAMYS+HGMMyR+AU4cAAAAAHDDtm3i3OHx+FgsRpw7MLXj0HV9Z2eH/jtOCtg//uM/hsNhJGsAAIwEsHGMOZZlQRoBAAAAQI5t2yTc1fspuVwOlg4O0zTPz89JAMuf//znQTenZxQKBaThAACMCrBxAAAAAAAARfm1MsjFxQWXaVJCMplcWVnpa6tGDsuyzs/PYRQAAICBABsHAAAAAAD4DZZl7ezseLR0jJPDAgAAgFHnbwbdgPEnn8+z/9br9R9++GFQjQEAAADAsJHP52u1GrulXq8PqjEEUnX+z7+yuLjoVkoDIbEAAACGCtg4+ki9Xn/58uXy8jK78dmzZ2tra2dnZ4NqVUtqtdqTX+HaeXV19eJXOPXr5cuXZDtn0/GN5eVl0uYXL150dgXJg3cP7bfeXpawtrbm/fovXrygj0m2nJ2d0S1ra2v9aCEAAAA36vX68vIyqy1cXV09e/ZsqFSFubm5zc3N7e1t0aKRTCYH0qTRZe1XBqIyUZ1hUBK/f7pW93SvTHaMRMfuHlbFdTvG+02hRoLh5+8G3YBx5uXLl9znu1ar1ev16elpTdMG1aqWXF1d0b9nZmbYXYeHh+SJNE1jH6Ferx8eHpK/l5aWfGkmD2329PR0l1dQhAfvknq93ldBns/niWTq+NkBAAAMipcvXyrMB7xWq5FJzhCqCsFgcHt72zTNi4sLXdcty1IUJZVKDbpdo8TV1RX1511dXfW/AYeHh8RpaOA6Q291rZ7QvTLZMW46dk9gVVxH1tbWarXawcFBb+8LwKCAjaOPnJ2dTU9PX15ekn9rtdqzZ88ODg4WFhYG2zA5dFVBtFa4GTLY6JuBPN3Z2Rn9fHfcAMmDdwntn0gk0tsrK4pyeHhITe9D/moBAADgWF5ePjs7Y5OjPXv2TFGUg4ODgU9B3QiHw+FwGAk1O4P13RjIshCNihrUotTQ0hNlsmP6uljopuLWajXyCVIU5fT0tOf3BWBQIFalv7AmavLdHP5ZKPU44CbktVqNykVO8eKiiP2HtU93rBS6PXj3uPVbT+jJswMAABgIbgJ0+LUF0Bms1O7Hyod3Bnv3IWSACpVEx+4Jbiru2dkZ3QUdEowT8OPwj5Z+YkOCW6kdSSjHwCMqe2Jk6V+Nof5ZT5T2Q2yInX5tbY16l8zMzDw+PpK4Skg4AADwk4ELUOAzo6IN9o+hLelIlUn/g2j6Fy5NcOtz1rDiPUDm8fERaiQYcuDH0V9++OEHLrvP0KZZagn9/kYiEe47OPD078PcnyQJC/m7H3KLPntbF+eGjAq5IQz/BgCAsUfMceiPqkBqvY3BrJv6+QPQMQP0aGB/g35qYh3nH3HT/KFGgiEBNg7gFRrLJ3GgHZTf48CDZSTQfotEIj23cbBhvd4dm/P5PJfLnejWMzMzQ5gADAAAQG/J5/OkxtaXX365trY28IWK7nn58iVZQ/ryyy+HWSUYODAGuXF2djbATCWDKkpIzTptBceJaiT5hkCNBMMDYlXGgaurq3w+T/IwO+boJuF2JEn7wsKC3Fjr6Bfg0Rmhr5+2Wq1GkoFLnsKj/bher19dXbGtZY33Xi5C1r5Il05PT0tkA7WR96NzWE3Oow2euhfSNpMoUE3Tdnd3e95CAAAAw0O9Xn/+/Hm7VoCrq6vDw0Mi79qVZUTgkizsmqa1dfrV1VWtViPymtzdy+2ePXs2MzOzsLAw5Dk1Wy4L0VwJPZw6sj653I06GF8yuESF8Di4HtUtctlarUYO66FjRa1WI9XoNE179+6d2DBN0/xfsfNoZyQ/B1ax7FWftzXupNA1q0a+fPkSaiQYLh5B3+A6mbU+nJ6ednBBNuPx5eXl4+Pj7u4u9yGemZm5v79nzxKtHpFI5ODgoOUt2O3sZ4u7Pvuk7969k3dFZ89+enoqfnwjkYh4fRITyEIEwMLCAr0U/ShHIpHV1VXuCqRjxcZrmkb+vbm5EdWmpaUlsVu4K7t1Dns1ehePUKnv/UTSkwsLC7TBp6enmqaJDw4AAKDfiPKrG3Ep4fLy0nHOH4lE3L7/RN6Jk6KFhYXd3d2Wd3z37p04NZ2ZmfFyrqOoJbd2PF48UlGU1dVVN9E8KO7v71s+y/39/erqKqfdEY3l5uamywZQbYqoAaurq9z4ssqV/EFYAwE7vpKzRD1WxPGVUxTFy2sjR1QmWX2YKofiI9zc3Mz8ikRZWl1dJce46XsS2FY5HvDu3TtHy4umaUtLS5JvhdjnNzc34nVaNoBrLadGSgYUgIEAG8coQeU9MWRIPk9k6i73R2h5C3Y7lQpLS0vcKaz5Q3JBRVGmp6fb1TYuLy/l1nQi8um/3Feeto10iKgwUXXB7RGohcjtClxj/OwcVm6JtwYAADDh3NzciJNYRVGI16f8XC9OEI5T7vv7ey9+726meS/31TTNbbZ/cHDgeEr3M+SeIF/uur+/b7mc3sH8mXJ5eUmvI+/n6elpt4t4HFzHWbebksntlV+5ywd3RD4udK/EAMTeogPrJD1XrmZLEE8kiH3u6PFNkVupABgVYOMYJeh6yNLSEvk7Eom8e/fu5uaGGONZGUC/tpFIhKoC7IfS0eBKDQqc9kPPEoUrva8oEVlxJTqYtOT+/p7VzGZmZoi5/f7+nnVgYR/czYfl4OBAlJ3sd5xu5NpAZfnu7i7pc6IaEgHGqY+i6JV0zuNvl+86WGtil1DcHHMAAABMJqwdnMXLbJ+1FFDh+/ir35+jGKVwvht0kZnIbnaXo+BjDzg4OCDHnJ6ecsYayUysG8tOv2FNGNzj39/fs13H+lfe3Nywj9Pxgrk4W15YWCCDK7r5OL4n3AIbN7jsopSmaeL4uimZj06vnNvQt/vUojJJrnx/f++4iiY2m3V+8dK37bbw0V3N5oaMdYMi3iXsXkdVUOzz3d3d1dXV1dVVdsRXf6W37mMADArYOEYJ7issSghxGi8eQ3eJ0osVXdyHkm4Xv31uLh7s1dysy3JYYS8+iOjJItrXadtYdwxi8bm5uaHPwl6KuwKVDVRAisJPYv6XdA4rmTronMffDnf3/qsAAADGAHG2SaXY0tKSx+kxPV2c1HFTcVGXoLtmZmZE2cRKTEfdgO5teeuWT+HoE7GwsDDAWRzVJUSNhfWPYAMBCDc3N/TZO15p5xbwxSkxa8Ny9Fng1q7kt5CoheKtJa8cd267LjkSZfL+/l7UnMUr0F0SJxr2Om0171HqA8KuojmaMC4vL+kx4nKavM/ZpbJ22wzAkIN3emTgFmQcvfU4c6+jKiP5UrO34PQSL59+Vuq0q4g44iaTKJwOJ8pFtrsUdydDtywkohnFUbJKhJOXzul4WYl9/M6uAAAAYJzgFvxZGeTdW5AVao5nsSGinOT1Mmtip8GcstHWrb08i1tKkUgk4n/0Ctt4bv7P9pvbshA7uJ2ZaVijj1vQh2QE2V0Sjwa2n9ntEiWTPatldjPJrUXYl82jMsnt9RiE0o3SK+lzul2eB8TtdHmfy0OHABhpMDUaGVgDv9tnuuXyyKP0cynJt+T29RS/y+wE3i0g0wuSTzaFs0Fw92LbJs+p6fbgbBsksaluObQchRYrBbtcSmKfvZvrAAAAGAO4VfpIJNJZxk0q1BzDDQhkTYVkWHRsgNxhhE62Odnq5dZuikpLxHAMnx06JF6fHgU67R+PmUFZ2Lm6vPccW9LB4HJXkCiZjx5sHHQZz/vQe0z2zymTbheR6IGP3alkVDPk1HsSdUVSmUpOZ8N8uF3s3IHb1Y1rDADDD6ZGIwMbNOEmANhvmVvwguQTTNcHJBEu3HbRBszO4TsOGWWDJ+VfdkmIJqvKyHN0uT04K6cl0tHNAC86LrISpbO8WSzdCFQAAABjBjujk1RLaQk7GWZTeslhBXfLAFW3ZQzu1p21Xw6rNvhs45DEqNLtLbuuY7nP6iryB3e8RfeDK1Ey2Zt6f+Va4j2Lh+RINhee5ArdqGT0xM5sDbTDRcVS8lxeatwAMLr8jQJGgXq9TqvZLywsuBVMoRWzFxYW2i3uXavVaHVuLmEYLawtuSM5hRTuJlsikUjH9cwPDw9pY+T5n+ktxHvRlsgvInlw9lkkqc5bnk5v9OLFC3rBlrW7AAAAgM6o1WrPnz/P5/MdnDs9PU3FGbnO8vJyy7Py+bxHwa04iWxxe61WW15e5iRpx9RqtbW1tS+//JI20n+oNsU9PjtMXqqWEKha2O7xcpXGjS4HV6JrcRvpK9f90Hsfay/KpEedtt2+ZXXsDtTmWq3m9l4p0h7o8r4ADDl/N+gGAE+wH3q32lq1Wo0KsA6kF3sL7nQ3MVOv11krwNXVFZ3Ddwn98nqXxHIbhwTJg1PZIK9n5ib/2CuTzmGFjbyyb1u0a88CAAAwfszMzJydnbGiZ3l5eW1tbWlpiV3D98Lu7i6VWfV6PZ/P12o14jPvdgorCltKJYkE1DSNysp8Pp/P52dmZtxqxHjk7OzMUT/xU3qy4+K2kkS6RbKwxFKr1dpqP22AlxKtEjobXImuRRBfuXw+f3p62oFCK+K9oySLfB4NAe3aCyQvBndYvV5nFW9FUQ4PD1lTV1u37mbKAMAIMGhHEuAJ+gGSBG54Kd/tllzzUVoZy63WF1etlvuj47fLe41xNvRDPJLukvu7Sh7cy4N4STjqSJcZntjwS3kkDgAAgInCrXgqqTfv/TqOPgXE4sAdyYpCL7XM5Sm3bm5uvN/aDbZJLINKPcBaFtjQgI7NN23dXaL+iYhHsp3Z8nTHwfVYS87NxbWz9Cv09I6VSY9ZOVmVrN1AG0k93cffBps4wh4gyeTKqbjyeisAjAGIVRkNvHjKeTnGS9QJZ+1mw2S4K7PGY7rqwi4WtetIyV1KaWVdbrksQJB7fro9uEc8toHAFr7xuFDj5b5wMgQAAEAhtgyuhpfya7zG8vKyRwF0cHBwenrKyVDiE/Hy5UtWWHsX3AS5xhKJRMitue3k1i0DEPL5/PPnz58/f85tX1paOj097dKLoWPcpHZnmlK7rqBdxn20FeDjeC+PDYhEIuIrpyjK2dkZ98q1pCfKpMdAFXqYpmltKZMSHbterzu+7cTBmeQiZWvfym/N7YIOCcYexKqMBvQb58VNVPKNc/NMIy5wbrvo3/J8E6R29/T0NA3czefz7frHKu3Ie6qlyaWXpEMkD+4Rj/KPdM7MzIyXqOa27qvAzxAAAIATl5eXZ2dnh4eHbMYHEgUwPT19enracqpMKqeQfFKsdCZps6gZgjWaeJl+sxGpklvf3Nzk83nOIf/ly5duvg+1Wi2fz//www/cdpKBtYchoh1ApTYnstlH8+7T0T8bh6Mdoa1VGceDvZsn6CvHDSX3yrWkJ8qkRx3v8PDQy2EiEh17bW2NDWLa3d11zHPnpfHiXvbKiHcG48mgHUmAJ1qOF+sg4FZ1ReKZJvEalYTJ0FOmp6fZm7ISqAOnUO8elZK7UL9BefkSSUkwtks7aAPruMhevMvOIbAemC0znAMAAACPj4+7u7uOczDWP//+/v709NTN396tyqaXcu8U1pOCvRG5tdt92bV9MQRVfCjFx2oRbISF2zFuor+trusYx1FzhPUL6KyRjveiWxwrsN7f30teOfnQu+FRmZRrZV6uwHZOu3Efbjo2OwqSCtDyWjkSFVde4waAMQCxKiPOUTMAAAYXSURBVGMC6+rWsuqK0sojw3GXxDjNrQXNzMxQq3BnSd0pHs3wHefBlhzm5j3IIklGxbrVsBK0J50DJ0MAAADtsrS0dHl5KQnWePLkyZdffvnixQs38aRpGrsgTAUlqwPIBTdZnyd/swKR3trtvsQXkl5EcpdIJELc+H2Tj23Fm3Ar6mwj5e4Sy8vLL168WFtb61WtGRGS7JP8zVoWvLuNsF3h6GTKDcqTJ0/I0EteOW7oPbbErVUcrKtIBy8M22NK+361bloofROWlpYknU/9Rxxv7XbxljVuABgDYOMYE9pKxiF6prmJVY/fQfH7S1Woq6urdoUxezXJufJk1x5tHBJ3WUktLsfmudk4RKtTN51D6DiNNgAAgAlnd3f3/v7esQKoF4HiaONgT5TLtbW1Nfq39zqpkluLx9zc3Lx7987PyJS2Qjk4fcOjeejs7Cyfz5+dnf3www/9K3/LTvjZ0fGuabQcX+7x+1SQVfGmTJ6dnXVZQpUdjkgk0u5b56ZjezTlyH9rbiou1snAJAAbxwjgZRrsJbS13RLfShdJH1jB1q63gkdViZWjIm6BryzdW0kkd5GkR+mmc7iLy5sHAAAAiGia9u7du93dXU540Rkauz7MwQodKuBYSSc5l9vbbvpPx1uzV7u8vOyyymxntFSQPPan5DCq85B0FW020BO1Wo3aOLi7eEzZQJKn0CvQ8ZWoW15eOfEsL3hRJllNsoNeJSYnxzu2i9vdJUYTuanLi6Ox4m/5ZAB8ZdDBMqA1koA6SssBZYNFxXBBuosLCJTUVW2ZroJNSNHiCQXYi3NPzSaRdrs+vbU8bpO9DreLDXF0O12S36RlepRuKr+yyTgQSAkAAKBXsPLFLZuVm/DlzhVl38HBATth42Qfe65jUgNWsA6b7GNVLPHBWZcZxxKkbNeJesvl5SU7R+2medSxVMxUwt7CMVlYN4MrqcDKvTa9HXr2XeXaLCqTjreWdDtplaZp9MG9FzZueX22beJwcK+E/Apin7N2jXYbDMCogJd7BKAfMkl2yZZfK3ZSLQonN+EhESpUZkvsCN18Q9lPMHGsfXx8vLm5odslIp+2TTTNsEiu4KUiOrtYxOXK8tI57PKXpJEirP2l46ylAAAAgAg7a1pYWKCT4Zubm4ODA3bqJRpB2Mm8pmlUMt7c3HDL1KI+w8U1cLfm7ivJwjgoaPMikQhVWthEEgS3NKjsMezp3Dy8syzjVANcXV0lF9Q0jep1Yj1dx4twg7u7u0vG9+bmhrVBODaSqluOFgpu6NkuEl+5toae1STZcSE1SpTfapKOSU/Zh6K3fvfuHTld0zTWRtPBa+nW55w7Eu23+/t7Vp+XjJqkzx17ewh/UwB0A2wcIwD9EkkmtG7fOIp81u14C/bDLRqnqdj2YnnpwLbN3l2EFL0jf4tqFm2b3EVCIhuoXJSsGHgpRiPpnI5TqbtlpAcAAAC6xKO/PZndiad7cfh3FM3eU4T6Vi2lLby0XKJReHn2jsuoUX3j4OCAq4zT1l08RnNIOsdRj/U49G6vnISWBYNb1l6RN4mNjZK4WkuaJ7l7y0guzjbk1nKxzx37pN3GAzDk4J0edsgiAMHtmMvLy5bH0APEjx2JyBVPl0zC5eYP9qb0sA5m4+LKD/uxps3jlAa5zOCa5/jgbH9Kmr2wsOB2upfOeWQkUFudQ8+SDDcAAADQMTc3N45JSVvKtcfHR5LQVJxHLSwsePE9dDyXiLwO1kv8hIvXYPHosEn9Czi6LBJPWkUXhDi/GHoLj6pIu4PrpmRykFeuH0MvKpPEp+PR22qTmL+Wnv7IOKG0G3f86C0UXXwfIpEI9blYXV117Ft5n3PleOWPD8CI8uTRm+0ZgEFxdXVFMlGRknUtjf31et1LwlEAAAAASLi6uqrVakSkEnkqqU8vks/nSXmI6enpdkuocLdu674DpF6vLy8v1+t1kvGRFMednp5uK7sqlwizfxlGadZzErrS1umkMFytViND08NGHh4eslpcr4aeFkDp4GHr9TrNLdrB6V1ydnZ2dXVVr9dnZmY0TetVpnlSU4Z0NbHa9OSyAAwJ/wstwyr6rvslGQAAAABJRU5ErkJggg==)"
      ],
      "metadata": {
        "id": "-rqTPUeUQIJU"
      },
      "id": "-rqTPUeUQIJU"
    },
    {
      "cell_type": "markdown",
      "source": [
        "각 단계에서 디코더는 output vocabulary(즉, 프랑스어)의 각 단어에 대한 점수를 출력하고, 소프트맥스 층은 이러한 점수를 확률로 변환한다.\n",
        "\n",
        "예를 들어, 첫스텝에서 \"Je\"는 20%의 확률을, \"Tu\"는 1%의 확률을 가진다. 가장 높은 확률을 가지는 단어가 output이다. \n",
        "\n",
        "이건 분류작업과 매우 비슷해서 손실함수로 \"sparse_categorical_crossentropy로 사용할 수 있다. \n",
        "\n",
        "학습이 끄나면 내가 굳이 디코더에 입력을 해주지 않아도 된다. 대신에 그냥 이전 스텝에서의 아웃풋을 넣어주면 된다. \n",
        "\n",
        "![image.png](data:image/png;base64,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)"
      ],
      "metadata": {
        "id": "9I6a0ey-QkE3"
      },
      "id": "9I6a0ey-QkE3"
    },
    {
      "cell_type": "markdown",
      "source": [
        "이제 대충 큰그림을 알게되었다. 그래도 모델을 위한 디테일이 몇가지 있다. 이를 알아보자"
      ],
      "metadata": {
        "id": "mhEmvIttYt0s"
      },
      "id": "mhEmvIttYt0s"
    },
    {
      "cell_type": "code",
      "source": [],
      "metadata": {
        "id": "KDj_AIMxYL3k"
      },
      "id": "KDj_AIMxYL3k",
      "execution_count": null,
      "outputs": []
    }
  ],
  "metadata": {
    "accelerator": "GPU",
    "colab": {
      "collapsed_sections": [],
      "provenance": []
    },
    "kernelspec": {
      "display_name": "Python 3 (ipykernel)",
      "language": "python",
      "name": "python3"
    },
    "language_info": {
      "codemirror_mode": {
        "name": "ipython",
        "version": 3
      },
      "file_extension": ".py",
      "mimetype": "text/x-python",
      "name": "python",
      "nbconvert_exporter": "python",
      "pygments_lexer": "ipython3",
      "version": "3.9.7"
    }
  },
  "nbformat": 4,
  "nbformat_minor": 5
}