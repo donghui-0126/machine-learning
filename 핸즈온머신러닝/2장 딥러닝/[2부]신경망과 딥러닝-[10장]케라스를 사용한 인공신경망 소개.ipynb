{
 "cells": [
  {
   "cell_type": "markdown",
   "id": "40903730",
   "metadata": {},
   "source": [
    "휴학을 하고 여러 공부를 했다.\n",
    "\n",
    "나의 휴학 목표는 소프트웨어융합학과 복수전공을 내년 상반기에 시작하는 것 + 코딩공부가 향상이기 때문에 내가 관심있는 머신러닝 분야를 많이 공부했다. \n",
    "\n",
    "지금까지 한 공부로는\n",
    "1. 코드잇 머신러닝을 통한 머신러닝 공부\n",
    "2. 위에 공부에서 부족함을 느껴서 [파이썬 머신러닝 완벽가이드](https://github.com/donghui-0126/machine-learning/tree/main/%ED%8C%8C%EC%9D%B4%EC%8D%AC%20%EB%A8%B8%EC%8B%A0%EB%9F%AC%EB%8B%9D%20%EC%99%84%EB%B2%BD%20%EA%B0%80%EC%9D%B4%EB%93%9C)책을 이용한 머신러닝 공부\n",
    "3. \\[[카페 사진 감성 분석](https://github.com/donghui-0126/mini-project/tree/main/%EC%B9%B4%ED%8E%98%20%EC%82%AC%EC%A7%84%20%EA%B0%90%EC%84%B1%20%EB%B6%84%EC%84%9D)\\]프로젝트\n",
    "\n",
    "를 했다. \n",
    "\n",
    "\n",
    "이 공부를 하고 다음 공부를 무엇을 할 지 후보를 정해봤다. \n",
    "- 머신러닝을 좀더 자세하게 공부하기\n",
    "- 딥러닝에 대해서 공부하기\n",
    "- html/css/javascript(웹) 공부하기\n",
    "- django 라이브러리 공부하기\n",
    "가 후보 군에 있었는데, 나는 딥러닝을 공부해보고 싶었다.\n",
    "\n",
    "그 이유는 전에 dacon에서 진행되는 머신러닝 대회([청경채 성장 분석](https://dacon.io/competitions/official/235961/codeshare/6021?page=1&dtype=recent))를 하려고 했다.<br>\n",
    "그때 나는 내가 배운 머신러닝으로 작성할 엄두안났는데(물론 나의 머신러닝실력도 하찮지만..) 예제 코드를 보니 딥러닝 기법을 사용한 코드가 적혀있었다. \n",
    "\n",
    "그것을 보고 충격을 받아서 딥러닝도 공부하기로 결심했다. 꼭 그거 때문만은 아니고 재밌어 보여서도 있다! ㅎㅎ ~~공부n일차: 상당히 재미지다.~~\n",
    "\n",
    "딥러닝은 10장 11장 12장을 공부하고 다시 머신러닝을 공부할 생각이다. \n",
    "\n",
    "아마 머신러닝의 추가적인 공부/프로젝트/웹/django(백엔드) 공부를 병행할 것 같다. \n"
   ]
  },
  {
   "cell_type": "markdown",
   "id": "1e55aea2",
   "metadata": {},
   "source": [
    "-----"
   ]
  },
  {
   "cell_type": "markdown",
   "id": "4533e71b",
   "metadata": {},
   "source": [
    "이제 본격적인 공부를 시작할 건데, 나는 핸즈온 머신러닝 으로 공부하기로 했다.\n",
    "\n",
    "이 책이 좋다고 하던데 마침 전공책으로도 쓰여서 미리 봐두면 좋을 것 같기 때문이다. \n",
    "\n",
    "책에다 밑줄을 그으면서 공부하기 때문에, 여기는 굉장히 중요하다는 개념이나 코드들만 적힐 것이다. "
   ]
  },
  {
   "cell_type": "markdown",
   "id": "41d881af",
   "metadata": {},
   "source": [
    "-----------\n",
    "이전에 간단하게 공부했던 deep-leraning 정리본 링크이다.<br>\n",
    "https://github.com/donghui-0126/machine-learning/tree/main/deep-learning"
   ]
  },
  {
   "cell_type": "markdown",
   "id": "71964f26",
   "metadata": {},
   "source": [
    "-----"
   ]
  },
  {
   "cell_type": "markdown",
   "id": "ae6fa119",
   "metadata": {},
   "source": [
    "### 연습문제 1 \n",
    "https://playground.tensorflow.org"
   ]
  },
  {
   "cell_type": "markdown",
   "id": "b6ed581f",
   "metadata": {},
   "source": [
    "### 텐서플로우 설치하기"
   ]
  },
  {
   "cell_type": "code",
   "execution_count": 4,
   "id": "48128f8a",
   "metadata": {},
   "outputs": [
    {
     "name": "stdout",
     "output_type": "stream",
     "text": [
      "2.10.0\n",
      "2.10.0\n"
     ]
    }
   ],
   "source": [
    "import tensorflow as tf\n",
    "from tensorflow import keras\n",
    "print(tf.__version__)\n",
    "print(keras.__version__)"
   ]
  },
  {
   "cell_type": "markdown",
   "id": "0a004269",
   "metadata": {},
   "source": [
    "### 케라스를 사용해서 데이터셋 적재하기"
   ]
  },
  {
   "cell_type": "code",
   "execution_count": 2,
   "id": "f26ddbfc",
   "metadata": {},
   "outputs": [],
   "source": [
    "fashion_mnist= keras.datasets.fashion_mnist\n",
    "(X_train_full, y_train_full), (X_test, y_test) = fashion_mnist.load_data()"
   ]
  },
  {
   "cell_type": "code",
   "execution_count": 3,
   "id": "3f98e741",
   "metadata": {},
   "outputs": [
    {
     "data": {
      "text/plain": [
       "(60000, 28, 28)"
      ]
     },
     "execution_count": 3,
     "metadata": {},
     "output_type": "execute_result"
    }
   ],
   "source": [
    "X_train_full.shape\n",
    "# 784크기(1d)로 데이터가 나열된 사이킷런의 mnist데이터(matrix)와 다르게 28x28 배열로 이루어짐(tensor)."
   ]
  },
  {
   "cell_type": "code",
   "execution_count": 4,
   "id": "14bfd067",
   "metadata": {},
   "outputs": [
    {
     "data": {
      "text/plain": [
       "dtype('uint8')"
      ]
     },
     "execution_count": 4,
     "metadata": {},
     "output_type": "execute_result"
    }
   ],
   "source": [
    "X_train_full.dtype"
   ]
  },
  {
   "cell_type": "markdown",
   "id": "6f04acdb",
   "metadata": {},
   "source": [
    "### 트레인셋을 검정셋과 트레인셋으로 나누고 0~1사이의 범위로 스케일 변환\n",
    "검증셋이 없으면 트레인셋에 대한 과대적합이 일어날 수도 있기 때문에 유의해야한다."
   ]
  },
  {
   "cell_type": "code",
   "execution_count": 5,
   "id": "2057cdd5",
   "metadata": {},
   "outputs": [],
   "source": [
    "X_valid, X_train = X_train_full[:5000] / 255.0, X_train_full[5000:]/255.0\n",
    "y_valid, y_train = y_train_full[:5000], y_train_full[5000:]\n",
    "X_test = X_test/255.0"
   ]
  },
  {
   "cell_type": "markdown",
   "id": "ab827841",
   "metadata": {},
   "source": [
    "### class_names"
   ]
  },
  {
   "cell_type": "code",
   "execution_count": 6,
   "id": "0b7e473a",
   "metadata": {},
   "outputs": [],
   "source": [
    "class_names = ['T-shirt/top', \"Trouser\", \"Pullover\", \"Dress\", \"Coat\", \"Sandal\", \" Shirt\",\"Sneaker\", \"Bag\", \"Ankle boot\"]"
   ]
  },
  {
   "cell_type": "markdown",
   "id": "c860cb2b",
   "metadata": {},
   "source": [
    "### 시퀀셜 API를 사용해서 모델 만들기"
   ]
  },
  {
   "cell_type": "code",
   "execution_count": 7,
   "id": "e8a3fa06",
   "metadata": {},
   "outputs": [],
   "source": [
    "# Sequential 모델을 만든다. 이 모델을 가장 간단한 케라스의 신경망 모델이다.\n",
    "#순서대로 연결된 층을 일렬로 쌓아서 구성한다.\n",
    "model = keras.models.Sequential() \n",
    "\n",
    "# 첫번째 층을 만들고 모델에 추가함. Flatten층은 입력이미지를 1D 배열로 변환한다. \n",
    "# 즉, 입력 데이터 X를 받으면 X.reshape(-1, 28*28)을 계산한다. 이층은 모델 파라미터를 가지지 않고, 간단한 전처리만 수행한다.\n",
    "# 모델의 첫번째 층이므로 input_shape를 지정해야한다. 여기에는 배치 크기를 제외한 샘플의 크기만 써야한다. \n",
    "model.add(keras.layers.Flatten(input_shape=[28,28]))\n",
    "\n",
    "# 뉴런 300개를 가진 Dense 은닉층을 추가한다. 이 층의 활성화 함수는 ReLU가 사용된다. \n",
    "# Dense층 마다 각자 가중치행렬을 관리한다. 이 행렬에는 뉴런과 입력 사이의 모든 연결 가중치가 포함된다. \n",
    "# 또한 뉴런마다 하나씩 있는 편향도 벡터로 관리한다.\n",
    "model.add(keras.layers.Dense(300,activation='relu'))\n",
    "\n",
    "# 다음층도 뉴런 100개를 가진 활성화 함수가 ReLU인 Dense은닉층을 추가한다.\n",
    "model.add(keras.layers.Dense(100,activation='relu'))\n",
    "\n",
    "# 마지막으로 뉴런 10개를 가진 Dense층을 추가한다. 배타적인 클래스이기 때문에 soft_max함수를 사용한다.\n",
    "model.add(keras.layers.Dense(10,activation='softmax'))"
   ]
  },
  {
   "cell_type": "code",
   "execution_count": 8,
   "id": "39fbdb1d",
   "metadata": {},
   "outputs": [],
   "source": [
    "# 위와 같은 코드를 다른 방식으로 작성하는 코드이다.\n",
    "model = keras.models.Sequential([\n",
    "    keras.layers.Flatten(input_shape=[28,28]),\n",
    "    keras.layers.Dense(300, activation='relu'),\n",
    "    keras.layers.Dense(100, activation='relu'),\n",
    "    keras.layers.Dense(10, activation='softmax')\n",
    "])"
   ]
  },
  {
   "cell_type": "code",
   "execution_count": 9,
   "id": "7931bee4",
   "metadata": {},
   "outputs": [
    {
     "name": "stdout",
     "output_type": "stream",
     "text": [
      "Model: \"sequential_1\"\n",
      "_________________________________________________________________\n",
      " Layer (type)                Output Shape              Param #   \n",
      "=================================================================\n",
      " flatten_1 (Flatten)         (None, 784)               0         \n",
      "                                                                 \n",
      " dense_3 (Dense)             (None, 300)               235500    \n",
      "                                                                 \n",
      " dense_4 (Dense)             (None, 100)               30100     \n",
      "                                                                 \n",
      " dense_5 (Dense)             (None, 10)                1010      \n",
      "                                                                 \n",
      "=================================================================\n",
      "Total params: 266,610\n",
      "Trainable params: 266,610\n",
      "Non-trainable params: 0\n",
      "_________________________________________________________________\n"
     ]
    }
   ],
   "source": [
    "model.summary()\n",
    "# dense_6은 784 * 300 (가중치 개수) + 300 (편향개수) =235500 만큼의 파라미터를 가진다."
   ]
  },
  {
   "cell_type": "code",
   "execution_count": 10,
   "id": "858145a7",
   "metadata": {
    "scrolled": true
   },
   "outputs": [
    {
     "data": {
      "text/plain": [
       "[<keras.layers.reshaping.flatten.Flatten at 0x20b92aebe50>,\n",
       " <keras.layers.core.dense.Dense at 0x20b92aebfd0>,\n",
       " <keras.layers.core.dense.Dense at 0x20b92aebd60>,\n",
       " <keras.layers.core.dense.Dense at 0x20b93099b50>]"
      ]
     },
     "execution_count": 10,
     "metadata": {},
     "output_type": "execute_result"
    }
   ],
   "source": [
    "model.layers"
   ]
  },
  {
   "cell_type": "markdown",
   "id": "963283a1",
   "metadata": {},
   "source": [
    "### 각 층에 인덱스로 접근"
   ]
  },
  {
   "cell_type": "code",
   "execution_count": 11,
   "id": "faeda482",
   "metadata": {},
   "outputs": [
    {
     "data": {
      "text/plain": [
       "'dense_3'"
      ]
     },
     "execution_count": 11,
     "metadata": {},
     "output_type": "execute_result"
    }
   ],
   "source": [
    "hidden1 = model.layers[1]\n",
    "hidden1.name"
   ]
  },
  {
   "cell_type": "markdown",
   "id": "7c57c9e3",
   "metadata": {},
   "source": [
    "### 각 층의 가중치과 편향을 얻는 함수"
   ]
  },
  {
   "cell_type": "code",
   "execution_count": 12,
   "id": "dcbb2c82",
   "metadata": {},
   "outputs": [
    {
     "name": "stdout",
     "output_type": "stream",
     "text": [
      "(784, 300)\n"
     ]
    },
    {
     "data": {
      "text/plain": [
       "array([[-0.00421565, -0.00351667,  0.05101556, ..., -0.0108448 ,\n",
       "         0.01602399, -0.03167915],\n",
       "       [ 0.00324626,  0.01552586,  0.04142319, ..., -0.07091267,\n",
       "        -0.02079091, -0.00040959],\n",
       "       [ 0.02905273, -0.05547583,  0.03890333, ..., -0.04754068,\n",
       "         0.01252925,  0.03921711],\n",
       "       [-0.05560946, -0.05324187, -0.03196876, ...,  0.07071427,\n",
       "         0.04005713,  0.0312743 ],\n",
       "       [ 0.01593808, -0.02285301, -0.04381575, ...,  0.04904685,\n",
       "        -0.03033808,  0.03853341]], dtype=float32)"
      ]
     },
     "execution_count": 12,
     "metadata": {},
     "output_type": "execute_result"
    }
   ],
   "source": [
    "W, b = hidden1.get_weights()\n",
    "print(W.shape)\n",
    "W[:5]"
   ]
  },
  {
   "cell_type": "code",
   "execution_count": 13,
   "id": "be5d26f6",
   "metadata": {},
   "outputs": [
    {
     "name": "stdout",
     "output_type": "stream",
     "text": [
      "(300,)\n"
     ]
    },
    {
     "data": {
      "text/plain": [
       "array([0., 0., 0., 0., 0., 0., 0., 0., 0., 0.], dtype=float32)"
      ]
     },
     "execution_count": 13,
     "metadata": {},
     "output_type": "execute_result"
    }
   ],
   "source": [
    "print(b.shape)\n",
    "b[:10]"
   ]
  },
  {
   "cell_type": "markdown",
   "id": "ec681b84",
   "metadata": {},
   "source": [
    "### 모델 컴파일\n",
    "사용할 손실함수와 옵티마이저를 지정"
   ]
  },
  {
   "cell_type": "code",
   "execution_count": 14,
   "id": "6da2e8f5",
   "metadata": {},
   "outputs": [],
   "source": [
    "model.compile(loss=\"sparse_categorical_crossentropy\",\n",
    "             optimizer=\"sgd\",\n",
    "             metrics=[\"accuracy\"])"
   ]
  },
  {
   "cell_type": "markdown",
   "id": "37f29a39",
   "metadata": {},
   "source": [
    "위 코드에 대한 설명이 필요할 것 같다.\n",
    "\n",
    "위 코드에서 클래스가 배타적이므로 sparse_categorical_crossentropy 를 사용한다. <br>\n",
    "만약 샘플마다 클래스 별 타깃 확률을 가지고 있다면 catergorical_crossentropy 손실을 사영해야한다.<br>\n",
    "이진 분류나 다중 레이블 이진 분류를 수행한다면 출력층에 \"softmax\"대신 \"sigmoid\"를 사용하고 \"binary_crossentropy\"손실을 사용한다.\n",
    "\n",
    "옵티마이저에 \"sgd\"를 지정하면 기본 확률적 경사하강법을 사용해서 모델을 훈련한다는 의미이다. 즉, 역전파 알고리즘을 수행하는 것이다.\n",
    "\n",
    "마지막으로 분류기 이므로 훈련과 평가시에 정확도를 측정하기 위해서 \"accuracy\"로 지정한다."
   ]
  },
  {
   "cell_type": "markdown",
   "id": "517337fe",
   "metadata": {},
   "source": [
    "### 모델훈련과 평가"
   ]
  },
  {
   "cell_type": "code",
   "execution_count": 15,
   "id": "bcd2852e",
   "metadata": {},
   "outputs": [
    {
     "name": "stdout",
     "output_type": "stream",
     "text": [
      "Epoch 1/30\n",
      "1719/1719 [==============================] - 9s 5ms/step - loss: 0.7261 - accuracy: 0.7597 - val_loss: 0.5212 - val_accuracy: 0.8224\n",
      "Epoch 2/30\n",
      "1719/1719 [==============================] - 8s 5ms/step - loss: 0.4909 - accuracy: 0.8296 - val_loss: 0.5058 - val_accuracy: 0.8264\n",
      "Epoch 3/30\n",
      "1719/1719 [==============================] - 8s 5ms/step - loss: 0.4438 - accuracy: 0.8458 - val_loss: 0.4042 - val_accuracy: 0.8634\n",
      "Epoch 4/30\n",
      "1719/1719 [==============================] - 8s 5ms/step - loss: 0.4146 - accuracy: 0.8540 - val_loss: 0.4318 - val_accuracy: 0.8472\n",
      "Epoch 5/30\n",
      "1719/1719 [==============================] - 8s 4ms/step - loss: 0.3942 - accuracy: 0.8626 - val_loss: 0.3879 - val_accuracy: 0.8638\n",
      "Epoch 6/30\n",
      "1719/1719 [==============================] - 8s 5ms/step - loss: 0.3781 - accuracy: 0.8663 - val_loss: 0.3760 - val_accuracy: 0.8674\n",
      "Epoch 7/30\n",
      "1719/1719 [==============================] - 8s 4ms/step - loss: 0.3630 - accuracy: 0.8706 - val_loss: 0.3616 - val_accuracy: 0.8704\n",
      "Epoch 8/30\n",
      "1719/1719 [==============================] - 8s 5ms/step - loss: 0.3518 - accuracy: 0.8752 - val_loss: 0.3578 - val_accuracy: 0.8752\n",
      "Epoch 9/30\n",
      "1719/1719 [==============================] - 8s 4ms/step - loss: 0.3416 - accuracy: 0.8792 - val_loss: 0.3407 - val_accuracy: 0.8792\n",
      "Epoch 10/30\n",
      "1719/1719 [==============================] - 8s 5ms/step - loss: 0.3312 - accuracy: 0.8819 - val_loss: 0.3378 - val_accuracy: 0.8802\n",
      "Epoch 11/30\n",
      "1719/1719 [==============================] - 8s 4ms/step - loss: 0.3232 - accuracy: 0.8848 - val_loss: 0.3629 - val_accuracy: 0.8724\n",
      "Epoch 12/30\n",
      "1719/1719 [==============================] - 8s 5ms/step - loss: 0.3155 - accuracy: 0.8870 - val_loss: 0.3497 - val_accuracy: 0.8736\n",
      "Epoch 13/30\n",
      "1719/1719 [==============================] - 8s 5ms/step - loss: 0.3072 - accuracy: 0.8891 - val_loss: 0.3305 - val_accuracy: 0.8782\n",
      "Epoch 14/30\n",
      "1719/1719 [==============================] - 8s 5ms/step - loss: 0.2999 - accuracy: 0.8931 - val_loss: 0.3315 - val_accuracy: 0.8832\n",
      "Epoch 15/30\n",
      "1719/1719 [==============================] - 8s 5ms/step - loss: 0.2943 - accuracy: 0.8938 - val_loss: 0.3225 - val_accuracy: 0.8876\n",
      "Epoch 16/30\n",
      "1719/1719 [==============================] - 8s 5ms/step - loss: 0.2894 - accuracy: 0.8958 - val_loss: 0.3142 - val_accuracy: 0.8892\n",
      "Epoch 17/30\n",
      "1719/1719 [==============================] - 8s 5ms/step - loss: 0.2829 - accuracy: 0.8978 - val_loss: 0.3385 - val_accuracy: 0.8780\n",
      "Epoch 18/30\n",
      "1719/1719 [==============================] - 8s 5ms/step - loss: 0.2773 - accuracy: 0.8985 - val_loss: 0.3052 - val_accuracy: 0.8940\n",
      "Epoch 19/30\n",
      "1719/1719 [==============================] - 8s 5ms/step - loss: 0.2723 - accuracy: 0.9034 - val_loss: 0.3020 - val_accuracy: 0.8930\n",
      "Epoch 20/30\n",
      "1719/1719 [==============================] - 8s 5ms/step - loss: 0.2666 - accuracy: 0.9053 - val_loss: 0.3062 - val_accuracy: 0.8886\n",
      "Epoch 21/30\n",
      "1719/1719 [==============================] - 8s 5ms/step - loss: 0.2619 - accuracy: 0.9053 - val_loss: 0.3374 - val_accuracy: 0.8778\n",
      "Epoch 22/30\n",
      "1719/1719 [==============================] - 8s 5ms/step - loss: 0.2577 - accuracy: 0.9077 - val_loss: 0.3004 - val_accuracy: 0.8918\n",
      "Epoch 23/30\n",
      "1719/1719 [==============================] - 8s 5ms/step - loss: 0.2532 - accuracy: 0.9086 - val_loss: 0.3051 - val_accuracy: 0.8906\n",
      "Epoch 24/30\n",
      "1719/1719 [==============================] - 8s 5ms/step - loss: 0.2479 - accuracy: 0.9103 - val_loss: 0.3014 - val_accuracy: 0.8896\n",
      "Epoch 25/30\n",
      "1719/1719 [==============================] - 9s 5ms/step - loss: 0.2439 - accuracy: 0.9122 - val_loss: 0.3044 - val_accuracy: 0.8906\n",
      "Epoch 26/30\n",
      "1719/1719 [==============================] - 9s 5ms/step - loss: 0.2407 - accuracy: 0.9134 - val_loss: 0.2978 - val_accuracy: 0.8916\n",
      "Epoch 27/30\n",
      "1719/1719 [==============================] - 8s 5ms/step - loss: 0.2355 - accuracy: 0.9151 - val_loss: 0.2959 - val_accuracy: 0.8960\n",
      "Epoch 28/30\n",
      "1719/1719 [==============================] - 9s 5ms/step - loss: 0.2320 - accuracy: 0.9170 - val_loss: 0.3146 - val_accuracy: 0.8846\n",
      "Epoch 29/30\n",
      "1719/1719 [==============================] - 8s 5ms/step - loss: 0.2278 - accuracy: 0.9172 - val_loss: 0.3024 - val_accuracy: 0.8876\n",
      "Epoch 30/30\n",
      "1719/1719 [==============================] - 8s 5ms/step - loss: 0.2244 - accuracy: 0.9191 - val_loss: 0.2996 - val_accuracy: 0.8910\n"
     ]
    }
   ],
   "source": [
    "history = model.fit(X_train, y_train, epochs=30,\n",
    "                   validation_data = (X_valid, y_valid))"
   ]
  },
  {
   "cell_type": "markdown",
   "id": "2a9ebed1",
   "metadata": {},
   "source": [
    "<b>특정 클래스가 조금 등장하는 비대칭적 데이터의 경우에는 fit()메소드를 호출할 때 class_weight 매개변수를 지정하는 것이 좋다. 샘플별로 가중치를 부여하고 싶다면 sample_weight 매개변수를 지정하면 된다. (두값이 모두 지정되면 곱해서 사용한다.)<b>"
   ]
  },
  {
   "cell_type": "markdown",
   "id": "c5967d28",
   "metadata": {},
   "source": [
    "### 모델을 다시 fit하면 이어서 fit 된다."
   ]
  },
  {
   "cell_type": "code",
   "execution_count": 16,
   "id": "d47c3a94",
   "metadata": {},
   "outputs": [
    {
     "name": "stdout",
     "output_type": "stream",
     "text": [
      "Epoch 1/10\n",
      "1719/1719 [==============================] - 8s 5ms/step - loss: 0.2203 - accuracy: 0.9203 - val_loss: 0.3215 - val_accuracy: 0.8858\n",
      "Epoch 2/10\n",
      "1719/1719 [==============================] - 8s 5ms/step - loss: 0.2165 - accuracy: 0.9229 - val_loss: 0.2899 - val_accuracy: 0.8974\n",
      "Epoch 3/10\n",
      "1719/1719 [==============================] - 8s 5ms/step - loss: 0.2133 - accuracy: 0.9243 - val_loss: 0.2883 - val_accuracy: 0.8970\n",
      "Epoch 4/10\n",
      "1719/1719 [==============================] - 8s 5ms/step - loss: 0.2103 - accuracy: 0.9250 - val_loss: 0.2928 - val_accuracy: 0.8978\n",
      "Epoch 5/10\n",
      "1719/1719 [==============================] - 8s 5ms/step - loss: 0.2063 - accuracy: 0.9267 - val_loss: 0.2921 - val_accuracy: 0.8964\n",
      "Epoch 6/10\n",
      "1719/1719 [==============================] - 8s 5ms/step - loss: 0.2039 - accuracy: 0.9271 - val_loss: 0.2951 - val_accuracy: 0.8962\n",
      "Epoch 7/10\n",
      "1719/1719 [==============================] - 8s 4ms/step - loss: 0.2006 - accuracy: 0.9282 - val_loss: 0.2938 - val_accuracy: 0.8988\n",
      "Epoch 8/10\n",
      "1719/1719 [==============================] - 8s 5ms/step - loss: 0.1968 - accuracy: 0.9309 - val_loss: 0.2979 - val_accuracy: 0.8964\n",
      "Epoch 9/10\n",
      "1719/1719 [==============================] - 8s 5ms/step - loss: 0.1935 - accuracy: 0.9311 - val_loss: 0.3152 - val_accuracy: 0.8918\n",
      "Epoch 10/10\n",
      "1719/1719 [==============================] - 8s 5ms/step - loss: 0.1905 - accuracy: 0.9317 - val_loss: 0.2975 - val_accuracy: 0.8920\n"
     ]
    },
    {
     "data": {
      "text/plain": [
       "<keras.callbacks.History at 0x20b92d70d30>"
      ]
     },
     "execution_count": 16,
     "metadata": {},
     "output_type": "execute_result"
    }
   ],
   "source": [
    "model.fit(X_train, y_train, epochs=10,\n",
    "                   validation_data = (X_valid, y_valid))"
   ]
  },
  {
   "cell_type": "markdown",
   "id": "e97f6361",
   "metadata": {},
   "source": [
    "### fit() 메소드가 반환하는 History 객체"
   ]
  },
  {
   "cell_type": "code",
   "execution_count": 17,
   "id": "038836e8",
   "metadata": {},
   "outputs": [
    {
     "data": {
      "image/png": "[encoded data removed]",
      "text/plain": [
       "<Figure size 576x360 with 1 Axes>"
      ]
     },
     "metadata": {
      "needs_background": "light"
     },
     "output_type": "display_data"
    }
   ],
   "source": [
    "import pandas as pd\n",
    "import matplotlib.pyplot as plt\n",
    "import numpy as np\n",
    "\n",
    "pd.DataFrame(history.history).plot(figsize=(8,5))\n",
    "plt.grid(True) # 격자 생성\n",
    "plt.gca().set_ylim(0,1) # 수직축의 범위를 0~1로 지정\n",
    "plt.show()"
   ]
  },
  {
   "cell_type": "markdown",
   "id": "b01a21d9",
   "metadata": {},
   "source": [
    "모델의 성능이 너무 낮다면 일반적으로\n",
    "1. 학습률\n",
    "2. 다른 옵티마이저\n",
    "3. 층개수, 뉴런개수, 은닉층의 활성화함수\n",
    "4. 배치크기 \n",
    "순으로 하이퍼라미터를 수정한다."
   ]
  },
  {
   "cell_type": "markdown",
   "id": "96ce263c",
   "metadata": {},
   "source": [
    "### evaluate() 메소드\n",
    "테스트세트로 모델평가"
   ]
  },
  {
   "cell_type": "code",
   "execution_count": 18,
   "id": "422af5e1",
   "metadata": {},
   "outputs": [
    {
     "name": "stdout",
     "output_type": "stream",
     "text": [
      "313/313 [==============================] - 1s 3ms/step - loss: 0.3312 - accuracy: 0.8864\n"
     ]
    },
    {
     "data": {
      "text/plain": [
       "[0.3311586081981659, 0.8863999843597412]"
      ]
     },
     "execution_count": 18,
     "metadata": {},
     "output_type": "execute_result"
    }
   ],
   "source": [
    "model.evaluate(X_test, y_test)"
   ]
  },
  {
   "cell_type": "markdown",
   "id": "3c20f63d",
   "metadata": {},
   "source": [
    "~~엥... 예측 성능이 너무 낮다..~~\n",
    "\n",
    "~~이거를 검색해 봤는데 그냥 진행바에 오류가 있다고 하는데.. 맞는지 모르겠다.~~\n",
    "~~- https://stackoverflow.com/questions/44384924/model-evaluate-in-keras-do-not-cover-all-datapoints~~\n",
    "\n",
    "\n",
    "~~이거는 뉴런들이 dropout 된다는데.. 잘모르겠다~~\n",
    "~~- https://github.com/keras-team/keras/issues/6977~~\n",
    "\n",
    "다시 실행하니까 된다. 이런;"
   ]
  },
  {
   "cell_type": "markdown",
   "id": "9113c429",
   "metadata": {},
   "source": [
    "### 모델을 사용해서 예측을 만들기"
   ]
  },
  {
   "cell_type": "code",
   "execution_count": 19,
   "id": "9fcaf763",
   "metadata": {
    "scrolled": true
   },
   "outputs": [
    {
     "name": "stdout",
     "output_type": "stream",
     "text": [
      "1/1 [==============================] - 0s 172ms/step\n"
     ]
    },
    {
     "data": {
      "text/plain": [
       "array([[0., 0., 0., 0., 0., 0., 0., 0., 0., 1.],\n",
       "       [0., 0., 1., 0., 0., 0., 0., 0., 0., 0.],\n",
       "       [0., 1., 0., 0., 0., 0., 0., 0., 0., 0.]], dtype=float32)"
      ]
     },
     "execution_count": 19,
     "metadata": {},
     "output_type": "execute_result"
    }
   ],
   "source": [
    "X_new = X_test[:3]\n",
    "y_proba = model.predict(X_new)\n",
    "y_proba.round(2)"
   ]
  },
  {
   "cell_type": "markdown",
   "id": "3e387406",
   "metadata": {},
   "source": [
    "### predict_classes 메소드\n",
    "2.6.0 버전이후로 이 메소드가 없어졌다. 그냥 predict메소드에 np.argmax를 적용해서 사용하면 된다"
   ]
  },
  {
   "cell_type": "raw",
   "id": "5edfbff0",
   "metadata": {},
   "source": [
    "y_pred = model.predict_classes(y_proba)\n",
    "\n",
    "#이렇게 사용하면 됨!\n",
    "y_pred = np.argmax(y_proba,axis=-1)"
   ]
  },
  {
   "cell_type": "code",
   "execution_count": 20,
   "id": "ade67536",
   "metadata": {},
   "outputs": [
    {
     "data": {
      "text/plain": [
       "array(['Ankle boot', 'Pullover', 'Trouser'], dtype='<U11')"
      ]
     },
     "execution_count": 20,
     "metadata": {},
     "output_type": "execute_result"
    }
   ],
   "source": [
    "y_pred = np.argmax(y_proba,axis=-1)\n",
    "y_pred\n",
    "np.array(class_names)[y_pred]"
   ]
  },
  {
   "cell_type": "code",
   "execution_count": 21,
   "id": "21c73ebe",
   "metadata": {},
   "outputs": [
    {
     "data": {
      "text/plain": [
       "array([9, 2, 1], dtype=uint8)"
      ]
     },
     "execution_count": 21,
     "metadata": {},
     "output_type": "execute_result"
    }
   ],
   "source": [
    "y_new = y_test[:3]\n",
    "y_new"
   ]
  },
  {
   "cell_type": "markdown",
   "id": "024255d3",
   "metadata": {},
   "source": [
    "### 시퀀셜 API를 사용하여 회귀용 다층 퍼셉트론(MLP) 만들기\n",
    "캘리포니아 주택가격"
   ]
  },
  {
   "cell_type": "code",
   "execution_count": 22,
   "id": "7e3daf78",
   "metadata": {},
   "outputs": [],
   "source": [
    "from sklearn.datasets import fetch_california_housing\n",
    "from sklearn.model_selection import train_test_split\n",
    "from sklearn.preprocessing import StandardScaler\n",
    "\n",
    "housing = fetch_california_housing()\n",
    "\n",
    "X_train_full, X_test, y_train_full, y_test = train_test_split(housing.data, housing.target)\n",
    "X_train, X_valid, y_train, y_valid = train_test_split(X_train_full, y_train_full)\n",
    "\n",
    "scaler = StandardScaler()\n",
    "X_train = scaler.fit_transform(X_train)\n",
    "X_vaild = scaler.fit_transform(X_valid)\n",
    "X_test = scaler.fit_transform(X_test)\n",
    "\n",
    "model = keras.models.Sequential([\n",
    "    keras.layers.Dense(30, activation=\"relu\", input_shape=X_train.shape[1:]),\n",
    "    keras.layers.Dense(1)\n",
    "])\n",
    "model.compile(loss=\"mean_squared_error\", optimizer=\"sgd\")\n",
    "X_new = X_test[:3]"
   ]
  },
  {
   "cell_type": "markdown",
   "id": "7d9d94e2",
   "metadata": {},
   "source": [
    "<b>분류와 회귀의 차이점은 출력층이 활성화 함수가 없는 하나의 뉴런을 가진다는 것과 손실함수로 평균 제곱 오차를 사용한다는 것이다. <br> 이 데이터는 오차가 많기 때문에 뉴런이 적은 하나의 은닉층을 사용할 것입니다."
   ]
  },
  {
   "cell_type": "code",
   "execution_count": 23,
   "id": "3c38d980",
   "metadata": {},
   "outputs": [
    {
     "name": "stdout",
     "output_type": "stream",
     "text": [
      "Epoch 1/20\n",
      "363/363 [==============================] - 2s 4ms/step - loss: 1.1597 - val_loss: 153848.2812\n",
      "Epoch 2/20\n",
      "363/363 [==============================] - 1s 3ms/step - loss: 0.8361 - val_loss: 19253.9766\n",
      "Epoch 3/20\n",
      "363/363 [==============================] - 1s 3ms/step - loss: 0.4630 - val_loss: 72827.2031\n",
      "Epoch 4/20\n",
      "363/363 [==============================] - 1s 3ms/step - loss: 0.4421 - val_loss: 40321.3750\n",
      "Epoch 5/20\n",
      "363/363 [==============================] - 1s 3ms/step - loss: 0.4318 - val_loss: 60312.2773\n",
      "Epoch 6/20\n",
      "363/363 [==============================] - 1s 3ms/step - loss: 0.4236 - val_loss: 55164.6133\n",
      "Epoch 7/20\n",
      "363/363 [==============================] - 1s 3ms/step - loss: 0.4150 - val_loss: 74109.3438\n",
      "Epoch 8/20\n",
      "363/363 [==============================] - 1s 3ms/step - loss: 0.4088 - val_loss: 82298.5000\n",
      "Epoch 9/20\n",
      "363/363 [==============================] - 1s 3ms/step - loss: 0.4054 - val_loss: 50631.8281\n",
      "Epoch 10/20\n",
      "363/363 [==============================] - 1s 3ms/step - loss: 0.3994 - val_loss: 90424.9531\n",
      "Epoch 11/20\n",
      "363/363 [==============================] - 1s 3ms/step - loss: 0.3967 - val_loss: 114505.2031\n",
      "Epoch 12/20\n",
      "363/363 [==============================] - 1s 3ms/step - loss: 0.3913 - val_loss: 85884.6406\n",
      "Epoch 13/20\n",
      "363/363 [==============================] - 1s 3ms/step - loss: 0.4035 - val_loss: 87759.2578\n",
      "Epoch 14/20\n",
      "363/363 [==============================] - 1s 3ms/step - loss: 0.3953 - val_loss: 71347.3359\n",
      "Epoch 15/20\n",
      "363/363 [==============================] - 1s 3ms/step - loss: 0.3842 - val_loss: 77832.7734\n",
      "Epoch 16/20\n",
      "363/363 [==============================] - 1s 3ms/step - loss: 0.3802 - val_loss: 106340.4062\n",
      "Epoch 17/20\n",
      "363/363 [==============================] - 1s 3ms/step - loss: 0.3763 - val_loss: 97173.3438\n",
      "Epoch 18/20\n",
      "363/363 [==============================] - 1s 3ms/step - loss: 0.3719 - val_loss: 54409.1367\n",
      "Epoch 19/20\n",
      "363/363 [==============================] - 1s 3ms/step - loss: 0.3697 - val_loss: 62635.2422\n",
      "Epoch 20/20\n",
      "363/363 [==============================] - 1s 3ms/step - loss: 0.3672 - val_loss: 45284.5117\n",
      "1/1 [==============================] - 0s 103ms/step\n"
     ]
    }
   ],
   "source": [
    "history = model.fit(X_train, y_train, epochs=20,\n",
    "                   validation_data=(X_valid, y_valid))\n",
    "y_pred = model.predict(X_new)"
   ]
  },
  {
   "cell_type": "markdown",
   "id": "08dbe493",
   "metadata": {},
   "source": [
    "### 함수형 API를 사용해 복잡한 모델 만들기\n",
    "Sequential 모델은 쉽지만 입력과 출력이 여러 개거나 더 복잡한 네트워크 토폴로지를 갖는 신경망을 만들어야할 때가 있다.\n",
    "\n",
    "이럴때는 <b>함수형 API</b>를 사용한다. "
   ]
  },
  {
   "attachments": {
    "image.png": {
     "image/png": "[encoded data removed]"
    }
   },
   "cell_type": "markdown",
   "id": "0db4e3e2",
   "metadata": {},
   "source": [
    "- <b> 와이드&딥 신경망\n",
    "    ![image.png](attachment:image.png)"
   ]
  },
  {
   "cell_type": "code",
   "execution_count": 24,
   "id": "e325288b",
   "metadata": {},
   "outputs": [],
   "source": [
    "# Input 객체 만들기. 이 객체는 shape와 dtype을 포함해서 모델의 입력을 정의한다. 한 모델은 여러 입력을 가질수 있다.\n",
    "input_ = keras.layers.Input(shape=X_train.shape[1:])\n",
    "\n",
    "# 30개의 뉴런을 가지고 활성화함수로는 ReLU를 가진 Dense층을 만든다. 이 층은 만들어지자마자 입력과 함께 함수처럼 호출된다.\n",
    "# 케라스에 층이 연결될 방법을 알려주었을 뿐 아직 어떤 데이터도 처리하지 않았다.\n",
    "hidden1 = keras.layers.Dense(30, activation=\"relu\")(input_)\n",
    "\n",
    "# 두번째 은닉층을 만든다. 이 층은 hidden1과 연결되어있다.\n",
    "hidden2 = keras.layers.Dense(30, activation=\"relu\")(hidden1)\n",
    "\n",
    "# Concatenate 층을 만들고 또 다시 함수처럼 호출하여 두 번째 은닉층의 출려과 입력을 연결한다. \n",
    "# 아래 함수는 Concatenate 층을 만들고 주어진 입력으로 바로 호출한다.\n",
    "concat = keras.layers.Concatenate()([input_, hidden2])\n",
    "\n",
    "# 하나의 뉴런과 활성화 함수가 없는 출력층을 만들고 Concatenate 층이 만든 결과를 사용해 호출한다.\n",
    "output = keras.layers.Dense(1)(concat)\n",
    "\n",
    "# 마지막으로 사용할 입력과 출력을 지정하여 케라스 Model을 만든다.\n",
    "model_wide_deep = keras.Model(inputs=[input_], outputs=[output])"
   ]
  },
  {
   "cell_type": "markdown",
   "id": "16e68c9f",
   "metadata": {},
   "source": [
    "- <b> 일부 특성은 짧은 경로로 전달하고 다른 특성들은 깊은 경로로 전달하고 싶다면 어떻게 해야할까?"
   ]
  },
  {
   "cell_type": "code",
   "execution_count": 25,
   "id": "d0fa1b3e",
   "metadata": {},
   "outputs": [],
   "source": [
    "input_A = keras.layers.Input(shape=[5], name=\"wide input\")\n",
    "input_B = keras.layers.Input(shape=[6], name=\"deep input\")\n",
    "\n",
    "hidden1 = keras.layers.Dense(30, activation=\"relu\")(input_B)\n",
    "hidden2 = keras.layers.Dense(30, activation=\"relu\")(hidden1)\n",
    "concat = keras.layers.Concatenate()([input_A, hidden2])\n",
    "output = keras.layers.Dense(1, name=\"output\")(concat)\n",
    "model_two_input_wide_deep = keras.Model(inputs=[input_A, input_B], outputs=[output])"
   ]
  },
  {
   "cell_type": "code",
   "execution_count": 26,
   "id": "f67dedea",
   "metadata": {},
   "outputs": [
    {
     "name": "stdout",
     "output_type": "stream",
     "text": [
      "Epoch 1/20\n",
      "363/363 [==============================] - 2s 4ms/step - loss: 2.0458 - val_loss: 23159.0430\n",
      "Epoch 2/20\n",
      "363/363 [==============================] - 1s 4ms/step - loss: 0.8263 - val_loss: 170099.2656\n",
      "Epoch 3/20\n",
      "363/363 [==============================] - 1s 3ms/step - loss: 0.7071 - val_loss: 177741.2500\n",
      "Epoch 4/20\n",
      "363/363 [==============================] - 1s 4ms/step - loss: 0.6534 - val_loss: 158759.6562\n",
      "Epoch 5/20\n",
      "363/363 [==============================] - 1s 4ms/step - loss: 0.6161 - val_loss: 129512.7031\n",
      "Epoch 6/20\n",
      "363/363 [==============================] - 1s 3ms/step - loss: 0.5891 - val_loss: 102645.5859\n",
      "Epoch 7/20\n",
      "363/363 [==============================] - 1s 3ms/step - loss: 0.5692 - val_loss: 84712.2578\n",
      "Epoch 8/20\n",
      "363/363 [==============================] - 1s 3ms/step - loss: 0.5541 - val_loss: 71169.1250\n",
      "Epoch 9/20\n",
      "363/363 [==============================] - 1s 3ms/step - loss: 0.5433 - val_loss: 61333.6250\n",
      "Epoch 10/20\n",
      "363/363 [==============================] - 1s 4ms/step - loss: 0.5341 - val_loss: 51051.4102\n",
      "Epoch 11/20\n",
      "363/363 [==============================] - 1s 3ms/step - loss: 0.5264 - val_loss: 43885.4961\n",
      "Epoch 12/20\n",
      "363/363 [==============================] - 1s 3ms/step - loss: 0.5211 - val_loss: 37952.3008\n",
      "Epoch 13/20\n",
      "363/363 [==============================] - 1s 3ms/step - loss: 0.5152 - val_loss: 35440.3711\n",
      "Epoch 14/20\n",
      "363/363 [==============================] - 1s 4ms/step - loss: 0.5105 - val_loss: 33540.6484\n",
      "Epoch 15/20\n",
      "363/363 [==============================] - 1s 4ms/step - loss: 0.5063 - val_loss: 33860.8906\n",
      "Epoch 16/20\n",
      "363/363 [==============================] - 1s 3ms/step - loss: 0.5015 - val_loss: 30071.1270\n",
      "Epoch 17/20\n",
      "363/363 [==============================] - 1s 3ms/step - loss: 0.4985 - val_loss: 30564.4844\n",
      "Epoch 18/20\n",
      "363/363 [==============================] - 1s 3ms/step - loss: 0.4949 - val_loss: 26689.8301\n",
      "Epoch 19/20\n",
      "363/363 [==============================] - 1s 3ms/step - loss: 0.4920 - val_loss: 25729.8184\n",
      "Epoch 20/20\n",
      "363/363 [==============================] - 1s 2ms/step - loss: 0.4886 - val_loss: 28221.2051\n",
      "162/162 [==============================] - 0s 2ms/step - loss: 0.4559\n",
      "1/1 [==============================] - 0s 333ms/step\n"
     ]
    }
   ],
   "source": [
    "model_two_input_wide_deep.compile(loss=\"mse\", optimizer=keras.optimizers.SGD(learning_rate=1e-3))\n",
    "\n",
    "# 피처가 중복되도 괜찮다.\n",
    "X_train_A, X_train_B = X_train[:, :5], X_train[:, 2:]\n",
    "X_valid_A, X_valid_B = X_valid[:,:5], X_valid[:,2:]\n",
    "X_test_A, X_test_B = X_test[:,:5], X_test[:,2:]\n",
    "X_new_A, X_new_B = X_test_A[:3], X_test_B[:3]\n",
    "\n",
    "history = model_two_input_wide_deep.fit((X_train_A, X_train_B), y_train, epochs=20,\n",
    "                   validation_data= ((X_valid_A, X_valid_B), y_valid))\n",
    "\n",
    "mse_test = model_two_input_wide_deep.evaluate((X_test_A, X_test_B), y_test)\n",
    "y_pred = model_two_input_wide_deep.predict((X_new_A, X_new_B))"
   ]
  },
  {
   "cell_type": "code",
   "execution_count": 27,
   "id": "a842cbf5",
   "metadata": {},
   "outputs": [
    {
     "name": "stdout",
     "output_type": "stream",
     "text": [
      "Model: \"model_1\"\n",
      "__________________________________________________________________________________________________\n",
      " Layer (type)                   Output Shape         Param #     Connected to                     \n",
      "==================================================================================================\n",
      " deep input (InputLayer)        [(None, 6)]          0           []                               \n",
      "                                                                                                  \n",
      " dense_11 (Dense)               (None, 30)           210         ['deep input[0][0]']             \n",
      "                                                                                                  \n",
      " wide input (InputLayer)        [(None, 5)]          0           []                               \n",
      "                                                                                                  \n",
      " dense_12 (Dense)               (None, 30)           930         ['dense_11[0][0]']               \n",
      "                                                                                                  \n",
      " concatenate_1 (Concatenate)    (None, 35)           0           ['wide input[0][0]',             \n",
      "                                                                  'dense_12[0][0]']               \n",
      "                                                                                                  \n",
      " output (Dense)                 (None, 1)            36          ['concatenate_1[0][0]']          \n",
      "                                                                                                  \n",
      "==================================================================================================\n",
      "Total params: 1,176\n",
      "Trainable params: 1,176\n",
      "Non-trainable params: 0\n",
      "__________________________________________________________________________________________________\n"
     ]
    }
   ],
   "source": [
    "model_two_input_wide_deep.summary()"
   ]
  },
  {
   "cell_type": "markdown",
   "id": "28dc6694",
   "metadata": {},
   "source": [
    "- <b> 여러개의 출력이 필요한 경우</b>\n",
    "\n",
    "    ex) \n",
    "    1. 그림에 있는 주요 물체를 분류하고 위치를 알아야 하는 경우. (회귀작업 + 분류작업)\n",
    "    2. 동일한 데이터에서 독립적인 여러 작업을 수행할 때. (다중 작업 분류)\n",
    "    3. 규제기법을 사용하는 경우. 하위 네트워크가 나머지 네트워크에 의존하지 않고 그 자체로 유용한지를 판단할 때"
   ]
  },
  {
   "cell_type": "code",
   "execution_count": 28,
   "id": "729ab40f",
   "metadata": {},
   "outputs": [
    {
     "name": "stdout",
     "output_type": "stream",
     "text": [
      "Epoch 1/20\n",
      "363/363 [==============================] - 4s 6ms/step - loss: 0.9897 - main_output_loss: 0.8777 - aux_output_loss: 1.9980 - val_loss: 52730.6016 - val_main_output_loss: 30485.6211 - val_aux_output_loss: 252935.3125\n",
      "Epoch 2/20\n",
      "363/363 [==============================] - 1s 4ms/step - loss: 0.6853 - main_output_loss: 0.6422 - aux_output_loss: 1.0726 - val_loss: 23022.1328 - val_main_output_loss: 9170.2549 - val_aux_output_loss: 147688.9531\n",
      "Epoch 3/20\n",
      "363/363 [==============================] - 1s 4ms/step - loss: 0.5837 - main_output_loss: 0.5465 - aux_output_loss: 0.9181 - val_loss: 27494.3398 - val_main_output_loss: 20054.1270 - val_aux_output_loss: 94456.1719\n",
      "Epoch 4/20\n",
      "363/363 [==============================] - 1s 4ms/step - loss: 0.5384 - main_output_loss: 0.5087 - aux_output_loss: 0.8053 - val_loss: 23686.7637 - val_main_output_loss: 15905.2549 - val_aux_output_loss: 93720.3750\n",
      "Epoch 5/20\n",
      "363/363 [==============================] - 1s 4ms/step - loss: 0.5134 - main_output_loss: 0.4858 - aux_output_loss: 0.7615 - val_loss: 16632.1035 - val_main_output_loss: 11024.4229 - val_aux_output_loss: 67101.2422\n",
      "Epoch 6/20\n",
      "363/363 [==============================] - 1s 4ms/step - loss: 0.5049 - main_output_loss: 0.4810 - aux_output_loss: 0.7207 - val_loss: 15756.3145 - val_main_output_loss: 10467.4854 - val_aux_output_loss: 63355.7617\n",
      "Epoch 7/20\n",
      "363/363 [==============================] - 1s 4ms/step - loss: 0.4881 - main_output_loss: 0.4655 - aux_output_loss: 0.6916 - val_loss: 19588.2949 - val_main_output_loss: 15488.7764 - val_aux_output_loss: 56484.0430\n",
      "Epoch 8/20\n",
      "363/363 [==============================] - 1s 4ms/step - loss: 0.4720 - main_output_loss: 0.4504 - aux_output_loss: 0.6658 - val_loss: 12317.5771 - val_main_output_loss: 8832.5439 - val_aux_output_loss: 43682.8555\n",
      "Epoch 9/20\n",
      "363/363 [==============================] - 1s 3ms/step - loss: 0.4659 - main_output_loss: 0.4456 - aux_output_loss: 0.6493 - val_loss: 15805.2969 - val_main_output_loss: 12942.4873 - val_aux_output_loss: 41570.5703\n",
      "Epoch 10/20\n",
      "363/363 [==============================] - 1s 3ms/step - loss: 0.4603 - main_output_loss: 0.4411 - aux_output_loss: 0.6338 - val_loss: 26992.6816 - val_main_output_loss: 24485.9531 - val_aux_output_loss: 49553.2578\n",
      "Epoch 11/20\n",
      "363/363 [==============================] - 1s 4ms/step - loss: 0.4501 - main_output_loss: 0.4316 - aux_output_loss: 0.6170 - val_loss: 16321.3477 - val_main_output_loss: 13626.0508 - val_aux_output_loss: 40579.0156\n",
      "Epoch 12/20\n",
      "363/363 [==============================] - 1s 4ms/step - loss: 0.4410 - main_output_loss: 0.4224 - aux_output_loss: 0.6081 - val_loss: 17021.5996 - val_main_output_loss: 14281.3223 - val_aux_output_loss: 41684.0898\n",
      "Epoch 13/20\n",
      "363/363 [==============================] - 1s 4ms/step - loss: 0.4401 - main_output_loss: 0.4225 - aux_output_loss: 0.5984 - val_loss: 10177.6523 - val_main_output_loss: 8202.1025 - val_aux_output_loss: 27957.6035\n",
      "Epoch 14/20\n",
      "363/363 [==============================] - 1s 4ms/step - loss: 0.4303 - main_output_loss: 0.4136 - aux_output_loss: 0.5808 - val_loss: 11164.1865 - val_main_output_loss: 9658.3018 - val_aux_output_loss: 24717.1680\n",
      "Epoch 15/20\n",
      "363/363 [==============================] - 1s 4ms/step - loss: 0.4223 - main_output_loss: 0.4057 - aux_output_loss: 0.5718 - val_loss: 6461.2476 - val_main_output_loss: 4706.1230 - val_aux_output_loss: 22257.3750\n",
      "Epoch 16/20\n",
      "363/363 [==============================] - 2s 4ms/step - loss: 0.4399 - main_output_loss: 0.4226 - aux_output_loss: 0.5952 - val_loss: 8465.5381 - val_main_output_loss: 7001.2178 - val_aux_output_loss: 21644.4043\n",
      "Epoch 17/20\n",
      "363/363 [==============================] - 2s 4ms/step - loss: 0.4357 - main_output_loss: 0.4185 - aux_output_loss: 0.5903 - val_loss: 6951.1729 - val_main_output_loss: 4779.8081 - val_aux_output_loss: 26493.4609\n",
      "Epoch 18/20\n",
      "363/363 [==============================] - 1s 4ms/step - loss: 0.4217 - main_output_loss: 0.4069 - aux_output_loss: 0.5548 - val_loss: 14196.0215 - val_main_output_loss: 13819.5918 - val_aux_output_loss: 17583.8672\n",
      "Epoch 19/20\n",
      "363/363 [==============================] - 1s 4ms/step - loss: 0.4109 - main_output_loss: 0.3958 - aux_output_loss: 0.5472 - val_loss: 7080.9155 - val_main_output_loss: 6503.6650 - val_aux_output_loss: 12276.1924\n",
      "Epoch 20/20\n",
      "363/363 [==============================] - 1s 3ms/step - loss: 0.4056 - main_output_loss: 0.3909 - aux_output_loss: 0.5373 - val_loss: 9726.9980 - val_main_output_loss: 8696.7588 - val_aux_output_loss: 18999.1465\n",
      "162/162 [==============================] - 0s 2ms/step - loss: 0.3628 - main_output_loss: 0.3488 - aux_output_loss: 0.4885\n",
      "1/1 [==============================] - 0s 69ms/step\n"
     ]
    }
   ],
   "source": [
    "input_A = keras.layers.Input(shape=[5], name=\"wide input\")\n",
    "input_B = keras.layers.Input(shape=[6], name=\"deep input\")\n",
    "\n",
    "hidden1 = keras.layers.Dense(30, activation=\"relu\")(input_B)\n",
    "hidden2 = keras.layers.Dense(30, activation=\"relu\")(hidden1)\n",
    "concat = keras.layers.Concatenate()([input_A, hidden2])\n",
    "main_output = keras.layers.Dense(1, name=\"main_output\")(concat)\n",
    "aux_output = keras.layers.Dense(1, name=\"aux_output\")(hidden2)\n",
    "\n",
    "model_two_output_wide_deep = keras.Model(inputs=[input_A, input_B], outputs=[main_output, aux_output])\n",
    "\n",
    "model_two_output_wide_deep.compile(loss=[\"mse\", \"mse\"], optimizer=\"sgd\", loss_weights = [0.9, 0.1])\n",
    "\n",
    "# 피처가 중복되도 괜찮다.\n",
    "X_train_A, X_train_B = X_train[:, :5], X_train[:, 2:]\n",
    "X_valid_A, X_valid_B = X_valid[:,:5], X_valid[:,2:]\n",
    "X_test_A, X_test_B = X_test[:,:5], X_test[:,2:]\n",
    "X_new_A, X_new_B = X_test_A[:3], X_test_B[:3]\n",
    "\n",
    "history = model_two_output_wide_deep.fit((X_train_A, X_train_B), [y_train,y_train], epochs=20,\n",
    "                   validation_data= ((X_valid_A, X_valid_B), (y_valid, y_valid)))\n",
    "\n",
    "mse_test = model_two_output_wide_deep.evaluate((X_test_A, X_test_B), y_test)\n",
    "y_pred_main, y_pred_aux = model_two_output_wide_deep.predict((X_new_A, X_new_B))"
   ]
  },
  {
   "cell_type": "code",
   "execution_count": 29,
   "id": "c1cc387b",
   "metadata": {},
   "outputs": [
    {
     "name": "stdout",
     "output_type": "stream",
     "text": [
      "162/162 [==============================] - 0s 3ms/step - loss: 0.3628 - main_output_loss: 0.3488 - aux_output_loss: 0.4885\n"
     ]
    }
   ],
   "source": [
    "total_loss, main_loss ,aux_loss = model_two_output_wide_deep.evaluate([X_test_A, X_test_B], [y_test, y_test])"
   ]
  },
  {
   "cell_type": "code",
   "execution_count": 30,
   "id": "273b6871",
   "metadata": {},
   "outputs": [],
   "source": [
    "class Dynamic_WideAndDeepModel(keras.Model):\n",
    "    def __init__(self, units=30, activation=\"relu\", **kwargs):\n",
    "        super().__init__(**kwargs) # 표준 매개변수를 처리한다. ex) name\n",
    "        self.hidden1 = keras.layers.Dense(units, activation= activation)\n",
    "        self.hidden2 = keras.layers.Dense(units, activation= activation)\n",
    "        self.main_output = keras.layers.Dense(1)\n",
    "        self.aux_output = keras.layers.Dense(1)\n",
    "        \n",
    "    def call(self, inputs):\n",
    "        input_A , input_B = inputs\n",
    "        hidden1 = self.hidden1(input_B)\n",
    "        hidden2 = self.hidden2(hidden1)\n",
    "        concat = keras.layers.concatenate([input1, input2])\n",
    "        main_output = self.main_output(concat)\n",
    "        aux_output = self.aux_output(hidden2)\n",
    "        return main_output, aux_output\n",
    "    \n",
    "dynamic_wide_deep_model = Dynamic_WideAndDeepModel()"
   ]
  },
  {
   "cell_type": "markdown",
   "id": "b4b8bbeb",
   "metadata": {},
   "source": [
    "이 예제는 함수형 API와 굉장히 비슷하지만, call함수에 무수히 많은 계산들을 넣을 수도 있다. 자유자재로 변형이 가능하다는 것이다.\n",
    "\n",
    "하지만 call함수에 층간의 관계가 있으므로 모델을 저장하거나 복사할 수가 없다는 불편함이 존재한다."
   ]
  },
  {
   "cell_type": "markdown",
   "id": "28c0e04d",
   "metadata": {},
   "source": [
    "### 모델 저장과 복원\n",
    "시퀀셜 API나 함수형 API를 사용하면 모델을 저장하는 것은 다음과 같이 매수 쉽다."
   ]
  },
  {
   "cell_type": "markdown",
   "id": "20475089",
   "metadata": {},
   "source": [
    "``` python\n",
    "## 모델 저장\n",
    "model = keras.models.Sequential([...])\n",
    "model.compile([...])\n",
    "model.fit([...])\n",
    "model.save(\"my_keras_model.h5\")\n",
    "\n",
    "## 모델 불러오기\n",
    "model = keras.models.load_model(\"my_keras_model.h5\")\n",
    "```"
   ]
  },
  {
   "cell_type": "markdown",
   "id": "94cbf7ee",
   "metadata": {},
   "source": [
    "## 콜백 사용하기\n",
    "fit 메소드에서 체크포인트를 저장하는 방법"
   ]
  },
  {
   "cell_type": "raw",
   "id": "774cf933",
   "metadata": {},
   "source": [
    "# 간단한 체크포인트 저장\n",
    "\n",
    "checkpoint_cb = keras.callbacks.ModelCheckPoint(\"my_keras_model.h5\")\n",
    "history = model.fit(X_train, y_train, epochs=10, callbacks=[checkpoint_cb])"
   ]
  },
  {
   "cell_type": "raw",
   "id": "22a01cfa",
   "metadata": {},
   "source": [
    "# 최상의 모델만 저장하는 callbacks 메소드 사용법\n",
    "# 조기종료를 구현하는 것임\n",
    "checkpoint_cb = keras.callbacks.ModelCheckPoint(\"my_keras_model.h5\",\n",
    "                                               save_best_only=True)\n",
    "history = model.fit(X_train, y_train, epochs=10, callbacks=[checkpoint_cb])\n",
    "\n",
    "model = keras.model.load_model(\"my_keras_model.h5\") # 최상의 모델로 복원"
   ]
  },
  {
   "cell_type": "raw",
   "id": "55ff7c7b",
   "metadata": {},
   "source": [
    "# 조기종료를 구현하는 방법\n",
    "early_stopping_cb = keras.callbacks.EarlyStopping(patience=10,\n",
    "                                                 restore_best_weight=True)\n",
    "history = model.fit(X_train, y_train, epochs=100,\n",
    "                   validation_data=(X_valid, y_valid),\n",
    "                   callbacks=[checkpoint_cb, early_stopping_cb])"
   ]
  },
  {
   "cell_type": "markdown",
   "id": "106ad312",
   "metadata": {},
   "source": [
    "### 텐서보드를 사용해서 시각화하기"
   ]
  },
  {
   "cell_type": "code",
   "execution_count": 31,
   "id": "cb5aa8a9",
   "metadata": {},
   "outputs": [],
   "source": [
    "import os \n",
    "root_logdir = os.path.join(os.curdir, \"my_logs\")\n",
    "\n",
    "def get_run_logdir():\n",
    "    import time\n",
    "    run_id = time.strftime(\"run_%Y_%m_%d-%H_%M_%S\")\n",
    "    return os.path.join(root_logdir, run_id)\n",
    "\n",
    "run_logdir = get_run_logdir()"
   ]
  },
  {
   "cell_type": "code",
   "execution_count": 32,
   "id": "23f9ad55",
   "metadata": {},
   "outputs": [
    {
     "name": "stdout",
     "output_type": "stream",
     "text": [
      "Epoch 1/30\n",
      "363/363 [==============================] - 1s 4ms/step - loss: 0.3637 - val_loss: 53801.4961\n",
      "Epoch 2/30\n",
      "363/363 [==============================] - 1s 3ms/step - loss: 0.3629 - val_loss: 27846.7598\n",
      "Epoch 3/30\n",
      "363/363 [==============================] - 1s 3ms/step - loss: 0.3622 - val_loss: 34074.1211\n",
      "Epoch 4/30\n",
      "363/363 [==============================] - 1s 3ms/step - loss: 0.3587 - val_loss: 28352.1562\n",
      "Epoch 5/30\n",
      "363/363 [==============================] - 1s 3ms/step - loss: 0.3560 - val_loss: 40420.8750\n",
      "Epoch 6/30\n",
      "363/363 [==============================] - 1s 4ms/step - loss: 0.3562 - val_loss: 44642.9961\n",
      "Epoch 7/30\n",
      "363/363 [==============================] - 1s 4ms/step - loss: 0.3522 - val_loss: 70705.3125\n",
      "Epoch 8/30\n",
      "363/363 [==============================] - 1s 4ms/step - loss: 0.3502 - val_loss: 51822.0352\n",
      "Epoch 9/30\n",
      "363/363 [==============================] - 1s 4ms/step - loss: 0.3488 - val_loss: 27289.7949\n",
      "Epoch 10/30\n",
      "363/363 [==============================] - 1s 3ms/step - loss: 0.3565 - val_loss: 28899.6191\n",
      "Epoch 11/30\n",
      "363/363 [==============================] - 1s 3ms/step - loss: 0.3479 - val_loss: 59179.4453\n",
      "Epoch 12/30\n",
      "363/363 [==============================] - 1s 3ms/step - loss: 0.3452 - val_loss: 62973.7539\n",
      "Epoch 13/30\n",
      "363/363 [==============================] - 1s 3ms/step - loss: 0.3432 - val_loss: 44809.3203\n",
      "Epoch 14/30\n",
      "363/363 [==============================] - 1s 3ms/step - loss: 0.3415 - val_loss: 58504.3828\n",
      "Epoch 15/30\n",
      "363/363 [==============================] - 1s 3ms/step - loss: 0.3398 - val_loss: 52159.1680\n",
      "Epoch 16/30\n",
      "363/363 [==============================] - 1s 3ms/step - loss: 0.3387 - val_loss: 51194.6133\n",
      "Epoch 17/30\n",
      "363/363 [==============================] - 1s 3ms/step - loss: 0.3410 - val_loss: 42015.3672\n",
      "Epoch 18/30\n",
      "363/363 [==============================] - 1s 3ms/step - loss: 0.3382 - val_loss: 60589.4570\n",
      "Epoch 19/30\n",
      "363/363 [==============================] - 1s 3ms/step - loss: 0.3369 - val_loss: 52889.5703\n",
      "Epoch 20/30\n",
      "363/363 [==============================] - 1s 3ms/step - loss: 0.3360 - val_loss: 39743.0469\n",
      "Epoch 21/30\n",
      "363/363 [==============================] - 1s 3ms/step - loss: 0.3368 - val_loss: 44446.1836\n",
      "Epoch 22/30\n",
      "363/363 [==============================] - 1s 3ms/step - loss: 0.3340 - val_loss: 38647.7695\n",
      "Epoch 23/30\n",
      "363/363 [==============================] - 1s 3ms/step - loss: 0.3348 - val_loss: 68149.8516\n",
      "Epoch 24/30\n",
      "363/363 [==============================] - 1s 3ms/step - loss: 0.3331 - val_loss: 37388.0586\n",
      "Epoch 25/30\n",
      "363/363 [==============================] - 1s 2ms/step - loss: 0.3314 - val_loss: 33523.4414\n",
      "Epoch 26/30\n",
      "363/363 [==============================] - 1s 2ms/step - loss: 0.3321 - val_loss: 89337.3906\n",
      "Epoch 27/30\n",
      "363/363 [==============================] - 1s 3ms/step - loss: 0.3305 - val_loss: 39693.6562\n",
      "Epoch 28/30\n",
      "363/363 [==============================] - 1s 3ms/step - loss: 0.3327 - val_loss: 87049.3125\n",
      "Epoch 29/30\n",
      "363/363 [==============================] - 1s 3ms/step - loss: 0.3317 - val_loss: 32333.0742\n",
      "Epoch 30/30\n",
      "363/363 [==============================] - 1s 3ms/step - loss: 0.3298 - val_loss: 42891.7383\n"
     ]
    }
   ],
   "source": [
    "tensorboard_cb = keras.callbacks.TensorBoard(run_logdir)\n",
    "history = model.fit(X_train, y_train, epochs=30,\n",
    "                   validation_data=(X_valid, y_valid),\n",
    "                   callbacks=[tensorboard_cb])"
   ]
  },
  {
   "cell_type": "code",
   "execution_count": 33,
   "id": "e681f6a7",
   "metadata": {},
   "outputs": [
    {
     "data": {
      "text/plain": [
       "Reusing TensorBoard on port 6006 (pid 17440), started 3 days, 23:07:48 ago. (Use '!kill 17440' to kill it.)"
      ]
     },
     "metadata": {},
     "output_type": "display_data"
    },
    {
     "data": {
      "text/html": [
       "\n",
       "      <iframe id=\"tensorboard-frame-35a7223be45a6497\" width=\"100%\" height=\"800\" frameborder=\"0\">\n",
       "      </iframe>\n",
       "      <script>\n",
       "        (function() {\n",
       "          const frame = document.getElementById(\"tensorboard-frame-35a7223be45a6497\");\n",
       "          const url = new URL(\"/\", window.location);\n",
       "          const port = 6006;\n",
       "          if (port) {\n",
       "            url.port = port;\n",
       "          }\n",
       "          frame.src = url;\n",
       "        })();\n",
       "      </script>\n",
       "    "
      ],
      "text/plain": [
       "<IPython.core.display.HTML object>"
      ]
     },
     "metadata": {},
     "output_type": "display_data"
    }
   ],
   "source": [
    "# 주피터 노트북 내부에서 텐서보드 사용\n",
    "%load_ext tensorboard\n",
    "%tensorboard --logdir=./my_logs --port=6006"
   ]
  },
  {
   "cell_type": "markdown",
   "id": "331c47bf",
   "metadata": {},
   "source": [
    "### 신경망 하이퍼파라미터 튜닝하기\n",
    "그리드서치 or RandomizedSearchCV를 사용하기 위해서는 케라스 모델을 사이킷런 추정기처럼 보이도록 해야한다."
   ]
  },
  {
   "cell_type": "code",
   "execution_count": 34,
   "id": "cf694199",
   "metadata": {},
   "outputs": [
    {
     "name": "stderr",
     "output_type": "stream",
     "text": [
      "C:\\Users\\user\\AppData\\Local\\Temp/ipykernel_12716/3126652774.py:11: DeprecationWarning: KerasRegressor is deprecated, use Sci-Keras (https://github.com/adriangb/scikeras) instead. See https://www.adriangb.com/scikeras/stable/migration.html for help migrating.\n",
      "  keras_reg = keras.wrappers.scikit_learn.KerasRegressor(bulid_model)\n"
     ]
    }
   ],
   "source": [
    "def bulid_model(n_hidden=1, n_neurons=30, learning_rate=3e-3, input_shape=[8]):\n",
    "    model = keras.models.Sequential()\n",
    "    model.add(keras.layers.InputLayers(input_shape=input_shape))\n",
    "    for layer in range(n_hidden):\n",
    "        model.add(keras.layers.Dense(n_neurons, activation=\"relu\"))\n",
    "    model.add(keras.layers.Dense(1))\n",
    "    optimizer = keras.optimizers.SGD(learning_rate=learning_rate)\n",
    "    model.compile(loss=\"mse\", optimizer=optimizer)\n",
    "    return model\n",
    "\n",
    "keras_reg = keras.wrappers.scikit_learn.KerasRegressor(bulid_model)"
   ]
  },
  {
   "cell_type": "markdown",
   "id": "947cd2ac",
   "metadata": {},
   "source": [
    "위와 같은 오류가 떴다. 그래서 scikeras를 설치했다."
   ]
  },
  {
   "cell_type": "code",
   "execution_count": 35,
   "id": "e589cbb3",
   "metadata": {},
   "outputs": [],
   "source": [
    "import scikeras"
   ]
  },
  {
   "cell_type": "code",
   "execution_count": 36,
   "id": "5d65f6f3",
   "metadata": {},
   "outputs": [],
   "source": [
    "from scikeras.wrappers import KerasClassifier, KerasRegressor\n",
    "\n",
    "def bulid_model(n_hidden=1, n_neurons=30, learning_rate=3e-3, input_shape=[8]):\n",
    "    model = keras.models.Sequential()\n",
    "    model.add(keras.layers.InputLayer(input_shape=input_shape))\n",
    "    for layer in range(n_hidden):\n",
    "        model.add(keras.layers.Dense(n_neurons, activation=\"relu\"))\n",
    "    model.add(keras.layers.Dense(1))\n",
    "    optimizer = keras.optimizers.SGD(learning_rate=learning_rate)\n",
    "    model.compile(loss=\"mse\", optimizer=optimizer)\n",
    "    return model\n",
    "\n",
    "keras_reg = scikeras.wrappers.KerasRegressor(bulid_model)"
   ]
  },
  {
   "cell_type": "markdown",
   "id": "801f5abb",
   "metadata": {},
   "source": [
    "사이킷런 추정기처럼 보이게 하는 래퍼를 감싸면 사이킷런에서 사용되는 메소드를 사용할 수 있다."
   ]
  },
  {
   "cell_type": "code",
   "execution_count": 37,
   "id": "c1a68f70",
   "metadata": {
    "scrolled": true
   },
   "outputs": [
    {
     "name": "stdout",
     "output_type": "stream",
     "text": [
      "Epoch 1/50\n",
      "363/363 [==============================] - 1s 3ms/step - loss: 1.5383 - val_loss: 100063.3438\n",
      "Epoch 2/50\n",
      "363/363 [==============================] - 1s 3ms/step - loss: 0.7809 - val_loss: 113323.7109\n",
      "Epoch 3/50\n",
      "363/363 [==============================] - 1s 3ms/step - loss: 0.6223 - val_loss: 63210.6211\n",
      "Epoch 4/50\n",
      "363/363 [==============================] - 1s 3ms/step - loss: 0.5673 - val_loss: 89869.0156\n",
      "Epoch 5/50\n",
      "363/363 [==============================] - 1s 3ms/step - loss: 0.5348 - val_loss: 61910.8594\n",
      "Epoch 6/50\n",
      "363/363 [==============================] - 1s 2ms/step - loss: 0.5124 - val_loss: 44106.4922\n",
      "Epoch 7/50\n",
      "363/363 [==============================] - 1s 3ms/step - loss: 0.5005 - val_loss: 38721.6602\n",
      "Epoch 8/50\n",
      "363/363 [==============================] - 1s 3ms/step - loss: 0.4917 - val_loss: 29073.8086\n",
      "Epoch 9/50\n",
      "363/363 [==============================] - 1s 3ms/step - loss: 0.4848 - val_loss: 28429.7500\n",
      "Epoch 10/50\n",
      "363/363 [==============================] - 1s 3ms/step - loss: 0.4784 - val_loss: 24399.7676\n",
      "Epoch 11/50\n",
      "363/363 [==============================] - 1s 3ms/step - loss: 0.4728 - val_loss: 30772.4336\n",
      "Epoch 12/50\n",
      "363/363 [==============================] - 1s 3ms/step - loss: 0.4688 - val_loss: 20830.1094\n",
      "Epoch 13/50\n",
      "363/363 [==============================] - 1s 3ms/step - loss: 0.4646 - val_loss: 28682.2227\n",
      "Epoch 14/50\n",
      "363/363 [==============================] - 1s 3ms/step - loss: 0.4612 - val_loss: 23858.8535\n",
      "Epoch 15/50\n",
      "363/363 [==============================] - 1s 3ms/step - loss: 0.4574 - val_loss: 21225.7070\n",
      "Epoch 16/50\n",
      "363/363 [==============================] - 1s 3ms/step - loss: 0.4558 - val_loss: 17352.3867\n",
      "Epoch 17/50\n",
      "363/363 [==============================] - 1s 3ms/step - loss: 0.4544 - val_loss: 13942.7734\n",
      "Epoch 18/50\n",
      "363/363 [==============================] - 1s 3ms/step - loss: 0.4496 - val_loss: 16115.6895\n",
      "Epoch 19/50\n",
      "363/363 [==============================] - 1s 3ms/step - loss: 0.4468 - val_loss: 16365.9072\n",
      "Epoch 20/50\n",
      "363/363 [==============================] - 1s 3ms/step - loss: 0.4448 - val_loss: 14620.6572\n",
      "Epoch 21/50\n",
      "363/363 [==============================] - 1s 3ms/step - loss: 0.4423 - val_loss: 15221.4053\n",
      "Epoch 22/50\n",
      "363/363 [==============================] - 1s 3ms/step - loss: 0.4402 - val_loss: 17524.0215\n",
      "Epoch 23/50\n",
      "363/363 [==============================] - 1s 4ms/step - loss: 0.4383 - val_loss: 20436.1406\n",
      "Epoch 24/50\n",
      "363/363 [==============================] - 1s 3ms/step - loss: 0.4362 - val_loss: 17211.5273\n",
      "Epoch 25/50\n",
      "363/363 [==============================] - 1s 3ms/step - loss: 0.4347 - val_loss: 16623.7402\n",
      "Epoch 26/50\n",
      "363/363 [==============================] - 1s 3ms/step - loss: 0.4322 - val_loss: 16188.7119\n",
      "Epoch 27/50\n",
      "363/363 [==============================] - 1s 3ms/step - loss: 0.4312 - val_loss: 20095.2461\n",
      "Epoch 28/50\n",
      "363/363 [==============================] - 1s 3ms/step - loss: 0.4286 - val_loss: 18477.9551\n",
      "Epoch 29/50\n",
      "363/363 [==============================] - 1s 3ms/step - loss: 0.4273 - val_loss: 19401.5156\n",
      "Epoch 30/50\n",
      "363/363 [==============================] - 1s 3ms/step - loss: 0.4255 - val_loss: 22061.9883\n",
      "Epoch 31/50\n",
      "363/363 [==============================] - 1s 3ms/step - loss: 0.4234 - val_loss: 20381.5820\n",
      "Epoch 32/50\n",
      "363/363 [==============================] - 1s 3ms/step - loss: 0.4226 - val_loss: 16292.7051\n",
      "Epoch 33/50\n",
      "363/363 [==============================] - 1s 3ms/step - loss: 0.4222 - val_loss: 26374.3711\n",
      "Epoch 34/50\n",
      "363/363 [==============================] - 1s 4ms/step - loss: 0.4199 - val_loss: 22145.8359\n",
      "Epoch 35/50\n",
      "363/363 [==============================] - 1s 4ms/step - loss: 0.4194 - val_loss: 26523.0312\n",
      "Epoch 36/50\n",
      "363/363 [==============================] - 1s 3ms/step - loss: 0.4170 - val_loss: 22153.1582\n",
      "Epoch 37/50\n",
      "363/363 [==============================] - 1s 2ms/step - loss: 0.4157 - val_loss: 21012.2773\n",
      "Epoch 38/50\n",
      "363/363 [==============================] - 1s 3ms/step - loss: 0.4133 - val_loss: 22638.6680\n",
      "Epoch 39/50\n",
      "363/363 [==============================] - 1s 3ms/step - loss: 0.4218 - val_loss: 20419.2969\n",
      "Epoch 40/50\n",
      "363/363 [==============================] - 1s 3ms/step - loss: 0.4253 - val_loss: 18137.0430\n",
      "Epoch 41/50\n",
      "363/363 [==============================] - 1s 3ms/step - loss: 0.4110 - val_loss: 25617.5898\n",
      "Epoch 42/50\n",
      "363/363 [==============================] - 1s 3ms/step - loss: 0.4098 - val_loss: 24393.5430\n",
      "Epoch 43/50\n",
      "363/363 [==============================] - 1s 3ms/step - loss: 0.4065 - val_loss: 13207.9521\n",
      "Epoch 44/50\n",
      "363/363 [==============================] - 1s 3ms/step - loss: 0.4047 - val_loss: 22657.6992\n",
      "Epoch 45/50\n",
      "363/363 [==============================] - 1s 3ms/step - loss: 0.4029 - val_loss: 16383.0879\n",
      "Epoch 46/50\n",
      "363/363 [==============================] - 1s 3ms/step - loss: 0.4018 - val_loss: 19242.6172\n",
      "Epoch 47/50\n",
      "363/363 [==============================] - 1s 3ms/step - loss: 0.4013 - val_loss: 21285.4648\n",
      "Epoch 48/50\n",
      "363/363 [==============================] - 1s 3ms/step - loss: 0.4002 - val_loss: 22623.3398\n",
      "Epoch 49/50\n",
      "363/363 [==============================] - 1s 3ms/step - loss: 0.3983 - val_loss: 17931.7148\n",
      "Epoch 50/50\n",
      "363/363 [==============================] - 1s 3ms/step - loss: 0.3968 - val_loss: 18836.7363\n",
      "WARNING:tensorflow:5 out of the last 5 calls to <function Model.make_predict_function.<locals>.predict_function at 0x0000020B924A7AF0> triggered tf.function retracing. Tracing is expensive and the excessive number of tracings could be due to (1) creating @tf.function repeatedly in a loop, (2) passing tensors with different shapes, (3) passing Python objects instead of tensors. For (1), please define your @tf.function outside of the loop. For (2), @tf.function has reduce_retracing=True option that can avoid unnecessary retracing. For (3), please refer to https://www.tensorflow.org/guide/function#controlling_retracing and https://www.tensorflow.org/api_docs/python/tf/function for  more details.\n",
      "162/162 [==============================] - 0s 1ms/step\n",
      "1/1 [==============================] - 0s 23ms/step\n"
     ]
    }
   ],
   "source": [
    "keras_reg.fit(X_train, y_train, epochs=50,\n",
    "             validation_data=(X_valid, y_valid),\n",
    "             callbacks=[keras.callbacks.EarlyStopping(patience=10)])\n",
    "mse_test = keras_reg.score(X_test, y_test)\n",
    "y_pred = keras_reg.predict(X_new)"
   ]
  },
  {
   "cell_type": "code",
   "execution_count": 38,
   "id": "dd981437",
   "metadata": {},
   "outputs": [
    {
     "ename": "ValueError",
     "evalue": "Invalid parameter learning_rate for estimator KerasRegressor.\nThis issue can likely be resolved by setting this parameter in the KerasRegressor constructor:\n`KerasRegressor(learning_rate=0.007128700290480555)`\nCheck the list of available parameters with `estimator.get_params().keys()`",
     "output_type": "error",
     "traceback": [
      "\u001b[1;31m---------------------------------------------------------------------------\u001b[0m",
      "\u001b[1;31mValueError\u001b[0m                                Traceback (most recent call last)",
      "\u001b[1;32m~\\AppData\\Local\\Temp/ipykernel_12716/2901470443.py\u001b[0m in \u001b[0;36m<module>\u001b[1;34m\u001b[0m\n\u001b[0;32m     11\u001b[0m \u001b[1;33m\u001b[0m\u001b[0m\n\u001b[0;32m     12\u001b[0m \u001b[0mrnd_search_cv\u001b[0m \u001b[1;33m=\u001b[0m \u001b[0mRandomizedSearchCV\u001b[0m\u001b[1;33m(\u001b[0m\u001b[0mkeras_reg\u001b[0m\u001b[1;33m,\u001b[0m \u001b[0mparam_distribs\u001b[0m\u001b[1;33m,\u001b[0m \u001b[0mn_iter\u001b[0m\u001b[1;33m=\u001b[0m\u001b[1;36m10\u001b[0m\u001b[1;33m,\u001b[0m \u001b[0mcv\u001b[0m\u001b[1;33m=\u001b[0m\u001b[1;36m3\u001b[0m\u001b[1;33m)\u001b[0m\u001b[1;33m\u001b[0m\u001b[1;33m\u001b[0m\u001b[0m\n\u001b[1;32m---> 13\u001b[1;33m rnd_search_cv.fit(X_train, y_train, epochs=100,\n\u001b[0m\u001b[0;32m     14\u001b[0m                  \u001b[0mvalidation_data\u001b[0m\u001b[1;33m=\u001b[0m\u001b[1;33m(\u001b[0m\u001b[0mX_valid\u001b[0m\u001b[1;33m,\u001b[0m \u001b[0my_valid\u001b[0m\u001b[1;33m)\u001b[0m\u001b[1;33m,\u001b[0m\u001b[1;33m\u001b[0m\u001b[1;33m\u001b[0m\u001b[0m\n\u001b[0;32m     15\u001b[0m                  callbacks=[keras.callbacks.EarlyStopping(patience=10)])\n",
      "\u001b[1;32m~\\anaconda3\\lib\\site-packages\\sklearn\\model_selection\\_search.py\u001b[0m in \u001b[0;36mfit\u001b[1;34m(self, X, y, groups, **fit_params)\u001b[0m\n\u001b[0;32m    873\u001b[0m                 \u001b[1;32mreturn\u001b[0m \u001b[0mresults\u001b[0m\u001b[1;33m\u001b[0m\u001b[1;33m\u001b[0m\u001b[0m\n\u001b[0;32m    874\u001b[0m \u001b[1;33m\u001b[0m\u001b[0m\n\u001b[1;32m--> 875\u001b[1;33m             \u001b[0mself\u001b[0m\u001b[1;33m.\u001b[0m\u001b[0m_run_search\u001b[0m\u001b[1;33m(\u001b[0m\u001b[0mevaluate_candidates\u001b[0m\u001b[1;33m)\u001b[0m\u001b[1;33m\u001b[0m\u001b[1;33m\u001b[0m\u001b[0m\n\u001b[0m\u001b[0;32m    876\u001b[0m \u001b[1;33m\u001b[0m\u001b[0m\n\u001b[0;32m    877\u001b[0m             \u001b[1;31m# multimetric is determined here because in the case of a callable\u001b[0m\u001b[1;33m\u001b[0m\u001b[1;33m\u001b[0m\u001b[0m\n",
      "\u001b[1;32m~\\anaconda3\\lib\\site-packages\\sklearn\\model_selection\\_search.py\u001b[0m in \u001b[0;36m_run_search\u001b[1;34m(self, evaluate_candidates)\u001b[0m\n\u001b[0;32m   1751\u001b[0m     \u001b[1;32mdef\u001b[0m \u001b[0m_run_search\u001b[0m\u001b[1;33m(\u001b[0m\u001b[0mself\u001b[0m\u001b[1;33m,\u001b[0m \u001b[0mevaluate_candidates\u001b[0m\u001b[1;33m)\u001b[0m\u001b[1;33m:\u001b[0m\u001b[1;33m\u001b[0m\u001b[1;33m\u001b[0m\u001b[0m\n\u001b[0;32m   1752\u001b[0m         \u001b[1;34m\"\"\"Search n_iter candidates from param_distributions\"\"\"\u001b[0m\u001b[1;33m\u001b[0m\u001b[1;33m\u001b[0m\u001b[0m\n\u001b[1;32m-> 1753\u001b[1;33m         evaluate_candidates(\n\u001b[0m\u001b[0;32m   1754\u001b[0m             ParameterSampler(\n\u001b[0;32m   1755\u001b[0m                 \u001b[0mself\u001b[0m\u001b[1;33m.\u001b[0m\u001b[0mparam_distributions\u001b[0m\u001b[1;33m,\u001b[0m \u001b[0mself\u001b[0m\u001b[1;33m.\u001b[0m\u001b[0mn_iter\u001b[0m\u001b[1;33m,\u001b[0m \u001b[0mrandom_state\u001b[0m\u001b[1;33m=\u001b[0m\u001b[0mself\u001b[0m\u001b[1;33m.\u001b[0m\u001b[0mrandom_state\u001b[0m\u001b[1;33m\u001b[0m\u001b[1;33m\u001b[0m\u001b[0m\n",
      "\u001b[1;32m~\\anaconda3\\lib\\site-packages\\sklearn\\model_selection\\_search.py\u001b[0m in \u001b[0;36mevaluate_candidates\u001b[1;34m(candidate_params, cv, more_results)\u001b[0m\n\u001b[0;32m    820\u001b[0m                     )\n\u001b[0;32m    821\u001b[0m \u001b[1;33m\u001b[0m\u001b[0m\n\u001b[1;32m--> 822\u001b[1;33m                 out = parallel(\n\u001b[0m\u001b[0;32m    823\u001b[0m                     delayed(_fit_and_score)(\n\u001b[0;32m    824\u001b[0m                         \u001b[0mclone\u001b[0m\u001b[1;33m(\u001b[0m\u001b[0mbase_estimator\u001b[0m\u001b[1;33m)\u001b[0m\u001b[1;33m,\u001b[0m\u001b[1;33m\u001b[0m\u001b[1;33m\u001b[0m\u001b[0m\n",
      "\u001b[1;32m~\\anaconda3\\lib\\site-packages\\joblib\\parallel.py\u001b[0m in \u001b[0;36m__call__\u001b[1;34m(self, iterable)\u001b[0m\n\u001b[0;32m   1041\u001b[0m             \u001b[1;31m# remaining jobs.\u001b[0m\u001b[1;33m\u001b[0m\u001b[1;33m\u001b[0m\u001b[0m\n\u001b[0;32m   1042\u001b[0m             \u001b[0mself\u001b[0m\u001b[1;33m.\u001b[0m\u001b[0m_iterating\u001b[0m \u001b[1;33m=\u001b[0m \u001b[1;32mFalse\u001b[0m\u001b[1;33m\u001b[0m\u001b[1;33m\u001b[0m\u001b[0m\n\u001b[1;32m-> 1043\u001b[1;33m             \u001b[1;32mif\u001b[0m \u001b[0mself\u001b[0m\u001b[1;33m.\u001b[0m\u001b[0mdispatch_one_batch\u001b[0m\u001b[1;33m(\u001b[0m\u001b[0miterator\u001b[0m\u001b[1;33m)\u001b[0m\u001b[1;33m:\u001b[0m\u001b[1;33m\u001b[0m\u001b[1;33m\u001b[0m\u001b[0m\n\u001b[0m\u001b[0;32m   1044\u001b[0m                 \u001b[0mself\u001b[0m\u001b[1;33m.\u001b[0m\u001b[0m_iterating\u001b[0m \u001b[1;33m=\u001b[0m \u001b[0mself\u001b[0m\u001b[1;33m.\u001b[0m\u001b[0m_original_iterator\u001b[0m \u001b[1;32mis\u001b[0m \u001b[1;32mnot\u001b[0m \u001b[1;32mNone\u001b[0m\u001b[1;33m\u001b[0m\u001b[1;33m\u001b[0m\u001b[0m\n\u001b[0;32m   1045\u001b[0m \u001b[1;33m\u001b[0m\u001b[0m\n",
      "\u001b[1;32m~\\anaconda3\\lib\\site-packages\\joblib\\parallel.py\u001b[0m in \u001b[0;36mdispatch_one_batch\u001b[1;34m(self, iterator)\u001b[0m\n\u001b[0;32m    859\u001b[0m                 \u001b[1;32mreturn\u001b[0m \u001b[1;32mFalse\u001b[0m\u001b[1;33m\u001b[0m\u001b[1;33m\u001b[0m\u001b[0m\n\u001b[0;32m    860\u001b[0m             \u001b[1;32melse\u001b[0m\u001b[1;33m:\u001b[0m\u001b[1;33m\u001b[0m\u001b[1;33m\u001b[0m\u001b[0m\n\u001b[1;32m--> 861\u001b[1;33m                 \u001b[0mself\u001b[0m\u001b[1;33m.\u001b[0m\u001b[0m_dispatch\u001b[0m\u001b[1;33m(\u001b[0m\u001b[0mtasks\u001b[0m\u001b[1;33m)\u001b[0m\u001b[1;33m\u001b[0m\u001b[1;33m\u001b[0m\u001b[0m\n\u001b[0m\u001b[0;32m    862\u001b[0m                 \u001b[1;32mreturn\u001b[0m \u001b[1;32mTrue\u001b[0m\u001b[1;33m\u001b[0m\u001b[1;33m\u001b[0m\u001b[0m\n\u001b[0;32m    863\u001b[0m \u001b[1;33m\u001b[0m\u001b[0m\n",
      "\u001b[1;32m~\\anaconda3\\lib\\site-packages\\joblib\\parallel.py\u001b[0m in \u001b[0;36m_dispatch\u001b[1;34m(self, batch)\u001b[0m\n\u001b[0;32m    777\u001b[0m         \u001b[1;32mwith\u001b[0m \u001b[0mself\u001b[0m\u001b[1;33m.\u001b[0m\u001b[0m_lock\u001b[0m\u001b[1;33m:\u001b[0m\u001b[1;33m\u001b[0m\u001b[1;33m\u001b[0m\u001b[0m\n\u001b[0;32m    778\u001b[0m             \u001b[0mjob_idx\u001b[0m \u001b[1;33m=\u001b[0m \u001b[0mlen\u001b[0m\u001b[1;33m(\u001b[0m\u001b[0mself\u001b[0m\u001b[1;33m.\u001b[0m\u001b[0m_jobs\u001b[0m\u001b[1;33m)\u001b[0m\u001b[1;33m\u001b[0m\u001b[1;33m\u001b[0m\u001b[0m\n\u001b[1;32m--> 779\u001b[1;33m             \u001b[0mjob\u001b[0m \u001b[1;33m=\u001b[0m \u001b[0mself\u001b[0m\u001b[1;33m.\u001b[0m\u001b[0m_backend\u001b[0m\u001b[1;33m.\u001b[0m\u001b[0mapply_async\u001b[0m\u001b[1;33m(\u001b[0m\u001b[0mbatch\u001b[0m\u001b[1;33m,\u001b[0m \u001b[0mcallback\u001b[0m\u001b[1;33m=\u001b[0m\u001b[0mcb\u001b[0m\u001b[1;33m)\u001b[0m\u001b[1;33m\u001b[0m\u001b[1;33m\u001b[0m\u001b[0m\n\u001b[0m\u001b[0;32m    780\u001b[0m             \u001b[1;31m# A job can complete so quickly than its callback is\u001b[0m\u001b[1;33m\u001b[0m\u001b[1;33m\u001b[0m\u001b[0m\n\u001b[0;32m    781\u001b[0m             \u001b[1;31m# called before we get here, causing self._jobs to\u001b[0m\u001b[1;33m\u001b[0m\u001b[1;33m\u001b[0m\u001b[0m\n",
      "\u001b[1;32m~\\anaconda3\\lib\\site-packages\\joblib\\_parallel_backends.py\u001b[0m in \u001b[0;36mapply_async\u001b[1;34m(self, func, callback)\u001b[0m\n\u001b[0;32m    206\u001b[0m     \u001b[1;32mdef\u001b[0m \u001b[0mapply_async\u001b[0m\u001b[1;33m(\u001b[0m\u001b[0mself\u001b[0m\u001b[1;33m,\u001b[0m \u001b[0mfunc\u001b[0m\u001b[1;33m,\u001b[0m \u001b[0mcallback\u001b[0m\u001b[1;33m=\u001b[0m\u001b[1;32mNone\u001b[0m\u001b[1;33m)\u001b[0m\u001b[1;33m:\u001b[0m\u001b[1;33m\u001b[0m\u001b[1;33m\u001b[0m\u001b[0m\n\u001b[0;32m    207\u001b[0m         \u001b[1;34m\"\"\"Schedule a func to be run\"\"\"\u001b[0m\u001b[1;33m\u001b[0m\u001b[1;33m\u001b[0m\u001b[0m\n\u001b[1;32m--> 208\u001b[1;33m         \u001b[0mresult\u001b[0m \u001b[1;33m=\u001b[0m \u001b[0mImmediateResult\u001b[0m\u001b[1;33m(\u001b[0m\u001b[0mfunc\u001b[0m\u001b[1;33m)\u001b[0m\u001b[1;33m\u001b[0m\u001b[1;33m\u001b[0m\u001b[0m\n\u001b[0m\u001b[0;32m    209\u001b[0m         \u001b[1;32mif\u001b[0m \u001b[0mcallback\u001b[0m\u001b[1;33m:\u001b[0m\u001b[1;33m\u001b[0m\u001b[1;33m\u001b[0m\u001b[0m\n\u001b[0;32m    210\u001b[0m             \u001b[0mcallback\u001b[0m\u001b[1;33m(\u001b[0m\u001b[0mresult\u001b[0m\u001b[1;33m)\u001b[0m\u001b[1;33m\u001b[0m\u001b[1;33m\u001b[0m\u001b[0m\n",
      "\u001b[1;32m~\\anaconda3\\lib\\site-packages\\joblib\\_parallel_backends.py\u001b[0m in \u001b[0;36m__init__\u001b[1;34m(self, batch)\u001b[0m\n\u001b[0;32m    570\u001b[0m         \u001b[1;31m# Don't delay the application, to avoid keeping the input\u001b[0m\u001b[1;33m\u001b[0m\u001b[1;33m\u001b[0m\u001b[0m\n\u001b[0;32m    571\u001b[0m         \u001b[1;31m# arguments in memory\u001b[0m\u001b[1;33m\u001b[0m\u001b[1;33m\u001b[0m\u001b[0m\n\u001b[1;32m--> 572\u001b[1;33m         \u001b[0mself\u001b[0m\u001b[1;33m.\u001b[0m\u001b[0mresults\u001b[0m \u001b[1;33m=\u001b[0m \u001b[0mbatch\u001b[0m\u001b[1;33m(\u001b[0m\u001b[1;33m)\u001b[0m\u001b[1;33m\u001b[0m\u001b[1;33m\u001b[0m\u001b[0m\n\u001b[0m\u001b[0;32m    573\u001b[0m \u001b[1;33m\u001b[0m\u001b[0m\n\u001b[0;32m    574\u001b[0m     \u001b[1;32mdef\u001b[0m \u001b[0mget\u001b[0m\u001b[1;33m(\u001b[0m\u001b[0mself\u001b[0m\u001b[1;33m)\u001b[0m\u001b[1;33m:\u001b[0m\u001b[1;33m\u001b[0m\u001b[1;33m\u001b[0m\u001b[0m\n",
      "\u001b[1;32m~\\anaconda3\\lib\\site-packages\\joblib\\parallel.py\u001b[0m in \u001b[0;36m__call__\u001b[1;34m(self)\u001b[0m\n\u001b[0;32m    260\u001b[0m         \u001b[1;31m# change the default number of processes to -1\u001b[0m\u001b[1;33m\u001b[0m\u001b[1;33m\u001b[0m\u001b[0m\n\u001b[0;32m    261\u001b[0m         \u001b[1;32mwith\u001b[0m \u001b[0mparallel_backend\u001b[0m\u001b[1;33m(\u001b[0m\u001b[0mself\u001b[0m\u001b[1;33m.\u001b[0m\u001b[0m_backend\u001b[0m\u001b[1;33m,\u001b[0m \u001b[0mn_jobs\u001b[0m\u001b[1;33m=\u001b[0m\u001b[0mself\u001b[0m\u001b[1;33m.\u001b[0m\u001b[0m_n_jobs\u001b[0m\u001b[1;33m)\u001b[0m\u001b[1;33m:\u001b[0m\u001b[1;33m\u001b[0m\u001b[1;33m\u001b[0m\u001b[0m\n\u001b[1;32m--> 262\u001b[1;33m             return [func(*args, **kwargs)\n\u001b[0m\u001b[0;32m    263\u001b[0m                     for func, args, kwargs in self.items]\n\u001b[0;32m    264\u001b[0m \u001b[1;33m\u001b[0m\u001b[0m\n",
      "\u001b[1;32m~\\anaconda3\\lib\\site-packages\\joblib\\parallel.py\u001b[0m in \u001b[0;36m<listcomp>\u001b[1;34m(.0)\u001b[0m\n\u001b[0;32m    260\u001b[0m         \u001b[1;31m# change the default number of processes to -1\u001b[0m\u001b[1;33m\u001b[0m\u001b[1;33m\u001b[0m\u001b[0m\n\u001b[0;32m    261\u001b[0m         \u001b[1;32mwith\u001b[0m \u001b[0mparallel_backend\u001b[0m\u001b[1;33m(\u001b[0m\u001b[0mself\u001b[0m\u001b[1;33m.\u001b[0m\u001b[0m_backend\u001b[0m\u001b[1;33m,\u001b[0m \u001b[0mn_jobs\u001b[0m\u001b[1;33m=\u001b[0m\u001b[0mself\u001b[0m\u001b[1;33m.\u001b[0m\u001b[0m_n_jobs\u001b[0m\u001b[1;33m)\u001b[0m\u001b[1;33m:\u001b[0m\u001b[1;33m\u001b[0m\u001b[1;33m\u001b[0m\u001b[0m\n\u001b[1;32m--> 262\u001b[1;33m             return [func(*args, **kwargs)\n\u001b[0m\u001b[0;32m    263\u001b[0m                     for func, args, kwargs in self.items]\n\u001b[0;32m    264\u001b[0m \u001b[1;33m\u001b[0m\u001b[0m\n",
      "\u001b[1;32m~\\anaconda3\\lib\\site-packages\\sklearn\\utils\\fixes.py\u001b[0m in \u001b[0;36m__call__\u001b[1;34m(self, *args, **kwargs)\u001b[0m\n\u001b[0;32m    115\u001b[0m     \u001b[1;32mdef\u001b[0m \u001b[0m__call__\u001b[0m\u001b[1;33m(\u001b[0m\u001b[0mself\u001b[0m\u001b[1;33m,\u001b[0m \u001b[1;33m*\u001b[0m\u001b[0margs\u001b[0m\u001b[1;33m,\u001b[0m \u001b[1;33m**\u001b[0m\u001b[0mkwargs\u001b[0m\u001b[1;33m)\u001b[0m\u001b[1;33m:\u001b[0m\u001b[1;33m\u001b[0m\u001b[1;33m\u001b[0m\u001b[0m\n\u001b[0;32m    116\u001b[0m         \u001b[1;32mwith\u001b[0m \u001b[0mconfig_context\u001b[0m\u001b[1;33m(\u001b[0m\u001b[1;33m**\u001b[0m\u001b[0mself\u001b[0m\u001b[1;33m.\u001b[0m\u001b[0mconfig\u001b[0m\u001b[1;33m)\u001b[0m\u001b[1;33m:\u001b[0m\u001b[1;33m\u001b[0m\u001b[1;33m\u001b[0m\u001b[0m\n\u001b[1;32m--> 117\u001b[1;33m             \u001b[1;32mreturn\u001b[0m \u001b[0mself\u001b[0m\u001b[1;33m.\u001b[0m\u001b[0mfunction\u001b[0m\u001b[1;33m(\u001b[0m\u001b[1;33m*\u001b[0m\u001b[0margs\u001b[0m\u001b[1;33m,\u001b[0m \u001b[1;33m**\u001b[0m\u001b[0mkwargs\u001b[0m\u001b[1;33m)\u001b[0m\u001b[1;33m\u001b[0m\u001b[1;33m\u001b[0m\u001b[0m\n\u001b[0m\u001b[0;32m    118\u001b[0m \u001b[1;33m\u001b[0m\u001b[0m\n\u001b[0;32m    119\u001b[0m \u001b[1;33m\u001b[0m\u001b[0m\n",
      "\u001b[1;32m~\\anaconda3\\lib\\site-packages\\sklearn\\model_selection\\_validation.py\u001b[0m in \u001b[0;36m_fit_and_score\u001b[1;34m(estimator, X, y, scorer, train, test, verbose, parameters, fit_params, return_train_score, return_parameters, return_n_test_samples, return_times, return_estimator, split_progress, candidate_progress, error_score)\u001b[0m\n\u001b[0;32m    672\u001b[0m             \u001b[0mcloned_parameters\u001b[0m\u001b[1;33m[\u001b[0m\u001b[0mk\u001b[0m\u001b[1;33m]\u001b[0m \u001b[1;33m=\u001b[0m \u001b[0mclone\u001b[0m\u001b[1;33m(\u001b[0m\u001b[0mv\u001b[0m\u001b[1;33m,\u001b[0m \u001b[0msafe\u001b[0m\u001b[1;33m=\u001b[0m\u001b[1;32mFalse\u001b[0m\u001b[1;33m)\u001b[0m\u001b[1;33m\u001b[0m\u001b[1;33m\u001b[0m\u001b[0m\n\u001b[0;32m    673\u001b[0m \u001b[1;33m\u001b[0m\u001b[0m\n\u001b[1;32m--> 674\u001b[1;33m         \u001b[0mestimator\u001b[0m \u001b[1;33m=\u001b[0m \u001b[0mestimator\u001b[0m\u001b[1;33m.\u001b[0m\u001b[0mset_params\u001b[0m\u001b[1;33m(\u001b[0m\u001b[1;33m**\u001b[0m\u001b[0mcloned_parameters\u001b[0m\u001b[1;33m)\u001b[0m\u001b[1;33m\u001b[0m\u001b[1;33m\u001b[0m\u001b[0m\n\u001b[0m\u001b[0;32m    675\u001b[0m \u001b[1;33m\u001b[0m\u001b[0m\n\u001b[0;32m    676\u001b[0m     \u001b[0mstart_time\u001b[0m \u001b[1;33m=\u001b[0m \u001b[0mtime\u001b[0m\u001b[1;33m.\u001b[0m\u001b[0mtime\u001b[0m\u001b[1;33m(\u001b[0m\u001b[1;33m)\u001b[0m\u001b[1;33m\u001b[0m\u001b[1;33m\u001b[0m\u001b[0m\n",
      "\u001b[1;32m~\\anaconda3\\lib\\site-packages\\scikeras\\wrappers.py\u001b[0m in \u001b[0;36mset_params\u001b[1;34m(self, **params)\u001b[0m\n\u001b[0;32m   1166\u001b[0m                     \u001b[1;31m# Give a SciKeras specific user message to aid\u001b[0m\u001b[1;33m\u001b[0m\u001b[1;33m\u001b[0m\u001b[0m\n\u001b[0;32m   1167\u001b[0m                     \u001b[1;31m# in moving from the Keras wrappers\u001b[0m\u001b[1;33m\u001b[0m\u001b[1;33m\u001b[0m\u001b[0m\n\u001b[1;32m-> 1168\u001b[1;33m                     raise ValueError(\n\u001b[0m\u001b[0;32m   1169\u001b[0m                         \u001b[1;34mf\"Invalid parameter {param} for estimator {self.__name__}.\"\u001b[0m\u001b[1;33m\u001b[0m\u001b[1;33m\u001b[0m\u001b[0m\n\u001b[0;32m   1170\u001b[0m                         \u001b[1;34m\"\\nThis issue can likely be resolved by setting this parameter\"\u001b[0m\u001b[1;33m\u001b[0m\u001b[1;33m\u001b[0m\u001b[0m\n",
      "\u001b[1;31mValueError\u001b[0m: Invalid parameter learning_rate for estimator KerasRegressor.\nThis issue can likely be resolved by setting this parameter in the KerasRegressor constructor:\n`KerasRegressor(learning_rate=0.007128700290480555)`\nCheck the list of available parameters with `estimator.get_params().keys()`"
     ]
    }
   ],
   "source": [
    "from scipy.stats import reciprocal\n",
    "from sklearn.model_selection import RandomizedSearchCV\n",
    "\n",
    "keras_reg.get_params().keys()\n",
    "\n",
    "param_distribs = {\n",
    "    \"n_hidden\": [0,1,2,3],\n",
    "    \"n_neurons\": np.arange(1,100),\n",
    "    \"learning_rate\": reciprocal(3e-4, 3e-2),\n",
    "}\n",
    "\n",
    "rnd_search_cv = RandomizedSearchCV(keras_reg, param_distribs, n_iter=10, cv=3)\n",
    "rnd_search_cv.fit(X_train, y_train, epochs=100,\n",
    "                 validation_data=(X_valid, y_valid),\n",
    "                 callbacks=[keras.callbacks.EarlyStopping(patience=10)])"
   ]
  },
  {
   "cell_type": "markdown",
   "id": "bbb14f94",
   "metadata": {},
   "source": [
    "으악 책에 나온대로 안하고 sci-keras를 사용하니까 오류가 뜸... 아래는 제대로 나온다ㅜㅜ 뭔지를 모르겠다"
   ]
  },
  {
   "cell_type": "markdown",
   "id": "18981af4",
   "metadata": {},
   "source": [
    "-------------"
   ]
  },
  {
   "cell_type": "code",
   "execution_count": 39,
   "id": "d53a9a92",
   "metadata": {},
   "outputs": [
    {
     "name": "stderr",
     "output_type": "stream",
     "text": [
      "C:\\Users\\user\\AppData\\Local\\Temp/ipykernel_12716/3730239423.py:11: DeprecationWarning: KerasRegressor is deprecated, use Sci-Keras (https://github.com/adriangb/scikeras) instead. See https://www.adriangb.com/scikeras/stable/migration.html for help migrating.\n",
      "  keras_reg = keras.wrappers.scikit_learn.KerasRegressor(build_model)\n"
     ]
    }
   ],
   "source": [
    "def build_model(n_hidden=1, n_neurons=30, learning_rate=3e-3, input_shape=[8]):\n",
    "    model = keras.models.Sequential()\n",
    "    model.add(keras.layers.InputLayer(input_shape=input_shape))\n",
    "    for layer in range(n_hidden):\n",
    "        model.add(keras.layers.Dense(n_neurons, activation='relu'))\n",
    "    model.add(keras.layers.Dense(1))\n",
    "    optimizer = keras.optimizers.SGD(learning_rate=learning_rate)\n",
    "    model.compile(loss='mse', optimizer=optimizer)\n",
    "    return model\n",
    "\n",
    "keras_reg = keras.wrappers.scikit_learn.KerasRegressor(build_model)"
   ]
  },
  {
   "cell_type": "raw",
   "id": "3404cef3",
   "metadata": {},
   "source": [
    "from scipy.stats import reciprocal\n",
    "from sklearn.model_selection import RandomizedSearchCV\n",
    "import numpy as np\n",
    "\n",
    "param_distribs = {\n",
    "    'n_hidden': [2,3,4,5],\n",
    "    'n_neurons': np.arange(1,100),\n",
    "    'learning_rate': reciprocal(3e-4, 3e-2)\n",
    "}\n",
    "\n",
    "rnd_search_cv = RandomizedSearchCV(keras_reg, param_distribs, n_iter=10, cv=3, verbose=2)\n",
    "rnd_search_cv.fit(X_train, y_train, epochs=100,\n",
    "                 validation_data=(X_valid, y_valid),\n",
    "                 callbacks=[keras.callbacks.EarlyStopping(patience=10)])"
   ]
  },
  {
   "cell_type": "raw",
   "id": "4c74dc3f",
   "metadata": {},
   "source": [
    "# 이렇게 하면 최적 파라미터가 나온다. 그런데 너너너너너너무무무무 학습을 오래해서 그냥 이걸로 대체함.\n",
    "rnd_search_cv.best_parmas_"
   ]
  },
  {
   "cell_type": "markdown",
   "id": "bb2c5949",
   "metadata": {},
   "source": [
    "잘 모르겠는 부분이 있는데, 래퍼로 감싸면 scikit_learn형태일텐데 keras의 파라미터를 받아서 랜덤서치를 해도 되는건가??? \n",
    "scikeras를 사용했을 때는 오류가 떠서 의문이 들었다."
   ]
  },
  {
   "cell_type": "markdown",
   "id": "77328bee",
   "metadata": {},
   "source": [
    "### 연습문제 2"
   ]
  },
  {
   "cell_type": "markdown",
   "id": "c6af0895",
   "metadata": {},
   "source": [
    "논리 연산에 대한 문제는 잘 모르겠다..."
   ]
  },
  {
   "cell_type": "markdown",
   "id": "7277a7bb",
   "metadata": {},
   "source": [
    "### 연습문제 3"
   ]
  },
  {
   "cell_type": "markdown",
   "id": "d97b588f",
   "metadata": {},
   "source": [
    "고전적인 퍼셉트론보다 로지스틱 회귀 분류가 선호되는 이유는 \n",
    "1. 클래스별 확률을 제공하지 않음 (왜냐하면 계단형식의 활성화함수를 사용하기 때문이다.)\n",
    "2. 데이터가 선형적으로 구분 될 때만 수렴한다. (논리연산과 관련이 있는 것 같은데 잘 모르겠다.)\n",
    "이를 해소하기 위해서는 활성화 함수를 로지스틱 활성화 함수로 바꾸고 경사하강법으로 훈련한다. 또한 다층 퍼셉트론을 사용하면 된다."
   ]
  },
  {
   "cell_type": "markdown",
   "id": "dffe5a7f",
   "metadata": {},
   "source": [
    "### 연습문제 4"
   ]
  },
  {
   "cell_type": "markdown",
   "id": "0eae6992",
   "metadata": {},
   "source": [
    "경사가 없는 계단 함수는 경사하강법을 적용할 수 없기 때문에 경사가 있는 로지스틱 활성화 함수를 사용했다. \n",
    "또한, 실제 뉴런의 활성화함수 모양이 로지스틱 활성화 함수와 비슷하다고 생각했기 때문이다."
   ]
  },
  {
   "cell_type": "markdown",
   "id": "e1df4b35",
   "metadata": {},
   "source": [
    "### 연습문제 5"
   ]
  },
  {
   "cell_type": "markdown",
   "id": "eadcfd77",
   "metadata": {},
   "source": [
    "1. ReLU\n",
    "2. tanh 함수\n",
    "3. 시그모이드 함수"
   ]
  },
  {
   "cell_type": "markdown",
   "id": "f12bca4d",
   "metadata": {},
   "source": [
    "### 연습문제 6"
   ]
  },
  {
   "cell_type": "markdown",
   "id": "d2cdbc20",
   "metadata": {},
   "source": [
    "- 입력 행렬 X의 크기는 m * 10 이다. (m은 배치의 크기이다.)\n",
    "- 은닉층의 가중치 행렬(W_h)은 10 * 50 이다. 은닉층의 편향(b_h)행렬은 1 * 50 이다.\n",
    "- 출력층의 가중치 행렬(W_o)은 50 * 3 이다. 은닉층의 편향(b_o)행렬은 1 * 3 이다. \n",
    "- 네트워크 출력 행렬 Y의 크기는 m * 3이다. \n",
    "\n",
    "\n",
    "- 출력 행렬: Y = ReLU(ReLU(W_h\\*X+b_h)\\*W_o+b_o)  "
   ]
  },
  {
   "cell_type": "markdown",
   "id": "f6971e1a",
   "metadata": {},
   "source": [
    "### 연습문제 7"
   ]
  },
  {
   "cell_type": "markdown",
   "id": "9acb9888",
   "metadata": {},
   "source": [
    "~~스팸 구별문제는 출력층에 스팸/비스팸을 구별할 수 있도록 두개의 뉴런이 필요하다. 출력층 함수는 출력 결과가 서로 배타적이므로 소프트맥스함수가 적절할 것 같다.~~ 이 방법이 아닌 한개의 출력 뉴런을 가지고 활성화함수는 로지스틱 활성화 함수를 가지는 뉴런이여도 괜찮다.\n",
    "보통 이진 분류에는 로지스틱 활성화 함수가 사용된다. \n",
    "\n",
    "\n",
    "Mnist 구별문제는 출력층에 10개의 뉴런이 필요하다. 또한 소프트 맥스함수를 사용하면 될 것 같다.\n",
    "\n",
    "회귀문제는 출력에 1개의 뉴런이 필요하다. 이건 활성화 함수가 필요 없다."
   ]
  },
  {
   "cell_type": "markdown",
   "id": "6724d700",
   "metadata": {},
   "source": [
    "### 연습문제 8"
   ]
  },
  {
   "cell_type": "markdown",
   "id": "c68fc8fc",
   "metadata": {},
   "source": [
    "역전파는 여러 층으로 이루어져 있는 모델의 뉴런들을 학습하는 방법이다. 여기에는 경사하강법이 이용되는데 이때 그래디언트를 계산하기 위한 방법이 후진 모드 자동 미분이다."
   ]
  },
  {
   "cell_type": "markdown",
   "id": "2cf014bd",
   "metadata": {},
   "source": [
    "### 연습문제 9"
   ]
  },
  {
   "cell_type": "markdown",
   "id": "b25ffd22",
   "metadata": {},
   "source": [
    "다층 퍼셉트론에서 조정할 수 있는 파라미터는\n",
    "- 뉴런 개수\n",
    "- 은닉층 수\n",
    "- 학습률\n",
    "- 옵티마이저\n",
    "- 활성화 함수\n",
    "가 있다. \n",
    "과대 적합이 발생하면 뉴런개수를 줄이고, 은닉층 수를 줄이는 방법이 있고, \n",
    "규제를 통해서 과대적합을 해소할 수 있다. "
   ]
  },
  {
   "cell_type": "markdown",
   "id": "b5e5a50a",
   "metadata": {},
   "source": [
    "### 연습문제 10"
   ]
  },
  {
   "cell_type": "markdown",
   "id": "2c8e3161",
   "metadata": {},
   "source": [
    "#### 0. 모듈 import "
   ]
  },
  {
   "cell_type": "code",
   "execution_count": 8,
   "id": "ab35a094",
   "metadata": {},
   "outputs": [],
   "source": [
    "import tensorflow as tf\n",
    "from tensorflow import keras\n",
    "\n",
    "import pandas as pd\n",
    "import numpy as np\n",
    "\n",
    "from sklearn.model_selection import train_test_split"
   ]
  },
  {
   "cell_type": "code",
   "execution_count": 9,
   "id": "76d0a94d",
   "metadata": {},
   "outputs": [],
   "source": [
    "# clear_session\n",
    "# keras.backend.clear_session()\n",
    "# 현재 TF 그래프를 없애고, 새로운 TF 그래프를 만듭니다.\n",
    "#오래된 모델 혹은 층과의 혼란을 피할 때 유용합니다.\n",
    "keras.backend.clear_session()\n",
    "\n",
    "np.random.seed(42)\n",
    "\n",
    "tf.random.set_seed(42)"
   ]
  },
  {
   "cell_type": "markdown",
   "id": "61555857",
   "metadata": {},
   "source": [
    "#### 1. 데이터 적재/ test_train셋 분리/ 스케일링/"
   ]
  },
  {
   "cell_type": "code",
   "execution_count": 10,
   "id": "02d4c808",
   "metadata": {},
   "outputs": [
    {
     "name": "stdout",
     "output_type": "stream",
     "text": [
      "Downloading data from https://storage.googleapis.com/tensorflow/tf-keras-datasets/mnist.npz\n",
      "11490434/11490434 [==============================] - 1s 0us/step\n"
     ]
    }
   ],
   "source": [
    "# 데이터 로드\n",
    "mnist_data = keras.datasets.mnist.load_data()"
   ]
  },
  {
   "cell_type": "code",
   "execution_count": 11,
   "id": "50e573b1",
   "metadata": {
    "scrolled": true
   },
   "outputs": [
    {
     "name": "stdout",
     "output_type": "stream",
     "text": [
      "X_train 크기:  (55000, 28, 28)\n",
      "X_valid 크기:  (5000, 28, 28)\n",
      "y_train 크기:  (55000,)\n",
      "y_valid 크기:  (5000,)\n"
     ]
    }
   ],
   "source": [
    "train, test= mnist_data\n",
    "X_train_full, y_train_full, X_test, y_test = train[0], train[1], test[0], test[1]\n",
    "\n",
    "# 검증셋을 20%로 하니까 accuracy가 너무 낮았다. 그래서 작게했다. \n",
    "X_train, X_valid = X_train_full[5000:], X_train_full[:5000]\n",
    "y_train, y_valid = y_train_full[5000:], y_train_full[:5000]\n",
    "\n",
    "# mnist 데이터는 0~255의 범위를 가지므로 0~1 사이의 범위를 갖도록 \n",
    "X_train, X_valid, X_test = X_train/255.0, X_valid/255.0, X_test/255.0\n",
    "\n",
    "\n",
    "print(\"X_train 크기: \", X_train.shape)\n",
    "print(\"X_valid 크기: \", X_valid.shape)\n",
    "print(\"y_train 크기: \", y_train.shape)\n",
    "print(\"y_valid 크기: \", y_valid.shape)"
   ]
  },
  {
   "cell_type": "markdown",
   "id": "5f0a5273",
   "metadata": {},
   "source": [
    "#### 2. 모델 구현2. 모델 구현<br>\n",
    "- 시퀀셜 api 사용 \n",
    "\n",
    "A. 입력층에 784개의 뉴런이 필요함<br>\n",
    "B. 첫번째 은닉층에 300개의 뉴런 (활성화 함수 ReLU)<br>\n",
    "C. 두번째 은닉층에 100개의 뉴런 (활성화 함수 ReLU)<br>\n",
    "D. 출력층에 10개의 뉴런을 사용한다. (활성화 함수 softmax)<br>"
   ]
  },
  {
   "cell_type": "code",
   "execution_count": 44,
   "id": "40301245",
   "metadata": {},
   "outputs": [],
   "source": [
    "model_my = keras.models.Sequential([\n",
    "    keras.layers.Flatten(input_shape=[28,28]),\n",
    "    keras.layers.Dense(300, activation='relu'),\n",
    "    keras.layers.Dense(100, activation='relu'),\n",
    "    keras.layers.Dense(10, activation='softmax')\n",
    "])"
   ]
  },
  {
   "cell_type": "markdown",
   "id": "d2f6959a",
   "metadata": {},
   "source": [
    "#### 3. 모델 compile<br>\n",
    "\n",
    "A. 학습률 (학습률을 지수적으로 증가시키면서 찾기)<br>\n",
    "B. 옵티마이저   <br>\n",
    "C. 손실함수 (분류기 때문에 카테고리 엔트로피 함수 사용하면 될 듯)<br>\n",
    "D. 평가"
   ]
  },
  {
   "cell_type": "code",
   "execution_count": 45,
   "id": "4109b14b",
   "metadata": {},
   "outputs": [],
   "source": [
    "model_my.compile(loss=\"sparse_categorical_crossentropy\",\n",
    "             optimizer=\"sgd\",\n",
    "             metrics=[\"accuracy\"])"
   ]
  },
  {
   "cell_type": "markdown",
   "id": "f87dde8b",
   "metadata": {},
   "source": [
    "#### 4. 모델 fit <br>\n",
    "A. X_train, y_train<br>\n",
    "B. 조기종료 (X_valid, y_valid)<br>\n",
    "C. 텐서 보드 사용하기<br>"
   ]
  },
  {
   "cell_type": "code",
   "execution_count": 46,
   "id": "5356dea4",
   "metadata": {
    "scrolled": true
   },
   "outputs": [
    {
     "name": "stdout",
     "output_type": "stream",
     "text": [
      "Epoch 1/100\n",
      "1719/1719 [==============================] - 9s 5ms/step - loss: 0.6301 - accuracy: 0.8345 - val_loss: 0.3080 - val_accuracy: 0.9166\n",
      "Epoch 2/100\n",
      "1719/1719 [==============================] - 8s 5ms/step - loss: 0.2878 - accuracy: 0.9184 - val_loss: 0.2388 - val_accuracy: 0.9330\n",
      "Epoch 3/100\n",
      "1719/1719 [==============================] - 8s 5ms/step - loss: 0.2329 - accuracy: 0.9336 - val_loss: 0.1979 - val_accuracy: 0.9444\n",
      "Epoch 4/100\n",
      "1719/1719 [==============================] - 8s 5ms/step - loss: 0.1971 - accuracy: 0.9440 - val_loss: 0.1739 - val_accuracy: 0.9546\n",
      "Epoch 5/100\n",
      "1719/1719 [==============================] - 8s 4ms/step - loss: 0.1716 - accuracy: 0.9509 - val_loss: 0.1543 - val_accuracy: 0.9584\n",
      "Epoch 6/100\n",
      "1719/1719 [==============================] - 8s 5ms/step - loss: 0.1520 - accuracy: 0.9570 - val_loss: 0.1415 - val_accuracy: 0.9630\n",
      "Epoch 7/100\n",
      "1719/1719 [==============================] - 8s 5ms/step - loss: 0.1363 - accuracy: 0.9623 - val_loss: 0.1304 - val_accuracy: 0.9642\n",
      "Epoch 8/100\n",
      "1719/1719 [==============================] - 8s 5ms/step - loss: 0.1235 - accuracy: 0.9645 - val_loss: 0.1261 - val_accuracy: 0.9666\n",
      "Epoch 9/100\n",
      "1719/1719 [==============================] - 8s 5ms/step - loss: 0.1128 - accuracy: 0.9683 - val_loss: 0.1151 - val_accuracy: 0.9690\n",
      "Epoch 10/100\n",
      "1719/1719 [==============================] - 8s 5ms/step - loss: 0.1041 - accuracy: 0.9706 - val_loss: 0.1065 - val_accuracy: 0.9710\n",
      "Epoch 11/100\n",
      "1719/1719 [==============================] - 8s 5ms/step - loss: 0.0958 - accuracy: 0.9733 - val_loss: 0.1047 - val_accuracy: 0.9722\n",
      "Epoch 12/100\n",
      "1719/1719 [==============================] - 9s 5ms/step - loss: 0.0887 - accuracy: 0.9751 - val_loss: 0.1004 - val_accuracy: 0.9712\n",
      "Epoch 13/100\n",
      "1719/1719 [==============================] - 8s 5ms/step - loss: 0.0825 - accuracy: 0.9767 - val_loss: 0.0937 - val_accuracy: 0.9742\n",
      "Epoch 14/100\n",
      "1719/1719 [==============================] - 8s 5ms/step - loss: 0.0768 - accuracy: 0.9784 - val_loss: 0.0923 - val_accuracy: 0.9742\n",
      "Epoch 15/100\n",
      "1719/1719 [==============================] - 8s 5ms/step - loss: 0.0717 - accuracy: 0.9802 - val_loss: 0.0878 - val_accuracy: 0.9760\n",
      "Epoch 16/100\n",
      "1719/1719 [==============================] - 9s 5ms/step - loss: 0.0671 - accuracy: 0.9808 - val_loss: 0.0863 - val_accuracy: 0.9772\n",
      "Epoch 17/100\n",
      "1719/1719 [==============================] - 8s 5ms/step - loss: 0.0628 - accuracy: 0.9826 - val_loss: 0.0858 - val_accuracy: 0.9762\n",
      "Epoch 18/100\n",
      "1719/1719 [==============================] - 8s 5ms/step - loss: 0.0592 - accuracy: 0.9838 - val_loss: 0.0823 - val_accuracy: 0.9770\n",
      "Epoch 19/100\n",
      "1719/1719 [==============================] - 8s 5ms/step - loss: 0.0555 - accuracy: 0.9849 - val_loss: 0.0809 - val_accuracy: 0.9768\n",
      "Epoch 20/100\n",
      "1719/1719 [==============================] - 9s 5ms/step - loss: 0.0523 - accuracy: 0.9853 - val_loss: 0.0805 - val_accuracy: 0.9764\n",
      "Epoch 21/100\n",
      "1719/1719 [==============================] - 8s 5ms/step - loss: 0.0494 - accuracy: 0.9867 - val_loss: 0.0769 - val_accuracy: 0.9790\n",
      "Epoch 22/100\n",
      "1719/1719 [==============================] - 8s 5ms/step - loss: 0.0465 - accuracy: 0.9871 - val_loss: 0.0765 - val_accuracy: 0.9800\n",
      "Epoch 23/100\n",
      "1719/1719 [==============================] - 8s 5ms/step - loss: 0.0438 - accuracy: 0.9884 - val_loss: 0.0796 - val_accuracy: 0.9766\n",
      "Epoch 24/100\n",
      "1719/1719 [==============================] - 8s 5ms/step - loss: 0.0411 - accuracy: 0.9895 - val_loss: 0.0758 - val_accuracy: 0.9788\n",
      "Epoch 25/100\n",
      "1719/1719 [==============================] - 8s 5ms/step - loss: 0.0392 - accuracy: 0.9899 - val_loss: 0.0737 - val_accuracy: 0.9796\n",
      "Epoch 26/100\n",
      "1719/1719 [==============================] - 9s 5ms/step - loss: 0.0368 - accuracy: 0.9904 - val_loss: 0.0715 - val_accuracy: 0.9798\n",
      "Epoch 27/100\n",
      "1719/1719 [==============================] - 8s 5ms/step - loss: 0.0349 - accuracy: 0.9912 - val_loss: 0.0712 - val_accuracy: 0.9810\n",
      "Epoch 28/100\n",
      "1719/1719 [==============================] - 8s 5ms/step - loss: 0.0329 - accuracy: 0.9919 - val_loss: 0.0739 - val_accuracy: 0.9798\n",
      "Epoch 29/100\n",
      "1719/1719 [==============================] - 8s 5ms/step - loss: 0.0309 - accuracy: 0.9924 - val_loss: 0.0730 - val_accuracy: 0.9796\n",
      "Epoch 30/100\n",
      "1719/1719 [==============================] - 8s 5ms/step - loss: 0.0292 - accuracy: 0.9931 - val_loss: 0.0714 - val_accuracy: 0.9804\n",
      "Epoch 31/100\n",
      "1719/1719 [==============================] - 8s 5ms/step - loss: 0.0276 - accuracy: 0.9935 - val_loss: 0.0719 - val_accuracy: 0.9800\n",
      "Epoch 32/100\n",
      "1719/1719 [==============================] - 8s 5ms/step - loss: 0.0260 - accuracy: 0.9940 - val_loss: 0.0710 - val_accuracy: 0.9810\n",
      "Epoch 33/100\n",
      "1719/1719 [==============================] - 8s 5ms/step - loss: 0.0247 - accuracy: 0.9946 - val_loss: 0.0717 - val_accuracy: 0.9800\n",
      "Epoch 34/100\n",
      "1719/1719 [==============================] - 8s 5ms/step - loss: 0.0235 - accuracy: 0.9951 - val_loss: 0.0729 - val_accuracy: 0.9802\n",
      "Epoch 35/100\n",
      "1719/1719 [==============================] - 8s 5ms/step - loss: 0.0222 - accuracy: 0.9955 - val_loss: 0.0706 - val_accuracy: 0.9814\n",
      "Epoch 36/100\n",
      "1719/1719 [==============================] - 8s 4ms/step - loss: 0.0208 - accuracy: 0.9960 - val_loss: 0.0730 - val_accuracy: 0.9800\n",
      "Epoch 37/100\n",
      "1719/1719 [==============================] - 8s 5ms/step - loss: 0.0198 - accuracy: 0.9964 - val_loss: 0.0685 - val_accuracy: 0.9816\n",
      "Epoch 38/100\n",
      "1719/1719 [==============================] - 8s 5ms/step - loss: 0.0188 - accuracy: 0.9967 - val_loss: 0.0706 - val_accuracy: 0.9810\n",
      "Epoch 39/100\n",
      "1719/1719 [==============================] - 8s 5ms/step - loss: 0.0179 - accuracy: 0.9971 - val_loss: 0.0707 - val_accuracy: 0.9812\n",
      "Epoch 40/100\n",
      "1719/1719 [==============================] - 8s 5ms/step - loss: 0.0169 - accuracy: 0.9973 - val_loss: 0.0720 - val_accuracy: 0.9814\n",
      "Epoch 41/100\n",
      "1719/1719 [==============================] - 8s 5ms/step - loss: 0.0161 - accuracy: 0.9976 - val_loss: 0.0700 - val_accuracy: 0.9820\n",
      "Epoch 42/100\n",
      "1719/1719 [==============================] - 8s 5ms/step - loss: 0.0152 - accuracy: 0.9978 - val_loss: 0.0698 - val_accuracy: 0.9816\n",
      "Epoch 43/100\n",
      "1719/1719 [==============================] - 8s 5ms/step - loss: 0.0145 - accuracy: 0.9980 - val_loss: 0.0739 - val_accuracy: 0.9790\n",
      "Epoch 44/100\n",
      "1719/1719 [==============================] - 8s 5ms/step - loss: 0.0138 - accuracy: 0.9982 - val_loss: 0.0701 - val_accuracy: 0.9812\n",
      "Epoch 45/100\n",
      "1719/1719 [==============================] - 8s 5ms/step - loss: 0.0130 - accuracy: 0.9985 - val_loss: 0.0712 - val_accuracy: 0.9808\n",
      "Epoch 46/100\n",
      "1719/1719 [==============================] - 8s 5ms/step - loss: 0.0126 - accuracy: 0.9985 - val_loss: 0.0710 - val_accuracy: 0.9818\n",
      "Epoch 47/100\n",
      "1719/1719 [==============================] - 8s 5ms/step - loss: 0.0119 - accuracy: 0.9987 - val_loss: 0.0709 - val_accuracy: 0.9820\n",
      "Epoch 48/100\n",
      "1719/1719 [==============================] - 8s 5ms/step - loss: 0.0112 - accuracy: 0.9987 - val_loss: 0.0732 - val_accuracy: 0.9810\n",
      "Epoch 49/100\n",
      "1719/1719 [==============================] - 8s 5ms/step - loss: 0.0107 - accuracy: 0.9989 - val_loss: 0.0708 - val_accuracy: 0.9828\n",
      "Epoch 50/100\n",
      "1719/1719 [==============================] - 8s 4ms/step - loss: 0.0103 - accuracy: 0.9990 - val_loss: 0.0722 - val_accuracy: 0.9812\n",
      "Epoch 51/100\n",
      "1719/1719 [==============================] - 8s 5ms/step - loss: 0.0098 - accuracy: 0.9991 - val_loss: 0.0721 - val_accuracy: 0.9824\n",
      "Epoch 52/100\n",
      "1719/1719 [==============================] - 8s 5ms/step - loss: 0.0095 - accuracy: 0.9992 - val_loss: 0.0714 - val_accuracy: 0.9826\n",
      "Epoch 53/100\n",
      "1719/1719 [==============================] - 8s 5ms/step - loss: 0.0091 - accuracy: 0.9992 - val_loss: 0.0724 - val_accuracy: 0.9814\n",
      "Epoch 54/100\n",
      "1719/1719 [==============================] - 8s 5ms/step - loss: 0.0087 - accuracy: 0.9992 - val_loss: 0.0726 - val_accuracy: 0.9818\n",
      "Epoch 55/100\n",
      "1719/1719 [==============================] - 8s 5ms/step - loss: 0.0084 - accuracy: 0.9994 - val_loss: 0.0742 - val_accuracy: 0.9822\n",
      "Epoch 56/100\n",
      "1719/1719 [==============================] - 8s 5ms/step - loss: 0.0079 - accuracy: 0.9995 - val_loss: 0.0752 - val_accuracy: 0.9816\n",
      "Epoch 57/100\n",
      "1719/1719 [==============================] - 9s 5ms/step - loss: 0.0077 - accuracy: 0.9993 - val_loss: 0.0727 - val_accuracy: 0.9822\n"
     ]
    }
   ],
   "source": [
    "import os \n",
    "root_logdir = os.path.join(os.curdir, \"my_logs\")\n",
    "\n",
    "def get_run_logdir():\n",
    "    import time\n",
    "    run_id = time.strftime(\"run_%Y_%m_%d-%H_%M_%S\")\n",
    "    return os.path.join(root_logdir, run_id)\n",
    "\n",
    "run_logdir = get_run_logdir()\n",
    "\n",
    "tensorboard_cb = keras.callbacks.TensorBoard(run_logdir)\n",
    "early_stopping_cb = keras.callbacks.EarlyStopping(patience=20)\n",
    "\n",
    "history = model_my.fit(X_train, y_train, epochs=100,\n",
    "                   validation_data=(X_valid, y_valid),\n",
    "                   callbacks= [early_stopping_cb, tensorboard_cb])\n"
   ]
  },
  {
   "cell_type": "code",
   "execution_count": 47,
   "id": "78c6943a",
   "metadata": {
    "scrolled": true
   },
   "outputs": [
    {
     "name": "stdout",
     "output_type": "stream",
     "text": [
      "The tensorboard extension is already loaded. To reload it, use:\n",
      "  %reload_ext tensorboard\n"
     ]
    },
    {
     "data": {
      "text/plain": [
       "Reusing TensorBoard on port 6006 (pid 17440), started 3 days, 23:19:41 ago. (Use '!kill 17440' to kill it.)"
      ]
     },
     "metadata": {},
     "output_type": "display_data"
    },
    {
     "data": {
      "text/html": [
       "\n",
       "      <iframe id=\"tensorboard-frame-c54069a371a5060c\" width=\"100%\" height=\"800\" frameborder=\"0\">\n",
       "      </iframe>\n",
       "      <script>\n",
       "        (function() {\n",
       "          const frame = document.getElementById(\"tensorboard-frame-c54069a371a5060c\");\n",
       "          const url = new URL(\"/\", window.location);\n",
       "          const port = 6006;\n",
       "          if (port) {\n",
       "            url.port = port;\n",
       "          }\n",
       "          frame.src = url;\n",
       "        })();\n",
       "      </script>\n",
       "    "
      ],
      "text/plain": [
       "<IPython.core.display.HTML object>"
      ]
     },
     "metadata": {},
     "output_type": "display_data"
    }
   ],
   "source": [
    "%load_ext tensorboard\n",
    "%tensorboard --logdir=./my_logs --port=6006"
   ]
  },
  {
   "cell_type": "code",
   "execution_count": 49,
   "id": "86e6f0bd",
   "metadata": {},
   "outputs": [
    {
     "name": "stdout",
     "output_type": "stream",
     "text": [
      "313/313 [==============================] - 1s 3ms/step - loss: 0.0714 - accuracy: 0.9795\n"
     ]
    },
    {
     "data": {
      "text/plain": [
       "[0.0713987722992897, 0.9794999957084656]"
      ]
     },
     "execution_count": 49,
     "metadata": {},
     "output_type": "execute_result"
    }
   ],
   "source": [
    "model_my.evaluate(X_test, y_test)"
   ]
  },
  {
   "cell_type": "markdown",
   "id": "b6bbc9e8",
   "metadata": {},
   "source": [
    "### 학습률 튜닝 \n",
    "이 아래 코드는 잘 모르겠어서 답안을 참조했습니다. "
   ]
  },
  {
   "cell_type": "code",
   "execution_count": 5,
   "id": "33b94a30",
   "metadata": {},
   "outputs": [],
   "source": [
    "# 잘은 모르겠지만 이해한 내용을 써본다.\n",
    "# keras 는 low-level에서의 조정은 안된다. 왜냐하면 쉽게 사용하기 위한 딥러닝 api이기 때문이다. \n",
    "# 하지만 keras.backend를 사용하면 low-level에서의 조정이 가능하다.\n",
    "## set_value\n",
    "## keras.backend.set_value(x, value) 로 사용한다. \n",
    "#  반복마다 학습률을 증가시키기 위해 콜백을 사용합니다. 이 콜백은 반복마다 학습률과 손실을 기록합니다.\n",
    "K = keras.backend\n",
    "\n",
    "# 학습률을 지수함수적으로 증가시키면서 성능을 보는 콜백함수를 만들 클래스를 만든 것?\n",
    "class ExponentialLearningRate(keras.callbacks.Callback):\n",
    "    def __init__(self, factor):\n",
    "        self.factor = factor\n",
    "        self.rates = []\n",
    "        self.losses = []\n",
    "        \n",
    "        \n",
    "    # 파라미터로 들어간 batch는 잘 모르겠다. logs 는 모델이 학습된 기록들을 가져오는 것 같다.\n",
    "    def on_batch_end(self, batch, logs):\n",
    "        # 현재 학습 모델의 학습률을 가져와서 리스트에 추가\n",
    "        self.rates.append(K.get_value(self.model.optimizer.lr))\n",
    "        # 현재 학습 모델의 손실을 리스트에 추가\n",
    "        self.losses.append(logs[\"loss\"])\n",
    "        # 학습률에 self.factor을 곱한값을 학습률로 재설정\n",
    "        K.set_value(self.model.optimizer.lr, self.model.optimizer.lr * self.factor)"
   ]
  },
  {
   "cell_type": "code",
   "execution_count": 12,
   "id": "46760b04",
   "metadata": {},
   "outputs": [],
   "source": [
    "# clear_session\n",
    "# keras.backend.clear_session()\n",
    "# 현재 TF 그래프를 없애고, 새로운 TF 그래프를 만듭니다.\n",
    "#오래된 모델 혹은 층과의 혼란을 피할 때 유용합니다.\n",
    "keras.backend.clear_session()\n",
    "\n",
    "np.random.seed(42)\n",
    "\n",
    "tf.random.set_seed(42)"
   ]
  },
  {
   "cell_type": "code",
   "execution_count": 15,
   "id": "d57c6b35",
   "metadata": {},
   "outputs": [
    {
     "name": "stdout",
     "output_type": "stream",
     "text": [
      "   1/1719 [..............................] - ETA: 4:52 - loss: 2.3870 - accuracy: 0.0625WARNING:tensorflow:Callback method `on_train_batch_end` is slow compared to the batch time (batch time: 0.0006s vs `on_train_batch_end` time: 0.0007s). Check your callbacks.\n",
      "1719/1719 [==============================] - 2s 1ms/step - loss: nan - accuracy: 0.6270 - val_loss: nan - val_accuracy: 0.0958\n"
     ]
    }
   ],
   "source": [
    "model_anwser = keras.models.Sequential([\n",
    "    keras.layers.Flatten(input_shape=[28,28]),\n",
    "    keras.layers.Dense(300, activation='relu'),\n",
    "    keras.layers.Dense(100, activation='relu'),\n",
    "    keras.layers.Dense(10, activation='softmax')\n",
    "])\n",
    "model_anwser.compile(loss=\"sparse_categorical_crossentropy\",\n",
    "              optimizer=keras.optimizers.SGD(learning_rate=1e-3),\n",
    "              metrics=[\"accuracy\"])\n",
    "expon_lr = ExponentialLearningRate(factor=1.005)\n",
    "\n",
    "history = model_anwser.fit(X_train, y_train, epochs=1,\n",
    "                    validation_data=(X_valid, y_valid),\n",
    "                    callbacks=[expon_lr])"
   ]
  },
  {
   "cell_type": "code",
   "execution_count": 16,
   "id": "3b7f0999",
   "metadata": {
    "scrolled": true
   },
   "outputs": [
    {
     "data": {
      "text/plain": [
       "Text(0, 0.5, 'Loss')"
      ]
     },
     "execution_count": 16,
     "metadata": {},
     "output_type": "execute_result"
    },
    {
     "data": {
      "image/png": "[encoded data removed]",
      "text/plain": [
       "<Figure size 432x288 with 1 Axes>"
      ]
     },
     "metadata": {
      "needs_background": "light"
     },
     "output_type": "display_data"
    }
   ],
   "source": [
    "import matplotlib.pyplot as plt\n",
    "\n",
    "plt.plot(expon_lr.rates, expon_lr.losses)\n",
    "plt.gca().set_xscale('log')\n",
    "plt.hlines(min(expon_lr.losses), min(expon_lr.rates), max(expon_lr.rates))\n",
    "plt.axis([min(expon_lr.rates), max(expon_lr.rates), 0, expon_lr.losses[0]])\n",
    "plt.grid()\n",
    "plt.xlabel(\"Learning rate\")\n",
    "plt.ylabel(\"Loss\")"
   ]
  },
  {
   "cell_type": "code",
   "execution_count": 17,
   "id": "41045e2d",
   "metadata": {},
   "outputs": [
    {
     "data": {
      "text/plain": [
       "[2.387019634246826,\n",
       " 2.376983165740967,\n",
       " 2.3636763095855713,\n",
       " 2.37388277053833,\n",
       " 2.3640472888946533,\n",
       " 2.3509280681610107,\n",
       " 2.3422930240631104,\n",
       " 2.340693712234497,\n",
       " 2.3402111530303955,\n",
       " 2.3343379497528076,\n",
       " 2.3327927589416504,\n",
       " 2.334876298904419,\n",
       " 2.3315837383270264,\n",
       " 2.3315017223358154,\n",
       " 2.333292245864868,\n",
       " 2.333632469177246,\n",
       " 2.3276474475860596,\n",
       " 2.3256337642669678,\n",
       " 2.3249316215515137,\n",
       " 2.3227503299713135,\n",
       " 2.3226845264434814,\n",
       " 2.320162534713745,\n",
       " 2.3219406604766846,\n",
       " 2.3205840587615967,\n",
       " 2.319373369216919,\n",
       " 2.3155317306518555,\n",
       " 2.3164124488830566,\n",
       " 2.3154542446136475,\n",
       " 2.314448595046997,\n",
       " 2.3127732276916504,\n",
       " 2.31126070022583,\n",
       " 2.3113842010498047,\n",
       " 2.3105456829071045,\n",
       " 2.309812545776367,\n",
       " 2.3082058429718018,\n",
       " 2.307255983352661,\n",
       " 2.3075315952301025,\n",
       " 2.3074233531951904,\n",
       " 2.306504249572754,\n",
       " 2.3061470985412598,\n",
       " 2.305089235305786,\n",
       " 2.304429531097412,\n",
       " 2.3048253059387207,\n",
       " 2.304718255996704,\n",
       " 2.303907871246338,\n",
       " 2.3048267364501953,\n",
       " 2.3046836853027344,\n",
       " 2.304267406463623,\n",
       " 2.3054850101470947,\n",
       " 2.3049004077911377,\n",
       " 2.304621458053589,\n",
       " 2.304265022277832,\n",
       " 2.3048624992370605,\n",
       " 2.3031978607177734,\n",
       " 2.303462028503418,\n",
       " 2.303159713745117,\n",
       " 2.302614688873291,\n",
       " 2.3017239570617676,\n",
       " 2.3005218505859375,\n",
       " 2.299891233444214,\n",
       " 2.299255609512329,\n",
       " 2.2998995780944824,\n",
       " 2.298492431640625,\n",
       " 2.297592878341675,\n",
       " 2.29679799079895,\n",
       " 2.2954764366149902,\n",
       " 2.293911933898926,\n",
       " 2.2937541007995605,\n",
       " 2.2929000854492188,\n",
       " 2.292611598968506,\n",
       " 2.291717767715454,\n",
       " 2.2905771732330322,\n",
       " 2.2905683517456055,\n",
       " 2.290581464767456,\n",
       " 2.2904374599456787,\n",
       " 2.288764238357544,\n",
       " 2.288254737854004,\n",
       " 2.2878520488739014,\n",
       " 2.287599563598633,\n",
       " 2.2871813774108887,\n",
       " 2.2865397930145264,\n",
       " 2.2865748405456543,\n",
       " 2.28586483001709,\n",
       " 2.2848658561706543,\n",
       " 2.284860849380493,\n",
       " 2.2843000888824463,\n",
       " 2.2824673652648926,\n",
       " 2.282015323638916,\n",
       " 2.2814595699310303,\n",
       " 2.281528949737549,\n",
       " 2.281425952911377,\n",
       " 2.2815964221954346,\n",
       " 2.281242847442627,\n",
       " 2.2806122303009033,\n",
       " 2.2800166606903076,\n",
       " 2.2788984775543213,\n",
       " 2.2783215045928955,\n",
       " 2.2780818939208984,\n",
       " 2.2772812843322754,\n",
       " 2.276954412460327,\n",
       " 2.2768428325653076,\n",
       " 2.276203155517578,\n",
       " 2.2757365703582764,\n",
       " 2.2753384113311768,\n",
       " 2.2753021717071533,\n",
       " 2.274707317352295,\n",
       " 2.2740464210510254,\n",
       " 2.2738916873931885,\n",
       " 2.273895025253296,\n",
       " 2.2728939056396484,\n",
       " 2.2720258235931396,\n",
       " 2.271761655807495,\n",
       " 2.2706539630889893,\n",
       " 2.270540475845337,\n",
       " 2.2701494693756104,\n",
       " 2.2700159549713135,\n",
       " 2.2695605754852295,\n",
       " 2.269274950027466,\n",
       " 2.2684669494628906,\n",
       " 2.2675442695617676,\n",
       " 2.266540765762329,\n",
       " 2.265895128250122,\n",
       " 2.265615701675415,\n",
       " 2.2655580043792725,\n",
       " 2.264721393585205,\n",
       " 2.2638986110687256,\n",
       " 2.263540029525757,\n",
       " 2.2628185749053955,\n",
       " 2.2622761726379395,\n",
       " 2.2622296810150146,\n",
       " 2.2614190578460693,\n",
       " 2.2609806060791016,\n",
       " 2.260864496231079,\n",
       " 2.260265588760376,\n",
       " 2.2593371868133545,\n",
       " 2.258509874343872,\n",
       " 2.257826805114746,\n",
       " 2.2576181888580322,\n",
       " 2.2569544315338135,\n",
       " 2.256547689437866,\n",
       " 2.2560718059539795,\n",
       " 2.2555031776428223,\n",
       " 2.2549777030944824,\n",
       " 2.25484561920166,\n",
       " 2.254535675048828,\n",
       " 2.2542307376861572,\n",
       " 2.2534666061401367,\n",
       " 2.2525761127471924,\n",
       " 2.2519772052764893,\n",
       " 2.25102162361145,\n",
       " 2.2503750324249268,\n",
       " 2.2500109672546387,\n",
       " 2.2496910095214844,\n",
       " 2.249450206756592,\n",
       " 2.2484917640686035,\n",
       " 2.247770309448242,\n",
       " 2.2471601963043213,\n",
       " 2.2465834617614746,\n",
       " 2.2458231449127197,\n",
       " 2.2449159622192383,\n",
       " 2.2443625926971436,\n",
       " 2.244065523147583,\n",
       " 2.2434017658233643,\n",
       " 2.242900848388672,\n",
       " 2.242298126220703,\n",
       " 2.24202299118042,\n",
       " 2.2408342361450195,\n",
       " 2.2405755519866943,\n",
       " 2.240074396133423,\n",
       " 2.239595651626587,\n",
       " 2.238922119140625,\n",
       " 2.2384796142578125,\n",
       " 2.237790822982788,\n",
       " 2.236724376678467,\n",
       " 2.2360706329345703,\n",
       " 2.2353053092956543,\n",
       " 2.2346065044403076,\n",
       " 2.2339894771575928,\n",
       " 2.2334723472595215,\n",
       " 2.233051300048828,\n",
       " 2.2325122356414795,\n",
       " 2.231773853302002,\n",
       " 2.231017827987671,\n",
       " 2.2305667400360107,\n",
       " 2.2299444675445557,\n",
       " 2.229029893875122,\n",
       " 2.228809118270874,\n",
       " 2.228071689605713,\n",
       " 2.227322816848755,\n",
       " 2.2269885540008545,\n",
       " 2.2267537117004395,\n",
       " 2.2262914180755615,\n",
       " 2.225564956665039,\n",
       " 2.224865436553955,\n",
       " 2.2246055603027344,\n",
       " 2.2242071628570557,\n",
       " 2.223752498626709,\n",
       " 2.2231533527374268,\n",
       " 2.222459554672241,\n",
       " 2.221991777420044,\n",
       " 2.221137046813965,\n",
       " 2.220324754714966,\n",
       " 2.219602346420288,\n",
       " 2.218808650970459,\n",
       " 2.217996597290039,\n",
       " 2.217439651489258,\n",
       " 2.2169110774993896,\n",
       " 2.216042995452881,\n",
       " 2.21553373336792,\n",
       " 2.2150678634643555,\n",
       " 2.2141828536987305,\n",
       " 2.213514566421509,\n",
       " 2.2129342555999756,\n",
       " 2.2123570442199707,\n",
       " 2.211517810821533,\n",
       " 2.2109498977661133,\n",
       " 2.2100141048431396,\n",
       " 2.208794593811035,\n",
       " 2.208239793777466,\n",
       " 2.2071340084075928,\n",
       " 2.2065799236297607,\n",
       " 2.2059507369995117,\n",
       " 2.2051665782928467,\n",
       " 2.204463243484497,\n",
       " 2.203967332839966,\n",
       " 2.2031891345977783,\n",
       " 2.20192813873291,\n",
       " 2.201357841491699,\n",
       " 2.2007532119750977,\n",
       " 2.2001171112060547,\n",
       " 2.1991937160491943,\n",
       " 2.198413133621216,\n",
       " 2.198000431060791,\n",
       " 2.197335958480835,\n",
       " 2.196650743484497,\n",
       " 2.195574998855591,\n",
       " 2.195172071456909,\n",
       " 2.1944947242736816,\n",
       " 2.1936299800872803,\n",
       " 2.193131446838379,\n",
       " 2.192760705947876,\n",
       " 2.192169427871704,\n",
       " 2.19148325920105,\n",
       " 2.1907315254211426,\n",
       " 2.189685344696045,\n",
       " 2.1886065006256104,\n",
       " 2.1879312992095947,\n",
       " 2.1869471073150635,\n",
       " 2.185978651046753,\n",
       " 2.1850574016571045,\n",
       " 2.184403657913208,\n",
       " 2.1840858459472656,\n",
       " 2.18306827545166,\n",
       " 2.1822962760925293,\n",
       " 2.1816225051879883,\n",
       " 2.180806875228882,\n",
       " 2.1796958446502686,\n",
       " 2.178962469100952,\n",
       " 2.178114891052246,\n",
       " 2.1773080825805664,\n",
       " 2.1765620708465576,\n",
       " 2.175706386566162,\n",
       " 2.1751182079315186,\n",
       " 2.1745855808258057,\n",
       " 2.1735970973968506,\n",
       " 2.1725997924804688,\n",
       " 2.171827793121338,\n",
       " 2.1706337928771973,\n",
       " 2.1704282760620117,\n",
       " 2.1699860095977783,\n",
       " 2.1690869331359863,\n",
       " 2.168138027191162,\n",
       " 2.1670875549316406,\n",
       " 2.166213274002075,\n",
       " 2.1653192043304443,\n",
       " 2.1644070148468018,\n",
       " 2.1633548736572266,\n",
       " 2.1626391410827637,\n",
       " 2.161978006362915,\n",
       " 2.1605799198150635,\n",
       " 2.1596367359161377,\n",
       " 2.1589677333831787,\n",
       " 2.1582255363464355,\n",
       " 2.1577742099761963,\n",
       " 2.1566364765167236,\n",
       " 2.155851364135742,\n",
       " 2.1548988819122314,\n",
       " 2.1536710262298584,\n",
       " 2.15281081199646,\n",
       " 2.152125120162964,\n",
       " 2.151174306869507,\n",
       " 2.150181531906128,\n",
       " 2.149214506149292,\n",
       " 2.1484107971191406,\n",
       " 2.1473426818847656,\n",
       " 2.1466574668884277,\n",
       " 2.1456055641174316,\n",
       " 2.144826889038086,\n",
       " 2.143876075744629,\n",
       " 2.1430251598358154,\n",
       " 2.141780138015747,\n",
       " 2.1409261226654053,\n",
       " 2.1401255130767822,\n",
       " 2.1386735439300537,\n",
       " 2.1377716064453125,\n",
       " 2.136786699295044,\n",
       " 2.135801315307617,\n",
       " 2.134608745574951,\n",
       " 2.133544445037842,\n",
       " 2.1325936317443848,\n",
       " 2.131838798522949,\n",
       " 2.1309313774108887,\n",
       " 2.129868268966675,\n",
       " 2.1285548210144043,\n",
       " 2.1274430751800537,\n",
       " 2.1265816688537598,\n",
       " 2.1255037784576416,\n",
       " 2.1244983673095703,\n",
       " 2.1233768463134766,\n",
       " 2.1224451065063477,\n",
       " 2.121577501296997,\n",
       " 2.1203596591949463,\n",
       " 2.1192781925201416,\n",
       " 2.118279218673706,\n",
       " 2.117335319519043,\n",
       " 2.115980625152588,\n",
       " 2.1153018474578857,\n",
       " 2.1143133640289307,\n",
       " 2.112701892852783,\n",
       " 2.111325740814209,\n",
       " 2.1102447509765625,\n",
       " 2.108907461166382,\n",
       " 2.108029365539551,\n",
       " 2.1066598892211914,\n",
       " 2.105541706085205,\n",
       " 2.1043918132781982,\n",
       " 2.1033458709716797,\n",
       " 2.1022825241088867,\n",
       " 2.1008641719818115,\n",
       " 2.099574327468872,\n",
       " 2.0984272956848145,\n",
       " 2.096957206726074,\n",
       " 2.095890760421753,\n",
       " 2.094426155090332,\n",
       " 2.0930850505828857,\n",
       " 2.0918819904327393,\n",
       " 2.09090256690979,\n",
       " 2.0899553298950195,\n",
       " 2.089043140411377,\n",
       " 2.087871551513672,\n",
       " 2.0867786407470703,\n",
       " 2.085627317428589,\n",
       " 2.084536075592041,\n",
       " 2.0834720134735107,\n",
       " 2.082423448562622,\n",
       " 2.0813028812408447,\n",
       " 2.0801339149475098,\n",
       " 2.079012155532837,\n",
       " 2.0780560970306396,\n",
       " 2.0767269134521484,\n",
       " 2.075080156326294,\n",
       " 2.0732171535491943,\n",
       " 2.0717546939849854,\n",
       " 2.0704739093780518,\n",
       " 2.069404363632202,\n",
       " 2.067828416824341,\n",
       " 2.066540241241455,\n",
       " 2.0655455589294434,\n",
       " 2.064485549926758,\n",
       " 2.0631330013275146,\n",
       " 2.061741352081299,\n",
       " 2.0605361461639404,\n",
       " 2.059727191925049,\n",
       " 2.0583484172821045,\n",
       " 2.0572292804718018,\n",
       " 2.0560646057128906,\n",
       " 2.054788827896118,\n",
       " 2.05325984954834,\n",
       " 2.0522267818450928,\n",
       " 2.051021099090576,\n",
       " 2.0497708320617676,\n",
       " 2.048779010772705,\n",
       " 2.0475547313690186,\n",
       " 2.0461764335632324,\n",
       " 2.044771671295166,\n",
       " 2.0434560775756836,\n",
       " 2.04225754737854,\n",
       " 2.0410799980163574,\n",
       " 2.039794445037842,\n",
       " 2.03857159614563,\n",
       " 2.0370335578918457,\n",
       " 2.035388469696045,\n",
       " 2.0339982509613037,\n",
       " 2.032881498336792,\n",
       " 2.031729221343994,\n",
       " 2.030322790145874,\n",
       " 2.0285463333129883,\n",
       " 2.0273921489715576,\n",
       " 2.025900363922119,\n",
       " 2.0245423316955566,\n",
       " 2.0233304500579834,\n",
       " 2.0218729972839355,\n",
       " 2.020768880844116,\n",
       " 2.019469976425171,\n",
       " 2.0180792808532715,\n",
       " 2.016573190689087,\n",
       " 2.014944553375244,\n",
       " 2.013664960861206,\n",
       " 2.012190580368042,\n",
       " 2.0102219581604004,\n",
       " 2.008683443069458,\n",
       " 2.006904125213623,\n",
       " 2.0053515434265137,\n",
       " 2.00358247756958,\n",
       " 2.002025842666626,\n",
       " 2.000654697418213,\n",
       " 1.9989625215530396,\n",
       " 1.9976692199707031,\n",
       " 1.9962081909179688,\n",
       " 1.994847059249878,\n",
       " 1.993282675743103,\n",
       " 1.99184250831604,\n",
       " 1.9906474351882935,\n",
       " 1.9893782138824463,\n",
       " 1.987811803817749,\n",
       " 1.9861055612564087,\n",
       " 1.9840707778930664,\n",
       " 1.9827759265899658,\n",
       " 1.9814549684524536,\n",
       " 1.9801396131515503,\n",
       " 1.9789499044418335,\n",
       " 1.9773825407028198,\n",
       " 1.9757812023162842,\n",
       " 1.9741885662078857,\n",
       " 1.9730247259140015,\n",
       " 1.9712797403335571,\n",
       " 1.9699653387069702,\n",
       " 1.9687350988388062,\n",
       " 1.9670137166976929,\n",
       " 1.9657593965530396,\n",
       " 1.9643917083740234,\n",
       " 1.9628926515579224,\n",
       " 1.9611886739730835,\n",
       " 1.9594985246658325,\n",
       " 1.9582208395004272,\n",
       " 1.9568463563919067,\n",
       " 1.9554587602615356,\n",
       " 1.9540435075759888,\n",
       " 1.9523868560791016,\n",
       " 1.9508490562438965,\n",
       " 1.9489259719848633,\n",
       " 1.946820855140686,\n",
       " 1.9454550743103027,\n",
       " 1.943631649017334,\n",
       " 1.9419430494308472,\n",
       " 1.9403226375579834,\n",
       " 1.9388362169265747,\n",
       " 1.9372272491455078,\n",
       " 1.9355319738388062,\n",
       " 1.9339628219604492,\n",
       " 1.932276964187622,\n",
       " 1.9307529926300049,\n",
       " 1.9289888143539429,\n",
       " 1.9272208213806152,\n",
       " 1.9253097772598267,\n",
       " 1.9236090183258057,\n",
       " 1.9218796491622925,\n",
       " 1.9202308654785156,\n",
       " 1.9187170267105103,\n",
       " 1.9171158075332642,\n",
       " 1.9151889085769653,\n",
       " 1.913306713104248,\n",
       " 1.911380648612976,\n",
       " 1.9100288152694702,\n",
       " 1.9080462455749512,\n",
       " 1.9062012434005737,\n",
       " 1.9045130014419556,\n",
       " 1.9031245708465576,\n",
       " 1.9013807773590088,\n",
       " 1.8996657133102417,\n",
       " 1.8979185819625854,\n",
       " 1.8960574865341187,\n",
       " 1.8946137428283691,\n",
       " 1.8927314281463623,\n",
       " 1.8907099962234497,\n",
       " 1.8887594938278198,\n",
       " 1.8870701789855957,\n",
       " 1.8853760957717896,\n",
       " 1.8833928108215332,\n",
       " 1.8817641735076904,\n",
       " 1.8797967433929443,\n",
       " 1.8783212900161743,\n",
       " 1.8764349222183228,\n",
       " 1.8741016387939453,\n",
       " 1.8724710941314697,\n",
       " 1.8708760738372803,\n",
       " 1.869509220123291,\n",
       " 1.8679118156433105,\n",
       " 1.8661643266677856,\n",
       " 1.864367961883545,\n",
       " 1.8622092008590698,\n",
       " 1.8606520891189575,\n",
       " 1.8587090969085693,\n",
       " 1.8567233085632324,\n",
       " 1.854504942893982,\n",
       " 1.8526133298873901,\n",
       " 1.8507006168365479,\n",
       " 1.8485759496688843,\n",
       " 1.8467215299606323,\n",
       " 1.845305323600769,\n",
       " 1.8434885740280151,\n",
       " 1.8414978981018066,\n",
       " 1.8398947715759277,\n",
       " 1.838425874710083,\n",
       " 1.8366769552230835,\n",
       " 1.8351380825042725,\n",
       " 1.833776593208313,\n",
       " 1.8318817615509033,\n",
       " 1.8304203748703003,\n",
       " 1.8292349576950073,\n",
       " 1.827369213104248,\n",
       " 1.825815200805664,\n",
       " 1.8242723941802979,\n",
       " 1.8224409818649292,\n",
       " 1.8208813667297363,\n",
       " 1.8190898895263672,\n",
       " 1.8171439170837402,\n",
       " 1.8152426481246948,\n",
       " 1.8130578994750977,\n",
       " 1.8113999366760254,\n",
       " 1.8097100257873535,\n",
       " 1.807889699935913,\n",
       " 1.806209921836853,\n",
       " 1.8041162490844727,\n",
       " 1.8024564981460571,\n",
       " 1.8008091449737549,\n",
       " 1.7989965677261353,\n",
       " 1.7973684072494507,\n",
       " 1.795624017715454,\n",
       " 1.794055461883545,\n",
       " 1.7920479774475098,\n",
       " 1.7904176712036133,\n",
       " 1.7884434461593628,\n",
       " 1.7864640951156616,\n",
       " 1.7847843170166016,\n",
       " 1.7827664613723755,\n",
       " 1.7814409732818604,\n",
       " 1.7795028686523438,\n",
       " 1.7777289152145386,\n",
       " 1.7758173942565918,\n",
       " 1.7741084098815918,\n",
       " 1.772339105606079,\n",
       " 1.7708755731582642,\n",
       " 1.7694720029830933,\n",
       " 1.7676126956939697,\n",
       " 1.7658182382583618,\n",
       " 1.7640211582183838,\n",
       " 1.7622612714767456,\n",
       " 1.760450839996338,\n",
       " 1.7588530778884888,\n",
       " 1.7571923732757568,\n",
       " 1.755837321281433,\n",
       " 1.7541059255599976,\n",
       " 1.7524491548538208,\n",
       " 1.7507041692733765,\n",
       " 1.7489477396011353,\n",
       " 1.7472482919692993,\n",
       " 1.7458409070968628,\n",
       " 1.743963360786438,\n",
       " 1.7425241470336914,\n",
       " 1.7406070232391357,\n",
       " 1.7387640476226807,\n",
       " 1.737067699432373,\n",
       " 1.7355607748031616,\n",
       " 1.7335968017578125,\n",
       " 1.7319416999816895,\n",
       " 1.7302570343017578,\n",
       " 1.728583812713623,\n",
       " 1.7273924350738525,\n",
       " 1.7256478071212769,\n",
       " 1.7238911390304565,\n",
       " 1.7218098640441895,\n",
       " 1.7199324369430542,\n",
       " 1.717848777770996,\n",
       " 1.7160305976867676,\n",
       " 1.714362621307373,\n",
       " 1.7127982378005981,\n",
       " 1.710925817489624,\n",
       " 1.70912766456604,\n",
       " 1.7075653076171875,\n",
       " 1.7054704427719116,\n",
       " 1.7035773992538452,\n",
       " 1.7019152641296387,\n",
       " 1.700155258178711,\n",
       " 1.6984831094741821,\n",
       " 1.6967084407806396,\n",
       " 1.6952674388885498,\n",
       " 1.6935536861419678,\n",
       " 1.6916753053665161,\n",
       " 1.6900044679641724,\n",
       " 1.6881442070007324,\n",
       " 1.686561107635498,\n",
       " 1.6849453449249268,\n",
       " 1.6832104921340942,\n",
       " 1.6819500923156738,\n",
       " 1.6804121732711792,\n",
       " 1.6790549755096436,\n",
       " 1.6776782274246216,\n",
       " 1.676045536994934,\n",
       " 1.6740437746047974,\n",
       " 1.6725269556045532,\n",
       " 1.6709225177764893,\n",
       " 1.66926109790802,\n",
       " 1.6672428846359253,\n",
       " 1.6655138731002808,\n",
       " 1.663639783859253,\n",
       " 1.6615890264511108,\n",
       " 1.6599379777908325,\n",
       " 1.657918930053711,\n",
       " 1.6562741994857788,\n",
       " 1.6545569896697998,\n",
       " 1.6529337167739868,\n",
       " 1.6513062715530396,\n",
       " 1.6492242813110352,\n",
       " 1.647565484046936,\n",
       " 1.6457730531692505,\n",
       " 1.6444162130355835,\n",
       " 1.6427075862884521,\n",
       " 1.6411250829696655,\n",
       " 1.639346957206726,\n",
       " 1.6376546621322632,\n",
       " 1.636160969734192,\n",
       " 1.6344027519226074,\n",
       " 1.6328202486038208,\n",
       " 1.6313931941986084,\n",
       " 1.6296770572662354,\n",
       " 1.6278576850891113,\n",
       " 1.62623929977417,\n",
       " 1.6242903470993042,\n",
       " 1.6230945587158203,\n",
       " 1.6216113567352295,\n",
       " 1.6197755336761475,\n",
       " 1.618114709854126,\n",
       " 1.6165186166763306,\n",
       " 1.6146550178527832,\n",
       " 1.6131701469421387,\n",
       " 1.611601710319519,\n",
       " 1.6097519397735596,\n",
       " 1.6083104610443115,\n",
       " 1.606573224067688,\n",
       " 1.6050047874450684,\n",
       " 1.6030151844024658,\n",
       " 1.6016769409179688,\n",
       " 1.600184440612793,\n",
       " 1.5985946655273438,\n",
       " 1.596789836883545,\n",
       " 1.595211148262024,\n",
       " 1.5935403108596802,\n",
       " 1.5918099880218506,\n",
       " 1.590482234954834,\n",
       " 1.5886448621749878,\n",
       " 1.587109923362732,\n",
       " 1.5854756832122803,\n",
       " 1.5838744640350342,\n",
       " 1.5822482109069824,\n",
       " 1.5806688070297241,\n",
       " 1.5788371562957764,\n",
       " 1.5770925283432007,\n",
       " 1.5753475427627563,\n",
       " 1.5739235877990723,\n",
       " 1.5722754001617432,\n",
       " 1.570802927017212,\n",
       " 1.5690407752990723,\n",
       " 1.5676331520080566,\n",
       " 1.565921425819397,\n",
       " 1.5645723342895508,\n",
       " 1.5630398988723755,\n",
       " 1.5619641542434692,\n",
       " 1.560534119606018,\n",
       " 1.5589590072631836,\n",
       " 1.5579599142074585,\n",
       " 1.5563586950302124,\n",
       " 1.554785966873169,\n",
       " 1.5533357858657837,\n",
       " 1.5518871545791626,\n",
       " 1.5503557920455933,\n",
       " 1.5488691329956055,\n",
       " 1.5475833415985107,\n",
       " 1.5463911294937134,\n",
       " 1.5448466539382935,\n",
       " 1.543262004852295,\n",
       " 1.5418397188186646,\n",
       " 1.5404586791992188,\n",
       " 1.5388373136520386,\n",
       " 1.5373101234436035,\n",
       " 1.5356738567352295,\n",
       " 1.5338630676269531,\n",
       " 1.5323376655578613,\n",
       " 1.5306302309036255,\n",
       " 1.5292174816131592,\n",
       " 1.5277289152145386,\n",
       " 1.5263186693191528,\n",
       " 1.524815320968628,\n",
       " 1.523187279701233,\n",
       " 1.5217676162719727,\n",
       " 1.5201992988586426,\n",
       " 1.518763780593872,\n",
       " 1.5171161890029907,\n",
       " 1.515738844871521,\n",
       " 1.5142313241958618,\n",
       " 1.5126843452453613,\n",
       " 1.5111125707626343,\n",
       " 1.5095547437667847,\n",
       " 1.5084302425384521,\n",
       " 1.5067024230957031,\n",
       " 1.5050305128097534,\n",
       " 1.5035916566848755,\n",
       " 1.502130150794983,\n",
       " 1.5006108283996582,\n",
       " 1.4992674589157104,\n",
       " 1.497942566871643,\n",
       " 1.4967304468154907,\n",
       " 1.4954874515533447,\n",
       " 1.4940515756607056,\n",
       " 1.4924389123916626,\n",
       " 1.4911786317825317,\n",
       " 1.4898768663406372,\n",
       " 1.4885505437850952,\n",
       " 1.4873250722885132,\n",
       " 1.485733151435852,\n",
       " 1.4842041730880737,\n",
       " 1.4826096296310425,\n",
       " 1.4809823036193848,\n",
       " 1.4795372486114502,\n",
       " 1.4779977798461914,\n",
       " 1.4767348766326904,\n",
       " 1.4754818677902222,\n",
       " 1.474079966545105,\n",
       " 1.4725019931793213,\n",
       " 1.4710438251495361,\n",
       " 1.4695942401885986,\n",
       " 1.4680129289627075,\n",
       " 1.4664945602416992,\n",
       " 1.4648809432983398,\n",
       " 1.463760495185852,\n",
       " 1.462405800819397,\n",
       " 1.4610626697540283,\n",
       " 1.4594347476959229,\n",
       " 1.4582087993621826,\n",
       " 1.4567025899887085,\n",
       " 1.4554247856140137,\n",
       " 1.4541302919387817,\n",
       " 1.453001618385315,\n",
       " 1.451512336730957,\n",
       " 1.4500069618225098,\n",
       " 1.4486981630325317,\n",
       " 1.4476077556610107,\n",
       " 1.4464409351348877,\n",
       " 1.4449074268341064,\n",
       " 1.4434202909469604,\n",
       " 1.4418162107467651,\n",
       " 1.4402765035629272,\n",
       " 1.4388763904571533,\n",
       " 1.4375956058502197,\n",
       " 1.4364230632781982,\n",
       " 1.4348835945129395,\n",
       " 1.4336004257202148,\n",
       " 1.4322148561477661,\n",
       " 1.4307135343551636,\n",
       " 1.4294198751449585,\n",
       " 1.4282777309417725,\n",
       " 1.4272571802139282,\n",
       " 1.4261658191680908,\n",
       " 1.4251309633255005,\n",
       " 1.424052119255066,\n",
       " 1.4230525493621826,\n",
       " 1.421783447265625,\n",
       " 1.420481562614441,\n",
       " 1.4190657138824463,\n",
       " 1.4179977178573608,\n",
       " 1.41649329662323,\n",
       " 1.4154162406921387,\n",
       " 1.4143081903457642,\n",
       " 1.4130197763442993,\n",
       " 1.4115746021270752,\n",
       " 1.410292148590088,\n",
       " 1.4092295169830322,\n",
       " 1.4082870483398438,\n",
       " 1.407232642173767,\n",
       " 1.406029224395752,\n",
       " 1.4048866033554077,\n",
       " 1.4038549661636353,\n",
       " 1.4026857614517212,\n",
       " 1.4014806747436523,\n",
       " 1.4002490043640137,\n",
       " 1.3987926244735718,\n",
       " 1.3975492715835571,\n",
       " 1.3963967561721802,\n",
       " 1.3953709602355957,\n",
       " 1.3940693140029907,\n",
       " 1.3927741050720215,\n",
       " 1.3914850950241089,\n",
       " 1.3902091979980469,\n",
       " 1.3893064260482788,\n",
       " 1.3882945775985718,\n",
       " 1.3868781328201294,\n",
       " 1.385693073272705,\n",
       " 1.384383201599121,\n",
       " 1.3831298351287842,\n",
       " 1.3819586038589478,\n",
       " 1.3809300661087036,\n",
       " 1.3798397779464722,\n",
       " 1.378914713859558,\n",
       " 1.3777403831481934,\n",
       " 1.3765966892242432,\n",
       " 1.3751128911972046,\n",
       " 1.3738856315612793,\n",
       " 1.372533917427063,\n",
       " 1.371567726135254,\n",
       " 1.3706285953521729,\n",
       " 1.369336724281311,\n",
       " 1.3680238723754883,\n",
       " 1.3667045831680298,\n",
       " 1.3654673099517822,\n",
       " 1.3642480373382568,\n",
       " 1.3633091449737549,\n",
       " 1.3623487949371338,\n",
       " 1.3617069721221924,\n",
       " 1.360460638999939,\n",
       " 1.3592113256454468,\n",
       " 1.3580775260925293,\n",
       " 1.3568981885910034,\n",
       " 1.355646014213562,\n",
       " 1.3544461727142334,\n",
       " 1.353062391281128,\n",
       " 1.351925015449524,\n",
       " 1.3507968187332153,\n",
       " 1.3494549989700317,\n",
       " 1.348376989364624,\n",
       " 1.3471511602401733,\n",
       " 1.3460888862609863,\n",
       " 1.345061182975769,\n",
       " 1.3438796997070312,\n",
       " 1.3426824808120728,\n",
       " 1.34160315990448,\n",
       " 1.340564489364624,\n",
       " 1.3394818305969238,\n",
       " 1.3383662700653076,\n",
       " 1.3372085094451904,\n",
       " 1.3361549377441406,\n",
       " 1.3351819515228271,\n",
       " 1.334080696105957,\n",
       " 1.3328551054000854,\n",
       " 1.3317643404006958,\n",
       " 1.330540418624878,\n",
       " 1.3292044401168823,\n",
       " 1.3281770944595337,\n",
       " 1.327133059501648,\n",
       " 1.3264106512069702,\n",
       " 1.3256723880767822,\n",
       " 1.3244727849960327,\n",
       " 1.3233331441879272,\n",
       " 1.3221831321716309,\n",
       " 1.3213659524917603,\n",
       " 1.3203219175338745,\n",
       " 1.3193060159683228,\n",
       " 1.3181145191192627,\n",
       " 1.316996455192566,\n",
       " 1.315649151802063,\n",
       " 1.3145695924758911,\n",
       " 1.3136718273162842,\n",
       " 1.3124338388442993,\n",
       " 1.3116583824157715,\n",
       " 1.3106892108917236,\n",
       " 1.3095979690551758,\n",
       " 1.3086379766464233,\n",
       " 1.307741641998291,\n",
       " 1.3066835403442383,\n",
       " 1.3056399822235107,\n",
       " 1.3049756288528442,\n",
       " 1.3037846088409424,\n",
       " 1.3028017282485962,\n",
       " 1.3015005588531494,\n",
       " 1.3003257513046265,\n",
       " 1.2992292642593384,\n",
       " 1.2981834411621094,\n",
       " 1.2972021102905273,\n",
       " 1.2961543798446655,\n",
       " 1.2949551343917847,\n",
       " 1.2939050197601318,\n",
       " 1.293357014656067,\n",
       " 1.292338252067566,\n",
       " 1.2913100719451904,\n",
       " 1.2902230024337769,\n",
       " 1.2893006801605225,\n",
       " 1.2881988286972046,\n",
       " 1.2875605821609497,\n",
       " 1.2867798805236816,\n",
       " 1.2860029935836792,\n",
       " 1.2852897644042969,\n",
       " 1.2842265367507935,\n",
       " 1.2830677032470703,\n",
       " 1.2823740243911743,\n",
       " 1.2812527418136597,\n",
       " 1.2801234722137451,\n",
       " 1.2794520854949951,\n",
       " 1.2785043716430664,\n",
       " 1.277443289756775,\n",
       " 1.2763563394546509,\n",
       " 1.2753560543060303,\n",
       " 1.2742054462432861,\n",
       " 1.2734867334365845,\n",
       " 1.2724679708480835,\n",
       " 1.2715612649917603,\n",
       " 1.270695686340332,\n",
       " 1.2698674201965332,\n",
       " 1.2687143087387085,\n",
       " 1.2677278518676758,\n",
       " 1.266940951347351,\n",
       " 1.2663332223892212,\n",
       " 1.2653974294662476,\n",
       " 1.2643985748291016,\n",
       " 1.2635931968688965,\n",
       " 1.2625151872634888,\n",
       " 1.2614672183990479,\n",
       " 1.260697841644287,\n",
       " 1.2600550651550293,\n",
       " 1.259093999862671,\n",
       " 1.2580972909927368,\n",
       " 1.2574230432510376,\n",
       " 1.25682532787323,\n",
       " 1.255718469619751,\n",
       " 1.2548085451126099,\n",
       " 1.2536386251449585,\n",
       " 1.252591848373413,\n",
       " 1.2516868114471436,\n",
       " 1.250771403312683,\n",
       " 1.2498888969421387,\n",
       " 1.2491000890731812,\n",
       " 1.248260498046875,\n",
       " 1.2473671436309814,\n",
       " 1.2465295791625977,\n",
       " 1.2457081079483032,\n",
       " 1.2447936534881592,\n",
       " 1.2440135478973389,\n",
       " 1.243025779724121,\n",
       " 1.2421618700027466,\n",
       " 1.2412426471710205,\n",
       " 1.2404367923736572,\n",
       " 1.2394614219665527,\n",
       " 1.2384685277938843,\n",
       " 1.2374541759490967,\n",
       " 1.2364259958267212,\n",
       " 1.235444188117981,\n",
       " 1.2344379425048828,\n",
       " 1.2336126565933228,\n",
       " 1.2325315475463867,\n",
       " 1.2315311431884766,\n",
       " 1.2307677268981934,\n",
       " 1.2299706935882568,\n",
       " 1.2292139530181885,\n",
       " 1.2282177209854126,\n",
       " 1.227339744567871,\n",
       " 1.2265104055404663,\n",
       " 1.225548505783081,\n",
       " 1.2244873046875,\n",
       " 1.2233532667160034,\n",
       " 1.2222285270690918,\n",
       " 1.2211822271347046,\n",
       " 1.220190405845642,\n",
       " 1.219252109527588,\n",
       " 1.218413233757019,\n",
       " 1.2177245616912842,\n",
       " 1.2169150114059448,\n",
       " 1.2161556482315063,\n",
       " 1.2152409553527832,\n",
       " 1.2142475843429565,\n",
       " 1.2133841514587402,\n",
       " 1.2124273777008057,\n",
       " 1.2115191221237183,\n",
       " 1.2106183767318726,\n",
       " 1.209895133972168,\n",
       " 1.208748459815979,\n",
       " 1.2077031135559082,\n",
       " 1.2066551446914673,\n",
       " 1.2058771848678589,\n",
       " 1.205039620399475,\n",
       " 1.2039833068847656,\n",
       " 1.2033002376556396,\n",
       " 1.2024205923080444,\n",
       " 1.2014578580856323,\n",
       " 1.2003589868545532,\n",
       " 1.1993235349655151,\n",
       " 1.1983811855316162,\n",
       " 1.197546124458313,\n",
       " 1.1970624923706055,\n",
       " 1.1961376667022705,\n",
       " 1.1952285766601562,\n",
       " 1.1942106485366821,\n",
       " 1.1941640377044678,\n",
       " ...]"
      ]
     },
     "execution_count": 17,
     "metadata": {},
     "output_type": "execute_result"
    }
   ],
   "source": [
    "expon_lr.losses"
   ]
  },
  {
   "cell_type": "markdown",
   "id": "06c8f63b",
   "metadata": {},
   "source": [
    "그래프를 보고 학습률를 튜닝해준다."
   ]
  },
  {
   "cell_type": "code",
   "execution_count": 60,
   "id": "0768d4f3",
   "metadata": {
    "scrolled": true
   },
   "outputs": [
    {
     "name": "stdout",
     "output_type": "stream",
     "text": [
      "Epoch 1/100\n",
      "1719/1719 [==============================] - 9s 5ms/step - loss: 0.2333 - accuracy: 0.9267 - val_loss: 0.1018 - val_accuracy: 0.9688\n",
      "Epoch 2/100\n",
      "1719/1719 [==============================] - 8s 5ms/step - loss: 0.0941 - accuracy: 0.9708 - val_loss: 0.0995 - val_accuracy: 0.9730\n",
      "Epoch 3/100\n",
      "1719/1719 [==============================] - 8s 5ms/step - loss: 0.0643 - accuracy: 0.9802 - val_loss: 0.0771 - val_accuracy: 0.9768\n",
      "Epoch 4/100\n",
      "1719/1719 [==============================] - 8s 5ms/step - loss: 0.0469 - accuracy: 0.9849 - val_loss: 0.0730 - val_accuracy: 0.9810\n",
      "Epoch 5/100\n",
      "1719/1719 [==============================] - 8s 4ms/step - loss: 0.0345 - accuracy: 0.9885 - val_loss: 0.0880 - val_accuracy: 0.9778\n",
      "Epoch 6/100\n",
      "1719/1719 [==============================] - 8s 5ms/step - loss: 0.0288 - accuracy: 0.9911 - val_loss: 0.0680 - val_accuracy: 0.9818\n",
      "Epoch 7/100\n",
      "1719/1719 [==============================] - 8s 5ms/step - loss: 0.0210 - accuracy: 0.9928 - val_loss: 0.0726 - val_accuracy: 0.9798\n",
      "Epoch 8/100\n",
      "1719/1719 [==============================] - 9s 5ms/step - loss: 0.0181 - accuracy: 0.9938 - val_loss: 0.0775 - val_accuracy: 0.9838\n",
      "Epoch 9/100\n",
      "1719/1719 [==============================] - 8s 5ms/step - loss: 0.0135 - accuracy: 0.9957 - val_loss: 0.0890 - val_accuracy: 0.9824\n",
      "Epoch 10/100\n",
      "1719/1719 [==============================] - 8s 5ms/step - loss: 0.0137 - accuracy: 0.9954 - val_loss: 0.0895 - val_accuracy: 0.9800\n",
      "Epoch 11/100\n",
      "1719/1719 [==============================] - 8s 5ms/step - loss: 0.0116 - accuracy: 0.9960 - val_loss: 0.0879 - val_accuracy: 0.9820\n",
      "Epoch 12/100\n",
      "1719/1719 [==============================] - 8s 5ms/step - loss: 0.0111 - accuracy: 0.9964 - val_loss: 0.1035 - val_accuracy: 0.9788\n",
      "Epoch 13/100\n",
      "1719/1719 [==============================] - 8s 5ms/step - loss: 0.0104 - accuracy: 0.9968 - val_loss: 0.0874 - val_accuracy: 0.9820\n",
      "Epoch 14/100\n",
      "1719/1719 [==============================] - 8s 5ms/step - loss: 0.0087 - accuracy: 0.9972 - val_loss: 0.0919 - val_accuracy: 0.9838\n",
      "Epoch 15/100\n",
      "1719/1719 [==============================] - 8s 5ms/step - loss: 0.0105 - accuracy: 0.9966 - val_loss: 0.0928 - val_accuracy: 0.9800\n",
      "Epoch 16/100\n",
      "1719/1719 [==============================] - 8s 5ms/step - loss: 0.0040 - accuracy: 0.9987 - val_loss: 0.0811 - val_accuracy: 0.9826\n",
      "Epoch 17/100\n",
      "1719/1719 [==============================] - 8s 5ms/step - loss: 0.0013 - accuracy: 0.9997 - val_loss: 0.0823 - val_accuracy: 0.9860\n",
      "Epoch 18/100\n",
      "1719/1719 [==============================] - 8s 5ms/step - loss: 5.6057e-04 - accuracy: 0.9998 - val_loss: 0.0785 - val_accuracy: 0.9854\n",
      "Epoch 19/100\n",
      "1719/1719 [==============================] - 8s 5ms/step - loss: 1.1999e-04 - accuracy: 1.0000 - val_loss: 0.0797 - val_accuracy: 0.9856\n",
      "Epoch 20/100\n",
      "1719/1719 [==============================] - 8s 5ms/step - loss: 7.7460e-05 - accuracy: 1.0000 - val_loss: 0.0799 - val_accuracy: 0.9856\n",
      "Epoch 21/100\n",
      "1719/1719 [==============================] - 9s 5ms/step - loss: 6.2582e-05 - accuracy: 1.0000 - val_loss: 0.0803 - val_accuracy: 0.9854\n",
      "Epoch 22/100\n",
      "1719/1719 [==============================] - 8s 5ms/step - loss: 5.4441e-05 - accuracy: 1.0000 - val_loss: 0.0808 - val_accuracy: 0.9854\n",
      "Epoch 23/100\n",
      "1719/1719 [==============================] - 8s 5ms/step - loss: 4.8599e-05 - accuracy: 1.0000 - val_loss: 0.0814 - val_accuracy: 0.9858\n",
      "Epoch 24/100\n",
      "1719/1719 [==============================] - 8s 5ms/step - loss: 4.4041e-05 - accuracy: 1.0000 - val_loss: 0.0819 - val_accuracy: 0.9860\n",
      "Epoch 25/100\n",
      "1719/1719 [==============================] - 9s 5ms/step - loss: 4.0573e-05 - accuracy: 1.0000 - val_loss: 0.0822 - val_accuracy: 0.9860\n",
      "Epoch 26/100\n",
      "1719/1719 [==============================] - 8s 5ms/step - loss: 3.7558e-05 - accuracy: 1.0000 - val_loss: 0.0827 - val_accuracy: 0.9860\n"
     ]
    }
   ],
   "source": [
    "# clear_session\n",
    "# keras.backend.clear_session()\n",
    "# 현재 TF 그래프를 없애고, 새로운 TF 그래프를 만듭니다.\n",
    "#오래된 모델 혹은 층과의 혼란을 피할 때 유용합니다.\n",
    "keras.backend.clear_session()\n",
    "\n",
    "np.random.seed(42)\n",
    "\n",
    "tf.random.set_seed(42)\n",
    "\n",
    "model_last = keras.models.Sequential([\n",
    "    keras.layers.Flatten(input_shape=[28,28]),\n",
    "    keras.layers.Dense(300, activation='relu'),\n",
    "    keras.layers.Dense(100, activation='relu'),\n",
    "    keras.layers.Dense(10, activation='softmax')\n",
    "])\n",
    "model_last.compile(loss=\"sparse_categorical_crossentropy\",\n",
    "              optimizer=keras.optimizers.SGD(learning_rate=3e-1),\n",
    "              metrics=[\"accuracy\"])\n",
    "\n",
    "early_stopping_cb = keras.callbacks.EarlyStopping(patience=20)\n",
    "checkpoint_cb = keras.callbacks.ModelCheckpoint(\"my_mnist_model.h5\", save_best_only=True)\n",
    "tensorboard_cb = keras.callbacks.TensorBoard(run_logdir)\n",
    "\n",
    "history = model_last.fit(X_train, y_train, epochs=100,\n",
    "                    validation_data=(X_valid, y_valid),\n",
    "                    callbacks=[checkpoint_cb, early_stopping_cb, tensorboard_cb])"
   ]
  },
  {
   "cell_type": "code",
   "execution_count": 61,
   "id": "c95c95a2",
   "metadata": {},
   "outputs": [
    {
     "name": "stdout",
     "output_type": "stream",
     "text": [
      "313/313 [==============================] - 1s 4ms/step - loss: 0.0690 - accuracy: 0.9814\n"
     ]
    },
    {
     "data": {
      "text/plain": [
       "[0.06899699568748474, 0.9814000129699707]"
      ]
     },
     "execution_count": 61,
     "metadata": {},
     "output_type": "execute_result"
    }
   ],
   "source": [
    "model = keras.models.load_model(\"my_mnist_model.h5\") # rollback to best model\n",
    "model.evaluate(X_test, y_test)"
   ]
  },
  {
   "cell_type": "code",
   "execution_count": 62,
   "id": "284b36a8",
   "metadata": {},
   "outputs": [
    {
     "data": {
      "text/plain": [
       "Reusing TensorBoard on port 6006 (pid 13396), started 0:29:53 ago. (Use '!kill 13396' to kill it.)"
      ]
     },
     "metadata": {},
     "output_type": "display_data"
    },
    {
     "data": {
      "text/html": [
       "\n",
       "      <iframe id=\"tensorboard-frame-350402f3ea611a96\" width=\"100%\" height=\"800\" frameborder=\"0\">\n",
       "      </iframe>\n",
       "      <script>\n",
       "        (function() {\n",
       "          const frame = document.getElementById(\"tensorboard-frame-350402f3ea611a96\");\n",
       "          const url = new URL(\"/\", window.location);\n",
       "          const port = 6006;\n",
       "          if (port) {\n",
       "            url.port = port;\n",
       "          }\n",
       "          frame.src = url;\n",
       "        })();\n",
       "      </script>\n",
       "    "
      ],
      "text/plain": [
       "<IPython.core.display.HTML object>"
      ]
     },
     "metadata": {},
     "output_type": "display_data"
    }
   ],
   "source": [
    "%tensorboard --logdir=./my_mnist_logs --port=6006"
   ]
  }
 ],
 "metadata": {
  "kernelspec": {
   "display_name": "Python 3 (ipykernel)",
   "language": "python",
   "name": "python3"
  },
  "language_info": {
   "codemirror_mode": {
    "name": "ipython",
    "version": 3
   },
   "file_extension": ".py",
   "mimetype": "text/x-python",
   "name": "python",
   "nbconvert_exporter": "python",
   "pygments_lexer": "ipython3",
   "version": "3.9.7"
  }
 },
 "nbformat": 4,
 "nbformat_minor": 5
}
