{
 "cells": [
  {
   "cell_type": "markdown",
   "id": "40903730",
   "metadata": {},
   "source": [
    "휴학을 하고 여러 공부를 했다.\n",
    "\n",
    "나의 휴학 목표는 소프트웨어융합학과 복수전공을 내년 상반기에 시작하는 것 + 코딩공부가 향상이기 때문에 내가 관심있는 머신러닝 분야를 많이 공부했다. \n",
    "\n",
    "지금까지 한 공부로는\n",
    "1. 코드잇 머신러닝을 통한 머신러닝 공부\n",
    "2. 위에 공부에서 부족함을 느껴서 [파이썬 머신러닝 완벽가이드](https://github.com/donghui-0126/machine-learning/tree/main/%ED%8C%8C%EC%9D%B4%EC%8D%AC%20%EB%A8%B8%EC%8B%A0%EB%9F%AC%EB%8B%9D%20%EC%99%84%EB%B2%BD%20%EA%B0%80%EC%9D%B4%EB%93%9C)책을 이용한 머신러닝 공부\n",
    "3. \\[[카페 사진 감성 분석](https://github.com/donghui-0126/mini-project/tree/main/%EC%B9%B4%ED%8E%98%20%EC%82%AC%EC%A7%84%20%EA%B0%90%EC%84%B1%20%EB%B6%84%EC%84%9D)\\]프로젝트\n",
    "\n",
    "를 했다. \n",
    "\n",
    "\n",
    "이 공부를 하고 다음 공부를 무엇을 할 지 후보를 정해봤다. \n",
    "- 머신러닝을 좀더 자세하게 공부하기\n",
    "- 딥러닝에 대해서 공부하기\n",
    "- html/css/javascript(웹) 공부하기\n",
    "- django 라이브러리 공부하기\n",
    "가 후보 군에 있었는데, 나는 딥러닝을 공부해보고 싶었다.\n",
    "\n",
    "그 이유는 전에 dacon에서 진행되는 머신러닝 대회([청경채 성장 분석](https://dacon.io/competitions/official/235961/codeshare/6021?page=1&dtype=recent))를 하려고 했다.<br>\n",
    "그때 나는 내가 배운 머신러닝으로 작성할 엄두안났는데(물론 나의 머신러닝실력도 하찮지만..) 예제 코드를 보니 딥러닝 기법을 사용한 코드가 적혀있었다. \n",
    "\n",
    "그것을 보고 충격을 받아서 딥러닝도 공부하기로 결심했다. 꼭 그거 때문만은 아니고 재밌어 보여서도 있다! ㅎㅎ ~~공부n일차: 상당히 재미지다.~~\n",
    "\n",
    "딥러닝은 10장 11장 12장을 공부하고 다시 머신러닝을 공부할 생각이다. \n",
    "\n",
    "아마 머신러닝의 추가적인 공부/프로젝트/웹/django(백엔드) 공부를 병행할 것 같다. \n"
   ]
  },
  {
   "cell_type": "markdown",
   "id": "1e55aea2",
   "metadata": {},
   "source": [
    "-----"
   ]
  },
  {
   "cell_type": "markdown",
   "id": "4533e71b",
   "metadata": {},
   "source": [
    "이제 본격적인 공부를 시작할 건데, 나는 핸즈온 머신러닝 으로 공부하기로 했다.\n",
    "\n",
    "이 책이 좋다고 하던데 마침 전공책으로도 쓰여서 미리 봐두면 좋을 것 같기 때문이다. \n",
    "\n",
    "책에다 밑줄을 그으면서 공부하기 때문에, 여기는 굉장히 중요하다는 개념이나 코드들만 적힐 것이다. "
   ]
  },
  {
   "cell_type": "markdown",
   "id": "41d881af",
   "metadata": {},
   "source": [
    "-----------\n",
    "이전에 간단하게 공부했던 deep-leraning 정리본 링크이다.<br>\n",
    "https://github.com/donghui-0126/machine-learning/tree/main/deep-learning"
   ]
  },
  {
   "cell_type": "markdown",
   "id": "71964f26",
   "metadata": {},
   "source": [
    "-----"
   ]
  },
  {
   "cell_type": "markdown",
   "id": "ae6fa119",
   "metadata": {},
   "source": [
    "### 연습문제 1 \n",
    "https://playground.tensorflow.org"
   ]
  },
  {
   "cell_type": "markdown",
   "id": "b6ed581f",
   "metadata": {},
   "source": [
    "### 텐서플로우 설치하기"
   ]
  },
  {
   "cell_type": "code",
   "execution_count": 1,
   "id": "48128f8a",
   "metadata": {},
   "outputs": [
    {
     "name": "stdout",
     "output_type": "stream",
     "text": [
      "2.10.0\n",
      "2.10.0\n"
     ]
    }
   ],
   "source": [
    "import tensorflow as tf\n",
    "from tensorflow import keras\n",
    "print(tf.__version__)\n",
    "print(keras.__version__)"
   ]
  },
  {
   "cell_type": "markdown",
   "id": "0a004269",
   "metadata": {},
   "source": [
    "### 케라스를 사용해서 데이터셋 적재하기"
   ]
  },
  {
   "cell_type": "code",
   "execution_count": 2,
   "id": "f26ddbfc",
   "metadata": {},
   "outputs": [],
   "source": [
    "fashion_mnist= keras.datasets.fashion_mnist\n",
    "(X_train_full, y_train_full), (X_test, y_test) = fashion_mnist.load_data()"
   ]
  },
  {
   "cell_type": "code",
   "execution_count": 3,
   "id": "3f98e741",
   "metadata": {},
   "outputs": [
    {
     "data": {
      "text/plain": [
       "(60000, 28, 28)"
      ]
     },
     "execution_count": 3,
     "metadata": {},
     "output_type": "execute_result"
    }
   ],
   "source": [
    "X_train_full.shape\n",
    "# 784크기(1d)로 데이터가 나열된 사이킷런의 mnist데이터(matrix)와 다르게 28x28 배열로 이루어짐(tensor)."
   ]
  },
  {
   "cell_type": "code",
   "execution_count": 4,
   "id": "14bfd067",
   "metadata": {},
   "outputs": [
    {
     "data": {
      "text/plain": [
       "dtype('uint8')"
      ]
     },
     "execution_count": 4,
     "metadata": {},
     "output_type": "execute_result"
    }
   ],
   "source": [
    "X_train_full.dtype"
   ]
  },
  {
   "cell_type": "markdown",
   "id": "6f04acdb",
   "metadata": {},
   "source": [
    "### 트레인셋을 검정셋과 트레인셋으로 나누고 0~1사이의 범위로 스케일 변환\n",
    "검증셋이 없으면 트레인셋에 대한 과대적합이 일어날 수도 있기 때문에 유의해야한다."
   ]
  },
  {
   "cell_type": "code",
   "execution_count": 5,
   "id": "2057cdd5",
   "metadata": {},
   "outputs": [],
   "source": [
    "X_valid, X_train = X_train_full[:5000] / 255.0, X_train_full[5000:]/255.0\n",
    "y_valid, y_train = y_train_full[:5000], y_train_full[5000:]\n",
    "X_test = X_test/255.0"
   ]
  },
  {
   "cell_type": "markdown",
   "id": "ab827841",
   "metadata": {},
   "source": [
    "### class_names"
   ]
  },
  {
   "cell_type": "code",
   "execution_count": 6,
   "id": "0b7e473a",
   "metadata": {},
   "outputs": [],
   "source": [
    "class_names = ['T-shirt/top', \"Trouser\", \"Pullover\", \"Dress\", \"Coat\", \"Sandal\", \" Shirt\",\"Sneaker\", \"Bag\", \"Ankle boot\"]"
   ]
  },
  {
   "cell_type": "markdown",
   "id": "c860cb2b",
   "metadata": {},
   "source": [
    "### 시퀀셜 API를 사용해서 모델 만들기"
   ]
  },
  {
   "cell_type": "code",
   "execution_count": 7,
   "id": "e8a3fa06",
   "metadata": {},
   "outputs": [],
   "source": [
    "# Sequential 모델을 만든다. 이 모델을 가장 간단한 케라스의 신경망 모델이다.\n",
    "#순서대로 연결된 층을 일렬로 쌓아서 구성한다.\n",
    "model = keras.models.Sequential() \n",
    "\n",
    "# 첫번째 층을 만들고 모델에 추가함. Flatten층은 입력이미지를 1D 배열로 변환한다. \n",
    "# 즉, 입력 데이터 X를 받으면 X.reshape(-1, 28*28)을 계산한다. 이층은 모델 파라미터를 가지지 않고, 간단한 전처리만 수행한다.\n",
    "# 모델의 첫번째 층이므로 input_shape를 지정해야한다. 여기에는 배치 크기를 제외한 샘플의 크기만 써야한다. \n",
    "model.add(keras.layers.Flatten(input_shape=[28,28]))\n",
    "\n",
    "# 뉴런 300개를 가진 Dense 은닉층을 추가한다. 이 층의 활성화 함수는 ReLU가 사용된다. \n",
    "# Dense층 마다 각자 가중치행렬을 관리한다. 이 행렬에는 뉴런과 입력 사이의 모든 연결 가중치가 포함된다. \n",
    "# 또한 뉴런마다 하나씩 있는 편향도 벡터로 관리한다.\n",
    "model.add(keras.layers.Dense(300,activation='relu'))\n",
    "\n",
    "# 다음층도 뉴런 100개를 가진 활성화 함수가 ReLU인 Dense은닉층을 추가한다.\n",
    "model.add(keras.layers.Dense(100,activation='relu'))\n",
    "\n",
    "# 마지막으로 뉴런 10개를 가진 Dense층을 추가한다. 배타적인 클래스이기 때문에 soft_max함수를 사용한다.\n",
    "model.add(keras.layers.Dense(10,activation='softmax'))"
   ]
  },
  {
   "cell_type": "code",
   "execution_count": 8,
   "id": "39fbdb1d",
   "metadata": {},
   "outputs": [],
   "source": [
    "# 위와 같은 코드를 다른 방식으로 작성하는 코드이다.\n",
    "model = keras.models.Sequential([\n",
    "    keras.layers.Flatten(input_shape=[28,28]),\n",
    "    keras.layers.Dense(300, activation='relu'),\n",
    "    keras.layers.Dense(100, activation='relu'),\n",
    "    keras.layers.Dense(10, activation='softmax')\n",
    "])"
   ]
  },
  {
   "cell_type": "code",
   "execution_count": 9,
   "id": "7931bee4",
   "metadata": {},
   "outputs": [
    {
     "name": "stdout",
     "output_type": "stream",
     "text": [
      "Model: \"sequential_1\"\n",
      "_________________________________________________________________\n",
      " Layer (type)                Output Shape              Param #   \n",
      "=================================================================\n",
      " flatten_1 (Flatten)         (None, 784)               0         \n",
      "                                                                 \n",
      " dense_3 (Dense)             (None, 300)               235500    \n",
      "                                                                 \n",
      " dense_4 (Dense)             (None, 100)               30100     \n",
      "                                                                 \n",
      " dense_5 (Dense)             (None, 10)                1010      \n",
      "                                                                 \n",
      "=================================================================\n",
      "Total params: 266,610\n",
      "Trainable params: 266,610\n",
      "Non-trainable params: 0\n",
      "_________________________________________________________________\n"
     ]
    }
   ],
   "source": [
    "model.summary()\n",
    "# dense_6은 784 * 300 (가중치 개수) + 300 (편향개수) =235500 만큼의 파라미터를 가진다."
   ]
  },
  {
   "cell_type": "code",
   "execution_count": 10,
   "id": "858145a7",
   "metadata": {
    "scrolled": true
   },
   "outputs": [
    {
     "data": {
      "text/plain": [
       "[<keras.layers.reshaping.flatten.Flatten at 0x20b92aebe50>,\n",
       " <keras.layers.core.dense.Dense at 0x20b92aebfd0>,\n",
       " <keras.layers.core.dense.Dense at 0x20b92aebd60>,\n",
       " <keras.layers.core.dense.Dense at 0x20b93099b50>]"
      ]
     },
     "execution_count": 10,
     "metadata": {},
     "output_type": "execute_result"
    }
   ],
   "source": [
    "model.layers"
   ]
  },
  {
   "cell_type": "markdown",
   "id": "963283a1",
   "metadata": {},
   "source": [
    "### 각 층에 인덱스로 접근"
   ]
  },
  {
   "cell_type": "code",
   "execution_count": 11,
   "id": "faeda482",
   "metadata": {},
   "outputs": [
    {
     "data": {
      "text/plain": [
       "'dense_3'"
      ]
     },
     "execution_count": 11,
     "metadata": {},
     "output_type": "execute_result"
    }
   ],
   "source": [
    "hidden1 = model.layers[1]\n",
    "hidden1.name"
   ]
  },
  {
   "cell_type": "markdown",
   "id": "7c57c9e3",
   "metadata": {},
   "source": [
    "### 각 층의 가중치과 편향을 얻는 함수"
   ]
  },
  {
   "cell_type": "code",
   "execution_count": 12,
   "id": "dcbb2c82",
   "metadata": {},
   "outputs": [
    {
     "name": "stdout",
     "output_type": "stream",
     "text": [
      "(784, 300)\n"
     ]
    },
    {
     "data": {
      "text/plain": [
       "array([[-0.00421565, -0.00351667,  0.05101556, ..., -0.0108448 ,\n",
       "         0.01602399, -0.03167915],\n",
       "       [ 0.00324626,  0.01552586,  0.04142319, ..., -0.07091267,\n",
       "        -0.02079091, -0.00040959],\n",
       "       [ 0.02905273, -0.05547583,  0.03890333, ..., -0.04754068,\n",
       "         0.01252925,  0.03921711],\n",
       "       [-0.05560946, -0.05324187, -0.03196876, ...,  0.07071427,\n",
       "         0.04005713,  0.0312743 ],\n",
       "       [ 0.01593808, -0.02285301, -0.04381575, ...,  0.04904685,\n",
       "        -0.03033808,  0.03853341]], dtype=float32)"
      ]
     },
     "execution_count": 12,
     "metadata": {},
     "output_type": "execute_result"
    }
   ],
   "source": [
    "W, b = hidden1.get_weights()\n",
    "print(W.shape)\n",
    "W[:5]"
   ]
  },
  {
   "cell_type": "code",
   "execution_count": 13,
   "id": "be5d26f6",
   "metadata": {},
   "outputs": [
    {
     "name": "stdout",
     "output_type": "stream",
     "text": [
      "(300,)\n"
     ]
    },
    {
     "data": {
      "text/plain": [
       "array([0., 0., 0., 0., 0., 0., 0., 0., 0., 0.], dtype=float32)"
      ]
     },
     "execution_count": 13,
     "metadata": {},
     "output_type": "execute_result"
    }
   ],
   "source": [
    "print(b.shape)\n",
    "b[:10]"
   ]
  },
  {
   "cell_type": "markdown",
   "id": "ec681b84",
   "metadata": {},
   "source": [
    "### 모델 컴파일\n",
    "사용할 손실함수와 옵티마이저를 지정"
   ]
  },
  {
   "cell_type": "code",
   "execution_count": 14,
   "id": "6da2e8f5",
   "metadata": {},
   "outputs": [],
   "source": [
    "model.compile(loss=\"sparse_categorical_crossentropy\",\n",
    "             optimizer=\"sgd\",\n",
    "             metrics=[\"accuracy\"])"
   ]
  },
  {
   "cell_type": "markdown",
   "id": "37f29a39",
   "metadata": {},
   "source": [
    "위 코드에 대한 설명이 필요할 것 같다.\n",
    "\n",
    "위 코드에서 클래스가 배타적이므로 sparse_categorical_crossentropy 를 사용한다. <br>\n",
    "만약 샘플마다 클래스 별 타깃 확률을 가지고 있다면 catergorical_crossentropy 손실을 사영해야한다.<br>\n",
    "이진 분류나 다중 레이블 이진 분류를 수행한다면 출력층에 \"softmax\"대신 \"sigmoid\"를 사용하고 \"binary_crossentropy\"손실을 사용한다.\n",
    "\n",
    "옵티마이저에 \"sgd\"를 지정하면 기본 확률적 경사하강법을 사용해서 모델을 훈련한다는 의미이다. 즉, 역전파 알고리즘을 수행하는 것이다.\n",
    "\n",
    "마지막으로 분류기 이므로 훈련과 평가시에 정확도를 측정하기 위해서 \"accuracy\"로 지정한다."
   ]
  },
  {
   "cell_type": "markdown",
   "id": "517337fe",
   "metadata": {},
   "source": [
    "### 모델훈련과 평가"
   ]
  },
  {
   "cell_type": "code",
   "execution_count": 15,
   "id": "bcd2852e",
   "metadata": {},
   "outputs": [
    {
     "name": "stdout",
     "output_type": "stream",
     "text": [
      "Epoch 1/30\n",
      "1719/1719 [==============================] - 9s 5ms/step - loss: 0.7261 - accuracy: 0.7597 - val_loss: 0.5212 - val_accuracy: 0.8224\n",
      "Epoch 2/30\n",
      "1719/1719 [==============================] - 8s 5ms/step - loss: 0.4909 - accuracy: 0.8296 - val_loss: 0.5058 - val_accuracy: 0.8264\n",
      "Epoch 3/30\n",
      "1719/1719 [==============================] - 8s 5ms/step - loss: 0.4438 - accuracy: 0.8458 - val_loss: 0.4042 - val_accuracy: 0.8634\n",
      "Epoch 4/30\n",
      "1719/1719 [==============================] - 8s 5ms/step - loss: 0.4146 - accuracy: 0.8540 - val_loss: 0.4318 - val_accuracy: 0.8472\n",
      "Epoch 5/30\n",
      "1719/1719 [==============================] - 8s 4ms/step - loss: 0.3942 - accuracy: 0.8626 - val_loss: 0.3879 - val_accuracy: 0.8638\n",
      "Epoch 6/30\n",
      "1719/1719 [==============================] - 8s 5ms/step - loss: 0.3781 - accuracy: 0.8663 - val_loss: 0.3760 - val_accuracy: 0.8674\n",
      "Epoch 7/30\n",
      "1719/1719 [==============================] - 8s 4ms/step - loss: 0.3630 - accuracy: 0.8706 - val_loss: 0.3616 - val_accuracy: 0.8704\n",
      "Epoch 8/30\n",
      "1719/1719 [==============================] - 8s 5ms/step - loss: 0.3518 - accuracy: 0.8752 - val_loss: 0.3578 - val_accuracy: 0.8752\n",
      "Epoch 9/30\n",
      "1719/1719 [==============================] - 8s 4ms/step - loss: 0.3416 - accuracy: 0.8792 - val_loss: 0.3407 - val_accuracy: 0.8792\n",
      "Epoch 10/30\n",
      "1719/1719 [==============================] - 8s 5ms/step - loss: 0.3312 - accuracy: 0.8819 - val_loss: 0.3378 - val_accuracy: 0.8802\n",
      "Epoch 11/30\n",
      "1719/1719 [==============================] - 8s 4ms/step - loss: 0.3232 - accuracy: 0.8848 - val_loss: 0.3629 - val_accuracy: 0.8724\n",
      "Epoch 12/30\n",
      "1719/1719 [==============================] - 8s 5ms/step - loss: 0.3155 - accuracy: 0.8870 - val_loss: 0.3497 - val_accuracy: 0.8736\n",
      "Epoch 13/30\n",
      "1719/1719 [==============================] - 8s 5ms/step - loss: 0.3072 - accuracy: 0.8891 - val_loss: 0.3305 - val_accuracy: 0.8782\n",
      "Epoch 14/30\n",
      "1719/1719 [==============================] - 8s 5ms/step - loss: 0.2999 - accuracy: 0.8931 - val_loss: 0.3315 - val_accuracy: 0.8832\n",
      "Epoch 15/30\n",
      "1719/1719 [==============================] - 8s 5ms/step - loss: 0.2943 - accuracy: 0.8938 - val_loss: 0.3225 - val_accuracy: 0.8876\n",
      "Epoch 16/30\n",
      "1719/1719 [==============================] - 8s 5ms/step - loss: 0.2894 - accuracy: 0.8958 - val_loss: 0.3142 - val_accuracy: 0.8892\n",
      "Epoch 17/30\n",
      "1719/1719 [==============================] - 8s 5ms/step - loss: 0.2829 - accuracy: 0.8978 - val_loss: 0.3385 - val_accuracy: 0.8780\n",
      "Epoch 18/30\n",
      "1719/1719 [==============================] - 8s 5ms/step - loss: 0.2773 - accuracy: 0.8985 - val_loss: 0.3052 - val_accuracy: 0.8940\n",
      "Epoch 19/30\n",
      "1719/1719 [==============================] - 8s 5ms/step - loss: 0.2723 - accuracy: 0.9034 - val_loss: 0.3020 - val_accuracy: 0.8930\n",
      "Epoch 20/30\n",
      "1719/1719 [==============================] - 8s 5ms/step - loss: 0.2666 - accuracy: 0.9053 - val_loss: 0.3062 - val_accuracy: 0.8886\n",
      "Epoch 21/30\n",
      "1719/1719 [==============================] - 8s 5ms/step - loss: 0.2619 - accuracy: 0.9053 - val_loss: 0.3374 - val_accuracy: 0.8778\n",
      "Epoch 22/30\n",
      "1719/1719 [==============================] - 8s 5ms/step - loss: 0.2577 - accuracy: 0.9077 - val_loss: 0.3004 - val_accuracy: 0.8918\n",
      "Epoch 23/30\n",
      "1719/1719 [==============================] - 8s 5ms/step - loss: 0.2532 - accuracy: 0.9086 - val_loss: 0.3051 - val_accuracy: 0.8906\n",
      "Epoch 24/30\n",
      "1719/1719 [==============================] - 8s 5ms/step - loss: 0.2479 - accuracy: 0.9103 - val_loss: 0.3014 - val_accuracy: 0.8896\n",
      "Epoch 25/30\n",
      "1719/1719 [==============================] - 9s 5ms/step - loss: 0.2439 - accuracy: 0.9122 - val_loss: 0.3044 - val_accuracy: 0.8906\n",
      "Epoch 26/30\n",
      "1719/1719 [==============================] - 9s 5ms/step - loss: 0.2407 - accuracy: 0.9134 - val_loss: 0.2978 - val_accuracy: 0.8916\n",
      "Epoch 27/30\n",
      "1719/1719 [==============================] - 8s 5ms/step - loss: 0.2355 - accuracy: 0.9151 - val_loss: 0.2959 - val_accuracy: 0.8960\n",
      "Epoch 28/30\n",
      "1719/1719 [==============================] - 9s 5ms/step - loss: 0.2320 - accuracy: 0.9170 - val_loss: 0.3146 - val_accuracy: 0.8846\n",
      "Epoch 29/30\n",
      "1719/1719 [==============================] - 8s 5ms/step - loss: 0.2278 - accuracy: 0.9172 - val_loss: 0.3024 - val_accuracy: 0.8876\n",
      "Epoch 30/30\n",
      "1719/1719 [==============================] - 8s 5ms/step - loss: 0.2244 - accuracy: 0.9191 - val_loss: 0.2996 - val_accuracy: 0.8910\n"
     ]
    }
   ],
   "source": [
    "history = model.fit(X_train, y_train, epochs=30,\n",
    "                   validation_data = (X_valid, y_valid))"
   ]
  },
  {
   "cell_type": "markdown",
   "id": "2a9ebed1",
   "metadata": {},
   "source": [
    "<b>특정 클래스가 조금 등장하는 비대칭적 데이터의 경우에는 fit()메소드를 호출할 때 class_weight 매개변수를 지정하는 것이 좋다. 샘플별로 가중치를 부여하고 싶다면 sample_weight 매개변수를 지정하면 된다. (두값이 모두 지정되면 곱해서 사용한다.)<b>"
   ]
  },
  {
   "cell_type": "markdown",
   "id": "c5967d28",
   "metadata": {},
   "source": [
    "### 모델을 다시 fit하면 이어서 fit 된다."
   ]
  },
  {
   "cell_type": "code",
   "execution_count": 16,
   "id": "d47c3a94",
   "metadata": {},
   "outputs": [
    {
     "name": "stdout",
     "output_type": "stream",
     "text": [
      "Epoch 1/10\n",
      "1719/1719 [==============================] - 8s 5ms/step - loss: 0.2203 - accuracy: 0.9203 - val_loss: 0.3215 - val_accuracy: 0.8858\n",
      "Epoch 2/10\n",
      "1719/1719 [==============================] - 8s 5ms/step - loss: 0.2165 - accuracy: 0.9229 - val_loss: 0.2899 - val_accuracy: 0.8974\n",
      "Epoch 3/10\n",
      "1719/1719 [==============================] - 8s 5ms/step - loss: 0.2133 - accuracy: 0.9243 - val_loss: 0.2883 - val_accuracy: 0.8970\n",
      "Epoch 4/10\n",
      "1719/1719 [==============================] - 8s 5ms/step - loss: 0.2103 - accuracy: 0.9250 - val_loss: 0.2928 - val_accuracy: 0.8978\n",
      "Epoch 5/10\n",
      "1719/1719 [==============================] - 8s 5ms/step - loss: 0.2063 - accuracy: 0.9267 - val_loss: 0.2921 - val_accuracy: 0.8964\n",
      "Epoch 6/10\n",
      "1719/1719 [==============================] - 8s 5ms/step - loss: 0.2039 - accuracy: 0.9271 - val_loss: 0.2951 - val_accuracy: 0.8962\n",
      "Epoch 7/10\n",
      "1719/1719 [==============================] - 8s 4ms/step - loss: 0.2006 - accuracy: 0.9282 - val_loss: 0.2938 - val_accuracy: 0.8988\n",
      "Epoch 8/10\n",
      "1719/1719 [==============================] - 8s 5ms/step - loss: 0.1968 - accuracy: 0.9309 - val_loss: 0.2979 - val_accuracy: 0.8964\n",
      "Epoch 9/10\n",
      "1719/1719 [==============================] - 8s 5ms/step - loss: 0.1935 - accuracy: 0.9311 - val_loss: 0.3152 - val_accuracy: 0.8918\n",
      "Epoch 10/10\n",
      "1719/1719 [==============================] - 8s 5ms/step - loss: 0.1905 - accuracy: 0.9317 - val_loss: 0.2975 - val_accuracy: 0.8920\n"
     ]
    },
    {
     "data": {
      "text/plain": [
       "<keras.callbacks.History at 0x20b92d70d30>"
      ]
     },
     "execution_count": 16,
     "metadata": {},
     "output_type": "execute_result"
    }
   ],
   "source": [
    "model.fit(X_train, y_train, epochs=10,\n",
    "                   validation_data = (X_valid, y_valid))"
   ]
  },
  {
   "cell_type": "markdown",
   "id": "e97f6361",
   "metadata": {},
   "source": [
    "### fit() 메소드가 반환하는 History 객체"
   ]
  },
  {
   "cell_type": "code",
   "execution_count": 17,
   "id": "038836e8",
   "metadata": {},
   "outputs": [
    {
     "data": {
      "image/png": "[encoded data removed]",
      "text/plain": [
       "<Figure size 576x360 with 1 Axes>"
      ]
     },
     "metadata": {
      "needs_background": "light"
     },
     "output_type": "display_data"
    }
   ],
   "source": [
    "import pandas as pd\n",
    "import matplotlib.pyplot as plt\n",
    "import numpy as np\n",
    "\n",
    "pd.DataFrame(history.history).plot(figsize=(8,5))\n",
    "plt.grid(True) # 격자 생성\n",
    "plt.gca().set_ylim(0,1) # 수직축의 범위를 0~1로 지정\n",
    "plt.show()"
   ]
  },
  {
   "cell_type": "markdown",
   "id": "b01a21d9",
   "metadata": {},
   "source": [
    "모델의 성능이 너무 낮다면 일반적으로\n",
    "1. 학습률\n",
    "2. 다른 옵티마이저\n",
    "3. 층개수, 뉴런개수, 은닉층의 활성화함수\n",
    "4. 배치크기 \n",
    "순으로 하이퍼라미터를 수정한다."
   ]
  },
  {
   "cell_type": "markdown",
   "id": "96ce263c",
   "metadata": {},
   "source": [
    "### evaluate() 메소드\n",
    "테스트세트로 모델평가"
   ]
  },
  {
   "cell_type": "code",
   "execution_count": 18,
   "id": "422af5e1",
   "metadata": {},
   "outputs": [
    {
     "name": "stdout",
     "output_type": "stream",
     "text": [
      "313/313 [==============================] - 1s 3ms/step - loss: 0.3312 - accuracy: 0.8864\n"
     ]
    },
    {
     "data": {
      "text/plain": [
       "[0.3311586081981659, 0.8863999843597412]"
      ]
     },
     "execution_count": 18,
     "metadata": {},
     "output_type": "execute_result"
    }
   ],
   "source": [
    "model.evaluate(X_test, y_test)"
   ]
  },
  {
   "cell_type": "markdown",
   "id": "3c20f63d",
   "metadata": {},
   "source": [
    "~~엥... 예측 성능이 너무 낮다..~~\n",
    "\n",
    "~~이거를 검색해 봤는데 그냥 진행바에 오류가 있다고 하는데.. 맞는지 모르겠다.~~\n",
    "~~- https://stackoverflow.com/questions/44384924/model-evaluate-in-keras-do-not-cover-all-datapoints~~\n",
    "\n",
    "\n",
    "~~이거는 뉴런들이 dropout 된다는데.. 잘모르겠다~~\n",
    "~~- https://github.com/keras-team/keras/issues/6977~~\n",
    "\n",
    "다시 실행하니까 된다. 이런;"
   ]
  },
  {
   "cell_type": "markdown",
   "id": "9113c429",
   "metadata": {},
   "source": [
    "### 모델을 사용해서 예측을 만들기"
   ]
  },
  {
   "cell_type": "code",
   "execution_count": 19,
   "id": "9fcaf763",
   "metadata": {
    "scrolled": true
   },
   "outputs": [
    {
     "name": "stdout",
     "output_type": "stream",
     "text": [
      "1/1 [==============================] - 0s 172ms/step\n"
     ]
    },
    {
     "data": {
      "text/plain": [
       "array([[0., 0., 0., 0., 0., 0., 0., 0., 0., 1.],\n",
       "       [0., 0., 1., 0., 0., 0., 0., 0., 0., 0.],\n",
       "       [0., 1., 0., 0., 0., 0., 0., 0., 0., 0.]], dtype=float32)"
      ]
     },
     "execution_count": 19,
     "metadata": {},
     "output_type": "execute_result"
    }
   ],
   "source": [
    "X_new = X_test[:3]\n",
    "y_proba = model.predict(X_new)\n",
    "y_proba.round(2)"
   ]
  },
  {
   "cell_type": "markdown",
   "id": "3e387406",
   "metadata": {},
   "source": [
    "### predict_classes 메소드\n",
    "2.6.0 버전이후로 이 메소드가 없어졌다. 그냥 predict메소드에 np.argmax를 적용해서 사용하면 된다"
   ]
  },
  {
   "cell_type": "raw",
   "id": "5edfbff0",
   "metadata": {},
   "source": [
    "y_pred = model.predict_classes(y_proba)\n",
    "\n",
    "#이렇게 사용하면 됨!\n",
    "y_pred = np.argmax(y_proba,axis=-1)"
   ]
  },
  {
   "cell_type": "code",
   "execution_count": 20,
   "id": "ade67536",
   "metadata": {},
   "outputs": [
    {
     "data": {
      "text/plain": [
       "array(['Ankle boot', 'Pullover', 'Trouser'], dtype='<U11')"
      ]
     },
     "execution_count": 20,
     "metadata": {},
     "output_type": "execute_result"
    }
   ],
   "source": [
    "y_pred = np.argmax(y_proba,axis=-1)\n",
    "y_pred\n",
    "np.array(class_names)[y_pred]"
   ]
  },
  {
   "cell_type": "code",
   "execution_count": 21,
   "id": "21c73ebe",
   "metadata": {},
   "outputs": [
    {
     "data": {
      "text/plain": [
       "array([9, 2, 1], dtype=uint8)"
      ]
     },
     "execution_count": 21,
     "metadata": {},
     "output_type": "execute_result"
    }
   ],
   "source": [
    "y_new = y_test[:3]\n",
    "y_new"
   ]
  },
  {
   "cell_type": "markdown",
   "id": "024255d3",
   "metadata": {},
   "source": [
    "### 시퀀셜 API를 사용하여 회귀용 다층 퍼셉트론(MLP) 만들기\n",
    "캘리포니아 주택가격"
   ]
  },
  {
   "cell_type": "code",
   "execution_count": 22,
   "id": "7e3daf78",
   "metadata": {},
   "outputs": [],
   "source": [
    "from sklearn.datasets import fetch_california_housing\n",
    "from sklearn.model_selection import train_test_split\n",
    "from sklearn.preprocessing import StandardScaler\n",
    "\n",
    "housing = fetch_california_housing()\n",
    "\n",
    "X_train_full, X_test, y_train_full, y_test = train_test_split(housing.data, housing.target)\n",
    "X_train, X_valid, y_train, y_valid = train_test_split(X_train_full, y_train_full)\n",
    "\n",
    "scaler = StandardScaler()\n",
    "X_train = scaler.fit_transform(X_train)\n",
    "X_vaild = scaler.fit_transform(X_valid)\n",
    "X_test = scaler.fit_transform(X_test)\n",
    "\n",
    "model = keras.models.Sequential([\n",
    "    keras.layers.Dense(30, activation=\"relu\", input_shape=X_train.shape[1:]),\n",
    "    keras.layers.Dense(1)\n",
    "])\n",
    "model.compile(loss=\"mean_squared_error\", optimizer=\"sgd\")\n",
    "X_new = X_test[:3]"
   ]
  },
  {
   "cell_type": "markdown",
   "id": "7d9d94e2",
   "metadata": {},
   "source": [
    "<b>분류와 회귀의 차이점은 출력층이 활성화 함수가 없는 하나의 뉴런을 가진다는 것과 손실함수로 평균 제곱 오차를 사용한다는 것이다. <br> 이 데이터는 오차가 많기 때문에 뉴런이 적은 하나의 은닉층을 사용할 것입니다."
   ]
  },
  {
   "cell_type": "code",
   "execution_count": 23,
   "id": "3c38d980",
   "metadata": {},
   "outputs": [
    {
     "name": "stdout",
     "output_type": "stream",
     "text": [
      "Epoch 1/20\n",
      "363/363 [==============================] - 2s 4ms/step - loss: 1.1597 - val_loss: 153848.2812\n",
      "Epoch 2/20\n",
      "363/363 [==============================] - 1s 3ms/step - loss: 0.8361 - val_loss: 19253.9766\n",
      "Epoch 3/20\n",
      "363/363 [==============================] - 1s 3ms/step - loss: 0.4630 - val_loss: 72827.2031\n",
      "Epoch 4/20\n",
      "363/363 [==============================] - 1s 3ms/step - loss: 0.4421 - val_loss: 40321.3750\n",
      "Epoch 5/20\n",
      "363/363 [==============================] - 1s 3ms/step - loss: 0.4318 - val_loss: 60312.2773\n",
      "Epoch 6/20\n",
      "363/363 [==============================] - 1s 3ms/step - loss: 0.4236 - val_loss: 55164.6133\n",
      "Epoch 7/20\n",
      "363/363 [==============================] - 1s 3ms/step - loss: 0.4150 - val_loss: 74109.3438\n",
      "Epoch 8/20\n",
      "363/363 [==============================] - 1s 3ms/step - loss: 0.4088 - val_loss: 82298.5000\n",
      "Epoch 9/20\n",
      "363/363 [==============================] - 1s 3ms/step - loss: 0.4054 - val_loss: 50631.8281\n",
      "Epoch 10/20\n",
      "363/363 [==============================] - 1s 3ms/step - loss: 0.3994 - val_loss: 90424.9531\n",
      "Epoch 11/20\n",
      "363/363 [==============================] - 1s 3ms/step - loss: 0.3967 - val_loss: 114505.2031\n",
      "Epoch 12/20\n",
      "363/363 [==============================] - 1s 3ms/step - loss: 0.3913 - val_loss: 85884.6406\n",
      "Epoch 13/20\n",
      "363/363 [==============================] - 1s 3ms/step - loss: 0.4035 - val_loss: 87759.2578\n",
      "Epoch 14/20\n",
      "363/363 [==============================] - 1s 3ms/step - loss: 0.3953 - val_loss: 71347.3359\n",
      "Epoch 15/20\n",
      "363/363 [==============================] - 1s 3ms/step - loss: 0.3842 - val_loss: 77832.7734\n",
      "Epoch 16/20\n",
      "363/363 [==============================] - 1s 3ms/step - loss: 0.3802 - val_loss: 106340.4062\n",
      "Epoch 17/20\n",
      "363/363 [==============================] - 1s 3ms/step - loss: 0.3763 - val_loss: 97173.3438\n",
      "Epoch 18/20\n",
      "363/363 [==============================] - 1s 3ms/step - loss: 0.3719 - val_loss: 54409.1367\n",
      "Epoch 19/20\n",
      "363/363 [==============================] - 1s 3ms/step - loss: 0.3697 - val_loss: 62635.2422\n",
      "Epoch 20/20\n",
      "363/363 [==============================] - 1s 3ms/step - loss: 0.3672 - val_loss: 45284.5117\n",
      "1/1 [==============================] - 0s 103ms/step\n"
     ]
    }
   ],
   "source": [
    "history = model.fit(X_train, y_train, epochs=20,\n",
    "                   validation_data=(X_valid, y_valid))\n",
    "y_pred = model.predict(X_new)"
   ]
  },
  {
   "cell_type": "markdown",
   "id": "08dbe493",
   "metadata": {},
   "source": [
    "### 함수형 API를 사용해 복잡한 모델 만들기\n",
    "Sequential 모델은 쉽지만 입력과 출력이 여러 개거나 더 복잡한 네트워크 토폴로지를 갖는 신경망을 만들어야할 때가 있다.\n",
    "\n",
    "이럴때는 <b>함수형 API</b>를 사용한다. "
   ]
  },
  {
   "attachments": {
    "image.png": {
     "image/png": "[encoded data removed]"
    }
   },
   "cell_type": "markdown",
   "id": "0db4e3e2",
   "metadata": {},
   "source": [
    "- <b> 와이드&딥 신경망\n",
    "    ![image.png](attachment:image.png)"
   ]
  },
  {
   "cell_type": "code",
   "execution_count": 24,
   "id": "e325288b",
   "metadata": {},
   "outputs": [],
   "source": [
    "# Input 객체 만들기. 이 객체는 shape와 dtype을 포함해서 모델의 입력을 정의한다. 한 모델은 여러 입력을 가질수 있다.\n",
    "input_ = keras.layers.Input(shape=X_train.shape[1:])\n",
    "\n",
    "# 30개의 뉴런을 가지고 활성화함수로는 ReLU를 가진 Dense층을 만든다. 이 층은 만들어지자마자 입력과 함께 함수처럼 호출된다.\n",
    "# 케라스에 층이 연결될 방법을 알려주었을 뿐 아직 어떤 데이터도 처리하지 않았다.\n",
    "hidden1 = keras.layers.Dense(30, activation=\"relu\")(input_)\n",
    "\n",
    "# 두번째 은닉층을 만든다. 이 층은 hidden1과 연결되어있다.\n",
    "hidden2 = keras.layers.Dense(30, activation=\"relu\")(hidden1)\n",
    "\n",
    "# Concatenate 층을 만들고 또 다시 함수처럼 호출하여 두 번째 은닉층의 출려과 입력을 연결한다. \n",
    "# 아래 함수는 Concatenate 층을 만들고 주어진 입력으로 바로 호출한다.\n",
    "concat = keras.layers.Concatenate()([input_, hidden2])\n",
    "\n",
    "# 하나의 뉴런과 활성화 함수가 없는 출력층을 만들고 Concatenate 층이 만든 결과를 사용해 호출한다.\n",
    "output = keras.layers.Dense(1)(concat)\n",
    "\n",
    "# 마지막으로 사용할 입력과 출력을 지정하여 케라스 Model을 만든다.\n",
    "model_wide_deep = keras.Model(inputs=[input_], outputs=[output])"
   ]
  },
  {
   "cell_type": "markdown",
   "id": "16e68c9f",
   "metadata": {},
   "source": [
    "- <b> 일부 특성은 짧은 경로로 전달하고 다른 특성들은 깊은 경로로 전달하고 싶다면 어떻게 해야할까?"
   ]
  },
  {
   "cell_type": "code",
   "execution_count": 25,
   "id": "d0fa1b3e",
   "metadata": {},
   "outputs": [],
   "source": [
    "input_A = keras.layers.Input(shape=[5], name=\"wide input\")\n",
    "input_B = keras.layers.Input(shape=[6], name=\"deep input\")\n",
    "\n",
    "hidden1 = keras.layers.Dense(30, activation=\"relu\")(input_B)\n",
    "hidden2 = keras.layers.Dense(30, activation=\"relu\")(hidden1)\n",
    "concat = keras.layers.Concatenate()([input_A, hidden2])\n",
    "output = keras.layers.Dense(1, name=\"output\")(concat)\n",
    "model_two_input_wide_deep = keras.Model(inputs=[input_A, input_B], outputs=[output])"
   ]
  },
  {
   "cell_type": "code",
   "execution_count": 26,
   "id": "f67dedea",
   "metadata": {},
   "outputs": [
    {
     "name": "stdout",
     "output_type": "stream",
     "text": [
      "Epoch 1/20\n",
      "363/363 [==============================] - 2s 4ms/step - loss: 2.0458 - val_loss: 23159.0430\n",
      "Epoch 2/20\n",
      "363/363 [==============================] - 1s 4ms/step - loss: 0.8263 - val_loss: 170099.2656\n",
      "Epoch 3/20\n",
      "363/363 [==============================] - 1s 3ms/step - loss: 0.7071 - val_loss: 177741.2500\n",
      "Epoch 4/20\n",
      "363/363 [==============================] - 1s 4ms/step - loss: 0.6534 - val_loss: 158759.6562\n",
      "Epoch 5/20\n",
      "363/363 [==============================] - 1s 4ms/step - loss: 0.6161 - val_loss: 129512.7031\n",
      "Epoch 6/20\n",
      "363/363 [==============================] - 1s 3ms/step - loss: 0.5891 - val_loss: 102645.5859\n",
      "Epoch 7/20\n",
      "363/363 [==============================] - 1s 3ms/step - loss: 0.5692 - val_loss: 84712.2578\n",
      "Epoch 8/20\n",
      "363/363 [==============================] - 1s 3ms/step - loss: 0.5541 - val_loss: 71169.1250\n",
      "Epoch 9/20\n",
      "363/363 [==============================] - 1s 3ms/step - loss: 0.5433 - val_loss: 61333.6250\n",
      "Epoch 10/20\n",
      "363/363 [==============================] - 1s 4ms/step - loss: 0.5341 - val_loss: 51051.4102\n",
      "Epoch 11/20\n",
      "363/363 [==============================] - 1s 3ms/step - loss: 0.5264 - val_loss: 43885.4961\n",
      "Epoch 12/20\n",
      "363/363 [==============================] - 1s 3ms/step - loss: 0.5211 - val_loss: 37952.3008\n",
      "Epoch 13/20\n",
      "363/363 [==============================] - 1s 3ms/step - loss: 0.5152 - val_loss: 35440.3711\n",
      "Epoch 14/20\n",
      "363/363 [==============================] - 1s 4ms/step - loss: 0.5105 - val_loss: 33540.6484\n",
      "Epoch 15/20\n",
      "363/363 [==============================] - 1s 4ms/step - loss: 0.5063 - val_loss: 33860.8906\n",
      "Epoch 16/20\n",
      "363/363 [==============================] - 1s 3ms/step - loss: 0.5015 - val_loss: 30071.1270\n",
      "Epoch 17/20\n",
      "363/363 [==============================] - 1s 3ms/step - loss: 0.4985 - val_loss: 30564.4844\n",
      "Epoch 18/20\n",
      "363/363 [==============================] - 1s 3ms/step - loss: 0.4949 - val_loss: 26689.8301\n",
      "Epoch 19/20\n",
      "363/363 [==============================] - 1s 3ms/step - loss: 0.4920 - val_loss: 25729.8184\n",
      "Epoch 20/20\n",
      "363/363 [==============================] - 1s 2ms/step - loss: 0.4886 - val_loss: 28221.2051\n",
      "162/162 [==============================] - 0s 2ms/step - loss: 0.4559\n",
      "1/1 [==============================] - 0s 333ms/step\n"
     ]
    }
   ],
   "source": [
    "model_two_input_wide_deep.compile(loss=\"mse\", optimizer=keras.optimizers.SGD(learning_rate=1e-3))\n",
    "\n",
    "# 피처가 중복되도 괜찮다.\n",
    "X_train_A, X_train_B = X_train[:, :5], X_train[:, 2:]\n",
    "X_valid_A, X_valid_B = X_valid[:,:5], X_valid[:,2:]\n",
    "X_test_A, X_test_B = X_test[:,:5], X_test[:,2:]\n",
    "X_new_A, X_new_B = X_test_A[:3], X_test_B[:3]\n",
    "\n",
    "history = model_two_input_wide_deep.fit((X_train_A, X_train_B), y_train, epochs=20,\n",
    "                   validation_data= ((X_valid_A, X_valid_B), y_valid))\n",
    "\n",
    "mse_test = model_two_input_wide_deep.evaluate((X_test_A, X_test_B), y_test)\n",
    "y_pred = model_two_input_wide_deep.predict((X_new_A, X_new_B))"
   ]
  },
  {
   "cell_type": "code",
   "execution_count": 27,
   "id": "a842cbf5",
   "metadata": {},
   "outputs": [
    {
     "name": "stdout",
     "output_type": "stream",
     "text": [
      "Model: \"model_1\"\n",
      "__________________________________________________________________________________________________\n",
      " Layer (type)                   Output Shape         Param #     Connected to                     \n",
      "==================================================================================================\n",
      " deep input (InputLayer)        [(None, 6)]          0           []                               \n",
      "                                                                                                  \n",
      " dense_11 (Dense)               (None, 30)           210         ['deep input[0][0]']             \n",
      "                                                                                                  \n",
      " wide input (InputLayer)        [(None, 5)]          0           []                               \n",
      "                                                                                                  \n",
      " dense_12 (Dense)               (None, 30)           930         ['dense_11[0][0]']               \n",
      "                                                                                                  \n",
      " concatenate_1 (Concatenate)    (None, 35)           0           ['wide input[0][0]',             \n",
      "                                                                  'dense_12[0][0]']               \n",
      "                                                                                                  \n",
      " output (Dense)                 (None, 1)            36          ['concatenate_1[0][0]']          \n",
      "                                                                                                  \n",
      "==================================================================================================\n",
      "Total params: 1,176\n",
      "Trainable params: 1,176\n",
      "Non-trainable params: 0\n",
      "__________________________________________________________________________________________________\n"
     ]
    }
   ],
   "source": [
    "model_two_input_wide_deep.summary()"
   ]
  },
  {
   "cell_type": "markdown",
   "id": "28dc6694",
   "metadata": {},
   "source": [
    "- <b> 여러개의 출력이 필요한 경우</b>\n",
    "\n",
    "    ex) \n",
    "    1. 그림에 있는 주요 물체를 분류하고 위치를 알아야 하는 경우. (회귀작업 + 분류작업)\n",
    "    2. 동일한 데이터에서 독립적인 여러 작업을 수행할 때. (다중 작업 분류)\n",
    "    3. 규제기법을 사용하는 경우. 하위 네트워크가 나머지 네트워크에 의존하지 않고 그 자체로 유용한지를 판단할 때"
   ]
  },
  {
   "cell_type": "code",
   "execution_count": 28,
   "id": "729ab40f",
   "metadata": {},
   "outputs": [
    {
     "name": "stdout",
     "output_type": "stream",
     "text": [
      "Epoch 1/20\n",
      "363/363 [==============================] - 4s 6ms/step - loss: 0.9897 - main_output_loss: 0.8777 - aux_output_loss: 1.9980 - val_loss: 52730.6016 - val_main_output_loss: 30485.6211 - val_aux_output_loss: 252935.3125\n",
      "Epoch 2/20\n",
      "363/363 [==============================] - 1s 4ms/step - loss: 0.6853 - main_output_loss: 0.6422 - aux_output_loss: 1.0726 - val_loss: 23022.1328 - val_main_output_loss: 9170.2549 - val_aux_output_loss: 147688.9531\n",
      "Epoch 3/20\n",
      "363/363 [==============================] - 1s 4ms/step - loss: 0.5837 - main_output_loss: 0.5465 - aux_output_loss: 0.9181 - val_loss: 27494.3398 - val_main_output_loss: 20054.1270 - val_aux_output_loss: 94456.1719\n",
      "Epoch 4/20\n",
      "363/363 [==============================] - 1s 4ms/step - loss: 0.5384 - main_output_loss: 0.5087 - aux_output_loss: 0.8053 - val_loss: 23686.7637 - val_main_output_loss: 15905.2549 - val_aux_output_loss: 93720.3750\n",
      "Epoch 5/20\n",
      "363/363 [==============================] - 1s 4ms/step - loss: 0.5134 - main_output_loss: 0.4858 - aux_output_loss: 0.7615 - val_loss: 16632.1035 - val_main_output_loss: 11024.4229 - val_aux_output_loss: 67101.2422\n",
      "Epoch 6/20\n",
      "363/363 [==============================] - 1s 4ms/step - loss: 0.5049 - main_output_loss: 0.4810 - aux_output_loss: 0.7207 - val_loss: 15756.3145 - val_main_output_loss: 10467.4854 - val_aux_output_loss: 63355.7617\n",
      "Epoch 7/20\n",
      "363/363 [==============================] - 1s 4ms/step - loss: 0.4881 - main_output_loss: 0.4655 - aux_output_loss: 0.6916 - val_loss: 19588.2949 - val_main_output_loss: 15488.7764 - val_aux_output_loss: 56484.0430\n",
      "Epoch 8/20\n",
      "363/363 [==============================] - 1s 4ms/step - loss: 0.4720 - main_output_loss: 0.4504 - aux_output_loss: 0.6658 - val_loss: 12317.5771 - val_main_output_loss: 8832.5439 - val_aux_output_loss: 43682.8555\n",
      "Epoch 9/20\n",
      "363/363 [==============================] - 1s 3ms/step - loss: 0.4659 - main_output_loss: 0.4456 - aux_output_loss: 0.6493 - val_loss: 15805.2969 - val_main_output_loss: 12942.4873 - val_aux_output_loss: 41570.5703\n",
      "Epoch 10/20\n",
      "363/363 [==============================] - 1s 3ms/step - loss: 0.4603 - main_output_loss: 0.4411 - aux_output_loss: 0.6338 - val_loss: 26992.6816 - val_main_output_loss: 24485.9531 - val_aux_output_loss: 49553.2578\n",
      "Epoch 11/20\n",
      "363/363 [==============================] - 1s 4ms/step - loss: 0.4501 - main_output_loss: 0.4316 - aux_output_loss: 0.6170 - val_loss: 16321.3477 - val_main_output_loss: 13626.0508 - val_aux_output_loss: 40579.0156\n",
      "Epoch 12/20\n",
      "363/363 [==============================] - 1s 4ms/step - loss: 0.4410 - main_output_loss: 0.4224 - aux_output_loss: 0.6081 - val_loss: 17021.5996 - val_main_output_loss: 14281.3223 - val_aux_output_loss: 41684.0898\n",
      "Epoch 13/20\n",
      "363/363 [==============================] - 1s 4ms/step - loss: 0.4401 - main_output_loss: 0.4225 - aux_output_loss: 0.5984 - val_loss: 10177.6523 - val_main_output_loss: 8202.1025 - val_aux_output_loss: 27957.6035\n",
      "Epoch 14/20\n",
      "363/363 [==============================] - 1s 4ms/step - loss: 0.4303 - main_output_loss: 0.4136 - aux_output_loss: 0.5808 - val_loss: 11164.1865 - val_main_output_loss: 9658.3018 - val_aux_output_loss: 24717.1680\n",
      "Epoch 15/20\n",
      "363/363 [==============================] - 1s 4ms/step - loss: 0.4223 - main_output_loss: 0.4057 - aux_output_loss: 0.5718 - val_loss: 6461.2476 - val_main_output_loss: 4706.1230 - val_aux_output_loss: 22257.3750\n",
      "Epoch 16/20\n",
      "363/363 [==============================] - 2s 4ms/step - loss: 0.4399 - main_output_loss: 0.4226 - aux_output_loss: 0.5952 - val_loss: 8465.5381 - val_main_output_loss: 7001.2178 - val_aux_output_loss: 21644.4043\n",
      "Epoch 17/20\n",
      "363/363 [==============================] - 2s 4ms/step - loss: 0.4357 - main_output_loss: 0.4185 - aux_output_loss: 0.5903 - val_loss: 6951.1729 - val_main_output_loss: 4779.8081 - val_aux_output_loss: 26493.4609\n",
      "Epoch 18/20\n",
      "363/363 [==============================] - 1s 4ms/step - loss: 0.4217 - main_output_loss: 0.4069 - aux_output_loss: 0.5548 - val_loss: 14196.0215 - val_main_output_loss: 13819.5918 - val_aux_output_loss: 17583.8672\n",
      "Epoch 19/20\n",
      "363/363 [==============================] - 1s 4ms/step - loss: 0.4109 - main_output_loss: 0.3958 - aux_output_loss: 0.5472 - val_loss: 7080.9155 - val_main_output_loss: 6503.6650 - val_aux_output_loss: 12276.1924\n",
      "Epoch 20/20\n",
      "363/363 [==============================] - 1s 3ms/step - loss: 0.4056 - main_output_loss: 0.3909 - aux_output_loss: 0.5373 - val_loss: 9726.9980 - val_main_output_loss: 8696.7588 - val_aux_output_loss: 18999.1465\n",
      "162/162 [==============================] - 0s 2ms/step - loss: 0.3628 - main_output_loss: 0.3488 - aux_output_loss: 0.4885\n",
      "1/1 [==============================] - 0s 69ms/step\n"
     ]
    }
   ],
   "source": [
    "input_A = keras.layers.Input(shape=[5], name=\"wide input\")\n",
    "input_B = keras.layers.Input(shape=[6], name=\"deep input\")\n",
    "\n",
    "hidden1 = keras.layers.Dense(30, activation=\"relu\")(input_B)\n",
    "hidden2 = keras.layers.Dense(30, activation=\"relu\")(hidden1)\n",
    "concat = keras.layers.Concatenate()([input_A, hidden2])\n",
    "main_output = keras.layers.Dense(1, name=\"main_output\")(concat)\n",
    "aux_output = keras.layers.Dense(1, name=\"aux_output\")(hidden2)\n",
    "\n",
    "model_two_output_wide_deep = keras.Model(inputs=[input_A, input_B], outputs=[main_output, aux_output])\n",
    "\n",
    "model_two_output_wide_deep.compile(loss=[\"mse\", \"mse\"], optimizer=\"sgd\", loss_weights = [0.9, 0.1])\n",
    "\n",
    "# 피처가 중복되도 괜찮다.\n",
    "X_train_A, X_train_B = X_train[:, :5], X_train[:, 2:]\n",
    "X_valid_A, X_valid_B = X_valid[:,:5], X_valid[:,2:]\n",
    "X_test_A, X_test_B = X_test[:,:5], X_test[:,2:]\n",
    "X_new_A, X_new_B = X_test_A[:3], X_test_B[:3]\n",
    "\n",
    "history = model_two_output_wide_deep.fit((X_train_A, X_train_B), [y_train,y_train], epochs=20,\n",
    "                   validation_data= ((X_valid_A, X_valid_B), (y_valid, y_valid)))\n",
    "\n",
    "mse_test = model_two_output_wide_deep.evaluate((X_test_A, X_test_B), y_test)\n",
    "y_pred_main, y_pred_aux = model_two_output_wide_deep.predict((X_new_A, X_new_B))"
   ]
  },
  {
   "cell_type": "code",
   "execution_count": 29,
   "id": "c1cc387b",
   "metadata": {},
   "outputs": [
    {
     "name": "stdout",
     "output_type": "stream",
     "text": [
      "162/162 [==============================] - 0s 3ms/step - loss: 0.3628 - main_output_loss: 0.3488 - aux_output_loss: 0.4885\n"
     ]
    }
   ],
   "source": [
    "total_loss, main_loss ,aux_loss = model_two_output_wide_deep.evaluate([X_test_A, X_test_B], [y_test, y_test])"
   ]
  },
  {
   "cell_type": "code",
   "execution_count": 30,
   "id": "273b6871",
   "metadata": {},
   "outputs": [],
   "source": [
    "class Dynamic_WideAndDeepModel(keras.Model):\n",
    "    def __init__(self, units=30, activation=\"relu\", **kwargs):\n",
    "        super().__init__(**kwargs) # 표준 매개변수를 처리한다. ex) name\n",
    "        self.hidden1 = keras.layers.Dense(units, activation= activation)\n",
    "        self.hidden2 = keras.layers.Dense(units, activation= activation)\n",
    "        self.main_output = keras.layers.Dense(1)\n",
    "        self.aux_output = keras.layers.Dense(1)\n",
    "        \n",
    "    def call(self, inputs):\n",
    "        input_A , input_B = inputs\n",
    "        hidden1 = self.hidden1(input_B)\n",
    "        hidden2 = self.hidden2(hidden1)\n",
    "        concat = keras.layers.concatenate([input1, input2])\n",
    "        main_output = self.main_output(concat)\n",
    "        aux_output = self.aux_output(hidden2)\n",
    "        return main_output, aux_output\n",
    "    \n",
    "dynamic_wide_deep_model = Dynamic_WideAndDeepModel()"
   ]
  },
  {
   "cell_type": "markdown",
   "id": "b4b8bbeb",
   "metadata": {},
   "source": [
    "이 예제는 함수형 API와 굉장히 비슷하지만, call함수에 무수히 많은 계산들을 넣을 수도 있다. 자유자재로 변형이 가능하다는 것이다.\n",
    "\n",
    "하지만 call함수에 층간의 관계가 있으므로 모델을 저장하거나 복사할 수가 없다는 불편함이 존재한다."
   ]
  },
  {
   "cell_type": "markdown",
   "id": "28c0e04d",
   "metadata": {},
   "source": [
    "### 모델 저장과 복원\n",
    "시퀀셜 API나 함수형 API를 사용하면 모델을 저장하는 것은 다음과 같이 매수 쉽다."
   ]
  },
  {
   "cell_type": "markdown",
   "id": "20475089",
   "metadata": {},
   "source": [
    "``` python\n",
    "## 모델 저장\n",
    "model = keras.models.Sequential([...])\n",
    "model.compile([...])\n",
    "model.fit([...])\n",
    "model.save(\"my_keras_model.h5\")\n",
    "\n",
    "## 모델 불러오기\n",
    "model = keras.models.load_model(\"my_keras_model.h5\")\n",
    "```"
   ]
  },
  {
   "cell_type": "markdown",
   "id": "94cbf7ee",
   "metadata": {},
   "source": [
    "## 콜백 사용하기\n",
    "fit 메소드에서 체크포인트를 저장하는 방법"
   ]
  },
  {
   "cell_type": "raw",
   "id": "774cf933",
   "metadata": {},
   "source": [
    "# 간단한 체크포인트 저장\n",
    "\n",
    "checkpoint_cb = keras.callbacks.ModelCheckPoint(\"my_keras_model.h5\")\n",
    "history = model.fit(X_train, y_train, epochs=10, callbacks=[checkpoint_cb])"
   ]
  },
  {
   "cell_type": "raw",
   "id": "22a01cfa",
   "metadata": {},
   "source": [
    "# 최상의 모델만 저장하는 callbacks 메소드 사용법\n",
    "# 조기종료를 구현하는 것임\n",
    "checkpoint_cb = keras.callbacks.ModelCheckPoint(\"my_keras_model.h5\",\n",
    "                                               save_best_only=True)\n",
    "history = model.fit(X_train, y_train, epochs=10, callbacks=[checkpoint_cb])\n",
    "\n",
    "model = keras.model.load_model(\"my_keras_model.h5\") # 최상의 모델로 복원"
   ]
  },
  {
   "cell_type": "raw",
   "id": "55ff7c7b",
   "metadata": {},
   "source": [
    "# 조기종료를 구현하는 방법\n",
    "early_stopping_cb = keras.callbacks.EarlyStopping(patience=10,\n",
    "                                                 restore_best_weight=True)\n",
    "history = model.fit(X_train, y_train, epochs=100,\n",
    "                   validation_data=(X_valid, y_valid),\n",
    "                   callbacks=[checkpoint_cb, early_stopping_cb])"
   ]
  },
  {
   "cell_type": "markdown",
   "id": "106ad312",
   "metadata": {},
   "source": [
    "### 텐서보드를 사용해서 시각화하기"
   ]
  },
  {
   "cell_type": "code",
   "execution_count": 31,
   "id": "cb5aa8a9",
   "metadata": {},
   "outputs": [],
   "source": [
    "import os \n",
    "root_logdir = os.path.join(os.curdir, \"my_logs\")\n",
    "\n",
    "def get_run_logdir():\n",
    "    import time\n",
    "    run_id = time.strftime(\"run_%Y_%m_%d-%H_%M_%S\")\n",
    "    return os.path.join(root_logdir, run_id)\n",
    "\n",
    "run_logdir = get_run_logdir()"
   ]
  },
  {
   "cell_type": "code",
   "execution_count": 32,
   "id": "23f9ad55",
   "metadata": {},
   "outputs": [
    {
     "name": "stdout",
     "output_type": "stream",
     "text": [
      "Epoch 1/30\n",
      "363/363 [==============================] - 1s 4ms/step - loss: 0.3637 - val_loss: 53801.4961\n",
      "Epoch 2/30\n",
      "363/363 [==============================] - 1s 3ms/step - loss: 0.3629 - val_loss: 27846.7598\n",
      "Epoch 3/30\n",
      "363/363 [==============================] - 1s 3ms/step - loss: 0.3622 - val_loss: 34074.1211\n",
      "Epoch 4/30\n",
      "363/363 [==============================] - 1s 3ms/step - loss: 0.3587 - val_loss: 28352.1562\n",
      "Epoch 5/30\n",
      "363/363 [==============================] - 1s 3ms/step - loss: 0.3560 - val_loss: 40420.8750\n",
      "Epoch 6/30\n",
      "363/363 [==============================] - 1s 4ms/step - loss: 0.3562 - val_loss: 44642.9961\n",
      "Epoch 7/30\n",
      "363/363 [==============================] - 1s 4ms/step - loss: 0.3522 - val_loss: 70705.3125\n",
      "Epoch 8/30\n",
      "363/363 [==============================] - 1s 4ms/step - loss: 0.3502 - val_loss: 51822.0352\n",
      "Epoch 9/30\n",
      "363/363 [==============================] - 1s 4ms/step - loss: 0.3488 - val_loss: 27289.7949\n",
      "Epoch 10/30\n",
      "363/363 [==============================] - 1s 3ms/step - loss: 0.3565 - val_loss: 28899.6191\n",
      "Epoch 11/30\n",
      "363/363 [==============================] - 1s 3ms/step - loss: 0.3479 - val_loss: 59179.4453\n",
      "Epoch 12/30\n",
      "363/363 [==============================] - 1s 3ms/step - loss: 0.3452 - val_loss: 62973.7539\n",
      "Epoch 13/30\n",
      "363/363 [==============================] - 1s 3ms/step - loss: 0.3432 - val_loss: 44809.3203\n",
      "Epoch 14/30\n",
      "363/363 [==============================] - 1s 3ms/step - loss: 0.3415 - val_loss: 58504.3828\n",
      "Epoch 15/30\n",
      "363/363 [==============================] - 1s 3ms/step - loss: 0.3398 - val_loss: 52159.1680\n",
      "Epoch 16/30\n",
      "363/363 [==============================] - 1s 3ms/step - loss: 0.3387 - val_loss: 51194.6133\n",
      "Epoch 17/30\n",
      "363/363 [==============================] - 1s 3ms/step - loss: 0.3410 - val_loss: 42015.3672\n",
      "Epoch 18/30\n",
      "363/363 [==============================] - 1s 3ms/step - loss: 0.3382 - val_loss: 60589.4570\n",
      "Epoch 19/30\n",
      "363/363 [==============================] - 1s 3ms/step - loss: 0.3369 - val_loss: 52889.5703\n",
      "Epoch 20/30\n",
      "363/363 [==============================] - 1s 3ms/step - loss: 0.3360 - val_loss: 39743.0469\n",
      "Epoch 21/30\n",
      "363/363 [==============================] - 1s 3ms/step - loss: 0.3368 - val_loss: 44446.1836\n",
      "Epoch 22/30\n",
      "363/363 [==============================] - 1s 3ms/step - loss: 0.3340 - val_loss: 38647.7695\n",
      "Epoch 23/30\n",
      "363/363 [==============================] - 1s 3ms/step - loss: 0.3348 - val_loss: 68149.8516\n",
      "Epoch 24/30\n",
      "363/363 [==============================] - 1s 3ms/step - loss: 0.3331 - val_loss: 37388.0586\n",
      "Epoch 25/30\n",
      "363/363 [==============================] - 1s 2ms/step - loss: 0.3314 - val_loss: 33523.4414\n",
      "Epoch 26/30\n",
      "363/363 [==============================] - 1s 2ms/step - loss: 0.3321 - val_loss: 89337.3906\n",
      "Epoch 27/30\n",
      "363/363 [==============================] - 1s 3ms/step - loss: 0.3305 - val_loss: 39693.6562\n",
      "Epoch 28/30\n",
      "363/363 [==============================] - 1s 3ms/step - loss: 0.3327 - val_loss: 87049.3125\n",
      "Epoch 29/30\n",
      "363/363 [==============================] - 1s 3ms/step - loss: 0.3317 - val_loss: 32333.0742\n",
      "Epoch 30/30\n",
      "363/363 [==============================] - 1s 3ms/step - loss: 0.3298 - val_loss: 42891.7383\n"
     ]
    }
   ],
   "source": [
    "tensorboard_cb = keras.callbacks.TensorBoard(run_logdir)\n",
    "history = model.fit(X_train, y_train, epochs=30,\n",
    "                   validation_data=(X_valid, y_valid),\n",
    "                   callbacks=[tensorboard_cb])"
   ]
  },
  {
   "cell_type": "code",
   "execution_count": 33,
   "id": "e681f6a7",
   "metadata": {},
   "outputs": [
    {
     "data": {
      "text/plain": [
       "Reusing TensorBoard on port 6006 (pid 17440), started 3 days, 23:07:48 ago. (Use '!kill 17440' to kill it.)"
      ]
     },
     "metadata": {},
     "output_type": "display_data"
    },
    {
     "data": {
      "text/html": [
       "\n",
       "      <iframe id=\"tensorboard-frame-35a7223be45a6497\" width=\"100%\" height=\"800\" frameborder=\"0\">\n",
       "      </iframe>\n",
       "      <script>\n",
       "        (function() {\n",
       "          const frame = document.getElementById(\"tensorboard-frame-35a7223be45a6497\");\n",
       "          const url = new URL(\"/\", window.location);\n",
       "          const port = 6006;\n",
       "          if (port) {\n",
       "            url.port = port;\n",
       "          }\n",
       "          frame.src = url;\n",
       "        })();\n",
       "      </script>\n",
       "    "
      ],
      "text/plain": [
       "<IPython.core.display.HTML object>"
      ]
     },
     "metadata": {},
     "output_type": "display_data"
    }
   ],
   "source": [
    "# 주피터 노트북 내부에서 텐서보드 사용\n",
    "%load_ext tensorboard\n",
    "%tensorboard --logdir=./my_logs --port=6006"
   ]
  },
  {
   "cell_type": "markdown",
   "id": "331c47bf",
   "metadata": {},
   "source": [
    "### 신경망 하이퍼파라미터 튜닝하기\n",
    "그리드서치 or RandomizedSearchCV를 사용하기 위해서는 케라스 모델을 사이킷런 추정기처럼 보이도록 해야한다."
   ]
  },
  {
   "cell_type": "code",
   "execution_count": 34,
   "id": "cf694199",
   "metadata": {},
   "outputs": [
    {
     "name": "stderr",
     "output_type": "stream",
     "text": [
      "C:\\Users\\user\\AppData\\Local\\Temp/ipykernel_12716/3126652774.py:11: DeprecationWarning: KerasRegressor is deprecated, use Sci-Keras (https://github.com/adriangb/scikeras) instead. See https://www.adriangb.com/scikeras/stable/migration.html for help migrating.\n",
      "  keras_reg = keras.wrappers.scikit_learn.KerasRegressor(bulid_model)\n"
     ]
    }
   ],
   "source": [
    "def bulid_model(n_hidden=1, n_neurons=30, learning_rate=3e-3, input_shape=[8]):\n",
    "    model = keras.models.Sequential()\n",
    "    model.add(keras.layers.InputLayers(input_shape=input_shape))\n",
    "    for layer in range(n_hidden):\n",
    "        model.add(keras.layers.Dense(n_neurons, activation=\"relu\"))\n",
    "    model.add(keras.layers.Dense(1))\n",
    "    optimizer = keras.optimizers.SGD(learning_rate=learning_rate)\n",
    "    model.compile(loss=\"mse\", optimizer=optimizer)\n",
    "    return model\n",
    "\n",
    "keras_reg = keras.wrappers.scikit_learn.KerasRegressor(bulid_model)"
   ]
  },
  {
   "cell_type": "markdown",
   "id": "947cd2ac",
   "metadata": {},
   "source": [
    "위와 같은 오류가 떴다. 그래서 scikeras를 설치했다."
   ]
  },
  {
   "cell_type": "code",
   "execution_count": 35,
   "id": "e589cbb3",
   "metadata": {},
   "outputs": [],
   "source": [
    "import scikeras"
   ]
  },
  {
   "cell_type": "code",
   "execution_count": 36,
   "id": "5d65f6f3",
   "metadata": {},
   "outputs": [],
   "source": [
    "from scikeras.wrappers import KerasClassifier, KerasRegressor\n",
    "\n",
    "def bulid_model(n_hidden=1, n_neurons=30, learning_rate=3e-3, input_shape=[8]):\n",
    "    model = keras.models.Sequential()\n",
    "    model.add(keras.layers.InputLayer(input_shape=input_shape))\n",
    "    for layer in range(n_hidden):\n",
    "        model.add(keras.layers.Dense(n_neurons, activation=\"relu\"))\n",
    "    model.add(keras.layers.Dense(1))\n",
    "    optimizer = keras.optimizers.SGD(learning_rate=learning_rate)\n",
    "    model.compile(loss=\"mse\", optimizer=optimizer)\n",
    "    return model\n",
    "\n",
    "keras_reg = scikeras.wrappers.KerasRegressor(bulid_model)"
   ]
  },
  {
   "cell_type": "markdown",
   "id": "801f5abb",
   "metadata": {},
   "source": [
    "사이킷런 추정기처럼 보이게 하는 래퍼를 감싸면 사이킷런에서 사용되는 메소드를 사용할 수 있다."
   ]
  },
  {
   "cell_type": "code",
   "execution_count": 37,
   "id": "c1a68f70",
   "metadata": {
    "scrolled": true
   },
   "outputs": [
    {
     "name": "stdout",
     "output_type": "stream",
     "text": [
      "Epoch 1/50\n",
      "363/363 [==============================] - 1s 3ms/step - loss: 1.5383 - val_loss: 100063.3438\n",
      "Epoch 2/50\n",
      "363/363 [==============================] - 1s 3ms/step - loss: 0.7809 - val_loss: 113323.7109\n",
      "Epoch 3/50\n",
      "363/363 [==============================] - 1s 3ms/step - loss: 0.6223 - val_loss: 63210.6211\n",
      "Epoch 4/50\n",
      "363/363 [==============================] - 1s 3ms/step - loss: 0.5673 - val_loss: 89869.0156\n",
      "Epoch 5/50\n",
      "363/363 [==============================] - 1s 3ms/step - loss: 0.5348 - val_loss: 61910.8594\n",
      "Epoch 6/50\n",
      "363/363 [==============================] - 1s 2ms/step - loss: 0.5124 - val_loss: 44106.4922\n",
      "Epoch 7/50\n",
      "363/363 [==============================] - 1s 3ms/step - loss: 0.5005 - val_loss: 38721.6602\n",
      "Epoch 8/50\n",
      "363/363 [==============================] - 1s 3ms/step - loss: 0.4917 - val_loss: 29073.8086\n",
      "Epoch 9/50\n",
      "363/363 [==============================] - 1s 3ms/step - loss: 0.4848 - val_loss: 28429.7500\n",
      "Epoch 10/50\n",
      "363/363 [==============================] - 1s 3ms/step - loss: 0.4784 - val_loss: 24399.7676\n",
      "Epoch 11/50\n",
      "363/363 [==============================] - 1s 3ms/step - loss: 0.4728 - val_loss: 30772.4336\n",
      "Epoch 12/50\n",
      "363/363 [==============================] - 1s 3ms/step - loss: 0.4688 - val_loss: 20830.1094\n",
      "Epoch 13/50\n",
      "363/363 [==============================] - 1s 3ms/step - loss: 0.4646 - val_loss: 28682.2227\n",
      "Epoch 14/50\n",
      "363/363 [==============================] - 1s 3ms/step - loss: 0.4612 - val_loss: 23858.8535\n",
      "Epoch 15/50\n",
      "363/363 [==============================] - 1s 3ms/step - loss: 0.4574 - val_loss: 21225.7070\n",
      "Epoch 16/50\n",
      "363/363 [==============================] - 1s 3ms/step - loss: 0.4558 - val_loss: 17352.3867\n",
      "Epoch 17/50\n",
      "363/363 [==============================] - 1s 3ms/step - loss: 0.4544 - val_loss: 13942.7734\n",
      "Epoch 18/50\n",
      "363/363 [==============================] - 1s 3ms/step - loss: 0.4496 - val_loss: 16115.6895\n",
      "Epoch 19/50\n",
      "363/363 [==============================] - 1s 3ms/step - loss: 0.4468 - val_loss: 16365.9072\n",
      "Epoch 20/50\n",
      "363/363 [==============================] - 1s 3ms/step - loss: 0.4448 - val_loss: 14620.6572\n",
      "Epoch 21/50\n",
      "363/363 [==============================] - 1s 3ms/step - loss: 0.4423 - val_loss: 15221.4053\n",
      "Epoch 22/50\n",
      "363/363 [==============================] - 1s 3ms/step - loss: 0.4402 - val_loss: 17524.0215\n",
      "Epoch 23/50\n",
      "363/363 [==============================] - 1s 4ms/step - loss: 0.4383 - val_loss: 20436.1406\n",
      "Epoch 24/50\n",
      "363/363 [==============================] - 1s 3ms/step - loss: 0.4362 - val_loss: 17211.5273\n",
      "Epoch 25/50\n",
      "363/363 [==============================] - 1s 3ms/step - loss: 0.4347 - val_loss: 16623.7402\n",
      "Epoch 26/50\n",
      "363/363 [==============================] - 1s 3ms/step - loss: 0.4322 - val_loss: 16188.7119\n",
      "Epoch 27/50\n",
      "363/363 [==============================] - 1s 3ms/step - loss: 0.4312 - val_loss: 20095.2461\n",
      "Epoch 28/50\n",
      "363/363 [==============================] - 1s 3ms/step - loss: 0.4286 - val_loss: 18477.9551\n",
      "Epoch 29/50\n",
      "363/363 [==============================] - 1s 3ms/step - loss: 0.4273 - val_loss: 19401.5156\n",
      "Epoch 30/50\n",
      "363/363 [==============================] - 1s 3ms/step - loss: 0.4255 - val_loss: 22061.9883\n",
      "Epoch 31/50\n",
      "363/363 [==============================] - 1s 3ms/step - loss: 0.4234 - val_loss: 20381.5820\n",
      "Epoch 32/50\n",
      "363/363 [==============================] - 1s 3ms/step - loss: 0.4226 - val_loss: 16292.7051\n",
      "Epoch 33/50\n",
      "363/363 [==============================] - 1s 3ms/step - loss: 0.4222 - val_loss: 26374.3711\n",
      "Epoch 34/50\n",
      "363/363 [==============================] - 1s 4ms/step - loss: 0.4199 - val_loss: 22145.8359\n",
      "Epoch 35/50\n",
      "363/363 [==============================] - 1s 4ms/step - loss: 0.4194 - val_loss: 26523.0312\n",
      "Epoch 36/50\n",
      "363/363 [==============================] - 1s 3ms/step - loss: 0.4170 - val_loss: 22153.1582\n",
      "Epoch 37/50\n",
      "363/363 [==============================] - 1s 2ms/step - loss: 0.4157 - val_loss: 21012.2773\n",
      "Epoch 38/50\n",
      "363/363 [==============================] - 1s 3ms/step - loss: 0.4133 - val_loss: 22638.6680\n",
      "Epoch 39/50\n",
      "363/363 [==============================] - 1s 3ms/step - loss: 0.4218 - val_loss: 20419.2969\n",
      "Epoch 40/50\n",
      "363/363 [==============================] - 1s 3ms/step - loss: 0.4253 - val_loss: 18137.0430\n",
      "Epoch 41/50\n",
      "363/363 [==============================] - 1s 3ms/step - loss: 0.4110 - val_loss: 25617.5898\n",
      "Epoch 42/50\n",
      "363/363 [==============================] - 1s 3ms/step - loss: 0.4098 - val_loss: 24393.5430\n",
      "Epoch 43/50\n",
      "363/363 [==============================] - 1s 3ms/step - loss: 0.4065 - val_loss: 13207.9521\n",
      "Epoch 44/50\n",
      "363/363 [==============================] - 1s 3ms/step - loss: 0.4047 - val_loss: 22657.6992\n",
      "Epoch 45/50\n",
      "363/363 [==============================] - 1s 3ms/step - loss: 0.4029 - val_loss: 16383.0879\n",
      "Epoch 46/50\n",
      "363/363 [==============================] - 1s 3ms/step - loss: 0.4018 - val_loss: 19242.6172\n",
      "Epoch 47/50\n",
      "363/363 [==============================] - 1s 3ms/step - loss: 0.4013 - val_loss: 21285.4648\n",
      "Epoch 48/50\n",
      "363/363 [==============================] - 1s 3ms/step - loss: 0.4002 - val_loss: 22623.3398\n",
      "Epoch 49/50\n",
      "363/363 [==============================] - 1s 3ms/step - loss: 0.3983 - val_loss: 17931.7148\n",
      "Epoch 50/50\n",
      "363/363 [==============================] - 1s 3ms/step - loss: 0.3968 - val_loss: 18836.7363\n",
      "WARNING:tensorflow:5 out of the last 5 calls to <function Model.make_predict_function.<locals>.predict_function at 0x0000020B924A7AF0> triggered tf.function retracing. Tracing is expensive and the excessive number of tracings could be due to (1) creating @tf.function repeatedly in a loop, (2) passing tensors with different shapes, (3) passing Python objects instead of tensors. For (1), please define your @tf.function outside of the loop. For (2), @tf.function has reduce_retracing=True option that can avoid unnecessary retracing. For (3), please refer to https://www.tensorflow.org/guide/function#controlling_retracing and https://www.tensorflow.org/api_docs/python/tf/function for  more details.\n",
      "162/162 [==============================] - 0s 1ms/step\n",
      "1/1 [==============================] - 0s 23ms/step\n"
     ]
    }
   ],
   "source": [
    "keras_reg.fit(X_train, y_train, epochs=50,\n",
    "             validation_data=(X_valid, y_valid),\n",
    "             callbacks=[keras.callbacks.EarlyStopping(patience=10)])\n",
    "mse_test = keras_reg.score(X_test, y_test)\n",
    "y_pred = keras_reg.predict(X_new)"
   ]
  },
  {
   "cell_type": "code",
   "execution_count": 38,
   "id": "dd981437",
   "metadata": {},
   "outputs": [
    {
     "ename": "ValueError",
     "evalue": "Invalid parameter learning_rate for estimator KerasRegressor.\nThis issue can likely be resolved by setting this parameter in the KerasRegressor constructor:\n`KerasRegressor(learning_rate=0.007128700290480555)`\nCheck the list of available parameters with `estimator.get_params().keys()`",
     "output_type": "error",
     "traceback": [
      "\u001b[1;31m---------------------------------------------------------------------------\u001b[0m",
      "\u001b[1;31mValueError\u001b[0m                                Traceback (most recent call last)",
      "\u001b[1;32m~\\AppData\\Local\\Temp/ipykernel_12716/2901470443.py\u001b[0m in \u001b[0;36m<module>\u001b[1;34m\u001b[0m\n\u001b[0;32m     11\u001b[0m \u001b[1;33m\u001b[0m\u001b[0m\n\u001b[0;32m     12\u001b[0m \u001b[0mrnd_search_cv\u001b[0m \u001b[1;33m=\u001b[0m \u001b[0mRandomizedSearchCV\u001b[0m\u001b[1;33m(\u001b[0m\u001b[0mkeras_reg\u001b[0m\u001b[1;33m,\u001b[0m \u001b[0mparam_distribs\u001b[0m\u001b[1;33m,\u001b[0m \u001b[0mn_iter\u001b[0m\u001b[1;33m=\u001b[0m\u001b[1;36m10\u001b[0m\u001b[1;33m,\u001b[0m \u001b[0mcv\u001b[0m\u001b[1;33m=\u001b[0m\u001b[1;36m3\u001b[0m\u001b[1;33m)\u001b[0m\u001b[1;33m\u001b[0m\u001b[1;33m\u001b[0m\u001b[0m\n\u001b[1;32m---> 13\u001b[1;33m rnd_search_cv.fit(X_train, y_train, epochs=100,\n\u001b[0m\u001b[0;32m     14\u001b[0m                  \u001b[0mvalidation_data\u001b[0m\u001b[1;33m=\u001b[0m\u001b[1;33m(\u001b[0m\u001b[0mX_valid\u001b[0m\u001b[1;33m,\u001b[0m \u001b[0my_valid\u001b[0m\u001b[1;33m)\u001b[0m\u001b[1;33m,\u001b[0m\u001b[1;33m\u001b[0m\u001b[1;33m\u001b[0m\u001b[0m\n\u001b[0;32m     15\u001b[0m                  callbacks=[keras.callbacks.EarlyStopping(patience=10)])\n",
      "\u001b[1;32m~\\anaconda3\\lib\\site-packages\\sklearn\\model_selection\\_search.py\u001b[0m in \u001b[0;36mfit\u001b[1;34m(self, X, y, groups, **fit_params)\u001b[0m\n\u001b[0;32m    873\u001b[0m                 \u001b[1;32mreturn\u001b[0m \u001b[0mresults\u001b[0m\u001b[1;33m\u001b[0m\u001b[1;33m\u001b[0m\u001b[0m\n\u001b[0;32m    874\u001b[0m \u001b[1;33m\u001b[0m\u001b[0m\n\u001b[1;32m--> 875\u001b[1;33m             \u001b[0mself\u001b[0m\u001b[1;33m.\u001b[0m\u001b[0m_run_search\u001b[0m\u001b[1;33m(\u001b[0m\u001b[0mevaluate_candidates\u001b[0m\u001b[1;33m)\u001b[0m\u001b[1;33m\u001b[0m\u001b[1;33m\u001b[0m\u001b[0m\n\u001b[0m\u001b[0;32m    876\u001b[0m \u001b[1;33m\u001b[0m\u001b[0m\n\u001b[0;32m    877\u001b[0m             \u001b[1;31m# multimetric is determined here because in the case of a callable\u001b[0m\u001b[1;33m\u001b[0m\u001b[1;33m\u001b[0m\u001b[0m\n",
      "\u001b[1;32m~\\anaconda3\\lib\\site-packages\\sklearn\\model_selection\\_search.py\u001b[0m in \u001b[0;36m_run_search\u001b[1;34m(self, evaluate_candidates)\u001b[0m\n\u001b[0;32m   1751\u001b[0m     \u001b[1;32mdef\u001b[0m \u001b[0m_run_search\u001b[0m\u001b[1;33m(\u001b[0m\u001b[0mself\u001b[0m\u001b[1;33m,\u001b[0m \u001b[0mevaluate_candidates\u001b[0m\u001b[1;33m)\u001b[0m\u001b[1;33m:\u001b[0m\u001b[1;33m\u001b[0m\u001b[1;33m\u001b[0m\u001b[0m\n\u001b[0;32m   1752\u001b[0m         \u001b[1;34m\"\"\"Search n_iter candidates from param_distributions\"\"\"\u001b[0m\u001b[1;33m\u001b[0m\u001b[1;33m\u001b[0m\u001b[0m\n\u001b[1;32m-> 1753\u001b[1;33m         evaluate_candidates(\n\u001b[0m\u001b[0;32m   1754\u001b[0m             ParameterSampler(\n\u001b[0;32m   1755\u001b[0m                 \u001b[0mself\u001b[0m\u001b[1;33m.\u001b[0m\u001b[0mparam_distributions\u001b[0m\u001b[1;33m,\u001b[0m \u001b[0mself\u001b[0m\u001b[1;33m.\u001b[0m\u001b[0mn_iter\u001b[0m\u001b[1;33m,\u001b[0m \u001b[0mrandom_state\u001b[0m\u001b[1;33m=\u001b[0m\u001b[0mself\u001b[0m\u001b[1;33m.\u001b[0m\u001b[0mrandom_state\u001b[0m\u001b[1;33m\u001b[0m\u001b[1;33m\u001b[0m\u001b[0m\n",
      "\u001b[1;32m~\\anaconda3\\lib\\site-packages\\sklearn\\model_selection\\_search.py\u001b[0m in \u001b[0;36mevaluate_candidates\u001b[1;34m(candidate_params, cv, more_results)\u001b[0m\n\u001b[0;32m    820\u001b[0m                     )\n\u001b[0;32m    821\u001b[0m \u001b[1;33m\u001b[0m\u001b[0m\n\u001b[1;32m--> 822\u001b[1;33m                 out = parallel(\n\u001b[0m\u001b[0;32m    823\u001b[0m                     delayed(_fit_and_score)(\n\u001b[0;32m    824\u001b[0m                         \u001b[0mclone\u001b[0m\u001b[1;33m(\u001b[0m\u001b[0mbase_estimator\u001b[0m\u001b[1;33m)\u001b[0m\u001b[1;33m,\u001b[0m\u001b[1;33m\u001b[0m\u001b[1;33m\u001b[0m\u001b[0m\n",
      "\u001b[1;32m~\\anaconda3\\lib\\site-packages\\joblib\\parallel.py\u001b[0m in \u001b[0;36m__call__\u001b[1;34m(self, iterable)\u001b[0m\n\u001b[0;32m   1041\u001b[0m             \u001b[1;31m# remaining jobs.\u001b[0m\u001b[1;33m\u001b[0m\u001b[1;33m\u001b[0m\u001b[0m\n\u001b[0;32m   1042\u001b[0m             \u001b[0mself\u001b[0m\u001b[1;33m.\u001b[0m\u001b[0m_iterating\u001b[0m \u001b[1;33m=\u001b[0m \u001b[1;32mFalse\u001b[0m\u001b[1;33m\u001b[0m\u001b[1;33m\u001b[0m\u001b[0m\n\u001b[1;32m-> 1043\u001b[1;33m             \u001b[1;32mif\u001b[0m \u001b[0mself\u001b[0m\u001b[1;33m.\u001b[0m\u001b[0mdispatch_one_batch\u001b[0m\u001b[1;33m(\u001b[0m\u001b[0miterator\u001b[0m\u001b[1;33m)\u001b[0m\u001b[1;33m:\u001b[0m\u001b[1;33m\u001b[0m\u001b[1;33m\u001b[0m\u001b[0m\n\u001b[0m\u001b[0;32m   1044\u001b[0m                 \u001b[0mself\u001b[0m\u001b[1;33m.\u001b[0m\u001b[0m_iterating\u001b[0m \u001b[1;33m=\u001b[0m \u001b[0mself\u001b[0m\u001b[1;33m.\u001b[0m\u001b[0m_original_iterator\u001b[0m \u001b[1;32mis\u001b[0m \u001b[1;32mnot\u001b[0m \u001b[1;32mNone\u001b[0m\u001b[1;33m\u001b[0m\u001b[1;33m\u001b[0m\u001b[0m\n\u001b[0;32m   1045\u001b[0m \u001b[1;33m\u001b[0m\u001b[0m\n",
      "\u001b[1;32m~\\anaconda3\\lib\\site-packages\\joblib\\parallel.py\u001b[0m in \u001b[0;36mdispatch_one_batch\u001b[1;34m(self, iterator)\u001b[0m\n\u001b[0;32m    859\u001b[0m                 \u001b[1;32mreturn\u001b[0m \u001b[1;32mFalse\u001b[0m\u001b[1;33m\u001b[0m\u001b[1;33m\u001b[0m\u001b[0m\n\u001b[0;32m    860\u001b[0m             \u001b[1;32melse\u001b[0m\u001b[1;33m:\u001b[0m\u001b[1;33m\u001b[0m\u001b[1;33m\u001b[0m\u001b[0m\n\u001b[1;32m--> 861\u001b[1;33m                 \u001b[0mself\u001b[0m\u001b[1;33m.\u001b[0m\u001b[0m_dispatch\u001b[0m\u001b[1;33m(\u001b[0m\u001b[0mtasks\u001b[0m\u001b[1;33m)\u001b[0m\u001b[1;33m\u001b[0m\u001b[1;33m\u001b[0m\u001b[0m\n\u001b[0m\u001b[0;32m    862\u001b[0m                 \u001b[1;32mreturn\u001b[0m \u001b[1;32mTrue\u001b[0m\u001b[1;33m\u001b[0m\u001b[1;33m\u001b[0m\u001b[0m\n\u001b[0;32m    863\u001b[0m \u001b[1;33m\u001b[0m\u001b[0m\n",
      "\u001b[1;32m~\\anaconda3\\lib\\site-packages\\joblib\\parallel.py\u001b[0m in \u001b[0;36m_dispatch\u001b[1;34m(self, batch)\u001b[0m\n\u001b[0;32m    777\u001b[0m         \u001b[1;32mwith\u001b[0m \u001b[0mself\u001b[0m\u001b[1;33m.\u001b[0m\u001b[0m_lock\u001b[0m\u001b[1;33m:\u001b[0m\u001b[1;33m\u001b[0m\u001b[1;33m\u001b[0m\u001b[0m\n\u001b[0;32m    778\u001b[0m             \u001b[0mjob_idx\u001b[0m \u001b[1;33m=\u001b[0m \u001b[0mlen\u001b[0m\u001b[1;33m(\u001b[0m\u001b[0mself\u001b[0m\u001b[1;33m.\u001b[0m\u001b[0m_jobs\u001b[0m\u001b[1;33m)\u001b[0m\u001b[1;33m\u001b[0m\u001b[1;33m\u001b[0m\u001b[0m\n\u001b[1;32m--> 779\u001b[1;33m             \u001b[0mjob\u001b[0m \u001b[1;33m=\u001b[0m \u001b[0mself\u001b[0m\u001b[1;33m.\u001b[0m\u001b[0m_backend\u001b[0m\u001b[1;33m.\u001b[0m\u001b[0mapply_async\u001b[0m\u001b[1;33m(\u001b[0m\u001b[0mbatch\u001b[0m\u001b[1;33m,\u001b[0m \u001b[0mcallback\u001b[0m\u001b[1;33m=\u001b[0m\u001b[0mcb\u001b[0m\u001b[1;33m)\u001b[0m\u001b[1;33m\u001b[0m\u001b[1;33m\u001b[0m\u001b[0m\n\u001b[0m\u001b[0;32m    780\u001b[0m             \u001b[1;31m# A job can complete so quickly than its callback is\u001b[0m\u001b[1;33m\u001b[0m\u001b[1;33m\u001b[0m\u001b[0m\n\u001b[0;32m    781\u001b[0m             \u001b[1;31m# called before we get here, causing self._jobs to\u001b[0m\u001b[1;33m\u001b[0m\u001b[1;33m\u001b[0m\u001b[0m\n",
      "\u001b[1;32m~\\anaconda3\\lib\\site-packages\\joblib\\_parallel_backends.py\u001b[0m in \u001b[0;36mapply_async\u001b[1;34m(self, func, callback)\u001b[0m\n\u001b[0;32m    206\u001b[0m     \u001b[1;32mdef\u001b[0m \u001b[0mapply_async\u001b[0m\u001b[1;33m(\u001b[0m\u001b[0mself\u001b[0m\u001b[1;33m,\u001b[0m \u001b[0mfunc\u001b[0m\u001b[1;33m,\u001b[0m \u001b[0mcallback\u001b[0m\u001b[1;33m=\u001b[0m\u001b[1;32mNone\u001b[0m\u001b[1;33m)\u001b[0m\u001b[1;33m:\u001b[0m\u001b[1;33m\u001b[0m\u001b[1;33m\u001b[0m\u001b[0m\n\u001b[0;32m    207\u001b[0m         \u001b[1;34m\"\"\"Schedule a func to be run\"\"\"\u001b[0m\u001b[1;33m\u001b[0m\u001b[1;33m\u001b[0m\u001b[0m\n\u001b[1;32m--> 208\u001b[1;33m         \u001b[0mresult\u001b[0m \u001b[1;33m=\u001b[0m \u001b[0mImmediateResult\u001b[0m\u001b[1;33m(\u001b[0m\u001b[0mfunc\u001b[0m\u001b[1;33m)\u001b[0m\u001b[1;33m\u001b[0m\u001b[1;33m\u001b[0m\u001b[0m\n\u001b[0m\u001b[0;32m    209\u001b[0m         \u001b[1;32mif\u001b[0m \u001b[0mcallback\u001b[0m\u001b[1;33m:\u001b[0m\u001b[1;33m\u001b[0m\u001b[1;33m\u001b[0m\u001b[0m\n\u001b[0;32m    210\u001b[0m             \u001b[0mcallback\u001b[0m\u001b[1;33m(\u001b[0m\u001b[0mresult\u001b[0m\u001b[1;33m)\u001b[0m\u001b[1;33m\u001b[0m\u001b[1;33m\u001b[0m\u001b[0m\n",
      "\u001b[1;32m~\\anaconda3\\lib\\site-packages\\joblib\\_parallel_backends.py\u001b[0m in \u001b[0;36m__init__\u001b[1;34m(self, batch)\u001b[0m\n\u001b[0;32m    570\u001b[0m         \u001b[1;31m# Don't delay the application, to avoid keeping the input\u001b[0m\u001b[1;33m\u001b[0m\u001b[1;33m\u001b[0m\u001b[0m\n\u001b[0;32m    571\u001b[0m         \u001b[1;31m# arguments in memory\u001b[0m\u001b[1;33m\u001b[0m\u001b[1;33m\u001b[0m\u001b[0m\n\u001b[1;32m--> 572\u001b[1;33m         \u001b[0mself\u001b[0m\u001b[1;33m.\u001b[0m\u001b[0mresults\u001b[0m \u001b[1;33m=\u001b[0m \u001b[0mbatch\u001b[0m\u001b[1;33m(\u001b[0m\u001b[1;33m)\u001b[0m\u001b[1;33m\u001b[0m\u001b[1;33m\u001b[0m\u001b[0m\n\u001b[0m\u001b[0;32m    573\u001b[0m \u001b[1;33m\u001b[0m\u001b[0m\n\u001b[0;32m    574\u001b[0m     \u001b[1;32mdef\u001b[0m \u001b[0mget\u001b[0m\u001b[1;33m(\u001b[0m\u001b[0mself\u001b[0m\u001b[1;33m)\u001b[0m\u001b[1;33m:\u001b[0m\u001b[1;33m\u001b[0m\u001b[1;33m\u001b[0m\u001b[0m\n",
      "\u001b[1;32m~\\anaconda3\\lib\\site-packages\\joblib\\parallel.py\u001b[0m in \u001b[0;36m__call__\u001b[1;34m(self)\u001b[0m\n\u001b[0;32m    260\u001b[0m         \u001b[1;31m# change the default number of processes to -1\u001b[0m\u001b[1;33m\u001b[0m\u001b[1;33m\u001b[0m\u001b[0m\n\u001b[0;32m    261\u001b[0m         \u001b[1;32mwith\u001b[0m \u001b[0mparallel_backend\u001b[0m\u001b[1;33m(\u001b[0m\u001b[0mself\u001b[0m\u001b[1;33m.\u001b[0m\u001b[0m_backend\u001b[0m\u001b[1;33m,\u001b[0m \u001b[0mn_jobs\u001b[0m\u001b[1;33m=\u001b[0m\u001b[0mself\u001b[0m\u001b[1;33m.\u001b[0m\u001b[0m_n_jobs\u001b[0m\u001b[1;33m)\u001b[0m\u001b[1;33m:\u001b[0m\u001b[1;33m\u001b[0m\u001b[1;33m\u001b[0m\u001b[0m\n\u001b[1;32m--> 262\u001b[1;33m             return [func(*args, **kwargs)\n\u001b[0m\u001b[0;32m    263\u001b[0m                     for func, args, kwargs in self.items]\n\u001b[0;32m    264\u001b[0m \u001b[1;33m\u001b[0m\u001b[0m\n",
      "\u001b[1;32m~\\anaconda3\\lib\\site-packages\\joblib\\parallel.py\u001b[0m in \u001b[0;36m<listcomp>\u001b[1;34m(.0)\u001b[0m\n\u001b[0;32m    260\u001b[0m         \u001b[1;31m# change the default number of processes to -1\u001b[0m\u001b[1;33m\u001b[0m\u001b[1;33m\u001b[0m\u001b[0m\n\u001b[0;32m    261\u001b[0m         \u001b[1;32mwith\u001b[0m \u001b[0mparallel_backend\u001b[0m\u001b[1;33m(\u001b[0m\u001b[0mself\u001b[0m\u001b[1;33m.\u001b[0m\u001b[0m_backend\u001b[0m\u001b[1;33m,\u001b[0m \u001b[0mn_jobs\u001b[0m\u001b[1;33m=\u001b[0m\u001b[0mself\u001b[0m\u001b[1;33m.\u001b[0m\u001b[0m_n_jobs\u001b[0m\u001b[1;33m)\u001b[0m\u001b[1;33m:\u001b[0m\u001b[1;33m\u001b[0m\u001b[1;33m\u001b[0m\u001b[0m\n\u001b[1;32m--> 262\u001b[1;33m             return [func(*args, **kwargs)\n\u001b[0m\u001b[0;32m    263\u001b[0m                     for func, args, kwargs in self.items]\n\u001b[0;32m    264\u001b[0m \u001b[1;33m\u001b[0m\u001b[0m\n",
      "\u001b[1;32m~\\anaconda3\\lib\\site-packages\\sklearn\\utils\\fixes.py\u001b[0m in \u001b[0;36m__call__\u001b[1;34m(self, *args, **kwargs)\u001b[0m\n\u001b[0;32m    115\u001b[0m     \u001b[1;32mdef\u001b[0m \u001b[0m__call__\u001b[0m\u001b[1;33m(\u001b[0m\u001b[0mself\u001b[0m\u001b[1;33m,\u001b[0m \u001b[1;33m*\u001b[0m\u001b[0margs\u001b[0m\u001b[1;33m,\u001b[0m \u001b[1;33m**\u001b[0m\u001b[0mkwargs\u001b[0m\u001b[1;33m)\u001b[0m\u001b[1;33m:\u001b[0m\u001b[1;33m\u001b[0m\u001b[1;33m\u001b[0m\u001b[0m\n\u001b[0;32m    116\u001b[0m         \u001b[1;32mwith\u001b[0m \u001b[0mconfig_context\u001b[0m\u001b[1;33m(\u001b[0m\u001b[1;33m**\u001b[0m\u001b[0mself\u001b[0m\u001b[1;33m.\u001b[0m\u001b[0mconfig\u001b[0m\u001b[1;33m)\u001b[0m\u001b[1;33m:\u001b[0m\u001b[1;33m\u001b[0m\u001b[1;33m\u001b[0m\u001b[0m\n\u001b[1;32m--> 117\u001b[1;33m             \u001b[1;32mreturn\u001b[0m \u001b[0mself\u001b[0m\u001b[1;33m.\u001b[0m\u001b[0mfunction\u001b[0m\u001b[1;33m(\u001b[0m\u001b[1;33m*\u001b[0m\u001b[0margs\u001b[0m\u001b[1;33m,\u001b[0m \u001b[1;33m**\u001b[0m\u001b[0mkwargs\u001b[0m\u001b[1;33m)\u001b[0m\u001b[1;33m\u001b[0m\u001b[1;33m\u001b[0m\u001b[0m\n\u001b[0m\u001b[0;32m    118\u001b[0m \u001b[1;33m\u001b[0m\u001b[0m\n\u001b[0;32m    119\u001b[0m \u001b[1;33m\u001b[0m\u001b[0m\n",
      "\u001b[1;32m~\\anaconda3\\lib\\site-packages\\sklearn\\model_selection\\_validation.py\u001b[0m in \u001b[0;36m_fit_and_score\u001b[1;34m(estimator, X, y, scorer, train, test, verbose, parameters, fit_params, return_train_score, return_parameters, return_n_test_samples, return_times, return_estimator, split_progress, candidate_progress, error_score)\u001b[0m\n\u001b[0;32m    672\u001b[0m             \u001b[0mcloned_parameters\u001b[0m\u001b[1;33m[\u001b[0m\u001b[0mk\u001b[0m\u001b[1;33m]\u001b[0m \u001b[1;33m=\u001b[0m \u001b[0mclone\u001b[0m\u001b[1;33m(\u001b[0m\u001b[0mv\u001b[0m\u001b[1;33m,\u001b[0m \u001b[0msafe\u001b[0m\u001b[1;33m=\u001b[0m\u001b[1;32mFalse\u001b[0m\u001b[1;33m)\u001b[0m\u001b[1;33m\u001b[0m\u001b[1;33m\u001b[0m\u001b[0m\n\u001b[0;32m    673\u001b[0m \u001b[1;33m\u001b[0m\u001b[0m\n\u001b[1;32m--> 674\u001b[1;33m         \u001b[0mestimator\u001b[0m \u001b[1;33m=\u001b[0m \u001b[0mestimator\u001b[0m\u001b[1;33m.\u001b[0m\u001b[0mset_params\u001b[0m\u001b[1;33m(\u001b[0m\u001b[1;33m**\u001b[0m\u001b[0mcloned_parameters\u001b[0m\u001b[1;33m)\u001b[0m\u001b[1;33m\u001b[0m\u001b[1;33m\u001b[0m\u001b[0m\n\u001b[0m\u001b[0;32m    675\u001b[0m \u001b[1;33m\u001b[0m\u001b[0m\n\u001b[0;32m    676\u001b[0m     \u001b[0mstart_time\u001b[0m \u001b[1;33m=\u001b[0m \u001b[0mtime\u001b[0m\u001b[1;33m.\u001b[0m\u001b[0mtime\u001b[0m\u001b[1;33m(\u001b[0m\u001b[1;33m)\u001b[0m\u001b[1;33m\u001b[0m\u001b[1;33m\u001b[0m\u001b[0m\n",
      "\u001b[1;32m~\\anaconda3\\lib\\site-packages\\scikeras\\wrappers.py\u001b[0m in \u001b[0;36mset_params\u001b[1;34m(self, **params)\u001b[0m\n\u001b[0;32m   1166\u001b[0m                     \u001b[1;31m# Give a SciKeras specific user message to aid\u001b[0m\u001b[1;33m\u001b[0m\u001b[1;33m\u001b[0m\u001b[0m\n\u001b[0;32m   1167\u001b[0m                     \u001b[1;31m# in moving from the Keras wrappers\u001b[0m\u001b[1;33m\u001b[0m\u001b[1;33m\u001b[0m\u001b[0m\n\u001b[1;32m-> 1168\u001b[1;33m                     raise ValueError(\n\u001b[0m\u001b[0;32m   1169\u001b[0m                         \u001b[1;34mf\"Invalid parameter {param} for estimator {self.__name__}.\"\u001b[0m\u001b[1;33m\u001b[0m\u001b[1;33m\u001b[0m\u001b[0m\n\u001b[0;32m   1170\u001b[0m                         \u001b[1;34m\"\\nThis issue can likely be resolved by setting this parameter\"\u001b[0m\u001b[1;33m\u001b[0m\u001b[1;33m\u001b[0m\u001b[0m\n",
      "\u001b[1;31mValueError\u001b[0m: Invalid parameter learning_rate for estimator KerasRegressor.\nThis issue can likely be resolved by setting this parameter in the KerasRegressor constructor:\n`KerasRegressor(learning_rate=0.007128700290480555)`\nCheck the list of available parameters with `estimator.get_params().keys()`"
     ]
    }
   ],
   "source": [
    "from scipy.stats import reciprocal\n",
    "from sklearn.model_selection import RandomizedSearchCV\n",
    "\n",
    "keras_reg.get_params().keys()\n",
    "\n",
    "param_distribs = {\n",
    "    \"n_hidden\": [0,1,2,3],\n",
    "    \"n_neurons\": np.arange(1,100),\n",
    "    \"learning_rate\": reciprocal(3e-4, 3e-2),\n",
    "}\n",
    "\n",
    "rnd_search_cv = RandomizedSearchCV(keras_reg, param_distribs, n_iter=10, cv=3)\n",
    "rnd_search_cv.fit(X_train, y_train, epochs=100,\n",
    "                 validation_data=(X_valid, y_valid),\n",
    "                 callbacks=[keras.callbacks.EarlyStopping(patience=10)])"
   ]
  },
  {
   "cell_type": "markdown",
   "id": "bbb14f94",
   "metadata": {},
   "source": [
    "으악 책에 나온대로 안하고 sci-keras를 사용하니까 오류가 뜸... 아래는 제대로 나온다ㅜㅜ 뭔지를 모르겠다"
   ]
  },
  {
   "cell_type": "markdown",
   "id": "18981af4",
   "metadata": {},
   "source": [
    "-------------"
   ]
  },
  {
   "cell_type": "code",
   "execution_count": 39,
   "id": "d53a9a92",
   "metadata": {},
   "outputs": [
    {
     "name": "stderr",
     "output_type": "stream",
     "text": [
      "C:\\Users\\user\\AppData\\Local\\Temp/ipykernel_12716/3730239423.py:11: DeprecationWarning: KerasRegressor is deprecated, use Sci-Keras (https://github.com/adriangb/scikeras) instead. See https://www.adriangb.com/scikeras/stable/migration.html for help migrating.\n",
      "  keras_reg = keras.wrappers.scikit_learn.KerasRegressor(build_model)\n"
     ]
    }
   ],
   "source": [
    "def build_model(n_hidden=1, n_neurons=30, learning_rate=3e-3, input_shape=[8]):\n",
    "    model = keras.models.Sequential()\n",
    "    model.add(keras.layers.InputLayer(input_shape=input_shape))\n",
    "    for layer in range(n_hidden):\n",
    "        model.add(keras.layers.Dense(n_neurons, activation='relu'))\n",
    "    model.add(keras.layers.Dense(1))\n",
    "    optimizer = keras.optimizers.SGD(learning_rate=learning_rate)\n",
    "    model.compile(loss='mse', optimizer=optimizer)\n",
    "    return model\n",
    "\n",
    "keras_reg = keras.wrappers.scikit_learn.KerasRegressor(build_model)"
   ]
  },
  {
   "cell_type": "raw",
   "id": "3404cef3",
   "metadata": {},
   "source": [
    "from scipy.stats import reciprocal\n",
    "from sklearn.model_selection import RandomizedSearchCV\n",
    "import numpy as np\n",
    "\n",
    "param_distribs = {\n",
    "    'n_hidden': [2,3,4,5],\n",
    "    'n_neurons': np.arange(1,100),\n",
    "    'learning_rate': reciprocal(3e-4, 3e-2)\n",
    "}\n",
    "\n",
    "rnd_search_cv = RandomizedSearchCV(keras_reg, param_distribs, n_iter=10, cv=3, verbose=2)\n",
    "rnd_search_cv.fit(X_train, y_train, epochs=100,\n",
    "                 validation_data=(X_valid, y_valid),\n",
    "                 callbacks=[keras.callbacks.EarlyStopping(patience=10)])"
   ]
  },
  {
   "cell_type": "raw",
   "id": "4c74dc3f",
   "metadata": {},
   "source": [
    "# 이렇게 하면 최적 파라미터가 나온다. 그런데 너너너너너너무무무무 학습을 오래해서 그냥 이걸로 대체함.\n",
    "rnd_search_cv.best_parmas_"
   ]
  },
  {
   "cell_type": "markdown",
   "id": "bb2c5949",
   "metadata": {},
   "source": [
    "잘 모르겠는 부분이 있는데, 래퍼로 감싸면 scikit_learn형태일텐데 keras의 파라미터를 받아서 랜덤서치를 해도 되는건가??? \n",
    "scikeras를 사용했을 때는 오류가 떠서 의문이 들었다."
   ]
  },
  {
   "cell_type": "markdown",
   "id": "77328bee",
   "metadata": {},
   "source": [
    "### 연습문제 2"
   ]
  },
  {
   "cell_type": "markdown",
   "id": "c6af0895",
   "metadata": {},
   "source": [
    "논리 연산에 대한 문제는 잘 모르겠다..."
   ]
  },
  {
   "cell_type": "markdown",
   "id": "7277a7bb",
   "metadata": {},
   "source": [
    "### 연습문제 3"
   ]
  },
  {
   "cell_type": "markdown",
   "id": "d97b588f",
   "metadata": {},
   "source": [
    "고전적인 퍼셉트론보다 로지스틱 회귀 분류가 선호되는 이유는 \n",
    "1. 클래스별 확률을 제공하지 않음 (왜냐하면 계단형식의 활성화함수를 사용하기 때문이다.)\n",
    "2. 데이터가 선형적으로 구분 될 때만 수렴한다. (논리연산과 관련이 있는 것 같은데 잘 모르겠다.)\n",
    "이를 해소하기 위해서는 활성화 함수를 로지스틱 활성화 함수로 바꾸고 경사하강법으로 훈련한다. 또한 다층 퍼셉트론을 사용하면 된다."
   ]
  },
  {
   "cell_type": "markdown",
   "id": "dffe5a7f",
   "metadata": {},
   "source": [
    "### 연습문제 4"
   ]
  },
  {
   "cell_type": "markdown",
   "id": "0eae6992",
   "metadata": {},
   "source": [
    "경사가 없는 계단 함수는 경사하강법을 적용할 수 없기 때문에 경사가 있는 로지스틱 활성화 함수를 사용했다. \n",
    "또한, 실제 뉴런의 활성화함수 모양이 로지스틱 활성화 함수와 비슷하다고 생각했기 때문이다."
   ]
  },
  {
   "cell_type": "markdown",
   "id": "e1df4b35",
   "metadata": {},
   "source": [
    "### 연습문제 5"
   ]
  },
  {
   "cell_type": "markdown",
   "id": "eadcfd77",
   "metadata": {},
   "source": [
    "1. ReLU\n",
    "2. tanh 함수\n",
    "3. 시그모이드 함수"
   ]
  },
  {
   "cell_type": "markdown",
   "id": "f12bca4d",
   "metadata": {},
   "source": [
    "### 연습문제 6"
   ]
  },
  {
   "cell_type": "markdown",
   "id": "d2cdbc20",
   "metadata": {},
   "source": [
    "- 입력 행렬 X의 크기는 m * 10 이다. (m은 배치의 크기이다.)\n",
    "- 은닉층의 가중치 행렬(W_h)은 10 * 50 이다. 은닉층의 편향(b_h)행렬은 1 * 50 이다.\n",
    "- 출력층의 가중치 행렬(W_o)은 50 * 3 이다. 은닉층의 편향(b_o)행렬은 1 * 3 이다. \n",
    "- 네트워크 출력 행렬 Y의 크기는 m * 3이다. \n",
    "\n",
    "\n",
    "- 출력 행렬: Y = ReLU(ReLU(W_h\\*X+b_h)\\*W_o+b_o)  "
   ]
  },
  {
   "cell_type": "markdown",
   "id": "f6971e1a",
   "metadata": {},
   "source": [
    "### 연습문제 7"
   ]
  },
  {
   "cell_type": "markdown",
   "id": "9acb9888",
   "metadata": {},
   "source": [
    "~~스팸 구별문제는 출력층에 스팸/비스팸을 구별할 수 있도록 두개의 뉴런이 필요하다. 출력층 함수는 출력 결과가 서로 배타적이므로 소프트맥스함수가 적절할 것 같다.~~ 이 방법이 아닌 한개의 출력 뉴런을 가지고 활성화함수는 로지스틱 활성화 함수를 가지는 뉴런이여도 괜찮다.\n",
    "보통 이진 분류에는 로지스틱 활성화 함수가 사용된다. \n",
    "\n",
    "\n",
    "Mnist 구별문제는 출력층에 10개의 뉴런이 필요하다. 또한 소프트 맥스함수를 사용하면 될 것 같다.\n",
    "\n",
    "회귀문제는 출력에 1개의 뉴런이 필요하다. 이건 활성화 함수가 필요 없다."
   ]
  },
  {
   "cell_type": "markdown",
   "id": "6724d700",
   "metadata": {},
   "source": [
    "### 연습문제 8"
   ]
  },
  {
   "cell_type": "markdown",
   "id": "c68fc8fc",
   "metadata": {},
   "source": [
    "역전파는 여러 층으로 이루어져 있는 모델의 뉴런들을 학습하는 방법이다. 여기에는 경사하강법이 이용되는데 이때 그래디언트를 계산하기 위한 방법이 후진 모드 자동 미분이다."
   ]
  },
  {
   "cell_type": "markdown",
   "id": "2cf014bd",
   "metadata": {},
   "source": [
    "### 연습문제 9"
   ]
  },
  {
   "cell_type": "markdown",
   "id": "b25ffd22",
   "metadata": {},
   "source": [
    "다층 퍼셉트론에서 조정할 수 있는 파라미터는\n",
    "- 뉴런 개수\n",
    "- 은닉층 수\n",
    "- 학습률\n",
    "- 옵티마이저\n",
    "- 활성화 함수\n",
    "가 있다. \n",
    "과대 적합이 발생하면 뉴런개수를 줄이고, 은닉층 수를 줄이는 방법이 있고, \n",
    "규제를 통해서 과대적합을 해소할 수 있다. "
   ]
  },
  {
   "cell_type": "markdown",
   "id": "b5e5a50a",
   "metadata": {},
   "source": [
    "### 연습문제 10"
   ]
  },
  {
   "cell_type": "markdown",
   "id": "2c8e3161",
   "metadata": {},
   "source": [
    "#### 0. 모듈 import "
   ]
  },
  {
   "cell_type": "code",
   "execution_count": 40,
   "id": "ab35a094",
   "metadata": {},
   "outputs": [],
   "source": [
    "import tensorflow as tf\n",
    "from tensorflow import keras\n",
    "\n",
    "import pandas as pd\n",
    "import numpy as np\n",
    "\n",
    "from sklearn.model_selection import train_test_split"
   ]
  },
  {
   "cell_type": "code",
   "execution_count": 41,
   "id": "76d0a94d",
   "metadata": {},
   "outputs": [],
   "source": [
    "# clear_session\n",
    "# keras.backend.clear_session()\n",
    "# 현재 TF 그래프를 없애고, 새로운 TF 그래프를 만듭니다.\n",
    "#오래된 모델 혹은 층과의 혼란을 피할 때 유용합니다.\n",
    "keras.backend.clear_session()\n",
    "\n",
    "np.random.seed(42)\n",
    "\n",
    "tf.random.set_seed(42)"
   ]
  },
  {
   "cell_type": "markdown",
   "id": "61555857",
   "metadata": {},
   "source": [
    "#### 1. 데이터 적재/ test_train셋 분리/ 스케일링/"
   ]
  },
  {
   "cell_type": "code",
   "execution_count": 42,
   "id": "02d4c808",
   "metadata": {},
   "outputs": [],
   "source": [
    "# 데이터 로드\n",
    "mnist_data = keras.datasets.mnist.load_data()"
   ]
  },
  {
   "cell_type": "code",
   "execution_count": 43,
   "id": "50e573b1",
   "metadata": {
    "scrolled": true
   },
   "outputs": [
    {
     "name": "stdout",
     "output_type": "stream",
     "text": [
      "X_train 크기:  (55000, 28, 28)\n",
      "X_valid 크기:  (5000, 28, 28)\n",
      "y_train 크기:  (55000,)\n",
      "y_valid 크기:  (5000,)\n"
     ]
    }
   ],
   "source": [
    "train, test= mnist_data\n",
    "X_train_full, y_train_full, X_test, y_test = train[0], train[1], test[0], test[1]\n",
    "\n",
    "# 검증셋을 20%로 하니까 accuracy가 너무 낮았다. 그래서 작게했다. \n",
    "X_train, X_valid = X_train_full[5000:], X_train_full[:5000]\n",
    "y_train, y_valid = y_train_full[5000:], y_train_full[:5000]\n",
    "\n",
    "# mnist 데이터는 0~255의 범위를 가지므로 0~1 사이의 범위를 갖도록 \n",
    "X_train, X_valid, X_test = X_train/255.0, X_valid/255.0, X_test/255.0\n",
    "\n",
    "\n",
    "print(\"X_train 크기: \", X_train.shape)\n",
    "print(\"X_valid 크기: \", X_valid.shape)\n",
    "print(\"y_train 크기: \", y_train.shape)\n",
    "print(\"y_valid 크기: \", y_valid.shape)"
   ]
  },
  {
   "cell_type": "markdown",
   "id": "5f0a5273",
   "metadata": {},
   "source": [
    "#### 2. 모델 구현2. 모델 구현<br>\n",
    "- 시퀀셜 api 사용 \n",
    "\n",
    "A. 입력층에 784개의 뉴런이 필요함<br>\n",
    "B. 첫번째 은닉층에 300개의 뉴런 (활성화 함수 ReLU)<br>\n",
    "C. 두번째 은닉층에 100개의 뉴런 (활성화 함수 ReLU)<br>\n",
    "D. 출력층에 10개의 뉴런을 사용한다. (활성화 함수 softmax)<br>"
   ]
  },
  {
   "cell_type": "code",
   "execution_count": 44,
   "id": "40301245",
   "metadata": {},
   "outputs": [],
   "source": [
    "model_my = keras.models.Sequential([\n",
    "    keras.layers.Flatten(input_shape=[28,28]),\n",
    "    keras.layers.Dense(300, activation='relu'),\n",
    "    keras.layers.Dense(100, activation='relu'),\n",
    "    keras.layers.Dense(10, activation='softmax')\n",
    "])"
   ]
  },
  {
   "cell_type": "markdown",
   "id": "d2f6959a",
   "metadata": {},
   "source": [
    "#### 3. 모델 compile<br>\n",
    "\n",
    "A. 학습률 (학습률을 지수적으로 증가시키면서 찾기)<br>\n",
    "B. 옵티마이저   <br>\n",
    "C. 손실함수 (분류기 때문에 카테고리 엔트로피 함수 사용하면 될 듯)<br>\n",
    "D. 평가"
   ]
  },
  {
   "cell_type": "code",
   "execution_count": 45,
   "id": "4109b14b",
   "metadata": {},
   "outputs": [],
   "source": [
    "model_my.compile(loss=\"sparse_categorical_crossentropy\",\n",
    "             optimizer=\"sgd\",\n",
    "             metrics=[\"accuracy\"])"
   ]
  },
  {
   "cell_type": "markdown",
   "id": "f87dde8b",
   "metadata": {},
   "source": [
    "#### 4. 모델 fit <br>\n",
    "A. X_train, y_train<br>\n",
    "B. 조기종료 (X_valid, y_valid)<br>\n",
    "C. 텐서 보드 사용하기<br>"
   ]
  },
  {
   "cell_type": "code",
   "execution_count": 46,
   "id": "5356dea4",
   "metadata": {
    "scrolled": true
   },
   "outputs": [
    {
     "name": "stdout",
     "output_type": "stream",
     "text": [
      "Epoch 1/100\n",
      "1719/1719 [==============================] - 9s 5ms/step - loss: 0.6301 - accuracy: 0.8345 - val_loss: 0.3080 - val_accuracy: 0.9166\n",
      "Epoch 2/100\n",
      "1719/1719 [==============================] - 8s 5ms/step - loss: 0.2878 - accuracy: 0.9184 - val_loss: 0.2388 - val_accuracy: 0.9330\n",
      "Epoch 3/100\n",
      "1719/1719 [==============================] - 8s 5ms/step - loss: 0.2329 - accuracy: 0.9336 - val_loss: 0.1979 - val_accuracy: 0.9444\n",
      "Epoch 4/100\n",
      "1719/1719 [==============================] - 8s 5ms/step - loss: 0.1971 - accuracy: 0.9440 - val_loss: 0.1739 - val_accuracy: 0.9546\n",
      "Epoch 5/100\n",
      "1719/1719 [==============================] - 8s 4ms/step - loss: 0.1716 - accuracy: 0.9509 - val_loss: 0.1543 - val_accuracy: 0.9584\n",
      "Epoch 6/100\n",
      "1719/1719 [==============================] - 8s 5ms/step - loss: 0.1520 - accuracy: 0.9570 - val_loss: 0.1415 - val_accuracy: 0.9630\n",
      "Epoch 7/100\n",
      "1719/1719 [==============================] - 8s 5ms/step - loss: 0.1363 - accuracy: 0.9623 - val_loss: 0.1304 - val_accuracy: 0.9642\n",
      "Epoch 8/100\n",
      "1719/1719 [==============================] - 8s 5ms/step - loss: 0.1235 - accuracy: 0.9645 - val_loss: 0.1261 - val_accuracy: 0.9666\n",
      "Epoch 9/100\n",
      "1719/1719 [==============================] - 8s 5ms/step - loss: 0.1128 - accuracy: 0.9683 - val_loss: 0.1151 - val_accuracy: 0.9690\n",
      "Epoch 10/100\n",
      "1719/1719 [==============================] - 8s 5ms/step - loss: 0.1041 - accuracy: 0.9706 - val_loss: 0.1065 - val_accuracy: 0.9710\n",
      "Epoch 11/100\n",
      "1719/1719 [==============================] - 8s 5ms/step - loss: 0.0958 - accuracy: 0.9733 - val_loss: 0.1047 - val_accuracy: 0.9722\n",
      "Epoch 12/100\n",
      "1719/1719 [==============================] - 9s 5ms/step - loss: 0.0887 - accuracy: 0.9751 - val_loss: 0.1004 - val_accuracy: 0.9712\n",
      "Epoch 13/100\n",
      "1719/1719 [==============================] - 8s 5ms/step - loss: 0.0825 - accuracy: 0.9767 - val_loss: 0.0937 - val_accuracy: 0.9742\n",
      "Epoch 14/100\n",
      "1719/1719 [==============================] - 8s 5ms/step - loss: 0.0768 - accuracy: 0.9784 - val_loss: 0.0923 - val_accuracy: 0.9742\n",
      "Epoch 15/100\n",
      "1719/1719 [==============================] - 8s 5ms/step - loss: 0.0717 - accuracy: 0.9802 - val_loss: 0.0878 - val_accuracy: 0.9760\n",
      "Epoch 16/100\n",
      "1719/1719 [==============================] - 9s 5ms/step - loss: 0.0671 - accuracy: 0.9808 - val_loss: 0.0863 - val_accuracy: 0.9772\n",
      "Epoch 17/100\n",
      "1719/1719 [==============================] - 8s 5ms/step - loss: 0.0628 - accuracy: 0.9826 - val_loss: 0.0858 - val_accuracy: 0.9762\n",
      "Epoch 18/100\n",
      "1719/1719 [==============================] - 8s 5ms/step - loss: 0.0592 - accuracy: 0.9838 - val_loss: 0.0823 - val_accuracy: 0.9770\n",
      "Epoch 19/100\n",
      "1719/1719 [==============================] - 8s 5ms/step - loss: 0.0555 - accuracy: 0.9849 - val_loss: 0.0809 - val_accuracy: 0.9768\n",
      "Epoch 20/100\n",
      "1719/1719 [==============================] - 9s 5ms/step - loss: 0.0523 - accuracy: 0.9853 - val_loss: 0.0805 - val_accuracy: 0.9764\n",
      "Epoch 21/100\n",
      "1719/1719 [==============================] - 8s 5ms/step - loss: 0.0494 - accuracy: 0.9867 - val_loss: 0.0769 - val_accuracy: 0.9790\n",
      "Epoch 22/100\n",
      "1719/1719 [==============================] - 8s 5ms/step - loss: 0.0465 - accuracy: 0.9871 - val_loss: 0.0765 - val_accuracy: 0.9800\n",
      "Epoch 23/100\n",
      "1719/1719 [==============================] - 8s 5ms/step - loss: 0.0438 - accuracy: 0.9884 - val_loss: 0.0796 - val_accuracy: 0.9766\n",
      "Epoch 24/100\n",
      "1719/1719 [==============================] - 8s 5ms/step - loss: 0.0411 - accuracy: 0.9895 - val_loss: 0.0758 - val_accuracy: 0.9788\n",
      "Epoch 25/100\n",
      "1719/1719 [==============================] - 8s 5ms/step - loss: 0.0392 - accuracy: 0.9899 - val_loss: 0.0737 - val_accuracy: 0.9796\n",
      "Epoch 26/100\n",
      "1719/1719 [==============================] - 9s 5ms/step - loss: 0.0368 - accuracy: 0.9904 - val_loss: 0.0715 - val_accuracy: 0.9798\n",
      "Epoch 27/100\n",
      "1719/1719 [==============================] - 8s 5ms/step - loss: 0.0349 - accuracy: 0.9912 - val_loss: 0.0712 - val_accuracy: 0.9810\n",
      "Epoch 28/100\n",
      "1719/1719 [==============================] - 8s 5ms/step - loss: 0.0329 - accuracy: 0.9919 - val_loss: 0.0739 - val_accuracy: 0.9798\n",
      "Epoch 29/100\n",
      "1719/1719 [==============================] - 8s 5ms/step - loss: 0.0309 - accuracy: 0.9924 - val_loss: 0.0730 - val_accuracy: 0.9796\n",
      "Epoch 30/100\n",
      "1719/1719 [==============================] - 8s 5ms/step - loss: 0.0292 - accuracy: 0.9931 - val_loss: 0.0714 - val_accuracy: 0.9804\n",
      "Epoch 31/100\n",
      "1719/1719 [==============================] - 8s 5ms/step - loss: 0.0276 - accuracy: 0.9935 - val_loss: 0.0719 - val_accuracy: 0.9800\n",
      "Epoch 32/100\n",
      "1719/1719 [==============================] - 8s 5ms/step - loss: 0.0260 - accuracy: 0.9940 - val_loss: 0.0710 - val_accuracy: 0.9810\n",
      "Epoch 33/100\n",
      "1719/1719 [==============================] - 8s 5ms/step - loss: 0.0247 - accuracy: 0.9946 - val_loss: 0.0717 - val_accuracy: 0.9800\n",
      "Epoch 34/100\n",
      "1719/1719 [==============================] - 8s 5ms/step - loss: 0.0235 - accuracy: 0.9951 - val_loss: 0.0729 - val_accuracy: 0.9802\n",
      "Epoch 35/100\n",
      "1719/1719 [==============================] - 8s 5ms/step - loss: 0.0222 - accuracy: 0.9955 - val_loss: 0.0706 - val_accuracy: 0.9814\n",
      "Epoch 36/100\n",
      "1719/1719 [==============================] - 8s 4ms/step - loss: 0.0208 - accuracy: 0.9960 - val_loss: 0.0730 - val_accuracy: 0.9800\n",
      "Epoch 37/100\n",
      "1719/1719 [==============================] - 8s 5ms/step - loss: 0.0198 - accuracy: 0.9964 - val_loss: 0.0685 - val_accuracy: 0.9816\n",
      "Epoch 38/100\n",
      "1719/1719 [==============================] - 8s 5ms/step - loss: 0.0188 - accuracy: 0.9967 - val_loss: 0.0706 - val_accuracy: 0.9810\n",
      "Epoch 39/100\n",
      "1719/1719 [==============================] - 8s 5ms/step - loss: 0.0179 - accuracy: 0.9971 - val_loss: 0.0707 - val_accuracy: 0.9812\n",
      "Epoch 40/100\n",
      "1719/1719 [==============================] - 8s 5ms/step - loss: 0.0169 - accuracy: 0.9973 - val_loss: 0.0720 - val_accuracy: 0.9814\n",
      "Epoch 41/100\n",
      "1719/1719 [==============================] - 8s 5ms/step - loss: 0.0161 - accuracy: 0.9976 - val_loss: 0.0700 - val_accuracy: 0.9820\n",
      "Epoch 42/100\n",
      "1719/1719 [==============================] - 8s 5ms/step - loss: 0.0152 - accuracy: 0.9978 - val_loss: 0.0698 - val_accuracy: 0.9816\n",
      "Epoch 43/100\n",
      "1719/1719 [==============================] - 8s 5ms/step - loss: 0.0145 - accuracy: 0.9980 - val_loss: 0.0739 - val_accuracy: 0.9790\n",
      "Epoch 44/100\n",
      "1719/1719 [==============================] - 8s 5ms/step - loss: 0.0138 - accuracy: 0.9982 - val_loss: 0.0701 - val_accuracy: 0.9812\n",
      "Epoch 45/100\n",
      "1719/1719 [==============================] - 8s 5ms/step - loss: 0.0130 - accuracy: 0.9985 - val_loss: 0.0712 - val_accuracy: 0.9808\n",
      "Epoch 46/100\n",
      "1719/1719 [==============================] - 8s 5ms/step - loss: 0.0126 - accuracy: 0.9985 - val_loss: 0.0710 - val_accuracy: 0.9818\n",
      "Epoch 47/100\n",
      "1719/1719 [==============================] - 8s 5ms/step - loss: 0.0119 - accuracy: 0.9987 - val_loss: 0.0709 - val_accuracy: 0.9820\n",
      "Epoch 48/100\n",
      "1719/1719 [==============================] - 8s 5ms/step - loss: 0.0112 - accuracy: 0.9987 - val_loss: 0.0732 - val_accuracy: 0.9810\n",
      "Epoch 49/100\n",
      "1719/1719 [==============================] - 8s 5ms/step - loss: 0.0107 - accuracy: 0.9989 - val_loss: 0.0708 - val_accuracy: 0.9828\n",
      "Epoch 50/100\n",
      "1719/1719 [==============================] - 8s 4ms/step - loss: 0.0103 - accuracy: 0.9990 - val_loss: 0.0722 - val_accuracy: 0.9812\n",
      "Epoch 51/100\n",
      "1719/1719 [==============================] - 8s 5ms/step - loss: 0.0098 - accuracy: 0.9991 - val_loss: 0.0721 - val_accuracy: 0.9824\n",
      "Epoch 52/100\n",
      "1719/1719 [==============================] - 8s 5ms/step - loss: 0.0095 - accuracy: 0.9992 - val_loss: 0.0714 - val_accuracy: 0.9826\n",
      "Epoch 53/100\n",
      "1719/1719 [==============================] - 8s 5ms/step - loss: 0.0091 - accuracy: 0.9992 - val_loss: 0.0724 - val_accuracy: 0.9814\n",
      "Epoch 54/100\n",
      "1719/1719 [==============================] - 8s 5ms/step - loss: 0.0087 - accuracy: 0.9992 - val_loss: 0.0726 - val_accuracy: 0.9818\n",
      "Epoch 55/100\n",
      "1719/1719 [==============================] - 8s 5ms/step - loss: 0.0084 - accuracy: 0.9994 - val_loss: 0.0742 - val_accuracy: 0.9822\n",
      "Epoch 56/100\n",
      "1719/1719 [==============================] - 8s 5ms/step - loss: 0.0079 - accuracy: 0.9995 - val_loss: 0.0752 - val_accuracy: 0.9816\n",
      "Epoch 57/100\n"
     ]
    },
    {
     "name": "stdout",
     "output_type": "stream",
     "text": [
      "1719/1719 [==============================] - 9s 5ms/step - loss: 0.0077 - accuracy: 0.9993 - val_loss: 0.0727 - val_accuracy: 0.9822\n"
     ]
    }
   ],
   "source": [
    "import os \n",
    "root_logdir = os.path.join(os.curdir, \"my_logs\")\n",
    "\n",
    "def get_run_logdir():\n",
    "    import time\n",
    "    run_id = time.strftime(\"run_%Y_%m_%d-%H_%M_%S\")\n",
    "    return os.path.join(root_logdir, run_id)\n",
    "\n",
    "run_logdir = get_run_logdir()\n",
    "\n",
    "tensorboard_cb = keras.callbacks.TensorBoard(run_logdir)\n",
    "early_stopping_cb = keras.callbacks.EarlyStopping(patience=20)\n",
    "\n",
    "history = model_my.fit(X_train, y_train, epochs=100,\n",
    "                   validation_data=(X_valid, y_valid),\n",
    "                   callbacks= [early_stopping_cb, tensorboard_cb])\n"
   ]
  },
  {
   "cell_type": "code",
   "execution_count": 47,
   "id": "78c6943a",
   "metadata": {
    "scrolled": true
   },
   "outputs": [
    {
     "name": "stdout",
     "output_type": "stream",
     "text": [
      "The tensorboard extension is already loaded. To reload it, use:\n",
      "  %reload_ext tensorboard\n"
     ]
    },
    {
     "data": {
      "text/plain": [
       "Reusing TensorBoard on port 6006 (pid 17440), started 3 days, 23:19:41 ago. (Use '!kill 17440' to kill it.)"
      ]
     },
     "metadata": {},
     "output_type": "display_data"
    },
    {
     "data": {
      "text/html": [
       "\n",
       "      <iframe id=\"tensorboard-frame-c54069a371a5060c\" width=\"100%\" height=\"800\" frameborder=\"0\">\n",
       "      </iframe>\n",
       "      <script>\n",
       "        (function() {\n",
       "          const frame = document.getElementById(\"tensorboard-frame-c54069a371a5060c\");\n",
       "          const url = new URL(\"/\", window.location);\n",
       "          const port = 6006;\n",
       "          if (port) {\n",
       "            url.port = port;\n",
       "          }\n",
       "          frame.src = url;\n",
       "        })();\n",
       "      </script>\n",
       "    "
      ],
      "text/plain": [
       "<IPython.core.display.HTML object>"
      ]
     },
     "metadata": {},
     "output_type": "display_data"
    }
   ],
   "source": [
    "%load_ext tensorboard\n",
    "%tensorboard --logdir=./my_logs --port=6006"
   ]
  },
  {
   "cell_type": "code",
   "execution_count": 49,
   "id": "86e6f0bd",
   "metadata": {},
   "outputs": [
    {
     "name": "stdout",
     "output_type": "stream",
     "text": [
      "313/313 [==============================] - 1s 3ms/step - loss: 0.0714 - accuracy: 0.9795\n"
     ]
    },
    {
     "data": {
      "text/plain": [
       "[0.0713987722992897, 0.9794999957084656]"
      ]
     },
     "execution_count": 49,
     "metadata": {},
     "output_type": "execute_result"
    }
   ],
   "source": [
    "model_my.evaluate(X_test, y_test)"
   ]
  },
  {
   "cell_type": "markdown",
   "id": "b6bbc9e8",
   "metadata": {},
   "source": [
    "### 학습률 튜닝 \n",
    "이 아래 코드는 잘 모르겠어서 답안을 참조했습니다. "
   ]
  },
  {
   "cell_type": "code",
   "execution_count": 54,
   "id": "33b94a30",
   "metadata": {},
   "outputs": [],
   "source": [
    "# 잘은 모르겠지만 이해한 내용을 써본다.\n",
    "# keras 는 low-level에서의 조정은 안된다. 왜냐하면 쉽게 사용하기 위한 딥러닝 api이기 때문이다. \n",
    "# 하지만 keras.backend를 사용하면 low-level에서의 조정이 가능하다.\n",
    "## set_value\n",
    "## keras.backend.set_value(x, value) 로 사용한다. \n",
    "#  반복마다 학습률을 증가시키기 위해 콜백을 사용합니다. 이 콜백은 반복마다 학습률과 손실을 기록합니다.\n",
    "K = keras.backend\n",
    "\n",
    "# 학습률을 지수함수적으로 증가시키면서 성능을 보는 콜백함수를 만들 클래스를 만든 것?\n",
    "class ExponentialLearningRate(keras.callbacks.Callback):\n",
    "    def __init__(self, factor):\n",
    "        self.factor = factor\n",
    "        self.rates = []\n",
    "        self.losses = []\n",
    "        \n",
    "        \n",
    "    # 파라미터로 들어간 batch는 잘 모르겠다. logs 는 모델이 학습된 기록들을 가져오는 것 같다.\n",
    "    def on_batch_end(self, batch, logs):\n",
    "        # 현재 학습 모델의 학습률을 가져와서 리스트에 추가\n",
    "        self.rates.append(K.get_value(self.model.optimizer.lr))\n",
    "        # 현재 학습 모델의 손실을 리스트에 추가\n",
    "        self.losses.append(logs[\"loss\"])\n",
    "        # 학습률에 self.factor을 곱한값을 학습률로 재설정\n",
    "        K.set_value(self.model.optimizer.lr, self.model.optimizer.lr * self.factor)"
   ]
  },
  {
   "cell_type": "code",
   "execution_count": 55,
   "id": "46760b04",
   "metadata": {},
   "outputs": [],
   "source": [
    "# clear_session\n",
    "# keras.backend.clear_session()\n",
    "# 현재 TF 그래프를 없애고, 새로운 TF 그래프를 만듭니다.\n",
    "#오래된 모델 혹은 층과의 혼란을 피할 때 유용합니다.\n",
    "keras.backend.clear_session()\n",
    "\n",
    "np.random.seed(42)\n",
    "\n",
    "tf.random.set_seed(42)"
   ]
  },
  {
   "cell_type": "code",
   "execution_count": 56,
   "id": "d57c6b35",
   "metadata": {},
   "outputs": [
    {
     "name": "stdout",
     "output_type": "stream",
     "text": [
      "1719/1719 [==============================] - 11s 6ms/step - loss: nan - accuracy: 0.5754 - val_loss: nan - val_accuracy: 0.0958\n"
     ]
    }
   ],
   "source": [
    "model_anwser = keras.models.Sequential([\n",
    "    keras.layers.Flatten(input_shape=[28,28]),\n",
    "    keras.layers.Dense(300, activation='relu'),\n",
    "    keras.layers.Dense(100, activation='relu'),\n",
    "    keras.layers.Dense(10, activation='softmax')\n",
    "])\n",
    "model_anwser.compile(loss=\"sparse_categorical_crossentropy\",\n",
    "              optimizer=keras.optimizers.SGD(learning_rate=1e-3),\n",
    "              metrics=[\"accuracy\"])\n",
    "expon_lr = ExponentialLearningRate(factor=1.005)\n",
    "\n",
    "history = model_anwser.fit(X_train, y_train, epochs=1,\n",
    "                    validation_data=(X_valid, y_valid),\n",
    "                    callbacks=[expon_lr])"
   ]
  },
  {
   "cell_type": "code",
   "execution_count": 57,
   "id": "3b7f0999",
   "metadata": {
    "scrolled": false
   },
   "outputs": [
    {
     "data": {
      "text/plain": [
       "Text(0, 0.5, 'Loss')"
      ]
     },
     "execution_count": 57,
     "metadata": {},
     "output_type": "execute_result"
    },
    {
     "data": {
      "image/png": "[encoded data removed]",
      "text/plain": [
       "<Figure size 432x288 with 1 Axes>"
      ]
     },
     "metadata": {
      "needs_background": "light"
     },
     "output_type": "display_data"
    }
   ],
   "source": [
    "import matplotlib.pyplot as plt\n",
    "\n",
    "plt.plot(expon_lr.rates, expon_lr.losses)\n",
    "plt.gca().set_xscale('log')\n",
    "plt.hlines(min(expon_lr.losses), min(expon_lr.rates), max(expon_lr.rates))\n",
    "plt.axis([min(expon_lr.rates), max(expon_lr.rates), 0, expon_lr.losses[0]])\n",
    "plt.grid()\n",
    "plt.xlabel(\"Learning rate\")\n",
    "plt.ylabel(\"Loss\")"
   ]
  },
  {
   "cell_type": "markdown",
   "id": "06c8f63b",
   "metadata": {},
   "source": [
    "그래프를 보고 학습률를 튜닝해준다."
   ]
  },
  {
   "cell_type": "code",
   "execution_count": 60,
   "id": "0768d4f3",
   "metadata": {
    "scrolled": true
   },
   "outputs": [
    {
     "name": "stdout",
     "output_type": "stream",
     "text": [
      "Epoch 1/100\n",
      "1719/1719 [==============================] - 9s 5ms/step - loss: 0.2333 - accuracy: 0.9267 - val_loss: 0.1018 - val_accuracy: 0.9688\n",
      "Epoch 2/100\n",
      "1719/1719 [==============================] - 8s 5ms/step - loss: 0.0941 - accuracy: 0.9708 - val_loss: 0.0995 - val_accuracy: 0.9730\n",
      "Epoch 3/100\n",
      "1719/1719 [==============================] - 8s 5ms/step - loss: 0.0643 - accuracy: 0.9802 - val_loss: 0.0771 - val_accuracy: 0.9768\n",
      "Epoch 4/100\n",
      "1719/1719 [==============================] - 8s 5ms/step - loss: 0.0469 - accuracy: 0.9849 - val_loss: 0.0730 - val_accuracy: 0.9810\n",
      "Epoch 5/100\n",
      "1719/1719 [==============================] - 8s 4ms/step - loss: 0.0345 - accuracy: 0.9885 - val_loss: 0.0880 - val_accuracy: 0.9778\n",
      "Epoch 6/100\n",
      "1719/1719 [==============================] - 8s 5ms/step - loss: 0.0288 - accuracy: 0.9911 - val_loss: 0.0680 - val_accuracy: 0.9818\n",
      "Epoch 7/100\n",
      "1719/1719 [==============================] - 8s 5ms/step - loss: 0.0210 - accuracy: 0.9928 - val_loss: 0.0726 - val_accuracy: 0.9798\n",
      "Epoch 8/100\n",
      "1719/1719 [==============================] - 9s 5ms/step - loss: 0.0181 - accuracy: 0.9938 - val_loss: 0.0775 - val_accuracy: 0.9838\n",
      "Epoch 9/100\n",
      "1719/1719 [==============================] - 8s 5ms/step - loss: 0.0135 - accuracy: 0.9957 - val_loss: 0.0890 - val_accuracy: 0.9824\n",
      "Epoch 10/100\n",
      "1719/1719 [==============================] - 8s 5ms/step - loss: 0.0137 - accuracy: 0.9954 - val_loss: 0.0895 - val_accuracy: 0.9800\n",
      "Epoch 11/100\n",
      "1719/1719 [==============================] - 8s 5ms/step - loss: 0.0116 - accuracy: 0.9960 - val_loss: 0.0879 - val_accuracy: 0.9820\n",
      "Epoch 12/100\n",
      "1719/1719 [==============================] - 8s 5ms/step - loss: 0.0111 - accuracy: 0.9964 - val_loss: 0.1035 - val_accuracy: 0.9788\n",
      "Epoch 13/100\n",
      "1719/1719 [==============================] - 8s 5ms/step - loss: 0.0104 - accuracy: 0.9968 - val_loss: 0.0874 - val_accuracy: 0.9820\n",
      "Epoch 14/100\n",
      "1719/1719 [==============================] - 8s 5ms/step - loss: 0.0087 - accuracy: 0.9972 - val_loss: 0.0919 - val_accuracy: 0.9838\n",
      "Epoch 15/100\n",
      "1719/1719 [==============================] - 8s 5ms/step - loss: 0.0105 - accuracy: 0.9966 - val_loss: 0.0928 - val_accuracy: 0.9800\n",
      "Epoch 16/100\n",
      "1719/1719 [==============================] - 8s 5ms/step - loss: 0.0040 - accuracy: 0.9987 - val_loss: 0.0811 - val_accuracy: 0.9826\n",
      "Epoch 17/100\n",
      "1719/1719 [==============================] - 8s 5ms/step - loss: 0.0013 - accuracy: 0.9997 - val_loss: 0.0823 - val_accuracy: 0.9860\n",
      "Epoch 18/100\n",
      "1719/1719 [==============================] - 8s 5ms/step - loss: 5.6057e-04 - accuracy: 0.9998 - val_loss: 0.0785 - val_accuracy: 0.9854\n",
      "Epoch 19/100\n",
      "1719/1719 [==============================] - 8s 5ms/step - loss: 1.1999e-04 - accuracy: 1.0000 - val_loss: 0.0797 - val_accuracy: 0.9856\n",
      "Epoch 20/100\n",
      "1719/1719 [==============================] - 8s 5ms/step - loss: 7.7460e-05 - accuracy: 1.0000 - val_loss: 0.0799 - val_accuracy: 0.9856\n",
      "Epoch 21/100\n",
      "1719/1719 [==============================] - 9s 5ms/step - loss: 6.2582e-05 - accuracy: 1.0000 - val_loss: 0.0803 - val_accuracy: 0.9854\n",
      "Epoch 22/100\n",
      "1719/1719 [==============================] - 8s 5ms/step - loss: 5.4441e-05 - accuracy: 1.0000 - val_loss: 0.0808 - val_accuracy: 0.9854\n",
      "Epoch 23/100\n",
      "1719/1719 [==============================] - 8s 5ms/step - loss: 4.8599e-05 - accuracy: 1.0000 - val_loss: 0.0814 - val_accuracy: 0.9858\n",
      "Epoch 24/100\n",
      "1719/1719 [==============================] - 8s 5ms/step - loss: 4.4041e-05 - accuracy: 1.0000 - val_loss: 0.0819 - val_accuracy: 0.9860\n",
      "Epoch 25/100\n",
      "1719/1719 [==============================] - 9s 5ms/step - loss: 4.0573e-05 - accuracy: 1.0000 - val_loss: 0.0822 - val_accuracy: 0.9860\n",
      "Epoch 26/100\n",
      "1719/1719 [==============================] - 8s 5ms/step - loss: 3.7558e-05 - accuracy: 1.0000 - val_loss: 0.0827 - val_accuracy: 0.9860\n"
     ]
    }
   ],
   "source": [
    "# clear_session\n",
    "# keras.backend.clear_session()\n",
    "# 현재 TF 그래프를 없애고, 새로운 TF 그래프를 만듭니다.\n",
    "#오래된 모델 혹은 층과의 혼란을 피할 때 유용합니다.\n",
    "keras.backend.clear_session()\n",
    "\n",
    "np.random.seed(42)\n",
    "\n",
    "tf.random.set_seed(42)\n",
    "\n",
    "model_last = keras.models.Sequential([\n",
    "    keras.layers.Flatten(input_shape=[28,28]),\n",
    "    keras.layers.Dense(300, activation='relu'),\n",
    "    keras.layers.Dense(100, activation='relu'),\n",
    "    keras.layers.Dense(10, activation='softmax')\n",
    "])\n",
    "model_last.compile(loss=\"sparse_categorical_crossentropy\",\n",
    "              optimizer=keras.optimizers.SGD(learning_rate=3e-1),\n",
    "              metrics=[\"accuracy\"])\n",
    "\n",
    "early_stopping_cb = keras.callbacks.EarlyStopping(patience=20)\n",
    "checkpoint_cb = keras.callbacks.ModelCheckpoint(\"my_mnist_model.h5\", save_best_only=True)\n",
    "tensorboard_cb = keras.callbacks.TensorBoard(run_logdir)\n",
    "\n",
    "history = model_last.fit(X_train, y_train, epochs=100,\n",
    "                    validation_data=(X_valid, y_valid),\n",
    "                    callbacks=[checkpoint_cb, early_stopping_cb, tensorboard_cb])"
   ]
  },
  {
   "cell_type": "code",
   "execution_count": 61,
   "id": "c95c95a2",
   "metadata": {},
   "outputs": [
    {
     "name": "stdout",
     "output_type": "stream",
     "text": [
      "313/313 [==============================] - 1s 4ms/step - loss: 0.0690 - accuracy: 0.9814\n"
     ]
    },
    {
     "data": {
      "text/plain": [
       "[0.06899699568748474, 0.9814000129699707]"
      ]
     },
     "execution_count": 61,
     "metadata": {},
     "output_type": "execute_result"
    }
   ],
   "source": [
    "model = keras.models.load_model(\"my_mnist_model.h5\") # rollback to best model\n",
    "model.evaluate(X_test, y_test)"
   ]
  },
  {
   "cell_type": "code",
   "execution_count": 62,
   "id": "284b36a8",
   "metadata": {},
   "outputs": [
    {
     "data": {
      "text/plain": [
       "Reusing TensorBoard on port 6006 (pid 13396), started 0:29:53 ago. (Use '!kill 13396' to kill it.)"
      ]
     },
     "metadata": {},
     "output_type": "display_data"
    },
    {
     "data": {
      "text/html": [
       "\n",
       "      <iframe id=\"tensorboard-frame-350402f3ea611a96\" width=\"100%\" height=\"800\" frameborder=\"0\">\n",
       "      </iframe>\n",
       "      <script>\n",
       "        (function() {\n",
       "          const frame = document.getElementById(\"tensorboard-frame-350402f3ea611a96\");\n",
       "          const url = new URL(\"/\", window.location);\n",
       "          const port = 6006;\n",
       "          if (port) {\n",
       "            url.port = port;\n",
       "          }\n",
       "          frame.src = url;\n",
       "        })();\n",
       "      </script>\n",
       "    "
      ],
      "text/plain": [
       "<IPython.core.display.HTML object>"
      ]
     },
     "metadata": {},
     "output_type": "display_data"
    }
   ],
   "source": [
    "%tensorboard --logdir=./my_mnist_logs --port=6006"
   ]
  }
 ],
 "metadata": {
  "kernelspec": {
   "display_name": "Python 3 (ipykernel)",
   "language": "python",
   "name": "python3"
  },
  "language_info": {
   "codemirror_mode": {
    "name": "ipython",
    "version": 3
   },
   "file_extension": ".py",
   "mimetype": "text/x-python",
   "name": "python",
   "nbconvert_exporter": "python",
   "pygments_lexer": "ipython3",
   "version": "3.9.7"
  }
 },
 "nbformat": 4,
 "nbformat_minor": 5
}
