{
 "cells": [
  {
   "cell_type": "markdown",
   "id": "9affe3eb",
   "metadata": {},
   "source": [
    "딥러닝 공부를 끝내고 다시 앞으로 돌아왔다. 나는 이 공부가 재밌는데, 어떻게 해야할 지 잘 모르겠다. 일단 머신러닝 쪽 공부를 다시 가볍게 해볼 것이다. 가볍게 라는 의미는 내가 부족하다고 생각하는 부분만 공부하겠다는 것이다. \n",
    "\n",
    "이미 한번 공부를 했던 부분이여서 흥미가 떨어지기도 하고 그래서 잘 모르겠는 부분 위주로 공부하겠다. \n",
    "\n",
    "\\+ 퀴즈들은 앞에서부터 다 풀어봐야지"
   ]
  },
  {
   "cell_type": "markdown",
   "id": "b46ac5a1",
   "metadata": {},
   "source": [
    "# [3장] 분류"
   ]
  },
  {
   "cell_type": "markdown",
   "id": "7f3443ad",
   "metadata": {},
   "source": [
    "# 3장 퀴즈\n",
    "이번장은 앞에 내용을 다시 읽는게 너무 흥미가 떨어져서 퀴즈를 풀어보면서 공부를 해보겠다."
   ]
  },
  {
   "cell_type": "markdown",
   "id": "2f244b32",
   "metadata": {},
   "source": [
    "1. MNIST데이터셋으로 분류기를 만들어 테스트 세트에서 97% 정확도를 달성해보자. (힌트: KNeighborsClassifier가 이 작업에 아주 잘 맞는다. 좋은 하이퍼파라미터 값만 찾으면 된다. weight와 n_neighbors 하이퍼 파라미터를 그리드서치 해보세요."
   ]
  },
  {
   "cell_type": "code",
   "execution_count": 9,
   "id": "9a862413",
   "metadata": {},
   "outputs": [],
   "source": [
    "import numpy as np\n",
    "import pandas as pd\n",
    "import matplotlib as plt"
   ]
  },
  {
   "cell_type": "code",
   "execution_count": 46,
   "id": "73d820cc",
   "metadata": {},
   "outputs": [
    {
     "data": {
      "text/plain": [
       "dict_keys(['data', 'target', 'frame', 'categories', 'feature_names', 'target_names', 'DESCR', 'details', 'url'])"
      ]
     },
     "execution_count": 46,
     "metadata": {},
     "output_type": "execute_result"
    }
   ],
   "source": [
    "from sklearn.datasets import fetch_openml\n",
    "mnist = fetch_openml('mnist_784', version=1, as_frame=False)\n",
    "mnist.keys()\n",
    "\n",
    "# 사이킷런에서 읽은 데이터들은 일반적으로 비슷한 딕셔너리 구조로 이루어져 있다.\n",
    "# DESCR: 데이터셋을 설명하는 키\n",
    "# data: 행렬로 구성된 데이터가 담긴 키\n",
    "# target: 레이블 배열이 담긴 키"
   ]
  },
  {
   "cell_type": "code",
   "execution_count": 47,
   "id": "c5d678c1",
   "metadata": {},
   "outputs": [],
   "source": [
    "X, y = mnist.data, mnist.target"
   ]
  },
  {
   "cell_type": "code",
   "execution_count": 48,
   "id": "70470b2a",
   "metadata": {},
   "outputs": [
    {
     "data": {
      "text/plain": [
       "(70000, 784)"
      ]
     },
     "execution_count": 48,
     "metadata": {},
     "output_type": "execute_result"
    }
   ],
   "source": [
    "X = pd.DataFrame(X)\n",
    "X.shape"
   ]
  },
  {
   "cell_type": "code",
   "execution_count": 49,
   "id": "ec464ce2",
   "metadata": {},
   "outputs": [
    {
     "data": {
      "text/plain": [
       "array(['5', '0', '4', ..., '4', '5', '6'], dtype=object)"
      ]
     },
     "execution_count": 49,
     "metadata": {},
     "output_type": "execute_result"
    }
   ],
   "source": [
    "y"
   ]
  },
  {
   "cell_type": "code",
   "execution_count": 50,
   "id": "dbfb0e49",
   "metadata": {},
   "outputs": [],
   "source": [
    "from sklearn.model_selection import train_test_split\n",
    "\n",
    "X_train, X_test, y_train, y_test = train_test_split(X, y, test_size=0.2)"
   ]
  },
  {
   "cell_type": "code",
   "execution_count": 56,
   "id": "86e8de3b",
   "metadata": {},
   "outputs": [
    {
     "data": {
      "text/plain": [
       "numpy.uint8"
      ]
     },
     "execution_count": 56,
     "metadata": {},
     "output_type": "execute_result"
    }
   ],
   "source": [
    "type(y[1])"
   ]
  },
  {
   "cell_type": "code",
   "execution_count": 52,
   "id": "17efe6d8",
   "metadata": {},
   "outputs": [],
   "source": [
    "y = y.astype(np.uint8)"
   ]
  },
  {
   "cell_type": "code",
   "execution_count": 53,
   "id": "8ce4fec3",
   "metadata": {},
   "outputs": [],
   "source": [
    "from sklearn.neighbors import KNeighborsClassifier\n",
    "from sklearn.metrics import accuracy_score"
   ]
  },
  {
   "cell_type": "code",
   "execution_count": 54,
   "id": "634036ce",
   "metadata": {},
   "outputs": [
    {
     "data": {
      "text/plain": [
       "0.9725"
      ]
     },
     "execution_count": 54,
     "metadata": {},
     "output_type": "execute_result"
    }
   ],
   "source": [
    "kn_clf = KNeighborsClassifier()\n",
    "kn_clf.fit(X_train, y_train.ravel())\n",
    "\n",
    "pred = kn_clf.predict(X_test)\n",
    "\n",
    "accuracy = accuracy_score(pred, y_test)\n",
    "\n",
    "accuracy"
   ]
  },
  {
   "cell_type": "markdown",
   "id": "3fb0092c",
   "metadata": {},
   "source": [
    "너무나도 쉽게 달성한 97%의 정확도... 그래도 하이퍼파라미터 튜닝을 해보자\n",
    "\n",
    "https://scikit-learn.org/stable/modules/generated/sklearn.neighbors.KNeighborsClassifier.html\n",
    "\n",
    "KNeighborsClassifier 에 대한 레퍼런스를 읽어보았다. 중요파라미터로는 n_neighbors와 weight가 있는데, 잘 이해하지 못해서 더 찾아봤다.\n",
    "\n",
    "https://ysyblog.tistory.com/74\n",
    "\n",
    "위 링크에 간단하게 설명된 knn 알고리즘을 읽고 이해해봤다.\n",
    "\n",
    "이제 그리드 서치를 통해서 최적 파라미터를 찾아보자."
   ]
  },
  {
   "cell_type": "code",
   "execution_count": 61,
   "id": "250ca12f",
   "metadata": {},
   "outputs": [
    {
     "name": "stdout",
     "output_type": "stream",
     "text": [
      "Fitting 5 folds for each of 8 candidates, totalling 40 fits\n",
      "[CV 1/5] END ....n_neighbors=3, weights=uniform;, score=0.971 total time=  14.4s\n",
      "[CV 2/5] END ....n_neighbors=3, weights=uniform;, score=0.970 total time=  14.0s\n",
      "[CV 3/5] END ....n_neighbors=3, weights=uniform;, score=0.970 total time=  14.0s\n",
      "[CV 4/5] END ....n_neighbors=3, weights=uniform;, score=0.970 total time=  13.9s\n",
      "[CV 5/5] END ....n_neighbors=3, weights=uniform;, score=0.967 total time=  14.3s\n",
      "[CV 1/5] END ...n_neighbors=3, weights=distance;, score=0.971 total time=  13.7s\n",
      "[CV 2/5] END ...n_neighbors=3, weights=distance;, score=0.971 total time=  13.3s\n",
      "[CV 3/5] END ...n_neighbors=3, weights=distance;, score=0.971 total time=  13.0s\n",
      "[CV 4/5] END ...n_neighbors=3, weights=distance;, score=0.970 total time=  13.1s\n",
      "[CV 5/5] END ...n_neighbors=3, weights=distance;, score=0.968 total time=  13.2s\n",
      "[CV 1/5] END ....n_neighbors=4, weights=uniform;, score=0.969 total time=  14.4s\n",
      "[CV 2/5] END ....n_neighbors=4, weights=uniform;, score=0.969 total time=  14.0s\n",
      "[CV 3/5] END ....n_neighbors=4, weights=uniform;, score=0.968 total time=  13.7s\n",
      "[CV 4/5] END ....n_neighbors=4, weights=uniform;, score=0.969 total time=  13.8s\n",
      "[CV 5/5] END ....n_neighbors=4, weights=uniform;, score=0.967 total time=  13.7s\n",
      "[CV 1/5] END ...n_neighbors=4, weights=distance;, score=0.973 total time=  13.6s\n",
      "[CV 2/5] END ...n_neighbors=4, weights=distance;, score=0.972 total time=  13.7s\n",
      "[CV 3/5] END ...n_neighbors=4, weights=distance;, score=0.972 total time=  13.6s\n",
      "[CV 4/5] END ...n_neighbors=4, weights=distance;, score=0.972 total time=  13.3s\n",
      "[CV 5/5] END ...n_neighbors=4, weights=distance;, score=0.969 total time=  13.8s\n",
      "[CV 1/5] END ....n_neighbors=5, weights=uniform;, score=0.970 total time=  14.1s\n",
      "[CV 2/5] END ....n_neighbors=5, weights=uniform;, score=0.971 total time=  13.5s\n",
      "[CV 3/5] END ....n_neighbors=5, weights=uniform;, score=0.969 total time=  14.6s\n",
      "[CV 4/5] END ....n_neighbors=5, weights=uniform;, score=0.969 total time=  13.9s\n",
      "[CV 5/5] END ....n_neighbors=5, weights=uniform;, score=0.965 total time=  14.5s\n",
      "[CV 1/5] END ...n_neighbors=5, weights=distance;, score=0.971 total time=  12.9s\n",
      "[CV 2/5] END ...n_neighbors=5, weights=distance;, score=0.972 total time=  13.2s\n",
      "[CV 3/5] END ...n_neighbors=5, weights=distance;, score=0.971 total time=  13.3s\n",
      "[CV 4/5] END ...n_neighbors=5, weights=distance;, score=0.970 total time=  13.7s\n",
      "[CV 5/5] END ...n_neighbors=5, weights=distance;, score=0.967 total time=  13.2s\n",
      "[CV 1/5] END ....n_neighbors=6, weights=uniform;, score=0.967 total time=  13.7s\n",
      "[CV 2/5] END ....n_neighbors=6, weights=uniform;, score=0.970 total time=  13.8s\n",
      "[CV 3/5] END ....n_neighbors=6, weights=uniform;, score=0.968 total time=  13.8s\n",
      "[CV 4/5] END ....n_neighbors=6, weights=uniform;, score=0.968 total time=  14.4s\n",
      "[CV 5/5] END ....n_neighbors=6, weights=uniform;, score=0.964 total time=  13.9s\n",
      "[CV 1/5] END ...n_neighbors=6, weights=distance;, score=0.972 total time=  13.3s\n",
      "[CV 2/5] END ...n_neighbors=6, weights=distance;, score=0.972 total time=  13.3s\n",
      "[CV 3/5] END ...n_neighbors=6, weights=distance;, score=0.970 total time=  13.2s\n",
      "[CV 4/5] END ...n_neighbors=6, weights=distance;, score=0.971 total time=  13.2s\n",
      "[CV 5/5] END ...n_neighbors=6, weights=distance;, score=0.968 total time=  13.1s\n"
     ]
    },
    {
     "data": {
      "text/html": [
       "<style>#sk-container-id-1 {color: black;background-color: white;}#sk-container-id-1 pre{padding: 0;}#sk-container-id-1 div.sk-toggleable {background-color: white;}#sk-container-id-1 label.sk-toggleable__label {cursor: pointer;display: block;width: 100%;margin-bottom: 0;padding: 0.3em;box-sizing: border-box;text-align: center;}#sk-container-id-1 label.sk-toggleable__label-arrow:before {content: \"▸\";float: left;margin-right: 0.25em;color: #696969;}#sk-container-id-1 label.sk-toggleable__label-arrow:hover:before {color: black;}#sk-container-id-1 div.sk-estimator:hover label.sk-toggleable__label-arrow:before {color: black;}#sk-container-id-1 div.sk-toggleable__content {max-height: 0;max-width: 0;overflow: hidden;text-align: left;background-color: #f0f8ff;}#sk-container-id-1 div.sk-toggleable__content pre {margin: 0.2em;color: black;border-radius: 0.25em;background-color: #f0f8ff;}#sk-container-id-1 input.sk-toggleable__control:checked~div.sk-toggleable__content {max-height: 200px;max-width: 100%;overflow: auto;}#sk-container-id-1 input.sk-toggleable__control:checked~label.sk-toggleable__label-arrow:before {content: \"▾\";}#sk-container-id-1 div.sk-estimator input.sk-toggleable__control:checked~label.sk-toggleable__label {background-color: #d4ebff;}#sk-container-id-1 div.sk-label input.sk-toggleable__control:checked~label.sk-toggleable__label {background-color: #d4ebff;}#sk-container-id-1 input.sk-hidden--visually {border: 0;clip: rect(1px 1px 1px 1px);clip: rect(1px, 1px, 1px, 1px);height: 1px;margin: -1px;overflow: hidden;padding: 0;position: absolute;width: 1px;}#sk-container-id-1 div.sk-estimator {font-family: monospace;background-color: #f0f8ff;border: 1px dotted black;border-radius: 0.25em;box-sizing: border-box;margin-bottom: 0.5em;}#sk-container-id-1 div.sk-estimator:hover {background-color: #d4ebff;}#sk-container-id-1 div.sk-parallel-item::after {content: \"\";width: 100%;border-bottom: 1px solid gray;flex-grow: 1;}#sk-container-id-1 div.sk-label:hover label.sk-toggleable__label {background-color: #d4ebff;}#sk-container-id-1 div.sk-serial::before {content: \"\";position: absolute;border-left: 1px solid gray;box-sizing: border-box;top: 0;bottom: 0;left: 50%;z-index: 0;}#sk-container-id-1 div.sk-serial {display: flex;flex-direction: column;align-items: center;background-color: white;padding-right: 0.2em;padding-left: 0.2em;position: relative;}#sk-container-id-1 div.sk-item {position: relative;z-index: 1;}#sk-container-id-1 div.sk-parallel {display: flex;align-items: stretch;justify-content: center;background-color: white;position: relative;}#sk-container-id-1 div.sk-item::before, #sk-container-id-1 div.sk-parallel-item::before {content: \"\";position: absolute;border-left: 1px solid gray;box-sizing: border-box;top: 0;bottom: 0;left: 50%;z-index: -1;}#sk-container-id-1 div.sk-parallel-item {display: flex;flex-direction: column;z-index: 1;position: relative;background-color: white;}#sk-container-id-1 div.sk-parallel-item:first-child::after {align-self: flex-end;width: 50%;}#sk-container-id-1 div.sk-parallel-item:last-child::after {align-self: flex-start;width: 50%;}#sk-container-id-1 div.sk-parallel-item:only-child::after {width: 0;}#sk-container-id-1 div.sk-dashed-wrapped {border: 1px dashed gray;margin: 0 0.4em 0.5em 0.4em;box-sizing: border-box;padding-bottom: 0.4em;background-color: white;}#sk-container-id-1 div.sk-label label {font-family: monospace;font-weight: bold;display: inline-block;line-height: 1.2em;}#sk-container-id-1 div.sk-label-container {text-align: center;}#sk-container-id-1 div.sk-container {/* jupyter's `normalize.less` sets `[hidden] { display: none; }` but bootstrap.min.css set `[hidden] { display: none !important; }` so we also need the `!important` here to be able to override the default hidden behavior on the sphinx rendered scikit-learn.org. See: https://github.com/scikit-learn/scikit-learn/issues/21755 */display: inline-block !important;position: relative;}#sk-container-id-1 div.sk-text-repr-fallback {display: none;}</style><div id=\"sk-container-id-1\" class=\"sk-top-container\"><div class=\"sk-text-repr-fallback\"><pre>GridSearchCV(cv=5, estimator=KNeighborsClassifier(),\n",
       "             param_grid={&#x27;n_neighbors&#x27;: [3, 4, 5, 6],\n",
       "                         &#x27;weights&#x27;: [&#x27;uniform&#x27;, &#x27;distance&#x27;]},\n",
       "             verbose=3)</pre><b>In a Jupyter environment, please rerun this cell to show the HTML representation or trust the notebook. <br />On GitHub, the HTML representation is unable to render, please try loading this page with nbviewer.org.</b></div><div class=\"sk-container\" hidden><div class=\"sk-item sk-dashed-wrapped\"><div class=\"sk-label-container\"><div class=\"sk-label sk-toggleable\"><input class=\"sk-toggleable__control sk-hidden--visually\" id=\"sk-estimator-id-1\" type=\"checkbox\" ><label for=\"sk-estimator-id-1\" class=\"sk-toggleable__label sk-toggleable__label-arrow\">GridSearchCV</label><div class=\"sk-toggleable__content\"><pre>GridSearchCV(cv=5, estimator=KNeighborsClassifier(),\n",
       "             param_grid={&#x27;n_neighbors&#x27;: [3, 4, 5, 6],\n",
       "                         &#x27;weights&#x27;: [&#x27;uniform&#x27;, &#x27;distance&#x27;]},\n",
       "             verbose=3)</pre></div></div></div><div class=\"sk-parallel\"><div class=\"sk-parallel-item\"><div class=\"sk-item\"><div class=\"sk-label-container\"><div class=\"sk-label sk-toggleable\"><input class=\"sk-toggleable__control sk-hidden--visually\" id=\"sk-estimator-id-2\" type=\"checkbox\" ><label for=\"sk-estimator-id-2\" class=\"sk-toggleable__label sk-toggleable__label-arrow\">estimator: KNeighborsClassifier</label><div class=\"sk-toggleable__content\"><pre>KNeighborsClassifier()</pre></div></div></div><div class=\"sk-serial\"><div class=\"sk-item\"><div class=\"sk-estimator sk-toggleable\"><input class=\"sk-toggleable__control sk-hidden--visually\" id=\"sk-estimator-id-3\" type=\"checkbox\" ><label for=\"sk-estimator-id-3\" class=\"sk-toggleable__label sk-toggleable__label-arrow\">KNeighborsClassifier</label><div class=\"sk-toggleable__content\"><pre>KNeighborsClassifier()</pre></div></div></div></div></div></div></div></div></div></div>"
      ],
      "text/plain": [
       "GridSearchCV(cv=5, estimator=KNeighborsClassifier(),\n",
       "             param_grid={'n_neighbors': [3, 4, 5, 6],\n",
       "                         'weights': ['uniform', 'distance']},\n",
       "             verbose=3)"
      ]
     },
     "execution_count": 61,
     "metadata": {},
     "output_type": "execute_result"
    }
   ],
   "source": [
    "from sklearn.model_selection import GridSearchCV\n",
    "\n",
    "param_grid = {'weights':['uniform', 'distance'],\n",
    "             'n_neighbors': list(range(3, 7))}\n",
    "\n",
    "kn_clf = KNeighborsClassifier()\n",
    "\n",
    "\n",
    "grid_knn_clf = GridSearchCV(estimator = kn_clf, param_grid=param_grid, cv=5, verbose=3)\n",
    "\n",
    "grid_knn_clf.fit(X_train, y_train)"
   ]
  },
  {
   "cell_type": "code",
   "execution_count": 65,
   "id": "88b07e3f",
   "metadata": {},
   "outputs": [
    {
     "data": {
      "text/plain": [
       "{'n_neighbors': 4, 'weights': 'distance'}"
      ]
     },
     "execution_count": 65,
     "metadata": {},
     "output_type": "execute_result"
    }
   ],
   "source": [
    "best_param = grid_knn_clf.best_params_\n",
    "best_param"
   ]
  },
  {
   "cell_type": "code",
   "execution_count": 63,
   "id": "29ff7f80",
   "metadata": {},
   "outputs": [
    {
     "data": {
      "text/plain": [
       "0.9716607142857143"
      ]
     },
     "execution_count": 63,
     "metadata": {},
     "output_type": "execute_result"
    }
   ],
   "source": [
    "grid_knn_clf.best_score_"
   ]
  },
  {
   "cell_type": "code",
   "execution_count": 70,
   "id": "23ce02a9",
   "metadata": {},
   "outputs": [],
   "source": [
    "kn_clf = KNeighborsClassifier(n_neighbors=4, weights='distance')\n",
    "kn_clf.fit(X_train, y_train)\n",
    "\n",
    "pred = kn_clf.predict(X_test)\n",
    "accuracy = accuracy_score(pred, y_test)"
   ]
  },
  {
   "cell_type": "code",
   "execution_count": 72,
   "id": "349712cf",
   "metadata": {
    "scrolled": true
   },
   "outputs": [
    {
     "data": {
      "text/plain": [
       "0.9748"
      ]
     },
     "execution_count": 72,
     "metadata": {},
     "output_type": "execute_result"
    }
   ],
   "source": [
    "round(accuracy,4)"
   ]
  },
  {
   "cell_type": "markdown",
   "id": "efcfcecb",
   "metadata": {},
   "source": [
    "와 아주 아주 조금 파라미터가 수정 되었다. 오차율이 0.0275에서 0.0252 로 향상됐다. \n",
    "> 0.0023/0.0275\\*100 = 8 \n",
    "\n",
    "\n",
    "대략 8% 만큼 모델이 향상 되었다. "
   ]
  },
  {
   "cell_type": "markdown",
   "id": "612151cf",
   "metadata": {},
   "source": [
    "# 연습문제 2\n",
    "MNIST 이미지를 어느방향으로든 한 픽셀 이동시킬 수 있는 함수를 만들어보세요. 그런다음 훈련세트에 있는 각 이미지에 대해 네개의 이동된 복사본을 만들어서 훈련세트에 추가해보세요. 마지막으로 이 확장된 데이터셋에서 앞에서 찾은 최선의 모델을 훈련시키고 테스트 세트에서 정확도를 측정해보세요. 모델 성능이 더 높아졌는지 확인해보세요! 인위적으로 훈련세트를 늘리는 이 기법을 데이터 증식 또는 훈련 세트 확장이라고 합니다."
   ]
  },
  {
   "cell_type": "code",
   "execution_count": null,
   "id": "64f217b1",
   "metadata": {},
   "outputs": [],
   "source": []
  },
  {
   "cell_type": "markdown",
   "id": "47ee6a8a",
   "metadata": {},
   "source": [
    "# 연습문제 3 \n",
    "타이타닉 데이터셋에 도전해보세요!\n",
    "\n",
    "이 문제는 전에 해봤어서.... 다음으로 미뤄야지"
   ]
  },
  {
   "cell_type": "markdown",
   "id": "cbf385ae",
   "metadata": {},
   "source": [
    "# 연습문제 4\n",
    "\n",
    "이 문제는 머신러닝 기법이 어려운게 아닌 것 같다. 데이터를 적재하고 가공하는게 너무 어렵다... 코드 공부하는 셈 치고 잘 해보겠다.\n",
    "\n",
    "\n",
    "아니 아무리그래도 이건 너무 어려운데... 패스해야지\n",
    "\n",
    "스팸분류기를 만들어보세요. \n",
    "- 아파치 스팸어새신 공공 데이터셋(https://homl.info/spamassassin) 에서 스팸과 스팸이 아닌 샘플을 내려받는다. (완)\n",
    "- 데이터셋을 훈련 세트와 테스트세트로 나눈다.\n"
   ]
  },
  {
   "cell_type": "code",
   "execution_count": 76,
   "id": "d5bef2e2",
   "metadata": {},
   "outputs": [],
   "source": [
    "import os\n",
    "# zip파일을 다루는 모듈\n",
    "import tarfile\n",
    "import urllib.request\n",
    "\n",
    "\n",
    "# 해당 링크에서 데이터를 받고 저장하는 코드이다.\n",
    "\n",
    "DOWNLOAD_ROOT = \"http://spamassassin.apache.org/old/publiccorpus/\"\n",
    "HAM_URL = DOWNLOAD_ROOT + \"20030228_easy_ham.tar.bz2\"\n",
    "SPAM_URL = DOWNLOAD_ROOT + \"20030228_spam.tar.bz2\"\n",
    "SPAM_PATH = os.path.join(\"datasets\", \"spam\")\n",
    "\n",
    "def fetch_spam_data(ham_url=HAM_URL, spam_url=SPAM_URL, spam_path=SPAM_PATH):\n",
    "    # 만약 datasets/spam 디렉토리가 없다면 만든다.\n",
    "    if not os.path.isdir(spam_path):\n",
    "        os.makedirs(spam_path)\n",
    "        \n",
    "    # filename과 url을 각 튜플에서 받는 반복문\n",
    "    for filename, url in ((\"ham.tar.bz2\", ham_url), (\"spam.tar.bz2\", spam_url)):\n",
    "        path = os.path.join(spam_path, filename)\n",
    "        \n",
    "        # 만약 path가 없다면, url을 path에 저장한다.\n",
    "        if not os.path.isfile(path):\n",
    "            urllib.request.urlretrieve(url, path)\n",
    "        \n",
    "        # path에 해당하는 zip파일을 열고 변수에 저장한다.\n",
    "        tar_bz2_file = tarfile.open(path)\n",
    "        # https://docs.python.org/ko/3/library/tarfile.html#tarfile.TarFile.extractall\n",
    "        # 압축해제한 파일을 path에 저장한다.\n",
    "        tar_bz2_file.extractall(path=spam_path)\n",
    "        # 파일을 닫는다.\n",
    "        tar_bz2_file.close()\n",
    "\n",
    "fetch_spam_data()\n",
    "\n",
    "HAM_DIR = os.path.join(SPAM_PATH, \"easy_ham\")\n",
    "SPAM_DIR = os.path.join(SPAM_PATH, \"spam\")\n",
    "ham_filenames = [name for name in sorted(os.listdir(HAM_DIR)) if len(name) > 20]\n",
    "spam_filenames = [name for name in sorted(os.listdir(SPAM_DIR)) if len(name) > 20]"
   ]
  },
  {
   "cell_type": "code",
   "execution_count": 83,
   "id": "cd88b594",
   "metadata": {},
   "outputs": [
    {
     "name": "stdout",
     "output_type": "stream",
     "text": [
      "filename\n",
      "ham.tar.bz2\n",
      "url\n",
      "http://spamassassin.apache.org/old/publiccorpus/20030228_easy_ham.tar.bz2\n",
      "filename\n",
      "spam.tar.bz2\n",
      "url\n",
      "http://spamassassin.apache.org/old/publiccorpus/20030228_spam.tar.bz2\n"
     ]
    }
   ],
   "source": [
    "# 위 for문이 어떻게 동작하는지 알아보려고 쓴 코드이다.\n",
    "\n",
    "for filename, url in ((\"ham.tar.bz2\", HAM_URL), (\"spam.tar.bz2\", SPAM_URL)):    \n",
    "    print(\"filename\")\n",
    "    print(filename)\n",
    "    print(\"url\")\n",
    "    print(url)"
   ]
  },
  {
   "cell_type": "code",
   "execution_count": 88,
   "id": "c6ce9017",
   "metadata": {},
   "outputs": [],
   "source": [
    "HAM_DIR = os.path.join(SPAM_PATH, \"easy_ham\")\n",
    "SPAM_DIR = os.path.join(SPAM_PATH, \"spam\")\n",
    "    \n",
    "# 디렉토리에서 파일을 리스트에 저장해준다.\n",
    "ham_filenames = [name for name in sorted(os.listdir(HAM_DIR)) if len(name) > 20]\n",
    "spam_filenames = [name for name in sorted(os.listdir(SPAM_DIR)) if len(name) > 20]"
   ]
  },
  {
   "cell_type": "code",
   "execution_count": 89,
   "id": "d38a4cc6",
   "metadata": {},
   "outputs": [
    {
     "data": {
      "text/plain": [
       "2500"
      ]
     },
     "execution_count": 89,
     "metadata": {},
     "output_type": "execute_result"
    }
   ],
   "source": [
    "len(ham_filenames)"
   ]
  },
  {
   "cell_type": "code",
   "execution_count": 90,
   "id": "4b19544c",
   "metadata": {},
   "outputs": [
    {
     "data": {
      "text/plain": [
       "500"
      ]
     },
     "execution_count": 90,
     "metadata": {},
     "output_type": "execute_result"
    }
   ],
   "source": [
    "len(spam_filenames)"
   ]
  },
  {
   "cell_type": "code",
   "execution_count": 91,
   "id": "b60e7da8",
   "metadata": {},
   "outputs": [],
   "source": [
    "# 파일들이 이루어진게 이메일을 압축한 형태로 되있는 것 같은데, 그거를 이메일 형식으로 돌리는 코드 같다(?)\n",
    "import email\n",
    "import email.policy\n",
    "\n",
    "\n",
    "def load_email(is_spam, filename, spam_path=SPAM_PATH):\n",
    "    directory = \"spam\" if is_spam else \"easy_ham\"\n",
    "    with open(os.path.join(spam_path, directory, filename), \"rb\") as f:\n",
    "        return email.parser.BytesParser(policy=email.policy.default).parse(f)\n",
    "ham_emails = [load_email(is_spam=False, filename=name) for name in ham_filenames]\n",
    "spam_emails = [load_email(is_spam=True, filename=name) for name in spam_filenames]"
   ]
  },
  {
   "cell_type": "code",
   "execution_count": 93,
   "id": "d2a474d5",
   "metadata": {},
   "outputs": [
    {
     "name": "stdout",
     "output_type": "stream",
     "text": [
      "Martin A posted:\n",
      "Tassos Papadopoulos, the Greek sculptor behind the plan, judged that the\n",
      " limestone of Mount Kerdylio, 70 miles east of Salonika and not far from the\n",
      " Mount Athos monastic community, was ideal for the patriotic sculpture. \n",
      " \n",
      " As well as Alexander's granite features, 240 ft high and 170 ft wide, a\n",
      " museum, a restored amphitheatre and car park for admiring crowds are\n",
      "planned\n",
      "---------------------\n",
      "So is this mountain limestone or granite?\n",
      "If it's limestone, it'll weather pretty fast.\n",
      "\n",
      "------------------------ Yahoo! Groups Sponsor ---------------------~-->\n",
      "4 DVDs Free +s&p Join Now\n",
      "http://us.click.yahoo.com/pt6YBB/NXiEAA/mG3HAA/7gSolB/TM\n",
      "---------------------------------------------------------------------~->\n",
      "\n",
      "To unsubscribe from this group, send an email to:\n",
      "forteana-unsubscribe@egroups.com\n",
      "\n",
      " \n",
      "\n",
      "Your use of Yahoo! Groups is subject to http://docs.yahoo.com/info/terms/\n"
     ]
    }
   ],
   "source": [
    "# 이메일 형식을 보기 위해서 아래 코드를 적었다.\n",
    "print(ham_emails[1].get_content().strip())"
   ]
  },
  {
   "cell_type": "code",
   "execution_count": 94,
   "id": "4ae9233f",
   "metadata": {},
   "outputs": [
    {
     "name": "stdout",
     "output_type": "stream",
     "text": [
      "Man Threatens Explosion In Moscow \n",
      "\n",
      "Thursday August 22, 2002 1:40 PM\n",
      "MOSCOW (AP) - Security officers on Thursday seized an unidentified man who\n",
      "said he was armed with explosives and threatened to blow up his truck in\n",
      "front of Russia's Federal Security Services headquarters in Moscow, NTV\n",
      "television reported.\n",
      "The officers seized an automatic rifle the man was carrying, then the man\n",
      "got out of the truck and was taken into custody, NTV said. No other details\n",
      "were immediately available.\n",
      "The man had demanded talks with high government officials, the Interfax and\n",
      "ITAR-Tass news agencies said. Ekho Moskvy radio reported that he wanted to\n",
      "talk with Russian President Vladimir Putin.\n",
      "Police and security forces rushed to the Security Service building, within\n",
      "blocks of the Kremlin, Red Square and the Bolshoi Ballet, and surrounded the\n",
      "man, who claimed to have one and a half tons of explosives, the news\n",
      "agencies said. Negotiations continued for about one and a half hours outside\n",
      "the building, ITAR-Tass and Interfax reported, citing witnesses.\n",
      "The man later drove away from the building, under police escort, and drove\n",
      "to a street near Moscow's Olympic Penta Hotel, where authorities held\n",
      "further negotiations with him, the Moscow police press service said. The\n",
      "move appeared to be an attempt by security services to get him to a more\n",
      "secure location. \n",
      "\n",
      "------------------------ Yahoo! Groups Sponsor ---------------------~-->\n",
      "4 DVDs Free +s&p Join Now\n",
      "http://us.click.yahoo.com/pt6YBB/NXiEAA/mG3HAA/7gSolB/TM\n",
      "---------------------------------------------------------------------~->\n",
      "\n",
      "To unsubscribe from this group, send an email to:\n",
      "forteana-unsubscribe@egroups.com\n",
      "\n",
      " \n",
      "\n",
      "Your use of Yahoo! Groups is subject to http://docs.yahoo.com/info/terms/\n"
     ]
    }
   ],
   "source": [
    "print(ham_emails[2].get_content().strip())"
   ]
  },
  {
   "cell_type": "code",
   "execution_count": 95,
   "id": "80983472",
   "metadata": {},
   "outputs": [
    {
     "name": "stdout",
     "output_type": "stream",
     "text": [
      "1) Fight The Risk of Cancer!\n",
      "http://www.adclick.ws/p.cfm?o=315&s=pk007\n",
      "\n",
      "2) Slim Down - Guaranteed to lose 10-12 lbs in 30 days\n",
      "http://www.adclick.ws/p.cfm?o=249&s=pk007\n",
      "\n",
      "3) Get the Child Support You Deserve - Free Legal Advice\n",
      "http://www.adclick.ws/p.cfm?o=245&s=pk002\n",
      "\n",
      "4) Join the Web's Fastest Growing Singles Community\n",
      "http://www.adclick.ws/p.cfm?o=259&s=pk007\n",
      "\n",
      "5) Start Your Private Photo Album Online!\n",
      "http://www.adclick.ws/p.cfm?o=283&s=pk007\n",
      "\n",
      "Have a Wonderful Day,\n",
      "Offer Manager\n",
      "PrizeMama\n",
      "\n",
      "\n",
      "\n",
      "\n",
      "\n",
      "\n",
      "\n",
      "\n",
      "\n",
      "\n",
      "\n",
      "\n",
      "\n",
      "If you wish to leave this list please use the link below.\n",
      "http://www.qves.com/trim/?ilug@linux.ie%7C17%7C114258\n",
      "\n",
      "\n",
      "-- \n",
      "Irish Linux Users' Group: ilug@linux.ie\n",
      "http://www.linux.ie/mailman/listinfo/ilug for (un)subscription information.\n",
      "List maintainer: listmaster@linux.ie\n"
     ]
    }
   ],
   "source": [
    "print(spam_emails[1].get_content().strip())"
   ]
  },
  {
   "cell_type": "code",
   "execution_count": 96,
   "id": "8b614a2b",
   "metadata": {},
   "outputs": [
    {
     "name": "stdout",
     "output_type": "stream",
     "text": [
      "<!DOCTYPE HTML PUBLIC \"-//W3C//DTD HTML 4.0 Transitional//EN\">\n",
      "<HTML><HEAD>\n",
      "<META content=\"text/html; charset=windows-1252\" http-equiv=Content-Type>\n",
      "<META content=\"MSHTML 5.00.2314.1000\" name=GENERATOR></HEAD>\n",
      "<BODY><!-- Inserted by Calypso -->\n",
      "<TABLE border=0 cellPadding=0 cellSpacing=2 id=_CalyPrintHeader_ rules=none \n",
      "style=\"COLOR: black; DISPLAY: none\" width=\"100%\">\n",
      "  <TBODY>\n",
      "  <TR>\n",
      "    <TD colSpan=3>\n",
      "      <HR color=black noShade SIZE=1>\n",
      "    </TD></TR></TD></TR>\n",
      "  <TR>\n",
      "    <TD colSpan=3>\n",
      "      <HR color=black noShade SIZE=1>\n",
      "    </TD></TR></TBODY></TABLE><!-- End Calypso --><!-- Inserted by Calypso --><FONT \n",
      "color=#000000 face=VERDANA,ARIAL,HELVETICA size=-2><BR></FONT></TD></TR></TABLE><!-- End Calypso --><FONT color=#ff0000 \n",
      "face=\"Copperplate Gothic Bold\" size=5 PTSIZE=\"10\">\n",
      "<CENTER>Save up to 70% on Life Insurance.</CENTER></FONT><FONT color=#ff0000 \n",
      "face=\"Copperplate Gothic Bold\" size=5 PTSIZE=\"10\">\n",
      "<CENTER>Why Spend More Than You Have To?\n",
      "<CENTER><FONT color=#ff0000 face=\"Copperplate Gothic Bold\" size=5 PTSIZE=\"10\">\n",
      "<CENTER>Life Quote Savings\n",
      "<CENTER>\n",
      "<P align=left></P>\n",
      "<P align=left></P></FONT></U></I></B><BR></FONT></U></B></U></I>\n",
      "<P></P>\n",
      "<CENTER>\n",
      "<TABLE border=0 borderColor=#111111 cellPadding=0 cellSpacing=0 width=650>\n",
      "  <TBODY></TBODY></TABLE>\n",
      "<TABLE border=0 borderColor=#111111 cellPadding=5 cellSpacing=0 width=650>\n",
      "  <TBODY>\n",
      "  <TR>\n",
      "    <TD colSpan=2 width=\"35%\"><B><FONT face=Verdana size=4>Ensuring your \n",
      "      family's financial security is very important. Life Quote Savings makes \n",
      "      buying life insurance simple and affordable. We Provide FREE Access to The \n",
      "      Very Best Companies and The Lowest Rates.</FONT></B></TD></TR>\n",
      "  <TR>\n",
      "    <TD align=middle vAlign=top width=\"18%\">\n",
      "      <TABLE borderColor=#111111 width=\"100%\">\n",
      "        <TBODY>\n",
      "        <TR>\n",
      "          <TD style=\"PADDING-LEFT: 5px; PADDING-RIGHT: 5px\" width=\"100%\"><FONT \n",
      "            face=Verdana size=4><B>Life Quote Savings</B> is FAST, EASY and \n",
      "            SAVES you money! Let us help you get started with the best values in \n",
      "            the country on new coverage. You can SAVE hundreds or even thousands \n",
      "            of dollars by requesting a FREE quote from Lifequote Savings. Our \n",
      "            service will take you less than 5 minutes to complete. Shop and \n",
      "            compare. SAVE up to 70% on all types of Life insurance! \n",
      "</FONT></TD></TR>\n",
      "        <TR><BR><BR>\n",
      "          <TD height=50 style=\"PADDING-LEFT: 5px; PADDING-RIGHT: 5px\" \n",
      "          width=\"100%\">\n",
      "            <P align=center><B><FONT face=Verdana size=5><A \n",
      "            href=\"http://website.e365.cc/savequote/\">Click Here For Your \n",
      "            Free Quote!</A></FONT></B></P></TD>\n",
      "          <P><FONT face=Verdana size=4><STRONG>\n",
      "          <CENTER>Protecting your family is the best investment you'll ever \n",
      "          make!<BR></B></TD></TR>\n",
      "        <TR><BR><BR></STRONG></FONT></TD></TR></TD></TR>\n",
      "        <TR></TR></TBODY></TABLE>\n",
      "      <P align=left><FONT face=\"Arial, Helvetica, sans-serif\" size=2></FONT></P>\n",
      "      <P></P>\n",
      "      <CENTER><BR><BR><BR>\n",
      "      <P></P>\n",
      "      <P align=left><BR></B><BR><BR><BR><BR></P>\n",
      "      <P align=center><BR></P>\n",
      "      <P align=left><BR></B><BR><BR></FONT>If you are in receipt of this email \n",
      "      in error and/or wish to be removed from our list, <A \n",
      "      href=\"mailto:coins@btamail.net.cn\">PLEASE CLICK HERE</A> AND TYPE REMOVE. If you \n",
      "      reside in any state which prohibits e-mail solicitations for insurance, \n",
      "      please disregard this \n",
      "      email.<BR></FONT><BR><BR><BR><BR><BR><BR><BR><BR><BR><BR><BR><BR><BR><BR><BR><BR></FONT></P></CENTER></CENTER></TR></TBODY></TABLE></CENTER></CENTER></CENTER></CENTER></CENTER></BODY></HTML>\n"
     ]
    }
   ],
   "source": [
    "print(spam_emails[0].get_content().strip())"
   ]
  },
  {
   "cell_type": "code",
   "execution_count": 105,
   "id": "234354c5",
   "metadata": {},
   "outputs": [
    {
     "data": {
      "text/plain": [
       "[('text/plain', 2408),\n",
       " ('multipart(text/plain, application/pgp-signature)', 66),\n",
       " ('multipart(text/plain, text/html)', 8),\n",
       " ('multipart(text/plain, text/plain)', 4),\n",
       " ('multipart(text/plain)', 3),\n",
       " ('multipart(text/plain, application/octet-stream)', 2),\n",
       " ('multipart(text/plain, text/enriched)', 1),\n",
       " ('multipart(text/plain, application/ms-tnef, text/plain)', 1),\n",
       " ('multipart(multipart(text/plain, text/plain, text/plain), application/pgp-signature)',\n",
       "  1),\n",
       " ('multipart(text/plain, video/mng)', 1),\n",
       " ('multipart(text/plain, multipart(text/plain))', 1),\n",
       " ('multipart(text/plain, application/x-pkcs7-signature)', 1),\n",
       " ('multipart(text/plain, multipart(text/plain, text/plain), text/rfc822-headers)',\n",
       "  1),\n",
       " ('multipart(text/plain, multipart(text/plain, text/plain), multipart(multipart(text/plain, application/x-pkcs7-signature)))',\n",
       "  1),\n",
       " ('multipart(text/plain, application/x-java-applet)', 1)]"
      ]
     },
     "execution_count": 105,
     "metadata": {},
     "output_type": "execute_result"
    }
   ],
   "source": [
    "# 이메일의 구조를 가져온다.\n",
    "def get_email_structure(email):\n",
    "    if isinstance(email, str):\n",
    "        return email\n",
    "    payload = email.get_payload()\n",
    "    if isinstance(payload, list):\n",
    "        return \"multipart({})\".format(\", \".join([\n",
    "            get_email_structure(sub_email)\n",
    "            for sub_email in payload\n",
    "        ]))\n",
    "    else:\n",
    "        return email.get_content_type()\n",
    "\n",
    "from collections import Counter\n",
    "\n",
    "# 이메일의 구조를 세주는 리스트를 반환한다.\n",
    "def structures_counter(emails):\n",
    "    structures = Counter()\n",
    "    for email in emails:\n",
    "        structure = get_email_structure(email)\n",
    "        structures[structure] += 1\n",
    "    return structures\n",
    "\n",
    "structures_counter(ham_emails).most_common()"
   ]
  },
  {
   "cell_type": "code",
   "execution_count": 102,
   "id": "945a8233",
   "metadata": {},
   "outputs": [
    {
     "data": {
      "text/plain": [
       "'text/plain'"
      ]
     },
     "execution_count": 102,
     "metadata": {},
     "output_type": "execute_result"
    }
   ],
   "source": [
    "email = ham_emails[1]\n",
    "if isinstance(email, str):\n",
    "    print(email)\n",
    "\n",
    "payload = email.get_payload()\n",
    "email.get_content_type()"
   ]
  },
  {
   "cell_type": "markdown",
   "id": "1382785a",
   "metadata": {},
   "source": [
    "https://github.com/rickiepark/handson-ml2/blob/master/03_classification.ipynb"
   ]
  },
  {
   "cell_type": "markdown",
   "id": "d74be7ca",
   "metadata": {},
   "source": [
    "이거는 하다가 너무넌무너무너무너무 어려워서 패스하겠습니다. 언젠가 해볼게유"
   ]
  },
  {
   "cell_type": "markdown",
   "id": "24846156",
   "metadata": {},
   "source": [
    "# [4장] 모델 훈련(회귀)"
   ]
  },
  {
   "cell_type": "markdown",
   "id": "1d5b64b1",
   "metadata": {},
   "source": [
    "# 정규 방정식\n",
    "\n",
    "경사하강법중 나는 규제 파트를 잘 이해하지 못했다. 선형대수에 대한 지식이 부족해서 이해하기 더 힘든 것도 있는 것 같다. \n",
    "\n",
    "규제 파트를 공부하려고 하는데, 규제 파트의 정규방정식을 잘 이해하지 못하겠어서 일반적인 선형회귀의 경사하강법부터 다시 봐봤다.\n",
    "> https://mazdah.tistory.com/831\n",
    "\n",
    "위 링크에 굉장히 내가 이해하기 쉽게 적혀있었다. \n",
    "\n",
    "# 릿지 라쏘 회귀\n",
    "릿지 라쏘회귀에 대해서 내가 이해하기 쉽게 쓰인 링크이다.\n",
    "https://huidea.tistory.com/154 "
   ]
  },
  {
   "cell_type": "markdown",
   "id": "3831f2d9",
   "metadata": {},
   "source": [
    "# 4장 퀴즈"
   ]
  },
  {
   "cell_type": "markdown",
   "id": "d054d2cc",
   "metadata": {},
   "source": [
    "# 연습문제 1"
   ]
  },
  {
   "cell_type": "markdown",
   "id": "50c9e6fb",
   "metadata": {},
   "source": [
    "수백만개의 피처를 가진 train set에서는 확률적 선형회귀 알고리즘을 사용할 수 있다."
   ]
  },
  {
   "cell_type": "markdown",
   "id": "c7e1e781",
   "metadata": {},
   "source": [
    "# 연습문제 2"
   ]
  },
  {
   "cell_type": "markdown",
   "id": "40e87203",
   "metadata": {},
   "source": [
    "훈련세트가 각기 다른 스케일을 가진 피처를 가지고 있다면, 스케일링을 해주어야한다. 왜냐면 숫자의 크기에 따라서 회귀계수에 영향을 주기 때문이다. 피처가 스케일되지 않을 때 잘 작동할 수 있는 알고리즘은 바로 해를 구할 수 있게 해주는 \"정규방정식\"이다. "
   ]
  },
  {
   "cell_type": "markdown",
   "id": "91d79319",
   "metadata": {},
   "source": [
    "# 연습문제 3\n",
    "로지스틱회귀의 비용함수는 아래로 볼록한 함수이기 때문에 지역 최솟값에 갇힐 수 없다."
   ]
  },
  {
   "cell_type": "markdown",
   "id": "81a89b78",
   "metadata": {},
   "source": [
    "# 연습문제 4\n",
    "충분히 오랫동안 학습시킨다고 해도 모두 같은 모델이 나오지는 않는다. \n",
    "\n",
    "왜냐하면 \n",
    "1. 학습률이 작을 경우 지역 최솟값에 갇힐 수 있기 때문에 같은 모델이 나올수 없다.\n",
    "2. 학습률이 크다면 전역 최솟값 주변에서 계속 맴돌기 때문에 같은 모델이 나올 수 없다.\n",
    "\n",
    "만약 비용함수가 하나의 최소값(극소점)을 가질 때 학습률이 1/INF 만큼 작으면 같은 모델이 나올 수 있지만 현실적으로 불가능 하기 때문에 같은 모델이 나오는 건 불가능 하다고 할 수 있다."
   ]
  },
  {
   "cell_type": "markdown",
   "id": "04c6a40e",
   "metadata": {},
   "source": [
    "# 연습문제 5"
   ]
  },
  {
   "cell_type": "markdown",
   "id": "0b2c6d00",
   "metadata": {},
   "source": [
    "배치 경사 하강법을 사용하는데 에포크마다 검증오차가 일정하게 상승된다는 것은, 모델이 과대적합되고 있다는 말이다. 에포크를 반복하면 손실은 꾸준히 적어지는데 검증오차가 증가한다는 것은 과대적합한다는 의미이다. \n",
    "\n",
    "이것을 해결하는 방법은\n",
    "- 검증 세트가 n에포크 동안 개선 되지 않는다면 조기종료를 한다.\n",
    "- 규제를 적용해서 과대적합을 방지 한다.\n",
    "\n",
    "가 있다.\n"
   ]
  },
  {
   "cell_type": "markdown",
   "id": "221dac9b",
   "metadata": {},
   "source": [
    "# 연습문제 6\n",
    "\n",
    "검증오차가 상승한다고 해서 미니배치 경사 하강법을 바로 중단시키면 안된다. 왜냐하면 어느정도의 확률성을 가진 경사하강이기 때문이다. \n",
    "계속 성능이 나아지지 않는다면 조기종료를 통해 최적의 모델을 얻는 방법이 좋다."
   ]
  },
  {
   "cell_type": "markdown",
   "id": "b3d702b9",
   "metadata": {},
   "source": [
    "# 연습문제 7\n",
    "SGD는 전역 최솟점에 가장 빠르게 근접한다.(이 다음순서는 미니배치 경사하강법이다.) 하지만 학습률을 줄이지 않는 다면 계속 최적점 주변에서 맴돌게 된다. "
   ]
  },
  {
   "cell_type": "markdown",
   "id": "b6d2c97f",
   "metadata": {},
   "source": [
    "# 연습문제 8\n",
    "다항회귀를 사용했을 때 훈련 오차와 검증 오차 사이의 간격이 크다면\n",
    "1. 다항회귀 차수를 줄인다. 왜냐하면 차수가 높아지면 더 과대적합되기 쉽기 때문이다. 이걸 \"자유도를 줄인다.\" 라고 한다.\n",
    "2. 규제를 사용한다. 이 방법도 모델의 자유도를 줄여준다.\n",
    "3. 훈련셋을 늘려서 과대적합을 줄일 수도 있다."
   ]
  },
  {
   "cell_type": "markdown",
   "id": "5e58a9dc",
   "metadata": {},
   "source": [
    "# 연습문제 9\n",
    "릿지 회귀(l2규제를 적용시킨 회귀)를 사용했을 때 훈련 오차와 검증오차가 거의 비슷하게 높다면 높은 편향이 문제이다. 모델이 underfitting이 되어 있는 상태 이다. 이럴때는 규제 하이퍼파라미터 alpha를 줄여야 한다.\n",
    "\n",
    "데이터가 n차 곡선 형태로 이루어져있을 때 릿지회귀를 사용한다면 이 때 또한 편향이 높아진다. 이럴 때는 다항회귀에 l2 패널티를 적용하면 된다."
   ]
  },
  {
   "cell_type": "markdown",
   "id": "7c17c760",
   "metadata": {},
   "source": [
    "# 연습문제 10\n",
    "다음과 같이 사용해야 하는 이유는?\n",
    "- Q. 평범한 선형회귀 대신 릿지 회귀 \n",
    "\n",
    "A. 모델이 과대적합될 경우 릿지회귀를 통해서 성능을 높혀야한다.\n",
    "\n",
    "- Q. 릿지 회귀 대신 라쏘 회귀\n",
    "\n",
    "A. 라쏘 모델은 중요한 피처를 제외하면 회귀 계수를 0으로 만들어버린다. <br>\n",
    "희소모델이 필요할 경우(계산이 더 빠름) 라쏘 모델을 사용해야 한다. 또한 몇 가지 특성만이 유효할 경우에 라쏘를 사용할 수 있다.\n",
    "\n",
    "- Q. 라쏘 회귀 대신 엘라스틱 넷\n",
    "A. 라쏘는 피처들간의 상관관계가 높거나 특성수가 샘플수보다 많다면 불규칙 하게 행동하므로 이럴 때에는 엘라스틱 넷 규제가 적절하다."
   ]
  },
  {
   "cell_type": "markdown",
   "id": "5c9f92d1",
   "metadata": {},
   "source": [
    "# 연습문제 11\n",
    "사진을 낮과 밤 실내와 실외로 분류하려면 두개의 로지스틱 분류기를 만드는게 적절하다."
   ]
  },
  {
   "cell_type": "markdown",
   "id": "733365f7",
   "metadata": {},
   "source": [
    "# 연습문제 12\n",
    "조기 종료를 사용한 배치 경사 하강법으로 소프트맥스 회귀를 구현해보세요."
   ]
  },
  {
   "cell_type": "code",
   "execution_count": 283,
   "id": "ea17bb9f",
   "metadata": {},
   "outputs": [
    {
     "data": {
      "text/plain": [
       "array([[1, 0, 0],\n",
       "       [1, 0, 0],\n",
       "       [1, 0, 0],\n",
       "       [1, 0, 0],\n",
       "       [1, 0, 0],\n",
       "       [1, 0, 0],\n",
       "       [1, 0, 0],\n",
       "       [1, 0, 0],\n",
       "       [1, 0, 0],\n",
       "       [1, 0, 0]])"
      ]
     },
     "execution_count": 283,
     "metadata": {},
     "output_type": "execute_result"
    }
   ],
   "source": [
    "from sklearn.datasets import load_iris\n",
    "import numpy as np\n",
    "import pandas as pd\n",
    "\n",
    "iris = load_iris()\n",
    "iris_data = iris.data\n",
    "\n",
    "iris_df = pd.DataFrame(iris_data)\n",
    "\n",
    "iris_df['target'] = iris.target\n",
    "\n",
    "def one_hot_y(targets):\n",
    "    oh_y = []\n",
    "    for target in targets:\n",
    "        l = [0,0,0]\n",
    "        l[target] = 1\n",
    "        oh_y.append(l)\n",
    "    return np.array(oh_y)\n",
    "\n",
    "\n",
    "# 소프트맥스 분류를 위해서 원핫인코딩을 했다.\n",
    "one_hot_y(iris_df['target'][:10])"
   ]
  },
  {
   "cell_type": "code",
   "execution_count": 259,
   "id": "10cd4d8c",
   "metadata": {},
   "outputs": [],
   "source": [
    "np.random.seed(2043)"
   ]
  },
  {
   "cell_type": "code",
   "execution_count": 260,
   "id": "927c4959",
   "metadata": {},
   "outputs": [],
   "source": [
    "test_ratio = 0.2\n",
    "valid_ratio = 0.2\n",
    "train_ratio = 0.6\n",
    "total_size = len(iris.data)\n",
    "\n",
    "test_size = int(total_size * test_ratio)\n",
    "valid_size = int(total_size * valid_ratio)\n",
    "train_size = total_size - test_size - valid_size\n",
    "\n",
    "X = iris.data\n",
    "y = iris.target\n",
    "\n",
    "X_with_bias = np.c_[np.ones([len(X), 1]), X]\n",
    "\n",
    "# total_size 사이의 정수를 담은 랜덤한 수열을 넘겨준다. \n",
    "rnd_indices = np.random.permutation(total_size)\n",
    "\n",
    "X_train = X_with_bias[rnd_indices[:train_size]]\n",
    "y_train = y[rnd_indices[:train_size]]\n",
    "X_valid = X_with_bias[rnd_indices[train_size:-test_size]]\n",
    "y_valid = y[rnd_indices[train_size:-test_size]]\n",
    "X_test = X_with_bias[rnd_indices[-test_size:]]\n",
    "y_test = y[rnd_indices[-test_size:]]"
   ]
  },
  {
   "cell_type": "code",
   "execution_count": 261,
   "id": "b6b326c7",
   "metadata": {},
   "outputs": [],
   "source": [
    "oh_y_train = one_hot_y(y_train)\n",
    "oh_y_valid = one_hot_y(y_valid)\n",
    "oh_y_test = one_hot_y(y_test)"
   ]
  },
  {
   "cell_type": "code",
   "execution_count": 262,
   "id": "2bbd66a3",
   "metadata": {},
   "outputs": [],
   "source": [
    "def softmax(logits):\n",
    "    exps = np.exp(logits)\n",
    "    exp_sums = np.sum(exps, axis=1, keepdims=True)\n",
    "    return exps / exp_sums"
   ]
  },
  {
   "cell_type": "code",
   "execution_count": 263,
   "id": "2647798c",
   "metadata": {},
   "outputs": [],
   "source": [
    "n_inputs = X_train.shape[1] # == 5 (특성 2개와 편향)\n",
    "n_outputs = len(np.unique(y_train))   # == 3 (3개의 붓꽃 클래스)"
   ]
  },
  {
   "cell_type": "code",
   "execution_count": 272,
   "id": "d16d55f6",
   "metadata": {},
   "outputs": [
    {
     "name": "stdout",
     "output_type": "stream",
     "text": [
      "0 7.98242189895113\n",
      "500 0.41531458322337417\n",
      "1000 0.3355093326754901\n",
      "1500 0.29185220243205984\n",
      "2000 0.2610904432596124\n",
      "2500 0.23789518290639874\n",
      "3000 0.21974373837635994\n",
      "3500 0.20515395297305\n",
      "4000 0.19317501264732645\n",
      "4500 0.1831655144392932\n",
      "5000 0.1746769239535428\n"
     ]
    }
   ],
   "source": [
    "eta = 0.01\n",
    "n_iterations = 5001\n",
    "m = len(X_train)\n",
    "epsilon = 1e-7\n",
    "\n",
    "Theta = np.random.randn(n_inputs, n_outputs)\n",
    "\n",
    "for iteration in range(n_iterations):\n",
    "    logits = X_train.dot(Theta)\n",
    "    y_proba = softmax(logits)\n",
    "    if iteration%500==0:\n",
    "        loss = -np.mean(np.sum(oh_y_train * np.log(y_proba + epsilon), axis=1))\n",
    "        print(iteration, loss)\n",
    "    error = y_proba - oh_y_train\n",
    "    gradients = 1/m * X_train.T.dot(error)\n",
    "    Theta = Theta - eta * gradients"
   ]
  },
  {
   "cell_type": "code",
   "execution_count": 273,
   "id": "aeacff21",
   "metadata": {},
   "outputs": [
    {
     "data": {
      "text/plain": [
       "array([[ 0.80944034, -0.27434801, -1.8905498 ],\n",
       "       [-0.1277419 ,  0.67917254, -0.81494124],\n",
       "       [ 2.46944775, -0.32386681, -1.67851305],\n",
       "       [-2.65031141, -0.81326725,  1.39019816],\n",
       "       [-1.68189698, -1.50265757,  0.88020178]])"
      ]
     },
     "execution_count": 273,
     "metadata": {},
     "output_type": "execute_result"
    }
   ],
   "source": [
    "Theta"
   ]
  },
  {
   "cell_type": "code",
   "execution_count": 274,
   "id": "f9988dc9",
   "metadata": {},
   "outputs": [
    {
     "data": {
      "text/plain": [
       "1.0"
      ]
     },
     "execution_count": 274,
     "metadata": {},
     "output_type": "execute_result"
    }
   ],
   "source": [
    "logits = X_valid.dot(Theta)\n",
    "Y_proba = softmax(logits)\n",
    "y_predict = np.argmax(Y_proba, axis=1)\n",
    "\n",
    "accuracy_score = np.mean(y_predict == y_valid)\n",
    "accuracy_score"
   ]
  },
  {
   "cell_type": "code",
   "execution_count": 275,
   "id": "ba6b2e01",
   "metadata": {},
   "outputs": [
    {
     "name": "stdout",
     "output_type": "stream",
     "text": [
      "0 6.588101354138621\n",
      "500 0.5921841242459784\n",
      "1000 0.5651538418011356\n",
      "1500 0.5429000882915009\n",
      "2000 0.5248150804495664\n",
      "2500 0.5102725947064851\n",
      "3000 0.49868795878215244\n",
      "3500 0.4895828610804521\n",
      "4000 0.48283739461839553\n",
      "4500 0.4796691033435\n",
      "5000 0.47870270082527955\n"
     ]
    }
   ],
   "source": [
    "eta = 0.1\n",
    "n_iterations = 5001\n",
    "m = len(X_train)\n",
    "epsilon = 1e-6\n",
    "alpha = 0.1  # 규제 하이퍼파라미터\n",
    "\n",
    "Theta = np.random.randn(n_inputs, n_outputs)\n",
    "\n",
    "for iteration in range(n_iterations):\n",
    "    logits = X_train.dot(Theta)\n",
    "    Y_proba = softmax(logits)\n",
    "    if iteration % 500 == 0:\n",
    "        xentropy_loss = -np.mean(np.sum(oh_y_train * np.log(Y_proba + epsilon), axis=1))\n",
    "        # 원래 편향은 규제되지 않는다.\n",
    "        l2_loss = 1/2 * np.sum(np.square(Theta[1:]))\n",
    "        loss = xentropy_loss + alpha * l2_loss\n",
    "        print(iteration, loss)\n",
    "    error = Y_proba - oh_y_train\n",
    "    gradients = 1/m * X_train.T.dot(error) + np.r_[np.zeros([1, n_outputs]), alpha * Theta[1:]]\n",
    "    Theta = Theta - eta * gradients"
   ]
  },
  {
   "cell_type": "code",
   "execution_count": 276,
   "id": "2b6264a9",
   "metadata": {},
   "outputs": [
    {
     "data": {
      "text/plain": [
       "0.9666666666666667"
      ]
     },
     "execution_count": 276,
     "metadata": {},
     "output_type": "execute_result"
    }
   ],
   "source": [
    "logits = X_valid.dot(Theta)\n",
    "Y_proba = softmax(logits)\n",
    "y_predict = np.argmax(Y_proba, axis=1)\n",
    "\n",
    "accuracy_score = np.mean(y_predict == y_valid)\n",
    "accuracy_score"
   ]
  },
  {
   "cell_type": "code",
   "execution_count": 281,
   "id": "558c907e",
   "metadata": {},
   "outputs": [
    {
     "name": "stdout",
     "output_type": "stream",
     "text": [
      "0 2.2565310833657026\n",
      "3 1.2548565575941129\n",
      "4 1.3008393736576236 조기 종료!\n"
     ]
    }
   ],
   "source": [
    "eta = 0.1 \n",
    "n_iterations = 5001\n",
    "m = len(X_train)\n",
    "epsilon = 1e-7\n",
    "alpha = 0.1  # 규제 하이퍼파라미터\n",
    "best_loss = np.infty\n",
    "\n",
    "Theta = np.random.randn(n_inputs, n_outputs)\n",
    "\n",
    "for iteration in range(n_iterations):\n",
    "    logits = X_train.dot(Theta)\n",
    "    Y_proba = softmax(logits)\n",
    "    error = Y_proba - oh_y_train\n",
    "    gradients = 1/m * X_train.T.dot(error) + np.r_[np.zeros([1, n_outputs]), alpha * Theta[1:]]\n",
    "    Theta = Theta - eta * gradients\n",
    "\n",
    "    logits = X_valid.dot(Theta)\n",
    "    Y_proba = softmax(logits)\n",
    "    xentropy_loss = -np.mean(np.sum(oh_y_valid * np.log(Y_proba + epsilon), axis=1))\n",
    "    l2_loss = 1/2 * np.sum(np.square(Theta[1:]))\n",
    "    loss = xentropy_loss + alpha * l2_loss\n",
    "    if iteration % 500 == 0:\n",
    "        print(iteration, loss)\n",
    "    if loss < best_loss:\n",
    "        best_loss = loss\n",
    "    else:\n",
    "        print(iteration - 1, best_loss)\n",
    "        print(iteration, loss, \"조기 종료!\")\n",
    "        break"
   ]
  },
  {
   "cell_type": "code",
   "execution_count": 282,
   "id": "0f43d2b7",
   "metadata": {},
   "outputs": [
    {
     "data": {
      "text/plain": [
       "0.43333333333333335"
      ]
     },
     "execution_count": 282,
     "metadata": {},
     "output_type": "execute_result"
    }
   ],
   "source": [
    "logits = X_valid.dot(Theta)\n",
    "Y_proba = softmax(logits)\n",
    "y_predict = np.argmax(Y_proba, axis=1)\n",
    "\n",
    "accuracy_score = np.mean(y_predict == y_valid)\n",
    "accuracy_score"
   ]
  },
  {
   "cell_type": "markdown",
   "id": "f2347365",
   "metadata": {},
   "source": [
    "위 코드에서 성능이 좋지 않았는데, 답지 코드는 피처 두개만 골라서 학습시킨데 반해 나는 피처를 다 선택해서 조기종료가 잘 작동하지 않았던것 같다.(피처가 두개면 계속해서 수렴하나보다.) 그렇기 때문에 patience 동안 로스가 나아지지 않을 때 조기종료가 되는 코드를 짜보겠다."
   ]
  },
  {
   "cell_type": "code",
   "execution_count": 292,
   "id": "b82e93c8",
   "metadata": {},
   "outputs": [
    {
     "name": "stdout",
     "output_type": "stream",
     "text": [
      "0 2.4313853899041207\n",
      "500 0.7184607641707704\n",
      "1000 0.6800477123911808\n",
      "1500 0.6460412517278157\n",
      "2000 0.6159959838755347\n",
      "2500 0.5895362377762067\n",
      "3000 0.566155229238861\n",
      "3500 0.545152308784036\n",
      "3688 0.48963598448056755\n",
      "3689 0.48963918835025694 조기 종료!\n"
     ]
    }
   ],
   "source": [
    "from collections import deque\n",
    "\n",
    "def early_stopping(queue, patience):\n",
    "    if loss < best_loss:\n",
    "        best_loss = loss\n",
    "    \n",
    "    if len(queue) > patience:\n",
    "        queue.leftpop()\n",
    "    \n",
    "    if isinstance(best_loss, queue):\n",
    "        print(iteration - 1, best_loss)\n",
    "        print(iteration, loss, \"조기 종료!\")\n",
    "        \n",
    "    \n",
    "\n",
    "eta = 0.1 \n",
    "n_iterations = 5001\n",
    "m = len(X_train)\n",
    "epsilon = 1e-7\n",
    "alpha = 0.1  # 규제 하이퍼파라미터\n",
    "best_loss = np.infty\n",
    "queue = deque()\n",
    "patience = 20\n",
    "\n",
    "Theta = np.random.randn(n_inputs, n_outputs)\n",
    "\n",
    "for iteration in range(n_iterations):\n",
    "    logits = X_train.dot(Theta)\n",
    "    Y_proba = softmax(logits)\n",
    "    error = Y_proba - oh_y_train\n",
    "    gradients = 1/m * X_train.T.dot(error) + np.r_[np.zeros([1, n_outputs]), alpha * Theta[1:]]\n",
    "    Theta = Theta - eta * gradients\n",
    "\n",
    "    logits = X_valid.dot(Theta)\n",
    "    Y_proba = softmax(logits)\n",
    "    xentropy_loss = -np.mean(np.sum(oh_y_valid * np.log(Y_proba + epsilon), axis=1))\n",
    "    l2_loss = 1/2 * np.sum(np.square(Theta[1:]))\n",
    "    loss = xentropy_loss + alpha * l2_loss\n",
    "    queue.append(loss)\n",
    "    \n",
    "    if iteration % 500 == 0:\n",
    "        print(iteration, loss)\n",
    "    \n",
    "    if loss < best_loss:\n",
    "        best_loss = loss\n",
    "    \n",
    "    if len(queue) > patience:\n",
    "        queue.popleft()\n",
    "    \n",
    "    if best_loss not in queue:\n",
    "        print(iteration - 1, best_loss)\n",
    "        print(iteration, loss, \"조기 종료!\")\n",
    "        break"
   ]
  },
  {
   "cell_type": "code",
   "execution_count": 295,
   "id": "a18e4401",
   "metadata": {},
   "outputs": [
    {
     "data": {
      "text/plain": [
       "1.0"
      ]
     },
     "execution_count": 295,
     "metadata": {},
     "output_type": "execute_result"
    }
   ],
   "source": [
    "logits = X_valid.dot(Theta)\n",
    "Y_proba = softmax(logits)\n",
    "y_predict = np.argmax(Y_proba, axis=1)\n",
    "\n",
    "accuracy_score = np.mean(y_predict == y_valid)\n",
    "accuracy_score"
   ]
  },
  {
   "cell_type": "markdown",
   "id": "a009b471",
   "metadata": {},
   "source": [
    "와우! 성공적으로 구현했다."
   ]
  },
  {
   "cell_type": "markdown",
   "id": "94ab3c5a",
   "metadata": {},
   "source": [
    "마지막에 원래 시각화 코드가 있는데, 내가 피처를 4개를 선택해서 시각화는 어렵게됐다. "
   ]
  },
  {
   "cell_type": "code",
   "execution_count": null,
   "id": "ea63d6a2",
   "metadata": {},
   "outputs": [],
   "source": []
  }
 ],
 "metadata": {
  "kernelspec": {
   "display_name": "Python 3 (ipykernel)",
   "language": "python",
   "name": "python3"
  },
  "language_info": {
   "codemirror_mode": {
    "name": "ipython",
    "version": 3
   },
   "file_extension": ".py",
   "mimetype": "text/x-python",
   "name": "python",
   "nbconvert_exporter": "python",
   "pygments_lexer": "ipython3",
   "version": "3.9.7"
  }
 },
 "nbformat": 4,
 "nbformat_minor": 5
}
