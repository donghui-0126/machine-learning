{
 "cells": [
  {
   "cell_type": "markdown",
   "id": "2d0b54c5",
   "metadata": {},
   "source": [
    "# 정규화(Regularization)"
   ]
  },
  {
   "cell_type": "markdown",
   "id": "bfc8a151",
   "metadata": {},
   "source": [
    "모델이 너무 간단해서 복잡한 곡선 관계를 학습할 수 없는 경우 => 편향(Bais)이 높다.<br>\n",
    "분산은 다양한 테스트 데이터가 주어졌을 때 모델의 성능이 얼마나 일관적인지 나타냄.<br>\n",
    "ex) 과적합(overfitting)"
   ]
  },
  {
   "cell_type": "markdown",
   "id": "54b61713",
   "metadata": {},
   "source": [
    "편향이 높고 분산이 낮음 => 과소적합(underfit)<br>\n",
    "편향이 낮고 분산이 높음 => 과적합(overfit)\n",
    "\n",
    "\n",
    "적절한 편향과 분산: 편향-분산 트레이드 오프(Bias-Variance Tradeoff)"
   ]
  },
  {
   "cell_type": "code",
   "execution_count": 2,
   "id": "5d2130bd",
   "metadata": {},
   "outputs": [],
   "source": [
    "from sklearn.linear_model import LinearRegression\n",
    "from sklearn.model_selection import train_test_split\n",
    "from sklearn.metrics import mean_squared_error\n",
    "from sklearn.preprocessing import PolynomialFeatures\n",
    "\n",
    "from math import sqrt\n",
    "\n",
    "import numpy as np\n",
    "import pandas as pd"
   ]
  },
  {
   "cell_type": "code",
   "execution_count": 5,
   "id": "d56d9471",
   "metadata": {},
   "outputs": [
    {
     "data": {
      "text/html": [
       "<div>\n",
       "<style scoped>\n",
       "    .dataframe tbody tr th:only-of-type {\n",
       "        vertical-align: middle;\n",
       "    }\n",
       "\n",
       "    .dataframe tbody tr th {\n",
       "        vertical-align: top;\n",
       "    }\n",
       "\n",
       "    .dataframe thead th {\n",
       "        text-align: right;\n",
       "    }\n",
       "</style>\n",
       "<table border=\"1\" class=\"dataframe\">\n",
       "  <thead>\n",
       "    <tr style=\"text-align: right;\">\n",
       "      <th></th>\n",
       "      <th>Serial No.</th>\n",
       "      <th>GRE Score</th>\n",
       "      <th>TOEFL Score</th>\n",
       "      <th>University Rating</th>\n",
       "      <th>SOP</th>\n",
       "      <th>LOR</th>\n",
       "      <th>CGPA</th>\n",
       "      <th>Research</th>\n",
       "      <th>Chance of Admit</th>\n",
       "    </tr>\n",
       "  </thead>\n",
       "  <tbody>\n",
       "    <tr>\n",
       "      <th>0</th>\n",
       "      <td>1</td>\n",
       "      <td>337</td>\n",
       "      <td>118</td>\n",
       "      <td>4</td>\n",
       "      <td>4.5</td>\n",
       "      <td>4.5</td>\n",
       "      <td>9.65</td>\n",
       "      <td>1</td>\n",
       "      <td>0.92</td>\n",
       "    </tr>\n",
       "    <tr>\n",
       "      <th>1</th>\n",
       "      <td>2</td>\n",
       "      <td>324</td>\n",
       "      <td>107</td>\n",
       "      <td>4</td>\n",
       "      <td>4.0</td>\n",
       "      <td>4.5</td>\n",
       "      <td>8.87</td>\n",
       "      <td>1</td>\n",
       "      <td>0.76</td>\n",
       "    </tr>\n",
       "    <tr>\n",
       "      <th>2</th>\n",
       "      <td>3</td>\n",
       "      <td>316</td>\n",
       "      <td>104</td>\n",
       "      <td>3</td>\n",
       "      <td>3.0</td>\n",
       "      <td>3.5</td>\n",
       "      <td>8.00</td>\n",
       "      <td>1</td>\n",
       "      <td>0.72</td>\n",
       "    </tr>\n",
       "    <tr>\n",
       "      <th>3</th>\n",
       "      <td>4</td>\n",
       "      <td>322</td>\n",
       "      <td>110</td>\n",
       "      <td>3</td>\n",
       "      <td>3.5</td>\n",
       "      <td>2.5</td>\n",
       "      <td>8.67</td>\n",
       "      <td>1</td>\n",
       "      <td>0.80</td>\n",
       "    </tr>\n",
       "    <tr>\n",
       "      <th>4</th>\n",
       "      <td>5</td>\n",
       "      <td>314</td>\n",
       "      <td>103</td>\n",
       "      <td>2</td>\n",
       "      <td>2.0</td>\n",
       "      <td>3.0</td>\n",
       "      <td>8.21</td>\n",
       "      <td>0</td>\n",
       "      <td>0.65</td>\n",
       "    </tr>\n",
       "  </tbody>\n",
       "</table>\n",
       "</div>"
      ],
      "text/plain": [
       "   Serial No.  GRE Score  TOEFL Score  University Rating  SOP  LOR   CGPA  \\\n",
       "0           1        337          118                  4  4.5   4.5  9.65   \n",
       "1           2        324          107                  4  4.0   4.5  8.87   \n",
       "2           3        316          104                  3  3.0   3.5  8.00   \n",
       "3           4        322          110                  3  3.5   2.5  8.67   \n",
       "4           5        314          103                  2  2.0   3.0  8.21   \n",
       "\n",
       "   Research  Chance of Admit   \n",
       "0         1              0.92  \n",
       "1         1              0.76  \n",
       "2         1              0.72  \n",
       "3         1              0.80  \n",
       "4         0              0.65  "
      ]
     },
     "execution_count": 5,
     "metadata": {},
     "output_type": "execute_result"
    }
   ],
   "source": [
    "FILE_PATH = 'datasets/admission_data.csv'\n",
    "admission_data_df = pd.read_csv(FILE_PATH)\n",
    "admission_data_df.head()"
   ]
  },
  {
   "cell_type": "code",
   "execution_count": 29,
   "id": "952aba90",
   "metadata": {},
   "outputs": [
    {
     "data": {
      "text/html": [
       "<div>\n",
       "<style scoped>\n",
       "    .dataframe tbody tr th:only-of-type {\n",
       "        vertical-align: middle;\n",
       "    }\n",
       "\n",
       "    .dataframe tbody tr th {\n",
       "        vertical-align: top;\n",
       "    }\n",
       "\n",
       "    .dataframe thead th {\n",
       "        text-align: right;\n",
       "    }\n",
       "</style>\n",
       "<table border=\"1\" class=\"dataframe\">\n",
       "  <thead>\n",
       "    <tr style=\"text-align: right;\">\n",
       "      <th></th>\n",
       "      <th>1</th>\n",
       "      <th>Serial No.</th>\n",
       "      <th>GRE Score</th>\n",
       "      <th>TOEFL Score</th>\n",
       "      <th>University Rating</th>\n",
       "      <th>SOP</th>\n",
       "      <th>LOR</th>\n",
       "      <th>CGPA</th>\n",
       "      <th>Research</th>\n",
       "      <th>Serial No.^2</th>\n",
       "      <th>...</th>\n",
       "      <th>LOR  CGPA^2 Research^3</th>\n",
       "      <th>LOR  CGPA Research^4</th>\n",
       "      <th>LOR  Research^5</th>\n",
       "      <th>CGPA^6</th>\n",
       "      <th>CGPA^5 Research</th>\n",
       "      <th>CGPA^4 Research^2</th>\n",
       "      <th>CGPA^3 Research^3</th>\n",
       "      <th>CGPA^2 Research^4</th>\n",
       "      <th>CGPA Research^5</th>\n",
       "      <th>Research^6</th>\n",
       "    </tr>\n",
       "  </thead>\n",
       "  <tbody>\n",
       "    <tr>\n",
       "      <th>0</th>\n",
       "      <td>1.0</td>\n",
       "      <td>1.0</td>\n",
       "      <td>337.0</td>\n",
       "      <td>118.0</td>\n",
       "      <td>4.0</td>\n",
       "      <td>4.5</td>\n",
       "      <td>4.5</td>\n",
       "      <td>9.65</td>\n",
       "      <td>1.0</td>\n",
       "      <td>1.0</td>\n",
       "      <td>...</td>\n",
       "      <td>419.05125</td>\n",
       "      <td>43.425</td>\n",
       "      <td>4.5</td>\n",
       "      <td>807539.696082</td>\n",
       "      <td>83682.870060</td>\n",
       "      <td>8671.800006</td>\n",
       "      <td>898.632125</td>\n",
       "      <td>93.1225</td>\n",
       "      <td>9.65</td>\n",
       "      <td>1.0</td>\n",
       "    </tr>\n",
       "    <tr>\n",
       "      <th>1</th>\n",
       "      <td>1.0</td>\n",
       "      <td>2.0</td>\n",
       "      <td>324.0</td>\n",
       "      <td>107.0</td>\n",
       "      <td>4.0</td>\n",
       "      <td>4.0</td>\n",
       "      <td>4.5</td>\n",
       "      <td>8.87</td>\n",
       "      <td>1.0</td>\n",
       "      <td>4.0</td>\n",
       "      <td>...</td>\n",
       "      <td>354.04605</td>\n",
       "      <td>39.915</td>\n",
       "      <td>4.5</td>\n",
       "      <td>487014.306256</td>\n",
       "      <td>54905.784245</td>\n",
       "      <td>6190.054594</td>\n",
       "      <td>697.864103</td>\n",
       "      <td>78.6769</td>\n",
       "      <td>8.87</td>\n",
       "      <td>1.0</td>\n",
       "    </tr>\n",
       "    <tr>\n",
       "      <th>2</th>\n",
       "      <td>1.0</td>\n",
       "      <td>3.0</td>\n",
       "      <td>316.0</td>\n",
       "      <td>104.0</td>\n",
       "      <td>3.0</td>\n",
       "      <td>3.0</td>\n",
       "      <td>3.5</td>\n",
       "      <td>8.00</td>\n",
       "      <td>1.0</td>\n",
       "      <td>9.0</td>\n",
       "      <td>...</td>\n",
       "      <td>224.00000</td>\n",
       "      <td>28.000</td>\n",
       "      <td>3.5</td>\n",
       "      <td>262144.000000</td>\n",
       "      <td>32768.000000</td>\n",
       "      <td>4096.000000</td>\n",
       "      <td>512.000000</td>\n",
       "      <td>64.0000</td>\n",
       "      <td>8.00</td>\n",
       "      <td>1.0</td>\n",
       "    </tr>\n",
       "    <tr>\n",
       "      <th>3</th>\n",
       "      <td>1.0</td>\n",
       "      <td>4.0</td>\n",
       "      <td>322.0</td>\n",
       "      <td>110.0</td>\n",
       "      <td>3.0</td>\n",
       "      <td>3.5</td>\n",
       "      <td>2.5</td>\n",
       "      <td>8.67</td>\n",
       "      <td>1.0</td>\n",
       "      <td>16.0</td>\n",
       "      <td>...</td>\n",
       "      <td>187.92225</td>\n",
       "      <td>21.675</td>\n",
       "      <td>2.5</td>\n",
       "      <td>424731.610940</td>\n",
       "      <td>48988.651781</td>\n",
       "      <td>5650.363527</td>\n",
       "      <td>651.714363</td>\n",
       "      <td>75.1689</td>\n",
       "      <td>8.67</td>\n",
       "      <td>1.0</td>\n",
       "    </tr>\n",
       "    <tr>\n",
       "      <th>4</th>\n",
       "      <td>1.0</td>\n",
       "      <td>5.0</td>\n",
       "      <td>314.0</td>\n",
       "      <td>103.0</td>\n",
       "      <td>2.0</td>\n",
       "      <td>2.0</td>\n",
       "      <td>3.0</td>\n",
       "      <td>8.21</td>\n",
       "      <td>0.0</td>\n",
       "      <td>25.0</td>\n",
       "      <td>...</td>\n",
       "      <td>0.00000</td>\n",
       "      <td>0.000</td>\n",
       "      <td>0.0</td>\n",
       "      <td>306237.903347</td>\n",
       "      <td>0.000000</td>\n",
       "      <td>0.000000</td>\n",
       "      <td>0.000000</td>\n",
       "      <td>0.0000</td>\n",
       "      <td>0.00</td>\n",
       "      <td>0.0</td>\n",
       "    </tr>\n",
       "  </tbody>\n",
       "</table>\n",
       "<p>5 rows × 3003 columns</p>\n",
       "</div>"
      ],
      "text/plain": [
       "     1  Serial No.  GRE Score  TOEFL Score  University Rating  SOP  LOR   \\\n",
       "0  1.0         1.0      337.0        118.0                4.0  4.5   4.5   \n",
       "1  1.0         2.0      324.0        107.0                4.0  4.0   4.5   \n",
       "2  1.0         3.0      316.0        104.0                3.0  3.0   3.5   \n",
       "3  1.0         4.0      322.0        110.0                3.0  3.5   2.5   \n",
       "4  1.0         5.0      314.0        103.0                2.0  2.0   3.0   \n",
       "\n",
       "   CGPA  Research  Serial No.^2  ...  LOR  CGPA^2 Research^3  \\\n",
       "0  9.65       1.0           1.0  ...               419.05125   \n",
       "1  8.87       1.0           4.0  ...               354.04605   \n",
       "2  8.00       1.0           9.0  ...               224.00000   \n",
       "3  8.67       1.0          16.0  ...               187.92225   \n",
       "4  8.21       0.0          25.0  ...                 0.00000   \n",
       "\n",
       "   LOR  CGPA Research^4  LOR  Research^5         CGPA^6  CGPA^5 Research  \\\n",
       "0                43.425              4.5  807539.696082     83682.870060   \n",
       "1                39.915              4.5  487014.306256     54905.784245   \n",
       "2                28.000              3.5  262144.000000     32768.000000   \n",
       "3                21.675              2.5  424731.610940     48988.651781   \n",
       "4                 0.000              0.0  306237.903347         0.000000   \n",
       "\n",
       "   CGPA^4 Research^2  CGPA^3 Research^3  CGPA^2 Research^4  CGPA Research^5  \\\n",
       "0        8671.800006         898.632125            93.1225             9.65   \n",
       "1        6190.054594         697.864103            78.6769             8.87   \n",
       "2        4096.000000         512.000000            64.0000             8.00   \n",
       "3        5650.363527         651.714363            75.1689             8.67   \n",
       "4           0.000000           0.000000             0.0000             0.00   \n",
       "\n",
       "   Research^6  \n",
       "0         1.0  \n",
       "1         1.0  \n",
       "2         1.0  \n",
       "3         1.0  \n",
       "4         0.0  \n",
       "\n",
       "[5 rows x 3003 columns]"
      ]
     },
     "execution_count": 29,
     "metadata": {},
     "output_type": "execute_result"
    }
   ],
   "source": [
    "X = admission_data_df.drop(['Chance of Admit '], axis=1)\n",
    "\n",
    "#육차식 변환기\n",
    "polynomial_transformer = PolynomialFeatures(6)\n",
    "#feature를 값 변환\n",
    "polynomial_features = polynomial_transformer.fit_transform(X.values)\n",
    "#feature name를 반환\n",
    "features = polynomial_transformer.get_feature_names(X.columns)\n",
    "\n",
    "X = pd.DataFrame(polynomial_features, columns = features)\n",
    "X.head()"
   ]
  },
  {
   "cell_type": "code",
   "execution_count": 30,
   "id": "5aba464f",
   "metadata": {},
   "outputs": [
    {
     "data": {
      "text/html": [
       "<div>\n",
       "<style scoped>\n",
       "    .dataframe tbody tr th:only-of-type {\n",
       "        vertical-align: middle;\n",
       "    }\n",
       "\n",
       "    .dataframe tbody tr th {\n",
       "        vertical-align: top;\n",
       "    }\n",
       "\n",
       "    .dataframe thead th {\n",
       "        text-align: right;\n",
       "    }\n",
       "</style>\n",
       "<table border=\"1\" class=\"dataframe\">\n",
       "  <thead>\n",
       "    <tr style=\"text-align: right;\">\n",
       "      <th></th>\n",
       "      <th>Chance of Admit</th>\n",
       "    </tr>\n",
       "  </thead>\n",
       "  <tbody>\n",
       "    <tr>\n",
       "      <th>0</th>\n",
       "      <td>0.92</td>\n",
       "    </tr>\n",
       "    <tr>\n",
       "      <th>1</th>\n",
       "      <td>0.76</td>\n",
       "    </tr>\n",
       "    <tr>\n",
       "      <th>2</th>\n",
       "      <td>0.72</td>\n",
       "    </tr>\n",
       "    <tr>\n",
       "      <th>3</th>\n",
       "      <td>0.80</td>\n",
       "    </tr>\n",
       "    <tr>\n",
       "      <th>4</th>\n",
       "      <td>0.65</td>\n",
       "    </tr>\n",
       "  </tbody>\n",
       "</table>\n",
       "</div>"
      ],
      "text/plain": [
       "   Chance of Admit \n",
       "0              0.92\n",
       "1              0.76\n",
       "2              0.72\n",
       "3              0.80\n",
       "4              0.65"
      ]
     },
     "execution_count": 30,
     "metadata": {},
     "output_type": "execute_result"
    }
   ],
   "source": [
    "y = admission_data_df[['Chance of Admit ']]\n",
    "y.head()"
   ]
  },
  {
   "cell_type": "code",
   "execution_count": 31,
   "id": "caca7d1c",
   "metadata": {},
   "outputs": [],
   "source": [
    "X_train, X_test, y_train, y_test = train_test_split(X, y, test_size=0.3, random_state=5)"
   ]
  },
  {
   "cell_type": "code",
   "execution_count": 39,
   "id": "11829a01",
   "metadata": {},
   "outputs": [
    {
     "data": {
      "text/plain": [
       "LinearRegression()"
      ]
     },
     "execution_count": 39,
     "metadata": {},
     "output_type": "execute_result"
    }
   ],
   "source": [
    "model = LinearRegression()\n",
    "model.fit(X_train, y_train)"
   ]
  },
  {
   "cell_type": "code",
   "execution_count": 40,
   "id": "0e67eb9e",
   "metadata": {},
   "outputs": [
    {
     "name": "stdout",
     "output_type": "stream",
     "text": [
      "train set에서의 성능:\n",
      "8.280430222470489e-10\n",
      "test set에서의 성능:\n",
      "0.9952571528076237\n"
     ]
    }
   ],
   "source": [
    "y_train_predict = model.predict(X_train)\n",
    "mse = sqrt(mean_squared_error(y_train_predict, y_train))\n",
    "\n",
    "print(\"train set에서의 성능:\")\n",
    "print(mse)\n",
    "\n",
    "y_test_predict = model.predict(X_test)\n",
    "mse = sqrt(mean_squared_error(y_test_predict, y_test))\n",
    "\n",
    "print(\"test set에서의 성능:\")\n",
    "print(mse)"
   ]
  },
  {
   "cell_type": "markdown",
   "id": "bbdeaa77",
   "metadata": {},
   "source": [
    "### 위 모델은 과적합(overfit)됨"
   ]
  },
  {
   "cell_type": "markdown",
   "id": "7f040fba",
   "metadata": {},
   "source": [
    "# 정규화(Regularization)"
   ]
  },
  {
   "attachments": {
    "image-2.png": {
     "image/png": "[encoded data removed]"
    },
    "image.png": {
     "image/png": "[encoded data removed]"
    }
   },
   "cell_type": "markdown",
   "id": "8e4fe84d",
   "metadata": {},
   "source": [
    "![image.png](attachment:image.png)\n",
    "#### theta값이 크기 때문에 급격하게 변함.\n",
    "![image-2.png](attachment:image-2.png)\n",
    "#### theta 값들을 줄여서 완만하게 변함."
   ]
  },
  {
   "attachments": {
    "image.png": {
     "image/png": "[encoded data removed]"
    }
   },
   "cell_type": "markdown",
   "id": "cda95696",
   "metadata": {},
   "source": [
    "# L1 정규화, Lasso Regression, Lasso 모델\n",
    "![image.png](attachment:image.png)"
   ]
  },
  {
   "attachments": {
    "image.png": {
     "image/png": "[encoded data removed]"
    }
   },
   "cell_type": "markdown",
   "id": "dc904a5e",
   "metadata": {},
   "source": [
    "# L2 정규화, Ridge Regression, Ridge 모델\n",
    "![image.png](attachment:image.png)"
   ]
  },
  {
   "cell_type": "code",
   "execution_count": 52,
   "id": "51f65763",
   "metadata": {},
   "outputs": [],
   "source": [
    "from sklearn.linear_model import Lasso\n",
    "from sklearn.linear_model import Ridge\n",
    "\n",
    "from sklearn.model_selection import train_test_split\n",
    "from sklearn.metrics import mean_squared_error\n",
    "from sklearn.preprocessing import PolynomialFeatures\n",
    "\n",
    "from math import sqrt\n",
    "\n",
    "import numpy as np\n",
    "import pandas as pd"
   ]
  },
  {
   "cell_type": "code",
   "execution_count": 51,
   "id": "64376814",
   "metadata": {},
   "outputs": [
    {
     "name": "stdout",
     "output_type": "stream",
     "text": [
      "Lasso train set에서의 성능:\n",
      "0.06336620966147144\n",
      "Lasso test set에서의 성능:\n",
      "0.06007719092689258\n"
     ]
    }
   ],
   "source": [
    "FILE_PATH = 'datasets/admission_data.csv'\n",
    "admission_df = pd.read_csv(FILE_PATH).drop('Serial No.', axis=1)\n",
    "\n",
    "X = admission_data_df.drop(['Chance of Admit '], axis=1)\n",
    "\n",
    "#육차식 변환기\n",
    "polynomial_transformer = PolynomialFeatures(6)\n",
    "#feature를 값 변환\n",
    "polynomial_features = polynomial_transformer.fit_transform(X.values)\n",
    "#feature name를 반환\n",
    "features = polynomial_transformer.get_feature_names(X.columns)\n",
    "\n",
    "X = pd.DataFrame(polynomial_features, columns = features)\n",
    "y = admission_data_df[['Chance of Admit ']]\n",
    "\n",
    "X_train, X_test, y_train, y_test = train_test_split(X, y, test_size=0.3, random_state=5)\n",
    "\n",
    "#Lasso모델을 사용\n",
    "model = Lasso(alpha=0.001, max_iter=1000, normalize=True)\n",
    "model.fit(X_train, y_train)\n",
    "\n",
    "y_train_predict = model.predict(X_train)\n",
    "mse = sqrt(mean_squared_error(y_train_predict, y_train))\n",
    "\n",
    "print(\"Lasso train set에서의 성능:\")\n",
    "print(mse)\n",
    "\n",
    "y_test_predict = model.predict(X_test)\n",
    "mse = sqrt(mean_squared_error(y_test_predict, y_test))\n",
    "\n",
    "print(\"Lasso test set에서의 성능:\")\n",
    "print(mse)"
   ]
  },
  {
   "cell_type": "code",
   "execution_count": 53,
   "id": "b046b09c",
   "metadata": {},
   "outputs": [
    {
     "name": "stdout",
     "output_type": "stream",
     "text": [
      "Ridge train set에서의 성능:\n",
      "0.05327825805894636\n",
      "Ridge test set에서의 성능:\n",
      "0.06669588064631883\n"
     ]
    }
   ],
   "source": [
    "FILE_PATH = 'datasets/admission_data.csv'\n",
    "admission_df = pd.read_csv(FILE_PATH).drop('Serial No.', axis=1)\n",
    "\n",
    "X = admission_data_df.drop(['Chance of Admit '], axis=1)\n",
    "\n",
    "#육차식 변환기\n",
    "polynomial_transformer = PolynomialFeatures(6)\n",
    "#feature를 값 변환\n",
    "polynomial_features = polynomial_transformer.fit_transform(X.values)\n",
    "#feature name를 반환\n",
    "features = polynomial_transformer.get_feature_names(X.columns)\n",
    "\n",
    "X = pd.DataFrame(polynomial_features, columns = features)\n",
    "y = admission_data_df[['Chance of Admit ']]\n",
    "\n",
    "X_train, X_test, y_train, y_test = train_test_split(X, y, test_size=0.3, random_state=5)\n",
    "\n",
    "#Ridge모델 사용\n",
    "model = Ridge(alpha=0.001, max_iter=1000, normalize=True)\n",
    "model.fit(X_train, y_train)\n",
    "\n",
    "y_train_predict = model.predict(X_train)\n",
    "mse = sqrt(mean_squared_error(y_train_predict, y_train))\n",
    "\n",
    "print(\"Ridge train set에서의 성능:\")\n",
    "print(mse)\n",
    "\n",
    "y_test_predict = model.predict(X_test)\n",
    "mse = sqrt(mean_squared_error(y_test_predict, y_test))\n",
    "\n",
    "print(\"Ridge test set에서의 성능:\")\n",
    "print(mse)"
   ]
  },
  {
   "cell_type": "markdown",
   "id": "3b05524d",
   "metadata": {},
   "source": [
    "https://ratsgo.github.io/machine%20learning/2017/05/22/RLR/\n",
    "\n"
   ]
  },
  {
   "cell_type": "code",
   "execution_count": null,
   "id": "02b377a5",
   "metadata": {},
   "outputs": [],
   "source": []
  }
 ],
 "metadata": {
  "kernelspec": {
   "display_name": "Python 3 (ipykernel)",
   "language": "python",
   "name": "python3"
  },
  "language_info": {
   "codemirror_mode": {
    "name": "ipython",
    "version": 3
   },
   "file_extension": ".py",
   "mimetype": "text/x-python",
   "name": "python",
   "nbconvert_exporter": "python",
   "pygments_lexer": "ipython3",
   "version": "3.9.7"
  }
 },
 "nbformat": 4,
 "nbformat_minor": 5
}
